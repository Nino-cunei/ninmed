{
 "cells": [
  {
   "cell_type": "markdown",
   "metadata": {},
   "source": [
    "<img align=\"right\" src=\"images/tf.png\" width=\"128\"/>\n",
    "<img align=\"right\" src=\"images/logo.png\" width=\"128\"/>\n",
    "<img align=\"right\" src=\"images/dans.png\" width=\"128\"/>\n",
    "\n",
    "---\n",
    "\n",
    "To get started: consult [start](start.ipynb)\n",
    "\n",
    "---\n",
    "\n",
    "# Search Introduction\n",
    "\n",
    "*Search* in Text-Fabric is a template based way of looking for structural patterns in your dataset.\n",
    "\n",
    "It is inspired by the idea of\n",
    "[topographic query](http://books.google.nl/books?id=9ggOBRz1dO4C).\n",
    "\n",
    "Within Text-Fabric we have the unique possibility to combine the ease of formulating search templates for\n",
    "complicated patterns with the power of programmatically processing the results.\n",
    "\n",
    "This notebook will show you how to get up and running.\n",
    "\n",
    "## Alternative for hand-coding\n",
    "\n",
    "Search is a powerful feature for a wide range of purposes.\n",
    "\n",
    "Quite a bit of the implementation work has been dedicated to optimize performance.\n",
    "Yet I do not pretend to have found optimal strategies for all\n",
    "possible search templates.\n",
    "Some search tasks may turn out to be somewhat costly or even very costly.\n",
    "\n",
    "That being said, I think search might turn out helpful in many cases,\n",
    "especially by reducing the amount of hand-coding needed to work with special subsets of your data.\n",
    "\n",
    "## Easy command\n",
    "\n",
    "Search is as simple as saying (just an example)\n",
    "\n",
    "```python\n",
    "results = A.search(template)\n",
    "A.show(results)\n",
    "```\n",
    "\n",
    "See all ins and outs in the\n",
    "[search template docs](https://annotation.github.io/text-fabric/tf/about/searchusage.html)."
   ]
  },
  {
   "cell_type": "markdown",
   "metadata": {},
   "source": [
    "# Before you compute\n",
    "\n",
    "You can open the corpus in the Text-Fabric browser and\n",
    "explore the contents in a browser window which is served\n",
    "from your computer:"
   ]
  },
  {
   "cell_type": "code",
   "execution_count": null,
   "metadata": {},
   "outputs": [],
   "source": [
    "!!text-fabric Nino-cunei/ninmed:clone --checkout=clone"
   ]
  },
  {
   "cell_type": "markdown",
   "metadata": {},
   "source": [
    "# Prepare to compute"
   ]
  },
  {
   "cell_type": "code",
   "execution_count": 1,
   "metadata": {},
   "outputs": [],
   "source": [
    "%load_ext autoreload\n",
    "%autoreload 2"
   ]
  },
  {
   "cell_type": "code",
   "execution_count": 2,
   "metadata": {
    "ExecuteTime": {
     "end_time": "2018-05-24T10:06:39.818664Z",
     "start_time": "2018-05-24T10:06:39.796588Z"
    }
   },
   "outputs": [],
   "source": [
    "from tf.app import use"
   ]
  },
  {
   "cell_type": "code",
   "execution_count": 3,
   "metadata": {},
   "outputs": [
    {
     "data": {
      "text/html": [
       "<b title=\"local release\">TF-app:</b> <span title=\"rv0.3=#115cfc685cb2025be69c9bbec9e70260d6ed046b offline under ~/text-fabric-data\">~/text-fabric-data/Nino-cunei/ninmed/app</span>"
      ],
      "text/plain": [
       "<IPython.core.display.HTML object>"
      ]
     },
     "metadata": {},
     "output_type": "display_data"
    },
    {
     "data": {
      "text/html": [
       "<b title=\"local release\">data:</b> <span title=\"rv0.3=#115cfc685cb2025be69c9bbec9e70260d6ed046b offline under ~/text-fabric-data\">~/text-fabric-data/Nino-cunei/ninmed/tf/0.3</span>"
      ],
      "text/plain": [
       "<IPython.core.display.HTML object>"
      ]
     },
     "metadata": {},
     "output_type": "display_data"
    },
    {
     "name": "stdout",
     "output_type": "stream",
     "text": [
      "This is Text-Fabric 9.2.5\n",
      "Api reference : https://annotation.github.io/text-fabric/tf/cheatsheet.html\n",
      "\n",
      "48 features found and 0 ignored\n"
     ]
    },
    {
     "data": {
      "text/html": [
       "<b>Text-Fabric:</b> <a target=\"_blank\" href=\"https://annotation.github.io/text-fabric/tf/cheatsheet.html\" title=\"text-fabric-api\">Text-Fabric API 9.2.5</a>, <a target=\"_blank\" href=\"https://github.com/Nino-cunei/ninmed/blob/master/app\" title=\"Nino-cunei/ninmed TF-app\">Nino-cunei/ninmed/app  v3</a>, <a target=\"_blank\" href=\"https://annotation.github.io/text-fabric/tf/about/searchusage.html\" title=\"Search Templates Introduction and Reference\">Search Reference</a><br><b>Data:</b> <a target=\"_blank\" href=\"https://github.com/Nino-cunei/ninmed/blob/master/docs/about.md\" title=\"provenance of Nineveh Medical Encyclopedia 800 BCE: Cuneiform tablets\">NINMED</a>, <a target=\"_blank\" href=\"https://nbviewer.jupyter.org/github/Nino-cunei/tfFromAtf/blob/master/programs/mapReadings.ipynb\" title=\"mapping from readings to UNICODE\">Character table</a>, <a target=\"_blank\" href=\"https://github.com/Nino-cunei/ninmed/blob/master/docs/transcription.md\" title=\"NINMED feature documentation\">Feature docs</a><br><b>Features:</b><br>\n",
       "<details><summary><b>Nineveh Medical Encyclopedia 800 BCE: Cuneiform tablets</b></summary>\n",
       "    <div class=\"fcorpus\">\n",
       "\n",
       "<div class=\"frow\">\n",
       "    <div class=\"fnamecat \">\n",
       "<a target=\"_blank\" href=\"https://github.com/Nino-cunei/ninmed/blob/master/docs/transcription.md\" title=\"~/text-fabric-data/Nino-cunei/ninmed/tf/0.3/after.tf\">after</a>\n",
       "</div>\n",
       "<div class=\"fmono\">str</div>\n",
       "<details>\n",
       "    <summary>what comes after a sign or word (- or space)</summary>\n",
       "    <div class=\"fmeta\">\n",
       "\n",
       "<div class=\"fmetarow\">\n",
       "    <div class=\"fmetakey\">converters:</div>\n",
       "    <div>Cale Johnson, Dirk Roorda</div>\n",
       "</div>\n",
       "\n",
       "<div class=\"fmetarow\">\n",
       "    <div class=\"fmetakey\">dateWritten:</div>\n",
       "    <div>2022-02-10T09:59:19Z</div>\n",
       "</div>\n",
       "\n",
       "<div class=\"fmetarow\">\n",
       "    <div class=\"fmetakey\">editor:</div>\n",
       "    <div>Cale Johnson et al.</div>\n",
       "</div>\n",
       "\n",
       "<div class=\"fmetarow\">\n",
       "    <div class=\"fmetakey\">name:</div>\n",
       "    <div>NinMed Medical Texts from Nineveh</div>\n",
       "</div>\n",
       "\n",
       "<div class=\"fmetarow\">\n",
       "    <div class=\"fmetakey\">project:</div>\n",
       "    <div>BabMed</div>\n",
       "</div>\n",
       "\n",
       "<div class=\"fmetarow\">\n",
       "    <div class=\"fmetakey\">writtenBy:</div>\n",
       "    <div>Text-Fabric</div>\n",
       "</div>\n",
       "\n",
       "        </div>\n",
       "    </details>\n",
       "</div>\n",
       "\n",
       "<div class=\"frow\">\n",
       "    <div class=\"fnamecat \">\n",
       "<a target=\"_blank\" href=\"https://github.com/Nino-cunei/ninmed/blob/master/docs/transcription.md\" title=\"~/text-fabric-data/Nino-cunei/ninmed/tf/0.3/atf.tf\">atf</a>\n",
       "</div>\n",
       "<div class=\"fmono\">str</div>\n",
       "<details>\n",
       "    <summary>full atf of a sign</summary>\n",
       "    <div class=\"fmeta\">\n",
       "\n",
       "<div class=\"fmetarow\">\n",
       "    <div class=\"fmetakey\">converters:</div>\n",
       "    <div>Cale Johnson, Dirk Roorda</div>\n",
       "</div>\n",
       "\n",
       "<div class=\"fmetarow\">\n",
       "    <div class=\"fmetakey\">dateWritten:</div>\n",
       "    <div>2022-02-10T09:59:19Z</div>\n",
       "</div>\n",
       "\n",
       "<div class=\"fmetarow\">\n",
       "    <div class=\"fmetakey\">editor:</div>\n",
       "    <div>Cale Johnson et al.</div>\n",
       "</div>\n",
       "\n",
       "<div class=\"fmetarow\">\n",
       "    <div class=\"fmetakey\">name:</div>\n",
       "    <div>NinMed Medical Texts from Nineveh</div>\n",
       "</div>\n",
       "\n",
       "<div class=\"fmetarow\">\n",
       "    <div class=\"fmetakey\">project:</div>\n",
       "    <div>BabMed</div>\n",
       "</div>\n",
       "\n",
       "<div class=\"fmetarow\">\n",
       "    <div class=\"fmetakey\">writtenBy:</div>\n",
       "    <div>Text-Fabric</div>\n",
       "</div>\n",
       "\n",
       "        </div>\n",
       "    </details>\n",
       "</div>\n",
       "\n",
       "<div class=\"frow\">\n",
       "    <div class=\"fnamecat \">\n",
       "<a target=\"_blank\" href=\"https://github.com/Nino-cunei/ninmed/blob/master/docs/transcription.md\" title=\"~/text-fabric-data/Nino-cunei/ninmed/tf/0.3/atfpost.tf\">atfpost</a>\n",
       "</div>\n",
       "<div class=\"fmono\">str</div>\n",
       "<details>\n",
       "    <summary>cluster characters that follow a sign or word</summary>\n",
       "    <div class=\"fmeta\">\n",
       "\n",
       "<div class=\"fmetarow\">\n",
       "    <div class=\"fmetakey\">converters:</div>\n",
       "    <div>Cale Johnson, Dirk Roorda</div>\n",
       "</div>\n",
       "\n",
       "<div class=\"fmetarow\">\n",
       "    <div class=\"fmetakey\">dateWritten:</div>\n",
       "    <div>2022-02-10T09:59:19Z</div>\n",
       "</div>\n",
       "\n",
       "<div class=\"fmetarow\">\n",
       "    <div class=\"fmetakey\">editor:</div>\n",
       "    <div>Cale Johnson et al.</div>\n",
       "</div>\n",
       "\n",
       "<div class=\"fmetarow\">\n",
       "    <div class=\"fmetakey\">name:</div>\n",
       "    <div>NinMed Medical Texts from Nineveh</div>\n",
       "</div>\n",
       "\n",
       "<div class=\"fmetarow\">\n",
       "    <div class=\"fmetakey\">project:</div>\n",
       "    <div>BabMed</div>\n",
       "</div>\n",
       "\n",
       "<div class=\"fmetarow\">\n",
       "    <div class=\"fmetakey\">writtenBy:</div>\n",
       "    <div>Text-Fabric</div>\n",
       "</div>\n",
       "\n",
       "        </div>\n",
       "    </details>\n",
       "</div>\n",
       "\n",
       "<div class=\"frow\">\n",
       "    <div class=\"fnamecat \">\n",
       "<a target=\"_blank\" href=\"https://github.com/Nino-cunei/ninmed/blob/master/docs/transcription.md\" title=\"~/text-fabric-data/Nino-cunei/ninmed/tf/0.3/atfpre.tf\">atfpre</a>\n",
       "</div>\n",
       "<div class=\"fmono\">str</div>\n",
       "<details>\n",
       "    <summary>cluster characters that precede a sign or word</summary>\n",
       "    <div class=\"fmeta\">\n",
       "\n",
       "<div class=\"fmetarow\">\n",
       "    <div class=\"fmetakey\">converters:</div>\n",
       "    <div>Cale Johnson, Dirk Roorda</div>\n",
       "</div>\n",
       "\n",
       "<div class=\"fmetarow\">\n",
       "    <div class=\"fmetakey\">dateWritten:</div>\n",
       "    <div>2022-02-10T09:59:19Z</div>\n",
       "</div>\n",
       "\n",
       "<div class=\"fmetarow\">\n",
       "    <div class=\"fmetakey\">editor:</div>\n",
       "    <div>Cale Johnson et al.</div>\n",
       "</div>\n",
       "\n",
       "<div class=\"fmetarow\">\n",
       "    <div class=\"fmetakey\">name:</div>\n",
       "    <div>NinMed Medical Texts from Nineveh</div>\n",
       "</div>\n",
       "\n",
       "<div class=\"fmetarow\">\n",
       "    <div class=\"fmetakey\">project:</div>\n",
       "    <div>BabMed</div>\n",
       "</div>\n",
       "\n",
       "<div class=\"fmetarow\">\n",
       "    <div class=\"fmetakey\">writtenBy:</div>\n",
       "    <div>Text-Fabric</div>\n",
       "</div>\n",
       "\n",
       "        </div>\n",
       "    </details>\n",
       "</div>\n",
       "\n",
       "<div class=\"frow\">\n",
       "    <div class=\"fnamecat \">\n",
       "<a target=\"_blank\" href=\"https://github.com/Nino-cunei/ninmed/blob/master/docs/transcription.md\" title=\"~/text-fabric-data/Nino-cunei/ninmed/tf/0.3/col.tf\">col</a>\n",
       "</div>\n",
       "<div class=\"fmono\">int</div>\n",
       "<details>\n",
       "    <summary>ATF column number</summary>\n",
       "    <div class=\"fmeta\">\n",
       "\n",
       "<div class=\"fmetarow\">\n",
       "    <div class=\"fmetakey\">converters:</div>\n",
       "    <div>Cale Johnson, Dirk Roorda</div>\n",
       "</div>\n",
       "\n",
       "<div class=\"fmetarow\">\n",
       "    <div class=\"fmetakey\">dateWritten:</div>\n",
       "    <div>2022-02-10T09:59:19Z</div>\n",
       "</div>\n",
       "\n",
       "<div class=\"fmetarow\">\n",
       "    <div class=\"fmetakey\">editor:</div>\n",
       "    <div>Cale Johnson et al.</div>\n",
       "</div>\n",
       "\n",
       "<div class=\"fmetarow\">\n",
       "    <div class=\"fmetakey\">name:</div>\n",
       "    <div>NinMed Medical Texts from Nineveh</div>\n",
       "</div>\n",
       "\n",
       "<div class=\"fmetarow\">\n",
       "    <div class=\"fmetakey\">project:</div>\n",
       "    <div>BabMed</div>\n",
       "</div>\n",
       "\n",
       "<div class=\"fmetarow\">\n",
       "    <div class=\"fmetakey\">writtenBy:</div>\n",
       "    <div>Text-Fabric</div>\n",
       "</div>\n",
       "\n",
       "        </div>\n",
       "    </details>\n",
       "</div>\n",
       "\n",
       "<div class=\"frow\">\n",
       "    <div class=\"fnamecat \">\n",
       "<a target=\"_blank\" href=\"https://github.com/Nino-cunei/ninmed/blob/master/docs/transcription.md\" title=\"~/text-fabric-data/Nino-cunei/ninmed/tf/0.3/collated.tf\">collated</a>\n",
       "</div>\n",
       "<div class=\"fmono\">int</div>\n",
       "<details>\n",
       "    <summary>whether a sign is collated (*)</summary>\n",
       "    <div class=\"fmeta\">\n",
       "\n",
       "<div class=\"fmetarow\">\n",
       "    <div class=\"fmetakey\">converters:</div>\n",
       "    <div>Cale Johnson, Dirk Roorda</div>\n",
       "</div>\n",
       "\n",
       "<div class=\"fmetarow\">\n",
       "    <div class=\"fmetakey\">dateWritten:</div>\n",
       "    <div>2022-02-10T09:59:19Z</div>\n",
       "</div>\n",
       "\n",
       "<div class=\"fmetarow\">\n",
       "    <div class=\"fmetakey\">editor:</div>\n",
       "    <div>Cale Johnson et al.</div>\n",
       "</div>\n",
       "\n",
       "<div class=\"fmetarow\">\n",
       "    <div class=\"fmetakey\">name:</div>\n",
       "    <div>NinMed Medical Texts from Nineveh</div>\n",
       "</div>\n",
       "\n",
       "<div class=\"fmetarow\">\n",
       "    <div class=\"fmetakey\">project:</div>\n",
       "    <div>BabMed</div>\n",
       "</div>\n",
       "\n",
       "<div class=\"fmetarow\">\n",
       "    <div class=\"fmetakey\">writtenBy:</div>\n",
       "    <div>Text-Fabric</div>\n",
       "</div>\n",
       "\n",
       "        </div>\n",
       "    </details>\n",
       "</div>\n",
       "\n",
       "<div class=\"frow\">\n",
       "    <div class=\"fnamecat \">\n",
       "<a target=\"_blank\" href=\"https://github.com/Nino-cunei/ninmed/blob/master/docs/transcription.md\" title=\"~/text-fabric-data/Nino-cunei/ninmed/tf/0.3/collection.tf\">collection</a>\n",
       "</div>\n",
       "<div class=\"fmono\">str</div>\n",
       "<details>\n",
       "    <summary>collection name from metadata field \"collection\"</summary>\n",
       "    <div class=\"fmeta\">\n",
       "\n",
       "<div class=\"fmetarow\">\n",
       "    <div class=\"fmetakey\">converters:</div>\n",
       "    <div>Cale Johnson, Dirk Roorda</div>\n",
       "</div>\n",
       "\n",
       "<div class=\"fmetarow\">\n",
       "    <div class=\"fmetakey\">dateWritten:</div>\n",
       "    <div>2022-02-10T09:59:19Z</div>\n",
       "</div>\n",
       "\n",
       "<div class=\"fmetarow\">\n",
       "    <div class=\"fmetakey\">editor:</div>\n",
       "    <div>Cale Johnson et al.</div>\n",
       "</div>\n",
       "\n",
       "<div class=\"fmetarow\">\n",
       "    <div class=\"fmetakey\">name:</div>\n",
       "    <div>NinMed Medical Texts from Nineveh</div>\n",
       "</div>\n",
       "\n",
       "<div class=\"fmetarow\">\n",
       "    <div class=\"fmetakey\">project:</div>\n",
       "    <div>BabMed</div>\n",
       "</div>\n",
       "\n",
       "<div class=\"fmetarow\">\n",
       "    <div class=\"fmetakey\">writtenBy:</div>\n",
       "    <div>Text-Fabric</div>\n",
       "</div>\n",
       "\n",
       "        </div>\n",
       "    </details>\n",
       "</div>\n",
       "\n",
       "<div class=\"frow\">\n",
       "    <div class=\"fnamecat \">\n",
       "<a target=\"_blank\" href=\"https://github.com/Nino-cunei/ninmed/blob/master/docs/transcription.md\" title=\"~/text-fabric-data/Nino-cunei/ninmed/tf/0.3/colofon.tf\">colofon</a>\n",
       "</div>\n",
       "<div class=\"fmono\">str</div>\n",
       "<details>\n",
       "    <summary>colofon comment to a line</summary>\n",
       "    <div class=\"fmeta\">\n",
       "\n",
       "<div class=\"fmetarow\">\n",
       "    <div class=\"fmetakey\">converters:</div>\n",
       "    <div>Cale Johnson, Dirk Roorda</div>\n",
       "</div>\n",
       "\n",
       "<div class=\"fmetarow\">\n",
       "    <div class=\"fmetakey\">dateWritten:</div>\n",
       "    <div>2022-02-10T09:59:19Z</div>\n",
       "</div>\n",
       "\n",
       "<div class=\"fmetarow\">\n",
       "    <div class=\"fmetakey\">editor:</div>\n",
       "    <div>Cale Johnson et al.</div>\n",
       "</div>\n",
       "\n",
       "<div class=\"fmetarow\">\n",
       "    <div class=\"fmetakey\">name:</div>\n",
       "    <div>NinMed Medical Texts from Nineveh</div>\n",
       "</div>\n",
       "\n",
       "<div class=\"fmetarow\">\n",
       "    <div class=\"fmetakey\">project:</div>\n",
       "    <div>BabMed</div>\n",
       "</div>\n",
       "\n",
       "<div class=\"fmetarow\">\n",
       "    <div class=\"fmetakey\">writtenBy:</div>\n",
       "    <div>Text-Fabric</div>\n",
       "</div>\n",
       "\n",
       "        </div>\n",
       "    </details>\n",
       "</div>\n",
       "\n",
       "<div class=\"frow\">\n",
       "    <div class=\"fnamecat \">\n",
       "<a target=\"_blank\" href=\"https://github.com/Nino-cunei/ninmed/blob/master/docs/transcription.md\" title=\"~/text-fabric-data/Nino-cunei/ninmed/tf/0.3/comment.tf\">comment</a>\n",
       "</div>\n",
       "<div class=\"fmono\">str</div>\n",
       "<details>\n",
       "    <summary>comment to a line</summary>\n",
       "    <div class=\"fmeta\">\n",
       "\n",
       "<div class=\"fmetarow\">\n",
       "    <div class=\"fmetakey\">converters:</div>\n",
       "    <div>Cale Johnson, Dirk Roorda</div>\n",
       "</div>\n",
       "\n",
       "<div class=\"fmetarow\">\n",
       "    <div class=\"fmetakey\">dateWritten:</div>\n",
       "    <div>2022-02-10T09:59:19Z</div>\n",
       "</div>\n",
       "\n",
       "<div class=\"fmetarow\">\n",
       "    <div class=\"fmetakey\">editor:</div>\n",
       "    <div>Cale Johnson et al.</div>\n",
       "</div>\n",
       "\n",
       "<div class=\"fmetarow\">\n",
       "    <div class=\"fmetakey\">name:</div>\n",
       "    <div>NinMed Medical Texts from Nineveh</div>\n",
       "</div>\n",
       "\n",
       "<div class=\"fmetarow\">\n",
       "    <div class=\"fmetakey\">project:</div>\n",
       "    <div>BabMed</div>\n",
       "</div>\n",
       "\n",
       "<div class=\"fmetarow\">\n",
       "    <div class=\"fmetakey\">writtenBy:</div>\n",
       "    <div>Text-Fabric</div>\n",
       "</div>\n",
       "\n",
       "        </div>\n",
       "    </details>\n",
       "</div>\n",
       "\n",
       "<div class=\"frow\">\n",
       "    <div class=\"fnamecat \">\n",
       "<a target=\"_blank\" href=\"https://github.com/Nino-cunei/ninmed/blob/master/docs/transcription.md\" title=\"~/text-fabric-data/Nino-cunei/ninmed/tf/0.3/damage.tf\">damage</a>\n",
       "</div>\n",
       "<div class=\"fmono\">int</div>\n",
       "<details>\n",
       "    <summary>whether a sign is damaged</summary>\n",
       "    <div class=\"fmeta\">\n",
       "\n",
       "<div class=\"fmetarow\">\n",
       "    <div class=\"fmetakey\">converters:</div>\n",
       "    <div>Cale Johnson, Dirk Roorda</div>\n",
       "</div>\n",
       "\n",
       "<div class=\"fmetarow\">\n",
       "    <div class=\"fmetakey\">dateWritten:</div>\n",
       "    <div>2022-02-10T09:59:19Z</div>\n",
       "</div>\n",
       "\n",
       "<div class=\"fmetarow\">\n",
       "    <div class=\"fmetakey\">editor:</div>\n",
       "    <div>Cale Johnson et al.</div>\n",
       "</div>\n",
       "\n",
       "<div class=\"fmetarow\">\n",
       "    <div class=\"fmetakey\">name:</div>\n",
       "    <div>NinMed Medical Texts from Nineveh</div>\n",
       "</div>\n",
       "\n",
       "<div class=\"fmetarow\">\n",
       "    <div class=\"fmetakey\">project:</div>\n",
       "    <div>BabMed</div>\n",
       "</div>\n",
       "\n",
       "<div class=\"fmetarow\">\n",
       "    <div class=\"fmetakey\">writtenBy:</div>\n",
       "    <div>Text-Fabric</div>\n",
       "</div>\n",
       "\n",
       "        </div>\n",
       "    </details>\n",
       "</div>\n",
       "\n",
       "<div class=\"frow\">\n",
       "    <div class=\"fnamecat \">\n",
       "<a target=\"_blank\" href=\"https://github.com/Nino-cunei/ninmed/blob/master/docs/transcription.md\" title=\"~/text-fabric-data/Nino-cunei/ninmed/tf/0.3/description.tf\">description</a>\n",
       "</div>\n",
       "<div class=\"fmono\">str</div>\n",
       "<details>\n",
       "    <summary>description from metadata field \"description\"</summary>\n",
       "    <div class=\"fmeta\">\n",
       "\n",
       "<div class=\"fmetarow\">\n",
       "    <div class=\"fmetakey\">converters:</div>\n",
       "    <div>Cale Johnson, Dirk Roorda</div>\n",
       "</div>\n",
       "\n",
       "<div class=\"fmetarow\">\n",
       "    <div class=\"fmetakey\">dateWritten:</div>\n",
       "    <div>2022-02-10T09:59:19Z</div>\n",
       "</div>\n",
       "\n",
       "<div class=\"fmetarow\">\n",
       "    <div class=\"fmetakey\">editor:</div>\n",
       "    <div>Cale Johnson et al.</div>\n",
       "</div>\n",
       "\n",
       "<div class=\"fmetarow\">\n",
       "    <div class=\"fmetakey\">name:</div>\n",
       "    <div>NinMed Medical Texts from Nineveh</div>\n",
       "</div>\n",
       "\n",
       "<div class=\"fmetarow\">\n",
       "    <div class=\"fmetakey\">project:</div>\n",
       "    <div>BabMed</div>\n",
       "</div>\n",
       "\n",
       "<div class=\"fmetarow\">\n",
       "    <div class=\"fmetakey\">writtenBy:</div>\n",
       "    <div>Text-Fabric</div>\n",
       "</div>\n",
       "\n",
       "        </div>\n",
       "    </details>\n",
       "</div>\n",
       "\n",
       "<div class=\"frow\">\n",
       "    <div class=\"fnamecat \">\n",
       "<a target=\"_blank\" href=\"https://github.com/Nino-cunei/ninmed/blob/master/docs/transcription.md\" title=\"~/text-fabric-data/Nino-cunei/ninmed/tf/0.3/det.tf\">det</a>\n",
       "</div>\n",
       "<div class=\"fmono\">int</div>\n",
       "<details>\n",
       "    <summary>whether a sign is a determinative gloss - between { }</summary>\n",
       "    <div class=\"fmeta\">\n",
       "\n",
       "<div class=\"fmetarow\">\n",
       "    <div class=\"fmetakey\">converters:</div>\n",
       "    <div>Cale Johnson, Dirk Roorda</div>\n",
       "</div>\n",
       "\n",
       "<div class=\"fmetarow\">\n",
       "    <div class=\"fmetakey\">dateWritten:</div>\n",
       "    <div>2022-02-10T09:59:19Z</div>\n",
       "</div>\n",
       "\n",
       "<div class=\"fmetarow\">\n",
       "    <div class=\"fmetakey\">editor:</div>\n",
       "    <div>Cale Johnson et al.</div>\n",
       "</div>\n",
       "\n",
       "<div class=\"fmetarow\">\n",
       "    <div class=\"fmetakey\">name:</div>\n",
       "    <div>NinMed Medical Texts from Nineveh</div>\n",
       "</div>\n",
       "\n",
       "<div class=\"fmetarow\">\n",
       "    <div class=\"fmetakey\">project:</div>\n",
       "    <div>BabMed</div>\n",
       "</div>\n",
       "\n",
       "<div class=\"fmetarow\">\n",
       "    <div class=\"fmetakey\">writtenBy:</div>\n",
       "    <div>Text-Fabric</div>\n",
       "</div>\n",
       "\n",
       "        </div>\n",
       "    </details>\n",
       "</div>\n",
       "\n",
       "<div class=\"frow\">\n",
       "    <div class=\"fnamecat \">\n",
       "<a target=\"_blank\" href=\"https://github.com/Nino-cunei/ninmed/blob/master/docs/transcription.md\" title=\"~/text-fabric-data/Nino-cunei/ninmed/tf/0.3/docnumber.tf\">docnumber</a>\n",
       "</div>\n",
       "<div class=\"fmono\">str</div>\n",
       "<details>\n",
       "    <summary>document number from metadata field \"number\"</summary>\n",
       "    <div class=\"fmeta\">\n",
       "\n",
       "<div class=\"fmetarow\">\n",
       "    <div class=\"fmetakey\">converters:</div>\n",
       "    <div>Cale Johnson, Dirk Roorda</div>\n",
       "</div>\n",
       "\n",
       "<div class=\"fmetarow\">\n",
       "    <div class=\"fmetakey\">dateWritten:</div>\n",
       "    <div>2022-02-10T09:59:19Z</div>\n",
       "</div>\n",
       "\n",
       "<div class=\"fmetarow\">\n",
       "    <div class=\"fmetakey\">editor:</div>\n",
       "    <div>Cale Johnson et al.</div>\n",
       "</div>\n",
       "\n",
       "<div class=\"fmetarow\">\n",
       "    <div class=\"fmetakey\">name:</div>\n",
       "    <div>NinMed Medical Texts from Nineveh</div>\n",
       "</div>\n",
       "\n",
       "<div class=\"fmetarow\">\n",
       "    <div class=\"fmetakey\">project:</div>\n",
       "    <div>BabMed</div>\n",
       "</div>\n",
       "\n",
       "<div class=\"fmetarow\">\n",
       "    <div class=\"fmetakey\">writtenBy:</div>\n",
       "    <div>Text-Fabric</div>\n",
       "</div>\n",
       "\n",
       "        </div>\n",
       "    </details>\n",
       "</div>\n",
       "\n",
       "<div class=\"frow\">\n",
       "    <div class=\"fnamecat \">\n",
       "<a target=\"_blank\" href=\"https://github.com/Nino-cunei/ninmed/blob/master/docs/transcription.md\" title=\"~/text-fabric-data/Nino-cunei/ninmed/tf/0.3/erasure.tf\">erasure</a>\n",
       "</div>\n",
       "<div class=\"fmono\">int</div>\n",
       "<details>\n",
       "    <summary>whether a sign is in an erasure - between ° / °: 1: between ° and /; 2: between / and °</summary>\n",
       "    <div class=\"fmeta\">\n",
       "\n",
       "<div class=\"fmetarow\">\n",
       "    <div class=\"fmetakey\">converters:</div>\n",
       "    <div>Cale Johnson, Dirk Roorda</div>\n",
       "</div>\n",
       "\n",
       "<div class=\"fmetarow\">\n",
       "    <div class=\"fmetakey\">dateWritten:</div>\n",
       "    <div>2022-02-10T09:59:19Z</div>\n",
       "</div>\n",
       "\n",
       "<div class=\"fmetarow\">\n",
       "    <div class=\"fmetakey\">editor:</div>\n",
       "    <div>Cale Johnson et al.</div>\n",
       "</div>\n",
       "\n",
       "<div class=\"fmetarow\">\n",
       "    <div class=\"fmetakey\">name:</div>\n",
       "    <div>NinMed Medical Texts from Nineveh</div>\n",
       "</div>\n",
       "\n",
       "<div class=\"fmetarow\">\n",
       "    <div class=\"fmetakey\">project:</div>\n",
       "    <div>BabMed</div>\n",
       "</div>\n",
       "\n",
       "<div class=\"fmetarow\">\n",
       "    <div class=\"fmetakey\">writtenBy:</div>\n",
       "    <div>Text-Fabric</div>\n",
       "</div>\n",
       "\n",
       "        </div>\n",
       "    </details>\n",
       "</div>\n",
       "\n",
       "<div class=\"frow\">\n",
       "    <div class=\"fnamecat \">\n",
       "<a target=\"_blank\" href=\"https://github.com/Nino-cunei/ninmed/blob/master/docs/transcription.md\" title=\"~/text-fabric-data/Nino-cunei/ninmed/tf/0.3/excised.tf\">excised</a>\n",
       "</div>\n",
       "<div class=\"fmono\">int</div>\n",
       "<details>\n",
       "    <summary>whether a sign is excised - between << >></summary>\n",
       "    <div class=\"fmeta\">\n",
       "\n",
       "<div class=\"fmetarow\">\n",
       "    <div class=\"fmetakey\">converters:</div>\n",
       "    <div>Cale Johnson, Dirk Roorda</div>\n",
       "</div>\n",
       "\n",
       "<div class=\"fmetarow\">\n",
       "    <div class=\"fmetakey\">dateWritten:</div>\n",
       "    <div>2022-02-10T09:59:19Z</div>\n",
       "</div>\n",
       "\n",
       "<div class=\"fmetarow\">\n",
       "    <div class=\"fmetakey\">editor:</div>\n",
       "    <div>Cale Johnson et al.</div>\n",
       "</div>\n",
       "\n",
       "<div class=\"fmetarow\">\n",
       "    <div class=\"fmetakey\">name:</div>\n",
       "    <div>NinMed Medical Texts from Nineveh</div>\n",
       "</div>\n",
       "\n",
       "<div class=\"fmetarow\">\n",
       "    <div class=\"fmetakey\">project:</div>\n",
       "    <div>BabMed</div>\n",
       "</div>\n",
       "\n",
       "<div class=\"fmetarow\">\n",
       "    <div class=\"fmetakey\">writtenBy:</div>\n",
       "    <div>Text-Fabric</div>\n",
       "</div>\n",
       "\n",
       "        </div>\n",
       "    </details>\n",
       "</div>\n",
       "\n",
       "<div class=\"frow\">\n",
       "    <div class=\"fnamecat \">\n",
       "<a target=\"_blank\" href=\"https://github.com/Nino-cunei/ninmed/blob/master/docs/transcription.md\" title=\"~/text-fabric-data/Nino-cunei/ninmed/tf/0.3/face.tf\">face</a>\n",
       "</div>\n",
       "<div class=\"fmono\">str</div>\n",
       "<details>\n",
       "    <summary>full name of a face including the enclosing object</summary>\n",
       "    <div class=\"fmeta\">\n",
       "\n",
       "<div class=\"fmetarow\">\n",
       "    <div class=\"fmetakey\">converters:</div>\n",
       "    <div>Cale Johnson, Dirk Roorda</div>\n",
       "</div>\n",
       "\n",
       "<div class=\"fmetarow\">\n",
       "    <div class=\"fmetakey\">dateWritten:</div>\n",
       "    <div>2022-02-10T09:59:19Z</div>\n",
       "</div>\n",
       "\n",
       "<div class=\"fmetarow\">\n",
       "    <div class=\"fmetakey\">editor:</div>\n",
       "    <div>Cale Johnson et al.</div>\n",
       "</div>\n",
       "\n",
       "<div class=\"fmetarow\">\n",
       "    <div class=\"fmetakey\">name:</div>\n",
       "    <div>NinMed Medical Texts from Nineveh</div>\n",
       "</div>\n",
       "\n",
       "<div class=\"fmetarow\">\n",
       "    <div class=\"fmetakey\">project:</div>\n",
       "    <div>BabMed</div>\n",
       "</div>\n",
       "\n",
       "<div class=\"fmetarow\">\n",
       "    <div class=\"fmetakey\">writtenBy:</div>\n",
       "    <div>Text-Fabric</div>\n",
       "</div>\n",
       "\n",
       "        </div>\n",
       "    </details>\n",
       "</div>\n",
       "\n",
       "<div class=\"frow\">\n",
       "    <div class=\"fnamecat \">\n",
       "<a target=\"_blank\" href=\"https://github.com/Nino-cunei/ninmed/blob/master/docs/transcription.md\" title=\"~/text-fabric-data/Nino-cunei/ninmed/tf/0.3/flags.tf\">flags</a>\n",
       "</div>\n",
       "<div class=\"fmono\">str</div>\n",
       "<details>\n",
       "    <summary>sequence of flags after a sign</summary>\n",
       "    <div class=\"fmeta\">\n",
       "\n",
       "<div class=\"fmetarow\">\n",
       "    <div class=\"fmetakey\">converters:</div>\n",
       "    <div>Cale Johnson, Dirk Roorda</div>\n",
       "</div>\n",
       "\n",
       "<div class=\"fmetarow\">\n",
       "    <div class=\"fmetakey\">dateWritten:</div>\n",
       "    <div>2022-02-10T09:59:19Z</div>\n",
       "</div>\n",
       "\n",
       "<div class=\"fmetarow\">\n",
       "    <div class=\"fmetakey\">editor:</div>\n",
       "    <div>Cale Johnson et al.</div>\n",
       "</div>\n",
       "\n",
       "<div class=\"fmetarow\">\n",
       "    <div class=\"fmetakey\">name:</div>\n",
       "    <div>NinMed Medical Texts from Nineveh</div>\n",
       "</div>\n",
       "\n",
       "<div class=\"fmetarow\">\n",
       "    <div class=\"fmetakey\">project:</div>\n",
       "    <div>BabMed</div>\n",
       "</div>\n",
       "\n",
       "<div class=\"fmetarow\">\n",
       "    <div class=\"fmetakey\">writtenBy:</div>\n",
       "    <div>Text-Fabric</div>\n",
       "</div>\n",
       "\n",
       "        </div>\n",
       "    </details>\n",
       "</div>\n",
       "\n",
       "<div class=\"frow\">\n",
       "    <div class=\"fnamecat \">\n",
       "<a target=\"_blank\" href=\"https://github.com/Nino-cunei/ninmed/blob/master/docs/transcription.md\" title=\"~/text-fabric-data/Nino-cunei/ninmed/tf/0.3/gloss.tf\">gloss</a>\n",
       "</div>\n",
       "<div class=\"fmono\">int</div>\n",
       "<details>\n",
       "    <summary>whether a sign belongs to a gloss - between {( )}</summary>\n",
       "    <div class=\"fmeta\">\n",
       "\n",
       "<div class=\"fmetarow\">\n",
       "    <div class=\"fmetakey\">converters:</div>\n",
       "    <div>Cale Johnson, Dirk Roorda</div>\n",
       "</div>\n",
       "\n",
       "<div class=\"fmetarow\">\n",
       "    <div class=\"fmetakey\">dateWritten:</div>\n",
       "    <div>2022-02-10T09:59:19Z</div>\n",
       "</div>\n",
       "\n",
       "<div class=\"fmetarow\">\n",
       "    <div class=\"fmetakey\">editor:</div>\n",
       "    <div>Cale Johnson et al.</div>\n",
       "</div>\n",
       "\n",
       "<div class=\"fmetarow\">\n",
       "    <div class=\"fmetakey\">name:</div>\n",
       "    <div>NinMed Medical Texts from Nineveh</div>\n",
       "</div>\n",
       "\n",
       "<div class=\"fmetarow\">\n",
       "    <div class=\"fmetakey\">project:</div>\n",
       "    <div>BabMed</div>\n",
       "</div>\n",
       "\n",
       "<div class=\"fmetarow\">\n",
       "    <div class=\"fmetakey\">writtenBy:</div>\n",
       "    <div>Text-Fabric</div>\n",
       "</div>\n",
       "\n",
       "        </div>\n",
       "    </details>\n",
       "</div>\n",
       "\n",
       "<div class=\"frow\">\n",
       "    <div class=\"fnamecat \">\n",
       "<a target=\"_blank\" href=\"https://github.com/Nino-cunei/ninmed/blob/master/docs/transcription.md\" title=\"~/text-fabric-data/Nino-cunei/ninmed/tf/0.3/grapheme.tf\">grapheme</a>\n",
       "</div>\n",
       "<div class=\"fmono\">str</div>\n",
       "<details>\n",
       "    <summary>grapheme of a sign</summary>\n",
       "    <div class=\"fmeta\">\n",
       "\n",
       "<div class=\"fmetarow\">\n",
       "    <div class=\"fmetakey\">converters:</div>\n",
       "    <div>Cale Johnson, Dirk Roorda</div>\n",
       "</div>\n",
       "\n",
       "<div class=\"fmetarow\">\n",
       "    <div class=\"fmetakey\">dateWritten:</div>\n",
       "    <div>2022-02-10T09:59:19Z</div>\n",
       "</div>\n",
       "\n",
       "<div class=\"fmetarow\">\n",
       "    <div class=\"fmetakey\">editor:</div>\n",
       "    <div>Cale Johnson et al.</div>\n",
       "</div>\n",
       "\n",
       "<div class=\"fmetarow\">\n",
       "    <div class=\"fmetakey\">name:</div>\n",
       "    <div>NinMed Medical Texts from Nineveh</div>\n",
       "</div>\n",
       "\n",
       "<div class=\"fmetarow\">\n",
       "    <div class=\"fmetakey\">project:</div>\n",
       "    <div>BabMed</div>\n",
       "</div>\n",
       "\n",
       "<div class=\"fmetarow\">\n",
       "    <div class=\"fmetakey\">writtenBy:</div>\n",
       "    <div>Text-Fabric</div>\n",
       "</div>\n",
       "\n",
       "        </div>\n",
       "    </details>\n",
       "</div>\n",
       "\n",
       "<div class=\"frow\">\n",
       "    <div class=\"fnamecat \">\n",
       "<a target=\"_blank\" href=\"https://github.com/Nino-cunei/ninmed/blob/master/docs/transcription.md\" title=\"~/text-fabric-data/Nino-cunei/ninmed/tf/0.3/lang.tf\">lang</a>\n",
       "</div>\n",
       "<div class=\"fmono\">str</div>\n",
       "<details>\n",
       "    <summary>language of a document, word, or sign: absent: Akkadian; sux: Sumerian; sb: Standard Babylonian</summary>\n",
       "    <div class=\"fmeta\">\n",
       "\n",
       "<div class=\"fmetarow\">\n",
       "    <div class=\"fmetakey\">converters:</div>\n",
       "    <div>Cale Johnson, Dirk Roorda</div>\n",
       "</div>\n",
       "\n",
       "<div class=\"fmetarow\">\n",
       "    <div class=\"fmetakey\">dateWritten:</div>\n",
       "    <div>2022-02-10T09:59:19Z</div>\n",
       "</div>\n",
       "\n",
       "<div class=\"fmetarow\">\n",
       "    <div class=\"fmetakey\">editor:</div>\n",
       "    <div>Cale Johnson et al.</div>\n",
       "</div>\n",
       "\n",
       "<div class=\"fmetarow\">\n",
       "    <div class=\"fmetakey\">name:</div>\n",
       "    <div>NinMed Medical Texts from Nineveh</div>\n",
       "</div>\n",
       "\n",
       "<div class=\"fmetarow\">\n",
       "    <div class=\"fmetakey\">project:</div>\n",
       "    <div>BabMed</div>\n",
       "</div>\n",
       "\n",
       "<div class=\"fmetarow\">\n",
       "    <div class=\"fmetakey\">writtenBy:</div>\n",
       "    <div>Text-Fabric</div>\n",
       "</div>\n",
       "\n",
       "        </div>\n",
       "    </details>\n",
       "</div>\n",
       "\n",
       "<div class=\"frow\">\n",
       "    <div class=\"fnamecat \">\n",
       "<a target=\"_blank\" href=\"https://github.com/Nino-cunei/ninmed/blob/master/docs/transcription.md\" title=\"~/text-fabric-data/Nino-cunei/ninmed/tf/0.3/lemma.tf\">lemma</a>\n",
       "</div>\n",
       "<div class=\"fmono\">str</div>\n",
       "<details>\n",
       "    <summary>lemma of a word:comma-separated values of the uniqueLemma field in the JSON source</summary>\n",
       "    <div class=\"fmeta\">\n",
       "\n",
       "<div class=\"fmetarow\">\n",
       "    <div class=\"fmetakey\">converters:</div>\n",
       "    <div>Cale Johnson, Dirk Roorda</div>\n",
       "</div>\n",
       "\n",
       "<div class=\"fmetarow\">\n",
       "    <div class=\"fmetakey\">dateWritten:</div>\n",
       "    <div>2022-02-10T09:59:19Z</div>\n",
       "</div>\n",
       "\n",
       "<div class=\"fmetarow\">\n",
       "    <div class=\"fmetakey\">editor:</div>\n",
       "    <div>Cale Johnson et al.</div>\n",
       "</div>\n",
       "\n",
       "<div class=\"fmetarow\">\n",
       "    <div class=\"fmetakey\">name:</div>\n",
       "    <div>NinMed Medical Texts from Nineveh</div>\n",
       "</div>\n",
       "\n",
       "<div class=\"fmetarow\">\n",
       "    <div class=\"fmetakey\">project:</div>\n",
       "    <div>BabMed</div>\n",
       "</div>\n",
       "\n",
       "<div class=\"fmetarow\">\n",
       "    <div class=\"fmetakey\">writtenBy:</div>\n",
       "    <div>Text-Fabric</div>\n",
       "</div>\n",
       "\n",
       "        </div>\n",
       "    </details>\n",
       "</div>\n",
       "\n",
       "<div class=\"frow\">\n",
       "    <div class=\"fnamecat \">\n",
       "<a target=\"_blank\" href=\"https://github.com/Nino-cunei/ninmed/blob/master/docs/transcription.md\" title=\"~/text-fabric-data/Nino-cunei/ninmed/tf/0.3/lln.tf\">lln</a>\n",
       "</div>\n",
       "<div class=\"fmono\">int</div>\n",
       "<details>\n",
       "    <summary>logical line number of a numbered line</summary>\n",
       "    <div class=\"fmeta\">\n",
       "\n",
       "<div class=\"fmetarow\">\n",
       "    <div class=\"fmetakey\">converters:</div>\n",
       "    <div>Cale Johnson, Dirk Roorda</div>\n",
       "</div>\n",
       "\n",
       "<div class=\"fmetarow\">\n",
       "    <div class=\"fmetakey\">dateWritten:</div>\n",
       "    <div>2022-02-10T09:59:19Z</div>\n",
       "</div>\n",
       "\n",
       "<div class=\"fmetarow\">\n",
       "    <div class=\"fmetakey\">editor:</div>\n",
       "    <div>Cale Johnson et al.</div>\n",
       "</div>\n",
       "\n",
       "<div class=\"fmetarow\">\n",
       "    <div class=\"fmetakey\">name:</div>\n",
       "    <div>NinMed Medical Texts from Nineveh</div>\n",
       "</div>\n",
       "\n",
       "<div class=\"fmetarow\">\n",
       "    <div class=\"fmetakey\">project:</div>\n",
       "    <div>BabMed</div>\n",
       "</div>\n",
       "\n",
       "<div class=\"fmetarow\">\n",
       "    <div class=\"fmetakey\">writtenBy:</div>\n",
       "    <div>Text-Fabric</div>\n",
       "</div>\n",
       "\n",
       "        </div>\n",
       "    </details>\n",
       "</div>\n",
       "\n",
       "<div class=\"frow\">\n",
       "    <div class=\"fnamecat \">\n",
       "<a target=\"_blank\" href=\"https://github.com/Nino-cunei/ninmed/blob/master/docs/transcription.md\" title=\"~/text-fabric-data/Nino-cunei/ninmed/tf/0.3/ln.tf\">ln</a>\n",
       "</div>\n",
       "<div class=\"fmono\">int</div>\n",
       "<details>\n",
       "    <summary>ATF line number of a numbered line, without prime</summary>\n",
       "    <div class=\"fmeta\">\n",
       "\n",
       "<div class=\"fmetarow\">\n",
       "    <div class=\"fmetakey\">converters:</div>\n",
       "    <div>Cale Johnson, Dirk Roorda</div>\n",
       "</div>\n",
       "\n",
       "<div class=\"fmetarow\">\n",
       "    <div class=\"fmetakey\">dateWritten:</div>\n",
       "    <div>2022-02-10T09:59:19Z</div>\n",
       "</div>\n",
       "\n",
       "<div class=\"fmetarow\">\n",
       "    <div class=\"fmetakey\">editor:</div>\n",
       "    <div>Cale Johnson et al.</div>\n",
       "</div>\n",
       "\n",
       "<div class=\"fmetarow\">\n",
       "    <div class=\"fmetakey\">name:</div>\n",
       "    <div>NinMed Medical Texts from Nineveh</div>\n",
       "</div>\n",
       "\n",
       "<div class=\"fmetarow\">\n",
       "    <div class=\"fmetakey\">project:</div>\n",
       "    <div>BabMed</div>\n",
       "</div>\n",
       "\n",
       "<div class=\"fmetarow\">\n",
       "    <div class=\"fmetakey\">writtenBy:</div>\n",
       "    <div>Text-Fabric</div>\n",
       "</div>\n",
       "\n",
       "        </div>\n",
       "    </details>\n",
       "</div>\n",
       "\n",
       "<div class=\"frow\">\n",
       "    <div class=\"fnamecat \">\n",
       "<a target=\"_blank\" href=\"https://github.com/Nino-cunei/ninmed/blob/master/docs/transcription.md\" title=\"~/text-fabric-data/Nino-cunei/ninmed/tf/0.3/lnno.tf\">lnno</a>\n",
       "</div>\n",
       "<div class=\"fmono\">str</div>\n",
       "<details>\n",
       "    <summary>ATF line number, may be $ or #, with prime; column number prepended</summary>\n",
       "    <div class=\"fmeta\">\n",
       "\n",
       "<div class=\"fmetarow\">\n",
       "    <div class=\"fmetakey\">converters:</div>\n",
       "    <div>Cale Johnson, Dirk Roorda</div>\n",
       "</div>\n",
       "\n",
       "<div class=\"fmetarow\">\n",
       "    <div class=\"fmetakey\">dateWritten:</div>\n",
       "    <div>2022-02-10T09:59:19Z</div>\n",
       "</div>\n",
       "\n",
       "<div class=\"fmetarow\">\n",
       "    <div class=\"fmetakey\">editor:</div>\n",
       "    <div>Cale Johnson et al.</div>\n",
       "</div>\n",
       "\n",
       "<div class=\"fmetarow\">\n",
       "    <div class=\"fmetakey\">name:</div>\n",
       "    <div>NinMed Medical Texts from Nineveh</div>\n",
       "</div>\n",
       "\n",
       "<div class=\"fmetarow\">\n",
       "    <div class=\"fmetakey\">project:</div>\n",
       "    <div>BabMed</div>\n",
       "</div>\n",
       "\n",
       "<div class=\"fmetarow\">\n",
       "    <div class=\"fmetakey\">writtenBy:</div>\n",
       "    <div>Text-Fabric</div>\n",
       "</div>\n",
       "\n",
       "        </div>\n",
       "    </details>\n",
       "</div>\n",
       "\n",
       "<div class=\"frow\">\n",
       "    <div class=\"fnamecat \">\n",
       "<a target=\"_blank\" href=\"https://github.com/Nino-cunei/ninmed/blob/master/docs/transcription.md\" title=\"~/text-fabric-data/Nino-cunei/ninmed/tf/0.3/missing.tf\">missing</a>\n",
       "</div>\n",
       "<div class=\"fmono\">int</div>\n",
       "<details>\n",
       "    <summary>whether a sign is missing - between [ ]</summary>\n",
       "    <div class=\"fmeta\">\n",
       "\n",
       "<div class=\"fmetarow\">\n",
       "    <div class=\"fmetakey\">converters:</div>\n",
       "    <div>Cale Johnson, Dirk Roorda</div>\n",
       "</div>\n",
       "\n",
       "<div class=\"fmetarow\">\n",
       "    <div class=\"fmetakey\">dateWritten:</div>\n",
       "    <div>2022-02-10T09:59:19Z</div>\n",
       "</div>\n",
       "\n",
       "<div class=\"fmetarow\">\n",
       "    <div class=\"fmetakey\">editor:</div>\n",
       "    <div>Cale Johnson et al.</div>\n",
       "</div>\n",
       "\n",
       "<div class=\"fmetarow\">\n",
       "    <div class=\"fmetakey\">name:</div>\n",
       "    <div>NinMed Medical Texts from Nineveh</div>\n",
       "</div>\n",
       "\n",
       "<div class=\"fmetarow\">\n",
       "    <div class=\"fmetakey\">project:</div>\n",
       "    <div>BabMed</div>\n",
       "</div>\n",
       "\n",
       "<div class=\"fmetarow\">\n",
       "    <div class=\"fmetakey\">writtenBy:</div>\n",
       "    <div>Text-Fabric</div>\n",
       "</div>\n",
       "\n",
       "        </div>\n",
       "    </details>\n",
       "</div>\n",
       "\n",
       "<div class=\"frow\">\n",
       "    <div class=\"fnamecat \">\n",
       "<a target=\"_blank\" href=\"https://github.com/Nino-cunei/ninmed/blob/master/docs/transcription.md\" title=\"~/text-fabric-data/Nino-cunei/ninmed/tf/0.3/modifiers.tf\">modifiers</a>\n",
       "</div>\n",
       "<div class=\"fmono\">str</div>\n",
       "<details>\n",
       "    <summary>sequence of modifiers after a sign</summary>\n",
       "    <div class=\"fmeta\">\n",
       "\n",
       "<div class=\"fmetarow\">\n",
       "    <div class=\"fmetakey\">converters:</div>\n",
       "    <div>Cale Johnson, Dirk Roorda</div>\n",
       "</div>\n",
       "\n",
       "<div class=\"fmetarow\">\n",
       "    <div class=\"fmetakey\">dateWritten:</div>\n",
       "    <div>2022-02-10T09:59:19Z</div>\n",
       "</div>\n",
       "\n",
       "<div class=\"fmetarow\">\n",
       "    <div class=\"fmetakey\">editor:</div>\n",
       "    <div>Cale Johnson et al.</div>\n",
       "</div>\n",
       "\n",
       "<div class=\"fmetarow\">\n",
       "    <div class=\"fmetakey\">name:</div>\n",
       "    <div>NinMed Medical Texts from Nineveh</div>\n",
       "</div>\n",
       "\n",
       "<div class=\"fmetarow\">\n",
       "    <div class=\"fmetakey\">project:</div>\n",
       "    <div>BabMed</div>\n",
       "</div>\n",
       "\n",
       "<div class=\"fmetarow\">\n",
       "    <div class=\"fmetakey\">writtenBy:</div>\n",
       "    <div>Text-Fabric</div>\n",
       "</div>\n",
       "\n",
       "        </div>\n",
       "    </details>\n",
       "</div>\n",
       "\n",
       "<div class=\"frow\">\n",
       "    <div class=\"fnamecat \">\n",
       "<a target=\"_blank\" href=\"https://github.com/Nino-cunei/ninmed/blob/master/docs/transcription.md\" title=\"~/text-fabric-data/Nino-cunei/ninmed/tf/0.3/museum.tf\">museum</a>\n",
       "</div>\n",
       "<div class=\"fmono\">str</div>\n",
       "<details>\n",
       "    <summary>museum name from metadata field \"museum.name\"</summary>\n",
       "    <div class=\"fmeta\">\n",
       "\n",
       "<div class=\"fmetarow\">\n",
       "    <div class=\"fmetakey\">converters:</div>\n",
       "    <div>Cale Johnson, Dirk Roorda</div>\n",
       "</div>\n",
       "\n",
       "<div class=\"fmetarow\">\n",
       "    <div class=\"fmetakey\">dateWritten:</div>\n",
       "    <div>2022-02-10T09:59:19Z</div>\n",
       "</div>\n",
       "\n",
       "<div class=\"fmetarow\">\n",
       "    <div class=\"fmetakey\">editor:</div>\n",
       "    <div>Cale Johnson et al.</div>\n",
       "</div>\n",
       "\n",
       "<div class=\"fmetarow\">\n",
       "    <div class=\"fmetakey\">name:</div>\n",
       "    <div>NinMed Medical Texts from Nineveh</div>\n",
       "</div>\n",
       "\n",
       "<div class=\"fmetarow\">\n",
       "    <div class=\"fmetakey\">project:</div>\n",
       "    <div>BabMed</div>\n",
       "</div>\n",
       "\n",
       "<div class=\"fmetarow\">\n",
       "    <div class=\"fmetakey\">writtenBy:</div>\n",
       "    <div>Text-Fabric</div>\n",
       "</div>\n",
       "\n",
       "        </div>\n",
       "    </details>\n",
       "</div>\n",
       "\n",
       "<div class=\"frow\">\n",
       "    <div class=\"fnamecat \">\n",
       "<a target=\"_blank\" href=\"https://github.com/Nino-cunei/ninmed/blob/master/docs/transcription.md\" title=\"~/text-fabric-data/Nino-cunei/ninmed/tf/0.3/note.tf\">note</a>\n",
       "</div>\n",
       "<div class=\"fmono\">str</div>\n",
       "<details>\n",
       "    <summary>note comment to a line</summary>\n",
       "    <div class=\"fmeta\">\n",
       "\n",
       "<div class=\"fmetarow\">\n",
       "    <div class=\"fmetakey\">converters:</div>\n",
       "    <div>Cale Johnson, Dirk Roorda</div>\n",
       "</div>\n",
       "\n",
       "<div class=\"fmetarow\">\n",
       "    <div class=\"fmetakey\">dateWritten:</div>\n",
       "    <div>2022-02-10T09:59:19Z</div>\n",
       "</div>\n",
       "\n",
       "<div class=\"fmetarow\">\n",
       "    <div class=\"fmetakey\">editor:</div>\n",
       "    <div>Cale Johnson et al.</div>\n",
       "</div>\n",
       "\n",
       "<div class=\"fmetarow\">\n",
       "    <div class=\"fmetakey\">name:</div>\n",
       "    <div>NinMed Medical Texts from Nineveh</div>\n",
       "</div>\n",
       "\n",
       "<div class=\"fmetarow\">\n",
       "    <div class=\"fmetakey\">project:</div>\n",
       "    <div>BabMed</div>\n",
       "</div>\n",
       "\n",
       "<div class=\"fmetarow\">\n",
       "    <div class=\"fmetakey\">writtenBy:</div>\n",
       "    <div>Text-Fabric</div>\n",
       "</div>\n",
       "\n",
       "        </div>\n",
       "    </details>\n",
       "</div>\n",
       "\n",
       "<div class=\"frow\">\n",
       "    <div class=\"fnamecat \">\n",
       "<a target=\"_blank\" href=\"https://github.com/Nino-cunei/ninmed/blob/master/docs/transcription.md\" title=\"~/text-fabric-data/Nino-cunei/ninmed/tf/0.3/number.tf\">number</a>\n",
       "</div>\n",
       "<div class=\"fmono\">int</div>\n",
       "<details>\n",
       "    <summary>numeric value of a number sign</summary>\n",
       "    <div class=\"fmeta\">\n",
       "\n",
       "<div class=\"fmetarow\">\n",
       "    <div class=\"fmetakey\">converters:</div>\n",
       "    <div>Cale Johnson, Dirk Roorda</div>\n",
       "</div>\n",
       "\n",
       "<div class=\"fmetarow\">\n",
       "    <div class=\"fmetakey\">dateWritten:</div>\n",
       "    <div>2022-02-10T09:59:19Z</div>\n",
       "</div>\n",
       "\n",
       "<div class=\"fmetarow\">\n",
       "    <div class=\"fmetakey\">editor:</div>\n",
       "    <div>Cale Johnson et al.</div>\n",
       "</div>\n",
       "\n",
       "<div class=\"fmetarow\">\n",
       "    <div class=\"fmetakey\">name:</div>\n",
       "    <div>NinMed Medical Texts from Nineveh</div>\n",
       "</div>\n",
       "\n",
       "<div class=\"fmetarow\">\n",
       "    <div class=\"fmetakey\">project:</div>\n",
       "    <div>BabMed</div>\n",
       "</div>\n",
       "\n",
       "<div class=\"fmetarow\">\n",
       "    <div class=\"fmetakey\">writtenBy:</div>\n",
       "    <div>Text-Fabric</div>\n",
       "</div>\n",
       "\n",
       "        </div>\n",
       "    </details>\n",
       "</div>\n",
       "\n",
       "<div class=\"frow\">\n",
       "    <div class=\"fnamecat \">\n",
       "<a target=\"_blank\" href=\"https://github.com/Nino-cunei/ninmed/blob/master/docs/transcription.md\" title=\"~/text-fabric-data/Nino-cunei/ninmed/tf/0.3/otype.tf\">otype</a>\n",
       "</div>\n",
       "<div class=\"fmono\">str</div>\n",
       "<details>\n",
       "    <summary></summary>\n",
       "    <div class=\"fmeta\">\n",
       "\n",
       "<div class=\"fmetarow\">\n",
       "    <div class=\"fmetakey\">converters:</div>\n",
       "    <div>Cale Johnson, Dirk Roorda</div>\n",
       "</div>\n",
       "\n",
       "<div class=\"fmetarow\">\n",
       "    <div class=\"fmetakey\">dateWritten:</div>\n",
       "    <div>2022-02-10T09:59:19Z</div>\n",
       "</div>\n",
       "\n",
       "<div class=\"fmetarow\">\n",
       "    <div class=\"fmetakey\">editor:</div>\n",
       "    <div>Cale Johnson et al.</div>\n",
       "</div>\n",
       "\n",
       "<div class=\"fmetarow\">\n",
       "    <div class=\"fmetakey\">name:</div>\n",
       "    <div>NinMed Medical Texts from Nineveh</div>\n",
       "</div>\n",
       "\n",
       "<div class=\"fmetarow\">\n",
       "    <div class=\"fmetakey\">project:</div>\n",
       "    <div>BabMed</div>\n",
       "</div>\n",
       "\n",
       "<div class=\"fmetarow\">\n",
       "    <div class=\"fmetakey\">writtenBy:</div>\n",
       "    <div>Text-Fabric</div>\n",
       "</div>\n",
       "\n",
       "        </div>\n",
       "    </details>\n",
       "</div>\n",
       "\n",
       "<div class=\"frow\">\n",
       "    <div class=\"fnamecat \">\n",
       "<a target=\"_blank\" href=\"https://github.com/Nino-cunei/ninmed/blob/master/docs/transcription.md\" title=\"~/text-fabric-data/Nino-cunei/ninmed/tf/0.3/pnumber.tf\">pnumber</a>\n",
       "</div>\n",
       "<div class=\"fmono\">str</div>\n",
       "<details>\n",
       "    <summary>P number of a document</summary>\n",
       "    <div class=\"fmeta\">\n",
       "\n",
       "<div class=\"fmetarow\">\n",
       "    <div class=\"fmetakey\">converters:</div>\n",
       "    <div>Cale Johnson, Dirk Roorda</div>\n",
       "</div>\n",
       "\n",
       "<div class=\"fmetarow\">\n",
       "    <div class=\"fmetakey\">dateWritten:</div>\n",
       "    <div>2022-02-10T09:59:19Z</div>\n",
       "</div>\n",
       "\n",
       "<div class=\"fmetarow\">\n",
       "    <div class=\"fmetakey\">editor:</div>\n",
       "    <div>Cale Johnson et al.</div>\n",
       "</div>\n",
       "\n",
       "<div class=\"fmetarow\">\n",
       "    <div class=\"fmetakey\">name:</div>\n",
       "    <div>NinMed Medical Texts from Nineveh</div>\n",
       "</div>\n",
       "\n",
       "<div class=\"fmetarow\">\n",
       "    <div class=\"fmetakey\">project:</div>\n",
       "    <div>BabMed</div>\n",
       "</div>\n",
       "\n",
       "<div class=\"fmetarow\">\n",
       "    <div class=\"fmetakey\">writtenBy:</div>\n",
       "    <div>Text-Fabric</div>\n",
       "</div>\n",
       "\n",
       "        </div>\n",
       "    </details>\n",
       "</div>\n",
       "\n",
       "<div class=\"frow\">\n",
       "    <div class=\"fnamecat \">\n",
       "<a target=\"_blank\" href=\"https://github.com/Nino-cunei/ninmed/blob/master/docs/transcription.md\" title=\"~/text-fabric-data/Nino-cunei/ninmed/tf/0.3/primecol.tf\">primecol</a>\n",
       "</div>\n",
       "<div class=\"fmono\">int</div>\n",
       "<details>\n",
       "    <summary>whether a prime is present on a column number</summary>\n",
       "    <div class=\"fmeta\">\n",
       "\n",
       "<div class=\"fmetarow\">\n",
       "    <div class=\"fmetakey\">converters:</div>\n",
       "    <div>Cale Johnson, Dirk Roorda</div>\n",
       "</div>\n",
       "\n",
       "<div class=\"fmetarow\">\n",
       "    <div class=\"fmetakey\">dateWritten:</div>\n",
       "    <div>2022-02-10T09:59:19Z</div>\n",
       "</div>\n",
       "\n",
       "<div class=\"fmetarow\">\n",
       "    <div class=\"fmetakey\">editor:</div>\n",
       "    <div>Cale Johnson et al.</div>\n",
       "</div>\n",
       "\n",
       "<div class=\"fmetarow\">\n",
       "    <div class=\"fmetakey\">name:</div>\n",
       "    <div>NinMed Medical Texts from Nineveh</div>\n",
       "</div>\n",
       "\n",
       "<div class=\"fmetarow\">\n",
       "    <div class=\"fmetakey\">project:</div>\n",
       "    <div>BabMed</div>\n",
       "</div>\n",
       "\n",
       "<div class=\"fmetarow\">\n",
       "    <div class=\"fmetakey\">writtenBy:</div>\n",
       "    <div>Text-Fabric</div>\n",
       "</div>\n",
       "\n",
       "        </div>\n",
       "    </details>\n",
       "</div>\n",
       "\n",
       "<div class=\"frow\">\n",
       "    <div class=\"fnamecat \">\n",
       "<a target=\"_blank\" href=\"https://github.com/Nino-cunei/ninmed/blob/master/docs/transcription.md\" title=\"~/text-fabric-data/Nino-cunei/ninmed/tf/0.3/primeln.tf\">primeln</a>\n",
       "</div>\n",
       "<div class=\"fmono\">int</div>\n",
       "<details>\n",
       "    <summary>whether a prime is present on a line number</summary>\n",
       "    <div class=\"fmeta\">\n",
       "\n",
       "<div class=\"fmetarow\">\n",
       "    <div class=\"fmetakey\">converters:</div>\n",
       "    <div>Cale Johnson, Dirk Roorda</div>\n",
       "</div>\n",
       "\n",
       "<div class=\"fmetarow\">\n",
       "    <div class=\"fmetakey\">dateWritten:</div>\n",
       "    <div>2022-02-10T09:59:19Z</div>\n",
       "</div>\n",
       "\n",
       "<div class=\"fmetarow\">\n",
       "    <div class=\"fmetakey\">editor:</div>\n",
       "    <div>Cale Johnson et al.</div>\n",
       "</div>\n",
       "\n",
       "<div class=\"fmetarow\">\n",
       "    <div class=\"fmetakey\">name:</div>\n",
       "    <div>NinMed Medical Texts from Nineveh</div>\n",
       "</div>\n",
       "\n",
       "<div class=\"fmetarow\">\n",
       "    <div class=\"fmetakey\">project:</div>\n",
       "    <div>BabMed</div>\n",
       "</div>\n",
       "\n",
       "<div class=\"fmetarow\">\n",
       "    <div class=\"fmetakey\">writtenBy:</div>\n",
       "    <div>Text-Fabric</div>\n",
       "</div>\n",
       "\n",
       "        </div>\n",
       "    </details>\n",
       "</div>\n",
       "\n",
       "<div class=\"frow\">\n",
       "    <div class=\"fnamecat \">\n",
       "<a target=\"_blank\" href=\"https://github.com/Nino-cunei/ninmed/blob/master/docs/transcription.md\" title=\"~/text-fabric-data/Nino-cunei/ninmed/tf/0.3/publication.tf\">publication</a>\n",
       "</div>\n",
       "<div class=\"fmono\">str</div>\n",
       "<details>\n",
       "    <summary>publication info from metadata field \"publication\"</summary>\n",
       "    <div class=\"fmeta\">\n",
       "\n",
       "<div class=\"fmetarow\">\n",
       "    <div class=\"fmetakey\">converters:</div>\n",
       "    <div>Cale Johnson, Dirk Roorda</div>\n",
       "</div>\n",
       "\n",
       "<div class=\"fmetarow\">\n",
       "    <div class=\"fmetakey\">dateWritten:</div>\n",
       "    <div>2022-02-10T09:59:19Z</div>\n",
       "</div>\n",
       "\n",
       "<div class=\"fmetarow\">\n",
       "    <div class=\"fmetakey\">editor:</div>\n",
       "    <div>Cale Johnson et al.</div>\n",
       "</div>\n",
       "\n",
       "<div class=\"fmetarow\">\n",
       "    <div class=\"fmetakey\">name:</div>\n",
       "    <div>NinMed Medical Texts from Nineveh</div>\n",
       "</div>\n",
       "\n",
       "<div class=\"fmetarow\">\n",
       "    <div class=\"fmetakey\">project:</div>\n",
       "    <div>BabMed</div>\n",
       "</div>\n",
       "\n",
       "<div class=\"fmetarow\">\n",
       "    <div class=\"fmetakey\">writtenBy:</div>\n",
       "    <div>Text-Fabric</div>\n",
       "</div>\n",
       "\n",
       "        </div>\n",
       "    </details>\n",
       "</div>\n",
       "\n",
       "<div class=\"frow\">\n",
       "    <div class=\"fnamecat \">\n",
       "<a target=\"_blank\" href=\"https://github.com/Nino-cunei/ninmed/blob/master/docs/transcription.md\" title=\"~/text-fabric-data/Nino-cunei/ninmed/tf/0.3/question.tf\">question</a>\n",
       "</div>\n",
       "<div class=\"fmono\">int</div>\n",
       "<details>\n",
       "    <summary>whether a sign has the question flag (?)</summary>\n",
       "    <div class=\"fmeta\">\n",
       "\n",
       "<div class=\"fmetarow\">\n",
       "    <div class=\"fmetakey\">converters:</div>\n",
       "    <div>Cale Johnson, Dirk Roorda</div>\n",
       "</div>\n",
       "\n",
       "<div class=\"fmetarow\">\n",
       "    <div class=\"fmetakey\">dateWritten:</div>\n",
       "    <div>2022-02-10T09:59:19Z</div>\n",
       "</div>\n",
       "\n",
       "<div class=\"fmetarow\">\n",
       "    <div class=\"fmetakey\">editor:</div>\n",
       "    <div>Cale Johnson et al.</div>\n",
       "</div>\n",
       "\n",
       "<div class=\"fmetarow\">\n",
       "    <div class=\"fmetakey\">name:</div>\n",
       "    <div>NinMed Medical Texts from Nineveh</div>\n",
       "</div>\n",
       "\n",
       "<div class=\"fmetarow\">\n",
       "    <div class=\"fmetakey\">project:</div>\n",
       "    <div>BabMed</div>\n",
       "</div>\n",
       "\n",
       "<div class=\"fmetarow\">\n",
       "    <div class=\"fmetakey\">writtenBy:</div>\n",
       "    <div>Text-Fabric</div>\n",
       "</div>\n",
       "\n",
       "        </div>\n",
       "    </details>\n",
       "</div>\n",
       "\n",
       "<div class=\"frow\">\n",
       "    <div class=\"fnamecat \">\n",
       "<a target=\"_blank\" href=\"https://github.com/Nino-cunei/ninmed/blob/master/docs/transcription.md\" title=\"~/text-fabric-data/Nino-cunei/ninmed/tf/0.3/reading.tf\">reading</a>\n",
       "</div>\n",
       "<div class=\"fmono\">str</div>\n",
       "<details>\n",
       "    <summary>reading of a sign</summary>\n",
       "    <div class=\"fmeta\">\n",
       "\n",
       "<div class=\"fmetarow\">\n",
       "    <div class=\"fmetakey\">converters:</div>\n",
       "    <div>Cale Johnson, Dirk Roorda</div>\n",
       "</div>\n",
       "\n",
       "<div class=\"fmetarow\">\n",
       "    <div class=\"fmetakey\">dateWritten:</div>\n",
       "    <div>2022-02-10T09:59:19Z</div>\n",
       "</div>\n",
       "\n",
       "<div class=\"fmetarow\">\n",
       "    <div class=\"fmetakey\">editor:</div>\n",
       "    <div>Cale Johnson et al.</div>\n",
       "</div>\n",
       "\n",
       "<div class=\"fmetarow\">\n",
       "    <div class=\"fmetakey\">name:</div>\n",
       "    <div>NinMed Medical Texts from Nineveh</div>\n",
       "</div>\n",
       "\n",
       "<div class=\"fmetarow\">\n",
       "    <div class=\"fmetakey\">project:</div>\n",
       "    <div>BabMed</div>\n",
       "</div>\n",
       "\n",
       "<div class=\"fmetarow\">\n",
       "    <div class=\"fmetakey\">writtenBy:</div>\n",
       "    <div>Text-Fabric</div>\n",
       "</div>\n",
       "\n",
       "        </div>\n",
       "    </details>\n",
       "</div>\n",
       "\n",
       "<div class=\"frow\">\n",
       "    <div class=\"fnamecat \">\n",
       "<a target=\"_blank\" href=\"https://github.com/Nino-cunei/ninmed/blob/master/docs/transcription.md\" title=\"~/text-fabric-data/Nino-cunei/ninmed/tf/0.3/remarkable.tf\">remarkable</a>\n",
       "</div>\n",
       "<div class=\"fmono\">int</div>\n",
       "<details>\n",
       "    <summary>whether a sign is remarkable (!)</summary>\n",
       "    <div class=\"fmeta\">\n",
       "\n",
       "<div class=\"fmetarow\">\n",
       "    <div class=\"fmetakey\">converters:</div>\n",
       "    <div>Cale Johnson, Dirk Roorda</div>\n",
       "</div>\n",
       "\n",
       "<div class=\"fmetarow\">\n",
       "    <div class=\"fmetakey\">dateWritten:</div>\n",
       "    <div>2022-02-10T09:59:19Z</div>\n",
       "</div>\n",
       "\n",
       "<div class=\"fmetarow\">\n",
       "    <div class=\"fmetakey\">editor:</div>\n",
       "    <div>Cale Johnson et al.</div>\n",
       "</div>\n",
       "\n",
       "<div class=\"fmetarow\">\n",
       "    <div class=\"fmetakey\">name:</div>\n",
       "    <div>NinMed Medical Texts from Nineveh</div>\n",
       "</div>\n",
       "\n",
       "<div class=\"fmetarow\">\n",
       "    <div class=\"fmetakey\">project:</div>\n",
       "    <div>BabMed</div>\n",
       "</div>\n",
       "\n",
       "<div class=\"fmetarow\">\n",
       "    <div class=\"fmetakey\">writtenBy:</div>\n",
       "    <div>Text-Fabric</div>\n",
       "</div>\n",
       "\n",
       "        </div>\n",
       "    </details>\n",
       "</div>\n",
       "\n",
       "<div class=\"frow\">\n",
       "    <div class=\"fnamecat \">\n",
       "<a target=\"_blank\" href=\"https://github.com/Nino-cunei/ninmed/blob/master/docs/transcription.md\" title=\"~/text-fabric-data/Nino-cunei/ninmed/tf/0.3/ruling.tf\">ruling</a>\n",
       "</div>\n",
       "<div class=\"fmono\">str</div>\n",
       "<details>\n",
       "    <summary>ruling comment to a line</summary>\n",
       "    <div class=\"fmeta\">\n",
       "\n",
       "<div class=\"fmetarow\">\n",
       "    <div class=\"fmetakey\">converters:</div>\n",
       "    <div>Cale Johnson, Dirk Roorda</div>\n",
       "</div>\n",
       "\n",
       "<div class=\"fmetarow\">\n",
       "    <div class=\"fmetakey\">dateWritten:</div>\n",
       "    <div>2022-02-10T09:59:19Z</div>\n",
       "</div>\n",
       "\n",
       "<div class=\"fmetarow\">\n",
       "    <div class=\"fmetakey\">editor:</div>\n",
       "    <div>Cale Johnson et al.</div>\n",
       "</div>\n",
       "\n",
       "<div class=\"fmetarow\">\n",
       "    <div class=\"fmetakey\">name:</div>\n",
       "    <div>NinMed Medical Texts from Nineveh</div>\n",
       "</div>\n",
       "\n",
       "<div class=\"fmetarow\">\n",
       "    <div class=\"fmetakey\">project:</div>\n",
       "    <div>BabMed</div>\n",
       "</div>\n",
       "\n",
       "<div class=\"fmetarow\">\n",
       "    <div class=\"fmetakey\">writtenBy:</div>\n",
       "    <div>Text-Fabric</div>\n",
       "</div>\n",
       "\n",
       "        </div>\n",
       "    </details>\n",
       "</div>\n",
       "\n",
       "<div class=\"frow\">\n",
       "    <div class=\"fnamecat \">\n",
       "<a target=\"_blank\" href=\"https://github.com/Nino-cunei/ninmed/blob/master/docs/transcription.md\" title=\"~/text-fabric-data/Nino-cunei/ninmed/tf/0.3/seal.tf\">seal</a>\n",
       "</div>\n",
       "<div class=\"fmono\">str</div>\n",
       "<details>\n",
       "    <summary>seal comment to a line</summary>\n",
       "    <div class=\"fmeta\">\n",
       "\n",
       "<div class=\"fmetarow\">\n",
       "    <div class=\"fmetakey\">converters:</div>\n",
       "    <div>Cale Johnson, Dirk Roorda</div>\n",
       "</div>\n",
       "\n",
       "<div class=\"fmetarow\">\n",
       "    <div class=\"fmetakey\">dateWritten:</div>\n",
       "    <div>2022-02-10T09:59:19Z</div>\n",
       "</div>\n",
       "\n",
       "<div class=\"fmetarow\">\n",
       "    <div class=\"fmetakey\">editor:</div>\n",
       "    <div>Cale Johnson et al.</div>\n",
       "</div>\n",
       "\n",
       "<div class=\"fmetarow\">\n",
       "    <div class=\"fmetakey\">name:</div>\n",
       "    <div>NinMed Medical Texts from Nineveh</div>\n",
       "</div>\n",
       "\n",
       "<div class=\"fmetarow\">\n",
       "    <div class=\"fmetakey\">project:</div>\n",
       "    <div>BabMed</div>\n",
       "</div>\n",
       "\n",
       "<div class=\"fmetarow\">\n",
       "    <div class=\"fmetakey\">writtenBy:</div>\n",
       "    <div>Text-Fabric</div>\n",
       "</div>\n",
       "\n",
       "        </div>\n",
       "    </details>\n",
       "</div>\n",
       "\n",
       "<div class=\"frow\">\n",
       "    <div class=\"fnamecat \">\n",
       "<a target=\"_blank\" href=\"https://github.com/Nino-cunei/ninmed/blob/master/docs/transcription.md\" title=\"~/text-fabric-data/Nino-cunei/ninmed/tf/0.3/supplied.tf\">supplied</a>\n",
       "</div>\n",
       "<div class=\"fmono\">int</div>\n",
       "<details>\n",
       "    <summary>whether a sign is supplied - between < ></summary>\n",
       "    <div class=\"fmeta\">\n",
       "\n",
       "<div class=\"fmetarow\">\n",
       "    <div class=\"fmetakey\">converters:</div>\n",
       "    <div>Cale Johnson, Dirk Roorda</div>\n",
       "</div>\n",
       "\n",
       "<div class=\"fmetarow\">\n",
       "    <div class=\"fmetakey\">dateWritten:</div>\n",
       "    <div>2022-02-10T09:59:19Z</div>\n",
       "</div>\n",
       "\n",
       "<div class=\"fmetarow\">\n",
       "    <div class=\"fmetakey\">editor:</div>\n",
       "    <div>Cale Johnson et al.</div>\n",
       "</div>\n",
       "\n",
       "<div class=\"fmetarow\">\n",
       "    <div class=\"fmetakey\">name:</div>\n",
       "    <div>NinMed Medical Texts from Nineveh</div>\n",
       "</div>\n",
       "\n",
       "<div class=\"fmetarow\">\n",
       "    <div class=\"fmetakey\">project:</div>\n",
       "    <div>BabMed</div>\n",
       "</div>\n",
       "\n",
       "<div class=\"fmetarow\">\n",
       "    <div class=\"fmetakey\">writtenBy:</div>\n",
       "    <div>Text-Fabric</div>\n",
       "</div>\n",
       "\n",
       "        </div>\n",
       "    </details>\n",
       "</div>\n",
       "\n",
       "<div class=\"frow\">\n",
       "    <div class=\"fnamecat \">\n",
       "<a target=\"_blank\" href=\"https://github.com/Nino-cunei/ninmed/blob/master/docs/transcription.md\" title=\"~/text-fabric-data/Nino-cunei/ninmed/tf/0.3/sym.tf\">sym</a>\n",
       "</div>\n",
       "<div class=\"fmono\">str</div>\n",
       "<details>\n",
       "    <summary>essential part of a sign or of a word</summary>\n",
       "    <div class=\"fmeta\">\n",
       "\n",
       "<div class=\"fmetarow\">\n",
       "    <div class=\"fmetakey\">converters:</div>\n",
       "    <div>Cale Johnson, Dirk Roorda</div>\n",
       "</div>\n",
       "\n",
       "<div class=\"fmetarow\">\n",
       "    <div class=\"fmetakey\">dateWritten:</div>\n",
       "    <div>2022-02-10T09:59:19Z</div>\n",
       "</div>\n",
       "\n",
       "<div class=\"fmetarow\">\n",
       "    <div class=\"fmetakey\">editor:</div>\n",
       "    <div>Cale Johnson et al.</div>\n",
       "</div>\n",
       "\n",
       "<div class=\"fmetarow\">\n",
       "    <div class=\"fmetakey\">name:</div>\n",
       "    <div>NinMed Medical Texts from Nineveh</div>\n",
       "</div>\n",
       "\n",
       "<div class=\"fmetarow\">\n",
       "    <div class=\"fmetakey\">project:</div>\n",
       "    <div>BabMed</div>\n",
       "</div>\n",
       "\n",
       "<div class=\"fmetarow\">\n",
       "    <div class=\"fmetakey\">writtenBy:</div>\n",
       "    <div>Text-Fabric</div>\n",
       "</div>\n",
       "\n",
       "        </div>\n",
       "    </details>\n",
       "</div>\n",
       "\n",
       "<div class=\"frow\">\n",
       "    <div class=\"fnamecat \">\n",
       "<a target=\"_blank\" href=\"https://github.com/Nino-cunei/ninmed/blob/master/docs/transcription.md\" title=\"~/text-fabric-data/Nino-cunei/ninmed/tf/0.3/tr@en.tf\">tr@ll</a>\n",
       "</div>\n",
       "<div class=\"fmono\">str</div>\n",
       "<details>\n",
       "    <summary>english translation of a line</summary>\n",
       "    <div class=\"fmeta\">\n",
       "\n",
       "<div class=\"fmetarow\">\n",
       "    <div class=\"fmetakey\">converters:</div>\n",
       "    <div>Cale Johnson, Dirk Roorda</div>\n",
       "</div>\n",
       "\n",
       "<div class=\"fmetarow\">\n",
       "    <div class=\"fmetakey\">dateWritten:</div>\n",
       "    <div>2022-02-10T09:59:19Z</div>\n",
       "</div>\n",
       "\n",
       "<div class=\"fmetarow\">\n",
       "    <div class=\"fmetakey\">editor:</div>\n",
       "    <div>Cale Johnson et al.</div>\n",
       "</div>\n",
       "\n",
       "<div class=\"fmetarow\">\n",
       "    <div class=\"fmetakey\">name:</div>\n",
       "    <div>NinMed Medical Texts from Nineveh</div>\n",
       "</div>\n",
       "\n",
       "<div class=\"fmetarow\">\n",
       "    <div class=\"fmetakey\">project:</div>\n",
       "    <div>BabMed</div>\n",
       "</div>\n",
       "\n",
       "<div class=\"fmetarow\">\n",
       "    <div class=\"fmetakey\">writtenBy:</div>\n",
       "    <div>Text-Fabric</div>\n",
       "</div>\n",
       "\n",
       "        </div>\n",
       "    </details>\n",
       "</div>\n",
       "\n",
       "<div class=\"frow\">\n",
       "    <div class=\"fnamecat \">\n",
       "<a target=\"_blank\" href=\"https://github.com/Nino-cunei/ninmed/blob/master/docs/transcription.md\" title=\"~/text-fabric-data/Nino-cunei/ninmed/tf/0.3/trans.tf\">trans</a>\n",
       "</div>\n",
       "<div class=\"fmono\">int</div>\n",
       "<details>\n",
       "    <summary>whether a line has a translation</summary>\n",
       "    <div class=\"fmeta\">\n",
       "\n",
       "<div class=\"fmetarow\">\n",
       "    <div class=\"fmetakey\">converters:</div>\n",
       "    <div>Cale Johnson, Dirk Roorda</div>\n",
       "</div>\n",
       "\n",
       "<div class=\"fmetarow\">\n",
       "    <div class=\"fmetakey\">dateWritten:</div>\n",
       "    <div>2022-02-10T09:59:19Z</div>\n",
       "</div>\n",
       "\n",
       "<div class=\"fmetarow\">\n",
       "    <div class=\"fmetakey\">editor:</div>\n",
       "    <div>Cale Johnson et al.</div>\n",
       "</div>\n",
       "\n",
       "<div class=\"fmetarow\">\n",
       "    <div class=\"fmetakey\">name:</div>\n",
       "    <div>NinMed Medical Texts from Nineveh</div>\n",
       "</div>\n",
       "\n",
       "<div class=\"fmetarow\">\n",
       "    <div class=\"fmetakey\">project:</div>\n",
       "    <div>BabMed</div>\n",
       "</div>\n",
       "\n",
       "<div class=\"fmetarow\">\n",
       "    <div class=\"fmetakey\">writtenBy:</div>\n",
       "    <div>Text-Fabric</div>\n",
       "</div>\n",
       "\n",
       "        </div>\n",
       "    </details>\n",
       "</div>\n",
       "\n",
       "<div class=\"frow\">\n",
       "    <div class=\"fnamecat \">\n",
       "<a target=\"_blank\" href=\"https://github.com/Nino-cunei/ninmed/blob/master/docs/transcription.md\" title=\"~/text-fabric-data/Nino-cunei/ninmed/tf/0.3/type.tf\">type</a>\n",
       "</div>\n",
       "<div class=\"fmono\">str</div>\n",
       "<details>\n",
       "    <summary>name of a type of cluster or kind of sign</summary>\n",
       "    <div class=\"fmeta\">\n",
       "\n",
       "<div class=\"fmetarow\">\n",
       "    <div class=\"fmetakey\">converters:</div>\n",
       "    <div>Cale Johnson, Dirk Roorda</div>\n",
       "</div>\n",
       "\n",
       "<div class=\"fmetarow\">\n",
       "    <div class=\"fmetakey\">dateWritten:</div>\n",
       "    <div>2022-02-10T09:59:19Z</div>\n",
       "</div>\n",
       "\n",
       "<div class=\"fmetarow\">\n",
       "    <div class=\"fmetakey\">editor:</div>\n",
       "    <div>Cale Johnson et al.</div>\n",
       "</div>\n",
       "\n",
       "<div class=\"fmetarow\">\n",
       "    <div class=\"fmetakey\">name:</div>\n",
       "    <div>NinMed Medical Texts from Nineveh</div>\n",
       "</div>\n",
       "\n",
       "<div class=\"fmetarow\">\n",
       "    <div class=\"fmetakey\">project:</div>\n",
       "    <div>BabMed</div>\n",
       "</div>\n",
       "\n",
       "<div class=\"fmetarow\">\n",
       "    <div class=\"fmetakey\">writtenBy:</div>\n",
       "    <div>Text-Fabric</div>\n",
       "</div>\n",
       "\n",
       "        </div>\n",
       "    </details>\n",
       "</div>\n",
       "\n",
       "<div class=\"frow\">\n",
       "    <div class=\"fnamecat \">\n",
       "<a target=\"_blank\" href=\"https://github.com/Nino-cunei/ninmed/blob/master/docs/transcription.md\" title=\"~/text-fabric-data/Nino-cunei/ninmed/tf/0.3/uncertain.tf\">uncertain</a>\n",
       "</div>\n",
       "<div class=\"fmono\">int</div>\n",
       "<details>\n",
       "    <summary>whether a sign is uncertain - between ( )</summary>\n",
       "    <div class=\"fmeta\">\n",
       "\n",
       "<div class=\"fmetarow\">\n",
       "    <div class=\"fmetakey\">converters:</div>\n",
       "    <div>Cale Johnson, Dirk Roorda</div>\n",
       "</div>\n",
       "\n",
       "<div class=\"fmetarow\">\n",
       "    <div class=\"fmetakey\">dateWritten:</div>\n",
       "    <div>2022-02-10T09:59:20Z</div>\n",
       "</div>\n",
       "\n",
       "<div class=\"fmetarow\">\n",
       "    <div class=\"fmetakey\">editor:</div>\n",
       "    <div>Cale Johnson et al.</div>\n",
       "</div>\n",
       "\n",
       "<div class=\"fmetarow\">\n",
       "    <div class=\"fmetakey\">name:</div>\n",
       "    <div>NinMed Medical Texts from Nineveh</div>\n",
       "</div>\n",
       "\n",
       "<div class=\"fmetarow\">\n",
       "    <div class=\"fmetakey\">project:</div>\n",
       "    <div>BabMed</div>\n",
       "</div>\n",
       "\n",
       "<div class=\"fmetarow\">\n",
       "    <div class=\"fmetakey\">writtenBy:</div>\n",
       "    <div>Text-Fabric</div>\n",
       "</div>\n",
       "\n",
       "        </div>\n",
       "    </details>\n",
       "</div>\n",
       "\n",
       "<div class=\"frow\">\n",
       "    <div class=\"fnamecat \">\n",
       "<a target=\"_blank\" href=\"https://github.com/Nino-cunei/ninmed/blob/master/docs/transcription.md\" title=\"~/text-fabric-data/Nino-cunei/ninmed/tf/0.3/variant.tf\">variant</a>\n",
       "</div>\n",
       "<div class=\"fmono\">int</div>\n",
       "<details>\n",
       "    <summary>if sign is part of a variant pair, this is the sequence number of the variant (1 or 2)</summary>\n",
       "    <div class=\"fmeta\">\n",
       "\n",
       "<div class=\"fmetarow\">\n",
       "    <div class=\"fmetakey\">converters:</div>\n",
       "    <div>Cale Johnson, Dirk Roorda</div>\n",
       "</div>\n",
       "\n",
       "<div class=\"fmetarow\">\n",
       "    <div class=\"fmetakey\">dateWritten:</div>\n",
       "    <div>2022-02-10T09:59:20Z</div>\n",
       "</div>\n",
       "\n",
       "<div class=\"fmetarow\">\n",
       "    <div class=\"fmetakey\">editor:</div>\n",
       "    <div>Cale Johnson et al.</div>\n",
       "</div>\n",
       "\n",
       "<div class=\"fmetarow\">\n",
       "    <div class=\"fmetakey\">name:</div>\n",
       "    <div>NinMed Medical Texts from Nineveh</div>\n",
       "</div>\n",
       "\n",
       "<div class=\"fmetarow\">\n",
       "    <div class=\"fmetakey\">project:</div>\n",
       "    <div>BabMed</div>\n",
       "</div>\n",
       "\n",
       "<div class=\"fmetarow\">\n",
       "    <div class=\"fmetakey\">writtenBy:</div>\n",
       "    <div>Text-Fabric</div>\n",
       "</div>\n",
       "\n",
       "        </div>\n",
       "    </details>\n",
       "</div>\n",
       "\n",
       "<div class=\"frow\">\n",
       "    <div class=\"fnamecat edge\">\n",
       "<a target=\"_blank\" href=\"https://github.com/Nino-cunei/ninmed/blob/master/docs/transcription.md\" title=\"~/text-fabric-data/Nino-cunei/ninmed/tf/0.3/oslots.tf\">oslots</a>\n",
       "</div>\n",
       "<div class=\"fmono\">none</div>\n",
       "<details>\n",
       "    <summary></summary>\n",
       "    <div class=\"fmeta\">\n",
       "\n",
       "<div class=\"fmetarow\">\n",
       "    <div class=\"fmetakey\">converters:</div>\n",
       "    <div>Cale Johnson, Dirk Roorda</div>\n",
       "</div>\n",
       "\n",
       "<div class=\"fmetarow\">\n",
       "    <div class=\"fmetakey\">dateWritten:</div>\n",
       "    <div>2022-02-10T09:59:20Z</div>\n",
       "</div>\n",
       "\n",
       "<div class=\"fmetarow\">\n",
       "    <div class=\"fmetakey\">editor:</div>\n",
       "    <div>Cale Johnson et al.</div>\n",
       "</div>\n",
       "\n",
       "<div class=\"fmetarow\">\n",
       "    <div class=\"fmetakey\">name:</div>\n",
       "    <div>NinMed Medical Texts from Nineveh</div>\n",
       "</div>\n",
       "\n",
       "<div class=\"fmetarow\">\n",
       "    <div class=\"fmetakey\">project:</div>\n",
       "    <div>BabMed</div>\n",
       "</div>\n",
       "\n",
       "<div class=\"fmetarow\">\n",
       "    <div class=\"fmetakey\">writtenBy:</div>\n",
       "    <div>Text-Fabric</div>\n",
       "</div>\n",
       "\n",
       "        </div>\n",
       "    </details>\n",
       "</div>\n",
       "\n",
       "    </div>\n",
       "</details>\n"
      ],
      "text/plain": [
       "<IPython.core.display.HTML object>"
      ]
     },
     "metadata": {},
     "output_type": "display_data"
    },
    {
     "data": {
      "text/html": [
       "<style>tr.tf.ltr, td.tf.ltr, th.tf.ltr { text-align: left ! important;}\n",
       "tr.tf.rtl, td.tf.rtl, th.tf.rtl { text-align: right ! important;}\n",
       "@font-face {\n",
       "  font-family: \"Gentium Plus\";\n",
       "  src: local('Gentium Plus'), local('GentiumPlus'),\n",
       "    url('/server/static/fonts/GentiumPlus-R.woff') format('woff'),\n",
       "    url('https://github.com/annotation/text-fabric/blob/master/tf/server/static/fonts/GentiumPlus-R.woff?raw=true') format('woff');\n",
       "}\n",
       "\n",
       "@font-face {\n",
       "  font-family: \"Ezra SIL\";\n",
       "  src: local('Ezra SIL'), local('EzraSIL'),\n",
       "    url('/server/static/fonts/SILEOT.woff') format('woff'),\n",
       "    url('https://github.com/annotation/text-fabric/blob/master/tf/server/static/fonts/SILEOT.woff?raw=true') format('woff');\n",
       "}\n",
       "\n",
       "@font-face {\n",
       "  font-family: \"SBL Hebrew\";\n",
       "  src: local('SBL Hebrew'), local('SBLHebrew'),\n",
       "    url('/server/static/fonts/SBL_Hbrw.woff') format('woff'),\n",
       "    url('https://github.com/annotation/text-fabric/blob/master/tf/server/static/fonts/SBL_Hbrw.woff?raw=true') format('woff');\n",
       "}\n",
       "\n",
       "@font-face {\n",
       "  font-family: \"Estrangelo Edessa\";\n",
       "  src: local('Estrangelo Edessa'), local('EstrangeloEdessa');\n",
       "    url('/server/static/fonts/SyrCOMEdessa.woff') format('woff'),\n",
       "    url('https://github.com/annotation/text-fabric/blob/master/tf/server/static/fonts/SyrCOMEdessa.woff?raw=true') format('woff');\n",
       "}\n",
       "\n",
       "@font-face {\n",
       "  font-family: AmiriQuran;\n",
       "  font-style: normal;\n",
       "  font-weight: 400;\n",
       "  src: local('Amiri Quran'), local('AmiriQuran'),\n",
       "    url('/server/static/fonts/AmiriQuran.woff') format('woff'),\n",
       "    url('https://github.com/annotation/text-fabric/blob/master/tf/server/static/fonts/AmiriQuran.woff?raw=true') format('woff');\n",
       "}\n",
       "\n",
       "@font-face {\n",
       "  font-family: AmiriQuranColored;\n",
       "  font-style: normal;\n",
       "  font-weight: 400;\n",
       "  src: local('Amiri Quran Colored'), local('AmiriQuranColored'),\n",
       "    url('/server/static/fonts/AmiriQuranColored.woff') format('woff'),\n",
       "    url('https://github.com/annotation/text-fabric/blob/master/tf/server/static/fonts/AmiriQuranColored.woff?raw=true') format('woff');\n",
       "}\n",
       "\n",
       "@font-face {\n",
       "  font-family: \"Santakku\";\n",
       "  src: local('Santakku'),\n",
       "    url('/server/static/fonts/Santakku.woff') format('woff'),\n",
       "    url('https://github.com/annotation/text-fabric/blob/master/tf/server/static/fonts/Santakku.woff?raw=true') format('woff');\n",
       "}\n",
       "\n",
       "@font-face {\n",
       "  font-family: \"SantakkuM\";\n",
       "  src: local('SantakkuM'),\n",
       "    url('/server/static/fonts/SantakkuM.woff') format('woff'),\n",
       "    url('https://github.com/annotation/text-fabric/blob/master/tf/server/static/fonts/SantakkuM.woff?raw=true') format('woff');\n",
       "}\n",
       "/* bypassing some classical notebook settings */\n",
       "div#notebook {\n",
       "  line-height: unset;\n",
       "}\n",
       "/* neutral text */\n",
       ".txtn,.txtn a:visited,.txtn a:link {\n",
       "    font-family: sans-serif;\n",
       "    font-size: medium;\n",
       "    direction: ltr;\n",
       "    unicode-bidi: embed;\n",
       "    text-decoration: none;\n",
       "    color: var(--text-color);\n",
       "}\n",
       "/* transcription text */\n",
       ".txtt,.txtt a:visited,.txtt a:link {\n",
       "    font-family: monospace;\n",
       "    font-size: medium;\n",
       "    direction: ltr;\n",
       "    unicode-bidi: embed;\n",
       "    text-decoration: none;\n",
       "    color: var(--text-color);\n",
       "}\n",
       "/* source text */\n",
       ".txto,.txto a:visited,.txto a:link {\n",
       "    font-family: serif;\n",
       "    font-size: medium;\n",
       "    direction: ltr;\n",
       "    unicode-bidi: embed;\n",
       "    text-decoration: none;\n",
       "    color: var(--text-color);\n",
       "}\n",
       "/* phonetic text */\n",
       ".txtp,.txtp a:visited,.txtp a:link {\n",
       "    font-family: Gentium, sans-serif;\n",
       "    font-size: medium;\n",
       "    direction: ltr;\n",
       "    unicode-bidi: embed;\n",
       "    text-decoration: none;\n",
       "    color: var(--text-color);\n",
       "}\n",
       "/* original script text */\n",
       ".txtu,.txtu a:visited,.txtu a:link {\n",
       "    font-family: Gentium, sans-serif;\n",
       "    font-size: medium;\n",
       "    text-decoration: none;\n",
       "    color: var(--text-color);\n",
       "}\n",
       "/* hebrew */\n",
       ".txtu.hbo,.lex.hbo {\n",
       "    font-family: \"Ezra SIL\", \"SBL Hebrew\", sans-serif;\n",
       "    font-size: large;\n",
       "    direction: rtl ! important;\n",
       "    unicode-bidi: embed;\n",
       "}\n",
       "/* syriac */\n",
       ".txtu.syc,.lex.syc {\n",
       "    font-family: \"Estrangelo Edessa\", sans-serif;\n",
       "    font-size: medium;\n",
       "    direction: rtl ! important;\n",
       "    unicode-bidi: embed;\n",
       "}\n",
       "/* neo aramaic */\n",
       ".txtu.cld,.lex.cld {\n",
       "    font-family: \"CharisSIL-R\", sans-serif;\n",
       "    font-size: medium;\n",
       "    direction: ltr ! important;\n",
       "    unicode-bidi: embed;\n",
       "}\n",
       "/* standard arabic */\n",
       ".txtu.ara,.lex.ara {\n",
       "    font-family: \"AmiriQuran\", sans-serif;\n",
       "    font-size: large;\n",
       "    direction: rtl ! important;\n",
       "    unicode-bidi: embed;\n",
       "}\n",
       "/* cuneiform */\n",
       ".txtu.akk,.lex.akk {\n",
       "    font-family: Santakku, sans-serif;\n",
       "    font-size: large;\n",
       "    direction: ltr ! important;\n",
       "    unicode-bidi: embed;\n",
       "}\n",
       "/* greek */\n",
       ".txtu.grc,.lex.grc a:link {\n",
       "    font-family: Gentium, sans-serif;\n",
       "    font-size: medium;\n",
       "    direction: ltr ! important;\n",
       "    unicode-bidi: embed;\n",
       "}\n",
       "a:hover {\n",
       "    text-decoration: underline | important;\n",
       "    color: #0000ff | important;\n",
       "}\n",
       ".ltr {\n",
       "    direction: ltr ! important;\n",
       "    unicode-bidi: embed;\n",
       "}\n",
       ".rtl {\n",
       "    direction: rtl ! important;\n",
       "    unicode-bidi: embed;\n",
       "}\n",
       ".ubd {\n",
       "    unicode-bidi: embed;\n",
       "}\n",
       ".col {\n",
       "   display: inline-block;\n",
       "}\n",
       ".features {\n",
       "    font-family: monospace;\n",
       "    font-size: medium;\n",
       "    font-weight: bold;\n",
       "    color: var(--features);\n",
       "    display: flex;\n",
       "    flex-flow: column nowrap;\n",
       "    justify-content: flex-start;\n",
       "    align-items: flex-start;\n",
       "    align-content: flex-start;\n",
       "    padding: 2px;\n",
       "    margin: 2px;\n",
       "    direction: ltr;\n",
       "    unicode-bidi: embed;\n",
       "    border: var(--meta-width) solid var(--meta-color);\n",
       "    border-radius: var(--meta-width);\n",
       "}\n",
       ".features div,.features span {\n",
       "    padding: 0;\n",
       "    margin: -2px 0;\n",
       "}\n",
       ".features .f {\n",
       "    font-family: sans-serif;\n",
       "    font-size: small;\n",
       "    font-weight: normal;\n",
       "    color: #5555bb;\n",
       "}\n",
       ".features .xft {\n",
       "  color: #000000;\n",
       "  background-color: #eeeeee;\n",
       "  font-size: medium;\n",
       "  margin: 2px 0px;\n",
       "}\n",
       ".features .xft .f {\n",
       "  color: #000000;\n",
       "  background-color: #eeeeee;\n",
       "  font-size: small;\n",
       "  font-weight: normal;\n",
       "}\n",
       ".tfsechead {\n",
       "    font-family: sans-serif;\n",
       "    font-size: small;\n",
       "    font-weight: bold;\n",
       "    color: var(--tfsechead);\n",
       "    unicode-bidi: embed;\n",
       "    text-align: start;\n",
       "}\n",
       ".structure {\n",
       "    font-family: sans-serif;\n",
       "    font-size: small;\n",
       "    font-weight: bold;\n",
       "    color: var(--structure);\n",
       "    unicode-bidi: embed;\n",
       "    text-align: start;\n",
       "}\n",
       ".comments {\n",
       "    display: flex;\n",
       "    justify-content: flex-start;\n",
       "    align-items: flex-start;\n",
       "    align-content: flex-start;\n",
       "    flex-flow: column nowrap;\n",
       "}\n",
       ".nd, a:link.nd {\n",
       "    font-family: sans-serif;\n",
       "    font-size: small;\n",
       "    color: var(--node);\n",
       "    vertical-align: super;\n",
       "    direction: ltr ! important;\n",
       "    unicode-bidi: embed;\n",
       "}\n",
       ".lex {\n",
       "  color: var(--lex-color);;\n",
       "}\n",
       ".children,.children.ltr {\n",
       "    display: flex;\n",
       "    border: 0;\n",
       "    background-color: #ffffff;\n",
       "    justify-content: flex-start;\n",
       "    align-items: flex-start;\n",
       "    align-content: flex-start;\n",
       "}\n",
       ".children.stretch {\n",
       "    align-items: stretch;\n",
       "}\n",
       ".children.hor {\n",
       "    flex-flow: row nowrap;\n",
       "}\n",
       ".children.hor.wrap {\n",
       "    flex-flow: row wrap;\n",
       "}\n",
       ".children.ver {\n",
       "    flex-flow: column nowrap;\n",
       "}\n",
       ".children.ver.wrap {\n",
       "    flex-flow: column wrap;\n",
       "}\n",
       ".contnr {\n",
       "    width: fit-content;\n",
       "    display: flex;\n",
       "    justify-content: flex-start;\n",
       "    align-items: flex-start;\n",
       "    align-content: flex-start;\n",
       "    flex-flow: column nowrap;\n",
       "    background: #ffffff none repeat scroll 0 0;\n",
       "    padding:  10px 2px 2px 2px;\n",
       "    margin: 16px 2px 2px 2px;\n",
       "    border-style: solid;\n",
       "    font-size: small;\n",
       "}\n",
       ".contnr.trm {\n",
       "    background-attachment: local;\n",
       "}\n",
       ".contnr.cnul {\n",
       "    padding:  0;\n",
       "    margin: 0;\n",
       "    border-style: solid;\n",
       "    font-size: xx-small;\n",
       "}\n",
       ".contnr.cnul,.lbl.cnul {\n",
       "    border-color: var(--border-color-nul);\n",
       "    border-width: var(--border-width-nul);\n",
       "    border-radius: var(--border-width-nul);\n",
       "}\n",
       ".contnr.c0,.lbl.c0 {\n",
       "    border-color: var(--border-color0);\n",
       "    border-width: var(--border-width0);\n",
       "    border-radius: var(--border-width0);\n",
       "}\n",
       ".contnr.c1,.lbl.c1 {\n",
       "    border-color: var(--border-color1);\n",
       "    border-width: var(--border-width1);\n",
       "    border-radius: var(--border-width1);\n",
       "}\n",
       ".contnr.c2,.lbl.c2 {\n",
       "    border-color: var(--border-color2);\n",
       "    border-width: var(--border-width2);\n",
       "    border-radius: var(--border-width2);\n",
       "}\n",
       ".contnr.c3,.lbl.c3 {\n",
       "    border-color: var(--border-color3);\n",
       "    border-width: var(--border-width3);\n",
       "    border-radius: var(--border-width3);\n",
       "}\n",
       ".contnr.c4,.lbl.c4 {\n",
       "    border-color: var(--border-color4);\n",
       "    border-width: var(--border-width4);\n",
       "    border-radius: var(--border-width4);\n",
       "}\n",
       "span.plain {\n",
       "    display: inline-block;\n",
       "    white-space: pre-wrap;\n",
       "}\n",
       ".plain {\n",
       "    background-color: #ffffff;\n",
       "}\n",
       ".plain.l,.contnr.l,.contnr.l>.lbl {\n",
       "    border-left-style: dotted\n",
       "}\n",
       ".plain.r,.contnr.r,.contnr.r>.lbl {\n",
       "    border-right-style: dotted\n",
       "}\n",
       ".plain.lno,.contnr.lno,.contnr.lno>.lbl {\n",
       "    border-left-style: none\n",
       "}\n",
       ".plain.rno,.contnr.rno,.contnr.rno>.lbl {\n",
       "    border-right-style: none\n",
       "}\n",
       ".plain.l {\n",
       "    padding-left: 4px;\n",
       "    margin-left: 2px;\n",
       "    border-width: var(--border-width-plain);\n",
       "}\n",
       ".plain.r {\n",
       "    padding-right: 4px;\n",
       "    margin-right: 2px;\n",
       "    border-width: var(--border-width-plain);\n",
       "}\n",
       ".lbl {\n",
       "    font-family: monospace;\n",
       "    margin-top: -24px;\n",
       "    margin-left: 20px;\n",
       "    background: #ffffff none repeat scroll 0 0;\n",
       "    padding: 0 6px;\n",
       "    border-style: solid;\n",
       "    display: block;\n",
       "    color: var(--label)\n",
       "}\n",
       ".lbl.trm {\n",
       "    background-attachment: local;\n",
       "    margin-top: 2px;\n",
       "    margin-left: 2px;\n",
       "    padding: 2px 2px;\n",
       "    border-style: none;\n",
       "}\n",
       ".lbl.cnul {\n",
       "    font-size: xx-small;\n",
       "}\n",
       ".lbl.c0 {\n",
       "    font-size: small;\n",
       "}\n",
       ".lbl.c1 {\n",
       "    font-size: small;\n",
       "}\n",
       ".lbl.c2 {\n",
       "    font-size: medium;\n",
       "}\n",
       ".lbl.c3 {\n",
       "    font-size: medium;\n",
       "}\n",
       ".lbl.c4 {\n",
       "    font-size: large;\n",
       "}\n",
       ".occs, a:link.occs {\n",
       "    font-size: small;\n",
       "}\n",
       "\n",
       "/* PROVENANCE */\n",
       "\n",
       "div.prov {\n",
       "\tmargin: 40px;\n",
       "\tpadding: 20px;\n",
       "\tborder: 2px solid var(--fog-rim);\n",
       "}\n",
       "div.pline {\n",
       "\tdisplay: flex;\n",
       "\tflex-flow: row nowrap;\n",
       "\tjustify-content: stretch;\n",
       "\talign-items: baseline;\n",
       "}\n",
       "div.p2line {\n",
       "\tmargin-left: 2em;\n",
       "\tdisplay: flex;\n",
       "\tflex-flow: row nowrap;\n",
       "\tjustify-content: stretch;\n",
       "\talign-items: baseline;\n",
       "}\n",
       "div.psline {\n",
       "\tdisplay: flex;\n",
       "\tflex-flow: row nowrap;\n",
       "\tjustify-content: stretch;\n",
       "\talign-items: baseline;\n",
       "\tbackground-color: var(--gold-mist-back);\n",
       "}\n",
       "div.pname {\n",
       "\tflex: 0 0 5rem;\n",
       "\tfont-weight: bold;\n",
       "}\n",
       "div.pval {\n",
       "    flex: 1 1 auto;\n",
       "}\n",
       "\n",
       "/* KEYBOARD */\n",
       ".ccoff {\n",
       "  background-color: inherit;\n",
       "}\n",
       ".ccon {\n",
       "  background-color: yellow ! important;\n",
       "}\n",
       "/* TF header */\n",
       "\n",
       "summary {\n",
       "  /* needed to override the normalize.less\n",
       "   * in the classical jupyter notebook\n",
       "   */\n",
       "  display: list-item ! important;\n",
       "}\n",
       "\n",
       ".fcorpus {\n",
       "  display: flex;\n",
       "  flex-flow: column nowrap;\n",
       "  justify-content: flex-start;\n",
       "  align-items: flex-start;\n",
       "  align-content: flex-start;\n",
       "}\n",
       ".frow {\n",
       "  display: flex;\n",
       "  flex-flow: row nowrap;\n",
       "  justify-content: flex-start;\n",
       "  align-items: flex-start;\n",
       "  align-content: flex-start;\n",
       "}\n",
       ".fmeta {\n",
       "  display: flex;\n",
       "  flex-flow: column nowrap;\n",
       "  justify-content: flex-start;\n",
       "  align-items: flex-start;\n",
       "  align-content: flex-start;\n",
       "}\n",
       ".fmetarow {\n",
       "  display: flex;\n",
       "  flex-flow: row nowrap;\n",
       "  justify-content: flex-start;\n",
       "  align-items: flex-start;\n",
       "  align-content: flex-start;\n",
       "}\n",
       ".fmetakey {\n",
       "  min-width: 10rem;\n",
       "  font-family: monospace;\n",
       "}\n",
       ".fnamecat {\n",
       "  min-width: 10rem;\n",
       "}\n",
       ".fnamecat.edge {\n",
       "  font-weight: bold;\n",
       "  font-style: italic;\n",
       "}\n",
       ".fmono {\n",
       "    font-family: monospace;\n",
       "}\n",
       "\n",
       ":root {\n",
       "\t--node:               hsla(120, 100%,  20%, 1.0  );\n",
       "\t--label:              hsla(  0, 100%,  20%, 1.0  );\n",
       "\t--tfsechead:          hsla(  0, 100%,  25%, 1.0  );\n",
       "\t--structure:          hsla(120, 100%,  25%, 1.0  );\n",
       "\t--features:           hsla(  0,   0%,  30%, 1.0  );\n",
       "  --text-color:         hsla( 60,  80%,  10%, 1.0  );\n",
       "  --lex-color:          hsla(220,  90%,  60%, 1.0  );\n",
       "  --meta-color:         hsla(  0,   0%,  90%, 0.7  );\n",
       "  --meta-width:         3px;\n",
       "  --border-color-nul:   hsla(  0,   0%,  90%, 0.5  );\n",
       "  --border-color0:      hsla(  0,   0%,  90%, 0.9  );\n",
       "  --border-color1:      hsla(  0,   0%,  80%, 0.9  );\n",
       "  --border-color2:      hsla(  0,   0%,  70%, 0.9  );\n",
       "  --border-color3:      hsla(  0,   0%,  80%, 0.8  );\n",
       "  --border-color4:      hsla(  0,   0%,  60%, 0.9  );\n",
       "  --border-width-nul:   2px;\n",
       "  --border-width0:      2px;\n",
       "  --border-width1:      3px;\n",
       "  --border-width2:      4px;\n",
       "  --border-width3:      6px;\n",
       "  --border-width4:      5px;\n",
       "  --border-width-plain: 2px;\n",
       "}\n",
       ".hl {\n",
       "  background-color: var(--hl-strong);\n",
       "}\n",
       "span.hl {\n",
       "\tbackground-color: var(--hl-strong);\n",
       "\tborder-width: 0;\n",
       "\tborder-radius: 2px;\n",
       "\tborder-style: solid;\n",
       "}\n",
       "div.contnr.hl,div.lbl.hl {\n",
       "  background-color: var(--hl-strong);\n",
       "}\n",
       "div.contnr.hl {\n",
       "  border-color: var(--hl-rim) ! important;\n",
       "\tborder-width: 4px ! important;\n",
       "}\n",
       "\n",
       "span.hlbx {\n",
       "\tborder-color: var(--hl-rim);\n",
       "\tborder-width: 4px ! important;\n",
       "\tborder-style: solid;\n",
       "\tborder-radius: 6px;\n",
       "  padding: 4px;\n",
       "  margin: 4px;\n",
       "}\n",
       "\n",
       "span.plain {\n",
       "  display: inline-block;\n",
       "  white-space: pre-wrap;\n",
       "}\n",
       "\n",
       ":root {\n",
       "\t--hl-strong:        hsla( 60, 100%,  70%, 0.9  );\n",
       "\t--hl-rim:           hsla( 55,  80%,  50%, 1.0  );\n",
       "}\n",
       ".pnum {\n",
       "    font-family: sans-serif;\n",
       "    font-size: small;\n",
       "    font-weight: bold;\n",
       "    color: #444444;\n",
       "}\n",
       ".period {\n",
       "    font-family: monospace;\n",
       "    font-size: medium;\n",
       "    font-weight: bold;\n",
       "    color: #0000bb;\n",
       "}\n",
       "/* LANGUAGE: superscript and subscript */\n",
       "\n",
       "/* cluster */\n",
       ".det {\n",
       "    vertical-align: super;\n",
       "}\n",
       "/* cluster */\n",
       ".lang {\n",
       "    vertical-align: sub;\n",
       "}\n",
       "/* REDACTIONAL: line over or under  */\n",
       "\n",
       "/* flag */\n",
       ".collated {\n",
       "    font-weight: bold;\n",
       "    text-decoration: underline;\n",
       "}\n",
       "/* cluster */\n",
       ".excised {\n",
       "    color: #dd0000;\n",
       "    text-decoration: line-through;\n",
       "}\n",
       "/* cluster */\n",
       ".supplied {\n",
       "    color: #0000ff;\n",
       "    text-decoration: overline;\n",
       "}\n",
       "/* flag */\n",
       ".remarkable {\n",
       "    font-weight: bold;\n",
       "    text-decoration: overline;\n",
       "}\n",
       "\n",
       "/* UNSURE: italic*/\n",
       "\n",
       "/* cluster */\n",
       ".uncertain {\n",
       "    font-style: italic\n",
       "}\n",
       "/* flag */\n",
       ".question {\n",
       "    font-weight: bold;\n",
       "    font-style: italic\n",
       "}\n",
       "\n",
       "/* BROKEN: text-shadow */\n",
       "\n",
       "/* cluster */\n",
       ".missing {\n",
       "    color: #999999;\n",
       "    text-shadow: #bbbbbb 1px 1px;\n",
       "}\n",
       "/* flag */\n",
       ".damage {\n",
       "    font-weight: bold;\n",
       "    color: #999999;\n",
       "    text-shadow: #bbbbbb 1px 1px;\n",
       "}\n",
       ".empty {\n",
       "  color: #ff0000;\n",
       "}\n",
       "\n",
       "</style>"
      ],
      "text/plain": [
       "<IPython.core.display.HTML object>"
      ]
     },
     "metadata": {},
     "output_type": "display_data"
    },
    {
     "data": {
      "text/html": [
       "\n",
       "<script>\n",
       "const copyChar = (el, c) => {\n",
       "    for (const el of document.getElementsByClassName('ccon')) {\n",
       "        el.className = 'ccoff'\n",
       "    }\n",
       "    el.className = 'ccon'\n",
       "    navigator.clipboard.writeText(String.fromCharCode(c))\n",
       "}\n",
       "</script>\n"
      ],
      "text/plain": [
       "<IPython.core.display.HTML object>"
      ]
     },
     "metadata": {},
     "output_type": "display_data"
    },
    {
     "data": {
      "text/html": [
       "<div><b>Text-Fabric API:</b> names <a target=\"_blank\" href=\"https://annotation.github.io/text-fabric/tf/cheatsheet.html\" title=\"doc\">N F E L T S C TF</a> directly usable</div><hr>"
      ],
      "text/plain": [
       "<IPython.core.display.HTML object>"
      ]
     },
     "metadata": {},
     "output_type": "display_data"
    }
   ],
   "source": [
    "# A = use(\"Nino-cunei/ninmed:clone\", checkout=\"clone\", hoist=globals())\n",
    "A = use(\"Nino-cunei/ninmed\", hoist=globals())"
   ]
  },
  {
   "cell_type": "markdown",
   "metadata": {
    "tags": []
   },
   "source": [
    "# Basic search command\n",
    "\n",
    "We start with the most simple form of issuing a query.\n",
    "Let's look for the numerals with a repeat greater than 3.\n",
    "We also want to show the words in which they occur.\n",
    "\n",
    "All work involved in searching takes place under the hood."
   ]
  },
  {
   "cell_type": "markdown",
   "metadata": {},
   "source": [
    "Let's look for words that contain the sign `UD`"
   ]
  },
  {
   "cell_type": "code",
   "execution_count": 7,
   "metadata": {
    "ExecuteTime": {
     "end_time": "2018-05-24T07:46:55.998382Z",
     "start_time": "2018-05-24T07:46:55.137956Z"
    }
   },
   "outputs": [
    {
     "name": "stdout",
     "output_type": "stream",
     "text": [
      "  0.05s 162 results\n"
     ]
    },
    {
     "data": {
      "text/html": [
       "<table><tr class=\"tf ltr\"><th class=\"tf ltr\">n</th><th class=\"tf ltr\">p</th><th class=\"tf ltr\">word</th><th class=\"tf\">sign</th></tr>\n",
       "<tr class=\"tf ltr\"><td class=\"tf ltr\">1</td><td class=\"tf ltr\"><span class=\"tfsechead ltr\"><span class=\"ltr\"><a target=\"_blank\" href=\"https://cdli.ucla.edu/search/search_results.php?SearchMode=Text&amp;ObjectID=P285109\" title=\"Show this document on CDLI\" sec=\"P285109 obverse:1:6'\">P285109 obverse:1:6'</a></span></span></td><td class=\"tf ltr\"><span class=\" ubd\"><span class=\"plain   hlbx\" ><span class=\"plain   hl\" ><span class=\"txtt\">UD.</span></span><span class=\"txtt\">3.</span><span class=\"txtt\">[KAM₂ </span></span></span></td><td class=\"tf ltr\"><span class=\" ubd\"><span class=\"plain   hl\" ><span class=\"txtt\">UD.</span></span></span></td></tr>\n",
       "<tr class=\"tf ltr\"><td class=\"tf ltr\">2</td><td class=\"tf ltr\"><span class=\"tfsechead ltr\"><span class=\"ltr\"><a target=\"_blank\" href=\"https://cdli.ucla.edu/search/search_results.php?SearchMode=Text&amp;ObjectID=P285109\" title=\"Show this document on CDLI\" sec=\"P285109 obverse:1:12'\">P285109 obverse:1:12'</a></span></span></td><td class=\"tf ltr\"><span class=\" ubd\"><span class=\"plain   hlbx\" ><span class=\"plain   hl\" ><span class=\"txtt\">UD.</span></span><span class=\"txtt\">3.</span><span class=\"txtt\">[KAM₂ </span></span></span></td><td class=\"tf ltr\"><span class=\" ubd\"><span class=\"plain   hl\" ><span class=\"txtt\">UD.</span></span></span></td></tr>\n",
       "<tr class=\"tf ltr\"><td class=\"tf ltr\">3</td><td class=\"tf ltr\"><span class=\"tfsechead ltr\"><span class=\"ltr\"><a target=\"_blank\" href=\"https://cdli.ucla.edu/search/search_results.php?SearchMode=Text&amp;ObjectID=P399223\" title=\"Show this document on CDLI\" sec=\"P399223 obverse:2:2\">P399223 obverse:2:2</a></span></span></td><td class=\"tf ltr\"><span class=\" ubd\"><span class=\"plain   hlbx\" ><span class=\"plain   hl\" ><span class=\"txtt\">UD#.</span></span><span class=\"txtt\">DA# </span></span></span></td><td class=\"tf ltr\"><span class=\" ubd\"><span class=\"plain   hl\" ><span class=\"txtt\">UD#.</span></span></span></td></tr>\n",
       "<tr class=\"tf ltr\"><td class=\"tf ltr\">4</td><td class=\"tf ltr\"><span class=\"tfsechead ltr\"><span class=\"ltr\"><a target=\"_blank\" href=\"https://cdli.ucla.edu/search/search_results.php?SearchMode=Text&amp;ObjectID=P394104\" title=\"Show this document on CDLI\" sec=\"P394104 obverse:1:1\">P394104 obverse:1:1</a></span></span></td><td class=\"tf ltr\"><span class=\" ubd\"><span class=\"plain   hlbx\" ><span class=\"plain   hl\" ><span class=\"txtt\">UD.</span></span><span class=\"txtt\">3.</span><span class=\"txtt\">KAM₂ </span></span></span></td><td class=\"tf ltr\"><span class=\" ubd\"><span class=\"plain   hl\" ><span class=\"txtt\">UD.</span></span></span></td></tr>\n",
       "<tr class=\"tf ltr\"><td class=\"tf ltr\">5</td><td class=\"tf ltr\"><span class=\"tfsechead ltr\"><span class=\"ltr\"><a target=\"_blank\" href=\"https://cdli.ucla.edu/search/search_results.php?SearchMode=Text&amp;ObjectID=P394104\" title=\"Show this document on CDLI\" sec=\"P394104 obverse:1:2\">P394104 obverse:1:2</a></span></span></td><td class=\"tf ltr\"><span class=\" ubd\"><span class=\"plain   hlbx\" ><span class=\"plain   hl\" ><span class=\"txtt\">UD#-</span></span><span class=\"txtt\">me# </span></span></span></td><td class=\"tf ltr\"><span class=\" ubd\"><span class=\"plain   hl\" ><span class=\"txtt\">UD#-</span></span></span></td></tr></table>"
      ],
      "text/plain": [
       "<IPython.core.display.HTML object>"
      ]
     },
     "metadata": {},
     "output_type": "display_data"
    }
   ],
   "source": [
    "query = \"\"\"\n",
    "word\n",
    "  sign grapheme=UD\n",
    "\"\"\"\n",
    "results = A.search(query)\n",
    "A.table(results, end=5)"
   ]
  },
  {
   "cell_type": "markdown",
   "metadata": {},
   "source": [
    "Same question, but now for `KAM₂`. But how do we type that conveniently?\n",
    "This might help:"
   ]
  },
  {
   "cell_type": "code",
   "execution_count": 8,
   "metadata": {},
   "outputs": [
    {
     "data": {
      "text/html": [
       "<p><b>Special characters in <code>text-orig-full</code></b>\n",
       "<code class=\"ccoff\" onclick=\"copyChar(this, 352)\">Š</code>\n",
       "<code class=\"ccoff\" onclick=\"copyChar(this, 353)\">š</code>\n",
       "<code class=\"ccoff\" onclick=\"copyChar(this, 7779)\">ṣ</code>\n",
       "<code class=\"ccoff\" onclick=\"copyChar(this, 7789)\">ṭ</code>\n",
       "<code class=\"ccoff\" onclick=\"copyChar(this, 176)\">°</code>\n",
       "<code class=\"ccoff\" onclick=\"copyChar(this, 702)\">ʾ</code>\n",
       "<code class=\"ccoff\" onclick=\"copyChar(this, 8320)\">₀</code>\n",
       "<code class=\"ccoff\" onclick=\"copyChar(this, 8321)\">₁</code>\n",
       "<code class=\"ccoff\" onclick=\"copyChar(this, 8322)\">₂</code>\n",
       "<code class=\"ccoff\" onclick=\"copyChar(this, 8323)\">₃</code>\n",
       "<code class=\"ccoff\" onclick=\"copyChar(this, 8324)\">₄</code>\n",
       "<code class=\"ccoff\" onclick=\"copyChar(this, 8325)\">₅</code>\n",
       "<code class=\"ccoff\" onclick=\"copyChar(this, 8326)\">₆</code>\n",
       "<code class=\"ccoff\" onclick=\"copyChar(this, 8327)\">₇</code>\n",
       "<code class=\"ccoff\" onclick=\"copyChar(this, 8328)\">₈</code>\n",
       "<code class=\"ccoff\" onclick=\"copyChar(this, 8329)\">₉</code>\n",
       "<code class=\"ccoff\" onclick=\"copyChar(this, 8339)\">ₓ</code>\n",
       "</p>"
      ],
      "text/plain": [
       "<IPython.core.display.HTML object>"
      ]
     },
     "metadata": {},
     "output_type": "display_data"
    }
   ],
   "source": [
    "A.specialCharacters()"
   ]
  },
  {
   "cell_type": "markdown",
   "metadata": {},
   "source": [
    "If you click on one of these characters, it is copied to your clipboard."
   ]
  },
  {
   "cell_type": "code",
   "execution_count": 9,
   "metadata": {
    "ExecuteTime": {
     "end_time": "2018-05-24T07:46:55.998382Z",
     "start_time": "2018-05-24T07:46:55.137956Z"
    }
   },
   "outputs": [
    {
     "name": "stdout",
     "output_type": "stream",
     "text": [
      "  0.05s 109 results\n"
     ]
    },
    {
     "data": {
      "text/html": [
       "<table><tr class=\"tf ltr\"><th class=\"tf ltr\">n</th><th class=\"tf ltr\">p</th><th class=\"tf ltr\">word</th><th class=\"tf\">sign</th></tr>\n",
       "<tr class=\"tf ltr\"><td class=\"tf ltr\">1</td><td class=\"tf ltr\"><span class=\"tfsechead ltr\"><span class=\"ltr\"><a target=\"_blank\" href=\"https://cdli.ucla.edu/search/search_results.php?SearchMode=Text&amp;ObjectID=P285109\" title=\"Show this document on CDLI\" sec=\"P285109 obverse:1:6'\">P285109 obverse:1:6'</a></span></span></td><td class=\"tf ltr\"><span class=\" ubd\"><span class=\"plain   hlbx\" ><span class=\"txtt\">UD.</span><span class=\"txtt\">3.</span><span class=\"plain   hl\" ><span class=\"txtt\">[KAM₂ </span></span></span></span></td><td class=\"tf ltr\"><span class=\" ubd\"><span class=\"plain   hl\" ><span class=\"txtt\">[KAM₂ </span></span></span></td></tr>\n",
       "<tr class=\"tf ltr\"><td class=\"tf ltr\">2</td><td class=\"tf ltr\"><span class=\"tfsechead ltr\"><span class=\"ltr\"><a target=\"_blank\" href=\"https://cdli.ucla.edu/search/search_results.php?SearchMode=Text&amp;ObjectID=P285109\" title=\"Show this document on CDLI\" sec=\"P285109 obverse:1:12'\">P285109 obverse:1:12'</a></span></span></td><td class=\"tf ltr\"><span class=\" ubd\"><span class=\"plain   hlbx\" ><span class=\"txtt\">UD.</span><span class=\"txtt\">3.</span><span class=\"plain   hl\" ><span class=\"txtt\">[KAM₂ </span></span></span></span></td><td class=\"tf ltr\"><span class=\" ubd\"><span class=\"plain   hl\" ><span class=\"txtt\">[KAM₂ </span></span></span></td></tr>\n",
       "<tr class=\"tf ltr\"><td class=\"tf ltr\">3</td><td class=\"tf ltr\"><span class=\"tfsechead ltr\"><span class=\"ltr\"><a target=\"_blank\" href=\"https://cdli.ucla.edu/search/search_results.php?SearchMode=Text&amp;ObjectID=P394104\" title=\"Show this document on CDLI\" sec=\"P394104 obverse:1:1\">P394104 obverse:1:1</a></span></span></td><td class=\"tf ltr\"><span class=\" ubd\"><span class=\"plain   hlbx\" ><span class=\"txtt\">UD.</span><span class=\"txtt\">3.</span><span class=\"plain   hl\" ><span class=\"txtt\">KAM₂ </span></span></span></span></td><td class=\"tf ltr\"><span class=\" ubd\"><span class=\"plain   hl\" ><span class=\"txtt\">KAM₂ </span></span></span></td></tr>\n",
       "<tr class=\"tf ltr\"><td class=\"tf ltr\">4</td><td class=\"tf ltr\"><span class=\"tfsechead ltr\"><span class=\"ltr\"><a target=\"_blank\" href=\"https://cdli.ucla.edu/search/search_results.php?SearchMode=Text&amp;ObjectID=P394104\" title=\"Show this document on CDLI\" sec=\"P394104 obverse:1:6\">P394104 obverse:1:6</a></span></span></td><td class=\"tf ltr\"><span class=\" ubd\"><span class=\"plain   hlbx\" ><span class=\"txtt\">[UD.</span><span class=\"txtt\">3.</span><span class=\"plain   hl\" ><span class=\"txtt\">KAM₂ </span></span></span></span></td><td class=\"tf ltr\"><span class=\" ubd\"><span class=\"plain   hl\" ><span class=\"txtt\">KAM₂ </span></span></span></td></tr>\n",
       "<tr class=\"tf ltr\"><td class=\"tf ltr\">5</td><td class=\"tf ltr\"><span class=\"tfsechead ltr\"><span class=\"ltr\"><a target=\"_blank\" href=\"https://cdli.ucla.edu/search/search_results.php?SearchMode=Text&amp;ObjectID=P394104\" title=\"Show this document on CDLI\" sec=\"P394104 obverse:2:3\">P394104 obverse:2:3</a></span></span></td><td class=\"tf ltr\"><span class=\" ubd\"><span class=\"plain   hlbx\" ><span class=\"txtt\">UD].</span><span class=\"txtt\">3.</span><span class=\"plain   hl\" ><span class=\"txtt\">KAM₂ </span></span></span></span></td><td class=\"tf ltr\"><span class=\" ubd\"><span class=\"plain   hl\" ><span class=\"txtt\">KAM₂ </span></span></span></td></tr></table>"
      ],
      "text/plain": [
       "<IPython.core.display.HTML object>"
      ]
     },
     "metadata": {},
     "output_type": "display_data"
    }
   ],
   "source": [
    "query = \"\"\"\n",
    "word\n",
    "  sign grapheme=KAM₂\n",
    "\"\"\"\n",
    "results = A.search(query)\n",
    "A.table(results, end=5)"
   ]
  },
  {
   "cell_type": "markdown",
   "metadata": {},
   "source": [
    "We can search for more general things as well:"
   ]
  },
  {
   "cell_type": "code",
   "execution_count": 4,
   "metadata": {
    "ExecuteTime": {
     "end_time": "2018-05-24T07:46:55.998382Z",
     "start_time": "2018-05-24T07:46:55.137956Z"
    }
   },
   "outputs": [
    {
     "name": "stdout",
     "output_type": "stream",
     "text": [
      "  0.06s 962 results\n"
     ]
    }
   ],
   "source": [
    "query = \"\"\"\n",
    "word\n",
    "  sign type=numeral\n",
    "\"\"\"\n",
    "results = A.search(query)"
   ]
  },
  {
   "cell_type": "code",
   "execution_count": 5,
   "metadata": {
    "ExecuteTime": {
     "end_time": "2018-05-24T07:46:55.998382Z",
     "start_time": "2018-05-24T07:46:55.137956Z"
    }
   },
   "outputs": [
    {
     "data": {
      "text/html": [
       "<table><tr class=\"tf ltr\"><th class=\"tf ltr\">n</th><th class=\"tf ltr\">p</th><th class=\"tf ltr\">word</th><th class=\"tf\">sign</th></tr>\n",
       "<tr class=\"tf ltr\"><td class=\"tf ltr\">1</td><td class=\"tf ltr\"><span class=\"tfsechead ltr\"><span class=\"ltr\"><a target=\"_blank\" href=\"https://cdli.ucla.edu/search/search_results.php?SearchMode=Text&amp;ObjectID=P285136\" title=\"Show this document on CDLI\" sec=\"P285136 obverse:2'\">P285136 obverse:2'</a></span></span></td><td class=\"tf ltr\"><span class=\" ubd\"><span class=\"plain   hlbx\" ><span class=\"plain   hl\" ><span class=\"txtt\">5 </span></span></span></span></td><td class=\"tf ltr\"><span class=\" ubd\"><span class=\"plain   hl\" ><span class=\"txtt\">5 </span></span></span></td></tr>\n",
       "<tr class=\"tf ltr\"><td class=\"tf ltr\">2</td><td class=\"tf ltr\"><span class=\"tfsechead ltr\"><span class=\"ltr\"><a target=\"_blank\" href=\"https://cdli.ucla.edu/search/search_results.php?SearchMode=Text&amp;ObjectID=P285136\" title=\"Show this document on CDLI\" sec=\"P285136 obverse:11'\">P285136 obverse:11'</a></span></span></td><td class=\"tf ltr\"><span class=\" ubd\"><span class=\"plain   hlbx\" ><span class=\"plain   hl\" ><span class=\"txtt\">2 </span></span></span></span></td><td class=\"tf ltr\"><span class=\" ubd\"><span class=\"plain   hl\" ><span class=\"txtt\">2 </span></span></span></td></tr>\n",
       "<tr class=\"tf ltr\"><td class=\"tf ltr\">3</td><td class=\"tf ltr\"><span class=\"tfsechead ltr\"><span class=\"ltr\"><a target=\"_blank\" href=\"https://cdli.ucla.edu/search/search_results.php?SearchMode=Text&amp;ObjectID=P479250\" title=\"Show this document on CDLI\" sec=\"P479250 reverse:16\">P479250 reverse:16</a></span></span></td><td class=\"tf ltr\"><span class=\" ubd\"><span class=\"plain   hlbx\" ><span class=\"plain   hl\" ><span class=\"txtt\">7 </span></span></span></span></td><td class=\"tf ltr\"><span class=\" ubd\"><span class=\"plain   hl\" ><span class=\"txtt\">7 </span></span></span></td></tr>\n",
       "<tr class=\"tf ltr\"><td class=\"tf ltr\">4</td><td class=\"tf ltr\"><span class=\"tfsechead ltr\"><span class=\"ltr\"><a target=\"_blank\" href=\"https://cdli.ucla.edu/search/search_results.php?SearchMode=Text&amp;ObjectID=P479250\" title=\"Show this document on CDLI\" sec=\"P479250 reverse:16\">P479250 reverse:16</a></span></span></td><td class=\"tf ltr\"><span class=\" ubd\"><span class=\"plain   hlbx\" ><span class=\"plain   hl\" ><span class=\"txtt\">7-</span></span><span class=\"txtt\">šu₂ </span></span></span></td><td class=\"tf ltr\"><span class=\" ubd\"><span class=\"plain   hl\" ><span class=\"txtt\">7-</span></span></span></td></tr>\n",
       "<tr class=\"tf ltr\"><td class=\"tf ltr\">5</td><td class=\"tf ltr\"><span class=\"tfsechead ltr\"><span class=\"ltr\"><a target=\"_blank\" href=\"https://cdli.ucla.edu/search/search_results.php?SearchMode=Text&amp;ObjectID=P479250\" title=\"Show this document on CDLI\" sec=\"P479250 reverse:16\">P479250 reverse:16</a></span></span></td><td class=\"tf ltr\"><span class=\" ubd\"><span class=\"plain   hlbx\" ><span class=\"plain   hl\" ><span class=\"txtt\">7-</span></span><span class=\"txtt\">šu₂\n",
       "</span></span></span></td><td class=\"tf ltr\"><span class=\" ubd\"><span class=\"plain   hl\" ><span class=\"txtt\">7-</span></span></span></td></tr>\n",
       "<tr class=\"tf ltr\"><td class=\"tf ltr\">6</td><td class=\"tf ltr\"><span class=\"tfsechead ltr\"><span class=\"ltr\"><a target=\"_blank\" href=\"https://cdli.ucla.edu/search/search_results.php?SearchMode=Text&amp;ObjectID=P285109\" title=\"Show this document on CDLI\" sec=\"P285109 obverse:1:5'\">P285109 obverse:1:5'</a></span></span></td><td class=\"tf ltr\"><span class=\" ubd\"><span class=\"plain   hlbx\" ><span class=\"plain   hl\" ><span class=\"txtt\">1/</span></span><span class=\"txtt\">3 </span></span></span></td><td class=\"tf ltr\"><span class=\" ubd\"><span class=\"plain   hl\" ><span class=\"txtt\">1/</span></span></span></td></tr>\n",
       "<tr class=\"tf ltr\"><td class=\"tf ltr\">7</td><td class=\"tf ltr\"><span class=\"tfsechead ltr\"><span class=\"ltr\"><a target=\"_blank\" href=\"https://cdli.ucla.edu/search/search_results.php?SearchMode=Text&amp;ObjectID=P285109\" title=\"Show this document on CDLI\" sec=\"P285109 obverse:1:5'\">P285109 obverse:1:5'</a></span></span></td><td class=\"tf ltr\"><span class=\" ubd\"><span class=\"plain   hlbx\" ><span class=\"txtt\">1/</span><span class=\"plain   hl\" ><span class=\"txtt\">3 </span></span></span></span></td><td class=\"tf ltr\"><span class=\" ubd\"><span class=\"plain   hl\" ><span class=\"txtt\">3 </span></span></span></td></tr>\n",
       "<tr class=\"tf ltr\"><td class=\"tf ltr\">8</td><td class=\"tf ltr\"><span class=\"tfsechead ltr\"><span class=\"ltr\"><a target=\"_blank\" href=\"https://cdli.ucla.edu/search/search_results.php?SearchMode=Text&amp;ObjectID=P285109\" title=\"Show this document on CDLI\" sec=\"P285109 obverse:1:5'\">P285109 obverse:1:5'</a></span></span></td><td class=\"tf ltr\"><span class=\" ubd\"><span class=\"plain   hlbx\" ><span class=\"plain   hl\" ><span class=\"txtt\">10 </span></span></span></span></td><td class=\"tf ltr\"><span class=\" ubd\"><span class=\"plain   hl\" ><span class=\"txtt\">10 </span></span></span></td></tr>\n",
       "<tr class=\"tf ltr\"><td class=\"tf ltr\">9</td><td class=\"tf ltr\"><span class=\"tfsechead ltr\"><span class=\"ltr\"><a target=\"_blank\" href=\"https://cdli.ucla.edu/search/search_results.php?SearchMode=Text&amp;ObjectID=P285109\" title=\"Show this document on CDLI\" sec=\"P285109 obverse:1:6'\">P285109 obverse:1:6'</a></span></span></td><td class=\"tf ltr\"><span class=\" ubd\"><span class=\"plain   hlbx\" ><span class=\"txtt\">UD.</span><span class=\"plain   hl\" ><span class=\"txtt\">3.</span></span><span class=\"txtt\">[KAM₂ </span></span></span></td><td class=\"tf ltr\"><span class=\" ubd\"><span class=\"plain   hl\" ><span class=\"txtt\">3.</span></span></span></td></tr>\n",
       "<tr class=\"tf ltr\"><td class=\"tf ltr\">10</td><td class=\"tf ltr\"><span class=\"tfsechead ltr\"><span class=\"ltr\"><a target=\"_blank\" href=\"https://cdli.ucla.edu/search/search_results.php?SearchMode=Text&amp;ObjectID=P285109\" title=\"Show this document on CDLI\" sec=\"P285109 obverse:1:7'\">P285109 obverse:1:7'</a></span></span></td><td class=\"tf ltr\"><span class=\" ubd\"><span class=\"plain   hlbx\" ><span class=\"plain   hl\" ><span class=\"txtt\">10 </span></span></span></span></td><td class=\"tf ltr\"><span class=\" ubd\"><span class=\"plain   hl\" ><span class=\"txtt\">10 </span></span></span></td></tr></table>"
      ],
      "text/plain": [
       "<IPython.core.display.HTML object>"
      ]
     },
     "metadata": {},
     "output_type": "display_data"
    }
   ],
   "source": [
    "A.table(results, end=10)"
   ]
  },
  {
   "cell_type": "markdown",
   "metadata": {},
   "source": [
    "The hyperlinks take us all to the CDLI archival page of the document (tablet) in question.\n",
    "\n",
    "Note that we can choose start and/or end points in the results list."
   ]
  },
  {
   "cell_type": "code",
   "execution_count": 6,
   "metadata": {
    "ExecuteTime": {
     "end_time": "2018-05-24T07:47:03.299872Z",
     "start_time": "2018-05-24T07:47:03.261873Z"
    }
   },
   "outputs": [
    {
     "data": {
      "text/html": [
       "<table><tr class=\"tf ltr\"><th class=\"tf ltr\">n</th><th class=\"tf ltr\">p</th><th class=\"tf ltr\">word</th><th class=\"tf\">sign</th></tr>\n",
       "<tr class=\"tf ltr\"><td class=\"tf ltr\">500</td><td class=\"tf ltr\"><span class=\"tfsechead ltr\"><span class=\"ltr\"><a target=\"_blank\" href=\"https://cdli.ucla.edu/search/search_results.php?SearchMode=Text&amp;ObjectID=P394520\" title=\"Show this document on CDLI\" sec=\"P394520 reverse:2:1\">P394520 reverse:2:1</a></span></span></td><td class=\"tf ltr\"><span class=\" ubd\"><span class=\"plain   hlbx\" ><span class=\"plain   hl\" ><span class=\"txtt\">1#-</span></span><span class=\"txtt\">[niš </span></span></span></td><td class=\"tf ltr\"><span class=\" ubd\"><span class=\"plain   hl\" ><span class=\"txtt\">1#-</span></span></span></td></tr>\n",
       "<tr class=\"tf ltr\"><td class=\"tf ltr\">501</td><td class=\"tf ltr\"><span class=\"tfsechead ltr\"><span class=\"ltr\"><a target=\"_blank\" href=\"https://cdli.ucla.edu/search/search_results.php?SearchMode=Text&amp;ObjectID=P394520\" title=\"Show this document on CDLI\" sec=\"P394520 reverse:2:1\">P394520 reverse:2:1</a></span></span></td><td class=\"tf ltr\"><span class=\" ubd\"><span class=\"plain   hlbx\" ><span class=\"plain   hl\" ><span class=\"txtt\">7 </span></span></span></span></td><td class=\"tf ltr\"><span class=\" ubd\"><span class=\"plain   hl\" ><span class=\"txtt\">7 </span></span></span></td></tr>\n",
       "<tr class=\"tf ltr\"><td class=\"tf ltr\">502</td><td class=\"tf ltr\"><span class=\"tfsechead ltr\"><span class=\"ltr\"><a target=\"_blank\" href=\"https://cdli.ucla.edu/search/search_results.php?SearchMode=Text&amp;ObjectID=P394520\" title=\"Show this document on CDLI\" sec=\"P394520 reverse:2:1\">P394520 reverse:2:1</a></span></span></td><td class=\"tf ltr\"><span class=\" ubd\"><span class=\"plain   hlbx\" ><span class=\"plain   hl\" ><span class=\"txtt\">7 </span></span></span></span></td><td class=\"tf ltr\"><span class=\" ubd\"><span class=\"plain   hl\" ><span class=\"txtt\">7 </span></span></span></td></tr>\n",
       "<tr class=\"tf ltr\"><td class=\"tf ltr\">503</td><td class=\"tf ltr\"><span class=\"tfsechead ltr\"><span class=\"ltr\"><a target=\"_blank\" href=\"https://cdli.ucla.edu/search/search_results.php?SearchMode=Text&amp;ObjectID=P394523\" title=\"Show this document on CDLI\" sec=\"P394523 obverse:1:3'\">P394523 obverse:1:3'</a></span></span></td><td class=\"tf ltr\"><span class=\" ubd\"><span class=\"plain   hlbx\" ><span class=\"plain   hl\" ><span class=\"txtt\">10 </span></span></span></span></td><td class=\"tf ltr\"><span class=\" ubd\"><span class=\"plain   hl\" ><span class=\"txtt\">10 </span></span></span></td></tr></table>"
      ],
      "text/plain": [
       "<IPython.core.display.HTML object>"
      ]
     },
     "metadata": {},
     "output_type": "display_data"
    }
   ],
   "source": [
    "A.table(results, start=500, end=503)"
   ]
  },
  {
   "cell_type": "markdown",
   "metadata": {},
   "source": [
    "We can show the results more fully with `show()`.\n",
    "\n",
    "That gives us pretty displays of tablet lines with the results highlighted."
   ]
  },
  {
   "cell_type": "code",
   "execution_count": 7,
   "metadata": {
    "ExecuteTime": {
     "end_time": "2018-05-24T07:47:06.875859Z",
     "start_time": "2018-05-24T07:47:06.757345Z"
    }
   },
   "outputs": [
    {
     "data": {
      "text/html": [
       "<p><b>result</b> <i>1</i></p>"
      ],
      "text/plain": [
       "<IPython.core.display.HTML object>"
      ]
     },
     "metadata": {},
     "output_type": "display_data"
    },
    {
     "data": {
      "text/html": [
       "<div class=\"tfsechead \"><span class=\"ltr\"><a target=\"_blank\" href=\"https://cdli.ucla.edu/search/search_results.php?SearchMode=Text&amp;ObjectID=P285136\" title=\"Show this document on CDLI\" sec=\"P285136 obverse:2'\">P285136 obverse:2'</a></span></div><div class=\" children\"><div class=\"contnr c3    \" ><div class=\"lbl c3  \" ><span class=\"nd\">line</span></div><div class=\"children hor wrap \"><div class=\"contnr c1 trm   hl\" ><div class=\"lbl c1 trm hl\" ><span class=\"nd\">word</span> <span class=\"txtt\"><span class=\"plain   \" ><span class=\"plain   hl\" ><span class=\"txtt\">5 </span></span></span></span></div><div class='features'><span class=\"type xft\" ><span class=\"f\">type=</span>word</span></div></div><div class=\"contnr c1 trm   \" ><div class=\"lbl c1 trm \" ><span class=\"nd\">word</span> <span class=\"txtt\"><span class=\"plain   \" ><span class=\"txtt\">KA#.</span><span class=\"txtt\">INIM.</span><span class=\"txtt\">MA </span></span></span></div><div class='features'><span class=\"type xft\" ><span class=\"f\">type=</span>word</span></div></div><div class=\"contnr c2    \" ><div class=\"lbl c2  \" ><span class=\"nd\">cluster</span></div><div class='features'><span class=\"type xft\" ><span class=\"f\">type=</span>missing</span></div><div class=\"children hor wrap \"><div class=\"contnr c1 trm   \" ><div class=\"lbl c1 trm \" ><span class=\"nd\">word</span> <span class=\"txtt\"><span class=\"plain   \" ><span class=\"txtt\">[x </span></span></span></div><div class='features'><span class=\"type xft\" ><span class=\"f\">type=</span>word</span></div></div><div class=\"contnr c1 trm   \" ><div class=\"lbl c1 trm \" ><span class=\"nd\">word</span> <span class=\"txtt\"><span class=\"plain   \" ><span class=\"txtt\">x </span></span></span></div><div class='features'><span class=\"type xft\" ><span class=\"f\">type=</span>word</span></div></div><div class=\"contnr c1 trm   \" ><div class=\"lbl c1 trm \" ><span class=\"nd\">word</span> <span class=\"txtt\"><span class=\"plain   \" ><span class=\"txtt\">x </span></span></span></div><div class='features'><span class=\"type xft\" ><span class=\"f\">type=</span>word</span></div></div><div class=\"contnr c1 trm   \" ><div class=\"lbl c1 trm \" ><span class=\"nd\">word</span> <span class=\"txtt\"><span class=\"plain   \" ><span class=\"txtt\">x]\n",
       "</span></span></span></div><div class='features'><span class=\"type xft\" ><span class=\"f\">type=</span>word</span></div></div></div></div></div></div></div>"
      ],
      "text/plain": [
       "<IPython.core.display.HTML object>"
      ]
     },
     "metadata": {},
     "output_type": "display_data"
    },
    {
     "data": {
      "text/html": [
       "<p><b>result</b> <i>2</i></p>"
      ],
      "text/plain": [
       "<IPython.core.display.HTML object>"
      ]
     },
     "metadata": {},
     "output_type": "display_data"
    },
    {
     "data": {
      "text/html": [
       "<div class=\"tfsechead \"><span class=\"ltr\"><a target=\"_blank\" href=\"https://cdli.ucla.edu/search/search_results.php?SearchMode=Text&amp;ObjectID=P285136\" title=\"Show this document on CDLI\" sec=\"P285136 obverse:11'\">P285136 obverse:11'</a></span></div><div class=\" children\"><div class=\"contnr c3    \" ><div class=\"lbl c3  \" ><span class=\"nd\">line</span></div><div class=\"children hor wrap \"><div class=\"contnr c1 trm   hl\" ><div class=\"lbl c1 trm hl\" ><span class=\"nd\">word</span> <span class=\"txtt\"><span class=\"plain   \" ><span class=\"plain   hl\" ><span class=\"txtt\">2 </span></span></span></span></div><div class='features'><span class=\"type xft\" ><span class=\"f\">type=</span>word</span></div></div><div class=\"contnr c1 trm   \" ><div class=\"lbl c1 trm \" ><span class=\"nd\">word</span> <span class=\"txtt\"><span class=\"plain   \" ><span class=\"txtt\">KA.</span><span class=\"txtt\">INIM.</span><span class=\"txtt\">MA </span></span></span></div><div class='features'><span class=\"type xft\" ><span class=\"f\">type=</span>word</span></div></div><div class=\"contnr c2    \" ><div class=\"lbl c2  \" ><span class=\"nd\">cluster</span></div><div class='features'><span class=\"type xft\" ><span class=\"f\">type=</span>missing</span></div><div class=\"children hor wrap \"><div class=\"contnr c1 trm   \" ><div class=\"lbl c1 trm \" ><span class=\"nd\">word</span> <span class=\"txtt\"><span class=\"plain   \" ><span class=\"txtt\">[x </span></span></span></div><div class='features'><span class=\"type xft\" ><span class=\"f\">type=</span>word</span></div></div><div class=\"contnr c1 trm   \" ><div class=\"lbl c1 trm \" ><span class=\"nd\">word</span> <span class=\"txtt\"><span class=\"plain   \" ><span class=\"txtt\">x </span></span></span></div><div class='features'><span class=\"type xft\" ><span class=\"f\">type=</span>word</span></div></div><div class=\"contnr c1 trm   \" ><div class=\"lbl c1 trm \" ><span class=\"nd\">word</span> <span class=\"txtt\"><span class=\"plain   \" ><span class=\"txtt\">x </span></span></span></div><div class='features'><span class=\"type xft\" ><span class=\"f\">type=</span>word</span></div></div><div class=\"contnr c1 trm   \" ><div class=\"lbl c1 trm \" ><span class=\"nd\">word</span> <span class=\"txtt\"><span class=\"plain   \" ><span class=\"txtt\">x </span></span></span></div><div class='features'><span class=\"type xft\" ><span class=\"f\">type=</span>word</span></div></div><div class=\"contnr c1 trm   \" ><div class=\"lbl c1 trm \" ><span class=\"nd\">word</span> <span class=\"txtt\"><span class=\"plain   \" ><span class=\"txtt\">x </span></span></span></div><div class='features'><span class=\"type xft\" ><span class=\"f\">type=</span>word</span></div></div><div class=\"contnr c1 trm   \" ><div class=\"lbl c1 trm \" ><span class=\"nd\">word</span> <span class=\"txtt\"><span class=\"plain   \" ><span class=\"txtt\">x]\n",
       "</span></span></span></div><div class='features'><span class=\"type xft\" ><span class=\"f\">type=</span>word</span></div></div></div></div></div></div></div>"
      ],
      "text/plain": [
       "<IPython.core.display.HTML object>"
      ]
     },
     "metadata": {},
     "output_type": "display_data"
    },
    {
     "data": {
      "text/html": [
       "<p><b>result</b> <i>3</i></p>"
      ],
      "text/plain": [
       "<IPython.core.display.HTML object>"
      ]
     },
     "metadata": {},
     "output_type": "display_data"
    },
    {
     "data": {
      "text/html": [
       "<div class=\"tfsechead \"><span class=\"ltr\"><a target=\"_blank\" href=\"https://cdli.ucla.edu/search/search_results.php?SearchMode=Text&amp;ObjectID=P479250\" title=\"Show this document on CDLI\" sec=\"P479250 reverse:16\">P479250 reverse:16</a></span></div><div class=\" children\"><div class=\"contnr c3    \" ><div class=\"lbl c3  \" ><span class=\"nd\">line</span></div><div class=\"children hor wrap \"><div class=\"contnr c2    \" ><div class=\"lbl c2  \" ><span class=\"nd\">cluster</span></div><div class='features'><span class=\"type xft\" ><span class=\"f\">type=</span>missing</span></div><div class=\"children hor wrap \"><div class=\"contnr c1 trm   \" ><div class=\"lbl c1 trm \" ><span class=\"nd\">word</span> <span class=\"txtt\"><span class=\"plain   \" ><span class=\"txtt\">[... </span></span></span></div><div class='features'><span class=\"type xft\" ><span class=\"f\">type=</span>word</span></div></div><div class=\"contnr c1 trm   \" ><div class=\"lbl c1 trm \" ><span class=\"nd\">word</span> <span class=\"txtt\"><span class=\"plain   \" ><span class=\"txtt\">ap-</span><span class=\"txtt\">pi?] </span></span></span></div><div class='features'><span class=\"type xft\" ><span class=\"f\">type=</span>word</span></div></div></div></div><div class=\"contnr c1 trm   \" ><div class=\"lbl c1 trm \" ><span class=\"nd\">word</span> <span class=\"txtt\"><span class=\"plain   \" ><span class=\"txtt\">šil-</span><span class=\"txtt\">ta-</span><span class=\"txtt\">hi </span></span></span></div><div class='features'><span class=\"type xft\" ><span class=\"f\">type=</span>word</span></div></div><div class=\"contnr c1 trm   \" ><div class=\"lbl c1 trm \" ><span class=\"nd\">word</span> <span class=\"txtt\"><span class=\"plain   \" ><span class=\"txtt\">ša₂ </span></span></span></div><div class='features'><span class=\"type xft\" ><span class=\"f\">type=</span>word</span></div></div><div class=\"contnr c1 trm   hl\" ><div class=\"lbl c1 trm hl\" ><span class=\"nd\">word</span> <span class=\"txtt\"><span class=\"plain   \" ><span class=\"plain   hl\" ><span class=\"txtt\">7 </span></span></span></span></div><div class='features'><span class=\"type xft\" ><span class=\"f\">type=</span>word</span></div></div><div class=\"contnr c1 trm   \" ><div class=\"lbl c1 trm \" ><span class=\"nd\">word</span> <span class=\"txtt\"><span class=\"plain   \" ><span class=\"txtt\">KA.</span><span class=\"txtt\">KEŠDA-</span><span class=\"txtt\">MEŠ-</span><span class=\"txtt\">šu₂ </span></span></span></div><div class='features'><span class=\"type xft\" ><span class=\"f\">type=</span>word</span></div></div><div class=\"contnr c1 trm   \" ><div class=\"lbl c1 trm \" ><span class=\"nd\">word</span> <span class=\"txtt\"><span class=\"plain   \" ><span class=\"txtt\">7-</span><span class=\"txtt\">šu₂ </span></span></span></div><div class='features'><span class=\"type xft\" ><span class=\"f\">type=</span>word</span></div></div><div class=\"contnr c1 trm   \" ><div class=\"lbl c1 trm \" ><span class=\"nd\">word</span> <span class=\"txtt\"><span class=\"plain   \" ><span class=\"txtt\">u </span></span></span></div><div class='features'><span class=\"type xft\" ><span class=\"f\">type=</span>word</span></div></div><div class=\"contnr c1 trm   \" ><div class=\"lbl c1 trm \" ><span class=\"nd\">word</span> <span class=\"txtt\"><span class=\"plain   \" ><span class=\"txtt\">7-</span><span class=\"txtt\">šu₂\n",
       "</span></span></span></div><div class='features'><span class=\"type xft\" ><span class=\"f\">type=</span>word</span></div></div></div></div></div>"
      ],
      "text/plain": [
       "<IPython.core.display.HTML object>"
      ]
     },
     "metadata": {},
     "output_type": "display_data"
    }
   ],
   "source": [
    "A.show(results, end=3)"
   ]
  },
  {
   "cell_type": "markdown",
   "metadata": {},
   "source": [
    "# Condense results\n",
    "\n",
    "There are two fundamentally different ways of presenting the results: condensed and uncondensed.\n",
    "\n",
    "In **uncondensed** view, all results are listed individually.\n",
    "You can keep track of which parts belong to which results.\n",
    "The display can become unwieldy.\n",
    "\n",
    "This is the default view, because it is the straightest, most logical, answer to your query.\n",
    "\n",
    "In **condensed** view all nodes of all results are grouped in containers first (e.g. verses), and then presented\n",
    "container by container.\n",
    "You loose the information of what parts belong to what result.\n",
    "\n",
    "As an example of is the difference, we look for all numerals."
   ]
  },
  {
   "cell_type": "code",
   "execution_count": 8,
   "metadata": {
    "ExecuteTime": {
     "end_time": "2018-05-24T07:47:14.547656Z",
     "start_time": "2018-05-24T07:47:14.544433Z"
    }
   },
   "outputs": [],
   "source": [
    "query = \"\"\"\n",
    "% we choose a tablet with several numerals\n",
    "document pnumber=P285109\n",
    "  sign type=numeral\n",
    "\"\"\""
   ]
  },
  {
   "cell_type": "markdown",
   "metadata": {},
   "source": [
    "Note that you can have comments in a search template. Comment lines start with a `%`."
   ]
  },
  {
   "cell_type": "code",
   "execution_count": 9,
   "metadata": {
    "ExecuteTime": {
     "end_time": "2018-05-24T07:47:18.913432Z",
     "start_time": "2018-05-24T07:47:17.357992Z"
    }
   },
   "outputs": [
    {
     "name": "stdout",
     "output_type": "stream",
     "text": [
      "  0.04s 9 results\n"
     ]
    },
    {
     "data": {
      "text/html": [
       "<table><tr class=\"tf ltr\"><th class=\"tf ltr\">n</th><th class=\"tf ltr\">p</th><th class=\"tf ltr\">document</th><th class=\"tf\">sign</th></tr>\n",
       "<tr class=\"tf ltr\"><td class=\"tf ltr\">1</td><td class=\"tf ltr\"><span class=\"tfsechead ltr\"><span class=\"ltr\"><a target=\"_blank\" href=\"https://cdli.ucla.edu/search/search_results.php?SearchMode=Text&amp;ObjectID=P285109\" title=\"Show this document on CDLI\" sec=\"P285109 obverse:1:5'\">P285109 obverse:1:5'</a></span></span></td><td class=\"tf ltr\"><span class=\" ubd\"><span class=\"txtt \"><span class=\"tfsechead ltr\"><span class=\"ltr\">P285109</span></span></span></span></td><td class=\"tf ltr\"><span class=\" ubd\"><span class=\"plain   hl\" ><span class=\"txtt\">1/</span></span></span></td></tr>\n",
       "<tr class=\"tf ltr\"><td class=\"tf ltr\">2</td><td class=\"tf ltr\"><span class=\"tfsechead ltr\"><span class=\"ltr\"><a target=\"_blank\" href=\"https://cdli.ucla.edu/search/search_results.php?SearchMode=Text&amp;ObjectID=P285109\" title=\"Show this document on CDLI\" sec=\"P285109 obverse:1:5'\">P285109 obverse:1:5'</a></span></span></td><td class=\"tf ltr\"><span class=\" ubd\"><span class=\"txtt \"><span class=\"tfsechead ltr\"><span class=\"ltr\">P285109</span></span></span></span></td><td class=\"tf ltr\"><span class=\" ubd\"><span class=\"plain   hl\" ><span class=\"txtt\">3 </span></span></span></td></tr>\n",
       "<tr class=\"tf ltr\"><td class=\"tf ltr\">3</td><td class=\"tf ltr\"><span class=\"tfsechead ltr\"><span class=\"ltr\"><a target=\"_blank\" href=\"https://cdli.ucla.edu/search/search_results.php?SearchMode=Text&amp;ObjectID=P285109\" title=\"Show this document on CDLI\" sec=\"P285109 obverse:1:5'\">P285109 obverse:1:5'</a></span></span></td><td class=\"tf ltr\"><span class=\" ubd\"><span class=\"txtt \"><span class=\"tfsechead ltr\"><span class=\"ltr\">P285109</span></span></span></span></td><td class=\"tf ltr\"><span class=\" ubd\"><span class=\"plain   hl\" ><span class=\"txtt\">10 </span></span></span></td></tr>\n",
       "<tr class=\"tf ltr\"><td class=\"tf ltr\">4</td><td class=\"tf ltr\"><span class=\"tfsechead ltr\"><span class=\"ltr\"><a target=\"_blank\" href=\"https://cdli.ucla.edu/search/search_results.php?SearchMode=Text&amp;ObjectID=P285109\" title=\"Show this document on CDLI\" sec=\"P285109 obverse:1:6'\">P285109 obverse:1:6'</a></span></span></td><td class=\"tf ltr\"><span class=\" ubd\"><span class=\"txtt \"><span class=\"tfsechead ltr\"><span class=\"ltr\">P285109</span></span></span></span></td><td class=\"tf ltr\"><span class=\" ubd\"><span class=\"plain   hl\" ><span class=\"txtt\">3.</span></span></span></td></tr>\n",
       "<tr class=\"tf ltr\"><td class=\"tf ltr\">5</td><td class=\"tf ltr\"><span class=\"tfsechead ltr\"><span class=\"ltr\"><a target=\"_blank\" href=\"https://cdli.ucla.edu/search/search_results.php?SearchMode=Text&amp;ObjectID=P285109\" title=\"Show this document on CDLI\" sec=\"P285109 obverse:1:7'\">P285109 obverse:1:7'</a></span></span></td><td class=\"tf ltr\"><span class=\" ubd\"><span class=\"txtt \"><span class=\"tfsechead ltr\"><span class=\"ltr\">P285109</span></span></span></span></td><td class=\"tf ltr\"><span class=\" ubd\"><span class=\"plain   hl\" ><span class=\"txtt\">10 </span></span></span></td></tr>\n",
       "<tr class=\"tf ltr\"><td class=\"tf ltr\">6</td><td class=\"tf ltr\"><span class=\"tfsechead ltr\"><span class=\"ltr\"><a target=\"_blank\" href=\"https://cdli.ucla.edu/search/search_results.php?SearchMode=Text&amp;ObjectID=P285109\" title=\"Show this document on CDLI\" sec=\"P285109 obverse:1:9'\">P285109 obverse:1:9'</a></span></span></td><td class=\"tf ltr\"><span class=\" ubd\"><span class=\"txtt \"><span class=\"tfsechead ltr\"><span class=\"ltr\">P285109</span></span></span></span></td><td class=\"tf ltr\"><span class=\" ubd\"><span class=\"plain   hl\" ><span class=\"txtt\">5 </span></span></span></td></tr>\n",
       "<tr class=\"tf ltr\"><td class=\"tf ltr\">7</td><td class=\"tf ltr\"><span class=\"tfsechead ltr\"><span class=\"ltr\"><a target=\"_blank\" href=\"https://cdli.ucla.edu/search/search_results.php?SearchMode=Text&amp;ObjectID=P285109\" title=\"Show this document on CDLI\" sec=\"P285109 obverse:1:11'\">P285109 obverse:1:11'</a></span></span></td><td class=\"tf ltr\"><span class=\" ubd\"><span class=\"txtt \"><span class=\"tfsechead ltr\"><span class=\"ltr\">P285109</span></span></span></span></td><td class=\"tf ltr\"><span class=\" ubd\"><span class=\"plain   hl\" ><span class=\"txtt\">1/</span></span></span></td></tr>\n",
       "<tr class=\"tf ltr\"><td class=\"tf ltr\">8</td><td class=\"tf ltr\"><span class=\"tfsechead ltr\"><span class=\"ltr\"><a target=\"_blank\" href=\"https://cdli.ucla.edu/search/search_results.php?SearchMode=Text&amp;ObjectID=P285109\" title=\"Show this document on CDLI\" sec=\"P285109 obverse:1:11'\">P285109 obverse:1:11'</a></span></span></td><td class=\"tf ltr\"><span class=\" ubd\"><span class=\"txtt \"><span class=\"tfsechead ltr\"><span class=\"ltr\">P285109</span></span></span></span></td><td class=\"tf ltr\"><span class=\" ubd\"><span class=\"plain   hl\" ><span class=\"txtt\">3 </span></span></span></td></tr>\n",
       "<tr class=\"tf ltr\"><td class=\"tf ltr\">9</td><td class=\"tf ltr\"><span class=\"tfsechead ltr\"><span class=\"ltr\"><a target=\"_blank\" href=\"https://cdli.ucla.edu/search/search_results.php?SearchMode=Text&amp;ObjectID=P285109\" title=\"Show this document on CDLI\" sec=\"P285109 obverse:1:12'\">P285109 obverse:1:12'</a></span></span></td><td class=\"tf ltr\"><span class=\" ubd\"><span class=\"txtt \"><span class=\"tfsechead ltr\"><span class=\"ltr\">P285109</span></span></span></span></td><td class=\"tf ltr\"><span class=\" ubd\"><span class=\"plain   hl\" ><span class=\"txtt\">3.</span></span></span></td></tr></table>"
      ],
      "text/plain": [
       "<IPython.core.display.HTML object>"
      ]
     },
     "metadata": {},
     "output_type": "display_data"
    }
   ],
   "source": [
    "results = A.search(query)\n",
    "A.table(results, end=10)"
   ]
  },
  {
   "cell_type": "markdown",
   "metadata": {},
   "source": [
    "Let's expand the results display:"
   ]
  },
  {
   "cell_type": "code",
   "execution_count": 10,
   "metadata": {
    "ExecuteTime": {
     "end_time": "2018-05-24T07:47:21.573937Z",
     "start_time": "2018-05-24T07:47:21.561079Z"
    }
   },
   "outputs": [
    {
     "data": {
      "text/html": [
       "<p><b>result</b> <i>1</i></p>"
      ],
      "text/plain": [
       "<IPython.core.display.HTML object>"
      ]
     },
     "metadata": {},
     "output_type": "display_data"
    },
    {
     "data": {
      "text/html": [
       "<div class=\"tfsechead \"><span class=\"ltr\"><a target=\"_blank\" href=\"https://cdli.ucla.edu/search/search_results.php?SearchMode=Text&amp;ObjectID=P285109\" title=\"Show this document on CDLI\" sec=\"P285109 obverse:1:5'\">P285109 obverse:1:5'</a></span></div><div class=\" children\"><div class=\"contnr c3    \" ><div class=\"lbl c3  \" ><span class=\"nd\">line</span></div><div class=\"children hor wrap \"><div class=\"contnr c2    \" ><div class=\"lbl c2  \" ><span class=\"nd\">cluster</span></div><div class='features'><span class=\"type xft\" ><span class=\"f\">type=</span>missing</span></div><div class=\"children hor wrap \"><div class=\"contnr c1 trm   \" ><div class=\"lbl c1 trm \" ><span class=\"nd\">word</span> <span class=\"txtt\"><span class=\"plain   \" ><span class=\"txtt\">[x </span></span></span></div><div class='features'><span class=\"type xft\" ><span class=\"f\">type=</span>word</span></div></div><div class=\"contnr c1 trm   \" ><div class=\"lbl c1 trm \" ><span class=\"nd\">word</span> <span class=\"txtt\"><span class=\"plain   \" ><span class=\"txtt\">x </span></span></span></div><div class='features'><span class=\"type xft\" ><span class=\"f\">type=</span>word</span></div></div><div class=\"contnr c1 trm  rno \" ><div class=\"lbl c1 trm \" ><span class=\"nd\">word</span> <span class=\"txtt\"><span class=\"plain  rno \" ><span class=\"txtt\">ZA₃.</span><span class=\"txtt\">HI].</span></span></span></div><div class='features'><span class=\"type xft\" ><span class=\"f\">type=</span>word</span></div></div></div></div><div class=\"contnr c1 trm  lno \" ><div class=\"lbl c1 trm \" ><span class=\"nd\">word</span> <span class=\"txtt\"><span class=\"plain  lno \" ><span class=\"txtt\">LI </span></span></span></div><div class='features'><span class=\"type xft\" ><span class=\"f\">type=</span>word</span></div></div><div class=\"contnr c1 trm   \" ><div class=\"lbl c1 trm \" ><span class=\"nd\">word</span> <span class=\"txtt\"><span class=\"plain   \" ><span class=\"plain   hl\" ><span class=\"txtt\">1/</span></span><span class=\"txtt\">3 </span></span></span></div><div class='features'><span class=\"type xft\" ><span class=\"f\">type=</span>word</span></div></div><div class=\"contnr c1 trm   \" ><div class=\"lbl c1 trm \" ><span class=\"nd\">word</span> <span class=\"txtt\"><span class=\"plain   \" ><span class=\"txtt\">SILA₃ </span></span></span></div><div class='features'><span class=\"type xft\" ><span class=\"f\">type=</span>word</span></div></div><div class=\"contnr c1 trm   \" ><div class=\"lbl c1 trm \" ><span class=\"nd\">word</span> <span class=\"txtt\"><span class=\"plain   \" ><span class=\"txtt\">ŠIKA </span></span></span></div><div class='features'><span class=\"type xft\" ><span class=\"f\">type=</span>word</span></div></div><div class=\"contnr c1 trm   \" ><div class=\"lbl c1 trm \" ><span class=\"nd\">word</span> <span class=\"txtt\"><span class=\"plain   \" ><span class=\"txtt\">IM.</span><span class=\"txtt\">ŠU.</span><span class=\"txtt\">RIN.</span><span class=\"txtt\">NA </span></span></span></div><div class='features'><span class=\"type xft\" ><span class=\"f\">type=</span>word</span></div></div><div class=\"contnr c1 trm   \" ><div class=\"lbl c1 trm \" ><span class=\"nd\">word</span> <span class=\"txtt\"><span class=\"plain   \" ><span class=\"txtt\">10 </span></span></span></div><div class='features'><span class=\"type xft\" ><span class=\"f\">type=</span>word</span></div></div><div class=\"contnr c2    \" ><div class=\"lbl c2  \" ><span class=\"nd\">cluster</span></div><div class='features'><span class=\"type xft\" ><span class=\"f\">type=</span>missing</span></div><div class=\"children hor wrap \"><div class=\"contnr c1 trm   \" ><div class=\"lbl c1 trm \" ><span class=\"nd\">word</span> <span class=\"txtt\"><span class=\"plain   \" ><span class=\"txtt\">[GIN₂ </span></span></span></div><div class='features'><span class=\"type xft\" ><span class=\"f\">type=</span>word</span></div></div><div class=\"contnr c1 trm   \" ><div class=\"lbl c1 trm \" ><span class=\"nd\">word</span> <span class=\"txtt\"><span class=\"plain   \" ><span class=\"txtt\">x </span></span></span></div><div class='features'><span class=\"type xft\" ><span class=\"f\">type=</span>word</span></div></div><div class=\"contnr c1 trm   \" ><div class=\"lbl c1 trm \" ><span class=\"nd\">word</span> <span class=\"txtt\"><span class=\"plain   \" ><span class=\"txtt\">x </span></span></span></div><div class='features'><span class=\"type xft\" ><span class=\"f\">type=</span>word</span></div></div><div class=\"contnr c1 trm   \" ><div class=\"lbl c1 trm \" ><span class=\"nd\">word</span> <span class=\"txtt\"><span class=\"plain   \" ><span class=\"txtt\">x </span></span></span></div><div class='features'><span class=\"type xft\" ><span class=\"f\">type=</span>word</span></div></div><div class=\"contnr c1 trm   \" ><div class=\"lbl c1 trm \" ><span class=\"nd\">word</span> <span class=\"txtt\"><span class=\"plain   \" ><span class=\"txtt\">x </span></span></span></div><div class='features'><span class=\"type xft\" ><span class=\"f\">type=</span>word</span></div></div><div class=\"contnr c1 trm   \" ><div class=\"lbl c1 trm \" ><span class=\"nd\">word</span> <span class=\"txtt\"><span class=\"plain   \" ><span class=\"txtt\">x </span></span></span></div><div class='features'><span class=\"type xft\" ><span class=\"f\">type=</span>word</span></div></div><div class=\"contnr c1 trm   \" ><div class=\"lbl c1 trm \" ><span class=\"nd\">word</span> <span class=\"txtt\"><span class=\"plain   \" ><span class=\"txtt\">x]\n",
       "</span></span></span></div><div class='features'><span class=\"type xft\" ><span class=\"f\">type=</span>word</span></div></div></div></div></div></div></div>"
      ],
      "text/plain": [
       "<IPython.core.display.HTML object>"
      ]
     },
     "metadata": {},
     "output_type": "display_data"
    },
    {
     "data": {
      "text/html": [
       "<p><b>result</b> <i>2</i></p>"
      ],
      "text/plain": [
       "<IPython.core.display.HTML object>"
      ]
     },
     "metadata": {},
     "output_type": "display_data"
    },
    {
     "data": {
      "text/html": [
       "<div class=\"tfsechead \"><span class=\"ltr\"><a target=\"_blank\" href=\"https://cdli.ucla.edu/search/search_results.php?SearchMode=Text&amp;ObjectID=P285109\" title=\"Show this document on CDLI\" sec=\"P285109 obverse:1:5'\">P285109 obverse:1:5'</a></span></div><div class=\" children\"><div class=\"contnr c3    \" ><div class=\"lbl c3  \" ><span class=\"nd\">line</span></div><div class=\"children hor wrap \"><div class=\"contnr c2    \" ><div class=\"lbl c2  \" ><span class=\"nd\">cluster</span></div><div class='features'><span class=\"type xft\" ><span class=\"f\">type=</span>missing</span></div><div class=\"children hor wrap \"><div class=\"contnr c1 trm   \" ><div class=\"lbl c1 trm \" ><span class=\"nd\">word</span> <span class=\"txtt\"><span class=\"plain   \" ><span class=\"txtt\">[x </span></span></span></div><div class='features'><span class=\"type xft\" ><span class=\"f\">type=</span>word</span></div></div><div class=\"contnr c1 trm   \" ><div class=\"lbl c1 trm \" ><span class=\"nd\">word</span> <span class=\"txtt\"><span class=\"plain   \" ><span class=\"txtt\">x </span></span></span></div><div class='features'><span class=\"type xft\" ><span class=\"f\">type=</span>word</span></div></div><div class=\"contnr c1 trm  rno \" ><div class=\"lbl c1 trm \" ><span class=\"nd\">word</span> <span class=\"txtt\"><span class=\"plain  rno \" ><span class=\"txtt\">ZA₃.</span><span class=\"txtt\">HI].</span></span></span></div><div class='features'><span class=\"type xft\" ><span class=\"f\">type=</span>word</span></div></div></div></div><div class=\"contnr c1 trm  lno \" ><div class=\"lbl c1 trm \" ><span class=\"nd\">word</span> <span class=\"txtt\"><span class=\"plain  lno \" ><span class=\"txtt\">LI </span></span></span></div><div class='features'><span class=\"type xft\" ><span class=\"f\">type=</span>word</span></div></div><div class=\"contnr c1 trm   \" ><div class=\"lbl c1 trm \" ><span class=\"nd\">word</span> <span class=\"txtt\"><span class=\"plain   \" ><span class=\"txtt\">1/</span><span class=\"plain   hl\" ><span class=\"txtt\">3 </span></span></span></span></div><div class='features'><span class=\"type xft\" ><span class=\"f\">type=</span>word</span></div></div><div class=\"contnr c1 trm   \" ><div class=\"lbl c1 trm \" ><span class=\"nd\">word</span> <span class=\"txtt\"><span class=\"plain   \" ><span class=\"txtt\">SILA₃ </span></span></span></div><div class='features'><span class=\"type xft\" ><span class=\"f\">type=</span>word</span></div></div><div class=\"contnr c1 trm   \" ><div class=\"lbl c1 trm \" ><span class=\"nd\">word</span> <span class=\"txtt\"><span class=\"plain   \" ><span class=\"txtt\">ŠIKA </span></span></span></div><div class='features'><span class=\"type xft\" ><span class=\"f\">type=</span>word</span></div></div><div class=\"contnr c1 trm   \" ><div class=\"lbl c1 trm \" ><span class=\"nd\">word</span> <span class=\"txtt\"><span class=\"plain   \" ><span class=\"txtt\">IM.</span><span class=\"txtt\">ŠU.</span><span class=\"txtt\">RIN.</span><span class=\"txtt\">NA </span></span></span></div><div class='features'><span class=\"type xft\" ><span class=\"f\">type=</span>word</span></div></div><div class=\"contnr c1 trm   \" ><div class=\"lbl c1 trm \" ><span class=\"nd\">word</span> <span class=\"txtt\"><span class=\"plain   \" ><span class=\"txtt\">10 </span></span></span></div><div class='features'><span class=\"type xft\" ><span class=\"f\">type=</span>word</span></div></div><div class=\"contnr c2    \" ><div class=\"lbl c2  \" ><span class=\"nd\">cluster</span></div><div class='features'><span class=\"type xft\" ><span class=\"f\">type=</span>missing</span></div><div class=\"children hor wrap \"><div class=\"contnr c1 trm   \" ><div class=\"lbl c1 trm \" ><span class=\"nd\">word</span> <span class=\"txtt\"><span class=\"plain   \" ><span class=\"txtt\">[GIN₂ </span></span></span></div><div class='features'><span class=\"type xft\" ><span class=\"f\">type=</span>word</span></div></div><div class=\"contnr c1 trm   \" ><div class=\"lbl c1 trm \" ><span class=\"nd\">word</span> <span class=\"txtt\"><span class=\"plain   \" ><span class=\"txtt\">x </span></span></span></div><div class='features'><span class=\"type xft\" ><span class=\"f\">type=</span>word</span></div></div><div class=\"contnr c1 trm   \" ><div class=\"lbl c1 trm \" ><span class=\"nd\">word</span> <span class=\"txtt\"><span class=\"plain   \" ><span class=\"txtt\">x </span></span></span></div><div class='features'><span class=\"type xft\" ><span class=\"f\">type=</span>word</span></div></div><div class=\"contnr c1 trm   \" ><div class=\"lbl c1 trm \" ><span class=\"nd\">word</span> <span class=\"txtt\"><span class=\"plain   \" ><span class=\"txtt\">x </span></span></span></div><div class='features'><span class=\"type xft\" ><span class=\"f\">type=</span>word</span></div></div><div class=\"contnr c1 trm   \" ><div class=\"lbl c1 trm \" ><span class=\"nd\">word</span> <span class=\"txtt\"><span class=\"plain   \" ><span class=\"txtt\">x </span></span></span></div><div class='features'><span class=\"type xft\" ><span class=\"f\">type=</span>word</span></div></div><div class=\"contnr c1 trm   \" ><div class=\"lbl c1 trm \" ><span class=\"nd\">word</span> <span class=\"txtt\"><span class=\"plain   \" ><span class=\"txtt\">x </span></span></span></div><div class='features'><span class=\"type xft\" ><span class=\"f\">type=</span>word</span></div></div><div class=\"contnr c1 trm   \" ><div class=\"lbl c1 trm \" ><span class=\"nd\">word</span> <span class=\"txtt\"><span class=\"plain   \" ><span class=\"txtt\">x]\n",
       "</span></span></span></div><div class='features'><span class=\"type xft\" ><span class=\"f\">type=</span>word</span></div></div></div></div></div></div></div>"
      ],
      "text/plain": [
       "<IPython.core.display.HTML object>"
      ]
     },
     "metadata": {},
     "output_type": "display_data"
    }
   ],
   "source": [
    "A.show(results, end=2, skipCols=\"1\")"
   ]
  },
  {
   "cell_type": "markdown",
   "metadata": {},
   "source": [
    "As you see, the results are listed per result tuple, even if they occur all in the same verse.\n",
    "This way you can keep track of what exactly belongs to each result.\n",
    "\n",
    "Now in condensed mode:"
   ]
  },
  {
   "cell_type": "code",
   "execution_count": 11,
   "metadata": {
    "ExecuteTime": {
     "end_time": "2018-05-24T07:47:21.573937Z",
     "start_time": "2018-05-24T07:47:21.561079Z"
    }
   },
   "outputs": [
    {
     "data": {
      "text/html": [
       "<p><b>line</b> <i>1</i></p>"
      ],
      "text/plain": [
       "<IPython.core.display.HTML object>"
      ]
     },
     "metadata": {},
     "output_type": "display_data"
    },
    {
     "data": {
      "text/html": [
       "<div class=\"tfsechead \"><span class=\"ltr\"><a target=\"_blank\" href=\"https://cdli.ucla.edu/search/search_results.php?SearchMode=Text&amp;ObjectID=P285109\" title=\"Show this document on CDLI\" sec=\"P285109 obverse:1:5'\">P285109 obverse:1:5'</a></span></div><div class=\" children\"><div class=\"contnr c3    \" ><div class=\"lbl c3  \" ><span class=\"nd\">line</span></div><div class=\"children hor wrap \"><div class=\"contnr c2    \" ><div class=\"lbl c2  \" ><span class=\"nd\">cluster</span></div><div class='features'><span class=\"type xft\" ><span class=\"f\">type=</span>missing</span></div><div class=\"children hor wrap \"><div class=\"contnr c1 trm   \" ><div class=\"lbl c1 trm \" ><span class=\"nd\">word</span> <span class=\"txtt\"><span class=\"plain   \" ><span class=\"txtt\">[x </span></span></span></div><div class='features'><span class=\"type xft\" ><span class=\"f\">type=</span>word</span></div></div><div class=\"contnr c1 trm   \" ><div class=\"lbl c1 trm \" ><span class=\"nd\">word</span> <span class=\"txtt\"><span class=\"plain   \" ><span class=\"txtt\">x </span></span></span></div><div class='features'><span class=\"type xft\" ><span class=\"f\">type=</span>word</span></div></div><div class=\"contnr c1 trm  rno \" ><div class=\"lbl c1 trm \" ><span class=\"nd\">word</span> <span class=\"txtt\"><span class=\"plain  rno \" ><span class=\"txtt\">ZA₃.</span><span class=\"txtt\">HI].</span></span></span></div><div class='features'><span class=\"type xft\" ><span class=\"f\">type=</span>word</span></div></div></div></div><div class=\"contnr c1 trm  lno \" ><div class=\"lbl c1 trm \" ><span class=\"nd\">word</span> <span class=\"txtt\"><span class=\"plain  lno \" ><span class=\"txtt\">LI </span></span></span></div><div class='features'><span class=\"type xft\" ><span class=\"f\">type=</span>word</span></div></div><div class=\"contnr c1 trm   \" ><div class=\"lbl c1 trm \" ><span class=\"nd\">word</span> <span class=\"txtt\"><span class=\"plain   \" ><span class=\"plain   hl\" ><span class=\"txtt\">1/</span></span><span class=\"plain   hl\" ><span class=\"txtt\">3 </span></span></span></span></div><div class='features'><span class=\"type xft\" ><span class=\"f\">type=</span>word</span></div></div><div class=\"contnr c1 trm   \" ><div class=\"lbl c1 trm \" ><span class=\"nd\">word</span> <span class=\"txtt\"><span class=\"plain   \" ><span class=\"txtt\">SILA₃ </span></span></span></div><div class='features'><span class=\"type xft\" ><span class=\"f\">type=</span>word</span></div></div><div class=\"contnr c1 trm   \" ><div class=\"lbl c1 trm \" ><span class=\"nd\">word</span> <span class=\"txtt\"><span class=\"plain   \" ><span class=\"txtt\">ŠIKA </span></span></span></div><div class='features'><span class=\"type xft\" ><span class=\"f\">type=</span>word</span></div></div><div class=\"contnr c1 trm   \" ><div class=\"lbl c1 trm \" ><span class=\"nd\">word</span> <span class=\"txtt\"><span class=\"plain   \" ><span class=\"txtt\">IM.</span><span class=\"txtt\">ŠU.</span><span class=\"txtt\">RIN.</span><span class=\"txtt\">NA </span></span></span></div><div class='features'><span class=\"type xft\" ><span class=\"f\">type=</span>word</span></div></div><div class=\"contnr c1 trm   \" ><div class=\"lbl c1 trm \" ><span class=\"nd\">word</span> <span class=\"txtt\"><span class=\"plain   \" ><span class=\"plain   hl\" ><span class=\"txtt\">10 </span></span></span></span></div><div class='features'><span class=\"type xft\" ><span class=\"f\">type=</span>word</span></div></div><div class=\"contnr c2    \" ><div class=\"lbl c2  \" ><span class=\"nd\">cluster</span></div><div class='features'><span class=\"type xft\" ><span class=\"f\">type=</span>missing</span></div><div class=\"children hor wrap \"><div class=\"contnr c1 trm   \" ><div class=\"lbl c1 trm \" ><span class=\"nd\">word</span> <span class=\"txtt\"><span class=\"plain   \" ><span class=\"txtt\">[GIN₂ </span></span></span></div><div class='features'><span class=\"type xft\" ><span class=\"f\">type=</span>word</span></div></div><div class=\"contnr c1 trm   \" ><div class=\"lbl c1 trm \" ><span class=\"nd\">word</span> <span class=\"txtt\"><span class=\"plain   \" ><span class=\"txtt\">x </span></span></span></div><div class='features'><span class=\"type xft\" ><span class=\"f\">type=</span>word</span></div></div><div class=\"contnr c1 trm   \" ><div class=\"lbl c1 trm \" ><span class=\"nd\">word</span> <span class=\"txtt\"><span class=\"plain   \" ><span class=\"txtt\">x </span></span></span></div><div class='features'><span class=\"type xft\" ><span class=\"f\">type=</span>word</span></div></div><div class=\"contnr c1 trm   \" ><div class=\"lbl c1 trm \" ><span class=\"nd\">word</span> <span class=\"txtt\"><span class=\"plain   \" ><span class=\"txtt\">x </span></span></span></div><div class='features'><span class=\"type xft\" ><span class=\"f\">type=</span>word</span></div></div><div class=\"contnr c1 trm   \" ><div class=\"lbl c1 trm \" ><span class=\"nd\">word</span> <span class=\"txtt\"><span class=\"plain   \" ><span class=\"txtt\">x </span></span></span></div><div class='features'><span class=\"type xft\" ><span class=\"f\">type=</span>word</span></div></div><div class=\"contnr c1 trm   \" ><div class=\"lbl c1 trm \" ><span class=\"nd\">word</span> <span class=\"txtt\"><span class=\"plain   \" ><span class=\"txtt\">x </span></span></span></div><div class='features'><span class=\"type xft\" ><span class=\"f\">type=</span>word</span></div></div><div class=\"contnr c1 trm   \" ><div class=\"lbl c1 trm \" ><span class=\"nd\">word</span> <span class=\"txtt\"><span class=\"plain   \" ><span class=\"txtt\">x]\n",
       "</span></span></span></div><div class='features'><span class=\"type xft\" ><span class=\"f\">type=</span>word</span></div></div></div></div></div></div></div>"
      ],
      "text/plain": [
       "<IPython.core.display.HTML object>"
      ]
     },
     "metadata": {},
     "output_type": "display_data"
    },
    {
     "data": {
      "text/html": [
       "<p><b>line</b> <i>2</i></p>"
      ],
      "text/plain": [
       "<IPython.core.display.HTML object>"
      ]
     },
     "metadata": {},
     "output_type": "display_data"
    },
    {
     "data": {
      "text/html": [
       "<div class=\"tfsechead \"><span class=\"ltr\"><a target=\"_blank\" href=\"https://cdli.ucla.edu/search/search_results.php?SearchMode=Text&amp;ObjectID=P285109\" title=\"Show this document on CDLI\" sec=\"P285109 obverse:1:6'\">P285109 obverse:1:6'</a></span></div><div class=\" children\"><div class=\"contnr c3    \" ><div class=\"lbl c3  \" ><span class=\"nd\">line</span></div><div class=\"children hor wrap \"><div class=\"contnr c2    \" ><div class=\"lbl c2  \" ><span class=\"nd\">cluster</span></div><div class='features'><span class=\"type xft\" ><span class=\"f\">type=</span>missing</span></div><div class=\"children hor wrap \"><div class=\"contnr c1 trm   \" ><div class=\"lbl c1 trm \" ><span class=\"nd\">word</span> <span class=\"txtt\"><span class=\"plain   \" ><span class=\"txtt\">[x </span></span></span></div><div class='features'><span class=\"type xft\" ><span class=\"f\">type=</span>word</span></div></div><div class=\"contnr c1 trm   \" ><div class=\"lbl c1 trm \" ><span class=\"nd\">word</span> <span class=\"txtt\"><span class=\"plain   \" ><span class=\"txtt\">x </span></span></span></div><div class='features'><span class=\"type xft\" ><span class=\"f\">type=</span>word</span></div></div><div class=\"contnr c1 trm  rno \" ><div class=\"lbl c1 trm \" ><span class=\"nd\">word</span> <span class=\"txtt\"><span class=\"plain  rno \" ><span class=\"txtt\">GAZI</span></span></span></div><div class='features'><span class=\"type xft\" ><span class=\"f\">type=</span>word</span></div></div><div class=\"contnr c2    \" ><div class=\"lbl c2  \" ><span class=\"nd\">cluster</span></div><div class='features'><span class=\"type xft\" ><span class=\"f\">type=</span>det</span></div><div class=\"children hor wrap \"><div class=\"contnr c1 trm  lno \" ><div class=\"lbl c1 trm \" ><span class=\"nd\">word</span> <span class=\"txtt\"><span class=\"plain  lno \" ><span class=\"txtt\">{sar]} </span></span></span></div><div class='features'><span class=\"type xft\" ><span class=\"f\">type=</span>word</span></div></div></div></div></div></div><div class=\"contnr c1 trm   \" ><div class=\"lbl c1 trm \" ><span class=\"nd\">word</span> <span class=\"txtt\"><span class=\"plain   \" ><span class=\"txtt\">SILA₁₁-</span><span class=\"txtt\">aš </span></span></span></div><div class='features'><span class=\"type xft\" ><span class=\"f\">type=</span>word</span></div></div><div class=\"contnr c1 trm   \" ><div class=\"lbl c1 trm \" ><span class=\"nd\">word</span> <span class=\"txtt\"><span class=\"plain   \" ><span class=\"txtt\">LAL-</span><span class=\"txtt\">ma </span></span></span></div><div class='features'><span class=\"type xft\" ><span class=\"f\">type=</span>word</span></div></div><div class=\"contnr c1 trm  rno \" ><div class=\"lbl c1 trm \" ><span class=\"nd\">word</span> <span class=\"txtt\"><span class=\"plain  rno \" ><span class=\"txtt\">UD.</span><span class=\"plain   hl\" ><span class=\"txtt\">3.</span></span></span></span></div><div class='features'><span class=\"type xft\" ><span class=\"f\">type=</span>word</span></div></div><div class=\"contnr c2    \" ><div class=\"lbl c2  \" ><span class=\"nd\">cluster</span></div><div class='features'><span class=\"type xft\" ><span class=\"f\">type=</span>missing</span></div><div class=\"children hor wrap \"><div class=\"contnr c1 trm  lno \" ><div class=\"lbl c1 trm \" ><span class=\"nd\">word</span> <span class=\"txtt\"><span class=\"plain  lno \" ><span class=\"txtt\">[KAM₂ </span></span></span></div><div class='features'><span class=\"type xft\" ><span class=\"f\">type=</span>word</span></div></div><div class=\"contnr c1 trm   \" ><div class=\"lbl c1 trm \" ><span class=\"nd\">word</span> <span class=\"txtt\"><span class=\"plain   \" ><span class=\"txtt\">NU </span></span></span></div><div class='features'><span class=\"type xft\" ><span class=\"f\">type=</span>word</span></div></div><div class=\"contnr c1 trm   \" ><div class=\"lbl c1 trm \" ><span class=\"nd\">word</span> <span class=\"txtt\"><span class=\"plain   \" ><span class=\"txtt\">DU₈]\n",
       "</span></span></span></div><div class='features'><span class=\"type xft\" ><span class=\"f\">type=</span>word</span></div></div></div></div></div></div></div>"
      ],
      "text/plain": [
       "<IPython.core.display.HTML object>"
      ]
     },
     "metadata": {},
     "output_type": "display_data"
    },
    {
     "data": {
      "text/html": [
       "<p><b>line</b> <i>3</i></p>"
      ],
      "text/plain": [
       "<IPython.core.display.HTML object>"
      ]
     },
     "metadata": {},
     "output_type": "display_data"
    },
    {
     "data": {
      "text/html": [
       "<div class=\"tfsechead \"><span class=\"ltr\"><a target=\"_blank\" href=\"https://cdli.ucla.edu/search/search_results.php?SearchMode=Text&amp;ObjectID=P285109\" title=\"Show this document on CDLI\" sec=\"P285109 obverse:1:7'\">P285109 obverse:1:7'</a></span></div><div class=\" children\"><div class=\"contnr c3    \" ><div class=\"lbl c3  \" ><span class=\"nd\">line</span></div><div class=\"children hor wrap \"><div class=\"contnr c2    \" ><div class=\"lbl c2  \" ><span class=\"nd\">cluster</span></div><div class='features'><span class=\"type xft\" ><span class=\"f\">type=</span>missing</span></div><div class=\"children hor wrap \"><div class=\"contnr c1 trm   \" ><div class=\"lbl c1 trm \" ><span class=\"nd\">word</span> <span class=\"txtt\"><span class=\"plain   \" ><span class=\"txtt\">[EGIR </span></span></span></div><div class='features'><span class=\"type xft\" ><span class=\"f\">type=</span>word</span></div></div><div class=\"contnr c1 trm  rno \" ><div class=\"lbl c1 trm \" ><span class=\"nd\">word</span> <span class=\"txtt\"><span class=\"plain  rno \" ><span class=\"txtt\">na]-</span></span></span></div><div class='features'><span class=\"type xft\" ><span class=\"f\">type=</span>word</span></div></div></div></div><div class=\"contnr c1 trm  lno \" ><div class=\"lbl c1 trm \" ><span class=\"nd\">word</span> <span class=\"txtt\"><span class=\"plain  lno \" ><span class=\"txtt\">aṣ-</span><span class=\"txtt\">ma-</span><span class=\"txtt\">da-</span><span class=\"txtt\">te </span></span></span></div><div class='features'><span class=\"type xft\" ><span class=\"f\">type=</span>word</span></div></div><div class=\"contnr c1 trm   \" ><div class=\"lbl c1 trm \" ><span class=\"nd\">word</span> <span class=\"txtt\"><span class=\"plain   \" ><span class=\"txtt\">an-</span><span class=\"txtt\">na-</span><span class=\"txtt\">ti </span></span></span></div><div class='features'><span class=\"type xft\" ><span class=\"f\">type=</span>word</span></div></div><div class=\"contnr c1 trm   \" ><div class=\"lbl c1 trm \" ><span class=\"nd\">word</span> <span class=\"txtt\"><span class=\"plain   \" ><span class=\"plain   hl\" ><span class=\"txtt\">10 </span></span></span></span></div><div class='features'><span class=\"type xft\" ><span class=\"f\">type=</span>word</span></div></div><div class=\"contnr c1 trm   \" ><div class=\"lbl c1 trm \" ><span class=\"nd\">word</span> <span class=\"txtt\"><span class=\"plain   \" ><span class=\"txtt\">GIN₂ </span></span></span></div><div class='features'><span class=\"type xft\" ><span class=\"f\">type=</span>word</span></div></div><div class=\"contnr c1 trm   \" ><div class=\"lbl c1 trm \" ><span class=\"nd\">word</span> <span class=\"txtt\"><span class=\"plain   \" ><span class=\"txtt\">ZA₃.</span><span class=\"txtt\">HI.</span><span class=\"txtt\">LI </span></span></span></div><div class='features'><span class=\"type xft\" ><span class=\"f\">type=</span>word</span></div></div><div class=\"contnr c1 trm   \" ><div class=\"lbl c1 trm \" ><span class=\"nd\">word</span> <span class=\"txtt\"><span class=\"plain   \" ><span class=\"txtt\">ša₂ </span></span></span></div><div class='features'><span class=\"type xft\" ><span class=\"f\">type=</span>word</span></div></div><div class=\"contnr c1 trm   \" ><div class=\"lbl c1 trm \" ><span class=\"nd\">word</span> <span class=\"txtt\"><span class=\"plain   \" ><span class=\"txtt\">KA# </span></span></span></div><div class='features'><span class=\"type xft\" ><span class=\"f\">type=</span>word</span></div></div><div class=\"contnr c2    \" ><div class=\"lbl c2  \" ><span class=\"nd\">cluster</span></div><div class='features'><span class=\"type xft\" ><span class=\"f\">type=</span>missing</span></div><div class=\"children hor wrap \"><div class=\"contnr c1 trm   \" ><div class=\"lbl c1 trm \" ><span class=\"nd\">word</span> <span class=\"txtt\"><span class=\"plain   \" ><span class=\"txtt\">[x </span></span></span></div><div class='features'><span class=\"type xft\" ><span class=\"f\">type=</span>word</span></div></div><div class=\"contnr c1 trm   \" ><div class=\"lbl c1 trm \" ><span class=\"nd\">word</span> <span class=\"txtt\"><span class=\"plain   \" ><span class=\"txtt\">x]\n",
       "</span></span></span></div><div class='features'><span class=\"type xft\" ><span class=\"f\">type=</span>word</span></div></div></div></div></div></div></div>"
      ],
      "text/plain": [
       "<IPython.core.display.HTML object>"
      ]
     },
     "metadata": {},
     "output_type": "display_data"
    },
    {
     "data": {
      "text/html": [
       "<p><b>line</b> <i>4</i></p>"
      ],
      "text/plain": [
       "<IPython.core.display.HTML object>"
      ]
     },
     "metadata": {},
     "output_type": "display_data"
    },
    {
     "data": {
      "text/html": [
       "<div class=\"tfsechead \"><span class=\"ltr\"><a target=\"_blank\" href=\"https://cdli.ucla.edu/search/search_results.php?SearchMode=Text&amp;ObjectID=P285109\" title=\"Show this document on CDLI\" sec=\"P285109 obverse:1:9'\">P285109 obverse:1:9'</a></span></div><div class=\" children\"><div class=\"contnr c3    \" ><div class=\"lbl c3  \" ><span class=\"nd\">line</span></div><div class=\"children hor wrap \"><div class=\"contnr c2    \" ><div class=\"lbl c2  \" ><span class=\"nd\">cluster</span></div><div class='features'><span class=\"type xft\" ><span class=\"f\">type=</span>missing</span></div><div class=\"children hor wrap \"><div class=\"contnr c1 trm   \" ><div class=\"lbl c1 trm \" ><span class=\"nd\">word</span> <span class=\"txtt\"><span class=\"plain   \" ><span class=\"txtt\">[x </span></span></span></div><div class='features'><span class=\"type xft\" ><span class=\"f\">type=</span>word</span></div></div><div class=\"contnr c1 trm   \" ><div class=\"lbl c1 trm \" ><span class=\"nd\">word</span> <span class=\"txtt\"><span class=\"plain   \" ><span class=\"txtt\">x </span></span></span></div><div class='features'><span class=\"type xft\" ><span class=\"f\">type=</span>word</span></div></div><div class=\"contnr c1 trm   \" ><div class=\"lbl c1 trm \" ><span class=\"nd\">word</span> <span class=\"txtt\"><span class=\"plain   \" ><span class=\"txtt\">x </span></span></span></div><div class='features'><span class=\"type xft\" ><span class=\"f\">type=</span>word</span></div></div><div class=\"contnr c1 trm   \" ><div class=\"lbl c1 trm \" ><span class=\"nd\">word</span> <span class=\"txtt\"><span class=\"plain   \" ><span class=\"txtt\">GU₇] </span></span></span></div><div class='features'><span class=\"type xft\" ><span class=\"f\">type=</span>word</span></div></div></div></div><div class=\"contnr c1 trm   \" ><div class=\"lbl c1 trm \" ><span class=\"nd\">word</span> <span class=\"txtt\"><span class=\"plain   \" ><span class=\"plain   hl\" ><span class=\"txtt\">5 </span></span></span></span></div><div class='features'><span class=\"type xft\" ><span class=\"f\">type=</span>word</span></div></div><div class=\"contnr c1 trm   \" ><div class=\"lbl c1 trm \" ><span class=\"nd\">word</span> <span class=\"txtt\"><span class=\"plain   \" ><span class=\"txtt\">GIN₂ </span></span></span></div><div class='features'><span class=\"type xft\" ><span class=\"f\">type=</span>word</span></div></div><div class=\"contnr c1 trm   \" ><div class=\"lbl c1 trm \" ><span class=\"nd\">word</span> <span class=\"txtt\"><span class=\"plain   \" ><span class=\"txtt\">ZA₃.</span><span class=\"txtt\">HI.</span><span class=\"txtt\">LI </span></span></span></div><div class='features'><span class=\"type xft\" ><span class=\"f\">type=</span>word</span></div></div><div class=\"contnr c1 trm   \" ><div class=\"lbl c1 trm \" ><span class=\"nd\">word</span> <span class=\"txtt\"><span class=\"plain   \" ><span class=\"txtt\">ARA₃-</span><span class=\"txtt\">ti₃ </span></span></span></div><div class='features'><span class=\"type xft\" ><span class=\"f\">type=</span>word</span></div></div><div class=\"contnr c1 trm   \" ><div class=\"lbl c1 trm \" ><span class=\"nd\">word</span> <span class=\"txtt\"><span class=\"plain   \" ><span class=\"txtt\">ina </span></span></span></div><div class='features'><span class=\"type xft\" ><span class=\"f\">type=</span>word</span></div></div><div class=\"contnr c1 trm   \" ><div class=\"lbl c1 trm \" ><span class=\"nd\">word</span> <span class=\"txtt\"><span class=\"plain   \" ><span class=\"txtt\">KAŠ </span></span></span></div><div class='features'><span class=\"type xft\" ><span class=\"f\">type=</span>word</span></div></div><div class=\"contnr c1 trm   \" ><div class=\"lbl c1 trm \" ><span class=\"nd\">word</span> <span class=\"txtt\"><span class=\"plain   \" ><span class=\"txtt\">SIG₃-</span><span class=\"txtt\">aṣ-</span><span class=\"txtt\">ma </span></span></span></div><div class='features'><span class=\"type xft\" ><span class=\"f\">type=</span>word</span></div></div><div class=\"contnr c1 trm   \" ><div class=\"lbl c1 trm \" ><span class=\"nd\">word</span> <span class=\"txtt\"><span class=\"plain   \" ><span class=\"txtt\">NAG#-</span><span class=\"txtt\">šu₂# </span></span></span></div><div class='features'><span class=\"type xft\" ><span class=\"f\">type=</span>word</span></div></div><div class=\"contnr c1 trm  rno \" ><div class=\"lbl c1 trm \" ><span class=\"nd\">word</span> <span class=\"txtt\"><span class=\"plain  rno \" ><span class=\"txtt\">u₂#-</span></span></span></div><div class='features'><span class=\"type xft\" ><span class=\"f\">type=</span>word</span></div></div><div class=\"contnr c2    \" ><div class=\"lbl c2  \" ><span class=\"nd\">cluster</span></div><div class='features'><span class=\"type xft\" ><span class=\"f\">type=</span>missing</span></div><div class=\"children hor wrap \"><div class=\"contnr c1 trm  lno \" ><div class=\"lbl c1 trm \" ><span class=\"nd\">word</span> <span class=\"txtt\"><span class=\"plain  lno \" ><span class=\"txtt\">[za-</span><span class=\"txtt\">ka-</span><span class=\"txtt\">ma </span></span></span></div><div class='features'><span class=\"type xft\" ><span class=\"f\">type=</span>word</span></div></div><div class=\"contnr c1 trm   \" ><div class=\"lbl c1 trm \" ><span class=\"nd\">word</span> <span class=\"txtt\"><span class=\"plain   \" ><span class=\"txtt\">x </span></span></span></div><div class='features'><span class=\"type xft\" ><span class=\"f\">type=</span>word</span></div></div><div class=\"contnr c1 trm   \" ><div class=\"lbl c1 trm \" ><span class=\"nd\">word</span> <span class=\"txtt\"><span class=\"plain   \" ><span class=\"txtt\">x </span></span></span></div><div class='features'><span class=\"type xft\" ><span class=\"f\">type=</span>word</span></div></div><div class=\"contnr c1 trm   \" ><div class=\"lbl c1 trm \" ><span class=\"nd\">word</span> <span class=\"txtt\"><span class=\"plain   \" ><span class=\"txtt\">x]\n",
       "</span></span></span></div><div class='features'><span class=\"type xft\" ><span class=\"f\">type=</span>word</span></div></div></div></div></div></div></div>"
      ],
      "text/plain": [
       "<IPython.core.display.HTML object>"
      ]
     },
     "metadata": {},
     "output_type": "display_data"
    },
    {
     "data": {
      "text/html": [
       "<p><b>line</b> <i>5</i></p>"
      ],
      "text/plain": [
       "<IPython.core.display.HTML object>"
      ]
     },
     "metadata": {},
     "output_type": "display_data"
    },
    {
     "data": {
      "text/html": [
       "<div class=\"tfsechead \"><span class=\"ltr\"><a target=\"_blank\" href=\"https://cdli.ucla.edu/search/search_results.php?SearchMode=Text&amp;ObjectID=P285109\" title=\"Show this document on CDLI\" sec=\"P285109 obverse:1:11'\">P285109 obverse:1:11'</a></span></div><div class=\" children\"><div class=\"contnr c3    \" ><div class=\"lbl c3  \" ><span class=\"nd\">line</span></div><div class=\"children hor wrap \"><div class=\"contnr c2    \" ><div class=\"lbl c2  \" ><span class=\"nd\">cluster</span></div><div class='features'><span class=\"type xft\" ><span class=\"f\">type=</span>missing</span></div><div class=\"children hor wrap \"><div class=\"contnr c1 trm   \" ><div class=\"lbl c1 trm \" ><span class=\"nd\">word</span> <span class=\"txtt\"><span class=\"plain   \" ><span class=\"txtt\">[x </span></span></span></div><div class='features'><span class=\"type xft\" ><span class=\"f\">type=</span>word</span></div></div><div class=\"contnr c1 trm   \" ><div class=\"lbl c1 trm \" ><span class=\"nd\">word</span> <span class=\"txtt\"><span class=\"plain   \" ><span class=\"txtt\">x </span></span></span></div><div class='features'><span class=\"type xft\" ><span class=\"f\">type=</span>word</span></div></div><div class=\"contnr c1 trm   \" ><div class=\"lbl c1 trm \" ><span class=\"nd\">word</span> <span class=\"txtt\"><span class=\"plain   \" ><span class=\"txtt\">x </span></span></span></div><div class='features'><span class=\"type xft\" ><span class=\"f\">type=</span>word</span></div></div><div class=\"contnr c1 trm   \" ><div class=\"lbl c1 trm \" ><span class=\"nd\">word</span> <span class=\"txtt\"><span class=\"plain   \" ><span class=\"txtt\">x </span></span></span></div><div class='features'><span class=\"type xft\" ><span class=\"f\">type=</span>word</span></div></div><div class=\"contnr c1 trm   \" ><div class=\"lbl c1 trm \" ><span class=\"nd\">word</span> <span class=\"txtt\"><span class=\"plain   \" ><span class=\"txtt\">x </span></span></span></div><div class='features'><span class=\"type xft\" ><span class=\"f\">type=</span>word</span></div></div><div class=\"contnr c1 trm   \" ><div class=\"lbl c1 trm \" ><span class=\"nd\">word</span> <span class=\"txtt\"><span class=\"plain   \" ><span class=\"txtt\">x] </span></span></span></div><div class='features'><span class=\"type xft\" ><span class=\"f\">type=</span>word</span></div></div></div></div><div class=\"contnr c1 trm   \" ><div class=\"lbl c1 trm \" ><span class=\"nd\">word</span> <span class=\"txtt\"><span class=\"plain   \" ><span class=\"txtt\">ZA?#.</span><span class=\"txtt\">BA?#.</span><span class=\"txtt\">LAM?# </span></span></span></div><div class='features'><span class=\"type xft\" ><span class=\"f\">type=</span>word</span></div></div><div class=\"contnr c1 trm   \" ><div class=\"lbl c1 trm \" ><span class=\"nd\">word</span> <span class=\"txtt\"><span class=\"plain   \" ><span class=\"plain   hl\" ><span class=\"txtt\">1/</span></span><span class=\"plain   hl\" ><span class=\"txtt\">3 </span></span></span></span></div><div class='features'><span class=\"type xft\" ><span class=\"f\">type=</span>word</span></div></div><div class=\"contnr c1 trm   \" ><div class=\"lbl c1 trm \" ><span class=\"nd\">word</span> <span class=\"txtt\"><span class=\"plain   \" ><span class=\"txtt\">SILA₃ </span></span></span></div><div class='features'><span class=\"type xft\" ><span class=\"f\">type=</span>word</span></div></div><div class=\"contnr c2    \" ><div class=\"lbl c2  \" ><span class=\"nd\">cluster</span></div><div class='features'><span class=\"type xft\" ><span class=\"f\">type=</span>det</span></div><div class=\"children hor wrap \"><div class=\"contnr c1 trm  rno \" ><div class=\"lbl c1 trm \" ><span class=\"nd\">word</span> <span class=\"txtt\"><span class=\"plain  rno \" ><span class=\"txtt\">{u₂}</span></span></span></div><div class='features'><span class=\"type xft\" ><span class=\"f\">type=</span>word</span></div></div></div></div><div class=\"contnr c2    \" ><div class=\"lbl c2  \" ><span class=\"nd\">cluster</span></div><div class='features'><span class=\"type xft\" ><span class=\"f\">type=</span>missing</span></div><div class=\"children hor wrap \"><div class=\"contnr c1 trm  lno \" ><div class=\"lbl c1 trm \" ><span class=\"nd\">word</span> <span class=\"txtt\"><span class=\"plain  lno \" ><span class=\"txtt\">[x </span></span></span></div><div class='features'><span class=\"type xft\" ><span class=\"f\">type=</span>word</span></div></div><div class=\"contnr c1 trm   \" ><div class=\"lbl c1 trm \" ><span class=\"nd\">word</span> <span class=\"txtt\"><span class=\"plain   \" ><span class=\"txtt\">x </span></span></span></div><div class='features'><span class=\"type xft\" ><span class=\"f\">type=</span>word</span></div></div><div class=\"contnr c1 trm   \" ><div class=\"lbl c1 trm \" ><span class=\"nd\">word</span> <span class=\"txtt\"><span class=\"plain   \" ><span class=\"txtt\">x]\n",
       "</span></span></span></div><div class='features'><span class=\"type xft\" ><span class=\"f\">type=</span>word</span></div></div></div></div></div></div></div>"
      ],
      "text/plain": [
       "<IPython.core.display.HTML object>"
      ]
     },
     "metadata": {},
     "output_type": "display_data"
    },
    {
     "data": {
      "text/html": [
       "<p><b>line</b> <i>6</i></p>"
      ],
      "text/plain": [
       "<IPython.core.display.HTML object>"
      ]
     },
     "metadata": {},
     "output_type": "display_data"
    },
    {
     "data": {
      "text/html": [
       "<div class=\"tfsechead \"><span class=\"ltr\"><a target=\"_blank\" href=\"https://cdli.ucla.edu/search/search_results.php?SearchMode=Text&amp;ObjectID=P285109\" title=\"Show this document on CDLI\" sec=\"P285109 obverse:1:12'\">P285109 obverse:1:12'</a></span></div><div class=\" children\"><div class=\"contnr c3    \" ><div class=\"lbl c3  \" ><span class=\"nd\">line</span></div><div class=\"children hor wrap \"><div class=\"contnr c2    \" ><div class=\"lbl c2  \" ><span class=\"nd\">cluster</span></div><div class='features'><span class=\"type xft\" ><span class=\"f\">type=</span>missing</span></div><div class=\"children hor wrap \"><div class=\"contnr c1 trm   \" ><div class=\"lbl c1 trm \" ><span class=\"nd\">word</span> <span class=\"txtt\"><span class=\"plain   \" ><span class=\"txtt\">[x </span></span></span></div><div class='features'><span class=\"type xft\" ><span class=\"f\">type=</span>word</span></div></div><div class=\"contnr c1 trm   \" ><div class=\"lbl c1 trm \" ><span class=\"nd\">word</span> <span class=\"txtt\"><span class=\"plain   \" ><span class=\"txtt\">x </span></span></span></div><div class='features'><span class=\"type xft\" ><span class=\"f\">type=</span>word</span></div></div><div class=\"contnr c1 trm   \" ><div class=\"lbl c1 trm \" ><span class=\"nd\">word</span> <span class=\"txtt\"><span class=\"plain   \" ><span class=\"txtt\">x </span></span></span></div><div class='features'><span class=\"type xft\" ><span class=\"f\">type=</span>word</span></div></div><div class=\"contnr c1 trm   \" ><div class=\"lbl c1 trm \" ><span class=\"nd\">word</span> <span class=\"txtt\"><span class=\"plain   \" ><span class=\"txtt\">x </span></span></span></div><div class='features'><span class=\"type xft\" ><span class=\"f\">type=</span>word</span></div></div><div class=\"contnr c1 trm   \" ><div class=\"lbl c1 trm \" ><span class=\"nd\">word</span> <span class=\"txtt\"><span class=\"plain   \" ><span class=\"txtt\">x </span></span></span></div><div class='features'><span class=\"type xft\" ><span class=\"f\">type=</span>word</span></div></div><div class=\"contnr c1 trm   \" ><div class=\"lbl c1 trm \" ><span class=\"nd\">word</span> <span class=\"txtt\"><span class=\"plain   \" ><span class=\"txtt\">x </span></span></span></div><div class='features'><span class=\"type xft\" ><span class=\"f\">type=</span>word</span></div></div><div class=\"contnr c1 trm   \" ><div class=\"lbl c1 trm \" ><span class=\"nd\">word</span> <span class=\"txtt\"><span class=\"plain   \" ><span class=\"txtt\">x </span></span></span></div><div class='features'><span class=\"type xft\" ><span class=\"f\">type=</span>word</span></div></div><div class=\"contnr c1 trm   \" ><div class=\"lbl c1 trm \" ><span class=\"nd\">word</span> <span class=\"txtt\"><span class=\"plain   \" ><span class=\"txtt\">x </span></span></span></div><div class='features'><span class=\"type xft\" ><span class=\"f\">type=</span>word</span></div></div><div class=\"contnr c1 trm   \" ><div class=\"lbl c1 trm \" ><span class=\"nd\">word</span> <span class=\"txtt\"><span class=\"plain   \" ><span class=\"txtt\">x </span></span></span></div><div class='features'><span class=\"type xft\" ><span class=\"f\">type=</span>word</span></div></div><div class=\"contnr c1 trm   \" ><div class=\"lbl c1 trm \" ><span class=\"nd\">word</span> <span class=\"txtt\"><span class=\"plain   \" ><span class=\"txtt\">x </span></span></span></div><div class='features'><span class=\"type xft\" ><span class=\"f\">type=</span>word</span></div></div><div class=\"contnr c1 trm  rno \" ><div class=\"lbl c1 trm \" ><span class=\"nd\">word</span> <span class=\"txtt\"><span class=\"plain  rno \" ><span class=\"txtt\">LAL]-</span></span></span></div><div class='features'><span class=\"type xft\" ><span class=\"f\">type=</span>word</span></div></div></div></div><div class=\"contnr c1 trm  lno \" ><div class=\"lbl c1 trm \" ><span class=\"nd\">word</span> <span class=\"txtt\"><span class=\"plain  lno \" ><span class=\"txtt\">ma </span></span></span></div><div class='features'><span class=\"type xft\" ><span class=\"f\">type=</span>word</span></div></div><div class=\"contnr c1 trm  rno \" ><div class=\"lbl c1 trm \" ><span class=\"nd\">word</span> <span class=\"txtt\"><span class=\"plain  rno \" ><span class=\"txtt\">UD.</span><span class=\"plain   hl\" ><span class=\"txtt\">3.</span></span></span></span></div><div class='features'><span class=\"type xft\" ><span class=\"f\">type=</span>word</span></div></div><div class=\"contnr c2    \" ><div class=\"lbl c2  \" ><span class=\"nd\">cluster</span></div><div class='features'><span class=\"type xft\" ><span class=\"f\">type=</span>missing</span></div><div class=\"children hor wrap \"><div class=\"contnr c1 trm  lno \" ><div class=\"lbl c1 trm \" ><span class=\"nd\">word</span> <span class=\"txtt\"><span class=\"plain  lno \" ><span class=\"txtt\">[KAM₂ </span></span></span></div><div class='features'><span class=\"type xft\" ><span class=\"f\">type=</span>word</span></div></div><div class=\"contnr c1 trm   \" ><div class=\"lbl c1 trm \" ><span class=\"nd\">word</span> <span class=\"txtt\"><span class=\"plain   \" ><span class=\"txtt\">NU </span></span></span></div><div class='features'><span class=\"type xft\" ><span class=\"f\">type=</span>word</span></div></div><div class=\"contnr c1 trm   \" ><div class=\"lbl c1 trm \" ><span class=\"nd\">word</span> <span class=\"txtt\"><span class=\"plain   \" ><span class=\"txtt\">DU₈]\n",
       "</span></span></span></div><div class='features'><span class=\"type xft\" ><span class=\"f\">type=</span>word</span></div></div></div></div></div></div></div>"
      ],
      "text/plain": [
       "<IPython.core.display.HTML object>"
      ]
     },
     "metadata": {},
     "output_type": "display_data"
    }
   ],
   "source": [
    "A.show(results, condensed=True)"
   ]
  },
  {
   "cell_type": "markdown",
   "metadata": {},
   "source": [
    "The last line has two results, and both results are highlighted in the same line display.\n",
    "\n",
    "We can modify the container in which we see our results.\n",
    "\n",
    "By default, it is `line`, but we can make it `face` as well:"
   ]
  },
  {
   "cell_type": "code",
   "execution_count": 12,
   "metadata": {
    "ExecuteTime": {
     "end_time": "2018-05-24T07:47:21.573937Z",
     "start_time": "2018-05-24T07:47:21.561079Z"
    }
   },
   "outputs": [
    {
     "data": {
      "text/html": [
       "<p><b>face</b> <i>1</i></p>"
      ],
      "text/plain": [
       "<IPython.core.display.HTML object>"
      ]
     },
     "metadata": {},
     "output_type": "display_data"
    },
    {
     "data": {
      "text/html": [
       "<div class=\"tfsechead \"><span class=\"ltr\"><a target=\"_blank\" href=\"https://cdli.ucla.edu/search/search_results.php?SearchMode=Text&amp;ObjectID=P285109\" title=\"Show this document on CDLI\" sec=\"P285109 obverse\">P285109 obverse</a></span></div><div class=\" children\"><div class=\"contnr c4    \" ><div class=\"lbl c4  \" ><span class=\"nd\">face</span> <span class=\"txtt\"><span class=\"tfsechead ltr\"><span class=\"ltr\">P285109 obverse</span></span></span></div><div class=\"children hor wrap \"><div class=\"contnr c3    \" ><div class=\"lbl c3  \" ><span class=\"nd\">line</span></div><div class=\"children hor wrap \"><div class=\"contnr c2    \" ><div class=\"lbl c2  \" ><span class=\"nd\">cluster</span></div><div class='features'><span class=\"type xft\" ><span class=\"f\">type=</span>missing</span></div><div class=\"children hor wrap \"><div class=\"contnr c1 trm   \" ><div class=\"lbl c1 trm \" ><span class=\"nd\">word</span> <span class=\"txtt\"><span class=\"plain   \" ><span class=\"txtt\">[x </span></span></span></div><div class='features'><span class=\"type xft\" ><span class=\"f\">type=</span>word</span></div></div><div class=\"contnr c1 trm   \" ><div class=\"lbl c1 trm \" ><span class=\"nd\">word</span> <span class=\"txtt\"><span class=\"plain   \" ><span class=\"txtt\">x </span></span></span></div><div class='features'><span class=\"type xft\" ><span class=\"f\">type=</span>word</span></div></div><div class=\"contnr c1 trm   \" ><div class=\"lbl c1 trm \" ><span class=\"nd\">word</span> <span class=\"txtt\"><span class=\"plain   \" ><span class=\"txtt\">x </span></span></span></div><div class='features'><span class=\"type xft\" ><span class=\"f\">type=</span>word</span></div></div><div class=\"contnr c1 trm   \" ><div class=\"lbl c1 trm \" ><span class=\"nd\">word</span> <span class=\"txtt\"><span class=\"plain   \" ><span class=\"txtt\">x </span></span></span></div><div class='features'><span class=\"type xft\" ><span class=\"f\">type=</span>word</span></div></div><div class=\"contnr c1 trm   \" ><div class=\"lbl c1 trm \" ><span class=\"nd\">word</span> <span class=\"txtt\"><span class=\"plain   \" ><span class=\"txtt\">x </span></span></span></div><div class='features'><span class=\"type xft\" ><span class=\"f\">type=</span>word</span></div></div><div class=\"contnr c1 trm   \" ><div class=\"lbl c1 trm \" ><span class=\"nd\">word</span> <span class=\"txtt\"><span class=\"plain   \" ><span class=\"txtt\">x </span></span></span></div><div class='features'><span class=\"type xft\" ><span class=\"f\">type=</span>word</span></div></div><div class=\"contnr c1 trm   \" ><div class=\"lbl c1 trm \" ><span class=\"nd\">word</span> <span class=\"txtt\"><span class=\"plain   \" ><span class=\"txtt\">x </span></span></span></div><div class='features'><span class=\"type xft\" ><span class=\"f\">type=</span>word</span></div></div><div class=\"contnr c1 trm   \" ><div class=\"lbl c1 trm \" ><span class=\"nd\">word</span> <span class=\"txtt\"><span class=\"plain   \" ><span class=\"txtt\">x </span></span></span></div><div class='features'><span class=\"type xft\" ><span class=\"f\">type=</span>word</span></div></div><div class=\"contnr c1 trm  rno \" ><div class=\"lbl c1 trm \" ><span class=\"nd\">word</span> <span class=\"txtt\"><span class=\"plain  rno \" ><span class=\"txtt\">TI]-</span></span></span></div><div class='features'><span class=\"type xft\" ><span class=\"f\">type=</span>word</span></div></div></div></div><div class=\"contnr c2    \" ><div class=\"lbl c2  \" ><span class=\"nd\">cluster</span></div><div class='features'><span class=\"type xft\" ><span class=\"f\">type=</span>missing</span></div><div class=\"children hor wrap \"><div class=\"contnr c1 trm  lno \" ><div class=\"lbl c1 trm \" ><span class=\"nd\">word</span> <span class=\"txtt\"><span class=\"plain  lno \" ><span class=\"txtt\">[qe₂ </span></span></span></div><div class='features'><span class=\"type xft\" ><span class=\"f\">type=</span>word</span></div></div><div class=\"contnr c1 trm   \" ><div class=\"lbl c1 trm \" ><span class=\"nd\">word</span> <span class=\"txtt\"><span class=\"plain   \" ><span class=\"txtt\">x </span></span></span></div><div class='features'><span class=\"type xft\" ><span class=\"f\">type=</span>word</span></div></div><div class=\"contnr c1 trm   \" ><div class=\"lbl c1 trm \" ><span class=\"nd\">word</span> <span class=\"txtt\"><span class=\"plain   \" ><span class=\"txtt\">x </span></span></span></div><div class='features'><span class=\"type xft\" ><span class=\"f\">type=</span>word</span></div></div><div class=\"contnr c1 trm   \" ><div class=\"lbl c1 trm \" ><span class=\"nd\">word</span> <span class=\"txtt\"><span class=\"plain   \" ><span class=\"txtt\">x </span></span></span></div><div class='features'><span class=\"type xft\" ><span class=\"f\">type=</span>word</span></div></div><div class=\"contnr c1 trm   \" ><div class=\"lbl c1 trm \" ><span class=\"nd\">word</span> <span class=\"txtt\"><span class=\"plain   \" ><span class=\"txtt\">x </span></span></span></div><div class='features'><span class=\"type xft\" ><span class=\"f\">type=</span>word</span></div></div><div class=\"contnr c1 trm   \" ><div class=\"lbl c1 trm \" ><span class=\"nd\">word</span> <span class=\"txtt\"><span class=\"plain   \" ><span class=\"txtt\">x </span></span></span></div><div class='features'><span class=\"type xft\" ><span class=\"f\">type=</span>word</span></div></div><div class=\"contnr c1 trm   \" ><div class=\"lbl c1 trm \" ><span class=\"nd\">word</span> <span class=\"txtt\"><span class=\"plain   \" ><span class=\"txtt\">x </span></span></span></div><div class='features'><span class=\"type xft\" ><span class=\"f\">type=</span>word</span></div></div><div class=\"contnr c1 trm   \" ><div class=\"lbl c1 trm \" ><span class=\"nd\">word</span> <span class=\"txtt\"><span class=\"plain   \" ><span class=\"txtt\">x </span></span></span></div><div class='features'><span class=\"type xft\" ><span class=\"f\">type=</span>word</span></div></div><div class=\"contnr c1 trm   \" ><div class=\"lbl c1 trm \" ><span class=\"nd\">word</span> <span class=\"txtt\"><span class=\"plain   \" ><span class=\"txtt\">x </span></span></span></div><div class='features'><span class=\"type xft\" ><span class=\"f\">type=</span>word</span></div></div><div class=\"contnr c1 trm   \" ><div class=\"lbl c1 trm \" ><span class=\"nd\">word</span> <span class=\"txtt\"><span class=\"plain   \" ><span class=\"txtt\">x </span></span></span></div><div class='features'><span class=\"type xft\" ><span class=\"f\">type=</span>word</span></div></div><div class=\"contnr c1 trm   \" ><div class=\"lbl c1 trm \" ><span class=\"nd\">word</span> <span class=\"txtt\"><span class=\"plain   \" ><span class=\"txtt\">x </span></span></span></div><div class='features'><span class=\"type xft\" ><span class=\"f\">type=</span>word</span></div></div><div class=\"contnr c1 trm   \" ><div class=\"lbl c1 trm \" ><span class=\"nd\">word</span> <span class=\"txtt\"><span class=\"plain   \" ><span class=\"txtt\">x </span></span></span></div><div class='features'><span class=\"type xft\" ><span class=\"f\">type=</span>word</span></div></div><div class=\"contnr c1 trm   \" ><div class=\"lbl c1 trm \" ><span class=\"nd\">word</span> <span class=\"txtt\"><span class=\"plain   \" ><span class=\"txtt\">x </span></span></span></div><div class='features'><span class=\"type xft\" ><span class=\"f\">type=</span>word</span></div></div><div class=\"contnr c1 trm   \" ><div class=\"lbl c1 trm \" ><span class=\"nd\">word</span> <span class=\"txtt\"><span class=\"plain   \" ><span class=\"txtt\">x </span></span></span></div><div class='features'><span class=\"type xft\" ><span class=\"f\">type=</span>word</span></div></div><div class=\"contnr c1 trm   \" ><div class=\"lbl c1 trm \" ><span class=\"nd\">word</span> <span class=\"txtt\"><span class=\"plain   \" ><span class=\"txtt\">x </span></span></span></div><div class='features'><span class=\"type xft\" ><span class=\"f\">type=</span>word</span></div></div><div class=\"contnr c1 trm   \" ><div class=\"lbl c1 trm \" ><span class=\"nd\">word</span> <span class=\"txtt\"><span class=\"plain   \" ><span class=\"txtt\">x]\n",
       "</span></span></span></div><div class='features'><span class=\"type xft\" ><span class=\"f\">type=</span>word</span></div></div></div></div></div></div><div class=\"contnr c3    \" ><div class=\"lbl c3  \" ><span class=\"nd\">line</span></div><div class=\"children hor wrap \"><div class=\"contnr c2    \" ><div class=\"lbl c2  \" ><span class=\"nd\">cluster</span></div><div class='features'><span class=\"type xft\" ><span class=\"f\">type=</span>missing</span></div><div class=\"children hor wrap \"><div class=\"contnr c1 trm   \" ><div class=\"lbl c1 trm \" ><span class=\"nd\">word</span> <span class=\"txtt\"><span class=\"plain   \" ><span class=\"txtt\">[x </span></span></span></div><div class='features'><span class=\"type xft\" ><span class=\"f\">type=</span>word</span></div></div><div class=\"contnr c1 trm   \" ><div class=\"lbl c1 trm \" ><span class=\"nd\">word</span> <span class=\"txtt\"><span class=\"plain   \" ><span class=\"txtt\">x </span></span></span></div><div class='features'><span class=\"type xft\" ><span class=\"f\">type=</span>word</span></div></div><div class=\"contnr c1 trm   \" ><div class=\"lbl c1 trm \" ><span class=\"nd\">word</span> <span class=\"txtt\"><span class=\"plain   \" ><span class=\"txtt\">x </span></span></span></div><div class='features'><span class=\"type xft\" ><span class=\"f\">type=</span>word</span></div></div><div class=\"contnr c1 trm   \" ><div class=\"lbl c1 trm \" ><span class=\"nd\">word</span> <span class=\"txtt\"><span class=\"plain   \" ><span class=\"txtt\">x </span></span></span></div><div class='features'><span class=\"type xft\" ><span class=\"f\">type=</span>word</span></div></div><div class=\"contnr c1 trm   \" ><div class=\"lbl c1 trm \" ><span class=\"nd\">word</span> <span class=\"txtt\"><span class=\"plain   \" ><span class=\"txtt\">x </span></span></span></div><div class='features'><span class=\"type xft\" ><span class=\"f\">type=</span>word</span></div></div><div class=\"contnr c1 trm   \" ><div class=\"lbl c1 trm \" ><span class=\"nd\">word</span> <span class=\"txtt\"><span class=\"plain   \" ><span class=\"txtt\">x </span></span></span></div><div class='features'><span class=\"type xft\" ><span class=\"f\">type=</span>word</span></div></div><div class=\"contnr c1 trm   \" ><div class=\"lbl c1 trm \" ><span class=\"nd\">word</span> <span class=\"txtt\"><span class=\"plain   \" ><span class=\"txtt\">x </span></span></span></div><div class='features'><span class=\"type xft\" ><span class=\"f\">type=</span>word</span></div></div><div class=\"contnr c1 trm   \" ><div class=\"lbl c1 trm \" ><span class=\"nd\">word</span> <span class=\"txtt\"><span class=\"plain   \" ><span class=\"txtt\">ZI₃ </span></span></span></div><div class='features'><span class=\"type xft\" ><span class=\"f\">type=</span>word</span></div></div><div class=\"contnr c1 trm  rno \" ><div class=\"lbl c1 trm \" ><span class=\"nd\">word</span> <span class=\"txtt\"><span class=\"plain  rno \" ><span class=\"txtt\">ŠE.</span><span class=\"txtt\">SA].</span></span></span></div><div class='features'><span class=\"type xft\" ><span class=\"f\">type=</span>word</span></div></div></div></div><div class=\"contnr c1 trm  lno \" ><div class=\"lbl c1 trm \" ><span class=\"nd\">word</span> <span class=\"txtt\"><span class=\"plain  lno \" ><span class=\"txtt\">A </span></span></span></div><div class='features'><span class=\"type xft\" ><span class=\"f\">type=</span>word</span></div></div><div class=\"contnr c1 trm   \" ><div class=\"lbl c1 trm \" ><span class=\"nd\">word</span> <span class=\"txtt\"><span class=\"plain   \" ><span class=\"txtt\">ina </span></span></span></div><div class='features'><span class=\"type xft\" ><span class=\"f\">type=</span>word</span></div></div><div class=\"contnr c1 trm   \" ><div class=\"lbl c1 trm \" ><span class=\"nd\">word</span> <span class=\"txtt\"><span class=\"plain   \" ><span class=\"txtt\">A </span></span></span></div><div class='features'><span class=\"type xft\" ><span class=\"f\">type=</span>word</span></div></div><div class=\"contnr c1 trm  rno \" ><div class=\"lbl c1 trm \" ><span class=\"nd\">word</span> <span class=\"txtt\"><span class=\"plain  rno \" ><span class=\"txtt\">GAZI</span></span></span></div><div class='features'><span class=\"type xft\" ><span class=\"f\">type=</span>word</span></div></div><div class=\"contnr c2    \" ><div class=\"lbl c2  \" ><span class=\"nd\">cluster</span></div><div class='features'><span class=\"type xft\" ><span class=\"f\">type=</span>missing</span></div><div class=\"children hor wrap \"><div class=\"contnr c2    \" ><div class=\"lbl c2  \" ><span class=\"nd\">cluster</span></div><div class='features'><span class=\"type xft\" ><span class=\"f\">type=</span>det</span></div><div class=\"children hor wrap \"><div class=\"contnr c1 trm  lno \" ><div class=\"lbl c1 trm \" ><span class=\"nd\">word</span> <span class=\"txtt\"><span class=\"plain  lno \" ><span class=\"txtt\">{[sar} </span></span></span></div><div class='features'><span class=\"type xft\" ><span class=\"f\">type=</span>word</span></div></div></div></div><div class=\"contnr c1 trm   \" ><div class=\"lbl c1 trm \" ><span class=\"nd\">word</span> <span class=\"txtt\"><span class=\"plain   \" ><span class=\"txtt\">x </span></span></span></div><div class='features'><span class=\"type xft\" ><span class=\"f\">type=</span>word</span></div></div><div class=\"contnr c1 trm   \" ><div class=\"lbl c1 trm \" ><span class=\"nd\">word</span> <span class=\"txtt\"><span class=\"plain   \" ><span class=\"txtt\">x </span></span></span></div><div class='features'><span class=\"type xft\" ><span class=\"f\">type=</span>word</span></div></div><div class=\"contnr c1 trm   \" ><div class=\"lbl c1 trm \" ><span class=\"nd\">word</span> <span class=\"txtt\"><span class=\"plain   \" ><span class=\"txtt\">x </span></span></span></div><div class='features'><span class=\"type xft\" ><span class=\"f\">type=</span>word</span></div></div><div class=\"contnr c1 trm   \" ><div class=\"lbl c1 trm \" ><span class=\"nd\">word</span> <span class=\"txtt\"><span class=\"plain   \" ><span class=\"txtt\">x </span></span></span></div><div class='features'><span class=\"type xft\" ><span class=\"f\">type=</span>word</span></div></div><div class=\"contnr c1 trm   \" ><div class=\"lbl c1 trm \" ><span class=\"nd\">word</span> <span class=\"txtt\"><span class=\"plain   \" ><span class=\"txtt\">x </span></span></span></div><div class='features'><span class=\"type xft\" ><span class=\"f\">type=</span>word</span></div></div><div class=\"contnr c1 trm   \" ><div class=\"lbl c1 trm \" ><span class=\"nd\">word</span> <span class=\"txtt\"><span class=\"plain   \" ><span class=\"txtt\">x </span></span></span></div><div class='features'><span class=\"type xft\" ><span class=\"f\">type=</span>word</span></div></div><div class=\"contnr c1 trm   \" ><div class=\"lbl c1 trm \" ><span class=\"nd\">word</span> <span class=\"txtt\"><span class=\"plain   \" ><span class=\"txtt\">x </span></span></span></div><div class='features'><span class=\"type xft\" ><span class=\"f\">type=</span>word</span></div></div><div class=\"contnr c1 trm   \" ><div class=\"lbl c1 trm \" ><span class=\"nd\">word</span> <span class=\"txtt\"><span class=\"plain   \" ><span class=\"txtt\">x </span></span></span></div><div class='features'><span class=\"type xft\" ><span class=\"f\">type=</span>word</span></div></div><div class=\"contnr c1 trm   \" ><div class=\"lbl c1 trm \" ><span class=\"nd\">word</span> <span class=\"txtt\"><span class=\"plain   \" ><span class=\"txtt\">x </span></span></span></div><div class='features'><span class=\"type xft\" ><span class=\"f\">type=</span>word</span></div></div><div class=\"contnr c1 trm   \" ><div class=\"lbl c1 trm \" ><span class=\"nd\">word</span> <span class=\"txtt\"><span class=\"plain   \" ><span class=\"txtt\">x </span></span></span></div><div class='features'><span class=\"type xft\" ><span class=\"f\">type=</span>word</span></div></div><div class=\"contnr c1 trm   \" ><div class=\"lbl c1 trm \" ><span class=\"nd\">word</span> <span class=\"txtt\"><span class=\"plain   \" ><span class=\"txtt\">x]\n",
       "</span></span></span></div><div class='features'><span class=\"type xft\" ><span class=\"f\">type=</span>word</span></div></div></div></div></div></div><div class=\"contnr c3    \" ><div class=\"lbl c3  \" ><span class=\"nd\">line</span></div><div class=\"children hor wrap \"><div class=\"contnr c2    \" ><div class=\"lbl c2  \" ><span class=\"nd\">cluster</span></div><div class='features'><span class=\"type xft\" ><span class=\"f\">type=</span>missing</span></div><div class=\"children hor wrap \"><div class=\"contnr c1 trm   \" ><div class=\"lbl c1 trm \" ><span class=\"nd\">word</span> <span class=\"txtt\"><span class=\"plain   \" ><span class=\"txtt\">[x </span></span></span></div><div class='features'><span class=\"type xft\" ><span class=\"f\">type=</span>word</span></div></div><div class=\"contnr c1 trm   \" ><div class=\"lbl c1 trm \" ><span class=\"nd\">word</span> <span class=\"txtt\"><span class=\"plain   \" ><span class=\"txtt\">x </span></span></span></div><div class='features'><span class=\"type xft\" ><span class=\"f\">type=</span>word</span></div></div><div class=\"contnr c1 trm   \" ><div class=\"lbl c1 trm \" ><span class=\"nd\">word</span> <span class=\"txtt\"><span class=\"plain   \" ><span class=\"txtt\">x </span></span></span></div><div class='features'><span class=\"type xft\" ><span class=\"f\">type=</span>word</span></div></div><div class=\"contnr c1 trm   \" ><div class=\"lbl c1 trm \" ><span class=\"nd\">word</span> <span class=\"txtt\"><span class=\"plain   \" ><span class=\"txtt\">ARA₃-</span><span class=\"txtt\">ti₃] </span></span></span></div><div class='features'><span class=\"type xft\" ><span class=\"f\">type=</span>word</span></div></div></div></div><div class=\"contnr c2    \" ><div class=\"lbl c2  \" ><span class=\"nd\">cluster</span></div><div class='features'><span class=\"type xft\" ><span class=\"f\">type=</span>det</span></div><div class=\"children hor wrap \"><div class=\"contnr c1 trm  rno \" ><div class=\"lbl c1 trm \" ><span class=\"nd\">word</span> <span class=\"txtt\"><span class=\"plain  rno \" ><span class=\"txtt\">{šim}</span></span></span></div><div class='features'><span class=\"type xft\" ><span class=\"f\">type=</span>word</span></div></div></div></div><div class=\"contnr c1 trm  lno \" ><div class=\"lbl c1 trm \" ><span class=\"nd\">word</span> <span class=\"txtt\"><span class=\"plain  lno \" ><span class=\"txtt\">GUR₂.</span><span class=\"txtt\">GUR₂ </span></span></span></div><div class='features'><span class=\"type xft\" ><span class=\"f\">type=</span>word</span></div></div><div class=\"contnr c2    \" ><div class=\"lbl c2  \" ><span class=\"nd\">cluster</span></div><div class='features'><span class=\"type xft\" ><span class=\"f\">type=</span>missing</span></div><div class=\"children hor wrap \"><div class=\"contnr c1 trm   \" ><div class=\"lbl c1 trm \" ><span class=\"nd\">word</span> <span class=\"txtt\"><span class=\"plain   \" ><span class=\"txtt\">[NAGA.</span><span class=\"txtt\">SI </span></span></span></div><div class='features'><span class=\"type xft\" ><span class=\"f\">type=</span>word</span></div></div><div class=\"contnr c1 trm   \" ><div class=\"lbl c1 trm \" ><span class=\"nd\">word</span> <span class=\"txtt\"><span class=\"plain   \" ><span class=\"txtt\">x </span></span></span></div><div class='features'><span class=\"type xft\" ><span class=\"f\">type=</span>word</span></div></div><div class=\"contnr c1 trm   \" ><div class=\"lbl c1 trm \" ><span class=\"nd\">word</span> <span class=\"txtt\"><span class=\"plain   \" ><span class=\"txtt\">x </span></span></span></div><div class='features'><span class=\"type xft\" ><span class=\"f\">type=</span>word</span></div></div><div class=\"contnr c1 trm   \" ><div class=\"lbl c1 trm \" ><span class=\"nd\">word</span> <span class=\"txtt\"><span class=\"plain   \" ><span class=\"txtt\">x </span></span></span></div><div class='features'><span class=\"type xft\" ><span class=\"f\">type=</span>word</span></div></div><div class=\"contnr c1 trm   \" ><div class=\"lbl c1 trm \" ><span class=\"nd\">word</span> <span class=\"txtt\"><span class=\"plain   \" ><span class=\"txtt\">x </span></span></span></div><div class='features'><span class=\"type xft\" ><span class=\"f\">type=</span>word</span></div></div><div class=\"contnr c1 trm   \" ><div class=\"lbl c1 trm \" ><span class=\"nd\">word</span> <span class=\"txtt\"><span class=\"plain   \" ><span class=\"txtt\">x]\n",
       "</span></span></span></div><div class='features'><span class=\"type xft\" ><span class=\"f\">type=</span>word</span></div></div></div></div></div></div><div class=\"contnr c3    \" ><div class=\"lbl c3  \" ><span class=\"nd\">line</span></div><div class=\"children hor wrap \"><div class=\"contnr c2    \" ><div class=\"lbl c2  \" ><span class=\"nd\">cluster</span></div><div class='features'><span class=\"type xft\" ><span class=\"f\">type=</span>missing</span></div><div class=\"children hor wrap \"><div class=\"contnr c1 trm   \" ><div class=\"lbl c1 trm \" ><span class=\"nd\">word</span> <span class=\"txtt\"><span class=\"plain   \" ><span class=\"txtt\">[x </span></span></span></div><div class='features'><span class=\"type xft\" ><span class=\"f\">type=</span>word</span></div></div><div class=\"contnr c1 trm   \" ><div class=\"lbl c1 trm \" ><span class=\"nd\">word</span> <span class=\"txtt\"><span class=\"plain   \" ><span class=\"txtt\">x </span></span></span></div><div class='features'><span class=\"type xft\" ><span class=\"f\">type=</span>word</span></div></div><div class=\"contnr c1 trm   \" ><div class=\"lbl c1 trm \" ><span class=\"nd\">word</span> <span class=\"txtt\"><span class=\"plain   \" ><span class=\"txtt\">MUN </span></span></span></div><div class='features'><span class=\"type xft\" ><span class=\"f\">type=</span>word</span></div></div><div class=\"contnr c1 trm  rno \" ><div class=\"lbl c1 trm \" ><span class=\"nd\">word</span> <span class=\"txtt\"><span class=\"plain  rno \" ><span class=\"txtt\">eme]-</span></span></span></div><div class='features'><span class=\"type xft\" ><span class=\"f\">type=</span>word</span></div></div></div></div><div class=\"contnr c1 trm  lno \" ><div class=\"lbl c1 trm \" ><span class=\"nd\">word</span> <span class=\"txtt\"><span class=\"plain  lno \" ><span class=\"txtt\">sal-</span><span class=\"txtt\">li₃ </span></span></span></div><div class='features'><span class=\"type xft\" ><span class=\"f\">type=</span>word</span></div></div><div class=\"contnr c1 trm   \" ><div class=\"lbl c1 trm \" ><span class=\"nd\">word</span> <span class=\"txtt\"><span class=\"plain   \" ><span class=\"txtt\">mal₂-</span><span class=\"txtt\">ma-</span><span class=\"txtt\">liš </span></span></span></div><div class='features'><span class=\"type xft\" ><span class=\"f\">type=</span>word</span></div></div><div class=\"contnr c1 trm   \" ><div class=\"lbl c1 trm \" ><span class=\"nd\">word</span> <span class=\"txtt\"><span class=\"plain   \" ><span class=\"txtt\">HI.</span><span class=\"txtt\">HI </span></span></span></div><div class='features'><span class=\"type xft\" ><span class=\"f\">type=</span>word</span></div></div><div class=\"contnr c1 trm   \" ><div class=\"lbl c1 trm \" ><span class=\"nd\">word</span> <span class=\"txtt\"><span class=\"plain   \" ><span class=\"txtt\">ina# </span></span></span></div><div class='features'><span class=\"type xft\" ><span class=\"f\">type=</span>word</span></div></div><div class=\"contnr c2    \" ><div class=\"lbl c2  \" ><span class=\"nd\">cluster</span></div><div class='features'><span class=\"type xft\" ><span class=\"f\">type=</span>missing</span></div><div class=\"children hor wrap \"><div class=\"contnr c1 trm   \" ><div class=\"lbl c1 trm \" ><span class=\"nd\">word</span> <span class=\"txtt\"><span class=\"plain   \" ><span class=\"txtt\">[x </span></span></span></div><div class='features'><span class=\"type xft\" ><span class=\"f\">type=</span>word</span></div></div><div class=\"contnr c1 trm   \" ><div class=\"lbl c1 trm \" ><span class=\"nd\">word</span> <span class=\"txtt\"><span class=\"plain   \" ><span class=\"txtt\">x </span></span></span></div><div class='features'><span class=\"type xft\" ><span class=\"f\">type=</span>word</span></div></div><div class=\"contnr c1 trm   \" ><div class=\"lbl c1 trm \" ><span class=\"nd\">word</span> <span class=\"txtt\"><span class=\"plain   \" ><span class=\"txtt\">x </span></span></span></div><div class='features'><span class=\"type xft\" ><span class=\"f\">type=</span>word</span></div></div><div class=\"contnr c1 trm   \" ><div class=\"lbl c1 trm \" ><span class=\"nd\">word</span> <span class=\"txtt\"><span class=\"plain   \" ><span class=\"txtt\">x </span></span></span></div><div class='features'><span class=\"type xft\" ><span class=\"f\">type=</span>word</span></div></div><div class=\"contnr c1 trm   \" ><div class=\"lbl c1 trm \" ><span class=\"nd\">word</span> <span class=\"txtt\"><span class=\"plain   \" ><span class=\"txtt\">x </span></span></span></div><div class='features'><span class=\"type xft\" ><span class=\"f\">type=</span>word</span></div></div><div class=\"contnr c1 trm   \" ><div class=\"lbl c1 trm \" ><span class=\"nd\">word</span> <span class=\"txtt\"><span class=\"plain   \" ><span class=\"txtt\">x </span></span></span></div><div class='features'><span class=\"type xft\" ><span class=\"f\">type=</span>word</span></div></div><div class=\"contnr c1 trm   \" ><div class=\"lbl c1 trm \" ><span class=\"nd\">word</span> <span class=\"txtt\"><span class=\"plain   \" ><span class=\"txtt\">x </span></span></span></div><div class='features'><span class=\"type xft\" ><span class=\"f\">type=</span>word</span></div></div><div class=\"contnr c1 trm   \" ><div class=\"lbl c1 trm \" ><span class=\"nd\">word</span> <span class=\"txtt\"><span class=\"plain   \" ><span class=\"txtt\">x]\n",
       "</span></span></span></div><div class='features'><span class=\"type xft\" ><span class=\"f\">type=</span>word</span></div></div></div></div></div></div><div class=\"contnr c3    \" ><div class=\"lbl c3  \" ><span class=\"nd\">line</span></div><div class=\"children hor wrap \"><div class=\"contnr c2    \" ><div class=\"lbl c2  \" ><span class=\"nd\">cluster</span></div><div class='features'><span class=\"type xft\" ><span class=\"f\">type=</span>missing</span></div><div class=\"children hor wrap \"><div class=\"contnr c1 trm   \" ><div class=\"lbl c1 trm \" ><span class=\"nd\">word</span> <span class=\"txtt\"><span class=\"plain   \" ><span class=\"txtt\">[x </span></span></span></div><div class='features'><span class=\"type xft\" ><span class=\"f\">type=</span>word</span></div></div><div class=\"contnr c1 trm   \" ><div class=\"lbl c1 trm \" ><span class=\"nd\">word</span> <span class=\"txtt\"><span class=\"plain   \" ><span class=\"txtt\">x </span></span></span></div><div class='features'><span class=\"type xft\" ><span class=\"f\">type=</span>word</span></div></div><div class=\"contnr c1 trm  rno \" ><div class=\"lbl c1 trm \" ><span class=\"nd\">word</span> <span class=\"txtt\"><span class=\"plain  rno \" ><span class=\"txtt\">ZA₃.</span><span class=\"txtt\">HI].</span></span></span></div><div class='features'><span class=\"type xft\" ><span class=\"f\">type=</span>word</span></div></div></div></div><div class=\"contnr c1 trm  lno \" ><div class=\"lbl c1 trm \" ><span class=\"nd\">word</span> <span class=\"txtt\"><span class=\"plain  lno \" ><span class=\"txtt\">LI </span></span></span></div><div class='features'><span class=\"type xft\" ><span class=\"f\">type=</span>word</span></div></div><div class=\"contnr c1 trm   \" ><div class=\"lbl c1 trm \" ><span class=\"nd\">word</span> <span class=\"txtt\"><span class=\"plain   \" ><span class=\"plain   hl\" ><span class=\"txtt\">1/</span></span><span class=\"plain   hl\" ><span class=\"txtt\">3 </span></span></span></span></div><div class='features'><span class=\"type xft\" ><span class=\"f\">type=</span>word</span></div></div><div class=\"contnr c1 trm   \" ><div class=\"lbl c1 trm \" ><span class=\"nd\">word</span> <span class=\"txtt\"><span class=\"plain   \" ><span class=\"txtt\">SILA₃ </span></span></span></div><div class='features'><span class=\"type xft\" ><span class=\"f\">type=</span>word</span></div></div><div class=\"contnr c1 trm   \" ><div class=\"lbl c1 trm \" ><span class=\"nd\">word</span> <span class=\"txtt\"><span class=\"plain   \" ><span class=\"txtt\">ŠIKA </span></span></span></div><div class='features'><span class=\"type xft\" ><span class=\"f\">type=</span>word</span></div></div><div class=\"contnr c1 trm   \" ><div class=\"lbl c1 trm \" ><span class=\"nd\">word</span> <span class=\"txtt\"><span class=\"plain   \" ><span class=\"txtt\">IM.</span><span class=\"txtt\">ŠU.</span><span class=\"txtt\">RIN.</span><span class=\"txtt\">NA </span></span></span></div><div class='features'><span class=\"type xft\" ><span class=\"f\">type=</span>word</span></div></div><div class=\"contnr c1 trm   \" ><div class=\"lbl c1 trm \" ><span class=\"nd\">word</span> <span class=\"txtt\"><span class=\"plain   \" ><span class=\"plain   hl\" ><span class=\"txtt\">10 </span></span></span></span></div><div class='features'><span class=\"type xft\" ><span class=\"f\">type=</span>word</span></div></div><div class=\"contnr c2    \" ><div class=\"lbl c2  \" ><span class=\"nd\">cluster</span></div><div class='features'><span class=\"type xft\" ><span class=\"f\">type=</span>missing</span></div><div class=\"children hor wrap \"><div class=\"contnr c1 trm   \" ><div class=\"lbl c1 trm \" ><span class=\"nd\">word</span> <span class=\"txtt\"><span class=\"plain   \" ><span class=\"txtt\">[GIN₂ </span></span></span></div><div class='features'><span class=\"type xft\" ><span class=\"f\">type=</span>word</span></div></div><div class=\"contnr c1 trm   \" ><div class=\"lbl c1 trm \" ><span class=\"nd\">word</span> <span class=\"txtt\"><span class=\"plain   \" ><span class=\"txtt\">x </span></span></span></div><div class='features'><span class=\"type xft\" ><span class=\"f\">type=</span>word</span></div></div><div class=\"contnr c1 trm   \" ><div class=\"lbl c1 trm \" ><span class=\"nd\">word</span> <span class=\"txtt\"><span class=\"plain   \" ><span class=\"txtt\">x </span></span></span></div><div class='features'><span class=\"type xft\" ><span class=\"f\">type=</span>word</span></div></div><div class=\"contnr c1 trm   \" ><div class=\"lbl c1 trm \" ><span class=\"nd\">word</span> <span class=\"txtt\"><span class=\"plain   \" ><span class=\"txtt\">x </span></span></span></div><div class='features'><span class=\"type xft\" ><span class=\"f\">type=</span>word</span></div></div><div class=\"contnr c1 trm   \" ><div class=\"lbl c1 trm \" ><span class=\"nd\">word</span> <span class=\"txtt\"><span class=\"plain   \" ><span class=\"txtt\">x </span></span></span></div><div class='features'><span class=\"type xft\" ><span class=\"f\">type=</span>word</span></div></div><div class=\"contnr c1 trm   \" ><div class=\"lbl c1 trm \" ><span class=\"nd\">word</span> <span class=\"txtt\"><span class=\"plain   \" ><span class=\"txtt\">x </span></span></span></div><div class='features'><span class=\"type xft\" ><span class=\"f\">type=</span>word</span></div></div><div class=\"contnr c1 trm   \" ><div class=\"lbl c1 trm \" ><span class=\"nd\">word</span> <span class=\"txtt\"><span class=\"plain   \" ><span class=\"txtt\">x]\n",
       "</span></span></span></div><div class='features'><span class=\"type xft\" ><span class=\"f\">type=</span>word</span></div></div></div></div></div></div><div class=\"contnr c3    \" ><div class=\"lbl c3  \" ><span class=\"nd\">line</span></div><div class=\"children hor wrap \"><div class=\"contnr c2    \" ><div class=\"lbl c2  \" ><span class=\"nd\">cluster</span></div><div class='features'><span class=\"type xft\" ><span class=\"f\">type=</span>missing</span></div><div class=\"children hor wrap \"><div class=\"contnr c1 trm   \" ><div class=\"lbl c1 trm \" ><span class=\"nd\">word</span> <span class=\"txtt\"><span class=\"plain   \" ><span class=\"txtt\">[x </span></span></span></div><div class='features'><span class=\"type xft\" ><span class=\"f\">type=</span>word</span></div></div><div class=\"contnr c1 trm   \" ><div class=\"lbl c1 trm \" ><span class=\"nd\">word</span> <span class=\"txtt\"><span class=\"plain   \" ><span class=\"txtt\">x </span></span></span></div><div class='features'><span class=\"type xft\" ><span class=\"f\">type=</span>word</span></div></div><div class=\"contnr c1 trm  rno \" ><div class=\"lbl c1 trm \" ><span class=\"nd\">word</span> <span class=\"txtt\"><span class=\"plain  rno \" ><span class=\"txtt\">GAZI</span></span></span></div><div class='features'><span class=\"type xft\" ><span class=\"f\">type=</span>word</span></div></div><div class=\"contnr c2    \" ><div class=\"lbl c2  \" ><span class=\"nd\">cluster</span></div><div class='features'><span class=\"type xft\" ><span class=\"f\">type=</span>det</span></div><div class=\"children hor wrap \"><div class=\"contnr c1 trm  lno \" ><div class=\"lbl c1 trm \" ><span class=\"nd\">word</span> <span class=\"txtt\"><span class=\"plain  lno \" ><span class=\"txtt\">{sar]} </span></span></span></div><div class='features'><span class=\"type xft\" ><span class=\"f\">type=</span>word</span></div></div></div></div></div></div><div class=\"contnr c1 trm   \" ><div class=\"lbl c1 trm \" ><span class=\"nd\">word</span> <span class=\"txtt\"><span class=\"plain   \" ><span class=\"txtt\">SILA₁₁-</span><span class=\"txtt\">aš </span></span></span></div><div class='features'><span class=\"type xft\" ><span class=\"f\">type=</span>word</span></div></div><div class=\"contnr c1 trm   \" ><div class=\"lbl c1 trm \" ><span class=\"nd\">word</span> <span class=\"txtt\"><span class=\"plain   \" ><span class=\"txtt\">LAL-</span><span class=\"txtt\">ma </span></span></span></div><div class='features'><span class=\"type xft\" ><span class=\"f\">type=</span>word</span></div></div><div class=\"contnr c1 trm  rno \" ><div class=\"lbl c1 trm \" ><span class=\"nd\">word</span> <span class=\"txtt\"><span class=\"plain  rno \" ><span class=\"txtt\">UD.</span><span class=\"plain   hl\" ><span class=\"txtt\">3.</span></span></span></span></div><div class='features'><span class=\"type xft\" ><span class=\"f\">type=</span>word</span></div></div><div class=\"contnr c2    \" ><div class=\"lbl c2  \" ><span class=\"nd\">cluster</span></div><div class='features'><span class=\"type xft\" ><span class=\"f\">type=</span>missing</span></div><div class=\"children hor wrap \"><div class=\"contnr c1 trm  lno \" ><div class=\"lbl c1 trm \" ><span class=\"nd\">word</span> <span class=\"txtt\"><span class=\"plain  lno \" ><span class=\"txtt\">[KAM₂ </span></span></span></div><div class='features'><span class=\"type xft\" ><span class=\"f\">type=</span>word</span></div></div><div class=\"contnr c1 trm   \" ><div class=\"lbl c1 trm \" ><span class=\"nd\">word</span> <span class=\"txtt\"><span class=\"plain   \" ><span class=\"txtt\">NU </span></span></span></div><div class='features'><span class=\"type xft\" ><span class=\"f\">type=</span>word</span></div></div><div class=\"contnr c1 trm   \" ><div class=\"lbl c1 trm \" ><span class=\"nd\">word</span> <span class=\"txtt\"><span class=\"plain   \" ><span class=\"txtt\">DU₈]\n",
       "</span></span></span></div><div class='features'><span class=\"type xft\" ><span class=\"f\">type=</span>word</span></div></div></div></div></div></div><div class=\"contnr c3    \" ><div class=\"lbl c3  \" ><span class=\"nd\">line</span></div><div class=\"children hor wrap \"><div class=\"contnr c2    \" ><div class=\"lbl c2  \" ><span class=\"nd\">cluster</span></div><div class='features'><span class=\"type xft\" ><span class=\"f\">type=</span>missing</span></div><div class=\"children hor wrap \"><div class=\"contnr c1 trm   \" ><div class=\"lbl c1 trm \" ><span class=\"nd\">word</span> <span class=\"txtt\"><span class=\"plain   \" ><span class=\"txtt\">[EGIR </span></span></span></div><div class='features'><span class=\"type xft\" ><span class=\"f\">type=</span>word</span></div></div><div class=\"contnr c1 trm  rno \" ><div class=\"lbl c1 trm \" ><span class=\"nd\">word</span> <span class=\"txtt\"><span class=\"plain  rno \" ><span class=\"txtt\">na]-</span></span></span></div><div class='features'><span class=\"type xft\" ><span class=\"f\">type=</span>word</span></div></div></div></div><div class=\"contnr c1 trm  lno \" ><div class=\"lbl c1 trm \" ><span class=\"nd\">word</span> <span class=\"txtt\"><span class=\"plain  lno \" ><span class=\"txtt\">aṣ-</span><span class=\"txtt\">ma-</span><span class=\"txtt\">da-</span><span class=\"txtt\">te </span></span></span></div><div class='features'><span class=\"type xft\" ><span class=\"f\">type=</span>word</span></div></div><div class=\"contnr c1 trm   \" ><div class=\"lbl c1 trm \" ><span class=\"nd\">word</span> <span class=\"txtt\"><span class=\"plain   \" ><span class=\"txtt\">an-</span><span class=\"txtt\">na-</span><span class=\"txtt\">ti </span></span></span></div><div class='features'><span class=\"type xft\" ><span class=\"f\">type=</span>word</span></div></div><div class=\"contnr c1 trm   \" ><div class=\"lbl c1 trm \" ><span class=\"nd\">word</span> <span class=\"txtt\"><span class=\"plain   \" ><span class=\"plain   hl\" ><span class=\"txtt\">10 </span></span></span></span></div><div class='features'><span class=\"type xft\" ><span class=\"f\">type=</span>word</span></div></div><div class=\"contnr c1 trm   \" ><div class=\"lbl c1 trm \" ><span class=\"nd\">word</span> <span class=\"txtt\"><span class=\"plain   \" ><span class=\"txtt\">GIN₂ </span></span></span></div><div class='features'><span class=\"type xft\" ><span class=\"f\">type=</span>word</span></div></div><div class=\"contnr c1 trm   \" ><div class=\"lbl c1 trm \" ><span class=\"nd\">word</span> <span class=\"txtt\"><span class=\"plain   \" ><span class=\"txtt\">ZA₃.</span><span class=\"txtt\">HI.</span><span class=\"txtt\">LI </span></span></span></div><div class='features'><span class=\"type xft\" ><span class=\"f\">type=</span>word</span></div></div><div class=\"contnr c1 trm   \" ><div class=\"lbl c1 trm \" ><span class=\"nd\">word</span> <span class=\"txtt\"><span class=\"plain   \" ><span class=\"txtt\">ša₂ </span></span></span></div><div class='features'><span class=\"type xft\" ><span class=\"f\">type=</span>word</span></div></div><div class=\"contnr c1 trm   \" ><div class=\"lbl c1 trm \" ><span class=\"nd\">word</span> <span class=\"txtt\"><span class=\"plain   \" ><span class=\"txtt\">KA# </span></span></span></div><div class='features'><span class=\"type xft\" ><span class=\"f\">type=</span>word</span></div></div><div class=\"contnr c2    \" ><div class=\"lbl c2  \" ><span class=\"nd\">cluster</span></div><div class='features'><span class=\"type xft\" ><span class=\"f\">type=</span>missing</span></div><div class=\"children hor wrap \"><div class=\"contnr c1 trm   \" ><div class=\"lbl c1 trm \" ><span class=\"nd\">word</span> <span class=\"txtt\"><span class=\"plain   \" ><span class=\"txtt\">[x </span></span></span></div><div class='features'><span class=\"type xft\" ><span class=\"f\">type=</span>word</span></div></div><div class=\"contnr c1 trm   \" ><div class=\"lbl c1 trm \" ><span class=\"nd\">word</span> <span class=\"txtt\"><span class=\"plain   \" ><span class=\"txtt\">x]\n",
       "</span></span></span></div><div class='features'><span class=\"type xft\" ><span class=\"f\">type=</span>word</span></div></div></div></div></div></div><div class=\"contnr c3    \" ><div class=\"lbl c3  \" ><span class=\"nd\">line</span></div><div class=\"children hor wrap \"><div class=\"contnr c2    \" ><div class=\"lbl c2  \" ><span class=\"nd\">cluster</span></div><div class='features'><span class=\"type xft\" ><span class=\"f\">type=</span>missing</span></div><div class=\"children hor wrap \"><div class=\"contnr c1 trm   \" ><div class=\"lbl c1 trm \" ><span class=\"nd\">word</span> <span class=\"txtt\"><span class=\"plain   \" ><span class=\"txtt\">[ša₂ </span></span></span></div><div class='features'><span class=\"type xft\" ><span class=\"f\">type=</span>word</span></div></div><div class=\"contnr c1 trm  rno \" ><div class=\"lbl c1 trm \" ><span class=\"nd\">word</span> <span class=\"txtt\"><span class=\"plain  rno \" ><span class=\"txtt\">hul]-</span></span></span></div><div class='features'><span class=\"type xft\" ><span class=\"f\">type=</span>word</span></div></div></div></div><div class=\"contnr c1 trm  lno \" ><div class=\"lbl c1 trm \" ><span class=\"nd\">word</span> <span class=\"txtt\"><span class=\"plain  lno \" ><span class=\"txtt\">qu </span></span></span></div><div class='features'><span class=\"type xft\" ><span class=\"f\">type=</span>word</span></div></div><div class=\"contnr c1 trm   \" ><div class=\"lbl c1 trm \" ><span class=\"nd\">word</span> <span class=\"txtt\"><span class=\"plain   \" ><span class=\"txtt\">ana </span></span></span></div><div class='features'><span class=\"type xft\" ><span class=\"f\">type=</span>word</span></div></div><div class=\"contnr c1 trm   \" ><div class=\"lbl c1 trm \" ><span class=\"nd\">word</span> <span class=\"txtt\"><span class=\"plain   \" ><span class=\"txtt\">ŠA₃ </span></span></span></div><div class='features'><span class=\"type xft\" ><span class=\"f\">type=</span>word</span></div></div><div class=\"contnr c1 trm   \" ><div class=\"lbl c1 trm \" ><span class=\"nd\">word</span> <span class=\"txtt\"><span class=\"plain   \" ><span class=\"txtt\">NU </span></span></span></div><div class='features'><span class=\"type xft\" ><span class=\"f\">type=</span>word</span></div></div><div class=\"contnr c1 trm   \" ><div class=\"lbl c1 trm \" ><span class=\"nd\">word</span> <span class=\"txtt\"><span class=\"plain   \" ><span class=\"txtt\">ŠUB-</span><span class=\"txtt\">u₂ </span></span></span></div><div class='features'><span class=\"type xft\" ><span class=\"f\">type=</span>word</span></div></div><div class=\"contnr c1 trm   \" ><div class=\"lbl c1 trm \" ><span class=\"nd\">word</span> <span class=\"txtt\"><span class=\"plain   \" ><span class=\"txtt\">MUN </span></span></span></div><div class='features'><span class=\"type xft\" ><span class=\"f\">type=</span>word</span></div></div><div class=\"contnr c1 trm   \" ><div class=\"lbl c1 trm \" ><span class=\"nd\">word</span> <span class=\"txtt\"><span class=\"plain   \" ><span class=\"txtt\">A.</span><span class=\"txtt\">GEŠTIN.</span><span class=\"txtt\">NA </span></span></span></div><div class='features'><span class=\"type xft\" ><span class=\"f\">type=</span>word</span></div></div><div class=\"contnr c1 trm   \" ><div class=\"lbl c1 trm \" ><span class=\"nd\">word</span> <span class=\"txtt\"><span class=\"plain   \" ><span class=\"txtt\">NU# </span></span></span></div><div class='features'><span class=\"type xft\" ><span class=\"f\">type=</span>word</span></div></div><div class=\"contnr c2    \" ><div class=\"lbl c2  \" ><span class=\"nd\">cluster</span></div><div class='features'><span class=\"type xft\" ><span class=\"f\">type=</span>missing</span></div><div class=\"children hor wrap \"><div class=\"contnr c1 trm   \" ><div class=\"lbl c1 trm \" ><span class=\"nd\">word</span> <span class=\"txtt\"><span class=\"plain   \" ><span class=\"txtt\">[x </span></span></span></div><div class='features'><span class=\"type xft\" ><span class=\"f\">type=</span>word</span></div></div><div class=\"contnr c1 trm   \" ><div class=\"lbl c1 trm \" ><span class=\"nd\">word</span> <span class=\"txtt\"><span class=\"plain   \" ><span class=\"txtt\">x </span></span></span></div><div class='features'><span class=\"type xft\" ><span class=\"f\">type=</span>word</span></div></div><div class=\"contnr c1 trm   \" ><div class=\"lbl c1 trm \" ><span class=\"nd\">word</span> <span class=\"txtt\"><span class=\"plain   \" ><span class=\"txtt\">x </span></span></span></div><div class='features'><span class=\"type xft\" ><span class=\"f\">type=</span>word</span></div></div><div class=\"contnr c1 trm   \" ><div class=\"lbl c1 trm \" ><span class=\"nd\">word</span> <span class=\"txtt\"><span class=\"plain   \" ><span class=\"txtt\">x]\n",
       "</span></span></span></div><div class='features'><span class=\"type xft\" ><span class=\"f\">type=</span>word</span></div></div></div></div></div></div><div class=\"contnr c3    \" ><div class=\"lbl c3  \" ><span class=\"nd\">line</span></div><div class=\"children hor wrap \"><div class=\"contnr c2    \" ><div class=\"lbl c2  \" ><span class=\"nd\">cluster</span></div><div class='features'><span class=\"type xft\" ><span class=\"f\">type=</span>missing</span></div><div class=\"children hor wrap \"><div class=\"contnr c1 trm   \" ><div class=\"lbl c1 trm \" ><span class=\"nd\">word</span> <span class=\"txtt\"><span class=\"plain   \" ><span class=\"txtt\">[x </span></span></span></div><div class='features'><span class=\"type xft\" ><span class=\"f\">type=</span>word</span></div></div><div class=\"contnr c1 trm   \" ><div class=\"lbl c1 trm \" ><span class=\"nd\">word</span> <span class=\"txtt\"><span class=\"plain   \" ><span class=\"txtt\">x </span></span></span></div><div class='features'><span class=\"type xft\" ><span class=\"f\">type=</span>word</span></div></div><div class=\"contnr c1 trm   \" ><div class=\"lbl c1 trm \" ><span class=\"nd\">word</span> <span class=\"txtt\"><span class=\"plain   \" ><span class=\"txtt\">x </span></span></span></div><div class='features'><span class=\"type xft\" ><span class=\"f\">type=</span>word</span></div></div><div class=\"contnr c1 trm   \" ><div class=\"lbl c1 trm \" ><span class=\"nd\">word</span> <span class=\"txtt\"><span class=\"plain   \" ><span class=\"txtt\">GU₇] </span></span></span></div><div class='features'><span class=\"type xft\" ><span class=\"f\">type=</span>word</span></div></div></div></div><div class=\"contnr c1 trm   \" ><div class=\"lbl c1 trm \" ><span class=\"nd\">word</span> <span class=\"txtt\"><span class=\"plain   \" ><span class=\"plain   hl\" ><span class=\"txtt\">5 </span></span></span></span></div><div class='features'><span class=\"type xft\" ><span class=\"f\">type=</span>word</span></div></div><div class=\"contnr c1 trm   \" ><div class=\"lbl c1 trm \" ><span class=\"nd\">word</span> <span class=\"txtt\"><span class=\"plain   \" ><span class=\"txtt\">GIN₂ </span></span></span></div><div class='features'><span class=\"type xft\" ><span class=\"f\">type=</span>word</span></div></div><div class=\"contnr c1 trm   \" ><div class=\"lbl c1 trm \" ><span class=\"nd\">word</span> <span class=\"txtt\"><span class=\"plain   \" ><span class=\"txtt\">ZA₃.</span><span class=\"txtt\">HI.</span><span class=\"txtt\">LI </span></span></span></div><div class='features'><span class=\"type xft\" ><span class=\"f\">type=</span>word</span></div></div><div class=\"contnr c1 trm   \" ><div class=\"lbl c1 trm \" ><span class=\"nd\">word</span> <span class=\"txtt\"><span class=\"plain   \" ><span class=\"txtt\">ARA₃-</span><span class=\"txtt\">ti₃ </span></span></span></div><div class='features'><span class=\"type xft\" ><span class=\"f\">type=</span>word</span></div></div><div class=\"contnr c1 trm   \" ><div class=\"lbl c1 trm \" ><span class=\"nd\">word</span> <span class=\"txtt\"><span class=\"plain   \" ><span class=\"txtt\">ina </span></span></span></div><div class='features'><span class=\"type xft\" ><span class=\"f\">type=</span>word</span></div></div><div class=\"contnr c1 trm   \" ><div class=\"lbl c1 trm \" ><span class=\"nd\">word</span> <span class=\"txtt\"><span class=\"plain   \" ><span class=\"txtt\">KAŠ </span></span></span></div><div class='features'><span class=\"type xft\" ><span class=\"f\">type=</span>word</span></div></div><div class=\"contnr c1 trm   \" ><div class=\"lbl c1 trm \" ><span class=\"nd\">word</span> <span class=\"txtt\"><span class=\"plain   \" ><span class=\"txtt\">SIG₃-</span><span class=\"txtt\">aṣ-</span><span class=\"txtt\">ma </span></span></span></div><div class='features'><span class=\"type xft\" ><span class=\"f\">type=</span>word</span></div></div><div class=\"contnr c1 trm   \" ><div class=\"lbl c1 trm \" ><span class=\"nd\">word</span> <span class=\"txtt\"><span class=\"plain   \" ><span class=\"txtt\">NAG#-</span><span class=\"txtt\">šu₂# </span></span></span></div><div class='features'><span class=\"type xft\" ><span class=\"f\">type=</span>word</span></div></div><div class=\"contnr c1 trm  rno \" ><div class=\"lbl c1 trm \" ><span class=\"nd\">word</span> <span class=\"txtt\"><span class=\"plain  rno \" ><span class=\"txtt\">u₂#-</span></span></span></div><div class='features'><span class=\"type xft\" ><span class=\"f\">type=</span>word</span></div></div><div class=\"contnr c2    \" ><div class=\"lbl c2  \" ><span class=\"nd\">cluster</span></div><div class='features'><span class=\"type xft\" ><span class=\"f\">type=</span>missing</span></div><div class=\"children hor wrap \"><div class=\"contnr c1 trm  lno \" ><div class=\"lbl c1 trm \" ><span class=\"nd\">word</span> <span class=\"txtt\"><span class=\"plain  lno \" ><span class=\"txtt\">[za-</span><span class=\"txtt\">ka-</span><span class=\"txtt\">ma </span></span></span></div><div class='features'><span class=\"type xft\" ><span class=\"f\">type=</span>word</span></div></div><div class=\"contnr c1 trm   \" ><div class=\"lbl c1 trm \" ><span class=\"nd\">word</span> <span class=\"txtt\"><span class=\"plain   \" ><span class=\"txtt\">x </span></span></span></div><div class='features'><span class=\"type xft\" ><span class=\"f\">type=</span>word</span></div></div><div class=\"contnr c1 trm   \" ><div class=\"lbl c1 trm \" ><span class=\"nd\">word</span> <span class=\"txtt\"><span class=\"plain   \" ><span class=\"txtt\">x </span></span></span></div><div class='features'><span class=\"type xft\" ><span class=\"f\">type=</span>word</span></div></div><div class=\"contnr c1 trm   \" ><div class=\"lbl c1 trm \" ><span class=\"nd\">word</span> <span class=\"txtt\"><span class=\"plain   \" ><span class=\"txtt\">x]\n",
       "</span></span></span></div><div class='features'><span class=\"type xft\" ><span class=\"f\">type=</span>word</span></div></div></div></div></div></div><div class=\"contnr c3    \" ><div class=\"lbl c3  \" ><span class=\"nd\">line</span></div><div class=\"children hor wrap \"><div class=\"contnr c2    \" ><div class=\"lbl c2  \" ><span class=\"nd\">cluster</span></div><div class='features'><span class=\"type xft\" ><span class=\"f\">type=</span>missing</span></div><div class=\"children hor wrap \"><div class=\"contnr c1 trm   \" ><div class=\"lbl c1 trm \" ><span class=\"nd\">word</span> <span class=\"txtt\"><span class=\"plain   \" ><span class=\"txtt\">[x </span></span></span></div><div class='features'><span class=\"type xft\" ><span class=\"f\">type=</span>word</span></div></div><div class=\"contnr c1 trm   \" ><div class=\"lbl c1 trm \" ><span class=\"nd\">word</span> <span class=\"txtt\"><span class=\"plain   \" ><span class=\"txtt\">x </span></span></span></div><div class='features'><span class=\"type xft\" ><span class=\"f\">type=</span>word</span></div></div><div class=\"contnr c1 trm   \" ><div class=\"lbl c1 trm \" ><span class=\"nd\">word</span> <span class=\"txtt\"><span class=\"plain   \" ><span class=\"txtt\">x] </span></span></span></div><div class='features'><span class=\"type xft\" ><span class=\"f\">type=</span>word</span></div></div></div></div><div class=\"contnr c1 trm   \" ><div class=\"lbl c1 trm \" ><span class=\"nd\">word</span> <span class=\"txtt\"><span class=\"plain   \" ><span class=\"txtt\">AN#.</span><span class=\"txtt\">ZAH# </span></span></span></div><div class='features'><span class=\"type xft\" ><span class=\"f\">type=</span>word</span></div></div><div class=\"contnr c1 trm   \" ><div class=\"lbl c1 trm \" ><span class=\"nd\">word</span> <span class=\"txtt\"><span class=\"plain   \" ><span class=\"txtt\">SUD₂ </span></span></span></div><div class='features'><span class=\"type xft\" ><span class=\"f\">type=</span>word</span></div></div><div class=\"contnr c2    \" ><div class=\"lbl c2  \" ><span class=\"nd\">cluster</span></div><div class='features'><span class=\"type xft\" ><span class=\"f\">type=</span>missing</span></div><div class=\"children hor wrap \"><div class=\"contnr c1 trm   \" ><div class=\"lbl c1 trm \" ><span class=\"nd\">word</span> <span class=\"txtt\"><span class=\"plain   \" ><span class=\"txtt\">[x </span></span></span></div><div class='features'><span class=\"type xft\" ><span class=\"f\">type=</span>word</span></div></div><div class=\"contnr c1 trm   \" ><div class=\"lbl c1 trm \" ><span class=\"nd\">word</span> <span class=\"txtt\"><span class=\"plain   \" ><span class=\"txtt\">x </span></span></span></div><div class='features'><span class=\"type xft\" ><span class=\"f\">type=</span>word</span></div></div><div class=\"contnr c1 trm   \" ><div class=\"lbl c1 trm \" ><span class=\"nd\">word</span> <span class=\"txtt\"><span class=\"plain   \" ><span class=\"txtt\">x </span></span></span></div><div class='features'><span class=\"type xft\" ><span class=\"f\">type=</span>word</span></div></div><div class=\"contnr c1 trm   \" ><div class=\"lbl c1 trm \" ><span class=\"nd\">word</span> <span class=\"txtt\"><span class=\"plain   \" ><span class=\"txtt\">x </span></span></span></div><div class='features'><span class=\"type xft\" ><span class=\"f\">type=</span>word</span></div></div><div class=\"contnr c1 trm   \" ><div class=\"lbl c1 trm \" ><span class=\"nd\">word</span> <span class=\"txtt\"><span class=\"plain   \" ><span class=\"txtt\">x </span></span></span></div><div class='features'><span class=\"type xft\" ><span class=\"f\">type=</span>word</span></div></div><div class=\"contnr c1 trm   \" ><div class=\"lbl c1 trm \" ><span class=\"nd\">word</span> <span class=\"txtt\"><span class=\"plain   \" ><span class=\"txtt\">x]\n",
       "</span></span></span></div><div class='features'><span class=\"type xft\" ><span class=\"f\">type=</span>word</span></div></div></div></div></div></div><div class=\"contnr c3    \" ><div class=\"lbl c3  \" ><span class=\"nd\">line</span></div><div class=\"children hor wrap \"><div class=\"contnr c2    \" ><div class=\"lbl c2  \" ><span class=\"nd\">cluster</span></div><div class='features'><span class=\"type xft\" ><span class=\"f\">type=</span>missing</span></div><div class=\"children hor wrap \"><div class=\"contnr c1 trm   \" ><div class=\"lbl c1 trm \" ><span class=\"nd\">word</span> <span class=\"txtt\"><span class=\"plain   \" ><span class=\"txtt\">[x </span></span></span></div><div class='features'><span class=\"type xft\" ><span class=\"f\">type=</span>word</span></div></div><div class=\"contnr c1 trm   \" ><div class=\"lbl c1 trm \" ><span class=\"nd\">word</span> <span class=\"txtt\"><span class=\"plain   \" ><span class=\"txtt\">x </span></span></span></div><div class='features'><span class=\"type xft\" ><span class=\"f\">type=</span>word</span></div></div><div class=\"contnr c1 trm   \" ><div class=\"lbl c1 trm \" ><span class=\"nd\">word</span> <span class=\"txtt\"><span class=\"plain   \" ><span class=\"txtt\">x </span></span></span></div><div class='features'><span class=\"type xft\" ><span class=\"f\">type=</span>word</span></div></div><div class=\"contnr c1 trm   \" ><div class=\"lbl c1 trm \" ><span class=\"nd\">word</span> <span class=\"txtt\"><span class=\"plain   \" ><span class=\"txtt\">x </span></span></span></div><div class='features'><span class=\"type xft\" ><span class=\"f\">type=</span>word</span></div></div><div class=\"contnr c1 trm   \" ><div class=\"lbl c1 trm \" ><span class=\"nd\">word</span> <span class=\"txtt\"><span class=\"plain   \" ><span class=\"txtt\">x </span></span></span></div><div class='features'><span class=\"type xft\" ><span class=\"f\">type=</span>word</span></div></div><div class=\"contnr c1 trm   \" ><div class=\"lbl c1 trm \" ><span class=\"nd\">word</span> <span class=\"txtt\"><span class=\"plain   \" ><span class=\"txtt\">x] </span></span></span></div><div class='features'><span class=\"type xft\" ><span class=\"f\">type=</span>word</span></div></div></div></div><div class=\"contnr c1 trm   \" ><div class=\"lbl c1 trm \" ><span class=\"nd\">word</span> <span class=\"txtt\"><span class=\"plain   \" ><span class=\"txtt\">ZA?#.</span><span class=\"txtt\">BA?#.</span><span class=\"txtt\">LAM?# </span></span></span></div><div class='features'><span class=\"type xft\" ><span class=\"f\">type=</span>word</span></div></div><div class=\"contnr c1 trm   \" ><div class=\"lbl c1 trm \" ><span class=\"nd\">word</span> <span class=\"txtt\"><span class=\"plain   \" ><span class=\"plain   hl\" ><span class=\"txtt\">1/</span></span><span class=\"plain   hl\" ><span class=\"txtt\">3 </span></span></span></span></div><div class='features'><span class=\"type xft\" ><span class=\"f\">type=</span>word</span></div></div><div class=\"contnr c1 trm   \" ><div class=\"lbl c1 trm \" ><span class=\"nd\">word</span> <span class=\"txtt\"><span class=\"plain   \" ><span class=\"txtt\">SILA₃ </span></span></span></div><div class='features'><span class=\"type xft\" ><span class=\"f\">type=</span>word</span></div></div><div class=\"contnr c2    \" ><div class=\"lbl c2  \" ><span class=\"nd\">cluster</span></div><div class='features'><span class=\"type xft\" ><span class=\"f\">type=</span>det</span></div><div class=\"children hor wrap \"><div class=\"contnr c1 trm  rno \" ><div class=\"lbl c1 trm \" ><span class=\"nd\">word</span> <span class=\"txtt\"><span class=\"plain  rno \" ><span class=\"txtt\">{u₂}</span></span></span></div><div class='features'><span class=\"type xft\" ><span class=\"f\">type=</span>word</span></div></div></div></div><div class=\"contnr c2    \" ><div class=\"lbl c2  \" ><span class=\"nd\">cluster</span></div><div class='features'><span class=\"type xft\" ><span class=\"f\">type=</span>missing</span></div><div class=\"children hor wrap \"><div class=\"contnr c1 trm  lno \" ><div class=\"lbl c1 trm \" ><span class=\"nd\">word</span> <span class=\"txtt\"><span class=\"plain  lno \" ><span class=\"txtt\">[x </span></span></span></div><div class='features'><span class=\"type xft\" ><span class=\"f\">type=</span>word</span></div></div><div class=\"contnr c1 trm   \" ><div class=\"lbl c1 trm \" ><span class=\"nd\">word</span> <span class=\"txtt\"><span class=\"plain   \" ><span class=\"txtt\">x </span></span></span></div><div class='features'><span class=\"type xft\" ><span class=\"f\">type=</span>word</span></div></div><div class=\"contnr c1 trm   \" ><div class=\"lbl c1 trm \" ><span class=\"nd\">word</span> <span class=\"txtt\"><span class=\"plain   \" ><span class=\"txtt\">x]\n",
       "</span></span></span></div><div class='features'><span class=\"type xft\" ><span class=\"f\">type=</span>word</span></div></div></div></div></div></div><div class=\"contnr c3    \" ><div class=\"lbl c3  \" ><span class=\"nd\">line</span></div><div class=\"children hor wrap \"><div class=\"contnr c2    \" ><div class=\"lbl c2  \" ><span class=\"nd\">cluster</span></div><div class='features'><span class=\"type xft\" ><span class=\"f\">type=</span>missing</span></div><div class=\"children hor wrap \"><div class=\"contnr c1 trm   \" ><div class=\"lbl c1 trm \" ><span class=\"nd\">word</span> <span class=\"txtt\"><span class=\"plain   \" ><span class=\"txtt\">[x </span></span></span></div><div class='features'><span class=\"type xft\" ><span class=\"f\">type=</span>word</span></div></div><div class=\"contnr c1 trm   \" ><div class=\"lbl c1 trm \" ><span class=\"nd\">word</span> <span class=\"txtt\"><span class=\"plain   \" ><span class=\"txtt\">x </span></span></span></div><div class='features'><span class=\"type xft\" ><span class=\"f\">type=</span>word</span></div></div><div class=\"contnr c1 trm   \" ><div class=\"lbl c1 trm \" ><span class=\"nd\">word</span> <span class=\"txtt\"><span class=\"plain   \" ><span class=\"txtt\">x </span></span></span></div><div class='features'><span class=\"type xft\" ><span class=\"f\">type=</span>word</span></div></div><div class=\"contnr c1 trm   \" ><div class=\"lbl c1 trm \" ><span class=\"nd\">word</span> <span class=\"txtt\"><span class=\"plain   \" ><span class=\"txtt\">x </span></span></span></div><div class='features'><span class=\"type xft\" ><span class=\"f\">type=</span>word</span></div></div><div class=\"contnr c1 trm   \" ><div class=\"lbl c1 trm \" ><span class=\"nd\">word</span> <span class=\"txtt\"><span class=\"plain   \" ><span class=\"txtt\">x </span></span></span></div><div class='features'><span class=\"type xft\" ><span class=\"f\">type=</span>word</span></div></div><div class=\"contnr c1 trm   \" ><div class=\"lbl c1 trm \" ><span class=\"nd\">word</span> <span class=\"txtt\"><span class=\"plain   \" ><span class=\"txtt\">x </span></span></span></div><div class='features'><span class=\"type xft\" ><span class=\"f\">type=</span>word</span></div></div><div class=\"contnr c1 trm   \" ><div class=\"lbl c1 trm \" ><span class=\"nd\">word</span> <span class=\"txtt\"><span class=\"plain   \" ><span class=\"txtt\">x </span></span></span></div><div class='features'><span class=\"type xft\" ><span class=\"f\">type=</span>word</span></div></div><div class=\"contnr c1 trm   \" ><div class=\"lbl c1 trm \" ><span class=\"nd\">word</span> <span class=\"txtt\"><span class=\"plain   \" ><span class=\"txtt\">x </span></span></span></div><div class='features'><span class=\"type xft\" ><span class=\"f\">type=</span>word</span></div></div><div class=\"contnr c1 trm   \" ><div class=\"lbl c1 trm \" ><span class=\"nd\">word</span> <span class=\"txtt\"><span class=\"plain   \" ><span class=\"txtt\">x </span></span></span></div><div class='features'><span class=\"type xft\" ><span class=\"f\">type=</span>word</span></div></div><div class=\"contnr c1 trm   \" ><div class=\"lbl c1 trm \" ><span class=\"nd\">word</span> <span class=\"txtt\"><span class=\"plain   \" ><span class=\"txtt\">x </span></span></span></div><div class='features'><span class=\"type xft\" ><span class=\"f\">type=</span>word</span></div></div><div class=\"contnr c1 trm  rno \" ><div class=\"lbl c1 trm \" ><span class=\"nd\">word</span> <span class=\"txtt\"><span class=\"plain  rno \" ><span class=\"txtt\">LAL]-</span></span></span></div><div class='features'><span class=\"type xft\" ><span class=\"f\">type=</span>word</span></div></div></div></div><div class=\"contnr c1 trm  lno \" ><div class=\"lbl c1 trm \" ><span class=\"nd\">word</span> <span class=\"txtt\"><span class=\"plain  lno \" ><span class=\"txtt\">ma </span></span></span></div><div class='features'><span class=\"type xft\" ><span class=\"f\">type=</span>word</span></div></div><div class=\"contnr c1 trm  rno \" ><div class=\"lbl c1 trm \" ><span class=\"nd\">word</span> <span class=\"txtt\"><span class=\"plain  rno \" ><span class=\"txtt\">UD.</span><span class=\"plain   hl\" ><span class=\"txtt\">3.</span></span></span></span></div><div class='features'><span class=\"type xft\" ><span class=\"f\">type=</span>word</span></div></div><div class=\"contnr c2    \" ><div class=\"lbl c2  \" ><span class=\"nd\">cluster</span></div><div class='features'><span class=\"type xft\" ><span class=\"f\">type=</span>missing</span></div><div class=\"children hor wrap \"><div class=\"contnr c1 trm  lno \" ><div class=\"lbl c1 trm \" ><span class=\"nd\">word</span> <span class=\"txtt\"><span class=\"plain  lno \" ><span class=\"txtt\">[KAM₂ </span></span></span></div><div class='features'><span class=\"type xft\" ><span class=\"f\">type=</span>word</span></div></div><div class=\"contnr c1 trm   \" ><div class=\"lbl c1 trm \" ><span class=\"nd\">word</span> <span class=\"txtt\"><span class=\"plain   \" ><span class=\"txtt\">NU </span></span></span></div><div class='features'><span class=\"type xft\" ><span class=\"f\">type=</span>word</span></div></div><div class=\"contnr c1 trm   \" ><div class=\"lbl c1 trm \" ><span class=\"nd\">word</span> <span class=\"txtt\"><span class=\"plain   \" ><span class=\"txtt\">DU₈]\n",
       "</span></span></span></div><div class='features'><span class=\"type xft\" ><span class=\"f\">type=</span>word</span></div></div></div></div></div></div><div class=\"contnr c3    \" ><div class=\"lbl c3  \" ><span class=\"nd\">line</span></div><div class=\"children hor wrap \"><div class=\"contnr c2    \" ><div class=\"lbl c2  \" ><span class=\"nd\">cluster</span></div><div class='features'><span class=\"type xft\" ><span class=\"f\">type=</span>missing</span></div><div class=\"children hor wrap \"><div class=\"contnr c1 trm   \" ><div class=\"lbl c1 trm \" ><span class=\"nd\">word</span> <span class=\"txtt\"><span class=\"plain   \" ><span class=\"txtt\">[x </span></span></span></div><div class='features'><span class=\"type xft\" ><span class=\"f\">type=</span>word</span></div></div><div class=\"contnr c1 trm   \" ><div class=\"lbl c1 trm \" ><span class=\"nd\">word</span> <span class=\"txtt\"><span class=\"plain   \" ><span class=\"txtt\">x </span></span></span></div><div class='features'><span class=\"type xft\" ><span class=\"f\">type=</span>word</span></div></div><div class=\"contnr c1 trm   \" ><div class=\"lbl c1 trm \" ><span class=\"nd\">word</span> <span class=\"txtt\"><span class=\"plain   \" ><span class=\"txtt\">x </span></span></span></div><div class='features'><span class=\"type xft\" ><span class=\"f\">type=</span>word</span></div></div><div class=\"contnr c1 trm   \" ><div class=\"lbl c1 trm \" ><span class=\"nd\">word</span> <span class=\"txtt\"><span class=\"plain   \" ><span class=\"txtt\">x </span></span></span></div><div class='features'><span class=\"type xft\" ><span class=\"f\">type=</span>word</span></div></div><div class=\"contnr c1 trm   \" ><div class=\"lbl c1 trm \" ><span class=\"nd\">word</span> <span class=\"txtt\"><span class=\"plain   \" ><span class=\"txtt\">x </span></span></span></div><div class='features'><span class=\"type xft\" ><span class=\"f\">type=</span>word</span></div></div><div class=\"contnr c1 trm   \" ><div class=\"lbl c1 trm \" ><span class=\"nd\">word</span> <span class=\"txtt\"><span class=\"plain   \" ><span class=\"txtt\">x </span></span></span></div><div class='features'><span class=\"type xft\" ><span class=\"f\">type=</span>word</span></div></div><div class=\"contnr c1 trm   \" ><div class=\"lbl c1 trm \" ><span class=\"nd\">word</span> <span class=\"txtt\"><span class=\"plain   \" ><span class=\"txtt\">x </span></span></span></div><div class='features'><span class=\"type xft\" ><span class=\"f\">type=</span>word</span></div></div><div class=\"contnr c1 trm   \" ><div class=\"lbl c1 trm \" ><span class=\"nd\">word</span> <span class=\"txtt\"><span class=\"plain   \" ><span class=\"txtt\">x </span></span></span></div><div class='features'><span class=\"type xft\" ><span class=\"f\">type=</span>word</span></div></div><div class=\"contnr c1 trm   \" ><div class=\"lbl c1 trm \" ><span class=\"nd\">word</span> <span class=\"txtt\"><span class=\"plain   \" ><span class=\"txtt\">x] </span></span></span></div><div class='features'><span class=\"type xft\" ><span class=\"f\">type=</span>word</span></div></div></div></div><div class=\"contnr c1 trm   \" ><div class=\"lbl c1 trm \" ><span class=\"nd\">word</span> <span class=\"txtt\"><span class=\"plain   \" ><span class=\"txtt\">x </span></span></span></div><div class='features'><span class=\"type xft\" ><span class=\"f\">type=</span>word</span></div></div><div class=\"contnr c1 trm   \" ><div class=\"lbl c1 trm \" ><span class=\"nd\">word</span> <span class=\"txtt\"><span class=\"plain   \" ><span class=\"txtt\">x </span></span></span></div><div class='features'><span class=\"type xft\" ><span class=\"f\">type=</span>word</span></div></div><div class=\"contnr c2    \" ><div class=\"lbl c2  \" ><span class=\"nd\">cluster</span></div><div class='features'><span class=\"type xft\" ><span class=\"f\">type=</span>missing</span></div><div class=\"children hor wrap \"><div class=\"contnr c1 trm   \" ><div class=\"lbl c1 trm \" ><span class=\"nd\">word</span> <span class=\"txtt\"><span class=\"plain   \" ><span class=\"txtt\">[x </span></span></span></div><div class='features'><span class=\"type xft\" ><span class=\"f\">type=</span>word</span></div></div><div class=\"contnr c1 trm   \" ><div class=\"lbl c1 trm \" ><span class=\"nd\">word</span> <span class=\"txtt\"><span class=\"plain   \" ><span class=\"txtt\">x </span></span></span></div><div class='features'><span class=\"type xft\" ><span class=\"f\">type=</span>word</span></div></div><div class=\"contnr c1 trm   \" ><div class=\"lbl c1 trm \" ><span class=\"nd\">word</span> <span class=\"txtt\"><span class=\"plain   \" ><span class=\"txtt\">x </span></span></span></div><div class='features'><span class=\"type xft\" ><span class=\"f\">type=</span>word</span></div></div><div class=\"contnr c1 trm   \" ><div class=\"lbl c1 trm \" ><span class=\"nd\">word</span> <span class=\"txtt\"><span class=\"plain   \" ><span class=\"txtt\">x]\n",
       "</span></span></span></div><div class='features'><span class=\"type xft\" ><span class=\"f\">type=</span>word</span></div></div></div></div></div></div></div></div></div>"
      ],
      "text/plain": [
       "<IPython.core.display.HTML object>"
      ]
     },
     "metadata": {},
     "output_type": "display_data"
    }
   ],
   "source": [
    "A.show(results, end=2, condensed=True, condenseType=\"face\")"
   ]
  },
  {
   "cell_type": "markdown",
   "metadata": {},
   "source": [
    "We now see the the displays of two faces, one with two numerals in it and one with three."
   ]
  },
  {
   "cell_type": "markdown",
   "metadata": {},
   "source": [
    "# Custom highlighting\n",
    "\n",
    "Let us make a new search where we look for two different things in the same line.\n",
    "\n",
    "We can apply different highlight colours to different parts of the result.\n",
    "The signs in the pair are member 0 and 1 of the result tuples.\n",
    "The members that we do not map, will not be highlighted.\n",
    "The members that we map to the empty string will be highlighted with the default color.\n",
    "\n",
    "**NB:** Choose your colours from the\n",
    "[CSS specification](https://developer.mozilla.org/en-US/docs/Web/CSS/color_value)."
   ]
  },
  {
   "cell_type": "code",
   "execution_count": 13,
   "metadata": {
    "ExecuteTime": {
     "end_time": "2018-05-24T07:47:14.547656Z",
     "start_time": "2018-05-24T07:47:14.544433Z"
    }
   },
   "outputs": [],
   "source": [
    "query = \"\"\"\n",
    "line\n",
    "  sign missing=1\n",
    "  sign question=1\n",
    "  sign damage=1\n",
    "\"\"\""
   ]
  },
  {
   "cell_type": "code",
   "execution_count": 14,
   "metadata": {
    "ExecuteTime": {
     "end_time": "2018-05-24T07:47:18.913432Z",
     "start_time": "2018-05-24T07:47:17.357992Z"
    }
   },
   "outputs": [
    {
     "name": "stdout",
     "output_type": "stream",
     "text": [
      "  0.15s 8298 results\n"
     ]
    },
    {
     "data": {
      "text/html": [
       "<table><tr class=\"tf ltr\"><th class=\"tf ltr\">n</th><th class=\"tf ltr\">p</th><th class=\"tf ltr\">line</th><th class=\"tf\">sign</th><th class=\"tf\">sign</th><th class=\"tf\">sign</th></tr>\n",
       "<tr class=\"tf ltr\"><td class=\"tf ltr\">1</td><td class=\"tf ltr\"><span class=\"tfsechead ltr\"><span class=\"ltr\"><a target=\"_blank\" href=\"https://cdli.ucla.edu/search/search_results.php?SearchMode=Text&amp;ObjectID=P479250\" title=\"Show this document on CDLI\" sec=\"P479250 reverse:17\">P479250 reverse:17</a></span></span></td><td class=\"tf ltr\"><span class=\" ubd\"><span class=\"plain   hl\" ><span class=\"txtt\">[... </span></span><span class=\"plain   hl\" ><span class=\"txtt\">SAHAR?] </span></span><span class=\"plain   hl\" ><span class=\"txtt\">TA# </span></span><span class=\"txtt\">{urudu#}</span><span class=\"txtt\">na#-</span><span class=\"txtt\">ah#-</span><span class=\"txtt\">bi?# </span><span class=\"txtt\">[ana? </span><span class=\"txtt\">{urudu]}</span><span class=\"txtt\">na#-</span><span class=\"txtt\">ah#-</span><span class=\"txtt\">bi?#\n",
       "</span></span></td><td class=\"tf ltr\"><span class=\" ubd\"><span class=\"plain   hl\" ><span class=\"txtt\">[... </span></span></span></td><td class=\"tf ltr\"><span class=\" ubd\"><span class=\"plain   hl\" ><span class=\"txtt\">SAHAR?] </span></span></span></td><td class=\"tf ltr\"><span class=\" ubd\"><span class=\"plain   hl\" ><span class=\"txtt\">TA# </span></span></span></td></tr>\n",
       "<tr class=\"tf ltr\"><td class=\"tf ltr\">2</td><td class=\"tf ltr\"><span class=\"tfsechead ltr\"><span class=\"ltr\"><a target=\"_blank\" href=\"https://cdli.ucla.edu/search/search_results.php?SearchMode=Text&amp;ObjectID=P479250\" title=\"Show this document on CDLI\" sec=\"P479250 reverse:17\">P479250 reverse:17</a></span></span></td><td class=\"tf ltr\"><span class=\" ubd\"><span class=\"plain   hl\" ><span class=\"txtt\">[... </span></span><span class=\"plain   hl\" ><span class=\"txtt\">SAHAR?] </span></span><span class=\"txtt\">TA# </span><span class=\"plain   hl\" ><span class=\"txtt\">{urudu#}</span></span><span class=\"txtt\">na#-</span><span class=\"txtt\">ah#-</span><span class=\"txtt\">bi?# </span><span class=\"txtt\">[ana? </span><span class=\"txtt\">{urudu]}</span><span class=\"txtt\">na#-</span><span class=\"txtt\">ah#-</span><span class=\"txtt\">bi?#\n",
       "</span></span></td><td class=\"tf ltr\"><span class=\" ubd\"><span class=\"plain   hl\" ><span class=\"txtt\">[... </span></span></span></td><td class=\"tf ltr\"><span class=\" ubd\"><span class=\"plain   hl\" ><span class=\"txtt\">SAHAR?] </span></span></span></td><td class=\"tf ltr\"><span class=\" ubd\"><span class=\"plain   hl\" ><span class=\"txtt\">{urudu#}</span></span></span></td></tr>\n",
       "<tr class=\"tf ltr\"><td class=\"tf ltr\">3</td><td class=\"tf ltr\"><span class=\"tfsechead ltr\"><span class=\"ltr\"><a target=\"_blank\" href=\"https://cdli.ucla.edu/search/search_results.php?SearchMode=Text&amp;ObjectID=P479250\" title=\"Show this document on CDLI\" sec=\"P479250 reverse:17\">P479250 reverse:17</a></span></span></td><td class=\"tf ltr\"><span class=\" ubd\"><span class=\"plain   hl\" ><span class=\"txtt\">[... </span></span><span class=\"plain   hl\" ><span class=\"txtt\">SAHAR?] </span></span><span class=\"txtt\">TA# </span><span class=\"txtt\">{urudu#}</span><span class=\"plain   hl\" ><span class=\"txtt\">na#-</span></span><span class=\"txtt\">ah#-</span><span class=\"txtt\">bi?# </span><span class=\"txtt\">[ana? </span><span class=\"txtt\">{urudu]}</span><span class=\"txtt\">na#-</span><span class=\"txtt\">ah#-</span><span class=\"txtt\">bi?#\n",
       "</span></span></td><td class=\"tf ltr\"><span class=\" ubd\"><span class=\"plain   hl\" ><span class=\"txtt\">[... </span></span></span></td><td class=\"tf ltr\"><span class=\" ubd\"><span class=\"plain   hl\" ><span class=\"txtt\">SAHAR?] </span></span></span></td><td class=\"tf ltr\"><span class=\" ubd\"><span class=\"plain   hl\" ><span class=\"txtt\">na#-</span></span></span></td></tr>\n",
       "<tr class=\"tf ltr\"><td class=\"tf ltr\">4</td><td class=\"tf ltr\"><span class=\"tfsechead ltr\"><span class=\"ltr\"><a target=\"_blank\" href=\"https://cdli.ucla.edu/search/search_results.php?SearchMode=Text&amp;ObjectID=P479250\" title=\"Show this document on CDLI\" sec=\"P479250 reverse:17\">P479250 reverse:17</a></span></span></td><td class=\"tf ltr\"><span class=\" ubd\"><span class=\"plain   hl\" ><span class=\"txtt\">[... </span></span><span class=\"plain   hl\" ><span class=\"txtt\">SAHAR?] </span></span><span class=\"txtt\">TA# </span><span class=\"txtt\">{urudu#}</span><span class=\"txtt\">na#-</span><span class=\"plain   hl\" ><span class=\"txtt\">ah#-</span></span><span class=\"txtt\">bi?# </span><span class=\"txtt\">[ana? </span><span class=\"txtt\">{urudu]}</span><span class=\"txtt\">na#-</span><span class=\"txtt\">ah#-</span><span class=\"txtt\">bi?#\n",
       "</span></span></td><td class=\"tf ltr\"><span class=\" ubd\"><span class=\"plain   hl\" ><span class=\"txtt\">[... </span></span></span></td><td class=\"tf ltr\"><span class=\" ubd\"><span class=\"plain   hl\" ><span class=\"txtt\">SAHAR?] </span></span></span></td><td class=\"tf ltr\"><span class=\" ubd\"><span class=\"plain   hl\" ><span class=\"txtt\">ah#-</span></span></span></td></tr>\n",
       "<tr class=\"tf ltr\"><td class=\"tf ltr\">5</td><td class=\"tf ltr\"><span class=\"tfsechead ltr\"><span class=\"ltr\"><a target=\"_blank\" href=\"https://cdli.ucla.edu/search/search_results.php?SearchMode=Text&amp;ObjectID=P479250\" title=\"Show this document on CDLI\" sec=\"P479250 reverse:17\">P479250 reverse:17</a></span></span></td><td class=\"tf ltr\"><span class=\" ubd\"><span class=\"plain   hl\" ><span class=\"txtt\">[... </span></span><span class=\"plain   hl\" ><span class=\"txtt\">SAHAR?] </span></span><span class=\"txtt\">TA# </span><span class=\"txtt\">{urudu#}</span><span class=\"txtt\">na#-</span><span class=\"txtt\">ah#-</span><span class=\"plain   hl\" ><span class=\"txtt\">bi?# </span></span><span class=\"txtt\">[ana? </span><span class=\"txtt\">{urudu]}</span><span class=\"txtt\">na#-</span><span class=\"txtt\">ah#-</span><span class=\"txtt\">bi?#\n",
       "</span></span></td><td class=\"tf ltr\"><span class=\" ubd\"><span class=\"plain   hl\" ><span class=\"txtt\">[... </span></span></span></td><td class=\"tf ltr\"><span class=\" ubd\"><span class=\"plain   hl\" ><span class=\"txtt\">SAHAR?] </span></span></span></td><td class=\"tf ltr\"><span class=\" ubd\"><span class=\"plain   hl\" ><span class=\"txtt\">bi?# </span></span></span></td></tr>\n",
       "<tr class=\"tf ltr\"><td class=\"tf ltr\">6</td><td class=\"tf ltr\"><span class=\"tfsechead ltr\"><span class=\"ltr\"><a target=\"_blank\" href=\"https://cdli.ucla.edu/search/search_results.php?SearchMode=Text&amp;ObjectID=P479250\" title=\"Show this document on CDLI\" sec=\"P479250 reverse:17\">P479250 reverse:17</a></span></span></td><td class=\"tf ltr\"><span class=\" ubd\"><span class=\"plain   hl\" ><span class=\"txtt\">[... </span></span><span class=\"plain   hl\" ><span class=\"txtt\">SAHAR?] </span></span><span class=\"txtt\">TA# </span><span class=\"txtt\">{urudu#}</span><span class=\"txtt\">na#-</span><span class=\"txtt\">ah#-</span><span class=\"txtt\">bi?# </span><span class=\"txtt\">[ana? </span><span class=\"txtt\">{urudu]}</span><span class=\"plain   hl\" ><span class=\"txtt\">na#-</span></span><span class=\"txtt\">ah#-</span><span class=\"txtt\">bi?#\n",
       "</span></span></td><td class=\"tf ltr\"><span class=\" ubd\"><span class=\"plain   hl\" ><span class=\"txtt\">[... </span></span></span></td><td class=\"tf ltr\"><span class=\" ubd\"><span class=\"plain   hl\" ><span class=\"txtt\">SAHAR?] </span></span></span></td><td class=\"tf ltr\"><span class=\" ubd\"><span class=\"plain   hl\" ><span class=\"txtt\">na#-</span></span></span></td></tr>\n",
       "<tr class=\"tf ltr\"><td class=\"tf ltr\">7</td><td class=\"tf ltr\"><span class=\"tfsechead ltr\"><span class=\"ltr\"><a target=\"_blank\" href=\"https://cdli.ucla.edu/search/search_results.php?SearchMode=Text&amp;ObjectID=P479250\" title=\"Show this document on CDLI\" sec=\"P479250 reverse:17\">P479250 reverse:17</a></span></span></td><td class=\"tf ltr\"><span class=\" ubd\"><span class=\"plain   hl\" ><span class=\"txtt\">[... </span></span><span class=\"plain   hl\" ><span class=\"txtt\">SAHAR?] </span></span><span class=\"txtt\">TA# </span><span class=\"txtt\">{urudu#}</span><span class=\"txtt\">na#-</span><span class=\"txtt\">ah#-</span><span class=\"txtt\">bi?# </span><span class=\"txtt\">[ana? </span><span class=\"txtt\">{urudu]}</span><span class=\"txtt\">na#-</span><span class=\"plain   hl\" ><span class=\"txtt\">ah#-</span></span><span class=\"txtt\">bi?#\n",
       "</span></span></td><td class=\"tf ltr\"><span class=\" ubd\"><span class=\"plain   hl\" ><span class=\"txtt\">[... </span></span></span></td><td class=\"tf ltr\"><span class=\" ubd\"><span class=\"plain   hl\" ><span class=\"txtt\">SAHAR?] </span></span></span></td><td class=\"tf ltr\"><span class=\" ubd\"><span class=\"plain   hl\" ><span class=\"txtt\">ah#-</span></span></span></td></tr>\n",
       "<tr class=\"tf ltr\"><td class=\"tf ltr\">8</td><td class=\"tf ltr\"><span class=\"tfsechead ltr\"><span class=\"ltr\"><a target=\"_blank\" href=\"https://cdli.ucla.edu/search/search_results.php?SearchMode=Text&amp;ObjectID=P479250\" title=\"Show this document on CDLI\" sec=\"P479250 reverse:17\">P479250 reverse:17</a></span></span></td><td class=\"tf ltr\"><span class=\" ubd\"><span class=\"plain   hl\" ><span class=\"txtt\">[... </span></span><span class=\"plain   hl\" ><span class=\"txtt\">SAHAR?] </span></span><span class=\"txtt\">TA# </span><span class=\"txtt\">{urudu#}</span><span class=\"txtt\">na#-</span><span class=\"txtt\">ah#-</span><span class=\"txtt\">bi?# </span><span class=\"txtt\">[ana? </span><span class=\"txtt\">{urudu]}</span><span class=\"txtt\">na#-</span><span class=\"txtt\">ah#-</span><span class=\"plain   hl\" ><span class=\"txtt\">bi?#\n",
       "</span></span></span></td><td class=\"tf ltr\"><span class=\" ubd\"><span class=\"plain   hl\" ><span class=\"txtt\">[... </span></span></span></td><td class=\"tf ltr\"><span class=\" ubd\"><span class=\"plain   hl\" ><span class=\"txtt\">SAHAR?] </span></span></span></td><td class=\"tf ltr\"><span class=\" ubd\"><span class=\"plain   hl\" ><span class=\"txtt\">bi?#\n",
       "</span></span></span></td></tr>\n",
       "<tr class=\"tf ltr\"><td class=\"tf ltr\">9</td><td class=\"tf ltr\"><span class=\"tfsechead ltr\"><span class=\"ltr\"><a target=\"_blank\" href=\"https://cdli.ucla.edu/search/search_results.php?SearchMode=Text&amp;ObjectID=P479250\" title=\"Show this document on CDLI\" sec=\"P479250 reverse:17\">P479250 reverse:17</a></span></span></td><td class=\"tf ltr\"><span class=\" ubd\"><span class=\"plain   hl\" ><span class=\"txtt\">[... </span></span><span class=\"txtt\">SAHAR?] </span><span class=\"plain   hl\" ><span class=\"txtt\">TA# </span></span><span class=\"txtt\">{urudu#}</span><span class=\"txtt\">na#-</span><span class=\"txtt\">ah#-</span><span class=\"plain   hl\" ><span class=\"txtt\">bi?# </span></span><span class=\"txtt\">[ana? </span><span class=\"txtt\">{urudu]}</span><span class=\"txtt\">na#-</span><span class=\"txtt\">ah#-</span><span class=\"txtt\">bi?#\n",
       "</span></span></td><td class=\"tf ltr\"><span class=\" ubd\"><span class=\"plain   hl\" ><span class=\"txtt\">[... </span></span></span></td><td class=\"tf ltr\"><span class=\" ubd\"><span class=\"plain   hl\" ><span class=\"txtt\">bi?# </span></span></span></td><td class=\"tf ltr\"><span class=\" ubd\"><span class=\"plain   hl\" ><span class=\"txtt\">TA# </span></span></span></td></tr>\n",
       "<tr class=\"tf ltr\"><td class=\"tf ltr\">10</td><td class=\"tf ltr\"><span class=\"tfsechead ltr\"><span class=\"ltr\"><a target=\"_blank\" href=\"https://cdli.ucla.edu/search/search_results.php?SearchMode=Text&amp;ObjectID=P479250\" title=\"Show this document on CDLI\" sec=\"P479250 reverse:17\">P479250 reverse:17</a></span></span></td><td class=\"tf ltr\"><span class=\" ubd\"><span class=\"plain   hl\" ><span class=\"txtt\">[... </span></span><span class=\"txtt\">SAHAR?] </span><span class=\"txtt\">TA# </span><span class=\"plain   hl\" ><span class=\"txtt\">{urudu#}</span></span><span class=\"txtt\">na#-</span><span class=\"txtt\">ah#-</span><span class=\"plain   hl\" ><span class=\"txtt\">bi?# </span></span><span class=\"txtt\">[ana? </span><span class=\"txtt\">{urudu]}</span><span class=\"txtt\">na#-</span><span class=\"txtt\">ah#-</span><span class=\"txtt\">bi?#\n",
       "</span></span></td><td class=\"tf ltr\"><span class=\" ubd\"><span class=\"plain   hl\" ><span class=\"txtt\">[... </span></span></span></td><td class=\"tf ltr\"><span class=\" ubd\"><span class=\"plain   hl\" ><span class=\"txtt\">bi?# </span></span></span></td><td class=\"tf ltr\"><span class=\" ubd\"><span class=\"plain   hl\" ><span class=\"txtt\">{urudu#}</span></span></span></td></tr></table>"
      ],
      "text/plain": [
       "<IPython.core.display.HTML object>"
      ]
     },
     "metadata": {},
     "output_type": "display_data"
    }
   ],
   "source": [
    "results = A.search(query)\n",
    "A.table(results, end=10, baseTypes=\"sign\")"
   ]
  },
  {
   "cell_type": "code",
   "execution_count": 15,
   "metadata": {},
   "outputs": [
    {
     "data": {
      "text/html": [
       "<table><tr class=\"tf ltr\"><th class=\"tf ltr\">n</th><th class=\"tf ltr\">p</th><th class=\"tf ltr\">line</th><th class=\"tf\">sign</th><th class=\"tf\">sign</th><th class=\"tf\">sign</th></tr>\n",
       "<tr class=\"tf ltr\"><td class=\"tf ltr\">1</td><td class=\"tf ltr\"><span class=\"tfsechead ltr\"><span class=\"ltr\"><a target=\"_blank\" href=\"https://cdli.ucla.edu/search/search_results.php?SearchMode=Text&amp;ObjectID=P479250\" title=\"Show this document on CDLI\" sec=\"P479250 reverse:17\">P479250 reverse:17</a></span></span></td><td class=\"tf ltr\"><span class=\" ubd\"><span class=\"plain   hl\"  style=\"background-color: cyan;\" ><span class=\"txtt\">[... </span></span><span class=\"plain   hl\"  style=\"background-color: magenta;\" ><span class=\"txtt\">SAHAR?] </span></span><span class=\"plain   hl\"  style=\"background-color: lightsalmon;\" ><span class=\"txtt\">TA# </span></span><span class=\"txtt\">{urudu#}</span><span class=\"txtt\">na#-</span><span class=\"txtt\">ah#-</span><span class=\"txtt\">bi?# </span><span class=\"txtt\">[ana? </span><span class=\"txtt\">{urudu]}</span><span class=\"txtt\">na#-</span><span class=\"txtt\">ah#-</span><span class=\"txtt\">bi?#\n",
       "</span></span></td><td class=\"tf ltr\"><span class=\" ubd\"><span class=\"plain   hl\"  style=\"background-color: cyan;\" ><span class=\"txtt\">[... </span></span></span></td><td class=\"tf ltr\"><span class=\" ubd\"><span class=\"plain   hl\"  style=\"background-color: magenta;\" ><span class=\"txtt\">SAHAR?] </span></span></span></td><td class=\"tf ltr\"><span class=\" ubd\"><span class=\"plain   hl\"  style=\"background-color: lightsalmon;\" ><span class=\"txtt\">TA# </span></span></span></td></tr>\n",
       "<tr class=\"tf ltr\"><td class=\"tf ltr\">2</td><td class=\"tf ltr\"><span class=\"tfsechead ltr\"><span class=\"ltr\"><a target=\"_blank\" href=\"https://cdli.ucla.edu/search/search_results.php?SearchMode=Text&amp;ObjectID=P479250\" title=\"Show this document on CDLI\" sec=\"P479250 reverse:17\">P479250 reverse:17</a></span></span></td><td class=\"tf ltr\"><span class=\" ubd\"><span class=\"plain   hl\"  style=\"background-color: cyan;\" ><span class=\"txtt\">[... </span></span><span class=\"plain   hl\"  style=\"background-color: magenta;\" ><span class=\"txtt\">SAHAR?] </span></span><span class=\"txtt\">TA# </span><span class=\"plain   hl\"  style=\"background-color: lightsalmon;\" ><span class=\"txtt\">{urudu#}</span></span><span class=\"txtt\">na#-</span><span class=\"txtt\">ah#-</span><span class=\"txtt\">bi?# </span><span class=\"txtt\">[ana? </span><span class=\"txtt\">{urudu]}</span><span class=\"txtt\">na#-</span><span class=\"txtt\">ah#-</span><span class=\"txtt\">bi?#\n",
       "</span></span></td><td class=\"tf ltr\"><span class=\" ubd\"><span class=\"plain   hl\"  style=\"background-color: cyan;\" ><span class=\"txtt\">[... </span></span></span></td><td class=\"tf ltr\"><span class=\" ubd\"><span class=\"plain   hl\"  style=\"background-color: magenta;\" ><span class=\"txtt\">SAHAR?] </span></span></span></td><td class=\"tf ltr\"><span class=\" ubd\"><span class=\"plain   hl\"  style=\"background-color: lightsalmon;\" ><span class=\"txtt\">{urudu#}</span></span></span></td></tr>\n",
       "<tr class=\"tf ltr\"><td class=\"tf ltr\">3</td><td class=\"tf ltr\"><span class=\"tfsechead ltr\"><span class=\"ltr\"><a target=\"_blank\" href=\"https://cdli.ucla.edu/search/search_results.php?SearchMode=Text&amp;ObjectID=P479250\" title=\"Show this document on CDLI\" sec=\"P479250 reverse:17\">P479250 reverse:17</a></span></span></td><td class=\"tf ltr\"><span class=\" ubd\"><span class=\"plain   hl\"  style=\"background-color: cyan;\" ><span class=\"txtt\">[... </span></span><span class=\"plain   hl\"  style=\"background-color: magenta;\" ><span class=\"txtt\">SAHAR?] </span></span><span class=\"txtt\">TA# </span><span class=\"txtt\">{urudu#}</span><span class=\"plain   hl\"  style=\"background-color: lightsalmon;\" ><span class=\"txtt\">na#-</span></span><span class=\"txtt\">ah#-</span><span class=\"txtt\">bi?# </span><span class=\"txtt\">[ana? </span><span class=\"txtt\">{urudu]}</span><span class=\"txtt\">na#-</span><span class=\"txtt\">ah#-</span><span class=\"txtt\">bi?#\n",
       "</span></span></td><td class=\"tf ltr\"><span class=\" ubd\"><span class=\"plain   hl\"  style=\"background-color: cyan;\" ><span class=\"txtt\">[... </span></span></span></td><td class=\"tf ltr\"><span class=\" ubd\"><span class=\"plain   hl\"  style=\"background-color: magenta;\" ><span class=\"txtt\">SAHAR?] </span></span></span></td><td class=\"tf ltr\"><span class=\" ubd\"><span class=\"plain   hl\"  style=\"background-color: lightsalmon;\" ><span class=\"txtt\">na#-</span></span></span></td></tr>\n",
       "<tr class=\"tf ltr\"><td class=\"tf ltr\">4</td><td class=\"tf ltr\"><span class=\"tfsechead ltr\"><span class=\"ltr\"><a target=\"_blank\" href=\"https://cdli.ucla.edu/search/search_results.php?SearchMode=Text&amp;ObjectID=P479250\" title=\"Show this document on CDLI\" sec=\"P479250 reverse:17\">P479250 reverse:17</a></span></span></td><td class=\"tf ltr\"><span class=\" ubd\"><span class=\"plain   hl\"  style=\"background-color: cyan;\" ><span class=\"txtt\">[... </span></span><span class=\"plain   hl\"  style=\"background-color: magenta;\" ><span class=\"txtt\">SAHAR?] </span></span><span class=\"txtt\">TA# </span><span class=\"txtt\">{urudu#}</span><span class=\"txtt\">na#-</span><span class=\"plain   hl\"  style=\"background-color: lightsalmon;\" ><span class=\"txtt\">ah#-</span></span><span class=\"txtt\">bi?# </span><span class=\"txtt\">[ana? </span><span class=\"txtt\">{urudu]}</span><span class=\"txtt\">na#-</span><span class=\"txtt\">ah#-</span><span class=\"txtt\">bi?#\n",
       "</span></span></td><td class=\"tf ltr\"><span class=\" ubd\"><span class=\"plain   hl\"  style=\"background-color: cyan;\" ><span class=\"txtt\">[... </span></span></span></td><td class=\"tf ltr\"><span class=\" ubd\"><span class=\"plain   hl\"  style=\"background-color: magenta;\" ><span class=\"txtt\">SAHAR?] </span></span></span></td><td class=\"tf ltr\"><span class=\" ubd\"><span class=\"plain   hl\"  style=\"background-color: lightsalmon;\" ><span class=\"txtt\">ah#-</span></span></span></td></tr>\n",
       "<tr class=\"tf ltr\"><td class=\"tf ltr\">5</td><td class=\"tf ltr\"><span class=\"tfsechead ltr\"><span class=\"ltr\"><a target=\"_blank\" href=\"https://cdli.ucla.edu/search/search_results.php?SearchMode=Text&amp;ObjectID=P479250\" title=\"Show this document on CDLI\" sec=\"P479250 reverse:17\">P479250 reverse:17</a></span></span></td><td class=\"tf ltr\"><span class=\" ubd\"><span class=\"plain   hl\"  style=\"background-color: cyan;\" ><span class=\"txtt\">[... </span></span><span class=\"plain   hl\"  style=\"background-color: magenta;\" ><span class=\"txtt\">SAHAR?] </span></span><span class=\"txtt\">TA# </span><span class=\"txtt\">{urudu#}</span><span class=\"txtt\">na#-</span><span class=\"txtt\">ah#-</span><span class=\"plain   hl\"  style=\"background-color: lightsalmon;\" ><span class=\"txtt\">bi?# </span></span><span class=\"txtt\">[ana? </span><span class=\"txtt\">{urudu]}</span><span class=\"txtt\">na#-</span><span class=\"txtt\">ah#-</span><span class=\"txtt\">bi?#\n",
       "</span></span></td><td class=\"tf ltr\"><span class=\" ubd\"><span class=\"plain   hl\"  style=\"background-color: cyan;\" ><span class=\"txtt\">[... </span></span></span></td><td class=\"tf ltr\"><span class=\" ubd\"><span class=\"plain   hl\"  style=\"background-color: magenta;\" ><span class=\"txtt\">SAHAR?] </span></span></span></td><td class=\"tf ltr\"><span class=\" ubd\"><span class=\"plain   hl\"  style=\"background-color: lightsalmon;\" ><span class=\"txtt\">bi?# </span></span></span></td></tr>\n",
       "<tr class=\"tf ltr\"><td class=\"tf ltr\">6</td><td class=\"tf ltr\"><span class=\"tfsechead ltr\"><span class=\"ltr\"><a target=\"_blank\" href=\"https://cdli.ucla.edu/search/search_results.php?SearchMode=Text&amp;ObjectID=P479250\" title=\"Show this document on CDLI\" sec=\"P479250 reverse:17\">P479250 reverse:17</a></span></span></td><td class=\"tf ltr\"><span class=\" ubd\"><span class=\"plain   hl\"  style=\"background-color: cyan;\" ><span class=\"txtt\">[... </span></span><span class=\"plain   hl\"  style=\"background-color: magenta;\" ><span class=\"txtt\">SAHAR?] </span></span><span class=\"txtt\">TA# </span><span class=\"txtt\">{urudu#}</span><span class=\"txtt\">na#-</span><span class=\"txtt\">ah#-</span><span class=\"txtt\">bi?# </span><span class=\"txtt\">[ana? </span><span class=\"txtt\">{urudu]}</span><span class=\"plain   hl\"  style=\"background-color: lightsalmon;\" ><span class=\"txtt\">na#-</span></span><span class=\"txtt\">ah#-</span><span class=\"txtt\">bi?#\n",
       "</span></span></td><td class=\"tf ltr\"><span class=\" ubd\"><span class=\"plain   hl\"  style=\"background-color: cyan;\" ><span class=\"txtt\">[... </span></span></span></td><td class=\"tf ltr\"><span class=\" ubd\"><span class=\"plain   hl\"  style=\"background-color: magenta;\" ><span class=\"txtt\">SAHAR?] </span></span></span></td><td class=\"tf ltr\"><span class=\" ubd\"><span class=\"plain   hl\"  style=\"background-color: lightsalmon;\" ><span class=\"txtt\">na#-</span></span></span></td></tr>\n",
       "<tr class=\"tf ltr\"><td class=\"tf ltr\">7</td><td class=\"tf ltr\"><span class=\"tfsechead ltr\"><span class=\"ltr\"><a target=\"_blank\" href=\"https://cdli.ucla.edu/search/search_results.php?SearchMode=Text&amp;ObjectID=P479250\" title=\"Show this document on CDLI\" sec=\"P479250 reverse:17\">P479250 reverse:17</a></span></span></td><td class=\"tf ltr\"><span class=\" ubd\"><span class=\"plain   hl\"  style=\"background-color: cyan;\" ><span class=\"txtt\">[... </span></span><span class=\"plain   hl\"  style=\"background-color: magenta;\" ><span class=\"txtt\">SAHAR?] </span></span><span class=\"txtt\">TA# </span><span class=\"txtt\">{urudu#}</span><span class=\"txtt\">na#-</span><span class=\"txtt\">ah#-</span><span class=\"txtt\">bi?# </span><span class=\"txtt\">[ana? </span><span class=\"txtt\">{urudu]}</span><span class=\"txtt\">na#-</span><span class=\"plain   hl\"  style=\"background-color: lightsalmon;\" ><span class=\"txtt\">ah#-</span></span><span class=\"txtt\">bi?#\n",
       "</span></span></td><td class=\"tf ltr\"><span class=\" ubd\"><span class=\"plain   hl\"  style=\"background-color: cyan;\" ><span class=\"txtt\">[... </span></span></span></td><td class=\"tf ltr\"><span class=\" ubd\"><span class=\"plain   hl\"  style=\"background-color: magenta;\" ><span class=\"txtt\">SAHAR?] </span></span></span></td><td class=\"tf ltr\"><span class=\" ubd\"><span class=\"plain   hl\"  style=\"background-color: lightsalmon;\" ><span class=\"txtt\">ah#-</span></span></span></td></tr>\n",
       "<tr class=\"tf ltr\"><td class=\"tf ltr\">8</td><td class=\"tf ltr\"><span class=\"tfsechead ltr\"><span class=\"ltr\"><a target=\"_blank\" href=\"https://cdli.ucla.edu/search/search_results.php?SearchMode=Text&amp;ObjectID=P479250\" title=\"Show this document on CDLI\" sec=\"P479250 reverse:17\">P479250 reverse:17</a></span></span></td><td class=\"tf ltr\"><span class=\" ubd\"><span class=\"plain   hl\"  style=\"background-color: cyan;\" ><span class=\"txtt\">[... </span></span><span class=\"plain   hl\"  style=\"background-color: magenta;\" ><span class=\"txtt\">SAHAR?] </span></span><span class=\"txtt\">TA# </span><span class=\"txtt\">{urudu#}</span><span class=\"txtt\">na#-</span><span class=\"txtt\">ah#-</span><span class=\"txtt\">bi?# </span><span class=\"txtt\">[ana? </span><span class=\"txtt\">{urudu]}</span><span class=\"txtt\">na#-</span><span class=\"txtt\">ah#-</span><span class=\"plain   hl\"  style=\"background-color: lightsalmon;\" ><span class=\"txtt\">bi?#\n",
       "</span></span></span></td><td class=\"tf ltr\"><span class=\" ubd\"><span class=\"plain   hl\"  style=\"background-color: cyan;\" ><span class=\"txtt\">[... </span></span></span></td><td class=\"tf ltr\"><span class=\" ubd\"><span class=\"plain   hl\"  style=\"background-color: magenta;\" ><span class=\"txtt\">SAHAR?] </span></span></span></td><td class=\"tf ltr\"><span class=\" ubd\"><span class=\"plain   hl\"  style=\"background-color: lightsalmon;\" ><span class=\"txtt\">bi?#\n",
       "</span></span></span></td></tr>\n",
       "<tr class=\"tf ltr\"><td class=\"tf ltr\">9</td><td class=\"tf ltr\"><span class=\"tfsechead ltr\"><span class=\"ltr\"><a target=\"_blank\" href=\"https://cdli.ucla.edu/search/search_results.php?SearchMode=Text&amp;ObjectID=P479250\" title=\"Show this document on CDLI\" sec=\"P479250 reverse:17\">P479250 reverse:17</a></span></span></td><td class=\"tf ltr\"><span class=\" ubd\"><span class=\"plain   hl\"  style=\"background-color: cyan;\" ><span class=\"txtt\">[... </span></span><span class=\"txtt\">SAHAR?] </span><span class=\"plain   hl\"  style=\"background-color: lightsalmon;\" ><span class=\"txtt\">TA# </span></span><span class=\"txtt\">{urudu#}</span><span class=\"txtt\">na#-</span><span class=\"txtt\">ah#-</span><span class=\"plain   hl\"  style=\"background-color: magenta;\" ><span class=\"txtt\">bi?# </span></span><span class=\"txtt\">[ana? </span><span class=\"txtt\">{urudu]}</span><span class=\"txtt\">na#-</span><span class=\"txtt\">ah#-</span><span class=\"txtt\">bi?#\n",
       "</span></span></td><td class=\"tf ltr\"><span class=\" ubd\"><span class=\"plain   hl\"  style=\"background-color: cyan;\" ><span class=\"txtt\">[... </span></span></span></td><td class=\"tf ltr\"><span class=\" ubd\"><span class=\"plain   hl\"  style=\"background-color: magenta;\" ><span class=\"txtt\">bi?# </span></span></span></td><td class=\"tf ltr\"><span class=\" ubd\"><span class=\"plain   hl\"  style=\"background-color: lightsalmon;\" ><span class=\"txtt\">TA# </span></span></span></td></tr>\n",
       "<tr class=\"tf ltr\"><td class=\"tf ltr\">10</td><td class=\"tf ltr\"><span class=\"tfsechead ltr\"><span class=\"ltr\"><a target=\"_blank\" href=\"https://cdli.ucla.edu/search/search_results.php?SearchMode=Text&amp;ObjectID=P479250\" title=\"Show this document on CDLI\" sec=\"P479250 reverse:17\">P479250 reverse:17</a></span></span></td><td class=\"tf ltr\"><span class=\" ubd\"><span class=\"plain   hl\"  style=\"background-color: cyan;\" ><span class=\"txtt\">[... </span></span><span class=\"txtt\">SAHAR?] </span><span class=\"txtt\">TA# </span><span class=\"plain   hl\"  style=\"background-color: lightsalmon;\" ><span class=\"txtt\">{urudu#}</span></span><span class=\"txtt\">na#-</span><span class=\"txtt\">ah#-</span><span class=\"plain   hl\"  style=\"background-color: magenta;\" ><span class=\"txtt\">bi?# </span></span><span class=\"txtt\">[ana? </span><span class=\"txtt\">{urudu]}</span><span class=\"txtt\">na#-</span><span class=\"txtt\">ah#-</span><span class=\"txtt\">bi?#\n",
       "</span></span></td><td class=\"tf ltr\"><span class=\" ubd\"><span class=\"plain   hl\"  style=\"background-color: cyan;\" ><span class=\"txtt\">[... </span></span></span></td><td class=\"tf ltr\"><span class=\" ubd\"><span class=\"plain   hl\"  style=\"background-color: magenta;\" ><span class=\"txtt\">bi?# </span></span></span></td><td class=\"tf ltr\"><span class=\" ubd\"><span class=\"plain   hl\"  style=\"background-color: lightsalmon;\" ><span class=\"txtt\">{urudu#}</span></span></span></td></tr></table>"
      ],
      "text/plain": [
       "<IPython.core.display.HTML object>"
      ]
     },
     "metadata": {},
     "output_type": "display_data"
    }
   ],
   "source": [
    "A.table(\n",
    "    results,\n",
    "    end=10,\n",
    "    baseTypes=\"sign\",\n",
    "    colorMap={0: \"\", 2: \"cyan\", 3: \"magenta\", 4: \"lightsalmon\"},\n",
    ")"
   ]
  },
  {
   "cell_type": "code",
   "execution_count": 16,
   "metadata": {
    "ExecuteTime": {
     "end_time": "2018-05-24T07:47:25.094797Z",
     "start_time": "2018-05-24T07:47:25.048277Z"
    }
   },
   "outputs": [
    {
     "data": {
      "text/html": [
       "<p><b>result</b> <i>1</i></p>"
      ],
      "text/plain": [
       "<IPython.core.display.HTML object>"
      ]
     },
     "metadata": {},
     "output_type": "display_data"
    },
    {
     "data": {
      "text/html": [
       "<div class=\"tfsechead \"><span class=\"ltr\"><a target=\"_blank\" href=\"https://cdli.ucla.edu/search/search_results.php?SearchMode=Text&amp;ObjectID=P479250\" title=\"Show this document on CDLI\" sec=\"P479250 reverse:17\">P479250 reverse:17</a></span></div><div class=\" children\"><div class=\"contnr c3    \" ><div class=\"lbl c3  \" ><span class=\"nd\">line</span></div><div class=\"children hor wrap \"><div class=\"contnr c2    \" ><div class=\"lbl c2  \" ><span class=\"nd\">cluster</span></div><div class=\"children hor wrap \"><div class=\"contnr c1 trm   \" ><div class=\"lbl c1 trm \" ><span class=\"nd\">word</span> <span class=\"txtt\"><span class=\"plain   \" ><span class=\"plain   hl\"  style=\"background-color: cyan;\" ><span class=\"txtt\">[... </span></span></span></span></div></div><div class=\"contnr c1 trm   \" ><div class=\"lbl c1 trm \" ><span class=\"nd\">word</span> <span class=\"txtt\"><span class=\"plain   \" ><span class=\"plain   hl\"  style=\"background-color: magenta;\" ><span class=\"txtt\">SAHAR?] </span></span></span></span></div></div></div></div><div class=\"contnr c1 trm   \" ><div class=\"lbl c1 trm \" ><span class=\"nd\">word</span> <span class=\"txtt\"><span class=\"plain   \" ><span class=\"plain   hl\"  style=\"background-color: lightsalmon;\" ><span class=\"txtt\">TA# </span></span></span></span></div></div><div class=\"contnr c2    \" ><div class=\"lbl c2  \" ><span class=\"nd\">cluster</span></div><div class=\"children hor wrap \"><div class=\"contnr c1 trm  rno \" ><div class=\"lbl c1 trm \" ><span class=\"nd\">word</span> <span class=\"txtt\"><span class=\"plain  rno \" ><span class=\"txtt\">{urudu#}</span></span></span></div></div></div></div><div class=\"contnr c1 trm  lno \" ><div class=\"lbl c1 trm \" ><span class=\"nd\">word</span> <span class=\"txtt\"><span class=\"plain  lno \" ><span class=\"txtt\">na#-</span><span class=\"txtt\">ah#-</span><span class=\"txtt\">bi?# </span></span></span></div></div><div class=\"contnr c2    \" ><div class=\"lbl c2  \" ><span class=\"nd\">cluster</span></div><div class=\"children hor wrap \"><div class=\"contnr c1 trm   \" ><div class=\"lbl c1 trm \" ><span class=\"nd\">word</span> <span class=\"txtt\"><span class=\"plain   \" ><span class=\"txtt\">[ana? </span></span></span></div></div><div class=\"contnr c2    \" ><div class=\"lbl c2  \" ><span class=\"nd\">cluster</span></div><div class=\"children hor wrap \"><div class=\"contnr c1 trm  rno \" ><div class=\"lbl c1 trm \" ><span class=\"nd\">word</span> <span class=\"txtt\"><span class=\"plain  rno \" ><span class=\"txtt\">{urudu]}</span></span></span></div></div></div></div></div></div><div class=\"contnr c1 trm  lno \" ><div class=\"lbl c1 trm \" ><span class=\"nd\">word</span> <span class=\"txtt\"><span class=\"plain  lno \" ><span class=\"txtt\">na#-</span><span class=\"txtt\">ah#-</span><span class=\"txtt\">bi?#\n",
       "</span></span></span></div></div></div></div></div>"
      ],
      "text/plain": [
       "<IPython.core.display.HTML object>"
      ]
     },
     "metadata": {},
     "output_type": "display_data"
    },
    {
     "data": {
      "text/html": [
       "<p><b>result</b> <i>2</i></p>"
      ],
      "text/plain": [
       "<IPython.core.display.HTML object>"
      ]
     },
     "metadata": {},
     "output_type": "display_data"
    },
    {
     "data": {
      "text/html": [
       "<div class=\"tfsechead \"><span class=\"ltr\"><a target=\"_blank\" href=\"https://cdli.ucla.edu/search/search_results.php?SearchMode=Text&amp;ObjectID=P479250\" title=\"Show this document on CDLI\" sec=\"P479250 reverse:17\">P479250 reverse:17</a></span></div><div class=\" children\"><div class=\"contnr c3    \" ><div class=\"lbl c3  \" ><span class=\"nd\">line</span></div><div class=\"children hor wrap \"><div class=\"contnr c2    \" ><div class=\"lbl c2  \" ><span class=\"nd\">cluster</span></div><div class=\"children hor wrap \"><div class=\"contnr c1 trm   \" ><div class=\"lbl c1 trm \" ><span class=\"nd\">word</span> <span class=\"txtt\"><span class=\"plain   \" ><span class=\"plain   hl\"  style=\"background-color: cyan;\" ><span class=\"txtt\">[... </span></span></span></span></div></div><div class=\"contnr c1 trm   \" ><div class=\"lbl c1 trm \" ><span class=\"nd\">word</span> <span class=\"txtt\"><span class=\"plain   \" ><span class=\"plain   hl\"  style=\"background-color: magenta;\" ><span class=\"txtt\">SAHAR?] </span></span></span></span></div></div></div></div><div class=\"contnr c1 trm   \" ><div class=\"lbl c1 trm \" ><span class=\"nd\">word</span> <span class=\"txtt\"><span class=\"plain   \" ><span class=\"txtt\">TA# </span></span></span></div></div><div class=\"contnr c2    \" ><div class=\"lbl c2  \" ><span class=\"nd\">cluster</span></div><div class=\"children hor wrap \"><div class=\"contnr c1 trm  rno \" ><div class=\"lbl c1 trm \" ><span class=\"nd\">word</span> <span class=\"txtt\"><span class=\"plain  rno \" ><span class=\"plain   hl\"  style=\"background-color: lightsalmon;\" ><span class=\"txtt\">{urudu#}</span></span></span></span></div></div></div></div><div class=\"contnr c1 trm  lno \" ><div class=\"lbl c1 trm \" ><span class=\"nd\">word</span> <span class=\"txtt\"><span class=\"plain  lno \" ><span class=\"txtt\">na#-</span><span class=\"txtt\">ah#-</span><span class=\"txtt\">bi?# </span></span></span></div></div><div class=\"contnr c2    \" ><div class=\"lbl c2  \" ><span class=\"nd\">cluster</span></div><div class=\"children hor wrap \"><div class=\"contnr c1 trm   \" ><div class=\"lbl c1 trm \" ><span class=\"nd\">word</span> <span class=\"txtt\"><span class=\"plain   \" ><span class=\"txtt\">[ana? </span></span></span></div></div><div class=\"contnr c2    \" ><div class=\"lbl c2  \" ><span class=\"nd\">cluster</span></div><div class=\"children hor wrap \"><div class=\"contnr c1 trm  rno \" ><div class=\"lbl c1 trm \" ><span class=\"nd\">word</span> <span class=\"txtt\"><span class=\"plain  rno \" ><span class=\"txtt\">{urudu]}</span></span></span></div></div></div></div></div></div><div class=\"contnr c1 trm  lno \" ><div class=\"lbl c1 trm \" ><span class=\"nd\">word</span> <span class=\"txtt\"><span class=\"plain  lno \" ><span class=\"txtt\">na#-</span><span class=\"txtt\">ah#-</span><span class=\"txtt\">bi?#\n",
       "</span></span></span></div></div></div></div></div>"
      ],
      "text/plain": [
       "<IPython.core.display.HTML object>"
      ]
     },
     "metadata": {},
     "output_type": "display_data"
    },
    {
     "data": {
      "text/html": [
       "<p><b>result</b> <i>3</i></p>"
      ],
      "text/plain": [
       "<IPython.core.display.HTML object>"
      ]
     },
     "metadata": {},
     "output_type": "display_data"
    },
    {
     "data": {
      "text/html": [
       "<div class=\"tfsechead \"><span class=\"ltr\"><a target=\"_blank\" href=\"https://cdli.ucla.edu/search/search_results.php?SearchMode=Text&amp;ObjectID=P479250\" title=\"Show this document on CDLI\" sec=\"P479250 reverse:17\">P479250 reverse:17</a></span></div><div class=\" children\"><div class=\"contnr c3    \" ><div class=\"lbl c3  \" ><span class=\"nd\">line</span></div><div class=\"children hor wrap \"><div class=\"contnr c2    \" ><div class=\"lbl c2  \" ><span class=\"nd\">cluster</span></div><div class=\"children hor wrap \"><div class=\"contnr c1 trm   \" ><div class=\"lbl c1 trm \" ><span class=\"nd\">word</span> <span class=\"txtt\"><span class=\"plain   \" ><span class=\"plain   hl\"  style=\"background-color: cyan;\" ><span class=\"txtt\">[... </span></span></span></span></div></div><div class=\"contnr c1 trm   \" ><div class=\"lbl c1 trm \" ><span class=\"nd\">word</span> <span class=\"txtt\"><span class=\"plain   \" ><span class=\"plain   hl\"  style=\"background-color: magenta;\" ><span class=\"txtt\">SAHAR?] </span></span></span></span></div></div></div></div><div class=\"contnr c1 trm   \" ><div class=\"lbl c1 trm \" ><span class=\"nd\">word</span> <span class=\"txtt\"><span class=\"plain   \" ><span class=\"txtt\">TA# </span></span></span></div></div><div class=\"contnr c2    \" ><div class=\"lbl c2  \" ><span class=\"nd\">cluster</span></div><div class=\"children hor wrap \"><div class=\"contnr c1 trm  rno \" ><div class=\"lbl c1 trm \" ><span class=\"nd\">word</span> <span class=\"txtt\"><span class=\"plain  rno \" ><span class=\"txtt\">{urudu#}</span></span></span></div></div></div></div><div class=\"contnr c1 trm  lno \" ><div class=\"lbl c1 trm \" ><span class=\"nd\">word</span> <span class=\"txtt\"><span class=\"plain  lno \" ><span class=\"plain   hl\"  style=\"background-color: lightsalmon;\" ><span class=\"txtt\">na#-</span></span><span class=\"txtt\">ah#-</span><span class=\"txtt\">bi?# </span></span></span></div></div><div class=\"contnr c2    \" ><div class=\"lbl c2  \" ><span class=\"nd\">cluster</span></div><div class=\"children hor wrap \"><div class=\"contnr c1 trm   \" ><div class=\"lbl c1 trm \" ><span class=\"nd\">word</span> <span class=\"txtt\"><span class=\"plain   \" ><span class=\"txtt\">[ana? </span></span></span></div></div><div class=\"contnr c2    \" ><div class=\"lbl c2  \" ><span class=\"nd\">cluster</span></div><div class=\"children hor wrap \"><div class=\"contnr c1 trm  rno \" ><div class=\"lbl c1 trm \" ><span class=\"nd\">word</span> <span class=\"txtt\"><span class=\"plain  rno \" ><span class=\"txtt\">{urudu]}</span></span></span></div></div></div></div></div></div><div class=\"contnr c1 trm  lno \" ><div class=\"lbl c1 trm \" ><span class=\"nd\">word</span> <span class=\"txtt\"><span class=\"plain  lno \" ><span class=\"txtt\">na#-</span><span class=\"txtt\">ah#-</span><span class=\"txtt\">bi?#\n",
       "</span></span></span></div></div></div></div></div>"
      ],
      "text/plain": [
       "<IPython.core.display.HTML object>"
      ]
     },
     "metadata": {},
     "output_type": "display_data"
    },
    {
     "data": {
      "text/html": [
       "<p><b>result</b> <i>4</i></p>"
      ],
      "text/plain": [
       "<IPython.core.display.HTML object>"
      ]
     },
     "metadata": {},
     "output_type": "display_data"
    },
    {
     "data": {
      "text/html": [
       "<div class=\"tfsechead \"><span class=\"ltr\"><a target=\"_blank\" href=\"https://cdli.ucla.edu/search/search_results.php?SearchMode=Text&amp;ObjectID=P479250\" title=\"Show this document on CDLI\" sec=\"P479250 reverse:17\">P479250 reverse:17</a></span></div><div class=\" children\"><div class=\"contnr c3    \" ><div class=\"lbl c3  \" ><span class=\"nd\">line</span></div><div class=\"children hor wrap \"><div class=\"contnr c2    \" ><div class=\"lbl c2  \" ><span class=\"nd\">cluster</span></div><div class=\"children hor wrap \"><div class=\"contnr c1 trm   \" ><div class=\"lbl c1 trm \" ><span class=\"nd\">word</span> <span class=\"txtt\"><span class=\"plain   \" ><span class=\"plain   hl\"  style=\"background-color: cyan;\" ><span class=\"txtt\">[... </span></span></span></span></div></div><div class=\"contnr c1 trm   \" ><div class=\"lbl c1 trm \" ><span class=\"nd\">word</span> <span class=\"txtt\"><span class=\"plain   \" ><span class=\"plain   hl\"  style=\"background-color: magenta;\" ><span class=\"txtt\">SAHAR?] </span></span></span></span></div></div></div></div><div class=\"contnr c1 trm   \" ><div class=\"lbl c1 trm \" ><span class=\"nd\">word</span> <span class=\"txtt\"><span class=\"plain   \" ><span class=\"txtt\">TA# </span></span></span></div></div><div class=\"contnr c2    \" ><div class=\"lbl c2  \" ><span class=\"nd\">cluster</span></div><div class=\"children hor wrap \"><div class=\"contnr c1 trm  rno \" ><div class=\"lbl c1 trm \" ><span class=\"nd\">word</span> <span class=\"txtt\"><span class=\"plain  rno \" ><span class=\"txtt\">{urudu#}</span></span></span></div></div></div></div><div class=\"contnr c1 trm  lno \" ><div class=\"lbl c1 trm \" ><span class=\"nd\">word</span> <span class=\"txtt\"><span class=\"plain  lno \" ><span class=\"txtt\">na#-</span><span class=\"plain   hl\"  style=\"background-color: lightsalmon;\" ><span class=\"txtt\">ah#-</span></span><span class=\"txtt\">bi?# </span></span></span></div></div><div class=\"contnr c2    \" ><div class=\"lbl c2  \" ><span class=\"nd\">cluster</span></div><div class=\"children hor wrap \"><div class=\"contnr c1 trm   \" ><div class=\"lbl c1 trm \" ><span class=\"nd\">word</span> <span class=\"txtt\"><span class=\"plain   \" ><span class=\"txtt\">[ana? </span></span></span></div></div><div class=\"contnr c2    \" ><div class=\"lbl c2  \" ><span class=\"nd\">cluster</span></div><div class=\"children hor wrap \"><div class=\"contnr c1 trm  rno \" ><div class=\"lbl c1 trm \" ><span class=\"nd\">word</span> <span class=\"txtt\"><span class=\"plain  rno \" ><span class=\"txtt\">{urudu]}</span></span></span></div></div></div></div></div></div><div class=\"contnr c1 trm  lno \" ><div class=\"lbl c1 trm \" ><span class=\"nd\">word</span> <span class=\"txtt\"><span class=\"plain  lno \" ><span class=\"txtt\">na#-</span><span class=\"txtt\">ah#-</span><span class=\"txtt\">bi?#\n",
       "</span></span></span></div></div></div></div></div>"
      ],
      "text/plain": [
       "<IPython.core.display.HTML object>"
      ]
     },
     "metadata": {},
     "output_type": "display_data"
    },
    {
     "data": {
      "text/html": [
       "<p><b>result</b> <i>5</i></p>"
      ],
      "text/plain": [
       "<IPython.core.display.HTML object>"
      ]
     },
     "metadata": {},
     "output_type": "display_data"
    },
    {
     "data": {
      "text/html": [
       "<div class=\"tfsechead \"><span class=\"ltr\"><a target=\"_blank\" href=\"https://cdli.ucla.edu/search/search_results.php?SearchMode=Text&amp;ObjectID=P479250\" title=\"Show this document on CDLI\" sec=\"P479250 reverse:17\">P479250 reverse:17</a></span></div><div class=\" children\"><div class=\"contnr c3    \" ><div class=\"lbl c3  \" ><span class=\"nd\">line</span></div><div class=\"children hor wrap \"><div class=\"contnr c2    \" ><div class=\"lbl c2  \" ><span class=\"nd\">cluster</span></div><div class=\"children hor wrap \"><div class=\"contnr c1 trm   \" ><div class=\"lbl c1 trm \" ><span class=\"nd\">word</span> <span class=\"txtt\"><span class=\"plain   \" ><span class=\"plain   hl\"  style=\"background-color: cyan;\" ><span class=\"txtt\">[... </span></span></span></span></div></div><div class=\"contnr c1 trm   \" ><div class=\"lbl c1 trm \" ><span class=\"nd\">word</span> <span class=\"txtt\"><span class=\"plain   \" ><span class=\"plain   hl\"  style=\"background-color: magenta;\" ><span class=\"txtt\">SAHAR?] </span></span></span></span></div></div></div></div><div class=\"contnr c1 trm   \" ><div class=\"lbl c1 trm \" ><span class=\"nd\">word</span> <span class=\"txtt\"><span class=\"plain   \" ><span class=\"txtt\">TA# </span></span></span></div></div><div class=\"contnr c2    \" ><div class=\"lbl c2  \" ><span class=\"nd\">cluster</span></div><div class=\"children hor wrap \"><div class=\"contnr c1 trm  rno \" ><div class=\"lbl c1 trm \" ><span class=\"nd\">word</span> <span class=\"txtt\"><span class=\"plain  rno \" ><span class=\"txtt\">{urudu#}</span></span></span></div></div></div></div><div class=\"contnr c1 trm  lno \" ><div class=\"lbl c1 trm \" ><span class=\"nd\">word</span> <span class=\"txtt\"><span class=\"plain  lno \" ><span class=\"txtt\">na#-</span><span class=\"txtt\">ah#-</span><span class=\"plain   hl\"  style=\"background-color: lightsalmon;\" ><span class=\"txtt\">bi?# </span></span></span></span></div></div><div class=\"contnr c2    \" ><div class=\"lbl c2  \" ><span class=\"nd\">cluster</span></div><div class=\"children hor wrap \"><div class=\"contnr c1 trm   \" ><div class=\"lbl c1 trm \" ><span class=\"nd\">word</span> <span class=\"txtt\"><span class=\"plain   \" ><span class=\"txtt\">[ana? </span></span></span></div></div><div class=\"contnr c2    \" ><div class=\"lbl c2  \" ><span class=\"nd\">cluster</span></div><div class=\"children hor wrap \"><div class=\"contnr c1 trm  rno \" ><div class=\"lbl c1 trm \" ><span class=\"nd\">word</span> <span class=\"txtt\"><span class=\"plain  rno \" ><span class=\"txtt\">{urudu]}</span></span></span></div></div></div></div></div></div><div class=\"contnr c1 trm  lno \" ><div class=\"lbl c1 trm \" ><span class=\"nd\">word</span> <span class=\"txtt\"><span class=\"plain  lno \" ><span class=\"txtt\">na#-</span><span class=\"txtt\">ah#-</span><span class=\"txtt\">bi?#\n",
       "</span></span></span></div></div></div></div></div>"
      ],
      "text/plain": [
       "<IPython.core.display.HTML object>"
      ]
     },
     "metadata": {},
     "output_type": "display_data"
    }
   ],
   "source": [
    "A.show(results, end=5, colorMap={0: \"\", 2: \"cyan\", 3: \"magenta\", 4: \"lightsalmon\"})"
   ]
  },
  {
   "cell_type": "markdown",
   "metadata": {},
   "source": [
    "Color mapping works best for uncondensed results. If you condense results, some nodes may occupy\n",
    "different positions in different results. It is unpredictable which color will be used\n",
    "for such nodes:"
   ]
  },
  {
   "cell_type": "code",
   "execution_count": 17,
   "metadata": {
    "ExecuteTime": {
     "end_time": "2018-05-24T07:47:25.094797Z",
     "start_time": "2018-05-24T07:47:25.048277Z"
    }
   },
   "outputs": [
    {
     "data": {
      "text/html": [
       "<p><b>line</b> <i>1</i></p>"
      ],
      "text/plain": [
       "<IPython.core.display.HTML object>"
      ]
     },
     "metadata": {},
     "output_type": "display_data"
    },
    {
     "data": {
      "text/html": [
       "<div class=\"tfsechead \"><span class=\"ltr\"><a target=\"_blank\" href=\"https://cdli.ucla.edu/search/search_results.php?SearchMode=Text&amp;ObjectID=P479250\" title=\"Show this document on CDLI\" sec=\"P479250 reverse:17\">P479250 reverse:17</a></span></div><div class=\" children\"><div class=\"contnr c3    \" ><div class=\"lbl c3  \" ><span class=\"nd\">line</span></div><div class=\"children hor wrap \"><div class=\"contnr c2    \" ><div class=\"lbl c2  \" ><span class=\"nd\">cluster</span></div><div class=\"children hor wrap \"><div class=\"contnr c1 trm   \" ><div class=\"lbl c1 trm \" ><span class=\"nd\">word</span> <span class=\"txtt\"><span class=\"plain   \" ><span class=\"plain   hl\"  style=\"background-color: cyan;\" ><span class=\"txtt\">[... </span></span></span></span></div></div><div class=\"contnr c1 trm   \" ><div class=\"lbl c1 trm \" ><span class=\"nd\">word</span> <span class=\"txtt\"><span class=\"plain   \" ><span class=\"plain   hl\"  style=\"background-color: magenta;\" ><span class=\"txtt\">SAHAR?] </span></span></span></span></div></div></div></div><div class=\"contnr c1 trm   \" ><div class=\"lbl c1 trm \" ><span class=\"nd\">word</span> <span class=\"txtt\"><span class=\"plain   \" ><span class=\"plain   hl\"  style=\"background-color: lightsalmon;\" ><span class=\"txtt\">TA# </span></span></span></span></div></div><div class=\"contnr c2    \" ><div class=\"lbl c2  \" ><span class=\"nd\">cluster</span></div><div class=\"children hor wrap \"><div class=\"contnr c1 trm  rno \" ><div class=\"lbl c1 trm \" ><span class=\"nd\">word</span> <span class=\"txtt\"><span class=\"plain  rno \" ><span class=\"plain   hl\" ><span class=\"txtt\">{urudu#}</span></span></span></span></div></div></div></div><div class=\"contnr c1 trm  lno \" ><div class=\"lbl c1 trm \" ><span class=\"nd\">word</span> <span class=\"txtt\"><span class=\"plain  lno \" ><span class=\"plain   hl\" ><span class=\"txtt\">na#-</span></span><span class=\"plain   hl\" ><span class=\"txtt\">ah#-</span></span><span class=\"plain   hl\" ><span class=\"txtt\">bi?# </span></span></span></span></div></div><div class=\"contnr c2    \" ><div class=\"lbl c2  \" ><span class=\"nd\">cluster</span></div><div class=\"children hor wrap \"><div class=\"contnr c1 trm   \" ><div class=\"lbl c1 trm \" ><span class=\"nd\">word</span> <span class=\"txtt\"><span class=\"plain   \" ><span class=\"plain   hl\" ><span class=\"txtt\">[ana? </span></span></span></span></div></div><div class=\"contnr c2    \" ><div class=\"lbl c2  \" ><span class=\"nd\">cluster</span></div><div class=\"children hor wrap \"><div class=\"contnr c1 trm  rno \" ><div class=\"lbl c1 trm \" ><span class=\"nd\">word</span> <span class=\"txtt\"><span class=\"plain  rno \" ><span class=\"txtt\">{urudu]}</span></span></span></div></div></div></div></div></div><div class=\"contnr c1 trm  lno \" ><div class=\"lbl c1 trm \" ><span class=\"nd\">word</span> <span class=\"txtt\"><span class=\"plain  lno \" ><span class=\"plain   hl\" ><span class=\"txtt\">na#-</span></span><span class=\"plain   hl\" ><span class=\"txtt\">ah#-</span></span><span class=\"plain   hl\" ><span class=\"txtt\">bi?#\n",
       "</span></span></span></span></div></div></div></div></div>"
      ],
      "text/plain": [
       "<IPython.core.display.HTML object>"
      ]
     },
     "metadata": {},
     "output_type": "display_data"
    },
    {
     "data": {
      "text/html": [
       "<p><b>line</b> <i>2</i></p>"
      ],
      "text/plain": [
       "<IPython.core.display.HTML object>"
      ]
     },
     "metadata": {},
     "output_type": "display_data"
    },
    {
     "data": {
      "text/html": [
       "<div class=\"tfsechead \"><span class=\"ltr\"><a target=\"_blank\" href=\"https://cdli.ucla.edu/search/search_results.php?SearchMode=Text&amp;ObjectID=P285109\" title=\"Show this document on CDLI\" sec=\"P285109 obverse:1:11'\">P285109 obverse:1:11'</a></span></div><div class=\" children\"><div class=\"contnr c3    \" ><div class=\"lbl c3  \" ><span class=\"nd\">line</span></div><div class=\"children hor wrap \"><div class=\"contnr c2    \" ><div class=\"lbl c2  \" ><span class=\"nd\">cluster</span></div><div class=\"children hor wrap \"><div class=\"contnr c1 trm   \" ><div class=\"lbl c1 trm \" ><span class=\"nd\">word</span> <span class=\"txtt\"><span class=\"plain   \" ><span class=\"plain   hl\"  style=\"background-color: cyan;\" ><span class=\"txtt\">[x </span></span></span></span></div></div><div class=\"contnr c1 trm   \" ><div class=\"lbl c1 trm \" ><span class=\"nd\">word</span> <span class=\"txtt\"><span class=\"plain   \" ><span class=\"plain   hl\"  style=\"background-color: magenta;\" ><span class=\"txtt\">x </span></span></span></span></div></div><div class=\"contnr c1 trm   \" ><div class=\"lbl c1 trm \" ><span class=\"nd\">word</span> <span class=\"txtt\"><span class=\"plain   \" ><span class=\"plain   hl\"  style=\"background-color: lightsalmon;\" ><span class=\"txtt\">x </span></span></span></span></div></div><div class=\"contnr c1 trm   \" ><div class=\"lbl c1 trm \" ><span class=\"nd\">word</span> <span class=\"txtt\"><span class=\"plain   \" ><span class=\"plain   hl\" ><span class=\"txtt\">x </span></span></span></span></div></div><div class=\"contnr c1 trm   \" ><div class=\"lbl c1 trm \" ><span class=\"nd\">word</span> <span class=\"txtt\"><span class=\"plain   \" ><span class=\"plain   hl\" ><span class=\"txtt\">x </span></span></span></span></div></div><div class=\"contnr c1 trm   \" ><div class=\"lbl c1 trm \" ><span class=\"nd\">word</span> <span class=\"txtt\"><span class=\"plain   \" ><span class=\"plain   hl\" ><span class=\"txtt\">x] </span></span></span></span></div></div></div></div><div class=\"contnr c1 trm   \" ><div class=\"lbl c1 trm \" ><span class=\"nd\">word</span> <span class=\"txtt\"><span class=\"plain   \" ><span class=\"plain   hl\" ><span class=\"txtt\">ZA?#.</span></span><span class=\"plain   hl\" ><span class=\"txtt\">BA?#.</span></span><span class=\"plain   hl\" ><span class=\"txtt\">LAM?# </span></span></span></span></div></div><div class=\"contnr c1 trm   \" ><div class=\"lbl c1 trm \" ><span class=\"nd\">word</span> <span class=\"txtt\"><span class=\"plain   \" ><span class=\"txtt\">1/</span><span class=\"txtt\">3 </span></span></span></div></div><div class=\"contnr c1 trm   \" ><div class=\"lbl c1 trm \" ><span class=\"nd\">word</span> <span class=\"txtt\"><span class=\"plain   \" ><span class=\"txtt\">SILA₃ </span></span></span></div></div><div class=\"contnr c2    \" ><div class=\"lbl c2  \" ><span class=\"nd\">cluster</span></div><div class=\"children hor wrap \"><div class=\"contnr c1 trm  rno \" ><div class=\"lbl c1 trm \" ><span class=\"nd\">word</span> <span class=\"txtt\"><span class=\"plain  rno \" ><span class=\"txtt\">{u₂}</span></span></span></div></div></div></div><div class=\"contnr c2    \" ><div class=\"lbl c2  \" ><span class=\"nd\">cluster</span></div><div class=\"children hor wrap \"><div class=\"contnr c1 trm  lno \" ><div class=\"lbl c1 trm \" ><span class=\"nd\">word</span> <span class=\"txtt\"><span class=\"plain  lno \" ><span class=\"plain   hl\" ><span class=\"txtt\">[x </span></span></span></span></div></div><div class=\"contnr c1 trm   \" ><div class=\"lbl c1 trm \" ><span class=\"nd\">word</span> <span class=\"txtt\"><span class=\"plain   \" ><span class=\"plain   hl\" ><span class=\"txtt\">x </span></span></span></span></div></div><div class=\"contnr c1 trm   \" ><div class=\"lbl c1 trm \" ><span class=\"nd\">word</span> <span class=\"txtt\"><span class=\"plain   \" ><span class=\"plain   hl\" ><span class=\"txtt\">x]\n",
       "</span></span></span></span></div></div></div></div></div></div></div>"
      ],
      "text/plain": [
       "<IPython.core.display.HTML object>"
      ]
     },
     "metadata": {},
     "output_type": "display_data"
    },
    {
     "data": {
      "text/html": [
       "<p><b>line</b> <i>3</i></p>"
      ],
      "text/plain": [
       "<IPython.core.display.HTML object>"
      ]
     },
     "metadata": {},
     "output_type": "display_data"
    },
    {
     "data": {
      "text/html": [
       "<div class=\"tfsechead \"><span class=\"ltr\"><a target=\"_blank\" href=\"https://cdli.ucla.edu/search/search_results.php?SearchMode=Text&amp;ObjectID=P399223\" title=\"Show this document on CDLI\" sec=\"P399223 obverse:1:10\">P399223 obverse:1:10</a></span></div><div class=\" children\"><div class=\"contnr c3    \" ><div class=\"lbl c3  \" ><span class=\"nd\">line</span></div><div class=\"children hor wrap \"><div class=\"contnr c2    \" ><div class=\"lbl c2  \" ><span class=\"nd\">cluster</span></div><div class=\"children hor wrap \"><div class=\"contnr c1 trm   \" ><div class=\"lbl c1 trm \" ><span class=\"nd\">word</span> <span class=\"txtt\"><span class=\"plain   \" ><span class=\"plain   hl\"  style=\"background-color: cyan;\" ><span class=\"txtt\">[x </span></span></span></span></div></div><div class=\"contnr c1 trm   \" ><div class=\"lbl c1 trm \" ><span class=\"nd\">word</span> <span class=\"txtt\"><span class=\"plain   \" ><span class=\"plain   hl\"  style=\"background-color: magenta;\" ><span class=\"txtt\">x </span></span></span></span></div></div><div class=\"contnr c1 trm   \" ><div class=\"lbl c1 trm \" ><span class=\"nd\">word</span> <span class=\"txtt\"><span class=\"plain   \" ><span class=\"plain   hl\"  style=\"background-color: lightsalmon;\" ><span class=\"txtt\">x </span></span></span></span></div></div><div class=\"contnr c1 trm   \" ><div class=\"lbl c1 trm \" ><span class=\"nd\">word</span> <span class=\"txtt\"><span class=\"plain   \" ><span class=\"plain   hl\" ><span class=\"txtt\">x </span></span></span></span></div></div><div class=\"contnr c1 trm   \" ><div class=\"lbl c1 trm \" ><span class=\"nd\">word</span> <span class=\"txtt\"><span class=\"plain   \" ><span class=\"plain   hl\" ><span class=\"txtt\">x </span></span></span></span></div></div><div class=\"contnr c1 trm   \" ><div class=\"lbl c1 trm \" ><span class=\"nd\">word</span> <span class=\"txtt\"><span class=\"plain   \" ><span class=\"plain   hl\" ><span class=\"txtt\">x </span></span></span></span></div></div><div class=\"contnr c1 trm   \" ><div class=\"lbl c1 trm \" ><span class=\"nd\">word</span> <span class=\"txtt\"><span class=\"plain   \" ><span class=\"plain   hl\" ><span class=\"txtt\">x </span></span></span></span></div></div><div class=\"contnr c1 trm   \" ><div class=\"lbl c1 trm \" ><span class=\"nd\">word</span> <span class=\"txtt\"><span class=\"plain   \" ><span class=\"plain   hl\" ><span class=\"txtt\">x </span></span></span></span></div></div><div class=\"contnr c1 trm   \" ><div class=\"lbl c1 trm \" ><span class=\"nd\">word</span> <span class=\"txtt\"><span class=\"plain   \" ><span class=\"plain   hl\" ><span class=\"txtt\">x] </span></span></span></span></div></div></div></div><div class=\"contnr c1 trm   \" ><div class=\"lbl c1 trm \" ><span class=\"nd\">word</span> <span class=\"txtt\"><span class=\"plain   \" ><span class=\"plain   hl\" ><span class=\"txtt\">i#-</span></span><span class=\"plain   hl\" ><span class=\"txtt\">na!?#-</span></span><span class=\"txtt\">qu₂ </span></span></span></div></div><div class=\"contnr c1 trm   \" ><div class=\"lbl c1 trm \" ><span class=\"nd\">word</span> <span class=\"txtt\"><span class=\"plain   \" ><span class=\"txtt\">tu-</span><span class=\"txtt\">ṣar-</span><span class=\"txtt\">raš!(BI)-</span><span class=\"txtt\">ma </span></span></span></div></div><div class=\"contnr c2    \" ><div class=\"lbl c2  \" ><span class=\"nd\">cluster</span></div><div class=\"children hor wrap \"><div class=\"contnr c1 trm   \" ><div class=\"lbl c1 trm \" ><span class=\"nd\">word</span> <span class=\"txtt\"><span class=\"plain   \" ><span class=\"plain   hl\" ><span class=\"txtt\">[TI]\n",
       "</span></span></span></span></div></div></div></div></div></div></div>"
      ],
      "text/plain": [
       "<IPython.core.display.HTML object>"
      ]
     },
     "metadata": {},
     "output_type": "display_data"
    },
    {
     "data": {
      "text/html": [
       "<p><b>line</b> <i>4</i></p>"
      ],
      "text/plain": [
       "<IPython.core.display.HTML object>"
      ]
     },
     "metadata": {},
     "output_type": "display_data"
    },
    {
     "data": {
      "text/html": [
       "<div class=\"tfsechead \"><span class=\"ltr\"><a target=\"_blank\" href=\"https://cdli.ucla.edu/search/search_results.php?SearchMode=Text&amp;ObjectID=P399223\" title=\"Show this document on CDLI\" sec=\"P399223 obverse:2:1\">P399223 obverse:2:1</a></span></div><div class=\" children\"><div class=\"contnr c3    \" ><div class=\"lbl c3  \" ><span class=\"nd\">line</span></div><div class=\"children hor wrap \"><div class=\"contnr c1 trm   \" ><div class=\"lbl c1 trm \" ><span class=\"nd\">word</span> <span class=\"txtt\"><span class=\"plain   \" ><span class=\"txtt\">DIŠ </span></span></span></div></div><div class=\"contnr c1 trm   \" ><div class=\"lbl c1 trm \" ><span class=\"nd\">word</span> <span class=\"txtt\"><span class=\"plain   \" ><span class=\"txtt\">NA </span></span></span></div></div><div class=\"contnr c1 trm   \" ><div class=\"lbl c1 trm \" ><span class=\"nd\">word</span> <span class=\"txtt\"><span class=\"plain   \" ><span class=\"txtt\">NINDA </span></span></span></div></div><div class=\"contnr c1 trm   \" ><div class=\"lbl c1 trm \" ><span class=\"nd\">word</span> <span class=\"txtt\"><span class=\"plain   \" ><span class=\"txtt\">GU₇ </span></span></span></div></div><div class=\"contnr c1 trm   \" ><div class=\"lbl c1 trm \" ><span class=\"nd\">word</span> <span class=\"txtt\"><span class=\"plain   \" ><span class=\"txtt\">KAŠ </span></span></span></div></div><div class=\"contnr c1 trm   \" ><div class=\"lbl c1 trm \" ><span class=\"nd\">word</span> <span class=\"txtt\"><span class=\"plain   \" ><span class=\"txtt\">NAG-</span><span class=\"txtt\">ma </span></span></span></div></div><div class=\"contnr c1 trm  rno \" ><div class=\"lbl c1 trm \" ><span class=\"nd\">word</span> <span class=\"txtt\"><span class=\"plain  rno \" ><span class=\"txtt\">ŠA₃-</span></span></span></div></div><div class=\"contnr c2    \" ><div class=\"lbl c2  \" ><span class=\"nd\">cluster</span></div><div class=\"children hor wrap \"><div class=\"contnr c1 trm  lno rno \" ><div class=\"lbl c1 trm \" ><span class=\"nd\">word</span> <span class=\"txtt\"><span class=\"plain  lno rno \" ><span class=\"plain   hl\"  style=\"background-color: cyan;\" ><span class=\"txtt\">&lt;MEŠ?>-</span></span></span></span></div></div></div></div><div class=\"contnr c1 trm  lno \" ><div class=\"lbl c1 trm \" ><span class=\"nd\">word</span> <span class=\"txtt\"><span class=\"plain  lno \" ><span class=\"txtt\">šu₂ </span></span></span></div></div><div class=\"contnr c1 trm   \" ><div class=\"lbl c1 trm \" ><span class=\"nd\">word</span> <span class=\"txtt\"><span class=\"plain   \" ><span class=\"txtt\">in-</span><span class=\"txtt\">nem-</span><span class=\"txtt\">me-</span><span class=\"txtt\">ru </span></span></span></div></div><div class=\"contnr c1 trm  rno \" ><div class=\"lbl c1 trm \" ><span class=\"nd\">word</span> <span class=\"txtt\"><span class=\"plain  rno \" ><span class=\"txtt\">in-</span><span class=\"plain   hl\"  style=\"background-color: magenta;\" ><span class=\"txtt\">ne₂?#-</span></span></span></span></div></div><div class=\"contnr c2    \" ><div class=\"lbl c2  \" ><span class=\"nd\">cluster</span></div><div class=\"children hor wrap \"><div class=\"contnr c1 trm  lno \" ><div class=\"lbl c1 trm \" ><span class=\"nd\">word</span> <span class=\"txtt\"><span class=\"plain  lno \" ><span class=\"plain   hl\"  style=\"background-color: lightsalmon;\" ><span class=\"txtt\">[bi-</span></span><span class=\"plain   hl\" ><span class=\"txtt\">ṭu₂ </span></span></span></span></div></div><div class=\"contnr c1 trm   \" ><div class=\"lbl c1 trm \" ><span class=\"nd\">word</span> <span class=\"txtt\"><span class=\"plain   \" ><span class=\"plain   hl\" ><span class=\"txtt\">x </span></span></span></span></div></div><div class=\"contnr c1 trm   \" ><div class=\"lbl c1 trm \" ><span class=\"nd\">word</span> <span class=\"txtt\"><span class=\"plain   \" ><span class=\"plain   hl\" ><span class=\"txtt\">x </span></span></span></span></div></div><div class=\"contnr c1 trm   \" ><div class=\"lbl c1 trm \" ><span class=\"nd\">word</span> <span class=\"txtt\"><span class=\"plain   \" ><span class=\"plain   hl\" ><span class=\"txtt\">x </span></span></span></span></div></div><div class=\"contnr c1 trm   \" ><div class=\"lbl c1 trm \" ><span class=\"nd\">word</span> <span class=\"txtt\"><span class=\"plain   \" ><span class=\"plain   hl\" ><span class=\"txtt\">x </span></span></span></span></div></div><div class=\"contnr c1 trm   \" ><div class=\"lbl c1 trm \" ><span class=\"nd\">word</span> <span class=\"txtt\"><span class=\"plain   \" ><span class=\"plain   hl\" ><span class=\"txtt\">x </span></span></span></span></div></div><div class=\"contnr c1 trm   \" ><div class=\"lbl c1 trm \" ><span class=\"nd\">word</span> <span class=\"txtt\"><span class=\"plain   \" ><span class=\"plain   hl\" ><span class=\"txtt\">x]\n",
       "</span></span></span></span></div></div></div></div></div></div></div>"
      ],
      "text/plain": [
       "<IPython.core.display.HTML object>"
      ]
     },
     "metadata": {},
     "output_type": "display_data"
    },
    {
     "data": {
      "text/html": [
       "<p><b>line</b> <i>5</i></p>"
      ],
      "text/plain": [
       "<IPython.core.display.HTML object>"
      ]
     },
     "metadata": {},
     "output_type": "display_data"
    },
    {
     "data": {
      "text/html": [
       "<div class=\"tfsechead \"><span class=\"ltr\"><a target=\"_blank\" href=\"https://cdli.ucla.edu/search/search_results.php?SearchMode=Text&amp;ObjectID=P401255\" title=\"Show this document on CDLI\" sec=\"P401255 obverse:3'\">P401255 obverse:3'</a></span></div><div class=\" children\"><div class=\"contnr c3    \" ><div class=\"lbl c3  \" ><span class=\"nd\">line</span></div><div class=\"children hor wrap \"><div class=\"contnr c2    \" ><div class=\"lbl c2  \" ><span class=\"nd\">cluster</span></div><div class=\"children hor wrap \"><div class=\"contnr c1 trm   \" ><div class=\"lbl c1 trm \" ><span class=\"nd\">word</span> <span class=\"txtt\"><span class=\"plain   \" ><span class=\"plain   hl\"  style=\"background-color: cyan;\" ><span class=\"txtt\">[... </span></span></span></span></div></div><div class=\"contnr c1 trm   \" ><div class=\"lbl c1 trm \" ><span class=\"nd\">word</span> <span class=\"txtt\"><span class=\"plain   \" ><span class=\"plain   hl\"  style=\"background-color: magenta;\" ><span class=\"txtt\">NA </span></span></span></span></div></div><div class=\"contnr c1 trm   \" ><div class=\"lbl c1 trm \" ><span class=\"nd\">word</span> <span class=\"txtt\"><span class=\"plain   \" ><span class=\"plain   hl\"  style=\"background-color: lightsalmon;\" ><span class=\"txtt\">BI </span></span></span></span></div></div><div class=\"contnr c1 trm   \" ><div class=\"lbl c1 trm \" ><span class=\"nd\">word</span> <span class=\"txtt\"><span class=\"plain   \" ><span class=\"plain   hl\" ><span class=\"txtt\">aš-</span></span><span class=\"plain   hl\" ><span class=\"txtt\">rat </span></span></span></span></div></div><div class=\"contnr c2    \" ><div class=\"lbl c2  \" ><span class=\"nd\">cluster</span></div><div class=\"children hor wrap \"><div class=\"contnr c1 trm  rno \" ><div class=\"lbl c1 trm \" ><span class=\"nd\">word</span> <span class=\"txtt\"><span class=\"plain  rno \" ><span class=\"plain   hl\" ><span class=\"txtt\">{d}</span></span></span></span></div></div></div></div><div class=\"contnr c1 trm  lno rno \" ><div class=\"lbl c1 trm \" ><span class=\"nd\">word</span> <span class=\"txtt\"><span class=\"plain  lno rno \" ><span class=\"txtt\">nin]-</span></span></span></div></div></div></div><div class=\"contnr c1 trm  lno \" ><div class=\"lbl c1 trm \" ><span class=\"nd\">word</span> <span class=\"txtt\"><span class=\"plain  lno \" ><span class=\"txtt\">urta </span></span></span></div></div><div class=\"contnr c1 trm   \" ><div class=\"lbl c1 trm \" ><span class=\"nd\">word</span> <span class=\"txtt\"><span class=\"plain   \" ><span class=\"txtt\">KIN-</span><span class=\"txtt\">ma </span></span></span></div></div><div class=\"contnr c1 trm   \" ><div class=\"lbl c1 trm \" ><span class=\"nd\">word</span> <span class=\"txtt\"><span class=\"plain   \" ><span class=\"txtt\">DUG₄.</span><span class=\"plain   hl\" ><span class=\"txtt\">GA?# </span></span></span></span></div></div><div class=\"contnr c1 trm   \" ><div class=\"lbl c1 trm \" ><span class=\"nd\">word</span> <span class=\"txtt\"><span class=\"plain   \" ><span class=\"txtt\">x </span></span></span></div></div><div class=\"contnr c1 trm   \" ><div class=\"lbl c1 trm \" ><span class=\"nd\">word</span> <span class=\"txtt\"><span class=\"plain   \" ><span class=\"txtt\">x-</span><span class=\"txtt\">šu₂\n",
       "</span></span></span></div></div></div></div></div>"
      ],
      "text/plain": [
       "<IPython.core.display.HTML object>"
      ]
     },
     "metadata": {},
     "output_type": "display_data"
    }
   ],
   "source": [
    "A.show(\n",
    "    results,\n",
    "    condensed=True,\n",
    "    end=5,\n",
    "    colorMap={0: \"\", 2: \"cyan\", 3: \"magenta\", 4: \"lightsalmon\"},\n",
    ")"
   ]
  },
  {
   "cell_type": "markdown",
   "metadata": {},
   "source": [
    "You can specify to what container you want to condense. By default, everything is condensed to lines.\n",
    "\n",
    "Let's change that to faces.\n",
    "Note that the `end` parameter counts the number of faces now."
   ]
  },
  {
   "cell_type": "code",
   "execution_count": 18,
   "metadata": {},
   "outputs": [
    {
     "data": {
      "text/html": [
       "<p><b>line</b> <i>4</i></p>"
      ],
      "text/plain": [
       "<IPython.core.display.HTML object>"
      ]
     },
     "metadata": {},
     "output_type": "display_data"
    },
    {
     "data": {
      "text/html": [
       "<div class=\"tfsechead \"><span class=\"ltr\"><a target=\"_blank\" href=\"https://cdli.ucla.edu/search/search_results.php?SearchMode=Text&amp;ObjectID=P399223\" title=\"Show this document on CDLI\" sec=\"P399223 obverse:2:1\">P399223 obverse:2:1</a></span></div><div class=\" children\"><div class=\"contnr c3    \" ><div class=\"lbl c3  \" ><span class=\"nd\">line</span></div><div class=\"children hor wrap \"><div class=\"contnr c1 trm   \" ><div class=\"lbl c1 trm \" ><span class=\"nd\">word</span> <span class=\"txtt\"><span class=\"plain   \" ><span class=\"txtt\">DIŠ </span></span></span></div></div><div class=\"contnr c1 trm   \" ><div class=\"lbl c1 trm \" ><span class=\"nd\">word</span> <span class=\"txtt\"><span class=\"plain   \" ><span class=\"txtt\">NA </span></span></span></div></div><div class=\"contnr c1 trm   \" ><div class=\"lbl c1 trm \" ><span class=\"nd\">word</span> <span class=\"txtt\"><span class=\"plain   \" ><span class=\"txtt\">NINDA </span></span></span></div></div><div class=\"contnr c1 trm   \" ><div class=\"lbl c1 trm \" ><span class=\"nd\">word</span> <span class=\"txtt\"><span class=\"plain   \" ><span class=\"txtt\">GU₇ </span></span></span></div></div><div class=\"contnr c1 trm   \" ><div class=\"lbl c1 trm \" ><span class=\"nd\">word</span> <span class=\"txtt\"><span class=\"plain   \" ><span class=\"txtt\">KAŠ </span></span></span></div></div><div class=\"contnr c1 trm   \" ><div class=\"lbl c1 trm \" ><span class=\"nd\">word</span> <span class=\"txtt\"><span class=\"plain   \" ><span class=\"txtt\">NAG-</span><span class=\"txtt\">ma </span></span></span></div></div><div class=\"contnr c1 trm  rno \" ><div class=\"lbl c1 trm \" ><span class=\"nd\">word</span> <span class=\"txtt\"><span class=\"plain  rno \" ><span class=\"txtt\">ŠA₃-</span></span></span></div></div><div class=\"contnr c2    \" ><div class=\"lbl c2  \" ><span class=\"nd\">cluster</span></div><div class=\"children hor wrap \"><div class=\"contnr c1 trm  lno rno \" ><div class=\"lbl c1 trm \" ><span class=\"nd\">word</span> <span class=\"txtt\"><span class=\"plain  lno rno \" ><span class=\"plain   hl\"  style=\"background-color: cyan;\" ><span class=\"txtt\">&lt;MEŠ?>-</span></span></span></span></div></div></div></div><div class=\"contnr c1 trm  lno \" ><div class=\"lbl c1 trm \" ><span class=\"nd\">word</span> <span class=\"txtt\"><span class=\"plain  lno \" ><span class=\"txtt\">šu₂ </span></span></span></div></div><div class=\"contnr c1 trm   \" ><div class=\"lbl c1 trm \" ><span class=\"nd\">word</span> <span class=\"txtt\"><span class=\"plain   \" ><span class=\"txtt\">in-</span><span class=\"txtt\">nem-</span><span class=\"txtt\">me-</span><span class=\"txtt\">ru </span></span></span></div></div><div class=\"contnr c1 trm  rno \" ><div class=\"lbl c1 trm \" ><span class=\"nd\">word</span> <span class=\"txtt\"><span class=\"plain  rno \" ><span class=\"txtt\">in-</span><span class=\"plain   hl\"  style=\"background-color: magenta;\" ><span class=\"txtt\">ne₂?#-</span></span></span></span></div></div><div class=\"contnr c2    \" ><div class=\"lbl c2  \" ><span class=\"nd\">cluster</span></div><div class=\"children hor wrap \"><div class=\"contnr c1 trm  lno \" ><div class=\"lbl c1 trm \" ><span class=\"nd\">word</span> <span class=\"txtt\"><span class=\"plain  lno \" ><span class=\"plain   hl\"  style=\"background-color: lightsalmon;\" ><span class=\"txtt\">[bi-</span></span><span class=\"plain   hl\" ><span class=\"txtt\">ṭu₂ </span></span></span></span></div></div><div class=\"contnr c1 trm   \" ><div class=\"lbl c1 trm \" ><span class=\"nd\">word</span> <span class=\"txtt\"><span class=\"plain   \" ><span class=\"plain   hl\" ><span class=\"txtt\">x </span></span></span></span></div></div><div class=\"contnr c1 trm   \" ><div class=\"lbl c1 trm \" ><span class=\"nd\">word</span> <span class=\"txtt\"><span class=\"plain   \" ><span class=\"plain   hl\" ><span class=\"txtt\">x </span></span></span></span></div></div><div class=\"contnr c1 trm   \" ><div class=\"lbl c1 trm \" ><span class=\"nd\">word</span> <span class=\"txtt\"><span class=\"plain   \" ><span class=\"plain   hl\" ><span class=\"txtt\">x </span></span></span></span></div></div><div class=\"contnr c1 trm   \" ><div class=\"lbl c1 trm \" ><span class=\"nd\">word</span> <span class=\"txtt\"><span class=\"plain   \" ><span class=\"plain   hl\" ><span class=\"txtt\">x </span></span></span></span></div></div><div class=\"contnr c1 trm   \" ><div class=\"lbl c1 trm \" ><span class=\"nd\">word</span> <span class=\"txtt\"><span class=\"plain   \" ><span class=\"plain   hl\" ><span class=\"txtt\">x </span></span></span></span></div></div><div class=\"contnr c1 trm   \" ><div class=\"lbl c1 trm \" ><span class=\"nd\">word</span> <span class=\"txtt\"><span class=\"plain   \" ><span class=\"plain   hl\" ><span class=\"txtt\">x]\n",
       "</span></span></span></span></div></div></div></div></div></div></div>"
      ],
      "text/plain": [
       "<IPython.core.display.HTML object>"
      ]
     },
     "metadata": {},
     "output_type": "display_data"
    },
    {
     "data": {
      "text/html": [
       "<p><b>line</b> <i>5</i></p>"
      ],
      "text/plain": [
       "<IPython.core.display.HTML object>"
      ]
     },
     "metadata": {},
     "output_type": "display_data"
    },
    {
     "data": {
      "text/html": [
       "<div class=\"tfsechead \"><span class=\"ltr\"><a target=\"_blank\" href=\"https://cdli.ucla.edu/search/search_results.php?SearchMode=Text&amp;ObjectID=P401255\" title=\"Show this document on CDLI\" sec=\"P401255 obverse:3'\">P401255 obverse:3'</a></span></div><div class=\" children\"><div class=\"contnr c3    \" ><div class=\"lbl c3  \" ><span class=\"nd\">line</span></div><div class=\"children hor wrap \"><div class=\"contnr c2    \" ><div class=\"lbl c2  \" ><span class=\"nd\">cluster</span></div><div class=\"children hor wrap \"><div class=\"contnr c1 trm   \" ><div class=\"lbl c1 trm \" ><span class=\"nd\">word</span> <span class=\"txtt\"><span class=\"plain   \" ><span class=\"plain   hl\"  style=\"background-color: cyan;\" ><span class=\"txtt\">[... </span></span></span></span></div></div><div class=\"contnr c1 trm   \" ><div class=\"lbl c1 trm \" ><span class=\"nd\">word</span> <span class=\"txtt\"><span class=\"plain   \" ><span class=\"plain   hl\"  style=\"background-color: magenta;\" ><span class=\"txtt\">NA </span></span></span></span></div></div><div class=\"contnr c1 trm   \" ><div class=\"lbl c1 trm \" ><span class=\"nd\">word</span> <span class=\"txtt\"><span class=\"plain   \" ><span class=\"plain   hl\"  style=\"background-color: lightsalmon;\" ><span class=\"txtt\">BI </span></span></span></span></div></div><div class=\"contnr c1 trm   \" ><div class=\"lbl c1 trm \" ><span class=\"nd\">word</span> <span class=\"txtt\"><span class=\"plain   \" ><span class=\"plain   hl\" ><span class=\"txtt\">aš-</span></span><span class=\"plain   hl\" ><span class=\"txtt\">rat </span></span></span></span></div></div><div class=\"contnr c2    \" ><div class=\"lbl c2  \" ><span class=\"nd\">cluster</span></div><div class=\"children hor wrap \"><div class=\"contnr c1 trm  rno \" ><div class=\"lbl c1 trm \" ><span class=\"nd\">word</span> <span class=\"txtt\"><span class=\"plain  rno \" ><span class=\"plain   hl\" ><span class=\"txtt\">{d}</span></span></span></span></div></div></div></div><div class=\"contnr c1 trm  lno rno \" ><div class=\"lbl c1 trm \" ><span class=\"nd\">word</span> <span class=\"txtt\"><span class=\"plain  lno rno \" ><span class=\"txtt\">nin]-</span></span></span></div></div></div></div><div class=\"contnr c1 trm  lno \" ><div class=\"lbl c1 trm \" ><span class=\"nd\">word</span> <span class=\"txtt\"><span class=\"plain  lno \" ><span class=\"txtt\">urta </span></span></span></div></div><div class=\"contnr c1 trm   \" ><div class=\"lbl c1 trm \" ><span class=\"nd\">word</span> <span class=\"txtt\"><span class=\"plain   \" ><span class=\"txtt\">KIN-</span><span class=\"txtt\">ma </span></span></span></div></div><div class=\"contnr c1 trm   \" ><div class=\"lbl c1 trm \" ><span class=\"nd\">word</span> <span class=\"txtt\"><span class=\"plain   \" ><span class=\"txtt\">DUG₄.</span><span class=\"plain   hl\" ><span class=\"txtt\">GA?# </span></span></span></span></div></div><div class=\"contnr c1 trm   \" ><div class=\"lbl c1 trm \" ><span class=\"nd\">word</span> <span class=\"txtt\"><span class=\"plain   \" ><span class=\"txtt\">x </span></span></span></div></div><div class=\"contnr c1 trm   \" ><div class=\"lbl c1 trm \" ><span class=\"nd\">word</span> <span class=\"txtt\"><span class=\"plain   \" ><span class=\"txtt\">x-</span><span class=\"txtt\">šu₂\n",
       "</span></span></span></div></div></div></div></div>"
      ],
      "text/plain": [
       "<IPython.core.display.HTML object>"
      ]
     },
     "metadata": {},
     "output_type": "display_data"
    },
    {
     "data": {
      "text/html": [
       "<p><b>line</b> <i>6</i></p>"
      ],
      "text/plain": [
       "<IPython.core.display.HTML object>"
      ]
     },
     "metadata": {},
     "output_type": "display_data"
    },
    {
     "data": {
      "text/html": [
       "<div class=\"tfsechead \"><span class=\"ltr\"><a target=\"_blank\" href=\"https://cdli.ucla.edu/search/search_results.php?SearchMode=Text&amp;ObjectID=P401255\" title=\"Show this document on CDLI\" sec=\"P401255 obverse:8'\">P401255 obverse:8'</a></span></div><div class=\" children\"><div class=\"contnr c3    \" ><div class=\"lbl c3  \" ><span class=\"nd\">line</span></div><div class=\"children hor wrap \"><div class=\"contnr c2    \" ><div class=\"lbl c2  \" ><span class=\"nd\">cluster</span></div><div class=\"children hor wrap \"><div class=\"contnr c1 trm   \" ><div class=\"lbl c1 trm \" ><span class=\"nd\">word</span> <span class=\"txtt\"><span class=\"plain   \" ><span class=\"plain   hl\"  style=\"background-color: cyan;\" ><span class=\"txtt\">[...] </span></span></span></span></div></div></div></div><div class=\"contnr c1 trm   \" ><div class=\"lbl c1 trm \" ><span class=\"nd\">word</span> <span class=\"txtt\"><span class=\"plain   \" ><span class=\"txtt\">x </span></span></span></div></div><div class=\"contnr c1 trm   \" ><div class=\"lbl c1 trm \" ><span class=\"nd\">word</span> <span class=\"txtt\"><span class=\"plain   \" ><span class=\"plain   hl\"  style=\"background-color: magenta;\" ><span class=\"txtt\">NIGIN#-</span></span><span class=\"plain   hl\"  style=\"background-color: lightsalmon;\" ><span class=\"txtt\">mi# </span></span></span></span></div></div><div class=\"contnr c1 trm   \" ><div class=\"lbl c1 trm \" ><span class=\"nd\">word</span> <span class=\"txtt\"><span class=\"plain   \" ><span class=\"plain   hl\" ><span class=\"txtt\">ana# </span></span></span></span></div></div><div class=\"contnr c1 trm   \" ><div class=\"lbl c1 trm \" ><span class=\"nd\">word</span> <span class=\"txtt\"><span class=\"plain   \" ><span class=\"plain   hl\" ><span class=\"txtt\">ŠA₃?# </span></span></span></span></div></div><div class=\"contnr c1 trm  rno \" ><div class=\"lbl c1 trm \" ><span class=\"nd\">word</span> <span class=\"txtt\"><span class=\"plain  rno \" ><span class=\"plain   hl\" ><span class=\"txtt\">GEŠTU?#-</span></span></span></span></div></div><div class=\"contnr c2    \" ><div class=\"lbl c2  \" ><span class=\"nd\">cluster</span></div><div class=\"children hor wrap \"><div class=\"contnr c1 trm  lno rno \" ><div class=\"lbl c1 trm \" ><span class=\"nd\">word</span> <span class=\"txtt\"><span class=\"plain  lno rno \" ><span class=\"plain   hl\" ><span class=\"txtt\">[MIN?]-</span></span></span></span></div></div></div></div><div class=\"contnr c1 trm  lno \" ><div class=\"lbl c1 trm \" ><span class=\"nd\">word</span> <span class=\"txtt\"><span class=\"plain  lno \" ><span class=\"plain   hl\" ><span class=\"txtt\">šu₂?# </span></span></span></span></div></div><div class=\"contnr c1 trm  rno \" ><div class=\"lbl c1 trm \" ><span class=\"nd\">word</span> <span class=\"txtt\"><span class=\"plain  rno \" ><span class=\"plain   hl\" ><span class=\"txtt\">GAR?#-</span></span></span></span></div></div><div class=\"contnr c2    \" ><div class=\"lbl c2  \" ><span class=\"nd\">cluster</span></div><div class=\"children hor wrap \"><div class=\"contnr c2    \" ><div class=\"lbl c2  \" ><span class=\"nd\">cluster</span></div><div class=\"children hor wrap \"><div class=\"contnr c1 trm  lno \" ><div class=\"lbl c1 trm \" ><span class=\"nd\">word</span> <span class=\"txtt\"><span class=\"plain  lno \" ><span class=\"plain   hl\" ><span class=\"txtt\">[(an)]\n",
       "</span></span></span></span></div></div></div></div></div></div></div></div></div>"
      ],
      "text/plain": [
       "<IPython.core.display.HTML object>"
      ]
     },
     "metadata": {},
     "output_type": "display_data"
    }
   ],
   "source": [
    "A.show(\n",
    "    results,\n",
    "    start=4,\n",
    "    end=6,\n",
    "    condensed=True,\n",
    "    condenseType=\"line\",\n",
    "    colorMap={0: \"\", 2: \"cyan\", 3: \"magenta\", 4: \"lightsalmon\"},\n",
    ")"
   ]
  },
  {
   "cell_type": "markdown",
   "metadata": {},
   "source": [
    "# Constraining order\n",
    "You can stipulate an order on the things in your template.\n",
    "You only have to put a relational operator between them.\n",
    "Say we want only results where the damage follows the missing."
   ]
  },
  {
   "cell_type": "code",
   "execution_count": 19,
   "metadata": {
    "ExecuteTime": {
     "end_time": "2018-05-24T07:47:14.547656Z",
     "start_time": "2018-05-24T07:47:14.544433Z"
    }
   },
   "outputs": [],
   "source": [
    "query = \"\"\"\n",
    "line\n",
    "  sign question=1\n",
    "  sign missing=1\n",
    "  < sign damage=1\n",
    "\"\"\""
   ]
  },
  {
   "cell_type": "code",
   "execution_count": 20,
   "metadata": {
    "ExecuteTime": {
     "end_time": "2018-05-24T07:48:04.746084Z",
     "start_time": "2018-05-24T07:48:03.223548Z"
    }
   },
   "outputs": [
    {
     "name": "stdout",
     "output_type": "stream",
     "text": [
      "  0.14s 4469 results\n"
     ]
    },
    {
     "data": {
      "text/html": [
       "<table><tr class=\"tf ltr\"><th class=\"tf ltr\">n</th><th class=\"tf ltr\">p</th><th class=\"tf ltr\">line</th><th class=\"tf\">sign</th><th class=\"tf\">sign</th><th class=\"tf\">sign</th></tr>\n",
       "<tr class=\"tf ltr\"><td class=\"tf ltr\">1</td><td class=\"tf ltr\"><span class=\"tfsechead ltr\"><span class=\"ltr\"><a target=\"_blank\" href=\"https://cdli.ucla.edu/search/search_results.php?SearchMode=Text&amp;ObjectID=P479250\" title=\"Show this document on CDLI\" sec=\"P479250 reverse:17\">P479250 reverse:17</a></span></span></td><td class=\"tf ltr\"><span class=\" ubd\"><span class=\"plain   hl\" ><span class=\"txtt\">[... </span></span><span class=\"plain   hl\" ><span class=\"txtt\">SAHAR?] </span></span><span class=\"plain   hl\" ><span class=\"txtt\">TA# </span></span><span class=\"txtt\">{urudu#}</span><span class=\"txtt\">na#-</span><span class=\"txtt\">ah#-</span><span class=\"txtt\">bi?# </span><span class=\"txtt\">[ana? </span><span class=\"txtt\">{urudu]}</span><span class=\"txtt\">na#-</span><span class=\"txtt\">ah#-</span><span class=\"txtt\">bi?#\n",
       "</span></span></td><td class=\"tf ltr\"><span class=\" ubd\"><span class=\"plain   hl\" ><span class=\"txtt\">SAHAR?] </span></span></span></td><td class=\"tf ltr\"><span class=\" ubd\"><span class=\"plain   hl\" ><span class=\"txtt\">[... </span></span></span></td><td class=\"tf ltr\"><span class=\" ubd\"><span class=\"plain   hl\" ><span class=\"txtt\">TA# </span></span></span></td></tr>\n",
       "<tr class=\"tf ltr\"><td class=\"tf ltr\">2</td><td class=\"tf ltr\"><span class=\"tfsechead ltr\"><span class=\"ltr\"><a target=\"_blank\" href=\"https://cdli.ucla.edu/search/search_results.php?SearchMode=Text&amp;ObjectID=P479250\" title=\"Show this document on CDLI\" sec=\"P479250 reverse:17\">P479250 reverse:17</a></span></span></td><td class=\"tf ltr\"><span class=\" ubd\"><span class=\"plain   hl\" ><span class=\"txtt\">[... </span></span><span class=\"plain   hl\" ><span class=\"txtt\">SAHAR?] </span></span><span class=\"txtt\">TA# </span><span class=\"plain   hl\" ><span class=\"txtt\">{urudu#}</span></span><span class=\"txtt\">na#-</span><span class=\"txtt\">ah#-</span><span class=\"txtt\">bi?# </span><span class=\"txtt\">[ana? </span><span class=\"txtt\">{urudu]}</span><span class=\"txtt\">na#-</span><span class=\"txtt\">ah#-</span><span class=\"txtt\">bi?#\n",
       "</span></span></td><td class=\"tf ltr\"><span class=\" ubd\"><span class=\"plain   hl\" ><span class=\"txtt\">SAHAR?] </span></span></span></td><td class=\"tf ltr\"><span class=\" ubd\"><span class=\"plain   hl\" ><span class=\"txtt\">[... </span></span></span></td><td class=\"tf ltr\"><span class=\" ubd\"><span class=\"plain   hl\" ><span class=\"txtt\">{urudu#}</span></span></span></td></tr>\n",
       "<tr class=\"tf ltr\"><td class=\"tf ltr\">3</td><td class=\"tf ltr\"><span class=\"tfsechead ltr\"><span class=\"ltr\"><a target=\"_blank\" href=\"https://cdli.ucla.edu/search/search_results.php?SearchMode=Text&amp;ObjectID=P479250\" title=\"Show this document on CDLI\" sec=\"P479250 reverse:17\">P479250 reverse:17</a></span></span></td><td class=\"tf ltr\"><span class=\" ubd\"><span class=\"plain   hl\" ><span class=\"txtt\">[... </span></span><span class=\"plain   hl\" ><span class=\"txtt\">SAHAR?] </span></span><span class=\"txtt\">TA# </span><span class=\"txtt\">{urudu#}</span><span class=\"plain   hl\" ><span class=\"txtt\">na#-</span></span><span class=\"txtt\">ah#-</span><span class=\"txtt\">bi?# </span><span class=\"txtt\">[ana? </span><span class=\"txtt\">{urudu]}</span><span class=\"txtt\">na#-</span><span class=\"txtt\">ah#-</span><span class=\"txtt\">bi?#\n",
       "</span></span></td><td class=\"tf ltr\"><span class=\" ubd\"><span class=\"plain   hl\" ><span class=\"txtt\">SAHAR?] </span></span></span></td><td class=\"tf ltr\"><span class=\" ubd\"><span class=\"plain   hl\" ><span class=\"txtt\">[... </span></span></span></td><td class=\"tf ltr\"><span class=\" ubd\"><span class=\"plain   hl\" ><span class=\"txtt\">na#-</span></span></span></td></tr>\n",
       "<tr class=\"tf ltr\"><td class=\"tf ltr\">4</td><td class=\"tf ltr\"><span class=\"tfsechead ltr\"><span class=\"ltr\"><a target=\"_blank\" href=\"https://cdli.ucla.edu/search/search_results.php?SearchMode=Text&amp;ObjectID=P479250\" title=\"Show this document on CDLI\" sec=\"P479250 reverse:17\">P479250 reverse:17</a></span></span></td><td class=\"tf ltr\"><span class=\" ubd\"><span class=\"plain   hl\" ><span class=\"txtt\">[... </span></span><span class=\"plain   hl\" ><span class=\"txtt\">SAHAR?] </span></span><span class=\"txtt\">TA# </span><span class=\"txtt\">{urudu#}</span><span class=\"txtt\">na#-</span><span class=\"plain   hl\" ><span class=\"txtt\">ah#-</span></span><span class=\"txtt\">bi?# </span><span class=\"txtt\">[ana? </span><span class=\"txtt\">{urudu]}</span><span class=\"txtt\">na#-</span><span class=\"txtt\">ah#-</span><span class=\"txtt\">bi?#\n",
       "</span></span></td><td class=\"tf ltr\"><span class=\" ubd\"><span class=\"plain   hl\" ><span class=\"txtt\">SAHAR?] </span></span></span></td><td class=\"tf ltr\"><span class=\" ubd\"><span class=\"plain   hl\" ><span class=\"txtt\">[... </span></span></span></td><td class=\"tf ltr\"><span class=\" ubd\"><span class=\"plain   hl\" ><span class=\"txtt\">ah#-</span></span></span></td></tr>\n",
       "<tr class=\"tf ltr\"><td class=\"tf ltr\">5</td><td class=\"tf ltr\"><span class=\"tfsechead ltr\"><span class=\"ltr\"><a target=\"_blank\" href=\"https://cdli.ucla.edu/search/search_results.php?SearchMode=Text&amp;ObjectID=P479250\" title=\"Show this document on CDLI\" sec=\"P479250 reverse:17\">P479250 reverse:17</a></span></span></td><td class=\"tf ltr\"><span class=\" ubd\"><span class=\"plain   hl\" ><span class=\"txtt\">[... </span></span><span class=\"plain   hl\" ><span class=\"txtt\">SAHAR?] </span></span><span class=\"txtt\">TA# </span><span class=\"txtt\">{urudu#}</span><span class=\"txtt\">na#-</span><span class=\"txtt\">ah#-</span><span class=\"plain   hl\" ><span class=\"txtt\">bi?# </span></span><span class=\"txtt\">[ana? </span><span class=\"txtt\">{urudu]}</span><span class=\"txtt\">na#-</span><span class=\"txtt\">ah#-</span><span class=\"txtt\">bi?#\n",
       "</span></span></td><td class=\"tf ltr\"><span class=\" ubd\"><span class=\"plain   hl\" ><span class=\"txtt\">SAHAR?] </span></span></span></td><td class=\"tf ltr\"><span class=\" ubd\"><span class=\"plain   hl\" ><span class=\"txtt\">[... </span></span></span></td><td class=\"tf ltr\"><span class=\" ubd\"><span class=\"plain   hl\" ><span class=\"txtt\">bi?# </span></span></span></td></tr>\n",
       "<tr class=\"tf ltr\"><td class=\"tf ltr\">6</td><td class=\"tf ltr\"><span class=\"tfsechead ltr\"><span class=\"ltr\"><a target=\"_blank\" href=\"https://cdli.ucla.edu/search/search_results.php?SearchMode=Text&amp;ObjectID=P479250\" title=\"Show this document on CDLI\" sec=\"P479250 reverse:17\">P479250 reverse:17</a></span></span></td><td class=\"tf ltr\"><span class=\" ubd\"><span class=\"plain   hl\" ><span class=\"txtt\">[... </span></span><span class=\"plain   hl\" ><span class=\"txtt\">SAHAR?] </span></span><span class=\"txtt\">TA# </span><span class=\"txtt\">{urudu#}</span><span class=\"txtt\">na#-</span><span class=\"txtt\">ah#-</span><span class=\"txtt\">bi?# </span><span class=\"txtt\">[ana? </span><span class=\"txtt\">{urudu]}</span><span class=\"plain   hl\" ><span class=\"txtt\">na#-</span></span><span class=\"txtt\">ah#-</span><span class=\"txtt\">bi?#\n",
       "</span></span></td><td class=\"tf ltr\"><span class=\" ubd\"><span class=\"plain   hl\" ><span class=\"txtt\">SAHAR?] </span></span></span></td><td class=\"tf ltr\"><span class=\" ubd\"><span class=\"plain   hl\" ><span class=\"txtt\">[... </span></span></span></td><td class=\"tf ltr\"><span class=\" ubd\"><span class=\"plain   hl\" ><span class=\"txtt\">na#-</span></span></span></td></tr>\n",
       "<tr class=\"tf ltr\"><td class=\"tf ltr\">7</td><td class=\"tf ltr\"><span class=\"tfsechead ltr\"><span class=\"ltr\"><a target=\"_blank\" href=\"https://cdli.ucla.edu/search/search_results.php?SearchMode=Text&amp;ObjectID=P479250\" title=\"Show this document on CDLI\" sec=\"P479250 reverse:17\">P479250 reverse:17</a></span></span></td><td class=\"tf ltr\"><span class=\" ubd\"><span class=\"plain   hl\" ><span class=\"txtt\">[... </span></span><span class=\"plain   hl\" ><span class=\"txtt\">SAHAR?] </span></span><span class=\"txtt\">TA# </span><span class=\"txtt\">{urudu#}</span><span class=\"txtt\">na#-</span><span class=\"txtt\">ah#-</span><span class=\"txtt\">bi?# </span><span class=\"txtt\">[ana? </span><span class=\"txtt\">{urudu]}</span><span class=\"txtt\">na#-</span><span class=\"plain   hl\" ><span class=\"txtt\">ah#-</span></span><span class=\"txtt\">bi?#\n",
       "</span></span></td><td class=\"tf ltr\"><span class=\" ubd\"><span class=\"plain   hl\" ><span class=\"txtt\">SAHAR?] </span></span></span></td><td class=\"tf ltr\"><span class=\" ubd\"><span class=\"plain   hl\" ><span class=\"txtt\">[... </span></span></span></td><td class=\"tf ltr\"><span class=\" ubd\"><span class=\"plain   hl\" ><span class=\"txtt\">ah#-</span></span></span></td></tr>\n",
       "<tr class=\"tf ltr\"><td class=\"tf ltr\">8</td><td class=\"tf ltr\"><span class=\"tfsechead ltr\"><span class=\"ltr\"><a target=\"_blank\" href=\"https://cdli.ucla.edu/search/search_results.php?SearchMode=Text&amp;ObjectID=P479250\" title=\"Show this document on CDLI\" sec=\"P479250 reverse:17\">P479250 reverse:17</a></span></span></td><td class=\"tf ltr\"><span class=\" ubd\"><span class=\"plain   hl\" ><span class=\"txtt\">[... </span></span><span class=\"plain   hl\" ><span class=\"txtt\">SAHAR?] </span></span><span class=\"txtt\">TA# </span><span class=\"txtt\">{urudu#}</span><span class=\"txtt\">na#-</span><span class=\"txtt\">ah#-</span><span class=\"txtt\">bi?# </span><span class=\"txtt\">[ana? </span><span class=\"txtt\">{urudu]}</span><span class=\"txtt\">na#-</span><span class=\"txtt\">ah#-</span><span class=\"plain   hl\" ><span class=\"txtt\">bi?#\n",
       "</span></span></span></td><td class=\"tf ltr\"><span class=\" ubd\"><span class=\"plain   hl\" ><span class=\"txtt\">SAHAR?] </span></span></span></td><td class=\"tf ltr\"><span class=\" ubd\"><span class=\"plain   hl\" ><span class=\"txtt\">[... </span></span></span></td><td class=\"tf ltr\"><span class=\" ubd\"><span class=\"plain   hl\" ><span class=\"txtt\">bi?#\n",
       "</span></span></span></td></tr>\n",
       "<tr class=\"tf ltr\"><td class=\"tf ltr\">9</td><td class=\"tf ltr\"><span class=\"tfsechead ltr\"><span class=\"ltr\"><a target=\"_blank\" href=\"https://cdli.ucla.edu/search/search_results.php?SearchMode=Text&amp;ObjectID=P479250\" title=\"Show this document on CDLI\" sec=\"P479250 reverse:17\">P479250 reverse:17</a></span></span></td><td class=\"tf ltr\"><span class=\" ubd\"><span class=\"txtt\">[... </span><span class=\"plain   hl\" ><span class=\"txtt\">SAHAR?] </span></span><span class=\"txtt\">TA# </span><span class=\"txtt\">{urudu#}</span><span class=\"txtt\">na#-</span><span class=\"txtt\">ah#-</span><span class=\"txtt\">bi?# </span><span class=\"plain   hl\" ><span class=\"txtt\">[ana? </span></span><span class=\"txtt\">{urudu]}</span><span class=\"plain   hl\" ><span class=\"txtt\">na#-</span></span><span class=\"txtt\">ah#-</span><span class=\"txtt\">bi?#\n",
       "</span></span></td><td class=\"tf ltr\"><span class=\" ubd\"><span class=\"plain   hl\" ><span class=\"txtt\">SAHAR?] </span></span></span></td><td class=\"tf ltr\"><span class=\" ubd\"><span class=\"plain   hl\" ><span class=\"txtt\">[ana? </span></span></span></td><td class=\"tf ltr\"><span class=\" ubd\"><span class=\"plain   hl\" ><span class=\"txtt\">na#-</span></span></span></td></tr>\n",
       "<tr class=\"tf ltr\"><td class=\"tf ltr\">10</td><td class=\"tf ltr\"><span class=\"tfsechead ltr\"><span class=\"ltr\"><a target=\"_blank\" href=\"https://cdli.ucla.edu/search/search_results.php?SearchMode=Text&amp;ObjectID=P479250\" title=\"Show this document on CDLI\" sec=\"P479250 reverse:17\">P479250 reverse:17</a></span></span></td><td class=\"tf ltr\"><span class=\" ubd\"><span class=\"txtt\">[... </span><span class=\"plain   hl\" ><span class=\"txtt\">SAHAR?] </span></span><span class=\"txtt\">TA# </span><span class=\"txtt\">{urudu#}</span><span class=\"txtt\">na#-</span><span class=\"txtt\">ah#-</span><span class=\"txtt\">bi?# </span><span class=\"plain   hl\" ><span class=\"txtt\">[ana? </span></span><span class=\"txtt\">{urudu]}</span><span class=\"txtt\">na#-</span><span class=\"plain   hl\" ><span class=\"txtt\">ah#-</span></span><span class=\"txtt\">bi?#\n",
       "</span></span></td><td class=\"tf ltr\"><span class=\" ubd\"><span class=\"plain   hl\" ><span class=\"txtt\">SAHAR?] </span></span></span></td><td class=\"tf ltr\"><span class=\" ubd\"><span class=\"plain   hl\" ><span class=\"txtt\">[ana? </span></span></span></td><td class=\"tf ltr\"><span class=\" ubd\"><span class=\"plain   hl\" ><span class=\"txtt\">ah#-</span></span></span></td></tr></table>"
      ],
      "text/plain": [
       "<IPython.core.display.HTML object>"
      ]
     },
     "metadata": {},
     "output_type": "display_data"
    }
   ],
   "source": [
    "results = A.search(query)\n",
    "A.table(results, end=10, baseTypes=\"sign\")"
   ]
  },
  {
   "cell_type": "markdown",
   "metadata": {},
   "source": [
    "We can also require the things to be adjacent."
   ]
  },
  {
   "cell_type": "code",
   "execution_count": 21,
   "metadata": {
    "ExecuteTime": {
     "end_time": "2018-05-24T07:47:14.547656Z",
     "start_time": "2018-05-24T07:47:14.544433Z"
    }
   },
   "outputs": [],
   "source": [
    "query = \"\"\"\n",
    "line\n",
    "  sign question=1\n",
    "  sign missing=1\n",
    "  <: sign damage=1\n",
    "\"\"\""
   ]
  },
  {
   "cell_type": "code",
   "execution_count": 22,
   "metadata": {
    "ExecuteTime": {
     "end_time": "2018-05-24T07:48:04.746084Z",
     "start_time": "2018-05-24T07:48:03.223548Z"
    }
   },
   "outputs": [
    {
     "name": "stdout",
     "output_type": "stream",
     "text": [
      "  0.13s 146 results\n"
     ]
    },
    {
     "data": {
      "text/html": [
       "<table><tr class=\"tf ltr\"><th class=\"tf ltr\">n</th><th class=\"tf ltr\">p</th><th class=\"tf ltr\">line</th><th class=\"tf\">sign</th><th class=\"tf\">sign</th><th class=\"tf\">sign</th></tr>\n",
       "<tr class=\"tf ltr\"><td class=\"tf ltr\">1</td><td class=\"tf ltr\"><span class=\"tfsechead ltr\"><span class=\"ltr\"><a target=\"_blank\" href=\"https://cdli.ucla.edu/search/search_results.php?SearchMode=Text&amp;ObjectID=P285109\" title=\"Show this document on CDLI\" sec=\"P285109 obverse:1:11'\">P285109 obverse:1:11'</a></span></span></td><td class=\"tf ltr\"><span class=\" ubd\"><span class=\"txtt\">[x </span><span class=\"txtt\">x </span><span class=\"txtt\">x </span><span class=\"txtt\">x </span><span class=\"txtt\">x </span><span class=\"plain   hl\" ><span class=\"txtt\">x] </span></span><span class=\"plain   hl\" ><span class=\"txtt\">ZA?#.</span></span><span class=\"txtt\">BA?#.</span><span class=\"txtt\">LAM?# </span><span class=\"txtt\">1/</span><span class=\"txtt\">3 </span><span class=\"txtt\">SILA₃ </span><span class=\"txtt\">{u₂}</span><span class=\"txtt\">[x </span><span class=\"txtt\">x </span><span class=\"txtt\">x]\n",
       "</span></span></td><td class=\"tf ltr\"><span class=\" ubd\"><span class=\"plain   hl\" ><span class=\"txtt\">ZA?#.</span></span></span></td><td class=\"tf ltr\"><span class=\" ubd\"><span class=\"plain   hl\" ><span class=\"txtt\">x] </span></span></span></td><td class=\"tf ltr\"><span class=\" ubd\"><span class=\"plain   hl\" ><span class=\"txtt\">ZA?#.</span></span></span></td></tr>\n",
       "<tr class=\"tf ltr\"><td class=\"tf ltr\">2</td><td class=\"tf ltr\"><span class=\"tfsechead ltr\"><span class=\"ltr\"><a target=\"_blank\" href=\"https://cdli.ucla.edu/search/search_results.php?SearchMode=Text&amp;ObjectID=P285109\" title=\"Show this document on CDLI\" sec=\"P285109 obverse:1:11'\">P285109 obverse:1:11'</a></span></span></td><td class=\"tf ltr\"><span class=\" ubd\"><span class=\"txtt\">[x </span><span class=\"txtt\">x </span><span class=\"txtt\">x </span><span class=\"txtt\">x </span><span class=\"txtt\">x </span><span class=\"plain   hl\" ><span class=\"txtt\">x] </span></span><span class=\"plain   hl\" ><span class=\"txtt\">ZA?#.</span></span><span class=\"plain   hl\" ><span class=\"txtt\">BA?#.</span></span><span class=\"txtt\">LAM?# </span><span class=\"txtt\">1/</span><span class=\"txtt\">3 </span><span class=\"txtt\">SILA₃ </span><span class=\"txtt\">{u₂}</span><span class=\"txtt\">[x </span><span class=\"txtt\">x </span><span class=\"txtt\">x]\n",
       "</span></span></td><td class=\"tf ltr\"><span class=\" ubd\"><span class=\"plain   hl\" ><span class=\"txtt\">BA?#.</span></span></span></td><td class=\"tf ltr\"><span class=\" ubd\"><span class=\"plain   hl\" ><span class=\"txtt\">x] </span></span></span></td><td class=\"tf ltr\"><span class=\" ubd\"><span class=\"plain   hl\" ><span class=\"txtt\">ZA?#.</span></span></span></td></tr>\n",
       "<tr class=\"tf ltr\"><td class=\"tf ltr\">3</td><td class=\"tf ltr\"><span class=\"tfsechead ltr\"><span class=\"ltr\"><a target=\"_blank\" href=\"https://cdli.ucla.edu/search/search_results.php?SearchMode=Text&amp;ObjectID=P285109\" title=\"Show this document on CDLI\" sec=\"P285109 obverse:1:11'\">P285109 obverse:1:11'</a></span></span></td><td class=\"tf ltr\"><span class=\" ubd\"><span class=\"txtt\">[x </span><span class=\"txtt\">x </span><span class=\"txtt\">x </span><span class=\"txtt\">x </span><span class=\"txtt\">x </span><span class=\"plain   hl\" ><span class=\"txtt\">x] </span></span><span class=\"plain   hl\" ><span class=\"txtt\">ZA?#.</span></span><span class=\"txtt\">BA?#.</span><span class=\"plain   hl\" ><span class=\"txtt\">LAM?# </span></span><span class=\"txtt\">1/</span><span class=\"txtt\">3 </span><span class=\"txtt\">SILA₃ </span><span class=\"txtt\">{u₂}</span><span class=\"txtt\">[x </span><span class=\"txtt\">x </span><span class=\"txtt\">x]\n",
       "</span></span></td><td class=\"tf ltr\"><span class=\" ubd\"><span class=\"plain   hl\" ><span class=\"txtt\">LAM?# </span></span></span></td><td class=\"tf ltr\"><span class=\" ubd\"><span class=\"plain   hl\" ><span class=\"txtt\">x] </span></span></span></td><td class=\"tf ltr\"><span class=\" ubd\"><span class=\"plain   hl\" ><span class=\"txtt\">ZA?#.</span></span></span></td></tr>\n",
       "<tr class=\"tf ltr\"><td class=\"tf ltr\">4</td><td class=\"tf ltr\"><span class=\"tfsechead ltr\"><span class=\"ltr\"><a target=\"_blank\" href=\"https://cdli.ucla.edu/search/search_results.php?SearchMode=Text&amp;ObjectID=P399223\" title=\"Show this document on CDLI\" sec=\"P399223 obverse:1:10\">P399223 obverse:1:10</a></span></span></td><td class=\"tf ltr\"><span class=\" ubd\"><span class=\"txtt\">[x </span><span class=\"txtt\">x </span><span class=\"txtt\">x </span><span class=\"txtt\">x </span><span class=\"txtt\">x </span><span class=\"txtt\">x </span><span class=\"txtt\">x </span><span class=\"txtt\">x </span><span class=\"plain   hl\" ><span class=\"txtt\">x] </span></span><span class=\"plain   hl\" ><span class=\"txtt\">i#-</span></span><span class=\"plain   hl\" ><span class=\"txtt\">na!?#-</span></span><span class=\"txtt\">qu₂ </span><span class=\"txtt\">tu-</span><span class=\"txtt\">ṣar-</span><span class=\"txtt\">raš!(BI)-</span><span class=\"txtt\">ma </span><span class=\"txtt\">[TI]\n",
       "</span></span></td><td class=\"tf ltr\"><span class=\" ubd\"><span class=\"plain   hl\" ><span class=\"txtt\">na!?#-</span></span></span></td><td class=\"tf ltr\"><span class=\" ubd\"><span class=\"plain   hl\" ><span class=\"txtt\">x] </span></span></span></td><td class=\"tf ltr\"><span class=\" ubd\"><span class=\"plain   hl\" ><span class=\"txtt\">i#-</span></span></span></td></tr>\n",
       "<tr class=\"tf ltr\"><td class=\"tf ltr\">5</td><td class=\"tf ltr\"><span class=\"tfsechead ltr\"><span class=\"ltr\"><a target=\"_blank\" href=\"https://cdli.ucla.edu/search/search_results.php?SearchMode=Text&amp;ObjectID=P401255\" title=\"Show this document on CDLI\" sec=\"P401255 obverse:8'\">P401255 obverse:8'</a></span></span></td><td class=\"tf ltr\"><span class=\" ubd\"><span class=\"txtt\">[...] </span><span class=\"txtt\">x </span><span class=\"txtt\">NIGIN#-</span><span class=\"txtt\">mi# </span><span class=\"txtt\">ana# </span><span class=\"plain   hl\" ><span class=\"txtt\">ŠA₃?# </span></span><span class=\"txtt\">GEŠTU?#-</span><span class=\"plain   hl\" ><span class=\"txtt\">[MIN?]-</span></span><span class=\"plain   hl\" ><span class=\"txtt\">šu₂?# </span></span><span class=\"txtt\">GAR?#-</span><span class=\"txtt\">[(an)]\n",
       "</span></span></td><td class=\"tf ltr\"><span class=\" ubd\"><span class=\"plain   hl\" ><span class=\"txtt\">ŠA₃?# </span></span></span></td><td class=\"tf ltr\"><span class=\" ubd\"><span class=\"plain   hl\" ><span class=\"txtt\">[MIN?]-</span></span></span></td><td class=\"tf ltr\"><span class=\" ubd\"><span class=\"plain   hl\" ><span class=\"txtt\">šu₂?# </span></span></span></td></tr>\n",
       "<tr class=\"tf ltr\"><td class=\"tf ltr\">6</td><td class=\"tf ltr\"><span class=\"tfsechead ltr\"><span class=\"ltr\"><a target=\"_blank\" href=\"https://cdli.ucla.edu/search/search_results.php?SearchMode=Text&amp;ObjectID=P401255\" title=\"Show this document on CDLI\" sec=\"P401255 obverse:8'\">P401255 obverse:8'</a></span></span></td><td class=\"tf ltr\"><span class=\" ubd\"><span class=\"txtt\">[...] </span><span class=\"txtt\">x </span><span class=\"txtt\">NIGIN#-</span><span class=\"txtt\">mi# </span><span class=\"txtt\">ana# </span><span class=\"txtt\">ŠA₃?# </span><span class=\"plain   hl\" ><span class=\"txtt\">GEŠTU?#-</span></span><span class=\"plain   hl\" ><span class=\"txtt\">[MIN?]-</span></span><span class=\"plain   hl\" ><span class=\"txtt\">šu₂?# </span></span><span class=\"txtt\">GAR?#-</span><span class=\"txtt\">[(an)]\n",
       "</span></span></td><td class=\"tf ltr\"><span class=\" ubd\"><span class=\"plain   hl\" ><span class=\"txtt\">GEŠTU?#-</span></span></span></td><td class=\"tf ltr\"><span class=\" ubd\"><span class=\"plain   hl\" ><span class=\"txtt\">[MIN?]-</span></span></span></td><td class=\"tf ltr\"><span class=\" ubd\"><span class=\"plain   hl\" ><span class=\"txtt\">šu₂?# </span></span></span></td></tr>\n",
       "<tr class=\"tf ltr\"><td class=\"tf ltr\">7</td><td class=\"tf ltr\"><span class=\"tfsechead ltr\"><span class=\"ltr\"><a target=\"_blank\" href=\"https://cdli.ucla.edu/search/search_results.php?SearchMode=Text&amp;ObjectID=P401255\" title=\"Show this document on CDLI\" sec=\"P401255 obverse:8'\">P401255 obverse:8'</a></span></span></td><td class=\"tf ltr\"><span class=\" ubd\"><span class=\"txtt\">[...] </span><span class=\"txtt\">x </span><span class=\"txtt\">NIGIN#-</span><span class=\"txtt\">mi# </span><span class=\"txtt\">ana# </span><span class=\"txtt\">ŠA₃?# </span><span class=\"txtt\">GEŠTU?#-</span><span class=\"plain   hl\" ><span class=\"txtt\">[MIN?]-</span></span><span class=\"plain   hl\" ><span class=\"txtt\">šu₂?# </span></span><span class=\"txtt\">GAR?#-</span><span class=\"txtt\">[(an)]\n",
       "</span></span></td><td class=\"tf ltr\"><span class=\" ubd\"><span class=\"plain   hl\" ><span class=\"txtt\">[MIN?]-</span></span></span></td><td class=\"tf ltr\"><span class=\" ubd\"><span class=\"plain   hl\" ><span class=\"txtt\">[MIN?]-</span></span></span></td><td class=\"tf ltr\"><span class=\" ubd\"><span class=\"plain   hl\" ><span class=\"txtt\">šu₂?# </span></span></span></td></tr>\n",
       "<tr class=\"tf ltr\"><td class=\"tf ltr\">8</td><td class=\"tf ltr\"><span class=\"tfsechead ltr\"><span class=\"ltr\"><a target=\"_blank\" href=\"https://cdli.ucla.edu/search/search_results.php?SearchMode=Text&amp;ObjectID=P401255\" title=\"Show this document on CDLI\" sec=\"P401255 obverse:8'\">P401255 obverse:8'</a></span></span></td><td class=\"tf ltr\"><span class=\" ubd\"><span class=\"txtt\">[...] </span><span class=\"txtt\">x </span><span class=\"txtt\">NIGIN#-</span><span class=\"txtt\">mi# </span><span class=\"txtt\">ana# </span><span class=\"txtt\">ŠA₃?# </span><span class=\"txtt\">GEŠTU?#-</span><span class=\"plain   hl\" ><span class=\"txtt\">[MIN?]-</span></span><span class=\"plain   hl\" ><span class=\"txtt\">šu₂?# </span></span><span class=\"txtt\">GAR?#-</span><span class=\"txtt\">[(an)]\n",
       "</span></span></td><td class=\"tf ltr\"><span class=\" ubd\"><span class=\"plain   hl\" ><span class=\"txtt\">šu₂?# </span></span></span></td><td class=\"tf ltr\"><span class=\" ubd\"><span class=\"plain   hl\" ><span class=\"txtt\">[MIN?]-</span></span></span></td><td class=\"tf ltr\"><span class=\" ubd\"><span class=\"plain   hl\" ><span class=\"txtt\">šu₂?# </span></span></span></td></tr>\n",
       "<tr class=\"tf ltr\"><td class=\"tf ltr\">9</td><td class=\"tf ltr\"><span class=\"tfsechead ltr\"><span class=\"ltr\"><a target=\"_blank\" href=\"https://cdli.ucla.edu/search/search_results.php?SearchMode=Text&amp;ObjectID=P401255\" title=\"Show this document on CDLI\" sec=\"P401255 obverse:8'\">P401255 obverse:8'</a></span></span></td><td class=\"tf ltr\"><span class=\" ubd\"><span class=\"txtt\">[...] </span><span class=\"txtt\">x </span><span class=\"txtt\">NIGIN#-</span><span class=\"txtt\">mi# </span><span class=\"txtt\">ana# </span><span class=\"txtt\">ŠA₃?# </span><span class=\"txtt\">GEŠTU?#-</span><span class=\"plain   hl\" ><span class=\"txtt\">[MIN?]-</span></span><span class=\"plain   hl\" ><span class=\"txtt\">šu₂?# </span></span><span class=\"plain   hl\" ><span class=\"txtt\">GAR?#-</span></span><span class=\"txtt\">[(an)]\n",
       "</span></span></td><td class=\"tf ltr\"><span class=\" ubd\"><span class=\"plain   hl\" ><span class=\"txtt\">GAR?#-</span></span></span></td><td class=\"tf ltr\"><span class=\" ubd\"><span class=\"plain   hl\" ><span class=\"txtt\">[MIN?]-</span></span></span></td><td class=\"tf ltr\"><span class=\" ubd\"><span class=\"plain   hl\" ><span class=\"txtt\">šu₂?# </span></span></span></td></tr>\n",
       "<tr class=\"tf ltr\"><td class=\"tf ltr\">10</td><td class=\"tf ltr\"><span class=\"tfsechead ltr\"><span class=\"ltr\"><a target=\"_blank\" href=\"https://cdli.ucla.edu/search/search_results.php?SearchMode=Text&amp;ObjectID=P403291\" title=\"Show this document on CDLI\" sec=\"P403291 obverse:5'\">P403291 obverse:5'</a></span></span></td><td class=\"tf ltr\"><span class=\" ubd\"><span class=\"plain   hl\" ><span class=\"txtt\">[...] </span></span><span class=\"plain   hl\" ><span class=\"txtt\">ŠEŠ₂?#-</span></span><span class=\"txtt\">su?# </span><span class=\"txtt\">[ŠE₁₀? </span><span class=\"txtt\">x </span><span class=\"txtt\">x </span><span class=\"txtt\">x </span><span class=\"txtt\">x]\n",
       "</span></span></td><td class=\"tf ltr\"><span class=\" ubd\"><span class=\"plain   hl\" ><span class=\"txtt\">ŠEŠ₂?#-</span></span></span></td><td class=\"tf ltr\"><span class=\" ubd\"><span class=\"plain   hl\" ><span class=\"txtt\">[...] </span></span></span></td><td class=\"tf ltr\"><span class=\" ubd\"><span class=\"plain   hl\" ><span class=\"txtt\">ŠEŠ₂?#-</span></span></span></td></tr></table>"
      ],
      "text/plain": [
       "<IPython.core.display.HTML object>"
      ]
     },
     "metadata": {},
     "output_type": "display_data"
    },
    {
     "data": {
      "text/html": [
       "<p><b>result</b> <i>1</i></p>"
      ],
      "text/plain": [
       "<IPython.core.display.HTML object>"
      ]
     },
     "metadata": {},
     "output_type": "display_data"
    },
    {
     "data": {
      "text/html": [
       "<div class=\"tfsechead \"><span class=\"ltr\"><a target=\"_blank\" href=\"https://cdli.ucla.edu/search/search_results.php?SearchMode=Text&amp;ObjectID=P285109\" title=\"Show this document on CDLI\" sec=\"P285109 obverse:1:11'\">P285109 obverse:1:11'</a></span></div><div class=\" children\"><div class=\"contnr c3    \" ><div class=\"lbl c3  \" ><span class=\"nd\">line</span></div><div class=\"children hor wrap \"><div class=\"contnr c2    \" ><div class=\"lbl c2  \" ><span class=\"nd\">cluster</span></div><div class=\"children hor wrap \"><div class=\"contnr c1    \" ><div class=\"lbl c1  \" ><span class=\"nd\">word</span> <span class=\"txtt\">[x </span></div><div class=\"children hor  \"><div class=\"contnr c0 trm   \" ><div class=\"lbl c0 trm \" ><span class=\"txtt\">[x </span></div><div class='features'><span class=\"missing xft\" ><span class=\"f\">missing=</span>1</span></div></div></div></div><div class=\"contnr c1    \" ><div class=\"lbl c1  \" ><span class=\"nd\">word</span> <span class=\"txtt\">x </span></div><div class=\"children hor  \"><div class=\"contnr c0 trm   \" ><div class=\"lbl c0 trm \" ><span class=\"txtt\">x </span></div><div class='features'><span class=\"missing xft\" ><span class=\"f\">missing=</span>1</span></div></div></div></div><div class=\"contnr c1    \" ><div class=\"lbl c1  \" ><span class=\"nd\">word</span> <span class=\"txtt\">x </span></div><div class=\"children hor  \"><div class=\"contnr c0 trm   \" ><div class=\"lbl c0 trm \" ><span class=\"txtt\">x </span></div><div class='features'><span class=\"missing xft\" ><span class=\"f\">missing=</span>1</span></div></div></div></div><div class=\"contnr c1    \" ><div class=\"lbl c1  \" ><span class=\"nd\">word</span> <span class=\"txtt\">x </span></div><div class=\"children hor  \"><div class=\"contnr c0 trm   \" ><div class=\"lbl c0 trm \" ><span class=\"txtt\">x </span></div><div class='features'><span class=\"missing xft\" ><span class=\"f\">missing=</span>1</span></div></div></div></div><div class=\"contnr c1    \" ><div class=\"lbl c1  \" ><span class=\"nd\">word</span> <span class=\"txtt\">x </span></div><div class=\"children hor  \"><div class=\"contnr c0 trm   \" ><div class=\"lbl c0 trm \" ><span class=\"txtt\">x </span></div><div class='features'><span class=\"missing xft\" ><span class=\"f\">missing=</span>1</span></div></div></div></div><div class=\"contnr c1    \" ><div class=\"lbl c1  \" ><span class=\"nd\">word</span> <span class=\"txtt\">x] </span></div><div class=\"children hor  \"><div class=\"contnr c0 trm   hl\"  style=\"background-color: magenta;\" ><div class=\"lbl c0 trm hl\"  style=\"background-color: magenta;\" ><span class=\"txtt\">x] </span></div><div class='features'><span class=\"missing xft\" ><span class=\"f\">missing=</span>1</span></div></div></div></div></div></div><div class=\"contnr c1    \" ><div class=\"lbl c1  \" ><span class=\"nd\">word</span> <span class=\"txtt\">ZA?#.BA?#.LAM?# </span></div><div class=\"children hor  \"><div class=\"contnr c0 trm   hl\"  style=\"background-color: cyan;\" ><div class=\"lbl c0 trm hl\"  style=\"background-color: cyan;\" ><span class=\"txtt\">ZA?#.</span></div><div class='features'><span class=\"damage xft\" ><span class=\"f\">damage=</span>1</span><span class=\"question xft\" ><span class=\"f\">question=</span>1</span></div></div><div class=\"contnr c0 trm   \" ><div class=\"lbl c0 trm \" ><span class=\"txtt\">BA?#.</span></div><div class='features'><span class=\"damage xft\" ><span class=\"f\">damage=</span>1</span><span class=\"question xft\" ><span class=\"f\">question=</span>1</span></div></div><div class=\"contnr c0 trm   \" ><div class=\"lbl c0 trm \" ><span class=\"txtt\">LAM?# </span></div><div class='features'><span class=\"damage xft\" ><span class=\"f\">damage=</span>1</span><span class=\"question xft\" ><span class=\"f\">question=</span>1</span></div></div></div></div><div class=\"contnr c1    \" ><div class=\"lbl c1  \" ><span class=\"nd\">word</span> <span class=\"txtt\">1/3 </span></div><div class=\"children hor  \"><div class=\"contnr c0 trm   \" ><div class=\"lbl c0 trm \" ><span class=\"txtt\">1/</span></div></div><div class=\"contnr c0 trm   \" ><div class=\"lbl c0 trm \" ><span class=\"txtt\">3 </span></div></div></div></div><div class=\"contnr c1    \" ><div class=\"lbl c1  \" ><span class=\"nd\">word</span> <span class=\"txtt\">SILA₃ </span></div><div class=\"children hor  \"><div class=\"contnr c0 trm   \" ><div class=\"lbl c0 trm \" ><span class=\"txtt\">SILA₃ </span></div></div></div></div><div class=\"contnr c2    \" ><div class=\"lbl c2  \" ><span class=\"nd\">cluster</span></div><div class=\"children hor wrap \"><div class=\"contnr c1   rno \" ><div class=\"lbl c1  \" ><span class=\"nd\">word</span> <span class=\"txtt\">{u₂}[x </span></div><div class=\"children hor  \"><div class=\"contnr c0 trm   \" ><div class=\"lbl c0 trm \" ><span class=\"txtt\">{u₂}</span></div></div></div></div></div></div><div class=\"contnr c2    \" ><div class=\"lbl c2  \" ><span class=\"nd\">cluster</span></div><div class=\"children hor wrap \"><div class=\"contnr c1   lno \" ><div class=\"lbl c1  \" ><span class=\"nd\">word</span> <span class=\"txtt\">{u₂}[x </span></div><div class=\"children hor  \"><div class=\"contnr c0 trm   \" ><div class=\"lbl c0 trm \" ><span class=\"txtt\">[x </span></div><div class='features'><span class=\"missing xft\" ><span class=\"f\">missing=</span>1</span></div></div></div></div><div class=\"contnr c1    \" ><div class=\"lbl c1  \" ><span class=\"nd\">word</span> <span class=\"txtt\">x </span></div><div class=\"children hor  \"><div class=\"contnr c0 trm   \" ><div class=\"lbl c0 trm \" ><span class=\"txtt\">x </span></div><div class='features'><span class=\"missing xft\" ><span class=\"f\">missing=</span>1</span></div></div></div></div><div class=\"contnr c1    \" ><div class=\"lbl c1  \" ><span class=\"nd\">word</span> <span class=\"txtt\">x]\n",
       "</span></div><div class=\"children hor  \"><div class=\"contnr c0 trm   \" ><div class=\"lbl c0 trm \" ><span class=\"txtt\">x]\n",
       "</span></div><div class='features'><span class=\"missing xft\" ><span class=\"f\">missing=</span>1</span></div></div></div></div></div></div></div></div></div>"
      ],
      "text/plain": [
       "<IPython.core.display.HTML object>"
      ]
     },
     "metadata": {},
     "output_type": "display_data"
    },
    {
     "data": {
      "text/html": [
       "<p><b>result</b> <i>2</i></p>"
      ],
      "text/plain": [
       "<IPython.core.display.HTML object>"
      ]
     },
     "metadata": {},
     "output_type": "display_data"
    },
    {
     "data": {
      "text/html": [
       "<div class=\"tfsechead \"><span class=\"ltr\"><a target=\"_blank\" href=\"https://cdli.ucla.edu/search/search_results.php?SearchMode=Text&amp;ObjectID=P285109\" title=\"Show this document on CDLI\" sec=\"P285109 obverse:1:11'\">P285109 obverse:1:11'</a></span></div><div class=\" children\"><div class=\"contnr c3    \" ><div class=\"lbl c3  \" ><span class=\"nd\">line</span></div><div class=\"children hor wrap \"><div class=\"contnr c2    \" ><div class=\"lbl c2  \" ><span class=\"nd\">cluster</span></div><div class=\"children hor wrap \"><div class=\"contnr c1    \" ><div class=\"lbl c1  \" ><span class=\"nd\">word</span> <span class=\"txtt\">[x </span></div><div class=\"children hor  \"><div class=\"contnr c0 trm   \" ><div class=\"lbl c0 trm \" ><span class=\"txtt\">[x </span></div><div class='features'><span class=\"missing xft\" ><span class=\"f\">missing=</span>1</span></div></div></div></div><div class=\"contnr c1    \" ><div class=\"lbl c1  \" ><span class=\"nd\">word</span> <span class=\"txtt\">x </span></div><div class=\"children hor  \"><div class=\"contnr c0 trm   \" ><div class=\"lbl c0 trm \" ><span class=\"txtt\">x </span></div><div class='features'><span class=\"missing xft\" ><span class=\"f\">missing=</span>1</span></div></div></div></div><div class=\"contnr c1    \" ><div class=\"lbl c1  \" ><span class=\"nd\">word</span> <span class=\"txtt\">x </span></div><div class=\"children hor  \"><div class=\"contnr c0 trm   \" ><div class=\"lbl c0 trm \" ><span class=\"txtt\">x </span></div><div class='features'><span class=\"missing xft\" ><span class=\"f\">missing=</span>1</span></div></div></div></div><div class=\"contnr c1    \" ><div class=\"lbl c1  \" ><span class=\"nd\">word</span> <span class=\"txtt\">x </span></div><div class=\"children hor  \"><div class=\"contnr c0 trm   \" ><div class=\"lbl c0 trm \" ><span class=\"txtt\">x </span></div><div class='features'><span class=\"missing xft\" ><span class=\"f\">missing=</span>1</span></div></div></div></div><div class=\"contnr c1    \" ><div class=\"lbl c1  \" ><span class=\"nd\">word</span> <span class=\"txtt\">x </span></div><div class=\"children hor  \"><div class=\"contnr c0 trm   \" ><div class=\"lbl c0 trm \" ><span class=\"txtt\">x </span></div><div class='features'><span class=\"missing xft\" ><span class=\"f\">missing=</span>1</span></div></div></div></div><div class=\"contnr c1    \" ><div class=\"lbl c1  \" ><span class=\"nd\">word</span> <span class=\"txtt\">x] </span></div><div class=\"children hor  \"><div class=\"contnr c0 trm   hl\"  style=\"background-color: magenta;\" ><div class=\"lbl c0 trm hl\"  style=\"background-color: magenta;\" ><span class=\"txtt\">x] </span></div><div class='features'><span class=\"missing xft\" ><span class=\"f\">missing=</span>1</span></div></div></div></div></div></div><div class=\"contnr c1    \" ><div class=\"lbl c1  \" ><span class=\"nd\">word</span> <span class=\"txtt\">ZA?#.BA?#.LAM?# </span></div><div class=\"children hor  \"><div class=\"contnr c0 trm   hl\"  style=\"background-color: lightsalmon;\" ><div class=\"lbl c0 trm hl\"  style=\"background-color: lightsalmon;\" ><span class=\"txtt\">ZA?#.</span></div><div class='features'><span class=\"damage xft\" ><span class=\"f\">damage=</span>1</span><span class=\"question xft\" ><span class=\"f\">question=</span>1</span></div></div><div class=\"contnr c0 trm   hl\"  style=\"background-color: cyan;\" ><div class=\"lbl c0 trm hl\"  style=\"background-color: cyan;\" ><span class=\"txtt\">BA?#.</span></div><div class='features'><span class=\"damage xft\" ><span class=\"f\">damage=</span>1</span><span class=\"question xft\" ><span class=\"f\">question=</span>1</span></div></div><div class=\"contnr c0 trm   \" ><div class=\"lbl c0 trm \" ><span class=\"txtt\">LAM?# </span></div><div class='features'><span class=\"damage xft\" ><span class=\"f\">damage=</span>1</span><span class=\"question xft\" ><span class=\"f\">question=</span>1</span></div></div></div></div><div class=\"contnr c1    \" ><div class=\"lbl c1  \" ><span class=\"nd\">word</span> <span class=\"txtt\">1/3 </span></div><div class=\"children hor  \"><div class=\"contnr c0 trm   \" ><div class=\"lbl c0 trm \" ><span class=\"txtt\">1/</span></div></div><div class=\"contnr c0 trm   \" ><div class=\"lbl c0 trm \" ><span class=\"txtt\">3 </span></div></div></div></div><div class=\"contnr c1    \" ><div class=\"lbl c1  \" ><span class=\"nd\">word</span> <span class=\"txtt\">SILA₃ </span></div><div class=\"children hor  \"><div class=\"contnr c0 trm   \" ><div class=\"lbl c0 trm \" ><span class=\"txtt\">SILA₃ </span></div></div></div></div><div class=\"contnr c2    \" ><div class=\"lbl c2  \" ><span class=\"nd\">cluster</span></div><div class=\"children hor wrap \"><div class=\"contnr c1   rno \" ><div class=\"lbl c1  \" ><span class=\"nd\">word</span> <span class=\"txtt\">{u₂}[x </span></div><div class=\"children hor  \"><div class=\"contnr c0 trm   \" ><div class=\"lbl c0 trm \" ><span class=\"txtt\">{u₂}</span></div></div></div></div></div></div><div class=\"contnr c2    \" ><div class=\"lbl c2  \" ><span class=\"nd\">cluster</span></div><div class=\"children hor wrap \"><div class=\"contnr c1   lno \" ><div class=\"lbl c1  \" ><span class=\"nd\">word</span> <span class=\"txtt\">{u₂}[x </span></div><div class=\"children hor  \"><div class=\"contnr c0 trm   \" ><div class=\"lbl c0 trm \" ><span class=\"txtt\">[x </span></div><div class='features'><span class=\"missing xft\" ><span class=\"f\">missing=</span>1</span></div></div></div></div><div class=\"contnr c1    \" ><div class=\"lbl c1  \" ><span class=\"nd\">word</span> <span class=\"txtt\">x </span></div><div class=\"children hor  \"><div class=\"contnr c0 trm   \" ><div class=\"lbl c0 trm \" ><span class=\"txtt\">x </span></div><div class='features'><span class=\"missing xft\" ><span class=\"f\">missing=</span>1</span></div></div></div></div><div class=\"contnr c1    \" ><div class=\"lbl c1  \" ><span class=\"nd\">word</span> <span class=\"txtt\">x]\n",
       "</span></div><div class=\"children hor  \"><div class=\"contnr c0 trm   \" ><div class=\"lbl c0 trm \" ><span class=\"txtt\">x]\n",
       "</span></div><div class='features'><span class=\"missing xft\" ><span class=\"f\">missing=</span>1</span></div></div></div></div></div></div></div></div></div>"
      ],
      "text/plain": [
       "<IPython.core.display.HTML object>"
      ]
     },
     "metadata": {},
     "output_type": "display_data"
    }
   ],
   "source": [
    "results = A.search(query)\n",
    "A.table(results, end=10, baseTypes=\"sign\")\n",
    "A.show(\n",
    "    results,\n",
    "    end=2,\n",
    "    baseTypes=\"sign\",\n",
    "    colorMap={0: \"\", 2: \"cyan\", 3: \"magenta\", 4: \"lightsalmon\"},\n",
    ")"
   ]
  },
  {
   "cell_type": "markdown",
   "metadata": {},
   "source": [
    "Finally, we make the three things fully adjacent in fixed order:"
   ]
  },
  {
   "cell_type": "code",
   "execution_count": 23,
   "metadata": {
    "ExecuteTime": {
     "end_time": "2018-05-24T07:47:14.547656Z",
     "start_time": "2018-05-24T07:47:14.544433Z"
    }
   },
   "outputs": [],
   "source": [
    "query = \"\"\"\n",
    "line\n",
    "  sign question=1\n",
    "  <: sign missing=1\n",
    "  <: sign damage=1\n",
    "\"\"\""
   ]
  },
  {
   "cell_type": "code",
   "execution_count": 24,
   "metadata": {
    "ExecuteTime": {
     "end_time": "2018-05-24T07:48:04.746084Z",
     "start_time": "2018-05-24T07:48:03.223548Z"
    }
   },
   "outputs": [
    {
     "name": "stdout",
     "output_type": "stream",
     "text": [
      "  0.12s 12 results\n"
     ]
    },
    {
     "data": {
      "text/html": [
       "<table><tr class=\"tf ltr\"><th class=\"tf ltr\">n</th><th class=\"tf ltr\">p</th><th class=\"tf ltr\">line</th><th class=\"tf\">sign</th><th class=\"tf\">sign</th><th class=\"tf\">sign</th></tr>\n",
       "<tr class=\"tf ltr\"><td class=\"tf ltr\">1</td><td class=\"tf ltr\"><span class=\"tfsechead ltr\"><span class=\"ltr\"><a target=\"_blank\" href=\"https://cdli.ucla.edu/search/search_results.php?SearchMode=Text&amp;ObjectID=P401255\" title=\"Show this document on CDLI\" sec=\"P401255 obverse:8'\">P401255 obverse:8'</a></span></span></td><td class=\"tf ltr\"><span class=\" ubd\"><span class=\"txtt\">[...] </span><span class=\"txtt\">x </span><span class=\"txtt\">NIGIN#-</span><span class=\"txtt\">mi# </span><span class=\"txtt\">ana# </span><span class=\"txtt\">ŠA₃?# </span><span class=\"plain   hl\" ><span class=\"txtt\">GEŠTU?#-</span></span><span class=\"plain   hl\" ><span class=\"txtt\">[MIN?]-</span></span><span class=\"plain   hl\" ><span class=\"txtt\">šu₂?# </span></span><span class=\"txtt\">GAR?#-</span><span class=\"txtt\">[(an)]\n",
       "</span></span></td><td class=\"tf ltr\"><span class=\" ubd\"><span class=\"plain   hl\" ><span class=\"txtt\">GEŠTU?#-</span></span></span></td><td class=\"tf ltr\"><span class=\" ubd\"><span class=\"plain   hl\" ><span class=\"txtt\">[MIN?]-</span></span></span></td><td class=\"tf ltr\"><span class=\" ubd\"><span class=\"plain   hl\" ><span class=\"txtt\">šu₂?# </span></span></span></td></tr>\n",
       "<tr class=\"tf ltr\"><td class=\"tf ltr\">2</td><td class=\"tf ltr\"><span class=\"tfsechead ltr\"><span class=\"ltr\"><a target=\"_blank\" href=\"https://cdli.ucla.edu/search/search_results.php?SearchMode=Text&amp;ObjectID=P394104\" title=\"Show this document on CDLI\" sec=\"P394104 obverse:2:37\">P394104 obverse:2:37</a></span></span></td><td class=\"tf ltr\"><span class=\" ubd\"><span class=\"txtt\">[tu?-</span><span class=\"plain   hl\" ><span class=\"txtt\">gal?-</span></span><span class=\"plain   hl\" ><span class=\"txtt\">lab?] </span></span><span class=\"plain   hl\" ><span class=\"txtt\">{u₂#}</span></span><span class=\"txtt\">BAL# </span><span class=\"txtt\">NUMUN# </span><span class=\"txtt\">U₂# </span><span class=\"txtt\">[da-</span><span class=\"txtt\">aq]-</span><span class=\"txtt\">qi₂-</span><span class=\"txtt\">qi₂ </span><span class=\"txtt\">ŠE₁₀ </span><span class=\"txtt\">up-</span><span class=\"txtt\">pu-</span><span class=\"txtt\">te </span><span class=\"txtt\">gu-</span><span class=\"txtt\">ra </span><span class=\"txtt\">ša₂ </span><span class=\"txtt\">GI </span><span class=\"txtt\">NUMUN </span><span class=\"txtt\">{u₂}</span><span class=\"txtt\">ta-</span><span class=\"txtt\">lu-</span><span class=\"txtt\">pa-</span><span class=\"txtt\">di\n",
       "</span></span></td><td class=\"tf ltr\"><span class=\" ubd\"><span class=\"plain   hl\" ><span class=\"txtt\">gal?-</span></span></span></td><td class=\"tf ltr\"><span class=\" ubd\"><span class=\"plain   hl\" ><span class=\"txtt\">lab?] </span></span></span></td><td class=\"tf ltr\"><span class=\" ubd\"><span class=\"plain   hl\" ><span class=\"txtt\">{u₂#}</span></span></span></td></tr>\n",
       "<tr class=\"tf ltr\"><td class=\"tf ltr\">3</td><td class=\"tf ltr\"><span class=\"tfsechead ltr\"><span class=\"ltr\"><a target=\"_blank\" href=\"https://cdli.ucla.edu/search/search_results.php?SearchMode=Text&amp;ObjectID=P365742\" title=\"Show this document on CDLI\" sec=\"P365742 obverse:2:17\">P365742 obverse:2:17</a></span></span></td><td class=\"tf ltr\"><span class=\" ubd\"><span class=\"txtt\">1/</span><span class=\"txtt\">3 </span><span class=\"txtt\">SILA₃ </span><span class=\"txtt\">{u₂}</span><span class=\"txtt\">ṣa-</span><span class=\"txtt\">da-</span><span class=\"plain   hl\" ><span class=\"txtt\">[na? </span></span><span class=\"plain   hl\" ><span class=\"txtt\">...] </span></span><span class=\"plain   hl\" ><span class=\"txtt\">ina# </span></span><span class=\"txtt\">GA# </span><span class=\"txtt\">SILA₁₁-</span><span class=\"txtt\">aš </span><span class=\"txtt\">SAR-</span><span class=\"txtt\">ab </span><span class=\"txtt\">KI </span><span class=\"txtt\">MIN\n",
       "</span></span></td><td class=\"tf ltr\"><span class=\" ubd\"><span class=\"plain   hl\" ><span class=\"txtt\">[na? </span></span></span></td><td class=\"tf ltr\"><span class=\" ubd\"><span class=\"plain   hl\" ><span class=\"txtt\">...] </span></span></span></td><td class=\"tf ltr\"><span class=\" ubd\"><span class=\"plain   hl\" ><span class=\"txtt\">ina# </span></span></span></td></tr>\n",
       "<tr class=\"tf ltr\"><td class=\"tf ltr\">4</td><td class=\"tf ltr\"><span class=\"tfsechead ltr\"><span class=\"ltr\"><a target=\"_blank\" href=\"https://cdli.ucla.edu/search/search_results.php?SearchMode=Text&amp;ObjectID=P365742\" title=\"Show this document on CDLI\" sec=\"P365742 reverse:1:9\">P365742 reverse:1:9</a></span></span></td><td class=\"tf ltr\"><span class=\" ubd\"><span class=\"txtt\">1 </span><span class=\"plain   hl\" ><span class=\"txtt\">[GIN₂? </span></span><span class=\"plain   hl\" ><span class=\"txtt\">...] </span></span><span class=\"plain   hl\" ><span class=\"txtt\">SAG#.</span></span><span class=\"txtt\">DU-</span><span class=\"txtt\">su </span><span class=\"txtt\">SAR-</span><span class=\"txtt\">ab </span><span class=\"txtt\">tu-</span><span class=\"txtt\">kaṣ₃-</span><span class=\"txtt\">ṣa </span><span class=\"txtt\">LAL-</span><span class=\"txtt\">ma </span><span class=\"txtt\">UD.</span><span class=\"txtt\">3.</span><span class=\"txtt\">KAM₂ </span><span class=\"txtt\">NU </span><span class=\"txtt\">DU₈\n",
       "</span></span></td><td class=\"tf ltr\"><span class=\" ubd\"><span class=\"plain   hl\" ><span class=\"txtt\">[GIN₂? </span></span></span></td><td class=\"tf ltr\"><span class=\" ubd\"><span class=\"plain   hl\" ><span class=\"txtt\">...] </span></span></span></td><td class=\"tf ltr\"><span class=\" ubd\"><span class=\"plain   hl\" ><span class=\"txtt\">SAG#.</span></span></span></td></tr>\n",
       "<tr class=\"tf ltr\"><td class=\"tf ltr\">5</td><td class=\"tf ltr\"><span class=\"tfsechead ltr\"><span class=\"ltr\"><a target=\"_blank\" href=\"https://cdli.ucla.edu/search/search_results.php?SearchMode=Text&amp;ObjectID=P365742\" title=\"Show this document on CDLI\" sec=\"P365742 reverse:2:15\">P365742 reverse:2:15</a></span></span></td><td class=\"tf ltr\"><span class=\" ubd\"><span class=\"txtt\">[ana </span><span class=\"txtt\">KI </span><span class=\"txtt\">MIN </span><span class=\"plain   hl\" ><span class=\"txtt\">bu?-</span></span><span class=\"plain   hl\" ><span class=\"txtt\">ṭu?]-</span></span><span class=\"plain   hl\" ><span class=\"txtt\">ut?#-</span></span><span class=\"txtt\">tu₄ </span><span class=\"txtt\">{šim}</span><span class=\"txtt\">BULUH </span><span class=\"txtt\">{u₂}</span><span class=\"txtt\">kur-</span><span class=\"txtt\">ka-</span><span class=\"txtt\">nu-</span><span class=\"txtt\">u </span><span class=\"txtt\">qu#-</span><span class=\"txtt\">ta#-</span><span class=\"txtt\">ru </span><span class=\"txtt\">ša₂ </span><span class=\"txtt\">SAG.</span><span class=\"txtt\">DU\n",
       "</span></span></td><td class=\"tf ltr\"><span class=\" ubd\"><span class=\"plain   hl\" ><span class=\"txtt\">bu?-</span></span></span></td><td class=\"tf ltr\"><span class=\" ubd\"><span class=\"plain   hl\" ><span class=\"txtt\">ṭu?]-</span></span></span></td><td class=\"tf ltr\"><span class=\" ubd\"><span class=\"plain   hl\" ><span class=\"txtt\">ut?#-</span></span></span></td></tr>\n",
       "<tr class=\"tf ltr\"><td class=\"tf ltr\">6</td><td class=\"tf ltr\"><span class=\"tfsechead ltr\"><span class=\"ltr\"><a target=\"_blank\" href=\"https://cdli.ucla.edu/search/search_results.php?SearchMode=Text&amp;ObjectID=P365744\" title=\"Show this document on CDLI\" sec=\"P365744 obverse:1:56'\">P365744 obverse:1:56'</a></span></span></td><td class=\"tf ltr\"><span class=\" ubd\"><span class=\"txtt\">PA </span><span class=\"txtt\">{u₂}</span><span class=\"txtt\">UR₂.</span><span class=\"txtt\">TAL₂.</span><span class=\"txtt\">TAL₂ </span><span class=\"txtt\">{giš.</span><span class=\"txtt\">d}</span><span class=\"txtt\">MAŠ </span><span class=\"txtt\">KA </span><span class=\"txtt\">A.</span><span class=\"txtt\">AB.</span><span class=\"txtt\">BA# </span><span class=\"txtt\">{u₂}</span><span class=\"txtt\">HAR.</span><span class=\"txtt\">HAR </span><span class=\"txtt\">{u₂}</span><span class=\"txtt\">KUR.</span><span class=\"txtt\">KUR </span><span class=\"plain   hl\" ><span class=\"txtt\">[ZI₃? </span></span><span class=\"plain   hl\" ><span class=\"txtt\">GIG?] </span></span><span class=\"plain   hl\" ><span class=\"txtt\">gu#-</span></span><span class=\"txtt\">ur# </span><span class=\"txtt\">GI#\n",
       "</span></span></td><td class=\"tf ltr\"><span class=\" ubd\"><span class=\"plain   hl\" ><span class=\"txtt\">[ZI₃? </span></span></span></td><td class=\"tf ltr\"><span class=\" ubd\"><span class=\"plain   hl\" ><span class=\"txtt\">GIG?] </span></span></span></td><td class=\"tf ltr\"><span class=\" ubd\"><span class=\"plain   hl\" ><span class=\"txtt\">gu#-</span></span></span></td></tr>\n",
       "<tr class=\"tf ltr\"><td class=\"tf ltr\">7</td><td class=\"tf ltr\"><span class=\"tfsechead ltr\"><span class=\"ltr\"><a target=\"_blank\" href=\"https://cdli.ucla.edu/search/search_results.php?SearchMode=Text&amp;ObjectID=P365744\" title=\"Show this document on CDLI\" sec=\"P365744 reverse:2:50'\">P365744 reverse:2:50'</a></span></span></td><td class=\"tf ltr\"><span class=\" ubd\"><span class=\"txtt\">an-</span><span class=\"txtt\">nu-</span><span class=\"txtt\">[tu₄ </span><span class=\"txtt\">x </span><span class=\"txtt\">x </span><span class=\"txtt\">x] </span><span class=\"txtt\">x </span><span class=\"txtt\">SAG.</span><span class=\"txtt\">KI.</span><span class=\"txtt\">DAB.</span><span class=\"txtt\">BA.</span><span class=\"txtt\">KAM₂ </span><span class=\"txtt\">EN </span><span class=\"txtt\">SA#.</span><span class=\"plain   hl\" ><span class=\"txtt\">GU₂?# </span></span><span class=\"plain   hl\" ><span class=\"txtt\">[AL?].</span></span><span class=\"plain   hl\" ><span class=\"txtt\">TIL?#\n",
       "</span></span></span></td><td class=\"tf ltr\"><span class=\" ubd\"><span class=\"plain   hl\" ><span class=\"txtt\">GU₂?# </span></span></span></td><td class=\"tf ltr\"><span class=\" ubd\"><span class=\"plain   hl\" ><span class=\"txtt\">[AL?].</span></span></span></td><td class=\"tf ltr\"><span class=\" ubd\"><span class=\"plain   hl\" ><span class=\"txtt\">TIL?#\n",
       "</span></span></span></td></tr>\n",
       "<tr class=\"tf ltr\"><td class=\"tf ltr\">8</td><td class=\"tf ltr\"><span class=\"tfsechead ltr\"><span class=\"ltr\"><a target=\"_blank\" href=\"https://cdli.ucla.edu/search/search_results.php?SearchMode=Text&amp;ObjectID=P394422\" title=\"Show this document on CDLI\" sec=\"P394422 obverse:1:38'\">P394422 obverse:1:38'</a></span></span></td><td class=\"tf ltr\"><span class=\" ubd\"><span class=\"txtt\">DIŠ </span><span class=\"txtt\">NA </span><span class=\"txtt\">GEŠTU.</span><span class=\"txtt\">MIN-</span><span class=\"txtt\">šu₂ </span><span class=\"txtt\">i-</span><span class=\"txtt\">šag-</span><span class=\"txtt\">gu-</span><span class=\"txtt\">ma </span><span class=\"txtt\">[MUD₂ </span><span class=\"plain   hl\" ><span class=\"txtt\">{giš?}</span></span><span class=\"plain   hl\" ><span class=\"txtt\">EREN?] </span></span><span class=\"plain   hl\" ><span class=\"txtt\">a#-</span></span><span class=\"txtt\">ra-</span><span class=\"txtt\">an-</span><span class=\"txtt\">di </span><span class=\"txtt\">{šim}</span><span class=\"txtt\">GUR₂.</span><span class=\"txtt\">GUR₂ </span><span class=\"txtt\">ina </span><span class=\"txtt\">{sig₂}</span><span class=\"txtt\">AKA₃ </span><span class=\"txtt\">NIGIN-</span><span class=\"txtt\">mi\n",
       "</span></span></td><td class=\"tf ltr\"><span class=\" ubd\"><span class=\"plain   hl\" ><span class=\"txtt\">{giš?}</span></span></span></td><td class=\"tf ltr\"><span class=\" ubd\"><span class=\"plain   hl\" ><span class=\"txtt\">EREN?] </span></span></span></td><td class=\"tf ltr\"><span class=\" ubd\"><span class=\"plain   hl\" ><span class=\"txtt\">a#-</span></span></span></td></tr>\n",
       "<tr class=\"tf ltr\"><td class=\"tf ltr\">9</td><td class=\"tf ltr\"><span class=\"tfsechead ltr\"><span class=\"ltr\"><a target=\"_blank\" href=\"https://cdli.ucla.edu/search/search_results.php?SearchMode=Text&amp;ObjectID=P394422\" title=\"Show this document on CDLI\" sec=\"P394422 obverse:2:17\">P394422 obverse:2:17</a></span></span></td><td class=\"tf ltr\"><span class=\" ubd\"><span class=\"txtt\">[su?-</span><span class=\"plain   hl\" ><span class=\"txtt\">ma?-</span></span><span class=\"plain   hl\" ><span class=\"txtt\">aš₂? </span></span><span class=\"plain   hl\" ><span class=\"txtt\">pa?#]-</span></span><span class=\"txtt\">at#-</span><span class=\"txtt\">[ri </span><span class=\"txtt\">pa?-</span><span class=\"txtt\">ku?-</span><span class=\"txtt\">un?-</span><span class=\"txtt\">di] </span><span class=\"txtt\">ra-</span><span class=\"txtt\">[ta-</span><span class=\"txtt\">aš₂? </span><span class=\"txtt\">ik?]-</span><span class=\"txtt\">ki#-</span><span class=\"txtt\">ri-</span><span class=\"txtt\">ri </span><span class=\"txtt\">ša-</span><span class=\"txtt\">ra-</span><span class=\"txtt\">aš </span><span class=\"txtt\">tu₆-</span><span class=\"txtt\">en₂\n",
       "</span></span></td><td class=\"tf ltr\"><span class=\" ubd\"><span class=\"plain   hl\" ><span class=\"txtt\">ma?-</span></span></span></td><td class=\"tf ltr\"><span class=\" ubd\"><span class=\"plain   hl\" ><span class=\"txtt\">aš₂? </span></span></span></td><td class=\"tf ltr\"><span class=\" ubd\"><span class=\"plain   hl\" ><span class=\"txtt\">pa?#]-</span></span></span></td></tr>\n",
       "<tr class=\"tf ltr\"><td class=\"tf ltr\">10</td><td class=\"tf ltr\"><span class=\"tfsechead ltr\"><span class=\"ltr\"><a target=\"_blank\" href=\"https://cdli.ucla.edu/search/search_results.php?SearchMode=Text&amp;ObjectID=P394520\" title=\"Show this document on CDLI\" sec=\"P394520 reverse:1:10\">P394520 reverse:1:10</a></span></span></td><td class=\"tf ltr\"><span class=\" ubd\"><span class=\"txtt\">EN₂ </span><span class=\"txtt\">{d}</span><span class=\"txtt\">nin-</span><span class=\"txtt\">[girima₃ </span><span class=\"txtt\">be-</span><span class=\"txtt\">let </span><span class=\"txtt\">šip-</span><span class=\"txtt\">te] </span><span class=\"txtt\">{d#}</span><span class=\"txtt\">gu#-</span><span class=\"txtt\">la# </span><span class=\"txtt\">TI#.</span><span class=\"txtt\">[LA-</span><span class=\"txtt\">ma </span><span class=\"txtt\">NIG₂.</span><span class=\"txtt\">BA-</span><span class=\"plain   hl\" ><span class=\"txtt\">ki?] </span></span><span class=\"plain   hl\" ><span class=\"txtt\">[TI]-</span></span><span class=\"plain   hl\" ><span class=\"txtt\">i# </span></span><span class=\"txtt\">TU₆#.</span><span class=\"txtt\">EN₂#\n",
       "</span></span></td><td class=\"tf ltr\"><span class=\" ubd\"><span class=\"plain   hl\" ><span class=\"txtt\">ki?] </span></span></span></td><td class=\"tf ltr\"><span class=\" ubd\"><span class=\"plain   hl\" ><span class=\"txtt\">[TI]-</span></span></span></td><td class=\"tf ltr\"><span class=\" ubd\"><span class=\"plain   hl\" ><span class=\"txtt\">i# </span></span></span></td></tr></table>"
      ],
      "text/plain": [
       "<IPython.core.display.HTML object>"
      ]
     },
     "metadata": {},
     "output_type": "display_data"
    },
    {
     "data": {
      "text/html": [
       "<p><b>result</b> <i>1</i></p>"
      ],
      "text/plain": [
       "<IPython.core.display.HTML object>"
      ]
     },
     "metadata": {},
     "output_type": "display_data"
    },
    {
     "data": {
      "text/html": [
       "<div class=\"tfsechead \"><span class=\"ltr\"><a target=\"_blank\" href=\"https://cdli.ucla.edu/search/search_results.php?SearchMode=Text&amp;ObjectID=P401255\" title=\"Show this document on CDLI\" sec=\"P401255 obverse:8'\">P401255 obverse:8'</a></span></div><div class=\" children\"><div class=\"contnr c3    \" ><div class=\"lbl c3  \" ><span class=\"nd\">line</span></div><div class=\"children hor wrap \"><div class=\"contnr c2    \" ><div class=\"lbl c2  \" ><span class=\"nd\">cluster</span></div><div class=\"children hor wrap \"><div class=\"contnr c1 trm   \" ><div class=\"lbl c1 trm \" ><span class=\"nd\">word</span> <span class=\"txtt\"><span class=\"plain   \" ><span class=\"txtt\">[...] </span></span></span></div></div></div></div><div class=\"contnr c1 trm   \" ><div class=\"lbl c1 trm \" ><span class=\"nd\">word</span> <span class=\"txtt\"><span class=\"plain   \" ><span class=\"txtt\">x </span></span></span></div></div><div class=\"contnr c1 trm   \" ><div class=\"lbl c1 trm \" ><span class=\"nd\">word</span> <span class=\"txtt\"><span class=\"plain   \" ><span class=\"txtt\">NIGIN#-</span><span class=\"txtt\">mi# </span></span></span></div></div><div class=\"contnr c1 trm   \" ><div class=\"lbl c1 trm \" ><span class=\"nd\">word</span> <span class=\"txtt\"><span class=\"plain   \" ><span class=\"txtt\">ana# </span></span></span></div></div><div class=\"contnr c1 trm   \" ><div class=\"lbl c1 trm \" ><span class=\"nd\">word</span> <span class=\"txtt\"><span class=\"plain   \" ><span class=\"txtt\">ŠA₃?# </span></span></span></div></div><div class=\"contnr c1 trm  rno \" ><div class=\"lbl c1 trm \" ><span class=\"nd\">word</span> <span class=\"txtt\"><span class=\"plain  rno \" ><span class=\"plain   hl\"  style=\"background-color: cyan;\" ><span class=\"txtt\">GEŠTU?#-</span></span></span></span></div></div><div class=\"contnr c2    \" ><div class=\"lbl c2  \" ><span class=\"nd\">cluster</span></div><div class=\"children hor wrap \"><div class=\"contnr c1 trm  lno rno \" ><div class=\"lbl c1 trm \" ><span class=\"nd\">word</span> <span class=\"txtt\"><span class=\"plain  lno rno \" ><span class=\"plain   hl\"  style=\"background-color: magenta;\" ><span class=\"txtt\">[MIN?]-</span></span></span></span></div></div></div></div><div class=\"contnr c1 trm  lno \" ><div class=\"lbl c1 trm \" ><span class=\"nd\">word</span> <span class=\"txtt\"><span class=\"plain  lno \" ><span class=\"plain   hl\"  style=\"background-color: lightsalmon;\" ><span class=\"txtt\">šu₂?# </span></span></span></span></div></div><div class=\"contnr c1 trm  rno \" ><div class=\"lbl c1 trm \" ><span class=\"nd\">word</span> <span class=\"txtt\"><span class=\"plain  rno \" ><span class=\"txtt\">GAR?#-</span></span></span></div></div><div class=\"contnr c2    \" ><div class=\"lbl c2  \" ><span class=\"nd\">cluster</span></div><div class=\"children hor wrap \"><div class=\"contnr c2    \" ><div class=\"lbl c2  \" ><span class=\"nd\">cluster</span></div><div class=\"children hor wrap \"><div class=\"contnr c1 trm  lno \" ><div class=\"lbl c1 trm \" ><span class=\"nd\">word</span> <span class=\"txtt\"><span class=\"plain  lno \" ><span class=\"txtt\">[(an)]\n",
       "</span></span></span></div></div></div></div></div></div></div></div></div>"
      ],
      "text/plain": [
       "<IPython.core.display.HTML object>"
      ]
     },
     "metadata": {},
     "output_type": "display_data"
    },
    {
     "data": {
      "text/html": [
       "<p><b>result</b> <i>2</i></p>"
      ],
      "text/plain": [
       "<IPython.core.display.HTML object>"
      ]
     },
     "metadata": {},
     "output_type": "display_data"
    },
    {
     "data": {
      "text/html": [
       "<div class=\"tfsechead \"><span class=\"ltr\"><a target=\"_blank\" href=\"https://cdli.ucla.edu/search/search_results.php?SearchMode=Text&amp;ObjectID=P394104\" title=\"Show this document on CDLI\" sec=\"P394104 obverse:2:37\">P394104 obverse:2:37</a></span></div><div class=\" children\"><div class=\"contnr c3    \" ><div class=\"lbl c3  \" ><span class=\"nd\">line</span></div><div class=\"children hor wrap \"><div class=\"contnr c2    \" ><div class=\"lbl c2  \" ><span class=\"nd\">cluster</span></div><div class=\"children hor wrap \"><div class=\"contnr c1 trm   \" ><div class=\"lbl c1 trm \" ><span class=\"nd\">word</span> <span class=\"txtt\"><span class=\"plain   \" ><span class=\"txtt\">[tu?-</span><span class=\"plain   hl\"  style=\"background-color: cyan;\" ><span class=\"txtt\">gal?-</span></span><span class=\"plain   hl\"  style=\"background-color: magenta;\" ><span class=\"txtt\">lab?] </span></span></span></span></div></div></div></div><div class=\"contnr c2    \" ><div class=\"lbl c2  \" ><span class=\"nd\">cluster</span></div><div class=\"children hor wrap \"><div class=\"contnr c1 trm  rno \" ><div class=\"lbl c1 trm \" ><span class=\"nd\">word</span> <span class=\"txtt\"><span class=\"plain  rno \" ><span class=\"plain   hl\"  style=\"background-color: lightsalmon;\" ><span class=\"txtt\">{u₂#}</span></span></span></span></div></div></div></div><div class=\"contnr c1 trm  lno \" ><div class=\"lbl c1 trm \" ><span class=\"nd\">word</span> <span class=\"txtt\"><span class=\"plain  lno \" ><span class=\"txtt\">BAL# </span></span></span></div></div><div class=\"contnr c1 trm   \" ><div class=\"lbl c1 trm \" ><span class=\"nd\">word</span> <span class=\"txtt\"><span class=\"plain   \" ><span class=\"txtt\">NUMUN# </span></span></span></div></div><div class=\"contnr c1 trm   \" ><div class=\"lbl c1 trm \" ><span class=\"nd\">word</span> <span class=\"txtt\"><span class=\"plain   \" ><span class=\"txtt\">U₂# </span></span></span></div></div><div class=\"contnr c2    \" ><div class=\"lbl c2  \" ><span class=\"nd\">cluster</span></div><div class=\"children hor wrap \"><div class=\"contnr c1 trm  rno \" ><div class=\"lbl c1 trm \" ><span class=\"nd\">word</span> <span class=\"txtt\"><span class=\"plain  rno \" ><span class=\"txtt\">[da-</span><span class=\"txtt\">aq]-</span></span></span></div></div></div></div><div class=\"contnr c1 trm  lno \" ><div class=\"lbl c1 trm \" ><span class=\"nd\">word</span> <span class=\"txtt\"><span class=\"plain  lno \" ><span class=\"txtt\">qi₂-</span><span class=\"txtt\">qi₂ </span></span></span></div></div><div class=\"contnr c1 trm   \" ><div class=\"lbl c1 trm \" ><span class=\"nd\">word</span> <span class=\"txtt\"><span class=\"plain   \" ><span class=\"txtt\">ŠE₁₀ </span></span></span></div></div><div class=\"contnr c1 trm   \" ><div class=\"lbl c1 trm \" ><span class=\"nd\">word</span> <span class=\"txtt\"><span class=\"plain   \" ><span class=\"txtt\">up-</span><span class=\"txtt\">pu-</span><span class=\"txtt\">te </span></span></span></div></div><div class=\"contnr c1 trm   \" ><div class=\"lbl c1 trm \" ><span class=\"nd\">word</span> <span class=\"txtt\"><span class=\"plain   \" ><span class=\"txtt\">gu-</span><span class=\"txtt\">ra </span></span></span></div></div><div class=\"contnr c1 trm   \" ><div class=\"lbl c1 trm \" ><span class=\"nd\">word</span> <span class=\"txtt\"><span class=\"plain   \" ><span class=\"txtt\">ša₂ </span></span></span></div></div><div class=\"contnr c1 trm   \" ><div class=\"lbl c1 trm \" ><span class=\"nd\">word</span> <span class=\"txtt\"><span class=\"plain   \" ><span class=\"txtt\">GI </span></span></span></div></div><div class=\"contnr c1 trm   \" ><div class=\"lbl c1 trm \" ><span class=\"nd\">word</span> <span class=\"txtt\"><span class=\"plain   \" ><span class=\"txtt\">NUMUN </span></span></span></div></div><div class=\"contnr c2    \" ><div class=\"lbl c2  \" ><span class=\"nd\">cluster</span></div><div class=\"children hor wrap \"><div class=\"contnr c1 trm  rno \" ><div class=\"lbl c1 trm \" ><span class=\"nd\">word</span> <span class=\"txtt\"><span class=\"plain  rno \" ><span class=\"txtt\">{u₂}</span></span></span></div></div></div></div><div class=\"contnr c1 trm  lno \" ><div class=\"lbl c1 trm \" ><span class=\"nd\">word</span> <span class=\"txtt\"><span class=\"plain  lno \" ><span class=\"txtt\">ta-</span><span class=\"txtt\">lu-</span><span class=\"txtt\">pa-</span><span class=\"txtt\">di\n",
       "</span></span></span></div></div></div></div></div>"
      ],
      "text/plain": [
       "<IPython.core.display.HTML object>"
      ]
     },
     "metadata": {},
     "output_type": "display_data"
    },
    {
     "data": {
      "text/html": [
       "<p><b>result</b> <i>3</i></p>"
      ],
      "text/plain": [
       "<IPython.core.display.HTML object>"
      ]
     },
     "metadata": {},
     "output_type": "display_data"
    },
    {
     "data": {
      "text/html": [
       "<div class=\"tfsechead \"><span class=\"ltr\"><a target=\"_blank\" href=\"https://cdli.ucla.edu/search/search_results.php?SearchMode=Text&amp;ObjectID=P365742\" title=\"Show this document on CDLI\" sec=\"P365742 obverse:2:17\">P365742 obverse:2:17</a></span></div><div class=\" children\"><div class=\"contnr c3    \" ><div class=\"lbl c3  \" ><span class=\"nd\">line</span></div><div class=\"children hor wrap \"><div class=\"contnr c1 trm   \" ><div class=\"lbl c1 trm \" ><span class=\"nd\">word</span> <span class=\"txtt\"><span class=\"plain   \" ><span class=\"txtt\">1/</span><span class=\"txtt\">3 </span></span></span></div></div><div class=\"contnr c1 trm   \" ><div class=\"lbl c1 trm \" ><span class=\"nd\">word</span> <span class=\"txtt\"><span class=\"plain   \" ><span class=\"txtt\">SILA₃ </span></span></span></div></div><div class=\"contnr c2    \" ><div class=\"lbl c2  \" ><span class=\"nd\">cluster</span></div><div class=\"children hor wrap \"><div class=\"contnr c1 trm  rno \" ><div class=\"lbl c1 trm \" ><span class=\"nd\">word</span> <span class=\"txtt\"><span class=\"plain  rno \" ><span class=\"txtt\">{u₂}</span></span></span></div></div></div></div><div class=\"contnr c1 trm  lno rno \" ><div class=\"lbl c1 trm \" ><span class=\"nd\">word</span> <span class=\"txtt\"><span class=\"plain  lno rno \" ><span class=\"txtt\">ṣa-</span><span class=\"txtt\">da-</span></span></span></div></div><div class=\"contnr c2    \" ><div class=\"lbl c2  \" ><span class=\"nd\">cluster</span></div><div class=\"children hor wrap \"><div class=\"contnr c1 trm  lno \" ><div class=\"lbl c1 trm \" ><span class=\"nd\">word</span> <span class=\"txtt\"><span class=\"plain  lno \" ><span class=\"plain   hl\"  style=\"background-color: cyan;\" ><span class=\"txtt\">[na? </span></span></span></span></div></div><div class=\"contnr c1 trm   \" ><div class=\"lbl c1 trm \" ><span class=\"nd\">word</span> <span class=\"txtt\"><span class=\"plain   \" ><span class=\"plain   hl\"  style=\"background-color: magenta;\" ><span class=\"txtt\">...] </span></span></span></span></div></div></div></div><div class=\"contnr c1 trm   \" ><div class=\"lbl c1 trm \" ><span class=\"nd\">word</span> <span class=\"txtt\"><span class=\"plain   \" ><span class=\"plain   hl\"  style=\"background-color: lightsalmon;\" ><span class=\"txtt\">ina# </span></span></span></span></div></div><div class=\"contnr c1 trm   \" ><div class=\"lbl c1 trm \" ><span class=\"nd\">word</span> <span class=\"txtt\"><span class=\"plain   \" ><span class=\"txtt\">GA# </span></span></span></div></div><div class=\"contnr c1 trm   \" ><div class=\"lbl c1 trm \" ><span class=\"nd\">word</span> <span class=\"txtt\"><span class=\"plain   \" ><span class=\"txtt\">SILA₁₁-</span><span class=\"txtt\">aš </span></span></span></div></div><div class=\"contnr c1 trm   \" ><div class=\"lbl c1 trm \" ><span class=\"nd\">word</span> <span class=\"txtt\"><span class=\"plain   \" ><span class=\"txtt\">SAR-</span><span class=\"txtt\">ab </span></span></span></div></div><div class=\"contnr c1 trm   \" ><div class=\"lbl c1 trm \" ><span class=\"nd\">word</span> <span class=\"txtt\"><span class=\"plain   \" ><span class=\"txtt\">KI </span></span></span></div></div><div class=\"contnr c1 trm   \" ><div class=\"lbl c1 trm \" ><span class=\"nd\">word</span> <span class=\"txtt\"><span class=\"plain   \" ><span class=\"txtt\">MIN\n",
       "</span></span></span></div></div></div></div></div>"
      ],
      "text/plain": [
       "<IPython.core.display.HTML object>"
      ]
     },
     "metadata": {},
     "output_type": "display_data"
    },
    {
     "data": {
      "text/html": [
       "<p><b>result</b> <i>4</i></p>"
      ],
      "text/plain": [
       "<IPython.core.display.HTML object>"
      ]
     },
     "metadata": {},
     "output_type": "display_data"
    },
    {
     "data": {
      "text/html": [
       "<div class=\"tfsechead \"><span class=\"ltr\"><a target=\"_blank\" href=\"https://cdli.ucla.edu/search/search_results.php?SearchMode=Text&amp;ObjectID=P365742\" title=\"Show this document on CDLI\" sec=\"P365742 reverse:1:9\">P365742 reverse:1:9</a></span></div><div class=\" children\"><div class=\"contnr c3    \" ><div class=\"lbl c3  \" ><span class=\"nd\">line</span></div><div class=\"children hor wrap \"><div class=\"contnr c1 trm   \" ><div class=\"lbl c1 trm \" ><span class=\"nd\">word</span> <span class=\"txtt\"><span class=\"plain   \" ><span class=\"txtt\">1 </span></span></span></div></div><div class=\"contnr c2    \" ><div class=\"lbl c2  \" ><span class=\"nd\">cluster</span></div><div class=\"children hor wrap \"><div class=\"contnr c1 trm   \" ><div class=\"lbl c1 trm \" ><span class=\"nd\">word</span> <span class=\"txtt\"><span class=\"plain   \" ><span class=\"plain   hl\"  style=\"background-color: cyan;\" ><span class=\"txtt\">[GIN₂? </span></span></span></span></div></div><div class=\"contnr c1 trm   \" ><div class=\"lbl c1 trm \" ><span class=\"nd\">word</span> <span class=\"txtt\"><span class=\"plain   \" ><span class=\"plain   hl\"  style=\"background-color: magenta;\" ><span class=\"txtt\">...] </span></span></span></span></div></div></div></div><div class=\"contnr c1 trm   \" ><div class=\"lbl c1 trm \" ><span class=\"nd\">word</span> <span class=\"txtt\"><span class=\"plain   \" ><span class=\"plain   hl\"  style=\"background-color: lightsalmon;\" ><span class=\"txtt\">SAG#.</span></span><span class=\"txtt\">DU-</span><span class=\"txtt\">su </span></span></span></div></div><div class=\"contnr c1 trm   \" ><div class=\"lbl c1 trm \" ><span class=\"nd\">word</span> <span class=\"txtt\"><span class=\"plain   \" ><span class=\"txtt\">SAR-</span><span class=\"txtt\">ab </span></span></span></div></div><div class=\"contnr c1 trm   \" ><div class=\"lbl c1 trm \" ><span class=\"nd\">word</span> <span class=\"txtt\"><span class=\"plain   \" ><span class=\"txtt\">tu-</span><span class=\"txtt\">kaṣ₃-</span><span class=\"txtt\">ṣa </span></span></span></div></div><div class=\"contnr c1 trm   \" ><div class=\"lbl c1 trm \" ><span class=\"nd\">word</span> <span class=\"txtt\"><span class=\"plain   \" ><span class=\"txtt\">LAL-</span><span class=\"txtt\">ma </span></span></span></div></div><div class=\"contnr c1 trm   \" ><div class=\"lbl c1 trm \" ><span class=\"nd\">word</span> <span class=\"txtt\"><span class=\"plain   \" ><span class=\"txtt\">UD.</span><span class=\"txtt\">3.</span><span class=\"txtt\">KAM₂ </span></span></span></div></div><div class=\"contnr c1 trm   \" ><div class=\"lbl c1 trm \" ><span class=\"nd\">word</span> <span class=\"txtt\"><span class=\"plain   \" ><span class=\"txtt\">NU </span></span></span></div></div><div class=\"contnr c1 trm   \" ><div class=\"lbl c1 trm \" ><span class=\"nd\">word</span> <span class=\"txtt\"><span class=\"plain   \" ><span class=\"txtt\">DU₈\n",
       "</span></span></span></div></div></div></div></div>"
      ],
      "text/plain": [
       "<IPython.core.display.HTML object>"
      ]
     },
     "metadata": {},
     "output_type": "display_data"
    }
   ],
   "source": [
    "results = A.search(query)\n",
    "A.table(results, end=10, baseTypes=\"sign\")\n",
    "A.show(results, end=4, colorMap={0: \"\", 2: \"cyan\", 3: \"magenta\", 4: \"lightsalmon\"})"
   ]
  },
  {
   "cell_type": "markdown",
   "metadata": {},
   "source": [
    "# Custom feature display\n",
    "\n",
    "We would like to see the original ATF and the flags for signs.\n",
    "The way to do that, is to perform a `A.prettySetup(features)` first.\n",
    "\n",
    "We concentrate on one specific result."
   ]
  },
  {
   "cell_type": "code",
   "execution_count": 25,
   "metadata": {
    "ExecuteTime": {
     "end_time": "2018-05-24T07:49:51.867815Z",
     "start_time": "2018-05-24T07:49:51.864197Z"
    }
   },
   "outputs": [],
   "source": [
    "A.displaySetup(extraFeatures=\"atf flags\")"
   ]
  },
  {
   "cell_type": "code",
   "execution_count": 26,
   "metadata": {
    "ExecuteTime": {
     "end_time": "2018-05-24T07:49:53.189127Z",
     "start_time": "2018-05-24T07:49:53.176377Z"
    }
   },
   "outputs": [
    {
     "data": {
      "text/html": [
       "<p><b>result</b> <i>3</i></p>"
      ],
      "text/plain": [
       "<IPython.core.display.HTML object>"
      ]
     },
     "metadata": {},
     "output_type": "display_data"
    },
    {
     "data": {
      "text/html": [
       "<div class=\"tfsechead \"><span class=\"ltr\"><a target=\"_blank\" href=\"https://cdli.ucla.edu/search/search_results.php?SearchMode=Text&amp;ObjectID=P365742\" title=\"Show this document on CDLI\" sec=\"P365742 obverse:2:17\">P365742 obverse:2:17</a></span></div><div class=\" children\"><div class=\"contnr c3    \" ><div class=\"lbl c3  \" ><span class=\"nd\">line</span></div><div class='features'><span class=\"atf xft\" ><span class=\"f\">atf=</span>17. 1/3 SILA₃ {u₂}ṣa-da-n[a? ...] ina# GA# SILA₁₁-aš SAR-ab KI MIN</span></div><div class=\"children hor wrap \"><div class=\"contnr c1    \" ><div class=\"lbl c1  \" ><span class=\"nd\">word</span> <span class=\"txtt\">1/3 </span></div><div class='features'><span class=\"atf xft\" ><span class=\"f\">atf=</span>1/3</span></div><div class=\"children hor  \"><div class=\"contnr c0 trm   \" ><div class=\"lbl c0 trm \" ><span class=\"txtt\">1/</span></div><div class='features'><span class=\"atf xft\" ><span class=\"f\">atf=</span>1</span></div></div><div class=\"contnr c0 trm   \" ><div class=\"lbl c0 trm \" ><span class=\"txtt\">3 </span></div><div class='features'><span class=\"atf xft\" ><span class=\"f\">atf=</span>3</span></div></div></div></div><div class=\"contnr c1    \" ><div class=\"lbl c1  \" ><span class=\"nd\">word</span> <span class=\"txtt\">SILA₃ </span></div><div class='features'><span class=\"atf xft\" ><span class=\"f\">atf=</span>SILA₃</span></div><div class=\"children hor  \"><div class=\"contnr c0 trm   \" ><div class=\"lbl c0 trm \" ><span class=\"txtt\">SILA₃ </span></div><div class='features'><span class=\"atf xft\" ><span class=\"f\">atf=</span>SILA₃</span></div></div></div></div><div class=\"contnr c2    \" ><div class=\"lbl c2  \" ><span class=\"nd\">cluster</span></div><div class=\"children hor wrap \"><div class=\"contnr c1   rno \" ><div class=\"lbl c1  \" ><span class=\"nd\">word</span> <span class=\"txtt\">{u₂}ṣa-da-[na? </span></div><div class='features'><span class=\"atf xft\" ><span class=\"f\">atf=</span>{u₂}ṣa-da-n[a?</span></div><div class=\"children hor  \"><div class=\"contnr c0 trm   \" ><div class=\"lbl c0 trm \" ><span class=\"txtt\">{u₂}</span></div><div class='features'><span class=\"atf xft\" ><span class=\"f\">atf=</span>u₂</span></div></div></div></div></div></div><div class=\"contnr c1   lno rno \" ><div class=\"lbl c1  \" ><span class=\"nd\">word</span> <span class=\"txtt\">{u₂}ṣa-da-[na? </span></div><div class='features'><span class=\"atf xft\" ><span class=\"f\">atf=</span>{u₂}ṣa-da-n[a?</span></div><div class=\"children hor  \"><div class=\"contnr c0 trm   \" ><div class=\"lbl c0 trm \" ><span class=\"txtt\">ṣa-</span></div><div class='features'><span class=\"atf xft\" ><span class=\"f\">atf=</span>ṣa</span></div></div><div class=\"contnr c0 trm   \" ><div class=\"lbl c0 trm \" ><span class=\"txtt\">da-</span></div><div class='features'><span class=\"atf xft\" ><span class=\"f\">atf=</span>da</span></div></div></div></div><div class=\"contnr c2    \" ><div class=\"lbl c2  \" ><span class=\"nd\">cluster</span></div><div class=\"children hor wrap \"><div class=\"contnr c1   lno \" ><div class=\"lbl c1  \" ><span class=\"nd\">word</span> <span class=\"txtt\">{u₂}ṣa-da-[na? </span></div><div class='features'><span class=\"atf xft\" ><span class=\"f\">atf=</span>{u₂}ṣa-da-n[a?</span></div><div class=\"children hor  \"><div class=\"contnr c0 trm   hl\"  style=\"background-color: cyan;\" ><div class=\"lbl c0 trm hl\"  style=\"background-color: cyan;\" ><span class=\"txtt\">[na? </span></div><div class='features'><span class=\"atf xft\" ><span class=\"f\">atf=</span>na?</span><span class=\"flags xft\" ><span class=\"f\">flags=</span>?</span><span class=\"missing xft\" ><span class=\"f\">missing=</span>1</span><span class=\"question xft\" ><span class=\"f\">question=</span>1</span></div></div></div></div><div class=\"contnr c1    \" ><div class=\"lbl c1  \" ><span class=\"nd\">word</span> <span class=\"txtt\">...] </span></div><div class='features'><span class=\"atf xft\" ><span class=\"f\">atf=</span>...]</span></div><div class=\"children hor  \"><div class=\"contnr c0 trm   hl\"  style=\"background-color: magenta;\" ><div class=\"lbl c0 trm hl\"  style=\"background-color: magenta;\" ><span class=\"txtt\">...] </span></div><div class='features'><span class=\"atf xft\" ><span class=\"f\">atf=</span>...</span><span class=\"missing xft\" ><span class=\"f\">missing=</span>1</span></div></div></div></div></div></div><div class=\"contnr c1    \" ><div class=\"lbl c1  \" ><span class=\"nd\">word</span> <span class=\"txtt\">ina# </span></div><div class='features'><span class=\"atf xft\" ><span class=\"f\">atf=</span>ina#</span></div><div class=\"children hor  \"><div class=\"contnr c0 trm   hl\"  style=\"background-color: lightsalmon;\" ><div class=\"lbl c0 trm hl\"  style=\"background-color: lightsalmon;\" ><span class=\"txtt\">ina# </span></div><div class='features'><span class=\"atf xft\" ><span class=\"f\">atf=</span>ina#</span><span class=\"damage xft\" ><span class=\"f\">damage=</span>1</span><span class=\"flags xft\" ><span class=\"f\">flags=</span>#</span></div></div></div></div><div class=\"contnr c1    \" ><div class=\"lbl c1  \" ><span class=\"nd\">word</span> <span class=\"txtt\">GA# </span></div><div class='features'><span class=\"atf xft\" ><span class=\"f\">atf=</span>GA#</span></div><div class=\"children hor  \"><div class=\"contnr c0 trm   \" ><div class=\"lbl c0 trm \" ><span class=\"txtt\">GA# </span></div><div class='features'><span class=\"atf xft\" ><span class=\"f\">atf=</span>GA#</span><span class=\"damage xft\" ><span class=\"f\">damage=</span>1</span><span class=\"flags xft\" ><span class=\"f\">flags=</span>#</span></div></div></div></div><div class=\"contnr c1    \" ><div class=\"lbl c1  \" ><span class=\"nd\">word</span> <span class=\"txtt\">SILA₁₁-aš </span></div><div class='features'><span class=\"atf xft\" ><span class=\"f\">atf=</span>SILA₁₁-aš</span></div><div class=\"children hor  \"><div class=\"contnr c0 trm   \" ><div class=\"lbl c0 trm \" ><span class=\"txtt\">SILA₁₁-</span></div><div class='features'><span class=\"atf xft\" ><span class=\"f\">atf=</span>SILA₁₁</span></div></div><div class=\"contnr c0 trm   \" ><div class=\"lbl c0 trm \" ><span class=\"txtt\">aš </span></div><div class='features'><span class=\"atf xft\" ><span class=\"f\">atf=</span>aš</span></div></div></div></div><div class=\"contnr c1    \" ><div class=\"lbl c1  \" ><span class=\"nd\">word</span> <span class=\"txtt\">SAR-ab </span></div><div class='features'><span class=\"atf xft\" ><span class=\"f\">atf=</span>SAR-ab</span></div><div class=\"children hor  \"><div class=\"contnr c0 trm   \" ><div class=\"lbl c0 trm \" ><span class=\"txtt\">SAR-</span></div><div class='features'><span class=\"atf xft\" ><span class=\"f\">atf=</span>SAR</span></div></div><div class=\"contnr c0 trm   \" ><div class=\"lbl c0 trm \" ><span class=\"txtt\">ab </span></div><div class='features'><span class=\"atf xft\" ><span class=\"f\">atf=</span>ab</span></div></div></div></div><div class=\"contnr c1    \" ><div class=\"lbl c1  \" ><span class=\"nd\">word</span> <span class=\"txtt\">KI </span></div><div class='features'><span class=\"atf xft\" ><span class=\"f\">atf=</span>KI</span></div><div class=\"children hor  \"><div class=\"contnr c0 trm   \" ><div class=\"lbl c0 trm \" ><span class=\"txtt\">KI </span></div><div class='features'><span class=\"atf xft\" ><span class=\"f\">atf=</span>KI</span></div></div></div></div><div class=\"contnr c1    \" ><div class=\"lbl c1  \" ><span class=\"nd\">word</span> <span class=\"txtt\">MIN\n",
       "</span></div><div class='features'><span class=\"atf xft\" ><span class=\"f\">atf=</span>MIN</span></div><div class=\"children hor  \"><div class=\"contnr c0 trm   \" ><div class=\"lbl c0 trm \" ><span class=\"txtt\">MIN\n",
       "</span></div><div class='features'><span class=\"atf xft\" ><span class=\"f\">atf=</span>MIN</span></div></div></div></div></div></div></div>"
      ],
      "text/plain": [
       "<IPython.core.display.HTML object>"
      ]
     },
     "metadata": {},
     "output_type": "display_data"
    }
   ],
   "source": [
    "A.show(\n",
    "    results,\n",
    "    start=3,\n",
    "    end=3,\n",
    "    baseTypes=\"sign\",\n",
    "    colorMap={0: \"\", 2: \"cyan\", 3: \"magenta\", 4: \"lightsalmon\"},\n",
    ")"
   ]
  },
  {
   "cell_type": "markdown",
   "metadata": {},
   "source": [
    "The features without meaningful values have been left out. We can also change that by passing a set of values\n",
    "we think are not meaningful. The default set is\n",
    "\n",
    "```python\n",
    "{None, 'NA', 'none', 'unknown'}\n",
    "```"
   ]
  },
  {
   "cell_type": "code",
   "execution_count": 27,
   "metadata": {
    "ExecuteTime": {
     "end_time": "2018-05-24T07:49:56.593302Z",
     "start_time": "2018-05-24T07:49:56.579038Z"
    }
   },
   "outputs": [
    {
     "data": {
      "text/html": [
       "<p><b>result</b> <i>3</i></p>"
      ],
      "text/plain": [
       "<IPython.core.display.HTML object>"
      ]
     },
     "metadata": {},
     "output_type": "display_data"
    },
    {
     "data": {
      "text/html": [
       "<div class=\"tfsechead \"><span class=\"ltr\"><a target=\"_blank\" href=\"https://cdli.ucla.edu/search/search_results.php?SearchMode=Text&amp;ObjectID=P365742\" title=\"Show this document on CDLI\" sec=\"P365742 obverse:2:17\">P365742 obverse:2:17</a></span></div><div class=\" children\"><div class=\"contnr c3    \" ><div class=\"lbl c3  \" ><span class=\"nd\">line</span></div><div class='features'><span class=\"atf xft\" ><span class=\"f\">atf=</span>17. 1/3 SILA₃ {u₂}ṣa-da-n[a? ...] ina# GA# SILA₁₁-aš SAR-ab KI MIN</span><span class=\"damage xft\" ><span class=\"f\">damage=</span></span><span class=\"flags xft\" ><span class=\"f\">flags=</span></span><span class=\"missing xft\" ><span class=\"f\">missing=</span></span><span class=\"question xft\" ><span class=\"f\">question=</span></span></div><div class=\"children hor wrap \"><div class=\"contnr c1    \" ><div class=\"lbl c1  \" ><span class=\"nd\">word</span> <span class=\"txtt\">1/3 </span></div><div class='features'><span class=\"atf xft\" ><span class=\"f\">atf=</span>1/3</span><span class=\"damage xft\" ><span class=\"f\">damage=</span></span><span class=\"flags xft\" ><span class=\"f\">flags=</span></span><span class=\"missing xft\" ><span class=\"f\">missing=</span></span><span class=\"question xft\" ><span class=\"f\">question=</span></span></div><div class=\"children hor  \"><div class=\"contnr c0 trm   \" ><div class=\"lbl c0 trm \" ><span class=\"txtt\">1/</span></div><div class='features'><span class=\"atf xft\" ><span class=\"f\">atf=</span>1</span><span class=\"damage xft\" ><span class=\"f\">damage=</span></span><span class=\"flags xft\" ><span class=\"f\">flags=</span></span><span class=\"missing xft\" ><span class=\"f\">missing=</span></span><span class=\"question xft\" ><span class=\"f\">question=</span></span></div></div><div class=\"contnr c0 trm   \" ><div class=\"lbl c0 trm \" ><span class=\"txtt\">3 </span></div><div class='features'><span class=\"atf xft\" ><span class=\"f\">atf=</span>3</span><span class=\"damage xft\" ><span class=\"f\">damage=</span></span><span class=\"flags xft\" ><span class=\"f\">flags=</span></span><span class=\"missing xft\" ><span class=\"f\">missing=</span></span><span class=\"question xft\" ><span class=\"f\">question=</span></span></div></div></div></div><div class=\"contnr c1    \" ><div class=\"lbl c1  \" ><span class=\"nd\">word</span> <span class=\"txtt\">SILA₃ </span></div><div class='features'><span class=\"atf xft\" ><span class=\"f\">atf=</span>SILA₃</span><span class=\"damage xft\" ><span class=\"f\">damage=</span></span><span class=\"flags xft\" ><span class=\"f\">flags=</span></span><span class=\"missing xft\" ><span class=\"f\">missing=</span></span><span class=\"question xft\" ><span class=\"f\">question=</span></span></div><div class=\"children hor  \"><div class=\"contnr c0 trm   \" ><div class=\"lbl c0 trm \" ><span class=\"txtt\">SILA₃ </span></div><div class='features'><span class=\"atf xft\" ><span class=\"f\">atf=</span>SILA₃</span><span class=\"damage xft\" ><span class=\"f\">damage=</span></span><span class=\"flags xft\" ><span class=\"f\">flags=</span></span><span class=\"missing xft\" ><span class=\"f\">missing=</span></span><span class=\"question xft\" ><span class=\"f\">question=</span></span></div></div></div></div><div class=\"contnr c2    \" ><div class=\"lbl c2  \" ><span class=\"nd\">cluster</span></div><div class='features'><span class=\"atf xft\" ><span class=\"f\">atf=</span></span><span class=\"damage xft\" ><span class=\"f\">damage=</span></span><span class=\"flags xft\" ><span class=\"f\">flags=</span></span><span class=\"missing xft\" ><span class=\"f\">missing=</span></span><span class=\"question xft\" ><span class=\"f\">question=</span></span></div><div class=\"children hor wrap \"><div class=\"contnr c1   rno \" ><div class=\"lbl c1  \" ><span class=\"nd\">word</span> <span class=\"txtt\">{u₂}ṣa-da-[na? </span></div><div class='features'><span class=\"atf xft\" ><span class=\"f\">atf=</span>{u₂}ṣa-da-n[a?</span><span class=\"damage xft\" ><span class=\"f\">damage=</span></span><span class=\"flags xft\" ><span class=\"f\">flags=</span></span><span class=\"missing xft\" ><span class=\"f\">missing=</span></span><span class=\"question xft\" ><span class=\"f\">question=</span></span></div><div class=\"children hor  \"><div class=\"contnr c0 trm   \" ><div class=\"lbl c0 trm \" ><span class=\"txtt\">{u₂}</span></div><div class='features'><span class=\"atf xft\" ><span class=\"f\">atf=</span>u₂</span><span class=\"damage xft\" ><span class=\"f\">damage=</span></span><span class=\"flags xft\" ><span class=\"f\">flags=</span></span><span class=\"missing xft\" ><span class=\"f\">missing=</span></span><span class=\"question xft\" ><span class=\"f\">question=</span></span></div></div></div></div></div></div><div class=\"contnr c1   lno rno \" ><div class=\"lbl c1  \" ><span class=\"nd\">word</span> <span class=\"txtt\">{u₂}ṣa-da-[na? </span></div><div class='features'><span class=\"atf xft\" ><span class=\"f\">atf=</span>{u₂}ṣa-da-n[a?</span><span class=\"damage xft\" ><span class=\"f\">damage=</span></span><span class=\"flags xft\" ><span class=\"f\">flags=</span></span><span class=\"missing xft\" ><span class=\"f\">missing=</span></span><span class=\"question xft\" ><span class=\"f\">question=</span></span></div><div class=\"children hor  \"><div class=\"contnr c0 trm   \" ><div class=\"lbl c0 trm \" ><span class=\"txtt\">ṣa-</span></div><div class='features'><span class=\"atf xft\" ><span class=\"f\">atf=</span>ṣa</span><span class=\"damage xft\" ><span class=\"f\">damage=</span></span><span class=\"flags xft\" ><span class=\"f\">flags=</span></span><span class=\"missing xft\" ><span class=\"f\">missing=</span></span><span class=\"question xft\" ><span class=\"f\">question=</span></span></div></div><div class=\"contnr c0 trm   \" ><div class=\"lbl c0 trm \" ><span class=\"txtt\">da-</span></div><div class='features'><span class=\"atf xft\" ><span class=\"f\">atf=</span>da</span><span class=\"damage xft\" ><span class=\"f\">damage=</span></span><span class=\"flags xft\" ><span class=\"f\">flags=</span></span><span class=\"missing xft\" ><span class=\"f\">missing=</span></span><span class=\"question xft\" ><span class=\"f\">question=</span></span></div></div></div></div><div class=\"contnr c2    \" ><div class=\"lbl c2  \" ><span class=\"nd\">cluster</span></div><div class='features'><span class=\"atf xft\" ><span class=\"f\">atf=</span></span><span class=\"damage xft\" ><span class=\"f\">damage=</span></span><span class=\"flags xft\" ><span class=\"f\">flags=</span></span><span class=\"missing xft\" ><span class=\"f\">missing=</span></span><span class=\"question xft\" ><span class=\"f\">question=</span></span></div><div class=\"children hor wrap \"><div class=\"contnr c1   lno \" ><div class=\"lbl c1  \" ><span class=\"nd\">word</span> <span class=\"txtt\">{u₂}ṣa-da-[na? </span></div><div class='features'><span class=\"atf xft\" ><span class=\"f\">atf=</span>{u₂}ṣa-da-n[a?</span><span class=\"damage xft\" ><span class=\"f\">damage=</span></span><span class=\"flags xft\" ><span class=\"f\">flags=</span></span><span class=\"missing xft\" ><span class=\"f\">missing=</span></span><span class=\"question xft\" ><span class=\"f\">question=</span></span></div><div class=\"children hor  \"><div class=\"contnr c0 trm   hl\"  style=\"background-color: cyan;\" ><div class=\"lbl c0 trm hl\"  style=\"background-color: cyan;\" ><span class=\"txtt\">[na? </span></div><div class='features'><span class=\"atf xft\" ><span class=\"f\">atf=</span>na?</span><span class=\"damage xft\" ><span class=\"f\">damage=</span></span><span class=\"flags xft\" ><span class=\"f\">flags=</span>?</span><span class=\"missing xft\" ><span class=\"f\">missing=</span>1</span><span class=\"question xft\" ><span class=\"f\">question=</span>1</span></div></div></div></div><div class=\"contnr c1    \" ><div class=\"lbl c1  \" ><span class=\"nd\">word</span> <span class=\"txtt\">...] </span></div><div class='features'><span class=\"atf xft\" ><span class=\"f\">atf=</span>...]</span><span class=\"damage xft\" ><span class=\"f\">damage=</span></span><span class=\"flags xft\" ><span class=\"f\">flags=</span></span><span class=\"missing xft\" ><span class=\"f\">missing=</span></span><span class=\"question xft\" ><span class=\"f\">question=</span></span></div><div class=\"children hor  \"><div class=\"contnr c0 trm   hl\"  style=\"background-color: magenta;\" ><div class=\"lbl c0 trm hl\"  style=\"background-color: magenta;\" ><span class=\"txtt\">...] </span></div><div class='features'><span class=\"atf xft\" ><span class=\"f\">atf=</span>...</span><span class=\"damage xft\" ><span class=\"f\">damage=</span></span><span class=\"flags xft\" ><span class=\"f\">flags=</span></span><span class=\"missing xft\" ><span class=\"f\">missing=</span>1</span><span class=\"question xft\" ><span class=\"f\">question=</span></span></div></div></div></div></div></div><div class=\"contnr c1    \" ><div class=\"lbl c1  \" ><span class=\"nd\">word</span> <span class=\"txtt\">ina# </span></div><div class='features'><span class=\"atf xft\" ><span class=\"f\">atf=</span>ina#</span><span class=\"damage xft\" ><span class=\"f\">damage=</span></span><span class=\"flags xft\" ><span class=\"f\">flags=</span></span><span class=\"missing xft\" ><span class=\"f\">missing=</span></span><span class=\"question xft\" ><span class=\"f\">question=</span></span></div><div class=\"children hor  \"><div class=\"contnr c0 trm   hl\"  style=\"background-color: lightsalmon;\" ><div class=\"lbl c0 trm hl\"  style=\"background-color: lightsalmon;\" ><span class=\"txtt\">ina# </span></div><div class='features'><span class=\"atf xft\" ><span class=\"f\">atf=</span>ina#</span><span class=\"damage xft\" ><span class=\"f\">damage=</span>1</span><span class=\"flags xft\" ><span class=\"f\">flags=</span>#</span><span class=\"missing xft\" ><span class=\"f\">missing=</span></span><span class=\"question xft\" ><span class=\"f\">question=</span></span></div></div></div></div><div class=\"contnr c1    \" ><div class=\"lbl c1  \" ><span class=\"nd\">word</span> <span class=\"txtt\">GA# </span></div><div class='features'><span class=\"atf xft\" ><span class=\"f\">atf=</span>GA#</span><span class=\"damage xft\" ><span class=\"f\">damage=</span></span><span class=\"flags xft\" ><span class=\"f\">flags=</span></span><span class=\"missing xft\" ><span class=\"f\">missing=</span></span><span class=\"question xft\" ><span class=\"f\">question=</span></span></div><div class=\"children hor  \"><div class=\"contnr c0 trm   \" ><div class=\"lbl c0 trm \" ><span class=\"txtt\">GA# </span></div><div class='features'><span class=\"atf xft\" ><span class=\"f\">atf=</span>GA#</span><span class=\"damage xft\" ><span class=\"f\">damage=</span>1</span><span class=\"flags xft\" ><span class=\"f\">flags=</span>#</span><span class=\"missing xft\" ><span class=\"f\">missing=</span></span><span class=\"question xft\" ><span class=\"f\">question=</span></span></div></div></div></div><div class=\"contnr c1    \" ><div class=\"lbl c1  \" ><span class=\"nd\">word</span> <span class=\"txtt\">SILA₁₁-aš </span></div><div class='features'><span class=\"atf xft\" ><span class=\"f\">atf=</span>SILA₁₁-aš</span><span class=\"damage xft\" ><span class=\"f\">damage=</span></span><span class=\"flags xft\" ><span class=\"f\">flags=</span></span><span class=\"missing xft\" ><span class=\"f\">missing=</span></span><span class=\"question xft\" ><span class=\"f\">question=</span></span></div><div class=\"children hor  \"><div class=\"contnr c0 trm   \" ><div class=\"lbl c0 trm \" ><span class=\"txtt\">SILA₁₁-</span></div><div class='features'><span class=\"atf xft\" ><span class=\"f\">atf=</span>SILA₁₁</span><span class=\"damage xft\" ><span class=\"f\">damage=</span></span><span class=\"flags xft\" ><span class=\"f\">flags=</span></span><span class=\"missing xft\" ><span class=\"f\">missing=</span></span><span class=\"question xft\" ><span class=\"f\">question=</span></span></div></div><div class=\"contnr c0 trm   \" ><div class=\"lbl c0 trm \" ><span class=\"txtt\">aš </span></div><div class='features'><span class=\"atf xft\" ><span class=\"f\">atf=</span>aš</span><span class=\"damage xft\" ><span class=\"f\">damage=</span></span><span class=\"flags xft\" ><span class=\"f\">flags=</span></span><span class=\"missing xft\" ><span class=\"f\">missing=</span></span><span class=\"question xft\" ><span class=\"f\">question=</span></span></div></div></div></div><div class=\"contnr c1    \" ><div class=\"lbl c1  \" ><span class=\"nd\">word</span> <span class=\"txtt\">SAR-ab </span></div><div class='features'><span class=\"atf xft\" ><span class=\"f\">atf=</span>SAR-ab</span><span class=\"damage xft\" ><span class=\"f\">damage=</span></span><span class=\"flags xft\" ><span class=\"f\">flags=</span></span><span class=\"missing xft\" ><span class=\"f\">missing=</span></span><span class=\"question xft\" ><span class=\"f\">question=</span></span></div><div class=\"children hor  \"><div class=\"contnr c0 trm   \" ><div class=\"lbl c0 trm \" ><span class=\"txtt\">SAR-</span></div><div class='features'><span class=\"atf xft\" ><span class=\"f\">atf=</span>SAR</span><span class=\"damage xft\" ><span class=\"f\">damage=</span></span><span class=\"flags xft\" ><span class=\"f\">flags=</span></span><span class=\"missing xft\" ><span class=\"f\">missing=</span></span><span class=\"question xft\" ><span class=\"f\">question=</span></span></div></div><div class=\"contnr c0 trm   \" ><div class=\"lbl c0 trm \" ><span class=\"txtt\">ab </span></div><div class='features'><span class=\"atf xft\" ><span class=\"f\">atf=</span>ab</span><span class=\"damage xft\" ><span class=\"f\">damage=</span></span><span class=\"flags xft\" ><span class=\"f\">flags=</span></span><span class=\"missing xft\" ><span class=\"f\">missing=</span></span><span class=\"question xft\" ><span class=\"f\">question=</span></span></div></div></div></div><div class=\"contnr c1    \" ><div class=\"lbl c1  \" ><span class=\"nd\">word</span> <span class=\"txtt\">KI </span></div><div class='features'><span class=\"atf xft\" ><span class=\"f\">atf=</span>KI</span><span class=\"damage xft\" ><span class=\"f\">damage=</span></span><span class=\"flags xft\" ><span class=\"f\">flags=</span></span><span class=\"missing xft\" ><span class=\"f\">missing=</span></span><span class=\"question xft\" ><span class=\"f\">question=</span></span></div><div class=\"children hor  \"><div class=\"contnr c0 trm   \" ><div class=\"lbl c0 trm \" ><span class=\"txtt\">KI </span></div><div class='features'><span class=\"atf xft\" ><span class=\"f\">atf=</span>KI</span><span class=\"damage xft\" ><span class=\"f\">damage=</span></span><span class=\"flags xft\" ><span class=\"f\">flags=</span></span><span class=\"missing xft\" ><span class=\"f\">missing=</span></span><span class=\"question xft\" ><span class=\"f\">question=</span></span></div></div></div></div><div class=\"contnr c1    \" ><div class=\"lbl c1  \" ><span class=\"nd\">word</span> <span class=\"txtt\">MIN\n",
       "</span></div><div class='features'><span class=\"atf xft\" ><span class=\"f\">atf=</span>MIN</span><span class=\"damage xft\" ><span class=\"f\">damage=</span></span><span class=\"flags xft\" ><span class=\"f\">flags=</span></span><span class=\"missing xft\" ><span class=\"f\">missing=</span></span><span class=\"question xft\" ><span class=\"f\">question=</span></span></div><div class=\"children hor  \"><div class=\"contnr c0 trm   \" ><div class=\"lbl c0 trm \" ><span class=\"txtt\">MIN\n",
       "</span></div><div class='features'><span class=\"atf xft\" ><span class=\"f\">atf=</span>MIN</span><span class=\"damage xft\" ><span class=\"f\">damage=</span></span><span class=\"flags xft\" ><span class=\"f\">flags=</span></span><span class=\"missing xft\" ><span class=\"f\">missing=</span></span><span class=\"question xft\" ><span class=\"f\">question=</span></span></div></div></div></div></div></div></div>"
      ],
      "text/plain": [
       "<IPython.core.display.HTML object>"
      ]
     },
     "metadata": {},
     "output_type": "display_data"
    }
   ],
   "source": [
    "A.displaySetup(noneValues=set())\n",
    "A.show(\n",
    "    results,\n",
    "    start=3,\n",
    "    end=3,\n",
    "    baseTypes=\"sign\",\n",
    "    colorMap={0: \"\", 2: \"cyan\", 3: \"magenta\", 4: \"lightsalmon\"},\n",
    ")"
   ]
  },
  {
   "cell_type": "markdown",
   "metadata": {},
   "source": [
    "This makes clear that it is convenient to keep `None` in the `noneValues`:"
   ]
  },
  {
   "cell_type": "code",
   "execution_count": 28,
   "metadata": {
    "ExecuteTime": {
     "end_time": "2018-05-24T07:50:03.094084Z",
     "start_time": "2018-05-24T07:50:03.080237Z"
    }
   },
   "outputs": [
    {
     "data": {
      "text/html": [
       "<p><b>result</b> <i>3</i></p>"
      ],
      "text/plain": [
       "<IPython.core.display.HTML object>"
      ]
     },
     "metadata": {},
     "output_type": "display_data"
    },
    {
     "data": {
      "text/html": [
       "<div class=\"tfsechead \"><span class=\"ltr\"><a target=\"_blank\" href=\"https://cdli.ucla.edu/search/search_results.php?SearchMode=Text&amp;ObjectID=P365742\" title=\"Show this document on CDLI\" sec=\"P365742 obverse:2:17\">P365742 obverse:2:17</a></span></div><div class=\" children\"><div class=\"contnr c3    \" ><div class=\"lbl c3  \" ><span class=\"nd\">line</span></div><div class='features'><span class=\"atf xft\" ><span class=\"f\">atf=</span>17. 1/3 SILA₃ {u₂}ṣa-da-n[a? ...] ina# GA# SILA₁₁-aš SAR-ab KI MIN</span></div><div class=\"children hor wrap \"><div class=\"contnr c1    \" ><div class=\"lbl c1  \" ><span class=\"nd\">word</span> <span class=\"txtt\">1/3 </span></div><div class='features'><span class=\"atf xft\" ><span class=\"f\">atf=</span>1/3</span></div><div class=\"children hor  \"><div class=\"contnr c0 trm   \" ><div class=\"lbl c0 trm \" ><span class=\"txtt\">1/</span></div><div class='features'><span class=\"atf xft\" ><span class=\"f\">atf=</span>1</span></div></div><div class=\"contnr c0 trm   \" ><div class=\"lbl c0 trm \" ><span class=\"txtt\">3 </span></div><div class='features'><span class=\"atf xft\" ><span class=\"f\">atf=</span>3</span></div></div></div></div><div class=\"contnr c1    \" ><div class=\"lbl c1  \" ><span class=\"nd\">word</span> <span class=\"txtt\">SILA₃ </span></div><div class='features'><span class=\"atf xft\" ><span class=\"f\">atf=</span>SILA₃</span></div><div class=\"children hor  \"><div class=\"contnr c0 trm   \" ><div class=\"lbl c0 trm \" ><span class=\"txtt\">SILA₃ </span></div><div class='features'><span class=\"atf xft\" ><span class=\"f\">atf=</span>SILA₃</span></div></div></div></div><div class=\"contnr c2    \" ><div class=\"lbl c2  \" ><span class=\"nd\">cluster</span></div><div class=\"children hor wrap \"><div class=\"contnr c1   rno \" ><div class=\"lbl c1  \" ><span class=\"nd\">word</span> <span class=\"txtt\">{u₂}ṣa-da-[na? </span></div><div class='features'><span class=\"atf xft\" ><span class=\"f\">atf=</span>{u₂}ṣa-da-n[a?</span></div><div class=\"children hor  \"><div class=\"contnr c0 trm   \" ><div class=\"lbl c0 trm \" ><span class=\"txtt\">{u₂}</span></div><div class='features'><span class=\"atf xft\" ><span class=\"f\">atf=</span>u₂</span></div></div></div></div></div></div><div class=\"contnr c1   lno rno \" ><div class=\"lbl c1  \" ><span class=\"nd\">word</span> <span class=\"txtt\">{u₂}ṣa-da-[na? </span></div><div class='features'><span class=\"atf xft\" ><span class=\"f\">atf=</span>{u₂}ṣa-da-n[a?</span></div><div class=\"children hor  \"><div class=\"contnr c0 trm   \" ><div class=\"lbl c0 trm \" ><span class=\"txtt\">ṣa-</span></div><div class='features'><span class=\"atf xft\" ><span class=\"f\">atf=</span>ṣa</span></div></div><div class=\"contnr c0 trm   \" ><div class=\"lbl c0 trm \" ><span class=\"txtt\">da-</span></div><div class='features'><span class=\"atf xft\" ><span class=\"f\">atf=</span>da</span></div></div></div></div><div class=\"contnr c2    \" ><div class=\"lbl c2  \" ><span class=\"nd\">cluster</span></div><div class=\"children hor wrap \"><div class=\"contnr c1   lno \" ><div class=\"lbl c1  \" ><span class=\"nd\">word</span> <span class=\"txtt\">{u₂}ṣa-da-[na? </span></div><div class='features'><span class=\"atf xft\" ><span class=\"f\">atf=</span>{u₂}ṣa-da-n[a?</span></div><div class=\"children hor  \"><div class=\"contnr c0 trm   hl\"  style=\"background-color: cyan;\" ><div class=\"lbl c0 trm hl\"  style=\"background-color: cyan;\" ><span class=\"txtt\">[na? </span></div><div class='features'><span class=\"atf xft\" ><span class=\"f\">atf=</span>na?</span><span class=\"flags xft\" ><span class=\"f\">flags=</span>?</span><span class=\"missing xft\" ><span class=\"f\">missing=</span>1</span><span class=\"question xft\" ><span class=\"f\">question=</span>1</span></div></div></div></div><div class=\"contnr c1    \" ><div class=\"lbl c1  \" ><span class=\"nd\">word</span> <span class=\"txtt\">...] </span></div><div class='features'><span class=\"atf xft\" ><span class=\"f\">atf=</span>...]</span></div><div class=\"children hor  \"><div class=\"contnr c0 trm   hl\"  style=\"background-color: magenta;\" ><div class=\"lbl c0 trm hl\"  style=\"background-color: magenta;\" ><span class=\"txtt\">...] </span></div><div class='features'><span class=\"atf xft\" ><span class=\"f\">atf=</span>...</span><span class=\"missing xft\" ><span class=\"f\">missing=</span>1</span></div></div></div></div></div></div><div class=\"contnr c1    \" ><div class=\"lbl c1  \" ><span class=\"nd\">word</span> <span class=\"txtt\">ina# </span></div><div class='features'><span class=\"atf xft\" ><span class=\"f\">atf=</span>ina#</span></div><div class=\"children hor  \"><div class=\"contnr c0 trm   hl\"  style=\"background-color: lightsalmon;\" ><div class=\"lbl c0 trm hl\"  style=\"background-color: lightsalmon;\" ><span class=\"txtt\">ina# </span></div><div class='features'><span class=\"atf xft\" ><span class=\"f\">atf=</span>ina#</span><span class=\"damage xft\" ><span class=\"f\">damage=</span>1</span><span class=\"flags xft\" ><span class=\"f\">flags=</span>#</span></div></div></div></div><div class=\"contnr c1    \" ><div class=\"lbl c1  \" ><span class=\"nd\">word</span> <span class=\"txtt\">GA# </span></div><div class='features'><span class=\"atf xft\" ><span class=\"f\">atf=</span>GA#</span></div><div class=\"children hor  \"><div class=\"contnr c0 trm   \" ><div class=\"lbl c0 trm \" ><span class=\"txtt\">GA# </span></div><div class='features'><span class=\"atf xft\" ><span class=\"f\">atf=</span>GA#</span><span class=\"damage xft\" ><span class=\"f\">damage=</span>1</span><span class=\"flags xft\" ><span class=\"f\">flags=</span>#</span></div></div></div></div><div class=\"contnr c1    \" ><div class=\"lbl c1  \" ><span class=\"nd\">word</span> <span class=\"txtt\">SILA₁₁-aš </span></div><div class='features'><span class=\"atf xft\" ><span class=\"f\">atf=</span>SILA₁₁-aš</span></div><div class=\"children hor  \"><div class=\"contnr c0 trm   \" ><div class=\"lbl c0 trm \" ><span class=\"txtt\">SILA₁₁-</span></div><div class='features'><span class=\"atf xft\" ><span class=\"f\">atf=</span>SILA₁₁</span></div></div><div class=\"contnr c0 trm   \" ><div class=\"lbl c0 trm \" ><span class=\"txtt\">aš </span></div><div class='features'><span class=\"atf xft\" ><span class=\"f\">atf=</span>aš</span></div></div></div></div><div class=\"contnr c1    \" ><div class=\"lbl c1  \" ><span class=\"nd\">word</span> <span class=\"txtt\">SAR-ab </span></div><div class='features'><span class=\"atf xft\" ><span class=\"f\">atf=</span>SAR-ab</span></div><div class=\"children hor  \"><div class=\"contnr c0 trm   \" ><div class=\"lbl c0 trm \" ><span class=\"txtt\">SAR-</span></div><div class='features'><span class=\"atf xft\" ><span class=\"f\">atf=</span>SAR</span></div></div><div class=\"contnr c0 trm   \" ><div class=\"lbl c0 trm \" ><span class=\"txtt\">ab </span></div><div class='features'><span class=\"atf xft\" ><span class=\"f\">atf=</span>ab</span></div></div></div></div><div class=\"contnr c1    \" ><div class=\"lbl c1  \" ><span class=\"nd\">word</span> <span class=\"txtt\">KI </span></div><div class='features'><span class=\"atf xft\" ><span class=\"f\">atf=</span>KI</span></div><div class=\"children hor  \"><div class=\"contnr c0 trm   \" ><div class=\"lbl c0 trm \" ><span class=\"txtt\">KI </span></div><div class='features'><span class=\"atf xft\" ><span class=\"f\">atf=</span>KI</span></div></div></div></div><div class=\"contnr c1    \" ><div class=\"lbl c1  \" ><span class=\"nd\">word</span> <span class=\"txtt\">MIN\n",
       "</span></div><div class='features'><span class=\"atf xft\" ><span class=\"f\">atf=</span>MIN</span></div><div class=\"children hor  \"><div class=\"contnr c0 trm   \" ><div class=\"lbl c0 trm \" ><span class=\"txtt\">MIN\n",
       "</span></div><div class='features'><span class=\"atf xft\" ><span class=\"f\">atf=</span>MIN</span></div></div></div></div></div></div></div>"
      ],
      "text/plain": [
       "<IPython.core.display.HTML object>"
      ]
     },
     "metadata": {},
     "output_type": "display_data"
    }
   ],
   "source": [
    "A.displaySetup(noneValues={None})\n",
    "A.show(\n",
    "    results,\n",
    "    start=3,\n",
    "    end=3,\n",
    "    baseTypes=\"sign\",\n",
    "    colorMap={0: \"\", 2: \"cyan\", 3: \"magenta\", 4: \"lightsalmon\"},\n",
    ")"
   ]
  },
  {
   "cell_type": "markdown",
   "metadata": {},
   "source": [
    "We can even choose to suppress other values, e.g. the value 1.\n",
    "\n",
    "That will remove all the features such as `question`, `missing`."
   ]
  },
  {
   "cell_type": "code",
   "execution_count": 29,
   "metadata": {
    "ExecuteTime": {
     "end_time": "2018-05-24T07:50:08.244221Z",
     "start_time": "2018-05-24T07:50:08.232311Z"
    }
   },
   "outputs": [
    {
     "data": {
      "text/html": [
       "<p><b>result</b> <i>3</i></p>"
      ],
      "text/plain": [
       "<IPython.core.display.HTML object>"
      ]
     },
     "metadata": {},
     "output_type": "display_data"
    },
    {
     "data": {
      "text/html": [
       "<div class=\"tfsechead \"><span class=\"ltr\"><a target=\"_blank\" href=\"https://cdli.ucla.edu/search/search_results.php?SearchMode=Text&amp;ObjectID=P365742\" title=\"Show this document on CDLI\" sec=\"P365742 obverse:2:17\">P365742 obverse:2:17</a></span></div><div class=\" children\"><div class=\"contnr c3    \" ><div class=\"lbl c3  \" ><span class=\"nd\">line</span></div><div class='features'><span class=\"atf xft\" ><span class=\"f\">atf=</span>17. 1/3 SILA₃ {u₂}ṣa-da-n[a? ...] ina# GA# SILA₁₁-aš SAR-ab KI MIN</span></div><div class=\"children hor wrap \"><div class=\"contnr c1    \" ><div class=\"lbl c1  \" ><span class=\"nd\">word</span> <span class=\"txtt\">1/3 </span></div><div class='features'><span class=\"atf xft\" ><span class=\"f\">atf=</span>1/3</span></div><div class=\"children hor  \"><div class=\"contnr c0 trm   \" ><div class=\"lbl c0 trm \" ><span class=\"txtt\">1/</span></div><div class='features'><span class=\"atf xft\" ><span class=\"f\">atf=</span>1</span></div></div><div class=\"contnr c0 trm   \" ><div class=\"lbl c0 trm \" ><span class=\"txtt\">3 </span></div><div class='features'><span class=\"atf xft\" ><span class=\"f\">atf=</span>3</span></div></div></div></div><div class=\"contnr c1    \" ><div class=\"lbl c1  \" ><span class=\"nd\">word</span> <span class=\"txtt\">SILA₃ </span></div><div class='features'><span class=\"atf xft\" ><span class=\"f\">atf=</span>SILA₃</span></div><div class=\"children hor  \"><div class=\"contnr c0 trm   \" ><div class=\"lbl c0 trm \" ><span class=\"txtt\">SILA₃ </span></div><div class='features'><span class=\"atf xft\" ><span class=\"f\">atf=</span>SILA₃</span></div></div></div></div><div class=\"contnr c2    \" ><div class=\"lbl c2  \" ><span class=\"nd\">cluster</span></div><div class=\"children hor wrap \"><div class=\"contnr c1   rno \" ><div class=\"lbl c1  \" ><span class=\"nd\">word</span> <span class=\"txtt\">{u₂}ṣa-da-[na? </span></div><div class='features'><span class=\"atf xft\" ><span class=\"f\">atf=</span>{u₂}ṣa-da-n[a?</span></div><div class=\"children hor  \"><div class=\"contnr c0 trm   \" ><div class=\"lbl c0 trm \" ><span class=\"txtt\">{u₂}</span></div><div class='features'><span class=\"atf xft\" ><span class=\"f\">atf=</span>u₂</span></div></div></div></div></div></div><div class=\"contnr c1   lno rno \" ><div class=\"lbl c1  \" ><span class=\"nd\">word</span> <span class=\"txtt\">{u₂}ṣa-da-[na? </span></div><div class='features'><span class=\"atf xft\" ><span class=\"f\">atf=</span>{u₂}ṣa-da-n[a?</span></div><div class=\"children hor  \"><div class=\"contnr c0 trm   \" ><div class=\"lbl c0 trm \" ><span class=\"txtt\">ṣa-</span></div><div class='features'><span class=\"atf xft\" ><span class=\"f\">atf=</span>ṣa</span></div></div><div class=\"contnr c0 trm   \" ><div class=\"lbl c0 trm \" ><span class=\"txtt\">da-</span></div><div class='features'><span class=\"atf xft\" ><span class=\"f\">atf=</span>da</span></div></div></div></div><div class=\"contnr c2    \" ><div class=\"lbl c2  \" ><span class=\"nd\">cluster</span></div><div class=\"children hor wrap \"><div class=\"contnr c1   lno \" ><div class=\"lbl c1  \" ><span class=\"nd\">word</span> <span class=\"txtt\">{u₂}ṣa-da-[na? </span></div><div class='features'><span class=\"atf xft\" ><span class=\"f\">atf=</span>{u₂}ṣa-da-n[a?</span></div><div class=\"children hor  \"><div class=\"contnr c0 trm   hl\"  style=\"background-color: cyan;\" ><div class=\"lbl c0 trm hl\"  style=\"background-color: cyan;\" ><span class=\"txtt\">[na? </span></div><div class='features'><span class=\"atf xft\" ><span class=\"f\">atf=</span>na?</span><span class=\"flags xft\" ><span class=\"f\">flags=</span>?</span></div></div></div></div><div class=\"contnr c1    \" ><div class=\"lbl c1  \" ><span class=\"nd\">word</span> <span class=\"txtt\">...] </span></div><div class='features'><span class=\"atf xft\" ><span class=\"f\">atf=</span>...]</span></div><div class=\"children hor  \"><div class=\"contnr c0 trm   hl\"  style=\"background-color: magenta;\" ><div class=\"lbl c0 trm hl\"  style=\"background-color: magenta;\" ><span class=\"txtt\">...] </span></div><div class='features'><span class=\"atf xft\" ><span class=\"f\">atf=</span>...</span></div></div></div></div></div></div><div class=\"contnr c1    \" ><div class=\"lbl c1  \" ><span class=\"nd\">word</span> <span class=\"txtt\">ina# </span></div><div class='features'><span class=\"atf xft\" ><span class=\"f\">atf=</span>ina#</span></div><div class=\"children hor  \"><div class=\"contnr c0 trm   hl\"  style=\"background-color: lightsalmon;\" ><div class=\"lbl c0 trm hl\"  style=\"background-color: lightsalmon;\" ><span class=\"txtt\">ina# </span></div><div class='features'><span class=\"atf xft\" ><span class=\"f\">atf=</span>ina#</span><span class=\"flags xft\" ><span class=\"f\">flags=</span>#</span></div></div></div></div><div class=\"contnr c1    \" ><div class=\"lbl c1  \" ><span class=\"nd\">word</span> <span class=\"txtt\">GA# </span></div><div class='features'><span class=\"atf xft\" ><span class=\"f\">atf=</span>GA#</span></div><div class=\"children hor  \"><div class=\"contnr c0 trm   \" ><div class=\"lbl c0 trm \" ><span class=\"txtt\">GA# </span></div><div class='features'><span class=\"atf xft\" ><span class=\"f\">atf=</span>GA#</span><span class=\"flags xft\" ><span class=\"f\">flags=</span>#</span></div></div></div></div><div class=\"contnr c1    \" ><div class=\"lbl c1  \" ><span class=\"nd\">word</span> <span class=\"txtt\">SILA₁₁-aš </span></div><div class='features'><span class=\"atf xft\" ><span class=\"f\">atf=</span>SILA₁₁-aš</span></div><div class=\"children hor  \"><div class=\"contnr c0 trm   \" ><div class=\"lbl c0 trm \" ><span class=\"txtt\">SILA₁₁-</span></div><div class='features'><span class=\"atf xft\" ><span class=\"f\">atf=</span>SILA₁₁</span></div></div><div class=\"contnr c0 trm   \" ><div class=\"lbl c0 trm \" ><span class=\"txtt\">aš </span></div><div class='features'><span class=\"atf xft\" ><span class=\"f\">atf=</span>aš</span></div></div></div></div><div class=\"contnr c1    \" ><div class=\"lbl c1  \" ><span class=\"nd\">word</span> <span class=\"txtt\">SAR-ab </span></div><div class='features'><span class=\"atf xft\" ><span class=\"f\">atf=</span>SAR-ab</span></div><div class=\"children hor  \"><div class=\"contnr c0 trm   \" ><div class=\"lbl c0 trm \" ><span class=\"txtt\">SAR-</span></div><div class='features'><span class=\"atf xft\" ><span class=\"f\">atf=</span>SAR</span></div></div><div class=\"contnr c0 trm   \" ><div class=\"lbl c0 trm \" ><span class=\"txtt\">ab </span></div><div class='features'><span class=\"atf xft\" ><span class=\"f\">atf=</span>ab</span></div></div></div></div><div class=\"contnr c1    \" ><div class=\"lbl c1  \" ><span class=\"nd\">word</span> <span class=\"txtt\">KI </span></div><div class='features'><span class=\"atf xft\" ><span class=\"f\">atf=</span>KI</span></div><div class=\"children hor  \"><div class=\"contnr c0 trm   \" ><div class=\"lbl c0 trm \" ><span class=\"txtt\">KI </span></div><div class='features'><span class=\"atf xft\" ><span class=\"f\">atf=</span>KI</span></div></div></div></div><div class=\"contnr c1    \" ><div class=\"lbl c1  \" ><span class=\"nd\">word</span> <span class=\"txtt\">MIN\n",
       "</span></div><div class='features'><span class=\"atf xft\" ><span class=\"f\">atf=</span>MIN</span></div><div class=\"children hor  \"><div class=\"contnr c0 trm   \" ><div class=\"lbl c0 trm \" ><span class=\"txtt\">MIN\n",
       "</span></div><div class='features'><span class=\"atf xft\" ><span class=\"f\">atf=</span>MIN</span></div></div></div></div></div></div></div>"
      ],
      "text/plain": [
       "<IPython.core.display.HTML object>"
      ]
     },
     "metadata": {},
     "output_type": "display_data"
    }
   ],
   "source": [
    "A.displaySetup(noneValues={None, \"NA\", \"unknown\", 1})\n",
    "A.show(\n",
    "    results,\n",
    "    start=3,\n",
    "    end=3,\n",
    "    baseTypes=\"sign\",\n",
    "    colorMap={0: \"\", 2: \"cyan\", 3: \"magenta\", 4: \"lightsalmon\"},\n",
    ")"
   ]
  },
  {
   "cell_type": "markdown",
   "metadata": {},
   "source": [
    "In the rest of the notebook we stick to our normal setup, so we reset the extra features."
   ]
  },
  {
   "cell_type": "code",
   "execution_count": 30,
   "metadata": {
    "ExecuteTime": {
     "end_time": "2018-05-24T07:50:18.030145Z",
     "start_time": "2018-05-24T07:50:18.019245Z"
    }
   },
   "outputs": [
    {
     "data": {
      "text/html": [
       "<p><b>result</b> <i>3</i></p>"
      ],
      "text/plain": [
       "<IPython.core.display.HTML object>"
      ]
     },
     "metadata": {},
     "output_type": "display_data"
    },
    {
     "data": {
      "text/html": [
       "<div class=\"tfsechead \"><span class=\"ltr\"><a target=\"_blank\" href=\"https://cdli.ucla.edu/search/search_results.php?SearchMode=Text&amp;ObjectID=P365742\" title=\"Show this document on CDLI\" sec=\"P365742 obverse:2:17\">P365742 obverse:2:17</a></span></div><div class=\" children\"><div class=\"contnr c3    \" ><div class=\"lbl c3  \" ><span class=\"nd\">line</span></div><div class=\"children hor wrap \"><div class=\"contnr c1    \" ><div class=\"lbl c1  \" ><span class=\"nd\">word</span> <span class=\"txtt\">1/3 </span></div><div class=\"children hor  \"><div class=\"contnr c0 trm   \" ><div class=\"lbl c0 trm \" ><span class=\"txtt\">1/</span></div></div><div class=\"contnr c0 trm   \" ><div class=\"lbl c0 trm \" ><span class=\"txtt\">3 </span></div></div></div></div><div class=\"contnr c1    \" ><div class=\"lbl c1  \" ><span class=\"nd\">word</span> <span class=\"txtt\">SILA₃ </span></div><div class=\"children hor  \"><div class=\"contnr c0 trm   \" ><div class=\"lbl c0 trm \" ><span class=\"txtt\">SILA₃ </span></div></div></div></div><div class=\"contnr c2    \" ><div class=\"lbl c2  \" ><span class=\"nd\">cluster</span></div><div class=\"children hor wrap \"><div class=\"contnr c1   rno \" ><div class=\"lbl c1  \" ><span class=\"nd\">word</span> <span class=\"txtt\">{u₂}ṣa-da-[na? </span></div><div class=\"children hor  \"><div class=\"contnr c0 trm   \" ><div class=\"lbl c0 trm \" ><span class=\"txtt\">{u₂}</span></div></div></div></div></div></div><div class=\"contnr c1   lno rno \" ><div class=\"lbl c1  \" ><span class=\"nd\">word</span> <span class=\"txtt\">{u₂}ṣa-da-[na? </span></div><div class=\"children hor  \"><div class=\"contnr c0 trm   \" ><div class=\"lbl c0 trm \" ><span class=\"txtt\">ṣa-</span></div></div><div class=\"contnr c0 trm   \" ><div class=\"lbl c0 trm \" ><span class=\"txtt\">da-</span></div></div></div></div><div class=\"contnr c2    \" ><div class=\"lbl c2  \" ><span class=\"nd\">cluster</span></div><div class=\"children hor wrap \"><div class=\"contnr c1   lno \" ><div class=\"lbl c1  \" ><span class=\"nd\">word</span> <span class=\"txtt\">{u₂}ṣa-da-[na? </span></div><div class=\"children hor  \"><div class=\"contnr c0 trm   hl\"  style=\"background-color: cyan;\" ><div class=\"lbl c0 trm hl\"  style=\"background-color: cyan;\" ><span class=\"txtt\">[na? </span></div></div></div></div><div class=\"contnr c1    \" ><div class=\"lbl c1  \" ><span class=\"nd\">word</span> <span class=\"txtt\">...] </span></div><div class=\"children hor  \"><div class=\"contnr c0 trm   hl\"  style=\"background-color: magenta;\" ><div class=\"lbl c0 trm hl\"  style=\"background-color: magenta;\" ><span class=\"txtt\">...] </span></div></div></div></div></div></div><div class=\"contnr c1    \" ><div class=\"lbl c1  \" ><span class=\"nd\">word</span> <span class=\"txtt\">ina# </span></div><div class=\"children hor  \"><div class=\"contnr c0 trm   hl\"  style=\"background-color: lightsalmon;\" ><div class=\"lbl c0 trm hl\"  style=\"background-color: lightsalmon;\" ><span class=\"txtt\">ina# </span></div></div></div></div><div class=\"contnr c1    \" ><div class=\"lbl c1  \" ><span class=\"nd\">word</span> <span class=\"txtt\">GA# </span></div><div class=\"children hor  \"><div class=\"contnr c0 trm   \" ><div class=\"lbl c0 trm \" ><span class=\"txtt\">GA# </span></div></div></div></div><div class=\"contnr c1    \" ><div class=\"lbl c1  \" ><span class=\"nd\">word</span> <span class=\"txtt\">SILA₁₁-aš </span></div><div class=\"children hor  \"><div class=\"contnr c0 trm   \" ><div class=\"lbl c0 trm \" ><span class=\"txtt\">SILA₁₁-</span></div></div><div class=\"contnr c0 trm   \" ><div class=\"lbl c0 trm \" ><span class=\"txtt\">aš </span></div></div></div></div><div class=\"contnr c1    \" ><div class=\"lbl c1  \" ><span class=\"nd\">word</span> <span class=\"txtt\">SAR-ab </span></div><div class=\"children hor  \"><div class=\"contnr c0 trm   \" ><div class=\"lbl c0 trm \" ><span class=\"txtt\">SAR-</span></div></div><div class=\"contnr c0 trm   \" ><div class=\"lbl c0 trm \" ><span class=\"txtt\">ab </span></div></div></div></div><div class=\"contnr c1    \" ><div class=\"lbl c1  \" ><span class=\"nd\">word</span> <span class=\"txtt\">KI </span></div><div class=\"children hor  \"><div class=\"contnr c0 trm   \" ><div class=\"lbl c0 trm \" ><span class=\"txtt\">KI </span></div></div></div></div><div class=\"contnr c1    \" ><div class=\"lbl c1  \" ><span class=\"nd\">word</span> <span class=\"txtt\">MIN\n",
       "</span></div><div class=\"children hor  \"><div class=\"contnr c0 trm   \" ><div class=\"lbl c0 trm \" ><span class=\"txtt\">MIN\n",
       "</span></div></div></div></div></div></div></div>"
      ],
      "text/plain": [
       "<IPython.core.display.HTML object>"
      ]
     },
     "metadata": {},
     "output_type": "display_data"
    }
   ],
   "source": [
    "A.displayReset()\n",
    "A.show(\n",
    "    results,\n",
    "    start=3,\n",
    "    end=3,\n",
    "    baseTypes=\"sign\",\n",
    "    colorMap={0: \"\", 2: \"cyan\", 3: \"magenta\", 4: \"lightsalmon\"},\n",
    ")"
   ]
  },
  {
   "cell_type": "markdown",
   "metadata": {},
   "source": [
    "# Features from queries\n",
    "\n",
    "In earlier displays we saw the *types* of signs, because the query mentioned it.\n",
    "\n",
    "Suppose we want to display the type also here, then we can modify the query by mentioning the feature `type`.\n",
    "\n",
    "But we do not want to impose extra limitations, so we say `type*`, meaning: no conditions on type whatsoever."
   ]
  },
  {
   "cell_type": "code",
   "execution_count": 31,
   "metadata": {
    "ExecuteTime": {
     "end_time": "2018-05-24T07:47:14.547656Z",
     "start_time": "2018-05-24T07:47:14.544433Z"
    }
   },
   "outputs": [],
   "source": [
    "query = \"\"\"\n",
    "line\n",
    "  sign question=1 type*\n",
    "  <: sign missing=1\n",
    "  <: sign damage=1\n",
    "\"\"\""
   ]
  },
  {
   "cell_type": "code",
   "execution_count": 32,
   "metadata": {
    "ExecuteTime": {
     "end_time": "2018-05-24T07:48:04.746084Z",
     "start_time": "2018-05-24T07:48:03.223548Z"
    }
   },
   "outputs": [
    {
     "name": "stdout",
     "output_type": "stream",
     "text": [
      "  0.12s 12 results\n"
     ]
    },
    {
     "data": {
      "text/html": [
       "<p><b>result</b> <i>3</i></p>"
      ],
      "text/plain": [
       "<IPython.core.display.HTML object>"
      ]
     },
     "metadata": {},
     "output_type": "display_data"
    },
    {
     "data": {
      "text/html": [
       "<div class=\"tfsechead \"><span class=\"ltr\"><a target=\"_blank\" href=\"https://cdli.ucla.edu/search/search_results.php?SearchMode=Text&amp;ObjectID=P365742\" title=\"Show this document on CDLI\" sec=\"P365742 obverse:2:17\">P365742 obverse:2:17</a></span></div><div class=\" children\"><div class=\"contnr c3    \" ><div class=\"lbl c3  \" ><span class=\"nd\">line</span></div><div class=\"children hor wrap \"><div class=\"contnr c1 trm   \" ><div class=\"lbl c1 trm \" ><span class=\"nd\">word</span> <span class=\"txtt\"><span class=\"plain   \" ><span class=\"txtt\">1/</span><span class=\"txtt\">3 </span></span></span></div><div class='features'><span class=\"type xft\" ><span class=\"f\">type=</span>word</span></div></div><div class=\"contnr c1 trm   \" ><div class=\"lbl c1 trm \" ><span class=\"nd\">word</span> <span class=\"txtt\"><span class=\"plain   \" ><span class=\"txtt\">SILA₃ </span></span></span></div><div class='features'><span class=\"type xft\" ><span class=\"f\">type=</span>word</span></div></div><div class=\"contnr c2    \" ><div class=\"lbl c2  \" ><span class=\"nd\">cluster</span></div><div class='features'><span class=\"type xft\" ><span class=\"f\">type=</span>det</span></div><div class=\"children hor wrap \"><div class=\"contnr c1 trm  rno \" ><div class=\"lbl c1 trm \" ><span class=\"nd\">word</span> <span class=\"txtt\"><span class=\"plain  rno \" ><span class=\"txtt\">{u₂}</span></span></span></div><div class='features'><span class=\"type xft\" ><span class=\"f\">type=</span>word</span></div></div></div></div><div class=\"contnr c1 trm  lno rno \" ><div class=\"lbl c1 trm \" ><span class=\"nd\">word</span> <span class=\"txtt\"><span class=\"plain  lno rno \" ><span class=\"txtt\">ṣa-</span><span class=\"txtt\">da-</span></span></span></div><div class='features'><span class=\"type xft\" ><span class=\"f\">type=</span>word</span></div></div><div class=\"contnr c2    \" ><div class=\"lbl c2  \" ><span class=\"nd\">cluster</span></div><div class='features'><span class=\"type xft\" ><span class=\"f\">type=</span>missing</span></div><div class=\"children hor wrap \"><div class=\"contnr c1 trm  lno \" ><div class=\"lbl c1 trm \" ><span class=\"nd\">word</span> <span class=\"txtt\"><span class=\"plain  lno \" ><span class=\"plain   hl\"  style=\"background-color: cyan;\" ><span class=\"txtt\">[na? </span></span></span></span></div><div class='features'><span class=\"type xft\" ><span class=\"f\">type=</span>word</span></div></div><div class=\"contnr c1 trm   \" ><div class=\"lbl c1 trm \" ><span class=\"nd\">word</span> <span class=\"txtt\"><span class=\"plain   \" ><span class=\"plain   hl\"  style=\"background-color: magenta;\" ><span class=\"txtt\">...] </span></span></span></span></div><div class='features'><span class=\"type xft\" ><span class=\"f\">type=</span>word</span></div></div></div></div><div class=\"contnr c1 trm   \" ><div class=\"lbl c1 trm \" ><span class=\"nd\">word</span> <span class=\"txtt\"><span class=\"plain   \" ><span class=\"plain   hl\"  style=\"background-color: lightsalmon;\" ><span class=\"txtt\">ina# </span></span></span></span></div><div class='features'><span class=\"type xft\" ><span class=\"f\">type=</span>word</span></div></div><div class=\"contnr c1 trm   \" ><div class=\"lbl c1 trm \" ><span class=\"nd\">word</span> <span class=\"txtt\"><span class=\"plain   \" ><span class=\"txtt\">GA# </span></span></span></div><div class='features'><span class=\"type xft\" ><span class=\"f\">type=</span>word</span></div></div><div class=\"contnr c1 trm   \" ><div class=\"lbl c1 trm \" ><span class=\"nd\">word</span> <span class=\"txtt\"><span class=\"plain   \" ><span class=\"txtt\">SILA₁₁-</span><span class=\"txtt\">aš </span></span></span></div><div class='features'><span class=\"type xft\" ><span class=\"f\">type=</span>word</span></div></div><div class=\"contnr c1 trm   \" ><div class=\"lbl c1 trm \" ><span class=\"nd\">word</span> <span class=\"txtt\"><span class=\"plain   \" ><span class=\"txtt\">SAR-</span><span class=\"txtt\">ab </span></span></span></div><div class='features'><span class=\"type xft\" ><span class=\"f\">type=</span>word</span></div></div><div class=\"contnr c1 trm   \" ><div class=\"lbl c1 trm \" ><span class=\"nd\">word</span> <span class=\"txtt\"><span class=\"plain   \" ><span class=\"txtt\">KI </span></span></span></div><div class='features'><span class=\"type xft\" ><span class=\"f\">type=</span>word</span></div></div><div class=\"contnr c1 trm   \" ><div class=\"lbl c1 trm \" ><span class=\"nd\">word</span> <span class=\"txtt\"><span class=\"plain   \" ><span class=\"txtt\">MIN\n",
       "</span></span></span></div><div class='features'><span class=\"type xft\" ><span class=\"f\">type=</span>word</span></div></div></div></div></div>"
      ],
      "text/plain": [
       "<IPython.core.display.HTML object>"
      ]
     },
     "metadata": {},
     "output_type": "display_data"
    }
   ],
   "source": [
    "results = A.search(query)\n",
    "A.show(\n",
    "    results, start=3, end=3, colorMap={0: \"\", 2: \"cyan\", 3: \"magenta\", 4: \"lightsalmon\"}\n",
    ")"
   ]
  },
  {
   "cell_type": "markdown",
   "metadata": {},
   "source": [
    "We do not see the features, because they are `sign` features, and our display stops at the `word` level.\n",
    "But we can improve on that:"
   ]
  },
  {
   "cell_type": "code",
   "execution_count": 33,
   "metadata": {},
   "outputs": [
    {
     "data": {
      "text/html": [
       "<p><b>result</b> <i>3</i></p>"
      ],
      "text/plain": [
       "<IPython.core.display.HTML object>"
      ]
     },
     "metadata": {},
     "output_type": "display_data"
    },
    {
     "data": {
      "text/html": [
       "<div class=\"tfsechead \"><span class=\"ltr\"><a target=\"_blank\" href=\"https://cdli.ucla.edu/search/search_results.php?SearchMode=Text&amp;ObjectID=P365742\" title=\"Show this document on CDLI\" sec=\"P365742 obverse:2:17\">P365742 obverse:2:17</a></span></div><div class=\" children\"><div class=\"contnr c3    \" ><div class=\"lbl c3  \" ><span class=\"nd\">line</span></div><div class=\"children hor wrap \"><div class=\"contnr c1    \" ><div class=\"lbl c1  \" ><span class=\"nd\">word</span> <span class=\"txtt\">1/3 </span></div><div class='features'><span class=\"type xft\" ><span class=\"f\">type=</span>word</span></div><div class=\"children hor  \"><div class=\"contnr c0 trm   \" ><div class=\"lbl c0 trm \" ><span class=\"txtt\">1/</span></div><div class='features'><span class=\"type xft\" ><span class=\"f\">type=</span>numeral</span></div></div><div class=\"contnr c0 trm   \" ><div class=\"lbl c0 trm \" ><span class=\"txtt\">3 </span></div><div class='features'><span class=\"type xft\" ><span class=\"f\">type=</span>numeral</span></div></div></div></div><div class=\"contnr c1    \" ><div class=\"lbl c1  \" ><span class=\"nd\">word</span> <span class=\"txtt\">SILA₃ </span></div><div class='features'><span class=\"type xft\" ><span class=\"f\">type=</span>word</span></div><div class=\"children hor  \"><div class=\"contnr c0 trm   \" ><div class=\"lbl c0 trm \" ><span class=\"txtt\">SILA₃ </span></div><div class='features'><span class=\"type xft\" ><span class=\"f\">type=</span>grapheme</span></div></div></div></div><div class=\"contnr c2    \" ><div class=\"lbl c2  \" ><span class=\"nd\">cluster</span></div><div class='features'><span class=\"type xft\" ><span class=\"f\">type=</span>det</span></div><div class=\"children hor wrap \"><div class=\"contnr c1   rno \" ><div class=\"lbl c1  \" ><span class=\"nd\">word</span> <span class=\"txtt\">{u₂}ṣa-da-[na? </span></div><div class='features'><span class=\"type xft\" ><span class=\"f\">type=</span>word</span></div><div class=\"children hor  \"><div class=\"contnr c0 trm   \" ><div class=\"lbl c0 trm \" ><span class=\"txtt\">{u₂}</span></div><div class='features'><span class=\"type xft\" ><span class=\"f\">type=</span>reading</span></div></div></div></div></div></div><div class=\"contnr c1   lno rno \" ><div class=\"lbl c1  \" ><span class=\"nd\">word</span> <span class=\"txtt\">{u₂}ṣa-da-[na? </span></div><div class='features'><span class=\"type xft\" ><span class=\"f\">type=</span>word</span></div><div class=\"children hor  \"><div class=\"contnr c0 trm   \" ><div class=\"lbl c0 trm \" ><span class=\"txtt\">ṣa-</span></div><div class='features'><span class=\"type xft\" ><span class=\"f\">type=</span>reading</span></div></div><div class=\"contnr c0 trm   \" ><div class=\"lbl c0 trm \" ><span class=\"txtt\">da-</span></div><div class='features'><span class=\"type xft\" ><span class=\"f\">type=</span>reading</span></div></div></div></div><div class=\"contnr c2    \" ><div class=\"lbl c2  \" ><span class=\"nd\">cluster</span></div><div class='features'><span class=\"type xft\" ><span class=\"f\">type=</span>missing</span></div><div class=\"children hor wrap \"><div class=\"contnr c1   lno \" ><div class=\"lbl c1  \" ><span class=\"nd\">word</span> <span class=\"txtt\">{u₂}ṣa-da-[na? </span></div><div class='features'><span class=\"type xft\" ><span class=\"f\">type=</span>word</span></div><div class=\"children hor  \"><div class=\"contnr c0 trm   hl\"  style=\"background-color: cyan;\" ><div class=\"lbl c0 trm hl\"  style=\"background-color: cyan;\" ><span class=\"txtt\">[na? </span></div><div class='features'><span class=\"missing xft\" ><span class=\"f\">missing=</span>1</span><span class=\"question xft\" ><span class=\"f\">question=</span>1</span><span class=\"type xft\" ><span class=\"f\">type=</span>reading</span></div></div></div></div><div class=\"contnr c1    \" ><div class=\"lbl c1  \" ><span class=\"nd\">word</span> <span class=\"txtt\">...] </span></div><div class='features'><span class=\"type xft\" ><span class=\"f\">type=</span>word</span></div><div class=\"children hor  \"><div class=\"contnr c0 trm   hl\"  style=\"background-color: magenta;\" ><div class=\"lbl c0 trm hl\"  style=\"background-color: magenta;\" ><span class=\"txtt\">...] </span></div><div class='features'><span class=\"missing xft\" ><span class=\"f\">missing=</span>1</span><span class=\"type xft\" ><span class=\"f\">type=</span>ellipsis</span></div></div></div></div></div></div><div class=\"contnr c1    \" ><div class=\"lbl c1  \" ><span class=\"nd\">word</span> <span class=\"txtt\">ina# </span></div><div class='features'><span class=\"type xft\" ><span class=\"f\">type=</span>word</span></div><div class=\"children hor  \"><div class=\"contnr c0 trm   hl\"  style=\"background-color: lightsalmon;\" ><div class=\"lbl c0 trm hl\"  style=\"background-color: lightsalmon;\" ><span class=\"txtt\">ina# </span></div><div class='features'><span class=\"damage xft\" ><span class=\"f\">damage=</span>1</span><span class=\"type xft\" ><span class=\"f\">type=</span>reading</span></div></div></div></div><div class=\"contnr c1    \" ><div class=\"lbl c1  \" ><span class=\"nd\">word</span> <span class=\"txtt\">GA# </span></div><div class='features'><span class=\"type xft\" ><span class=\"f\">type=</span>word</span></div><div class=\"children hor  \"><div class=\"contnr c0 trm   \" ><div class=\"lbl c0 trm \" ><span class=\"txtt\">GA# </span></div><div class='features'><span class=\"damage xft\" ><span class=\"f\">damage=</span>1</span><span class=\"type xft\" ><span class=\"f\">type=</span>grapheme</span></div></div></div></div><div class=\"contnr c1    \" ><div class=\"lbl c1  \" ><span class=\"nd\">word</span> <span class=\"txtt\">SILA₁₁-aš </span></div><div class='features'><span class=\"type xft\" ><span class=\"f\">type=</span>word</span></div><div class=\"children hor  \"><div class=\"contnr c0 trm   \" ><div class=\"lbl c0 trm \" ><span class=\"txtt\">SILA₁₁-</span></div><div class='features'><span class=\"type xft\" ><span class=\"f\">type=</span>grapheme</span></div></div><div class=\"contnr c0 trm   \" ><div class=\"lbl c0 trm \" ><span class=\"txtt\">aš </span></div><div class='features'><span class=\"type xft\" ><span class=\"f\">type=</span>reading</span></div></div></div></div><div class=\"contnr c1    \" ><div class=\"lbl c1  \" ><span class=\"nd\">word</span> <span class=\"txtt\">SAR-ab </span></div><div class='features'><span class=\"type xft\" ><span class=\"f\">type=</span>word</span></div><div class=\"children hor  \"><div class=\"contnr c0 trm   \" ><div class=\"lbl c0 trm \" ><span class=\"txtt\">SAR-</span></div><div class='features'><span class=\"type xft\" ><span class=\"f\">type=</span>grapheme</span></div></div><div class=\"contnr c0 trm   \" ><div class=\"lbl c0 trm \" ><span class=\"txtt\">ab </span></div><div class='features'><span class=\"type xft\" ><span class=\"f\">type=</span>reading</span></div></div></div></div><div class=\"contnr c1    \" ><div class=\"lbl c1  \" ><span class=\"nd\">word</span> <span class=\"txtt\">KI </span></div><div class='features'><span class=\"type xft\" ><span class=\"f\">type=</span>word</span></div><div class=\"children hor  \"><div class=\"contnr c0 trm   \" ><div class=\"lbl c0 trm \" ><span class=\"txtt\">KI </span></div><div class='features'><span class=\"type xft\" ><span class=\"f\">type=</span>grapheme</span></div></div></div></div><div class=\"contnr c1    \" ><div class=\"lbl c1  \" ><span class=\"nd\">word</span> <span class=\"txtt\">MIN\n",
       "</span></div><div class='features'><span class=\"type xft\" ><span class=\"f\">type=</span>word</span></div><div class=\"children hor  \"><div class=\"contnr c0 trm   \" ><div class=\"lbl c0 trm \" ><span class=\"txtt\">MIN\n",
       "</span></div><div class='features'><span class=\"type xft\" ><span class=\"f\">type=</span>grapheme</span></div></div></div></div></div></div></div>"
      ],
      "text/plain": [
       "<IPython.core.display.HTML object>"
      ]
     },
     "metadata": {},
     "output_type": "display_data"
    }
   ],
   "source": [
    "A.show(\n",
    "    results,\n",
    "    start=3,\n",
    "    end=3,\n",
    "    baseTypes=\"sign\",\n",
    "    colorMap={0: \"\", 2: \"cyan\", 3: \"magenta\", 4: \"lightsalmon\"},\n",
    ")"
   ]
  },
  {
   "cell_type": "markdown",
   "metadata": {},
   "source": [
    "# Show your own tuples\n",
    "\n",
    "So far we have `show()`n the results of searches.\n",
    "But you can also construct your own tuples and show them.\n",
    "\n",
    "Whereas you can use search to get a pretty good approximation of what you want, most of the times\n",
    "you do not arrive precisely at your destination.\n",
    "\n",
    "Here is an example where we use search to come close, and then work our way to produce the end result.\n",
    "\n",
    "## More missing than damaged\n",
    "\n",
    "We look for lines that have more missing signs than damaged signs.\n",
    "\n",
    "In our search templates we cannot formulate that a feature has different values on two nodes in the template.\n",
    "We could spell out all possible combinations of values and make a search template for each of them,\n",
    "but that is needlessly complex.\n",
    "\n",
    "Let's first use search to find all clauses containing missing and damaged signs."
   ]
  },
  {
   "cell_type": "code",
   "execution_count": 34,
   "metadata": {
    "ExecuteTime": {
     "end_time": "2018-05-24T07:51:05.187418Z",
     "start_time": "2018-05-24T07:51:02.450365Z"
    }
   },
   "outputs": [
    {
     "name": "stdout",
     "output_type": "stream",
     "text": [
      "  0.12s 18517 results\n"
     ]
    }
   ],
   "source": [
    "query = \"\"\"\n",
    "line\n",
    "  sign missing\n",
    "  sign damage\n",
    "\"\"\"\n",
    "results = A.search(query)"
   ]
  },
  {
   "cell_type": "markdown",
   "metadata": {},
   "source": [
    "Now the hand coding begins. We are going to extract the tuples we want."
   ]
  },
  {
   "cell_type": "code",
   "execution_count": 35,
   "metadata": {
    "ExecuteTime": {
     "end_time": "2018-05-24T07:51:06.901462Z",
     "start_time": "2018-05-24T07:51:06.878281Z"
    }
   },
   "outputs": [
    {
     "name": "stdout",
     "output_type": "stream",
     "text": [
      "1411 lines\n"
     ]
    }
   ],
   "source": [
    "lines = {}\n",
    "for (l, m, d) in results:\n",
    "    lines.setdefault(l, (set(), set()))\n",
    "    lines[l][0].add(m)\n",
    "    lines[l][1].add(d)\n",
    "print(f\"{len(lines)} lines\")"
   ]
  },
  {
   "cell_type": "markdown",
   "metadata": {},
   "source": [
    "Now we have all lines with both missing and damaged signs, without duplicates.\n",
    "\n",
    "For each line we have a set with its missing signs and one with its damaged signs.\n",
    "\n",
    "We filter in order to retain the lines with more missing than damaged signs.\n",
    "We put all missing signs in one big set and all damaged signs in one big set."
   ]
  },
  {
   "cell_type": "code",
   "execution_count": 36,
   "metadata": {},
   "outputs": [
    {
     "data": {
      "text/plain": [
       "870"
      ]
     },
     "execution_count": 36,
     "metadata": {},
     "output_type": "execute_result"
    }
   ],
   "source": [
    "answer = []\n",
    "missing = set()\n",
    "damage = set()\n",
    "\n",
    "for (l, (m, d)) in lines.items():\n",
    "    if len(m) > len(d):\n",
    "        answer.append((l, *m, *d))\n",
    "        missing |= m\n",
    "        damage |= d\n",
    "len(answer)"
   ]
  },
  {
   "cell_type": "code",
   "execution_count": 37,
   "metadata": {},
   "outputs": [
    {
     "data": {
      "text/plain": [
       "(59315, 9, 10, 11, 12, 6)"
      ]
     },
     "execution_count": 37,
     "metadata": {},
     "output_type": "execute_result"
    }
   ],
   "source": [
    "answer[0]"
   ]
  },
  {
   "cell_type": "markdown",
   "metadata": {},
   "source": [
    "We are going to make a dictionary of highlights: one color for the missing signs and one for the damaged."
   ]
  },
  {
   "cell_type": "code",
   "execution_count": 38,
   "metadata": {},
   "outputs": [],
   "source": [
    "highlights = {}\n",
    "colorM = \"lightsalmon\"\n",
    "colorD = \"mediumaquamarine\"\n",
    "for s in missing:\n",
    "    highlights[s] = colorM\n",
    "for s in damage:\n",
    "    highlights[s] = colorD"
   ]
  },
  {
   "cell_type": "markdown",
   "metadata": {},
   "source": [
    "And now we can show them:"
   ]
  },
  {
   "cell_type": "code",
   "execution_count": 39,
   "metadata": {},
   "outputs": [
    {
     "data": {
      "text/html": [
       "<table><tr class=\"tf ltr\"><th class=\"tf ltr\">n</th><th class=\"tf ltr\">p</th><th class=\"tf ltr\">line</th><th class=\"tf\">sign</th><th class=\"tf\">sign</th><th class=\"tf\">sign</th><th class=\"tf\">sign</th><th class=\"tf\">sign</th></tr>\n",
       "<tr class=\"tf ltr\"><td class=\"tf ltr\">1</td><td class=\"tf ltr\"><span class=\"tfsechead ltr\"><span class=\"ltr\"><a target=\"_blank\" href=\"https://cdli.ucla.edu/search/search_results.php?SearchMode=Text&amp;ObjectID=P285136\" title=\"Show this document on CDLI\" sec=\"P285136 obverse:2'\">P285136 obverse:2'</a></span></span></td><td class=\"tf ltr\"><span class=\" ubd\"><span class=\"txtt\">5 </span><span class=\"plain   hl\"  style=\"background-color: mediumaquamarine;\" ><span class=\"txtt\">KA#.</span></span><span class=\"txtt\">INIM.</span><span class=\"txtt\">MA </span><span class=\"plain   hl\"  style=\"background-color: lightsalmon;\" ><span class=\"txtt\">[x </span></span><span class=\"plain   hl\"  style=\"background-color: lightsalmon;\" ><span class=\"txtt\">x </span></span><span class=\"plain   hl\"  style=\"background-color: lightsalmon;\" ><span class=\"txtt\">x </span></span><span class=\"plain   hl\"  style=\"background-color: lightsalmon;\" ><span class=\"txtt\">x]\n",
       "</span></span></span></td><td class=\"tf ltr\"><span class=\" ubd\"><span class=\"plain   hl\"  style=\"background-color: lightsalmon;\" ><span class=\"txtt\">[x </span></span></span></td><td class=\"tf ltr\"><span class=\" ubd\"><span class=\"plain   hl\"  style=\"background-color: lightsalmon;\" ><span class=\"txtt\">x </span></span></span></td><td class=\"tf ltr\"><span class=\" ubd\"><span class=\"plain   hl\"  style=\"background-color: lightsalmon;\" ><span class=\"txtt\">x </span></span></span></td><td class=\"tf ltr\"><span class=\" ubd\"><span class=\"plain   hl\"  style=\"background-color: lightsalmon;\" ><span class=\"txtt\">x]\n",
       "</span></span></span></td><td class=\"tf ltr\"><span class=\" ubd\"><span class=\"plain   hl\"  style=\"background-color: mediumaquamarine;\" ><span class=\"txtt\">KA#.</span></span></span></td></tr>\n",
       "<tr class=\"tf ltr\"><td class=\"tf ltr\">2</td><td class=\"tf ltr\"><span class=\"tfsechead ltr\"><span class=\"ltr\"><a target=\"_blank\" href=\"https://cdli.ucla.edu/search/search_results.php?SearchMode=Text&amp;ObjectID=P285136\" title=\"Show this document on CDLI\" sec=\"P285136 obverse:6'\">P285136 obverse:6'</a></span></span></td><td class=\"tf ltr\"><span class=\" ubd\"><span class=\"txtt\">EN₂ </span><span class=\"txtt\">ma-</span><span class=\"txtt\">mit </span><span class=\"txtt\">GIM </span><span class=\"txtt\">šar-</span><span class=\"txtt\">ra-</span><span class=\"txtt\">&lt;qi₂> </span><span class=\"txtt\">ina </span><span class=\"txtt\">KA₂ </span><span class=\"txtt\">pil-</span><span class=\"txtt\">ši </span><span class=\"txtt\">un </span><span class=\"txtt\">gi </span><span class=\"txtt\">ha </span><span class=\"plain   hl\"  style=\"background-color: mediumaquamarine;\" ><span class=\"txtt\">ba# </span></span><span class=\"plain   hl\"  style=\"background-color: lightsalmon;\" ><span class=\"txtt\">[x </span></span><span class=\"plain   hl\"  style=\"background-color: lightsalmon;\" ><span class=\"txtt\">x </span></span><span class=\"plain   hl\"  style=\"background-color: lightsalmon;\" ><span class=\"txtt\">x </span></span><span class=\"plain   hl\"  style=\"background-color: lightsalmon;\" ><span class=\"txtt\">x </span></span><span class=\"plain   hl\"  style=\"background-color: lightsalmon;\" ><span class=\"txtt\">x </span></span><span class=\"plain   hl\"  style=\"background-color: lightsalmon;\" ><span class=\"txtt\">x </span></span><span class=\"plain   hl\"  style=\"background-color: lightsalmon;\" ><span class=\"txtt\">x </span></span><span class=\"plain   hl\"  style=\"background-color: lightsalmon;\" ><span class=\"txtt\">x </span></span><span class=\"plain   hl\"  style=\"background-color: lightsalmon;\" ><span class=\"txtt\">x </span></span><span class=\"plain   hl\"  style=\"background-color: lightsalmon;\" ><span class=\"txtt\">x </span></span><span class=\"plain   hl\"  style=\"background-color: lightsalmon;\" ><span class=\"txtt\">x </span></span><span class=\"plain   hl\"  style=\"background-color: lightsalmon;\" ><span class=\"txtt\">x]\n",
       "</span></span></span></td><td class=\"tf ltr\"><span class=\" ubd\"><span class=\"plain   hl\"  style=\"background-color: lightsalmon;\" ><span class=\"txtt\">[x </span></span></span></td><td class=\"tf ltr\"><span class=\" ubd\"><span class=\"plain   hl\"  style=\"background-color: lightsalmon;\" ><span class=\"txtt\">x </span></span></span></td><td class=\"tf ltr\"><span class=\" ubd\"><span class=\"plain   hl\"  style=\"background-color: lightsalmon;\" ><span class=\"txtt\">x </span></span></span></td><td class=\"tf ltr\"><span class=\" ubd\"><span class=\"plain   hl\"  style=\"background-color: lightsalmon;\" ><span class=\"txtt\">x </span></span></span></td><td class=\"tf ltr\"><span class=\" ubd\"><span class=\"plain   hl\"  style=\"background-color: lightsalmon;\" ><span class=\"txtt\">x </span></span></span></td><td class=\"tf ltr\"><span class=\" ubd\"><span class=\"plain   hl\"  style=\"background-color: lightsalmon;\" ><span class=\"txtt\">x </span></span></span></td><td class=\"tf ltr\"><span class=\" ubd\"><span class=\"plain   hl\"  style=\"background-color: lightsalmon;\" ><span class=\"txtt\">x </span></span></span></td><td class=\"tf ltr\"><span class=\" ubd\"><span class=\"plain   hl\"  style=\"background-color: lightsalmon;\" ><span class=\"txtt\">x </span></span></span></td><td class=\"tf ltr\"><span class=\" ubd\"><span class=\"plain   hl\"  style=\"background-color: lightsalmon;\" ><span class=\"txtt\">x </span></span></span></td><td class=\"tf ltr\"><span class=\" ubd\"><span class=\"plain   hl\"  style=\"background-color: lightsalmon;\" ><span class=\"txtt\">x </span></span></span></td><td class=\"tf ltr\"><span class=\" ubd\"><span class=\"plain   hl\"  style=\"background-color: lightsalmon;\" ><span class=\"txtt\">x </span></span></span></td><td class=\"tf ltr\"><span class=\" ubd\"><span class=\"plain   hl\"  style=\"background-color: lightsalmon;\" ><span class=\"txtt\">x]\n",
       "</span></span></span></td><td class=\"tf ltr\"><span class=\" ubd\"><span class=\"plain   hl\"  style=\"background-color: mediumaquamarine;\" ><span class=\"txtt\">ba# </span></span></span></td></tr>\n",
       "<tr class=\"tf ltr\"><td class=\"tf ltr\">3</td><td class=\"tf ltr\"><span class=\"tfsechead ltr\"><span class=\"ltr\"><a target=\"_blank\" href=\"https://cdli.ucla.edu/search/search_results.php?SearchMode=Text&amp;ObjectID=P285136\" title=\"Show this document on CDLI\" sec=\"P285136 obverse:12'\">P285136 obverse:12'</a></span></span></td><td class=\"tf ltr\"><span class=\" ubd\"><span class=\"plain   hl\"  style=\"background-color: mediumaquamarine;\" ><span class=\"txtt\">DIŠ# </span></span><span class=\"txtt\">NA </span><span class=\"txtt\">SAG.</span><span class=\"txtt\">DU-</span><span class=\"txtt\">su </span><span class=\"txtt\">gur-</span><span class=\"txtt\">ru-</span><span class=\"txtt\">ud </span><span class=\"txtt\">sah-</span><span class=\"txtt\">le₂-</span><span class=\"txtt\">e </span><span class=\"txtt\">si-</span><span class=\"txtt\">ki-</span><span class=\"plain   hl\"  style=\"background-color: lightsalmon;\" ><span class=\"txtt\">[tu₂ </span></span><span class=\"plain   hl\"  style=\"background-color: lightsalmon;\" ><span class=\"txtt\">x </span></span><span class=\"plain   hl\"  style=\"background-color: lightsalmon;\" ><span class=\"txtt\">x </span></span><span class=\"plain   hl\"  style=\"background-color: lightsalmon;\" ><span class=\"txtt\">x </span></span><span class=\"plain   hl\"  style=\"background-color: lightsalmon;\" ><span class=\"txtt\">x </span></span><span class=\"plain   hl\"  style=\"background-color: lightsalmon;\" ><span class=\"txtt\">x </span></span><span class=\"plain   hl\"  style=\"background-color: lightsalmon;\" ><span class=\"txtt\">x </span></span><span class=\"plain   hl\"  style=\"background-color: lightsalmon;\" ><span class=\"txtt\">x </span></span><span class=\"plain   hl\"  style=\"background-color: lightsalmon;\" ><span class=\"txtt\">x </span></span><span class=\"plain   hl\"  style=\"background-color: lightsalmon;\" ><span class=\"txtt\">x </span></span><span class=\"plain   hl\"  style=\"background-color: lightsalmon;\" ><span class=\"txtt\">x </span></span><span class=\"plain   hl\"  style=\"background-color: lightsalmon;\" ><span class=\"txtt\">x </span></span><span class=\"plain   hl\"  style=\"background-color: lightsalmon;\" ><span class=\"txtt\">x </span></span><span class=\"plain   hl\"  style=\"background-color: lightsalmon;\" ><span class=\"txtt\">x </span></span><span class=\"plain   hl\"  style=\"background-color: lightsalmon;\" ><span class=\"txtt\">x </span></span><span class=\"plain   hl\"  style=\"background-color: lightsalmon;\" ><span class=\"txtt\">x </span></span><span class=\"plain   hl\"  style=\"background-color: lightsalmon;\" ><span class=\"txtt\">x </span></span><span class=\"plain   hl\"  style=\"background-color: lightsalmon;\" ><span class=\"txtt\">x </span></span><span class=\"plain   hl\"  style=\"background-color: lightsalmon;\" ><span class=\"txtt\">x]\n",
       "</span></span></span></td><td class=\"tf ltr\"><span class=\" ubd\"><span class=\"plain   hl\"  style=\"background-color: lightsalmon;\" ><span class=\"txtt\">[tu₂ </span></span></span></td><td class=\"tf ltr\"><span class=\" ubd\"><span class=\"plain   hl\"  style=\"background-color: lightsalmon;\" ><span class=\"txtt\">x </span></span></span></td><td class=\"tf ltr\"><span class=\" ubd\"><span class=\"plain   hl\"  style=\"background-color: lightsalmon;\" ><span class=\"txtt\">x </span></span></span></td><td class=\"tf ltr\"><span class=\" ubd\"><span class=\"plain   hl\"  style=\"background-color: lightsalmon;\" ><span class=\"txtt\">x </span></span></span></td><td class=\"tf ltr\"><span class=\" ubd\"><span class=\"plain   hl\"  style=\"background-color: lightsalmon;\" ><span class=\"txtt\">x </span></span></span></td><td class=\"tf ltr\"><span class=\" ubd\"><span class=\"plain   hl\"  style=\"background-color: lightsalmon;\" ><span class=\"txtt\">x </span></span></span></td><td class=\"tf ltr\"><span class=\" ubd\"><span class=\"plain   hl\"  style=\"background-color: lightsalmon;\" ><span class=\"txtt\">x </span></span></span></td><td class=\"tf ltr\"><span class=\" ubd\"><span class=\"plain   hl\"  style=\"background-color: lightsalmon;\" ><span class=\"txtt\">x </span></span></span></td><td class=\"tf ltr\"><span class=\" ubd\"><span class=\"plain   hl\"  style=\"background-color: lightsalmon;\" ><span class=\"txtt\">x </span></span></span></td><td class=\"tf ltr\"><span class=\" ubd\"><span class=\"plain   hl\"  style=\"background-color: lightsalmon;\" ><span class=\"txtt\">x </span></span></span></td><td class=\"tf ltr\"><span class=\" ubd\"><span class=\"plain   hl\"  style=\"background-color: lightsalmon;\" ><span class=\"txtt\">x </span></span></span></td><td class=\"tf ltr\"><span class=\" ubd\"><span class=\"plain   hl\"  style=\"background-color: lightsalmon;\" ><span class=\"txtt\">x </span></span></span></td><td class=\"tf ltr\"><span class=\" ubd\"><span class=\"plain   hl\"  style=\"background-color: lightsalmon;\" ><span class=\"txtt\">x </span></span></span></td><td class=\"tf ltr\"><span class=\" ubd\"><span class=\"plain   hl\"  style=\"background-color: lightsalmon;\" ><span class=\"txtt\">x </span></span></span></td><td class=\"tf ltr\"><span class=\" ubd\"><span class=\"plain   hl\"  style=\"background-color: lightsalmon;\" ><span class=\"txtt\">x </span></span></span></td><td class=\"tf ltr\"><span class=\" ubd\"><span class=\"plain   hl\"  style=\"background-color: lightsalmon;\" ><span class=\"txtt\">x </span></span></span></td><td class=\"tf ltr\"><span class=\" ubd\"><span class=\"plain   hl\"  style=\"background-color: lightsalmon;\" ><span class=\"txtt\">x </span></span></span></td><td class=\"tf ltr\"><span class=\" ubd\"><span class=\"plain   hl\"  style=\"background-color: lightsalmon;\" ><span class=\"txtt\">x </span></span></span></td><td class=\"tf ltr\"><span class=\" ubd\"><span class=\"plain   hl\"  style=\"background-color: lightsalmon;\" ><span class=\"txtt\">x]\n",
       "</span></span></span></td><td class=\"tf ltr\"><span class=\" ubd\"><span class=\"plain   hl\"  style=\"background-color: mediumaquamarine;\" ><span class=\"txtt\">DIŠ# </span></span></span></td></tr>\n",
       "<tr class=\"tf ltr\"><td class=\"tf ltr\">4</td><td class=\"tf ltr\"><span class=\"tfsechead ltr\"><span class=\"ltr\"><a target=\"_blank\" href=\"https://cdli.ucla.edu/search/search_results.php?SearchMode=Text&amp;ObjectID=P285136\" title=\"Show this document on CDLI\" sec=\"P285136 obverse:13'\">P285136 obverse:13'</a></span></span></td><td class=\"tf ltr\"><span class=\" ubd\"><span class=\"plain   hl\"  style=\"background-color: mediumaquamarine;\" ><span class=\"txtt\">ina# </span></span><span class=\"txtt\">A </span><span class=\"txtt\">NAGA </span><span class=\"txtt\">SAG.</span><span class=\"txtt\">DU-</span><span class=\"txtt\">su </span><span class=\"txtt\">LUH-</span><span class=\"txtt\">si </span><span class=\"txtt\">I₃.</span><span class=\"txtt\">GIŠ </span><span class=\"txtt\">EŠ.</span><span class=\"plain   hl\"  style=\"background-color: mediumaquamarine;\" ><span class=\"txtt\">MEŠ# </span></span><span class=\"plain   hl\"  style=\"background-color: lightsalmon;\" ><span class=\"txtt\">[x </span></span><span class=\"plain   hl\"  style=\"background-color: lightsalmon;\" ><span class=\"txtt\">x </span></span><span class=\"plain   hl\"  style=\"background-color: lightsalmon;\" ><span class=\"txtt\">x </span></span><span class=\"plain   hl\"  style=\"background-color: lightsalmon;\" ><span class=\"txtt\">x </span></span><span class=\"plain   hl\"  style=\"background-color: lightsalmon;\" ><span class=\"txtt\">x </span></span><span class=\"plain   hl\"  style=\"background-color: lightsalmon;\" ><span class=\"txtt\">x </span></span><span class=\"plain   hl\"  style=\"background-color: lightsalmon;\" ><span class=\"txtt\">x </span></span><span class=\"plain   hl\"  style=\"background-color: lightsalmon;\" ><span class=\"txtt\">x </span></span><span class=\"plain   hl\"  style=\"background-color: lightsalmon;\" ><span class=\"txtt\">x </span></span><span class=\"plain   hl\"  style=\"background-color: lightsalmon;\" ><span class=\"txtt\">x </span></span><span class=\"plain   hl\"  style=\"background-color: lightsalmon;\" ><span class=\"txtt\">x </span></span><span class=\"plain   hl\"  style=\"background-color: lightsalmon;\" ><span class=\"txtt\">x </span></span><span class=\"plain   hl\"  style=\"background-color: lightsalmon;\" ><span class=\"txtt\">x </span></span><span class=\"plain   hl\"  style=\"background-color: lightsalmon;\" ><span class=\"txtt\">x </span></span><span class=\"plain   hl\"  style=\"background-color: lightsalmon;\" ><span class=\"txtt\">x </span></span><span class=\"plain   hl\"  style=\"background-color: lightsalmon;\" ><span class=\"txtt\">x </span></span><span class=\"plain   hl\"  style=\"background-color: lightsalmon;\" ><span class=\"txtt\">x </span></span><span class=\"plain   hl\"  style=\"background-color: lightsalmon;\" ><span class=\"txtt\">x </span></span><span class=\"plain   hl\"  style=\"background-color: lightsalmon;\" ><span class=\"txtt\">x </span></span><span class=\"plain   hl\"  style=\"background-color: lightsalmon;\" ><span class=\"txtt\">x </span></span><span class=\"plain   hl\"  style=\"background-color: lightsalmon;\" ><span class=\"txtt\">x]\n",
       "</span></span></span></td><td class=\"tf ltr\"><span class=\" ubd\"><span class=\"plain   hl\"  style=\"background-color: lightsalmon;\" ><span class=\"txtt\">[x </span></span></span></td><td class=\"tf ltr\"><span class=\" ubd\"><span class=\"plain   hl\"  style=\"background-color: lightsalmon;\" ><span class=\"txtt\">x </span></span></span></td><td class=\"tf ltr\"><span class=\" ubd\"><span class=\"plain   hl\"  style=\"background-color: lightsalmon;\" ><span class=\"txtt\">x </span></span></span></td><td class=\"tf ltr\"><span class=\" ubd\"><span class=\"plain   hl\"  style=\"background-color: lightsalmon;\" ><span class=\"txtt\">x </span></span></span></td><td class=\"tf ltr\"><span class=\" ubd\"><span class=\"plain   hl\"  style=\"background-color: lightsalmon;\" ><span class=\"txtt\">x </span></span></span></td><td class=\"tf ltr\"><span class=\" ubd\"><span class=\"plain   hl\"  style=\"background-color: lightsalmon;\" ><span class=\"txtt\">x </span></span></span></td><td class=\"tf ltr\"><span class=\" ubd\"><span class=\"plain   hl\"  style=\"background-color: lightsalmon;\" ><span class=\"txtt\">x </span></span></span></td><td class=\"tf ltr\"><span class=\" ubd\"><span class=\"plain   hl\"  style=\"background-color: lightsalmon;\" ><span class=\"txtt\">x </span></span></span></td><td class=\"tf ltr\"><span class=\" ubd\"><span class=\"plain   hl\"  style=\"background-color: lightsalmon;\" ><span class=\"txtt\">x </span></span></span></td><td class=\"tf ltr\"><span class=\" ubd\"><span class=\"plain   hl\"  style=\"background-color: lightsalmon;\" ><span class=\"txtt\">x </span></span></span></td><td class=\"tf ltr\"><span class=\" ubd\"><span class=\"plain   hl\"  style=\"background-color: lightsalmon;\" ><span class=\"txtt\">x </span></span></span></td><td class=\"tf ltr\"><span class=\" ubd\"><span class=\"plain   hl\"  style=\"background-color: lightsalmon;\" ><span class=\"txtt\">x </span></span></span></td><td class=\"tf ltr\"><span class=\" ubd\"><span class=\"plain   hl\"  style=\"background-color: lightsalmon;\" ><span class=\"txtt\">x </span></span></span></td><td class=\"tf ltr\"><span class=\" ubd\"><span class=\"plain   hl\"  style=\"background-color: lightsalmon;\" ><span class=\"txtt\">x </span></span></span></td><td class=\"tf ltr\"><span class=\" ubd\"><span class=\"plain   hl\"  style=\"background-color: lightsalmon;\" ><span class=\"txtt\">x </span></span></span></td><td class=\"tf ltr\"><span class=\" ubd\"><span class=\"plain   hl\"  style=\"background-color: lightsalmon;\" ><span class=\"txtt\">x </span></span></span></td><td class=\"tf ltr\"><span class=\" ubd\"><span class=\"plain   hl\"  style=\"background-color: lightsalmon;\" ><span class=\"txtt\">x </span></span></span></td><td class=\"tf ltr\"><span class=\" ubd\"><span class=\"plain   hl\"  style=\"background-color: lightsalmon;\" ><span class=\"txtt\">x </span></span></span></td><td class=\"tf ltr\"><span class=\" ubd\"><span class=\"plain   hl\"  style=\"background-color: lightsalmon;\" ><span class=\"txtt\">x </span></span></span></td><td class=\"tf ltr\"><span class=\" ubd\"><span class=\"plain   hl\"  style=\"background-color: lightsalmon;\" ><span class=\"txtt\">x </span></span></span></td><td class=\"tf ltr\"><span class=\" ubd\"><span class=\"plain   hl\"  style=\"background-color: lightsalmon;\" ><span class=\"txtt\">x]\n",
       "</span></span></span></td><td class=\"tf ltr\"><span class=\" ubd\"><span class=\"plain   hl\"  style=\"background-color: mediumaquamarine;\" ><span class=\"txtt\">MEŠ# </span></span></span></td><td class=\"tf ltr\"><span class=\" ubd\"><span class=\"plain   hl\"  style=\"background-color: mediumaquamarine;\" ><span class=\"txtt\">ina# </span></span></span></td></tr>\n",
       "<tr class=\"tf ltr\"><td class=\"tf ltr\">5</td><td class=\"tf ltr\"><span class=\"tfsechead ltr\"><span class=\"ltr\"><a target=\"_blank\" href=\"https://cdli.ucla.edu/search/search_results.php?SearchMode=Text&amp;ObjectID=P285136\" title=\"Show this document on CDLI\" sec=\"P285136 obverse:15'\">P285136 obverse:15'</a></span></span></td><td class=\"tf ltr\"><span class=\" ubd\"><span class=\"plain   hl\"  style=\"background-color: lightsalmon;\" ><span class=\"txtt\">[{u₂}]</span></span><span class=\"plain   hl\"  style=\"background-color: mediumaquamarine;\" ><span class=\"txtt\">HAB# </span></span><span class=\"plain   hl\"  style=\"background-color: lightsalmon;\" ><span class=\"txtt\">[SUD₂ </span></span><span class=\"plain   hl\"  style=\"background-color: lightsalmon;\" ><span class=\"txtt\">MAR </span></span><span class=\"plain   hl\"  style=\"background-color: lightsalmon;\" ><span class=\"txtt\">{u₂}]</span></span><span class=\"plain   hl\"  style=\"background-color: mediumaquamarine;\" ><span class=\"txtt\">ZA#.</span></span><span class=\"plain   hl\"  style=\"background-color: lightsalmon;\" ><span class=\"txtt\">[BA.</span></span><span class=\"plain   hl\"  style=\"background-color: lightsalmon;\" ><span class=\"txtt\">LAM </span></span><span class=\"plain   hl\"  style=\"background-color: lightsalmon;\" ><span class=\"txtt\">...]\n",
       "</span></span></span></td><td class=\"tf ltr\"><span class=\" ubd\"><span class=\"plain   hl\"  style=\"background-color: lightsalmon;\" ><span class=\"txtt\">[{u₂}]</span></span></span></td><td class=\"tf ltr\"><span class=\" ubd\"><span class=\"plain   hl\"  style=\"background-color: lightsalmon;\" ><span class=\"txtt\">[SUD₂ </span></span></span></td><td class=\"tf ltr\"><span class=\" ubd\"><span class=\"plain   hl\"  style=\"background-color: lightsalmon;\" ><span class=\"txtt\">MAR </span></span></span></td><td class=\"tf ltr\"><span class=\" ubd\"><span class=\"plain   hl\"  style=\"background-color: lightsalmon;\" ><span class=\"txtt\">{u₂}]</span></span></span></td><td class=\"tf ltr\"><span class=\" ubd\"><span class=\"plain   hl\"  style=\"background-color: lightsalmon;\" ><span class=\"txtt\">[BA.</span></span></span></td><td class=\"tf ltr\"><span class=\" ubd\"><span class=\"plain   hl\"  style=\"background-color: lightsalmon;\" ><span class=\"txtt\">LAM </span></span></span></td><td class=\"tf ltr\"><span class=\" ubd\"><span class=\"plain   hl\"  style=\"background-color: lightsalmon;\" ><span class=\"txtt\">...]\n",
       "</span></span></span></td><td class=\"tf ltr\"><span class=\" ubd\"><span class=\"plain   hl\"  style=\"background-color: mediumaquamarine;\" ><span class=\"txtt\">HAB# </span></span></span></td><td class=\"tf ltr\"><span class=\" ubd\"><span class=\"plain   hl\"  style=\"background-color: mediumaquamarine;\" ><span class=\"txtt\">ZA#.</span></span></span></td></tr></table>"
      ],
      "text/plain": [
       "<IPython.core.display.HTML object>"
      ]
     },
     "metadata": {},
     "output_type": "display_data"
    }
   ],
   "source": [
    "A.table(answer, start=1, end=5, highlights=highlights)"
   ]
  },
  {
   "cell_type": "markdown",
   "metadata": {},
   "source": [
    "As you see, you have total control."
   ]
  },
  {
   "cell_type": "markdown",
   "metadata": {},
   "source": [
    "---\n",
    "\n",
    "All chapters:\n",
    "\n",
    "* **[start](start.ipynb)** become an expert in creating pretty displays of your text structures\n",
    "* **[display](display.ipynb)** become an expert in creating pretty displays of your text structures\n",
    "* **search** turbo charge your hand-coding with search templates\n",
    "* **[exportExcel](exportExcel.ipynb)** make tailor-made spreadsheets out of your results\n",
    "* **[similarLines](similarLines.ipynb)** spot the similarities between lines\n",
    "\n",
    "---\n",
    "\n",
    "See the [cookbook](cookbook) for recipes for small, concrete tasks.\n",
    "\n",
    "CC-BY Dirk Roorda"
   ]
  }
 ],
 "metadata": {
  "kernelspec": {
   "display_name": "Python 3 (ipykernel)",
   "language": "python",
   "name": "python3"
  },
  "language_info": {
   "codemirror_mode": {
    "name": "ipython",
    "version": 3
   },
   "file_extension": ".py",
   "mimetype": "text/x-python",
   "name": "python",
   "nbconvert_exporter": "python",
   "pygments_lexer": "ipython3",
   "version": "3.10.2"
  },
  "widgets": {
   "application/vnd.jupyter.widget-state+json": {
    "state": {},
    "version_major": 2,
    "version_minor": 0
   }
  }
 },
 "nbformat": 4,
 "nbformat_minor": 4
}
