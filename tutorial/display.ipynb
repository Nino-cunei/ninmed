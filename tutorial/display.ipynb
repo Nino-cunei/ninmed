{
 "cells": [
  {
   "cell_type": "markdown",
   "metadata": {},
   "source": [
    "<img align=\"right\" src=\"images/tf.png\" width=\"128\"/>\n",
    "<img align=\"right\" src=\"images/logo.png\" width=\"128\"/>\n",
    "<img align=\"right\" src=\"images/dans.png\" width=\"128\"/>\n",
    "\n",
    "---\n",
    "\n",
    "To get started: consult [start](start.ipynb)\n",
    "\n",
    "---\n",
    "\n",
    "# Display\n",
    "\n",
    "We show the ins and outs of displaying cuneiform ATF transcriptions."
   ]
  },
  {
   "cell_type": "code",
   "execution_count": 1,
   "metadata": {},
   "outputs": [],
   "source": [
    "%load_ext autoreload\n",
    "%autoreload 2"
   ]
  },
  {
   "cell_type": "code",
   "execution_count": 2,
   "metadata": {
    "ExecuteTime": {
     "end_time": "2018-05-18T09:17:16.202764Z",
     "start_time": "2018-05-18T09:17:16.197546Z"
    }
   },
   "outputs": [],
   "source": [
    "from tf.app import use"
   ]
  },
  {
   "cell_type": "code",
   "execution_count": 3,
   "metadata": {},
   "outputs": [
    {
     "data": {
      "text/html": [
       "<b title=\"local release\">TF-app:</b> <span title=\"rv0.2=#f59486bb5691d113a05d347091a5923ecacaeb66 offline under ~/text-fabric-data\">~/text-fabric-data/Nino-cunei/ninmed/app</span>"
      ],
      "text/plain": [
       "<IPython.core.display.HTML object>"
      ]
     },
     "metadata": {},
     "output_type": "display_data"
    },
    {
     "data": {
      "text/html": [
       "<b title=\"local release\">data:</b> <span title=\"rv0.2=#f59486bb5691d113a05d347091a5923ecacaeb66 offline under ~/text-fabric-data\">~/text-fabric-data/Nino-cunei/ninmed/tf/0.2</span>"
      ],
      "text/plain": [
       "<IPython.core.display.HTML object>"
      ]
     },
     "metadata": {},
     "output_type": "display_data"
    },
    {
     "name": "stdout",
     "output_type": "stream",
     "text": [
      "This is Text-Fabric 9.2.5\n",
      "Api reference : https://annotation.github.io/text-fabric/tf/cheatsheet.html\n",
      "\n",
      "45 features found and 0 ignored\n"
     ]
    },
    {
     "data": {
      "text/html": [
       "<b>Text-Fabric:</b> <a target=\"_blank\" href=\"https://annotation.github.io/text-fabric/tf/cheatsheet.html\" title=\"text-fabric-api\">Text-Fabric API 9.2.5</a>, <a target=\"_blank\" href=\"https://github.com/Nino-cunei/ninmed/blob/master/app\" title=\"Nino-cunei/ninmed TF-app\">Nino-cunei/ninmed/app  v3</a>, <a target=\"_blank\" href=\"https://annotation.github.io/text-fabric/tf/about/searchusage.html\" title=\"Search Templates Introduction and Reference\">Search Reference</a><br><b>Data:</b> <a target=\"_blank\" href=\"https://github.com/Nino-cunei/ninmed/blob/master/docs/about.md\" title=\"provenance of Nineveh Medical Encyclopedia 800 BCE: Cuneiform tablets\">NINMED</a>, <a target=\"_blank\" href=\"https://nbviewer.jupyter.org/github/Nino-cunei/tfFromAtf/blob/master/programs/mapReadings.ipynb\" title=\"mapping from readings to UNICODE\">Character table</a>, <a target=\"_blank\" href=\"https://github.com/Nino-cunei/ninmed/blob/master/docs/transcription.md\" title=\"NINMED feature documentation\">Feature docs</a><br><b>Features:</b><br>\n",
       "<details><summary><b>Nineveh Medical Encyclopedia 800 BCE: Cuneiform tablets</b></summary>\n",
       "    <div class=\"fcorpus\">\n",
       "\n",
       "<div class=\"frow\">\n",
       "    <div class=\"fnamecat \">\n",
       "<a target=\"_blank\" href=\"https://github.com/Nino-cunei/ninmed/blob/master/docs/transcription.md\" title=\"~/text-fabric-data/Nino-cunei/ninmed/tf/0.2/after.tf\">after</a>\n",
       "</div>\n",
       "<div class=\"fmono\">str</div>\n",
       "<details>\n",
       "    <summary>what comes after a sign or word (- or space)</summary>\n",
       "    <div class=\"fmeta\">\n",
       "\n",
       "<div class=\"fmetarow\">\n",
       "    <div class=\"fmetakey\">converters:</div>\n",
       "    <div>Cale Johnson, Dirk Roorda</div>\n",
       "</div>\n",
       "\n",
       "<div class=\"fmetarow\">\n",
       "    <div class=\"fmetakey\">dateWritten:</div>\n",
       "    <div>2022-02-06T13:00:36Z</div>\n",
       "</div>\n",
       "\n",
       "<div class=\"fmetarow\">\n",
       "    <div class=\"fmetakey\">editor:</div>\n",
       "    <div>Cale Johnson et al.</div>\n",
       "</div>\n",
       "\n",
       "<div class=\"fmetarow\">\n",
       "    <div class=\"fmetakey\">name:</div>\n",
       "    <div>NinMed Medical Texts from Nineveh</div>\n",
       "</div>\n",
       "\n",
       "<div class=\"fmetarow\">\n",
       "    <div class=\"fmetakey\">project:</div>\n",
       "    <div>BabMed</div>\n",
       "</div>\n",
       "\n",
       "<div class=\"fmetarow\">\n",
       "    <div class=\"fmetakey\">writtenBy:</div>\n",
       "    <div>Text-Fabric</div>\n",
       "</div>\n",
       "\n",
       "        </div>\n",
       "    </details>\n",
       "</div>\n",
       "\n",
       "<div class=\"frow\">\n",
       "    <div class=\"fnamecat \">\n",
       "<a target=\"_blank\" href=\"https://github.com/Nino-cunei/ninmed/blob/master/docs/transcription.md\" title=\"~/text-fabric-data/Nino-cunei/ninmed/tf/0.2/atf.tf\">atf</a>\n",
       "</div>\n",
       "<div class=\"fmono\">str</div>\n",
       "<details>\n",
       "    <summary>full atf of a sign</summary>\n",
       "    <div class=\"fmeta\">\n",
       "\n",
       "<div class=\"fmetarow\">\n",
       "    <div class=\"fmetakey\">converters:</div>\n",
       "    <div>Cale Johnson, Dirk Roorda</div>\n",
       "</div>\n",
       "\n",
       "<div class=\"fmetarow\">\n",
       "    <div class=\"fmetakey\">dateWritten:</div>\n",
       "    <div>2022-02-06T13:00:37Z</div>\n",
       "</div>\n",
       "\n",
       "<div class=\"fmetarow\">\n",
       "    <div class=\"fmetakey\">editor:</div>\n",
       "    <div>Cale Johnson et al.</div>\n",
       "</div>\n",
       "\n",
       "<div class=\"fmetarow\">\n",
       "    <div class=\"fmetakey\">name:</div>\n",
       "    <div>NinMed Medical Texts from Nineveh</div>\n",
       "</div>\n",
       "\n",
       "<div class=\"fmetarow\">\n",
       "    <div class=\"fmetakey\">project:</div>\n",
       "    <div>BabMed</div>\n",
       "</div>\n",
       "\n",
       "<div class=\"fmetarow\">\n",
       "    <div class=\"fmetakey\">writtenBy:</div>\n",
       "    <div>Text-Fabric</div>\n",
       "</div>\n",
       "\n",
       "        </div>\n",
       "    </details>\n",
       "</div>\n",
       "\n",
       "<div class=\"frow\">\n",
       "    <div class=\"fnamecat \">\n",
       "<a target=\"_blank\" href=\"https://github.com/Nino-cunei/ninmed/blob/master/docs/transcription.md\" title=\"~/text-fabric-data/Nino-cunei/ninmed/tf/0.2/col.tf\">col</a>\n",
       "</div>\n",
       "<div class=\"fmono\">int</div>\n",
       "<details>\n",
       "    <summary>ATF column number</summary>\n",
       "    <div class=\"fmeta\">\n",
       "\n",
       "<div class=\"fmetarow\">\n",
       "    <div class=\"fmetakey\">converters:</div>\n",
       "    <div>Cale Johnson, Dirk Roorda</div>\n",
       "</div>\n",
       "\n",
       "<div class=\"fmetarow\">\n",
       "    <div class=\"fmetakey\">dateWritten:</div>\n",
       "    <div>2022-02-06T13:00:37Z</div>\n",
       "</div>\n",
       "\n",
       "<div class=\"fmetarow\">\n",
       "    <div class=\"fmetakey\">editor:</div>\n",
       "    <div>Cale Johnson et al.</div>\n",
       "</div>\n",
       "\n",
       "<div class=\"fmetarow\">\n",
       "    <div class=\"fmetakey\">name:</div>\n",
       "    <div>NinMed Medical Texts from Nineveh</div>\n",
       "</div>\n",
       "\n",
       "<div class=\"fmetarow\">\n",
       "    <div class=\"fmetakey\">project:</div>\n",
       "    <div>BabMed</div>\n",
       "</div>\n",
       "\n",
       "<div class=\"fmetarow\">\n",
       "    <div class=\"fmetakey\">writtenBy:</div>\n",
       "    <div>Text-Fabric</div>\n",
       "</div>\n",
       "\n",
       "        </div>\n",
       "    </details>\n",
       "</div>\n",
       "\n",
       "<div class=\"frow\">\n",
       "    <div class=\"fnamecat \">\n",
       "<a target=\"_blank\" href=\"https://github.com/Nino-cunei/ninmed/blob/master/docs/transcription.md\" title=\"~/text-fabric-data/Nino-cunei/ninmed/tf/0.2/collated.tf\">collated</a>\n",
       "</div>\n",
       "<div class=\"fmono\">int</div>\n",
       "<details>\n",
       "    <summary>whether a sign is collated (*)</summary>\n",
       "    <div class=\"fmeta\">\n",
       "\n",
       "<div class=\"fmetarow\">\n",
       "    <div class=\"fmetakey\">converters:</div>\n",
       "    <div>Cale Johnson, Dirk Roorda</div>\n",
       "</div>\n",
       "\n",
       "<div class=\"fmetarow\">\n",
       "    <div class=\"fmetakey\">dateWritten:</div>\n",
       "    <div>2022-02-06T13:00:37Z</div>\n",
       "</div>\n",
       "\n",
       "<div class=\"fmetarow\">\n",
       "    <div class=\"fmetakey\">editor:</div>\n",
       "    <div>Cale Johnson et al.</div>\n",
       "</div>\n",
       "\n",
       "<div class=\"fmetarow\">\n",
       "    <div class=\"fmetakey\">name:</div>\n",
       "    <div>NinMed Medical Texts from Nineveh</div>\n",
       "</div>\n",
       "\n",
       "<div class=\"fmetarow\">\n",
       "    <div class=\"fmetakey\">project:</div>\n",
       "    <div>BabMed</div>\n",
       "</div>\n",
       "\n",
       "<div class=\"fmetarow\">\n",
       "    <div class=\"fmetakey\">writtenBy:</div>\n",
       "    <div>Text-Fabric</div>\n",
       "</div>\n",
       "\n",
       "        </div>\n",
       "    </details>\n",
       "</div>\n",
       "\n",
       "<div class=\"frow\">\n",
       "    <div class=\"fnamecat \">\n",
       "<a target=\"_blank\" href=\"https://github.com/Nino-cunei/ninmed/blob/master/docs/transcription.md\" title=\"~/text-fabric-data/Nino-cunei/ninmed/tf/0.2/collection.tf\">collection</a>\n",
       "</div>\n",
       "<div class=\"fmono\">str</div>\n",
       "<details>\n",
       "    <summary>collection name from metadata field \"collection\"</summary>\n",
       "    <div class=\"fmeta\">\n",
       "\n",
       "<div class=\"fmetarow\">\n",
       "    <div class=\"fmetakey\">converters:</div>\n",
       "    <div>Cale Johnson, Dirk Roorda</div>\n",
       "</div>\n",
       "\n",
       "<div class=\"fmetarow\">\n",
       "    <div class=\"fmetakey\">dateWritten:</div>\n",
       "    <div>2022-02-06T13:00:37Z</div>\n",
       "</div>\n",
       "\n",
       "<div class=\"fmetarow\">\n",
       "    <div class=\"fmetakey\">editor:</div>\n",
       "    <div>Cale Johnson et al.</div>\n",
       "</div>\n",
       "\n",
       "<div class=\"fmetarow\">\n",
       "    <div class=\"fmetakey\">name:</div>\n",
       "    <div>NinMed Medical Texts from Nineveh</div>\n",
       "</div>\n",
       "\n",
       "<div class=\"fmetarow\">\n",
       "    <div class=\"fmetakey\">project:</div>\n",
       "    <div>BabMed</div>\n",
       "</div>\n",
       "\n",
       "<div class=\"fmetarow\">\n",
       "    <div class=\"fmetakey\">writtenBy:</div>\n",
       "    <div>Text-Fabric</div>\n",
       "</div>\n",
       "\n",
       "        </div>\n",
       "    </details>\n",
       "</div>\n",
       "\n",
       "<div class=\"frow\">\n",
       "    <div class=\"fnamecat \">\n",
       "<a target=\"_blank\" href=\"https://github.com/Nino-cunei/ninmed/blob/master/docs/transcription.md\" title=\"~/text-fabric-data/Nino-cunei/ninmed/tf/0.2/colofon.tf\">colofon</a>\n",
       "</div>\n",
       "<div class=\"fmono\">str</div>\n",
       "<details>\n",
       "    <summary>colofon comment to a line</summary>\n",
       "    <div class=\"fmeta\">\n",
       "\n",
       "<div class=\"fmetarow\">\n",
       "    <div class=\"fmetakey\">converters:</div>\n",
       "    <div>Cale Johnson, Dirk Roorda</div>\n",
       "</div>\n",
       "\n",
       "<div class=\"fmetarow\">\n",
       "    <div class=\"fmetakey\">dateWritten:</div>\n",
       "    <div>2022-02-06T13:00:37Z</div>\n",
       "</div>\n",
       "\n",
       "<div class=\"fmetarow\">\n",
       "    <div class=\"fmetakey\">editor:</div>\n",
       "    <div>Cale Johnson et al.</div>\n",
       "</div>\n",
       "\n",
       "<div class=\"fmetarow\">\n",
       "    <div class=\"fmetakey\">name:</div>\n",
       "    <div>NinMed Medical Texts from Nineveh</div>\n",
       "</div>\n",
       "\n",
       "<div class=\"fmetarow\">\n",
       "    <div class=\"fmetakey\">project:</div>\n",
       "    <div>BabMed</div>\n",
       "</div>\n",
       "\n",
       "<div class=\"fmetarow\">\n",
       "    <div class=\"fmetakey\">writtenBy:</div>\n",
       "    <div>Text-Fabric</div>\n",
       "</div>\n",
       "\n",
       "        </div>\n",
       "    </details>\n",
       "</div>\n",
       "\n",
       "<div class=\"frow\">\n",
       "    <div class=\"fnamecat \">\n",
       "<a target=\"_blank\" href=\"https://github.com/Nino-cunei/ninmed/blob/master/docs/transcription.md\" title=\"~/text-fabric-data/Nino-cunei/ninmed/tf/0.2/comment.tf\">comment</a>\n",
       "</div>\n",
       "<div class=\"fmono\">str</div>\n",
       "<details>\n",
       "    <summary>comment to a line</summary>\n",
       "    <div class=\"fmeta\">\n",
       "\n",
       "<div class=\"fmetarow\">\n",
       "    <div class=\"fmetakey\">converters:</div>\n",
       "    <div>Cale Johnson, Dirk Roorda</div>\n",
       "</div>\n",
       "\n",
       "<div class=\"fmetarow\">\n",
       "    <div class=\"fmetakey\">dateWritten:</div>\n",
       "    <div>2022-02-06T13:00:37Z</div>\n",
       "</div>\n",
       "\n",
       "<div class=\"fmetarow\">\n",
       "    <div class=\"fmetakey\">editor:</div>\n",
       "    <div>Cale Johnson et al.</div>\n",
       "</div>\n",
       "\n",
       "<div class=\"fmetarow\">\n",
       "    <div class=\"fmetakey\">name:</div>\n",
       "    <div>NinMed Medical Texts from Nineveh</div>\n",
       "</div>\n",
       "\n",
       "<div class=\"fmetarow\">\n",
       "    <div class=\"fmetakey\">project:</div>\n",
       "    <div>BabMed</div>\n",
       "</div>\n",
       "\n",
       "<div class=\"fmetarow\">\n",
       "    <div class=\"fmetakey\">writtenBy:</div>\n",
       "    <div>Text-Fabric</div>\n",
       "</div>\n",
       "\n",
       "        </div>\n",
       "    </details>\n",
       "</div>\n",
       "\n",
       "<div class=\"frow\">\n",
       "    <div class=\"fnamecat \">\n",
       "<a target=\"_blank\" href=\"https://github.com/Nino-cunei/ninmed/blob/master/docs/transcription.md\" title=\"~/text-fabric-data/Nino-cunei/ninmed/tf/0.2/damage.tf\">damage</a>\n",
       "</div>\n",
       "<div class=\"fmono\">int</div>\n",
       "<details>\n",
       "    <summary>whether a sign is damaged</summary>\n",
       "    <div class=\"fmeta\">\n",
       "\n",
       "<div class=\"fmetarow\">\n",
       "    <div class=\"fmetakey\">converters:</div>\n",
       "    <div>Cale Johnson, Dirk Roorda</div>\n",
       "</div>\n",
       "\n",
       "<div class=\"fmetarow\">\n",
       "    <div class=\"fmetakey\">dateWritten:</div>\n",
       "    <div>2022-02-06T13:00:37Z</div>\n",
       "</div>\n",
       "\n",
       "<div class=\"fmetarow\">\n",
       "    <div class=\"fmetakey\">editor:</div>\n",
       "    <div>Cale Johnson et al.</div>\n",
       "</div>\n",
       "\n",
       "<div class=\"fmetarow\">\n",
       "    <div class=\"fmetakey\">name:</div>\n",
       "    <div>NinMed Medical Texts from Nineveh</div>\n",
       "</div>\n",
       "\n",
       "<div class=\"fmetarow\">\n",
       "    <div class=\"fmetakey\">project:</div>\n",
       "    <div>BabMed</div>\n",
       "</div>\n",
       "\n",
       "<div class=\"fmetarow\">\n",
       "    <div class=\"fmetakey\">writtenBy:</div>\n",
       "    <div>Text-Fabric</div>\n",
       "</div>\n",
       "\n",
       "        </div>\n",
       "    </details>\n",
       "</div>\n",
       "\n",
       "<div class=\"frow\">\n",
       "    <div class=\"fnamecat \">\n",
       "<a target=\"_blank\" href=\"https://github.com/Nino-cunei/ninmed/blob/master/docs/transcription.md\" title=\"~/text-fabric-data/Nino-cunei/ninmed/tf/0.2/description.tf\">description</a>\n",
       "</div>\n",
       "<div class=\"fmono\">str</div>\n",
       "<details>\n",
       "    <summary>description from metadata field \"description\"</summary>\n",
       "    <div class=\"fmeta\">\n",
       "\n",
       "<div class=\"fmetarow\">\n",
       "    <div class=\"fmetakey\">converters:</div>\n",
       "    <div>Cale Johnson, Dirk Roorda</div>\n",
       "</div>\n",
       "\n",
       "<div class=\"fmetarow\">\n",
       "    <div class=\"fmetakey\">dateWritten:</div>\n",
       "    <div>2022-02-06T13:00:37Z</div>\n",
       "</div>\n",
       "\n",
       "<div class=\"fmetarow\">\n",
       "    <div class=\"fmetakey\">editor:</div>\n",
       "    <div>Cale Johnson et al.</div>\n",
       "</div>\n",
       "\n",
       "<div class=\"fmetarow\">\n",
       "    <div class=\"fmetakey\">name:</div>\n",
       "    <div>NinMed Medical Texts from Nineveh</div>\n",
       "</div>\n",
       "\n",
       "<div class=\"fmetarow\">\n",
       "    <div class=\"fmetakey\">project:</div>\n",
       "    <div>BabMed</div>\n",
       "</div>\n",
       "\n",
       "<div class=\"fmetarow\">\n",
       "    <div class=\"fmetakey\">writtenBy:</div>\n",
       "    <div>Text-Fabric</div>\n",
       "</div>\n",
       "\n",
       "        </div>\n",
       "    </details>\n",
       "</div>\n",
       "\n",
       "<div class=\"frow\">\n",
       "    <div class=\"fnamecat \">\n",
       "<a target=\"_blank\" href=\"https://github.com/Nino-cunei/ninmed/blob/master/docs/transcription.md\" title=\"~/text-fabric-data/Nino-cunei/ninmed/tf/0.2/det.tf\">det</a>\n",
       "</div>\n",
       "<div class=\"fmono\">int</div>\n",
       "<details>\n",
       "    <summary>whether a sign is a determinative gloss - between { }</summary>\n",
       "    <div class=\"fmeta\">\n",
       "\n",
       "<div class=\"fmetarow\">\n",
       "    <div class=\"fmetakey\">converters:</div>\n",
       "    <div>Cale Johnson, Dirk Roorda</div>\n",
       "</div>\n",
       "\n",
       "<div class=\"fmetarow\">\n",
       "    <div class=\"fmetakey\">dateWritten:</div>\n",
       "    <div>2022-02-06T13:00:37Z</div>\n",
       "</div>\n",
       "\n",
       "<div class=\"fmetarow\">\n",
       "    <div class=\"fmetakey\">editor:</div>\n",
       "    <div>Cale Johnson et al.</div>\n",
       "</div>\n",
       "\n",
       "<div class=\"fmetarow\">\n",
       "    <div class=\"fmetakey\">name:</div>\n",
       "    <div>NinMed Medical Texts from Nineveh</div>\n",
       "</div>\n",
       "\n",
       "<div class=\"fmetarow\">\n",
       "    <div class=\"fmetakey\">project:</div>\n",
       "    <div>BabMed</div>\n",
       "</div>\n",
       "\n",
       "<div class=\"fmetarow\">\n",
       "    <div class=\"fmetakey\">writtenBy:</div>\n",
       "    <div>Text-Fabric</div>\n",
       "</div>\n",
       "\n",
       "        </div>\n",
       "    </details>\n",
       "</div>\n",
       "\n",
       "<div class=\"frow\">\n",
       "    <div class=\"fnamecat \">\n",
       "<a target=\"_blank\" href=\"https://github.com/Nino-cunei/ninmed/blob/master/docs/transcription.md\" title=\"~/text-fabric-data/Nino-cunei/ninmed/tf/0.2/docnumber.tf\">docnumber</a>\n",
       "</div>\n",
       "<div class=\"fmono\">str</div>\n",
       "<details>\n",
       "    <summary>document number from metadata field \"number\"</summary>\n",
       "    <div class=\"fmeta\">\n",
       "\n",
       "<div class=\"fmetarow\">\n",
       "    <div class=\"fmetakey\">converters:</div>\n",
       "    <div>Cale Johnson, Dirk Roorda</div>\n",
       "</div>\n",
       "\n",
       "<div class=\"fmetarow\">\n",
       "    <div class=\"fmetakey\">dateWritten:</div>\n",
       "    <div>2022-02-06T13:00:37Z</div>\n",
       "</div>\n",
       "\n",
       "<div class=\"fmetarow\">\n",
       "    <div class=\"fmetakey\">editor:</div>\n",
       "    <div>Cale Johnson et al.</div>\n",
       "</div>\n",
       "\n",
       "<div class=\"fmetarow\">\n",
       "    <div class=\"fmetakey\">name:</div>\n",
       "    <div>NinMed Medical Texts from Nineveh</div>\n",
       "</div>\n",
       "\n",
       "<div class=\"fmetarow\">\n",
       "    <div class=\"fmetakey\">project:</div>\n",
       "    <div>BabMed</div>\n",
       "</div>\n",
       "\n",
       "<div class=\"fmetarow\">\n",
       "    <div class=\"fmetakey\">writtenBy:</div>\n",
       "    <div>Text-Fabric</div>\n",
       "</div>\n",
       "\n",
       "        </div>\n",
       "    </details>\n",
       "</div>\n",
       "\n",
       "<div class=\"frow\">\n",
       "    <div class=\"fnamecat \">\n",
       "<a target=\"_blank\" href=\"https://github.com/Nino-cunei/ninmed/blob/master/docs/transcription.md\" title=\"~/text-fabric-data/Nino-cunei/ninmed/tf/0.2/excised.tf\">excised</a>\n",
       "</div>\n",
       "<div class=\"fmono\">int</div>\n",
       "<details>\n",
       "    <summary>whether a sign is excised - between << >></summary>\n",
       "    <div class=\"fmeta\">\n",
       "\n",
       "<div class=\"fmetarow\">\n",
       "    <div class=\"fmetakey\">converters:</div>\n",
       "    <div>Cale Johnson, Dirk Roorda</div>\n",
       "</div>\n",
       "\n",
       "<div class=\"fmetarow\">\n",
       "    <div class=\"fmetakey\">dateWritten:</div>\n",
       "    <div>2022-02-06T13:00:37Z</div>\n",
       "</div>\n",
       "\n",
       "<div class=\"fmetarow\">\n",
       "    <div class=\"fmetakey\">editor:</div>\n",
       "    <div>Cale Johnson et al.</div>\n",
       "</div>\n",
       "\n",
       "<div class=\"fmetarow\">\n",
       "    <div class=\"fmetakey\">name:</div>\n",
       "    <div>NinMed Medical Texts from Nineveh</div>\n",
       "</div>\n",
       "\n",
       "<div class=\"fmetarow\">\n",
       "    <div class=\"fmetakey\">project:</div>\n",
       "    <div>BabMed</div>\n",
       "</div>\n",
       "\n",
       "<div class=\"fmetarow\">\n",
       "    <div class=\"fmetakey\">writtenBy:</div>\n",
       "    <div>Text-Fabric</div>\n",
       "</div>\n",
       "\n",
       "        </div>\n",
       "    </details>\n",
       "</div>\n",
       "\n",
       "<div class=\"frow\">\n",
       "    <div class=\"fnamecat \">\n",
       "<a target=\"_blank\" href=\"https://github.com/Nino-cunei/ninmed/blob/master/docs/transcription.md\" title=\"~/text-fabric-data/Nino-cunei/ninmed/tf/0.2/face.tf\">face</a>\n",
       "</div>\n",
       "<div class=\"fmono\">str</div>\n",
       "<details>\n",
       "    <summary>full name of a face including the enclosing object</summary>\n",
       "    <div class=\"fmeta\">\n",
       "\n",
       "<div class=\"fmetarow\">\n",
       "    <div class=\"fmetakey\">converters:</div>\n",
       "    <div>Cale Johnson, Dirk Roorda</div>\n",
       "</div>\n",
       "\n",
       "<div class=\"fmetarow\">\n",
       "    <div class=\"fmetakey\">dateWritten:</div>\n",
       "    <div>2022-02-06T13:00:37Z</div>\n",
       "</div>\n",
       "\n",
       "<div class=\"fmetarow\">\n",
       "    <div class=\"fmetakey\">editor:</div>\n",
       "    <div>Cale Johnson et al.</div>\n",
       "</div>\n",
       "\n",
       "<div class=\"fmetarow\">\n",
       "    <div class=\"fmetakey\">name:</div>\n",
       "    <div>NinMed Medical Texts from Nineveh</div>\n",
       "</div>\n",
       "\n",
       "<div class=\"fmetarow\">\n",
       "    <div class=\"fmetakey\">project:</div>\n",
       "    <div>BabMed</div>\n",
       "</div>\n",
       "\n",
       "<div class=\"fmetarow\">\n",
       "    <div class=\"fmetakey\">writtenBy:</div>\n",
       "    <div>Text-Fabric</div>\n",
       "</div>\n",
       "\n",
       "        </div>\n",
       "    </details>\n",
       "</div>\n",
       "\n",
       "<div class=\"frow\">\n",
       "    <div class=\"fnamecat \">\n",
       "<a target=\"_blank\" href=\"https://github.com/Nino-cunei/ninmed/blob/master/docs/transcription.md\" title=\"~/text-fabric-data/Nino-cunei/ninmed/tf/0.2/flags.tf\">flags</a>\n",
       "</div>\n",
       "<div class=\"fmono\">str</div>\n",
       "<details>\n",
       "    <summary>sequence of flags after a sign</summary>\n",
       "    <div class=\"fmeta\">\n",
       "\n",
       "<div class=\"fmetarow\">\n",
       "    <div class=\"fmetakey\">converters:</div>\n",
       "    <div>Cale Johnson, Dirk Roorda</div>\n",
       "</div>\n",
       "\n",
       "<div class=\"fmetarow\">\n",
       "    <div class=\"fmetakey\">dateWritten:</div>\n",
       "    <div>2022-02-06T13:00:37Z</div>\n",
       "</div>\n",
       "\n",
       "<div class=\"fmetarow\">\n",
       "    <div class=\"fmetakey\">editor:</div>\n",
       "    <div>Cale Johnson et al.</div>\n",
       "</div>\n",
       "\n",
       "<div class=\"fmetarow\">\n",
       "    <div class=\"fmetakey\">name:</div>\n",
       "    <div>NinMed Medical Texts from Nineveh</div>\n",
       "</div>\n",
       "\n",
       "<div class=\"fmetarow\">\n",
       "    <div class=\"fmetakey\">project:</div>\n",
       "    <div>BabMed</div>\n",
       "</div>\n",
       "\n",
       "<div class=\"fmetarow\">\n",
       "    <div class=\"fmetakey\">writtenBy:</div>\n",
       "    <div>Text-Fabric</div>\n",
       "</div>\n",
       "\n",
       "        </div>\n",
       "    </details>\n",
       "</div>\n",
       "\n",
       "<div class=\"frow\">\n",
       "    <div class=\"fnamecat \">\n",
       "<a target=\"_blank\" href=\"https://github.com/Nino-cunei/ninmed/blob/master/docs/transcription.md\" title=\"~/text-fabric-data/Nino-cunei/ninmed/tf/0.2/gloss.tf\">gloss</a>\n",
       "</div>\n",
       "<div class=\"fmono\">int</div>\n",
       "<details>\n",
       "    <summary>whether a sign belongs to a gloss - between {( )}</summary>\n",
       "    <div class=\"fmeta\">\n",
       "\n",
       "<div class=\"fmetarow\">\n",
       "    <div class=\"fmetakey\">converters:</div>\n",
       "    <div>Cale Johnson, Dirk Roorda</div>\n",
       "</div>\n",
       "\n",
       "<div class=\"fmetarow\">\n",
       "    <div class=\"fmetakey\">dateWritten:</div>\n",
       "    <div>2022-02-06T13:00:37Z</div>\n",
       "</div>\n",
       "\n",
       "<div class=\"fmetarow\">\n",
       "    <div class=\"fmetakey\">editor:</div>\n",
       "    <div>Cale Johnson et al.</div>\n",
       "</div>\n",
       "\n",
       "<div class=\"fmetarow\">\n",
       "    <div class=\"fmetakey\">name:</div>\n",
       "    <div>NinMed Medical Texts from Nineveh</div>\n",
       "</div>\n",
       "\n",
       "<div class=\"fmetarow\">\n",
       "    <div class=\"fmetakey\">project:</div>\n",
       "    <div>BabMed</div>\n",
       "</div>\n",
       "\n",
       "<div class=\"fmetarow\">\n",
       "    <div class=\"fmetakey\">writtenBy:</div>\n",
       "    <div>Text-Fabric</div>\n",
       "</div>\n",
       "\n",
       "        </div>\n",
       "    </details>\n",
       "</div>\n",
       "\n",
       "<div class=\"frow\">\n",
       "    <div class=\"fnamecat \">\n",
       "<a target=\"_blank\" href=\"https://github.com/Nino-cunei/ninmed/blob/master/docs/transcription.md\" title=\"~/text-fabric-data/Nino-cunei/ninmed/tf/0.2/grapheme.tf\">grapheme</a>\n",
       "</div>\n",
       "<div class=\"fmono\">str</div>\n",
       "<details>\n",
       "    <summary>grapheme of a sign</summary>\n",
       "    <div class=\"fmeta\">\n",
       "\n",
       "<div class=\"fmetarow\">\n",
       "    <div class=\"fmetakey\">converters:</div>\n",
       "    <div>Cale Johnson, Dirk Roorda</div>\n",
       "</div>\n",
       "\n",
       "<div class=\"fmetarow\">\n",
       "    <div class=\"fmetakey\">dateWritten:</div>\n",
       "    <div>2022-02-06T13:00:37Z</div>\n",
       "</div>\n",
       "\n",
       "<div class=\"fmetarow\">\n",
       "    <div class=\"fmetakey\">editor:</div>\n",
       "    <div>Cale Johnson et al.</div>\n",
       "</div>\n",
       "\n",
       "<div class=\"fmetarow\">\n",
       "    <div class=\"fmetakey\">name:</div>\n",
       "    <div>NinMed Medical Texts from Nineveh</div>\n",
       "</div>\n",
       "\n",
       "<div class=\"fmetarow\">\n",
       "    <div class=\"fmetakey\">project:</div>\n",
       "    <div>BabMed</div>\n",
       "</div>\n",
       "\n",
       "<div class=\"fmetarow\">\n",
       "    <div class=\"fmetakey\">writtenBy:</div>\n",
       "    <div>Text-Fabric</div>\n",
       "</div>\n",
       "\n",
       "        </div>\n",
       "    </details>\n",
       "</div>\n",
       "\n",
       "<div class=\"frow\">\n",
       "    <div class=\"fnamecat \">\n",
       "<a target=\"_blank\" href=\"https://github.com/Nino-cunei/ninmed/blob/master/docs/transcription.md\" title=\"~/text-fabric-data/Nino-cunei/ninmed/tf/0.2/lang.tf\">lang</a>\n",
       "</div>\n",
       "<div class=\"fmono\">str</div>\n",
       "<details>\n",
       "    <summary>language of a document, word, or sign: absent: Akkadian; sux: Sumerian; sb: Standard Babylonian</summary>\n",
       "    <div class=\"fmeta\">\n",
       "\n",
       "<div class=\"fmetarow\">\n",
       "    <div class=\"fmetakey\">converters:</div>\n",
       "    <div>Cale Johnson, Dirk Roorda</div>\n",
       "</div>\n",
       "\n",
       "<div class=\"fmetarow\">\n",
       "    <div class=\"fmetakey\">dateWritten:</div>\n",
       "    <div>2022-02-06T13:00:37Z</div>\n",
       "</div>\n",
       "\n",
       "<div class=\"fmetarow\">\n",
       "    <div class=\"fmetakey\">editor:</div>\n",
       "    <div>Cale Johnson et al.</div>\n",
       "</div>\n",
       "\n",
       "<div class=\"fmetarow\">\n",
       "    <div class=\"fmetakey\">name:</div>\n",
       "    <div>NinMed Medical Texts from Nineveh</div>\n",
       "</div>\n",
       "\n",
       "<div class=\"fmetarow\">\n",
       "    <div class=\"fmetakey\">project:</div>\n",
       "    <div>BabMed</div>\n",
       "</div>\n",
       "\n",
       "<div class=\"fmetarow\">\n",
       "    <div class=\"fmetakey\">writtenBy:</div>\n",
       "    <div>Text-Fabric</div>\n",
       "</div>\n",
       "\n",
       "        </div>\n",
       "    </details>\n",
       "</div>\n",
       "\n",
       "<div class=\"frow\">\n",
       "    <div class=\"fnamecat \">\n",
       "<a target=\"_blank\" href=\"https://github.com/Nino-cunei/ninmed/blob/master/docs/transcription.md\" title=\"~/text-fabric-data/Nino-cunei/ninmed/tf/0.2/lemma.tf\">lemma</a>\n",
       "</div>\n",
       "<div class=\"fmono\">str</div>\n",
       "<details>\n",
       "    <summary>lemma of a word:comma-separated values of the uniqueLemma field in the JSON source</summary>\n",
       "    <div class=\"fmeta\">\n",
       "\n",
       "<div class=\"fmetarow\">\n",
       "    <div class=\"fmetakey\">converters:</div>\n",
       "    <div>Cale Johnson, Dirk Roorda</div>\n",
       "</div>\n",
       "\n",
       "<div class=\"fmetarow\">\n",
       "    <div class=\"fmetakey\">dateWritten:</div>\n",
       "    <div>2022-02-06T13:00:37Z</div>\n",
       "</div>\n",
       "\n",
       "<div class=\"fmetarow\">\n",
       "    <div class=\"fmetakey\">editor:</div>\n",
       "    <div>Cale Johnson et al.</div>\n",
       "</div>\n",
       "\n",
       "<div class=\"fmetarow\">\n",
       "    <div class=\"fmetakey\">name:</div>\n",
       "    <div>NinMed Medical Texts from Nineveh</div>\n",
       "</div>\n",
       "\n",
       "<div class=\"fmetarow\">\n",
       "    <div class=\"fmetakey\">project:</div>\n",
       "    <div>BabMed</div>\n",
       "</div>\n",
       "\n",
       "<div class=\"fmetarow\">\n",
       "    <div class=\"fmetakey\">writtenBy:</div>\n",
       "    <div>Text-Fabric</div>\n",
       "</div>\n",
       "\n",
       "        </div>\n",
       "    </details>\n",
       "</div>\n",
       "\n",
       "<div class=\"frow\">\n",
       "    <div class=\"fnamecat \">\n",
       "<a target=\"_blank\" href=\"https://github.com/Nino-cunei/ninmed/blob/master/docs/transcription.md\" title=\"~/text-fabric-data/Nino-cunei/ninmed/tf/0.2/lln.tf\">lln</a>\n",
       "</div>\n",
       "<div class=\"fmono\">int</div>\n",
       "<details>\n",
       "    <summary>logical line number of a numbered line</summary>\n",
       "    <div class=\"fmeta\">\n",
       "\n",
       "<div class=\"fmetarow\">\n",
       "    <div class=\"fmetakey\">converters:</div>\n",
       "    <div>Cale Johnson, Dirk Roorda</div>\n",
       "</div>\n",
       "\n",
       "<div class=\"fmetarow\">\n",
       "    <div class=\"fmetakey\">dateWritten:</div>\n",
       "    <div>2022-02-06T13:00:37Z</div>\n",
       "</div>\n",
       "\n",
       "<div class=\"fmetarow\">\n",
       "    <div class=\"fmetakey\">editor:</div>\n",
       "    <div>Cale Johnson et al.</div>\n",
       "</div>\n",
       "\n",
       "<div class=\"fmetarow\">\n",
       "    <div class=\"fmetakey\">name:</div>\n",
       "    <div>NinMed Medical Texts from Nineveh</div>\n",
       "</div>\n",
       "\n",
       "<div class=\"fmetarow\">\n",
       "    <div class=\"fmetakey\">project:</div>\n",
       "    <div>BabMed</div>\n",
       "</div>\n",
       "\n",
       "<div class=\"fmetarow\">\n",
       "    <div class=\"fmetakey\">writtenBy:</div>\n",
       "    <div>Text-Fabric</div>\n",
       "</div>\n",
       "\n",
       "        </div>\n",
       "    </details>\n",
       "</div>\n",
       "\n",
       "<div class=\"frow\">\n",
       "    <div class=\"fnamecat \">\n",
       "<a target=\"_blank\" href=\"https://github.com/Nino-cunei/ninmed/blob/master/docs/transcription.md\" title=\"~/text-fabric-data/Nino-cunei/ninmed/tf/0.2/ln.tf\">ln</a>\n",
       "</div>\n",
       "<div class=\"fmono\">int</div>\n",
       "<details>\n",
       "    <summary>ATF line number of a numbered line, without prime</summary>\n",
       "    <div class=\"fmeta\">\n",
       "\n",
       "<div class=\"fmetarow\">\n",
       "    <div class=\"fmetakey\">converters:</div>\n",
       "    <div>Cale Johnson, Dirk Roorda</div>\n",
       "</div>\n",
       "\n",
       "<div class=\"fmetarow\">\n",
       "    <div class=\"fmetakey\">dateWritten:</div>\n",
       "    <div>2022-02-06T13:00:37Z</div>\n",
       "</div>\n",
       "\n",
       "<div class=\"fmetarow\">\n",
       "    <div class=\"fmetakey\">editor:</div>\n",
       "    <div>Cale Johnson et al.</div>\n",
       "</div>\n",
       "\n",
       "<div class=\"fmetarow\">\n",
       "    <div class=\"fmetakey\">name:</div>\n",
       "    <div>NinMed Medical Texts from Nineveh</div>\n",
       "</div>\n",
       "\n",
       "<div class=\"fmetarow\">\n",
       "    <div class=\"fmetakey\">project:</div>\n",
       "    <div>BabMed</div>\n",
       "</div>\n",
       "\n",
       "<div class=\"fmetarow\">\n",
       "    <div class=\"fmetakey\">writtenBy:</div>\n",
       "    <div>Text-Fabric</div>\n",
       "</div>\n",
       "\n",
       "        </div>\n",
       "    </details>\n",
       "</div>\n",
       "\n",
       "<div class=\"frow\">\n",
       "    <div class=\"fnamecat \">\n",
       "<a target=\"_blank\" href=\"https://github.com/Nino-cunei/ninmed/blob/master/docs/transcription.md\" title=\"~/text-fabric-data/Nino-cunei/ninmed/tf/0.2/lnno.tf\">lnno</a>\n",
       "</div>\n",
       "<div class=\"fmono\">str</div>\n",
       "<details>\n",
       "    <summary>ATF line number, may be $ or #, with prime; column number prepended</summary>\n",
       "    <div class=\"fmeta\">\n",
       "\n",
       "<div class=\"fmetarow\">\n",
       "    <div class=\"fmetakey\">converters:</div>\n",
       "    <div>Cale Johnson, Dirk Roorda</div>\n",
       "</div>\n",
       "\n",
       "<div class=\"fmetarow\">\n",
       "    <div class=\"fmetakey\">dateWritten:</div>\n",
       "    <div>2022-02-06T13:00:37Z</div>\n",
       "</div>\n",
       "\n",
       "<div class=\"fmetarow\">\n",
       "    <div class=\"fmetakey\">editor:</div>\n",
       "    <div>Cale Johnson et al.</div>\n",
       "</div>\n",
       "\n",
       "<div class=\"fmetarow\">\n",
       "    <div class=\"fmetakey\">name:</div>\n",
       "    <div>NinMed Medical Texts from Nineveh</div>\n",
       "</div>\n",
       "\n",
       "<div class=\"fmetarow\">\n",
       "    <div class=\"fmetakey\">project:</div>\n",
       "    <div>BabMed</div>\n",
       "</div>\n",
       "\n",
       "<div class=\"fmetarow\">\n",
       "    <div class=\"fmetakey\">writtenBy:</div>\n",
       "    <div>Text-Fabric</div>\n",
       "</div>\n",
       "\n",
       "        </div>\n",
       "    </details>\n",
       "</div>\n",
       "\n",
       "<div class=\"frow\">\n",
       "    <div class=\"fnamecat \">\n",
       "<a target=\"_blank\" href=\"https://github.com/Nino-cunei/ninmed/blob/master/docs/transcription.md\" title=\"~/text-fabric-data/Nino-cunei/ninmed/tf/0.2/missing.tf\">missing</a>\n",
       "</div>\n",
       "<div class=\"fmono\">int</div>\n",
       "<details>\n",
       "    <summary>whether a sign is missing - between [ ]</summary>\n",
       "    <div class=\"fmeta\">\n",
       "\n",
       "<div class=\"fmetarow\">\n",
       "    <div class=\"fmetakey\">converters:</div>\n",
       "    <div>Cale Johnson, Dirk Roorda</div>\n",
       "</div>\n",
       "\n",
       "<div class=\"fmetarow\">\n",
       "    <div class=\"fmetakey\">dateWritten:</div>\n",
       "    <div>2022-02-06T13:00:37Z</div>\n",
       "</div>\n",
       "\n",
       "<div class=\"fmetarow\">\n",
       "    <div class=\"fmetakey\">editor:</div>\n",
       "    <div>Cale Johnson et al.</div>\n",
       "</div>\n",
       "\n",
       "<div class=\"fmetarow\">\n",
       "    <div class=\"fmetakey\">name:</div>\n",
       "    <div>NinMed Medical Texts from Nineveh</div>\n",
       "</div>\n",
       "\n",
       "<div class=\"fmetarow\">\n",
       "    <div class=\"fmetakey\">project:</div>\n",
       "    <div>BabMed</div>\n",
       "</div>\n",
       "\n",
       "<div class=\"fmetarow\">\n",
       "    <div class=\"fmetakey\">writtenBy:</div>\n",
       "    <div>Text-Fabric</div>\n",
       "</div>\n",
       "\n",
       "        </div>\n",
       "    </details>\n",
       "</div>\n",
       "\n",
       "<div class=\"frow\">\n",
       "    <div class=\"fnamecat \">\n",
       "<a target=\"_blank\" href=\"https://github.com/Nino-cunei/ninmed/blob/master/docs/transcription.md\" title=\"~/text-fabric-data/Nino-cunei/ninmed/tf/0.2/modifiers.tf\">modifiers</a>\n",
       "</div>\n",
       "<div class=\"fmono\">str</div>\n",
       "<details>\n",
       "    <summary>sequence of modifiers after a sign</summary>\n",
       "    <div class=\"fmeta\">\n",
       "\n",
       "<div class=\"fmetarow\">\n",
       "    <div class=\"fmetakey\">converters:</div>\n",
       "    <div>Cale Johnson, Dirk Roorda</div>\n",
       "</div>\n",
       "\n",
       "<div class=\"fmetarow\">\n",
       "    <div class=\"fmetakey\">dateWritten:</div>\n",
       "    <div>2022-02-06T13:00:37Z</div>\n",
       "</div>\n",
       "\n",
       "<div class=\"fmetarow\">\n",
       "    <div class=\"fmetakey\">editor:</div>\n",
       "    <div>Cale Johnson et al.</div>\n",
       "</div>\n",
       "\n",
       "<div class=\"fmetarow\">\n",
       "    <div class=\"fmetakey\">name:</div>\n",
       "    <div>NinMed Medical Texts from Nineveh</div>\n",
       "</div>\n",
       "\n",
       "<div class=\"fmetarow\">\n",
       "    <div class=\"fmetakey\">project:</div>\n",
       "    <div>BabMed</div>\n",
       "</div>\n",
       "\n",
       "<div class=\"fmetarow\">\n",
       "    <div class=\"fmetakey\">writtenBy:</div>\n",
       "    <div>Text-Fabric</div>\n",
       "</div>\n",
       "\n",
       "        </div>\n",
       "    </details>\n",
       "</div>\n",
       "\n",
       "<div class=\"frow\">\n",
       "    <div class=\"fnamecat \">\n",
       "<a target=\"_blank\" href=\"https://github.com/Nino-cunei/ninmed/blob/master/docs/transcription.md\" title=\"~/text-fabric-data/Nino-cunei/ninmed/tf/0.2/museum.tf\">museum</a>\n",
       "</div>\n",
       "<div class=\"fmono\">str</div>\n",
       "<details>\n",
       "    <summary>museum name from metadata field \"museum.name\"</summary>\n",
       "    <div class=\"fmeta\">\n",
       "\n",
       "<div class=\"fmetarow\">\n",
       "    <div class=\"fmetakey\">converters:</div>\n",
       "    <div>Cale Johnson, Dirk Roorda</div>\n",
       "</div>\n",
       "\n",
       "<div class=\"fmetarow\">\n",
       "    <div class=\"fmetakey\">dateWritten:</div>\n",
       "    <div>2022-02-06T13:00:37Z</div>\n",
       "</div>\n",
       "\n",
       "<div class=\"fmetarow\">\n",
       "    <div class=\"fmetakey\">editor:</div>\n",
       "    <div>Cale Johnson et al.</div>\n",
       "</div>\n",
       "\n",
       "<div class=\"fmetarow\">\n",
       "    <div class=\"fmetakey\">name:</div>\n",
       "    <div>NinMed Medical Texts from Nineveh</div>\n",
       "</div>\n",
       "\n",
       "<div class=\"fmetarow\">\n",
       "    <div class=\"fmetakey\">project:</div>\n",
       "    <div>BabMed</div>\n",
       "</div>\n",
       "\n",
       "<div class=\"fmetarow\">\n",
       "    <div class=\"fmetakey\">writtenBy:</div>\n",
       "    <div>Text-Fabric</div>\n",
       "</div>\n",
       "\n",
       "        </div>\n",
       "    </details>\n",
       "</div>\n",
       "\n",
       "<div class=\"frow\">\n",
       "    <div class=\"fnamecat \">\n",
       "<a target=\"_blank\" href=\"https://github.com/Nino-cunei/ninmed/blob/master/docs/transcription.md\" title=\"~/text-fabric-data/Nino-cunei/ninmed/tf/0.2/note.tf\">note</a>\n",
       "</div>\n",
       "<div class=\"fmono\">str</div>\n",
       "<details>\n",
       "    <summary>note comment to a line</summary>\n",
       "    <div class=\"fmeta\">\n",
       "\n",
       "<div class=\"fmetarow\">\n",
       "    <div class=\"fmetakey\">converters:</div>\n",
       "    <div>Cale Johnson, Dirk Roorda</div>\n",
       "</div>\n",
       "\n",
       "<div class=\"fmetarow\">\n",
       "    <div class=\"fmetakey\">dateWritten:</div>\n",
       "    <div>2022-02-06T13:00:37Z</div>\n",
       "</div>\n",
       "\n",
       "<div class=\"fmetarow\">\n",
       "    <div class=\"fmetakey\">editor:</div>\n",
       "    <div>Cale Johnson et al.</div>\n",
       "</div>\n",
       "\n",
       "<div class=\"fmetarow\">\n",
       "    <div class=\"fmetakey\">name:</div>\n",
       "    <div>NinMed Medical Texts from Nineveh</div>\n",
       "</div>\n",
       "\n",
       "<div class=\"fmetarow\">\n",
       "    <div class=\"fmetakey\">project:</div>\n",
       "    <div>BabMed</div>\n",
       "</div>\n",
       "\n",
       "<div class=\"fmetarow\">\n",
       "    <div class=\"fmetakey\">writtenBy:</div>\n",
       "    <div>Text-Fabric</div>\n",
       "</div>\n",
       "\n",
       "        </div>\n",
       "    </details>\n",
       "</div>\n",
       "\n",
       "<div class=\"frow\">\n",
       "    <div class=\"fnamecat \">\n",
       "<a target=\"_blank\" href=\"https://github.com/Nino-cunei/ninmed/blob/master/docs/transcription.md\" title=\"~/text-fabric-data/Nino-cunei/ninmed/tf/0.2/number.tf\">number</a>\n",
       "</div>\n",
       "<div class=\"fmono\">int</div>\n",
       "<details>\n",
       "    <summary>numeric value of a number sign</summary>\n",
       "    <div class=\"fmeta\">\n",
       "\n",
       "<div class=\"fmetarow\">\n",
       "    <div class=\"fmetakey\">converters:</div>\n",
       "    <div>Cale Johnson, Dirk Roorda</div>\n",
       "</div>\n",
       "\n",
       "<div class=\"fmetarow\">\n",
       "    <div class=\"fmetakey\">dateWritten:</div>\n",
       "    <div>2022-02-06T13:00:37Z</div>\n",
       "</div>\n",
       "\n",
       "<div class=\"fmetarow\">\n",
       "    <div class=\"fmetakey\">editor:</div>\n",
       "    <div>Cale Johnson et al.</div>\n",
       "</div>\n",
       "\n",
       "<div class=\"fmetarow\">\n",
       "    <div class=\"fmetakey\">name:</div>\n",
       "    <div>NinMed Medical Texts from Nineveh</div>\n",
       "</div>\n",
       "\n",
       "<div class=\"fmetarow\">\n",
       "    <div class=\"fmetakey\">project:</div>\n",
       "    <div>BabMed</div>\n",
       "</div>\n",
       "\n",
       "<div class=\"fmetarow\">\n",
       "    <div class=\"fmetakey\">writtenBy:</div>\n",
       "    <div>Text-Fabric</div>\n",
       "</div>\n",
       "\n",
       "        </div>\n",
       "    </details>\n",
       "</div>\n",
       "\n",
       "<div class=\"frow\">\n",
       "    <div class=\"fnamecat \">\n",
       "<a target=\"_blank\" href=\"https://github.com/Nino-cunei/ninmed/blob/master/docs/transcription.md\" title=\"~/text-fabric-data/Nino-cunei/ninmed/tf/0.2/otype.tf\">otype</a>\n",
       "</div>\n",
       "<div class=\"fmono\">str</div>\n",
       "<details>\n",
       "    <summary></summary>\n",
       "    <div class=\"fmeta\">\n",
       "\n",
       "<div class=\"fmetarow\">\n",
       "    <div class=\"fmetakey\">converters:</div>\n",
       "    <div>Cale Johnson, Dirk Roorda</div>\n",
       "</div>\n",
       "\n",
       "<div class=\"fmetarow\">\n",
       "    <div class=\"fmetakey\">dateWritten:</div>\n",
       "    <div>2022-02-06T13:00:37Z</div>\n",
       "</div>\n",
       "\n",
       "<div class=\"fmetarow\">\n",
       "    <div class=\"fmetakey\">editor:</div>\n",
       "    <div>Cale Johnson et al.</div>\n",
       "</div>\n",
       "\n",
       "<div class=\"fmetarow\">\n",
       "    <div class=\"fmetakey\">name:</div>\n",
       "    <div>NinMed Medical Texts from Nineveh</div>\n",
       "</div>\n",
       "\n",
       "<div class=\"fmetarow\">\n",
       "    <div class=\"fmetakey\">project:</div>\n",
       "    <div>BabMed</div>\n",
       "</div>\n",
       "\n",
       "<div class=\"fmetarow\">\n",
       "    <div class=\"fmetakey\">writtenBy:</div>\n",
       "    <div>Text-Fabric</div>\n",
       "</div>\n",
       "\n",
       "        </div>\n",
       "    </details>\n",
       "</div>\n",
       "\n",
       "<div class=\"frow\">\n",
       "    <div class=\"fnamecat \">\n",
       "<a target=\"_blank\" href=\"https://github.com/Nino-cunei/ninmed/blob/master/docs/transcription.md\" title=\"~/text-fabric-data/Nino-cunei/ninmed/tf/0.2/pnumber.tf\">pnumber</a>\n",
       "</div>\n",
       "<div class=\"fmono\">str</div>\n",
       "<details>\n",
       "    <summary>P number of a document</summary>\n",
       "    <div class=\"fmeta\">\n",
       "\n",
       "<div class=\"fmetarow\">\n",
       "    <div class=\"fmetakey\">converters:</div>\n",
       "    <div>Cale Johnson, Dirk Roorda</div>\n",
       "</div>\n",
       "\n",
       "<div class=\"fmetarow\">\n",
       "    <div class=\"fmetakey\">dateWritten:</div>\n",
       "    <div>2022-02-06T13:00:37Z</div>\n",
       "</div>\n",
       "\n",
       "<div class=\"fmetarow\">\n",
       "    <div class=\"fmetakey\">editor:</div>\n",
       "    <div>Cale Johnson et al.</div>\n",
       "</div>\n",
       "\n",
       "<div class=\"fmetarow\">\n",
       "    <div class=\"fmetakey\">name:</div>\n",
       "    <div>NinMed Medical Texts from Nineveh</div>\n",
       "</div>\n",
       "\n",
       "<div class=\"fmetarow\">\n",
       "    <div class=\"fmetakey\">project:</div>\n",
       "    <div>BabMed</div>\n",
       "</div>\n",
       "\n",
       "<div class=\"fmetarow\">\n",
       "    <div class=\"fmetakey\">writtenBy:</div>\n",
       "    <div>Text-Fabric</div>\n",
       "</div>\n",
       "\n",
       "        </div>\n",
       "    </details>\n",
       "</div>\n",
       "\n",
       "<div class=\"frow\">\n",
       "    <div class=\"fnamecat \">\n",
       "<a target=\"_blank\" href=\"https://github.com/Nino-cunei/ninmed/blob/master/docs/transcription.md\" title=\"~/text-fabric-data/Nino-cunei/ninmed/tf/0.2/primecol.tf\">primecol</a>\n",
       "</div>\n",
       "<div class=\"fmono\">int</div>\n",
       "<details>\n",
       "    <summary>whether a prime is present on a column number</summary>\n",
       "    <div class=\"fmeta\">\n",
       "\n",
       "<div class=\"fmetarow\">\n",
       "    <div class=\"fmetakey\">converters:</div>\n",
       "    <div>Cale Johnson, Dirk Roorda</div>\n",
       "</div>\n",
       "\n",
       "<div class=\"fmetarow\">\n",
       "    <div class=\"fmetakey\">dateWritten:</div>\n",
       "    <div>2022-02-06T13:00:37Z</div>\n",
       "</div>\n",
       "\n",
       "<div class=\"fmetarow\">\n",
       "    <div class=\"fmetakey\">editor:</div>\n",
       "    <div>Cale Johnson et al.</div>\n",
       "</div>\n",
       "\n",
       "<div class=\"fmetarow\">\n",
       "    <div class=\"fmetakey\">name:</div>\n",
       "    <div>NinMed Medical Texts from Nineveh</div>\n",
       "</div>\n",
       "\n",
       "<div class=\"fmetarow\">\n",
       "    <div class=\"fmetakey\">project:</div>\n",
       "    <div>BabMed</div>\n",
       "</div>\n",
       "\n",
       "<div class=\"fmetarow\">\n",
       "    <div class=\"fmetakey\">writtenBy:</div>\n",
       "    <div>Text-Fabric</div>\n",
       "</div>\n",
       "\n",
       "        </div>\n",
       "    </details>\n",
       "</div>\n",
       "\n",
       "<div class=\"frow\">\n",
       "    <div class=\"fnamecat \">\n",
       "<a target=\"_blank\" href=\"https://github.com/Nino-cunei/ninmed/blob/master/docs/transcription.md\" title=\"~/text-fabric-data/Nino-cunei/ninmed/tf/0.2/primeln.tf\">primeln</a>\n",
       "</div>\n",
       "<div class=\"fmono\">int</div>\n",
       "<details>\n",
       "    <summary>whether a prime is present on a line number</summary>\n",
       "    <div class=\"fmeta\">\n",
       "\n",
       "<div class=\"fmetarow\">\n",
       "    <div class=\"fmetakey\">converters:</div>\n",
       "    <div>Cale Johnson, Dirk Roorda</div>\n",
       "</div>\n",
       "\n",
       "<div class=\"fmetarow\">\n",
       "    <div class=\"fmetakey\">dateWritten:</div>\n",
       "    <div>2022-02-06T13:00:37Z</div>\n",
       "</div>\n",
       "\n",
       "<div class=\"fmetarow\">\n",
       "    <div class=\"fmetakey\">editor:</div>\n",
       "    <div>Cale Johnson et al.</div>\n",
       "</div>\n",
       "\n",
       "<div class=\"fmetarow\">\n",
       "    <div class=\"fmetakey\">name:</div>\n",
       "    <div>NinMed Medical Texts from Nineveh</div>\n",
       "</div>\n",
       "\n",
       "<div class=\"fmetarow\">\n",
       "    <div class=\"fmetakey\">project:</div>\n",
       "    <div>BabMed</div>\n",
       "</div>\n",
       "\n",
       "<div class=\"fmetarow\">\n",
       "    <div class=\"fmetakey\">writtenBy:</div>\n",
       "    <div>Text-Fabric</div>\n",
       "</div>\n",
       "\n",
       "        </div>\n",
       "    </details>\n",
       "</div>\n",
       "\n",
       "<div class=\"frow\">\n",
       "    <div class=\"fnamecat \">\n",
       "<a target=\"_blank\" href=\"https://github.com/Nino-cunei/ninmed/blob/master/docs/transcription.md\" title=\"~/text-fabric-data/Nino-cunei/ninmed/tf/0.2/publication.tf\">publication</a>\n",
       "</div>\n",
       "<div class=\"fmono\">str</div>\n",
       "<details>\n",
       "    <summary>publication info from metadata field \"publication\"</summary>\n",
       "    <div class=\"fmeta\">\n",
       "\n",
       "<div class=\"fmetarow\">\n",
       "    <div class=\"fmetakey\">converters:</div>\n",
       "    <div>Cale Johnson, Dirk Roorda</div>\n",
       "</div>\n",
       "\n",
       "<div class=\"fmetarow\">\n",
       "    <div class=\"fmetakey\">dateWritten:</div>\n",
       "    <div>2022-02-06T13:00:37Z</div>\n",
       "</div>\n",
       "\n",
       "<div class=\"fmetarow\">\n",
       "    <div class=\"fmetakey\">editor:</div>\n",
       "    <div>Cale Johnson et al.</div>\n",
       "</div>\n",
       "\n",
       "<div class=\"fmetarow\">\n",
       "    <div class=\"fmetakey\">name:</div>\n",
       "    <div>NinMed Medical Texts from Nineveh</div>\n",
       "</div>\n",
       "\n",
       "<div class=\"fmetarow\">\n",
       "    <div class=\"fmetakey\">project:</div>\n",
       "    <div>BabMed</div>\n",
       "</div>\n",
       "\n",
       "<div class=\"fmetarow\">\n",
       "    <div class=\"fmetakey\">writtenBy:</div>\n",
       "    <div>Text-Fabric</div>\n",
       "</div>\n",
       "\n",
       "        </div>\n",
       "    </details>\n",
       "</div>\n",
       "\n",
       "<div class=\"frow\">\n",
       "    <div class=\"fnamecat \">\n",
       "<a target=\"_blank\" href=\"https://github.com/Nino-cunei/ninmed/blob/master/docs/transcription.md\" title=\"~/text-fabric-data/Nino-cunei/ninmed/tf/0.2/question.tf\">question</a>\n",
       "</div>\n",
       "<div class=\"fmono\">int</div>\n",
       "<details>\n",
       "    <summary>whether a sign has the question flag (?)</summary>\n",
       "    <div class=\"fmeta\">\n",
       "\n",
       "<div class=\"fmetarow\">\n",
       "    <div class=\"fmetakey\">converters:</div>\n",
       "    <div>Cale Johnson, Dirk Roorda</div>\n",
       "</div>\n",
       "\n",
       "<div class=\"fmetarow\">\n",
       "    <div class=\"fmetakey\">dateWritten:</div>\n",
       "    <div>2022-02-06T13:00:37Z</div>\n",
       "</div>\n",
       "\n",
       "<div class=\"fmetarow\">\n",
       "    <div class=\"fmetakey\">editor:</div>\n",
       "    <div>Cale Johnson et al.</div>\n",
       "</div>\n",
       "\n",
       "<div class=\"fmetarow\">\n",
       "    <div class=\"fmetakey\">name:</div>\n",
       "    <div>NinMed Medical Texts from Nineveh</div>\n",
       "</div>\n",
       "\n",
       "<div class=\"fmetarow\">\n",
       "    <div class=\"fmetakey\">project:</div>\n",
       "    <div>BabMed</div>\n",
       "</div>\n",
       "\n",
       "<div class=\"fmetarow\">\n",
       "    <div class=\"fmetakey\">writtenBy:</div>\n",
       "    <div>Text-Fabric</div>\n",
       "</div>\n",
       "\n",
       "        </div>\n",
       "    </details>\n",
       "</div>\n",
       "\n",
       "<div class=\"frow\">\n",
       "    <div class=\"fnamecat \">\n",
       "<a target=\"_blank\" href=\"https://github.com/Nino-cunei/ninmed/blob/master/docs/transcription.md\" title=\"~/text-fabric-data/Nino-cunei/ninmed/tf/0.2/reading.tf\">reading</a>\n",
       "</div>\n",
       "<div class=\"fmono\">str</div>\n",
       "<details>\n",
       "    <summary>reading of a sign</summary>\n",
       "    <div class=\"fmeta\">\n",
       "\n",
       "<div class=\"fmetarow\">\n",
       "    <div class=\"fmetakey\">converters:</div>\n",
       "    <div>Cale Johnson, Dirk Roorda</div>\n",
       "</div>\n",
       "\n",
       "<div class=\"fmetarow\">\n",
       "    <div class=\"fmetakey\">dateWritten:</div>\n",
       "    <div>2022-02-06T13:00:37Z</div>\n",
       "</div>\n",
       "\n",
       "<div class=\"fmetarow\">\n",
       "    <div class=\"fmetakey\">editor:</div>\n",
       "    <div>Cale Johnson et al.</div>\n",
       "</div>\n",
       "\n",
       "<div class=\"fmetarow\">\n",
       "    <div class=\"fmetakey\">name:</div>\n",
       "    <div>NinMed Medical Texts from Nineveh</div>\n",
       "</div>\n",
       "\n",
       "<div class=\"fmetarow\">\n",
       "    <div class=\"fmetakey\">project:</div>\n",
       "    <div>BabMed</div>\n",
       "</div>\n",
       "\n",
       "<div class=\"fmetarow\">\n",
       "    <div class=\"fmetakey\">writtenBy:</div>\n",
       "    <div>Text-Fabric</div>\n",
       "</div>\n",
       "\n",
       "        </div>\n",
       "    </details>\n",
       "</div>\n",
       "\n",
       "<div class=\"frow\">\n",
       "    <div class=\"fnamecat \">\n",
       "<a target=\"_blank\" href=\"https://github.com/Nino-cunei/ninmed/blob/master/docs/transcription.md\" title=\"~/text-fabric-data/Nino-cunei/ninmed/tf/0.2/remarkable.tf\">remarkable</a>\n",
       "</div>\n",
       "<div class=\"fmono\">int</div>\n",
       "<details>\n",
       "    <summary>whether a sign is remarkable (!)</summary>\n",
       "    <div class=\"fmeta\">\n",
       "\n",
       "<div class=\"fmetarow\">\n",
       "    <div class=\"fmetakey\">converters:</div>\n",
       "    <div>Cale Johnson, Dirk Roorda</div>\n",
       "</div>\n",
       "\n",
       "<div class=\"fmetarow\">\n",
       "    <div class=\"fmetakey\">dateWritten:</div>\n",
       "    <div>2022-02-06T13:00:37Z</div>\n",
       "</div>\n",
       "\n",
       "<div class=\"fmetarow\">\n",
       "    <div class=\"fmetakey\">editor:</div>\n",
       "    <div>Cale Johnson et al.</div>\n",
       "</div>\n",
       "\n",
       "<div class=\"fmetarow\">\n",
       "    <div class=\"fmetakey\">name:</div>\n",
       "    <div>NinMed Medical Texts from Nineveh</div>\n",
       "</div>\n",
       "\n",
       "<div class=\"fmetarow\">\n",
       "    <div class=\"fmetakey\">project:</div>\n",
       "    <div>BabMed</div>\n",
       "</div>\n",
       "\n",
       "<div class=\"fmetarow\">\n",
       "    <div class=\"fmetakey\">writtenBy:</div>\n",
       "    <div>Text-Fabric</div>\n",
       "</div>\n",
       "\n",
       "        </div>\n",
       "    </details>\n",
       "</div>\n",
       "\n",
       "<div class=\"frow\">\n",
       "    <div class=\"fnamecat \">\n",
       "<a target=\"_blank\" href=\"https://github.com/Nino-cunei/ninmed/blob/master/docs/transcription.md\" title=\"~/text-fabric-data/Nino-cunei/ninmed/tf/0.2/ruling.tf\">ruling</a>\n",
       "</div>\n",
       "<div class=\"fmono\">str</div>\n",
       "<details>\n",
       "    <summary>ruling comment to a line</summary>\n",
       "    <div class=\"fmeta\">\n",
       "\n",
       "<div class=\"fmetarow\">\n",
       "    <div class=\"fmetakey\">converters:</div>\n",
       "    <div>Cale Johnson, Dirk Roorda</div>\n",
       "</div>\n",
       "\n",
       "<div class=\"fmetarow\">\n",
       "    <div class=\"fmetakey\">dateWritten:</div>\n",
       "    <div>2022-02-06T13:00:37Z</div>\n",
       "</div>\n",
       "\n",
       "<div class=\"fmetarow\">\n",
       "    <div class=\"fmetakey\">editor:</div>\n",
       "    <div>Cale Johnson et al.</div>\n",
       "</div>\n",
       "\n",
       "<div class=\"fmetarow\">\n",
       "    <div class=\"fmetakey\">name:</div>\n",
       "    <div>NinMed Medical Texts from Nineveh</div>\n",
       "</div>\n",
       "\n",
       "<div class=\"fmetarow\">\n",
       "    <div class=\"fmetakey\">project:</div>\n",
       "    <div>BabMed</div>\n",
       "</div>\n",
       "\n",
       "<div class=\"fmetarow\">\n",
       "    <div class=\"fmetakey\">writtenBy:</div>\n",
       "    <div>Text-Fabric</div>\n",
       "</div>\n",
       "\n",
       "        </div>\n",
       "    </details>\n",
       "</div>\n",
       "\n",
       "<div class=\"frow\">\n",
       "    <div class=\"fnamecat \">\n",
       "<a target=\"_blank\" href=\"https://github.com/Nino-cunei/ninmed/blob/master/docs/transcription.md\" title=\"~/text-fabric-data/Nino-cunei/ninmed/tf/0.2/seal.tf\">seal</a>\n",
       "</div>\n",
       "<div class=\"fmono\">str</div>\n",
       "<details>\n",
       "    <summary>seal comment to a line</summary>\n",
       "    <div class=\"fmeta\">\n",
       "\n",
       "<div class=\"fmetarow\">\n",
       "    <div class=\"fmetakey\">converters:</div>\n",
       "    <div>Cale Johnson, Dirk Roorda</div>\n",
       "</div>\n",
       "\n",
       "<div class=\"fmetarow\">\n",
       "    <div class=\"fmetakey\">dateWritten:</div>\n",
       "    <div>2022-02-06T13:00:37Z</div>\n",
       "</div>\n",
       "\n",
       "<div class=\"fmetarow\">\n",
       "    <div class=\"fmetakey\">editor:</div>\n",
       "    <div>Cale Johnson et al.</div>\n",
       "</div>\n",
       "\n",
       "<div class=\"fmetarow\">\n",
       "    <div class=\"fmetakey\">name:</div>\n",
       "    <div>NinMed Medical Texts from Nineveh</div>\n",
       "</div>\n",
       "\n",
       "<div class=\"fmetarow\">\n",
       "    <div class=\"fmetakey\">project:</div>\n",
       "    <div>BabMed</div>\n",
       "</div>\n",
       "\n",
       "<div class=\"fmetarow\">\n",
       "    <div class=\"fmetakey\">writtenBy:</div>\n",
       "    <div>Text-Fabric</div>\n",
       "</div>\n",
       "\n",
       "        </div>\n",
       "    </details>\n",
       "</div>\n",
       "\n",
       "<div class=\"frow\">\n",
       "    <div class=\"fnamecat \">\n",
       "<a target=\"_blank\" href=\"https://github.com/Nino-cunei/ninmed/blob/master/docs/transcription.md\" title=\"~/text-fabric-data/Nino-cunei/ninmed/tf/0.2/supplied.tf\">supplied</a>\n",
       "</div>\n",
       "<div class=\"fmono\">int</div>\n",
       "<details>\n",
       "    <summary>whether a sign is supplied - between < ></summary>\n",
       "    <div class=\"fmeta\">\n",
       "\n",
       "<div class=\"fmetarow\">\n",
       "    <div class=\"fmetakey\">converters:</div>\n",
       "    <div>Cale Johnson, Dirk Roorda</div>\n",
       "</div>\n",
       "\n",
       "<div class=\"fmetarow\">\n",
       "    <div class=\"fmetakey\">dateWritten:</div>\n",
       "    <div>2022-02-06T13:00:37Z</div>\n",
       "</div>\n",
       "\n",
       "<div class=\"fmetarow\">\n",
       "    <div class=\"fmetakey\">editor:</div>\n",
       "    <div>Cale Johnson et al.</div>\n",
       "</div>\n",
       "\n",
       "<div class=\"fmetarow\">\n",
       "    <div class=\"fmetakey\">name:</div>\n",
       "    <div>NinMed Medical Texts from Nineveh</div>\n",
       "</div>\n",
       "\n",
       "<div class=\"fmetarow\">\n",
       "    <div class=\"fmetakey\">project:</div>\n",
       "    <div>BabMed</div>\n",
       "</div>\n",
       "\n",
       "<div class=\"fmetarow\">\n",
       "    <div class=\"fmetakey\">writtenBy:</div>\n",
       "    <div>Text-Fabric</div>\n",
       "</div>\n",
       "\n",
       "        </div>\n",
       "    </details>\n",
       "</div>\n",
       "\n",
       "<div class=\"frow\">\n",
       "    <div class=\"fnamecat \">\n",
       "<a target=\"_blank\" href=\"https://github.com/Nino-cunei/ninmed/blob/master/docs/transcription.md\" title=\"~/text-fabric-data/Nino-cunei/ninmed/tf/0.2/sym.tf\">sym</a>\n",
       "</div>\n",
       "<div class=\"fmono\">str</div>\n",
       "<details>\n",
       "    <summary>essential part of a sign or of a word</summary>\n",
       "    <div class=\"fmeta\">\n",
       "\n",
       "<div class=\"fmetarow\">\n",
       "    <div class=\"fmetakey\">converters:</div>\n",
       "    <div>Cale Johnson, Dirk Roorda</div>\n",
       "</div>\n",
       "\n",
       "<div class=\"fmetarow\">\n",
       "    <div class=\"fmetakey\">dateWritten:</div>\n",
       "    <div>2022-02-06T13:00:37Z</div>\n",
       "</div>\n",
       "\n",
       "<div class=\"fmetarow\">\n",
       "    <div class=\"fmetakey\">editor:</div>\n",
       "    <div>Cale Johnson et al.</div>\n",
       "</div>\n",
       "\n",
       "<div class=\"fmetarow\">\n",
       "    <div class=\"fmetakey\">name:</div>\n",
       "    <div>NinMed Medical Texts from Nineveh</div>\n",
       "</div>\n",
       "\n",
       "<div class=\"fmetarow\">\n",
       "    <div class=\"fmetakey\">project:</div>\n",
       "    <div>BabMed</div>\n",
       "</div>\n",
       "\n",
       "<div class=\"fmetarow\">\n",
       "    <div class=\"fmetakey\">writtenBy:</div>\n",
       "    <div>Text-Fabric</div>\n",
       "</div>\n",
       "\n",
       "        </div>\n",
       "    </details>\n",
       "</div>\n",
       "\n",
       "<div class=\"frow\">\n",
       "    <div class=\"fnamecat \">\n",
       "<a target=\"_blank\" href=\"https://github.com/Nino-cunei/ninmed/blob/master/docs/transcription.md\" title=\"~/text-fabric-data/Nino-cunei/ninmed/tf/0.2/tr@en.tf\">tr@ll</a>\n",
       "</div>\n",
       "<div class=\"fmono\">str</div>\n",
       "<details>\n",
       "    <summary>english translation of a line</summary>\n",
       "    <div class=\"fmeta\">\n",
       "\n",
       "<div class=\"fmetarow\">\n",
       "    <div class=\"fmetakey\">converters:</div>\n",
       "    <div>Cale Johnson, Dirk Roorda</div>\n",
       "</div>\n",
       "\n",
       "<div class=\"fmetarow\">\n",
       "    <div class=\"fmetakey\">dateWritten:</div>\n",
       "    <div>2022-02-06T13:00:37Z</div>\n",
       "</div>\n",
       "\n",
       "<div class=\"fmetarow\">\n",
       "    <div class=\"fmetakey\">editor:</div>\n",
       "    <div>Cale Johnson et al.</div>\n",
       "</div>\n",
       "\n",
       "<div class=\"fmetarow\">\n",
       "    <div class=\"fmetakey\">name:</div>\n",
       "    <div>NinMed Medical Texts from Nineveh</div>\n",
       "</div>\n",
       "\n",
       "<div class=\"fmetarow\">\n",
       "    <div class=\"fmetakey\">project:</div>\n",
       "    <div>BabMed</div>\n",
       "</div>\n",
       "\n",
       "<div class=\"fmetarow\">\n",
       "    <div class=\"fmetakey\">writtenBy:</div>\n",
       "    <div>Text-Fabric</div>\n",
       "</div>\n",
       "\n",
       "        </div>\n",
       "    </details>\n",
       "</div>\n",
       "\n",
       "<div class=\"frow\">\n",
       "    <div class=\"fnamecat \">\n",
       "<a target=\"_blank\" href=\"https://github.com/Nino-cunei/ninmed/blob/master/docs/transcription.md\" title=\"~/text-fabric-data/Nino-cunei/ninmed/tf/0.2/trans.tf\">trans</a>\n",
       "</div>\n",
       "<div class=\"fmono\">int</div>\n",
       "<details>\n",
       "    <summary>whether a line has a translation</summary>\n",
       "    <div class=\"fmeta\">\n",
       "\n",
       "<div class=\"fmetarow\">\n",
       "    <div class=\"fmetakey\">converters:</div>\n",
       "    <div>Cale Johnson, Dirk Roorda</div>\n",
       "</div>\n",
       "\n",
       "<div class=\"fmetarow\">\n",
       "    <div class=\"fmetakey\">dateWritten:</div>\n",
       "    <div>2022-02-06T13:00:37Z</div>\n",
       "</div>\n",
       "\n",
       "<div class=\"fmetarow\">\n",
       "    <div class=\"fmetakey\">editor:</div>\n",
       "    <div>Cale Johnson et al.</div>\n",
       "</div>\n",
       "\n",
       "<div class=\"fmetarow\">\n",
       "    <div class=\"fmetakey\">name:</div>\n",
       "    <div>NinMed Medical Texts from Nineveh</div>\n",
       "</div>\n",
       "\n",
       "<div class=\"fmetarow\">\n",
       "    <div class=\"fmetakey\">project:</div>\n",
       "    <div>BabMed</div>\n",
       "</div>\n",
       "\n",
       "<div class=\"fmetarow\">\n",
       "    <div class=\"fmetakey\">writtenBy:</div>\n",
       "    <div>Text-Fabric</div>\n",
       "</div>\n",
       "\n",
       "        </div>\n",
       "    </details>\n",
       "</div>\n",
       "\n",
       "<div class=\"frow\">\n",
       "    <div class=\"fnamecat \">\n",
       "<a target=\"_blank\" href=\"https://github.com/Nino-cunei/ninmed/blob/master/docs/transcription.md\" title=\"~/text-fabric-data/Nino-cunei/ninmed/tf/0.2/type.tf\">type</a>\n",
       "</div>\n",
       "<div class=\"fmono\">str</div>\n",
       "<details>\n",
       "    <summary>name of a type of cluster or kind of sign</summary>\n",
       "    <div class=\"fmeta\">\n",
       "\n",
       "<div class=\"fmetarow\">\n",
       "    <div class=\"fmetakey\">converters:</div>\n",
       "    <div>Cale Johnson, Dirk Roorda</div>\n",
       "</div>\n",
       "\n",
       "<div class=\"fmetarow\">\n",
       "    <div class=\"fmetakey\">dateWritten:</div>\n",
       "    <div>2022-02-06T13:00:37Z</div>\n",
       "</div>\n",
       "\n",
       "<div class=\"fmetarow\">\n",
       "    <div class=\"fmetakey\">editor:</div>\n",
       "    <div>Cale Johnson et al.</div>\n",
       "</div>\n",
       "\n",
       "<div class=\"fmetarow\">\n",
       "    <div class=\"fmetakey\">name:</div>\n",
       "    <div>NinMed Medical Texts from Nineveh</div>\n",
       "</div>\n",
       "\n",
       "<div class=\"fmetarow\">\n",
       "    <div class=\"fmetakey\">project:</div>\n",
       "    <div>BabMed</div>\n",
       "</div>\n",
       "\n",
       "<div class=\"fmetarow\">\n",
       "    <div class=\"fmetakey\">writtenBy:</div>\n",
       "    <div>Text-Fabric</div>\n",
       "</div>\n",
       "\n",
       "        </div>\n",
       "    </details>\n",
       "</div>\n",
       "\n",
       "<div class=\"frow\">\n",
       "    <div class=\"fnamecat \">\n",
       "<a target=\"_blank\" href=\"https://github.com/Nino-cunei/ninmed/blob/master/docs/transcription.md\" title=\"~/text-fabric-data/Nino-cunei/ninmed/tf/0.2/uncertain.tf\">uncertain</a>\n",
       "</div>\n",
       "<div class=\"fmono\">int</div>\n",
       "<details>\n",
       "    <summary>whether a sign is uncertain - between ( )</summary>\n",
       "    <div class=\"fmeta\">\n",
       "\n",
       "<div class=\"fmetarow\">\n",
       "    <div class=\"fmetakey\">converters:</div>\n",
       "    <div>Cale Johnson, Dirk Roorda</div>\n",
       "</div>\n",
       "\n",
       "<div class=\"fmetarow\">\n",
       "    <div class=\"fmetakey\">dateWritten:</div>\n",
       "    <div>2022-02-06T13:00:37Z</div>\n",
       "</div>\n",
       "\n",
       "<div class=\"fmetarow\">\n",
       "    <div class=\"fmetakey\">editor:</div>\n",
       "    <div>Cale Johnson et al.</div>\n",
       "</div>\n",
       "\n",
       "<div class=\"fmetarow\">\n",
       "    <div class=\"fmetakey\">name:</div>\n",
       "    <div>NinMed Medical Texts from Nineveh</div>\n",
       "</div>\n",
       "\n",
       "<div class=\"fmetarow\">\n",
       "    <div class=\"fmetakey\">project:</div>\n",
       "    <div>BabMed</div>\n",
       "</div>\n",
       "\n",
       "<div class=\"fmetarow\">\n",
       "    <div class=\"fmetakey\">writtenBy:</div>\n",
       "    <div>Text-Fabric</div>\n",
       "</div>\n",
       "\n",
       "        </div>\n",
       "    </details>\n",
       "</div>\n",
       "\n",
       "<div class=\"frow\">\n",
       "    <div class=\"fnamecat \">\n",
       "<a target=\"_blank\" href=\"https://github.com/Nino-cunei/ninmed/blob/master/docs/transcription.md\" title=\"~/text-fabric-data/Nino-cunei/ninmed/tf/0.2/variant.tf\">variant</a>\n",
       "</div>\n",
       "<div class=\"fmono\">int</div>\n",
       "<details>\n",
       "    <summary>if sign is part of a variant pair, this is the sequence number of the variant (1 or 2)</summary>\n",
       "    <div class=\"fmeta\">\n",
       "\n",
       "<div class=\"fmetarow\">\n",
       "    <div class=\"fmetakey\">converters:</div>\n",
       "    <div>Cale Johnson, Dirk Roorda</div>\n",
       "</div>\n",
       "\n",
       "<div class=\"fmetarow\">\n",
       "    <div class=\"fmetakey\">dateWritten:</div>\n",
       "    <div>2022-02-06T13:00:37Z</div>\n",
       "</div>\n",
       "\n",
       "<div class=\"fmetarow\">\n",
       "    <div class=\"fmetakey\">editor:</div>\n",
       "    <div>Cale Johnson et al.</div>\n",
       "</div>\n",
       "\n",
       "<div class=\"fmetarow\">\n",
       "    <div class=\"fmetakey\">name:</div>\n",
       "    <div>NinMed Medical Texts from Nineveh</div>\n",
       "</div>\n",
       "\n",
       "<div class=\"fmetarow\">\n",
       "    <div class=\"fmetakey\">project:</div>\n",
       "    <div>BabMed</div>\n",
       "</div>\n",
       "\n",
       "<div class=\"fmetarow\">\n",
       "    <div class=\"fmetakey\">writtenBy:</div>\n",
       "    <div>Text-Fabric</div>\n",
       "</div>\n",
       "\n",
       "        </div>\n",
       "    </details>\n",
       "</div>\n",
       "\n",
       "<div class=\"frow\">\n",
       "    <div class=\"fnamecat edge\">\n",
       "<a target=\"_blank\" href=\"https://github.com/Nino-cunei/ninmed/blob/master/docs/transcription.md\" title=\"~/text-fabric-data/Nino-cunei/ninmed/tf/0.2/oslots.tf\">oslots</a>\n",
       "</div>\n",
       "<div class=\"fmono\">none</div>\n",
       "<details>\n",
       "    <summary></summary>\n",
       "    <div class=\"fmeta\">\n",
       "\n",
       "<div class=\"fmetarow\">\n",
       "    <div class=\"fmetakey\">converters:</div>\n",
       "    <div>Cale Johnson, Dirk Roorda</div>\n",
       "</div>\n",
       "\n",
       "<div class=\"fmetarow\">\n",
       "    <div class=\"fmetakey\">dateWritten:</div>\n",
       "    <div>2022-02-06T13:00:37Z</div>\n",
       "</div>\n",
       "\n",
       "<div class=\"fmetarow\">\n",
       "    <div class=\"fmetakey\">editor:</div>\n",
       "    <div>Cale Johnson et al.</div>\n",
       "</div>\n",
       "\n",
       "<div class=\"fmetarow\">\n",
       "    <div class=\"fmetakey\">name:</div>\n",
       "    <div>NinMed Medical Texts from Nineveh</div>\n",
       "</div>\n",
       "\n",
       "<div class=\"fmetarow\">\n",
       "    <div class=\"fmetakey\">project:</div>\n",
       "    <div>BabMed</div>\n",
       "</div>\n",
       "\n",
       "<div class=\"fmetarow\">\n",
       "    <div class=\"fmetakey\">writtenBy:</div>\n",
       "    <div>Text-Fabric</div>\n",
       "</div>\n",
       "\n",
       "        </div>\n",
       "    </details>\n",
       "</div>\n",
       "\n",
       "    </div>\n",
       "</details>\n"
      ],
      "text/plain": [
       "<IPython.core.display.HTML object>"
      ]
     },
     "metadata": {},
     "output_type": "display_data"
    },
    {
     "data": {
      "text/html": [
       "<style>tr.tf.ltr, td.tf.ltr, th.tf.ltr { text-align: left ! important;}\n",
       "tr.tf.rtl, td.tf.rtl, th.tf.rtl { text-align: right ! important;}\n",
       "@font-face {\n",
       "  font-family: \"Gentium Plus\";\n",
       "  src: local('Gentium Plus'), local('GentiumPlus'),\n",
       "    url('/server/static/fonts/GentiumPlus-R.woff') format('woff'),\n",
       "    url('https://github.com/annotation/text-fabric/blob/master/tf/server/static/fonts/GentiumPlus-R.woff?raw=true') format('woff');\n",
       "}\n",
       "\n",
       "@font-face {\n",
       "  font-family: \"Ezra SIL\";\n",
       "  src: local('Ezra SIL'), local('EzraSIL'),\n",
       "    url('/server/static/fonts/SILEOT.woff') format('woff'),\n",
       "    url('https://github.com/annotation/text-fabric/blob/master/tf/server/static/fonts/SILEOT.woff?raw=true') format('woff');\n",
       "}\n",
       "\n",
       "@font-face {\n",
       "  font-family: \"SBL Hebrew\";\n",
       "  src: local('SBL Hebrew'), local('SBLHebrew'),\n",
       "    url('/server/static/fonts/SBL_Hbrw.woff') format('woff'),\n",
       "    url('https://github.com/annotation/text-fabric/blob/master/tf/server/static/fonts/SBL_Hbrw.woff?raw=true') format('woff');\n",
       "}\n",
       "\n",
       "@font-face {\n",
       "  font-family: \"Estrangelo Edessa\";\n",
       "  src: local('Estrangelo Edessa'), local('EstrangeloEdessa');\n",
       "    url('/server/static/fonts/SyrCOMEdessa.woff') format('woff'),\n",
       "    url('https://github.com/annotation/text-fabric/blob/master/tf/server/static/fonts/SyrCOMEdessa.woff?raw=true') format('woff');\n",
       "}\n",
       "\n",
       "@font-face {\n",
       "  font-family: AmiriQuran;\n",
       "  font-style: normal;\n",
       "  font-weight: 400;\n",
       "  src: local('Amiri Quran'), local('AmiriQuran'),\n",
       "    url('/server/static/fonts/AmiriQuran.woff') format('woff'),\n",
       "    url('https://github.com/annotation/text-fabric/blob/master/tf/server/static/fonts/AmiriQuran.woff?raw=true') format('woff');\n",
       "}\n",
       "\n",
       "@font-face {\n",
       "  font-family: AmiriQuranColored;\n",
       "  font-style: normal;\n",
       "  font-weight: 400;\n",
       "  src: local('Amiri Quran Colored'), local('AmiriQuranColored'),\n",
       "    url('/server/static/fonts/AmiriQuranColored.woff') format('woff'),\n",
       "    url('https://github.com/annotation/text-fabric/blob/master/tf/server/static/fonts/AmiriQuranColored.woff?raw=true') format('woff');\n",
       "}\n",
       "\n",
       "@font-face {\n",
       "  font-family: \"Santakku\";\n",
       "  src: local('Santakku'),\n",
       "    url('/server/static/fonts/Santakku.woff') format('woff'),\n",
       "    url('https://github.com/annotation/text-fabric/blob/master/tf/server/static/fonts/Santakku.woff?raw=true') format('woff');\n",
       "}\n",
       "\n",
       "@font-face {\n",
       "  font-family: \"SantakkuM\";\n",
       "  src: local('SantakkuM'),\n",
       "    url('/server/static/fonts/SantakkuM.woff') format('woff'),\n",
       "    url('https://github.com/annotation/text-fabric/blob/master/tf/server/static/fonts/SantakkuM.woff?raw=true') format('woff');\n",
       "}\n",
       "/* bypassing some classical notebook settings */\n",
       "div#notebook {\n",
       "  line-height: unset;\n",
       "}\n",
       "/* neutral text */\n",
       ".txtn,.txtn a:visited,.txtn a:link {\n",
       "    font-family: sans-serif;\n",
       "    font-size: medium;\n",
       "    direction: ltr;\n",
       "    unicode-bidi: embed;\n",
       "    text-decoration: none;\n",
       "    color: var(--text-color);\n",
       "}\n",
       "/* transcription text */\n",
       ".txtt,.txtt a:visited,.txtt a:link {\n",
       "    font-family: monospace;\n",
       "    font-size: medium;\n",
       "    direction: ltr;\n",
       "    unicode-bidi: embed;\n",
       "    text-decoration: none;\n",
       "    color: var(--text-color);\n",
       "}\n",
       "/* source text */\n",
       ".txto,.txto a:visited,.txto a:link {\n",
       "    font-family: serif;\n",
       "    font-size: medium;\n",
       "    direction: ltr;\n",
       "    unicode-bidi: embed;\n",
       "    text-decoration: none;\n",
       "    color: var(--text-color);\n",
       "}\n",
       "/* phonetic text */\n",
       ".txtp,.txtp a:visited,.txtp a:link {\n",
       "    font-family: Gentium, sans-serif;\n",
       "    font-size: medium;\n",
       "    direction: ltr;\n",
       "    unicode-bidi: embed;\n",
       "    text-decoration: none;\n",
       "    color: var(--text-color);\n",
       "}\n",
       "/* original script text */\n",
       ".txtu,.txtu a:visited,.txtu a:link {\n",
       "    font-family: Gentium, sans-serif;\n",
       "    font-size: medium;\n",
       "    text-decoration: none;\n",
       "    color: var(--text-color);\n",
       "}\n",
       "/* hebrew */\n",
       ".txtu.hbo,.lex.hbo {\n",
       "    font-family: \"Ezra SIL\", \"SBL Hebrew\", sans-serif;\n",
       "    font-size: large;\n",
       "    direction: rtl ! important;\n",
       "    unicode-bidi: embed;\n",
       "}\n",
       "/* syriac */\n",
       ".txtu.syc,.lex.syc {\n",
       "    font-family: \"Estrangelo Edessa\", sans-serif;\n",
       "    font-size: medium;\n",
       "    direction: rtl ! important;\n",
       "    unicode-bidi: embed;\n",
       "}\n",
       "/* neo aramaic */\n",
       ".txtu.cld,.lex.cld {\n",
       "    font-family: \"CharisSIL-R\", sans-serif;\n",
       "    font-size: medium;\n",
       "    direction: ltr ! important;\n",
       "    unicode-bidi: embed;\n",
       "}\n",
       "/* standard arabic */\n",
       ".txtu.ara,.lex.ara {\n",
       "    font-family: \"AmiriQuran\", sans-serif;\n",
       "    font-size: large;\n",
       "    direction: rtl ! important;\n",
       "    unicode-bidi: embed;\n",
       "}\n",
       "/* cuneiform */\n",
       ".txtu.akk,.lex.akk {\n",
       "    font-family: Santakku, sans-serif;\n",
       "    font-size: large;\n",
       "    direction: ltr ! important;\n",
       "    unicode-bidi: embed;\n",
       "}\n",
       "/* greek */\n",
       ".txtu.grc,.lex.grc a:link {\n",
       "    font-family: Gentium, sans-serif;\n",
       "    font-size: medium;\n",
       "    direction: ltr ! important;\n",
       "    unicode-bidi: embed;\n",
       "}\n",
       "a:hover {\n",
       "    text-decoration: underline | important;\n",
       "    color: #0000ff | important;\n",
       "}\n",
       ".ltr {\n",
       "    direction: ltr ! important;\n",
       "    unicode-bidi: embed;\n",
       "}\n",
       ".rtl {\n",
       "    direction: rtl ! important;\n",
       "    unicode-bidi: embed;\n",
       "}\n",
       ".ubd {\n",
       "    unicode-bidi: embed;\n",
       "}\n",
       ".col {\n",
       "   display: inline-block;\n",
       "}\n",
       ".features {\n",
       "    font-family: monospace;\n",
       "    font-size: medium;\n",
       "    font-weight: bold;\n",
       "    color: var(--features);\n",
       "    display: flex;\n",
       "    flex-flow: column nowrap;\n",
       "    justify-content: flex-start;\n",
       "    align-items: flex-start;\n",
       "    align-content: flex-start;\n",
       "    padding: 2px;\n",
       "    margin: 2px;\n",
       "    direction: ltr;\n",
       "    unicode-bidi: embed;\n",
       "    border: var(--meta-width) solid var(--meta-color);\n",
       "    border-radius: var(--meta-width);\n",
       "}\n",
       ".features div,.features span {\n",
       "    padding: 0;\n",
       "    margin: -2px 0;\n",
       "}\n",
       ".features .f {\n",
       "    font-family: sans-serif;\n",
       "    font-size: small;\n",
       "    font-weight: normal;\n",
       "    color: #5555bb;\n",
       "}\n",
       ".features .xft {\n",
       "  color: #000000;\n",
       "  background-color: #eeeeee;\n",
       "  font-size: medium;\n",
       "  margin: 2px 0px;\n",
       "}\n",
       ".features .xft .f {\n",
       "  color: #000000;\n",
       "  background-color: #eeeeee;\n",
       "  font-size: small;\n",
       "  font-weight: normal;\n",
       "}\n",
       ".tfsechead {\n",
       "    font-family: sans-serif;\n",
       "    font-size: small;\n",
       "    font-weight: bold;\n",
       "    color: var(--tfsechead);\n",
       "    unicode-bidi: embed;\n",
       "    text-align: start;\n",
       "}\n",
       ".structure {\n",
       "    font-family: sans-serif;\n",
       "    font-size: small;\n",
       "    font-weight: bold;\n",
       "    color: var(--structure);\n",
       "    unicode-bidi: embed;\n",
       "    text-align: start;\n",
       "}\n",
       ".comments {\n",
       "    display: flex;\n",
       "    justify-content: flex-start;\n",
       "    align-items: flex-start;\n",
       "    align-content: flex-start;\n",
       "    flex-flow: column nowrap;\n",
       "}\n",
       ".nd, a:link.nd {\n",
       "    font-family: sans-serif;\n",
       "    font-size: small;\n",
       "    color: var(--node);\n",
       "    vertical-align: super;\n",
       "    direction: ltr ! important;\n",
       "    unicode-bidi: embed;\n",
       "}\n",
       ".lex {\n",
       "  color: var(--lex-color);;\n",
       "}\n",
       ".children,.children.ltr {\n",
       "    display: flex;\n",
       "    border: 0;\n",
       "    background-color: #ffffff;\n",
       "    justify-content: flex-start;\n",
       "    align-items: flex-start;\n",
       "    align-content: flex-start;\n",
       "}\n",
       ".children.stretch {\n",
       "    align-items: stretch;\n",
       "}\n",
       ".children.hor {\n",
       "    flex-flow: row nowrap;\n",
       "}\n",
       ".children.hor.wrap {\n",
       "    flex-flow: row wrap;\n",
       "}\n",
       ".children.ver {\n",
       "    flex-flow: column nowrap;\n",
       "}\n",
       ".children.ver.wrap {\n",
       "    flex-flow: column wrap;\n",
       "}\n",
       ".contnr {\n",
       "    width: fit-content;\n",
       "    display: flex;\n",
       "    justify-content: flex-start;\n",
       "    align-items: flex-start;\n",
       "    align-content: flex-start;\n",
       "    flex-flow: column nowrap;\n",
       "    background: #ffffff none repeat scroll 0 0;\n",
       "    padding:  10px 2px 2px 2px;\n",
       "    margin: 16px 2px 2px 2px;\n",
       "    border-style: solid;\n",
       "    font-size: small;\n",
       "}\n",
       ".contnr.trm {\n",
       "    background-attachment: local;\n",
       "}\n",
       ".contnr.cnul {\n",
       "    padding:  0;\n",
       "    margin: 0;\n",
       "    border-style: solid;\n",
       "    font-size: xx-small;\n",
       "}\n",
       ".contnr.cnul,.lbl.cnul {\n",
       "    border-color: var(--border-color-nul);\n",
       "    border-width: var(--border-width-nul);\n",
       "    border-radius: var(--border-width-nul);\n",
       "}\n",
       ".contnr.c0,.lbl.c0 {\n",
       "    border-color: var(--border-color0);\n",
       "    border-width: var(--border-width0);\n",
       "    border-radius: var(--border-width0);\n",
       "}\n",
       ".contnr.c1,.lbl.c1 {\n",
       "    border-color: var(--border-color1);\n",
       "    border-width: var(--border-width1);\n",
       "    border-radius: var(--border-width1);\n",
       "}\n",
       ".contnr.c2,.lbl.c2 {\n",
       "    border-color: var(--border-color2);\n",
       "    border-width: var(--border-width2);\n",
       "    border-radius: var(--border-width2);\n",
       "}\n",
       ".contnr.c3,.lbl.c3 {\n",
       "    border-color: var(--border-color3);\n",
       "    border-width: var(--border-width3);\n",
       "    border-radius: var(--border-width3);\n",
       "}\n",
       ".contnr.c4,.lbl.c4 {\n",
       "    border-color: var(--border-color4);\n",
       "    border-width: var(--border-width4);\n",
       "    border-radius: var(--border-width4);\n",
       "}\n",
       "span.plain {\n",
       "    display: inline-block;\n",
       "    white-space: pre-wrap;\n",
       "}\n",
       ".plain {\n",
       "    background-color: #ffffff;\n",
       "}\n",
       ".plain.l,.contnr.l,.contnr.l>.lbl {\n",
       "    border-left-style: dotted\n",
       "}\n",
       ".plain.r,.contnr.r,.contnr.r>.lbl {\n",
       "    border-right-style: dotted\n",
       "}\n",
       ".plain.lno,.contnr.lno,.contnr.lno>.lbl {\n",
       "    border-left-style: none\n",
       "}\n",
       ".plain.rno,.contnr.rno,.contnr.rno>.lbl {\n",
       "    border-right-style: none\n",
       "}\n",
       ".plain.l {\n",
       "    padding-left: 4px;\n",
       "    margin-left: 2px;\n",
       "    border-width: var(--border-width-plain);\n",
       "}\n",
       ".plain.r {\n",
       "    padding-right: 4px;\n",
       "    margin-right: 2px;\n",
       "    border-width: var(--border-width-plain);\n",
       "}\n",
       ".lbl {\n",
       "    font-family: monospace;\n",
       "    margin-top: -24px;\n",
       "    margin-left: 20px;\n",
       "    background: #ffffff none repeat scroll 0 0;\n",
       "    padding: 0 6px;\n",
       "    border-style: solid;\n",
       "    display: block;\n",
       "    color: var(--label)\n",
       "}\n",
       ".lbl.trm {\n",
       "    background-attachment: local;\n",
       "    margin-top: 2px;\n",
       "    margin-left: 2px;\n",
       "    padding: 2px 2px;\n",
       "    border-style: none;\n",
       "}\n",
       ".lbl.cnul {\n",
       "    font-size: xx-small;\n",
       "}\n",
       ".lbl.c0 {\n",
       "    font-size: small;\n",
       "}\n",
       ".lbl.c1 {\n",
       "    font-size: small;\n",
       "}\n",
       ".lbl.c2 {\n",
       "    font-size: medium;\n",
       "}\n",
       ".lbl.c3 {\n",
       "    font-size: medium;\n",
       "}\n",
       ".lbl.c4 {\n",
       "    font-size: large;\n",
       "}\n",
       ".occs, a:link.occs {\n",
       "    font-size: small;\n",
       "}\n",
       "\n",
       "/* PROVENANCE */\n",
       "\n",
       "div.prov {\n",
       "\tmargin: 40px;\n",
       "\tpadding: 20px;\n",
       "\tborder: 2px solid var(--fog-rim);\n",
       "}\n",
       "div.pline {\n",
       "\tdisplay: flex;\n",
       "\tflex-flow: row nowrap;\n",
       "\tjustify-content: stretch;\n",
       "\talign-items: baseline;\n",
       "}\n",
       "div.p2line {\n",
       "\tmargin-left: 2em;\n",
       "\tdisplay: flex;\n",
       "\tflex-flow: row nowrap;\n",
       "\tjustify-content: stretch;\n",
       "\talign-items: baseline;\n",
       "}\n",
       "div.psline {\n",
       "\tdisplay: flex;\n",
       "\tflex-flow: row nowrap;\n",
       "\tjustify-content: stretch;\n",
       "\talign-items: baseline;\n",
       "\tbackground-color: var(--gold-mist-back);\n",
       "}\n",
       "div.pname {\n",
       "\tflex: 0 0 5rem;\n",
       "\tfont-weight: bold;\n",
       "}\n",
       "div.pval {\n",
       "    flex: 1 1 auto;\n",
       "}\n",
       "\n",
       "/* KEYBOARD */\n",
       ".ccoff {\n",
       "  background-color: inherit;\n",
       "}\n",
       ".ccon {\n",
       "  background-color: yellow ! important;\n",
       "}\n",
       "/* TF header */\n",
       "\n",
       "summary {\n",
       "  /* needed to override the normalize.less\n",
       "   * in the classical jupyter notebook\n",
       "   */\n",
       "  display: list-item ! important;\n",
       "}\n",
       "\n",
       ".fcorpus {\n",
       "  display: flex;\n",
       "  flex-flow: column nowrap;\n",
       "  justify-content: flex-start;\n",
       "  align-items: flex-start;\n",
       "  align-content: flex-start;\n",
       "}\n",
       ".frow {\n",
       "  display: flex;\n",
       "  flex-flow: row nowrap;\n",
       "  justify-content: flex-start;\n",
       "  align-items: flex-start;\n",
       "  align-content: flex-start;\n",
       "}\n",
       ".fmeta {\n",
       "  display: flex;\n",
       "  flex-flow: column nowrap;\n",
       "  justify-content: flex-start;\n",
       "  align-items: flex-start;\n",
       "  align-content: flex-start;\n",
       "}\n",
       ".fmetarow {\n",
       "  display: flex;\n",
       "  flex-flow: row nowrap;\n",
       "  justify-content: flex-start;\n",
       "  align-items: flex-start;\n",
       "  align-content: flex-start;\n",
       "}\n",
       ".fmetakey {\n",
       "  min-width: 10rem;\n",
       "  font-family: monospace;\n",
       "}\n",
       ".fnamecat {\n",
       "  min-width: 10rem;\n",
       "}\n",
       ".fnamecat.edge {\n",
       "  font-weight: bold;\n",
       "  font-style: italic;\n",
       "}\n",
       ".fmono {\n",
       "    font-family: monospace;\n",
       "}\n",
       "\n",
       ":root {\n",
       "\t--node:               hsla(120, 100%,  20%, 1.0  );\n",
       "\t--label:              hsla(  0, 100%,  20%, 1.0  );\n",
       "\t--tfsechead:          hsla(  0, 100%,  25%, 1.0  );\n",
       "\t--structure:          hsla(120, 100%,  25%, 1.0  );\n",
       "\t--features:           hsla(  0,   0%,  30%, 1.0  );\n",
       "  --text-color:         hsla( 60,  80%,  10%, 1.0  );\n",
       "  --lex-color:          hsla(220,  90%,  60%, 1.0  );\n",
       "  --meta-color:         hsla(  0,   0%,  90%, 0.7  );\n",
       "  --meta-width:         3px;\n",
       "  --border-color-nul:   hsla(  0,   0%,  90%, 0.5  );\n",
       "  --border-color0:      hsla(  0,   0%,  90%, 0.9  );\n",
       "  --border-color1:      hsla(  0,   0%,  80%, 0.9  );\n",
       "  --border-color2:      hsla(  0,   0%,  70%, 0.9  );\n",
       "  --border-color3:      hsla(  0,   0%,  80%, 0.8  );\n",
       "  --border-color4:      hsla(  0,   0%,  60%, 0.9  );\n",
       "  --border-width-nul:   2px;\n",
       "  --border-width0:      2px;\n",
       "  --border-width1:      3px;\n",
       "  --border-width2:      4px;\n",
       "  --border-width3:      6px;\n",
       "  --border-width4:      5px;\n",
       "  --border-width-plain: 2px;\n",
       "}\n",
       ".hl {\n",
       "  background-color: var(--hl-strong);\n",
       "}\n",
       "span.hl {\n",
       "\tbackground-color: var(--hl-strong);\n",
       "\tborder-width: 0;\n",
       "\tborder-radius: 2px;\n",
       "\tborder-style: solid;\n",
       "}\n",
       "div.contnr.hl,div.lbl.hl {\n",
       "  background-color: var(--hl-strong);\n",
       "}\n",
       "div.contnr.hl {\n",
       "  border-color: var(--hl-rim) ! important;\n",
       "\tborder-width: 4px ! important;\n",
       "}\n",
       "\n",
       "span.hlbx {\n",
       "\tborder-color: var(--hl-rim);\n",
       "\tborder-width: 4px ! important;\n",
       "\tborder-style: solid;\n",
       "\tborder-radius: 6px;\n",
       "  padding: 4px;\n",
       "  margin: 4px;\n",
       "}\n",
       "\n",
       "span.plain {\n",
       "  display: inline-block;\n",
       "  white-space: pre-wrap;\n",
       "}\n",
       "\n",
       ":root {\n",
       "\t--hl-strong:        hsla( 60, 100%,  70%, 0.9  );\n",
       "\t--hl-rim:           hsla( 55,  80%,  50%, 1.0  );\n",
       "}\n",
       ".pnum {\n",
       "    font-family: sans-serif;\n",
       "    font-size: small;\n",
       "    font-weight: bold;\n",
       "    color: #444444;\n",
       "}\n",
       ".period {\n",
       "    font-family: monospace;\n",
       "    font-size: medium;\n",
       "    font-weight: bold;\n",
       "    color: #0000bb;\n",
       "}\n",
       "/* LANGUAGE: superscript and subscript */\n",
       "\n",
       "/* cluster */\n",
       ".det {\n",
       "    vertical-align: super;\n",
       "}\n",
       "/* cluster */\n",
       ".lang {\n",
       "    vertical-align: sub;\n",
       "}\n",
       "/* REDACTIONAL: line over or under  */\n",
       "\n",
       "/* flag */\n",
       ".collated {\n",
       "    font-weight: bold;\n",
       "    text-decoration: underline;\n",
       "}\n",
       "/* cluster */\n",
       ".excised {\n",
       "    color: #dd0000;\n",
       "    text-decoration: line-through;\n",
       "}\n",
       "/* cluster */\n",
       ".supplied {\n",
       "    color: #0000ff;\n",
       "    text-decoration: overline;\n",
       "}\n",
       "/* flag */\n",
       ".remarkable {\n",
       "    font-weight: bold;\n",
       "    text-decoration: overline;\n",
       "}\n",
       "\n",
       "/* UNSURE: italic*/\n",
       "\n",
       "/* cluster */\n",
       ".uncertain {\n",
       "    font-style: italic\n",
       "}\n",
       "/* flag */\n",
       ".question {\n",
       "    font-weight: bold;\n",
       "    font-style: italic\n",
       "}\n",
       "\n",
       "/* BROKEN: text-shadow */\n",
       "\n",
       "/* cluster */\n",
       ".missing {\n",
       "    color: #999999;\n",
       "    text-shadow: #bbbbbb 1px 1px;\n",
       "}\n",
       "/* flag */\n",
       ".damage {\n",
       "    font-weight: bold;\n",
       "    color: #999999;\n",
       "    text-shadow: #bbbbbb 1px 1px;\n",
       "}\n",
       ".empty {\n",
       "  color: #ff0000;\n",
       "}\n",
       "\n",
       "</style>"
      ],
      "text/plain": [
       "<IPython.core.display.HTML object>"
      ]
     },
     "metadata": {},
     "output_type": "display_data"
    },
    {
     "data": {
      "text/html": [
       "\n",
       "<script>\n",
       "const copyChar = (el, c) => {\n",
       "    for (const el of document.getElementsByClassName('ccon')) {\n",
       "        el.className = 'ccoff'\n",
       "    }\n",
       "    el.className = 'ccon'\n",
       "    navigator.clipboard.writeText(String.fromCharCode(c))\n",
       "}\n",
       "</script>\n"
      ],
      "text/plain": [
       "<IPython.core.display.HTML object>"
      ]
     },
     "metadata": {},
     "output_type": "display_data"
    },
    {
     "data": {
      "text/html": [
       "<div><b>Text-Fabric API:</b> names <a target=\"_blank\" href=\"https://annotation.github.io/text-fabric/tf/cheatsheet.html\" title=\"doc\">N F E L T S C TF</a> directly usable</div><hr>"
      ],
      "text/plain": [
       "<IPython.core.display.HTML object>"
      ]
     },
     "metadata": {},
     "output_type": "display_data"
    }
   ],
   "source": [
    "A = use(\"Nino-cunei/ninmed\", hoist=globals())"
   ]
  },
  {
   "cell_type": "markdown",
   "metadata": {},
   "source": [
    "We pick an example face with which we illustrate many ways to represent cuneiform text."
   ]
  },
  {
   "cell_type": "code",
   "execution_count": 4,
   "metadata": {},
   "outputs": [],
   "source": [
    "exampleFace = (\"P285109\", \"reverse\")\n",
    "f = T.nodeFromSection(exampleFace)\n",
    "lines = L.d(f, otype=\"line\")"
   ]
  },
  {
   "cell_type": "markdown",
   "metadata": {},
   "source": [
    "# Raw text\n",
    "\n",
    "The most basic way is to show the source material for each line by its `atf` feature.\n",
    "As this does not include the line number, we grab that from the `lnno` feature."
   ]
  },
  {
   "cell_type": "code",
   "execution_count": 5,
   "metadata": {},
   "outputs": [
    {
     "name": "stdout",
     "output_type": "stream",
     "text": [
      "2:1' 1'. [x x x] x lu#-u₂# ina KAŠ.SAG [x x x x x x x]\n",
      "2:2' 2'. [DIŠ NA SA]G.KI.DAB.BA TUKU.TUKU [x x x x]\n",
      "2:3' 3'. [x x x x x UGU-š]u₂ KUM₂ [x x]\n",
      "2:4' 4'. [x x x x x x x x Š]U₂? L[UGAL? x x x x]\n"
     ]
    }
   ],
   "source": [
    "for ln in lines:\n",
    "    print(F.lnno.v(ln), F.atf.v(ln))"
   ]
  },
  {
   "cell_type": "markdown",
   "metadata": {},
   "source": [
    "Note that the document starts with an empty line, which is not ATF-numbered.\n",
    "Here the feature `lnno` contains `!` followed by the logical line number on the face."
   ]
  },
  {
   "cell_type": "markdown",
   "metadata": {},
   "source": [
    "# Text formats\n",
    "\n",
    "The TF API supports *text formats*. Text formats make selections and apply templates and styles based\n",
    "on the analysed features of the text. For example: a text-format may ignore flags or clusters, or\n",
    "format numerals in special ways.\n",
    "\n",
    "Text formats are not baked into TF, but they are defined in the feature `otext` of the corpus.\n",
    "\n",
    "Moreover, for this corpus a TF app has been build that defines additional text-formats.\n",
    "\n",
    "Whereas the formats defined in `otext` are strictly plain text formats, the formats\n",
    "defined in the app are able to use typographic styles to shape the text, such as bold, italic, colors, etc.\n",
    "\n",
    "Here is the list of all formats."
   ]
  },
  {
   "cell_type": "code",
   "execution_count": 6,
   "metadata": {},
   "outputs": [
    {
     "data": {
      "text/plain": [
       "{'text-orig-full': 'sign',\n",
       " 'text-orig-plain': 'sign',\n",
       " 'layout-orig-full': 'sign',\n",
       " 'layout-orig-plain': 'sign'}"
      ]
     },
     "execution_count": 6,
     "metadata": {},
     "output_type": "execute_result"
    }
   ],
   "source": [
    "T.formats"
   ]
  },
  {
   "cell_type": "markdown",
   "metadata": {},
   "source": [
    "## Plain text formats\n",
    "\n",
    "The formats whose names start with `text-` are the plain text formats.\n",
    "\n",
    "### `text-orig-full`\n",
    "\n",
    "This format is really close to the ATF. It contains all original information.\n",
    "\n",
    "This is the default format. We do not have to specify it."
   ]
  },
  {
   "cell_type": "code",
   "execution_count": 7,
   "metadata": {},
   "outputs": [
    {
     "name": "stdout",
     "output_type": "stream",
     "text": [
      "2:1' [x x x] x lu#-u₂# ina KAŠ.SAG [x x x x x x x] \n",
      "2:2' [DIŠ NA ] SAG#.KI.DAB.BA TUKU.TUKU [x x x x] \n",
      "2:3' [x x x x x UGU-] šu₂# KUM₂ [x x] \n",
      "2:4' [x x x x x x x x ] ŠU₂?# LUGAL?# [x x x x] \n"
     ]
    }
   ],
   "source": [
    "for ln in lines:\n",
    "    print(F.lnno.v(ln), T.text(ln))"
   ]
  },
  {
   "cell_type": "markdown",
   "metadata": {},
   "source": [
    "The `A.plain()` function focuses on the *contents*, and instead of the line number, it gives a full specification\n",
    "of the location, linked to the online source on CDLI."
   ]
  },
  {
   "cell_type": "code",
   "execution_count": 8,
   "metadata": {},
   "outputs": [
    {
     "data": {
      "text/html": [
       "<div class=\"\"><span class=\"tfsechead \"><span class=\"ltr\"><a target=\"_blank\" href=\"https://cdli.ucla.edu/search/search_results.php?SearchMode=Text&amp;ObjectID=P285109\" title=\"Show this document on CDLI\" sec=\"P285109 reverse:2:1'\">P285109 reverse:2:1'</a></span></span>  <span class=\"txtt\">[</span><span class=\"txtt\">x </span><span class=\"txtt\">x </span><span class=\"txtt\">x</span><span class=\"txtt\">] </span><span class=\"txtt\">x </span><span class=\"txtt\">lu#</span><span class=\"txtt\">-</span><span class=\"txtt\">u₂# </span><span class=\"txtt\">ina </span><span class=\"txtt\">KAŠ</span><span class=\"txtt\">.</span><span class=\"txtt\">SAG </span><span class=\"txtt\">[</span><span class=\"txtt\">x </span><span class=\"txtt\">x </span><span class=\"txtt\">x </span><span class=\"txtt\">x </span><span class=\"txtt\">x </span><span class=\"txtt\">x </span><span class=\"txtt\">x</span><span class=\"txtt\">] </span></div>"
      ],
      "text/plain": [
       "<IPython.core.display.HTML object>"
      ]
     },
     "metadata": {},
     "output_type": "display_data"
    },
    {
     "data": {
      "text/html": [
       "<div class=\"\"><span class=\"tfsechead \"><span class=\"ltr\"><a target=\"_blank\" href=\"https://cdli.ucla.edu/search/search_results.php?SearchMode=Text&amp;ObjectID=P285109\" title=\"Show this document on CDLI\" sec=\"P285109 reverse:2:2'\">P285109 reverse:2:2'</a></span></span>  <span class=\"txtt\">[</span><span class=\"txtt\">DIŠ </span><span class=\"txtt\">NA </span><span class=\"txtt\">] </span><span class=\"txtt\">SAG#</span><span class=\"txtt\">.</span><span class=\"txtt\">KI</span><span class=\"txtt\">.</span><span class=\"txtt\">DAB</span><span class=\"txtt\">.</span><span class=\"txtt\">BA </span><span class=\"txtt\">TUKU</span><span class=\"txtt\">.</span><span class=\"txtt\">TUKU </span><span class=\"txtt\">[</span><span class=\"txtt\">x </span><span class=\"txtt\">x </span><span class=\"txtt\">x </span><span class=\"txtt\">x</span><span class=\"txtt\">] </span></div>"
      ],
      "text/plain": [
       "<IPython.core.display.HTML object>"
      ]
     },
     "metadata": {},
     "output_type": "display_data"
    },
    {
     "data": {
      "text/html": [
       "<div class=\"\"><span class=\"tfsechead \"><span class=\"ltr\"><a target=\"_blank\" href=\"https://cdli.ucla.edu/search/search_results.php?SearchMode=Text&amp;ObjectID=P285109\" title=\"Show this document on CDLI\" sec=\"P285109 reverse:2:3'\">P285109 reverse:2:3'</a></span></span>  <span class=\"txtt\">[</span><span class=\"txtt\">x </span><span class=\"txtt\">x </span><span class=\"txtt\">x </span><span class=\"txtt\">x </span><span class=\"txtt\">x </span><span class=\"txtt\">UGU</span><span class=\"txtt\">-</span><span class=\"txtt\">] </span><span class=\"txtt\">šu₂# </span><span class=\"txtt\">KUM₂ </span><span class=\"txtt\">[</span><span class=\"txtt\">x </span><span class=\"txtt\">x</span><span class=\"txtt\">] </span></div>"
      ],
      "text/plain": [
       "<IPython.core.display.HTML object>"
      ]
     },
     "metadata": {},
     "output_type": "display_data"
    },
    {
     "data": {
      "text/html": [
       "<div class=\"\"><span class=\"tfsechead \"><span class=\"ltr\"><a target=\"_blank\" href=\"https://cdli.ucla.edu/search/search_results.php?SearchMode=Text&amp;ObjectID=P285109\" title=\"Show this document on CDLI\" sec=\"P285109 reverse:2:4'\">P285109 reverse:2:4'</a></span></span>  <span class=\"txtt\">[</span><span class=\"txtt\">x </span><span class=\"txtt\">x </span><span class=\"txtt\">x </span><span class=\"txtt\">x </span><span class=\"txtt\">x </span><span class=\"txtt\">x </span><span class=\"txtt\">x </span><span class=\"txtt\">x </span><span class=\"txtt\">] </span><span class=\"txtt\">ŠU₂?# </span><span class=\"txtt\">LUGAL?# </span><span class=\"txtt\">[</span><span class=\"txtt\">x </span><span class=\"txtt\">x </span><span class=\"txtt\">x </span><span class=\"txtt\">x</span><span class=\"txtt\">] </span></div>"
      ],
      "text/plain": [
       "<IPython.core.display.HTML object>"
      ]
     },
     "metadata": {},
     "output_type": "display_data"
    }
   ],
   "source": [
    "for ln in lines:\n",
    "    A.plain(ln)"
   ]
  },
  {
   "cell_type": "markdown",
   "metadata": {
    "tags": []
   },
   "source": [
    "# Links to all tablets\n",
    "\n",
    "We produce a links to CDLI for all tablets in the corpus"
   ]
  },
  {
   "cell_type": "code",
   "execution_count": 10,
   "metadata": {},
   "outputs": [
    {
     "data": {
      "text/html": [
       "<div class=\"\"><span class=\"tfsechead \"><span class=\"ltr\"><a target=\"_blank\" href=\"https://cdli.ucla.edu/search/search_results.php?SearchMode=Text&amp;ObjectID=P285136\" title=\"Show this document on CDLI\" sec=\"P285136\">P285136</a></span></span>  <span class=\"txtt \"><span class=\"tfsechead ltr\"><span class=\"ltr\"> </span></span></span></div>"
      ],
      "text/plain": [
       "<IPython.core.display.HTML object>"
      ]
     },
     "metadata": {},
     "output_type": "display_data"
    },
    {
     "data": {
      "text/html": [
       "<div class=\"\"><span class=\"tfsechead \"><span class=\"ltr\"><a target=\"_blank\" href=\"https://cdli.ucla.edu/search/search_results.php?SearchMode=Text&amp;ObjectID=P479250\" title=\"Show this document on CDLI\" sec=\"P479250\">P479250</a></span></span>  <span class=\"txtt \"><span class=\"tfsechead ltr\"><span class=\"ltr\"> </span></span></span></div>"
      ],
      "text/plain": [
       "<IPython.core.display.HTML object>"
      ]
     },
     "metadata": {},
     "output_type": "display_data"
    },
    {
     "data": {
      "text/html": [
       "<div class=\"\"><span class=\"tfsechead \"><span class=\"ltr\"><a target=\"_blank\" href=\"https://cdli.ucla.edu/search/search_results.php?SearchMode=Text&amp;ObjectID=P285109\" title=\"Show this document on CDLI\" sec=\"P285109\">P285109</a></span></span>  <span class=\"txtt \"><span class=\"tfsechead ltr\"><span class=\"ltr\"> </span></span></span></div>"
      ],
      "text/plain": [
       "<IPython.core.display.HTML object>"
      ]
     },
     "metadata": {},
     "output_type": "display_data"
    },
    {
     "data": {
      "text/html": [
       "<div class=\"\"><span class=\"tfsechead \"><span class=\"ltr\"><a target=\"_blank\" href=\"https://cdli.ucla.edu/search/search_results.php?SearchMode=Text&amp;ObjectID=P399223\" title=\"Show this document on CDLI\" sec=\"P399223\">P399223</a></span></span>  <span class=\"txtt \"><span class=\"tfsechead ltr\"><span class=\"ltr\"> </span></span></span></div>"
      ],
      "text/plain": [
       "<IPython.core.display.HTML object>"
      ]
     },
     "metadata": {},
     "output_type": "display_data"
    },
    {
     "data": {
      "text/html": [
       "<div class=\"\"><span class=\"tfsechead \"><span class=\"ltr\"><a target=\"_blank\" href=\"https://cdli.ucla.edu/search/search_results.php?SearchMode=Text&amp;ObjectID=P399313\" title=\"Show this document on CDLI\" sec=\"P399313\">P399313</a></span></span>  <span class=\"txtt \"><span class=\"tfsechead ltr\"><span class=\"ltr\"> </span></span></span></div>"
      ],
      "text/plain": [
       "<IPython.core.display.HTML object>"
      ]
     },
     "metadata": {},
     "output_type": "display_data"
    },
    {
     "data": {
      "text/html": [
       "<div class=\"\"><span class=\"tfsechead \"><span class=\"ltr\"><a target=\"_blank\" href=\"https://cdli.ucla.edu/search/search_results.php?SearchMode=Text&amp;ObjectID=P400909\" title=\"Show this document on CDLI\" sec=\"P400909\">P400909</a></span></span>  <span class=\"txtt \"><span class=\"tfsechead ltr\"><span class=\"ltr\"> </span></span></span></div>"
      ],
      "text/plain": [
       "<IPython.core.display.HTML object>"
      ]
     },
     "metadata": {},
     "output_type": "display_data"
    },
    {
     "data": {
      "text/html": [
       "<div class=\"\"><span class=\"tfsechead \"><span class=\"ltr\"><a target=\"_blank\" href=\"https://cdli.ucla.edu/search/search_results.php?SearchMode=Text&amp;ObjectID=P401255\" title=\"Show this document on CDLI\" sec=\"P401255\">P401255</a></span></span>  <span class=\"txtt \"><span class=\"tfsechead ltr\"><span class=\"ltr\"> </span></span></span></div>"
      ],
      "text/plain": [
       "<IPython.core.display.HTML object>"
      ]
     },
     "metadata": {},
     "output_type": "display_data"
    },
    {
     "data": {
      "text/html": [
       "<div class=\"\"><span class=\"tfsechead \"><span class=\"ltr\"><a target=\"_blank\" href=\"https://cdli.ucla.edu/search/search_results.php?SearchMode=Text&amp;ObjectID=P403291\" title=\"Show this document on CDLI\" sec=\"P403291\">P403291</a></span></span>  <span class=\"txtt \"><span class=\"tfsechead ltr\"><span class=\"ltr\"> </span></span></span></div>"
      ],
      "text/plain": [
       "<IPython.core.display.HTML object>"
      ]
     },
     "metadata": {},
     "output_type": "display_data"
    },
    {
     "data": {
      "text/html": [
       "<div class=\"\"><span class=\"tfsechead \"><span class=\"ltr\"><a target=\"_blank\" href=\"https://cdli.ucla.edu/search/search_results.php?SearchMode=Text&amp;ObjectID=P403381\" title=\"Show this document on CDLI\" sec=\"P403381\">P403381</a></span></span>  <span class=\"txtt \"><span class=\"tfsechead ltr\"><span class=\"ltr\"> </span></span></span></div>"
      ],
      "text/plain": [
       "<IPython.core.display.HTML object>"
      ]
     },
     "metadata": {},
     "output_type": "display_data"
    },
    {
     "data": {
      "text/html": [
       "<div class=\"\"><span class=\"tfsechead \"><span class=\"ltr\"><a target=\"_blank\" href=\"https://cdli.ucla.edu/search/search_results.php?SearchMode=Text&amp;ObjectID=P394104\" title=\"Show this document on CDLI\" sec=\"P394104\">P394104</a></span></span>  <span class=\"txtt \"><span class=\"tfsechead ltr\"><span class=\"ltr\"> </span></span></span></div>"
      ],
      "text/plain": [
       "<IPython.core.display.HTML object>"
      ]
     },
     "metadata": {},
     "output_type": "display_data"
    },
    {
     "data": {
      "text/html": [
       "<div class=\"\"><span class=\"tfsechead \"><span class=\"ltr\"><a target=\"_blank\" href=\"https://cdli.ucla.edu/search/search_results.php?SearchMode=Text&amp;ObjectID=P393782\" title=\"Show this document on CDLI\" sec=\"P393782\">P393782</a></span></span>  <span class=\"txtt \"><span class=\"tfsechead ltr\"><span class=\"ltr\"> </span></span></span></div>"
      ],
      "text/plain": [
       "<IPython.core.display.HTML object>"
      ]
     },
     "metadata": {},
     "output_type": "display_data"
    },
    {
     "data": {
      "text/html": [
       "<div class=\"\"><span class=\"tfsechead \"><span class=\"ltr\"><a target=\"_blank\" href=\"https://cdli.ucla.edu/search/search_results.php?SearchMode=Text&amp;ObjectID=P404547\" title=\"Show this document on CDLI\" sec=\"P404547\">P404547</a></span></span>  <span class=\"txtt \"><span class=\"tfsechead ltr\"><span class=\"ltr\"> </span></span></span></div>"
      ],
      "text/plain": [
       "<IPython.core.display.HTML object>"
      ]
     },
     "metadata": {},
     "output_type": "display_data"
    },
    {
     "data": {
      "text/html": [
       "<div class=\"\"><span class=\"tfsechead \"><span class=\"ltr\"><a target=\"_blank\" href=\"https://cdli.ucla.edu/search/search_results.php?SearchMode=Text&amp;ObjectID=P365742\" title=\"Show this document on CDLI\" sec=\"P365742\">P365742</a></span></span>  <span class=\"txtt \"><span class=\"tfsechead ltr\"><span class=\"ltr\"> </span></span></span></div>"
      ],
      "text/plain": [
       "<IPython.core.display.HTML object>"
      ]
     },
     "metadata": {},
     "output_type": "display_data"
    },
    {
     "data": {
      "text/html": [
       "<div class=\"\"><span class=\"tfsechead \"><span class=\"ltr\"><a target=\"_blank\" href=\"https://cdli.ucla.edu/search/search_results.php?SearchMode=Text&amp;ObjectID=P394390\" title=\"Show this document on CDLI\" sec=\"P394390\">P394390</a></span></span>  <span class=\"txtt \"><span class=\"tfsechead ltr\"><span class=\"ltr\"> </span></span></span></div>"
      ],
      "text/plain": [
       "<IPython.core.display.HTML object>"
      ]
     },
     "metadata": {},
     "output_type": "display_data"
    },
    {
     "data": {
      "text/html": [
       "<div class=\"\"><span class=\"tfsechead \"><span class=\"ltr\"><a target=\"_blank\" href=\"https://cdli.ucla.edu/search/search_results.php?SearchMode=Text&amp;ObjectID=P365744\" title=\"Show this document on CDLI\" sec=\"P365744\">P365744</a></span></span>  <span class=\"txtt \"><span class=\"tfsechead ltr\"><span class=\"ltr\"> </span></span></span></div>"
      ],
      "text/plain": [
       "<IPython.core.display.HTML object>"
      ]
     },
     "metadata": {},
     "output_type": "display_data"
    },
    {
     "data": {
      "text/html": [
       "<div class=\"\"><span class=\"tfsechead \"><span class=\"ltr\"><a target=\"_blank\" href=\"https://cdli.ucla.edu/search/search_results.php?SearchMode=Text&amp;ObjectID=P394422\" title=\"Show this document on CDLI\" sec=\"P394422\">P394422</a></span></span>  <span class=\"txtt \"><span class=\"tfsechead ltr\"><span class=\"ltr\"> </span></span></span></div>"
      ],
      "text/plain": [
       "<IPython.core.display.HTML object>"
      ]
     },
     "metadata": {},
     "output_type": "display_data"
    },
    {
     "data": {
      "text/html": [
       "<div class=\"\"><span class=\"tfsechead \"><span class=\"ltr\"><a target=\"_blank\" href=\"https://cdli.ucla.edu/search/search_results.php?SearchMode=Text&amp;ObjectID=P394434\" title=\"Show this document on CDLI\" sec=\"P394434\">P394434</a></span></span>  <span class=\"txtt \"><span class=\"tfsechead ltr\"><span class=\"ltr\"> </span></span></span></div>"
      ],
      "text/plain": [
       "<IPython.core.display.HTML object>"
      ]
     },
     "metadata": {},
     "output_type": "display_data"
    },
    {
     "data": {
      "text/html": [
       "<div class=\"\"><span class=\"tfsechead \"><span class=\"ltr\"><a target=\"_blank\" href=\"https://cdli.ucla.edu/search/search_results.php?SearchMode=Text&amp;ObjectID=P394454\" title=\"Show this document on CDLI\" sec=\"P394454\">P394454</a></span></span>  <span class=\"txtt \"><span class=\"tfsechead ltr\"><span class=\"ltr\"> </span></span></span></div>"
      ],
      "text/plain": [
       "<IPython.core.display.HTML object>"
      ]
     },
     "metadata": {},
     "output_type": "display_data"
    },
    {
     "data": {
      "text/html": [
       "<div class=\"\"><span class=\"tfsechead \"><span class=\"ltr\"><a target=\"_blank\" href=\"https://cdli.ucla.edu/search/search_results.php?SearchMode=Text&amp;ObjectID=P394492\" title=\"Show this document on CDLI\" sec=\"P394492\">P394492</a></span></span>  <span class=\"txtt \"><span class=\"tfsechead ltr\"><span class=\"ltr\"> </span></span></span></div>"
      ],
      "text/plain": [
       "<IPython.core.display.HTML object>"
      ]
     },
     "metadata": {},
     "output_type": "display_data"
    },
    {
     "data": {
      "text/html": [
       "<div class=\"\"><span class=\"tfsechead \"><span class=\"ltr\"><a target=\"_blank\" href=\"https://cdli.ucla.edu/search/search_results.php?SearchMode=Text&amp;ObjectID=P432416\" title=\"Show this document on CDLI\" sec=\"P432416\">P432416</a></span></span>  <span class=\"txtt \"><span class=\"tfsechead ltr\"><span class=\"ltr\"> </span></span></span></div>"
      ],
      "text/plain": [
       "<IPython.core.display.HTML object>"
      ]
     },
     "metadata": {},
     "output_type": "display_data"
    },
    {
     "data": {
      "text/html": [
       "<div class=\"\"><span class=\"tfsechead \"><span class=\"ltr\"><a target=\"_blank\" href=\"https://cdli.ucla.edu/search/search_results.php?SearchMode=Text&amp;ObjectID=P394520\" title=\"Show this document on CDLI\" sec=\"P394520\">P394520</a></span></span>  <span class=\"txtt \"><span class=\"tfsechead ltr\"><span class=\"ltr\"> </span></span></span></div>"
      ],
      "text/plain": [
       "<IPython.core.display.HTML object>"
      ]
     },
     "metadata": {},
     "output_type": "display_data"
    },
    {
     "data": {
      "text/html": [
       "<div class=\"\"><span class=\"tfsechead \"><span class=\"ltr\"><a target=\"_blank\" href=\"https://cdli.ucla.edu/search/search_results.php?SearchMode=Text&amp;ObjectID=P394523\" title=\"Show this document on CDLI\" sec=\"P394523\">P394523</a></span></span>  <span class=\"txtt \"><span class=\"tfsechead ltr\"><span class=\"ltr\"> </span></span></span></div>"
      ],
      "text/plain": [
       "<IPython.core.display.HTML object>"
      ]
     },
     "metadata": {},
     "output_type": "display_data"
    },
    {
     "data": {
      "text/html": [
       "<div class=\"\"><span class=\"tfsechead \"><span class=\"ltr\"><a target=\"_blank\" href=\"https://cdli.ucla.edu/search/search_results.php?SearchMode=Text&amp;ObjectID=P395359\" title=\"Show this document on CDLI\" sec=\"P395359\">P395359</a></span></span>  <span class=\"txtt \"><span class=\"tfsechead ltr\"><span class=\"ltr\"> </span></span></span></div>"
      ],
      "text/plain": [
       "<IPython.core.display.HTML object>"
      ]
     },
     "metadata": {},
     "output_type": "display_data"
    },
    {
     "data": {
      "text/html": [
       "<div class=\"\"><span class=\"tfsechead \"><span class=\"ltr\"><a target=\"_blank\" href=\"https://cdli.ucla.edu/search/search_results.php?SearchMode=Text&amp;ObjectID=P395407\" title=\"Show this document on CDLI\" sec=\"P395407\">P395407</a></span></span>  <span class=\"txtt \"><span class=\"tfsechead ltr\"><span class=\"ltr\"> </span></span></span></div>"
      ],
      "text/plain": [
       "<IPython.core.display.HTML object>"
      ]
     },
     "metadata": {},
     "output_type": "display_data"
    },
    {
     "data": {
      "text/html": [
       "<div class=\"\"><span class=\"tfsechead \"><span class=\"ltr\"><a target=\"_blank\" href=\"https://cdli.ucla.edu/search/search_results.php?SearchMode=Text&amp;ObjectID=P396343\" title=\"Show this document on CDLI\" sec=\"P396343\">P396343</a></span></span>  <span class=\"txtt \"><span class=\"tfsechead ltr\"><span class=\"ltr\"> </span></span></span></div>"
      ],
      "text/plain": [
       "<IPython.core.display.HTML object>"
      ]
     },
     "metadata": {},
     "output_type": "display_data"
    },
    {
     "data": {
      "text/html": [
       "<div class=\"\"><span class=\"tfsechead \"><span class=\"ltr\"><a target=\"_blank\" href=\"https://cdli.ucla.edu/search/search_results.php?SearchMode=Text&amp;ObjectID=P393735\" title=\"Show this document on CDLI\" sec=\"P393735\">P393735</a></span></span>  <span class=\"txtt \"><span class=\"tfsechead ltr\"><span class=\"ltr\"> </span></span></span></div>"
      ],
      "text/plain": [
       "<IPython.core.display.HTML object>"
      ]
     },
     "metadata": {},
     "output_type": "display_data"
    },
    {
     "data": {
      "text/html": [
       "<div class=\"\"><span class=\"tfsechead \"><span class=\"ltr\"><a target=\"_blank\" href=\"https://cdli.ucla.edu/search/search_results.php?SearchMode=Text&amp;ObjectID=P396392\" title=\"Show this document on CDLI\" sec=\"P396392\">P396392</a></span></span>  <span class=\"txtt \"><span class=\"tfsechead ltr\"><span class=\"ltr\"> </span></span></span></div>"
      ],
      "text/plain": [
       "<IPython.core.display.HTML object>"
      ]
     },
     "metadata": {},
     "output_type": "display_data"
    },
    {
     "data": {
      "text/html": [
       "<div class=\"\"><span class=\"tfsechead \"><span class=\"ltr\"><a target=\"_blank\" href=\"https://cdli.ucla.edu/search/search_results.php?SearchMode=Text&amp;ObjectID=P393743\" title=\"Show this document on CDLI\" sec=\"P393743\">P393743</a></span></span>  <span class=\"txtt \"><span class=\"tfsechead ltr\"><span class=\"ltr\"> </span></span></span></div>"
      ],
      "text/plain": [
       "<IPython.core.display.HTML object>"
      ]
     },
     "metadata": {},
     "output_type": "display_data"
    },
    {
     "data": {
      "text/html": [
       "<div class=\"\"><span class=\"tfsechead \"><span class=\"ltr\"><a target=\"_blank\" href=\"https://cdli.ucla.edu/search/search_results.php?SearchMode=Text&amp;ObjectID=P397315\" title=\"Show this document on CDLI\" sec=\"P397315\">P397315</a></span></span>  <span class=\"txtt \"><span class=\"tfsechead ltr\"><span class=\"ltr\"> </span></span></span></div>"
      ],
      "text/plain": [
       "<IPython.core.display.HTML object>"
      ]
     },
     "metadata": {},
     "output_type": "display_data"
    },
    {
     "data": {
      "text/html": [
       "<div class=\"\"><span class=\"tfsechead \"><span class=\"ltr\"><a target=\"_blank\" href=\"https://cdli.ucla.edu/search/search_results.php?SearchMode=Text&amp;ObjectID=P397594\" title=\"Show this document on CDLI\" sec=\"P397594\">P397594</a></span></span>  <span class=\"txtt \"><span class=\"tfsechead ltr\"><span class=\"ltr\"> </span></span></span></div>"
      ],
      "text/plain": [
       "<IPython.core.display.HTML object>"
      ]
     },
     "metadata": {},
     "output_type": "display_data"
    },
    {
     "data": {
      "text/html": [
       "<div class=\"\"><span class=\"tfsechead \"><span class=\"ltr\"><a target=\"_blank\" href=\"https://cdli.ucla.edu/search/search_results.php?SearchMode=Text&amp;ObjectID=P398154\" title=\"Show this document on CDLI\" sec=\"P398154\">P398154</a></span></span>  <span class=\"txtt \"><span class=\"tfsechead ltr\"><span class=\"ltr\"> </span></span></span></div>"
      ],
      "text/plain": [
       "<IPython.core.display.HTML object>"
      ]
     },
     "metadata": {},
     "output_type": "display_data"
    },
    {
     "data": {
      "text/html": [
       "<div class=\"\"><span class=\"tfsechead \"><span class=\"ltr\"><a target=\"_blank\" href=\"https://cdli.ucla.edu/search/search_results.php?SearchMode=Text&amp;ObjectID=P424899\" title=\"Show this document on CDLI\" sec=\"P424899\">P424899</a></span></span>  <span class=\"txtt \"><span class=\"tfsechead ltr\"><span class=\"ltr\"> </span></span></span></div>"
      ],
      "text/plain": [
       "<IPython.core.display.HTML object>"
      ]
     },
     "metadata": {},
     "output_type": "display_data"
    },
    {
     "data": {
      "text/html": [
       "<div class=\"\"><span class=\"tfsechead \"><span class=\"ltr\"><a target=\"_blank\" href=\"https://cdli.ucla.edu/search/search_results.php?SearchMode=Text&amp;ObjectID=P365747\" title=\"Show this document on CDLI\" sec=\"P365747\">P365747</a></span></span>  <span class=\"txtt \"><span class=\"tfsechead ltr\"><span class=\"ltr\"> </span></span></span></div>"
      ],
      "text/plain": [
       "<IPython.core.display.HTML object>"
      ]
     },
     "metadata": {},
     "output_type": "display_data"
    },
    {
     "data": {
      "text/html": [
       "<div class=\"\"><span class=\"tfsechead \"><span class=\"ltr\"><a target=\"_blank\" href=\"https://cdli.ucla.edu/search/search_results.php?SearchMode=Text&amp;ObjectID=P425685\" title=\"Show this document on CDLI\" sec=\"P425685\">P425685</a></span></span>  <span class=\"txtt \"><span class=\"tfsechead ltr\"><span class=\"ltr\"> </span></span></span></div>"
      ],
      "text/plain": [
       "<IPython.core.display.HTML object>"
      ]
     },
     "metadata": {},
     "output_type": "display_data"
    }
   ],
   "source": [
    "for doc in F.otype.s(\"document\"):\n",
    "    A.plain(doc)"
   ]
  },
  {
   "cell_type": "markdown",
   "metadata": {},
   "source": [
    "### `text-orig-plain`\n",
    "\n",
    "This is a somewhat reduced format. It omits all flags and bracketing constructs."
   ]
  },
  {
   "cell_type": "code",
   "execution_count": 9,
   "metadata": {},
   "outputs": [
    {
     "data": {
      "text/html": [
       "<div class=\"\"><span class=\"tfsechead \"><span class=\"ltr\"><a target=\"_blank\" href=\"https://cdli.ucla.edu/search/search_results.php?SearchMode=Text&amp;ObjectID=P285109\" title=\"Show this document on CDLI\" sec=\"P285109 reverse:2:1'\">P285109 reverse:2:1'</a></span></span>  <span class=\"txtt\">x </span><span class=\"txtt\">x </span><span class=\"txtt\">x</span><span class=\"txtt\"> </span><span class=\"txtt\">x </span><span class=\"txtt\">lu</span><span class=\"txtt\">-</span><span class=\"txtt\">u </span><span class=\"txtt\">ina </span><span class=\"txtt\">KAŠ</span><span class=\"txtt\">.</span><span class=\"txtt\">SAG </span><span class=\"txtt\">x </span><span class=\"txtt\">x </span><span class=\"txtt\">x </span><span class=\"txtt\">x </span><span class=\"txtt\">x </span><span class=\"txtt\">x </span><span class=\"txtt\">x</span><span class=\"txtt\"> </span></div>"
      ],
      "text/plain": [
       "<IPython.core.display.HTML object>"
      ]
     },
     "metadata": {},
     "output_type": "display_data"
    },
    {
     "data": {
      "text/html": [
       "<div class=\"\"><span class=\"tfsechead \"><span class=\"ltr\"><a target=\"_blank\" href=\"https://cdli.ucla.edu/search/search_results.php?SearchMode=Text&amp;ObjectID=P285109\" title=\"Show this document on CDLI\" sec=\"P285109 reverse:2:2'\">P285109 reverse:2:2'</a></span></span>  <span class=\"txtt\">DIŠ </span><span class=\"txtt\">NA </span><span class=\"txtt\"> </span><span class=\"txtt\">SAG</span><span class=\"txtt\">.</span><span class=\"txtt\">KI</span><span class=\"txtt\">.</span><span class=\"txtt\">DAB</span><span class=\"txtt\">.</span><span class=\"txtt\">BA </span><span class=\"txtt\">TUKU</span><span class=\"txtt\">.</span><span class=\"txtt\">TUKU </span><span class=\"txtt\">x </span><span class=\"txtt\">x </span><span class=\"txtt\">x </span><span class=\"txtt\">x</span><span class=\"txtt\"> </span></div>"
      ],
      "text/plain": [
       "<IPython.core.display.HTML object>"
      ]
     },
     "metadata": {},
     "output_type": "display_data"
    },
    {
     "data": {
      "text/html": [
       "<div class=\"\"><span class=\"tfsechead \"><span class=\"ltr\"><a target=\"_blank\" href=\"https://cdli.ucla.edu/search/search_results.php?SearchMode=Text&amp;ObjectID=P285109\" title=\"Show this document on CDLI\" sec=\"P285109 reverse:2:3'\">P285109 reverse:2:3'</a></span></span>  <span class=\"txtt\">x </span><span class=\"txtt\">x </span><span class=\"txtt\">x </span><span class=\"txtt\">x </span><span class=\"txtt\">x </span><span class=\"txtt\">UGU</span><span class=\"txtt\">-</span><span class=\"txtt\"> </span><span class=\"txtt\">šu </span><span class=\"txtt\">KUM₂ </span><span class=\"txtt\">x </span><span class=\"txtt\">x</span><span class=\"txtt\"> </span></div>"
      ],
      "text/plain": [
       "<IPython.core.display.HTML object>"
      ]
     },
     "metadata": {},
     "output_type": "display_data"
    },
    {
     "data": {
      "text/html": [
       "<div class=\"\"><span class=\"tfsechead \"><span class=\"ltr\"><a target=\"_blank\" href=\"https://cdli.ucla.edu/search/search_results.php?SearchMode=Text&amp;ObjectID=P285109\" title=\"Show this document on CDLI\" sec=\"P285109 reverse:2:4'\">P285109 reverse:2:4'</a></span></span>  <span class=\"txtt\">x </span><span class=\"txtt\">x </span><span class=\"txtt\">x </span><span class=\"txtt\">x </span><span class=\"txtt\">x </span><span class=\"txtt\">x </span><span class=\"txtt\">x </span><span class=\"txtt\">x </span><span class=\"txtt\"> </span><span class=\"txtt\">ŠU₂ </span><span class=\"txtt\">LUGAL </span><span class=\"txtt\">x </span><span class=\"txtt\">x </span><span class=\"txtt\">x </span><span class=\"txtt\">x</span><span class=\"txtt\"> </span></div>"
      ],
      "text/plain": [
       "<IPython.core.display.HTML object>"
      ]
     },
     "metadata": {},
     "output_type": "display_data"
    }
   ],
   "source": [
    "for ln in lines:\n",
    "    A.plain(ln, fmt=\"text-orig-plain\")"
   ]
  },
  {
   "cell_type": "markdown",
   "metadata": {},
   "source": [
    "## Styled text formats\n",
    "\n",
    "The formats whose names start with `layout-` are the styled text formats.\n",
    "\n",
    "### `layout-orig-full`\n",
    "\n",
    "This format looks like `text-orig-full`, but now we re-introduce the flags and clusters by specific\n",
    "layout devices.\n",
    "\n",
    "See below for detailed examples."
   ]
  },
  {
   "cell_type": "code",
   "execution_count": 10,
   "metadata": {},
   "outputs": [
    {
     "data": {
      "text/html": [
       "<div class=\"\"><span class=\"tfsechead \"><span class=\"ltr\"><a target=\"_blank\" href=\"https://cdli.ucla.edu/search/search_results.php?SearchMode=Text&amp;ObjectID=P285109\" title=\"Show this document on CDLI\" sec=\"P285109 reverse:2:1'\">P285109 reverse:2:1'</a></span></span>  <span class=\"txtt\">[</span><span class=\"txtt\"><span class=\"missing\"><span class=\"uncertain\"><span class=\"cls\">x</span></span></span> </span><span class=\"txtt\"><span class=\"missing\"><span class=\"uncertain\"><span class=\"cls\">x</span></span></span> </span><span class=\"txtt\"><span class=\"missing\"><span class=\"uncertain\"><span class=\"cls\">x</span></span></span></span><span class=\"txtt\"><span class=\"missing\">]</span> </span><span class=\"txtt\"><span class=\"uncertain\"><span class=\"cls\">x</span></span> </span><span class=\"txtt\"><span class=\"damage\"><span class=\"r\">lu</span></span></span><span class=\"txtt\">-</span><span class=\"txtt\"><span class=\"damage\"><span class=\"r\">u</span></span> </span><span class=\"txtt\"><span class=\"r\">ina</span> </span><span class=\"txtt\"><span class=\"g\">KAŠ</span></span><span class=\"txtt\">.</span><span class=\"txtt\"><span class=\"g\">SAG</span> </span><span class=\"txtt\">[</span><span class=\"txtt\"><span class=\"missing\"><span class=\"uncertain\"><span class=\"cls\">x</span></span></span> </span><span class=\"txtt\"><span class=\"missing\"><span class=\"uncertain\"><span class=\"cls\">x</span></span></span> </span><span class=\"txtt\"><span class=\"missing\"><span class=\"uncertain\"><span class=\"cls\">x</span></span></span> </span><span class=\"txtt\"><span class=\"missing\"><span class=\"uncertain\"><span class=\"cls\">x</span></span></span> </span><span class=\"txtt\"><span class=\"missing\"><span class=\"uncertain\"><span class=\"cls\">x</span></span></span> </span><span class=\"txtt\"><span class=\"missing\"><span class=\"uncertain\"><span class=\"cls\">x</span></span></span> </span><span class=\"txtt\"><span class=\"missing\"><span class=\"uncertain\"><span class=\"cls\">x</span></span></span></span><span class=\"txtt\"><span class=\"missing\">]</span> </span></div>"
      ],
      "text/plain": [
       "<IPython.core.display.HTML object>"
      ]
     },
     "metadata": {},
     "output_type": "display_data"
    },
    {
     "data": {
      "text/html": [
       "<div class=\"\"><span class=\"tfsechead \"><span class=\"ltr\"><a target=\"_blank\" href=\"https://cdli.ucla.edu/search/search_results.php?SearchMode=Text&amp;ObjectID=P285109\" title=\"Show this document on CDLI\" sec=\"P285109 reverse:2:2'\">P285109 reverse:2:2'</a></span></span>  <span class=\"txtt\">[</span><span class=\"txtt\"><span class=\"missing\"><span class=\"g\">DIŠ</span></span> </span><span class=\"txtt\"><span class=\"missing\"><span class=\"g\">NA</span></span> </span><span class=\"txtt\"><span class=\"missing\">]</span> </span><span class=\"txtt\"><span class=\"damage\"><span class=\"g\">SAG</span></span></span><span class=\"txtt\">.</span><span class=\"txtt\"><span class=\"g\">KI</span></span><span class=\"txtt\">.</span><span class=\"txtt\"><span class=\"g\">DAB</span></span><span class=\"txtt\">.</span><span class=\"txtt\"><span class=\"g\">BA</span> </span><span class=\"txtt\"><span class=\"g\">TUKU</span></span><span class=\"txtt\">.</span><span class=\"txtt\"><span class=\"g\">TUKU</span> </span><span class=\"txtt\">[</span><span class=\"txtt\"><span class=\"missing\"><span class=\"uncertain\"><span class=\"cls\">x</span></span></span> </span><span class=\"txtt\"><span class=\"missing\"><span class=\"uncertain\"><span class=\"cls\">x</span></span></span> </span><span class=\"txtt\"><span class=\"missing\"><span class=\"uncertain\"><span class=\"cls\">x</span></span></span> </span><span class=\"txtt\"><span class=\"missing\"><span class=\"uncertain\"><span class=\"cls\">x</span></span></span></span><span class=\"txtt\"><span class=\"missing\">]</span> </span></div>"
      ],
      "text/plain": [
       "<IPython.core.display.HTML object>"
      ]
     },
     "metadata": {},
     "output_type": "display_data"
    },
    {
     "data": {
      "text/html": [
       "<div class=\"\"><span class=\"tfsechead \"><span class=\"ltr\"><a target=\"_blank\" href=\"https://cdli.ucla.edu/search/search_results.php?SearchMode=Text&amp;ObjectID=P285109\" title=\"Show this document on CDLI\" sec=\"P285109 reverse:2:3'\">P285109 reverse:2:3'</a></span></span>  <span class=\"txtt\">[</span><span class=\"txtt\"><span class=\"missing\"><span class=\"uncertain\"><span class=\"cls\">x</span></span></span> </span><span class=\"txtt\"><span class=\"missing\"><span class=\"uncertain\"><span class=\"cls\">x</span></span></span> </span><span class=\"txtt\"><span class=\"missing\"><span class=\"uncertain\"><span class=\"cls\">x</span></span></span> </span><span class=\"txtt\"><span class=\"missing\"><span class=\"uncertain\"><span class=\"cls\">x</span></span></span> </span><span class=\"txtt\"><span class=\"missing\"><span class=\"uncertain\"><span class=\"cls\">x</span></span></span> </span><span class=\"txtt\"><span class=\"missing\"><span class=\"g\">UGU</span></span></span><span class=\"txtt\"><span class=\"missing\">-</span></span><span class=\"txtt\"><span class=\"missing\">]</span> </span><span class=\"txtt\"><span class=\"damage\"><span class=\"r\">šu</span></span> </span><span class=\"txtt\"><span class=\"g\">KUM₂</span> </span><span class=\"txtt\">[</span><span class=\"txtt\"><span class=\"missing\"><span class=\"uncertain\"><span class=\"cls\">x</span></span></span> </span><span class=\"txtt\"><span class=\"missing\"><span class=\"uncertain\"><span class=\"cls\">x</span></span></span></span><span class=\"txtt\"><span class=\"missing\">]</span> </span></div>"
      ],
      "text/plain": [
       "<IPython.core.display.HTML object>"
      ]
     },
     "metadata": {},
     "output_type": "display_data"
    },
    {
     "data": {
      "text/html": [
       "<div class=\"\"><span class=\"tfsechead \"><span class=\"ltr\"><a target=\"_blank\" href=\"https://cdli.ucla.edu/search/search_results.php?SearchMode=Text&amp;ObjectID=P285109\" title=\"Show this document on CDLI\" sec=\"P285109 reverse:2:4'\">P285109 reverse:2:4'</a></span></span>  <span class=\"txtt\">[</span><span class=\"txtt\"><span class=\"missing\"><span class=\"uncertain\"><span class=\"cls\">x</span></span></span> </span><span class=\"txtt\"><span class=\"missing\"><span class=\"uncertain\"><span class=\"cls\">x</span></span></span> </span><span class=\"txtt\"><span class=\"missing\"><span class=\"uncertain\"><span class=\"cls\">x</span></span></span> </span><span class=\"txtt\"><span class=\"missing\"><span class=\"uncertain\"><span class=\"cls\">x</span></span></span> </span><span class=\"txtt\"><span class=\"missing\"><span class=\"uncertain\"><span class=\"cls\">x</span></span></span> </span><span class=\"txtt\"><span class=\"missing\"><span class=\"uncertain\"><span class=\"cls\">x</span></span></span> </span><span class=\"txtt\"><span class=\"missing\"><span class=\"uncertain\"><span class=\"cls\">x</span></span></span> </span><span class=\"txtt\"><span class=\"missing\"><span class=\"uncertain\"><span class=\"cls\">x</span></span></span> </span><span class=\"txtt\"><span class=\"missing\">]</span> </span><span class=\"txtt\"><span class=\"question damage\"><span class=\"g\">ŠU₂</span></span> </span><span class=\"txtt\"><span class=\"question damage\"><span class=\"g\">LUGAL</span></span> </span><span class=\"txtt\">[</span><span class=\"txtt\"><span class=\"missing\"><span class=\"uncertain\"><span class=\"cls\">x</span></span></span> </span><span class=\"txtt\"><span class=\"missing\"><span class=\"uncertain\"><span class=\"cls\">x</span></span></span> </span><span class=\"txtt\"><span class=\"missing\"><span class=\"uncertain\"><span class=\"cls\">x</span></span></span> </span><span class=\"txtt\"><span class=\"missing\"><span class=\"uncertain\"><span class=\"cls\">x</span></span></span></span><span class=\"txtt\"><span class=\"missing\">]</span> </span></div>"
      ],
      "text/plain": [
       "<IPython.core.display.HTML object>"
      ]
     },
     "metadata": {},
     "output_type": "display_data"
    }
   ],
   "source": [
    "for ln in lines:\n",
    "    A.plain(ln, fmt=\"layout-orig-full\")"
   ]
  },
  {
   "cell_type": "markdown",
   "metadata": {},
   "source": [
    "### `layout-orig-plain`\n",
    "\n",
    "This format looks like `text-orig-plain`, but now we re-introduce the flags and clusters by specific\n",
    "layout devices.\n",
    "\n",
    "See below for detailed examples."
   ]
  },
  {
   "cell_type": "code",
   "execution_count": 11,
   "metadata": {},
   "outputs": [
    {
     "data": {
      "text/html": [
       "<div class=\"\"><span class=\"tfsechead \"><span class=\"ltr\"><a target=\"_blank\" href=\"https://cdli.ucla.edu/search/search_results.php?SearchMode=Text&amp;ObjectID=P285109\" title=\"Show this document on CDLI\" sec=\"P285109 reverse:2:1'\">P285109 reverse:2:1'</a></span></span>  <span class=\"txtt\"><span class=\"missing\"><span class=\"uncertain\"><span class=\"cls\">x</span></span></span> </span><span class=\"txtt\"><span class=\"missing\"><span class=\"uncertain\"><span class=\"cls\">x</span></span></span> </span><span class=\"txtt\"><span class=\"missing\"><span class=\"uncertain\"><span class=\"cls\">x</span></span></span></span><span class=\"txtt\"><span class=\"missing\"></span> </span><span class=\"txtt\"><span class=\"uncertain\"><span class=\"cls\">x</span></span> </span><span class=\"txtt\"><span class=\"damage\"><span class=\"r\">lu</span></span></span><span class=\"txtt\">-</span><span class=\"txtt\"><span class=\"damage\"><span class=\"r\">u</span></span> </span><span class=\"txtt\"><span class=\"r\">ina</span> </span><span class=\"txtt\"><span class=\"g\">KAŠ</span></span><span class=\"txtt\">.</span><span class=\"txtt\"><span class=\"g\">SAG</span> </span><span class=\"txtt\"><span class=\"missing\"><span class=\"uncertain\"><span class=\"cls\">x</span></span></span> </span><span class=\"txtt\"><span class=\"missing\"><span class=\"uncertain\"><span class=\"cls\">x</span></span></span> </span><span class=\"txtt\"><span class=\"missing\"><span class=\"uncertain\"><span class=\"cls\">x</span></span></span> </span><span class=\"txtt\"><span class=\"missing\"><span class=\"uncertain\"><span class=\"cls\">x</span></span></span> </span><span class=\"txtt\"><span class=\"missing\"><span class=\"uncertain\"><span class=\"cls\">x</span></span></span> </span><span class=\"txtt\"><span class=\"missing\"><span class=\"uncertain\"><span class=\"cls\">x</span></span></span> </span><span class=\"txtt\"><span class=\"missing\"><span class=\"uncertain\"><span class=\"cls\">x</span></span></span></span><span class=\"txtt\"><span class=\"missing\"></span> </span></div>"
      ],
      "text/plain": [
       "<IPython.core.display.HTML object>"
      ]
     },
     "metadata": {},
     "output_type": "display_data"
    },
    {
     "data": {
      "text/html": [
       "<div class=\"\"><span class=\"tfsechead \"><span class=\"ltr\"><a target=\"_blank\" href=\"https://cdli.ucla.edu/search/search_results.php?SearchMode=Text&amp;ObjectID=P285109\" title=\"Show this document on CDLI\" sec=\"P285109 reverse:2:2'\">P285109 reverse:2:2'</a></span></span>  <span class=\"txtt\"><span class=\"missing\"><span class=\"g\">DIŠ</span></span> </span><span class=\"txtt\"><span class=\"missing\"><span class=\"g\">NA</span></span> </span><span class=\"txtt\"><span class=\"missing\"></span> </span><span class=\"txtt\"><span class=\"damage\"><span class=\"g\">SAG</span></span></span><span class=\"txtt\">.</span><span class=\"txtt\"><span class=\"g\">KI</span></span><span class=\"txtt\">.</span><span class=\"txtt\"><span class=\"g\">DAB</span></span><span class=\"txtt\">.</span><span class=\"txtt\"><span class=\"g\">BA</span> </span><span class=\"txtt\"><span class=\"g\">TUKU</span></span><span class=\"txtt\">.</span><span class=\"txtt\"><span class=\"g\">TUKU</span> </span><span class=\"txtt\"><span class=\"missing\"><span class=\"uncertain\"><span class=\"cls\">x</span></span></span> </span><span class=\"txtt\"><span class=\"missing\"><span class=\"uncertain\"><span class=\"cls\">x</span></span></span> </span><span class=\"txtt\"><span class=\"missing\"><span class=\"uncertain\"><span class=\"cls\">x</span></span></span> </span><span class=\"txtt\"><span class=\"missing\"><span class=\"uncertain\"><span class=\"cls\">x</span></span></span></span><span class=\"txtt\"><span class=\"missing\"></span> </span></div>"
      ],
      "text/plain": [
       "<IPython.core.display.HTML object>"
      ]
     },
     "metadata": {},
     "output_type": "display_data"
    },
    {
     "data": {
      "text/html": [
       "<div class=\"\"><span class=\"tfsechead \"><span class=\"ltr\"><a target=\"_blank\" href=\"https://cdli.ucla.edu/search/search_results.php?SearchMode=Text&amp;ObjectID=P285109\" title=\"Show this document on CDLI\" sec=\"P285109 reverse:2:3'\">P285109 reverse:2:3'</a></span></span>  <span class=\"txtt\"><span class=\"missing\"><span class=\"uncertain\"><span class=\"cls\">x</span></span></span> </span><span class=\"txtt\"><span class=\"missing\"><span class=\"uncertain\"><span class=\"cls\">x</span></span></span> </span><span class=\"txtt\"><span class=\"missing\"><span class=\"uncertain\"><span class=\"cls\">x</span></span></span> </span><span class=\"txtt\"><span class=\"missing\"><span class=\"uncertain\"><span class=\"cls\">x</span></span></span> </span><span class=\"txtt\"><span class=\"missing\"><span class=\"uncertain\"><span class=\"cls\">x</span></span></span> </span><span class=\"txtt\"><span class=\"missing\"><span class=\"g\">UGU</span></span></span><span class=\"txtt\"><span class=\"missing\">-</span></span><span class=\"txtt\"><span class=\"missing\"></span> </span><span class=\"txtt\"><span class=\"damage\"><span class=\"r\">šu</span></span> </span><span class=\"txtt\"><span class=\"g\">KUM₂</span> </span><span class=\"txtt\"><span class=\"missing\"><span class=\"uncertain\"><span class=\"cls\">x</span></span></span> </span><span class=\"txtt\"><span class=\"missing\"><span class=\"uncertain\"><span class=\"cls\">x</span></span></span></span><span class=\"txtt\"><span class=\"missing\"></span> </span></div>"
      ],
      "text/plain": [
       "<IPython.core.display.HTML object>"
      ]
     },
     "metadata": {},
     "output_type": "display_data"
    },
    {
     "data": {
      "text/html": [
       "<div class=\"\"><span class=\"tfsechead \"><span class=\"ltr\"><a target=\"_blank\" href=\"https://cdli.ucla.edu/search/search_results.php?SearchMode=Text&amp;ObjectID=P285109\" title=\"Show this document on CDLI\" sec=\"P285109 reverse:2:4'\">P285109 reverse:2:4'</a></span></span>  <span class=\"txtt\"><span class=\"missing\"><span class=\"uncertain\"><span class=\"cls\">x</span></span></span> </span><span class=\"txtt\"><span class=\"missing\"><span class=\"uncertain\"><span class=\"cls\">x</span></span></span> </span><span class=\"txtt\"><span class=\"missing\"><span class=\"uncertain\"><span class=\"cls\">x</span></span></span> </span><span class=\"txtt\"><span class=\"missing\"><span class=\"uncertain\"><span class=\"cls\">x</span></span></span> </span><span class=\"txtt\"><span class=\"missing\"><span class=\"uncertain\"><span class=\"cls\">x</span></span></span> </span><span class=\"txtt\"><span class=\"missing\"><span class=\"uncertain\"><span class=\"cls\">x</span></span></span> </span><span class=\"txtt\"><span class=\"missing\"><span class=\"uncertain\"><span class=\"cls\">x</span></span></span> </span><span class=\"txtt\"><span class=\"missing\"><span class=\"uncertain\"><span class=\"cls\">x</span></span></span> </span><span class=\"txtt\"><span class=\"missing\"></span> </span><span class=\"txtt\"><span class=\"question damage\"><span class=\"g\">ŠU₂</span></span> </span><span class=\"txtt\"><span class=\"question damage\"><span class=\"g\">LUGAL</span></span> </span><span class=\"txtt\">None</span><span class=\"txtt\"><span class=\"missing\"><span class=\"uncertain\"><span class=\"cls\">x</span></span></span> </span><span class=\"txtt\"><span class=\"missing\"><span class=\"uncertain\"><span class=\"cls\">x</span></span></span> </span><span class=\"txtt\"><span class=\"missing\"><span class=\"uncertain\"><span class=\"cls\">x</span></span></span> </span><span class=\"txtt\"><span class=\"missing\"><span class=\"uncertain\"><span class=\"cls\">x</span></span></span></span><span class=\"txtt\"><span class=\"missing\"></span> </span></div>"
      ],
      "text/plain": [
       "<IPython.core.display.HTML object>"
      ]
     },
     "metadata": {},
     "output_type": "display_data"
    }
   ],
   "source": [
    "for ln in lines:\n",
    "    A.plain(ln, fmt=\"layout-orig-plain\")"
   ]
  },
  {
   "cell_type": "markdown",
   "metadata": {},
   "source": [
    "Here is the text of the face in each of the plain text formats, i.e. no additional HTML formatting is applied."
   ]
  },
  {
   "cell_type": "markdown",
   "metadata": {
    "tags": []
   },
   "source": [
    "# Pretty\n",
    "\n",
    "The ultimate of graphical display is by means of the `pretty()` function.\n",
    "\n",
    "This display is less useful for reading, but instead optimized for showing all information that you might\n",
    "wish for.\n",
    "\n",
    "It shows a base representation according to a text format of your choice\n",
    "(here we choose `layout-orig-full`), and it shows the values\n",
    "of a standard set of features."
   ]
  },
  {
   "cell_type": "code",
   "execution_count": 12,
   "metadata": {},
   "outputs": [
    {
     "data": {
      "text/plain": [
       "'hur.ri.im#'"
      ]
     },
     "execution_count": 12,
     "metadata": {},
     "output_type": "execute_result"
    }
   ],
   "source": [
    "w = F.otype.s(\"word\")[10]\n",
    "F.atf.v(w)"
   ]
  },
  {
   "cell_type": "code",
   "execution_count": 13,
   "metadata": {},
   "outputs": [
    {
     "data": {
      "text/html": [
       "<div class=\"tfsechead \"><span class=\"ltr\"><a target=\"_blank\" href=\"https://cdli.ucla.edu/search/search_results.php?SearchMode=Text&amp;ObjectID=P285136\" title=\"Show this document on CDLI\" sec=\"P285136 obverse:3'\">P285136 obverse:3'</a></span></div><div class=\" children\"><div class=\"contnr c1 trm   \" ><div class=\"lbl c1 trm \" ><span class=\"nd\">word</span> <span class=\"txtt\"><span class=\"plain   \" ><span class=\"txtt\">hur</span><span class=\"txtt\">.</span><span class=\"txtt\">ri</span><span class=\"txtt\">.</span><span class=\"txtt\">im# </span></span></span></div></div></div>"
      ],
      "text/plain": [
       "<IPython.core.display.HTML object>"
      ]
     },
     "metadata": {},
     "output_type": "display_data"
    }
   ],
   "source": [
    "A.pretty(w)"
   ]
  },
  {
   "cell_type": "code",
   "execution_count": 14,
   "metadata": {},
   "outputs": [
    {
     "data": {
      "text/html": [
       "<div class=\"tfsechead \"><span class=\"ltr\"><a target=\"_blank\" href=\"https://cdli.ucla.edu/search/search_results.php?SearchMode=Text&amp;ObjectID=P285136\" title=\"Show this document on CDLI\" sec=\"P285136 obverse:3'\">P285136 obverse:3'</a></span></div><div class=\" children\"><div class=\"contnr c1 trm   \" ><div class=\"lbl c1 trm \" ><span class=\"nd\">word:89064</span> <span class=\"txtt\"><span class=\"plain   \" ><span class=\"txtt\"><span class=\"r\">hur</span></span><span class=\"txtt\">.</span><span class=\"txtt\"><span class=\"r\">ri</span></span><span class=\"txtt\">.</span><span class=\"txtt\"><span class=\"damage\"><span class=\"r\">im</span></span> </span></span></span></div></div></div>"
      ],
      "text/plain": [
       "<IPython.core.display.HTML object>"
      ]
     },
     "metadata": {},
     "output_type": "display_data"
    }
   ],
   "source": [
    "A.pretty(w, fmt=\"layout-orig-full\", withNodes=True)"
   ]
  },
  {
   "cell_type": "markdown",
   "metadata": {},
   "source": [
    "By default, pretty displays descend to the word level, but you can also descend to the sign level:"
   ]
  },
  {
   "cell_type": "code",
   "execution_count": 15,
   "metadata": {},
   "outputs": [
    {
     "data": {
      "text/html": [
       "<div class=\"tfsechead \"><span class=\"ltr\"><a target=\"_blank\" href=\"https://cdli.ucla.edu/search/search_results.php?SearchMode=Text&amp;ObjectID=P285136\" title=\"Show this document on CDLI\" sec=\"P285136 obverse:3'\">P285136 obverse:3'</a></span></div><div class=\" children\"><div class=\"contnr c1    \" ><div class=\"lbl c1  \" ><span class=\"nd\">word</span> <span class=\"txtt\">hur.ri.im# </span></div><div class=\"children hor  \"><div class=\"contnr c0 trm   \" ><div class=\"lbl c0 trm \" ><span class=\"txtt\">hur</span></div></div><div class=\"contnr c0 trm   \" ><div class=\"lbl c0 trm \" ><span class=\"txtt\">.</span></div></div><div class=\"contnr c0 trm   \" ><div class=\"lbl c0 trm \" ><span class=\"txtt\">ri</span></div></div><div class=\"contnr c0 trm   \" ><div class=\"lbl c0 trm \" ><span class=\"txtt\">.</span></div></div><div class=\"contnr c0 trm   \" ><div class=\"lbl c0 trm \" ><span class=\"txtt\">im# </span></div></div></div></div></div>"
      ],
      "text/plain": [
       "<IPython.core.display.HTML object>"
      ]
     },
     "metadata": {},
     "output_type": "display_data"
    }
   ],
   "source": [
    "A.pretty(w, baseTypes=\"sign\")"
   ]
  },
  {
   "cell_type": "code",
   "execution_count": 16,
   "metadata": {},
   "outputs": [
    {
     "data": {
      "text/html": [
       "<div class=\"tfsechead \"><span class=\"ltr\"><a target=\"_blank\" href=\"https://cdli.ucla.edu/search/search_results.php?SearchMode=Text&amp;ObjectID=P285136\" title=\"Show this document on CDLI\" sec=\"P285136 obverse:3'\">P285136 obverse:3'</a></span></div><div class=\" children\"><div class=\"contnr c1    \" ><div class=\"lbl c1  \" ><span class=\"nd\">word:89064</span> <span class=\"txtt\"><span class=\"r\">hur</span>.<span class=\"r\">ri</span>.<span class=\"damage\"><span class=\"r\">im</span></span> </span></div><div class=\"children hor  \"><div class=\"contnr c0 trm   \" ><div class=\"lbl c0 trm \" ><span class=\"nd\">25</span> <span class=\"txtt\"><span class=\"r\">hur</span></span></div></div><div class=\"contnr c0 trm   \" ><div class=\"lbl c0 trm \" ><span class=\"nd\">26</span> <span class=\"txtt\">.</span></div></div><div class=\"contnr c0 trm   \" ><div class=\"lbl c0 trm \" ><span class=\"nd\">27</span> <span class=\"txtt\"><span class=\"r\">ri</span></span></div></div><div class=\"contnr c0 trm   \" ><div class=\"lbl c0 trm \" ><span class=\"nd\">28</span> <span class=\"txtt\">.</span></div></div><div class=\"contnr c0 trm   \" ><div class=\"lbl c0 trm \" ><span class=\"nd\">29</span> <span class=\"txtt\"><span class=\"damage\"><span class=\"r\">im</span></span> </span></div></div></div></div></div>"
      ],
      "text/plain": [
       "<IPython.core.display.HTML object>"
      ]
     },
     "metadata": {},
     "output_type": "display_data"
    }
   ],
   "source": [
    "A.pretty(w, fmt=\"layout-orig-full\", baseTypes=\"sign\", withNodes=True)"
   ]
  },
  {
   "cell_type": "markdown",
   "metadata": {},
   "source": [
    "Later on, in the [search](search.ipynb) tutorial we see that `pretty()` can also display other features,\n",
    "even features that you or other people have created and added later.\n",
    "\n",
    "Here we call for the feature `atf`, which shows the original atf for the sign in question\n",
    "excluding the bracketing characters.\n",
    "\n",
    "Consult the\n",
    "[feature documentation](https://github.com/Nino-cunei/oldbabylonian/blob/master/docs//transcription.md)\n",
    "to see what information is stored in all the features.\n",
    "\n",
    "We show it with node numbers, but you could leave them out in an obvious way."
   ]
  },
  {
   "cell_type": "code",
   "execution_count": 17,
   "metadata": {},
   "outputs": [
    {
     "data": {
      "text/html": [
       "<div class=\"tfsechead \"><span class=\"ltr\"><a target=\"_blank\" href=\"https://cdli.ucla.edu/search/search_results.php?SearchMode=Text&amp;ObjectID=P285109\" title=\"Show this document on CDLI\" sec=\"P285109 reverse\">P285109 reverse</a></span></div><div class=\" children\"><div class=\"contnr c4 trm   \" ><div class=\"lbl c4 trm \" ><span class=\"nd\">face:85922</span> <span class=\"txtt\"><span class=\"tfsechead ltr\"><span class=\"ltr\">P285109 reverse</span></span></span></div></div></div>"
      ],
      "text/plain": [
       "<IPython.core.display.HTML object>"
      ]
     },
     "metadata": {},
     "output_type": "display_data"
    }
   ],
   "source": [
    "A.pretty(f, extraFeatures=\"atf\", fmt=\"layout-orig-full\", withNodes=True)"
   ]
  },
  {
   "cell_type": "markdown",
   "metadata": {},
   "source": [
    "We do not see much, because the default condense type is `line`, and a `document` is bigger than that.\n",
    "Objects bigger than de condense type will be abbreviated to a label that indicates their identity,\n",
    "not their contents.\n",
    "\n",
    "But we can override this by adding `full=True`.\n",
    "\n",
    "See also the documentation on [`pretty`](https://annotation.github.io/text-fabric/tf/advanced/display.html#tf.advanced.display.pretty)."
   ]
  },
  {
   "cell_type": "code",
   "execution_count": 18,
   "metadata": {},
   "outputs": [
    {
     "data": {
      "text/html": [
       "<div class=\"tfsechead \"><span class=\"ltr\"><a target=\"_blank\" href=\"https://cdli.ucla.edu/search/search_results.php?SearchMode=Text&amp;ObjectID=P285109\" title=\"Show this document on CDLI\" sec=\"P285109 reverse\">P285109 reverse</a></span></div><div class=\" children\"><div class=\"contnr c4    \" ><div class=\"lbl c4  \" ><span class=\"nd\">face:85922</span> <span class=\"txtt\"><span class=\"tfsechead ltr\"><span class=\"ltr\">P285109 reverse</span></span></span></div><div class=\"children hor wrap \"><div class=\"contnr c3    \" ><div class=\"lbl c3  \" ><span class=\"nd\">line:86033</span></div><div class='features'><span class=\"atf xft\" ><span class=\"f\">atf=</span>1'. [x x x] x lu#-u₂# ina KAŠ.SAG [x x x x x x x]</span></div><div class=\"children hor wrap \"><div class=\"contnr c1 trm  rno \" ><div class=\"lbl c1 trm \" ><span class=\"nd\">word:89780</span> <span class=\"txtt\"><span class=\"plain  rno \" ></span></span></div><div class='features'><span class=\"atf xft\" ><span class=\"f\">atf=</span>[x</span></div></div><div class=\"contnr c2    \" ><div class=\"lbl c2  \" ><span class=\"nd\">cluster:79578</span></div><div class=\"children hor wrap \"><div class=\"contnr c1 trm  lno \" ><div class=\"lbl c1 trm \" ><span class=\"nd\">word:89780</span> <span class=\"txtt\"><span class=\"plain  lno \" ><span class=\"txtt\"><span class=\"missing\"><span class=\"uncertain\"><span class=\"cls\">x</span></span></span> </span></span></span></div><div class='features'><span class=\"atf xft\" ><span class=\"f\">atf=</span>[x</span></div></div><div class=\"contnr c1 trm   \" ><div class=\"lbl c1 trm \" ><span class=\"nd\">word:89781</span> <span class=\"txtt\"><span class=\"plain   \" ><span class=\"txtt\"><span class=\"missing\"><span class=\"uncertain\"><span class=\"cls\">x</span></span></span> </span></span></span></div><div class='features'><span class=\"atf xft\" ><span class=\"f\">atf=</span>x</span></div></div><div class=\"contnr c1 trm   \" ><div class=\"lbl c1 trm \" ><span class=\"nd\">word:89782</span> <span class=\"txtt\"><span class=\"plain   \" ><span class=\"txtt\"><span class=\"missing\"><span class=\"uncertain\"><span class=\"cls\">x</span></span></span></span><span class=\"txtt\"><span class=\"missing\"></span> </span></span></span></div><div class='features'><span class=\"atf xft\" ><span class=\"f\">atf=</span>x]</span></div></div></div></div><div class=\"contnr c1 trm   \" ><div class=\"lbl c1 trm \" ><span class=\"nd\">word:89783</span> <span class=\"txtt\"><span class=\"plain   \" ><span class=\"txtt\"><span class=\"uncertain\"><span class=\"cls\">x</span></span> </span></span></span></div><div class='features'><span class=\"atf xft\" ><span class=\"f\">atf=</span>x</span></div></div><div class=\"contnr c1 trm   \" ><div class=\"lbl c1 trm \" ><span class=\"nd\">word:89784</span> <span class=\"txtt\"><span class=\"plain   \" ><span class=\"txtt\"><span class=\"damage\"><span class=\"r\">lu</span></span></span><span class=\"txtt\">-</span><span class=\"txtt\"><span class=\"damage\"><span class=\"r\">u</span></span> </span></span></span></div><div class='features'><span class=\"atf xft\" ><span class=\"f\">atf=</span>lu#-u₂#</span></div></div><div class=\"contnr c1 trm   \" ><div class=\"lbl c1 trm \" ><span class=\"nd\">word:89785</span> <span class=\"txtt\"><span class=\"plain   \" ><span class=\"txtt\"><span class=\"r\">ina</span> </span></span></span></div><div class='features'><span class=\"atf xft\" ><span class=\"f\">atf=</span>ina</span></div></div><div class=\"contnr c1 trm   \" ><div class=\"lbl c1 trm \" ><span class=\"nd\">word:89786</span> <span class=\"txtt\"><span class=\"plain   \" ><span class=\"txtt\"><span class=\"g\">KAŠ</span></span><span class=\"txtt\">.</span><span class=\"txtt\"><span class=\"g\">SAG</span> </span></span></span></div><div class='features'><span class=\"atf xft\" ><span class=\"f\">atf=</span>KAŠ.SAG</span></div></div><div class=\"contnr c1 trm  rno \" ><div class=\"lbl c1 trm \" ><span class=\"nd\">word:89787</span> <span class=\"txtt\"><span class=\"plain  rno \" ></span></span></div><div class='features'><span class=\"atf xft\" ><span class=\"f\">atf=</span>[x</span></div></div><div class=\"contnr c2    \" ><div class=\"lbl c2  \" ><span class=\"nd\">cluster:79579</span></div><div class=\"children hor wrap \"><div class=\"contnr c1 trm  lno \" ><div class=\"lbl c1 trm \" ><span class=\"nd\">word:89787</span> <span class=\"txtt\"><span class=\"plain  lno \" ><span class=\"txtt\"><span class=\"missing\"><span class=\"uncertain\"><span class=\"cls\">x</span></span></span> </span></span></span></div><div class='features'><span class=\"atf xft\" ><span class=\"f\">atf=</span>[x</span></div></div><div class=\"contnr c1 trm   \" ><div class=\"lbl c1 trm \" ><span class=\"nd\">word:89788</span> <span class=\"txtt\"><span class=\"plain   \" ><span class=\"txtt\"><span class=\"missing\"><span class=\"uncertain\"><span class=\"cls\">x</span></span></span> </span></span></span></div><div class='features'><span class=\"atf xft\" ><span class=\"f\">atf=</span>x</span></div></div><div class=\"contnr c1 trm   \" ><div class=\"lbl c1 trm \" ><span class=\"nd\">word:89789</span> <span class=\"txtt\"><span class=\"plain   \" ><span class=\"txtt\"><span class=\"missing\"><span class=\"uncertain\"><span class=\"cls\">x</span></span></span> </span></span></span></div><div class='features'><span class=\"atf xft\" ><span class=\"f\">atf=</span>x</span></div></div><div class=\"contnr c1 trm   \" ><div class=\"lbl c1 trm \" ><span class=\"nd\">word:89790</span> <span class=\"txtt\"><span class=\"plain   \" ><span class=\"txtt\"><span class=\"missing\"><span class=\"uncertain\"><span class=\"cls\">x</span></span></span> </span></span></span></div><div class='features'><span class=\"atf xft\" ><span class=\"f\">atf=</span>x</span></div></div><div class=\"contnr c1 trm   \" ><div class=\"lbl c1 trm \" ><span class=\"nd\">word:89791</span> <span class=\"txtt\"><span class=\"plain   \" ><span class=\"txtt\"><span class=\"missing\"><span class=\"uncertain\"><span class=\"cls\">x</span></span></span> </span></span></span></div><div class='features'><span class=\"atf xft\" ><span class=\"f\">atf=</span>x</span></div></div><div class=\"contnr c1 trm   \" ><div class=\"lbl c1 trm \" ><span class=\"nd\">word:89792</span> <span class=\"txtt\"><span class=\"plain   \" ><span class=\"txtt\"><span class=\"missing\"><span class=\"uncertain\"><span class=\"cls\">x</span></span></span> </span></span></span></div><div class='features'><span class=\"atf xft\" ><span class=\"f\">atf=</span>x</span></div></div><div class=\"contnr c1 trm   \" ><div class=\"lbl c1 trm \" ><span class=\"nd\">word:89793</span> <span class=\"txtt\"><span class=\"plain   \" ><span class=\"txtt\"><span class=\"missing\"><span class=\"uncertain\"><span class=\"cls\">x</span></span></span></span><span class=\"txtt\"><span class=\"missing\"></span> </span></span></span></div><div class='features'><span class=\"atf xft\" ><span class=\"f\">atf=</span>x]</span></div></div></div></div></div></div><div class=\"contnr c3    \" ><div class=\"lbl c3  \" ><span class=\"nd\">line:86034</span></div><div class='features'><span class=\"atf xft\" ><span class=\"f\">atf=</span>2'. [DIŠ NA SA]G.KI.DAB.BA TUKU.TUKU [x x x x]</span></div><div class=\"children hor wrap \"><div class=\"contnr c1 trm  rno \" ><div class=\"lbl c1 trm \" ><span class=\"nd\">word:89794</span> <span class=\"txtt\"><span class=\"plain  rno \" ></span></span></div><div class='features'><span class=\"atf xft\" ><span class=\"f\">atf=</span>[DIŠ</span></div></div><div class=\"contnr c2    \" ><div class=\"lbl c2  \" ><span class=\"nd\">cluster:79580</span></div><div class=\"children hor wrap \"><div class=\"contnr c1 trm  lno \" ><div class=\"lbl c1 trm \" ><span class=\"nd\">word:89794</span> <span class=\"txtt\"><span class=\"plain  lno \" ><span class=\"txtt\"><span class=\"missing\"><span class=\"g\">DIŠ</span></span> </span></span></span></div><div class='features'><span class=\"atf xft\" ><span class=\"f\">atf=</span>[DIŠ</span></div></div><div class=\"contnr c1 trm   \" ><div class=\"lbl c1 trm \" ><span class=\"nd\">word:89795</span> <span class=\"txtt\"><span class=\"plain   \" ><span class=\"txtt\"><span class=\"missing\"><span class=\"g\">NA</span></span> </span></span></span></div><div class='features'><span class=\"atf xft\" ><span class=\"f\">atf=</span>NA</span></div></div><div class=\"contnr c1 trm  rno \" ><div class=\"lbl c1 trm \" ><span class=\"nd\">word:89796</span> <span class=\"txtt\"><span class=\"plain  rno \" ><span class=\"txtt\"><span class=\"missing\"></span> </span></span></span></div><div class='features'><span class=\"atf xft\" ><span class=\"f\">atf=</span>SA]G.KI.DAB.BA</span></div></div></div></div><div class=\"contnr c1 trm  lno \" ><div class=\"lbl c1 trm \" ><span class=\"nd\">word:89796</span> <span class=\"txtt\"><span class=\"plain  lno \" ><span class=\"txtt\"><span class=\"damage\"><span class=\"g\">SAG</span></span></span><span class=\"txtt\">.</span><span class=\"txtt\"><span class=\"g\">KI</span></span><span class=\"txtt\">.</span><span class=\"txtt\"><span class=\"g\">DAB</span></span><span class=\"txtt\">.</span><span class=\"txtt\"><span class=\"g\">BA</span> </span></span></span></div><div class='features'><span class=\"atf xft\" ><span class=\"f\">atf=</span>SA]G.KI.DAB.BA</span></div></div><div class=\"contnr c1 trm   \" ><div class=\"lbl c1 trm \" ><span class=\"nd\">word:89797</span> <span class=\"txtt\"><span class=\"plain   \" ><span class=\"txtt\"><span class=\"g\">TUKU</span></span><span class=\"txtt\">.</span><span class=\"txtt\"><span class=\"g\">TUKU</span> </span></span></span></div><div class='features'><span class=\"atf xft\" ><span class=\"f\">atf=</span>TUKU.TUKU</span></div></div><div class=\"contnr c1 trm  rno \" ><div class=\"lbl c1 trm \" ><span class=\"nd\">word:89798</span> <span class=\"txtt\"><span class=\"plain  rno \" ></span></span></div><div class='features'><span class=\"atf xft\" ><span class=\"f\">atf=</span>[x</span></div></div><div class=\"contnr c2    \" ><div class=\"lbl c2  \" ><span class=\"nd\">cluster:79581</span></div><div class=\"children hor wrap \"><div class=\"contnr c1 trm  lno \" ><div class=\"lbl c1 trm \" ><span class=\"nd\">word:89798</span> <span class=\"txtt\"><span class=\"plain  lno \" ><span class=\"txtt\"><span class=\"missing\"><span class=\"uncertain\"><span class=\"cls\">x</span></span></span> </span></span></span></div><div class='features'><span class=\"atf xft\" ><span class=\"f\">atf=</span>[x</span></div></div><div class=\"contnr c1 trm   \" ><div class=\"lbl c1 trm \" ><span class=\"nd\">word:89799</span> <span class=\"txtt\"><span class=\"plain   \" ><span class=\"txtt\"><span class=\"missing\"><span class=\"uncertain\"><span class=\"cls\">x</span></span></span> </span></span></span></div><div class='features'><span class=\"atf xft\" ><span class=\"f\">atf=</span>x</span></div></div><div class=\"contnr c1 trm   \" ><div class=\"lbl c1 trm \" ><span class=\"nd\">word:89800</span> <span class=\"txtt\"><span class=\"plain   \" ><span class=\"txtt\"><span class=\"missing\"><span class=\"uncertain\"><span class=\"cls\">x</span></span></span> </span></span></span></div><div class='features'><span class=\"atf xft\" ><span class=\"f\">atf=</span>x</span></div></div><div class=\"contnr c1 trm   \" ><div class=\"lbl c1 trm \" ><span class=\"nd\">word:89801</span> <span class=\"txtt\"><span class=\"plain   \" ><span class=\"txtt\"><span class=\"missing\"><span class=\"uncertain\"><span class=\"cls\">x</span></span></span></span><span class=\"txtt\"><span class=\"missing\"></span> </span></span></span></div><div class='features'><span class=\"atf xft\" ><span class=\"f\">atf=</span>x]</span></div></div></div></div></div></div><div class=\"contnr c3    \" ><div class=\"lbl c3  \" ><span class=\"nd\">line:86035</span></div><div class='features'><span class=\"atf xft\" ><span class=\"f\">atf=</span>3'. [x x x x x UGU-š]u₂ KUM₂ [x x]</span></div><div class=\"children hor wrap \"><div class=\"contnr c1 trm  rno \" ><div class=\"lbl c1 trm \" ><span class=\"nd\">word:89802</span> <span class=\"txtt\"><span class=\"plain  rno \" ></span></span></div><div class='features'><span class=\"atf xft\" ><span class=\"f\">atf=</span>[x</span></div></div><div class=\"contnr c2    \" ><div class=\"lbl c2  \" ><span class=\"nd\">cluster:79582</span></div><div class=\"children hor wrap \"><div class=\"contnr c1 trm  lno \" ><div class=\"lbl c1 trm \" ><span class=\"nd\">word:89802</span> <span class=\"txtt\"><span class=\"plain  lno \" ><span class=\"txtt\"><span class=\"missing\"><span class=\"uncertain\"><span class=\"cls\">x</span></span></span> </span></span></span></div><div class='features'><span class=\"atf xft\" ><span class=\"f\">atf=</span>[x</span></div></div><div class=\"contnr c1 trm   \" ><div class=\"lbl c1 trm \" ><span class=\"nd\">word:89803</span> <span class=\"txtt\"><span class=\"plain   \" ><span class=\"txtt\"><span class=\"missing\"><span class=\"uncertain\"><span class=\"cls\">x</span></span></span> </span></span></span></div><div class='features'><span class=\"atf xft\" ><span class=\"f\">atf=</span>x</span></div></div><div class=\"contnr c1 trm   \" ><div class=\"lbl c1 trm \" ><span class=\"nd\">word:89804</span> <span class=\"txtt\"><span class=\"plain   \" ><span class=\"txtt\"><span class=\"missing\"><span class=\"uncertain\"><span class=\"cls\">x</span></span></span> </span></span></span></div><div class='features'><span class=\"atf xft\" ><span class=\"f\">atf=</span>x</span></div></div><div class=\"contnr c1 trm   \" ><div class=\"lbl c1 trm \" ><span class=\"nd\">word:89805</span> <span class=\"txtt\"><span class=\"plain   \" ><span class=\"txtt\"><span class=\"missing\"><span class=\"uncertain\"><span class=\"cls\">x</span></span></span> </span></span></span></div><div class='features'><span class=\"atf xft\" ><span class=\"f\">atf=</span>x</span></div></div><div class=\"contnr c1 trm   \" ><div class=\"lbl c1 trm \" ><span class=\"nd\">word:89806</span> <span class=\"txtt\"><span class=\"plain   \" ><span class=\"txtt\"><span class=\"missing\"><span class=\"uncertain\"><span class=\"cls\">x</span></span></span> </span></span></span></div><div class='features'><span class=\"atf xft\" ><span class=\"f\">atf=</span>x</span></div></div><div class=\"contnr c1 trm  rno \" ><div class=\"lbl c1 trm \" ><span class=\"nd\">word:89807</span> <span class=\"txtt\"><span class=\"plain  rno \" ><span class=\"txtt\"><span class=\"missing\"><span class=\"g\">UGU</span></span></span><span class=\"txtt\"><span class=\"missing\">-</span></span><span class=\"txtt\"><span class=\"missing\"></span> </span></span></span></div><div class='features'><span class=\"atf xft\" ><span class=\"f\">atf=</span>UGU-š]u₂</span></div></div></div></div><div class=\"contnr c1 trm  lno \" ><div class=\"lbl c1 trm \" ><span class=\"nd\">word:89807</span> <span class=\"txtt\"><span class=\"plain  lno \" ><span class=\"txtt\"><span class=\"damage\"><span class=\"r\">šu</span></span> </span></span></span></div><div class='features'><span class=\"atf xft\" ><span class=\"f\">atf=</span>UGU-š]u₂</span></div></div><div class=\"contnr c1 trm   \" ><div class=\"lbl c1 trm \" ><span class=\"nd\">word:89808</span> <span class=\"txtt\"><span class=\"plain   \" ><span class=\"txtt\"><span class=\"g\">KUM₂</span> </span></span></span></div><div class='features'><span class=\"atf xft\" ><span class=\"f\">atf=</span>KUM₂</span></div></div><div class=\"contnr c1 trm  rno \" ><div class=\"lbl c1 trm \" ><span class=\"nd\">word:89809</span> <span class=\"txtt\"><span class=\"plain  rno \" ></span></span></div><div class='features'><span class=\"atf xft\" ><span class=\"f\">atf=</span>[x</span></div></div><div class=\"contnr c2    \" ><div class=\"lbl c2  \" ><span class=\"nd\">cluster:79583</span></div><div class=\"children hor wrap \"><div class=\"contnr c1 trm  lno \" ><div class=\"lbl c1 trm \" ><span class=\"nd\">word:89809</span> <span class=\"txtt\"><span class=\"plain  lno \" ><span class=\"txtt\"><span class=\"missing\"><span class=\"uncertain\"><span class=\"cls\">x</span></span></span> </span></span></span></div><div class='features'><span class=\"atf xft\" ><span class=\"f\">atf=</span>[x</span></div></div><div class=\"contnr c1 trm   \" ><div class=\"lbl c1 trm \" ><span class=\"nd\">word:89810</span> <span class=\"txtt\"><span class=\"plain   \" ><span class=\"txtt\"><span class=\"missing\"><span class=\"uncertain\"><span class=\"cls\">x</span></span></span></span><span class=\"txtt\"><span class=\"missing\"></span> </span></span></span></div><div class='features'><span class=\"atf xft\" ><span class=\"f\">atf=</span>x]</span></div></div></div></div></div></div><div class=\"contnr c3    \" ><div class=\"lbl c3  \" ><span class=\"nd\">line:86036</span></div><div class='features'><span class=\"atf xft\" ><span class=\"f\">atf=</span>4'. [x x x x x x x x Š]U₂? L[UGAL? x x x x]</span></div><div class=\"children hor wrap \"><div class=\"contnr c1 trm  rno \" ><div class=\"lbl c1 trm \" ><span class=\"nd\">word:89811</span> <span class=\"txtt\"><span class=\"plain  rno \" ></span></span></div><div class='features'><span class=\"atf xft\" ><span class=\"f\">atf=</span>[x</span></div></div><div class=\"contnr c2    \" ><div class=\"lbl c2  \" ><span class=\"nd\">cluster:79584</span></div><div class=\"children hor wrap \"><div class=\"contnr c1 trm  lno \" ><div class=\"lbl c1 trm \" ><span class=\"nd\">word:89811</span> <span class=\"txtt\"><span class=\"plain  lno \" ><span class=\"txtt\"><span class=\"missing\"><span class=\"uncertain\"><span class=\"cls\">x</span></span></span> </span></span></span></div><div class='features'><span class=\"atf xft\" ><span class=\"f\">atf=</span>[x</span></div></div><div class=\"contnr c1 trm   \" ><div class=\"lbl c1 trm \" ><span class=\"nd\">word:89812</span> <span class=\"txtt\"><span class=\"plain   \" ><span class=\"txtt\"><span class=\"missing\"><span class=\"uncertain\"><span class=\"cls\">x</span></span></span> </span></span></span></div><div class='features'><span class=\"atf xft\" ><span class=\"f\">atf=</span>x</span></div></div><div class=\"contnr c1 trm   \" ><div class=\"lbl c1 trm \" ><span class=\"nd\">word:89813</span> <span class=\"txtt\"><span class=\"plain   \" ><span class=\"txtt\"><span class=\"missing\"><span class=\"uncertain\"><span class=\"cls\">x</span></span></span> </span></span></span></div><div class='features'><span class=\"atf xft\" ><span class=\"f\">atf=</span>x</span></div></div><div class=\"contnr c1 trm   \" ><div class=\"lbl c1 trm \" ><span class=\"nd\">word:89814</span> <span class=\"txtt\"><span class=\"plain   \" ><span class=\"txtt\"><span class=\"missing\"><span class=\"uncertain\"><span class=\"cls\">x</span></span></span> </span></span></span></div><div class='features'><span class=\"atf xft\" ><span class=\"f\">atf=</span>x</span></div></div><div class=\"contnr c1 trm   \" ><div class=\"lbl c1 trm \" ><span class=\"nd\">word:89815</span> <span class=\"txtt\"><span class=\"plain   \" ><span class=\"txtt\"><span class=\"missing\"><span class=\"uncertain\"><span class=\"cls\">x</span></span></span> </span></span></span></div><div class='features'><span class=\"atf xft\" ><span class=\"f\">atf=</span>x</span></div></div><div class=\"contnr c1 trm   \" ><div class=\"lbl c1 trm \" ><span class=\"nd\">word:89816</span> <span class=\"txtt\"><span class=\"plain   \" ><span class=\"txtt\"><span class=\"missing\"><span class=\"uncertain\"><span class=\"cls\">x</span></span></span> </span></span></span></div><div class='features'><span class=\"atf xft\" ><span class=\"f\">atf=</span>x</span></div></div><div class=\"contnr c1 trm   \" ><div class=\"lbl c1 trm \" ><span class=\"nd\">word:89817</span> <span class=\"txtt\"><span class=\"plain   \" ><span class=\"txtt\"><span class=\"missing\"><span class=\"uncertain\"><span class=\"cls\">x</span></span></span> </span></span></span></div><div class='features'><span class=\"atf xft\" ><span class=\"f\">atf=</span>x</span></div></div><div class=\"contnr c1 trm   \" ><div class=\"lbl c1 trm \" ><span class=\"nd\">word:89818</span> <span class=\"txtt\"><span class=\"plain   \" ><span class=\"txtt\"><span class=\"missing\"><span class=\"uncertain\"><span class=\"cls\">x</span></span></span> </span></span></span></div><div class='features'><span class=\"atf xft\" ><span class=\"f\">atf=</span>x</span></div></div><div class=\"contnr c1 trm  rno \" ><div class=\"lbl c1 trm \" ><span class=\"nd\">word:89819</span> <span class=\"txtt\"><span class=\"plain  rno \" ><span class=\"txtt\"><span class=\"missing\"></span> </span></span></span></div><div class='features'><span class=\"atf xft\" ><span class=\"f\">atf=</span>Š]U₂?</span></div></div></div></div><div class=\"contnr c1 trm  lno \" ><div class=\"lbl c1 trm \" ><span class=\"nd\">word:89819</span> <span class=\"txtt\"><span class=\"plain  lno \" ><span class=\"txtt\"><span class=\"question damage\"><span class=\"g\">ŠU₂</span></span> </span></span></span></div><div class='features'><span class=\"atf xft\" ><span class=\"f\">atf=</span>Š]U₂?</span></div></div><div class=\"contnr c1 trm   \" ><div class=\"lbl c1 trm \" ><span class=\"nd\">word:89820</span> <span class=\"txtt\"><span class=\"plain   \" ><span class=\"txtt\"><span class=\"question damage\"><span class=\"g\">LUGAL</span></span> </span><span class=\"txtt\">None</span></span></span></div><div class='features'><span class=\"atf xft\" ><span class=\"f\">atf=</span>L[UGAL?</span></div></div><div class=\"contnr c2    \" ><div class=\"lbl c2  \" ><span class=\"nd\">cluster:79585</span></div><div class=\"children hor wrap \"><div class=\"contnr c1 trm   \" ><div class=\"lbl c1 trm \" ><span class=\"nd\">word:89821</span> <span class=\"txtt\"><span class=\"plain   \" ><span class=\"txtt\"><span class=\"missing\"><span class=\"uncertain\"><span class=\"cls\">x</span></span></span> </span></span></span></div><div class='features'><span class=\"atf xft\" ><span class=\"f\">atf=</span>x</span></div></div><div class=\"contnr c1 trm   \" ><div class=\"lbl c1 trm \" ><span class=\"nd\">word:89822</span> <span class=\"txtt\"><span class=\"plain   \" ><span class=\"txtt\"><span class=\"missing\"><span class=\"uncertain\"><span class=\"cls\">x</span></span></span> </span></span></span></div><div class='features'><span class=\"atf xft\" ><span class=\"f\">atf=</span>x</span></div></div><div class=\"contnr c1 trm   \" ><div class=\"lbl c1 trm \" ><span class=\"nd\">word:89823</span> <span class=\"txtt\"><span class=\"plain   \" ><span class=\"txtt\"><span class=\"missing\"><span class=\"uncertain\"><span class=\"cls\">x</span></span></span> </span></span></span></div><div class='features'><span class=\"atf xft\" ><span class=\"f\">atf=</span>x</span></div></div><div class=\"contnr c1 trm   \" ><div class=\"lbl c1 trm \" ><span class=\"nd\">word:89824</span> <span class=\"txtt\"><span class=\"plain   \" ><span class=\"txtt\"><span class=\"missing\"><span class=\"uncertain\"><span class=\"cls\">x</span></span></span></span><span class=\"txtt\"><span class=\"missing\"></span> </span></span></span></div><div class='features'><span class=\"atf xft\" ><span class=\"f\">atf=</span>x]</span></div></div></div></div></div></div></div></div></div>"
      ],
      "text/plain": [
       "<IPython.core.display.HTML object>"
      ]
     },
     "metadata": {},
     "output_type": "display_data"
    }
   ],
   "source": [
    "A.pretty(f, extraFeatures=\"atf\", fmt=\"layout-orig-plain\", withNodes=True, full=True)"
   ]
  },
  {
   "cell_type": "markdown",
   "metadata": {},
   "source": [
    "# Layout formats: the details\n",
    "\n",
    "We give detailed examples of how the material is styled in the `layout-` formats.\n",
    "\n",
    "We show the representation of all kinds of signs and also what the influence of\n",
    "clustering and flags are.\n",
    "\n",
    "Here are the design principles:\n",
    "\n",
    "* all flags `# ? ! *` cause the preceding sign to be in bold\n",
    "* damage `#` and missing `[ ]` text is blurry and in grey\n",
    "* questioned `?` and uncertain `( )` text is in italics\n",
    "* remarkable `!` and supplied `< >` text is overlined, supplied text is in blue\n",
    "* excised `<< >>` text has a strike-through and is in red\n",
    "* collated `*` text is underlined\n",
    "\n",
    "Just a quick overview of the sign types:"
   ]
  },
  {
   "cell_type": "code",
   "execution_count": 19,
   "metadata": {},
   "outputs": [
    {
     "data": {
      "text/plain": [
       "(('grapheme', 20433),\n",
       " ('reading', 20357),\n",
       " ('joiner', 18957),\n",
       " ('mark', 12454),\n",
       " ('unknown', 4720),\n",
       " ('ellipsis', 1236),\n",
       " ('numeral', 958),\n",
       " ('lang', 186),\n",
       " ('wdiv', 92),\n",
       " ('empty', 69),\n",
       " ('erasure', 26))"
      ]
     },
     "execution_count": 19,
     "metadata": {},
     "output_type": "execute_result"
    }
   ],
   "source": [
    "F.type.freqList(\"sign\")"
   ]
  },
  {
   "cell_type": "markdown",
   "metadata": {},
   "source": [
    "# Styled display of ATF text"
   ]
  },
  {
   "cell_type": "code",
   "execution_count": 20,
   "metadata": {},
   "outputs": [],
   "source": [
    "lines = (\n",
    "    ((\"P365742\", \"reverse\", \"1:15\"), (\"cluster: determinative\", [9, 10])),\n",
    "    ((\"P403381\", \"obverse\", \"1':3'\"), (\"cluster: missing\", [2, 3, 4, 5])),\n",
    "    ((\"P394104\", \"obverse\", \"1:14\"), (\"cluster: uncertain\", [7])),\n",
    "    ((\"P285136\", \"obverse\", \"6'\"), (\"cluster: supplied\", [11, 12])),\n",
    "    ((\"P393782\", \"obverse\", \"2:1\"), (\"cluster: excised\", [29, 30])),\n",
    "    ((\"P285109\", \"reverse\", \"2:1'\"), (\"flag: damage\", [7, 9])),\n",
    "    ((\"P285109\", \"reverse\", \"2:4'\"), (\"flag: question\", [11, 12])),\n",
    "    ((\"P403291\", \"obverse\", \"4'\"), (\"flag: remarkable\", [4])),\n",
    "    ((\"P394520\", \"obverse\", \"2:37'\"), (\"flag: collated\", [28])),\n",
    ")"
   ]
  },
  {
   "cell_type": "code",
   "execution_count": 21,
   "metadata": {},
   "outputs": [
    {
     "data": {
      "text/markdown": [
       "---\n",
       "# cluster: determinative\n",
       "\n",
       "Location: P365742 reverse:1:15"
      ],
      "text/plain": [
       "<IPython.core.display.Markdown object>"
      ]
     },
     "metadata": {},
     "output_type": "display_data"
    },
    {
     "name": "stdout",
     "output_type": "stream",
     "text": [
      "1:15 [ana KI ] MIN# šimGUR₂.GUR₂ šimLI šim.dNIN.URTA NUMUN u₂AB₂.DUH KA A.AB.BA šimŠEŠ DIŠ-niš SUD₂ ina KAŠ SILA₁₁-aš SAR-ab KI MIN \n"
     ]
    },
    {
     "data": {
      "text/html": [
       "<div class=\"\"><span class=\"tfsechead \"><span class=\"ltr\"><a target=\"_blank\" href=\"https://cdli.ucla.edu/search/search_results.php?SearchMode=Text&amp;ObjectID=P365742\" title=\"Show this document on CDLI\" sec=\"P365742 reverse:1:15\">P365742 reverse:1:15</a></span></span>  <span class=\"txtt\">[</span><span class=\"txtt\"><span class=\"missing\"><span class=\"r\">ana</span></span> </span><span class=\"txtt\"><span class=\"missing\"><span class=\"g\">KI</span></span> </span><span class=\"txtt\"><span class=\"missing\">]</span> </span><span class=\"txtt\"><span class=\"damage\">MIN#</span> </span><span class=\"txtt\"><span class=\"det\">šim</span></span><span class=\"txtt\"><span class=\"g\">GUR₂</span></span><span class=\"txtt\">.</span><span class=\"plain   hl\" ><span class=\"txtt\">GUR₂ </span></span><span class=\"plain   hl\" ><span class=\"txtt\"><span class=\"det\">šim</span></span></span><span class=\"txtt\">LI </span><span class=\"txtt\"><span class=\"det\"><span class=\"r\">šim</span></span></span><span class=\"txtt\"><span class=\"det\">.</span></span><span class=\"txtt\"><span class=\"det\">d</span></span><span class=\"txtt\"><span class=\"g\">NIN</span></span><span class=\"txtt\">.</span><span class=\"txtt\"><span class=\"g\">URTA</span> </span><span class=\"txtt\">NUMUN </span><span class=\"txtt\"><span class=\"det\">u₂</span></span><span class=\"txtt\"><span class=\"g\">AB₂</span></span><span class=\"txtt\">.</span><span class=\"txtt\"><span class=\"g\">DUH</span> </span><span class=\"txtt\"><span class=\"g\">KA</span> </span><span class=\"txtt\"><span class=\"g\">A</span></span><span class=\"txtt\">.</span><span class=\"txtt\"><span class=\"g\">AB</span></span><span class=\"txtt\">.</span><span class=\"txtt\">BA </span><span class=\"txtt\"><span class=\"det\">šim</span></span><span class=\"txtt\"><span class=\"g\">ŠEŠ</span> </span><span class=\"txtt\"><span class=\"g\">DIŠ</span></span><span class=\"txtt\">-</span><span class=\"txtt\"><span class=\"r\">niš</span> </span><span class=\"txtt\"><span class=\"g\">SUD₂</span> </span><span class=\"txtt\"><span class=\"r\">ina</span> </span><span class=\"txtt\"><span class=\"g\">KAŠ</span> </span><span class=\"txtt\"><span class=\"g\">SILA₁₁</span></span><span class=\"txtt\">-</span><span class=\"txtt\"><span class=\"r\">aš</span> </span><span class=\"txtt\"><span class=\"g\">SAR</span></span><span class=\"txtt\">-</span><span class=\"txtt\"><span class=\"r\">ab</span> </span><span class=\"txtt\"><span class=\"g\">KI</span> </span><span class=\"txtt\"><span class=\"g\">MIN</span> </span></div>"
      ],
      "text/plain": [
       "<IPython.core.display.HTML object>"
      ]
     },
     "metadata": {},
     "output_type": "display_data"
    },
    {
     "data": {
      "text/html": [
       "<div class=\"tfsechead \"><span class=\"ltr\"><a target=\"_blank\" href=\"https://cdli.ucla.edu/search/search_results.php?SearchMode=Text&amp;ObjectID=P365742\" title=\"Show this document on CDLI\" sec=\"P365742 reverse:1:15\">P365742 reverse:1:15</a></span></div><div class=\" children\"><div class=\"contnr c3    \" ><div class=\"lbl c3  \" ><span class=\"nd\">line:86712</span></div><div class='features'><span class=\"tr@en xft\" ><span class=\"f\">tr@en=</span>Alternatively, you pound together kukru-aromatic, burāšu-juniper, nikiptu-spurge, kammantu-plant seed, sea algae (and) bitter-plant. You knead it in beer, you shave (his head and) DITTO (= you put it on as a bandage; then you should not remove it for three days).</span></div><div class=\"children hor wrap \"><div class=\"contnr c1   rno \" ><div class=\"lbl c1  \" ><span class=\"nd\">word:96675</span> <span class=\"txtt\">[<span class=\"missing\"><span class=\"r\">ana</span></span> </span></div><div class=\"children hor  \"><div class=\"contnr c0 trm   \" ><div class=\"lbl c0 trm \" ><span class=\"nd\">18356</span> <span class=\"txtt\">[</span></div></div></div></div><div class=\"contnr c2    \" ><div class=\"lbl c2  \" ><span class=\"nd\">cluster:80931</span></div><div class=\"children hor wrap \"><div class=\"contnr c1   lno \" ><div class=\"lbl c1  \" ><span class=\"nd\">word:96675</span> <span class=\"txtt\">[<span class=\"missing\"><span class=\"r\">ana</span></span> </span></div><div class=\"children hor  \"><div class=\"contnr c0 trm   \" ><div class=\"lbl c0 trm \" ><span class=\"nd\">18357</span> <span class=\"txtt\"><span class=\"missing\"><span class=\"r\">ana</span></span> </span></div></div></div></div><div class=\"contnr c1    \" ><div class=\"lbl c1  \" ><span class=\"nd\">word:96676</span> <span class=\"txtt\"><span class=\"missing\"><span class=\"g\">KI</span></span> </span></div><div class=\"children hor  \"><div class=\"contnr c0 trm   \" ><div class=\"lbl c0 trm \" ><span class=\"nd\">18358</span> <span class=\"txtt\"><span class=\"missing\"><span class=\"g\">KI</span></span> </span></div></div></div></div><div class=\"contnr c1   rno \" ><div class=\"lbl c1  \" ><span class=\"nd\">word:96677</span> <span class=\"txtt\"><span class=\"missing\">]</span> <span class=\"damage\">MIN#</span> </span></div><div class=\"children hor  \"><div class=\"contnr c0 trm   \" ><div class=\"lbl c0 trm \" ><span class=\"nd\">18359</span> <span class=\"txtt\"><span class=\"missing\">]</span> </span></div></div></div></div></div></div><div class=\"contnr c1   lno \" ><div class=\"lbl c1  \" ><span class=\"nd\">word:96677</span> <span class=\"txtt\"><span class=\"missing\">]</span> <span class=\"damage\">MIN#</span> </span></div><div class=\"children hor  \"><div class=\"contnr c0 trm   \" ><div class=\"lbl c0 trm \" ><span class=\"nd\">18360</span> <span class=\"txtt\"><span class=\"damage\">MIN#</span> </span></div></div></div></div><div class=\"contnr c2    \" ><div class=\"lbl c2  \" ><span class=\"nd\">cluster:80932</span></div><div class=\"children hor wrap \"><div class=\"contnr c1   rno \" ><div class=\"lbl c1  \" ><span class=\"nd\">word:96678</span> <span class=\"txtt\"><span class=\"det\">šim</span><span class=\"g\">GUR₂</span>.GUR₂ </span></div><div class=\"children hor  \"><div class=\"contnr c0 trm   \" ><div class=\"lbl c0 trm \" ><span class=\"nd\">18361</span> <span class=\"txtt\"><span class=\"det\">šim</span></span></div></div></div></div></div></div><div class=\"contnr c1   lno \" ><div class=\"lbl c1  \" ><span class=\"nd\">word:96678</span> <span class=\"txtt\"><span class=\"det\">šim</span><span class=\"g\">GUR₂</span>.GUR₂ </span></div><div class=\"children hor  \"><div class=\"contnr c0 trm   \" ><div class=\"lbl c0 trm \" ><span class=\"nd\">18362</span> <span class=\"txtt\"><span class=\"g\">GUR₂</span></span></div></div><div class=\"contnr c0 trm   \" ><div class=\"lbl c0 trm \" ><span class=\"nd\">18363</span> <span class=\"txtt\">.</span></div></div><div class=\"contnr c0 trm   hl\" ><div class=\"lbl c0 trm hl\" ><span class=\"nd\">18364</span> <span class=\"txtt\">GUR₂ </span></div></div></div></div><div class=\"contnr c2    \" ><div class=\"lbl c2  \" ><span class=\"nd\">cluster:80933</span></div><div class=\"children hor wrap \"><div class=\"contnr c1   rno \" ><div class=\"lbl c1  \" ><span class=\"nd\">word:96679</span> <span class=\"txtt\"><span class=\"det\">šim</span>LI </span></div><div class=\"children hor  \"><div class=\"contnr c0 trm   hl\" ><div class=\"lbl c0 trm hl\" ><span class=\"nd\">18365</span> <span class=\"txtt\"><span class=\"det\">šim</span></span></div></div></div></div></div></div><div class=\"contnr c1   lno \" ><div class=\"lbl c1  \" ><span class=\"nd\">word:96679</span> <span class=\"txtt\"><span class=\"det\">šim</span>LI </span></div><div class=\"children hor  \"><div class=\"contnr c0 trm   \" ><div class=\"lbl c0 trm \" ><span class=\"nd\">18366</span> <span class=\"txtt\">LI </span></div></div></div></div><div class=\"contnr c2    \" ><div class=\"lbl c2  \" ><span class=\"nd\">cluster:80934</span></div><div class=\"children hor wrap \"><div class=\"contnr c1   rno \" ><div class=\"lbl c1  \" ><span class=\"nd\">word:96680</span> <span class=\"txtt\"><span class=\"det\"><span class=\"r\">šim</span></span><span class=\"det\">.</span><span class=\"det\">d</span><span class=\"g\">NIN</span>.<span class=\"g\">URTA</span> </span></div><div class=\"children hor  \"><div class=\"contnr c0 trm   \" ><div class=\"lbl c0 trm \" ><span class=\"nd\">18367</span> <span class=\"txtt\"><span class=\"det\"><span class=\"r\">šim</span></span></span></div></div><div class=\"contnr c0 trm   \" ><div class=\"lbl c0 trm \" ><span class=\"nd\">18368</span> <span class=\"txtt\"><span class=\"det\">.</span></span></div></div><div class=\"contnr c0 trm   \" ><div class=\"lbl c0 trm \" ><span class=\"nd\">18369</span> <span class=\"txtt\"><span class=\"det\">d</span></span></div></div></div></div></div></div><div class=\"contnr c1   lno \" ><div class=\"lbl c1  \" ><span class=\"nd\">word:96680</span> <span class=\"txtt\"><span class=\"det\"><span class=\"r\">šim</span></span><span class=\"det\">.</span><span class=\"det\">d</span><span class=\"g\">NIN</span>.<span class=\"g\">URTA</span> </span></div><div class=\"children hor  \"><div class=\"contnr c0 trm   \" ><div class=\"lbl c0 trm \" ><span class=\"nd\">18370</span> <span class=\"txtt\"><span class=\"g\">NIN</span></span></div></div><div class=\"contnr c0 trm   \" ><div class=\"lbl c0 trm \" ><span class=\"nd\">18371</span> <span class=\"txtt\">.</span></div></div><div class=\"contnr c0 trm   \" ><div class=\"lbl c0 trm \" ><span class=\"nd\">18372</span> <span class=\"txtt\"><span class=\"g\">URTA</span> </span></div></div></div></div><div class=\"contnr c1    \" ><div class=\"lbl c1  \" ><span class=\"nd\">word:96681</span> <span class=\"txtt\">NUMUN </span></div><div class=\"children hor  \"><div class=\"contnr c0 trm   \" ><div class=\"lbl c0 trm \" ><span class=\"nd\">18373</span> <span class=\"txtt\">NUMUN </span></div></div></div></div><div class=\"contnr c2    \" ><div class=\"lbl c2  \" ><span class=\"nd\">cluster:80935</span></div><div class=\"children hor wrap \"><div class=\"contnr c1   rno \" ><div class=\"lbl c1  \" ><span class=\"nd\">word:96682</span> <span class=\"txtt\"><span class=\"det\">u₂</span><span class=\"g\">AB₂</span>.<span class=\"g\">DUH</span> </span></div><div class=\"children hor  \"><div class=\"contnr c0 trm   \" ><div class=\"lbl c0 trm \" ><span class=\"nd\">18374</span> <span class=\"txtt\"><span class=\"det\">u₂</span></span></div></div></div></div></div></div><div class=\"contnr c1   lno \" ><div class=\"lbl c1  \" ><span class=\"nd\">word:96682</span> <span class=\"txtt\"><span class=\"det\">u₂</span><span class=\"g\">AB₂</span>.<span class=\"g\">DUH</span> </span></div><div class=\"children hor  \"><div class=\"contnr c0 trm   \" ><div class=\"lbl c0 trm \" ><span class=\"nd\">18375</span> <span class=\"txtt\"><span class=\"g\">AB₂</span></span></div></div><div class=\"contnr c0 trm   \" ><div class=\"lbl c0 trm \" ><span class=\"nd\">18376</span> <span class=\"txtt\">.</span></div></div><div class=\"contnr c0 trm   \" ><div class=\"lbl c0 trm \" ><span class=\"nd\">18377</span> <span class=\"txtt\"><span class=\"g\">DUH</span> </span></div></div></div></div><div class=\"contnr c1    \" ><div class=\"lbl c1  \" ><span class=\"nd\">word:96683</span> <span class=\"txtt\"><span class=\"g\">KA</span> </span></div><div class=\"children hor  \"><div class=\"contnr c0 trm   \" ><div class=\"lbl c0 trm \" ><span class=\"nd\">18378</span> <span class=\"txtt\"><span class=\"g\">KA</span> </span></div></div></div></div><div class=\"contnr c1    \" ><div class=\"lbl c1  \" ><span class=\"nd\">word:96684</span> <span class=\"txtt\"><span class=\"g\">A</span>.<span class=\"g\">AB</span>.BA </span></div><div class=\"children hor  \"><div class=\"contnr c0 trm   \" ><div class=\"lbl c0 trm \" ><span class=\"nd\">18379</span> <span class=\"txtt\"><span class=\"g\">A</span></span></div></div><div class=\"contnr c0 trm   \" ><div class=\"lbl c0 trm \" ><span class=\"nd\">18380</span> <span class=\"txtt\">.</span></div></div><div class=\"contnr c0 trm   \" ><div class=\"lbl c0 trm \" ><span class=\"nd\">18381</span> <span class=\"txtt\"><span class=\"g\">AB</span></span></div></div><div class=\"contnr c0 trm   \" ><div class=\"lbl c0 trm \" ><span class=\"nd\">18382</span> <span class=\"txtt\">.</span></div></div><div class=\"contnr c0 trm   \" ><div class=\"lbl c0 trm \" ><span class=\"nd\">18383</span> <span class=\"txtt\">BA </span></div></div></div></div><div class=\"contnr c2    \" ><div class=\"lbl c2  \" ><span class=\"nd\">cluster:80936</span></div><div class=\"children hor wrap \"><div class=\"contnr c1   rno \" ><div class=\"lbl c1  \" ><span class=\"nd\">word:96685</span> <span class=\"txtt\"><span class=\"det\">šim</span><span class=\"g\">ŠEŠ</span> </span></div><div class=\"children hor  \"><div class=\"contnr c0 trm   \" ><div class=\"lbl c0 trm \" ><span class=\"nd\">18384</span> <span class=\"txtt\"><span class=\"det\">šim</span></span></div></div></div></div></div></div><div class=\"contnr c1   lno \" ><div class=\"lbl c1  \" ><span class=\"nd\">word:96685</span> <span class=\"txtt\"><span class=\"det\">šim</span><span class=\"g\">ŠEŠ</span> </span></div><div class=\"children hor  \"><div class=\"contnr c0 trm   \" ><div class=\"lbl c0 trm \" ><span class=\"nd\">18385</span> <span class=\"txtt\"><span class=\"g\">ŠEŠ</span> </span></div></div></div></div><div class=\"contnr c1    \" ><div class=\"lbl c1  \" ><span class=\"nd\">word:96686</span> <span class=\"txtt\"><span class=\"g\">DIŠ</span>-<span class=\"r\">niš</span> </span></div><div class=\"children hor  \"><div class=\"contnr c0 trm   \" ><div class=\"lbl c0 trm \" ><span class=\"nd\">18386</span> <span class=\"txtt\"><span class=\"g\">DIŠ</span></span></div></div><div class=\"contnr c0 trm   \" ><div class=\"lbl c0 trm \" ><span class=\"nd\">18387</span> <span class=\"txtt\">-</span></div></div><div class=\"contnr c0 trm   \" ><div class=\"lbl c0 trm \" ><span class=\"nd\">18388</span> <span class=\"txtt\"><span class=\"r\">niš</span> </span></div></div></div></div><div class=\"contnr c1    \" ><div class=\"lbl c1  \" ><span class=\"nd\">word:96687</span> <span class=\"txtt\"><span class=\"g\">SUD₂</span> </span></div><div class=\"children hor  \"><div class=\"contnr c0 trm   \" ><div class=\"lbl c0 trm \" ><span class=\"nd\">18389</span> <span class=\"txtt\"><span class=\"g\">SUD₂</span> </span></div></div></div></div><div class=\"contnr c1    \" ><div class=\"lbl c1  \" ><span class=\"nd\">word:96688</span> <span class=\"txtt\"><span class=\"r\">ina</span> </span></div><div class=\"children hor  \"><div class=\"contnr c0 trm   \" ><div class=\"lbl c0 trm \" ><span class=\"nd\">18390</span> <span class=\"txtt\"><span class=\"r\">ina</span> </span></div></div></div></div><div class=\"contnr c1    \" ><div class=\"lbl c1  \" ><span class=\"nd\">word:96689</span> <span class=\"txtt\"><span class=\"g\">KAŠ</span> </span></div><div class=\"children hor  \"><div class=\"contnr c0 trm   \" ><div class=\"lbl c0 trm \" ><span class=\"nd\">18391</span> <span class=\"txtt\"><span class=\"g\">KAŠ</span> </span></div></div></div></div><div class=\"contnr c1    \" ><div class=\"lbl c1  \" ><span class=\"nd\">word:96690</span> <span class=\"txtt\"><span class=\"g\">SILA₁₁</span>-<span class=\"r\">aš</span> </span></div><div class=\"children hor  \"><div class=\"contnr c0 trm   \" ><div class=\"lbl c0 trm \" ><span class=\"nd\">18392</span> <span class=\"txtt\"><span class=\"g\">SILA₁₁</span></span></div></div><div class=\"contnr c0 trm   \" ><div class=\"lbl c0 trm \" ><span class=\"nd\">18393</span> <span class=\"txtt\">-</span></div></div><div class=\"contnr c0 trm   \" ><div class=\"lbl c0 trm \" ><span class=\"nd\">18394</span> <span class=\"txtt\"><span class=\"r\">aš</span> </span></div></div></div></div><div class=\"contnr c1    \" ><div class=\"lbl c1  \" ><span class=\"nd\">word:96691</span> <span class=\"txtt\"><span class=\"g\">SAR</span>-<span class=\"r\">ab</span> </span></div><div class=\"children hor  \"><div class=\"contnr c0 trm   \" ><div class=\"lbl c0 trm \" ><span class=\"nd\">18395</span> <span class=\"txtt\"><span class=\"g\">SAR</span></span></div></div><div class=\"contnr c0 trm   \" ><div class=\"lbl c0 trm \" ><span class=\"nd\">18396</span> <span class=\"txtt\">-</span></div></div><div class=\"contnr c0 trm   \" ><div class=\"lbl c0 trm \" ><span class=\"nd\">18397</span> <span class=\"txtt\"><span class=\"r\">ab</span> </span></div></div></div></div><div class=\"contnr c1    \" ><div class=\"lbl c1  \" ><span class=\"nd\">word:96692</span> <span class=\"txtt\"><span class=\"g\">KI</span> </span></div><div class=\"children hor  \"><div class=\"contnr c0 trm   \" ><div class=\"lbl c0 trm \" ><span class=\"nd\">18398</span> <span class=\"txtt\"><span class=\"g\">KI</span> </span></div></div></div></div><div class=\"contnr c1    \" ><div class=\"lbl c1  \" ><span class=\"nd\">word:96693</span> <span class=\"txtt\"><span class=\"g\">MIN</span> </span></div><div class=\"children hor  \"><div class=\"contnr c0 trm   \" ><div class=\"lbl c0 trm \" ><span class=\"nd\">18399</span> <span class=\"txtt\"><span class=\"g\">MIN</span> </span></div></div></div></div></div></div></div>"
      ],
      "text/plain": [
       "<IPython.core.display.HTML object>"
      ]
     },
     "metadata": {},
     "output_type": "display_data"
    },
    {
     "data": {
      "text/markdown": [
       "---\n",
       "# cluster: missing\n",
       "\n",
       "Location: P403381 obverse:1':3'"
      ],
      "text/plain": [
       "<IPython.core.display.Markdown object>"
      ]
     },
     "metadata": {},
     "output_type": "display_data"
    },
    {
     "name": "stdout",
     "output_type": "stream",
     "text": [
      "1':3' [... NU pa]-tan# NAG \n"
     ]
    },
    {
     "data": {
      "text/html": [
       "<div class=\"\"><span class=\"tfsechead \"><span class=\"ltr\"><a target=\"_blank\" href=\"https://cdli.ucla.edu/search/search_results.php?SearchMode=Text&amp;ObjectID=P403381\" title=\"Show this document on CDLI\" sec=\"P403381 obverse:1':3'\">P403381 obverse:1':3'</a></span></span>  <span class=\"txtt\">[</span><span class=\"plain   hl\" ><span class=\"txtt\"><span class=\"missing\"><span class=\"missing\">...</span></span> </span></span><span class=\"plain   hl\" ><span class=\"txtt\"><span class=\"missing\"><span class=\"g\">NU</span></span> </span></span><span class=\"plain   hl\" ><span class=\"txtt\"><span class=\"missing\"><span class=\"r\">pa</span></span></span></span><span class=\"plain   hl\" ><span class=\"txtt\"><span class=\"missing\">]</span></span></span><span class=\"txtt\">-</span><span class=\"txtt\"><span class=\"damage\"><span class=\"r\">tan</span></span> </span><span class=\"txtt\"><span class=\"g\">NAG</span> </span></div>"
      ],
      "text/plain": [
       "<IPython.core.display.HTML object>"
      ]
     },
     "metadata": {},
     "output_type": "display_data"
    },
    {
     "data": {
      "text/html": [
       "<div class=\"tfsechead \"><span class=\"ltr\"><a target=\"_blank\" href=\"https://cdli.ucla.edu/search/search_results.php?SearchMode=Text&amp;ObjectID=P403381\" title=\"Show this document on CDLI\" sec=\"P403381 obverse:1':3'\">P403381 obverse:1':3'</a></span></div><div class=\" children\"><div class=\"contnr c3    \" ><div class=\"lbl c3  \" ><span class=\"nd\">line:86097</span></div><div class=\"children hor wrap \"><div class=\"contnr c1   rno \" ><div class=\"lbl c1  \" ><span class=\"nd\">word:90303</span> <span class=\"txtt\">[<span class=\"missing\"><span class=\"missing\">...</span></span> </span></div><div class=\"children hor  \"><div class=\"contnr c0 trm   \" ><div class=\"lbl c0 trm \" ><span class=\"nd\">2448</span> <span class=\"txtt\">[</span></div></div></div></div><div class=\"contnr c2    \" ><div class=\"lbl c2  \" ><span class=\"nd\">cluster:79706</span></div><div class=\"children hor wrap \"><div class=\"contnr c1   lno \" ><div class=\"lbl c1  \" ><span class=\"nd\">word:90303</span> <span class=\"txtt\">[<span class=\"missing\"><span class=\"missing\">...</span></span> </span></div><div class=\"children hor  \"><div class=\"contnr c0 trm   hl\" ><div class=\"lbl c0 trm hl\" ><span class=\"nd\">2449</span> <span class=\"txtt\"><span class=\"missing\"><span class=\"missing\">...</span></span> </span></div></div></div></div><div class=\"contnr c1    \" ><div class=\"lbl c1  \" ><span class=\"nd\">word:90304</span> <span class=\"txtt\"><span class=\"missing\"><span class=\"g\">NU</span></span> </span></div><div class=\"children hor  \"><div class=\"contnr c0 trm   hl\" ><div class=\"lbl c0 trm hl\" ><span class=\"nd\">2450</span> <span class=\"txtt\"><span class=\"missing\"><span class=\"g\">NU</span></span> </span></div></div></div></div><div class=\"contnr c1   rno \" ><div class=\"lbl c1  \" ><span class=\"nd\">word:90305</span> <span class=\"txtt\"><span class=\"missing\"><span class=\"r\">pa</span></span><span class=\"missing\">]</span>-<span class=\"damage\"><span class=\"r\">tan</span></span> </span></div><div class=\"children hor  \"><div class=\"contnr c0 trm   hl\" ><div class=\"lbl c0 trm hl\" ><span class=\"nd\">2451</span> <span class=\"txtt\"><span class=\"missing\"><span class=\"r\">pa</span></span></span></div></div><div class=\"contnr c0 trm   hl\" ><div class=\"lbl c0 trm hl\" ><span class=\"nd\">2452</span> <span class=\"txtt\"><span class=\"missing\">]</span></span></div></div></div></div></div></div><div class=\"contnr c1   lno \" ><div class=\"lbl c1  \" ><span class=\"nd\">word:90305</span> <span class=\"txtt\"><span class=\"missing\"><span class=\"r\">pa</span></span><span class=\"missing\">]</span>-<span class=\"damage\"><span class=\"r\">tan</span></span> </span></div><div class=\"children hor  \"><div class=\"contnr c0 trm   \" ><div class=\"lbl c0 trm \" ><span class=\"nd\">2453</span> <span class=\"txtt\">-</span></div></div><div class=\"contnr c0 trm   \" ><div class=\"lbl c0 trm \" ><span class=\"nd\">2454</span> <span class=\"txtt\"><span class=\"damage\"><span class=\"r\">tan</span></span> </span></div></div></div></div><div class=\"contnr c1    \" ><div class=\"lbl c1  \" ><span class=\"nd\">word:90306</span> <span class=\"txtt\"><span class=\"g\">NAG</span> </span></div><div class=\"children hor  \"><div class=\"contnr c0 trm   \" ><div class=\"lbl c0 trm \" ><span class=\"nd\">2455</span> <span class=\"txtt\"><span class=\"g\">NAG</span> </span></div></div></div></div></div></div></div>"
      ],
      "text/plain": [
       "<IPython.core.display.HTML object>"
      ]
     },
     "metadata": {},
     "output_type": "display_data"
    },
    {
     "data": {
      "text/markdown": [
       "---\n",
       "# cluster: uncertain\n",
       "\n",
       "Location: P394104 obverse:1:14"
      ],
      "text/plain": [
       "<IPython.core.display.Markdown object>"
      ]
     },
     "metadata": {},
     "output_type": "display_data"
    },
    {
     "name": "stdout",
     "output_type": "stream",
     "text": [
      "1:14 a-[na E₂ (NU?)] e#-de-e DU-ma KA₂ GU₃-si ki-ma# x x x [...] \n"
     ]
    },
    {
     "data": {
      "text/html": [
       "<div class=\"\"><span class=\"tfsechead \"><span class=\"ltr\"><a target=\"_blank\" href=\"https://cdli.ucla.edu/search/search_results.php?SearchMode=Text&amp;ObjectID=P394104\" title=\"Show this document on CDLI\" sec=\"P394104 obverse:1:14\">P394104 obverse:1:14</a></span></span>  <span class=\"txtt\"><span class=\"r\">a</span></span><span class=\"txtt\">-</span><span class=\"txtt\">[</span><span class=\"txtt\"><span class=\"missing\"><span class=\"r\">na</span></span> </span><span class=\"txtt\"><span class=\"missing\"><span class=\"g\">E₂</span></span> </span><span class=\"txtt\"><span class=\"missing\">(</span></span><span class=\"plain   hl\" ><span class=\"txtt\"><span class=\"question uncertain missing\"><span class=\"g\">NU</span></span></span></span><span class=\"txtt\"><span class=\"uncertain missing\">)</span></span><span class=\"txtt\"><span class=\"missing\">]</span> </span><span class=\"txtt\"><span class=\"damage\"><span class=\"r\">e</span></span></span><span class=\"txtt\">-</span><span class=\"txtt\"><span class=\"r\">de</span></span><span class=\"txtt\">-</span><span class=\"txtt\"><span class=\"r\">e</span> </span><span class=\"txtt\"><span class=\"g\">DU</span></span><span class=\"txtt\">-</span><span class=\"txtt\"><span class=\"r\">ma</span> </span><span class=\"txtt\"><span class=\"g\">KA₂</span> </span><span class=\"txtt\"><span class=\"g\">GU₃</span></span><span class=\"txtt\">-</span><span class=\"txtt\"><span class=\"r\">si</span> </span><span class=\"txtt\"><span class=\"r\">ki</span></span><span class=\"txtt\">-</span><span class=\"txtt\"><span class=\"damage\"><span class=\"r\">ma</span></span> </span><span class=\"txtt\"><span class=\"uncertain\"><span class=\"cls\">x</span></span> </span><span class=\"txtt\"><span class=\"uncertain\"><span class=\"cls\">x</span></span> </span><span class=\"txtt\"><span class=\"uncertain\"><span class=\"cls\">x</span></span> </span><span class=\"txtt\">[</span><span class=\"txtt\"><span class=\"missing\"><span class=\"missing\">...</span></span></span><span class=\"txtt\"><span class=\"missing\">]</span> </span></div>"
      ],
      "text/plain": [
       "<IPython.core.display.HTML object>"
      ]
     },
     "metadata": {},
     "output_type": "display_data"
    },
    {
     "data": {
      "text/html": [
       "<div class=\"tfsechead \"><span class=\"ltr\"><a target=\"_blank\" href=\"https://cdli.ucla.edu/search/search_results.php?SearchMode=Text&amp;ObjectID=P394104\" title=\"Show this document on CDLI\" sec=\"P394104 obverse:1:14\">P394104 obverse:1:14</a></span></div><div class=\" children\"><div class=\"contnr c3    \" ><div class=\"lbl c3  \" ><span class=\"nd\">line:86114</span></div><div class='features'><span class=\"tr@en xft\" ><span class=\"f\">tr@en=</span>(o i 15):He goes [to] an (un)known [house] and calls at the entrance door: ‘like ... [...] ... giddagiddû-fibers, ditto, remove your (pl.) giddagiddû-fibers, ... [...]!’</span></div><div class=\"children hor wrap \"><div class=\"contnr c1   rno \" ><div class=\"lbl c1  \" ><span class=\"nd\">word:90474</span> <span class=\"txtt\"><span class=\"r\">a</span>-[<span class=\"missing\"><span class=\"r\">na</span></span> </span></div><div class=\"children hor  \"><div class=\"contnr c0 trm   \" ><div class=\"lbl c0 trm \" ><span class=\"nd\">2973</span> <span class=\"txtt\"><span class=\"r\">a</span></span></div></div><div class=\"contnr c0 trm   \" ><div class=\"lbl c0 trm \" ><span class=\"nd\">2974</span> <span class=\"txtt\">-</span></div></div><div class=\"contnr c0 trm   \" ><div class=\"lbl c0 trm \" ><span class=\"nd\">2975</span> <span class=\"txtt\">[</span></div></div></div></div><div class=\"contnr c2    \" ><div class=\"lbl c2  \" ><span class=\"nd\">cluster:79745</span></div><div class=\"children hor wrap \"><div class=\"contnr c1   lno \" ><div class=\"lbl c1  \" ><span class=\"nd\">word:90474</span> <span class=\"txtt\"><span class=\"r\">a</span>-[<span class=\"missing\"><span class=\"r\">na</span></span> </span></div><div class=\"children hor  \"><div class=\"contnr c0 trm   \" ><div class=\"lbl c0 trm \" ><span class=\"nd\">2976</span> <span class=\"txtt\"><span class=\"missing\"><span class=\"r\">na</span></span> </span></div></div></div></div><div class=\"contnr c1    \" ><div class=\"lbl c1  \" ><span class=\"nd\">word:90475</span> <span class=\"txtt\"><span class=\"missing\"><span class=\"g\">E₂</span></span> </span></div><div class=\"children hor  \"><div class=\"contnr c0 trm   \" ><div class=\"lbl c0 trm \" ><span class=\"nd\">2977</span> <span class=\"txtt\"><span class=\"missing\"><span class=\"g\">E₂</span></span> </span></div></div></div></div><div class=\"contnr c1   rno \" ><div class=\"lbl c1  \" ><span class=\"nd\">word:90476</span> <span class=\"txtt\"><span class=\"missing\">(</span><span class=\"question uncertain missing\"><span class=\"g\">NU</span></span><span class=\"uncertain missing\">)</span><span class=\"missing\">]</span> </span></div><div class=\"children hor  \"><div class=\"contnr c0 trm   \" ><div class=\"lbl c0 trm \" ><span class=\"nd\">2978</span> <span class=\"txtt\"><span class=\"missing\">(</span></span></div></div></div></div><div class=\"contnr c2    \" ><div class=\"lbl c2  \" ><span class=\"nd\">cluster:79746</span></div><div class=\"children hor wrap \"><div class=\"contnr c1   lno rno \" ><div class=\"lbl c1  \" ><span class=\"nd\">word:90476</span> <span class=\"txtt\"><span class=\"missing\">(</span><span class=\"question uncertain missing\"><span class=\"g\">NU</span></span><span class=\"uncertain missing\">)</span><span class=\"missing\">]</span> </span></div><div class=\"children hor  \"><div class=\"contnr c0 trm   hl\" ><div class=\"lbl c0 trm hl\" ><span class=\"nd\">2979</span> <span class=\"txtt\"><span class=\"question uncertain missing\"><span class=\"g\">NU</span></span></span></div></div><div class=\"contnr c0 trm   \" ><div class=\"lbl c0 trm \" ><span class=\"nd\">2980</span> <span class=\"txtt\"><span class=\"uncertain missing\">)</span></span></div></div></div></div></div></div><div class=\"contnr c1   lno \" ><div class=\"lbl c1  \" ><span class=\"nd\">word:90476</span> <span class=\"txtt\"><span class=\"missing\">(</span><span class=\"question uncertain missing\"><span class=\"g\">NU</span></span><span class=\"uncertain missing\">)</span><span class=\"missing\">]</span> </span></div><div class=\"children hor  \"><div class=\"contnr c0 trm   \" ><div class=\"lbl c0 trm \" ><span class=\"nd\">2981</span> <span class=\"txtt\"><span class=\"missing\">]</span> </span></div></div></div></div></div></div><div class=\"contnr c1    \" ><div class=\"lbl c1  \" ><span class=\"nd\">word:90477</span> <span class=\"txtt\"><span class=\"damage\"><span class=\"r\">e</span></span>-<span class=\"r\">de</span>-<span class=\"r\">e</span> </span></div><div class=\"children hor  \"><div class=\"contnr c0 trm   \" ><div class=\"lbl c0 trm \" ><span class=\"nd\">2982</span> <span class=\"txtt\"><span class=\"damage\"><span class=\"r\">e</span></span></span></div></div><div class=\"contnr c0 trm   \" ><div class=\"lbl c0 trm \" ><span class=\"nd\">2983</span> <span class=\"txtt\">-</span></div></div><div class=\"contnr c0 trm   \" ><div class=\"lbl c0 trm \" ><span class=\"nd\">2984</span> <span class=\"txtt\"><span class=\"r\">de</span></span></div></div><div class=\"contnr c0 trm   \" ><div class=\"lbl c0 trm \" ><span class=\"nd\">2985</span> <span class=\"txtt\">-</span></div></div><div class=\"contnr c0 trm   \" ><div class=\"lbl c0 trm \" ><span class=\"nd\">2986</span> <span class=\"txtt\"><span class=\"r\">e</span> </span></div></div></div></div><div class=\"contnr c1    \" ><div class=\"lbl c1  \" ><span class=\"nd\">word:90478</span> <span class=\"txtt\"><span class=\"g\">DU</span>-<span class=\"r\">ma</span> </span></div><div class=\"children hor  \"><div class=\"contnr c0 trm   \" ><div class=\"lbl c0 trm \" ><span class=\"nd\">2987</span> <span class=\"txtt\"><span class=\"g\">DU</span></span></div></div><div class=\"contnr c0 trm   \" ><div class=\"lbl c0 trm \" ><span class=\"nd\">2988</span> <span class=\"txtt\">-</span></div></div><div class=\"contnr c0 trm   \" ><div class=\"lbl c0 trm \" ><span class=\"nd\">2989</span> <span class=\"txtt\"><span class=\"r\">ma</span> </span></div></div></div></div><div class=\"contnr c1    \" ><div class=\"lbl c1  \" ><span class=\"nd\">word:90479</span> <span class=\"txtt\"><span class=\"g\">KA₂</span> </span></div><div class=\"children hor  \"><div class=\"contnr c0 trm   \" ><div class=\"lbl c0 trm \" ><span class=\"nd\">2990</span> <span class=\"txtt\"><span class=\"g\">KA₂</span> </span></div></div></div></div><div class=\"contnr c1    \" ><div class=\"lbl c1  \" ><span class=\"nd\">word:90480</span> <span class=\"txtt\"><span class=\"g\">GU₃</span>-<span class=\"r\">si</span> </span></div><div class=\"children hor  \"><div class=\"contnr c0 trm   \" ><div class=\"lbl c0 trm \" ><span class=\"nd\">2991</span> <span class=\"txtt\"><span class=\"g\">GU₃</span></span></div></div><div class=\"contnr c0 trm   \" ><div class=\"lbl c0 trm \" ><span class=\"nd\">2992</span> <span class=\"txtt\">-</span></div></div><div class=\"contnr c0 trm   \" ><div class=\"lbl c0 trm \" ><span class=\"nd\">2993</span> <span class=\"txtt\"><span class=\"r\">si</span> </span></div></div></div></div><div class=\"contnr c1    \" ><div class=\"lbl c1  \" ><span class=\"nd\">word:90481</span> <span class=\"txtt\"><span class=\"r\">ki</span>-<span class=\"damage\"><span class=\"r\">ma</span></span> </span></div><div class=\"children hor  \"><div class=\"contnr c0 trm   \" ><div class=\"lbl c0 trm \" ><span class=\"nd\">2994</span> <span class=\"txtt\"><span class=\"r\">ki</span></span></div></div><div class=\"contnr c0 trm   \" ><div class=\"lbl c0 trm \" ><span class=\"nd\">2995</span> <span class=\"txtt\">-</span></div></div><div class=\"contnr c0 trm   \" ><div class=\"lbl c0 trm \" ><span class=\"nd\">2996</span> <span class=\"txtt\"><span class=\"damage\"><span class=\"r\">ma</span></span> </span></div></div></div></div><div class=\"contnr c1    \" ><div class=\"lbl c1  \" ><span class=\"nd\">word:90482</span> <span class=\"txtt\"><span class=\"uncertain\"><span class=\"cls\">x</span></span> </span></div><div class=\"children hor  \"><div class=\"contnr c0 trm   \" ><div class=\"lbl c0 trm \" ><span class=\"nd\">2997</span> <span class=\"txtt\"><span class=\"uncertain\"><span class=\"cls\">x</span></span> </span></div></div></div></div><div class=\"contnr c1    \" ><div class=\"lbl c1  \" ><span class=\"nd\">word:90483</span> <span class=\"txtt\"><span class=\"uncertain\"><span class=\"cls\">x</span></span> </span></div><div class=\"children hor  \"><div class=\"contnr c0 trm   \" ><div class=\"lbl c0 trm \" ><span class=\"nd\">2998</span> <span class=\"txtt\"><span class=\"uncertain\"><span class=\"cls\">x</span></span> </span></div></div></div></div><div class=\"contnr c1    \" ><div class=\"lbl c1  \" ><span class=\"nd\">word:90484</span> <span class=\"txtt\"><span class=\"uncertain\"><span class=\"cls\">x</span></span> </span></div><div class=\"children hor  \"><div class=\"contnr c0 trm   \" ><div class=\"lbl c0 trm \" ><span class=\"nd\">2999</span> <span class=\"txtt\"><span class=\"uncertain\"><span class=\"cls\">x</span></span> </span></div></div></div></div><div class=\"contnr c1   rno \" ><div class=\"lbl c1  \" ><span class=\"nd\">word:90485</span> <span class=\"txtt\">[<span class=\"missing\"><span class=\"missing\">...</span></span><span class=\"missing\">]</span> </span></div><div class=\"children hor  \"><div class=\"contnr c0 trm   \" ><div class=\"lbl c0 trm \" ><span class=\"nd\">3000</span> <span class=\"txtt\">[</span></div></div></div></div><div class=\"contnr c2    \" ><div class=\"lbl c2  \" ><span class=\"nd\">cluster:79747</span></div><div class=\"children hor wrap \"><div class=\"contnr c1   lno \" ><div class=\"lbl c1  \" ><span class=\"nd\">word:90485</span> <span class=\"txtt\">[<span class=\"missing\"><span class=\"missing\">...</span></span><span class=\"missing\">]</span> </span></div><div class=\"children hor  \"><div class=\"contnr c0 trm   \" ><div class=\"lbl c0 trm \" ><span class=\"nd\">3001</span> <span class=\"txtt\"><span class=\"missing\"><span class=\"missing\">...</span></span></span></div></div><div class=\"contnr c0 trm   \" ><div class=\"lbl c0 trm \" ><span class=\"nd\">3002</span> <span class=\"txtt\"><span class=\"missing\">]</span> </span></div></div></div></div></div></div></div></div></div>"
      ],
      "text/plain": [
       "<IPython.core.display.HTML object>"
      ]
     },
     "metadata": {},
     "output_type": "display_data"
    },
    {
     "data": {
      "text/markdown": [
       "---\n",
       "# cluster: supplied\n",
       "\n",
       "Location: P285136 obverse:6'"
      ],
      "text/plain": [
       "<IPython.core.display.Markdown object>"
      ]
     },
     "metadata": {},
     "output_type": "display_data"
    },
    {
     "name": "stdout",
     "output_type": "stream",
     "text": [
      "6' EN₂ ma-mit GIM šar-ra-<qi₂> ina KA₂ pil-ši un gi ha ba# [x x x x x x x x x x x x] \n"
     ]
    },
    {
     "data": {
      "text/html": [
       "<div class=\"\"><span class=\"tfsechead \"><span class=\"ltr\"><a target=\"_blank\" href=\"https://cdli.ucla.edu/search/search_results.php?SearchMode=Text&amp;ObjectID=P285136\" title=\"Show this document on CDLI\" sec=\"P285136 obverse:6'\">P285136 obverse:6'</a></span></span>  <span class=\"txtt\"><span class=\"g\">EN₂</span> </span><span class=\"txtt\"><span class=\"r\">ma</span></span><span class=\"txtt\">-</span><span class=\"txtt\"><span class=\"r\">mit</span> </span><span class=\"txtt\"><span class=\"g\">GIM</span> </span><span class=\"txtt\"><span class=\"r\">šar</span></span><span class=\"txtt\">-</span><span class=\"txtt\"><span class=\"r\">ra</span></span><span class=\"txtt\">-</span><span class=\"txtt\"><</span><span class=\"plain   hl\" ><span class=\"txtt\"><span class=\"supplied\"><span class=\"r\">qi</span></span></span></span><span class=\"plain   hl\" ><span class=\"txtt\"><span class=\"supplied\">></span> </span></span><span class=\"txtt\"><span class=\"r\">ina</span> </span><span class=\"txtt\"><span class=\"g\">KA₂</span> </span><span class=\"txtt\"><span class=\"r\">pil</span></span><span class=\"txtt\">-</span><span class=\"txtt\"><span class=\"r\">ši</span> </span><span class=\"txtt\"><span class=\"r\">un</span> </span><span class=\"txtt\"><span class=\"r\">gi</span> </span><span class=\"txtt\"><span class=\"r\">ha</span> </span><span class=\"txtt\"><span class=\"damage\"><span class=\"r\">ba</span></span> </span><span class=\"txtt\">[</span><span class=\"txtt\"><span class=\"missing\"><span class=\"uncertain\"><span class=\"cls\">x</span></span></span> </span><span class=\"txtt\"><span class=\"missing\"><span class=\"uncertain\"><span class=\"cls\">x</span></span></span> </span><span class=\"txtt\"><span class=\"missing\"><span class=\"uncertain\"><span class=\"cls\">x</span></span></span> </span><span class=\"txtt\"><span class=\"missing\"><span class=\"uncertain\"><span class=\"cls\">x</span></span></span> </span><span class=\"txtt\"><span class=\"missing\"><span class=\"uncertain\"><span class=\"cls\">x</span></span></span> </span><span class=\"txtt\"><span class=\"missing\"><span class=\"uncertain\"><span class=\"cls\">x</span></span></span> </span><span class=\"txtt\"><span class=\"missing\"><span class=\"uncertain\"><span class=\"cls\">x</span></span></span> </span><span class=\"txtt\"><span class=\"missing\"><span class=\"uncertain\"><span class=\"cls\">x</span></span></span> </span><span class=\"txtt\"><span class=\"missing\"><span class=\"uncertain\"><span class=\"cls\">x</span></span></span> </span><span class=\"txtt\"><span class=\"missing\"><span class=\"uncertain\"><span class=\"cls\">x</span></span></span> </span><span class=\"txtt\"><span class=\"missing\"><span class=\"uncertain\"><span class=\"cls\">x</span></span></span> </span><span class=\"txtt\"><span class=\"missing\"><span class=\"uncertain\"><span class=\"cls\">x</span></span></span></span><span class=\"txtt\"><span class=\"missing\">]</span> </span></div>"
      ],
      "text/plain": [
       "<IPython.core.display.HTML object>"
      ]
     },
     "metadata": {},
     "output_type": "display_data"
    },
    {
     "data": {
      "text/html": [
       "<div class=\"tfsechead \"><span class=\"ltr\"><a target=\"_blank\" href=\"https://cdli.ucla.edu/search/search_results.php?SearchMode=Text&amp;ObjectID=P285136\" title=\"Show this document on CDLI\" sec=\"P285136 obverse:6'\">P285136 obverse:6'</a></span></div><div class=\" children\"><div class=\"contnr c3    \" ><div class=\"lbl c3  \" ><span class=\"nd\">line:85977</span></div><div class='features'><span class=\"tr@en xft\" ><span class=\"f\">tr@en=</span>Incantation: “The curse, like a thief at the opening of a hole, . . . [. . .” Wording? of a spell? for removing the kurāru?-boil].</span></div><div class=\"children hor wrap \"><div class=\"contnr c1    \" ><div class=\"lbl c1  \" ><span class=\"nd\">word:89081</span> <span class=\"txtt\"><span class=\"g\">EN₂</span> </span></div><div class=\"children hor  \"><div class=\"contnr c0 trm   \" ><div class=\"lbl c0 trm \" ><span class=\"nd\">84</span> <span class=\"txtt\"><span class=\"g\">EN₂</span> </span></div></div></div></div><div class=\"contnr c1    \" ><div class=\"lbl c1  \" ><span class=\"nd\">word:89082</span> <span class=\"txtt\"><span class=\"r\">ma</span>-<span class=\"r\">mit</span> </span></div><div class=\"children hor  \"><div class=\"contnr c0 trm   \" ><div class=\"lbl c0 trm \" ><span class=\"nd\">85</span> <span class=\"txtt\"><span class=\"r\">ma</span></span></div></div><div class=\"contnr c0 trm   \" ><div class=\"lbl c0 trm \" ><span class=\"nd\">86</span> <span class=\"txtt\">-</span></div></div><div class=\"contnr c0 trm   \" ><div class=\"lbl c0 trm \" ><span class=\"nd\">87</span> <span class=\"txtt\"><span class=\"r\">mit</span> </span></div></div></div></div><div class=\"contnr c1    \" ><div class=\"lbl c1  \" ><span class=\"nd\">word:89083</span> <span class=\"txtt\"><span class=\"g\">GIM</span> </span></div><div class=\"children hor  \"><div class=\"contnr c0 trm   \" ><div class=\"lbl c0 trm \" ><span class=\"nd\">88</span> <span class=\"txtt\"><span class=\"g\">GIM</span> </span></div></div></div></div><div class=\"contnr c1   rno \" ><div class=\"lbl c1  \" ><span class=\"nd\">word:89084</span> <span class=\"txtt\"><span class=\"r\">šar</span>-<span class=\"r\">ra</span>-<<span class=\"supplied\"><span class=\"r\">qi</span></span><span class=\"supplied\">></span> </span></div><div class=\"children hor  \"><div class=\"contnr c0 trm   \" ><div class=\"lbl c0 trm \" ><span class=\"nd\">89</span> <span class=\"txtt\"><span class=\"r\">šar</span></span></div></div><div class=\"contnr c0 trm   \" ><div class=\"lbl c0 trm \" ><span class=\"nd\">90</span> <span class=\"txtt\">-</span></div></div><div class=\"contnr c0 trm   \" ><div class=\"lbl c0 trm \" ><span class=\"nd\">91</span> <span class=\"txtt\"><span class=\"r\">ra</span></span></div></div><div class=\"contnr c0 trm   \" ><div class=\"lbl c0 trm \" ><span class=\"nd\">92</span> <span class=\"txtt\">-</span></div></div><div class=\"contnr c0 trm   \" ><div class=\"lbl c0 trm \" ><span class=\"nd\">93</span> <span class=\"txtt\"><</span></div></div></div></div><div class=\"contnr c2    \" ><div class=\"lbl c2  \" ><span class=\"nd\">cluster:79494</span></div><div class=\"children hor wrap \"><div class=\"contnr c1   lno \" ><div class=\"lbl c1  \" ><span class=\"nd\">word:89084</span> <span class=\"txtt\"><span class=\"r\">šar</span>-<span class=\"r\">ra</span>-<<span class=\"supplied\"><span class=\"r\">qi</span></span><span class=\"supplied\">></span> </span></div><div class=\"children hor  \"><div class=\"contnr c0 trm   hl\" ><div class=\"lbl c0 trm hl\" ><span class=\"nd\">94</span> <span class=\"txtt\"><span class=\"supplied\"><span class=\"r\">qi</span></span></span></div></div><div class=\"contnr c0 trm   hl\" ><div class=\"lbl c0 trm hl\" ><span class=\"nd\">95</span> <span class=\"txtt\"><span class=\"supplied\">></span> </span></div></div></div></div></div></div><div class=\"contnr c1    \" ><div class=\"lbl c1  \" ><span class=\"nd\">word:89085</span> <span class=\"txtt\"><span class=\"r\">ina</span> </span></div><div class=\"children hor  \"><div class=\"contnr c0 trm   \" ><div class=\"lbl c0 trm \" ><span class=\"nd\">96</span> <span class=\"txtt\"><span class=\"r\">ina</span> </span></div></div></div></div><div class=\"contnr c1    \" ><div class=\"lbl c1  \" ><span class=\"nd\">word:89086</span> <span class=\"txtt\"><span class=\"g\">KA₂</span> </span></div><div class=\"children hor  \"><div class=\"contnr c0 trm   \" ><div class=\"lbl c0 trm \" ><span class=\"nd\">97</span> <span class=\"txtt\"><span class=\"g\">KA₂</span> </span></div></div></div></div><div class=\"contnr c1    \" ><div class=\"lbl c1  \" ><span class=\"nd\">word:89087</span> <span class=\"txtt\"><span class=\"r\">pil</span>-<span class=\"r\">ši</span> </span></div><div class=\"children hor  \"><div class=\"contnr c0 trm   \" ><div class=\"lbl c0 trm \" ><span class=\"nd\">98</span> <span class=\"txtt\"><span class=\"r\">pil</span></span></div></div><div class=\"contnr c0 trm   \" ><div class=\"lbl c0 trm \" ><span class=\"nd\">99</span> <span class=\"txtt\">-</span></div></div><div class=\"contnr c0 trm   \" ><div class=\"lbl c0 trm \" ><span class=\"nd\">100</span> <span class=\"txtt\"><span class=\"r\">ši</span> </span></div></div></div></div><div class=\"contnr c1    \" ><div class=\"lbl c1  \" ><span class=\"nd\">word:89088</span> <span class=\"txtt\"><span class=\"r\">un</span> </span></div><div class=\"children hor  \"><div class=\"contnr c0 trm   \" ><div class=\"lbl c0 trm \" ><span class=\"nd\">101</span> <span class=\"txtt\"><span class=\"r\">un</span> </span></div></div></div></div><div class=\"contnr c1    \" ><div class=\"lbl c1  \" ><span class=\"nd\">word:89089</span> <span class=\"txtt\"><span class=\"r\">gi</span> </span></div><div class=\"children hor  \"><div class=\"contnr c0 trm   \" ><div class=\"lbl c0 trm \" ><span class=\"nd\">102</span> <span class=\"txtt\"><span class=\"r\">gi</span> </span></div></div></div></div><div class=\"contnr c1    \" ><div class=\"lbl c1  \" ><span class=\"nd\">word:89090</span> <span class=\"txtt\"><span class=\"r\">ha</span> </span></div><div class=\"children hor  \"><div class=\"contnr c0 trm   \" ><div class=\"lbl c0 trm \" ><span class=\"nd\">103</span> <span class=\"txtt\"><span class=\"r\">ha</span> </span></div></div></div></div><div class=\"contnr c1    \" ><div class=\"lbl c1  \" ><span class=\"nd\">word:89091</span> <span class=\"txtt\"><span class=\"damage\"><span class=\"r\">ba</span></span> </span></div><div class=\"children hor  \"><div class=\"contnr c0 trm   \" ><div class=\"lbl c0 trm \" ><span class=\"nd\">104</span> <span class=\"txtt\"><span class=\"damage\"><span class=\"r\">ba</span></span> </span></div></div></div></div><div class=\"contnr c1   rno \" ><div class=\"lbl c1  \" ><span class=\"nd\">word:89092</span> <span class=\"txtt\">[<span class=\"missing\"><span class=\"uncertain\"><span class=\"cls\">x</span></span></span> </span></div><div class=\"children hor  \"><div class=\"contnr c0 trm   \" ><div class=\"lbl c0 trm \" ><span class=\"nd\">105</span> <span class=\"txtt\">[</span></div></div></div></div><div class=\"contnr c2    \" ><div class=\"lbl c2  \" ><span class=\"nd\">cluster:79495</span></div><div class=\"children hor wrap \"><div class=\"contnr c1   lno \" ><div class=\"lbl c1  \" ><span class=\"nd\">word:89092</span> <span class=\"txtt\">[<span class=\"missing\"><span class=\"uncertain\"><span class=\"cls\">x</span></span></span> </span></div><div class=\"children hor  \"><div class=\"contnr c0 trm   \" ><div class=\"lbl c0 trm \" ><span class=\"nd\">106</span> <span class=\"txtt\"><span class=\"missing\"><span class=\"uncertain\"><span class=\"cls\">x</span></span></span> </span></div></div></div></div><div class=\"contnr c1    \" ><div class=\"lbl c1  \" ><span class=\"nd\">word:89093</span> <span class=\"txtt\"><span class=\"missing\"><span class=\"uncertain\"><span class=\"cls\">x</span></span></span> </span></div><div class=\"children hor  \"><div class=\"contnr c0 trm   \" ><div class=\"lbl c0 trm \" ><span class=\"nd\">107</span> <span class=\"txtt\"><span class=\"missing\"><span class=\"uncertain\"><span class=\"cls\">x</span></span></span> </span></div></div></div></div><div class=\"contnr c1    \" ><div class=\"lbl c1  \" ><span class=\"nd\">word:89094</span> <span class=\"txtt\"><span class=\"missing\"><span class=\"uncertain\"><span class=\"cls\">x</span></span></span> </span></div><div class=\"children hor  \"><div class=\"contnr c0 trm   \" ><div class=\"lbl c0 trm \" ><span class=\"nd\">108</span> <span class=\"txtt\"><span class=\"missing\"><span class=\"uncertain\"><span class=\"cls\">x</span></span></span> </span></div></div></div></div><div class=\"contnr c1    \" ><div class=\"lbl c1  \" ><span class=\"nd\">word:89095</span> <span class=\"txtt\"><span class=\"missing\"><span class=\"uncertain\"><span class=\"cls\">x</span></span></span> </span></div><div class=\"children hor  \"><div class=\"contnr c0 trm   \" ><div class=\"lbl c0 trm \" ><span class=\"nd\">109</span> <span class=\"txtt\"><span class=\"missing\"><span class=\"uncertain\"><span class=\"cls\">x</span></span></span> </span></div></div></div></div><div class=\"contnr c1    \" ><div class=\"lbl c1  \" ><span class=\"nd\">word:89096</span> <span class=\"txtt\"><span class=\"missing\"><span class=\"uncertain\"><span class=\"cls\">x</span></span></span> </span></div><div class=\"children hor  \"><div class=\"contnr c0 trm   \" ><div class=\"lbl c0 trm \" ><span class=\"nd\">110</span> <span class=\"txtt\"><span class=\"missing\"><span class=\"uncertain\"><span class=\"cls\">x</span></span></span> </span></div></div></div></div><div class=\"contnr c1    \" ><div class=\"lbl c1  \" ><span class=\"nd\">word:89097</span> <span class=\"txtt\"><span class=\"missing\"><span class=\"uncertain\"><span class=\"cls\">x</span></span></span> </span></div><div class=\"children hor  \"><div class=\"contnr c0 trm   \" ><div class=\"lbl c0 trm \" ><span class=\"nd\">111</span> <span class=\"txtt\"><span class=\"missing\"><span class=\"uncertain\"><span class=\"cls\">x</span></span></span> </span></div></div></div></div><div class=\"contnr c1    \" ><div class=\"lbl c1  \" ><span class=\"nd\">word:89098</span> <span class=\"txtt\"><span class=\"missing\"><span class=\"uncertain\"><span class=\"cls\">x</span></span></span> </span></div><div class=\"children hor  \"><div class=\"contnr c0 trm   \" ><div class=\"lbl c0 trm \" ><span class=\"nd\">112</span> <span class=\"txtt\"><span class=\"missing\"><span class=\"uncertain\"><span class=\"cls\">x</span></span></span> </span></div></div></div></div><div class=\"contnr c1    \" ><div class=\"lbl c1  \" ><span class=\"nd\">word:89099</span> <span class=\"txtt\"><span class=\"missing\"><span class=\"uncertain\"><span class=\"cls\">x</span></span></span> </span></div><div class=\"children hor  \"><div class=\"contnr c0 trm   \" ><div class=\"lbl c0 trm \" ><span class=\"nd\">113</span> <span class=\"txtt\"><span class=\"missing\"><span class=\"uncertain\"><span class=\"cls\">x</span></span></span> </span></div></div></div></div><div class=\"contnr c1    \" ><div class=\"lbl c1  \" ><span class=\"nd\">word:89100</span> <span class=\"txtt\"><span class=\"missing\"><span class=\"uncertain\"><span class=\"cls\">x</span></span></span> </span></div><div class=\"children hor  \"><div class=\"contnr c0 trm   \" ><div class=\"lbl c0 trm \" ><span class=\"nd\">114</span> <span class=\"txtt\"><span class=\"missing\"><span class=\"uncertain\"><span class=\"cls\">x</span></span></span> </span></div></div></div></div><div class=\"contnr c1    \" ><div class=\"lbl c1  \" ><span class=\"nd\">word:89101</span> <span class=\"txtt\"><span class=\"missing\"><span class=\"uncertain\"><span class=\"cls\">x</span></span></span> </span></div><div class=\"children hor  \"><div class=\"contnr c0 trm   \" ><div class=\"lbl c0 trm \" ><span class=\"nd\">115</span> <span class=\"txtt\"><span class=\"missing\"><span class=\"uncertain\"><span class=\"cls\">x</span></span></span> </span></div></div></div></div><div class=\"contnr c1    \" ><div class=\"lbl c1  \" ><span class=\"nd\">word:89102</span> <span class=\"txtt\"><span class=\"missing\"><span class=\"uncertain\"><span class=\"cls\">x</span></span></span> </span></div><div class=\"children hor  \"><div class=\"contnr c0 trm   \" ><div class=\"lbl c0 trm \" ><span class=\"nd\">116</span> <span class=\"txtt\"><span class=\"missing\"><span class=\"uncertain\"><span class=\"cls\">x</span></span></span> </span></div></div></div></div><div class=\"contnr c1    \" ><div class=\"lbl c1  \" ><span class=\"nd\">word:89103</span> <span class=\"txtt\"><span class=\"missing\"><span class=\"uncertain\"><span class=\"cls\">x</span></span></span><span class=\"missing\">]</span> </span></div><div class=\"children hor  \"><div class=\"contnr c0 trm   \" ><div class=\"lbl c0 trm \" ><span class=\"nd\">117</span> <span class=\"txtt\"><span class=\"missing\"><span class=\"uncertain\"><span class=\"cls\">x</span></span></span></span></div></div><div class=\"contnr c0 trm   \" ><div class=\"lbl c0 trm \" ><span class=\"nd\">118</span> <span class=\"txtt\"><span class=\"missing\">]</span> </span></div></div></div></div></div></div></div></div></div>"
      ],
      "text/plain": [
       "<IPython.core.display.HTML object>"
      ]
     },
     "metadata": {},
     "output_type": "display_data"
    },
    {
     "data": {
      "text/markdown": [
       "---\n",
       "# cluster: excised\n",
       "\n",
       "Location: P393782 obverse:2:1"
      ],
      "text/plain": [
       "<IPython.core.display.Markdown object>"
      ]
     },
     "metadata": {},
     "output_type": "display_data"
    },
    {
     "name": "stdout",
     "output_type": "stream",
     "text": [
      "2:1 [DIŠ NA ŠA₃-] šu₂# GU₇-šu₂ u₂HAR.HAR MUN SUD₂ lu ina# [A ] lu# ina KAŠ lu ina GEŠTIN <<EN₂>> ana ŠA₃ ŠUB-di NAG \n"
     ]
    },
    {
     "data": {
      "text/html": [
       "<div class=\"\"><span class=\"tfsechead \"><span class=\"ltr\"><a target=\"_blank\" href=\"https://cdli.ucla.edu/search/search_results.php?SearchMode=Text&amp;ObjectID=P393782\" title=\"Show this document on CDLI\" sec=\"P393782 obverse:2:1\">P393782 obverse:2:1</a></span></span>  <span class=\"txtt\">[</span><span class=\"txtt\"><span class=\"missing\"><span class=\"g\">DIŠ</span></span> </span><span class=\"txtt\"><span class=\"missing\"><span class=\"g\">NA</span></span> </span><span class=\"txtt\"><span class=\"missing\"><span class=\"g\">ŠA₃</span></span></span><span class=\"txtt\"><span class=\"missing\">-</span></span><span class=\"txtt\"><span class=\"missing\">]</span> </span><span class=\"txtt\"><span class=\"damage\"><span class=\"r\">šu</span></span> </span><span class=\"txtt\"><span class=\"g\">GU₇</span></span><span class=\"txtt\">-</span><span class=\"txtt\">šu₂ </span><span class=\"txtt\"><span class=\"det\">u₂</span></span><span class=\"txtt\"><span class=\"g\">HAR</span></span><span class=\"txtt\">.</span><span class=\"txtt\"><span class=\"g\">HAR</span> </span><span class=\"txtt\"><span class=\"g\">MUN</span> </span><span class=\"txtt\"><span class=\"g\">SUD₂</span> </span><span class=\"txtt\"><span class=\"r\">lu</span> </span><span class=\"txtt\"><span class=\"damage\"><span class=\"r\">ina</span></span> </span><span class=\"txtt\">[</span><span class=\"txtt\"><span class=\"missing\"><span class=\"g\">A</span></span> </span><span class=\"txtt\"><span class=\"missing\">]</span> </span><span class=\"txtt\"><span class=\"damage\"><span class=\"r\">lu</span></span> </span><span class=\"txtt\"><span class=\"r\">ina</span> </span><span class=\"txtt\"><span class=\"g\">KAŠ</span> </span><span class=\"txtt\"><span class=\"r\">lu</span> </span><span class=\"txtt\"><span class=\"r\">ina</span> </span><span class=\"txtt\"><span class=\"g\">GEŠTIN</span> </span><span class=\"txtt\"><<</span><span class=\"plain   hl\" ><span class=\"txtt\"><span class=\"excised\"><span class=\"g\">EN₂</span></span></span></span><span class=\"plain   hl\" ><span class=\"txtt\"><span class=\"excised\">>></span> </span></span><span class=\"txtt\"><span class=\"r\">ana</span> </span><span class=\"txtt\"><span class=\"g\">ŠA₃</span> </span><span class=\"txtt\"><span class=\"g\">ŠUB</span></span><span class=\"txtt\">-</span><span class=\"txtt\"><span class=\"r\">di</span> </span><span class=\"txtt\"><span class=\"g\">NAG</span> </span></div>"
      ],
      "text/plain": [
       "<IPython.core.display.HTML object>"
      ]
     },
     "metadata": {},
     "output_type": "display_data"
    },
    {
     "data": {
      "text/html": [
       "<div class=\"tfsechead \"><span class=\"ltr\"><a target=\"_blank\" href=\"https://cdli.ucla.edu/search/search_results.php?SearchMode=Text&amp;ObjectID=P393782\" title=\"Show this document on CDLI\" sec=\"P393782 obverse:2:1\">P393782 obverse:2:1</a></span></div><div class=\" children\"><div class=\"contnr c3    \" ><div class=\"lbl c3  \" ><span class=\"nd\">line:86364</span></div><div class='features'><span class=\"tr@en xft\" ><span class=\"f\">tr@en=</span>If a man’s belly hurts him: you pound salted ḫašû-thyme, you put it in water or beer or wine, (and) he drinks it.</span></div><div class=\"children hor wrap \"><div class=\"contnr c1   rno \" ><div class=\"lbl c1  \" ><span class=\"nd\">word:92865</span> <span class=\"txtt\">[<span class=\"missing\"><span class=\"g\">DIŠ</span></span> </span></div><div class=\"children hor  \"><div class=\"contnr c0 trm   \" ><div class=\"lbl c0 trm \" ><span class=\"nd\">9057</span> <span class=\"txtt\">[</span></div></div></div></div><div class=\"contnr c2    \" ><div class=\"lbl c2  \" ><span class=\"nd\">cluster:80234</span></div><div class=\"children hor wrap \"><div class=\"contnr c1   lno \" ><div class=\"lbl c1  \" ><span class=\"nd\">word:92865</span> <span class=\"txtt\">[<span class=\"missing\"><span class=\"g\">DIŠ</span></span> </span></div><div class=\"children hor  \"><div class=\"contnr c0 trm   \" ><div class=\"lbl c0 trm \" ><span class=\"nd\">9058</span> <span class=\"txtt\"><span class=\"missing\"><span class=\"g\">DIŠ</span></span> </span></div></div></div></div><div class=\"contnr c1    \" ><div class=\"lbl c1  \" ><span class=\"nd\">word:92866</span> <span class=\"txtt\"><span class=\"missing\"><span class=\"g\">NA</span></span> </span></div><div class=\"children hor  \"><div class=\"contnr c0 trm   \" ><div class=\"lbl c0 trm \" ><span class=\"nd\">9059</span> <span class=\"txtt\"><span class=\"missing\"><span class=\"g\">NA</span></span> </span></div></div></div></div><div class=\"contnr c1   rno \" ><div class=\"lbl c1  \" ><span class=\"nd\">word:92867</span> <span class=\"txtt\"><span class=\"missing\"><span class=\"g\">ŠA₃</span></span><span class=\"missing\">-</span><span class=\"missing\">]</span> <span class=\"damage\"><span class=\"r\">šu</span></span> </span></div><div class=\"children hor  \"><div class=\"contnr c0 trm   \" ><div class=\"lbl c0 trm \" ><span class=\"nd\">9060</span> <span class=\"txtt\"><span class=\"missing\"><span class=\"g\">ŠA₃</span></span></span></div></div><div class=\"contnr c0 trm   \" ><div class=\"lbl c0 trm \" ><span class=\"nd\">9061</span> <span class=\"txtt\"><span class=\"missing\">-</span></span></div></div><div class=\"contnr c0 trm   \" ><div class=\"lbl c0 trm \" ><span class=\"nd\">9062</span> <span class=\"txtt\"><span class=\"missing\">]</span> </span></div></div></div></div></div></div><div class=\"contnr c1   lno \" ><div class=\"lbl c1  \" ><span class=\"nd\">word:92867</span> <span class=\"txtt\"><span class=\"missing\"><span class=\"g\">ŠA₃</span></span><span class=\"missing\">-</span><span class=\"missing\">]</span> <span class=\"damage\"><span class=\"r\">šu</span></span> </span></div><div class=\"children hor  \"><div class=\"contnr c0 trm   \" ><div class=\"lbl c0 trm \" ><span class=\"nd\">9063</span> <span class=\"txtt\"><span class=\"damage\"><span class=\"r\">šu</span></span> </span></div></div></div></div><div class=\"contnr c1    \" ><div class=\"lbl c1  \" ><span class=\"nd\">word:92868</span> <span class=\"txtt\"><span class=\"g\">GU₇</span>-šu₂ </span></div><div class=\"children hor  \"><div class=\"contnr c0 trm   \" ><div class=\"lbl c0 trm \" ><span class=\"nd\">9064</span> <span class=\"txtt\"><span class=\"g\">GU₇</span></span></div></div><div class=\"contnr c0 trm   \" ><div class=\"lbl c0 trm \" ><span class=\"nd\">9065</span> <span class=\"txtt\">-</span></div></div><div class=\"contnr c0 trm   \" ><div class=\"lbl c0 trm \" ><span class=\"nd\">9066</span> <span class=\"txtt\">šu₂ </span></div></div></div></div><div class=\"contnr c2    \" ><div class=\"lbl c2  \" ><span class=\"nd\">cluster:80235</span></div><div class=\"children hor wrap \"><div class=\"contnr c1   rno \" ><div class=\"lbl c1  \" ><span class=\"nd\">word:92869</span> <span class=\"txtt\"><span class=\"det\">u₂</span><span class=\"g\">HAR</span>.<span class=\"g\">HAR</span> </span></div><div class=\"children hor  \"><div class=\"contnr c0 trm   \" ><div class=\"lbl c0 trm \" ><span class=\"nd\">9067</span> <span class=\"txtt\"><span class=\"det\">u₂</span></span></div></div></div></div></div></div><div class=\"contnr c1   lno \" ><div class=\"lbl c1  \" ><span class=\"nd\">word:92869</span> <span class=\"txtt\"><span class=\"det\">u₂</span><span class=\"g\">HAR</span>.<span class=\"g\">HAR</span> </span></div><div class=\"children hor  \"><div class=\"contnr c0 trm   \" ><div class=\"lbl c0 trm \" ><span class=\"nd\">9068</span> <span class=\"txtt\"><span class=\"g\">HAR</span></span></div></div><div class=\"contnr c0 trm   \" ><div class=\"lbl c0 trm \" ><span class=\"nd\">9069</span> <span class=\"txtt\">.</span></div></div><div class=\"contnr c0 trm   \" ><div class=\"lbl c0 trm \" ><span class=\"nd\">9070</span> <span class=\"txtt\"><span class=\"g\">HAR</span> </span></div></div></div></div><div class=\"contnr c1    \" ><div class=\"lbl c1  \" ><span class=\"nd\">word:92870</span> <span class=\"txtt\"><span class=\"g\">MUN</span> </span></div><div class=\"children hor  \"><div class=\"contnr c0 trm   \" ><div class=\"lbl c0 trm \" ><span class=\"nd\">9071</span> <span class=\"txtt\"><span class=\"g\">MUN</span> </span></div></div></div></div><div class=\"contnr c1    \" ><div class=\"lbl c1  \" ><span class=\"nd\">word:92871</span> <span class=\"txtt\"><span class=\"g\">SUD₂</span> </span></div><div class=\"children hor  \"><div class=\"contnr c0 trm   \" ><div class=\"lbl c0 trm \" ><span class=\"nd\">9072</span> <span class=\"txtt\"><span class=\"g\">SUD₂</span> </span></div></div></div></div><div class=\"contnr c1    \" ><div class=\"lbl c1  \" ><span class=\"nd\">word:92872</span> <span class=\"txtt\"><span class=\"r\">lu</span> </span></div><div class=\"children hor  \"><div class=\"contnr c0 trm   \" ><div class=\"lbl c0 trm \" ><span class=\"nd\">9073</span> <span class=\"txtt\"><span class=\"r\">lu</span> </span></div></div></div></div><div class=\"contnr c1    \" ><div class=\"lbl c1  \" ><span class=\"nd\">word:92873</span> <span class=\"txtt\"><span class=\"damage\"><span class=\"r\">ina</span></span> [</span></div><div class=\"children hor  \"><div class=\"contnr c0 trm   \" ><div class=\"lbl c0 trm \" ><span class=\"nd\">9074</span> <span class=\"txtt\"><span class=\"damage\"><span class=\"r\">ina</span></span> </span></div></div><div class=\"contnr c0 trm   \" ><div class=\"lbl c0 trm \" ><span class=\"nd\">9075</span> <span class=\"txtt\">[</span></div></div></div></div><div class=\"contnr c2    \" ><div class=\"lbl c2  \" ><span class=\"nd\">cluster:80236</span></div><div class=\"children hor wrap \"><div class=\"contnr c1    \" ><div class=\"lbl c1  \" ><span class=\"nd\">word:92874</span> <span class=\"txtt\"><span class=\"missing\"><span class=\"g\">A</span></span> </span></div><div class=\"children hor  \"><div class=\"contnr c0 trm   \" ><div class=\"lbl c0 trm \" ><span class=\"nd\">9076</span> <span class=\"txtt\"><span class=\"missing\"><span class=\"g\">A</span></span> </span></div></div></div></div><div class=\"contnr c1   rno \" ><div class=\"lbl c1  \" ><span class=\"nd\">word:92875</span> <span class=\"txtt\"><span class=\"missing\">]</span> <span class=\"damage\"><span class=\"r\">lu</span></span> </span></div><div class=\"children hor  \"><div class=\"contnr c0 trm   \" ><div class=\"lbl c0 trm \" ><span class=\"nd\">9077</span> <span class=\"txtt\"><span class=\"missing\">]</span> </span></div></div></div></div></div></div><div class=\"contnr c1   lno \" ><div class=\"lbl c1  \" ><span class=\"nd\">word:92875</span> <span class=\"txtt\"><span class=\"missing\">]</span> <span class=\"damage\"><span class=\"r\">lu</span></span> </span></div><div class=\"children hor  \"><div class=\"contnr c0 trm   \" ><div class=\"lbl c0 trm \" ><span class=\"nd\">9078</span> <span class=\"txtt\"><span class=\"damage\"><span class=\"r\">lu</span></span> </span></div></div></div></div><div class=\"contnr c1    \" ><div class=\"lbl c1  \" ><span class=\"nd\">word:92876</span> <span class=\"txtt\"><span class=\"r\">ina</span> </span></div><div class=\"children hor  \"><div class=\"contnr c0 trm   \" ><div class=\"lbl c0 trm \" ><span class=\"nd\">9079</span> <span class=\"txtt\"><span class=\"r\">ina</span> </span></div></div></div></div><div class=\"contnr c1    \" ><div class=\"lbl c1  \" ><span class=\"nd\">word:92877</span> <span class=\"txtt\"><span class=\"g\">KAŠ</span> </span></div><div class=\"children hor  \"><div class=\"contnr c0 trm   \" ><div class=\"lbl c0 trm \" ><span class=\"nd\">9080</span> <span class=\"txtt\"><span class=\"g\">KAŠ</span> </span></div></div></div></div><div class=\"contnr c1    \" ><div class=\"lbl c1  \" ><span class=\"nd\">word:92878</span> <span class=\"txtt\"><span class=\"r\">lu</span> </span></div><div class=\"children hor  \"><div class=\"contnr c0 trm   \" ><div class=\"lbl c0 trm \" ><span class=\"nd\">9081</span> <span class=\"txtt\"><span class=\"r\">lu</span> </span></div></div></div></div><div class=\"contnr c1    \" ><div class=\"lbl c1  \" ><span class=\"nd\">word:92879</span> <span class=\"txtt\"><span class=\"r\">ina</span> </span></div><div class=\"children hor  \"><div class=\"contnr c0 trm   \" ><div class=\"lbl c0 trm \" ><span class=\"nd\">9082</span> <span class=\"txtt\"><span class=\"r\">ina</span> </span></div></div></div></div><div class=\"contnr c1    \" ><div class=\"lbl c1  \" ><span class=\"nd\">word:92880</span> <span class=\"txtt\"><span class=\"g\">GEŠTIN</span> </span></div><div class=\"children hor  \"><div class=\"contnr c0 trm   \" ><div class=\"lbl c0 trm \" ><span class=\"nd\">9083</span> <span class=\"txtt\"><span class=\"g\">GEŠTIN</span> </span></div></div></div></div><div class=\"contnr c1   rno \" ><div class=\"lbl c1  \" ><span class=\"nd\">word:92881</span> <span class=\"txtt\"><<<span class=\"excised\"><span class=\"g\">EN₂</span></span><span class=\"excised\">>></span> </span></div><div class=\"children hor  \"><div class=\"contnr c0 trm   \" ><div class=\"lbl c0 trm \" ><span class=\"nd\">9084</span> <span class=\"txtt\"><<</span></div></div></div></div><div class=\"contnr c2    \" ><div class=\"lbl c2  \" ><span class=\"nd\">cluster:80237</span></div><div class=\"children hor wrap \"><div class=\"contnr c1   lno \" ><div class=\"lbl c1  \" ><span class=\"nd\">word:92881</span> <span class=\"txtt\"><<<span class=\"excised\"><span class=\"g\">EN₂</span></span><span class=\"excised\">>></span> </span></div><div class=\"children hor  \"><div class=\"contnr c0 trm   hl\" ><div class=\"lbl c0 trm hl\" ><span class=\"nd\">9085</span> <span class=\"txtt\"><span class=\"excised\"><span class=\"g\">EN₂</span></span></span></div></div><div class=\"contnr c0 trm   hl\" ><div class=\"lbl c0 trm hl\" ><span class=\"nd\">9086</span> <span class=\"txtt\"><span class=\"excised\">>></span> </span></div></div></div></div></div></div><div class=\"contnr c1    \" ><div class=\"lbl c1  \" ><span class=\"nd\">word:92882</span> <span class=\"txtt\"><span class=\"r\">ana</span> </span></div><div class=\"children hor  \"><div class=\"contnr c0 trm   \" ><div class=\"lbl c0 trm \" ><span class=\"nd\">9087</span> <span class=\"txtt\"><span class=\"r\">ana</span> </span></div></div></div></div><div class=\"contnr c1    \" ><div class=\"lbl c1  \" ><span class=\"nd\">word:92883</span> <span class=\"txtt\"><span class=\"g\">ŠA₃</span> </span></div><div class=\"children hor  \"><div class=\"contnr c0 trm   \" ><div class=\"lbl c0 trm \" ><span class=\"nd\">9088</span> <span class=\"txtt\"><span class=\"g\">ŠA₃</span> </span></div></div></div></div><div class=\"contnr c1    \" ><div class=\"lbl c1  \" ><span class=\"nd\">word:92884</span> <span class=\"txtt\"><span class=\"g\">ŠUB</span>-<span class=\"r\">di</span> </span></div><div class=\"children hor  \"><div class=\"contnr c0 trm   \" ><div class=\"lbl c0 trm \" ><span class=\"nd\">9089</span> <span class=\"txtt\"><span class=\"g\">ŠUB</span></span></div></div><div class=\"contnr c0 trm   \" ><div class=\"lbl c0 trm \" ><span class=\"nd\">9090</span> <span class=\"txtt\">-</span></div></div><div class=\"contnr c0 trm   \" ><div class=\"lbl c0 trm \" ><span class=\"nd\">9091</span> <span class=\"txtt\"><span class=\"r\">di</span> </span></div></div></div></div><div class=\"contnr c1    \" ><div class=\"lbl c1  \" ><span class=\"nd\">word:92885</span> <span class=\"txtt\"><span class=\"g\">NAG</span> </span></div><div class=\"children hor  \"><div class=\"contnr c0 trm   \" ><div class=\"lbl c0 trm \" ><span class=\"nd\">9092</span> <span class=\"txtt\"><span class=\"g\">NAG</span> </span></div></div></div></div></div></div></div>"
      ],
      "text/plain": [
       "<IPython.core.display.HTML object>"
      ]
     },
     "metadata": {},
     "output_type": "display_data"
    },
    {
     "data": {
      "text/markdown": [
       "---\n",
       "# flag: damage\n",
       "\n",
       "Location: P285109 reverse:2:1'"
      ],
      "text/plain": [
       "<IPython.core.display.Markdown object>"
      ]
     },
     "metadata": {},
     "output_type": "display_data"
    },
    {
     "name": "stdout",
     "output_type": "stream",
     "text": [
      "2:1' [x x x] x lu#-u₂# ina KAŠ.SAG [x x x x x x x] \n"
     ]
    },
    {
     "data": {
      "text/html": [
       "<div class=\"\"><span class=\"tfsechead \"><span class=\"ltr\"><a target=\"_blank\" href=\"https://cdli.ucla.edu/search/search_results.php?SearchMode=Text&amp;ObjectID=P285109\" title=\"Show this document on CDLI\" sec=\"P285109 reverse:2:1'\">P285109 reverse:2:1'</a></span></span>  <span class=\"txtt\">[</span><span class=\"txtt\"><span class=\"missing\"><span class=\"uncertain\"><span class=\"cls\">x</span></span></span> </span><span class=\"txtt\"><span class=\"missing\"><span class=\"uncertain\"><span class=\"cls\">x</span></span></span> </span><span class=\"txtt\"><span class=\"missing\"><span class=\"uncertain\"><span class=\"cls\">x</span></span></span></span><span class=\"txtt\"><span class=\"missing\">]</span> </span><span class=\"txtt\"><span class=\"uncertain\"><span class=\"cls\">x</span></span> </span><span class=\"plain   hl\" ><span class=\"txtt\"><span class=\"damage\"><span class=\"r\">lu</span></span></span></span><span class=\"txtt\">-</span><span class=\"plain   hl\" ><span class=\"txtt\"><span class=\"damage\"><span class=\"r\">u</span></span> </span></span><span class=\"txtt\"><span class=\"r\">ina</span> </span><span class=\"txtt\"><span class=\"g\">KAŠ</span></span><span class=\"txtt\">.</span><span class=\"txtt\"><span class=\"g\">SAG</span> </span><span class=\"txtt\">[</span><span class=\"txtt\"><span class=\"missing\"><span class=\"uncertain\"><span class=\"cls\">x</span></span></span> </span><span class=\"txtt\"><span class=\"missing\"><span class=\"uncertain\"><span class=\"cls\">x</span></span></span> </span><span class=\"txtt\"><span class=\"missing\"><span class=\"uncertain\"><span class=\"cls\">x</span></span></span> </span><span class=\"txtt\"><span class=\"missing\"><span class=\"uncertain\"><span class=\"cls\">x</span></span></span> </span><span class=\"txtt\"><span class=\"missing\"><span class=\"uncertain\"><span class=\"cls\">x</span></span></span> </span><span class=\"txtt\"><span class=\"missing\"><span class=\"uncertain\"><span class=\"cls\">x</span></span></span> </span><span class=\"txtt\"><span class=\"missing\"><span class=\"uncertain\"><span class=\"cls\">x</span></span></span></span><span class=\"txtt\"><span class=\"missing\">]</span> </span></div>"
      ],
      "text/plain": [
       "<IPython.core.display.HTML object>"
      ]
     },
     "metadata": {},
     "output_type": "display_data"
    },
    {
     "data": {
      "text/html": [
       "<div class=\"tfsechead \"><span class=\"ltr\"><a target=\"_blank\" href=\"https://cdli.ucla.edu/search/search_results.php?SearchMode=Text&amp;ObjectID=P285109\" title=\"Show this document on CDLI\" sec=\"P285109 reverse:2:1'\">P285109 reverse:2:1'</a></span></div><div class=\" children\"><div class=\"contnr c3    \" ><div class=\"lbl c3  \" ><span class=\"nd\">line:86033</span></div><div class='features'><span class=\"tr@en xft\" ><span class=\"f\">tr@en=</span>[... he should drink it] either in prime quality beer [or in wine ...]</span></div><div class=\"children hor wrap \"><div class=\"contnr c1   rno \" ><div class=\"lbl c1  \" ><span class=\"nd\">word:89780</span> <span class=\"txtt\">[<span class=\"missing\"><span class=\"uncertain\"><span class=\"cls\">x</span></span></span> </span></div><div class=\"children hor  \"><div class=\"contnr c0 trm   \" ><div class=\"lbl c0 trm \" ><span class=\"nd\">1342</span> <span class=\"txtt\">[</span></div></div></div></div><div class=\"contnr c2    \" ><div class=\"lbl c2  \" ><span class=\"nd\">cluster:79578</span></div><div class=\"children hor wrap \"><div class=\"contnr c1   lno \" ><div class=\"lbl c1  \" ><span class=\"nd\">word:89780</span> <span class=\"txtt\">[<span class=\"missing\"><span class=\"uncertain\"><span class=\"cls\">x</span></span></span> </span></div><div class=\"children hor  \"><div class=\"contnr c0 trm   \" ><div class=\"lbl c0 trm \" ><span class=\"nd\">1343</span> <span class=\"txtt\"><span class=\"missing\"><span class=\"uncertain\"><span class=\"cls\">x</span></span></span> </span></div></div></div></div><div class=\"contnr c1    \" ><div class=\"lbl c1  \" ><span class=\"nd\">word:89781</span> <span class=\"txtt\"><span class=\"missing\"><span class=\"uncertain\"><span class=\"cls\">x</span></span></span> </span></div><div class=\"children hor  \"><div class=\"contnr c0 trm   \" ><div class=\"lbl c0 trm \" ><span class=\"nd\">1344</span> <span class=\"txtt\"><span class=\"missing\"><span class=\"uncertain\"><span class=\"cls\">x</span></span></span> </span></div></div></div></div><div class=\"contnr c1    \" ><div class=\"lbl c1  \" ><span class=\"nd\">word:89782</span> <span class=\"txtt\"><span class=\"missing\"><span class=\"uncertain\"><span class=\"cls\">x</span></span></span><span class=\"missing\">]</span> </span></div><div class=\"children hor  \"><div class=\"contnr c0 trm   \" ><div class=\"lbl c0 trm \" ><span class=\"nd\">1345</span> <span class=\"txtt\"><span class=\"missing\"><span class=\"uncertain\"><span class=\"cls\">x</span></span></span></span></div></div><div class=\"contnr c0 trm   \" ><div class=\"lbl c0 trm \" ><span class=\"nd\">1346</span> <span class=\"txtt\"><span class=\"missing\">]</span> </span></div></div></div></div></div></div><div class=\"contnr c1    \" ><div class=\"lbl c1  \" ><span class=\"nd\">word:89783</span> <span class=\"txtt\"><span class=\"uncertain\"><span class=\"cls\">x</span></span> </span></div><div class=\"children hor  \"><div class=\"contnr c0 trm   \" ><div class=\"lbl c0 trm \" ><span class=\"nd\">1347</span> <span class=\"txtt\"><span class=\"uncertain\"><span class=\"cls\">x</span></span> </span></div></div></div></div><div class=\"contnr c1    \" ><div class=\"lbl c1  \" ><span class=\"nd\">word:89784</span> <span class=\"txtt\"><span class=\"damage\"><span class=\"r\">lu</span></span>-<span class=\"damage\"><span class=\"r\">u</span></span> </span></div><div class=\"children hor  \"><div class=\"contnr c0 trm   hl\" ><div class=\"lbl c0 trm hl\" ><span class=\"nd\">1348</span> <span class=\"txtt\"><span class=\"damage\"><span class=\"r\">lu</span></span></span></div></div><div class=\"contnr c0 trm   \" ><div class=\"lbl c0 trm \" ><span class=\"nd\">1349</span> <span class=\"txtt\">-</span></div></div><div class=\"contnr c0 trm   hl\" ><div class=\"lbl c0 trm hl\" ><span class=\"nd\">1350</span> <span class=\"txtt\"><span class=\"damage\"><span class=\"r\">u</span></span> </span></div></div></div></div><div class=\"contnr c1    \" ><div class=\"lbl c1  \" ><span class=\"nd\">word:89785</span> <span class=\"txtt\"><span class=\"r\">ina</span> </span></div><div class=\"children hor  \"><div class=\"contnr c0 trm   \" ><div class=\"lbl c0 trm \" ><span class=\"nd\">1351</span> <span class=\"txtt\"><span class=\"r\">ina</span> </span></div></div></div></div><div class=\"contnr c1    \" ><div class=\"lbl c1  \" ><span class=\"nd\">word:89786</span> <span class=\"txtt\"><span class=\"g\">KAŠ</span>.<span class=\"g\">SAG</span> </span></div><div class=\"children hor  \"><div class=\"contnr c0 trm   \" ><div class=\"lbl c0 trm \" ><span class=\"nd\">1352</span> <span class=\"txtt\"><span class=\"g\">KAŠ</span></span></div></div><div class=\"contnr c0 trm   \" ><div class=\"lbl c0 trm \" ><span class=\"nd\">1353</span> <span class=\"txtt\">.</span></div></div><div class=\"contnr c0 trm   \" ><div class=\"lbl c0 trm \" ><span class=\"nd\">1354</span> <span class=\"txtt\"><span class=\"g\">SAG</span> </span></div></div></div></div><div class=\"contnr c1   rno \" ><div class=\"lbl c1  \" ><span class=\"nd\">word:89787</span> <span class=\"txtt\">[<span class=\"missing\"><span class=\"uncertain\"><span class=\"cls\">x</span></span></span> </span></div><div class=\"children hor  \"><div class=\"contnr c0 trm   \" ><div class=\"lbl c0 trm \" ><span class=\"nd\">1355</span> <span class=\"txtt\">[</span></div></div></div></div><div class=\"contnr c2    \" ><div class=\"lbl c2  \" ><span class=\"nd\">cluster:79579</span></div><div class=\"children hor wrap \"><div class=\"contnr c1   lno \" ><div class=\"lbl c1  \" ><span class=\"nd\">word:89787</span> <span class=\"txtt\">[<span class=\"missing\"><span class=\"uncertain\"><span class=\"cls\">x</span></span></span> </span></div><div class=\"children hor  \"><div class=\"contnr c0 trm   \" ><div class=\"lbl c0 trm \" ><span class=\"nd\">1356</span> <span class=\"txtt\"><span class=\"missing\"><span class=\"uncertain\"><span class=\"cls\">x</span></span></span> </span></div></div></div></div><div class=\"contnr c1    \" ><div class=\"lbl c1  \" ><span class=\"nd\">word:89788</span> <span class=\"txtt\"><span class=\"missing\"><span class=\"uncertain\"><span class=\"cls\">x</span></span></span> </span></div><div class=\"children hor  \"><div class=\"contnr c0 trm   \" ><div class=\"lbl c0 trm \" ><span class=\"nd\">1357</span> <span class=\"txtt\"><span class=\"missing\"><span class=\"uncertain\"><span class=\"cls\">x</span></span></span> </span></div></div></div></div><div class=\"contnr c1    \" ><div class=\"lbl c1  \" ><span class=\"nd\">word:89789</span> <span class=\"txtt\"><span class=\"missing\"><span class=\"uncertain\"><span class=\"cls\">x</span></span></span> </span></div><div class=\"children hor  \"><div class=\"contnr c0 trm   \" ><div class=\"lbl c0 trm \" ><span class=\"nd\">1358</span> <span class=\"txtt\"><span class=\"missing\"><span class=\"uncertain\"><span class=\"cls\">x</span></span></span> </span></div></div></div></div><div class=\"contnr c1    \" ><div class=\"lbl c1  \" ><span class=\"nd\">word:89790</span> <span class=\"txtt\"><span class=\"missing\"><span class=\"uncertain\"><span class=\"cls\">x</span></span></span> </span></div><div class=\"children hor  \"><div class=\"contnr c0 trm   \" ><div class=\"lbl c0 trm \" ><span class=\"nd\">1359</span> <span class=\"txtt\"><span class=\"missing\"><span class=\"uncertain\"><span class=\"cls\">x</span></span></span> </span></div></div></div></div><div class=\"contnr c1    \" ><div class=\"lbl c1  \" ><span class=\"nd\">word:89791</span> <span class=\"txtt\"><span class=\"missing\"><span class=\"uncertain\"><span class=\"cls\">x</span></span></span> </span></div><div class=\"children hor  \"><div class=\"contnr c0 trm   \" ><div class=\"lbl c0 trm \" ><span class=\"nd\">1360</span> <span class=\"txtt\"><span class=\"missing\"><span class=\"uncertain\"><span class=\"cls\">x</span></span></span> </span></div></div></div></div><div class=\"contnr c1    \" ><div class=\"lbl c1  \" ><span class=\"nd\">word:89792</span> <span class=\"txtt\"><span class=\"missing\"><span class=\"uncertain\"><span class=\"cls\">x</span></span></span> </span></div><div class=\"children hor  \"><div class=\"contnr c0 trm   \" ><div class=\"lbl c0 trm \" ><span class=\"nd\">1361</span> <span class=\"txtt\"><span class=\"missing\"><span class=\"uncertain\"><span class=\"cls\">x</span></span></span> </span></div></div></div></div><div class=\"contnr c1    \" ><div class=\"lbl c1  \" ><span class=\"nd\">word:89793</span> <span class=\"txtt\"><span class=\"missing\"><span class=\"uncertain\"><span class=\"cls\">x</span></span></span><span class=\"missing\">]</span> </span></div><div class=\"children hor  \"><div class=\"contnr c0 trm   \" ><div class=\"lbl c0 trm \" ><span class=\"nd\">1362</span> <span class=\"txtt\"><span class=\"missing\"><span class=\"uncertain\"><span class=\"cls\">x</span></span></span></span></div></div><div class=\"contnr c0 trm   \" ><div class=\"lbl c0 trm \" ><span class=\"nd\">1363</span> <span class=\"txtt\"><span class=\"missing\">]</span> </span></div></div></div></div></div></div></div></div></div>"
      ],
      "text/plain": [
       "<IPython.core.display.HTML object>"
      ]
     },
     "metadata": {},
     "output_type": "display_data"
    },
    {
     "data": {
      "text/markdown": [
       "---\n",
       "# flag: question\n",
       "\n",
       "Location: P285109 reverse:2:4'"
      ],
      "text/plain": [
       "<IPython.core.display.Markdown object>"
      ]
     },
     "metadata": {},
     "output_type": "display_data"
    },
    {
     "name": "stdout",
     "output_type": "stream",
     "text": [
      "2:4' [x x x x x x x x ] ŠU₂?# LUGAL?# [x x x x] \n"
     ]
    },
    {
     "data": {
      "text/html": [
       "<div class=\"\"><span class=\"tfsechead \"><span class=\"ltr\"><a target=\"_blank\" href=\"https://cdli.ucla.edu/search/search_results.php?SearchMode=Text&amp;ObjectID=P285109\" title=\"Show this document on CDLI\" sec=\"P285109 reverse:2:4'\">P285109 reverse:2:4'</a></span></span>  <span class=\"txtt\">[</span><span class=\"txtt\"><span class=\"missing\"><span class=\"uncertain\"><span class=\"cls\">x</span></span></span> </span><span class=\"txtt\"><span class=\"missing\"><span class=\"uncertain\"><span class=\"cls\">x</span></span></span> </span><span class=\"txtt\"><span class=\"missing\"><span class=\"uncertain\"><span class=\"cls\">x</span></span></span> </span><span class=\"txtt\"><span class=\"missing\"><span class=\"uncertain\"><span class=\"cls\">x</span></span></span> </span><span class=\"txtt\"><span class=\"missing\"><span class=\"uncertain\"><span class=\"cls\">x</span></span></span> </span><span class=\"txtt\"><span class=\"missing\"><span class=\"uncertain\"><span class=\"cls\">x</span></span></span> </span><span class=\"txtt\"><span class=\"missing\"><span class=\"uncertain\"><span class=\"cls\">x</span></span></span> </span><span class=\"txtt\"><span class=\"missing\"><span class=\"uncertain\"><span class=\"cls\">x</span></span></span> </span><span class=\"txtt\"><span class=\"missing\">]</span> </span><span class=\"plain   hl\" ><span class=\"txtt\"><span class=\"question damage\"><span class=\"g\">ŠU₂</span></span> </span></span><span class=\"plain   hl\" ><span class=\"txtt\"><span class=\"question damage\"><span class=\"g\">LUGAL</span></span> </span></span><span class=\"txtt\">[</span><span class=\"txtt\"><span class=\"missing\"><span class=\"uncertain\"><span class=\"cls\">x</span></span></span> </span><span class=\"txtt\"><span class=\"missing\"><span class=\"uncertain\"><span class=\"cls\">x</span></span></span> </span><span class=\"txtt\"><span class=\"missing\"><span class=\"uncertain\"><span class=\"cls\">x</span></span></span> </span><span class=\"txtt\"><span class=\"missing\"><span class=\"uncertain\"><span class=\"cls\">x</span></span></span></span><span class=\"txtt\"><span class=\"missing\">]</span> </span></div>"
      ],
      "text/plain": [
       "<IPython.core.display.HTML object>"
      ]
     },
     "metadata": {},
     "output_type": "display_data"
    },
    {
     "data": {
      "text/html": [
       "<div class=\"tfsechead \"><span class=\"ltr\"><a target=\"_blank\" href=\"https://cdli.ucla.edu/search/search_results.php?SearchMode=Text&amp;ObjectID=P285109\" title=\"Show this document on CDLI\" sec=\"P285109 reverse:2:4'\">P285109 reverse:2:4'</a></span></div><div class=\" children\"><div class=\"contnr c3    \" ><div class=\"lbl c3  \" ><span class=\"nd\">line:86036</span></div><div class='features'><span class=\"tr@en xft\" ><span class=\"f\">tr@en=</span>[Palace of Aššur-ban-apli, king of the univ]erse?, ki[ng? of the land of Aššur],</span></div><div class=\"children hor wrap \"><div class=\"contnr c1   rno \" ><div class=\"lbl c1  \" ><span class=\"nd\">word:89811</span> <span class=\"txtt\">[<span class=\"missing\"><span class=\"uncertain\"><span class=\"cls\">x</span></span></span> </span></div><div class=\"children hor  \"><div class=\"contnr c0 trm   \" ><div class=\"lbl c0 trm \" ><span class=\"nd\">1399</span> <span class=\"txtt\">[</span></div></div></div></div><div class=\"contnr c2    \" ><div class=\"lbl c2  \" ><span class=\"nd\">cluster:79584</span></div><div class=\"children hor wrap \"><div class=\"contnr c1   lno \" ><div class=\"lbl c1  \" ><span class=\"nd\">word:89811</span> <span class=\"txtt\">[<span class=\"missing\"><span class=\"uncertain\"><span class=\"cls\">x</span></span></span> </span></div><div class=\"children hor  \"><div class=\"contnr c0 trm   \" ><div class=\"lbl c0 trm \" ><span class=\"nd\">1400</span> <span class=\"txtt\"><span class=\"missing\"><span class=\"uncertain\"><span class=\"cls\">x</span></span></span> </span></div></div></div></div><div class=\"contnr c1    \" ><div class=\"lbl c1  \" ><span class=\"nd\">word:89812</span> <span class=\"txtt\"><span class=\"missing\"><span class=\"uncertain\"><span class=\"cls\">x</span></span></span> </span></div><div class=\"children hor  \"><div class=\"contnr c0 trm   \" ><div class=\"lbl c0 trm \" ><span class=\"nd\">1401</span> <span class=\"txtt\"><span class=\"missing\"><span class=\"uncertain\"><span class=\"cls\">x</span></span></span> </span></div></div></div></div><div class=\"contnr c1    \" ><div class=\"lbl c1  \" ><span class=\"nd\">word:89813</span> <span class=\"txtt\"><span class=\"missing\"><span class=\"uncertain\"><span class=\"cls\">x</span></span></span> </span></div><div class=\"children hor  \"><div class=\"contnr c0 trm   \" ><div class=\"lbl c0 trm \" ><span class=\"nd\">1402</span> <span class=\"txtt\"><span class=\"missing\"><span class=\"uncertain\"><span class=\"cls\">x</span></span></span> </span></div></div></div></div><div class=\"contnr c1    \" ><div class=\"lbl c1  \" ><span class=\"nd\">word:89814</span> <span class=\"txtt\"><span class=\"missing\"><span class=\"uncertain\"><span class=\"cls\">x</span></span></span> </span></div><div class=\"children hor  \"><div class=\"contnr c0 trm   \" ><div class=\"lbl c0 trm \" ><span class=\"nd\">1403</span> <span class=\"txtt\"><span class=\"missing\"><span class=\"uncertain\"><span class=\"cls\">x</span></span></span> </span></div></div></div></div><div class=\"contnr c1    \" ><div class=\"lbl c1  \" ><span class=\"nd\">word:89815</span> <span class=\"txtt\"><span class=\"missing\"><span class=\"uncertain\"><span class=\"cls\">x</span></span></span> </span></div><div class=\"children hor  \"><div class=\"contnr c0 trm   \" ><div class=\"lbl c0 trm \" ><span class=\"nd\">1404</span> <span class=\"txtt\"><span class=\"missing\"><span class=\"uncertain\"><span class=\"cls\">x</span></span></span> </span></div></div></div></div><div class=\"contnr c1    \" ><div class=\"lbl c1  \" ><span class=\"nd\">word:89816</span> <span class=\"txtt\"><span class=\"missing\"><span class=\"uncertain\"><span class=\"cls\">x</span></span></span> </span></div><div class=\"children hor  \"><div class=\"contnr c0 trm   \" ><div class=\"lbl c0 trm \" ><span class=\"nd\">1405</span> <span class=\"txtt\"><span class=\"missing\"><span class=\"uncertain\"><span class=\"cls\">x</span></span></span> </span></div></div></div></div><div class=\"contnr c1    \" ><div class=\"lbl c1  \" ><span class=\"nd\">word:89817</span> <span class=\"txtt\"><span class=\"missing\"><span class=\"uncertain\"><span class=\"cls\">x</span></span></span> </span></div><div class=\"children hor  \"><div class=\"contnr c0 trm   \" ><div class=\"lbl c0 trm \" ><span class=\"nd\">1406</span> <span class=\"txtt\"><span class=\"missing\"><span class=\"uncertain\"><span class=\"cls\">x</span></span></span> </span></div></div></div></div><div class=\"contnr c1    \" ><div class=\"lbl c1  \" ><span class=\"nd\">word:89818</span> <span class=\"txtt\"><span class=\"missing\"><span class=\"uncertain\"><span class=\"cls\">x</span></span></span> </span></div><div class=\"children hor  \"><div class=\"contnr c0 trm   \" ><div class=\"lbl c0 trm \" ><span class=\"nd\">1407</span> <span class=\"txtt\"><span class=\"missing\"><span class=\"uncertain\"><span class=\"cls\">x</span></span></span> </span></div></div></div></div><div class=\"contnr c1   rno \" ><div class=\"lbl c1  \" ><span class=\"nd\">word:89819</span> <span class=\"txtt\"><span class=\"missing\">]</span> <span class=\"question damage\"><span class=\"g\">ŠU₂</span></span> </span></div><div class=\"children hor  \"><div class=\"contnr c0 trm   \" ><div class=\"lbl c0 trm \" ><span class=\"nd\">1408</span> <span class=\"txtt\"><span class=\"missing\">]</span> </span></div></div></div></div></div></div><div class=\"contnr c1   lno \" ><div class=\"lbl c1  \" ><span class=\"nd\">word:89819</span> <span class=\"txtt\"><span class=\"missing\">]</span> <span class=\"question damage\"><span class=\"g\">ŠU₂</span></span> </span></div><div class=\"children hor  \"><div class=\"contnr c0 trm   hl\" ><div class=\"lbl c0 trm hl\" ><span class=\"nd\">1409</span> <span class=\"txtt\"><span class=\"question damage\"><span class=\"g\">ŠU₂</span></span> </span></div></div></div></div><div class=\"contnr c1    \" ><div class=\"lbl c1  \" ><span class=\"nd\">word:89820</span> <span class=\"txtt\"><span class=\"question damage\"><span class=\"g\">LUGAL</span></span> [</span></div><div class=\"children hor  \"><div class=\"contnr c0 trm   hl\" ><div class=\"lbl c0 trm hl\" ><span class=\"nd\">1410</span> <span class=\"txtt\"><span class=\"question damage\"><span class=\"g\">LUGAL</span></span> </span></div></div><div class=\"contnr c0 trm   \" ><div class=\"lbl c0 trm \" ><span class=\"nd\">1411</span> <span class=\"txtt\">[</span></div></div></div></div><div class=\"contnr c2    \" ><div class=\"lbl c2  \" ><span class=\"nd\">cluster:79585</span></div><div class=\"children hor wrap \"><div class=\"contnr c1    \" ><div class=\"lbl c1  \" ><span class=\"nd\">word:89821</span> <span class=\"txtt\"><span class=\"missing\"><span class=\"uncertain\"><span class=\"cls\">x</span></span></span> </span></div><div class=\"children hor  \"><div class=\"contnr c0 trm   \" ><div class=\"lbl c0 trm \" ><span class=\"nd\">1412</span> <span class=\"txtt\"><span class=\"missing\"><span class=\"uncertain\"><span class=\"cls\">x</span></span></span> </span></div></div></div></div><div class=\"contnr c1    \" ><div class=\"lbl c1  \" ><span class=\"nd\">word:89822</span> <span class=\"txtt\"><span class=\"missing\"><span class=\"uncertain\"><span class=\"cls\">x</span></span></span> </span></div><div class=\"children hor  \"><div class=\"contnr c0 trm   \" ><div class=\"lbl c0 trm \" ><span class=\"nd\">1413</span> <span class=\"txtt\"><span class=\"missing\"><span class=\"uncertain\"><span class=\"cls\">x</span></span></span> </span></div></div></div></div><div class=\"contnr c1    \" ><div class=\"lbl c1  \" ><span class=\"nd\">word:89823</span> <span class=\"txtt\"><span class=\"missing\"><span class=\"uncertain\"><span class=\"cls\">x</span></span></span> </span></div><div class=\"children hor  \"><div class=\"contnr c0 trm   \" ><div class=\"lbl c0 trm \" ><span class=\"nd\">1414</span> <span class=\"txtt\"><span class=\"missing\"><span class=\"uncertain\"><span class=\"cls\">x</span></span></span> </span></div></div></div></div><div class=\"contnr c1    \" ><div class=\"lbl c1  \" ><span class=\"nd\">word:89824</span> <span class=\"txtt\"><span class=\"missing\"><span class=\"uncertain\"><span class=\"cls\">x</span></span></span><span class=\"missing\">]</span> </span></div><div class=\"children hor  \"><div class=\"contnr c0 trm   \" ><div class=\"lbl c0 trm \" ><span class=\"nd\">1415</span> <span class=\"txtt\"><span class=\"missing\"><span class=\"uncertain\"><span class=\"cls\">x</span></span></span></span></div></div><div class=\"contnr c0 trm   \" ><div class=\"lbl c0 trm \" ><span class=\"nd\">1416</span> <span class=\"txtt\"><span class=\"missing\">]</span> </span></div></div></div></div></div></div></div></div></div>"
      ],
      "text/plain": [
       "<IPython.core.display.HTML object>"
      ]
     },
     "metadata": {},
     "output_type": "display_data"
    },
    {
     "data": {
      "text/markdown": [
       "---\n",
       "# flag: remarkable\n",
       "\n",
       "Location: P403291 obverse:4'"
      ],
      "text/plain": [
       "<IPython.core.display.Markdown object>"
      ]
     },
     "metadata": {},
     "output_type": "display_data"
    },
    {
     "name": "stdout",
     "output_type": "stream",
     "text": [
      "4' [...] giš!EREN TAG#[-at x x x x x x] \n"
     ]
    },
    {
     "data": {
      "text/html": [
       "<div class=\"\"><span class=\"tfsechead \"><span class=\"ltr\"><a target=\"_blank\" href=\"https://cdli.ucla.edu/search/search_results.php?SearchMode=Text&amp;ObjectID=P403291\" title=\"Show this document on CDLI\" sec=\"P403291 obverse:4'\">P403291 obverse:4'</a></span></span>  <span class=\"txtt\">[</span><span class=\"txtt\"><span class=\"missing\"><span class=\"missing\">...</span></span></span><span class=\"txtt\"><span class=\"missing\">]</span> </span><span class=\"plain   hl\" ><span class=\"txtt\"><span class=\"det\"><span class=\"remarkable\">giš!</span></span></span></span><span class=\"txtt\"><span class=\"g\">EREN</span> </span><span class=\"txtt\"><span class=\"damage\"><span class=\"g\">TAG</span></span></span><span class=\"txtt\">[</span><span class=\"txtt\"><span class=\"missing\">-</span></span><span class=\"txtt\"><span class=\"missing\"><span class=\"r\">at</span></span> </span><span class=\"txtt\"><span class=\"missing\"><span class=\"uncertain\"><span class=\"cls\">x</span></span></span> </span><span class=\"txtt\"><span class=\"missing\"><span class=\"uncertain\"><span class=\"cls\">x</span></span></span> </span><span class=\"txtt\"><span class=\"missing\"><span class=\"uncertain\"><span class=\"cls\">x</span></span></span> </span><span class=\"txtt\"><span class=\"missing\"><span class=\"uncertain\"><span class=\"cls\">x</span></span></span> </span><span class=\"txtt\"><span class=\"missing\"><span class=\"uncertain\"><span class=\"cls\">x</span></span></span> </span><span class=\"txtt\"><span class=\"missing\"><span class=\"uncertain\"><span class=\"cls\">x</span></span></span></span><span class=\"txtt\"><span class=\"missing\">]</span> </span></div>"
      ],
      "text/plain": [
       "<IPython.core.display.HTML object>"
      ]
     },
     "metadata": {},
     "output_type": "display_data"
    },
    {
     "data": {
      "text/html": [
       "<div class=\"tfsechead \"><span class=\"ltr\"><a target=\"_blank\" href=\"https://cdli.ucla.edu/search/search_results.php?SearchMode=Text&amp;ObjectID=P403291\" title=\"Show this document on CDLI\" sec=\"P403291 obverse:4'\">P403291 obverse:4'</a></span></div><div class=\" children\"><div class=\"contnr c3    \" ><div class=\"lbl c3  \" ><span class=\"nd\">line:86092</span></div><div class=\"children hor wrap \"><div class=\"contnr c1   rno \" ><div class=\"lbl c1  \" ><span class=\"nd\">word:90275</span> <span class=\"txtt\">[<span class=\"missing\"><span class=\"missing\">...</span></span><span class=\"missing\">]</span> </span></div><div class=\"children hor  \"><div class=\"contnr c0 trm   \" ><div class=\"lbl c0 trm \" ><span class=\"nd\">2388</span> <span class=\"txtt\">[</span></div></div></div></div><div class=\"contnr c2    \" ><div class=\"lbl c2  \" ><span class=\"nd\">cluster:79696</span></div><div class=\"children hor wrap \"><div class=\"contnr c1   lno \" ><div class=\"lbl c1  \" ><span class=\"nd\">word:90275</span> <span class=\"txtt\">[<span class=\"missing\"><span class=\"missing\">...</span></span><span class=\"missing\">]</span> </span></div><div class=\"children hor  \"><div class=\"contnr c0 trm   \" ><div class=\"lbl c0 trm \" ><span class=\"nd\">2389</span> <span class=\"txtt\"><span class=\"missing\"><span class=\"missing\">...</span></span></span></div></div><div class=\"contnr c0 trm   \" ><div class=\"lbl c0 trm \" ><span class=\"nd\">2390</span> <span class=\"txtt\"><span class=\"missing\">]</span> </span></div></div></div></div></div></div><div class=\"contnr c2    \" ><div class=\"lbl c2  \" ><span class=\"nd\">cluster:79697</span></div><div class=\"children hor wrap \"><div class=\"contnr c1   rno \" ><div class=\"lbl c1  \" ><span class=\"nd\">word:90276</span> <span class=\"txtt\"><span class=\"det\"><span class=\"remarkable\">giš!</span></span><span class=\"g\">EREN</span> </span></div><div class=\"children hor  \"><div class=\"contnr c0 trm   hl\" ><div class=\"lbl c0 trm hl\" ><span class=\"nd\">2391</span> <span class=\"txtt\"><span class=\"det\"><span class=\"remarkable\">giš!</span></span></span></div></div></div></div></div></div><div class=\"contnr c1   lno \" ><div class=\"lbl c1  \" ><span class=\"nd\">word:90276</span> <span class=\"txtt\"><span class=\"det\"><span class=\"remarkable\">giš!</span></span><span class=\"g\">EREN</span> </span></div><div class=\"children hor  \"><div class=\"contnr c0 trm   \" ><div class=\"lbl c0 trm \" ><span class=\"nd\">2392</span> <span class=\"txtt\"><span class=\"g\">EREN</span> </span></div></div></div></div><div class=\"contnr c1   rno \" ><div class=\"lbl c1  \" ><span class=\"nd\">word:90277</span> <span class=\"txtt\"><span class=\"damage\"><span class=\"g\">TAG</span></span>[<span class=\"missing\">-</span><span class=\"missing\"><span class=\"r\">at</span></span> </span></div><div class=\"children hor  \"><div class=\"contnr c0 trm   \" ><div class=\"lbl c0 trm \" ><span class=\"nd\">2393</span> <span class=\"txtt\"><span class=\"damage\"><span class=\"g\">TAG</span></span></span></div></div><div class=\"contnr c0 trm   \" ><div class=\"lbl c0 trm \" ><span class=\"nd\">2394</span> <span class=\"txtt\">[</span></div></div></div></div><div class=\"contnr c2    \" ><div class=\"lbl c2  \" ><span class=\"nd\">cluster:79698</span></div><div class=\"children hor wrap \"><div class=\"contnr c1   lno \" ><div class=\"lbl c1  \" ><span class=\"nd\">word:90277</span> <span class=\"txtt\"><span class=\"damage\"><span class=\"g\">TAG</span></span>[<span class=\"missing\">-</span><span class=\"missing\"><span class=\"r\">at</span></span> </span></div><div class=\"children hor  \"><div class=\"contnr c0 trm   \" ><div class=\"lbl c0 trm \" ><span class=\"nd\">2395</span> <span class=\"txtt\"><span class=\"missing\">-</span></span></div></div><div class=\"contnr c0 trm   \" ><div class=\"lbl c0 trm \" ><span class=\"nd\">2396</span> <span class=\"txtt\"><span class=\"missing\"><span class=\"r\">at</span></span> </span></div></div></div></div><div class=\"contnr c1    \" ><div class=\"lbl c1  \" ><span class=\"nd\">word:90278</span> <span class=\"txtt\"><span class=\"missing\"><span class=\"uncertain\"><span class=\"cls\">x</span></span></span> </span></div><div class=\"children hor  \"><div class=\"contnr c0 trm   \" ><div class=\"lbl c0 trm \" ><span class=\"nd\">2397</span> <span class=\"txtt\"><span class=\"missing\"><span class=\"uncertain\"><span class=\"cls\">x</span></span></span> </span></div></div></div></div><div class=\"contnr c1    \" ><div class=\"lbl c1  \" ><span class=\"nd\">word:90279</span> <span class=\"txtt\"><span class=\"missing\"><span class=\"uncertain\"><span class=\"cls\">x</span></span></span> </span></div><div class=\"children hor  \"><div class=\"contnr c0 trm   \" ><div class=\"lbl c0 trm \" ><span class=\"nd\">2398</span> <span class=\"txtt\"><span class=\"missing\"><span class=\"uncertain\"><span class=\"cls\">x</span></span></span> </span></div></div></div></div><div class=\"contnr c1    \" ><div class=\"lbl c1  \" ><span class=\"nd\">word:90280</span> <span class=\"txtt\"><span class=\"missing\"><span class=\"uncertain\"><span class=\"cls\">x</span></span></span> </span></div><div class=\"children hor  \"><div class=\"contnr c0 trm   \" ><div class=\"lbl c0 trm \" ><span class=\"nd\">2399</span> <span class=\"txtt\"><span class=\"missing\"><span class=\"uncertain\"><span class=\"cls\">x</span></span></span> </span></div></div></div></div><div class=\"contnr c1    \" ><div class=\"lbl c1  \" ><span class=\"nd\">word:90281</span> <span class=\"txtt\"><span class=\"missing\"><span class=\"uncertain\"><span class=\"cls\">x</span></span></span> </span></div><div class=\"children hor  \"><div class=\"contnr c0 trm   \" ><div class=\"lbl c0 trm \" ><span class=\"nd\">2400</span> <span class=\"txtt\"><span class=\"missing\"><span class=\"uncertain\"><span class=\"cls\">x</span></span></span> </span></div></div></div></div><div class=\"contnr c1    \" ><div class=\"lbl c1  \" ><span class=\"nd\">word:90282</span> <span class=\"txtt\"><span class=\"missing\"><span class=\"uncertain\"><span class=\"cls\">x</span></span></span> </span></div><div class=\"children hor  \"><div class=\"contnr c0 trm   \" ><div class=\"lbl c0 trm \" ><span class=\"nd\">2401</span> <span class=\"txtt\"><span class=\"missing\"><span class=\"uncertain\"><span class=\"cls\">x</span></span></span> </span></div></div></div></div><div class=\"contnr c1    \" ><div class=\"lbl c1  \" ><span class=\"nd\">word:90283</span> <span class=\"txtt\"><span class=\"missing\"><span class=\"uncertain\"><span class=\"cls\">x</span></span></span><span class=\"missing\">]</span> </span></div><div class=\"children hor  \"><div class=\"contnr c0 trm   \" ><div class=\"lbl c0 trm \" ><span class=\"nd\">2402</span> <span class=\"txtt\"><span class=\"missing\"><span class=\"uncertain\"><span class=\"cls\">x</span></span></span></span></div></div><div class=\"contnr c0 trm   \" ><div class=\"lbl c0 trm \" ><span class=\"nd\">2403</span> <span class=\"txtt\"><span class=\"missing\">]</span> </span></div></div></div></div></div></div></div></div></div>"
      ],
      "text/plain": [
       "<IPython.core.display.HTML object>"
      ]
     },
     "metadata": {},
     "output_type": "display_data"
    },
    {
     "data": {
      "text/markdown": [
       "---\n",
       "# flag: collated\n",
       "\n",
       "Location: P394520 obverse:2:37'"
      ],
      "text/plain": [
       "<IPython.core.display.Markdown object>"
      ]
     },
     "metadata": {},
     "output_type": "display_data"
    },
    {
     "name": "stdout",
     "output_type": "stream",
     "text": [
      "2:37' [IGI.MIN-šu₂ DUL-ma u₂-kal IGI.] MIN#-šu₂ ta-kar-ma UD.9.KAM* an-na-a DU₃.MEŠ \n"
     ]
    },
    {
     "data": {
      "text/html": [
       "<div class=\"\"><span class=\"tfsechead \"><span class=\"ltr\"><a target=\"_blank\" href=\"https://cdli.ucla.edu/search/search_results.php?SearchMode=Text&amp;ObjectID=P394520\" title=\"Show this document on CDLI\" sec=\"P394520 obverse:2:37'\">P394520 obverse:2:37'</a></span></span>  <span class=\"txtt\">[</span><span class=\"txtt\"><span class=\"missing\"><span class=\"g\">IGI</span></span></span><span class=\"txtt\"><span class=\"missing\">.</span></span><span class=\"txtt\"><span class=\"missing\"><span class=\"g\">MIN</span></span></span><span class=\"txtt\"><span class=\"missing\">-</span></span><span class=\"txtt\"><span class=\"missing\"><span class=\"r\">šu</span></span> </span><span class=\"txtt\"><span class=\"missing\"><span class=\"g\">DUL</span></span></span><span class=\"txtt\"><span class=\"missing\">-</span></span><span class=\"txtt\"><span class=\"missing\"><span class=\"r\">ma</span></span> </span><span class=\"txtt\"><span class=\"missing\"><span class=\"r\">u</span></span></span><span class=\"txtt\"><span class=\"missing\">-</span></span><span class=\"txtt\"><span class=\"missing\"><span class=\"r\">kal</span></span> </span><span class=\"txtt\"><span class=\"missing\"><span class=\"g\">IGI</span></span></span><span class=\"txtt\"><span class=\"missing\">.</span></span><span class=\"txtt\"><span class=\"missing\">]</span> </span><span class=\"txtt\"><span class=\"damage\"><span class=\"g\">MIN</span></span></span><span class=\"txtt\">-</span><span class=\"txtt\"><span class=\"r\">šu</span> </span><span class=\"txtt\"><span class=\"r\">ta</span></span><span class=\"txtt\">-</span><span class=\"txtt\"><span class=\"r\">kar</span></span><span class=\"txtt\">-</span><span class=\"txtt\"><span class=\"r\">ma</span> </span><span class=\"txtt\"><span class=\"g\">UD</span></span><span class=\"txtt\">.</span><span class=\"txtt\">9</span><span class=\"txtt\">.</span><span class=\"plain   hl\" ><span class=\"txtt\"><span class=\"collated\"><span class=\"g\">KAM</span></span> </span></span><span class=\"txtt\"><span class=\"r\">an</span></span><span class=\"txtt\">-</span><span class=\"txtt\"><span class=\"r\">na</span></span><span class=\"txtt\">-</span><span class=\"txtt\"><span class=\"r\">a</span> </span><span class=\"txtt\"><span class=\"g\">DU₃</span></span><span class=\"txtt\">.</span><span class=\"txtt\"><span class=\"g\">MEŠ</span> </span></div>"
      ],
      "text/plain": [
       "<IPython.core.display.HTML object>"
      ]
     },
     "metadata": {},
     "output_type": "display_data"
    },
    {
     "data": {
      "text/html": [
       "<div class=\"tfsechead \"><span class=\"ltr\"><a target=\"_blank\" href=\"https://cdli.ucla.edu/search/search_results.php?SearchMode=Text&amp;ObjectID=P394520\" title=\"Show this document on CDLI\" sec=\"P394520 obverse:2:37'\">P394520 obverse:2:37'</a></span></div><div class=\" children\"><div class=\"contnr c3    \" ><div class=\"lbl c3  \" ><span class=\"nd\">line:87676</span></div><div class='features'><span class=\"tr@en xft\" ><span class=\"f\">tr@en=</span>tr.en.(2 31-7): If a man’s eyes are sick and then full of blood. They (= the eyes) are suffused with baluhhu-granules (and) blood, blood (and) tear(s) come out from the middle of his eyes. A film pushes away the pupil of his eyes. The blurred vision has turned into a film, with seeing being burdensome to him. You squeeze bīnu- tamarisk while still fresh (and) soak (it) in strong vinegar and let it stay under a star (= stay overnight). In the morning, you press it out into a funnel (lit. huliam-vessel). You pound separately alluharu-mineral, white plant, emesallu-saline solution, fat, tuškû-mineral, black cumin (and) exudation of copper. You take in equal amounts, stir (them) together. You pour (them) into the funnel (lit. huliam- vessel), which you have (earlier) rinsed. You knead (it) in ghee and šumēnu- mineral, then you open the upper part of his eyes with a finger (and) put (the medication) into his eyes. He keeps his eyes closed (while) you rub his eyes (i.e. the eyelids and surroundings) and continuously do this for nine days.</span></div><div class=\"children hor wrap \"><div class=\"contnr c1   rno \" ><div class=\"lbl c1  \" ><span class=\"nd\">word:105180</span> <span class=\"txtt\">[<span class=\"missing\"><span class=\"g\">IGI</span></span><span class=\"missing\">.</span><span class=\"missing\"><span class=\"g\">MIN</span></span><span class=\"missing\">-</span><span class=\"missing\"><span class=\"r\">šu</span></span> </span></div><div class=\"children hor  \"><div class=\"contnr c0 trm   \" ><div class=\"lbl c0 trm \" ><span class=\"nd\">41591</span> <span class=\"txtt\">[</span></div></div></div></div><div class=\"contnr c2    \" ><div class=\"lbl c2  \" ><span class=\"nd\">cluster:82908</span></div><div class=\"children hor wrap \"><div class=\"contnr c1   lno \" ><div class=\"lbl c1  \" ><span class=\"nd\">word:105180</span> <span class=\"txtt\">[<span class=\"missing\"><span class=\"g\">IGI</span></span><span class=\"missing\">.</span><span class=\"missing\"><span class=\"g\">MIN</span></span><span class=\"missing\">-</span><span class=\"missing\"><span class=\"r\">šu</span></span> </span></div><div class=\"children hor  \"><div class=\"contnr c0 trm   \" ><div class=\"lbl c0 trm \" ><span class=\"nd\">41592</span> <span class=\"txtt\"><span class=\"missing\"><span class=\"g\">IGI</span></span></span></div></div><div class=\"contnr c0 trm   \" ><div class=\"lbl c0 trm \" ><span class=\"nd\">41593</span> <span class=\"txtt\"><span class=\"missing\">.</span></span></div></div><div class=\"contnr c0 trm   \" ><div class=\"lbl c0 trm \" ><span class=\"nd\">41594</span> <span class=\"txtt\"><span class=\"missing\"><span class=\"g\">MIN</span></span></span></div></div><div class=\"contnr c0 trm   \" ><div class=\"lbl c0 trm \" ><span class=\"nd\">41595</span> <span class=\"txtt\"><span class=\"missing\">-</span></span></div></div><div class=\"contnr c0 trm   \" ><div class=\"lbl c0 trm \" ><span class=\"nd\">41596</span> <span class=\"txtt\"><span class=\"missing\"><span class=\"r\">šu</span></span> </span></div></div></div></div><div class=\"contnr c1    \" ><div class=\"lbl c1  \" ><span class=\"nd\">word:105181</span> <span class=\"txtt\"><span class=\"missing\"><span class=\"g\">DUL</span></span><span class=\"missing\">-</span><span class=\"missing\"><span class=\"r\">ma</span></span> </span></div><div class=\"children hor  \"><div class=\"contnr c0 trm   \" ><div class=\"lbl c0 trm \" ><span class=\"nd\">41597</span> <span class=\"txtt\"><span class=\"missing\"><span class=\"g\">DUL</span></span></span></div></div><div class=\"contnr c0 trm   \" ><div class=\"lbl c0 trm \" ><span class=\"nd\">41598</span> <span class=\"txtt\"><span class=\"missing\">-</span></span></div></div><div class=\"contnr c0 trm   \" ><div class=\"lbl c0 trm \" ><span class=\"nd\">41599</span> <span class=\"txtt\"><span class=\"missing\"><span class=\"r\">ma</span></span> </span></div></div></div></div><div class=\"contnr c1    \" ><div class=\"lbl c1  \" ><span class=\"nd\">word:105182</span> <span class=\"txtt\"><span class=\"missing\"><span class=\"r\">u</span></span><span class=\"missing\">-</span><span class=\"missing\"><span class=\"r\">kal</span></span> </span></div><div class=\"children hor  \"><div class=\"contnr c0 trm   \" ><div class=\"lbl c0 trm \" ><span class=\"nd\">41600</span> <span class=\"txtt\"><span class=\"missing\"><span class=\"r\">u</span></span></span></div></div><div class=\"contnr c0 trm   \" ><div class=\"lbl c0 trm \" ><span class=\"nd\">41601</span> <span class=\"txtt\"><span class=\"missing\">-</span></span></div></div><div class=\"contnr c0 trm   \" ><div class=\"lbl c0 trm \" ><span class=\"nd\">41602</span> <span class=\"txtt\"><span class=\"missing\"><span class=\"r\">kal</span></span> </span></div></div></div></div><div class=\"contnr c1   rno \" ><div class=\"lbl c1  \" ><span class=\"nd\">word:105183</span> <span class=\"txtt\"><span class=\"missing\"><span class=\"g\">IGI</span></span><span class=\"missing\">.</span><span class=\"missing\">]</span> <span class=\"damage\"><span class=\"g\">MIN</span></span>-<span class=\"r\">šu</span> </span></div><div class=\"children hor  \"><div class=\"contnr c0 trm   \" ><div class=\"lbl c0 trm \" ><span class=\"nd\">41603</span> <span class=\"txtt\"><span class=\"missing\"><span class=\"g\">IGI</span></span></span></div></div><div class=\"contnr c0 trm   \" ><div class=\"lbl c0 trm \" ><span class=\"nd\">41604</span> <span class=\"txtt\"><span class=\"missing\">.</span></span></div></div><div class=\"contnr c0 trm   \" ><div class=\"lbl c0 trm \" ><span class=\"nd\">41605</span> <span class=\"txtt\"><span class=\"missing\">]</span> </span></div></div></div></div></div></div><div class=\"contnr c1   lno \" ><div class=\"lbl c1  \" ><span class=\"nd\">word:105183</span> <span class=\"txtt\"><span class=\"missing\"><span class=\"g\">IGI</span></span><span class=\"missing\">.</span><span class=\"missing\">]</span> <span class=\"damage\"><span class=\"g\">MIN</span></span>-<span class=\"r\">šu</span> </span></div><div class=\"children hor  \"><div class=\"contnr c0 trm   \" ><div class=\"lbl c0 trm \" ><span class=\"nd\">41606</span> <span class=\"txtt\"><span class=\"damage\"><span class=\"g\">MIN</span></span></span></div></div><div class=\"contnr c0 trm   \" ><div class=\"lbl c0 trm \" ><span class=\"nd\">41607</span> <span class=\"txtt\">-</span></div></div><div class=\"contnr c0 trm   \" ><div class=\"lbl c0 trm \" ><span class=\"nd\">41608</span> <span class=\"txtt\"><span class=\"r\">šu</span> </span></div></div></div></div><div class=\"contnr c1    \" ><div class=\"lbl c1  \" ><span class=\"nd\">word:105184</span> <span class=\"txtt\"><span class=\"r\">ta</span>-<span class=\"r\">kar</span>-<span class=\"r\">ma</span> </span></div><div class=\"children hor  \"><div class=\"contnr c0 trm   \" ><div class=\"lbl c0 trm \" ><span class=\"nd\">41609</span> <span class=\"txtt\"><span class=\"r\">ta</span></span></div></div><div class=\"contnr c0 trm   \" ><div class=\"lbl c0 trm \" ><span class=\"nd\">41610</span> <span class=\"txtt\">-</span></div></div><div class=\"contnr c0 trm   \" ><div class=\"lbl c0 trm \" ><span class=\"nd\">41611</span> <span class=\"txtt\"><span class=\"r\">kar</span></span></div></div><div class=\"contnr c0 trm   \" ><div class=\"lbl c0 trm \" ><span class=\"nd\">41612</span> <span class=\"txtt\">-</span></div></div><div class=\"contnr c0 trm   \" ><div class=\"lbl c0 trm \" ><span class=\"nd\">41613</span> <span class=\"txtt\"><span class=\"r\">ma</span> </span></div></div></div></div><div class=\"contnr c1    \" ><div class=\"lbl c1  \" ><span class=\"nd\">word:105185</span> <span class=\"txtt\"><span class=\"g\">UD</span>.9.<span class=\"collated\"><span class=\"g\">KAM</span></span> </span></div><div class=\"children hor  \"><div class=\"contnr c0 trm   \" ><div class=\"lbl c0 trm \" ><span class=\"nd\">41614</span> <span class=\"txtt\"><span class=\"g\">UD</span></span></div></div><div class=\"contnr c0 trm   \" ><div class=\"lbl c0 trm \" ><span class=\"nd\">41615</span> <span class=\"txtt\">.</span></div></div><div class=\"contnr c0 trm   \" ><div class=\"lbl c0 trm \" ><span class=\"nd\">41616</span> <span class=\"txtt\">9</span></div></div><div class=\"contnr c0 trm   \" ><div class=\"lbl c0 trm \" ><span class=\"nd\">41617</span> <span class=\"txtt\">.</span></div></div><div class=\"contnr c0 trm   hl\" ><div class=\"lbl c0 trm hl\" ><span class=\"nd\">41618</span> <span class=\"txtt\"><span class=\"collated\"><span class=\"g\">KAM</span></span> </span></div></div></div></div><div class=\"contnr c1    \" ><div class=\"lbl c1  \" ><span class=\"nd\">word:105186</span> <span class=\"txtt\"><span class=\"r\">an</span>-<span class=\"r\">na</span>-<span class=\"r\">a</span> </span></div><div class=\"children hor  \"><div class=\"contnr c0 trm   \" ><div class=\"lbl c0 trm \" ><span class=\"nd\">41619</span> <span class=\"txtt\"><span class=\"r\">an</span></span></div></div><div class=\"contnr c0 trm   \" ><div class=\"lbl c0 trm \" ><span class=\"nd\">41620</span> <span class=\"txtt\">-</span></div></div><div class=\"contnr c0 trm   \" ><div class=\"lbl c0 trm \" ><span class=\"nd\">41621</span> <span class=\"txtt\"><span class=\"r\">na</span></span></div></div><div class=\"contnr c0 trm   \" ><div class=\"lbl c0 trm \" ><span class=\"nd\">41622</span> <span class=\"txtt\">-</span></div></div><div class=\"contnr c0 trm   \" ><div class=\"lbl c0 trm \" ><span class=\"nd\">41623</span> <span class=\"txtt\"><span class=\"r\">a</span> </span></div></div></div></div><div class=\"contnr c1    \" ><div class=\"lbl c1  \" ><span class=\"nd\">word:105187</span> <span class=\"txtt\"><span class=\"g\">DU₃</span>.<span class=\"g\">MEŠ</span> </span></div><div class=\"children hor  \"><div class=\"contnr c0 trm   \" ><div class=\"lbl c0 trm \" ><span class=\"nd\">41624</span> <span class=\"txtt\"><span class=\"g\">DU₃</span></span></div></div><div class=\"contnr c0 trm   \" ><div class=\"lbl c0 trm \" ><span class=\"nd\">41625</span> <span class=\"txtt\">.</span></div></div><div class=\"contnr c0 trm   \" ><div class=\"lbl c0 trm \" ><span class=\"nd\">41626</span> <span class=\"txtt\"><span class=\"g\">MEŠ</span> </span></div></div></div></div></div></div></div>"
      ],
      "text/plain": [
       "<IPython.core.display.HTML object>"
      ]
     },
     "metadata": {},
     "output_type": "display_data"
    }
   ],
   "source": [
    "for (line, (desc, positions)) in lines:\n",
    "    ln = T.nodeFromSection(line)\n",
    "    A.dm(\"---\\n# {}\\n\\nLocation: {} {}:{}\".format(desc, *line))\n",
    "    s = L.d(ln, otype=\"sign\")[0]\n",
    "    \n",
    "    highlights = {s + p - 1 for p in positions}\n",
    "    print(F.lnno.v(ln), T.text(ln))\n",
    "    A.plain(ln, fmt=\"layout-orig-full\", highlights=highlights)\n",
    "    A.pretty(\n",
    "        ln,\n",
    "        extraFeatures=\"tr@en\",\n",
    "        fmt=\"layout-orig-full\",\n",
    "        baseTypes=\"sign\",\n",
    "        highlights=highlights,\n",
    "        withNodes=True,\n",
    "    )"
   ]
  },
  {
   "cell_type": "markdown",
   "metadata": {},
   "source": [
    "---\n",
    "\n",
    "All chapters:\n",
    "\n",
    "* **[start](start.ipynb)** introduction to computing with your corpus\n",
    "* **display** become an expert in creating pretty displays of your text structures\n",
    "* **[search](search.ipynb)** turbo charge your hand-coding with search templates\n",
    "* **[exportExcel](exportExcel.ipynb)** make tailor-made spreadsheets out of your results\n",
    "* **[similarLines](similarLines.ipynb)** spot the similarities between lines\n",
    "\n",
    "---\n",
    "\n",
    "See the [cookbook](cookbook) for recipes for small, concrete tasks.\n",
    "\n",
    "CC-BY Dirk Roorda"
   ]
  }
 ],
 "metadata": {
  "jupytext": {
   "encoding": "# -*- coding: utf-8 -*-"
  },
  "kernelspec": {
   "display_name": "Python 3 (ipykernel)",
   "language": "python",
   "name": "python3"
  },
  "language_info": {
   "codemirror_mode": {
    "name": "ipython",
    "version": 3
   },
   "file_extension": ".py",
   "mimetype": "text/x-python",
   "name": "python",
   "nbconvert_exporter": "python",
   "pygments_lexer": "ipython3",
   "version": "3.10.2"
  },
  "toc": {
   "base_numbering": 1,
   "nav_menu": {},
   "number_sections": true,
   "sideBar": true,
   "skip_h1_title": false,
   "title_cell": "Table of Contents",
   "title_sidebar": "Contents",
   "toc_cell": false,
   "toc_position": {},
   "toc_section_display": "block",
   "toc_window_display": false
  },
  "widgets": {
   "application/vnd.jupyter.widget-state+json": {
    "state": {},
    "version_major": 2,
    "version_minor": 0
   }
  }
 },
 "nbformat": 4,
 "nbformat_minor": 4
}
