{
 "cells": [
  {
   "cell_type": "markdown",
   "metadata": {},
   "source": [
    "<img align=\"right\" src=\"images/tf.png\" width=\"128\"/>\n",
    "<img align=\"right\" src=\"images/logo.png\" width=\"128\"/>\n",
    "<img align=\"right\" src=\"images/dans.png\" width=\"128\"/>\n",
    "\n",
    "---\n",
    "\n",
    "To get started: consult [start](start.ipynb)\n",
    "\n",
    "---\n",
    "\n",
    "# Display\n",
    "\n",
    "We show the ins and outs of displaying cuneiform ATF transcriptions."
   ]
  },
  {
   "cell_type": "markdown",
   "metadata": {},
   "source": [
    "# Before you compute\n",
    "\n",
    "You can open the corpus in the Text-Fabric browser and\n",
    "explore the contents in a browser window which is served\n",
    "from your computer:"
   ]
  },
  {
   "cell_type": "code",
   "execution_count": null,
   "metadata": {},
   "outputs": [],
   "source": [
    "!!text-fabric Nino-cunei/ninmed:clone --checkout=clone"
   ]
  },
  {
   "cell_type": "markdown",
   "metadata": {},
   "source": [
    "# Prepare to compute"
   ]
  },
  {
   "cell_type": "code",
   "execution_count": 1,
   "metadata": {},
   "outputs": [],
   "source": [
    "%load_ext autoreload\n",
    "%autoreload 2"
   ]
  },
  {
   "cell_type": "code",
   "execution_count": 2,
   "metadata": {
    "ExecuteTime": {
     "end_time": "2018-05-18T09:17:16.202764Z",
     "start_time": "2018-05-18T09:17:16.197546Z"
    }
   },
   "outputs": [],
   "source": [
    "from tf.app import use"
   ]
  },
  {
   "cell_type": "code",
   "execution_count": 3,
   "metadata": {},
   "outputs": [
    {
     "data": {
      "text/html": [
       "<b title=\"local release\">TF-app:</b> <span title=\"rv0.3=#115cfc685cb2025be69c9bbec9e70260d6ed046b offline under ~/text-fabric-data\">~/text-fabric-data/Nino-cunei/ninmed/app</span>"
      ],
      "text/plain": [
       "<IPython.core.display.HTML object>"
      ]
     },
     "metadata": {},
     "output_type": "display_data"
    },
    {
     "data": {
      "text/html": [
       "<b title=\"local release\">data:</b> <span title=\"rv0.3=#115cfc685cb2025be69c9bbec9e70260d6ed046b offline under ~/text-fabric-data\">~/text-fabric-data/Nino-cunei/ninmed/tf/0.3</span>"
      ],
      "text/plain": [
       "<IPython.core.display.HTML object>"
      ]
     },
     "metadata": {},
     "output_type": "display_data"
    },
    {
     "name": "stdout",
     "output_type": "stream",
     "text": [
      "This is Text-Fabric 9.2.5\n",
      "Api reference : https://annotation.github.io/text-fabric/tf/cheatsheet.html\n",
      "\n",
      "48 features found and 0 ignored\n"
     ]
    },
    {
     "data": {
      "text/html": [
       "<b>Text-Fabric:</b> <a target=\"_blank\" href=\"https://annotation.github.io/text-fabric/tf/cheatsheet.html\" title=\"text-fabric-api\">Text-Fabric API 9.2.5</a>, <a target=\"_blank\" href=\"https://github.com/Nino-cunei/ninmed/blob/master/app\" title=\"Nino-cunei/ninmed TF-app\">Nino-cunei/ninmed/app  v3</a>, <a target=\"_blank\" href=\"https://annotation.github.io/text-fabric/tf/about/searchusage.html\" title=\"Search Templates Introduction and Reference\">Search Reference</a><br><b>Data:</b> <a target=\"_blank\" href=\"https://github.com/Nino-cunei/ninmed/blob/master/docs/about.md\" title=\"provenance of Nineveh Medical Encyclopedia 800 BCE: Cuneiform tablets\">NINMED</a>, <a target=\"_blank\" href=\"https://nbviewer.jupyter.org/github/Nino-cunei/tfFromAtf/blob/master/programs/mapReadings.ipynb\" title=\"mapping from readings to UNICODE\">Character table</a>, <a target=\"_blank\" href=\"https://github.com/Nino-cunei/ninmed/blob/master/docs/transcription.md\" title=\"NINMED feature documentation\">Feature docs</a><br><b>Features:</b><br>\n",
       "<details><summary><b>Nineveh Medical Encyclopedia 800 BCE: Cuneiform tablets</b></summary>\n",
       "    <div class=\"fcorpus\">\n",
       "\n",
       "<div class=\"frow\">\n",
       "    <div class=\"fnamecat \">\n",
       "<a target=\"_blank\" href=\"https://github.com/Nino-cunei/ninmed/blob/master/docs/transcription.md\" title=\"~/text-fabric-data/Nino-cunei/ninmed/tf/0.3/after.tf\">after</a>\n",
       "</div>\n",
       "<div class=\"fmono\">str</div>\n",
       "<details>\n",
       "    <summary>what comes after a sign or word (- or space)</summary>\n",
       "    <div class=\"fmeta\">\n",
       "\n",
       "<div class=\"fmetarow\">\n",
       "    <div class=\"fmetakey\">converters:</div>\n",
       "    <div>Cale Johnson, Dirk Roorda</div>\n",
       "</div>\n",
       "\n",
       "<div class=\"fmetarow\">\n",
       "    <div class=\"fmetakey\">dateWritten:</div>\n",
       "    <div>2022-02-10T09:59:19Z</div>\n",
       "</div>\n",
       "\n",
       "<div class=\"fmetarow\">\n",
       "    <div class=\"fmetakey\">editor:</div>\n",
       "    <div>Cale Johnson et al.</div>\n",
       "</div>\n",
       "\n",
       "<div class=\"fmetarow\">\n",
       "    <div class=\"fmetakey\">name:</div>\n",
       "    <div>NinMed Medical Texts from Nineveh</div>\n",
       "</div>\n",
       "\n",
       "<div class=\"fmetarow\">\n",
       "    <div class=\"fmetakey\">project:</div>\n",
       "    <div>BabMed</div>\n",
       "</div>\n",
       "\n",
       "<div class=\"fmetarow\">\n",
       "    <div class=\"fmetakey\">writtenBy:</div>\n",
       "    <div>Text-Fabric</div>\n",
       "</div>\n",
       "\n",
       "        </div>\n",
       "    </details>\n",
       "</div>\n",
       "\n",
       "<div class=\"frow\">\n",
       "    <div class=\"fnamecat \">\n",
       "<a target=\"_blank\" href=\"https://github.com/Nino-cunei/ninmed/blob/master/docs/transcription.md\" title=\"~/text-fabric-data/Nino-cunei/ninmed/tf/0.3/atf.tf\">atf</a>\n",
       "</div>\n",
       "<div class=\"fmono\">str</div>\n",
       "<details>\n",
       "    <summary>full atf of a sign</summary>\n",
       "    <div class=\"fmeta\">\n",
       "\n",
       "<div class=\"fmetarow\">\n",
       "    <div class=\"fmetakey\">converters:</div>\n",
       "    <div>Cale Johnson, Dirk Roorda</div>\n",
       "</div>\n",
       "\n",
       "<div class=\"fmetarow\">\n",
       "    <div class=\"fmetakey\">dateWritten:</div>\n",
       "    <div>2022-02-10T09:59:19Z</div>\n",
       "</div>\n",
       "\n",
       "<div class=\"fmetarow\">\n",
       "    <div class=\"fmetakey\">editor:</div>\n",
       "    <div>Cale Johnson et al.</div>\n",
       "</div>\n",
       "\n",
       "<div class=\"fmetarow\">\n",
       "    <div class=\"fmetakey\">name:</div>\n",
       "    <div>NinMed Medical Texts from Nineveh</div>\n",
       "</div>\n",
       "\n",
       "<div class=\"fmetarow\">\n",
       "    <div class=\"fmetakey\">project:</div>\n",
       "    <div>BabMed</div>\n",
       "</div>\n",
       "\n",
       "<div class=\"fmetarow\">\n",
       "    <div class=\"fmetakey\">writtenBy:</div>\n",
       "    <div>Text-Fabric</div>\n",
       "</div>\n",
       "\n",
       "        </div>\n",
       "    </details>\n",
       "</div>\n",
       "\n",
       "<div class=\"frow\">\n",
       "    <div class=\"fnamecat \">\n",
       "<a target=\"_blank\" href=\"https://github.com/Nino-cunei/ninmed/blob/master/docs/transcription.md\" title=\"~/text-fabric-data/Nino-cunei/ninmed/tf/0.3/atfpost.tf\">atfpost</a>\n",
       "</div>\n",
       "<div class=\"fmono\">str</div>\n",
       "<details>\n",
       "    <summary>cluster characters that follow a sign or word</summary>\n",
       "    <div class=\"fmeta\">\n",
       "\n",
       "<div class=\"fmetarow\">\n",
       "    <div class=\"fmetakey\">converters:</div>\n",
       "    <div>Cale Johnson, Dirk Roorda</div>\n",
       "</div>\n",
       "\n",
       "<div class=\"fmetarow\">\n",
       "    <div class=\"fmetakey\">dateWritten:</div>\n",
       "    <div>2022-02-10T09:59:19Z</div>\n",
       "</div>\n",
       "\n",
       "<div class=\"fmetarow\">\n",
       "    <div class=\"fmetakey\">editor:</div>\n",
       "    <div>Cale Johnson et al.</div>\n",
       "</div>\n",
       "\n",
       "<div class=\"fmetarow\">\n",
       "    <div class=\"fmetakey\">name:</div>\n",
       "    <div>NinMed Medical Texts from Nineveh</div>\n",
       "</div>\n",
       "\n",
       "<div class=\"fmetarow\">\n",
       "    <div class=\"fmetakey\">project:</div>\n",
       "    <div>BabMed</div>\n",
       "</div>\n",
       "\n",
       "<div class=\"fmetarow\">\n",
       "    <div class=\"fmetakey\">writtenBy:</div>\n",
       "    <div>Text-Fabric</div>\n",
       "</div>\n",
       "\n",
       "        </div>\n",
       "    </details>\n",
       "</div>\n",
       "\n",
       "<div class=\"frow\">\n",
       "    <div class=\"fnamecat \">\n",
       "<a target=\"_blank\" href=\"https://github.com/Nino-cunei/ninmed/blob/master/docs/transcription.md\" title=\"~/text-fabric-data/Nino-cunei/ninmed/tf/0.3/atfpre.tf\">atfpre</a>\n",
       "</div>\n",
       "<div class=\"fmono\">str</div>\n",
       "<details>\n",
       "    <summary>cluster characters that precede a sign or word</summary>\n",
       "    <div class=\"fmeta\">\n",
       "\n",
       "<div class=\"fmetarow\">\n",
       "    <div class=\"fmetakey\">converters:</div>\n",
       "    <div>Cale Johnson, Dirk Roorda</div>\n",
       "</div>\n",
       "\n",
       "<div class=\"fmetarow\">\n",
       "    <div class=\"fmetakey\">dateWritten:</div>\n",
       "    <div>2022-02-10T09:59:19Z</div>\n",
       "</div>\n",
       "\n",
       "<div class=\"fmetarow\">\n",
       "    <div class=\"fmetakey\">editor:</div>\n",
       "    <div>Cale Johnson et al.</div>\n",
       "</div>\n",
       "\n",
       "<div class=\"fmetarow\">\n",
       "    <div class=\"fmetakey\">name:</div>\n",
       "    <div>NinMed Medical Texts from Nineveh</div>\n",
       "</div>\n",
       "\n",
       "<div class=\"fmetarow\">\n",
       "    <div class=\"fmetakey\">project:</div>\n",
       "    <div>BabMed</div>\n",
       "</div>\n",
       "\n",
       "<div class=\"fmetarow\">\n",
       "    <div class=\"fmetakey\">writtenBy:</div>\n",
       "    <div>Text-Fabric</div>\n",
       "</div>\n",
       "\n",
       "        </div>\n",
       "    </details>\n",
       "</div>\n",
       "\n",
       "<div class=\"frow\">\n",
       "    <div class=\"fnamecat \">\n",
       "<a target=\"_blank\" href=\"https://github.com/Nino-cunei/ninmed/blob/master/docs/transcription.md\" title=\"~/text-fabric-data/Nino-cunei/ninmed/tf/0.3/col.tf\">col</a>\n",
       "</div>\n",
       "<div class=\"fmono\">int</div>\n",
       "<details>\n",
       "    <summary>ATF column number</summary>\n",
       "    <div class=\"fmeta\">\n",
       "\n",
       "<div class=\"fmetarow\">\n",
       "    <div class=\"fmetakey\">converters:</div>\n",
       "    <div>Cale Johnson, Dirk Roorda</div>\n",
       "</div>\n",
       "\n",
       "<div class=\"fmetarow\">\n",
       "    <div class=\"fmetakey\">dateWritten:</div>\n",
       "    <div>2022-02-10T09:59:19Z</div>\n",
       "</div>\n",
       "\n",
       "<div class=\"fmetarow\">\n",
       "    <div class=\"fmetakey\">editor:</div>\n",
       "    <div>Cale Johnson et al.</div>\n",
       "</div>\n",
       "\n",
       "<div class=\"fmetarow\">\n",
       "    <div class=\"fmetakey\">name:</div>\n",
       "    <div>NinMed Medical Texts from Nineveh</div>\n",
       "</div>\n",
       "\n",
       "<div class=\"fmetarow\">\n",
       "    <div class=\"fmetakey\">project:</div>\n",
       "    <div>BabMed</div>\n",
       "</div>\n",
       "\n",
       "<div class=\"fmetarow\">\n",
       "    <div class=\"fmetakey\">writtenBy:</div>\n",
       "    <div>Text-Fabric</div>\n",
       "</div>\n",
       "\n",
       "        </div>\n",
       "    </details>\n",
       "</div>\n",
       "\n",
       "<div class=\"frow\">\n",
       "    <div class=\"fnamecat \">\n",
       "<a target=\"_blank\" href=\"https://github.com/Nino-cunei/ninmed/blob/master/docs/transcription.md\" title=\"~/text-fabric-data/Nino-cunei/ninmed/tf/0.3/collated.tf\">collated</a>\n",
       "</div>\n",
       "<div class=\"fmono\">int</div>\n",
       "<details>\n",
       "    <summary>whether a sign is collated (*)</summary>\n",
       "    <div class=\"fmeta\">\n",
       "\n",
       "<div class=\"fmetarow\">\n",
       "    <div class=\"fmetakey\">converters:</div>\n",
       "    <div>Cale Johnson, Dirk Roorda</div>\n",
       "</div>\n",
       "\n",
       "<div class=\"fmetarow\">\n",
       "    <div class=\"fmetakey\">dateWritten:</div>\n",
       "    <div>2022-02-10T09:59:19Z</div>\n",
       "</div>\n",
       "\n",
       "<div class=\"fmetarow\">\n",
       "    <div class=\"fmetakey\">editor:</div>\n",
       "    <div>Cale Johnson et al.</div>\n",
       "</div>\n",
       "\n",
       "<div class=\"fmetarow\">\n",
       "    <div class=\"fmetakey\">name:</div>\n",
       "    <div>NinMed Medical Texts from Nineveh</div>\n",
       "</div>\n",
       "\n",
       "<div class=\"fmetarow\">\n",
       "    <div class=\"fmetakey\">project:</div>\n",
       "    <div>BabMed</div>\n",
       "</div>\n",
       "\n",
       "<div class=\"fmetarow\">\n",
       "    <div class=\"fmetakey\">writtenBy:</div>\n",
       "    <div>Text-Fabric</div>\n",
       "</div>\n",
       "\n",
       "        </div>\n",
       "    </details>\n",
       "</div>\n",
       "\n",
       "<div class=\"frow\">\n",
       "    <div class=\"fnamecat \">\n",
       "<a target=\"_blank\" href=\"https://github.com/Nino-cunei/ninmed/blob/master/docs/transcription.md\" title=\"~/text-fabric-data/Nino-cunei/ninmed/tf/0.3/collection.tf\">collection</a>\n",
       "</div>\n",
       "<div class=\"fmono\">str</div>\n",
       "<details>\n",
       "    <summary>collection name from metadata field \"collection\"</summary>\n",
       "    <div class=\"fmeta\">\n",
       "\n",
       "<div class=\"fmetarow\">\n",
       "    <div class=\"fmetakey\">converters:</div>\n",
       "    <div>Cale Johnson, Dirk Roorda</div>\n",
       "</div>\n",
       "\n",
       "<div class=\"fmetarow\">\n",
       "    <div class=\"fmetakey\">dateWritten:</div>\n",
       "    <div>2022-02-10T09:59:19Z</div>\n",
       "</div>\n",
       "\n",
       "<div class=\"fmetarow\">\n",
       "    <div class=\"fmetakey\">editor:</div>\n",
       "    <div>Cale Johnson et al.</div>\n",
       "</div>\n",
       "\n",
       "<div class=\"fmetarow\">\n",
       "    <div class=\"fmetakey\">name:</div>\n",
       "    <div>NinMed Medical Texts from Nineveh</div>\n",
       "</div>\n",
       "\n",
       "<div class=\"fmetarow\">\n",
       "    <div class=\"fmetakey\">project:</div>\n",
       "    <div>BabMed</div>\n",
       "</div>\n",
       "\n",
       "<div class=\"fmetarow\">\n",
       "    <div class=\"fmetakey\">writtenBy:</div>\n",
       "    <div>Text-Fabric</div>\n",
       "</div>\n",
       "\n",
       "        </div>\n",
       "    </details>\n",
       "</div>\n",
       "\n",
       "<div class=\"frow\">\n",
       "    <div class=\"fnamecat \">\n",
       "<a target=\"_blank\" href=\"https://github.com/Nino-cunei/ninmed/blob/master/docs/transcription.md\" title=\"~/text-fabric-data/Nino-cunei/ninmed/tf/0.3/colofon.tf\">colofon</a>\n",
       "</div>\n",
       "<div class=\"fmono\">str</div>\n",
       "<details>\n",
       "    <summary>colofon comment to a line</summary>\n",
       "    <div class=\"fmeta\">\n",
       "\n",
       "<div class=\"fmetarow\">\n",
       "    <div class=\"fmetakey\">converters:</div>\n",
       "    <div>Cale Johnson, Dirk Roorda</div>\n",
       "</div>\n",
       "\n",
       "<div class=\"fmetarow\">\n",
       "    <div class=\"fmetakey\">dateWritten:</div>\n",
       "    <div>2022-02-10T09:59:19Z</div>\n",
       "</div>\n",
       "\n",
       "<div class=\"fmetarow\">\n",
       "    <div class=\"fmetakey\">editor:</div>\n",
       "    <div>Cale Johnson et al.</div>\n",
       "</div>\n",
       "\n",
       "<div class=\"fmetarow\">\n",
       "    <div class=\"fmetakey\">name:</div>\n",
       "    <div>NinMed Medical Texts from Nineveh</div>\n",
       "</div>\n",
       "\n",
       "<div class=\"fmetarow\">\n",
       "    <div class=\"fmetakey\">project:</div>\n",
       "    <div>BabMed</div>\n",
       "</div>\n",
       "\n",
       "<div class=\"fmetarow\">\n",
       "    <div class=\"fmetakey\">writtenBy:</div>\n",
       "    <div>Text-Fabric</div>\n",
       "</div>\n",
       "\n",
       "        </div>\n",
       "    </details>\n",
       "</div>\n",
       "\n",
       "<div class=\"frow\">\n",
       "    <div class=\"fnamecat \">\n",
       "<a target=\"_blank\" href=\"https://github.com/Nino-cunei/ninmed/blob/master/docs/transcription.md\" title=\"~/text-fabric-data/Nino-cunei/ninmed/tf/0.3/comment.tf\">comment</a>\n",
       "</div>\n",
       "<div class=\"fmono\">str</div>\n",
       "<details>\n",
       "    <summary>comment to a line</summary>\n",
       "    <div class=\"fmeta\">\n",
       "\n",
       "<div class=\"fmetarow\">\n",
       "    <div class=\"fmetakey\">converters:</div>\n",
       "    <div>Cale Johnson, Dirk Roorda</div>\n",
       "</div>\n",
       "\n",
       "<div class=\"fmetarow\">\n",
       "    <div class=\"fmetakey\">dateWritten:</div>\n",
       "    <div>2022-02-10T09:59:19Z</div>\n",
       "</div>\n",
       "\n",
       "<div class=\"fmetarow\">\n",
       "    <div class=\"fmetakey\">editor:</div>\n",
       "    <div>Cale Johnson et al.</div>\n",
       "</div>\n",
       "\n",
       "<div class=\"fmetarow\">\n",
       "    <div class=\"fmetakey\">name:</div>\n",
       "    <div>NinMed Medical Texts from Nineveh</div>\n",
       "</div>\n",
       "\n",
       "<div class=\"fmetarow\">\n",
       "    <div class=\"fmetakey\">project:</div>\n",
       "    <div>BabMed</div>\n",
       "</div>\n",
       "\n",
       "<div class=\"fmetarow\">\n",
       "    <div class=\"fmetakey\">writtenBy:</div>\n",
       "    <div>Text-Fabric</div>\n",
       "</div>\n",
       "\n",
       "        </div>\n",
       "    </details>\n",
       "</div>\n",
       "\n",
       "<div class=\"frow\">\n",
       "    <div class=\"fnamecat \">\n",
       "<a target=\"_blank\" href=\"https://github.com/Nino-cunei/ninmed/blob/master/docs/transcription.md\" title=\"~/text-fabric-data/Nino-cunei/ninmed/tf/0.3/damage.tf\">damage</a>\n",
       "</div>\n",
       "<div class=\"fmono\">int</div>\n",
       "<details>\n",
       "    <summary>whether a sign is damaged</summary>\n",
       "    <div class=\"fmeta\">\n",
       "\n",
       "<div class=\"fmetarow\">\n",
       "    <div class=\"fmetakey\">converters:</div>\n",
       "    <div>Cale Johnson, Dirk Roorda</div>\n",
       "</div>\n",
       "\n",
       "<div class=\"fmetarow\">\n",
       "    <div class=\"fmetakey\">dateWritten:</div>\n",
       "    <div>2022-02-10T09:59:19Z</div>\n",
       "</div>\n",
       "\n",
       "<div class=\"fmetarow\">\n",
       "    <div class=\"fmetakey\">editor:</div>\n",
       "    <div>Cale Johnson et al.</div>\n",
       "</div>\n",
       "\n",
       "<div class=\"fmetarow\">\n",
       "    <div class=\"fmetakey\">name:</div>\n",
       "    <div>NinMed Medical Texts from Nineveh</div>\n",
       "</div>\n",
       "\n",
       "<div class=\"fmetarow\">\n",
       "    <div class=\"fmetakey\">project:</div>\n",
       "    <div>BabMed</div>\n",
       "</div>\n",
       "\n",
       "<div class=\"fmetarow\">\n",
       "    <div class=\"fmetakey\">writtenBy:</div>\n",
       "    <div>Text-Fabric</div>\n",
       "</div>\n",
       "\n",
       "        </div>\n",
       "    </details>\n",
       "</div>\n",
       "\n",
       "<div class=\"frow\">\n",
       "    <div class=\"fnamecat \">\n",
       "<a target=\"_blank\" href=\"https://github.com/Nino-cunei/ninmed/blob/master/docs/transcription.md\" title=\"~/text-fabric-data/Nino-cunei/ninmed/tf/0.3/description.tf\">description</a>\n",
       "</div>\n",
       "<div class=\"fmono\">str</div>\n",
       "<details>\n",
       "    <summary>description from metadata field \"description\"</summary>\n",
       "    <div class=\"fmeta\">\n",
       "\n",
       "<div class=\"fmetarow\">\n",
       "    <div class=\"fmetakey\">converters:</div>\n",
       "    <div>Cale Johnson, Dirk Roorda</div>\n",
       "</div>\n",
       "\n",
       "<div class=\"fmetarow\">\n",
       "    <div class=\"fmetakey\">dateWritten:</div>\n",
       "    <div>2022-02-10T09:59:19Z</div>\n",
       "</div>\n",
       "\n",
       "<div class=\"fmetarow\">\n",
       "    <div class=\"fmetakey\">editor:</div>\n",
       "    <div>Cale Johnson et al.</div>\n",
       "</div>\n",
       "\n",
       "<div class=\"fmetarow\">\n",
       "    <div class=\"fmetakey\">name:</div>\n",
       "    <div>NinMed Medical Texts from Nineveh</div>\n",
       "</div>\n",
       "\n",
       "<div class=\"fmetarow\">\n",
       "    <div class=\"fmetakey\">project:</div>\n",
       "    <div>BabMed</div>\n",
       "</div>\n",
       "\n",
       "<div class=\"fmetarow\">\n",
       "    <div class=\"fmetakey\">writtenBy:</div>\n",
       "    <div>Text-Fabric</div>\n",
       "</div>\n",
       "\n",
       "        </div>\n",
       "    </details>\n",
       "</div>\n",
       "\n",
       "<div class=\"frow\">\n",
       "    <div class=\"fnamecat \">\n",
       "<a target=\"_blank\" href=\"https://github.com/Nino-cunei/ninmed/blob/master/docs/transcription.md\" title=\"~/text-fabric-data/Nino-cunei/ninmed/tf/0.3/det.tf\">det</a>\n",
       "</div>\n",
       "<div class=\"fmono\">int</div>\n",
       "<details>\n",
       "    <summary>whether a sign is a determinative gloss - between { }</summary>\n",
       "    <div class=\"fmeta\">\n",
       "\n",
       "<div class=\"fmetarow\">\n",
       "    <div class=\"fmetakey\">converters:</div>\n",
       "    <div>Cale Johnson, Dirk Roorda</div>\n",
       "</div>\n",
       "\n",
       "<div class=\"fmetarow\">\n",
       "    <div class=\"fmetakey\">dateWritten:</div>\n",
       "    <div>2022-02-10T09:59:19Z</div>\n",
       "</div>\n",
       "\n",
       "<div class=\"fmetarow\">\n",
       "    <div class=\"fmetakey\">editor:</div>\n",
       "    <div>Cale Johnson et al.</div>\n",
       "</div>\n",
       "\n",
       "<div class=\"fmetarow\">\n",
       "    <div class=\"fmetakey\">name:</div>\n",
       "    <div>NinMed Medical Texts from Nineveh</div>\n",
       "</div>\n",
       "\n",
       "<div class=\"fmetarow\">\n",
       "    <div class=\"fmetakey\">project:</div>\n",
       "    <div>BabMed</div>\n",
       "</div>\n",
       "\n",
       "<div class=\"fmetarow\">\n",
       "    <div class=\"fmetakey\">writtenBy:</div>\n",
       "    <div>Text-Fabric</div>\n",
       "</div>\n",
       "\n",
       "        </div>\n",
       "    </details>\n",
       "</div>\n",
       "\n",
       "<div class=\"frow\">\n",
       "    <div class=\"fnamecat \">\n",
       "<a target=\"_blank\" href=\"https://github.com/Nino-cunei/ninmed/blob/master/docs/transcription.md\" title=\"~/text-fabric-data/Nino-cunei/ninmed/tf/0.3/docnumber.tf\">docnumber</a>\n",
       "</div>\n",
       "<div class=\"fmono\">str</div>\n",
       "<details>\n",
       "    <summary>document number from metadata field \"number\"</summary>\n",
       "    <div class=\"fmeta\">\n",
       "\n",
       "<div class=\"fmetarow\">\n",
       "    <div class=\"fmetakey\">converters:</div>\n",
       "    <div>Cale Johnson, Dirk Roorda</div>\n",
       "</div>\n",
       "\n",
       "<div class=\"fmetarow\">\n",
       "    <div class=\"fmetakey\">dateWritten:</div>\n",
       "    <div>2022-02-10T09:59:19Z</div>\n",
       "</div>\n",
       "\n",
       "<div class=\"fmetarow\">\n",
       "    <div class=\"fmetakey\">editor:</div>\n",
       "    <div>Cale Johnson et al.</div>\n",
       "</div>\n",
       "\n",
       "<div class=\"fmetarow\">\n",
       "    <div class=\"fmetakey\">name:</div>\n",
       "    <div>NinMed Medical Texts from Nineveh</div>\n",
       "</div>\n",
       "\n",
       "<div class=\"fmetarow\">\n",
       "    <div class=\"fmetakey\">project:</div>\n",
       "    <div>BabMed</div>\n",
       "</div>\n",
       "\n",
       "<div class=\"fmetarow\">\n",
       "    <div class=\"fmetakey\">writtenBy:</div>\n",
       "    <div>Text-Fabric</div>\n",
       "</div>\n",
       "\n",
       "        </div>\n",
       "    </details>\n",
       "</div>\n",
       "\n",
       "<div class=\"frow\">\n",
       "    <div class=\"fnamecat \">\n",
       "<a target=\"_blank\" href=\"https://github.com/Nino-cunei/ninmed/blob/master/docs/transcription.md\" title=\"~/text-fabric-data/Nino-cunei/ninmed/tf/0.3/erasure.tf\">erasure</a>\n",
       "</div>\n",
       "<div class=\"fmono\">int</div>\n",
       "<details>\n",
       "    <summary>whether a sign is in an erasure - between ° / °: 1: between ° and /; 2: between / and °</summary>\n",
       "    <div class=\"fmeta\">\n",
       "\n",
       "<div class=\"fmetarow\">\n",
       "    <div class=\"fmetakey\">converters:</div>\n",
       "    <div>Cale Johnson, Dirk Roorda</div>\n",
       "</div>\n",
       "\n",
       "<div class=\"fmetarow\">\n",
       "    <div class=\"fmetakey\">dateWritten:</div>\n",
       "    <div>2022-02-10T09:59:19Z</div>\n",
       "</div>\n",
       "\n",
       "<div class=\"fmetarow\">\n",
       "    <div class=\"fmetakey\">editor:</div>\n",
       "    <div>Cale Johnson et al.</div>\n",
       "</div>\n",
       "\n",
       "<div class=\"fmetarow\">\n",
       "    <div class=\"fmetakey\">name:</div>\n",
       "    <div>NinMed Medical Texts from Nineveh</div>\n",
       "</div>\n",
       "\n",
       "<div class=\"fmetarow\">\n",
       "    <div class=\"fmetakey\">project:</div>\n",
       "    <div>BabMed</div>\n",
       "</div>\n",
       "\n",
       "<div class=\"fmetarow\">\n",
       "    <div class=\"fmetakey\">writtenBy:</div>\n",
       "    <div>Text-Fabric</div>\n",
       "</div>\n",
       "\n",
       "        </div>\n",
       "    </details>\n",
       "</div>\n",
       "\n",
       "<div class=\"frow\">\n",
       "    <div class=\"fnamecat \">\n",
       "<a target=\"_blank\" href=\"https://github.com/Nino-cunei/ninmed/blob/master/docs/transcription.md\" title=\"~/text-fabric-data/Nino-cunei/ninmed/tf/0.3/excised.tf\">excised</a>\n",
       "</div>\n",
       "<div class=\"fmono\">int</div>\n",
       "<details>\n",
       "    <summary>whether a sign is excised - between << >></summary>\n",
       "    <div class=\"fmeta\">\n",
       "\n",
       "<div class=\"fmetarow\">\n",
       "    <div class=\"fmetakey\">converters:</div>\n",
       "    <div>Cale Johnson, Dirk Roorda</div>\n",
       "</div>\n",
       "\n",
       "<div class=\"fmetarow\">\n",
       "    <div class=\"fmetakey\">dateWritten:</div>\n",
       "    <div>2022-02-10T09:59:19Z</div>\n",
       "</div>\n",
       "\n",
       "<div class=\"fmetarow\">\n",
       "    <div class=\"fmetakey\">editor:</div>\n",
       "    <div>Cale Johnson et al.</div>\n",
       "</div>\n",
       "\n",
       "<div class=\"fmetarow\">\n",
       "    <div class=\"fmetakey\">name:</div>\n",
       "    <div>NinMed Medical Texts from Nineveh</div>\n",
       "</div>\n",
       "\n",
       "<div class=\"fmetarow\">\n",
       "    <div class=\"fmetakey\">project:</div>\n",
       "    <div>BabMed</div>\n",
       "</div>\n",
       "\n",
       "<div class=\"fmetarow\">\n",
       "    <div class=\"fmetakey\">writtenBy:</div>\n",
       "    <div>Text-Fabric</div>\n",
       "</div>\n",
       "\n",
       "        </div>\n",
       "    </details>\n",
       "</div>\n",
       "\n",
       "<div class=\"frow\">\n",
       "    <div class=\"fnamecat \">\n",
       "<a target=\"_blank\" href=\"https://github.com/Nino-cunei/ninmed/blob/master/docs/transcription.md\" title=\"~/text-fabric-data/Nino-cunei/ninmed/tf/0.3/face.tf\">face</a>\n",
       "</div>\n",
       "<div class=\"fmono\">str</div>\n",
       "<details>\n",
       "    <summary>full name of a face including the enclosing object</summary>\n",
       "    <div class=\"fmeta\">\n",
       "\n",
       "<div class=\"fmetarow\">\n",
       "    <div class=\"fmetakey\">converters:</div>\n",
       "    <div>Cale Johnson, Dirk Roorda</div>\n",
       "</div>\n",
       "\n",
       "<div class=\"fmetarow\">\n",
       "    <div class=\"fmetakey\">dateWritten:</div>\n",
       "    <div>2022-02-10T09:59:19Z</div>\n",
       "</div>\n",
       "\n",
       "<div class=\"fmetarow\">\n",
       "    <div class=\"fmetakey\">editor:</div>\n",
       "    <div>Cale Johnson et al.</div>\n",
       "</div>\n",
       "\n",
       "<div class=\"fmetarow\">\n",
       "    <div class=\"fmetakey\">name:</div>\n",
       "    <div>NinMed Medical Texts from Nineveh</div>\n",
       "</div>\n",
       "\n",
       "<div class=\"fmetarow\">\n",
       "    <div class=\"fmetakey\">project:</div>\n",
       "    <div>BabMed</div>\n",
       "</div>\n",
       "\n",
       "<div class=\"fmetarow\">\n",
       "    <div class=\"fmetakey\">writtenBy:</div>\n",
       "    <div>Text-Fabric</div>\n",
       "</div>\n",
       "\n",
       "        </div>\n",
       "    </details>\n",
       "</div>\n",
       "\n",
       "<div class=\"frow\">\n",
       "    <div class=\"fnamecat \">\n",
       "<a target=\"_blank\" href=\"https://github.com/Nino-cunei/ninmed/blob/master/docs/transcription.md\" title=\"~/text-fabric-data/Nino-cunei/ninmed/tf/0.3/flags.tf\">flags</a>\n",
       "</div>\n",
       "<div class=\"fmono\">str</div>\n",
       "<details>\n",
       "    <summary>sequence of flags after a sign</summary>\n",
       "    <div class=\"fmeta\">\n",
       "\n",
       "<div class=\"fmetarow\">\n",
       "    <div class=\"fmetakey\">converters:</div>\n",
       "    <div>Cale Johnson, Dirk Roorda</div>\n",
       "</div>\n",
       "\n",
       "<div class=\"fmetarow\">\n",
       "    <div class=\"fmetakey\">dateWritten:</div>\n",
       "    <div>2022-02-10T09:59:19Z</div>\n",
       "</div>\n",
       "\n",
       "<div class=\"fmetarow\">\n",
       "    <div class=\"fmetakey\">editor:</div>\n",
       "    <div>Cale Johnson et al.</div>\n",
       "</div>\n",
       "\n",
       "<div class=\"fmetarow\">\n",
       "    <div class=\"fmetakey\">name:</div>\n",
       "    <div>NinMed Medical Texts from Nineveh</div>\n",
       "</div>\n",
       "\n",
       "<div class=\"fmetarow\">\n",
       "    <div class=\"fmetakey\">project:</div>\n",
       "    <div>BabMed</div>\n",
       "</div>\n",
       "\n",
       "<div class=\"fmetarow\">\n",
       "    <div class=\"fmetakey\">writtenBy:</div>\n",
       "    <div>Text-Fabric</div>\n",
       "</div>\n",
       "\n",
       "        </div>\n",
       "    </details>\n",
       "</div>\n",
       "\n",
       "<div class=\"frow\">\n",
       "    <div class=\"fnamecat \">\n",
       "<a target=\"_blank\" href=\"https://github.com/Nino-cunei/ninmed/blob/master/docs/transcription.md\" title=\"~/text-fabric-data/Nino-cunei/ninmed/tf/0.3/gloss.tf\">gloss</a>\n",
       "</div>\n",
       "<div class=\"fmono\">int</div>\n",
       "<details>\n",
       "    <summary>whether a sign belongs to a gloss - between {( )}</summary>\n",
       "    <div class=\"fmeta\">\n",
       "\n",
       "<div class=\"fmetarow\">\n",
       "    <div class=\"fmetakey\">converters:</div>\n",
       "    <div>Cale Johnson, Dirk Roorda</div>\n",
       "</div>\n",
       "\n",
       "<div class=\"fmetarow\">\n",
       "    <div class=\"fmetakey\">dateWritten:</div>\n",
       "    <div>2022-02-10T09:59:19Z</div>\n",
       "</div>\n",
       "\n",
       "<div class=\"fmetarow\">\n",
       "    <div class=\"fmetakey\">editor:</div>\n",
       "    <div>Cale Johnson et al.</div>\n",
       "</div>\n",
       "\n",
       "<div class=\"fmetarow\">\n",
       "    <div class=\"fmetakey\">name:</div>\n",
       "    <div>NinMed Medical Texts from Nineveh</div>\n",
       "</div>\n",
       "\n",
       "<div class=\"fmetarow\">\n",
       "    <div class=\"fmetakey\">project:</div>\n",
       "    <div>BabMed</div>\n",
       "</div>\n",
       "\n",
       "<div class=\"fmetarow\">\n",
       "    <div class=\"fmetakey\">writtenBy:</div>\n",
       "    <div>Text-Fabric</div>\n",
       "</div>\n",
       "\n",
       "        </div>\n",
       "    </details>\n",
       "</div>\n",
       "\n",
       "<div class=\"frow\">\n",
       "    <div class=\"fnamecat \">\n",
       "<a target=\"_blank\" href=\"https://github.com/Nino-cunei/ninmed/blob/master/docs/transcription.md\" title=\"~/text-fabric-data/Nino-cunei/ninmed/tf/0.3/grapheme.tf\">grapheme</a>\n",
       "</div>\n",
       "<div class=\"fmono\">str</div>\n",
       "<details>\n",
       "    <summary>grapheme of a sign</summary>\n",
       "    <div class=\"fmeta\">\n",
       "\n",
       "<div class=\"fmetarow\">\n",
       "    <div class=\"fmetakey\">converters:</div>\n",
       "    <div>Cale Johnson, Dirk Roorda</div>\n",
       "</div>\n",
       "\n",
       "<div class=\"fmetarow\">\n",
       "    <div class=\"fmetakey\">dateWritten:</div>\n",
       "    <div>2022-02-10T09:59:19Z</div>\n",
       "</div>\n",
       "\n",
       "<div class=\"fmetarow\">\n",
       "    <div class=\"fmetakey\">editor:</div>\n",
       "    <div>Cale Johnson et al.</div>\n",
       "</div>\n",
       "\n",
       "<div class=\"fmetarow\">\n",
       "    <div class=\"fmetakey\">name:</div>\n",
       "    <div>NinMed Medical Texts from Nineveh</div>\n",
       "</div>\n",
       "\n",
       "<div class=\"fmetarow\">\n",
       "    <div class=\"fmetakey\">project:</div>\n",
       "    <div>BabMed</div>\n",
       "</div>\n",
       "\n",
       "<div class=\"fmetarow\">\n",
       "    <div class=\"fmetakey\">writtenBy:</div>\n",
       "    <div>Text-Fabric</div>\n",
       "</div>\n",
       "\n",
       "        </div>\n",
       "    </details>\n",
       "</div>\n",
       "\n",
       "<div class=\"frow\">\n",
       "    <div class=\"fnamecat \">\n",
       "<a target=\"_blank\" href=\"https://github.com/Nino-cunei/ninmed/blob/master/docs/transcription.md\" title=\"~/text-fabric-data/Nino-cunei/ninmed/tf/0.3/lang.tf\">lang</a>\n",
       "</div>\n",
       "<div class=\"fmono\">str</div>\n",
       "<details>\n",
       "    <summary>language of a document, word, or sign: absent: Akkadian; sux: Sumerian; sb: Standard Babylonian</summary>\n",
       "    <div class=\"fmeta\">\n",
       "\n",
       "<div class=\"fmetarow\">\n",
       "    <div class=\"fmetakey\">converters:</div>\n",
       "    <div>Cale Johnson, Dirk Roorda</div>\n",
       "</div>\n",
       "\n",
       "<div class=\"fmetarow\">\n",
       "    <div class=\"fmetakey\">dateWritten:</div>\n",
       "    <div>2022-02-10T09:59:19Z</div>\n",
       "</div>\n",
       "\n",
       "<div class=\"fmetarow\">\n",
       "    <div class=\"fmetakey\">editor:</div>\n",
       "    <div>Cale Johnson et al.</div>\n",
       "</div>\n",
       "\n",
       "<div class=\"fmetarow\">\n",
       "    <div class=\"fmetakey\">name:</div>\n",
       "    <div>NinMed Medical Texts from Nineveh</div>\n",
       "</div>\n",
       "\n",
       "<div class=\"fmetarow\">\n",
       "    <div class=\"fmetakey\">project:</div>\n",
       "    <div>BabMed</div>\n",
       "</div>\n",
       "\n",
       "<div class=\"fmetarow\">\n",
       "    <div class=\"fmetakey\">writtenBy:</div>\n",
       "    <div>Text-Fabric</div>\n",
       "</div>\n",
       "\n",
       "        </div>\n",
       "    </details>\n",
       "</div>\n",
       "\n",
       "<div class=\"frow\">\n",
       "    <div class=\"fnamecat \">\n",
       "<a target=\"_blank\" href=\"https://github.com/Nino-cunei/ninmed/blob/master/docs/transcription.md\" title=\"~/text-fabric-data/Nino-cunei/ninmed/tf/0.3/lemma.tf\">lemma</a>\n",
       "</div>\n",
       "<div class=\"fmono\">str</div>\n",
       "<details>\n",
       "    <summary>lemma of a word:comma-separated values of the uniqueLemma field in the JSON source</summary>\n",
       "    <div class=\"fmeta\">\n",
       "\n",
       "<div class=\"fmetarow\">\n",
       "    <div class=\"fmetakey\">converters:</div>\n",
       "    <div>Cale Johnson, Dirk Roorda</div>\n",
       "</div>\n",
       "\n",
       "<div class=\"fmetarow\">\n",
       "    <div class=\"fmetakey\">dateWritten:</div>\n",
       "    <div>2022-02-10T09:59:19Z</div>\n",
       "</div>\n",
       "\n",
       "<div class=\"fmetarow\">\n",
       "    <div class=\"fmetakey\">editor:</div>\n",
       "    <div>Cale Johnson et al.</div>\n",
       "</div>\n",
       "\n",
       "<div class=\"fmetarow\">\n",
       "    <div class=\"fmetakey\">name:</div>\n",
       "    <div>NinMed Medical Texts from Nineveh</div>\n",
       "</div>\n",
       "\n",
       "<div class=\"fmetarow\">\n",
       "    <div class=\"fmetakey\">project:</div>\n",
       "    <div>BabMed</div>\n",
       "</div>\n",
       "\n",
       "<div class=\"fmetarow\">\n",
       "    <div class=\"fmetakey\">writtenBy:</div>\n",
       "    <div>Text-Fabric</div>\n",
       "</div>\n",
       "\n",
       "        </div>\n",
       "    </details>\n",
       "</div>\n",
       "\n",
       "<div class=\"frow\">\n",
       "    <div class=\"fnamecat \">\n",
       "<a target=\"_blank\" href=\"https://github.com/Nino-cunei/ninmed/blob/master/docs/transcription.md\" title=\"~/text-fabric-data/Nino-cunei/ninmed/tf/0.3/lln.tf\">lln</a>\n",
       "</div>\n",
       "<div class=\"fmono\">int</div>\n",
       "<details>\n",
       "    <summary>logical line number of a numbered line</summary>\n",
       "    <div class=\"fmeta\">\n",
       "\n",
       "<div class=\"fmetarow\">\n",
       "    <div class=\"fmetakey\">converters:</div>\n",
       "    <div>Cale Johnson, Dirk Roorda</div>\n",
       "</div>\n",
       "\n",
       "<div class=\"fmetarow\">\n",
       "    <div class=\"fmetakey\">dateWritten:</div>\n",
       "    <div>2022-02-10T09:59:19Z</div>\n",
       "</div>\n",
       "\n",
       "<div class=\"fmetarow\">\n",
       "    <div class=\"fmetakey\">editor:</div>\n",
       "    <div>Cale Johnson et al.</div>\n",
       "</div>\n",
       "\n",
       "<div class=\"fmetarow\">\n",
       "    <div class=\"fmetakey\">name:</div>\n",
       "    <div>NinMed Medical Texts from Nineveh</div>\n",
       "</div>\n",
       "\n",
       "<div class=\"fmetarow\">\n",
       "    <div class=\"fmetakey\">project:</div>\n",
       "    <div>BabMed</div>\n",
       "</div>\n",
       "\n",
       "<div class=\"fmetarow\">\n",
       "    <div class=\"fmetakey\">writtenBy:</div>\n",
       "    <div>Text-Fabric</div>\n",
       "</div>\n",
       "\n",
       "        </div>\n",
       "    </details>\n",
       "</div>\n",
       "\n",
       "<div class=\"frow\">\n",
       "    <div class=\"fnamecat \">\n",
       "<a target=\"_blank\" href=\"https://github.com/Nino-cunei/ninmed/blob/master/docs/transcription.md\" title=\"~/text-fabric-data/Nino-cunei/ninmed/tf/0.3/ln.tf\">ln</a>\n",
       "</div>\n",
       "<div class=\"fmono\">int</div>\n",
       "<details>\n",
       "    <summary>ATF line number of a numbered line, without prime</summary>\n",
       "    <div class=\"fmeta\">\n",
       "\n",
       "<div class=\"fmetarow\">\n",
       "    <div class=\"fmetakey\">converters:</div>\n",
       "    <div>Cale Johnson, Dirk Roorda</div>\n",
       "</div>\n",
       "\n",
       "<div class=\"fmetarow\">\n",
       "    <div class=\"fmetakey\">dateWritten:</div>\n",
       "    <div>2022-02-10T09:59:19Z</div>\n",
       "</div>\n",
       "\n",
       "<div class=\"fmetarow\">\n",
       "    <div class=\"fmetakey\">editor:</div>\n",
       "    <div>Cale Johnson et al.</div>\n",
       "</div>\n",
       "\n",
       "<div class=\"fmetarow\">\n",
       "    <div class=\"fmetakey\">name:</div>\n",
       "    <div>NinMed Medical Texts from Nineveh</div>\n",
       "</div>\n",
       "\n",
       "<div class=\"fmetarow\">\n",
       "    <div class=\"fmetakey\">project:</div>\n",
       "    <div>BabMed</div>\n",
       "</div>\n",
       "\n",
       "<div class=\"fmetarow\">\n",
       "    <div class=\"fmetakey\">writtenBy:</div>\n",
       "    <div>Text-Fabric</div>\n",
       "</div>\n",
       "\n",
       "        </div>\n",
       "    </details>\n",
       "</div>\n",
       "\n",
       "<div class=\"frow\">\n",
       "    <div class=\"fnamecat \">\n",
       "<a target=\"_blank\" href=\"https://github.com/Nino-cunei/ninmed/blob/master/docs/transcription.md\" title=\"~/text-fabric-data/Nino-cunei/ninmed/tf/0.3/lnno.tf\">lnno</a>\n",
       "</div>\n",
       "<div class=\"fmono\">str</div>\n",
       "<details>\n",
       "    <summary>ATF line number, may be $ or #, with prime; column number prepended</summary>\n",
       "    <div class=\"fmeta\">\n",
       "\n",
       "<div class=\"fmetarow\">\n",
       "    <div class=\"fmetakey\">converters:</div>\n",
       "    <div>Cale Johnson, Dirk Roorda</div>\n",
       "</div>\n",
       "\n",
       "<div class=\"fmetarow\">\n",
       "    <div class=\"fmetakey\">dateWritten:</div>\n",
       "    <div>2022-02-10T09:59:19Z</div>\n",
       "</div>\n",
       "\n",
       "<div class=\"fmetarow\">\n",
       "    <div class=\"fmetakey\">editor:</div>\n",
       "    <div>Cale Johnson et al.</div>\n",
       "</div>\n",
       "\n",
       "<div class=\"fmetarow\">\n",
       "    <div class=\"fmetakey\">name:</div>\n",
       "    <div>NinMed Medical Texts from Nineveh</div>\n",
       "</div>\n",
       "\n",
       "<div class=\"fmetarow\">\n",
       "    <div class=\"fmetakey\">project:</div>\n",
       "    <div>BabMed</div>\n",
       "</div>\n",
       "\n",
       "<div class=\"fmetarow\">\n",
       "    <div class=\"fmetakey\">writtenBy:</div>\n",
       "    <div>Text-Fabric</div>\n",
       "</div>\n",
       "\n",
       "        </div>\n",
       "    </details>\n",
       "</div>\n",
       "\n",
       "<div class=\"frow\">\n",
       "    <div class=\"fnamecat \">\n",
       "<a target=\"_blank\" href=\"https://github.com/Nino-cunei/ninmed/blob/master/docs/transcription.md\" title=\"~/text-fabric-data/Nino-cunei/ninmed/tf/0.3/missing.tf\">missing</a>\n",
       "</div>\n",
       "<div class=\"fmono\">int</div>\n",
       "<details>\n",
       "    <summary>whether a sign is missing - between [ ]</summary>\n",
       "    <div class=\"fmeta\">\n",
       "\n",
       "<div class=\"fmetarow\">\n",
       "    <div class=\"fmetakey\">converters:</div>\n",
       "    <div>Cale Johnson, Dirk Roorda</div>\n",
       "</div>\n",
       "\n",
       "<div class=\"fmetarow\">\n",
       "    <div class=\"fmetakey\">dateWritten:</div>\n",
       "    <div>2022-02-10T09:59:19Z</div>\n",
       "</div>\n",
       "\n",
       "<div class=\"fmetarow\">\n",
       "    <div class=\"fmetakey\">editor:</div>\n",
       "    <div>Cale Johnson et al.</div>\n",
       "</div>\n",
       "\n",
       "<div class=\"fmetarow\">\n",
       "    <div class=\"fmetakey\">name:</div>\n",
       "    <div>NinMed Medical Texts from Nineveh</div>\n",
       "</div>\n",
       "\n",
       "<div class=\"fmetarow\">\n",
       "    <div class=\"fmetakey\">project:</div>\n",
       "    <div>BabMed</div>\n",
       "</div>\n",
       "\n",
       "<div class=\"fmetarow\">\n",
       "    <div class=\"fmetakey\">writtenBy:</div>\n",
       "    <div>Text-Fabric</div>\n",
       "</div>\n",
       "\n",
       "        </div>\n",
       "    </details>\n",
       "</div>\n",
       "\n",
       "<div class=\"frow\">\n",
       "    <div class=\"fnamecat \">\n",
       "<a target=\"_blank\" href=\"https://github.com/Nino-cunei/ninmed/blob/master/docs/transcription.md\" title=\"~/text-fabric-data/Nino-cunei/ninmed/tf/0.3/modifiers.tf\">modifiers</a>\n",
       "</div>\n",
       "<div class=\"fmono\">str</div>\n",
       "<details>\n",
       "    <summary>sequence of modifiers after a sign</summary>\n",
       "    <div class=\"fmeta\">\n",
       "\n",
       "<div class=\"fmetarow\">\n",
       "    <div class=\"fmetakey\">converters:</div>\n",
       "    <div>Cale Johnson, Dirk Roorda</div>\n",
       "</div>\n",
       "\n",
       "<div class=\"fmetarow\">\n",
       "    <div class=\"fmetakey\">dateWritten:</div>\n",
       "    <div>2022-02-10T09:59:19Z</div>\n",
       "</div>\n",
       "\n",
       "<div class=\"fmetarow\">\n",
       "    <div class=\"fmetakey\">editor:</div>\n",
       "    <div>Cale Johnson et al.</div>\n",
       "</div>\n",
       "\n",
       "<div class=\"fmetarow\">\n",
       "    <div class=\"fmetakey\">name:</div>\n",
       "    <div>NinMed Medical Texts from Nineveh</div>\n",
       "</div>\n",
       "\n",
       "<div class=\"fmetarow\">\n",
       "    <div class=\"fmetakey\">project:</div>\n",
       "    <div>BabMed</div>\n",
       "</div>\n",
       "\n",
       "<div class=\"fmetarow\">\n",
       "    <div class=\"fmetakey\">writtenBy:</div>\n",
       "    <div>Text-Fabric</div>\n",
       "</div>\n",
       "\n",
       "        </div>\n",
       "    </details>\n",
       "</div>\n",
       "\n",
       "<div class=\"frow\">\n",
       "    <div class=\"fnamecat \">\n",
       "<a target=\"_blank\" href=\"https://github.com/Nino-cunei/ninmed/blob/master/docs/transcription.md\" title=\"~/text-fabric-data/Nino-cunei/ninmed/tf/0.3/museum.tf\">museum</a>\n",
       "</div>\n",
       "<div class=\"fmono\">str</div>\n",
       "<details>\n",
       "    <summary>museum name from metadata field \"museum.name\"</summary>\n",
       "    <div class=\"fmeta\">\n",
       "\n",
       "<div class=\"fmetarow\">\n",
       "    <div class=\"fmetakey\">converters:</div>\n",
       "    <div>Cale Johnson, Dirk Roorda</div>\n",
       "</div>\n",
       "\n",
       "<div class=\"fmetarow\">\n",
       "    <div class=\"fmetakey\">dateWritten:</div>\n",
       "    <div>2022-02-10T09:59:19Z</div>\n",
       "</div>\n",
       "\n",
       "<div class=\"fmetarow\">\n",
       "    <div class=\"fmetakey\">editor:</div>\n",
       "    <div>Cale Johnson et al.</div>\n",
       "</div>\n",
       "\n",
       "<div class=\"fmetarow\">\n",
       "    <div class=\"fmetakey\">name:</div>\n",
       "    <div>NinMed Medical Texts from Nineveh</div>\n",
       "</div>\n",
       "\n",
       "<div class=\"fmetarow\">\n",
       "    <div class=\"fmetakey\">project:</div>\n",
       "    <div>BabMed</div>\n",
       "</div>\n",
       "\n",
       "<div class=\"fmetarow\">\n",
       "    <div class=\"fmetakey\">writtenBy:</div>\n",
       "    <div>Text-Fabric</div>\n",
       "</div>\n",
       "\n",
       "        </div>\n",
       "    </details>\n",
       "</div>\n",
       "\n",
       "<div class=\"frow\">\n",
       "    <div class=\"fnamecat \">\n",
       "<a target=\"_blank\" href=\"https://github.com/Nino-cunei/ninmed/blob/master/docs/transcription.md\" title=\"~/text-fabric-data/Nino-cunei/ninmed/tf/0.3/note.tf\">note</a>\n",
       "</div>\n",
       "<div class=\"fmono\">str</div>\n",
       "<details>\n",
       "    <summary>note comment to a line</summary>\n",
       "    <div class=\"fmeta\">\n",
       "\n",
       "<div class=\"fmetarow\">\n",
       "    <div class=\"fmetakey\">converters:</div>\n",
       "    <div>Cale Johnson, Dirk Roorda</div>\n",
       "</div>\n",
       "\n",
       "<div class=\"fmetarow\">\n",
       "    <div class=\"fmetakey\">dateWritten:</div>\n",
       "    <div>2022-02-10T09:59:19Z</div>\n",
       "</div>\n",
       "\n",
       "<div class=\"fmetarow\">\n",
       "    <div class=\"fmetakey\">editor:</div>\n",
       "    <div>Cale Johnson et al.</div>\n",
       "</div>\n",
       "\n",
       "<div class=\"fmetarow\">\n",
       "    <div class=\"fmetakey\">name:</div>\n",
       "    <div>NinMed Medical Texts from Nineveh</div>\n",
       "</div>\n",
       "\n",
       "<div class=\"fmetarow\">\n",
       "    <div class=\"fmetakey\">project:</div>\n",
       "    <div>BabMed</div>\n",
       "</div>\n",
       "\n",
       "<div class=\"fmetarow\">\n",
       "    <div class=\"fmetakey\">writtenBy:</div>\n",
       "    <div>Text-Fabric</div>\n",
       "</div>\n",
       "\n",
       "        </div>\n",
       "    </details>\n",
       "</div>\n",
       "\n",
       "<div class=\"frow\">\n",
       "    <div class=\"fnamecat \">\n",
       "<a target=\"_blank\" href=\"https://github.com/Nino-cunei/ninmed/blob/master/docs/transcription.md\" title=\"~/text-fabric-data/Nino-cunei/ninmed/tf/0.3/number.tf\">number</a>\n",
       "</div>\n",
       "<div class=\"fmono\">int</div>\n",
       "<details>\n",
       "    <summary>numeric value of a number sign</summary>\n",
       "    <div class=\"fmeta\">\n",
       "\n",
       "<div class=\"fmetarow\">\n",
       "    <div class=\"fmetakey\">converters:</div>\n",
       "    <div>Cale Johnson, Dirk Roorda</div>\n",
       "</div>\n",
       "\n",
       "<div class=\"fmetarow\">\n",
       "    <div class=\"fmetakey\">dateWritten:</div>\n",
       "    <div>2022-02-10T09:59:19Z</div>\n",
       "</div>\n",
       "\n",
       "<div class=\"fmetarow\">\n",
       "    <div class=\"fmetakey\">editor:</div>\n",
       "    <div>Cale Johnson et al.</div>\n",
       "</div>\n",
       "\n",
       "<div class=\"fmetarow\">\n",
       "    <div class=\"fmetakey\">name:</div>\n",
       "    <div>NinMed Medical Texts from Nineveh</div>\n",
       "</div>\n",
       "\n",
       "<div class=\"fmetarow\">\n",
       "    <div class=\"fmetakey\">project:</div>\n",
       "    <div>BabMed</div>\n",
       "</div>\n",
       "\n",
       "<div class=\"fmetarow\">\n",
       "    <div class=\"fmetakey\">writtenBy:</div>\n",
       "    <div>Text-Fabric</div>\n",
       "</div>\n",
       "\n",
       "        </div>\n",
       "    </details>\n",
       "</div>\n",
       "\n",
       "<div class=\"frow\">\n",
       "    <div class=\"fnamecat \">\n",
       "<a target=\"_blank\" href=\"https://github.com/Nino-cunei/ninmed/blob/master/docs/transcription.md\" title=\"~/text-fabric-data/Nino-cunei/ninmed/tf/0.3/otype.tf\">otype</a>\n",
       "</div>\n",
       "<div class=\"fmono\">str</div>\n",
       "<details>\n",
       "    <summary></summary>\n",
       "    <div class=\"fmeta\">\n",
       "\n",
       "<div class=\"fmetarow\">\n",
       "    <div class=\"fmetakey\">converters:</div>\n",
       "    <div>Cale Johnson, Dirk Roorda</div>\n",
       "</div>\n",
       "\n",
       "<div class=\"fmetarow\">\n",
       "    <div class=\"fmetakey\">dateWritten:</div>\n",
       "    <div>2022-02-10T09:59:19Z</div>\n",
       "</div>\n",
       "\n",
       "<div class=\"fmetarow\">\n",
       "    <div class=\"fmetakey\">editor:</div>\n",
       "    <div>Cale Johnson et al.</div>\n",
       "</div>\n",
       "\n",
       "<div class=\"fmetarow\">\n",
       "    <div class=\"fmetakey\">name:</div>\n",
       "    <div>NinMed Medical Texts from Nineveh</div>\n",
       "</div>\n",
       "\n",
       "<div class=\"fmetarow\">\n",
       "    <div class=\"fmetakey\">project:</div>\n",
       "    <div>BabMed</div>\n",
       "</div>\n",
       "\n",
       "<div class=\"fmetarow\">\n",
       "    <div class=\"fmetakey\">writtenBy:</div>\n",
       "    <div>Text-Fabric</div>\n",
       "</div>\n",
       "\n",
       "        </div>\n",
       "    </details>\n",
       "</div>\n",
       "\n",
       "<div class=\"frow\">\n",
       "    <div class=\"fnamecat \">\n",
       "<a target=\"_blank\" href=\"https://github.com/Nino-cunei/ninmed/blob/master/docs/transcription.md\" title=\"~/text-fabric-data/Nino-cunei/ninmed/tf/0.3/pnumber.tf\">pnumber</a>\n",
       "</div>\n",
       "<div class=\"fmono\">str</div>\n",
       "<details>\n",
       "    <summary>P number of a document</summary>\n",
       "    <div class=\"fmeta\">\n",
       "\n",
       "<div class=\"fmetarow\">\n",
       "    <div class=\"fmetakey\">converters:</div>\n",
       "    <div>Cale Johnson, Dirk Roorda</div>\n",
       "</div>\n",
       "\n",
       "<div class=\"fmetarow\">\n",
       "    <div class=\"fmetakey\">dateWritten:</div>\n",
       "    <div>2022-02-10T09:59:19Z</div>\n",
       "</div>\n",
       "\n",
       "<div class=\"fmetarow\">\n",
       "    <div class=\"fmetakey\">editor:</div>\n",
       "    <div>Cale Johnson et al.</div>\n",
       "</div>\n",
       "\n",
       "<div class=\"fmetarow\">\n",
       "    <div class=\"fmetakey\">name:</div>\n",
       "    <div>NinMed Medical Texts from Nineveh</div>\n",
       "</div>\n",
       "\n",
       "<div class=\"fmetarow\">\n",
       "    <div class=\"fmetakey\">project:</div>\n",
       "    <div>BabMed</div>\n",
       "</div>\n",
       "\n",
       "<div class=\"fmetarow\">\n",
       "    <div class=\"fmetakey\">writtenBy:</div>\n",
       "    <div>Text-Fabric</div>\n",
       "</div>\n",
       "\n",
       "        </div>\n",
       "    </details>\n",
       "</div>\n",
       "\n",
       "<div class=\"frow\">\n",
       "    <div class=\"fnamecat \">\n",
       "<a target=\"_blank\" href=\"https://github.com/Nino-cunei/ninmed/blob/master/docs/transcription.md\" title=\"~/text-fabric-data/Nino-cunei/ninmed/tf/0.3/primecol.tf\">primecol</a>\n",
       "</div>\n",
       "<div class=\"fmono\">int</div>\n",
       "<details>\n",
       "    <summary>whether a prime is present on a column number</summary>\n",
       "    <div class=\"fmeta\">\n",
       "\n",
       "<div class=\"fmetarow\">\n",
       "    <div class=\"fmetakey\">converters:</div>\n",
       "    <div>Cale Johnson, Dirk Roorda</div>\n",
       "</div>\n",
       "\n",
       "<div class=\"fmetarow\">\n",
       "    <div class=\"fmetakey\">dateWritten:</div>\n",
       "    <div>2022-02-10T09:59:19Z</div>\n",
       "</div>\n",
       "\n",
       "<div class=\"fmetarow\">\n",
       "    <div class=\"fmetakey\">editor:</div>\n",
       "    <div>Cale Johnson et al.</div>\n",
       "</div>\n",
       "\n",
       "<div class=\"fmetarow\">\n",
       "    <div class=\"fmetakey\">name:</div>\n",
       "    <div>NinMed Medical Texts from Nineveh</div>\n",
       "</div>\n",
       "\n",
       "<div class=\"fmetarow\">\n",
       "    <div class=\"fmetakey\">project:</div>\n",
       "    <div>BabMed</div>\n",
       "</div>\n",
       "\n",
       "<div class=\"fmetarow\">\n",
       "    <div class=\"fmetakey\">writtenBy:</div>\n",
       "    <div>Text-Fabric</div>\n",
       "</div>\n",
       "\n",
       "        </div>\n",
       "    </details>\n",
       "</div>\n",
       "\n",
       "<div class=\"frow\">\n",
       "    <div class=\"fnamecat \">\n",
       "<a target=\"_blank\" href=\"https://github.com/Nino-cunei/ninmed/blob/master/docs/transcription.md\" title=\"~/text-fabric-data/Nino-cunei/ninmed/tf/0.3/primeln.tf\">primeln</a>\n",
       "</div>\n",
       "<div class=\"fmono\">int</div>\n",
       "<details>\n",
       "    <summary>whether a prime is present on a line number</summary>\n",
       "    <div class=\"fmeta\">\n",
       "\n",
       "<div class=\"fmetarow\">\n",
       "    <div class=\"fmetakey\">converters:</div>\n",
       "    <div>Cale Johnson, Dirk Roorda</div>\n",
       "</div>\n",
       "\n",
       "<div class=\"fmetarow\">\n",
       "    <div class=\"fmetakey\">dateWritten:</div>\n",
       "    <div>2022-02-10T09:59:19Z</div>\n",
       "</div>\n",
       "\n",
       "<div class=\"fmetarow\">\n",
       "    <div class=\"fmetakey\">editor:</div>\n",
       "    <div>Cale Johnson et al.</div>\n",
       "</div>\n",
       "\n",
       "<div class=\"fmetarow\">\n",
       "    <div class=\"fmetakey\">name:</div>\n",
       "    <div>NinMed Medical Texts from Nineveh</div>\n",
       "</div>\n",
       "\n",
       "<div class=\"fmetarow\">\n",
       "    <div class=\"fmetakey\">project:</div>\n",
       "    <div>BabMed</div>\n",
       "</div>\n",
       "\n",
       "<div class=\"fmetarow\">\n",
       "    <div class=\"fmetakey\">writtenBy:</div>\n",
       "    <div>Text-Fabric</div>\n",
       "</div>\n",
       "\n",
       "        </div>\n",
       "    </details>\n",
       "</div>\n",
       "\n",
       "<div class=\"frow\">\n",
       "    <div class=\"fnamecat \">\n",
       "<a target=\"_blank\" href=\"https://github.com/Nino-cunei/ninmed/blob/master/docs/transcription.md\" title=\"~/text-fabric-data/Nino-cunei/ninmed/tf/0.3/publication.tf\">publication</a>\n",
       "</div>\n",
       "<div class=\"fmono\">str</div>\n",
       "<details>\n",
       "    <summary>publication info from metadata field \"publication\"</summary>\n",
       "    <div class=\"fmeta\">\n",
       "\n",
       "<div class=\"fmetarow\">\n",
       "    <div class=\"fmetakey\">converters:</div>\n",
       "    <div>Cale Johnson, Dirk Roorda</div>\n",
       "</div>\n",
       "\n",
       "<div class=\"fmetarow\">\n",
       "    <div class=\"fmetakey\">dateWritten:</div>\n",
       "    <div>2022-02-10T09:59:19Z</div>\n",
       "</div>\n",
       "\n",
       "<div class=\"fmetarow\">\n",
       "    <div class=\"fmetakey\">editor:</div>\n",
       "    <div>Cale Johnson et al.</div>\n",
       "</div>\n",
       "\n",
       "<div class=\"fmetarow\">\n",
       "    <div class=\"fmetakey\">name:</div>\n",
       "    <div>NinMed Medical Texts from Nineveh</div>\n",
       "</div>\n",
       "\n",
       "<div class=\"fmetarow\">\n",
       "    <div class=\"fmetakey\">project:</div>\n",
       "    <div>BabMed</div>\n",
       "</div>\n",
       "\n",
       "<div class=\"fmetarow\">\n",
       "    <div class=\"fmetakey\">writtenBy:</div>\n",
       "    <div>Text-Fabric</div>\n",
       "</div>\n",
       "\n",
       "        </div>\n",
       "    </details>\n",
       "</div>\n",
       "\n",
       "<div class=\"frow\">\n",
       "    <div class=\"fnamecat \">\n",
       "<a target=\"_blank\" href=\"https://github.com/Nino-cunei/ninmed/blob/master/docs/transcription.md\" title=\"~/text-fabric-data/Nino-cunei/ninmed/tf/0.3/question.tf\">question</a>\n",
       "</div>\n",
       "<div class=\"fmono\">int</div>\n",
       "<details>\n",
       "    <summary>whether a sign has the question flag (?)</summary>\n",
       "    <div class=\"fmeta\">\n",
       "\n",
       "<div class=\"fmetarow\">\n",
       "    <div class=\"fmetakey\">converters:</div>\n",
       "    <div>Cale Johnson, Dirk Roorda</div>\n",
       "</div>\n",
       "\n",
       "<div class=\"fmetarow\">\n",
       "    <div class=\"fmetakey\">dateWritten:</div>\n",
       "    <div>2022-02-10T09:59:19Z</div>\n",
       "</div>\n",
       "\n",
       "<div class=\"fmetarow\">\n",
       "    <div class=\"fmetakey\">editor:</div>\n",
       "    <div>Cale Johnson et al.</div>\n",
       "</div>\n",
       "\n",
       "<div class=\"fmetarow\">\n",
       "    <div class=\"fmetakey\">name:</div>\n",
       "    <div>NinMed Medical Texts from Nineveh</div>\n",
       "</div>\n",
       "\n",
       "<div class=\"fmetarow\">\n",
       "    <div class=\"fmetakey\">project:</div>\n",
       "    <div>BabMed</div>\n",
       "</div>\n",
       "\n",
       "<div class=\"fmetarow\">\n",
       "    <div class=\"fmetakey\">writtenBy:</div>\n",
       "    <div>Text-Fabric</div>\n",
       "</div>\n",
       "\n",
       "        </div>\n",
       "    </details>\n",
       "</div>\n",
       "\n",
       "<div class=\"frow\">\n",
       "    <div class=\"fnamecat \">\n",
       "<a target=\"_blank\" href=\"https://github.com/Nino-cunei/ninmed/blob/master/docs/transcription.md\" title=\"~/text-fabric-data/Nino-cunei/ninmed/tf/0.3/reading.tf\">reading</a>\n",
       "</div>\n",
       "<div class=\"fmono\">str</div>\n",
       "<details>\n",
       "    <summary>reading of a sign</summary>\n",
       "    <div class=\"fmeta\">\n",
       "\n",
       "<div class=\"fmetarow\">\n",
       "    <div class=\"fmetakey\">converters:</div>\n",
       "    <div>Cale Johnson, Dirk Roorda</div>\n",
       "</div>\n",
       "\n",
       "<div class=\"fmetarow\">\n",
       "    <div class=\"fmetakey\">dateWritten:</div>\n",
       "    <div>2022-02-10T09:59:19Z</div>\n",
       "</div>\n",
       "\n",
       "<div class=\"fmetarow\">\n",
       "    <div class=\"fmetakey\">editor:</div>\n",
       "    <div>Cale Johnson et al.</div>\n",
       "</div>\n",
       "\n",
       "<div class=\"fmetarow\">\n",
       "    <div class=\"fmetakey\">name:</div>\n",
       "    <div>NinMed Medical Texts from Nineveh</div>\n",
       "</div>\n",
       "\n",
       "<div class=\"fmetarow\">\n",
       "    <div class=\"fmetakey\">project:</div>\n",
       "    <div>BabMed</div>\n",
       "</div>\n",
       "\n",
       "<div class=\"fmetarow\">\n",
       "    <div class=\"fmetakey\">writtenBy:</div>\n",
       "    <div>Text-Fabric</div>\n",
       "</div>\n",
       "\n",
       "        </div>\n",
       "    </details>\n",
       "</div>\n",
       "\n",
       "<div class=\"frow\">\n",
       "    <div class=\"fnamecat \">\n",
       "<a target=\"_blank\" href=\"https://github.com/Nino-cunei/ninmed/blob/master/docs/transcription.md\" title=\"~/text-fabric-data/Nino-cunei/ninmed/tf/0.3/remarkable.tf\">remarkable</a>\n",
       "</div>\n",
       "<div class=\"fmono\">int</div>\n",
       "<details>\n",
       "    <summary>whether a sign is remarkable (!)</summary>\n",
       "    <div class=\"fmeta\">\n",
       "\n",
       "<div class=\"fmetarow\">\n",
       "    <div class=\"fmetakey\">converters:</div>\n",
       "    <div>Cale Johnson, Dirk Roorda</div>\n",
       "</div>\n",
       "\n",
       "<div class=\"fmetarow\">\n",
       "    <div class=\"fmetakey\">dateWritten:</div>\n",
       "    <div>2022-02-10T09:59:19Z</div>\n",
       "</div>\n",
       "\n",
       "<div class=\"fmetarow\">\n",
       "    <div class=\"fmetakey\">editor:</div>\n",
       "    <div>Cale Johnson et al.</div>\n",
       "</div>\n",
       "\n",
       "<div class=\"fmetarow\">\n",
       "    <div class=\"fmetakey\">name:</div>\n",
       "    <div>NinMed Medical Texts from Nineveh</div>\n",
       "</div>\n",
       "\n",
       "<div class=\"fmetarow\">\n",
       "    <div class=\"fmetakey\">project:</div>\n",
       "    <div>BabMed</div>\n",
       "</div>\n",
       "\n",
       "<div class=\"fmetarow\">\n",
       "    <div class=\"fmetakey\">writtenBy:</div>\n",
       "    <div>Text-Fabric</div>\n",
       "</div>\n",
       "\n",
       "        </div>\n",
       "    </details>\n",
       "</div>\n",
       "\n",
       "<div class=\"frow\">\n",
       "    <div class=\"fnamecat \">\n",
       "<a target=\"_blank\" href=\"https://github.com/Nino-cunei/ninmed/blob/master/docs/transcription.md\" title=\"~/text-fabric-data/Nino-cunei/ninmed/tf/0.3/ruling.tf\">ruling</a>\n",
       "</div>\n",
       "<div class=\"fmono\">str</div>\n",
       "<details>\n",
       "    <summary>ruling comment to a line</summary>\n",
       "    <div class=\"fmeta\">\n",
       "\n",
       "<div class=\"fmetarow\">\n",
       "    <div class=\"fmetakey\">converters:</div>\n",
       "    <div>Cale Johnson, Dirk Roorda</div>\n",
       "</div>\n",
       "\n",
       "<div class=\"fmetarow\">\n",
       "    <div class=\"fmetakey\">dateWritten:</div>\n",
       "    <div>2022-02-10T09:59:19Z</div>\n",
       "</div>\n",
       "\n",
       "<div class=\"fmetarow\">\n",
       "    <div class=\"fmetakey\">editor:</div>\n",
       "    <div>Cale Johnson et al.</div>\n",
       "</div>\n",
       "\n",
       "<div class=\"fmetarow\">\n",
       "    <div class=\"fmetakey\">name:</div>\n",
       "    <div>NinMed Medical Texts from Nineveh</div>\n",
       "</div>\n",
       "\n",
       "<div class=\"fmetarow\">\n",
       "    <div class=\"fmetakey\">project:</div>\n",
       "    <div>BabMed</div>\n",
       "</div>\n",
       "\n",
       "<div class=\"fmetarow\">\n",
       "    <div class=\"fmetakey\">writtenBy:</div>\n",
       "    <div>Text-Fabric</div>\n",
       "</div>\n",
       "\n",
       "        </div>\n",
       "    </details>\n",
       "</div>\n",
       "\n",
       "<div class=\"frow\">\n",
       "    <div class=\"fnamecat \">\n",
       "<a target=\"_blank\" href=\"https://github.com/Nino-cunei/ninmed/blob/master/docs/transcription.md\" title=\"~/text-fabric-data/Nino-cunei/ninmed/tf/0.3/seal.tf\">seal</a>\n",
       "</div>\n",
       "<div class=\"fmono\">str</div>\n",
       "<details>\n",
       "    <summary>seal comment to a line</summary>\n",
       "    <div class=\"fmeta\">\n",
       "\n",
       "<div class=\"fmetarow\">\n",
       "    <div class=\"fmetakey\">converters:</div>\n",
       "    <div>Cale Johnson, Dirk Roorda</div>\n",
       "</div>\n",
       "\n",
       "<div class=\"fmetarow\">\n",
       "    <div class=\"fmetakey\">dateWritten:</div>\n",
       "    <div>2022-02-10T09:59:19Z</div>\n",
       "</div>\n",
       "\n",
       "<div class=\"fmetarow\">\n",
       "    <div class=\"fmetakey\">editor:</div>\n",
       "    <div>Cale Johnson et al.</div>\n",
       "</div>\n",
       "\n",
       "<div class=\"fmetarow\">\n",
       "    <div class=\"fmetakey\">name:</div>\n",
       "    <div>NinMed Medical Texts from Nineveh</div>\n",
       "</div>\n",
       "\n",
       "<div class=\"fmetarow\">\n",
       "    <div class=\"fmetakey\">project:</div>\n",
       "    <div>BabMed</div>\n",
       "</div>\n",
       "\n",
       "<div class=\"fmetarow\">\n",
       "    <div class=\"fmetakey\">writtenBy:</div>\n",
       "    <div>Text-Fabric</div>\n",
       "</div>\n",
       "\n",
       "        </div>\n",
       "    </details>\n",
       "</div>\n",
       "\n",
       "<div class=\"frow\">\n",
       "    <div class=\"fnamecat \">\n",
       "<a target=\"_blank\" href=\"https://github.com/Nino-cunei/ninmed/blob/master/docs/transcription.md\" title=\"~/text-fabric-data/Nino-cunei/ninmed/tf/0.3/supplied.tf\">supplied</a>\n",
       "</div>\n",
       "<div class=\"fmono\">int</div>\n",
       "<details>\n",
       "    <summary>whether a sign is supplied - between < ></summary>\n",
       "    <div class=\"fmeta\">\n",
       "\n",
       "<div class=\"fmetarow\">\n",
       "    <div class=\"fmetakey\">converters:</div>\n",
       "    <div>Cale Johnson, Dirk Roorda</div>\n",
       "</div>\n",
       "\n",
       "<div class=\"fmetarow\">\n",
       "    <div class=\"fmetakey\">dateWritten:</div>\n",
       "    <div>2022-02-10T09:59:19Z</div>\n",
       "</div>\n",
       "\n",
       "<div class=\"fmetarow\">\n",
       "    <div class=\"fmetakey\">editor:</div>\n",
       "    <div>Cale Johnson et al.</div>\n",
       "</div>\n",
       "\n",
       "<div class=\"fmetarow\">\n",
       "    <div class=\"fmetakey\">name:</div>\n",
       "    <div>NinMed Medical Texts from Nineveh</div>\n",
       "</div>\n",
       "\n",
       "<div class=\"fmetarow\">\n",
       "    <div class=\"fmetakey\">project:</div>\n",
       "    <div>BabMed</div>\n",
       "</div>\n",
       "\n",
       "<div class=\"fmetarow\">\n",
       "    <div class=\"fmetakey\">writtenBy:</div>\n",
       "    <div>Text-Fabric</div>\n",
       "</div>\n",
       "\n",
       "        </div>\n",
       "    </details>\n",
       "</div>\n",
       "\n",
       "<div class=\"frow\">\n",
       "    <div class=\"fnamecat \">\n",
       "<a target=\"_blank\" href=\"https://github.com/Nino-cunei/ninmed/blob/master/docs/transcription.md\" title=\"~/text-fabric-data/Nino-cunei/ninmed/tf/0.3/sym.tf\">sym</a>\n",
       "</div>\n",
       "<div class=\"fmono\">str</div>\n",
       "<details>\n",
       "    <summary>essential part of a sign or of a word</summary>\n",
       "    <div class=\"fmeta\">\n",
       "\n",
       "<div class=\"fmetarow\">\n",
       "    <div class=\"fmetakey\">converters:</div>\n",
       "    <div>Cale Johnson, Dirk Roorda</div>\n",
       "</div>\n",
       "\n",
       "<div class=\"fmetarow\">\n",
       "    <div class=\"fmetakey\">dateWritten:</div>\n",
       "    <div>2022-02-10T09:59:19Z</div>\n",
       "</div>\n",
       "\n",
       "<div class=\"fmetarow\">\n",
       "    <div class=\"fmetakey\">editor:</div>\n",
       "    <div>Cale Johnson et al.</div>\n",
       "</div>\n",
       "\n",
       "<div class=\"fmetarow\">\n",
       "    <div class=\"fmetakey\">name:</div>\n",
       "    <div>NinMed Medical Texts from Nineveh</div>\n",
       "</div>\n",
       "\n",
       "<div class=\"fmetarow\">\n",
       "    <div class=\"fmetakey\">project:</div>\n",
       "    <div>BabMed</div>\n",
       "</div>\n",
       "\n",
       "<div class=\"fmetarow\">\n",
       "    <div class=\"fmetakey\">writtenBy:</div>\n",
       "    <div>Text-Fabric</div>\n",
       "</div>\n",
       "\n",
       "        </div>\n",
       "    </details>\n",
       "</div>\n",
       "\n",
       "<div class=\"frow\">\n",
       "    <div class=\"fnamecat \">\n",
       "<a target=\"_blank\" href=\"https://github.com/Nino-cunei/ninmed/blob/master/docs/transcription.md\" title=\"~/text-fabric-data/Nino-cunei/ninmed/tf/0.3/tr@en.tf\">tr@ll</a>\n",
       "</div>\n",
       "<div class=\"fmono\">str</div>\n",
       "<details>\n",
       "    <summary>english translation of a line</summary>\n",
       "    <div class=\"fmeta\">\n",
       "\n",
       "<div class=\"fmetarow\">\n",
       "    <div class=\"fmetakey\">converters:</div>\n",
       "    <div>Cale Johnson, Dirk Roorda</div>\n",
       "</div>\n",
       "\n",
       "<div class=\"fmetarow\">\n",
       "    <div class=\"fmetakey\">dateWritten:</div>\n",
       "    <div>2022-02-10T09:59:19Z</div>\n",
       "</div>\n",
       "\n",
       "<div class=\"fmetarow\">\n",
       "    <div class=\"fmetakey\">editor:</div>\n",
       "    <div>Cale Johnson et al.</div>\n",
       "</div>\n",
       "\n",
       "<div class=\"fmetarow\">\n",
       "    <div class=\"fmetakey\">name:</div>\n",
       "    <div>NinMed Medical Texts from Nineveh</div>\n",
       "</div>\n",
       "\n",
       "<div class=\"fmetarow\">\n",
       "    <div class=\"fmetakey\">project:</div>\n",
       "    <div>BabMed</div>\n",
       "</div>\n",
       "\n",
       "<div class=\"fmetarow\">\n",
       "    <div class=\"fmetakey\">writtenBy:</div>\n",
       "    <div>Text-Fabric</div>\n",
       "</div>\n",
       "\n",
       "        </div>\n",
       "    </details>\n",
       "</div>\n",
       "\n",
       "<div class=\"frow\">\n",
       "    <div class=\"fnamecat \">\n",
       "<a target=\"_blank\" href=\"https://github.com/Nino-cunei/ninmed/blob/master/docs/transcription.md\" title=\"~/text-fabric-data/Nino-cunei/ninmed/tf/0.3/trans.tf\">trans</a>\n",
       "</div>\n",
       "<div class=\"fmono\">int</div>\n",
       "<details>\n",
       "    <summary>whether a line has a translation</summary>\n",
       "    <div class=\"fmeta\">\n",
       "\n",
       "<div class=\"fmetarow\">\n",
       "    <div class=\"fmetakey\">converters:</div>\n",
       "    <div>Cale Johnson, Dirk Roorda</div>\n",
       "</div>\n",
       "\n",
       "<div class=\"fmetarow\">\n",
       "    <div class=\"fmetakey\">dateWritten:</div>\n",
       "    <div>2022-02-10T09:59:19Z</div>\n",
       "</div>\n",
       "\n",
       "<div class=\"fmetarow\">\n",
       "    <div class=\"fmetakey\">editor:</div>\n",
       "    <div>Cale Johnson et al.</div>\n",
       "</div>\n",
       "\n",
       "<div class=\"fmetarow\">\n",
       "    <div class=\"fmetakey\">name:</div>\n",
       "    <div>NinMed Medical Texts from Nineveh</div>\n",
       "</div>\n",
       "\n",
       "<div class=\"fmetarow\">\n",
       "    <div class=\"fmetakey\">project:</div>\n",
       "    <div>BabMed</div>\n",
       "</div>\n",
       "\n",
       "<div class=\"fmetarow\">\n",
       "    <div class=\"fmetakey\">writtenBy:</div>\n",
       "    <div>Text-Fabric</div>\n",
       "</div>\n",
       "\n",
       "        </div>\n",
       "    </details>\n",
       "</div>\n",
       "\n",
       "<div class=\"frow\">\n",
       "    <div class=\"fnamecat \">\n",
       "<a target=\"_blank\" href=\"https://github.com/Nino-cunei/ninmed/blob/master/docs/transcription.md\" title=\"~/text-fabric-data/Nino-cunei/ninmed/tf/0.3/type.tf\">type</a>\n",
       "</div>\n",
       "<div class=\"fmono\">str</div>\n",
       "<details>\n",
       "    <summary>name of a type of cluster or kind of sign</summary>\n",
       "    <div class=\"fmeta\">\n",
       "\n",
       "<div class=\"fmetarow\">\n",
       "    <div class=\"fmetakey\">converters:</div>\n",
       "    <div>Cale Johnson, Dirk Roorda</div>\n",
       "</div>\n",
       "\n",
       "<div class=\"fmetarow\">\n",
       "    <div class=\"fmetakey\">dateWritten:</div>\n",
       "    <div>2022-02-10T09:59:19Z</div>\n",
       "</div>\n",
       "\n",
       "<div class=\"fmetarow\">\n",
       "    <div class=\"fmetakey\">editor:</div>\n",
       "    <div>Cale Johnson et al.</div>\n",
       "</div>\n",
       "\n",
       "<div class=\"fmetarow\">\n",
       "    <div class=\"fmetakey\">name:</div>\n",
       "    <div>NinMed Medical Texts from Nineveh</div>\n",
       "</div>\n",
       "\n",
       "<div class=\"fmetarow\">\n",
       "    <div class=\"fmetakey\">project:</div>\n",
       "    <div>BabMed</div>\n",
       "</div>\n",
       "\n",
       "<div class=\"fmetarow\">\n",
       "    <div class=\"fmetakey\">writtenBy:</div>\n",
       "    <div>Text-Fabric</div>\n",
       "</div>\n",
       "\n",
       "        </div>\n",
       "    </details>\n",
       "</div>\n",
       "\n",
       "<div class=\"frow\">\n",
       "    <div class=\"fnamecat \">\n",
       "<a target=\"_blank\" href=\"https://github.com/Nino-cunei/ninmed/blob/master/docs/transcription.md\" title=\"~/text-fabric-data/Nino-cunei/ninmed/tf/0.3/uncertain.tf\">uncertain</a>\n",
       "</div>\n",
       "<div class=\"fmono\">int</div>\n",
       "<details>\n",
       "    <summary>whether a sign is uncertain - between ( )</summary>\n",
       "    <div class=\"fmeta\">\n",
       "\n",
       "<div class=\"fmetarow\">\n",
       "    <div class=\"fmetakey\">converters:</div>\n",
       "    <div>Cale Johnson, Dirk Roorda</div>\n",
       "</div>\n",
       "\n",
       "<div class=\"fmetarow\">\n",
       "    <div class=\"fmetakey\">dateWritten:</div>\n",
       "    <div>2022-02-10T09:59:20Z</div>\n",
       "</div>\n",
       "\n",
       "<div class=\"fmetarow\">\n",
       "    <div class=\"fmetakey\">editor:</div>\n",
       "    <div>Cale Johnson et al.</div>\n",
       "</div>\n",
       "\n",
       "<div class=\"fmetarow\">\n",
       "    <div class=\"fmetakey\">name:</div>\n",
       "    <div>NinMed Medical Texts from Nineveh</div>\n",
       "</div>\n",
       "\n",
       "<div class=\"fmetarow\">\n",
       "    <div class=\"fmetakey\">project:</div>\n",
       "    <div>BabMed</div>\n",
       "</div>\n",
       "\n",
       "<div class=\"fmetarow\">\n",
       "    <div class=\"fmetakey\">writtenBy:</div>\n",
       "    <div>Text-Fabric</div>\n",
       "</div>\n",
       "\n",
       "        </div>\n",
       "    </details>\n",
       "</div>\n",
       "\n",
       "<div class=\"frow\">\n",
       "    <div class=\"fnamecat \">\n",
       "<a target=\"_blank\" href=\"https://github.com/Nino-cunei/ninmed/blob/master/docs/transcription.md\" title=\"~/text-fabric-data/Nino-cunei/ninmed/tf/0.3/variant.tf\">variant</a>\n",
       "</div>\n",
       "<div class=\"fmono\">int</div>\n",
       "<details>\n",
       "    <summary>if sign is part of a variant pair, this is the sequence number of the variant (1 or 2)</summary>\n",
       "    <div class=\"fmeta\">\n",
       "\n",
       "<div class=\"fmetarow\">\n",
       "    <div class=\"fmetakey\">converters:</div>\n",
       "    <div>Cale Johnson, Dirk Roorda</div>\n",
       "</div>\n",
       "\n",
       "<div class=\"fmetarow\">\n",
       "    <div class=\"fmetakey\">dateWritten:</div>\n",
       "    <div>2022-02-10T09:59:20Z</div>\n",
       "</div>\n",
       "\n",
       "<div class=\"fmetarow\">\n",
       "    <div class=\"fmetakey\">editor:</div>\n",
       "    <div>Cale Johnson et al.</div>\n",
       "</div>\n",
       "\n",
       "<div class=\"fmetarow\">\n",
       "    <div class=\"fmetakey\">name:</div>\n",
       "    <div>NinMed Medical Texts from Nineveh</div>\n",
       "</div>\n",
       "\n",
       "<div class=\"fmetarow\">\n",
       "    <div class=\"fmetakey\">project:</div>\n",
       "    <div>BabMed</div>\n",
       "</div>\n",
       "\n",
       "<div class=\"fmetarow\">\n",
       "    <div class=\"fmetakey\">writtenBy:</div>\n",
       "    <div>Text-Fabric</div>\n",
       "</div>\n",
       "\n",
       "        </div>\n",
       "    </details>\n",
       "</div>\n",
       "\n",
       "<div class=\"frow\">\n",
       "    <div class=\"fnamecat edge\">\n",
       "<a target=\"_blank\" href=\"https://github.com/Nino-cunei/ninmed/blob/master/docs/transcription.md\" title=\"~/text-fabric-data/Nino-cunei/ninmed/tf/0.3/oslots.tf\">oslots</a>\n",
       "</div>\n",
       "<div class=\"fmono\">none</div>\n",
       "<details>\n",
       "    <summary></summary>\n",
       "    <div class=\"fmeta\">\n",
       "\n",
       "<div class=\"fmetarow\">\n",
       "    <div class=\"fmetakey\">converters:</div>\n",
       "    <div>Cale Johnson, Dirk Roorda</div>\n",
       "</div>\n",
       "\n",
       "<div class=\"fmetarow\">\n",
       "    <div class=\"fmetakey\">dateWritten:</div>\n",
       "    <div>2022-02-10T09:59:20Z</div>\n",
       "</div>\n",
       "\n",
       "<div class=\"fmetarow\">\n",
       "    <div class=\"fmetakey\">editor:</div>\n",
       "    <div>Cale Johnson et al.</div>\n",
       "</div>\n",
       "\n",
       "<div class=\"fmetarow\">\n",
       "    <div class=\"fmetakey\">name:</div>\n",
       "    <div>NinMed Medical Texts from Nineveh</div>\n",
       "</div>\n",
       "\n",
       "<div class=\"fmetarow\">\n",
       "    <div class=\"fmetakey\">project:</div>\n",
       "    <div>BabMed</div>\n",
       "</div>\n",
       "\n",
       "<div class=\"fmetarow\">\n",
       "    <div class=\"fmetakey\">writtenBy:</div>\n",
       "    <div>Text-Fabric</div>\n",
       "</div>\n",
       "\n",
       "        </div>\n",
       "    </details>\n",
       "</div>\n",
       "\n",
       "    </div>\n",
       "</details>\n"
      ],
      "text/plain": [
       "<IPython.core.display.HTML object>"
      ]
     },
     "metadata": {},
     "output_type": "display_data"
    },
    {
     "data": {
      "text/html": [
       "<style>tr.tf.ltr, td.tf.ltr, th.tf.ltr { text-align: left ! important;}\n",
       "tr.tf.rtl, td.tf.rtl, th.tf.rtl { text-align: right ! important;}\n",
       "@font-face {\n",
       "  font-family: \"Gentium Plus\";\n",
       "  src: local('Gentium Plus'), local('GentiumPlus'),\n",
       "    url('/server/static/fonts/GentiumPlus-R.woff') format('woff'),\n",
       "    url('https://github.com/annotation/text-fabric/blob/master/tf/server/static/fonts/GentiumPlus-R.woff?raw=true') format('woff');\n",
       "}\n",
       "\n",
       "@font-face {\n",
       "  font-family: \"Ezra SIL\";\n",
       "  src: local('Ezra SIL'), local('EzraSIL'),\n",
       "    url('/server/static/fonts/SILEOT.woff') format('woff'),\n",
       "    url('https://github.com/annotation/text-fabric/blob/master/tf/server/static/fonts/SILEOT.woff?raw=true') format('woff');\n",
       "}\n",
       "\n",
       "@font-face {\n",
       "  font-family: \"SBL Hebrew\";\n",
       "  src: local('SBL Hebrew'), local('SBLHebrew'),\n",
       "    url('/server/static/fonts/SBL_Hbrw.woff') format('woff'),\n",
       "    url('https://github.com/annotation/text-fabric/blob/master/tf/server/static/fonts/SBL_Hbrw.woff?raw=true') format('woff');\n",
       "}\n",
       "\n",
       "@font-face {\n",
       "  font-family: \"Estrangelo Edessa\";\n",
       "  src: local('Estrangelo Edessa'), local('EstrangeloEdessa');\n",
       "    url('/server/static/fonts/SyrCOMEdessa.woff') format('woff'),\n",
       "    url('https://github.com/annotation/text-fabric/blob/master/tf/server/static/fonts/SyrCOMEdessa.woff?raw=true') format('woff');\n",
       "}\n",
       "\n",
       "@font-face {\n",
       "  font-family: AmiriQuran;\n",
       "  font-style: normal;\n",
       "  font-weight: 400;\n",
       "  src: local('Amiri Quran'), local('AmiriQuran'),\n",
       "    url('/server/static/fonts/AmiriQuran.woff') format('woff'),\n",
       "    url('https://github.com/annotation/text-fabric/blob/master/tf/server/static/fonts/AmiriQuran.woff?raw=true') format('woff');\n",
       "}\n",
       "\n",
       "@font-face {\n",
       "  font-family: AmiriQuranColored;\n",
       "  font-style: normal;\n",
       "  font-weight: 400;\n",
       "  src: local('Amiri Quran Colored'), local('AmiriQuranColored'),\n",
       "    url('/server/static/fonts/AmiriQuranColored.woff') format('woff'),\n",
       "    url('https://github.com/annotation/text-fabric/blob/master/tf/server/static/fonts/AmiriQuranColored.woff?raw=true') format('woff');\n",
       "}\n",
       "\n",
       "@font-face {\n",
       "  font-family: \"Santakku\";\n",
       "  src: local('Santakku'),\n",
       "    url('/server/static/fonts/Santakku.woff') format('woff'),\n",
       "    url('https://github.com/annotation/text-fabric/blob/master/tf/server/static/fonts/Santakku.woff?raw=true') format('woff');\n",
       "}\n",
       "\n",
       "@font-face {\n",
       "  font-family: \"SantakkuM\";\n",
       "  src: local('SantakkuM'),\n",
       "    url('/server/static/fonts/SantakkuM.woff') format('woff'),\n",
       "    url('https://github.com/annotation/text-fabric/blob/master/tf/server/static/fonts/SantakkuM.woff?raw=true') format('woff');\n",
       "}\n",
       "/* bypassing some classical notebook settings */\n",
       "div#notebook {\n",
       "  line-height: unset;\n",
       "}\n",
       "/* neutral text */\n",
       ".txtn,.txtn a:visited,.txtn a:link {\n",
       "    font-family: sans-serif;\n",
       "    font-size: medium;\n",
       "    direction: ltr;\n",
       "    unicode-bidi: embed;\n",
       "    text-decoration: none;\n",
       "    color: var(--text-color);\n",
       "}\n",
       "/* transcription text */\n",
       ".txtt,.txtt a:visited,.txtt a:link {\n",
       "    font-family: monospace;\n",
       "    font-size: medium;\n",
       "    direction: ltr;\n",
       "    unicode-bidi: embed;\n",
       "    text-decoration: none;\n",
       "    color: var(--text-color);\n",
       "}\n",
       "/* source text */\n",
       ".txto,.txto a:visited,.txto a:link {\n",
       "    font-family: serif;\n",
       "    font-size: medium;\n",
       "    direction: ltr;\n",
       "    unicode-bidi: embed;\n",
       "    text-decoration: none;\n",
       "    color: var(--text-color);\n",
       "}\n",
       "/* phonetic text */\n",
       ".txtp,.txtp a:visited,.txtp a:link {\n",
       "    font-family: Gentium, sans-serif;\n",
       "    font-size: medium;\n",
       "    direction: ltr;\n",
       "    unicode-bidi: embed;\n",
       "    text-decoration: none;\n",
       "    color: var(--text-color);\n",
       "}\n",
       "/* original script text */\n",
       ".txtu,.txtu a:visited,.txtu a:link {\n",
       "    font-family: Gentium, sans-serif;\n",
       "    font-size: medium;\n",
       "    text-decoration: none;\n",
       "    color: var(--text-color);\n",
       "}\n",
       "/* hebrew */\n",
       ".txtu.hbo,.lex.hbo {\n",
       "    font-family: \"Ezra SIL\", \"SBL Hebrew\", sans-serif;\n",
       "    font-size: large;\n",
       "    direction: rtl ! important;\n",
       "    unicode-bidi: embed;\n",
       "}\n",
       "/* syriac */\n",
       ".txtu.syc,.lex.syc {\n",
       "    font-family: \"Estrangelo Edessa\", sans-serif;\n",
       "    font-size: medium;\n",
       "    direction: rtl ! important;\n",
       "    unicode-bidi: embed;\n",
       "}\n",
       "/* neo aramaic */\n",
       ".txtu.cld,.lex.cld {\n",
       "    font-family: \"CharisSIL-R\", sans-serif;\n",
       "    font-size: medium;\n",
       "    direction: ltr ! important;\n",
       "    unicode-bidi: embed;\n",
       "}\n",
       "/* standard arabic */\n",
       ".txtu.ara,.lex.ara {\n",
       "    font-family: \"AmiriQuran\", sans-serif;\n",
       "    font-size: large;\n",
       "    direction: rtl ! important;\n",
       "    unicode-bidi: embed;\n",
       "}\n",
       "/* cuneiform */\n",
       ".txtu.akk,.lex.akk {\n",
       "    font-family: Santakku, sans-serif;\n",
       "    font-size: large;\n",
       "    direction: ltr ! important;\n",
       "    unicode-bidi: embed;\n",
       "}\n",
       "/* greek */\n",
       ".txtu.grc,.lex.grc a:link {\n",
       "    font-family: Gentium, sans-serif;\n",
       "    font-size: medium;\n",
       "    direction: ltr ! important;\n",
       "    unicode-bidi: embed;\n",
       "}\n",
       "a:hover {\n",
       "    text-decoration: underline | important;\n",
       "    color: #0000ff | important;\n",
       "}\n",
       ".ltr {\n",
       "    direction: ltr ! important;\n",
       "    unicode-bidi: embed;\n",
       "}\n",
       ".rtl {\n",
       "    direction: rtl ! important;\n",
       "    unicode-bidi: embed;\n",
       "}\n",
       ".ubd {\n",
       "    unicode-bidi: embed;\n",
       "}\n",
       ".col {\n",
       "   display: inline-block;\n",
       "}\n",
       ".features {\n",
       "    font-family: monospace;\n",
       "    font-size: medium;\n",
       "    font-weight: bold;\n",
       "    color: var(--features);\n",
       "    display: flex;\n",
       "    flex-flow: column nowrap;\n",
       "    justify-content: flex-start;\n",
       "    align-items: flex-start;\n",
       "    align-content: flex-start;\n",
       "    padding: 2px;\n",
       "    margin: 2px;\n",
       "    direction: ltr;\n",
       "    unicode-bidi: embed;\n",
       "    border: var(--meta-width) solid var(--meta-color);\n",
       "    border-radius: var(--meta-width);\n",
       "}\n",
       ".features div,.features span {\n",
       "    padding: 0;\n",
       "    margin: -2px 0;\n",
       "}\n",
       ".features .f {\n",
       "    font-family: sans-serif;\n",
       "    font-size: small;\n",
       "    font-weight: normal;\n",
       "    color: #5555bb;\n",
       "}\n",
       ".features .xft {\n",
       "  color: #000000;\n",
       "  background-color: #eeeeee;\n",
       "  font-size: medium;\n",
       "  margin: 2px 0px;\n",
       "}\n",
       ".features .xft .f {\n",
       "  color: #000000;\n",
       "  background-color: #eeeeee;\n",
       "  font-size: small;\n",
       "  font-weight: normal;\n",
       "}\n",
       ".tfsechead {\n",
       "    font-family: sans-serif;\n",
       "    font-size: small;\n",
       "    font-weight: bold;\n",
       "    color: var(--tfsechead);\n",
       "    unicode-bidi: embed;\n",
       "    text-align: start;\n",
       "}\n",
       ".structure {\n",
       "    font-family: sans-serif;\n",
       "    font-size: small;\n",
       "    font-weight: bold;\n",
       "    color: var(--structure);\n",
       "    unicode-bidi: embed;\n",
       "    text-align: start;\n",
       "}\n",
       ".comments {\n",
       "    display: flex;\n",
       "    justify-content: flex-start;\n",
       "    align-items: flex-start;\n",
       "    align-content: flex-start;\n",
       "    flex-flow: column nowrap;\n",
       "}\n",
       ".nd, a:link.nd {\n",
       "    font-family: sans-serif;\n",
       "    font-size: small;\n",
       "    color: var(--node);\n",
       "    vertical-align: super;\n",
       "    direction: ltr ! important;\n",
       "    unicode-bidi: embed;\n",
       "}\n",
       ".lex {\n",
       "  color: var(--lex-color);;\n",
       "}\n",
       ".children,.children.ltr {\n",
       "    display: flex;\n",
       "    border: 0;\n",
       "    background-color: #ffffff;\n",
       "    justify-content: flex-start;\n",
       "    align-items: flex-start;\n",
       "    align-content: flex-start;\n",
       "}\n",
       ".children.stretch {\n",
       "    align-items: stretch;\n",
       "}\n",
       ".children.hor {\n",
       "    flex-flow: row nowrap;\n",
       "}\n",
       ".children.hor.wrap {\n",
       "    flex-flow: row wrap;\n",
       "}\n",
       ".children.ver {\n",
       "    flex-flow: column nowrap;\n",
       "}\n",
       ".children.ver.wrap {\n",
       "    flex-flow: column wrap;\n",
       "}\n",
       ".contnr {\n",
       "    width: fit-content;\n",
       "    display: flex;\n",
       "    justify-content: flex-start;\n",
       "    align-items: flex-start;\n",
       "    align-content: flex-start;\n",
       "    flex-flow: column nowrap;\n",
       "    background: #ffffff none repeat scroll 0 0;\n",
       "    padding:  10px 2px 2px 2px;\n",
       "    margin: 16px 2px 2px 2px;\n",
       "    border-style: solid;\n",
       "    font-size: small;\n",
       "}\n",
       ".contnr.trm {\n",
       "    background-attachment: local;\n",
       "}\n",
       ".contnr.cnul {\n",
       "    padding:  0;\n",
       "    margin: 0;\n",
       "    border-style: solid;\n",
       "    font-size: xx-small;\n",
       "}\n",
       ".contnr.cnul,.lbl.cnul {\n",
       "    border-color: var(--border-color-nul);\n",
       "    border-width: var(--border-width-nul);\n",
       "    border-radius: var(--border-width-nul);\n",
       "}\n",
       ".contnr.c0,.lbl.c0 {\n",
       "    border-color: var(--border-color0);\n",
       "    border-width: var(--border-width0);\n",
       "    border-radius: var(--border-width0);\n",
       "}\n",
       ".contnr.c1,.lbl.c1 {\n",
       "    border-color: var(--border-color1);\n",
       "    border-width: var(--border-width1);\n",
       "    border-radius: var(--border-width1);\n",
       "}\n",
       ".contnr.c2,.lbl.c2 {\n",
       "    border-color: var(--border-color2);\n",
       "    border-width: var(--border-width2);\n",
       "    border-radius: var(--border-width2);\n",
       "}\n",
       ".contnr.c3,.lbl.c3 {\n",
       "    border-color: var(--border-color3);\n",
       "    border-width: var(--border-width3);\n",
       "    border-radius: var(--border-width3);\n",
       "}\n",
       ".contnr.c4,.lbl.c4 {\n",
       "    border-color: var(--border-color4);\n",
       "    border-width: var(--border-width4);\n",
       "    border-radius: var(--border-width4);\n",
       "}\n",
       "span.plain {\n",
       "    display: inline-block;\n",
       "    white-space: pre-wrap;\n",
       "}\n",
       ".plain {\n",
       "    background-color: #ffffff;\n",
       "}\n",
       ".plain.l,.contnr.l,.contnr.l>.lbl {\n",
       "    border-left-style: dotted\n",
       "}\n",
       ".plain.r,.contnr.r,.contnr.r>.lbl {\n",
       "    border-right-style: dotted\n",
       "}\n",
       ".plain.lno,.contnr.lno,.contnr.lno>.lbl {\n",
       "    border-left-style: none\n",
       "}\n",
       ".plain.rno,.contnr.rno,.contnr.rno>.lbl {\n",
       "    border-right-style: none\n",
       "}\n",
       ".plain.l {\n",
       "    padding-left: 4px;\n",
       "    margin-left: 2px;\n",
       "    border-width: var(--border-width-plain);\n",
       "}\n",
       ".plain.r {\n",
       "    padding-right: 4px;\n",
       "    margin-right: 2px;\n",
       "    border-width: var(--border-width-plain);\n",
       "}\n",
       ".lbl {\n",
       "    font-family: monospace;\n",
       "    margin-top: -24px;\n",
       "    margin-left: 20px;\n",
       "    background: #ffffff none repeat scroll 0 0;\n",
       "    padding: 0 6px;\n",
       "    border-style: solid;\n",
       "    display: block;\n",
       "    color: var(--label)\n",
       "}\n",
       ".lbl.trm {\n",
       "    background-attachment: local;\n",
       "    margin-top: 2px;\n",
       "    margin-left: 2px;\n",
       "    padding: 2px 2px;\n",
       "    border-style: none;\n",
       "}\n",
       ".lbl.cnul {\n",
       "    font-size: xx-small;\n",
       "}\n",
       ".lbl.c0 {\n",
       "    font-size: small;\n",
       "}\n",
       ".lbl.c1 {\n",
       "    font-size: small;\n",
       "}\n",
       ".lbl.c2 {\n",
       "    font-size: medium;\n",
       "}\n",
       ".lbl.c3 {\n",
       "    font-size: medium;\n",
       "}\n",
       ".lbl.c4 {\n",
       "    font-size: large;\n",
       "}\n",
       ".occs, a:link.occs {\n",
       "    font-size: small;\n",
       "}\n",
       "\n",
       "/* PROVENANCE */\n",
       "\n",
       "div.prov {\n",
       "\tmargin: 40px;\n",
       "\tpadding: 20px;\n",
       "\tborder: 2px solid var(--fog-rim);\n",
       "}\n",
       "div.pline {\n",
       "\tdisplay: flex;\n",
       "\tflex-flow: row nowrap;\n",
       "\tjustify-content: stretch;\n",
       "\talign-items: baseline;\n",
       "}\n",
       "div.p2line {\n",
       "\tmargin-left: 2em;\n",
       "\tdisplay: flex;\n",
       "\tflex-flow: row nowrap;\n",
       "\tjustify-content: stretch;\n",
       "\talign-items: baseline;\n",
       "}\n",
       "div.psline {\n",
       "\tdisplay: flex;\n",
       "\tflex-flow: row nowrap;\n",
       "\tjustify-content: stretch;\n",
       "\talign-items: baseline;\n",
       "\tbackground-color: var(--gold-mist-back);\n",
       "}\n",
       "div.pname {\n",
       "\tflex: 0 0 5rem;\n",
       "\tfont-weight: bold;\n",
       "}\n",
       "div.pval {\n",
       "    flex: 1 1 auto;\n",
       "}\n",
       "\n",
       "/* KEYBOARD */\n",
       ".ccoff {\n",
       "  background-color: inherit;\n",
       "}\n",
       ".ccon {\n",
       "  background-color: yellow ! important;\n",
       "}\n",
       "/* TF header */\n",
       "\n",
       "summary {\n",
       "  /* needed to override the normalize.less\n",
       "   * in the classical jupyter notebook\n",
       "   */\n",
       "  display: list-item ! important;\n",
       "}\n",
       "\n",
       ".fcorpus {\n",
       "  display: flex;\n",
       "  flex-flow: column nowrap;\n",
       "  justify-content: flex-start;\n",
       "  align-items: flex-start;\n",
       "  align-content: flex-start;\n",
       "}\n",
       ".frow {\n",
       "  display: flex;\n",
       "  flex-flow: row nowrap;\n",
       "  justify-content: flex-start;\n",
       "  align-items: flex-start;\n",
       "  align-content: flex-start;\n",
       "}\n",
       ".fmeta {\n",
       "  display: flex;\n",
       "  flex-flow: column nowrap;\n",
       "  justify-content: flex-start;\n",
       "  align-items: flex-start;\n",
       "  align-content: flex-start;\n",
       "}\n",
       ".fmetarow {\n",
       "  display: flex;\n",
       "  flex-flow: row nowrap;\n",
       "  justify-content: flex-start;\n",
       "  align-items: flex-start;\n",
       "  align-content: flex-start;\n",
       "}\n",
       ".fmetakey {\n",
       "  min-width: 10rem;\n",
       "  font-family: monospace;\n",
       "}\n",
       ".fnamecat {\n",
       "  min-width: 10rem;\n",
       "}\n",
       ".fnamecat.edge {\n",
       "  font-weight: bold;\n",
       "  font-style: italic;\n",
       "}\n",
       ".fmono {\n",
       "    font-family: monospace;\n",
       "}\n",
       "\n",
       ":root {\n",
       "\t--node:               hsla(120, 100%,  20%, 1.0  );\n",
       "\t--label:              hsla(  0, 100%,  20%, 1.0  );\n",
       "\t--tfsechead:          hsla(  0, 100%,  25%, 1.0  );\n",
       "\t--structure:          hsla(120, 100%,  25%, 1.0  );\n",
       "\t--features:           hsla(  0,   0%,  30%, 1.0  );\n",
       "  --text-color:         hsla( 60,  80%,  10%, 1.0  );\n",
       "  --lex-color:          hsla(220,  90%,  60%, 1.0  );\n",
       "  --meta-color:         hsla(  0,   0%,  90%, 0.7  );\n",
       "  --meta-width:         3px;\n",
       "  --border-color-nul:   hsla(  0,   0%,  90%, 0.5  );\n",
       "  --border-color0:      hsla(  0,   0%,  90%, 0.9  );\n",
       "  --border-color1:      hsla(  0,   0%,  80%, 0.9  );\n",
       "  --border-color2:      hsla(  0,   0%,  70%, 0.9  );\n",
       "  --border-color3:      hsla(  0,   0%,  80%, 0.8  );\n",
       "  --border-color4:      hsla(  0,   0%,  60%, 0.9  );\n",
       "  --border-width-nul:   2px;\n",
       "  --border-width0:      2px;\n",
       "  --border-width1:      3px;\n",
       "  --border-width2:      4px;\n",
       "  --border-width3:      6px;\n",
       "  --border-width4:      5px;\n",
       "  --border-width-plain: 2px;\n",
       "}\n",
       ".hl {\n",
       "  background-color: var(--hl-strong);\n",
       "}\n",
       "span.hl {\n",
       "\tbackground-color: var(--hl-strong);\n",
       "\tborder-width: 0;\n",
       "\tborder-radius: 2px;\n",
       "\tborder-style: solid;\n",
       "}\n",
       "div.contnr.hl,div.lbl.hl {\n",
       "  background-color: var(--hl-strong);\n",
       "}\n",
       "div.contnr.hl {\n",
       "  border-color: var(--hl-rim) ! important;\n",
       "\tborder-width: 4px ! important;\n",
       "}\n",
       "\n",
       "span.hlbx {\n",
       "\tborder-color: var(--hl-rim);\n",
       "\tborder-width: 4px ! important;\n",
       "\tborder-style: solid;\n",
       "\tborder-radius: 6px;\n",
       "  padding: 4px;\n",
       "  margin: 4px;\n",
       "}\n",
       "\n",
       "span.plain {\n",
       "  display: inline-block;\n",
       "  white-space: pre-wrap;\n",
       "}\n",
       "\n",
       ":root {\n",
       "\t--hl-strong:        hsla( 60, 100%,  70%, 0.9  );\n",
       "\t--hl-rim:           hsla( 55,  80%,  50%, 1.0  );\n",
       "}\n",
       ".pnum {\n",
       "    font-family: sans-serif;\n",
       "    font-size: small;\n",
       "    font-weight: bold;\n",
       "    color: #444444;\n",
       "}\n",
       ".period {\n",
       "    font-family: monospace;\n",
       "    font-size: medium;\n",
       "    font-weight: bold;\n",
       "    color: #0000bb;\n",
       "}\n",
       "/* LANGUAGE: superscript and subscript */\n",
       "\n",
       "/* cluster */\n",
       ".det {\n",
       "    vertical-align: super;\n",
       "}\n",
       "/* cluster */\n",
       ".lang {\n",
       "    vertical-align: sub;\n",
       "}\n",
       "/* REDACTIONAL: line over or under  */\n",
       "\n",
       "/* flag */\n",
       ".collated {\n",
       "    font-weight: bold;\n",
       "    text-decoration: underline;\n",
       "}\n",
       "/* cluster */\n",
       ".excised {\n",
       "    color: #dd0000;\n",
       "    text-decoration: line-through;\n",
       "}\n",
       "/* cluster */\n",
       ".supplied {\n",
       "    color: #0000ff;\n",
       "    text-decoration: overline;\n",
       "}\n",
       "/* flag */\n",
       ".remarkable {\n",
       "    font-weight: bold;\n",
       "    text-decoration: overline;\n",
       "}\n",
       "\n",
       "/* UNSURE: italic*/\n",
       "\n",
       "/* cluster */\n",
       ".uncertain {\n",
       "    font-style: italic\n",
       "}\n",
       "/* flag */\n",
       ".question {\n",
       "    font-weight: bold;\n",
       "    font-style: italic\n",
       "}\n",
       "\n",
       "/* BROKEN: text-shadow */\n",
       "\n",
       "/* cluster */\n",
       ".missing {\n",
       "    color: #999999;\n",
       "    text-shadow: #bbbbbb 1px 1px;\n",
       "}\n",
       "/* flag */\n",
       ".damage {\n",
       "    font-weight: bold;\n",
       "    color: #999999;\n",
       "    text-shadow: #bbbbbb 1px 1px;\n",
       "}\n",
       ".empty {\n",
       "  color: #ff0000;\n",
       "}\n",
       "\n",
       "</style>"
      ],
      "text/plain": [
       "<IPython.core.display.HTML object>"
      ]
     },
     "metadata": {},
     "output_type": "display_data"
    },
    {
     "data": {
      "text/html": [
       "\n",
       "<script>\n",
       "const copyChar = (el, c) => {\n",
       "    for (const el of document.getElementsByClassName('ccon')) {\n",
       "        el.className = 'ccoff'\n",
       "    }\n",
       "    el.className = 'ccon'\n",
       "    navigator.clipboard.writeText(String.fromCharCode(c))\n",
       "}\n",
       "</script>\n"
      ],
      "text/plain": [
       "<IPython.core.display.HTML object>"
      ]
     },
     "metadata": {},
     "output_type": "display_data"
    },
    {
     "data": {
      "text/html": [
       "<div><b>Text-Fabric API:</b> names <a target=\"_blank\" href=\"https://annotation.github.io/text-fabric/tf/cheatsheet.html\" title=\"doc\">N F E L T S C TF</a> directly usable</div><hr>"
      ],
      "text/plain": [
       "<IPython.core.display.HTML object>"
      ]
     },
     "metadata": {},
     "output_type": "display_data"
    }
   ],
   "source": [
    "# A = use(\"Nino-cunei/ninmed:clone\", checkout=\"clone\", hoist=globals())\n",
    "A = use(\"Nino-cunei/ninmed\", hoist=globals())"
   ]
  },
  {
   "cell_type": "markdown",
   "metadata": {},
   "source": [
    "We pick an example face with which we illustrate many ways to represent cuneiform text."
   ]
  },
  {
   "cell_type": "code",
   "execution_count": 4,
   "metadata": {},
   "outputs": [],
   "source": [
    "exampleFace = (\"P285109\", \"reverse\")\n",
    "f = T.nodeFromSection(exampleFace)\n",
    "lines = L.d(f, otype=\"line\")"
   ]
  },
  {
   "cell_type": "markdown",
   "metadata": {},
   "source": [
    "# Raw text\n",
    "\n",
    "The most basic way is to show the source material for each line by its `atf` feature."
   ]
  },
  {
   "cell_type": "code",
   "execution_count": 5,
   "metadata": {},
   "outputs": [
    {
     "name": "stdout",
     "output_type": "stream",
     "text": [
      "1'. [x x x] x lu#-u₂# ina KAŠ.SAG [x x x x x x x]\n",
      "    [x x x] x lu#-u₂# ina KAŠ.SAG [x x x x x x x]\n",
      "\n",
      "2'. [DIŠ NA SA]G.KI.DAB.BA TUKU.TUKU [x x x x]\n",
      "    [DIŠ NA SAG].KI.DAB.BA TUKU.TUKU [x x x x]\n",
      "\n",
      "3'. [x x x x x UGU-š]u₂ KUM₂ [x x]\n",
      "    [x x x x x UGU-šu₂] KUM₂ [x x]\n",
      "\n",
      "4'. [x x x x x x x x Š]U₂? L[UGAL? x x x x]\n",
      "    [x x x x x x x x ŠU₂?] [LUGAL? x x x x]\n",
      "\n"
     ]
    }
   ],
   "source": [
    "for ln in lines:\n",
    "    print(F.atf.v(ln))\n",
    "    print(\"   \", T.text(ln))"
   ]
  },
  {
   "cell_type": "markdown",
   "metadata": {},
   "source": [
    "# Text formats\n",
    "\n",
    "The TF API supports *text formats*. Text formats make selections and apply templates and styles based\n",
    "on the analysed features of the text. For example: a text-format may ignore flags or clusters, or\n",
    "format numerals in special ways.\n",
    "\n",
    "Text formats are not baked into TF, but they are defined in the feature `otext` of the corpus.\n",
    "\n",
    "Moreover, for this corpus a TF app has been build that defines additional text-formats.\n",
    "\n",
    "Whereas the formats defined in `otext` are strictly plain text formats, the formats\n",
    "defined in the app are able to use typographic styles to shape the text, such as bold, italic, colors, etc.\n",
    "\n",
    "Here is the list of all formats."
   ]
  },
  {
   "cell_type": "code",
   "execution_count": 6,
   "metadata": {},
   "outputs": [
    {
     "data": {
      "text/plain": [
       "{'text-orig-full': 'sign',\n",
       " 'text-orig-plain': 'sign',\n",
       " 'layout-orig-full': 'sign',\n",
       " 'layout-orig-plain': 'sign'}"
      ]
     },
     "execution_count": 6,
     "metadata": {},
     "output_type": "execute_result"
    }
   ],
   "source": [
    "T.formats"
   ]
  },
  {
   "cell_type": "markdown",
   "metadata": {
    "tags": []
   },
   "source": [
    "## Plain text formats\n",
    "\n",
    "The formats whose names start with `text-` are the plain text formats.\n",
    "\n",
    "### `text-orig-full`\n",
    "\n",
    "This format is really close to the ATF. It contains all original information.\n",
    "\n",
    "This is the default format. We do not have to specify it.\n",
    "\n",
    "Line numbers are not included in this way of getting at the text, so we add them\n",
    "by means of the `lnno` feature, which contains the column numbers as well."
   ]
  },
  {
   "cell_type": "code",
   "execution_count": 7,
   "metadata": {},
   "outputs": [
    {
     "name": "stdout",
     "output_type": "stream",
     "text": [
      "2:1' [x x x] x lu#-u₂# ina KAŠ.SAG [x x x x x x x]\n",
      "\n",
      "2:2' [DIŠ NA SAG].KI.DAB.BA TUKU.TUKU [x x x x]\n",
      "\n",
      "2:3' [x x x x x UGU-šu₂] KUM₂ [x x]\n",
      "\n",
      "2:4' [x x x x x x x x ŠU₂?] [LUGAL? x x x x]\n",
      "\n"
     ]
    }
   ],
   "source": [
    "for ln in lines:\n",
    "    print(F.lnno.v(ln), T.text(ln))"
   ]
  },
  {
   "cell_type": "markdown",
   "metadata": {},
   "source": [
    "The `A.plain()` function focuses on the *contents*, and instead of the line number, it gives a full specification\n",
    "of the location, linked to the online source on CDLI."
   ]
  },
  {
   "cell_type": "code",
   "execution_count": 8,
   "metadata": {},
   "outputs": [
    {
     "data": {
      "text/html": [
       "<div class=\"\"><span class=\"tfsechead \"><span class=\"ltr\"><a target=\"_blank\" href=\"https://cdli.ucla.edu/search/search_results.php?SearchMode=Text&amp;ObjectID=P285109\" title=\"Show this document on CDLI\" sec=\"P285109 reverse:2:1'\">P285109 reverse:2:1'</a></span></span>  <span class=\"txtt\">[x </span><span class=\"txtt\">x </span><span class=\"txtt\">x] </span><span class=\"txtt\">x </span><span class=\"txtt\">lu#-</span><span class=\"txtt\">u₂# </span><span class=\"txtt\">ina </span><span class=\"txtt\">KAŠ.</span><span class=\"txtt\">SAG </span><span class=\"txtt\">[x </span><span class=\"txtt\">x </span><span class=\"txtt\">x </span><span class=\"txtt\">x </span><span class=\"txtt\">x </span><span class=\"txtt\">x </span><span class=\"txtt\">x]\n",
       "</span></div>"
      ],
      "text/plain": [
       "<IPython.core.display.HTML object>"
      ]
     },
     "metadata": {},
     "output_type": "display_data"
    },
    {
     "data": {
      "text/html": [
       "<div class=\"\"><span class=\"tfsechead \"><span class=\"ltr\"><a target=\"_blank\" href=\"https://cdli.ucla.edu/search/search_results.php?SearchMode=Text&amp;ObjectID=P285109\" title=\"Show this document on CDLI\" sec=\"P285109 reverse:2:2'\">P285109 reverse:2:2'</a></span></span>  <span class=\"txtt\">[DIŠ </span><span class=\"txtt\">NA </span><span class=\"txtt\">SAG].</span><span class=\"txtt\">KI.</span><span class=\"txtt\">DAB.</span><span class=\"txtt\">BA </span><span class=\"txtt\">TUKU.</span><span class=\"txtt\">TUKU </span><span class=\"txtt\">[x </span><span class=\"txtt\">x </span><span class=\"txtt\">x </span><span class=\"txtt\">x]\n",
       "</span></div>"
      ],
      "text/plain": [
       "<IPython.core.display.HTML object>"
      ]
     },
     "metadata": {},
     "output_type": "display_data"
    },
    {
     "data": {
      "text/html": [
       "<div class=\"\"><span class=\"tfsechead \"><span class=\"ltr\"><a target=\"_blank\" href=\"https://cdli.ucla.edu/search/search_results.php?SearchMode=Text&amp;ObjectID=P285109\" title=\"Show this document on CDLI\" sec=\"P285109 reverse:2:3'\">P285109 reverse:2:3'</a></span></span>  <span class=\"txtt\">[x </span><span class=\"txtt\">x </span><span class=\"txtt\">x </span><span class=\"txtt\">x </span><span class=\"txtt\">x </span><span class=\"txtt\">UGU-</span><span class=\"txtt\">šu₂] </span><span class=\"txtt\">KUM₂ </span><span class=\"txtt\">[x </span><span class=\"txtt\">x]\n",
       "</span></div>"
      ],
      "text/plain": [
       "<IPython.core.display.HTML object>"
      ]
     },
     "metadata": {},
     "output_type": "display_data"
    },
    {
     "data": {
      "text/html": [
       "<div class=\"\"><span class=\"tfsechead \"><span class=\"ltr\"><a target=\"_blank\" href=\"https://cdli.ucla.edu/search/search_results.php?SearchMode=Text&amp;ObjectID=P285109\" title=\"Show this document on CDLI\" sec=\"P285109 reverse:2:4'\">P285109 reverse:2:4'</a></span></span>  <span class=\"txtt\">[x </span><span class=\"txtt\">x </span><span class=\"txtt\">x </span><span class=\"txtt\">x </span><span class=\"txtt\">x </span><span class=\"txtt\">x </span><span class=\"txtt\">x </span><span class=\"txtt\">x </span><span class=\"txtt\">ŠU₂?] </span><span class=\"txtt\">[LUGAL? </span><span class=\"txtt\">x </span><span class=\"txtt\">x </span><span class=\"txtt\">x </span><span class=\"txtt\">x]\n",
       "</span></div>"
      ],
      "text/plain": [
       "<IPython.core.display.HTML object>"
      ]
     },
     "metadata": {},
     "output_type": "display_data"
    }
   ],
   "source": [
    "for ln in lines:\n",
    "    A.plain(ln)"
   ]
  },
  {
   "cell_type": "markdown",
   "metadata": {
    "tags": []
   },
   "source": [
    "### Excursion: links to tablets\n",
    "\n",
    "We produce a links to CDLI for the first 10 tablets in the corpus"
   ]
  },
  {
   "cell_type": "code",
   "execution_count": 9,
   "metadata": {},
   "outputs": [
    {
     "data": {
      "text/html": [
       "<div class=\"\"><span class=\"tfsechead \"><span class=\"ltr\"><a target=\"_blank\" href=\"https://cdli.ucla.edu/search/search_results.php?SearchMode=Text&amp;ObjectID=P285136\" title=\"Show this document on CDLI\" sec=\"P285136\">P285136</a></span></span>  <span class=\"txtt \"><span class=\"tfsechead ltr\"><span class=\"ltr\"> </span></span></span></div>"
      ],
      "text/plain": [
       "<IPython.core.display.HTML object>"
      ]
     },
     "metadata": {},
     "output_type": "display_data"
    },
    {
     "data": {
      "text/html": [
       "<div class=\"\"><span class=\"tfsechead \"><span class=\"ltr\"><a target=\"_blank\" href=\"https://cdli.ucla.edu/search/search_results.php?SearchMode=Text&amp;ObjectID=P479250\" title=\"Show this document on CDLI\" sec=\"P479250\">P479250</a></span></span>  <span class=\"txtt \"><span class=\"tfsechead ltr\"><span class=\"ltr\"> </span></span></span></div>"
      ],
      "text/plain": [
       "<IPython.core.display.HTML object>"
      ]
     },
     "metadata": {},
     "output_type": "display_data"
    },
    {
     "data": {
      "text/html": [
       "<div class=\"\"><span class=\"tfsechead \"><span class=\"ltr\"><a target=\"_blank\" href=\"https://cdli.ucla.edu/search/search_results.php?SearchMode=Text&amp;ObjectID=P285109\" title=\"Show this document on CDLI\" sec=\"P285109\">P285109</a></span></span>  <span class=\"txtt \"><span class=\"tfsechead ltr\"><span class=\"ltr\"> </span></span></span></div>"
      ],
      "text/plain": [
       "<IPython.core.display.HTML object>"
      ]
     },
     "metadata": {},
     "output_type": "display_data"
    },
    {
     "data": {
      "text/html": [
       "<div class=\"\"><span class=\"tfsechead \"><span class=\"ltr\"><a target=\"_blank\" href=\"https://cdli.ucla.edu/search/search_results.php?SearchMode=Text&amp;ObjectID=P399223\" title=\"Show this document on CDLI\" sec=\"P399223\">P399223</a></span></span>  <span class=\"txtt \"><span class=\"tfsechead ltr\"><span class=\"ltr\"> </span></span></span></div>"
      ],
      "text/plain": [
       "<IPython.core.display.HTML object>"
      ]
     },
     "metadata": {},
     "output_type": "display_data"
    },
    {
     "data": {
      "text/html": [
       "<div class=\"\"><span class=\"tfsechead \"><span class=\"ltr\"><a target=\"_blank\" href=\"https://cdli.ucla.edu/search/search_results.php?SearchMode=Text&amp;ObjectID=P399313\" title=\"Show this document on CDLI\" sec=\"P399313\">P399313</a></span></span>  <span class=\"txtt \"><span class=\"tfsechead ltr\"><span class=\"ltr\"> </span></span></span></div>"
      ],
      "text/plain": [
       "<IPython.core.display.HTML object>"
      ]
     },
     "metadata": {},
     "output_type": "display_data"
    },
    {
     "data": {
      "text/html": [
       "<div class=\"\"><span class=\"tfsechead \"><span class=\"ltr\"><a target=\"_blank\" href=\"https://cdli.ucla.edu/search/search_results.php?SearchMode=Text&amp;ObjectID=P400909\" title=\"Show this document on CDLI\" sec=\"P400909\">P400909</a></span></span>  <span class=\"txtt \"><span class=\"tfsechead ltr\"><span class=\"ltr\"> </span></span></span></div>"
      ],
      "text/plain": [
       "<IPython.core.display.HTML object>"
      ]
     },
     "metadata": {},
     "output_type": "display_data"
    },
    {
     "data": {
      "text/html": [
       "<div class=\"\"><span class=\"tfsechead \"><span class=\"ltr\"><a target=\"_blank\" href=\"https://cdli.ucla.edu/search/search_results.php?SearchMode=Text&amp;ObjectID=P401255\" title=\"Show this document on CDLI\" sec=\"P401255\">P401255</a></span></span>  <span class=\"txtt \"><span class=\"tfsechead ltr\"><span class=\"ltr\"> </span></span></span></div>"
      ],
      "text/plain": [
       "<IPython.core.display.HTML object>"
      ]
     },
     "metadata": {},
     "output_type": "display_data"
    },
    {
     "data": {
      "text/html": [
       "<div class=\"\"><span class=\"tfsechead \"><span class=\"ltr\"><a target=\"_blank\" href=\"https://cdli.ucla.edu/search/search_results.php?SearchMode=Text&amp;ObjectID=P403291\" title=\"Show this document on CDLI\" sec=\"P403291\">P403291</a></span></span>  <span class=\"txtt \"><span class=\"tfsechead ltr\"><span class=\"ltr\"> </span></span></span></div>"
      ],
      "text/plain": [
       "<IPython.core.display.HTML object>"
      ]
     },
     "metadata": {},
     "output_type": "display_data"
    },
    {
     "data": {
      "text/html": [
       "<div class=\"\"><span class=\"tfsechead \"><span class=\"ltr\"><a target=\"_blank\" href=\"https://cdli.ucla.edu/search/search_results.php?SearchMode=Text&amp;ObjectID=P403381\" title=\"Show this document on CDLI\" sec=\"P403381\">P403381</a></span></span>  <span class=\"txtt \"><span class=\"tfsechead ltr\"><span class=\"ltr\"> </span></span></span></div>"
      ],
      "text/plain": [
       "<IPython.core.display.HTML object>"
      ]
     },
     "metadata": {},
     "output_type": "display_data"
    },
    {
     "data": {
      "text/html": [
       "<div class=\"\"><span class=\"tfsechead \"><span class=\"ltr\"><a target=\"_blank\" href=\"https://cdli.ucla.edu/search/search_results.php?SearchMode=Text&amp;ObjectID=P394104\" title=\"Show this document on CDLI\" sec=\"P394104\">P394104</a></span></span>  <span class=\"txtt \"><span class=\"tfsechead ltr\"><span class=\"ltr\"> </span></span></span></div>"
      ],
      "text/plain": [
       "<IPython.core.display.HTML object>"
      ]
     },
     "metadata": {},
     "output_type": "display_data"
    }
   ],
   "source": [
    "for doc in F.otype.s(\"document\")[0:10]:\n",
    "    A.plain(doc)"
   ]
  },
  {
   "cell_type": "markdown",
   "metadata": {},
   "source": [
    "### `text-orig-plain`\n",
    "\n",
    "This is a somewhat reduced format. It omits all flags and bracketing constructs."
   ]
  },
  {
   "cell_type": "code",
   "execution_count": 10,
   "metadata": {},
   "outputs": [
    {
     "data": {
      "text/html": [
       "<div class=\"\"><span class=\"tfsechead \"><span class=\"ltr\"><a target=\"_blank\" href=\"https://cdli.ucla.edu/search/search_results.php?SearchMode=Text&amp;ObjectID=P285109\" title=\"Show this document on CDLI\" sec=\"P285109 reverse:2:1'\">P285109 reverse:2:1'</a></span></span>  <span class=\"txtt\">x </span><span class=\"txtt\">x </span><span class=\"txtt\">x </span><span class=\"txtt\">x </span><span class=\"txtt\">lu-</span><span class=\"txtt\">u₂ </span><span class=\"txtt\">ina </span><span class=\"txtt\">KAŠ.</span><span class=\"txtt\">SAG </span><span class=\"txtt\">x </span><span class=\"txtt\">x </span><span class=\"txtt\">x </span><span class=\"txtt\">x </span><span class=\"txtt\">x </span><span class=\"txtt\">x </span><span class=\"txtt\">x\n",
       "</span></div>"
      ],
      "text/plain": [
       "<IPython.core.display.HTML object>"
      ]
     },
     "metadata": {},
     "output_type": "display_data"
    },
    {
     "data": {
      "text/html": [
       "<div class=\"\"><span class=\"tfsechead \"><span class=\"ltr\"><a target=\"_blank\" href=\"https://cdli.ucla.edu/search/search_results.php?SearchMode=Text&amp;ObjectID=P285109\" title=\"Show this document on CDLI\" sec=\"P285109 reverse:2:2'\">P285109 reverse:2:2'</a></span></span>  <span class=\"txtt\">DIŠ </span><span class=\"txtt\">NA </span><span class=\"txtt\">SAG.</span><span class=\"txtt\">KI.</span><span class=\"txtt\">DAB.</span><span class=\"txtt\">BA </span><span class=\"txtt\">TUKU.</span><span class=\"txtt\">TUKU </span><span class=\"txtt\">x </span><span class=\"txtt\">x </span><span class=\"txtt\">x </span><span class=\"txtt\">x\n",
       "</span></div>"
      ],
      "text/plain": [
       "<IPython.core.display.HTML object>"
      ]
     },
     "metadata": {},
     "output_type": "display_data"
    },
    {
     "data": {
      "text/html": [
       "<div class=\"\"><span class=\"tfsechead \"><span class=\"ltr\"><a target=\"_blank\" href=\"https://cdli.ucla.edu/search/search_results.php?SearchMode=Text&amp;ObjectID=P285109\" title=\"Show this document on CDLI\" sec=\"P285109 reverse:2:3'\">P285109 reverse:2:3'</a></span></span>  <span class=\"txtt\">x </span><span class=\"txtt\">x </span><span class=\"txtt\">x </span><span class=\"txtt\">x </span><span class=\"txtt\">x </span><span class=\"txtt\">UGU-</span><span class=\"txtt\">šu₂ </span><span class=\"txtt\">KUM₂ </span><span class=\"txtt\">x </span><span class=\"txtt\">x\n",
       "</span></div>"
      ],
      "text/plain": [
       "<IPython.core.display.HTML object>"
      ]
     },
     "metadata": {},
     "output_type": "display_data"
    },
    {
     "data": {
      "text/html": [
       "<div class=\"\"><span class=\"tfsechead \"><span class=\"ltr\"><a target=\"_blank\" href=\"https://cdli.ucla.edu/search/search_results.php?SearchMode=Text&amp;ObjectID=P285109\" title=\"Show this document on CDLI\" sec=\"P285109 reverse:2:4'\">P285109 reverse:2:4'</a></span></span>  <span class=\"txtt\">x </span><span class=\"txtt\">x </span><span class=\"txtt\">x </span><span class=\"txtt\">x </span><span class=\"txtt\">x </span><span class=\"txtt\">x </span><span class=\"txtt\">x </span><span class=\"txtt\">x </span><span class=\"txtt\">ŠU₂ </span><span class=\"txtt\">LUGAL </span><span class=\"txtt\">x </span><span class=\"txtt\">x </span><span class=\"txtt\">x </span><span class=\"txtt\">x\n",
       "</span></div>"
      ],
      "text/plain": [
       "<IPython.core.display.HTML object>"
      ]
     },
     "metadata": {},
     "output_type": "display_data"
    }
   ],
   "source": [
    "for ln in lines:\n",
    "    A.plain(ln, fmt=\"text-orig-plain\")"
   ]
  },
  {
   "cell_type": "markdown",
   "metadata": {},
   "source": [
    "## Styled text formats\n",
    "\n",
    "The formats whose names start with `layout-` are the styled text formats.\n",
    "\n",
    "### `layout-orig-full`\n",
    "\n",
    "This format looks like `text-orig-full`, but now we re-introduce the flags and clusters by specific\n",
    "layout devices.\n",
    "\n",
    "See below for detailed examples."
   ]
  },
  {
   "cell_type": "code",
   "execution_count": 11,
   "metadata": {},
   "outputs": [
    {
     "data": {
      "text/html": [
       "<div class=\"\"><span class=\"tfsechead \"><span class=\"ltr\"><a target=\"_blank\" href=\"https://cdli.ucla.edu/search/search_results.php?SearchMode=Text&amp;ObjectID=P285109\" title=\"Show this document on CDLI\" sec=\"P285109 reverse:2:1'\">P285109 reverse:2:1'</a></span></span>  <span class=\"txtt\"><span class=\"missing\"><span class=\"uncertain\"><span class=\"cls\">x</span></span></span> </span><span class=\"txtt\"><span class=\"missing\"><span class=\"uncertain\"><span class=\"cls\">x</span></span></span> </span><span class=\"txtt\"><span class=\"missing\"><span class=\"uncertain\"><span class=\"cls\">x</span></span></span> </span><span class=\"txtt\"><span class=\"uncertain\"><span class=\"cls\">x</span></span> </span><span class=\"txtt\"><span class=\"damage\"><span class=\"r\">lu</span></span>-</span><span class=\"txtt\"><span class=\"damage\"><span class=\"r\">u</span></span> </span><span class=\"txtt\"><span class=\"r\">ina</span> </span><span class=\"txtt\"><span class=\"g\">KAŠ</span>.</span><span class=\"txtt\"><span class=\"g\">SAG</span> </span><span class=\"txtt\"><span class=\"missing\"><span class=\"uncertain\"><span class=\"cls\">x</span></span></span> </span><span class=\"txtt\"><span class=\"missing\"><span class=\"uncertain\"><span class=\"cls\">x</span></span></span> </span><span class=\"txtt\"><span class=\"missing\"><span class=\"uncertain\"><span class=\"cls\">x</span></span></span> </span><span class=\"txtt\"><span class=\"missing\"><span class=\"uncertain\"><span class=\"cls\">x</span></span></span> </span><span class=\"txtt\"><span class=\"missing\"><span class=\"uncertain\"><span class=\"cls\">x</span></span></span> </span><span class=\"txtt\"><span class=\"missing\"><span class=\"uncertain\"><span class=\"cls\">x</span></span></span> </span><span class=\"txtt\"><span class=\"missing\"><span class=\"uncertain\"><span class=\"cls\">x</span></span></span>\n",
       "</span></div>"
      ],
      "text/plain": [
       "<IPython.core.display.HTML object>"
      ]
     },
     "metadata": {},
     "output_type": "display_data"
    },
    {
     "data": {
      "text/html": [
       "<div class=\"\"><span class=\"tfsechead \"><span class=\"ltr\"><a target=\"_blank\" href=\"https://cdli.ucla.edu/search/search_results.php?SearchMode=Text&amp;ObjectID=P285109\" title=\"Show this document on CDLI\" sec=\"P285109 reverse:2:2'\">P285109 reverse:2:2'</a></span></span>  <span class=\"txtt\"><span class=\"missing\"><span class=\"g\">DIŠ</span></span> </span><span class=\"txtt\"><span class=\"missing\"><span class=\"g\">NA</span></span> </span><span class=\"txtt\"><span class=\"g\">SAG</span>.</span><span class=\"txtt\"><span class=\"g\">KI</span>.</span><span class=\"txtt\"><span class=\"g\">DAB</span>.</span><span class=\"txtt\"><span class=\"g\">BA</span> </span><span class=\"txtt\"><span class=\"g\">TUKU</span>.</span><span class=\"txtt\"><span class=\"g\">TUKU</span> </span><span class=\"txtt\"><span class=\"missing\"><span class=\"uncertain\"><span class=\"cls\">x</span></span></span> </span><span class=\"txtt\"><span class=\"missing\"><span class=\"uncertain\"><span class=\"cls\">x</span></span></span> </span><span class=\"txtt\"><span class=\"missing\"><span class=\"uncertain\"><span class=\"cls\">x</span></span></span> </span><span class=\"txtt\"><span class=\"missing\"><span class=\"uncertain\"><span class=\"cls\">x</span></span></span>\n",
       "</span></div>"
      ],
      "text/plain": [
       "<IPython.core.display.HTML object>"
      ]
     },
     "metadata": {},
     "output_type": "display_data"
    },
    {
     "data": {
      "text/html": [
       "<div class=\"\"><span class=\"tfsechead \"><span class=\"ltr\"><a target=\"_blank\" href=\"https://cdli.ucla.edu/search/search_results.php?SearchMode=Text&amp;ObjectID=P285109\" title=\"Show this document on CDLI\" sec=\"P285109 reverse:2:3'\">P285109 reverse:2:3'</a></span></span>  <span class=\"txtt\"><span class=\"missing\"><span class=\"uncertain\"><span class=\"cls\">x</span></span></span> </span><span class=\"txtt\"><span class=\"missing\"><span class=\"uncertain\"><span class=\"cls\">x</span></span></span> </span><span class=\"txtt\"><span class=\"missing\"><span class=\"uncertain\"><span class=\"cls\">x</span></span></span> </span><span class=\"txtt\"><span class=\"missing\"><span class=\"uncertain\"><span class=\"cls\">x</span></span></span> </span><span class=\"txtt\"><span class=\"missing\"><span class=\"uncertain\"><span class=\"cls\">x</span></span></span> </span><span class=\"txtt\"><span class=\"missing\"><span class=\"g\">UGU</span></span>-</span><span class=\"txtt\"><span class=\"r\">šu</span> </span><span class=\"txtt\"><span class=\"g\">KUM₂</span> </span><span class=\"txtt\"><span class=\"missing\"><span class=\"uncertain\"><span class=\"cls\">x</span></span></span> </span><span class=\"txtt\"><span class=\"missing\"><span class=\"uncertain\"><span class=\"cls\">x</span></span></span>\n",
       "</span></div>"
      ],
      "text/plain": [
       "<IPython.core.display.HTML object>"
      ]
     },
     "metadata": {},
     "output_type": "display_data"
    },
    {
     "data": {
      "text/html": [
       "<div class=\"\"><span class=\"tfsechead \"><span class=\"ltr\"><a target=\"_blank\" href=\"https://cdli.ucla.edu/search/search_results.php?SearchMode=Text&amp;ObjectID=P285109\" title=\"Show this document on CDLI\" sec=\"P285109 reverse:2:4'\">P285109 reverse:2:4'</a></span></span>  <span class=\"txtt\"><span class=\"missing\"><span class=\"uncertain\"><span class=\"cls\">x</span></span></span> </span><span class=\"txtt\"><span class=\"missing\"><span class=\"uncertain\"><span class=\"cls\">x</span></span></span> </span><span class=\"txtt\"><span class=\"missing\"><span class=\"uncertain\"><span class=\"cls\">x</span></span></span> </span><span class=\"txtt\"><span class=\"missing\"><span class=\"uncertain\"><span class=\"cls\">x</span></span></span> </span><span class=\"txtt\"><span class=\"missing\"><span class=\"uncertain\"><span class=\"cls\">x</span></span></span> </span><span class=\"txtt\"><span class=\"missing\"><span class=\"uncertain\"><span class=\"cls\">x</span></span></span> </span><span class=\"txtt\"><span class=\"missing\"><span class=\"uncertain\"><span class=\"cls\">x</span></span></span> </span><span class=\"txtt\"><span class=\"missing\"><span class=\"uncertain\"><span class=\"cls\">x</span></span></span> </span><span class=\"txtt\"><span class=\"question\"><span class=\"g\">ŠU₂</span></span> </span><span class=\"txtt\"><span class=\"question missing\"><span class=\"g\">LUGAL</span></span> </span><span class=\"txtt\"><span class=\"missing\"><span class=\"uncertain\"><span class=\"cls\">x</span></span></span> </span><span class=\"txtt\"><span class=\"missing\"><span class=\"uncertain\"><span class=\"cls\">x</span></span></span> </span><span class=\"txtt\"><span class=\"missing\"><span class=\"uncertain\"><span class=\"cls\">x</span></span></span> </span><span class=\"txtt\"><span class=\"missing\"><span class=\"uncertain\"><span class=\"cls\">x</span></span></span>\n",
       "</span></div>"
      ],
      "text/plain": [
       "<IPython.core.display.HTML object>"
      ]
     },
     "metadata": {},
     "output_type": "display_data"
    }
   ],
   "source": [
    "for ln in lines:\n",
    "    A.plain(ln, fmt=\"layout-orig-full\")"
   ]
  },
  {
   "cell_type": "markdown",
   "metadata": {},
   "source": [
    "### `layout-orig-plain`\n",
    "\n",
    "This format looks like `text-orig-plain`, but now we re-introduce the flags and clusters by specific\n",
    "layout devices.\n",
    "\n",
    "See below for detailed examples."
   ]
  },
  {
   "cell_type": "code",
   "execution_count": 12,
   "metadata": {},
   "outputs": [
    {
     "data": {
      "text/html": [
       "<div class=\"\"><span class=\"tfsechead \"><span class=\"ltr\"><a target=\"_blank\" href=\"https://cdli.ucla.edu/search/search_results.php?SearchMode=Text&amp;ObjectID=P285109\" title=\"Show this document on CDLI\" sec=\"P285109 reverse:2:1'\">P285109 reverse:2:1'</a></span></span>  <span class=\"txtt\"><span class=\"missing\"><span class=\"uncertain\"><span class=\"cls\">x</span></span></span> </span><span class=\"txtt\"><span class=\"missing\"><span class=\"uncertain\"><span class=\"cls\">x</span></span></span> </span><span class=\"txtt\"><span class=\"missing\"><span class=\"uncertain\"><span class=\"cls\">x</span></span></span> </span><span class=\"txtt\"><span class=\"uncertain\"><span class=\"cls\">x</span></span> </span><span class=\"txtt\"><span class=\"damage\"><span class=\"r\">lu</span></span>-</span><span class=\"txtt\"><span class=\"damage\"><span class=\"r\">u</span></span> </span><span class=\"txtt\"><span class=\"r\">ina</span> </span><span class=\"txtt\"><span class=\"g\">KAŠ</span>.</span><span class=\"txtt\"><span class=\"g\">SAG</span> </span><span class=\"txtt\"><span class=\"missing\"><span class=\"uncertain\"><span class=\"cls\">x</span></span></span> </span><span class=\"txtt\"><span class=\"missing\"><span class=\"uncertain\"><span class=\"cls\">x</span></span></span> </span><span class=\"txtt\"><span class=\"missing\"><span class=\"uncertain\"><span class=\"cls\">x</span></span></span> </span><span class=\"txtt\"><span class=\"missing\"><span class=\"uncertain\"><span class=\"cls\">x</span></span></span> </span><span class=\"txtt\"><span class=\"missing\"><span class=\"uncertain\"><span class=\"cls\">x</span></span></span> </span><span class=\"txtt\"><span class=\"missing\"><span class=\"uncertain\"><span class=\"cls\">x</span></span></span> </span><span class=\"txtt\"><span class=\"missing\"><span class=\"uncertain\"><span class=\"cls\">x</span></span></span>\n",
       "</span></div>"
      ],
      "text/plain": [
       "<IPython.core.display.HTML object>"
      ]
     },
     "metadata": {},
     "output_type": "display_data"
    },
    {
     "data": {
      "text/html": [
       "<div class=\"\"><span class=\"tfsechead \"><span class=\"ltr\"><a target=\"_blank\" href=\"https://cdli.ucla.edu/search/search_results.php?SearchMode=Text&amp;ObjectID=P285109\" title=\"Show this document on CDLI\" sec=\"P285109 reverse:2:2'\">P285109 reverse:2:2'</a></span></span>  <span class=\"txtt\"><span class=\"missing\"><span class=\"g\">DIŠ</span></span> </span><span class=\"txtt\"><span class=\"missing\"><span class=\"g\">NA</span></span> </span><span class=\"txtt\"><span class=\"g\">SAG</span>.</span><span class=\"txtt\"><span class=\"g\">KI</span>.</span><span class=\"txtt\"><span class=\"g\">DAB</span>.</span><span class=\"txtt\"><span class=\"g\">BA</span> </span><span class=\"txtt\"><span class=\"g\">TUKU</span>.</span><span class=\"txtt\"><span class=\"g\">TUKU</span> </span><span class=\"txtt\"><span class=\"missing\"><span class=\"uncertain\"><span class=\"cls\">x</span></span></span> </span><span class=\"txtt\"><span class=\"missing\"><span class=\"uncertain\"><span class=\"cls\">x</span></span></span> </span><span class=\"txtt\"><span class=\"missing\"><span class=\"uncertain\"><span class=\"cls\">x</span></span></span> </span><span class=\"txtt\"><span class=\"missing\"><span class=\"uncertain\"><span class=\"cls\">x</span></span></span>\n",
       "</span></div>"
      ],
      "text/plain": [
       "<IPython.core.display.HTML object>"
      ]
     },
     "metadata": {},
     "output_type": "display_data"
    },
    {
     "data": {
      "text/html": [
       "<div class=\"\"><span class=\"tfsechead \"><span class=\"ltr\"><a target=\"_blank\" href=\"https://cdli.ucla.edu/search/search_results.php?SearchMode=Text&amp;ObjectID=P285109\" title=\"Show this document on CDLI\" sec=\"P285109 reverse:2:3'\">P285109 reverse:2:3'</a></span></span>  <span class=\"txtt\"><span class=\"missing\"><span class=\"uncertain\"><span class=\"cls\">x</span></span></span> </span><span class=\"txtt\"><span class=\"missing\"><span class=\"uncertain\"><span class=\"cls\">x</span></span></span> </span><span class=\"txtt\"><span class=\"missing\"><span class=\"uncertain\"><span class=\"cls\">x</span></span></span> </span><span class=\"txtt\"><span class=\"missing\"><span class=\"uncertain\"><span class=\"cls\">x</span></span></span> </span><span class=\"txtt\"><span class=\"missing\"><span class=\"uncertain\"><span class=\"cls\">x</span></span></span> </span><span class=\"txtt\"><span class=\"missing\"><span class=\"g\">UGU</span></span>-</span><span class=\"txtt\"><span class=\"r\">šu</span> </span><span class=\"txtt\"><span class=\"g\">KUM₂</span> </span><span class=\"txtt\"><span class=\"missing\"><span class=\"uncertain\"><span class=\"cls\">x</span></span></span> </span><span class=\"txtt\"><span class=\"missing\"><span class=\"uncertain\"><span class=\"cls\">x</span></span></span>\n",
       "</span></div>"
      ],
      "text/plain": [
       "<IPython.core.display.HTML object>"
      ]
     },
     "metadata": {},
     "output_type": "display_data"
    },
    {
     "data": {
      "text/html": [
       "<div class=\"\"><span class=\"tfsechead \"><span class=\"ltr\"><a target=\"_blank\" href=\"https://cdli.ucla.edu/search/search_results.php?SearchMode=Text&amp;ObjectID=P285109\" title=\"Show this document on CDLI\" sec=\"P285109 reverse:2:4'\">P285109 reverse:2:4'</a></span></span>  <span class=\"txtt\"><span class=\"missing\"><span class=\"uncertain\"><span class=\"cls\">x</span></span></span> </span><span class=\"txtt\"><span class=\"missing\"><span class=\"uncertain\"><span class=\"cls\">x</span></span></span> </span><span class=\"txtt\"><span class=\"missing\"><span class=\"uncertain\"><span class=\"cls\">x</span></span></span> </span><span class=\"txtt\"><span class=\"missing\"><span class=\"uncertain\"><span class=\"cls\">x</span></span></span> </span><span class=\"txtt\"><span class=\"missing\"><span class=\"uncertain\"><span class=\"cls\">x</span></span></span> </span><span class=\"txtt\"><span class=\"missing\"><span class=\"uncertain\"><span class=\"cls\">x</span></span></span> </span><span class=\"txtt\"><span class=\"missing\"><span class=\"uncertain\"><span class=\"cls\">x</span></span></span> </span><span class=\"txtt\"><span class=\"missing\"><span class=\"uncertain\"><span class=\"cls\">x</span></span></span> </span><span class=\"txtt\"><span class=\"question\"><span class=\"g\">ŠU₂</span></span> </span><span class=\"txtt\"><span class=\"question missing\"><span class=\"g\">LUGAL</span></span> </span><span class=\"txtt\"><span class=\"missing\"><span class=\"uncertain\"><span class=\"cls\">x</span></span></span> </span><span class=\"txtt\"><span class=\"missing\"><span class=\"uncertain\"><span class=\"cls\">x</span></span></span> </span><span class=\"txtt\"><span class=\"missing\"><span class=\"uncertain\"><span class=\"cls\">x</span></span></span> </span><span class=\"txtt\"><span class=\"missing\"><span class=\"uncertain\"><span class=\"cls\">x</span></span></span>\n",
       "</span></div>"
      ],
      "text/plain": [
       "<IPython.core.display.HTML object>"
      ]
     },
     "metadata": {},
     "output_type": "display_data"
    }
   ],
   "source": [
    "for ln in lines:\n",
    "    A.plain(ln, fmt=\"layout-orig-plain\")"
   ]
  },
  {
   "cell_type": "markdown",
   "metadata": {},
   "source": [
    "Here is the text of the face in each of the plain text formats, i.e. no additional HTML formatting is applied."
   ]
  },
  {
   "cell_type": "markdown",
   "metadata": {
    "tags": []
   },
   "source": [
    "# Pretty\n",
    "\n",
    "The ultimate of graphical display is by means of the `pretty()` function.\n",
    "\n",
    "This display is less useful for reading, but instead optimized for showing all information that you might\n",
    "wish for.\n",
    "\n",
    "It shows a base representation according to a text format of your choice\n",
    "(here we choose `layout-orig-full`), and it shows the values\n",
    "of a standard set of features."
   ]
  },
  {
   "cell_type": "code",
   "execution_count": 13,
   "metadata": {},
   "outputs": [
    {
     "data": {
      "text/plain": [
       "'hur.ri.im#'"
      ]
     },
     "execution_count": 13,
     "metadata": {},
     "output_type": "execute_result"
    }
   ],
   "source": [
    "w = F.otype.s(\"word\")[10]\n",
    "F.atf.v(w)"
   ]
  },
  {
   "cell_type": "code",
   "execution_count": 14,
   "metadata": {},
   "outputs": [
    {
     "data": {
      "text/html": [
       "<div class=\"tfsechead \"><span class=\"ltr\"><a target=\"_blank\" href=\"https://cdli.ucla.edu/search/search_results.php?SearchMode=Text&amp;ObjectID=P285136\" title=\"Show this document on CDLI\" sec=\"P285136 obverse:3'\">P285136 obverse:3'</a></span></div><div class=\" children\"><div class=\"contnr c1 trm   \" ><div class=\"lbl c1 trm \" ><span class=\"nd\">word</span> <span class=\"txtt\"><span class=\"plain   \" ><span class=\"txtt\">hur.</span><span class=\"txtt\">ri.</span><span class=\"txtt\">im# </span></span></span></div></div></div>"
      ],
      "text/plain": [
       "<IPython.core.display.HTML object>"
      ]
     },
     "metadata": {},
     "output_type": "display_data"
    }
   ],
   "source": [
    "A.pretty(w)"
   ]
  },
  {
   "cell_type": "code",
   "execution_count": 15,
   "metadata": {},
   "outputs": [
    {
     "data": {
      "text/html": [
       "<div class=\"tfsechead \"><span class=\"ltr\"><a target=\"_blank\" href=\"https://cdli.ucla.edu/search/search_results.php?SearchMode=Text&amp;ObjectID=P285136\" title=\"Show this document on CDLI\" sec=\"P285136 obverse:3'\">P285136 obverse:3'</a></span></div><div class=\" children\"><div class=\"contnr c1 trm   \" ><div class=\"lbl c1 trm \" ><span class=\"nd\">word:62406</span> <span class=\"txtt\"><span class=\"plain   \" ><span class=\"txtt\"><span class=\"r\">hur</span>.</span><span class=\"txtt\"><span class=\"r\">ri</span>.</span><span class=\"txtt\"><span class=\"damage\"><span class=\"r\">im</span></span> </span></span></span></div></div></div>"
      ],
      "text/plain": [
       "<IPython.core.display.HTML object>"
      ]
     },
     "metadata": {},
     "output_type": "display_data"
    }
   ],
   "source": [
    "A.pretty(w, fmt=\"layout-orig-full\", withNodes=True)"
   ]
  },
  {
   "cell_type": "markdown",
   "metadata": {},
   "source": [
    "By default, pretty displays descend to the word level, but you can also descend to the sign level:"
   ]
  },
  {
   "cell_type": "code",
   "execution_count": 16,
   "metadata": {},
   "outputs": [
    {
     "data": {
      "text/html": [
       "<div class=\"tfsechead \"><span class=\"ltr\"><a target=\"_blank\" href=\"https://cdli.ucla.edu/search/search_results.php?SearchMode=Text&amp;ObjectID=P285136\" title=\"Show this document on CDLI\" sec=\"P285136 obverse:3'\">P285136 obverse:3'</a></span></div><div class=\" children\"><div class=\"contnr c1    \" ><div class=\"lbl c1  \" ><span class=\"nd\">word</span> <span class=\"txtt\">hur.ri.im# </span></div><div class=\"children hor  \"><div class=\"contnr c0 trm   \" ><div class=\"lbl c0 trm \" ><span class=\"txtt\">hur.</span></div></div><div class=\"contnr c0 trm   \" ><div class=\"lbl c0 trm \" ><span class=\"txtt\">ri.</span></div></div><div class=\"contnr c0 trm   \" ><div class=\"lbl c0 trm \" ><span class=\"txtt\">im# </span></div></div></div></div></div>"
      ],
      "text/plain": [
       "<IPython.core.display.HTML object>"
      ]
     },
     "metadata": {},
     "output_type": "display_data"
    }
   ],
   "source": [
    "A.pretty(w, baseTypes=\"sign\")"
   ]
  },
  {
   "cell_type": "code",
   "execution_count": 17,
   "metadata": {},
   "outputs": [
    {
     "data": {
      "text/html": [
       "<div class=\"tfsechead \"><span class=\"ltr\"><a target=\"_blank\" href=\"https://cdli.ucla.edu/search/search_results.php?SearchMode=Text&amp;ObjectID=P285136\" title=\"Show this document on CDLI\" sec=\"P285136 obverse:3'\">P285136 obverse:3'</a></span></div><div class=\" children\"><div class=\"contnr c1    \" ><div class=\"lbl c1  \" ><span class=\"nd\">word:62406</span> <span class=\"txtt\"><span class=\"r\">hur</span>.<span class=\"r\">ri</span>.<span class=\"damage\"><span class=\"r\">im</span></span> </span></div><div class=\"children hor  \"><div class=\"contnr c0 trm   \" ><div class=\"lbl c0 trm \" ><span class=\"nd\">16</span> <span class=\"txtt\"><span class=\"r\">hur</span>.</span></div></div><div class=\"contnr c0 trm   \" ><div class=\"lbl c0 trm \" ><span class=\"nd\">17</span> <span class=\"txtt\"><span class=\"r\">ri</span>.</span></div></div><div class=\"contnr c0 trm   \" ><div class=\"lbl c0 trm \" ><span class=\"nd\">18</span> <span class=\"txtt\"><span class=\"damage\"><span class=\"r\">im</span></span> </span></div></div></div></div></div>"
      ],
      "text/plain": [
       "<IPython.core.display.HTML object>"
      ]
     },
     "metadata": {},
     "output_type": "display_data"
    }
   ],
   "source": [
    "A.pretty(w, fmt=\"layout-orig-full\", baseTypes=\"sign\", withNodes=True)"
   ]
  },
  {
   "cell_type": "markdown",
   "metadata": {},
   "source": [
    "Here is a line with some pretty convoluted clusters.\n",
    "\n",
    "The line based `atf` feature contains the original ATF.\n",
    "The `T.text` is a reconstruction of ATF based on the interpreted JSON source.\n",
    "\n",
    "**Note that we have interpreted `mu[n` by `[mun`**."
   ]
  },
  {
   "cell_type": "code",
   "execution_count": 18,
   "metadata": {},
   "outputs": [
    {
     "name": "stdout",
     "output_type": "stream",
     "text": [
      "original:    23. [{ši]m}GIG U₂.BABBAR U₅.ARGAB{mušen} {mu[n}eme-sal-li₃ 1-niš SUD₂ ...]\n",
      "interpreted: 23. [{šim]}GIG U₂.BABBAR U₅.ARGAB{mušen} {[mun}eme-sal-li₃ 1-niš SUD₂ ...]\n",
      "\n"
     ]
    },
    {
     "data": {
      "text/html": [
       "<div class=\"\"><span class=\"tfsechead \"><span class=\"ltr\"><a target=\"_blank\" href=\"https://cdli.ucla.edu/search/search_results.php?SearchMode=Text&amp;ObjectID=P394104\" title=\"Show this document on CDLI\" sec=\"P394104 obverse:1:23\">P394104 obverse:1:23</a></span></span>  <span class=\"txtt\">[{šim]}</span><span class=\"txtt\">GIG </span><span class=\"txtt\">U₂.</span><span class=\"txtt\">BABBAR </span><span class=\"txtt\">U₅.</span><span class=\"txtt\">ARGAB</span><span class=\"txtt\">{mušen} </span><span class=\"txtt\">{[mun}</span><span class=\"txtt\">eme-</span><span class=\"txtt\">sal-</span><span class=\"txtt\">li₃ </span><span class=\"txtt\">1-</span><span class=\"txtt\">niš </span><span class=\"txtt\">SUD₂ </span><span class=\"txtt\">...]\n",
       "</span></div>"
      ],
      "text/plain": [
       "<IPython.core.display.HTML object>"
      ]
     },
     "metadata": {},
     "output_type": "display_data"
    },
    {
     "data": {
      "text/html": [
       "<div class=\"tfsechead \"><span class=\"ltr\"><a target=\"_blank\" href=\"https://cdli.ucla.edu/search/search_results.php?SearchMode=Text&amp;ObjectID=P394104\" title=\"Show this document on CDLI\" sec=\"P394104 obverse:1:23\">P394104 obverse:1:23</a></span></div><div class=\" children\"><div class=\"contnr c3    \" ><div class=\"lbl c3  \" ><span class=\"nd\">line</span></div><div class=\"children hor wrap \"><div class=\"contnr c2    \" ><div class=\"lbl c2  \" ><span class=\"nd\">cluster</span></div><div class='features'><span class=\"type xft\" ><span class=\"f\">type=</span>missing</span></div><div class=\"children hor wrap \"><div class=\"contnr c2    \" ><div class=\"lbl c2  \" ><span class=\"nd\">cluster</span></div><div class='features'><span class=\"type xft\" ><span class=\"f\">type=</span>det</span></div><div class=\"children hor wrap \"><div class=\"contnr c1 trm  rno \" ><div class=\"lbl c1 trm \" ><span class=\"nd\">word</span> <span class=\"txtt\"><span class=\"plain  rno \" ><span class=\"txtt\">[{šim]}</span></span></span></div><div class='features'><span class=\"type xft\" ><span class=\"f\">type=</span>word</span></div></div></div></div></div></div><div class=\"contnr c1 trm  lno \" ><div class=\"lbl c1 trm \" ><span class=\"nd\">word</span> <span class=\"txtt\"><span class=\"plain  lno \" ><span class=\"txtt\">GIG </span></span></span></div><div class='features'><span class=\"type xft\" ><span class=\"f\">type=</span>word</span></div></div><div class=\"contnr c1 trm   \" ><div class=\"lbl c1 trm \" ><span class=\"nd\">word</span> <span class=\"txtt\"><span class=\"plain   \" ><span class=\"txtt\">U₂.</span><span class=\"txtt\">BABBAR </span></span></span></div><div class='features'><span class=\"type xft\" ><span class=\"f\">type=</span>word</span></div></div><div class=\"contnr c1 trm  rno \" ><div class=\"lbl c1 trm \" ><span class=\"nd\">word</span> <span class=\"txtt\"><span class=\"plain  rno \" ><span class=\"txtt\">U₅.</span><span class=\"txtt\">ARGAB</span></span></span></div><div class='features'><span class=\"type xft\" ><span class=\"f\">type=</span>word</span></div></div><div class=\"contnr c2    \" ><div class=\"lbl c2  \" ><span class=\"nd\">cluster</span></div><div class='features'><span class=\"type xft\" ><span class=\"f\">type=</span>det</span></div><div class=\"children hor wrap \"><div class=\"contnr c1 trm  lno \" ><div class=\"lbl c1 trm \" ><span class=\"nd\">word</span> <span class=\"txtt\"><span class=\"plain  lno \" ><span class=\"txtt\">{mušen} </span></span></span></div><div class='features'><span class=\"type xft\" ><span class=\"f\">type=</span>word</span></div></div></div></div><div class=\"contnr c2    \" ><div class=\"lbl c2  \" ><span class=\"nd\">cluster</span></div><div class='features'><span class=\"type xft\" ><span class=\"f\">type=</span>missing</span></div><div class=\"children hor wrap \"><div class=\"contnr c2    \" ><div class=\"lbl c2  \" ><span class=\"nd\">cluster</span></div><div class='features'><span class=\"type xft\" ><span class=\"f\">type=</span>det</span></div><div class=\"children hor wrap \"><div class=\"contnr c1 trm  rno \" ><div class=\"lbl c1 trm \" ><span class=\"nd\">word</span> <span class=\"txtt\"><span class=\"plain  rno \" ><span class=\"txtt\">{[mun}</span></span></span></div><div class='features'><span class=\"type xft\" ><span class=\"f\">type=</span>word</span></div></div></div></div><div class=\"contnr c1 trm  lno \" ><div class=\"lbl c1 trm \" ><span class=\"nd\">word</span> <span class=\"txtt\"><span class=\"plain  lno \" ><span class=\"txtt\">eme-</span><span class=\"txtt\">sal-</span><span class=\"txtt\">li₃ </span></span></span></div><div class='features'><span class=\"type xft\" ><span class=\"f\">type=</span>word</span></div></div><div class=\"contnr c1 trm   \" ><div class=\"lbl c1 trm \" ><span class=\"nd\">word</span> <span class=\"txtt\"><span class=\"plain   \" ><span class=\"txtt\">1-</span><span class=\"txtt\">niš </span></span></span></div><div class='features'><span class=\"type xft\" ><span class=\"f\">type=</span>word</span></div></div><div class=\"contnr c1 trm   \" ><div class=\"lbl c1 trm \" ><span class=\"nd\">word</span> <span class=\"txtt\"><span class=\"plain   \" ><span class=\"txtt\">SUD₂ </span></span></span></div><div class='features'><span class=\"type xft\" ><span class=\"f\">type=</span>word</span></div></div><div class=\"contnr c1 trm   \" ><div class=\"lbl c1 trm \" ><span class=\"nd\">word</span> <span class=\"txtt\"><span class=\"plain   \" ><span class=\"txtt\">...]\n",
       "</span></span></span></div><div class='features'><span class=\"type xft\" ><span class=\"f\">type=</span>word</span></div></div></div></div></div></div></div>"
      ],
      "text/plain": [
       "<IPython.core.display.HTML object>"
      ]
     },
     "metadata": {},
     "output_type": "display_data"
    }
   ],
   "source": [
    "ln = T.nodeFromSection((\"P394104\", \"obverse\", \"1:23\"))\n",
    "print(f\"original:    {F.atf.v(ln)}\")\n",
    "print(f\"interpreted: {F.ln.v(ln)}. {T.text(ln)}\")\n",
    "A.plain(ln)\n",
    "A.pretty(ln, extraFeatures=\"type\", baseTypes=[\"word\"])"
   ]
  },
  {
   "cell_type": "markdown",
   "metadata": {},
   "source": [
    "Later on, in the [search](search.ipynb) tutorial we see that `pretty()` can also display other features,\n",
    "even features that you or other people have created and added later.\n",
    "\n",
    "Here we call for the feature `atf`, which shows the original atf for the sign in question\n",
    "excluding the bracketing characters.\n",
    "\n",
    "Consult the\n",
    "[feature documentation](https://github.com/Nino-cunei/oldbabylonian/blob/master/docs//transcription.md)\n",
    "to see what information is stored in all the features.\n",
    "\n",
    "We show it with node numbers, but you could leave them out in an obvious way."
   ]
  },
  {
   "cell_type": "code",
   "execution_count": 19,
   "metadata": {},
   "outputs": [
    {
     "data": {
      "text/html": [
       "<div class=\"tfsechead \"><span class=\"ltr\"><a target=\"_blank\" href=\"https://cdli.ucla.edu/search/search_results.php?SearchMode=Text&amp;ObjectID=P285109\" title=\"Show this document on CDLI\" sec=\"P285109 reverse\">P285109 reverse</a></span></div><div class=\" children\"><div class=\"contnr c4 trm   \" ><div class=\"lbl c4 trm \" ><span class=\"nd\">face:59264</span> <span class=\"txtt\"><span class=\"tfsechead ltr\"><span class=\"ltr\">P285109 reverse</span></span></span></div></div></div>"
      ],
      "text/plain": [
       "<IPython.core.display.HTML object>"
      ]
     },
     "metadata": {},
     "output_type": "display_data"
    }
   ],
   "source": [
    "A.pretty(f, extraFeatures=\"atf\", fmt=\"layout-orig-full\", withNodes=True)"
   ]
  },
  {
   "cell_type": "markdown",
   "metadata": {},
   "source": [
    "We do not see much, because the default condense type is `line`, and a `document` is bigger than that.\n",
    "Objects bigger than de condense type will be abbreviated to a label that indicates their identity,\n",
    "not their contents.\n",
    "\n",
    "But we can override this by adding `full=True`.\n",
    "\n",
    "See also the documentation on [`pretty`](https://annotation.github.io/text-fabric/tf/advanced/display.html#tf.advanced.display.pretty)."
   ]
  },
  {
   "cell_type": "markdown",
   "metadata": {},
   "source": [
    "We show a face with per line the ATF for that line displayed as well the English translation."
   ]
  },
  {
   "cell_type": "code",
   "execution_count": 20,
   "metadata": {},
   "outputs": [
    {
     "data": {
      "text/html": [
       "<div class=\"tfsechead \"><span class=\"ltr\"><a target=\"_blank\" href=\"https://cdli.ucla.edu/search/search_results.php?SearchMode=Text&amp;ObjectID=P285109\" title=\"Show this document on CDLI\" sec=\"P285109 reverse\">P285109 reverse</a></span></div><div class=\" children\"><div class=\"contnr c4    \" ><div class=\"lbl c4  \" ><span class=\"nd\">face:59264</span> <span class=\"txtt\"><span class=\"tfsechead ltr\"><span class=\"ltr\">P285109 reverse</span></span></span></div><div class=\"children hor wrap \"><div class=\"contnr c3    \" ><div class=\"lbl c3  \" ><span class=\"nd\">line:59375</span></div><div class='features'><span class=\"atf xft\" ><span class=\"f\">atf=</span>1'. [x x x] x lu#-u₂# ina KAŠ.SAG [x x x x x x x]</span><span class=\"tr@en xft\" ><span class=\"f\">tr@en=</span>[... he should drink it] either in prime quality beer [or in wine ...]</span></div><div class=\"children hor wrap \"><div class=\"contnr c2    \" ><div class=\"lbl c2  \" ><span class=\"nd\">cluster:52919</span></div><div class=\"children hor wrap \"><div class=\"contnr c1 trm   \" ><div class=\"lbl c1 trm \" ><span class=\"nd\">word:63111</span> <span class=\"txtt\"><span class=\"plain   \" ><span class=\"txtt\"><span class=\"missing\"><span class=\"uncertain\"><span class=\"cls\">x</span></span></span> </span></span></span></div><div class='features'><span class=\"atf xft\" ><span class=\"f\">atf=</span>[x</span></div></div><div class=\"contnr c1 trm   \" ><div class=\"lbl c1 trm \" ><span class=\"nd\">word:63112</span> <span class=\"txtt\"><span class=\"plain   \" ><span class=\"txtt\"><span class=\"missing\"><span class=\"uncertain\"><span class=\"cls\">x</span></span></span> </span></span></span></div><div class='features'><span class=\"atf xft\" ><span class=\"f\">atf=</span>x</span></div></div><div class=\"contnr c1 trm   \" ><div class=\"lbl c1 trm \" ><span class=\"nd\">word:63113</span> <span class=\"txtt\"><span class=\"plain   \" ><span class=\"txtt\"><span class=\"missing\"><span class=\"uncertain\"><span class=\"cls\">x</span></span></span> </span></span></span></div><div class='features'><span class=\"atf xft\" ><span class=\"f\">atf=</span>x]</span></div></div></div></div><div class=\"contnr c1 trm   \" ><div class=\"lbl c1 trm \" ><span class=\"nd\">word:63114</span> <span class=\"txtt\"><span class=\"plain   \" ><span class=\"txtt\"><span class=\"uncertain\"><span class=\"cls\">x</span></span> </span></span></span></div><div class='features'><span class=\"atf xft\" ><span class=\"f\">atf=</span>x</span></div></div><div class=\"contnr c1 trm   \" ><div class=\"lbl c1 trm \" ><span class=\"nd\">word:63115</span> <span class=\"txtt\"><span class=\"plain   \" ><span class=\"txtt\"><span class=\"damage\"><span class=\"r\">lu</span></span>-</span><span class=\"txtt\"><span class=\"damage\"><span class=\"r\">u</span></span> </span></span></span></div><div class='features'><span class=\"atf xft\" ><span class=\"f\">atf=</span>lu#-u₂#</span></div></div><div class=\"contnr c1 trm   \" ><div class=\"lbl c1 trm \" ><span class=\"nd\">word:63116</span> <span class=\"txtt\"><span class=\"plain   \" ><span class=\"txtt\"><span class=\"r\">ina</span> </span></span></span></div><div class='features'><span class=\"atf xft\" ><span class=\"f\">atf=</span>ina</span></div></div><div class=\"contnr c1 trm   \" ><div class=\"lbl c1 trm \" ><span class=\"nd\">word:63117</span> <span class=\"txtt\"><span class=\"plain   \" ><span class=\"txtt\"><span class=\"g\">KAŠ</span>.</span><span class=\"txtt\"><span class=\"g\">SAG</span> </span></span></span></div><div class='features'><span class=\"atf xft\" ><span class=\"f\">atf=</span>KAŠ.SAG</span></div></div><div class=\"contnr c2    \" ><div class=\"lbl c2  \" ><span class=\"nd\">cluster:52920</span></div><div class=\"children hor wrap \"><div class=\"contnr c1 trm   \" ><div class=\"lbl c1 trm \" ><span class=\"nd\">word:63118</span> <span class=\"txtt\"><span class=\"plain   \" ><span class=\"txtt\"><span class=\"missing\"><span class=\"uncertain\"><span class=\"cls\">x</span></span></span> </span></span></span></div><div class='features'><span class=\"atf xft\" ><span class=\"f\">atf=</span>[x</span></div></div><div class=\"contnr c1 trm   \" ><div class=\"lbl c1 trm \" ><span class=\"nd\">word:63119</span> <span class=\"txtt\"><span class=\"plain   \" ><span class=\"txtt\"><span class=\"missing\"><span class=\"uncertain\"><span class=\"cls\">x</span></span></span> </span></span></span></div><div class='features'><span class=\"atf xft\" ><span class=\"f\">atf=</span>x</span></div></div><div class=\"contnr c1 trm   \" ><div class=\"lbl c1 trm \" ><span class=\"nd\">word:63120</span> <span class=\"txtt\"><span class=\"plain   \" ><span class=\"txtt\"><span class=\"missing\"><span class=\"uncertain\"><span class=\"cls\">x</span></span></span> </span></span></span></div><div class='features'><span class=\"atf xft\" ><span class=\"f\">atf=</span>x</span></div></div><div class=\"contnr c1 trm   \" ><div class=\"lbl c1 trm \" ><span class=\"nd\">word:63121</span> <span class=\"txtt\"><span class=\"plain   \" ><span class=\"txtt\"><span class=\"missing\"><span class=\"uncertain\"><span class=\"cls\">x</span></span></span> </span></span></span></div><div class='features'><span class=\"atf xft\" ><span class=\"f\">atf=</span>x</span></div></div><div class=\"contnr c1 trm   \" ><div class=\"lbl c1 trm \" ><span class=\"nd\">word:63122</span> <span class=\"txtt\"><span class=\"plain   \" ><span class=\"txtt\"><span class=\"missing\"><span class=\"uncertain\"><span class=\"cls\">x</span></span></span> </span></span></span></div><div class='features'><span class=\"atf xft\" ><span class=\"f\">atf=</span>x</span></div></div><div class=\"contnr c1 trm   \" ><div class=\"lbl c1 trm \" ><span class=\"nd\">word:63123</span> <span class=\"txtt\"><span class=\"plain   \" ><span class=\"txtt\"><span class=\"missing\"><span class=\"uncertain\"><span class=\"cls\">x</span></span></span> </span></span></span></div><div class='features'><span class=\"atf xft\" ><span class=\"f\">atf=</span>x</span></div></div><div class=\"contnr c1 trm   \" ><div class=\"lbl c1 trm \" ><span class=\"nd\">word:63124</span> <span class=\"txtt\"><span class=\"plain   \" ><span class=\"txtt\"><span class=\"missing\"><span class=\"uncertain\"><span class=\"cls\">x</span></span></span>\n",
       "</span></span></span></div><div class='features'><span class=\"atf xft\" ><span class=\"f\">atf=</span>x]</span></div></div></div></div></div></div><div class=\"contnr c3    \" ><div class=\"lbl c3  \" ><span class=\"nd\">line:59376</span></div><div class='features'><span class=\"atf xft\" ><span class=\"f\">atf=</span>2'. [DIŠ NA SA]G.KI.DAB.BA TUKU.TUKU [x x x x]</span><span class=\"tr@en xft\" ><span class=\"f\">tr@en=</span>[If a man] is continuously affected with headache: [errû-colocynth seed].</span></div><div class=\"children hor wrap \"><div class=\"contnr c2    \" ><div class=\"lbl c2  \" ><span class=\"nd\">cluster:52921</span></div><div class=\"children hor wrap \"><div class=\"contnr c1 trm   \" ><div class=\"lbl c1 trm \" ><span class=\"nd\">word:63125</span> <span class=\"txtt\"><span class=\"plain   \" ><span class=\"txtt\"><span class=\"missing\"><span class=\"g\">DIŠ</span></span> </span></span></span></div><div class='features'><span class=\"atf xft\" ><span class=\"f\">atf=</span>[DIŠ</span></div></div><div class=\"contnr c1 trm   \" ><div class=\"lbl c1 trm \" ><span class=\"nd\">word:63126</span> <span class=\"txtt\"><span class=\"plain   \" ><span class=\"txtt\"><span class=\"missing\"><span class=\"g\">NA</span></span> </span></span></span></div><div class='features'><span class=\"atf xft\" ><span class=\"f\">atf=</span>NA</span></div></div><div class=\"contnr c1 trm  rno \" ><div class=\"lbl c1 trm \" ><span class=\"nd\">word:63127</span> <span class=\"txtt\"><span class=\"plain  rno \" ><span class=\"txtt\"><span class=\"g\">SAG</span>.</span></span></span></div><div class='features'><span class=\"atf xft\" ><span class=\"f\">atf=</span>SA]G.KI.DAB.BA</span></div></div></div></div><div class=\"contnr c1 trm  lno \" ><div class=\"lbl c1 trm \" ><span class=\"nd\">word:63127</span> <span class=\"txtt\"><span class=\"plain  lno \" ><span class=\"txtt\"><span class=\"g\">KI</span>.</span><span class=\"txtt\"><span class=\"g\">DAB</span>.</span><span class=\"txtt\"><span class=\"g\">BA</span> </span></span></span></div><div class='features'><span class=\"atf xft\" ><span class=\"f\">atf=</span>SA]G.KI.DAB.BA</span></div></div><div class=\"contnr c1 trm   \" ><div class=\"lbl c1 trm \" ><span class=\"nd\">word:63128</span> <span class=\"txtt\"><span class=\"plain   \" ><span class=\"txtt\"><span class=\"g\">TUKU</span>.</span><span class=\"txtt\"><span class=\"g\">TUKU</span> </span></span></span></div><div class='features'><span class=\"atf xft\" ><span class=\"f\">atf=</span>TUKU.TUKU</span></div></div><div class=\"contnr c2    \" ><div class=\"lbl c2  \" ><span class=\"nd\">cluster:52922</span></div><div class=\"children hor wrap \"><div class=\"contnr c1 trm   \" ><div class=\"lbl c1 trm \" ><span class=\"nd\">word:63129</span> <span class=\"txtt\"><span class=\"plain   \" ><span class=\"txtt\"><span class=\"missing\"><span class=\"uncertain\"><span class=\"cls\">x</span></span></span> </span></span></span></div><div class='features'><span class=\"atf xft\" ><span class=\"f\">atf=</span>[x</span></div></div><div class=\"contnr c1 trm   \" ><div class=\"lbl c1 trm \" ><span class=\"nd\">word:63130</span> <span class=\"txtt\"><span class=\"plain   \" ><span class=\"txtt\"><span class=\"missing\"><span class=\"uncertain\"><span class=\"cls\">x</span></span></span> </span></span></span></div><div class='features'><span class=\"atf xft\" ><span class=\"f\">atf=</span>x</span></div></div><div class=\"contnr c1 trm   \" ><div class=\"lbl c1 trm \" ><span class=\"nd\">word:63131</span> <span class=\"txtt\"><span class=\"plain   \" ><span class=\"txtt\"><span class=\"missing\"><span class=\"uncertain\"><span class=\"cls\">x</span></span></span> </span></span></span></div><div class='features'><span class=\"atf xft\" ><span class=\"f\">atf=</span>x</span></div></div><div class=\"contnr c1 trm   \" ><div class=\"lbl c1 trm \" ><span class=\"nd\">word:63132</span> <span class=\"txtt\"><span class=\"plain   \" ><span class=\"txtt\"><span class=\"missing\"><span class=\"uncertain\"><span class=\"cls\">x</span></span></span>\n",
       "</span></span></span></div><div class='features'><span class=\"atf xft\" ><span class=\"f\">atf=</span>x]</span></div></div></div></div></div></div><div class=\"contnr c3    \" ><div class=\"lbl c3  \" ><span class=\"nd\">line:59377</span></div><div class='features'><span class=\"atf xft\" ><span class=\"f\">atf=</span>3'. [x x x x x UGU-š]u₂ KUM₂ [x x]</span><span class=\"tr@en xft\" ><span class=\"f\">tr@en=</span>[First tablet of (the series called) \"If a man’s cranium holds] heat.\"</span></div><div class=\"children hor wrap \"><div class=\"contnr c2    \" ><div class=\"lbl c2  \" ><span class=\"nd\">cluster:52923</span></div><div class=\"children hor wrap \"><div class=\"contnr c1 trm   \" ><div class=\"lbl c1 trm \" ><span class=\"nd\">word:63133</span> <span class=\"txtt\"><span class=\"plain   \" ><span class=\"txtt\"><span class=\"missing\"><span class=\"uncertain\"><span class=\"cls\">x</span></span></span> </span></span></span></div><div class='features'><span class=\"atf xft\" ><span class=\"f\">atf=</span>[x</span></div></div><div class=\"contnr c1 trm   \" ><div class=\"lbl c1 trm \" ><span class=\"nd\">word:63134</span> <span class=\"txtt\"><span class=\"plain   \" ><span class=\"txtt\"><span class=\"missing\"><span class=\"uncertain\"><span class=\"cls\">x</span></span></span> </span></span></span></div><div class='features'><span class=\"atf xft\" ><span class=\"f\">atf=</span>x</span></div></div><div class=\"contnr c1 trm   \" ><div class=\"lbl c1 trm \" ><span class=\"nd\">word:63135</span> <span class=\"txtt\"><span class=\"plain   \" ><span class=\"txtt\"><span class=\"missing\"><span class=\"uncertain\"><span class=\"cls\">x</span></span></span> </span></span></span></div><div class='features'><span class=\"atf xft\" ><span class=\"f\">atf=</span>x</span></div></div><div class=\"contnr c1 trm   \" ><div class=\"lbl c1 trm \" ><span class=\"nd\">word:63136</span> <span class=\"txtt\"><span class=\"plain   \" ><span class=\"txtt\"><span class=\"missing\"><span class=\"uncertain\"><span class=\"cls\">x</span></span></span> </span></span></span></div><div class='features'><span class=\"atf xft\" ><span class=\"f\">atf=</span>x</span></div></div><div class=\"contnr c1 trm   \" ><div class=\"lbl c1 trm \" ><span class=\"nd\">word:63137</span> <span class=\"txtt\"><span class=\"plain   \" ><span class=\"txtt\"><span class=\"missing\"><span class=\"uncertain\"><span class=\"cls\">x</span></span></span> </span></span></span></div><div class='features'><span class=\"atf xft\" ><span class=\"f\">atf=</span>x</span></div></div><div class=\"contnr c1 trm   \" ><div class=\"lbl c1 trm \" ><span class=\"nd\">word:63138</span> <span class=\"txtt\"><span class=\"plain   \" ><span class=\"txtt\"><span class=\"missing\"><span class=\"g\">UGU</span></span>-</span><span class=\"txtt\"><span class=\"r\">šu</span> </span></span></span></div><div class='features'><span class=\"atf xft\" ><span class=\"f\">atf=</span>UGU-š]u₂</span></div></div></div></div><div class=\"contnr c1 trm   \" ><div class=\"lbl c1 trm \" ><span class=\"nd\">word:63139</span> <span class=\"txtt\"><span class=\"plain   \" ><span class=\"txtt\"><span class=\"g\">KUM₂</span> </span></span></span></div><div class='features'><span class=\"atf xft\" ><span class=\"f\">atf=</span>KUM₂</span></div></div><div class=\"contnr c2    \" ><div class=\"lbl c2  \" ><span class=\"nd\">cluster:52924</span></div><div class=\"children hor wrap \"><div class=\"contnr c1 trm   \" ><div class=\"lbl c1 trm \" ><span class=\"nd\">word:63140</span> <span class=\"txtt\"><span class=\"plain   \" ><span class=\"txtt\"><span class=\"missing\"><span class=\"uncertain\"><span class=\"cls\">x</span></span></span> </span></span></span></div><div class='features'><span class=\"atf xft\" ><span class=\"f\">atf=</span>[x</span></div></div><div class=\"contnr c1 trm   \" ><div class=\"lbl c1 trm \" ><span class=\"nd\">word:63141</span> <span class=\"txtt\"><span class=\"plain   \" ><span class=\"txtt\"><span class=\"missing\"><span class=\"uncertain\"><span class=\"cls\">x</span></span></span>\n",
       "</span></span></span></div><div class='features'><span class=\"atf xft\" ><span class=\"f\">atf=</span>x]</span></div></div></div></div></div></div><div class=\"contnr c3    \" ><div class=\"lbl c3  \" ><span class=\"nd\">line:59378</span></div><div class='features'><span class=\"atf xft\" ><span class=\"f\">atf=</span>4'. [x x x x x x x x Š]U₂? L[UGAL? x x x x]</span><span class=\"tr@en xft\" ><span class=\"f\">tr@en=</span>[Palace of Aššur-ban-apli, king of the univ]erse?, ki[ng? of the land of Aššur],</span></div><div class=\"children hor wrap \"><div class=\"contnr c2    \" ><div class=\"lbl c2  \" ><span class=\"nd\">cluster:52925</span></div><div class=\"children hor wrap \"><div class=\"contnr c1 trm   \" ><div class=\"lbl c1 trm \" ><span class=\"nd\">word:63142</span> <span class=\"txtt\"><span class=\"plain   \" ><span class=\"txtt\"><span class=\"missing\"><span class=\"uncertain\"><span class=\"cls\">x</span></span></span> </span></span></span></div><div class='features'><span class=\"atf xft\" ><span class=\"f\">atf=</span>[x</span></div></div><div class=\"contnr c1 trm   \" ><div class=\"lbl c1 trm \" ><span class=\"nd\">word:63143</span> <span class=\"txtt\"><span class=\"plain   \" ><span class=\"txtt\"><span class=\"missing\"><span class=\"uncertain\"><span class=\"cls\">x</span></span></span> </span></span></span></div><div class='features'><span class=\"atf xft\" ><span class=\"f\">atf=</span>x</span></div></div><div class=\"contnr c1 trm   \" ><div class=\"lbl c1 trm \" ><span class=\"nd\">word:63144</span> <span class=\"txtt\"><span class=\"plain   \" ><span class=\"txtt\"><span class=\"missing\"><span class=\"uncertain\"><span class=\"cls\">x</span></span></span> </span></span></span></div><div class='features'><span class=\"atf xft\" ><span class=\"f\">atf=</span>x</span></div></div><div class=\"contnr c1 trm   \" ><div class=\"lbl c1 trm \" ><span class=\"nd\">word:63145</span> <span class=\"txtt\"><span class=\"plain   \" ><span class=\"txtt\"><span class=\"missing\"><span class=\"uncertain\"><span class=\"cls\">x</span></span></span> </span></span></span></div><div class='features'><span class=\"atf xft\" ><span class=\"f\">atf=</span>x</span></div></div><div class=\"contnr c1 trm   \" ><div class=\"lbl c1 trm \" ><span class=\"nd\">word:63146</span> <span class=\"txtt\"><span class=\"plain   \" ><span class=\"txtt\"><span class=\"missing\"><span class=\"uncertain\"><span class=\"cls\">x</span></span></span> </span></span></span></div><div class='features'><span class=\"atf xft\" ><span class=\"f\">atf=</span>x</span></div></div><div class=\"contnr c1 trm   \" ><div class=\"lbl c1 trm \" ><span class=\"nd\">word:63147</span> <span class=\"txtt\"><span class=\"plain   \" ><span class=\"txtt\"><span class=\"missing\"><span class=\"uncertain\"><span class=\"cls\">x</span></span></span> </span></span></span></div><div class='features'><span class=\"atf xft\" ><span class=\"f\">atf=</span>x</span></div></div><div class=\"contnr c1 trm   \" ><div class=\"lbl c1 trm \" ><span class=\"nd\">word:63148</span> <span class=\"txtt\"><span class=\"plain   \" ><span class=\"txtt\"><span class=\"missing\"><span class=\"uncertain\"><span class=\"cls\">x</span></span></span> </span></span></span></div><div class='features'><span class=\"atf xft\" ><span class=\"f\">atf=</span>x</span></div></div><div class=\"contnr c1 trm   \" ><div class=\"lbl c1 trm \" ><span class=\"nd\">word:63149</span> <span class=\"txtt\"><span class=\"plain   \" ><span class=\"txtt\"><span class=\"missing\"><span class=\"uncertain\"><span class=\"cls\">x</span></span></span> </span></span></span></div><div class='features'><span class=\"atf xft\" ><span class=\"f\">atf=</span>x</span></div></div><div class=\"contnr c1 trm   \" ><div class=\"lbl c1 trm \" ><span class=\"nd\">word:63150</span> <span class=\"txtt\"><span class=\"plain   \" ><span class=\"txtt\"><span class=\"question\"><span class=\"g\">ŠU₂</span></span> </span></span></span></div><div class='features'><span class=\"atf xft\" ><span class=\"f\">atf=</span>Š]U₂?</span></div></div></div></div><div class=\"contnr c2    \" ><div class=\"lbl c2  \" ><span class=\"nd\">cluster:52926</span></div><div class=\"children hor wrap \"><div class=\"contnr c1 trm   \" ><div class=\"lbl c1 trm \" ><span class=\"nd\">word:63151</span> <span class=\"txtt\"><span class=\"plain   \" ><span class=\"txtt\"><span class=\"question missing\"><span class=\"g\">LUGAL</span></span> </span></span></span></div><div class='features'><span class=\"atf xft\" ><span class=\"f\">atf=</span>L[UGAL?</span></div></div><div class=\"contnr c1 trm   \" ><div class=\"lbl c1 trm \" ><span class=\"nd\">word:63152</span> <span class=\"txtt\"><span class=\"plain   \" ><span class=\"txtt\"><span class=\"missing\"><span class=\"uncertain\"><span class=\"cls\">x</span></span></span> </span></span></span></div><div class='features'><span class=\"atf xft\" ><span class=\"f\">atf=</span>x</span></div></div><div class=\"contnr c1 trm   \" ><div class=\"lbl c1 trm \" ><span class=\"nd\">word:63153</span> <span class=\"txtt\"><span class=\"plain   \" ><span class=\"txtt\"><span class=\"missing\"><span class=\"uncertain\"><span class=\"cls\">x</span></span></span> </span></span></span></div><div class='features'><span class=\"atf xft\" ><span class=\"f\">atf=</span>x</span></div></div><div class=\"contnr c1 trm   \" ><div class=\"lbl c1 trm \" ><span class=\"nd\">word:63154</span> <span class=\"txtt\"><span class=\"plain   \" ><span class=\"txtt\"><span class=\"missing\"><span class=\"uncertain\"><span class=\"cls\">x</span></span></span> </span></span></span></div><div class='features'><span class=\"atf xft\" ><span class=\"f\">atf=</span>x</span></div></div><div class=\"contnr c1 trm   \" ><div class=\"lbl c1 trm \" ><span class=\"nd\">word:63155</span> <span class=\"txtt\"><span class=\"plain   \" ><span class=\"txtt\"><span class=\"missing\"><span class=\"uncertain\"><span class=\"cls\">x</span></span></span>\n",
       "</span></span></span></div><div class='features'><span class=\"atf xft\" ><span class=\"f\">atf=</span>x]</span></div></div></div></div></div></div></div></div></div>"
      ],
      "text/plain": [
       "<IPython.core.display.HTML object>"
      ]
     },
     "metadata": {},
     "output_type": "display_data"
    }
   ],
   "source": [
    "A.pretty(f, extraFeatures=\"atf tr@en\", fmt=\"layout-orig-plain\", withNodes=True, full=True)"
   ]
  },
  {
   "cell_type": "markdown",
   "metadata": {},
   "source": [
    "# More examples\n",
    "\n",
    "There are word dividers in the corpus.\n",
    "\n",
    "We look them up:"
   ]
  },
  {
   "cell_type": "code",
   "execution_count": 21,
   "metadata": {},
   "outputs": [
    {
     "data": {
      "text/plain": [
       "102"
      ]
     },
     "execution_count": 21,
     "metadata": {},
     "output_type": "execute_result"
    }
   ],
   "source": [
    "wdivs = F.type.s(\"wdiv\")\n",
    "len(wdivs)"
   ]
  },
  {
   "cell_type": "markdown",
   "metadata": {},
   "source": [
    "We show a few"
   ]
  },
  {
   "cell_type": "code",
   "execution_count": 22,
   "metadata": {},
   "outputs": [
    {
     "name": "stdout",
     "output_type": "stream",
     "text": [
      "7'. %sux [... nig₂ g]e₂₆-e : gen-na dumu-gu₁₀\n"
     ]
    },
    {
     "data": {
      "text/html": [
       "<div class=\"\"><span class=\"tfsechead \"><span class=\"ltr\"><a target=\"_blank\" href=\"https://cdli.ucla.edu/search/search_results.php?SearchMode=Text&amp;ObjectID=P479250\" title=\"Show this document on CDLI\" sec=\"P479250 obverse:7'\">P479250 obverse:7'</a></span></span>  <span class=\"txtt\">%sux [... </span><span class=\"txtt\">nig₂ </span><span class=\"txtt\">ge₂₆]-</span><span class=\"txtt\">e </span><span class=\"plain   hl\" ><span class=\"txtt\">: </span></span><span class=\"txtt\">gen-</span><span class=\"txtt\">na </span><span class=\"txtt\">dumu-</span><span class=\"txtt\">gu₁₀\n",
       "</span></div>"
      ],
      "text/plain": [
       "<IPython.core.display.HTML object>"
      ]
     },
     "metadata": {},
     "output_type": "display_data"
    },
    {
     "name": "stdout",
     "output_type": "stream",
     "text": [
      "5'. [...] x bi# za te : I₃ {šim}LI\n"
     ]
    },
    {
     "data": {
      "text/html": [
       "<div class=\"\"><span class=\"tfsechead \"><span class=\"ltr\"><a target=\"_blank\" href=\"https://cdli.ucla.edu/search/search_results.php?SearchMode=Text&amp;ObjectID=P401255\" title=\"Show this document on CDLI\" sec=\"P401255 obverse:5'\">P401255 obverse:5'</a></span></span>  <span class=\"txtt\">[...] </span><span class=\"txtt\">x </span><span class=\"txtt\">bi# </span><span class=\"txtt\">za </span><span class=\"txtt\">te </span><span class=\"plain   hl\" ><span class=\"txtt\">: </span></span><span class=\"txtt\">I₃ </span><span class=\"txtt\">{šim}</span><span class=\"txtt\">LI\n",
       "</span></div>"
      ],
      "text/plain": [
       "<IPython.core.display.HTML object>"
      ]
     },
     "metadata": {},
     "output_type": "display_data"
    },
    {
     "name": "stdout",
     "output_type": "stream",
     "text": [
      "20. x [x NUMUN] GI.ZU₂.LUM.MA ina LAL₃ SUD₂ MAR : x [...]\n"
     ]
    },
    {
     "data": {
      "text/html": [
       "<div class=\"\"><span class=\"tfsechead \"><span class=\"ltr\"><a target=\"_blank\" href=\"https://cdli.ucla.edu/search/search_results.php?SearchMode=Text&amp;ObjectID=P394104\" title=\"Show this document on CDLI\" sec=\"P394104 obverse:1:20\">P394104 obverse:1:20</a></span></span>  <span class=\"txtt\">x </span><span class=\"txtt\">[x </span><span class=\"txtt\">NUMUN] </span><span class=\"txtt\">GI.</span><span class=\"txtt\">ZU₂.</span><span class=\"txtt\">LUM.</span><span class=\"txtt\">MA </span><span class=\"txtt\">ina </span><span class=\"txtt\">LAL₃ </span><span class=\"txtt\">SUD₂ </span><span class=\"txtt\">MAR </span><span class=\"plain   hl\" ><span class=\"txtt\">: </span></span><span class=\"txtt\">x </span><span class=\"txtt\">[...]\n",
       "</span></div>"
      ],
      "text/plain": [
       "<IPython.core.display.HTML object>"
      ]
     },
     "metadata": {},
     "output_type": "display_data"
    },
    {
     "name": "stdout",
     "output_type": "stream",
     "text": [
      "21. [x x {n]a₄}as-har ina I₃.NUN SUD₂ MAR : x [...]\n"
     ]
    },
    {
     "data": {
      "text/html": [
       "<div class=\"\"><span class=\"tfsechead \"><span class=\"ltr\"><a target=\"_blank\" href=\"https://cdli.ucla.edu/search/search_results.php?SearchMode=Text&amp;ObjectID=P394104\" title=\"Show this document on CDLI\" sec=\"P394104 obverse:1:21\">P394104 obverse:1:21</a></span></span>  <span class=\"txtt\">[x </span><span class=\"txtt\">x </span><span class=\"txtt\">{na₄]}</span><span class=\"txtt\">as-</span><span class=\"txtt\">har </span><span class=\"txtt\">ina </span><span class=\"txtt\">I₃.</span><span class=\"txtt\">NUN </span><span class=\"txtt\">SUD₂ </span><span class=\"txtt\">MAR </span><span class=\"plain   hl\" ><span class=\"txtt\">: </span></span><span class=\"txtt\">x </span><span class=\"txtt\">[...]\n",
       "</span></div>"
      ],
      "text/plain": [
       "<IPython.core.display.HTML object>"
      ]
     },
     "metadata": {},
     "output_type": "display_data"
    },
    {
     "name": "stdout",
     "output_type": "stream",
     "text": [
      "70'. DIŠ KIMIN U₂#.BA[BBAR A]N.ZAH.GE₆ tur-ar₂ ina I₃.NUN SUD₂ MAR : DIŠ KIMIN KU₃.GAN ina I₃.UDU GIR₃.PAD.DU UDU SUD₂ MAR#\n"
     ]
    },
    {
     "data": {
      "text/html": [
       "<div class=\"\"><span class=\"tfsechead \"><span class=\"ltr\"><a target=\"_blank\" href=\"https://cdli.ucla.edu/search/search_results.php?SearchMode=Text&amp;ObjectID=P394104\" title=\"Show this document on CDLI\" sec=\"P394104 obverse:1:70'\">P394104 obverse:1:70'</a></span></span>  <span class=\"txtt\">DIŠ </span><span class=\"txtt\">KIMIN </span><span class=\"txtt\">U₂#.</span><span class=\"txtt\">[BABBAR </span><span class=\"txtt\">AN].</span><span class=\"txtt\">ZAH.</span><span class=\"txtt\">GE₆ </span><span class=\"txtt\">tur-</span><span class=\"txtt\">ar₂ </span><span class=\"txtt\">ina </span><span class=\"txtt\">I₃.</span><span class=\"txtt\">NUN </span><span class=\"txtt\">SUD₂ </span><span class=\"txtt\">MAR </span><span class=\"plain   hl\" ><span class=\"txtt\">: </span></span><span class=\"txtt\">DIŠ </span><span class=\"txtt\">KIMIN </span><span class=\"txtt\">KU₃.</span><span class=\"txtt\">GAN </span><span class=\"txtt\">ina </span><span class=\"txtt\">I₃.</span><span class=\"txtt\">UDU </span><span class=\"txtt\">GIR₃.</span><span class=\"txtt\">PAD.</span><span class=\"txtt\">DU </span><span class=\"txtt\">UDU </span><span class=\"txtt\">SUD₂ </span><span class=\"txtt\">MAR#\n",
       "</span></div>"
      ],
      "text/plain": [
       "<IPython.core.display.HTML object>"
      ]
     },
     "metadata": {},
     "output_type": "display_data"
    },
    {
     "name": "stdout",
     "output_type": "stream",
     "text": [
      "2. DIŠ KIMIN SAG.DU EME.ŠID HAD₂.DU S[UD₂ ina I₃ ŠUB MAR : DIŠ K]IMIN EME.ŠID E₂.GAR₈ HAD₂.DU SUD₂ ina ŠU.LU₂.ZABAR? ina NE GAR-an MAR\n"
     ]
    },
    {
     "data": {
      "text/html": [
       "<div class=\"\"><span class=\"tfsechead \"><span class=\"ltr\"><a target=\"_blank\" href=\"https://cdli.ucla.edu/search/search_results.php?SearchMode=Text&amp;ObjectID=P394104\" title=\"Show this document on CDLI\" sec=\"P394104 obverse:2:2\">P394104 obverse:2:2</a></span></span>  <span class=\"txtt\">DIŠ </span><span class=\"txtt\">KIMIN </span><span class=\"txtt\">SAG.</span><span class=\"txtt\">DU </span><span class=\"txtt\">EME.</span><span class=\"txtt\">ŠID </span><span class=\"txtt\">HAD₂.</span><span class=\"txtt\">DU </span><span class=\"txtt\">[SUD₂ </span><span class=\"txtt\">ina </span><span class=\"txtt\">I₃ </span><span class=\"txtt\">ŠUB </span><span class=\"txtt\">MAR </span><span class=\"plain   hl\" ><span class=\"txtt\">: </span></span><span class=\"txtt\">DIŠ </span><span class=\"txtt\">KIMIN] </span><span class=\"txtt\">EME.</span><span class=\"txtt\">ŠID </span><span class=\"txtt\">E₂.</span><span class=\"txtt\">GAR₈ </span><span class=\"txtt\">HAD₂.</span><span class=\"txtt\">DU </span><span class=\"txtt\">SUD₂ </span><span class=\"txtt\">ina </span><span class=\"txtt\">ŠU.</span><span class=\"txtt\">LU₂.</span><span class=\"txtt\">ZABAR? </span><span class=\"txtt\">ina </span><span class=\"txtt\">NE </span><span class=\"txtt\">GAR-</span><span class=\"txtt\">an </span><span class=\"txtt\">MAR\n",
       "</span></div>"
      ],
      "text/plain": [
       "<IPython.core.display.HTML object>"
      ]
     },
     "metadata": {},
     "output_type": "display_data"
    },
    {
     "name": "stdout",
     "output_type": "stream",
     "text": [
      "14. [...] x :#? GEŠTIN.KA₅.A SUD₂ ina I₃ ina {urudu}ŠEN.TUR BAL-at te-qi₂\n"
     ]
    },
    {
     "data": {
      "text/html": [
       "<div class=\"\"><span class=\"tfsechead \"><span class=\"ltr\"><a target=\"_blank\" href=\"https://cdli.ucla.edu/search/search_results.php?SearchMode=Text&amp;ObjectID=P394104\" title=\"Show this document on CDLI\" sec=\"P394104 obverse:2:14\">P394104 obverse:2:14</a></span></span>  <span class=\"txtt\">[...] </span><span class=\"txtt\">x </span><span class=\"plain   hl\" ><span class=\"txtt\">:#? </span></span><span class=\"txtt\">GEŠTIN.</span><span class=\"txtt\">KA₅.</span><span class=\"txtt\">A </span><span class=\"txtt\">SUD₂ </span><span class=\"txtt\">ina </span><span class=\"txtt\">I₃ </span><span class=\"txtt\">ina </span><span class=\"txtt\">{urudu}</span><span class=\"txtt\">ŠEN.</span><span class=\"txtt\">TUR </span><span class=\"txtt\">BAL-</span><span class=\"txtt\">at </span><span class=\"txtt\">te-</span><span class=\"txtt\">qi₂\n",
       "</span></div>"
      ],
      "text/plain": [
       "<IPython.core.display.HTML object>"
      ]
     },
     "metadata": {},
     "output_type": "display_data"
    },
    {
     "name": "stdout",
     "output_type": "stream",
     "text": [
      "44. [DIŠ NA I]GI.MIN#-šu₂ IGI.SIG₇.SIG₇ DIRI ŠIKA {giš}NU.UR₂.[M]A ina I₃ SUD₂ MAR : {mun}eme-sal-li₃ S[UD₂? MAR?]\n"
     ]
    },
    {
     "data": {
      "text/html": [
       "<div class=\"\"><span class=\"tfsechead \"><span class=\"ltr\"><a target=\"_blank\" href=\"https://cdli.ucla.edu/search/search_results.php?SearchMode=Text&amp;ObjectID=P394104\" title=\"Show this document on CDLI\" sec=\"P394104 obverse:2:44\">P394104 obverse:2:44</a></span></span>  <span class=\"txtt\">[DIŠ </span><span class=\"txtt\">NA </span><span class=\"txtt\">IGI].</span><span class=\"txtt\">MIN#-</span><span class=\"txtt\">šu₂ </span><span class=\"txtt\">IGI.</span><span class=\"txtt\">SIG₇.</span><span class=\"txtt\">SIG₇ </span><span class=\"txtt\">DIRI </span><span class=\"txtt\">ŠIKA </span><span class=\"txtt\">{giš}</span><span class=\"txtt\">NU.</span><span class=\"txtt\">UR₂.</span><span class=\"txtt\">[MA] </span><span class=\"txtt\">ina </span><span class=\"txtt\">I₃ </span><span class=\"txtt\">SUD₂ </span><span class=\"txtt\">MAR </span><span class=\"plain   hl\" ><span class=\"txtt\">: </span></span><span class=\"txtt\">{mun}</span><span class=\"txtt\">eme-</span><span class=\"txtt\">sal-</span><span class=\"txtt\">li₃ </span><span class=\"txtt\">[SUD₂? </span><span class=\"txtt\">MAR?]\n",
       "</span></div>"
      ],
      "text/plain": [
       "<IPython.core.display.HTML object>"
      ]
     },
     "metadata": {},
     "output_type": "display_data"
    },
    {
     "name": "stdout",
     "output_type": "stream",
     "text": [
      "69. DIŠ NA MIN 1 GIN₂ U₅.ARGAB#{mušen#} ina# I₃#.NUN# SUD₂# MAR# :# 15 ŠE Š[IKA ... ina ... S]UD₂ MAR#\n"
     ]
    },
    {
     "data": {
      "text/html": [
       "<div class=\"\"><span class=\"tfsechead \"><span class=\"ltr\"><a target=\"_blank\" href=\"https://cdli.ucla.edu/search/search_results.php?SearchMode=Text&amp;ObjectID=P394104\" title=\"Show this document on CDLI\" sec=\"P394104 obverse:2:69\">P394104 obverse:2:69</a></span></span>  <span class=\"txtt\">DIŠ </span><span class=\"txtt\">NA </span><span class=\"txtt\">MIN </span><span class=\"txtt\">1 </span><span class=\"txtt\">GIN₂ </span><span class=\"txtt\">U₅.</span><span class=\"txtt\">ARGAB#</span><span class=\"txtt\">{mušen#} </span><span class=\"txtt\">ina# </span><span class=\"txtt\">I₃#.</span><span class=\"txtt\">NUN# </span><span class=\"txtt\">SUD₂# </span><span class=\"txtt\">MAR# </span><span class=\"plain   hl\" ><span class=\"txtt\">:# </span></span><span class=\"txtt\">15 </span><span class=\"txtt\">ŠE </span><span class=\"txtt\">[ŠIKA </span><span class=\"txtt\">... </span><span class=\"txtt\">ina </span><span class=\"txtt\">... </span><span class=\"txtt\">SUD₂] </span><span class=\"txtt\">MAR#\n",
       "</span></div>"
      ],
      "text/plain": [
       "<IPython.core.display.HTML object>"
      ]
     },
     "metadata": {},
     "output_type": "display_data"
    },
    {
     "name": "stdout",
     "output_type": "stream",
     "text": [
      "5. EN₂ E₂.NU.RU %sux LU RA GAR dam gal kur MIN : gi {d}en.lil₂ a₂.e# nu.ub.zum %akk {d}zar-pa-ni-tu₄\n"
     ]
    },
    {
     "data": {
      "text/html": [
       "<div class=\"\"><span class=\"tfsechead \"><span class=\"ltr\"><a target=\"_blank\" href=\"https://cdli.ucla.edu/search/search_results.php?SearchMode=Text&amp;ObjectID=P393782\" title=\"Show this document on CDLI\" sec=\"P393782 obverse:1:5\">P393782 obverse:1:5</a></span></span>  <span class=\"txtt\">EN₂ </span><span class=\"txtt\">E₂.</span><span class=\"txtt\">NU.</span><span class=\"txtt\">RU </span><span class=\"txtt\">%sux LU </span><span class=\"txtt\">RA </span><span class=\"txtt\">GAR </span><span class=\"txtt\">dam </span><span class=\"txtt\">gal </span><span class=\"txtt\">kur </span><span class=\"txtt\">MIN </span><span class=\"plain   hl\" ><span class=\"txtt\">: </span></span><span class=\"txtt\">gi </span><span class=\"txtt\">{d}</span><span class=\"txtt\">en.</span><span class=\"txtt\">lil₂ </span><span class=\"txtt\">a₂.</span><span class=\"txtt\">e# </span><span class=\"txtt\">nu.</span><span class=\"txtt\">ub.</span><span class=\"txtt\">zum </span><span class=\"txtt\">%akk {d}</span><span class=\"txtt\">zar-</span><span class=\"txtt\">pa-</span><span class=\"txtt\">ni-</span><span class=\"txtt\">tu₄\n",
       "</span></div>"
      ],
      "text/plain": [
       "<IPython.core.display.HTML object>"
      ]
     },
     "metadata": {},
     "output_type": "display_data"
    }
   ],
   "source": [
    "for wdiv in wdivs[0:10]:\n",
    "    ln = L.u(wdiv, otype=\"line\")[0]\n",
    "    print(F.atf.v(ln))\n",
    "    A.plain(ln, highlights={wdiv})"
   ]
  },
  {
   "cell_type": "markdown",
   "metadata": {},
   "source": [
    "# Layout formats: the details\n",
    "\n",
    "We give detailed examples of how the material is styled in the `layout-` formats.\n",
    "\n",
    "We show the representation of all kinds of signs and also what the influence of\n",
    "clustering and flags are.\n",
    "\n",
    "Here are the design principles:\n",
    "\n",
    "* all flags `# ? ! *` cause the preceding sign to be in bold\n",
    "* damage `#` and missing `[ ]` text is blurry and in grey\n",
    "* questioned `?` and uncertain `( )` text is in italics\n",
    "* remarkable `!` and supplied `< >` text is overlined, supplied text is in blue\n",
    "* excised `<< >>` text has a strike-through and is in red\n",
    "* collated `*` text is underlined\n",
    "\n",
    "Just a quick overview of the sign types:"
   ]
  },
  {
   "cell_type": "code",
   "execution_count": 23,
   "metadata": {},
   "outputs": [
    {
     "data": {
      "text/plain": [
       "(('reading', 23570),\n",
       " ('grapheme', 22092),\n",
       " ('unknown', 4768),\n",
       " ('ellipsis', 1266),\n",
       " ('numeral', 962),\n",
       " ('wdiv', 102),\n",
       " ('empty', 69))"
      ]
     },
     "execution_count": 23,
     "metadata": {},
     "output_type": "execute_result"
    }
   ],
   "source": [
    "F.type.freqList(\"sign\")"
   ]
  },
  {
   "cell_type": "markdown",
   "metadata": {},
   "source": [
    "# Styled display of ATF text"
   ]
  },
  {
   "cell_type": "code",
   "execution_count": 24,
   "metadata": {},
   "outputs": [],
   "source": [
    "lines = (\n",
    "    ((\"P365742\", \"reverse\", \"1:15\"), (\"cluster: determinative\", [9, 10])),\n",
    "    ((\"P403381\", \"obverse\", \"1':3'\"), (\"cluster: missing\", [1, 2, 3])),\n",
    "    ((\"P394104\", \"obverse\", \"1:14\"), (\"cluster: uncertain\", [4])),\n",
    "    ((\"P285136\", \"obverse\", \"6'\"), (\"cluster: supplied\", [7])),\n",
    "    ((\"P393782\", \"obverse\", \"2:1\"), (\"cluster: excised\", [21])),\n",
    "    ((\"P285109\", \"reverse\", \"2:1'\"), (\"flag: damage\", [5])),\n",
    "    ((\"P285109\", \"reverse\", \"2:4'\"), (\"flag: question\", [10])),\n",
    "    ((\"P403291\", \"obverse\", \"4'\"), (\"flag: remarkable\", [2])),\n",
    "    ((\"P394520\", \"obverse\", \"2:37'\"), (\"flag: collated\", [16])),\n",
    ")"
   ]
  },
  {
   "cell_type": "code",
   "execution_count": 25,
   "metadata": {},
   "outputs": [
    {
     "data": {
      "text/markdown": [
       "---\n",
       "# cluster: determinative\n",
       "\n",
       "Location: P365742 reverse:1:15"
      ],
      "text/plain": [
       "<IPython.core.display.Markdown object>"
      ]
     },
     "metadata": {},
     "output_type": "display_data"
    },
    {
     "name": "stdout",
     "output_type": "stream",
     "text": [
      "   15. [ana KI MI]N {šim}GUR₂.GUR₂ {šim}LI {šim.d}NIN.URTA NUMUN {u₂}AB₂.DUH KA A.AB.BA {šim}ŠEŠ DIŠ-niš SUD₂ ina KAŠ SILA₁₁-aš SAR-ab KI MIN\n",
      "  1:15 [ana KI MIN] {šim}GUR₂.GUR₂ {šim}LI {šim.d}NIN.URTA NUMUN {u₂}AB₂.DUH KA A.AB.BA {šim}ŠEŠ DIŠ-niš SUD₂ ina KAŠ SILA₁₁-aš SAR-ab KI MIN\n",
      "\n"
     ]
    },
    {
     "data": {
      "text/html": [
       "<div class=\"\"><span class=\"tfsechead \"><span class=\"ltr\"><a target=\"_blank\" href=\"https://cdli.ucla.edu/search/search_results.php?SearchMode=Text&amp;ObjectID=P365742\" title=\"Show this document on CDLI\" sec=\"P365742 reverse:1:15\">P365742 reverse:1:15</a></span></span>  <span class=\"txtt\"><span class=\"missing\"><span class=\"r\">ana</span></span> </span><span class=\"txtt\"><span class=\"missing\"><span class=\"g\">KI</span></span> </span><span class=\"txtt\"><span class=\"g\">MIN</span> </span><span class=\"txtt\"><span class=\"det\"><span class=\"r\">šim</span></span></span><span class=\"txtt\"><span class=\"g\">GUR₂</span>.</span><span class=\"txtt\"><span class=\"g\">GUR₂</span> </span><span class=\"txtt\"><span class=\"det\"><span class=\"r\">šim</span></span></span><span class=\"txtt\"><span class=\"g\">LI</span> </span><span class=\"plain   hl\" ><span class=\"txtt\"><span class=\"det\"><span class=\"r\">šim</span></span>.</span></span><span class=\"plain   hl\" ><span class=\"txtt\"><span class=\"det\"><span class=\"r\">d</span></span></span></span><span class=\"txtt\"><span class=\"g\">NIN</span>.</span><span class=\"txtt\"><span class=\"g\">URTA</span> </span><span class=\"txtt\"><span class=\"g\">NUMUN</span> </span><span class=\"txtt\"><span class=\"det\"><span class=\"r\">u</span></span></span><span class=\"txtt\"><span class=\"g\">AB₂</span>.</span><span class=\"txtt\"><span class=\"g\">DUH</span> </span><span class=\"txtt\"><span class=\"g\">KA</span> </span><span class=\"txtt\"><span class=\"g\">A</span>.</span><span class=\"txtt\"><span class=\"g\">AB</span>.</span><span class=\"txtt\"><span class=\"g\">BA</span> </span><span class=\"txtt\"><span class=\"det\"><span class=\"r\">šim</span></span></span><span class=\"txtt\"><span class=\"g\">ŠEŠ</span> </span><span class=\"txtt\"><span class=\"g\">DIŠ</span>-</span><span class=\"txtt\"><span class=\"r\">niš</span> </span><span class=\"txtt\"><span class=\"g\">SUD₂</span> </span><span class=\"txtt\"><span class=\"r\">ina</span> </span><span class=\"txtt\"><span class=\"g\">KAŠ</span> </span><span class=\"txtt\"><span class=\"g\">SILA₁₁</span>-</span><span class=\"txtt\"><span class=\"r\">aš</span> </span><span class=\"txtt\"><span class=\"g\">SAR</span>-</span><span class=\"txtt\"><span class=\"r\">ab</span> </span><span class=\"txtt\"><span class=\"g\">KI</span> </span><span class=\"txtt\"><span class=\"g\">MIN</span>\n",
       "</span></div>"
      ],
      "text/plain": [
       "<IPython.core.display.HTML object>"
      ]
     },
     "metadata": {},
     "output_type": "display_data"
    },
    {
     "data": {
      "text/html": [
       "<div class=\"tfsechead \"><span class=\"ltr\"><a target=\"_blank\" href=\"https://cdli.ucla.edu/search/search_results.php?SearchMode=Text&amp;ObjectID=P365742\" title=\"Show this document on CDLI\" sec=\"P365742 reverse:1:15\">P365742 reverse:1:15</a></span></div><div class=\" children\"><div class=\"contnr c3    \" ><div class=\"lbl c3  \" ><span class=\"nd\">line:60054</span></div><div class='features'><span class=\"tr@en xft\" ><span class=\"f\">tr@en=</span>Alternatively, you pound together kukru-aromatic, burāšu-juniper, nikiptu-spurge, kammantu-plant seed, sea algae (and) bitter-plant. You knead it in beer, you shave (his head and) DITTO (= you put it on as a bandage; then you should not remove it for three days).</span></div><div class=\"children hor wrap \"><div class=\"contnr c2    \" ><div class=\"lbl c2  \" ><span class=\"nd\">cluster:54272</span></div><div class=\"children hor wrap \"><div class=\"contnr c1    \" ><div class=\"lbl c1  \" ><span class=\"nd\">word:69928</span> <span class=\"txtt\"><span class=\"missing\"><span class=\"r\">ana</span></span> </span></div><div class=\"children hor  \"><div class=\"contnr c0 trm   \" ><div class=\"lbl c0 trm \" ><span class=\"nd\">12300</span> <span class=\"txtt\"><span class=\"missing\"><span class=\"r\">ana</span></span> </span></div></div></div></div><div class=\"contnr c1    \" ><div class=\"lbl c1  \" ><span class=\"nd\">word:69929</span> <span class=\"txtt\"><span class=\"missing\"><span class=\"g\">KI</span></span> </span></div><div class=\"children hor  \"><div class=\"contnr c0 trm   \" ><div class=\"lbl c0 trm \" ><span class=\"nd\">12301</span> <span class=\"txtt\"><span class=\"missing\"><span class=\"g\">KI</span></span> </span></div></div></div></div><div class=\"contnr c1    \" ><div class=\"lbl c1  \" ><span class=\"nd\">word:69930</span> <span class=\"txtt\"><span class=\"g\">MIN</span> </span></div><div class=\"children hor  \"><div class=\"contnr c0 trm   \" ><div class=\"lbl c0 trm \" ><span class=\"nd\">12302</span> <span class=\"txtt\"><span class=\"g\">MIN</span> </span></div></div></div></div></div></div><div class=\"contnr c2    \" ><div class=\"lbl c2  \" ><span class=\"nd\">cluster:54273</span></div><div class=\"children hor wrap \"><div class=\"contnr c1   rno \" ><div class=\"lbl c1  \" ><span class=\"nd\">word:69931</span> <span class=\"txtt\"><span class=\"det\"><span class=\"r\">šim</span></span><span class=\"g\">GUR₂</span>.<span class=\"g\">GUR₂</span> </span></div><div class=\"children hor  \"><div class=\"contnr c0 trm   \" ><div class=\"lbl c0 trm \" ><span class=\"nd\">12303</span> <span class=\"txtt\"><span class=\"det\"><span class=\"r\">šim</span></span></span></div></div></div></div></div></div><div class=\"contnr c1   lno \" ><div class=\"lbl c1  \" ><span class=\"nd\">word:69931</span> <span class=\"txtt\"><span class=\"det\"><span class=\"r\">šim</span></span><span class=\"g\">GUR₂</span>.<span class=\"g\">GUR₂</span> </span></div><div class=\"children hor  \"><div class=\"contnr c0 trm   \" ><div class=\"lbl c0 trm \" ><span class=\"nd\">12304</span> <span class=\"txtt\"><span class=\"g\">GUR₂</span>.</span></div></div><div class=\"contnr c0 trm   \" ><div class=\"lbl c0 trm \" ><span class=\"nd\">12305</span> <span class=\"txtt\"><span class=\"g\">GUR₂</span> </span></div></div></div></div><div class=\"contnr c2    \" ><div class=\"lbl c2  \" ><span class=\"nd\">cluster:54274</span></div><div class=\"children hor wrap \"><div class=\"contnr c1   rno \" ><div class=\"lbl c1  \" ><span class=\"nd\">word:69932</span> <span class=\"txtt\"><span class=\"det\"><span class=\"r\">šim</span></span><span class=\"g\">LI</span> </span></div><div class=\"children hor  \"><div class=\"contnr c0 trm   \" ><div class=\"lbl c0 trm \" ><span class=\"nd\">12306</span> <span class=\"txtt\"><span class=\"det\"><span class=\"r\">šim</span></span></span></div></div></div></div></div></div><div class=\"contnr c1   lno \" ><div class=\"lbl c1  \" ><span class=\"nd\">word:69932</span> <span class=\"txtt\"><span class=\"det\"><span class=\"r\">šim</span></span><span class=\"g\">LI</span> </span></div><div class=\"children hor  \"><div class=\"contnr c0 trm   \" ><div class=\"lbl c0 trm \" ><span class=\"nd\">12307</span> <span class=\"txtt\"><span class=\"g\">LI</span> </span></div></div></div></div><div class=\"contnr c2    \" ><div class=\"lbl c2  \" ><span class=\"nd\">cluster:54275</span></div><div class=\"children hor wrap \"><div class=\"contnr c1   rno \" ><div class=\"lbl c1  \" ><span class=\"nd\">word:69933</span> <span class=\"txtt\"><span class=\"det\"><span class=\"r\">šim</span></span>.<span class=\"det\"><span class=\"r\">d</span></span><span class=\"g\">NIN</span>.<span class=\"g\">URTA</span> </span></div><div class=\"children hor  \"><div class=\"contnr c0 trm   hl\" ><div class=\"lbl c0 trm hl\" ><span class=\"nd\">12308</span> <span class=\"txtt\"><span class=\"det\"><span class=\"r\">šim</span></span>.</span></div></div><div class=\"contnr c0 trm   hl\" ><div class=\"lbl c0 trm hl\" ><span class=\"nd\">12309</span> <span class=\"txtt\"><span class=\"det\"><span class=\"r\">d</span></span></span></div></div></div></div></div></div><div class=\"contnr c1   lno \" ><div class=\"lbl c1  \" ><span class=\"nd\">word:69933</span> <span class=\"txtt\"><span class=\"det\"><span class=\"r\">šim</span></span>.<span class=\"det\"><span class=\"r\">d</span></span><span class=\"g\">NIN</span>.<span class=\"g\">URTA</span> </span></div><div class=\"children hor  \"><div class=\"contnr c0 trm   \" ><div class=\"lbl c0 trm \" ><span class=\"nd\">12310</span> <span class=\"txtt\"><span class=\"g\">NIN</span>.</span></div></div><div class=\"contnr c0 trm   \" ><div class=\"lbl c0 trm \" ><span class=\"nd\">12311</span> <span class=\"txtt\"><span class=\"g\">URTA</span> </span></div></div></div></div><div class=\"contnr c1    \" ><div class=\"lbl c1  \" ><span class=\"nd\">word:69934</span> <span class=\"txtt\"><span class=\"g\">NUMUN</span> </span></div><div class=\"children hor  \"><div class=\"contnr c0 trm   \" ><div class=\"lbl c0 trm \" ><span class=\"nd\">12312</span> <span class=\"txtt\"><span class=\"g\">NUMUN</span> </span></div></div></div></div><div class=\"contnr c2    \" ><div class=\"lbl c2  \" ><span class=\"nd\">cluster:54276</span></div><div class=\"children hor wrap \"><div class=\"contnr c1   rno \" ><div class=\"lbl c1  \" ><span class=\"nd\">word:69935</span> <span class=\"txtt\"><span class=\"det\"><span class=\"r\">u</span></span><span class=\"g\">AB₂</span>.<span class=\"g\">DUH</span> </span></div><div class=\"children hor  \"><div class=\"contnr c0 trm   \" ><div class=\"lbl c0 trm \" ><span class=\"nd\">12313</span> <span class=\"txtt\"><span class=\"det\"><span class=\"r\">u</span></span></span></div></div></div></div></div></div><div class=\"contnr c1   lno \" ><div class=\"lbl c1  \" ><span class=\"nd\">word:69935</span> <span class=\"txtt\"><span class=\"det\"><span class=\"r\">u</span></span><span class=\"g\">AB₂</span>.<span class=\"g\">DUH</span> </span></div><div class=\"children hor  \"><div class=\"contnr c0 trm   \" ><div class=\"lbl c0 trm \" ><span class=\"nd\">12314</span> <span class=\"txtt\"><span class=\"g\">AB₂</span>.</span></div></div><div class=\"contnr c0 trm   \" ><div class=\"lbl c0 trm \" ><span class=\"nd\">12315</span> <span class=\"txtt\"><span class=\"g\">DUH</span> </span></div></div></div></div><div class=\"contnr c1    \" ><div class=\"lbl c1  \" ><span class=\"nd\">word:69936</span> <span class=\"txtt\"><span class=\"g\">KA</span> </span></div><div class=\"children hor  \"><div class=\"contnr c0 trm   \" ><div class=\"lbl c0 trm \" ><span class=\"nd\">12316</span> <span class=\"txtt\"><span class=\"g\">KA</span> </span></div></div></div></div><div class=\"contnr c1    \" ><div class=\"lbl c1  \" ><span class=\"nd\">word:69937</span> <span class=\"txtt\"><span class=\"g\">A</span>.<span class=\"g\">AB</span>.<span class=\"g\">BA</span> </span></div><div class=\"children hor  \"><div class=\"contnr c0 trm   \" ><div class=\"lbl c0 trm \" ><span class=\"nd\">12317</span> <span class=\"txtt\"><span class=\"g\">A</span>.</span></div></div><div class=\"contnr c0 trm   \" ><div class=\"lbl c0 trm \" ><span class=\"nd\">12318</span> <span class=\"txtt\"><span class=\"g\">AB</span>.</span></div></div><div class=\"contnr c0 trm   \" ><div class=\"lbl c0 trm \" ><span class=\"nd\">12319</span> <span class=\"txtt\"><span class=\"g\">BA</span> </span></div></div></div></div><div class=\"contnr c2    \" ><div class=\"lbl c2  \" ><span class=\"nd\">cluster:54277</span></div><div class=\"children hor wrap \"><div class=\"contnr c1   rno \" ><div class=\"lbl c1  \" ><span class=\"nd\">word:69938</span> <span class=\"txtt\"><span class=\"det\"><span class=\"r\">šim</span></span><span class=\"g\">ŠEŠ</span> </span></div><div class=\"children hor  \"><div class=\"contnr c0 trm   \" ><div class=\"lbl c0 trm \" ><span class=\"nd\">12320</span> <span class=\"txtt\"><span class=\"det\"><span class=\"r\">šim</span></span></span></div></div></div></div></div></div><div class=\"contnr c1   lno \" ><div class=\"lbl c1  \" ><span class=\"nd\">word:69938</span> <span class=\"txtt\"><span class=\"det\"><span class=\"r\">šim</span></span><span class=\"g\">ŠEŠ</span> </span></div><div class=\"children hor  \"><div class=\"contnr c0 trm   \" ><div class=\"lbl c0 trm \" ><span class=\"nd\">12321</span> <span class=\"txtt\"><span class=\"g\">ŠEŠ</span> </span></div></div></div></div><div class=\"contnr c1    \" ><div class=\"lbl c1  \" ><span class=\"nd\">word:69939</span> <span class=\"txtt\"><span class=\"g\">DIŠ</span>-<span class=\"r\">niš</span> </span></div><div class=\"children hor  \"><div class=\"contnr c0 trm   \" ><div class=\"lbl c0 trm \" ><span class=\"nd\">12322</span> <span class=\"txtt\"><span class=\"g\">DIŠ</span>-</span></div></div><div class=\"contnr c0 trm   \" ><div class=\"lbl c0 trm \" ><span class=\"nd\">12323</span> <span class=\"txtt\"><span class=\"r\">niš</span> </span></div></div></div></div><div class=\"contnr c1    \" ><div class=\"lbl c1  \" ><span class=\"nd\">word:69940</span> <span class=\"txtt\"><span class=\"g\">SUD₂</span> </span></div><div class=\"children hor  \"><div class=\"contnr c0 trm   \" ><div class=\"lbl c0 trm \" ><span class=\"nd\">12324</span> <span class=\"txtt\"><span class=\"g\">SUD₂</span> </span></div></div></div></div><div class=\"contnr c1    \" ><div class=\"lbl c1  \" ><span class=\"nd\">word:69941</span> <span class=\"txtt\"><span class=\"r\">ina</span> </span></div><div class=\"children hor  \"><div class=\"contnr c0 trm   \" ><div class=\"lbl c0 trm \" ><span class=\"nd\">12325</span> <span class=\"txtt\"><span class=\"r\">ina</span> </span></div></div></div></div><div class=\"contnr c1    \" ><div class=\"lbl c1  \" ><span class=\"nd\">word:69942</span> <span class=\"txtt\"><span class=\"g\">KAŠ</span> </span></div><div class=\"children hor  \"><div class=\"contnr c0 trm   \" ><div class=\"lbl c0 trm \" ><span class=\"nd\">12326</span> <span class=\"txtt\"><span class=\"g\">KAŠ</span> </span></div></div></div></div><div class=\"contnr c1    \" ><div class=\"lbl c1  \" ><span class=\"nd\">word:69943</span> <span class=\"txtt\"><span class=\"g\">SILA₁₁</span>-<span class=\"r\">aš</span> </span></div><div class=\"children hor  \"><div class=\"contnr c0 trm   \" ><div class=\"lbl c0 trm \" ><span class=\"nd\">12327</span> <span class=\"txtt\"><span class=\"g\">SILA₁₁</span>-</span></div></div><div class=\"contnr c0 trm   \" ><div class=\"lbl c0 trm \" ><span class=\"nd\">12328</span> <span class=\"txtt\"><span class=\"r\">aš</span> </span></div></div></div></div><div class=\"contnr c1    \" ><div class=\"lbl c1  \" ><span class=\"nd\">word:69944</span> <span class=\"txtt\"><span class=\"g\">SAR</span>-<span class=\"r\">ab</span> </span></div><div class=\"children hor  \"><div class=\"contnr c0 trm   \" ><div class=\"lbl c0 trm \" ><span class=\"nd\">12329</span> <span class=\"txtt\"><span class=\"g\">SAR</span>-</span></div></div><div class=\"contnr c0 trm   \" ><div class=\"lbl c0 trm \" ><span class=\"nd\">12330</span> <span class=\"txtt\"><span class=\"r\">ab</span> </span></div></div></div></div><div class=\"contnr c1    \" ><div class=\"lbl c1  \" ><span class=\"nd\">word:69945</span> <span class=\"txtt\"><span class=\"g\">KI</span> </span></div><div class=\"children hor  \"><div class=\"contnr c0 trm   \" ><div class=\"lbl c0 trm \" ><span class=\"nd\">12331</span> <span class=\"txtt\"><span class=\"g\">KI</span> </span></div></div></div></div><div class=\"contnr c1    \" ><div class=\"lbl c1  \" ><span class=\"nd\">word:69946</span> <span class=\"txtt\"><span class=\"g\">MIN</span>\n",
       "</span></div><div class=\"children hor  \"><div class=\"contnr c0 trm   \" ><div class=\"lbl c0 trm \" ><span class=\"nd\">12332</span> <span class=\"txtt\"><span class=\"g\">MIN</span>\n",
       "</span></div></div></div></div></div></div></div>"
      ],
      "text/plain": [
       "<IPython.core.display.HTML object>"
      ]
     },
     "metadata": {},
     "output_type": "display_data"
    },
    {
     "data": {
      "text/markdown": [
       "---\n",
       "# cluster: missing\n",
       "\n",
       "Location: P403381 obverse:1':3'"
      ],
      "text/plain": [
       "<IPython.core.display.Markdown object>"
      ]
     },
     "metadata": {},
     "output_type": "display_data"
    },
    {
     "name": "stdout",
     "output_type": "stream",
     "text": [
      "   3'. [... NU pa]-tan# NAG\n",
      " 1':3' [... NU pa]-tan# NAG\n",
      "\n"
     ]
    },
    {
     "data": {
      "text/html": [
       "<div class=\"\"><span class=\"tfsechead \"><span class=\"ltr\"><a target=\"_blank\" href=\"https://cdli.ucla.edu/search/search_results.php?SearchMode=Text&amp;ObjectID=P403381\" title=\"Show this document on CDLI\" sec=\"P403381 obverse:1':3'\">P403381 obverse:1':3'</a></span></span>  <span class=\"plain   hl\" ><span class=\"txtt\"><span class=\"missing\"><span class=\"missing\">...</span></span> </span></span><span class=\"plain   hl\" ><span class=\"txtt\"><span class=\"missing\"><span class=\"g\">NU</span></span> </span></span><span class=\"plain   hl\" ><span class=\"txtt\"><span class=\"missing\"><span class=\"r\">pa</span></span>-</span></span><span class=\"txtt\"><span class=\"damage\"><span class=\"r\">tan</span></span> </span><span class=\"txtt\"><span class=\"g\">NAG</span>\n",
       "</span></div>"
      ],
      "text/plain": [
       "<IPython.core.display.HTML object>"
      ]
     },
     "metadata": {},
     "output_type": "display_data"
    },
    {
     "data": {
      "text/html": [
       "<div class=\"tfsechead \"><span class=\"ltr\"><a target=\"_blank\" href=\"https://cdli.ucla.edu/search/search_results.php?SearchMode=Text&amp;ObjectID=P403381\" title=\"Show this document on CDLI\" sec=\"P403381 obverse:1':3'\">P403381 obverse:1':3'</a></span></div><div class=\" children\"><div class=\"contnr c3    \" ><div class=\"lbl c3  \" ><span class=\"nd\">line:59439</span></div><div class=\"children hor wrap \"><div class=\"contnr c2    \" ><div class=\"lbl c2  \" ><span class=\"nd\">cluster:53047</span></div><div class=\"children hor wrap \"><div class=\"contnr c1    \" ><div class=\"lbl c1  \" ><span class=\"nd\">word:63633</span> <span class=\"txtt\"><span class=\"missing\"><span class=\"missing\">...</span></span> </span></div><div class=\"children hor  \"><div class=\"contnr c0 trm   hl\" ><div class=\"lbl c0 trm hl\" ><span class=\"nd\">1681</span> <span class=\"txtt\"><span class=\"missing\"><span class=\"missing\">...</span></span> </span></div></div></div></div><div class=\"contnr c1    \" ><div class=\"lbl c1  \" ><span class=\"nd\">word:63634</span> <span class=\"txtt\"><span class=\"missing\"><span class=\"g\">NU</span></span> </span></div><div class=\"children hor  \"><div class=\"contnr c0 trm   hl\" ><div class=\"lbl c0 trm hl\" ><span class=\"nd\">1682</span> <span class=\"txtt\"><span class=\"missing\"><span class=\"g\">NU</span></span> </span></div></div></div></div><div class=\"contnr c1   rno \" ><div class=\"lbl c1  \" ><span class=\"nd\">word:63635</span> <span class=\"txtt\"><span class=\"missing\"><span class=\"r\">pa</span></span>-<span class=\"damage\"><span class=\"r\">tan</span></span> </span></div><div class=\"children hor  \"><div class=\"contnr c0 trm   hl\" ><div class=\"lbl c0 trm hl\" ><span class=\"nd\">1683</span> <span class=\"txtt\"><span class=\"missing\"><span class=\"r\">pa</span></span>-</span></div></div></div></div></div></div><div class=\"contnr c1   lno \" ><div class=\"lbl c1  \" ><span class=\"nd\">word:63635</span> <span class=\"txtt\"><span class=\"missing\"><span class=\"r\">pa</span></span>-<span class=\"damage\"><span class=\"r\">tan</span></span> </span></div><div class=\"children hor  \"><div class=\"contnr c0 trm   \" ><div class=\"lbl c0 trm \" ><span class=\"nd\">1684</span> <span class=\"txtt\"><span class=\"damage\"><span class=\"r\">tan</span></span> </span></div></div></div></div><div class=\"contnr c1    \" ><div class=\"lbl c1  \" ><span class=\"nd\">word:63636</span> <span class=\"txtt\"><span class=\"g\">NAG</span>\n",
       "</span></div><div class=\"children hor  \"><div class=\"contnr c0 trm   \" ><div class=\"lbl c0 trm \" ><span class=\"nd\">1685</span> <span class=\"txtt\"><span class=\"g\">NAG</span>\n",
       "</span></div></div></div></div></div></div></div>"
      ],
      "text/plain": [
       "<IPython.core.display.HTML object>"
      ]
     },
     "metadata": {},
     "output_type": "display_data"
    },
    {
     "data": {
      "text/markdown": [
       "---\n",
       "# cluster: uncertain\n",
       "\n",
       "Location: P394104 obverse:1:14"
      ],
      "text/plain": [
       "<IPython.core.display.Markdown object>"
      ]
     },
     "metadata": {},
     "output_type": "display_data"
    },
    {
     "name": "stdout",
     "output_type": "stream",
     "text": [
      "   14. a-[na E₂ (NU?)] e#-de-e DU-ma KA₂ GU₃-si ki-ma# x x x [...]\n",
      "  1:14 a-[na E₂ (NU?)] e#-de-e DU-ma KA₂ GU₃-si ki-ma# x x x [...]\n",
      "\n"
     ]
    },
    {
     "data": {
      "text/html": [
       "<div class=\"\"><span class=\"tfsechead \"><span class=\"ltr\"><a target=\"_blank\" href=\"https://cdli.ucla.edu/search/search_results.php?SearchMode=Text&amp;ObjectID=P394104\" title=\"Show this document on CDLI\" sec=\"P394104 obverse:1:14\">P394104 obverse:1:14</a></span></span>  <span class=\"txtt\"><span class=\"r\">a</span>-</span><span class=\"txtt\"><span class=\"missing\"><span class=\"r\">na</span></span> </span><span class=\"txtt\"><span class=\"missing\"><span class=\"g\">E₂</span></span> </span><span class=\"plain   hl\" ><span class=\"txtt\"><span class=\"question uncertain missing\"><span class=\"g\">NU</span></span> </span></span><span class=\"txtt\"><span class=\"damage\"><span class=\"r\">e</span></span>-</span><span class=\"txtt\"><span class=\"r\">de</span>-</span><span class=\"txtt\"><span class=\"r\">e</span> </span><span class=\"txtt\"><span class=\"g\">DU</span>-</span><span class=\"txtt\"><span class=\"r\">ma</span> </span><span class=\"txtt\"><span class=\"g\">KA₂</span> </span><span class=\"txtt\"><span class=\"g\">GU₃</span>-</span><span class=\"txtt\"><span class=\"r\">si</span> </span><span class=\"txtt\"><span class=\"r\">ki</span>-</span><span class=\"txtt\"><span class=\"damage\"><span class=\"r\">ma</span></span> </span><span class=\"txtt\"><span class=\"uncertain\"><span class=\"cls\">x</span></span> </span><span class=\"txtt\"><span class=\"uncertain\"><span class=\"cls\">x</span></span> </span><span class=\"txtt\"><span class=\"uncertain\"><span class=\"cls\">x</span></span> </span><span class=\"txtt\"><span class=\"missing\"><span class=\"missing\">...</span></span>\n",
       "</span></div>"
      ],
      "text/plain": [
       "<IPython.core.display.HTML object>"
      ]
     },
     "metadata": {},
     "output_type": "display_data"
    },
    {
     "data": {
      "text/html": [
       "<div class=\"tfsechead \"><span class=\"ltr\"><a target=\"_blank\" href=\"https://cdli.ucla.edu/search/search_results.php?SearchMode=Text&amp;ObjectID=P394104\" title=\"Show this document on CDLI\" sec=\"P394104 obverse:1:14\">P394104 obverse:1:14</a></span></div><div class=\" children\"><div class=\"contnr c3    \" ><div class=\"lbl c3  \" ><span class=\"nd\">line:59456</span></div><div class='features'><span class=\"tr@en xft\" ><span class=\"f\">tr@en=</span>(o i 15):He goes [to] an (un)known [house] and calls at the entrance door: ‘like ... [...] ... giddagiddû-fibers, ditto, remove your (pl.) giddagiddû-fibers, ... [...]!’</span></div><div class=\"children hor wrap \"><div class=\"contnr c1   rno \" ><div class=\"lbl c1  \" ><span class=\"nd\">word:63802</span> <span class=\"txtt\"><span class=\"r\">a</span>-<span class=\"missing\"><span class=\"r\">na</span></span> </span></div><div class=\"children hor  \"><div class=\"contnr c0 trm   \" ><div class=\"lbl c0 trm \" ><span class=\"nd\">2010</span> <span class=\"txtt\"><span class=\"r\">a</span>-</span></div></div></div></div><div class=\"contnr c2    \" ><div class=\"lbl c2  \" ><span class=\"nd\">cluster:53086</span></div><div class=\"children hor wrap \"><div class=\"contnr c1   lno \" ><div class=\"lbl c1  \" ><span class=\"nd\">word:63802</span> <span class=\"txtt\"><span class=\"r\">a</span>-<span class=\"missing\"><span class=\"r\">na</span></span> </span></div><div class=\"children hor  \"><div class=\"contnr c0 trm   \" ><div class=\"lbl c0 trm \" ><span class=\"nd\">2011</span> <span class=\"txtt\"><span class=\"missing\"><span class=\"r\">na</span></span> </span></div></div></div></div><div class=\"contnr c1    \" ><div class=\"lbl c1  \" ><span class=\"nd\">word:63803</span> <span class=\"txtt\"><span class=\"missing\"><span class=\"g\">E₂</span></span> </span></div><div class=\"children hor  \"><div class=\"contnr c0 trm   \" ><div class=\"lbl c0 trm \" ><span class=\"nd\">2012</span> <span class=\"txtt\"><span class=\"missing\"><span class=\"g\">E₂</span></span> </span></div></div></div></div><div class=\"contnr c2    \" ><div class=\"lbl c2  \" ><span class=\"nd\">cluster:53087</span></div><div class=\"children hor wrap \"><div class=\"contnr c1    \" ><div class=\"lbl c1  \" ><span class=\"nd\">word:63804</span> <span class=\"txtt\"><span class=\"question uncertain missing\"><span class=\"g\">NU</span></span> </span></div><div class=\"children hor  \"><div class=\"contnr c0 trm   hl\" ><div class=\"lbl c0 trm hl\" ><span class=\"nd\">2013</span> <span class=\"txtt\"><span class=\"question uncertain missing\"><span class=\"g\">NU</span></span> </span></div></div></div></div></div></div></div></div><div class=\"contnr c1    \" ><div class=\"lbl c1  \" ><span class=\"nd\">word:63805</span> <span class=\"txtt\"><span class=\"damage\"><span class=\"r\">e</span></span>-<span class=\"r\">de</span>-<span class=\"r\">e</span> </span></div><div class=\"children hor  \"><div class=\"contnr c0 trm   \" ><div class=\"lbl c0 trm \" ><span class=\"nd\">2014</span> <span class=\"txtt\"><span class=\"damage\"><span class=\"r\">e</span></span>-</span></div></div><div class=\"contnr c0 trm   \" ><div class=\"lbl c0 trm \" ><span class=\"nd\">2015</span> <span class=\"txtt\"><span class=\"r\">de</span>-</span></div></div><div class=\"contnr c0 trm   \" ><div class=\"lbl c0 trm \" ><span class=\"nd\">2016</span> <span class=\"txtt\"><span class=\"r\">e</span> </span></div></div></div></div><div class=\"contnr c1    \" ><div class=\"lbl c1  \" ><span class=\"nd\">word:63806</span> <span class=\"txtt\"><span class=\"g\">DU</span>-<span class=\"r\">ma</span> </span></div><div class=\"children hor  \"><div class=\"contnr c0 trm   \" ><div class=\"lbl c0 trm \" ><span class=\"nd\">2017</span> <span class=\"txtt\"><span class=\"g\">DU</span>-</span></div></div><div class=\"contnr c0 trm   \" ><div class=\"lbl c0 trm \" ><span class=\"nd\">2018</span> <span class=\"txtt\"><span class=\"r\">ma</span> </span></div></div></div></div><div class=\"contnr c1    \" ><div class=\"lbl c1  \" ><span class=\"nd\">word:63807</span> <span class=\"txtt\"><span class=\"g\">KA₂</span> </span></div><div class=\"children hor  \"><div class=\"contnr c0 trm   \" ><div class=\"lbl c0 trm \" ><span class=\"nd\">2019</span> <span class=\"txtt\"><span class=\"g\">KA₂</span> </span></div></div></div></div><div class=\"contnr c1    \" ><div class=\"lbl c1  \" ><span class=\"nd\">word:63808</span> <span class=\"txtt\"><span class=\"g\">GU₃</span>-<span class=\"r\">si</span> </span></div><div class=\"children hor  \"><div class=\"contnr c0 trm   \" ><div class=\"lbl c0 trm \" ><span class=\"nd\">2020</span> <span class=\"txtt\"><span class=\"g\">GU₃</span>-</span></div></div><div class=\"contnr c0 trm   \" ><div class=\"lbl c0 trm \" ><span class=\"nd\">2021</span> <span class=\"txtt\"><span class=\"r\">si</span> </span></div></div></div></div><div class=\"contnr c1    \" ><div class=\"lbl c1  \" ><span class=\"nd\">word:63809</span> <span class=\"txtt\"><span class=\"r\">ki</span>-<span class=\"damage\"><span class=\"r\">ma</span></span> </span></div><div class=\"children hor  \"><div class=\"contnr c0 trm   \" ><div class=\"lbl c0 trm \" ><span class=\"nd\">2022</span> <span class=\"txtt\"><span class=\"r\">ki</span>-</span></div></div><div class=\"contnr c0 trm   \" ><div class=\"lbl c0 trm \" ><span class=\"nd\">2023</span> <span class=\"txtt\"><span class=\"damage\"><span class=\"r\">ma</span></span> </span></div></div></div></div><div class=\"contnr c1    \" ><div class=\"lbl c1  \" ><span class=\"nd\">word:63810</span> <span class=\"txtt\"><span class=\"uncertain\"><span class=\"cls\">x</span></span> </span></div><div class=\"children hor  \"><div class=\"contnr c0 trm   \" ><div class=\"lbl c0 trm \" ><span class=\"nd\">2024</span> <span class=\"txtt\"><span class=\"uncertain\"><span class=\"cls\">x</span></span> </span></div></div></div></div><div class=\"contnr c1    \" ><div class=\"lbl c1  \" ><span class=\"nd\">word:63811</span> <span class=\"txtt\"><span class=\"uncertain\"><span class=\"cls\">x</span></span> </span></div><div class=\"children hor  \"><div class=\"contnr c0 trm   \" ><div class=\"lbl c0 trm \" ><span class=\"nd\">2025</span> <span class=\"txtt\"><span class=\"uncertain\"><span class=\"cls\">x</span></span> </span></div></div></div></div><div class=\"contnr c1    \" ><div class=\"lbl c1  \" ><span class=\"nd\">word:63812</span> <span class=\"txtt\"><span class=\"uncertain\"><span class=\"cls\">x</span></span> </span></div><div class=\"children hor  \"><div class=\"contnr c0 trm   \" ><div class=\"lbl c0 trm \" ><span class=\"nd\">2026</span> <span class=\"txtt\"><span class=\"uncertain\"><span class=\"cls\">x</span></span> </span></div></div></div></div><div class=\"contnr c2    \" ><div class=\"lbl c2  \" ><span class=\"nd\">cluster:53088</span></div><div class=\"children hor wrap \"><div class=\"contnr c1    \" ><div class=\"lbl c1  \" ><span class=\"nd\">word:63813</span> <span class=\"txtt\"><span class=\"missing\"><span class=\"missing\">...</span></span>\n",
       "</span></div><div class=\"children hor  \"><div class=\"contnr c0 trm   \" ><div class=\"lbl c0 trm \" ><span class=\"nd\">2027</span> <span class=\"txtt\"><span class=\"missing\"><span class=\"missing\">...</span></span>\n",
       "</span></div></div></div></div></div></div></div></div></div>"
      ],
      "text/plain": [
       "<IPython.core.display.HTML object>"
      ]
     },
     "metadata": {},
     "output_type": "display_data"
    },
    {
     "data": {
      "text/markdown": [
       "---\n",
       "# cluster: supplied\n",
       "\n",
       "Location: P285136 obverse:6'"
      ],
      "text/plain": [
       "<IPython.core.display.Markdown object>"
      ]
     },
     "metadata": {},
     "output_type": "display_data"
    },
    {
     "name": "stdout",
     "output_type": "stream",
     "text": [
      "   6'. EN₂ ma-mit GIM šar-ra-<qi₂> ina KA₂ pil-ši un gi ha ba# [x x x x x x x x x x x x]\n",
      "    6' EN₂ ma-mit GIM šar-ra-<qi₂> ina KA₂ pil-ši un gi ha ba# [x x x x x x x x x x x x]\n",
      "\n"
     ]
    },
    {
     "data": {
      "text/html": [
       "<div class=\"\"><span class=\"tfsechead \"><span class=\"ltr\"><a target=\"_blank\" href=\"https://cdli.ucla.edu/search/search_results.php?SearchMode=Text&amp;ObjectID=P285136\" title=\"Show this document on CDLI\" sec=\"P285136 obverse:6'\">P285136 obverse:6'</a></span></span>  <span class=\"txtt\"><span class=\"g\">EN₂</span> </span><span class=\"txtt\"><span class=\"r\">ma</span>-</span><span class=\"txtt\"><span class=\"r\">mit</span> </span><span class=\"txtt\"><span class=\"g\">GIM</span> </span><span class=\"txtt\"><span class=\"r\">šar</span>-</span><span class=\"txtt\"><span class=\"r\">ra</span>-</span><span class=\"plain   hl\" ><span class=\"txtt\"><span class=\"supplied\"><span class=\"r\">qi</span></span> </span></span><span class=\"txtt\"><span class=\"r\">ina</span> </span><span class=\"txtt\"><span class=\"g\">KA₂</span> </span><span class=\"txtt\"><span class=\"r\">pil</span>-</span><span class=\"txtt\"><span class=\"r\">ši</span> </span><span class=\"txtt\"><span class=\"r\">un</span> </span><span class=\"txtt\"><span class=\"r\">gi</span> </span><span class=\"txtt\"><span class=\"r\">ha</span> </span><span class=\"txtt\"><span class=\"damage\"><span class=\"r\">ba</span></span> </span><span class=\"txtt\"><span class=\"missing\"><span class=\"uncertain\"><span class=\"cls\">x</span></span></span> </span><span class=\"txtt\"><span class=\"missing\"><span class=\"uncertain\"><span class=\"cls\">x</span></span></span> </span><span class=\"txtt\"><span class=\"missing\"><span class=\"uncertain\"><span class=\"cls\">x</span></span></span> </span><span class=\"txtt\"><span class=\"missing\"><span class=\"uncertain\"><span class=\"cls\">x</span></span></span> </span><span class=\"txtt\"><span class=\"missing\"><span class=\"uncertain\"><span class=\"cls\">x</span></span></span> </span><span class=\"txtt\"><span class=\"missing\"><span class=\"uncertain\"><span class=\"cls\">x</span></span></span> </span><span class=\"txtt\"><span class=\"missing\"><span class=\"uncertain\"><span class=\"cls\">x</span></span></span> </span><span class=\"txtt\"><span class=\"missing\"><span class=\"uncertain\"><span class=\"cls\">x</span></span></span> </span><span class=\"txtt\"><span class=\"missing\"><span class=\"uncertain\"><span class=\"cls\">x</span></span></span> </span><span class=\"txtt\"><span class=\"missing\"><span class=\"uncertain\"><span class=\"cls\">x</span></span></span> </span><span class=\"txtt\"><span class=\"missing\"><span class=\"uncertain\"><span class=\"cls\">x</span></span></span> </span><span class=\"txtt\"><span class=\"missing\"><span class=\"uncertain\"><span class=\"cls\">x</span></span></span>\n",
       "</span></div>"
      ],
      "text/plain": [
       "<IPython.core.display.HTML object>"
      ]
     },
     "metadata": {},
     "output_type": "display_data"
    },
    {
     "data": {
      "text/html": [
       "<div class=\"tfsechead \"><span class=\"ltr\"><a target=\"_blank\" href=\"https://cdli.ucla.edu/search/search_results.php?SearchMode=Text&amp;ObjectID=P285136\" title=\"Show this document on CDLI\" sec=\"P285136 obverse:6'\">P285136 obverse:6'</a></span></div><div class=\" children\"><div class=\"contnr c3    \" ><div class=\"lbl c3  \" ><span class=\"nd\">line:59319</span></div><div class='features'><span class=\"tr@en xft\" ><span class=\"f\">tr@en=</span>Incantation: “The curse, like a thief at the opening of a hole, . . . [. . .” Wording? of a spell? for removing the kurāru?-boil].</span></div><div class=\"children hor wrap \"><div class=\"contnr c1    \" ><div class=\"lbl c1  \" ><span class=\"nd\">word:62423</span> <span class=\"txtt\"><span class=\"g\">EN₂</span> </span></div><div class=\"children hor  \"><div class=\"contnr c0 trm   \" ><div class=\"lbl c0 trm \" ><span class=\"nd\">51</span> <span class=\"txtt\"><span class=\"g\">EN₂</span> </span></div></div></div></div><div class=\"contnr c1    \" ><div class=\"lbl c1  \" ><span class=\"nd\">word:62424</span> <span class=\"txtt\"><span class=\"r\">ma</span>-<span class=\"r\">mit</span> </span></div><div class=\"children hor  \"><div class=\"contnr c0 trm   \" ><div class=\"lbl c0 trm \" ><span class=\"nd\">52</span> <span class=\"txtt\"><span class=\"r\">ma</span>-</span></div></div><div class=\"contnr c0 trm   \" ><div class=\"lbl c0 trm \" ><span class=\"nd\">53</span> <span class=\"txtt\"><span class=\"r\">mit</span> </span></div></div></div></div><div class=\"contnr c1    \" ><div class=\"lbl c1  \" ><span class=\"nd\">word:62425</span> <span class=\"txtt\"><span class=\"g\">GIM</span> </span></div><div class=\"children hor  \"><div class=\"contnr c0 trm   \" ><div class=\"lbl c0 trm \" ><span class=\"nd\">54</span> <span class=\"txtt\"><span class=\"g\">GIM</span> </span></div></div></div></div><div class=\"contnr c1   rno \" ><div class=\"lbl c1  \" ><span class=\"nd\">word:62426</span> <span class=\"txtt\"><span class=\"r\">šar</span>-<span class=\"r\">ra</span>-<span class=\"supplied\"><span class=\"r\">qi</span></span> </span></div><div class=\"children hor  \"><div class=\"contnr c0 trm   \" ><div class=\"lbl c0 trm \" ><span class=\"nd\">55</span> <span class=\"txtt\"><span class=\"r\">šar</span>-</span></div></div><div class=\"contnr c0 trm   \" ><div class=\"lbl c0 trm \" ><span class=\"nd\">56</span> <span class=\"txtt\"><span class=\"r\">ra</span>-</span></div></div></div></div><div class=\"contnr c2    \" ><div class=\"lbl c2  \" ><span class=\"nd\">cluster:52835</span></div><div class=\"children hor wrap \"><div class=\"contnr c1   lno \" ><div class=\"lbl c1  \" ><span class=\"nd\">word:62426</span> <span class=\"txtt\"><span class=\"r\">šar</span>-<span class=\"r\">ra</span>-<span class=\"supplied\"><span class=\"r\">qi</span></span> </span></div><div class=\"children hor  \"><div class=\"contnr c0 trm   hl\" ><div class=\"lbl c0 trm hl\" ><span class=\"nd\">57</span> <span class=\"txtt\"><span class=\"supplied\"><span class=\"r\">qi</span></span> </span></div></div></div></div></div></div><div class=\"contnr c1    \" ><div class=\"lbl c1  \" ><span class=\"nd\">word:62427</span> <span class=\"txtt\"><span class=\"r\">ina</span> </span></div><div class=\"children hor  \"><div class=\"contnr c0 trm   \" ><div class=\"lbl c0 trm \" ><span class=\"nd\">58</span> <span class=\"txtt\"><span class=\"r\">ina</span> </span></div></div></div></div><div class=\"contnr c1    \" ><div class=\"lbl c1  \" ><span class=\"nd\">word:62428</span> <span class=\"txtt\"><span class=\"g\">KA₂</span> </span></div><div class=\"children hor  \"><div class=\"contnr c0 trm   \" ><div class=\"lbl c0 trm \" ><span class=\"nd\">59</span> <span class=\"txtt\"><span class=\"g\">KA₂</span> </span></div></div></div></div><div class=\"contnr c1    \" ><div class=\"lbl c1  \" ><span class=\"nd\">word:62429</span> <span class=\"txtt\"><span class=\"r\">pil</span>-<span class=\"r\">ši</span> </span></div><div class=\"children hor  \"><div class=\"contnr c0 trm   \" ><div class=\"lbl c0 trm \" ><span class=\"nd\">60</span> <span class=\"txtt\"><span class=\"r\">pil</span>-</span></div></div><div class=\"contnr c0 trm   \" ><div class=\"lbl c0 trm \" ><span class=\"nd\">61</span> <span class=\"txtt\"><span class=\"r\">ši</span> </span></div></div></div></div><div class=\"contnr c1    \" ><div class=\"lbl c1  \" ><span class=\"nd\">word:62430</span> <span class=\"txtt\"><span class=\"r\">un</span> </span></div><div class=\"children hor  \"><div class=\"contnr c0 trm   \" ><div class=\"lbl c0 trm \" ><span class=\"nd\">62</span> <span class=\"txtt\"><span class=\"r\">un</span> </span></div></div></div></div><div class=\"contnr c1    \" ><div class=\"lbl c1  \" ><span class=\"nd\">word:62431</span> <span class=\"txtt\"><span class=\"r\">gi</span> </span></div><div class=\"children hor  \"><div class=\"contnr c0 trm   \" ><div class=\"lbl c0 trm \" ><span class=\"nd\">63</span> <span class=\"txtt\"><span class=\"r\">gi</span> </span></div></div></div></div><div class=\"contnr c1    \" ><div class=\"lbl c1  \" ><span class=\"nd\">word:62432</span> <span class=\"txtt\"><span class=\"r\">ha</span> </span></div><div class=\"children hor  \"><div class=\"contnr c0 trm   \" ><div class=\"lbl c0 trm \" ><span class=\"nd\">64</span> <span class=\"txtt\"><span class=\"r\">ha</span> </span></div></div></div></div><div class=\"contnr c1    \" ><div class=\"lbl c1  \" ><span class=\"nd\">word:62433</span> <span class=\"txtt\"><span class=\"damage\"><span class=\"r\">ba</span></span> </span></div><div class=\"children hor  \"><div class=\"contnr c0 trm   \" ><div class=\"lbl c0 trm \" ><span class=\"nd\">65</span> <span class=\"txtt\"><span class=\"damage\"><span class=\"r\">ba</span></span> </span></div></div></div></div><div class=\"contnr c2    \" ><div class=\"lbl c2  \" ><span class=\"nd\">cluster:52836</span></div><div class=\"children hor wrap \"><div class=\"contnr c1    \" ><div class=\"lbl c1  \" ><span class=\"nd\">word:62434</span> <span class=\"txtt\"><span class=\"missing\"><span class=\"uncertain\"><span class=\"cls\">x</span></span></span> </span></div><div class=\"children hor  \"><div class=\"contnr c0 trm   \" ><div class=\"lbl c0 trm \" ><span class=\"nd\">66</span> <span class=\"txtt\"><span class=\"missing\"><span class=\"uncertain\"><span class=\"cls\">x</span></span></span> </span></div></div></div></div><div class=\"contnr c1    \" ><div class=\"lbl c1  \" ><span class=\"nd\">word:62435</span> <span class=\"txtt\"><span class=\"missing\"><span class=\"uncertain\"><span class=\"cls\">x</span></span></span> </span></div><div class=\"children hor  \"><div class=\"contnr c0 trm   \" ><div class=\"lbl c0 trm \" ><span class=\"nd\">67</span> <span class=\"txtt\"><span class=\"missing\"><span class=\"uncertain\"><span class=\"cls\">x</span></span></span> </span></div></div></div></div><div class=\"contnr c1    \" ><div class=\"lbl c1  \" ><span class=\"nd\">word:62436</span> <span class=\"txtt\"><span class=\"missing\"><span class=\"uncertain\"><span class=\"cls\">x</span></span></span> </span></div><div class=\"children hor  \"><div class=\"contnr c0 trm   \" ><div class=\"lbl c0 trm \" ><span class=\"nd\">68</span> <span class=\"txtt\"><span class=\"missing\"><span class=\"uncertain\"><span class=\"cls\">x</span></span></span> </span></div></div></div></div><div class=\"contnr c1    \" ><div class=\"lbl c1  \" ><span class=\"nd\">word:62437</span> <span class=\"txtt\"><span class=\"missing\"><span class=\"uncertain\"><span class=\"cls\">x</span></span></span> </span></div><div class=\"children hor  \"><div class=\"contnr c0 trm   \" ><div class=\"lbl c0 trm \" ><span class=\"nd\">69</span> <span class=\"txtt\"><span class=\"missing\"><span class=\"uncertain\"><span class=\"cls\">x</span></span></span> </span></div></div></div></div><div class=\"contnr c1    \" ><div class=\"lbl c1  \" ><span class=\"nd\">word:62438</span> <span class=\"txtt\"><span class=\"missing\"><span class=\"uncertain\"><span class=\"cls\">x</span></span></span> </span></div><div class=\"children hor  \"><div class=\"contnr c0 trm   \" ><div class=\"lbl c0 trm \" ><span class=\"nd\">70</span> <span class=\"txtt\"><span class=\"missing\"><span class=\"uncertain\"><span class=\"cls\">x</span></span></span> </span></div></div></div></div><div class=\"contnr c1    \" ><div class=\"lbl c1  \" ><span class=\"nd\">word:62439</span> <span class=\"txtt\"><span class=\"missing\"><span class=\"uncertain\"><span class=\"cls\">x</span></span></span> </span></div><div class=\"children hor  \"><div class=\"contnr c0 trm   \" ><div class=\"lbl c0 trm \" ><span class=\"nd\">71</span> <span class=\"txtt\"><span class=\"missing\"><span class=\"uncertain\"><span class=\"cls\">x</span></span></span> </span></div></div></div></div><div class=\"contnr c1    \" ><div class=\"lbl c1  \" ><span class=\"nd\">word:62440</span> <span class=\"txtt\"><span class=\"missing\"><span class=\"uncertain\"><span class=\"cls\">x</span></span></span> </span></div><div class=\"children hor  \"><div class=\"contnr c0 trm   \" ><div class=\"lbl c0 trm \" ><span class=\"nd\">72</span> <span class=\"txtt\"><span class=\"missing\"><span class=\"uncertain\"><span class=\"cls\">x</span></span></span> </span></div></div></div></div><div class=\"contnr c1    \" ><div class=\"lbl c1  \" ><span class=\"nd\">word:62441</span> <span class=\"txtt\"><span class=\"missing\"><span class=\"uncertain\"><span class=\"cls\">x</span></span></span> </span></div><div class=\"children hor  \"><div class=\"contnr c0 trm   \" ><div class=\"lbl c0 trm \" ><span class=\"nd\">73</span> <span class=\"txtt\"><span class=\"missing\"><span class=\"uncertain\"><span class=\"cls\">x</span></span></span> </span></div></div></div></div><div class=\"contnr c1    \" ><div class=\"lbl c1  \" ><span class=\"nd\">word:62442</span> <span class=\"txtt\"><span class=\"missing\"><span class=\"uncertain\"><span class=\"cls\">x</span></span></span> </span></div><div class=\"children hor  \"><div class=\"contnr c0 trm   \" ><div class=\"lbl c0 trm \" ><span class=\"nd\">74</span> <span class=\"txtt\"><span class=\"missing\"><span class=\"uncertain\"><span class=\"cls\">x</span></span></span> </span></div></div></div></div><div class=\"contnr c1    \" ><div class=\"lbl c1  \" ><span class=\"nd\">word:62443</span> <span class=\"txtt\"><span class=\"missing\"><span class=\"uncertain\"><span class=\"cls\">x</span></span></span> </span></div><div class=\"children hor  \"><div class=\"contnr c0 trm   \" ><div class=\"lbl c0 trm \" ><span class=\"nd\">75</span> <span class=\"txtt\"><span class=\"missing\"><span class=\"uncertain\"><span class=\"cls\">x</span></span></span> </span></div></div></div></div><div class=\"contnr c1    \" ><div class=\"lbl c1  \" ><span class=\"nd\">word:62444</span> <span class=\"txtt\"><span class=\"missing\"><span class=\"uncertain\"><span class=\"cls\">x</span></span></span> </span></div><div class=\"children hor  \"><div class=\"contnr c0 trm   \" ><div class=\"lbl c0 trm \" ><span class=\"nd\">76</span> <span class=\"txtt\"><span class=\"missing\"><span class=\"uncertain\"><span class=\"cls\">x</span></span></span> </span></div></div></div></div><div class=\"contnr c1    \" ><div class=\"lbl c1  \" ><span class=\"nd\">word:62445</span> <span class=\"txtt\"><span class=\"missing\"><span class=\"uncertain\"><span class=\"cls\">x</span></span></span>\n",
       "</span></div><div class=\"children hor  \"><div class=\"contnr c0 trm   \" ><div class=\"lbl c0 trm \" ><span class=\"nd\">77</span> <span class=\"txtt\"><span class=\"missing\"><span class=\"uncertain\"><span class=\"cls\">x</span></span></span>\n",
       "</span></div></div></div></div></div></div></div></div></div>"
      ],
      "text/plain": [
       "<IPython.core.display.HTML object>"
      ]
     },
     "metadata": {},
     "output_type": "display_data"
    },
    {
     "data": {
      "text/markdown": [
       "---\n",
       "# cluster: excised\n",
       "\n",
       "Location: P393782 obverse:2:1"
      ],
      "text/plain": [
       "<IPython.core.display.Markdown object>"
      ]
     },
     "metadata": {},
     "output_type": "display_data"
    },
    {
     "name": "stdout",
     "output_type": "stream",
     "text": [
      "   1. [DIŠ NA ŠA₃-š]u₂ GU₇-šu₂ {u₂}HAR.HAR MUN SUD₂ lu in[a A l]u ina KAŠ lu ina GEŠTIN <<EN₂>> ana ŠA₃ ŠUB-di NAG\n",
      "   2:1 [DIŠ NA ŠA₃-šu₂] GU₇-šu₂ {u₂}HAR.HAR MUN SUD₂ lu [ina A lu] ina KAŠ lu ina GEŠTIN <<EN₂>> ana ŠA₃ ŠUB-di NAG\n",
      "\n"
     ]
    },
    {
     "data": {
      "text/html": [
       "<div class=\"\"><span class=\"tfsechead \"><span class=\"ltr\"><a target=\"_blank\" href=\"https://cdli.ucla.edu/search/search_results.php?SearchMode=Text&amp;ObjectID=P393782\" title=\"Show this document on CDLI\" sec=\"P393782 obverse:2:1\">P393782 obverse:2:1</a></span></span>  <span class=\"txtt\"><span class=\"missing\"><span class=\"g\">DIŠ</span></span> </span><span class=\"txtt\"><span class=\"missing\"><span class=\"g\">NA</span></span> </span><span class=\"txtt\"><span class=\"missing\"><span class=\"g\">ŠA₃</span></span>-</span><span class=\"txtt\"><span class=\"r\">šu</span> </span><span class=\"txtt\"><span class=\"g\">GU₇</span>-</span><span class=\"txtt\"><span class=\"r\">šu</span> </span><span class=\"txtt\"><span class=\"det\"><span class=\"r\">u</span></span></span><span class=\"txtt\"><span class=\"g\">HAR</span>.</span><span class=\"txtt\"><span class=\"g\">HAR</span> </span><span class=\"txtt\"><span class=\"g\">MUN</span> </span><span class=\"txtt\"><span class=\"g\">SUD₂</span> </span><span class=\"txtt\"><span class=\"r\">lu</span> </span><span class=\"txtt\"><span class=\"missing\"><span class=\"r\">ina</span></span> </span><span class=\"txtt\"><span class=\"missing\"><span class=\"g\">A</span></span> </span><span class=\"txtt\"><span class=\"r\">lu</span> </span><span class=\"txtt\"><span class=\"r\">ina</span> </span><span class=\"txtt\"><span class=\"g\">KAŠ</span> </span><span class=\"txtt\"><span class=\"r\">lu</span> </span><span class=\"txtt\"><span class=\"r\">ina</span> </span><span class=\"txtt\"><span class=\"g\">GEŠTIN</span> </span><span class=\"plain   hl\" ><span class=\"txtt\"><span class=\"excised\"><span class=\"g\">EN₂</span></span> </span></span><span class=\"txtt\"><span class=\"r\">ana</span> </span><span class=\"txtt\"><span class=\"g\">ŠA₃</span> </span><span class=\"txtt\"><span class=\"g\">ŠUB</span>-</span><span class=\"txtt\"><span class=\"r\">di</span> </span><span class=\"txtt\"><span class=\"g\">NAG</span>\n",
       "</span></div>"
      ],
      "text/plain": [
       "<IPython.core.display.HTML object>"
      ]
     },
     "metadata": {},
     "output_type": "display_data"
    },
    {
     "data": {
      "text/html": [
       "<div class=\"tfsechead \"><span class=\"ltr\"><a target=\"_blank\" href=\"https://cdli.ucla.edu/search/search_results.php?SearchMode=Text&amp;ObjectID=P393782\" title=\"Show this document on CDLI\" sec=\"P393782 obverse:2:1\">P393782 obverse:2:1</a></span></div><div class=\" children\"><div class=\"contnr c3    \" ><div class=\"lbl c3  \" ><span class=\"nd\">line:59706</span></div><div class='features'><span class=\"tr@en xft\" ><span class=\"f\">tr@en=</span>If a man’s belly hurts him: you pound salted ḫašû-thyme, you put it in water or beer or wine, (and) he drinks it.</span></div><div class=\"children hor wrap \"><div class=\"contnr c2    \" ><div class=\"lbl c2  \" ><span class=\"nd\">cluster:53575</span></div><div class=\"children hor wrap \"><div class=\"contnr c1    \" ><div class=\"lbl c1  \" ><span class=\"nd\">word:66167</span> <span class=\"txtt\"><span class=\"missing\"><span class=\"g\">DIŠ</span></span> </span></div><div class=\"children hor  \"><div class=\"contnr c0 trm   \" ><div class=\"lbl c0 trm \" ><span class=\"nd\">6007</span> <span class=\"txtt\"><span class=\"missing\"><span class=\"g\">DIŠ</span></span> </span></div></div></div></div><div class=\"contnr c1    \" ><div class=\"lbl c1  \" ><span class=\"nd\">word:66168</span> <span class=\"txtt\"><span class=\"missing\"><span class=\"g\">NA</span></span> </span></div><div class=\"children hor  \"><div class=\"contnr c0 trm   \" ><div class=\"lbl c0 trm \" ><span class=\"nd\">6008</span> <span class=\"txtt\"><span class=\"missing\"><span class=\"g\">NA</span></span> </span></div></div></div></div><div class=\"contnr c1    \" ><div class=\"lbl c1  \" ><span class=\"nd\">word:66169</span> <span class=\"txtt\"><span class=\"missing\"><span class=\"g\">ŠA₃</span></span>-<span class=\"r\">šu</span> </span></div><div class=\"children hor  \"><div class=\"contnr c0 trm   \" ><div class=\"lbl c0 trm \" ><span class=\"nd\">6009</span> <span class=\"txtt\"><span class=\"missing\"><span class=\"g\">ŠA₃</span></span>-</span></div></div><div class=\"contnr c0 trm   \" ><div class=\"lbl c0 trm \" ><span class=\"nd\">6010</span> <span class=\"txtt\"><span class=\"r\">šu</span> </span></div></div></div></div></div></div><div class=\"contnr c1    \" ><div class=\"lbl c1  \" ><span class=\"nd\">word:66170</span> <span class=\"txtt\"><span class=\"g\">GU₇</span>-<span class=\"r\">šu</span> </span></div><div class=\"children hor  \"><div class=\"contnr c0 trm   \" ><div class=\"lbl c0 trm \" ><span class=\"nd\">6011</span> <span class=\"txtt\"><span class=\"g\">GU₇</span>-</span></div></div><div class=\"contnr c0 trm   \" ><div class=\"lbl c0 trm \" ><span class=\"nd\">6012</span> <span class=\"txtt\"><span class=\"r\">šu</span> </span></div></div></div></div><div class=\"contnr c2    \" ><div class=\"lbl c2  \" ><span class=\"nd\">cluster:53576</span></div><div class=\"children hor wrap \"><div class=\"contnr c1   rno \" ><div class=\"lbl c1  \" ><span class=\"nd\">word:66171</span> <span class=\"txtt\"><span class=\"det\"><span class=\"r\">u</span></span><span class=\"g\">HAR</span>.<span class=\"g\">HAR</span> </span></div><div class=\"children hor  \"><div class=\"contnr c0 trm   \" ><div class=\"lbl c0 trm \" ><span class=\"nd\">6013</span> <span class=\"txtt\"><span class=\"det\"><span class=\"r\">u</span></span></span></div></div></div></div></div></div><div class=\"contnr c1   lno \" ><div class=\"lbl c1  \" ><span class=\"nd\">word:66171</span> <span class=\"txtt\"><span class=\"det\"><span class=\"r\">u</span></span><span class=\"g\">HAR</span>.<span class=\"g\">HAR</span> </span></div><div class=\"children hor  \"><div class=\"contnr c0 trm   \" ><div class=\"lbl c0 trm \" ><span class=\"nd\">6014</span> <span class=\"txtt\"><span class=\"g\">HAR</span>.</span></div></div><div class=\"contnr c0 trm   \" ><div class=\"lbl c0 trm \" ><span class=\"nd\">6015</span> <span class=\"txtt\"><span class=\"g\">HAR</span> </span></div></div></div></div><div class=\"contnr c1    \" ><div class=\"lbl c1  \" ><span class=\"nd\">word:66172</span> <span class=\"txtt\"><span class=\"g\">MUN</span> </span></div><div class=\"children hor  \"><div class=\"contnr c0 trm   \" ><div class=\"lbl c0 trm \" ><span class=\"nd\">6016</span> <span class=\"txtt\"><span class=\"g\">MUN</span> </span></div></div></div></div><div class=\"contnr c1    \" ><div class=\"lbl c1  \" ><span class=\"nd\">word:66173</span> <span class=\"txtt\"><span class=\"g\">SUD₂</span> </span></div><div class=\"children hor  \"><div class=\"contnr c0 trm   \" ><div class=\"lbl c0 trm \" ><span class=\"nd\">6017</span> <span class=\"txtt\"><span class=\"g\">SUD₂</span> </span></div></div></div></div><div class=\"contnr c1    \" ><div class=\"lbl c1  \" ><span class=\"nd\">word:66174</span> <span class=\"txtt\"><span class=\"r\">lu</span> </span></div><div class=\"children hor  \"><div class=\"contnr c0 trm   \" ><div class=\"lbl c0 trm \" ><span class=\"nd\">6018</span> <span class=\"txtt\"><span class=\"r\">lu</span> </span></div></div></div></div><div class=\"contnr c2    \" ><div class=\"lbl c2  \" ><span class=\"nd\">cluster:53577</span></div><div class=\"children hor wrap \"><div class=\"contnr c1    \" ><div class=\"lbl c1  \" ><span class=\"nd\">word:66175</span> <span class=\"txtt\"><span class=\"missing\"><span class=\"r\">ina</span></span> </span></div><div class=\"children hor  \"><div class=\"contnr c0 trm   \" ><div class=\"lbl c0 trm \" ><span class=\"nd\">6019</span> <span class=\"txtt\"><span class=\"missing\"><span class=\"r\">ina</span></span> </span></div></div></div></div><div class=\"contnr c1    \" ><div class=\"lbl c1  \" ><span class=\"nd\">word:66176</span> <span class=\"txtt\"><span class=\"missing\"><span class=\"g\">A</span></span> </span></div><div class=\"children hor  \"><div class=\"contnr c0 trm   \" ><div class=\"lbl c0 trm \" ><span class=\"nd\">6020</span> <span class=\"txtt\"><span class=\"missing\"><span class=\"g\">A</span></span> </span></div></div></div></div><div class=\"contnr c1    \" ><div class=\"lbl c1  \" ><span class=\"nd\">word:66177</span> <span class=\"txtt\"><span class=\"r\">lu</span> </span></div><div class=\"children hor  \"><div class=\"contnr c0 trm   \" ><div class=\"lbl c0 trm \" ><span class=\"nd\">6021</span> <span class=\"txtt\"><span class=\"r\">lu</span> </span></div></div></div></div></div></div><div class=\"contnr c1    \" ><div class=\"lbl c1  \" ><span class=\"nd\">word:66178</span> <span class=\"txtt\"><span class=\"r\">ina</span> </span></div><div class=\"children hor  \"><div class=\"contnr c0 trm   \" ><div class=\"lbl c0 trm \" ><span class=\"nd\">6022</span> <span class=\"txtt\"><span class=\"r\">ina</span> </span></div></div></div></div><div class=\"contnr c1    \" ><div class=\"lbl c1  \" ><span class=\"nd\">word:66179</span> <span class=\"txtt\"><span class=\"g\">KAŠ</span> </span></div><div class=\"children hor  \"><div class=\"contnr c0 trm   \" ><div class=\"lbl c0 trm \" ><span class=\"nd\">6023</span> <span class=\"txtt\"><span class=\"g\">KAŠ</span> </span></div></div></div></div><div class=\"contnr c1    \" ><div class=\"lbl c1  \" ><span class=\"nd\">word:66180</span> <span class=\"txtt\"><span class=\"r\">lu</span> </span></div><div class=\"children hor  \"><div class=\"contnr c0 trm   \" ><div class=\"lbl c0 trm \" ><span class=\"nd\">6024</span> <span class=\"txtt\"><span class=\"r\">lu</span> </span></div></div></div></div><div class=\"contnr c1    \" ><div class=\"lbl c1  \" ><span class=\"nd\">word:66181</span> <span class=\"txtt\"><span class=\"r\">ina</span> </span></div><div class=\"children hor  \"><div class=\"contnr c0 trm   \" ><div class=\"lbl c0 trm \" ><span class=\"nd\">6025</span> <span class=\"txtt\"><span class=\"r\">ina</span> </span></div></div></div></div><div class=\"contnr c1    \" ><div class=\"lbl c1  \" ><span class=\"nd\">word:66182</span> <span class=\"txtt\"><span class=\"g\">GEŠTIN</span> </span></div><div class=\"children hor  \"><div class=\"contnr c0 trm   \" ><div class=\"lbl c0 trm \" ><span class=\"nd\">6026</span> <span class=\"txtt\"><span class=\"g\">GEŠTIN</span> </span></div></div></div></div><div class=\"contnr c2    \" ><div class=\"lbl c2  \" ><span class=\"nd\">cluster:53578</span></div><div class=\"children hor wrap \"><div class=\"contnr c1    \" ><div class=\"lbl c1  \" ><span class=\"nd\">word:66183</span> <span class=\"txtt\"><span class=\"excised\"><span class=\"g\">EN₂</span></span> </span></div><div class=\"children hor  \"><div class=\"contnr c0 trm   hl\" ><div class=\"lbl c0 trm hl\" ><span class=\"nd\">6027</span> <span class=\"txtt\"><span class=\"excised\"><span class=\"g\">EN₂</span></span> </span></div></div></div></div></div></div><div class=\"contnr c1    \" ><div class=\"lbl c1  \" ><span class=\"nd\">word:66184</span> <span class=\"txtt\"><span class=\"r\">ana</span> </span></div><div class=\"children hor  \"><div class=\"contnr c0 trm   \" ><div class=\"lbl c0 trm \" ><span class=\"nd\">6028</span> <span class=\"txtt\"><span class=\"r\">ana</span> </span></div></div></div></div><div class=\"contnr c1    \" ><div class=\"lbl c1  \" ><span class=\"nd\">word:66185</span> <span class=\"txtt\"><span class=\"g\">ŠA₃</span> </span></div><div class=\"children hor  \"><div class=\"contnr c0 trm   \" ><div class=\"lbl c0 trm \" ><span class=\"nd\">6029</span> <span class=\"txtt\"><span class=\"g\">ŠA₃</span> </span></div></div></div></div><div class=\"contnr c1    \" ><div class=\"lbl c1  \" ><span class=\"nd\">word:66186</span> <span class=\"txtt\"><span class=\"g\">ŠUB</span>-<span class=\"r\">di</span> </span></div><div class=\"children hor  \"><div class=\"contnr c0 trm   \" ><div class=\"lbl c0 trm \" ><span class=\"nd\">6030</span> <span class=\"txtt\"><span class=\"g\">ŠUB</span>-</span></div></div><div class=\"contnr c0 trm   \" ><div class=\"lbl c0 trm \" ><span class=\"nd\">6031</span> <span class=\"txtt\"><span class=\"r\">di</span> </span></div></div></div></div><div class=\"contnr c1    \" ><div class=\"lbl c1  \" ><span class=\"nd\">word:66187</span> <span class=\"txtt\"><span class=\"g\">NAG</span>\n",
       "</span></div><div class=\"children hor  \"><div class=\"contnr c0 trm   \" ><div class=\"lbl c0 trm \" ><span class=\"nd\">6032</span> <span class=\"txtt\"><span class=\"g\">NAG</span>\n",
       "</span></div></div></div></div></div></div></div>"
      ],
      "text/plain": [
       "<IPython.core.display.HTML object>"
      ]
     },
     "metadata": {},
     "output_type": "display_data"
    },
    {
     "data": {
      "text/markdown": [
       "---\n",
       "# flag: damage\n",
       "\n",
       "Location: P285109 reverse:2:1'"
      ],
      "text/plain": [
       "<IPython.core.display.Markdown object>"
      ]
     },
     "metadata": {},
     "output_type": "display_data"
    },
    {
     "name": "stdout",
     "output_type": "stream",
     "text": [
      "   1'. [x x x] x lu#-u₂# ina KAŠ.SAG [x x x x x x x]\n",
      "  2:1' [x x x] x lu#-u₂# ina KAŠ.SAG [x x x x x x x]\n",
      "\n"
     ]
    },
    {
     "data": {
      "text/html": [
       "<div class=\"\"><span class=\"tfsechead \"><span class=\"ltr\"><a target=\"_blank\" href=\"https://cdli.ucla.edu/search/search_results.php?SearchMode=Text&amp;ObjectID=P285109\" title=\"Show this document on CDLI\" sec=\"P285109 reverse:2:1'\">P285109 reverse:2:1'</a></span></span>  <span class=\"txtt\"><span class=\"missing\"><span class=\"uncertain\"><span class=\"cls\">x</span></span></span> </span><span class=\"txtt\"><span class=\"missing\"><span class=\"uncertain\"><span class=\"cls\">x</span></span></span> </span><span class=\"txtt\"><span class=\"missing\"><span class=\"uncertain\"><span class=\"cls\">x</span></span></span> </span><span class=\"txtt\"><span class=\"uncertain\"><span class=\"cls\">x</span></span> </span><span class=\"plain   hl\" ><span class=\"txtt\"><span class=\"damage\"><span class=\"r\">lu</span></span>-</span></span><span class=\"txtt\"><span class=\"damage\"><span class=\"r\">u</span></span> </span><span class=\"txtt\"><span class=\"r\">ina</span> </span><span class=\"txtt\"><span class=\"g\">KAŠ</span>.</span><span class=\"txtt\"><span class=\"g\">SAG</span> </span><span class=\"txtt\"><span class=\"missing\"><span class=\"uncertain\"><span class=\"cls\">x</span></span></span> </span><span class=\"txtt\"><span class=\"missing\"><span class=\"uncertain\"><span class=\"cls\">x</span></span></span> </span><span class=\"txtt\"><span class=\"missing\"><span class=\"uncertain\"><span class=\"cls\">x</span></span></span> </span><span class=\"txtt\"><span class=\"missing\"><span class=\"uncertain\"><span class=\"cls\">x</span></span></span> </span><span class=\"txtt\"><span class=\"missing\"><span class=\"uncertain\"><span class=\"cls\">x</span></span></span> </span><span class=\"txtt\"><span class=\"missing\"><span class=\"uncertain\"><span class=\"cls\">x</span></span></span> </span><span class=\"txtt\"><span class=\"missing\"><span class=\"uncertain\"><span class=\"cls\">x</span></span></span>\n",
       "</span></div>"
      ],
      "text/plain": [
       "<IPython.core.display.HTML object>"
      ]
     },
     "metadata": {},
     "output_type": "display_data"
    },
    {
     "data": {
      "text/html": [
       "<div class=\"tfsechead \"><span class=\"ltr\"><a target=\"_blank\" href=\"https://cdli.ucla.edu/search/search_results.php?SearchMode=Text&amp;ObjectID=P285109\" title=\"Show this document on CDLI\" sec=\"P285109 reverse:2:1'\">P285109 reverse:2:1'</a></span></div><div class=\" children\"><div class=\"contnr c3    \" ><div class=\"lbl c3  \" ><span class=\"nd\">line:59375</span></div><div class='features'><span class=\"tr@en xft\" ><span class=\"f\">tr@en=</span>[... he should drink it] either in prime quality beer [or in wine ...]</span></div><div class=\"children hor wrap \"><div class=\"contnr c2    \" ><div class=\"lbl c2  \" ><span class=\"nd\">cluster:52919</span></div><div class=\"children hor wrap \"><div class=\"contnr c1    \" ><div class=\"lbl c1  \" ><span class=\"nd\">word:63111</span> <span class=\"txtt\"><span class=\"missing\"><span class=\"uncertain\"><span class=\"cls\">x</span></span></span> </span></div><div class=\"children hor  \"><div class=\"contnr c0 trm   \" ><div class=\"lbl c0 trm \" ><span class=\"nd\">956</span> <span class=\"txtt\"><span class=\"missing\"><span class=\"uncertain\"><span class=\"cls\">x</span></span></span> </span></div></div></div></div><div class=\"contnr c1    \" ><div class=\"lbl c1  \" ><span class=\"nd\">word:63112</span> <span class=\"txtt\"><span class=\"missing\"><span class=\"uncertain\"><span class=\"cls\">x</span></span></span> </span></div><div class=\"children hor  \"><div class=\"contnr c0 trm   \" ><div class=\"lbl c0 trm \" ><span class=\"nd\">957</span> <span class=\"txtt\"><span class=\"missing\"><span class=\"uncertain\"><span class=\"cls\">x</span></span></span> </span></div></div></div></div><div class=\"contnr c1    \" ><div class=\"lbl c1  \" ><span class=\"nd\">word:63113</span> <span class=\"txtt\"><span class=\"missing\"><span class=\"uncertain\"><span class=\"cls\">x</span></span></span> </span></div><div class=\"children hor  \"><div class=\"contnr c0 trm   \" ><div class=\"lbl c0 trm \" ><span class=\"nd\">958</span> <span class=\"txtt\"><span class=\"missing\"><span class=\"uncertain\"><span class=\"cls\">x</span></span></span> </span></div></div></div></div></div></div><div class=\"contnr c1    \" ><div class=\"lbl c1  \" ><span class=\"nd\">word:63114</span> <span class=\"txtt\"><span class=\"uncertain\"><span class=\"cls\">x</span></span> </span></div><div class=\"children hor  \"><div class=\"contnr c0 trm   \" ><div class=\"lbl c0 trm \" ><span class=\"nd\">959</span> <span class=\"txtt\"><span class=\"uncertain\"><span class=\"cls\">x</span></span> </span></div></div></div></div><div class=\"contnr c1    \" ><div class=\"lbl c1  \" ><span class=\"nd\">word:63115</span> <span class=\"txtt\"><span class=\"damage\"><span class=\"r\">lu</span></span>-<span class=\"damage\"><span class=\"r\">u</span></span> </span></div><div class=\"children hor  \"><div class=\"contnr c0 trm   hl\" ><div class=\"lbl c0 trm hl\" ><span class=\"nd\">960</span> <span class=\"txtt\"><span class=\"damage\"><span class=\"r\">lu</span></span>-</span></div></div><div class=\"contnr c0 trm   \" ><div class=\"lbl c0 trm \" ><span class=\"nd\">961</span> <span class=\"txtt\"><span class=\"damage\"><span class=\"r\">u</span></span> </span></div></div></div></div><div class=\"contnr c1    \" ><div class=\"lbl c1  \" ><span class=\"nd\">word:63116</span> <span class=\"txtt\"><span class=\"r\">ina</span> </span></div><div class=\"children hor  \"><div class=\"contnr c0 trm   \" ><div class=\"lbl c0 trm \" ><span class=\"nd\">962</span> <span class=\"txtt\"><span class=\"r\">ina</span> </span></div></div></div></div><div class=\"contnr c1    \" ><div class=\"lbl c1  \" ><span class=\"nd\">word:63117</span> <span class=\"txtt\"><span class=\"g\">KAŠ</span>.<span class=\"g\">SAG</span> </span></div><div class=\"children hor  \"><div class=\"contnr c0 trm   \" ><div class=\"lbl c0 trm \" ><span class=\"nd\">963</span> <span class=\"txtt\"><span class=\"g\">KAŠ</span>.</span></div></div><div class=\"contnr c0 trm   \" ><div class=\"lbl c0 trm \" ><span class=\"nd\">964</span> <span class=\"txtt\"><span class=\"g\">SAG</span> </span></div></div></div></div><div class=\"contnr c2    \" ><div class=\"lbl c2  \" ><span class=\"nd\">cluster:52920</span></div><div class=\"children hor wrap \"><div class=\"contnr c1    \" ><div class=\"lbl c1  \" ><span class=\"nd\">word:63118</span> <span class=\"txtt\"><span class=\"missing\"><span class=\"uncertain\"><span class=\"cls\">x</span></span></span> </span></div><div class=\"children hor  \"><div class=\"contnr c0 trm   \" ><div class=\"lbl c0 trm \" ><span class=\"nd\">965</span> <span class=\"txtt\"><span class=\"missing\"><span class=\"uncertain\"><span class=\"cls\">x</span></span></span> </span></div></div></div></div><div class=\"contnr c1    \" ><div class=\"lbl c1  \" ><span class=\"nd\">word:63119</span> <span class=\"txtt\"><span class=\"missing\"><span class=\"uncertain\"><span class=\"cls\">x</span></span></span> </span></div><div class=\"children hor  \"><div class=\"contnr c0 trm   \" ><div class=\"lbl c0 trm \" ><span class=\"nd\">966</span> <span class=\"txtt\"><span class=\"missing\"><span class=\"uncertain\"><span class=\"cls\">x</span></span></span> </span></div></div></div></div><div class=\"contnr c1    \" ><div class=\"lbl c1  \" ><span class=\"nd\">word:63120</span> <span class=\"txtt\"><span class=\"missing\"><span class=\"uncertain\"><span class=\"cls\">x</span></span></span> </span></div><div class=\"children hor  \"><div class=\"contnr c0 trm   \" ><div class=\"lbl c0 trm \" ><span class=\"nd\">967</span> <span class=\"txtt\"><span class=\"missing\"><span class=\"uncertain\"><span class=\"cls\">x</span></span></span> </span></div></div></div></div><div class=\"contnr c1    \" ><div class=\"lbl c1  \" ><span class=\"nd\">word:63121</span> <span class=\"txtt\"><span class=\"missing\"><span class=\"uncertain\"><span class=\"cls\">x</span></span></span> </span></div><div class=\"children hor  \"><div class=\"contnr c0 trm   \" ><div class=\"lbl c0 trm \" ><span class=\"nd\">968</span> <span class=\"txtt\"><span class=\"missing\"><span class=\"uncertain\"><span class=\"cls\">x</span></span></span> </span></div></div></div></div><div class=\"contnr c1    \" ><div class=\"lbl c1  \" ><span class=\"nd\">word:63122</span> <span class=\"txtt\"><span class=\"missing\"><span class=\"uncertain\"><span class=\"cls\">x</span></span></span> </span></div><div class=\"children hor  \"><div class=\"contnr c0 trm   \" ><div class=\"lbl c0 trm \" ><span class=\"nd\">969</span> <span class=\"txtt\"><span class=\"missing\"><span class=\"uncertain\"><span class=\"cls\">x</span></span></span> </span></div></div></div></div><div class=\"contnr c1    \" ><div class=\"lbl c1  \" ><span class=\"nd\">word:63123</span> <span class=\"txtt\"><span class=\"missing\"><span class=\"uncertain\"><span class=\"cls\">x</span></span></span> </span></div><div class=\"children hor  \"><div class=\"contnr c0 trm   \" ><div class=\"lbl c0 trm \" ><span class=\"nd\">970</span> <span class=\"txtt\"><span class=\"missing\"><span class=\"uncertain\"><span class=\"cls\">x</span></span></span> </span></div></div></div></div><div class=\"contnr c1    \" ><div class=\"lbl c1  \" ><span class=\"nd\">word:63124</span> <span class=\"txtt\"><span class=\"missing\"><span class=\"uncertain\"><span class=\"cls\">x</span></span></span>\n",
       "</span></div><div class=\"children hor  \"><div class=\"contnr c0 trm   \" ><div class=\"lbl c0 trm \" ><span class=\"nd\">971</span> <span class=\"txtt\"><span class=\"missing\"><span class=\"uncertain\"><span class=\"cls\">x</span></span></span>\n",
       "</span></div></div></div></div></div></div></div></div></div>"
      ],
      "text/plain": [
       "<IPython.core.display.HTML object>"
      ]
     },
     "metadata": {},
     "output_type": "display_data"
    },
    {
     "data": {
      "text/markdown": [
       "---\n",
       "# flag: question\n",
       "\n",
       "Location: P285109 reverse:2:4'"
      ],
      "text/plain": [
       "<IPython.core.display.Markdown object>"
      ]
     },
     "metadata": {},
     "output_type": "display_data"
    },
    {
     "name": "stdout",
     "output_type": "stream",
     "text": [
      "   4'. [x x x x x x x x Š]U₂? L[UGAL? x x x x]\n",
      "  2:4' [x x x x x x x x ŠU₂?] [LUGAL? x x x x]\n",
      "\n"
     ]
    },
    {
     "data": {
      "text/html": [
       "<div class=\"\"><span class=\"tfsechead \"><span class=\"ltr\"><a target=\"_blank\" href=\"https://cdli.ucla.edu/search/search_results.php?SearchMode=Text&amp;ObjectID=P285109\" title=\"Show this document on CDLI\" sec=\"P285109 reverse:2:4'\">P285109 reverse:2:4'</a></span></span>  <span class=\"txtt\"><span class=\"missing\"><span class=\"uncertain\"><span class=\"cls\">x</span></span></span> </span><span class=\"txtt\"><span class=\"missing\"><span class=\"uncertain\"><span class=\"cls\">x</span></span></span> </span><span class=\"txtt\"><span class=\"missing\"><span class=\"uncertain\"><span class=\"cls\">x</span></span></span> </span><span class=\"txtt\"><span class=\"missing\"><span class=\"uncertain\"><span class=\"cls\">x</span></span></span> </span><span class=\"txtt\"><span class=\"missing\"><span class=\"uncertain\"><span class=\"cls\">x</span></span></span> </span><span class=\"txtt\"><span class=\"missing\"><span class=\"uncertain\"><span class=\"cls\">x</span></span></span> </span><span class=\"txtt\"><span class=\"missing\"><span class=\"uncertain\"><span class=\"cls\">x</span></span></span> </span><span class=\"txtt\"><span class=\"missing\"><span class=\"uncertain\"><span class=\"cls\">x</span></span></span> </span><span class=\"txtt\"><span class=\"question\"><span class=\"g\">ŠU₂</span></span> </span><span class=\"plain   hl\" ><span class=\"txtt\"><span class=\"question missing\"><span class=\"g\">LUGAL</span></span> </span></span><span class=\"txtt\"><span class=\"missing\"><span class=\"uncertain\"><span class=\"cls\">x</span></span></span> </span><span class=\"txtt\"><span class=\"missing\"><span class=\"uncertain\"><span class=\"cls\">x</span></span></span> </span><span class=\"txtt\"><span class=\"missing\"><span class=\"uncertain\"><span class=\"cls\">x</span></span></span> </span><span class=\"txtt\"><span class=\"missing\"><span class=\"uncertain\"><span class=\"cls\">x</span></span></span>\n",
       "</span></div>"
      ],
      "text/plain": [
       "<IPython.core.display.HTML object>"
      ]
     },
     "metadata": {},
     "output_type": "display_data"
    },
    {
     "data": {
      "text/html": [
       "<div class=\"tfsechead \"><span class=\"ltr\"><a target=\"_blank\" href=\"https://cdli.ucla.edu/search/search_results.php?SearchMode=Text&amp;ObjectID=P285109\" title=\"Show this document on CDLI\" sec=\"P285109 reverse:2:4'\">P285109 reverse:2:4'</a></span></div><div class=\" children\"><div class=\"contnr c3    \" ><div class=\"lbl c3  \" ><span class=\"nd\">line:59378</span></div><div class='features'><span class=\"tr@en xft\" ><span class=\"f\">tr@en=</span>[Palace of Aššur-ban-apli, king of the univ]erse?, ki[ng? of the land of Aššur],</span></div><div class=\"children hor wrap \"><div class=\"contnr c2    \" ><div class=\"lbl c2  \" ><span class=\"nd\">cluster:52925</span></div><div class=\"children hor wrap \"><div class=\"contnr c1    \" ><div class=\"lbl c1  \" ><span class=\"nd\">word:63142</span> <span class=\"txtt\"><span class=\"missing\"><span class=\"uncertain\"><span class=\"cls\">x</span></span></span> </span></div><div class=\"children hor  \"><div class=\"contnr c0 trm   \" ><div class=\"lbl c0 trm \" ><span class=\"nd\">994</span> <span class=\"txtt\"><span class=\"missing\"><span class=\"uncertain\"><span class=\"cls\">x</span></span></span> </span></div></div></div></div><div class=\"contnr c1    \" ><div class=\"lbl c1  \" ><span class=\"nd\">word:63143</span> <span class=\"txtt\"><span class=\"missing\"><span class=\"uncertain\"><span class=\"cls\">x</span></span></span> </span></div><div class=\"children hor  \"><div class=\"contnr c0 trm   \" ><div class=\"lbl c0 trm \" ><span class=\"nd\">995</span> <span class=\"txtt\"><span class=\"missing\"><span class=\"uncertain\"><span class=\"cls\">x</span></span></span> </span></div></div></div></div><div class=\"contnr c1    \" ><div class=\"lbl c1  \" ><span class=\"nd\">word:63144</span> <span class=\"txtt\"><span class=\"missing\"><span class=\"uncertain\"><span class=\"cls\">x</span></span></span> </span></div><div class=\"children hor  \"><div class=\"contnr c0 trm   \" ><div class=\"lbl c0 trm \" ><span class=\"nd\">996</span> <span class=\"txtt\"><span class=\"missing\"><span class=\"uncertain\"><span class=\"cls\">x</span></span></span> </span></div></div></div></div><div class=\"contnr c1    \" ><div class=\"lbl c1  \" ><span class=\"nd\">word:63145</span> <span class=\"txtt\"><span class=\"missing\"><span class=\"uncertain\"><span class=\"cls\">x</span></span></span> </span></div><div class=\"children hor  \"><div class=\"contnr c0 trm   \" ><div class=\"lbl c0 trm \" ><span class=\"nd\">997</span> <span class=\"txtt\"><span class=\"missing\"><span class=\"uncertain\"><span class=\"cls\">x</span></span></span> </span></div></div></div></div><div class=\"contnr c1    \" ><div class=\"lbl c1  \" ><span class=\"nd\">word:63146</span> <span class=\"txtt\"><span class=\"missing\"><span class=\"uncertain\"><span class=\"cls\">x</span></span></span> </span></div><div class=\"children hor  \"><div class=\"contnr c0 trm   \" ><div class=\"lbl c0 trm \" ><span class=\"nd\">998</span> <span class=\"txtt\"><span class=\"missing\"><span class=\"uncertain\"><span class=\"cls\">x</span></span></span> </span></div></div></div></div><div class=\"contnr c1    \" ><div class=\"lbl c1  \" ><span class=\"nd\">word:63147</span> <span class=\"txtt\"><span class=\"missing\"><span class=\"uncertain\"><span class=\"cls\">x</span></span></span> </span></div><div class=\"children hor  \"><div class=\"contnr c0 trm   \" ><div class=\"lbl c0 trm \" ><span class=\"nd\">999</span> <span class=\"txtt\"><span class=\"missing\"><span class=\"uncertain\"><span class=\"cls\">x</span></span></span> </span></div></div></div></div><div class=\"contnr c1    \" ><div class=\"lbl c1  \" ><span class=\"nd\">word:63148</span> <span class=\"txtt\"><span class=\"missing\"><span class=\"uncertain\"><span class=\"cls\">x</span></span></span> </span></div><div class=\"children hor  \"><div class=\"contnr c0 trm   \" ><div class=\"lbl c0 trm \" ><span class=\"nd\">1000</span> <span class=\"txtt\"><span class=\"missing\"><span class=\"uncertain\"><span class=\"cls\">x</span></span></span> </span></div></div></div></div><div class=\"contnr c1    \" ><div class=\"lbl c1  \" ><span class=\"nd\">word:63149</span> <span class=\"txtt\"><span class=\"missing\"><span class=\"uncertain\"><span class=\"cls\">x</span></span></span> </span></div><div class=\"children hor  \"><div class=\"contnr c0 trm   \" ><div class=\"lbl c0 trm \" ><span class=\"nd\">1001</span> <span class=\"txtt\"><span class=\"missing\"><span class=\"uncertain\"><span class=\"cls\">x</span></span></span> </span></div></div></div></div><div class=\"contnr c1    \" ><div class=\"lbl c1  \" ><span class=\"nd\">word:63150</span> <span class=\"txtt\"><span class=\"question\"><span class=\"g\">ŠU₂</span></span> </span></div><div class=\"children hor  \"><div class=\"contnr c0 trm   \" ><div class=\"lbl c0 trm \" ><span class=\"nd\">1002</span> <span class=\"txtt\"><span class=\"question\"><span class=\"g\">ŠU₂</span></span> </span></div></div></div></div></div></div><div class=\"contnr c2    \" ><div class=\"lbl c2  \" ><span class=\"nd\">cluster:52926</span></div><div class=\"children hor wrap \"><div class=\"contnr c1    \" ><div class=\"lbl c1  \" ><span class=\"nd\">word:63151</span> <span class=\"txtt\"><span class=\"question missing\"><span class=\"g\">LUGAL</span></span> </span></div><div class=\"children hor  \"><div class=\"contnr c0 trm   hl\" ><div class=\"lbl c0 trm hl\" ><span class=\"nd\">1003</span> <span class=\"txtt\"><span class=\"question missing\"><span class=\"g\">LUGAL</span></span> </span></div></div></div></div><div class=\"contnr c1    \" ><div class=\"lbl c1  \" ><span class=\"nd\">word:63152</span> <span class=\"txtt\"><span class=\"missing\"><span class=\"uncertain\"><span class=\"cls\">x</span></span></span> </span></div><div class=\"children hor  \"><div class=\"contnr c0 trm   \" ><div class=\"lbl c0 trm \" ><span class=\"nd\">1004</span> <span class=\"txtt\"><span class=\"missing\"><span class=\"uncertain\"><span class=\"cls\">x</span></span></span> </span></div></div></div></div><div class=\"contnr c1    \" ><div class=\"lbl c1  \" ><span class=\"nd\">word:63153</span> <span class=\"txtt\"><span class=\"missing\"><span class=\"uncertain\"><span class=\"cls\">x</span></span></span> </span></div><div class=\"children hor  \"><div class=\"contnr c0 trm   \" ><div class=\"lbl c0 trm \" ><span class=\"nd\">1005</span> <span class=\"txtt\"><span class=\"missing\"><span class=\"uncertain\"><span class=\"cls\">x</span></span></span> </span></div></div></div></div><div class=\"contnr c1    \" ><div class=\"lbl c1  \" ><span class=\"nd\">word:63154</span> <span class=\"txtt\"><span class=\"missing\"><span class=\"uncertain\"><span class=\"cls\">x</span></span></span> </span></div><div class=\"children hor  \"><div class=\"contnr c0 trm   \" ><div class=\"lbl c0 trm \" ><span class=\"nd\">1006</span> <span class=\"txtt\"><span class=\"missing\"><span class=\"uncertain\"><span class=\"cls\">x</span></span></span> </span></div></div></div></div><div class=\"contnr c1    \" ><div class=\"lbl c1  \" ><span class=\"nd\">word:63155</span> <span class=\"txtt\"><span class=\"missing\"><span class=\"uncertain\"><span class=\"cls\">x</span></span></span>\n",
       "</span></div><div class=\"children hor  \"><div class=\"contnr c0 trm   \" ><div class=\"lbl c0 trm \" ><span class=\"nd\">1007</span> <span class=\"txtt\"><span class=\"missing\"><span class=\"uncertain\"><span class=\"cls\">x</span></span></span>\n",
       "</span></div></div></div></div></div></div></div></div></div>"
      ],
      "text/plain": [
       "<IPython.core.display.HTML object>"
      ]
     },
     "metadata": {},
     "output_type": "display_data"
    },
    {
     "data": {
      "text/markdown": [
       "---\n",
       "# flag: remarkable\n",
       "\n",
       "Location: P403291 obverse:4'"
      ],
      "text/plain": [
       "<IPython.core.display.Markdown object>"
      ]
     },
     "metadata": {},
     "output_type": "display_data"
    },
    {
     "name": "stdout",
     "output_type": "stream",
     "text": [
      "   4'. [...] {giš!}EREN T[AG-at x x x x x x]\n",
      "    4' [...] {giš!}EREN [TAG-at x x x x x x]\n",
      "\n"
     ]
    },
    {
     "data": {
      "text/html": [
       "<div class=\"\"><span class=\"tfsechead \"><span class=\"ltr\"><a target=\"_blank\" href=\"https://cdli.ucla.edu/search/search_results.php?SearchMode=Text&amp;ObjectID=P403291\" title=\"Show this document on CDLI\" sec=\"P403291 obverse:4'\">P403291 obverse:4'</a></span></span>  <span class=\"txtt\"><span class=\"missing\"><span class=\"missing\">...</span></span> </span><span class=\"plain   hl\" ><span class=\"txtt\"><span class=\"det\"><span class=\"remarkable\"><span class=\"r\">giš</span></span></span></span></span><span class=\"txtt\"><span class=\"g\">EREN</span> </span><span class=\"txtt\"><span class=\"missing\"><span class=\"g\">TAG</span></span>-</span><span class=\"txtt\"><span class=\"missing\"><span class=\"r\">at</span></span> </span><span class=\"txtt\"><span class=\"missing\"><span class=\"uncertain\"><span class=\"cls\">x</span></span></span> </span><span class=\"txtt\"><span class=\"missing\"><span class=\"uncertain\"><span class=\"cls\">x</span></span></span> </span><span class=\"txtt\"><span class=\"missing\"><span class=\"uncertain\"><span class=\"cls\">x</span></span></span> </span><span class=\"txtt\"><span class=\"missing\"><span class=\"uncertain\"><span class=\"cls\">x</span></span></span> </span><span class=\"txtt\"><span class=\"missing\"><span class=\"uncertain\"><span class=\"cls\">x</span></span></span> </span><span class=\"txtt\"><span class=\"missing\"><span class=\"uncertain\"><span class=\"cls\">x</span></span></span>\n",
       "</span></div>"
      ],
      "text/plain": [
       "<IPython.core.display.HTML object>"
      ]
     },
     "metadata": {},
     "output_type": "display_data"
    },
    {
     "data": {
      "text/html": [
       "<div class=\"tfsechead \"><span class=\"ltr\"><a target=\"_blank\" href=\"https://cdli.ucla.edu/search/search_results.php?SearchMode=Text&amp;ObjectID=P403291\" title=\"Show this document on CDLI\" sec=\"P403291 obverse:4'\">P403291 obverse:4'</a></span></div><div class=\" children\"><div class=\"contnr c3    \" ><div class=\"lbl c3  \" ><span class=\"nd\">line:59434</span></div><div class=\"children hor wrap \"><div class=\"contnr c2    \" ><div class=\"lbl c2  \" ><span class=\"nd\">cluster:53037</span></div><div class=\"children hor wrap \"><div class=\"contnr c1    \" ><div class=\"lbl c1  \" ><span class=\"nd\">word:63605</span> <span class=\"txtt\"><span class=\"missing\"><span class=\"missing\">...</span></span> </span></div><div class=\"children hor  \"><div class=\"contnr c0 trm   \" ><div class=\"lbl c0 trm \" ><span class=\"nd\">1644</span> <span class=\"txtt\"><span class=\"missing\"><span class=\"missing\">...</span></span> </span></div></div></div></div></div></div><div class=\"contnr c2    \" ><div class=\"lbl c2  \" ><span class=\"nd\">cluster:53038</span></div><div class=\"children hor wrap \"><div class=\"contnr c1   rno \" ><div class=\"lbl c1  \" ><span class=\"nd\">word:63606</span> <span class=\"txtt\"><span class=\"det\"><span class=\"remarkable\"><span class=\"r\">giš</span></span></span><span class=\"g\">EREN</span> </span></div><div class=\"children hor  \"><div class=\"contnr c0 trm   hl\" ><div class=\"lbl c0 trm hl\" ><span class=\"nd\">1645</span> <span class=\"txtt\"><span class=\"det\"><span class=\"remarkable\"><span class=\"r\">giš</span></span></span></span></div></div></div></div></div></div><div class=\"contnr c1   lno \" ><div class=\"lbl c1  \" ><span class=\"nd\">word:63606</span> <span class=\"txtt\"><span class=\"det\"><span class=\"remarkable\"><span class=\"r\">giš</span></span></span><span class=\"g\">EREN</span> </span></div><div class=\"children hor  \"><div class=\"contnr c0 trm   \" ><div class=\"lbl c0 trm \" ><span class=\"nd\">1646</span> <span class=\"txtt\"><span class=\"g\">EREN</span> </span></div></div></div></div><div class=\"contnr c2    \" ><div class=\"lbl c2  \" ><span class=\"nd\">cluster:53039</span></div><div class=\"children hor wrap \"><div class=\"contnr c1    \" ><div class=\"lbl c1  \" ><span class=\"nd\">word:63607</span> <span class=\"txtt\"><span class=\"missing\"><span class=\"g\">TAG</span></span>-<span class=\"missing\"><span class=\"r\">at</span></span> </span></div><div class=\"children hor  \"><div class=\"contnr c0 trm   \" ><div class=\"lbl c0 trm \" ><span class=\"nd\">1647</span> <span class=\"txtt\"><span class=\"missing\"><span class=\"g\">TAG</span></span>-</span></div></div><div class=\"contnr c0 trm   \" ><div class=\"lbl c0 trm \" ><span class=\"nd\">1648</span> <span class=\"txtt\"><span class=\"missing\"><span class=\"r\">at</span></span> </span></div></div></div></div><div class=\"contnr c1    \" ><div class=\"lbl c1  \" ><span class=\"nd\">word:63608</span> <span class=\"txtt\"><span class=\"missing\"><span class=\"uncertain\"><span class=\"cls\">x</span></span></span> </span></div><div class=\"children hor  \"><div class=\"contnr c0 trm   \" ><div class=\"lbl c0 trm \" ><span class=\"nd\">1649</span> <span class=\"txtt\"><span class=\"missing\"><span class=\"uncertain\"><span class=\"cls\">x</span></span></span> </span></div></div></div></div><div class=\"contnr c1    \" ><div class=\"lbl c1  \" ><span class=\"nd\">word:63609</span> <span class=\"txtt\"><span class=\"missing\"><span class=\"uncertain\"><span class=\"cls\">x</span></span></span> </span></div><div class=\"children hor  \"><div class=\"contnr c0 trm   \" ><div class=\"lbl c0 trm \" ><span class=\"nd\">1650</span> <span class=\"txtt\"><span class=\"missing\"><span class=\"uncertain\"><span class=\"cls\">x</span></span></span> </span></div></div></div></div><div class=\"contnr c1    \" ><div class=\"lbl c1  \" ><span class=\"nd\">word:63610</span> <span class=\"txtt\"><span class=\"missing\"><span class=\"uncertain\"><span class=\"cls\">x</span></span></span> </span></div><div class=\"children hor  \"><div class=\"contnr c0 trm   \" ><div class=\"lbl c0 trm \" ><span class=\"nd\">1651</span> <span class=\"txtt\"><span class=\"missing\"><span class=\"uncertain\"><span class=\"cls\">x</span></span></span> </span></div></div></div></div><div class=\"contnr c1    \" ><div class=\"lbl c1  \" ><span class=\"nd\">word:63611</span> <span class=\"txtt\"><span class=\"missing\"><span class=\"uncertain\"><span class=\"cls\">x</span></span></span> </span></div><div class=\"children hor  \"><div class=\"contnr c0 trm   \" ><div class=\"lbl c0 trm \" ><span class=\"nd\">1652</span> <span class=\"txtt\"><span class=\"missing\"><span class=\"uncertain\"><span class=\"cls\">x</span></span></span> </span></div></div></div></div><div class=\"contnr c1    \" ><div class=\"lbl c1  \" ><span class=\"nd\">word:63612</span> <span class=\"txtt\"><span class=\"missing\"><span class=\"uncertain\"><span class=\"cls\">x</span></span></span> </span></div><div class=\"children hor  \"><div class=\"contnr c0 trm   \" ><div class=\"lbl c0 trm \" ><span class=\"nd\">1653</span> <span class=\"txtt\"><span class=\"missing\"><span class=\"uncertain\"><span class=\"cls\">x</span></span></span> </span></div></div></div></div><div class=\"contnr c1    \" ><div class=\"lbl c1  \" ><span class=\"nd\">word:63613</span> <span class=\"txtt\"><span class=\"missing\"><span class=\"uncertain\"><span class=\"cls\">x</span></span></span>\n",
       "</span></div><div class=\"children hor  \"><div class=\"contnr c0 trm   \" ><div class=\"lbl c0 trm \" ><span class=\"nd\">1654</span> <span class=\"txtt\"><span class=\"missing\"><span class=\"uncertain\"><span class=\"cls\">x</span></span></span>\n",
       "</span></div></div></div></div></div></div></div></div></div>"
      ],
      "text/plain": [
       "<IPython.core.display.HTML object>"
      ]
     },
     "metadata": {},
     "output_type": "display_data"
    },
    {
     "data": {
      "text/markdown": [
       "---\n",
       "# flag: collated\n",
       "\n",
       "Location: P394520 obverse:2:37'"
      ],
      "text/plain": [
       "<IPython.core.display.Markdown object>"
      ]
     },
     "metadata": {},
     "output_type": "display_data"
    },
    {
     "name": "stdout",
     "output_type": "stream",
     "text": [
      "   37'. [IGI.MIN-šu₂ DUL-ma u₂-kal IGI.MI]N-šu₂ ta-kar-ma UD.9.KAM* an-na-a DU₃.MEŠ\n",
      " 2:37' [IGI.MIN-šu₂ DUL-ma u₂-kal IGI.MIN]-šu₂ ta-kar-ma UD.9.KAM* an-na-a DU₃.MEŠ\n",
      "\n"
     ]
    },
    {
     "data": {
      "text/html": [
       "<div class=\"\"><span class=\"tfsechead \"><span class=\"ltr\"><a target=\"_blank\" href=\"https://cdli.ucla.edu/search/search_results.php?SearchMode=Text&amp;ObjectID=P394520\" title=\"Show this document on CDLI\" sec=\"P394520 obverse:2:37'\">P394520 obverse:2:37'</a></span></span>  <span class=\"txtt\"><span class=\"missing\"><span class=\"g\">IGI</span></span>.</span><span class=\"txtt\"><span class=\"missing\"><span class=\"g\">MIN</span></span>-</span><span class=\"txtt\"><span class=\"missing\"><span class=\"r\">šu</span></span> </span><span class=\"txtt\"><span class=\"missing\"><span class=\"g\">DUL</span></span>-</span><span class=\"txtt\"><span class=\"missing\"><span class=\"r\">ma</span></span> </span><span class=\"txtt\"><span class=\"missing\"><span class=\"r\">u</span></span>-</span><span class=\"txtt\"><span class=\"missing\"><span class=\"r\">kal</span></span> </span><span class=\"txtt\"><span class=\"missing\"><span class=\"g\">IGI</span></span>.</span><span class=\"txtt\"><span class=\"g\">MIN</span>-</span><span class=\"txtt\"><span class=\"r\">šu</span> </span><span class=\"txtt\"><span class=\"r\">ta</span>-</span><span class=\"txtt\"><span class=\"r\">kar</span>-</span><span class=\"txtt\"><span class=\"r\">ma</span> </span><span class=\"txtt\"><span class=\"g\">UD</span>.</span><span class=\"txtt\">9.</span><span class=\"plain   hl\" ><span class=\"txtt\"><span class=\"collated\"><span class=\"g\">KAM</span></span> </span></span><span class=\"txtt\"><span class=\"r\">an</span>-</span><span class=\"txtt\"><span class=\"r\">na</span>-</span><span class=\"txtt\"><span class=\"r\">a</span> </span><span class=\"txtt\"><span class=\"g\">DU₃</span>.</span><span class=\"txtt\"><span class=\"g\">MEŠ</span>\n",
       "</span></div>"
      ],
      "text/plain": [
       "<IPython.core.display.HTML object>"
      ]
     },
     "metadata": {},
     "output_type": "display_data"
    },
    {
     "data": {
      "text/html": [
       "<div class=\"tfsechead \"><span class=\"ltr\"><a target=\"_blank\" href=\"https://cdli.ucla.edu/search/search_results.php?SearchMode=Text&amp;ObjectID=P394520\" title=\"Show this document on CDLI\" sec=\"P394520 obverse:2:37'\">P394520 obverse:2:37'</a></span></div><div class=\" children\"><div class=\"contnr c3    \" ><div class=\"lbl c3  \" ><span class=\"nd\">line:61018</span></div><div class='features'><span class=\"tr@en xft\" ><span class=\"f\">tr@en=</span>tr.en.(2 31-7): If a man’s eyes are sick and then full of blood. They (= the eyes) are suffused with baluhhu-granules (and) blood, blood (and) tear(s) come out from the middle of his eyes. A film pushes away the pupil of his eyes. The blurred vision has turned into a film, with seeing being burdensome to him. You squeeze bīnu- tamarisk while still fresh (and) soak (it) in strong vinegar and let it stay under a star (= stay overnight). In the morning, you press it out into a funnel (lit. huliam-vessel). You pound separately alluharu-mineral, white plant, emesallu-saline solution, fat, tuškû-mineral, black cumin (and) exudation of copper. You take in equal amounts, stir (them) together. You pour (them) into the funnel (lit. huliam- vessel), which you have (earlier) rinsed. You knead (it) in ghee and šumēnu- mineral, then you open the upper part of his eyes with a finger (and) put (the medication) into his eyes. He keeps his eyes closed (while) you rub his eyes (i.e. the eyelids and surroundings) and continuously do this for nine days.</span></div><div class=\"children hor wrap \"><div class=\"contnr c2    \" ><div class=\"lbl c2  \" ><span class=\"nd\">cluster:56250</span></div><div class=\"children hor wrap \"><div class=\"contnr c1    \" ><div class=\"lbl c1  \" ><span class=\"nd\">word:78379</span> <span class=\"txtt\"><span class=\"missing\"><span class=\"g\">IGI</span></span>.<span class=\"missing\"><span class=\"g\">MIN</span></span>-<span class=\"missing\"><span class=\"r\">šu</span></span> </span></div><div class=\"children hor  \"><div class=\"contnr c0 trm   \" ><div class=\"lbl c0 trm \" ><span class=\"nd\">27429</span> <span class=\"txtt\"><span class=\"missing\"><span class=\"g\">IGI</span></span>.</span></div></div><div class=\"contnr c0 trm   \" ><div class=\"lbl c0 trm \" ><span class=\"nd\">27430</span> <span class=\"txtt\"><span class=\"missing\"><span class=\"g\">MIN</span></span>-</span></div></div><div class=\"contnr c0 trm   \" ><div class=\"lbl c0 trm \" ><span class=\"nd\">27431</span> <span class=\"txtt\"><span class=\"missing\"><span class=\"r\">šu</span></span> </span></div></div></div></div><div class=\"contnr c1    \" ><div class=\"lbl c1  \" ><span class=\"nd\">word:78380</span> <span class=\"txtt\"><span class=\"missing\"><span class=\"g\">DUL</span></span>-<span class=\"missing\"><span class=\"r\">ma</span></span> </span></div><div class=\"children hor  \"><div class=\"contnr c0 trm   \" ><div class=\"lbl c0 trm \" ><span class=\"nd\">27432</span> <span class=\"txtt\"><span class=\"missing\"><span class=\"g\">DUL</span></span>-</span></div></div><div class=\"contnr c0 trm   \" ><div class=\"lbl c0 trm \" ><span class=\"nd\">27433</span> <span class=\"txtt\"><span class=\"missing\"><span class=\"r\">ma</span></span> </span></div></div></div></div><div class=\"contnr c1    \" ><div class=\"lbl c1  \" ><span class=\"nd\">word:78381</span> <span class=\"txtt\"><span class=\"missing\"><span class=\"r\">u</span></span>-<span class=\"missing\"><span class=\"r\">kal</span></span> </span></div><div class=\"children hor  \"><div class=\"contnr c0 trm   \" ><div class=\"lbl c0 trm \" ><span class=\"nd\">27434</span> <span class=\"txtt\"><span class=\"missing\"><span class=\"r\">u</span></span>-</span></div></div><div class=\"contnr c0 trm   \" ><div class=\"lbl c0 trm \" ><span class=\"nd\">27435</span> <span class=\"txtt\"><span class=\"missing\"><span class=\"r\">kal</span></span> </span></div></div></div></div><div class=\"contnr c1   rno \" ><div class=\"lbl c1  \" ><span class=\"nd\">word:78382</span> <span class=\"txtt\"><span class=\"missing\"><span class=\"g\">IGI</span></span>.<span class=\"g\">MIN</span>-<span class=\"r\">šu</span> </span></div><div class=\"children hor  \"><div class=\"contnr c0 trm   \" ><div class=\"lbl c0 trm \" ><span class=\"nd\">27436</span> <span class=\"txtt\"><span class=\"missing\"><span class=\"g\">IGI</span></span>.</span></div></div><div class=\"contnr c0 trm   \" ><div class=\"lbl c0 trm \" ><span class=\"nd\">27437</span> <span class=\"txtt\"><span class=\"g\">MIN</span>-</span></div></div></div></div></div></div><div class=\"contnr c1   lno \" ><div class=\"lbl c1  \" ><span class=\"nd\">word:78382</span> <span class=\"txtt\"><span class=\"missing\"><span class=\"g\">IGI</span></span>.<span class=\"g\">MIN</span>-<span class=\"r\">šu</span> </span></div><div class=\"children hor  \"><div class=\"contnr c0 trm   \" ><div class=\"lbl c0 trm \" ><span class=\"nd\">27438</span> <span class=\"txtt\"><span class=\"r\">šu</span> </span></div></div></div></div><div class=\"contnr c1    \" ><div class=\"lbl c1  \" ><span class=\"nd\">word:78383</span> <span class=\"txtt\"><span class=\"r\">ta</span>-<span class=\"r\">kar</span>-<span class=\"r\">ma</span> </span></div><div class=\"children hor  \"><div class=\"contnr c0 trm   \" ><div class=\"lbl c0 trm \" ><span class=\"nd\">27439</span> <span class=\"txtt\"><span class=\"r\">ta</span>-</span></div></div><div class=\"contnr c0 trm   \" ><div class=\"lbl c0 trm \" ><span class=\"nd\">27440</span> <span class=\"txtt\"><span class=\"r\">kar</span>-</span></div></div><div class=\"contnr c0 trm   \" ><div class=\"lbl c0 trm \" ><span class=\"nd\">27441</span> <span class=\"txtt\"><span class=\"r\">ma</span> </span></div></div></div></div><div class=\"contnr c1    \" ><div class=\"lbl c1  \" ><span class=\"nd\">word:78384</span> <span class=\"txtt\"><span class=\"g\">UD</span>.9.<span class=\"collated\"><span class=\"g\">KAM</span></span> </span></div><div class=\"children hor  \"><div class=\"contnr c0 trm   \" ><div class=\"lbl c0 trm \" ><span class=\"nd\">27442</span> <span class=\"txtt\"><span class=\"g\">UD</span>.</span></div></div><div class=\"contnr c0 trm   \" ><div class=\"lbl c0 trm \" ><span class=\"nd\">27443</span> <span class=\"txtt\">9.</span></div></div><div class=\"contnr c0 trm   hl\" ><div class=\"lbl c0 trm hl\" ><span class=\"nd\">27444</span> <span class=\"txtt\"><span class=\"collated\"><span class=\"g\">KAM</span></span> </span></div></div></div></div><div class=\"contnr c1    \" ><div class=\"lbl c1  \" ><span class=\"nd\">word:78385</span> <span class=\"txtt\"><span class=\"r\">an</span>-<span class=\"r\">na</span>-<span class=\"r\">a</span> </span></div><div class=\"children hor  \"><div class=\"contnr c0 trm   \" ><div class=\"lbl c0 trm \" ><span class=\"nd\">27445</span> <span class=\"txtt\"><span class=\"r\">an</span>-</span></div></div><div class=\"contnr c0 trm   \" ><div class=\"lbl c0 trm \" ><span class=\"nd\">27446</span> <span class=\"txtt\"><span class=\"r\">na</span>-</span></div></div><div class=\"contnr c0 trm   \" ><div class=\"lbl c0 trm \" ><span class=\"nd\">27447</span> <span class=\"txtt\"><span class=\"r\">a</span> </span></div></div></div></div><div class=\"contnr c1    \" ><div class=\"lbl c1  \" ><span class=\"nd\">word:78386</span> <span class=\"txtt\"><span class=\"g\">DU₃</span>.<span class=\"g\">MEŠ</span>\n",
       "</span></div><div class=\"children hor  \"><div class=\"contnr c0 trm   \" ><div class=\"lbl c0 trm \" ><span class=\"nd\">27448</span> <span class=\"txtt\"><span class=\"g\">DU₃</span>.</span></div></div><div class=\"contnr c0 trm   \" ><div class=\"lbl c0 trm \" ><span class=\"nd\">27449</span> <span class=\"txtt\"><span class=\"g\">MEŠ</span>\n",
       "</span></div></div></div></div></div></div></div>"
      ],
      "text/plain": [
       "<IPython.core.display.HTML object>"
      ]
     },
     "metadata": {},
     "output_type": "display_data"
    }
   ],
   "source": [
    "for (line, (desc, positions)) in lines:\n",
    "    ln = T.nodeFromSection(line)\n",
    "    A.dm(\"---\\n# {}\\n\\nLocation: {} {}:{}\".format(desc, *line))\n",
    "    s = L.d(ln, otype=\"sign\")[0]\n",
    "    \n",
    "    highlights = {s + p - 1 for p in positions}\n",
    "    print(\" \" * 2, F.atf.v(ln))\n",
    "    print(f\"{F.lnno.v(ln):>6} {T.text(ln)}\")\n",
    "    A.plain(ln, fmt=\"layout-orig-full\", highlights=highlights)\n",
    "    A.pretty(\n",
    "        ln,\n",
    "        extraFeatures=\"tr@en\",\n",
    "        fmt=\"layout-orig-full\",\n",
    "        baseTypes=\"sign\",\n",
    "        highlights=highlights,\n",
    "        withNodes=True,\n",
    "    )"
   ]
  },
  {
   "cell_type": "markdown",
   "metadata": {},
   "source": [
    "---\n",
    "\n",
    "All chapters:\n",
    "\n",
    "* **[start](start.ipynb)** introduction to computing with your corpus\n",
    "* **display** become an expert in creating pretty displays of your text structures\n",
    "* **[search](search.ipynb)** turbo charge your hand-coding with search templates\n",
    "* **[exportExcel](exportExcel.ipynb)** make tailor-made spreadsheets out of your results\n",
    "* **[similarLines](similarLines.ipynb)** spot the similarities between lines\n",
    "\n",
    "---\n",
    "\n",
    "See the [cookbook](cookbook) for recipes for small, concrete tasks.\n",
    "\n",
    "CC-BY Dirk Roorda"
   ]
  }
 ],
 "metadata": {
  "jupytext": {
   "encoding": "# -*- coding: utf-8 -*-"
  },
  "kernelspec": {
   "display_name": "Python 3 (ipykernel)",
   "language": "python",
   "name": "python3"
  },
  "language_info": {
   "codemirror_mode": {
    "name": "ipython",
    "version": 3
   },
   "file_extension": ".py",
   "mimetype": "text/x-python",
   "name": "python",
   "nbconvert_exporter": "python",
   "pygments_lexer": "ipython3",
   "version": "3.10.2"
  },
  "toc": {
   "base_numbering": 1,
   "nav_menu": {},
   "number_sections": true,
   "sideBar": true,
   "skip_h1_title": false,
   "title_cell": "Table of Contents",
   "title_sidebar": "Contents",
   "toc_cell": false,
   "toc_position": {},
   "toc_section_display": "block",
   "toc_window_display": false
  },
  "widgets": {
   "application/vnd.jupyter.widget-state+json": {
    "state": {},
    "version_major": 2,
    "version_minor": 0
   }
  }
 },
 "nbformat": 4,
 "nbformat_minor": 4
}
