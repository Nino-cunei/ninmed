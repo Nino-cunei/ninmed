{
 "cells": [
  {
   "cell_type": "markdown",
   "metadata": {},
   "source": [
    "<img align=\"right\" src=\"images/tf.png\" width=\"128\"/>\n",
    "<img align=\"right\" src=\"images/ninologo.png\" width=\"128\"/>\n",
    "<img align=\"right\" src=\"images/dans.png\" width=\"128\"/>\n",
    "\n",
    "---\n",
    "\n",
    "To get started: consult [start](start.ipynb)\n",
    "\n",
    "---\n",
    "\n",
    "# Display\n",
    "\n",
    "We show the ins and outs of displaying cuneiform ATF transcriptions."
   ]
  },
  {
   "cell_type": "code",
   "execution_count": 1,
   "metadata": {},
   "outputs": [],
   "source": [
    "%load_ext autoreload\n",
    "%autoreload 2"
   ]
  },
  {
   "cell_type": "code",
   "execution_count": 2,
   "metadata": {
    "ExecuteTime": {
     "end_time": "2018-05-18T09:17:16.202764Z",
     "start_time": "2018-05-18T09:17:16.197546Z"
    }
   },
   "outputs": [],
   "source": [
    "from tf.app import use"
   ]
  },
  {
   "cell_type": "code",
   "execution_count": 73,
   "metadata": {},
   "outputs": [
    {
     "data": {
      "text/html": [
       "<b title=\"local github\">TF-app:</b> <span title=\"repo clone offline under ~/github\">~/github/Nino-cunei/ninmed/app</span>"
      ],
      "text/plain": [
       "<IPython.core.display.HTML object>"
      ]
     },
     "metadata": {},
     "output_type": "display_data"
    },
    {
     "data": {
      "text/html": [
       "<b title=\"local github\">data:</b> <span title=\"repo clone offline under ~/github\">~/github/Nino-cunei/ninmed/tf/0.1</span>"
      ],
      "text/plain": [
       "<IPython.core.display.HTML object>"
      ]
     },
     "metadata": {},
     "output_type": "display_data"
    },
    {
     "name": "stdout",
     "output_type": "stream",
     "text": [
      "This is Text-Fabric 9.2.5\n",
      "Api reference : https://annotation.github.io/text-fabric/tf/cheatsheet.html\n",
      "\n",
      "45 features found and 0 ignored\n"
     ]
    },
    {
     "data": {
      "text/html": [
       "<b>Text-Fabric:</b> <a target=\"_blank\" href=\"https://annotation.github.io/text-fabric/tf/cheatsheet.html\" title=\"text-fabric-api\">Text-Fabric API 9.2.5</a>, <a target=\"_blank\" href=\"https://github.com/Nino-cunei/ninmed/blob/master/app\" title=\"Nino-cunei/ninmed TF-app\">Nino-cunei/ninmed/app  v3</a>, <a target=\"_blank\" href=\"https://annotation.github.io/text-fabric/tf/about/searchusage.html\" title=\"Search Templates Introduction and Reference\">Search Reference</a><br><b>Data:</b> <a target=\"_blank\" href=\"https://github.com/Nino-cunei/ninmed/blob/master/docs/about.md\" title=\"provenance of Nineveh Medical Encyclopedia 800 BCE: Cuneiform tablets\">NINMED</a>, <a target=\"_blank\" href=\"https://nbviewer.jupyter.org/github/Nino-cunei/tfFromAtf/blob/master/programs/mapReadings.ipynb\" title=\"mapping from readings to UNICODE\">Character table</a>, <a target=\"_blank\" href=\"https://github.com/Nino-cunei/ninmed/blob/master/docs/transcription.md\" title=\"NINMED feature documentation\">Feature docs</a><br><b>Features:</b><br>\n",
       "<details><summary><b>Nineveh Medical Encyclopedia 800 BCE: Cuneiform tablets</b></summary>\n",
       "    <div class=\"fcorpus\">\n",
       "\n",
       "<div class=\"frow\">\n",
       "    <div class=\"fnamecat \">\n",
       "<a target=\"_blank\" href=\"https://github.com/Nino-cunei/ninmed/blob/master/docs/transcription.md\" title=\"~/github/Nino-cunei/ninmed/tf/0.1/after.tf\">after</a>\n",
       "</div>\n",
       "<div class=\"fmono\">str</div>\n",
       "<details>\n",
       "    <summary>what comes after a sign or word (- or space)</summary>\n",
       "    <div class=\"fmeta\">\n",
       "\n",
       "<div class=\"fmetarow\">\n",
       "    <div class=\"fmetakey\">converters:</div>\n",
       "    <div>Cale Johnson, Dirk Roorda</div>\n",
       "</div>\n",
       "\n",
       "<div class=\"fmetarow\">\n",
       "    <div class=\"fmetakey\">dateWritten:</div>\n",
       "    <div>2022-02-06T11:48:50Z</div>\n",
       "</div>\n",
       "\n",
       "<div class=\"fmetarow\">\n",
       "    <div class=\"fmetakey\">editor:</div>\n",
       "    <div>Cale Johnson et al.</div>\n",
       "</div>\n",
       "\n",
       "<div class=\"fmetarow\">\n",
       "    <div class=\"fmetakey\">name:</div>\n",
       "    <div>NinMed Medical Texts from Nineveh</div>\n",
       "</div>\n",
       "\n",
       "<div class=\"fmetarow\">\n",
       "    <div class=\"fmetakey\">project:</div>\n",
       "    <div>BabMed</div>\n",
       "</div>\n",
       "\n",
       "<div class=\"fmetarow\">\n",
       "    <div class=\"fmetakey\">writtenBy:</div>\n",
       "    <div>Text-Fabric</div>\n",
       "</div>\n",
       "\n",
       "        </div>\n",
       "    </details>\n",
       "</div>\n",
       "\n",
       "<div class=\"frow\">\n",
       "    <div class=\"fnamecat \">\n",
       "<a target=\"_blank\" href=\"https://github.com/Nino-cunei/ninmed/blob/master/docs/transcription.md\" title=\"~/github/Nino-cunei/ninmed/tf/0.1/atf.tf\">atf</a>\n",
       "</div>\n",
       "<div class=\"fmono\">str</div>\n",
       "<details>\n",
       "    <summary>full atf of a sign</summary>\n",
       "    <div class=\"fmeta\">\n",
       "\n",
       "<div class=\"fmetarow\">\n",
       "    <div class=\"fmetakey\">converters:</div>\n",
       "    <div>Cale Johnson, Dirk Roorda</div>\n",
       "</div>\n",
       "\n",
       "<div class=\"fmetarow\">\n",
       "    <div class=\"fmetakey\">dateWritten:</div>\n",
       "    <div>2022-02-06T11:48:50Z</div>\n",
       "</div>\n",
       "\n",
       "<div class=\"fmetarow\">\n",
       "    <div class=\"fmetakey\">editor:</div>\n",
       "    <div>Cale Johnson et al.</div>\n",
       "</div>\n",
       "\n",
       "<div class=\"fmetarow\">\n",
       "    <div class=\"fmetakey\">name:</div>\n",
       "    <div>NinMed Medical Texts from Nineveh</div>\n",
       "</div>\n",
       "\n",
       "<div class=\"fmetarow\">\n",
       "    <div class=\"fmetakey\">project:</div>\n",
       "    <div>BabMed</div>\n",
       "</div>\n",
       "\n",
       "<div class=\"fmetarow\">\n",
       "    <div class=\"fmetakey\">writtenBy:</div>\n",
       "    <div>Text-Fabric</div>\n",
       "</div>\n",
       "\n",
       "        </div>\n",
       "    </details>\n",
       "</div>\n",
       "\n",
       "<div class=\"frow\">\n",
       "    <div class=\"fnamecat \">\n",
       "<a target=\"_blank\" href=\"https://github.com/Nino-cunei/ninmed/blob/master/docs/transcription.md\" title=\"~/github/Nino-cunei/ninmed/tf/0.1/col.tf\">col</a>\n",
       "</div>\n",
       "<div class=\"fmono\">int</div>\n",
       "<details>\n",
       "    <summary>ATF column number</summary>\n",
       "    <div class=\"fmeta\">\n",
       "\n",
       "<div class=\"fmetarow\">\n",
       "    <div class=\"fmetakey\">converters:</div>\n",
       "    <div>Cale Johnson, Dirk Roorda</div>\n",
       "</div>\n",
       "\n",
       "<div class=\"fmetarow\">\n",
       "    <div class=\"fmetakey\">dateWritten:</div>\n",
       "    <div>2022-02-06T11:48:50Z</div>\n",
       "</div>\n",
       "\n",
       "<div class=\"fmetarow\">\n",
       "    <div class=\"fmetakey\">editor:</div>\n",
       "    <div>Cale Johnson et al.</div>\n",
       "</div>\n",
       "\n",
       "<div class=\"fmetarow\">\n",
       "    <div class=\"fmetakey\">name:</div>\n",
       "    <div>NinMed Medical Texts from Nineveh</div>\n",
       "</div>\n",
       "\n",
       "<div class=\"fmetarow\">\n",
       "    <div class=\"fmetakey\">project:</div>\n",
       "    <div>BabMed</div>\n",
       "</div>\n",
       "\n",
       "<div class=\"fmetarow\">\n",
       "    <div class=\"fmetakey\">writtenBy:</div>\n",
       "    <div>Text-Fabric</div>\n",
       "</div>\n",
       "\n",
       "        </div>\n",
       "    </details>\n",
       "</div>\n",
       "\n",
       "<div class=\"frow\">\n",
       "    <div class=\"fnamecat \">\n",
       "<a target=\"_blank\" href=\"https://github.com/Nino-cunei/ninmed/blob/master/docs/transcription.md\" title=\"~/github/Nino-cunei/ninmed/tf/0.1/collated.tf\">collated</a>\n",
       "</div>\n",
       "<div class=\"fmono\">int</div>\n",
       "<details>\n",
       "    <summary>whether a sign is collated (*)</summary>\n",
       "    <div class=\"fmeta\">\n",
       "\n",
       "<div class=\"fmetarow\">\n",
       "    <div class=\"fmetakey\">converters:</div>\n",
       "    <div>Cale Johnson, Dirk Roorda</div>\n",
       "</div>\n",
       "\n",
       "<div class=\"fmetarow\">\n",
       "    <div class=\"fmetakey\">dateWritten:</div>\n",
       "    <div>2022-02-06T11:48:50Z</div>\n",
       "</div>\n",
       "\n",
       "<div class=\"fmetarow\">\n",
       "    <div class=\"fmetakey\">editor:</div>\n",
       "    <div>Cale Johnson et al.</div>\n",
       "</div>\n",
       "\n",
       "<div class=\"fmetarow\">\n",
       "    <div class=\"fmetakey\">name:</div>\n",
       "    <div>NinMed Medical Texts from Nineveh</div>\n",
       "</div>\n",
       "\n",
       "<div class=\"fmetarow\">\n",
       "    <div class=\"fmetakey\">project:</div>\n",
       "    <div>BabMed</div>\n",
       "</div>\n",
       "\n",
       "<div class=\"fmetarow\">\n",
       "    <div class=\"fmetakey\">writtenBy:</div>\n",
       "    <div>Text-Fabric</div>\n",
       "</div>\n",
       "\n",
       "        </div>\n",
       "    </details>\n",
       "</div>\n",
       "\n",
       "<div class=\"frow\">\n",
       "    <div class=\"fnamecat \">\n",
       "<a target=\"_blank\" href=\"https://github.com/Nino-cunei/ninmed/blob/master/docs/transcription.md\" title=\"~/github/Nino-cunei/ninmed/tf/0.1/collection.tf\">collection</a>\n",
       "</div>\n",
       "<div class=\"fmono\">str</div>\n",
       "<details>\n",
       "    <summary>collection name from metadata field \"collection\"</summary>\n",
       "    <div class=\"fmeta\">\n",
       "\n",
       "<div class=\"fmetarow\">\n",
       "    <div class=\"fmetakey\">converters:</div>\n",
       "    <div>Cale Johnson, Dirk Roorda</div>\n",
       "</div>\n",
       "\n",
       "<div class=\"fmetarow\">\n",
       "    <div class=\"fmetakey\">dateWritten:</div>\n",
       "    <div>2022-02-06T11:48:50Z</div>\n",
       "</div>\n",
       "\n",
       "<div class=\"fmetarow\">\n",
       "    <div class=\"fmetakey\">editor:</div>\n",
       "    <div>Cale Johnson et al.</div>\n",
       "</div>\n",
       "\n",
       "<div class=\"fmetarow\">\n",
       "    <div class=\"fmetakey\">name:</div>\n",
       "    <div>NinMed Medical Texts from Nineveh</div>\n",
       "</div>\n",
       "\n",
       "<div class=\"fmetarow\">\n",
       "    <div class=\"fmetakey\">project:</div>\n",
       "    <div>BabMed</div>\n",
       "</div>\n",
       "\n",
       "<div class=\"fmetarow\">\n",
       "    <div class=\"fmetakey\">writtenBy:</div>\n",
       "    <div>Text-Fabric</div>\n",
       "</div>\n",
       "\n",
       "        </div>\n",
       "    </details>\n",
       "</div>\n",
       "\n",
       "<div class=\"frow\">\n",
       "    <div class=\"fnamecat \">\n",
       "<a target=\"_blank\" href=\"https://github.com/Nino-cunei/ninmed/blob/master/docs/transcription.md\" title=\"~/github/Nino-cunei/ninmed/tf/0.1/colofon.tf\">colofon</a>\n",
       "</div>\n",
       "<div class=\"fmono\">str</div>\n",
       "<details>\n",
       "    <summary>colofon comment to a line</summary>\n",
       "    <div class=\"fmeta\">\n",
       "\n",
       "<div class=\"fmetarow\">\n",
       "    <div class=\"fmetakey\">converters:</div>\n",
       "    <div>Cale Johnson, Dirk Roorda</div>\n",
       "</div>\n",
       "\n",
       "<div class=\"fmetarow\">\n",
       "    <div class=\"fmetakey\">dateWritten:</div>\n",
       "    <div>2022-02-06T11:48:50Z</div>\n",
       "</div>\n",
       "\n",
       "<div class=\"fmetarow\">\n",
       "    <div class=\"fmetakey\">editor:</div>\n",
       "    <div>Cale Johnson et al.</div>\n",
       "</div>\n",
       "\n",
       "<div class=\"fmetarow\">\n",
       "    <div class=\"fmetakey\">name:</div>\n",
       "    <div>NinMed Medical Texts from Nineveh</div>\n",
       "</div>\n",
       "\n",
       "<div class=\"fmetarow\">\n",
       "    <div class=\"fmetakey\">project:</div>\n",
       "    <div>BabMed</div>\n",
       "</div>\n",
       "\n",
       "<div class=\"fmetarow\">\n",
       "    <div class=\"fmetakey\">writtenBy:</div>\n",
       "    <div>Text-Fabric</div>\n",
       "</div>\n",
       "\n",
       "        </div>\n",
       "    </details>\n",
       "</div>\n",
       "\n",
       "<div class=\"frow\">\n",
       "    <div class=\"fnamecat \">\n",
       "<a target=\"_blank\" href=\"https://github.com/Nino-cunei/ninmed/blob/master/docs/transcription.md\" title=\"~/github/Nino-cunei/ninmed/tf/0.1/comment.tf\">comment</a>\n",
       "</div>\n",
       "<div class=\"fmono\">str</div>\n",
       "<details>\n",
       "    <summary>comment to a line</summary>\n",
       "    <div class=\"fmeta\">\n",
       "\n",
       "<div class=\"fmetarow\">\n",
       "    <div class=\"fmetakey\">converters:</div>\n",
       "    <div>Cale Johnson, Dirk Roorda</div>\n",
       "</div>\n",
       "\n",
       "<div class=\"fmetarow\">\n",
       "    <div class=\"fmetakey\">dateWritten:</div>\n",
       "    <div>2022-02-06T11:48:50Z</div>\n",
       "</div>\n",
       "\n",
       "<div class=\"fmetarow\">\n",
       "    <div class=\"fmetakey\">editor:</div>\n",
       "    <div>Cale Johnson et al.</div>\n",
       "</div>\n",
       "\n",
       "<div class=\"fmetarow\">\n",
       "    <div class=\"fmetakey\">name:</div>\n",
       "    <div>NinMed Medical Texts from Nineveh</div>\n",
       "</div>\n",
       "\n",
       "<div class=\"fmetarow\">\n",
       "    <div class=\"fmetakey\">project:</div>\n",
       "    <div>BabMed</div>\n",
       "</div>\n",
       "\n",
       "<div class=\"fmetarow\">\n",
       "    <div class=\"fmetakey\">writtenBy:</div>\n",
       "    <div>Text-Fabric</div>\n",
       "</div>\n",
       "\n",
       "        </div>\n",
       "    </details>\n",
       "</div>\n",
       "\n",
       "<div class=\"frow\">\n",
       "    <div class=\"fnamecat \">\n",
       "<a target=\"_blank\" href=\"https://github.com/Nino-cunei/ninmed/blob/master/docs/transcription.md\" title=\"~/github/Nino-cunei/ninmed/tf/0.1/damage.tf\">damage</a>\n",
       "</div>\n",
       "<div class=\"fmono\">int</div>\n",
       "<details>\n",
       "    <summary>whether a sign is damaged</summary>\n",
       "    <div class=\"fmeta\">\n",
       "\n",
       "<div class=\"fmetarow\">\n",
       "    <div class=\"fmetakey\">converters:</div>\n",
       "    <div>Cale Johnson, Dirk Roorda</div>\n",
       "</div>\n",
       "\n",
       "<div class=\"fmetarow\">\n",
       "    <div class=\"fmetakey\">dateWritten:</div>\n",
       "    <div>2022-02-06T11:48:50Z</div>\n",
       "</div>\n",
       "\n",
       "<div class=\"fmetarow\">\n",
       "    <div class=\"fmetakey\">editor:</div>\n",
       "    <div>Cale Johnson et al.</div>\n",
       "</div>\n",
       "\n",
       "<div class=\"fmetarow\">\n",
       "    <div class=\"fmetakey\">name:</div>\n",
       "    <div>NinMed Medical Texts from Nineveh</div>\n",
       "</div>\n",
       "\n",
       "<div class=\"fmetarow\">\n",
       "    <div class=\"fmetakey\">project:</div>\n",
       "    <div>BabMed</div>\n",
       "</div>\n",
       "\n",
       "<div class=\"fmetarow\">\n",
       "    <div class=\"fmetakey\">writtenBy:</div>\n",
       "    <div>Text-Fabric</div>\n",
       "</div>\n",
       "\n",
       "        </div>\n",
       "    </details>\n",
       "</div>\n",
       "\n",
       "<div class=\"frow\">\n",
       "    <div class=\"fnamecat \">\n",
       "<a target=\"_blank\" href=\"https://github.com/Nino-cunei/ninmed/blob/master/docs/transcription.md\" title=\"~/github/Nino-cunei/ninmed/tf/0.1/description.tf\">description</a>\n",
       "</div>\n",
       "<div class=\"fmono\">str</div>\n",
       "<details>\n",
       "    <summary>description from metadata field \"description\"</summary>\n",
       "    <div class=\"fmeta\">\n",
       "\n",
       "<div class=\"fmetarow\">\n",
       "    <div class=\"fmetakey\">converters:</div>\n",
       "    <div>Cale Johnson, Dirk Roorda</div>\n",
       "</div>\n",
       "\n",
       "<div class=\"fmetarow\">\n",
       "    <div class=\"fmetakey\">dateWritten:</div>\n",
       "    <div>2022-02-06T11:48:50Z</div>\n",
       "</div>\n",
       "\n",
       "<div class=\"fmetarow\">\n",
       "    <div class=\"fmetakey\">editor:</div>\n",
       "    <div>Cale Johnson et al.</div>\n",
       "</div>\n",
       "\n",
       "<div class=\"fmetarow\">\n",
       "    <div class=\"fmetakey\">name:</div>\n",
       "    <div>NinMed Medical Texts from Nineveh</div>\n",
       "</div>\n",
       "\n",
       "<div class=\"fmetarow\">\n",
       "    <div class=\"fmetakey\">project:</div>\n",
       "    <div>BabMed</div>\n",
       "</div>\n",
       "\n",
       "<div class=\"fmetarow\">\n",
       "    <div class=\"fmetakey\">writtenBy:</div>\n",
       "    <div>Text-Fabric</div>\n",
       "</div>\n",
       "\n",
       "        </div>\n",
       "    </details>\n",
       "</div>\n",
       "\n",
       "<div class=\"frow\">\n",
       "    <div class=\"fnamecat \">\n",
       "<a target=\"_blank\" href=\"https://github.com/Nino-cunei/ninmed/blob/master/docs/transcription.md\" title=\"~/github/Nino-cunei/ninmed/tf/0.1/det.tf\">det</a>\n",
       "</div>\n",
       "<div class=\"fmono\">int</div>\n",
       "<details>\n",
       "    <summary>whether a sign is a determinative gloss - between { }</summary>\n",
       "    <div class=\"fmeta\">\n",
       "\n",
       "<div class=\"fmetarow\">\n",
       "    <div class=\"fmetakey\">converters:</div>\n",
       "    <div>Cale Johnson, Dirk Roorda</div>\n",
       "</div>\n",
       "\n",
       "<div class=\"fmetarow\">\n",
       "    <div class=\"fmetakey\">dateWritten:</div>\n",
       "    <div>2022-02-06T11:48:50Z</div>\n",
       "</div>\n",
       "\n",
       "<div class=\"fmetarow\">\n",
       "    <div class=\"fmetakey\">editor:</div>\n",
       "    <div>Cale Johnson et al.</div>\n",
       "</div>\n",
       "\n",
       "<div class=\"fmetarow\">\n",
       "    <div class=\"fmetakey\">name:</div>\n",
       "    <div>NinMed Medical Texts from Nineveh</div>\n",
       "</div>\n",
       "\n",
       "<div class=\"fmetarow\">\n",
       "    <div class=\"fmetakey\">project:</div>\n",
       "    <div>BabMed</div>\n",
       "</div>\n",
       "\n",
       "<div class=\"fmetarow\">\n",
       "    <div class=\"fmetakey\">writtenBy:</div>\n",
       "    <div>Text-Fabric</div>\n",
       "</div>\n",
       "\n",
       "        </div>\n",
       "    </details>\n",
       "</div>\n",
       "\n",
       "<div class=\"frow\">\n",
       "    <div class=\"fnamecat \">\n",
       "<a target=\"_blank\" href=\"https://github.com/Nino-cunei/ninmed/blob/master/docs/transcription.md\" title=\"~/github/Nino-cunei/ninmed/tf/0.1/docnumber.tf\">docnumber</a>\n",
       "</div>\n",
       "<div class=\"fmono\">str</div>\n",
       "<details>\n",
       "    <summary>document number from metadata field \"number\"</summary>\n",
       "    <div class=\"fmeta\">\n",
       "\n",
       "<div class=\"fmetarow\">\n",
       "    <div class=\"fmetakey\">converters:</div>\n",
       "    <div>Cale Johnson, Dirk Roorda</div>\n",
       "</div>\n",
       "\n",
       "<div class=\"fmetarow\">\n",
       "    <div class=\"fmetakey\">dateWritten:</div>\n",
       "    <div>2022-02-06T11:48:50Z</div>\n",
       "</div>\n",
       "\n",
       "<div class=\"fmetarow\">\n",
       "    <div class=\"fmetakey\">editor:</div>\n",
       "    <div>Cale Johnson et al.</div>\n",
       "</div>\n",
       "\n",
       "<div class=\"fmetarow\">\n",
       "    <div class=\"fmetakey\">name:</div>\n",
       "    <div>NinMed Medical Texts from Nineveh</div>\n",
       "</div>\n",
       "\n",
       "<div class=\"fmetarow\">\n",
       "    <div class=\"fmetakey\">project:</div>\n",
       "    <div>BabMed</div>\n",
       "</div>\n",
       "\n",
       "<div class=\"fmetarow\">\n",
       "    <div class=\"fmetakey\">writtenBy:</div>\n",
       "    <div>Text-Fabric</div>\n",
       "</div>\n",
       "\n",
       "        </div>\n",
       "    </details>\n",
       "</div>\n",
       "\n",
       "<div class=\"frow\">\n",
       "    <div class=\"fnamecat \">\n",
       "<a target=\"_blank\" href=\"https://github.com/Nino-cunei/ninmed/blob/master/docs/transcription.md\" title=\"~/github/Nino-cunei/ninmed/tf/0.1/excised.tf\">excised</a>\n",
       "</div>\n",
       "<div class=\"fmono\">int</div>\n",
       "<details>\n",
       "    <summary>whether a sign is excised - between << >></summary>\n",
       "    <div class=\"fmeta\">\n",
       "\n",
       "<div class=\"fmetarow\">\n",
       "    <div class=\"fmetakey\">converters:</div>\n",
       "    <div>Cale Johnson, Dirk Roorda</div>\n",
       "</div>\n",
       "\n",
       "<div class=\"fmetarow\">\n",
       "    <div class=\"fmetakey\">dateWritten:</div>\n",
       "    <div>2022-02-06T11:48:50Z</div>\n",
       "</div>\n",
       "\n",
       "<div class=\"fmetarow\">\n",
       "    <div class=\"fmetakey\">editor:</div>\n",
       "    <div>Cale Johnson et al.</div>\n",
       "</div>\n",
       "\n",
       "<div class=\"fmetarow\">\n",
       "    <div class=\"fmetakey\">name:</div>\n",
       "    <div>NinMed Medical Texts from Nineveh</div>\n",
       "</div>\n",
       "\n",
       "<div class=\"fmetarow\">\n",
       "    <div class=\"fmetakey\">project:</div>\n",
       "    <div>BabMed</div>\n",
       "</div>\n",
       "\n",
       "<div class=\"fmetarow\">\n",
       "    <div class=\"fmetakey\">writtenBy:</div>\n",
       "    <div>Text-Fabric</div>\n",
       "</div>\n",
       "\n",
       "        </div>\n",
       "    </details>\n",
       "</div>\n",
       "\n",
       "<div class=\"frow\">\n",
       "    <div class=\"fnamecat \">\n",
       "<a target=\"_blank\" href=\"https://github.com/Nino-cunei/ninmed/blob/master/docs/transcription.md\" title=\"~/github/Nino-cunei/ninmed/tf/0.1/face.tf\">face</a>\n",
       "</div>\n",
       "<div class=\"fmono\">str</div>\n",
       "<details>\n",
       "    <summary>full name of a face including the enclosing object</summary>\n",
       "    <div class=\"fmeta\">\n",
       "\n",
       "<div class=\"fmetarow\">\n",
       "    <div class=\"fmetakey\">converters:</div>\n",
       "    <div>Cale Johnson, Dirk Roorda</div>\n",
       "</div>\n",
       "\n",
       "<div class=\"fmetarow\">\n",
       "    <div class=\"fmetakey\">dateWritten:</div>\n",
       "    <div>2022-02-06T11:48:50Z</div>\n",
       "</div>\n",
       "\n",
       "<div class=\"fmetarow\">\n",
       "    <div class=\"fmetakey\">editor:</div>\n",
       "    <div>Cale Johnson et al.</div>\n",
       "</div>\n",
       "\n",
       "<div class=\"fmetarow\">\n",
       "    <div class=\"fmetakey\">name:</div>\n",
       "    <div>NinMed Medical Texts from Nineveh</div>\n",
       "</div>\n",
       "\n",
       "<div class=\"fmetarow\">\n",
       "    <div class=\"fmetakey\">project:</div>\n",
       "    <div>BabMed</div>\n",
       "</div>\n",
       "\n",
       "<div class=\"fmetarow\">\n",
       "    <div class=\"fmetakey\">writtenBy:</div>\n",
       "    <div>Text-Fabric</div>\n",
       "</div>\n",
       "\n",
       "        </div>\n",
       "    </details>\n",
       "</div>\n",
       "\n",
       "<div class=\"frow\">\n",
       "    <div class=\"fnamecat \">\n",
       "<a target=\"_blank\" href=\"https://github.com/Nino-cunei/ninmed/blob/master/docs/transcription.md\" title=\"~/github/Nino-cunei/ninmed/tf/0.1/flags.tf\">flags</a>\n",
       "</div>\n",
       "<div class=\"fmono\">str</div>\n",
       "<details>\n",
       "    <summary>sequence of flags after a sign</summary>\n",
       "    <div class=\"fmeta\">\n",
       "\n",
       "<div class=\"fmetarow\">\n",
       "    <div class=\"fmetakey\">converters:</div>\n",
       "    <div>Cale Johnson, Dirk Roorda</div>\n",
       "</div>\n",
       "\n",
       "<div class=\"fmetarow\">\n",
       "    <div class=\"fmetakey\">dateWritten:</div>\n",
       "    <div>2022-02-06T11:48:50Z</div>\n",
       "</div>\n",
       "\n",
       "<div class=\"fmetarow\">\n",
       "    <div class=\"fmetakey\">editor:</div>\n",
       "    <div>Cale Johnson et al.</div>\n",
       "</div>\n",
       "\n",
       "<div class=\"fmetarow\">\n",
       "    <div class=\"fmetakey\">name:</div>\n",
       "    <div>NinMed Medical Texts from Nineveh</div>\n",
       "</div>\n",
       "\n",
       "<div class=\"fmetarow\">\n",
       "    <div class=\"fmetakey\">project:</div>\n",
       "    <div>BabMed</div>\n",
       "</div>\n",
       "\n",
       "<div class=\"fmetarow\">\n",
       "    <div class=\"fmetakey\">writtenBy:</div>\n",
       "    <div>Text-Fabric</div>\n",
       "</div>\n",
       "\n",
       "        </div>\n",
       "    </details>\n",
       "</div>\n",
       "\n",
       "<div class=\"frow\">\n",
       "    <div class=\"fnamecat \">\n",
       "<a target=\"_blank\" href=\"https://github.com/Nino-cunei/ninmed/blob/master/docs/transcription.md\" title=\"~/github/Nino-cunei/ninmed/tf/0.1/gloss.tf\">gloss</a>\n",
       "</div>\n",
       "<div class=\"fmono\">int</div>\n",
       "<details>\n",
       "    <summary>whether a sign belongs to a gloss - between {( )}</summary>\n",
       "    <div class=\"fmeta\">\n",
       "\n",
       "<div class=\"fmetarow\">\n",
       "    <div class=\"fmetakey\">converters:</div>\n",
       "    <div>Cale Johnson, Dirk Roorda</div>\n",
       "</div>\n",
       "\n",
       "<div class=\"fmetarow\">\n",
       "    <div class=\"fmetakey\">dateWritten:</div>\n",
       "    <div>2022-02-06T11:48:50Z</div>\n",
       "</div>\n",
       "\n",
       "<div class=\"fmetarow\">\n",
       "    <div class=\"fmetakey\">editor:</div>\n",
       "    <div>Cale Johnson et al.</div>\n",
       "</div>\n",
       "\n",
       "<div class=\"fmetarow\">\n",
       "    <div class=\"fmetakey\">name:</div>\n",
       "    <div>NinMed Medical Texts from Nineveh</div>\n",
       "</div>\n",
       "\n",
       "<div class=\"fmetarow\">\n",
       "    <div class=\"fmetakey\">project:</div>\n",
       "    <div>BabMed</div>\n",
       "</div>\n",
       "\n",
       "<div class=\"fmetarow\">\n",
       "    <div class=\"fmetakey\">writtenBy:</div>\n",
       "    <div>Text-Fabric</div>\n",
       "</div>\n",
       "\n",
       "        </div>\n",
       "    </details>\n",
       "</div>\n",
       "\n",
       "<div class=\"frow\">\n",
       "    <div class=\"fnamecat \">\n",
       "<a target=\"_blank\" href=\"https://github.com/Nino-cunei/ninmed/blob/master/docs/transcription.md\" title=\"~/github/Nino-cunei/ninmed/tf/0.1/grapheme.tf\">grapheme</a>\n",
       "</div>\n",
       "<div class=\"fmono\">str</div>\n",
       "<details>\n",
       "    <summary>grapheme of a sign</summary>\n",
       "    <div class=\"fmeta\">\n",
       "\n",
       "<div class=\"fmetarow\">\n",
       "    <div class=\"fmetakey\">converters:</div>\n",
       "    <div>Cale Johnson, Dirk Roorda</div>\n",
       "</div>\n",
       "\n",
       "<div class=\"fmetarow\">\n",
       "    <div class=\"fmetakey\">dateWritten:</div>\n",
       "    <div>2022-02-06T11:48:50Z</div>\n",
       "</div>\n",
       "\n",
       "<div class=\"fmetarow\">\n",
       "    <div class=\"fmetakey\">editor:</div>\n",
       "    <div>Cale Johnson et al.</div>\n",
       "</div>\n",
       "\n",
       "<div class=\"fmetarow\">\n",
       "    <div class=\"fmetakey\">name:</div>\n",
       "    <div>NinMed Medical Texts from Nineveh</div>\n",
       "</div>\n",
       "\n",
       "<div class=\"fmetarow\">\n",
       "    <div class=\"fmetakey\">project:</div>\n",
       "    <div>BabMed</div>\n",
       "</div>\n",
       "\n",
       "<div class=\"fmetarow\">\n",
       "    <div class=\"fmetakey\">writtenBy:</div>\n",
       "    <div>Text-Fabric</div>\n",
       "</div>\n",
       "\n",
       "        </div>\n",
       "    </details>\n",
       "</div>\n",
       "\n",
       "<div class=\"frow\">\n",
       "    <div class=\"fnamecat \">\n",
       "<a target=\"_blank\" href=\"https://github.com/Nino-cunei/ninmed/blob/master/docs/transcription.md\" title=\"~/github/Nino-cunei/ninmed/tf/0.1/lang.tf\">lang</a>\n",
       "</div>\n",
       "<div class=\"fmono\">str</div>\n",
       "<details>\n",
       "    <summary>language of a document, word, or sign: absent: Akkadian; sux: Sumerian; sb: Standard Babylonian</summary>\n",
       "    <div class=\"fmeta\">\n",
       "\n",
       "<div class=\"fmetarow\">\n",
       "    <div class=\"fmetakey\">converters:</div>\n",
       "    <div>Cale Johnson, Dirk Roorda</div>\n",
       "</div>\n",
       "\n",
       "<div class=\"fmetarow\">\n",
       "    <div class=\"fmetakey\">dateWritten:</div>\n",
       "    <div>2022-02-06T11:48:50Z</div>\n",
       "</div>\n",
       "\n",
       "<div class=\"fmetarow\">\n",
       "    <div class=\"fmetakey\">editor:</div>\n",
       "    <div>Cale Johnson et al.</div>\n",
       "</div>\n",
       "\n",
       "<div class=\"fmetarow\">\n",
       "    <div class=\"fmetakey\">name:</div>\n",
       "    <div>NinMed Medical Texts from Nineveh</div>\n",
       "</div>\n",
       "\n",
       "<div class=\"fmetarow\">\n",
       "    <div class=\"fmetakey\">project:</div>\n",
       "    <div>BabMed</div>\n",
       "</div>\n",
       "\n",
       "<div class=\"fmetarow\">\n",
       "    <div class=\"fmetakey\">writtenBy:</div>\n",
       "    <div>Text-Fabric</div>\n",
       "</div>\n",
       "\n",
       "        </div>\n",
       "    </details>\n",
       "</div>\n",
       "\n",
       "<div class=\"frow\">\n",
       "    <div class=\"fnamecat \">\n",
       "<a target=\"_blank\" href=\"https://github.com/Nino-cunei/ninmed/blob/master/docs/transcription.md\" title=\"~/github/Nino-cunei/ninmed/tf/0.1/lemma.tf\">lemma</a>\n",
       "</div>\n",
       "<div class=\"fmono\">str</div>\n",
       "<details>\n",
       "    <summary>lemma of a word:comma-separated values of the uniqueLemma field in the JSON source</summary>\n",
       "    <div class=\"fmeta\">\n",
       "\n",
       "<div class=\"fmetarow\">\n",
       "    <div class=\"fmetakey\">converters:</div>\n",
       "    <div>Cale Johnson, Dirk Roorda</div>\n",
       "</div>\n",
       "\n",
       "<div class=\"fmetarow\">\n",
       "    <div class=\"fmetakey\">dateWritten:</div>\n",
       "    <div>2022-02-06T11:48:50Z</div>\n",
       "</div>\n",
       "\n",
       "<div class=\"fmetarow\">\n",
       "    <div class=\"fmetakey\">editor:</div>\n",
       "    <div>Cale Johnson et al.</div>\n",
       "</div>\n",
       "\n",
       "<div class=\"fmetarow\">\n",
       "    <div class=\"fmetakey\">name:</div>\n",
       "    <div>NinMed Medical Texts from Nineveh</div>\n",
       "</div>\n",
       "\n",
       "<div class=\"fmetarow\">\n",
       "    <div class=\"fmetakey\">project:</div>\n",
       "    <div>BabMed</div>\n",
       "</div>\n",
       "\n",
       "<div class=\"fmetarow\">\n",
       "    <div class=\"fmetakey\">writtenBy:</div>\n",
       "    <div>Text-Fabric</div>\n",
       "</div>\n",
       "\n",
       "        </div>\n",
       "    </details>\n",
       "</div>\n",
       "\n",
       "<div class=\"frow\">\n",
       "    <div class=\"fnamecat \">\n",
       "<a target=\"_blank\" href=\"https://github.com/Nino-cunei/ninmed/blob/master/docs/transcription.md\" title=\"~/github/Nino-cunei/ninmed/tf/0.1/lln.tf\">lln</a>\n",
       "</div>\n",
       "<div class=\"fmono\">int</div>\n",
       "<details>\n",
       "    <summary>logical line number of a numbered line</summary>\n",
       "    <div class=\"fmeta\">\n",
       "\n",
       "<div class=\"fmetarow\">\n",
       "    <div class=\"fmetakey\">converters:</div>\n",
       "    <div>Cale Johnson, Dirk Roorda</div>\n",
       "</div>\n",
       "\n",
       "<div class=\"fmetarow\">\n",
       "    <div class=\"fmetakey\">dateWritten:</div>\n",
       "    <div>2022-02-06T11:48:50Z</div>\n",
       "</div>\n",
       "\n",
       "<div class=\"fmetarow\">\n",
       "    <div class=\"fmetakey\">editor:</div>\n",
       "    <div>Cale Johnson et al.</div>\n",
       "</div>\n",
       "\n",
       "<div class=\"fmetarow\">\n",
       "    <div class=\"fmetakey\">name:</div>\n",
       "    <div>NinMed Medical Texts from Nineveh</div>\n",
       "</div>\n",
       "\n",
       "<div class=\"fmetarow\">\n",
       "    <div class=\"fmetakey\">project:</div>\n",
       "    <div>BabMed</div>\n",
       "</div>\n",
       "\n",
       "<div class=\"fmetarow\">\n",
       "    <div class=\"fmetakey\">writtenBy:</div>\n",
       "    <div>Text-Fabric</div>\n",
       "</div>\n",
       "\n",
       "        </div>\n",
       "    </details>\n",
       "</div>\n",
       "\n",
       "<div class=\"frow\">\n",
       "    <div class=\"fnamecat \">\n",
       "<a target=\"_blank\" href=\"https://github.com/Nino-cunei/ninmed/blob/master/docs/transcription.md\" title=\"~/github/Nino-cunei/ninmed/tf/0.1/ln.tf\">ln</a>\n",
       "</div>\n",
       "<div class=\"fmono\">int</div>\n",
       "<details>\n",
       "    <summary>ATF line number of a numbered line, without prime</summary>\n",
       "    <div class=\"fmeta\">\n",
       "\n",
       "<div class=\"fmetarow\">\n",
       "    <div class=\"fmetakey\">converters:</div>\n",
       "    <div>Cale Johnson, Dirk Roorda</div>\n",
       "</div>\n",
       "\n",
       "<div class=\"fmetarow\">\n",
       "    <div class=\"fmetakey\">dateWritten:</div>\n",
       "    <div>2022-02-06T11:48:50Z</div>\n",
       "</div>\n",
       "\n",
       "<div class=\"fmetarow\">\n",
       "    <div class=\"fmetakey\">editor:</div>\n",
       "    <div>Cale Johnson et al.</div>\n",
       "</div>\n",
       "\n",
       "<div class=\"fmetarow\">\n",
       "    <div class=\"fmetakey\">name:</div>\n",
       "    <div>NinMed Medical Texts from Nineveh</div>\n",
       "</div>\n",
       "\n",
       "<div class=\"fmetarow\">\n",
       "    <div class=\"fmetakey\">project:</div>\n",
       "    <div>BabMed</div>\n",
       "</div>\n",
       "\n",
       "<div class=\"fmetarow\">\n",
       "    <div class=\"fmetakey\">writtenBy:</div>\n",
       "    <div>Text-Fabric</div>\n",
       "</div>\n",
       "\n",
       "        </div>\n",
       "    </details>\n",
       "</div>\n",
       "\n",
       "<div class=\"frow\">\n",
       "    <div class=\"fnamecat \">\n",
       "<a target=\"_blank\" href=\"https://github.com/Nino-cunei/ninmed/blob/master/docs/transcription.md\" title=\"~/github/Nino-cunei/ninmed/tf/0.1/lnno.tf\">lnno</a>\n",
       "</div>\n",
       "<div class=\"fmono\">str</div>\n",
       "<details>\n",
       "    <summary>ATF line number, may be $ or #, with prime; column number prepended</summary>\n",
       "    <div class=\"fmeta\">\n",
       "\n",
       "<div class=\"fmetarow\">\n",
       "    <div class=\"fmetakey\">converters:</div>\n",
       "    <div>Cale Johnson, Dirk Roorda</div>\n",
       "</div>\n",
       "\n",
       "<div class=\"fmetarow\">\n",
       "    <div class=\"fmetakey\">dateWritten:</div>\n",
       "    <div>2022-02-06T11:48:50Z</div>\n",
       "</div>\n",
       "\n",
       "<div class=\"fmetarow\">\n",
       "    <div class=\"fmetakey\">editor:</div>\n",
       "    <div>Cale Johnson et al.</div>\n",
       "</div>\n",
       "\n",
       "<div class=\"fmetarow\">\n",
       "    <div class=\"fmetakey\">name:</div>\n",
       "    <div>NinMed Medical Texts from Nineveh</div>\n",
       "</div>\n",
       "\n",
       "<div class=\"fmetarow\">\n",
       "    <div class=\"fmetakey\">project:</div>\n",
       "    <div>BabMed</div>\n",
       "</div>\n",
       "\n",
       "<div class=\"fmetarow\">\n",
       "    <div class=\"fmetakey\">writtenBy:</div>\n",
       "    <div>Text-Fabric</div>\n",
       "</div>\n",
       "\n",
       "        </div>\n",
       "    </details>\n",
       "</div>\n",
       "\n",
       "<div class=\"frow\">\n",
       "    <div class=\"fnamecat \">\n",
       "<a target=\"_blank\" href=\"https://github.com/Nino-cunei/ninmed/blob/master/docs/transcription.md\" title=\"~/github/Nino-cunei/ninmed/tf/0.1/missing.tf\">missing</a>\n",
       "</div>\n",
       "<div class=\"fmono\">int</div>\n",
       "<details>\n",
       "    <summary>whether a sign is missing - between [ ]</summary>\n",
       "    <div class=\"fmeta\">\n",
       "\n",
       "<div class=\"fmetarow\">\n",
       "    <div class=\"fmetakey\">converters:</div>\n",
       "    <div>Cale Johnson, Dirk Roorda</div>\n",
       "</div>\n",
       "\n",
       "<div class=\"fmetarow\">\n",
       "    <div class=\"fmetakey\">dateWritten:</div>\n",
       "    <div>2022-02-06T11:48:50Z</div>\n",
       "</div>\n",
       "\n",
       "<div class=\"fmetarow\">\n",
       "    <div class=\"fmetakey\">editor:</div>\n",
       "    <div>Cale Johnson et al.</div>\n",
       "</div>\n",
       "\n",
       "<div class=\"fmetarow\">\n",
       "    <div class=\"fmetakey\">name:</div>\n",
       "    <div>NinMed Medical Texts from Nineveh</div>\n",
       "</div>\n",
       "\n",
       "<div class=\"fmetarow\">\n",
       "    <div class=\"fmetakey\">project:</div>\n",
       "    <div>BabMed</div>\n",
       "</div>\n",
       "\n",
       "<div class=\"fmetarow\">\n",
       "    <div class=\"fmetakey\">writtenBy:</div>\n",
       "    <div>Text-Fabric</div>\n",
       "</div>\n",
       "\n",
       "        </div>\n",
       "    </details>\n",
       "</div>\n",
       "\n",
       "<div class=\"frow\">\n",
       "    <div class=\"fnamecat \">\n",
       "<a target=\"_blank\" href=\"https://github.com/Nino-cunei/ninmed/blob/master/docs/transcription.md\" title=\"~/github/Nino-cunei/ninmed/tf/0.1/modifiers.tf\">modifiers</a>\n",
       "</div>\n",
       "<div class=\"fmono\">str</div>\n",
       "<details>\n",
       "    <summary>sequence of modifiers after a sign</summary>\n",
       "    <div class=\"fmeta\">\n",
       "\n",
       "<div class=\"fmetarow\">\n",
       "    <div class=\"fmetakey\">converters:</div>\n",
       "    <div>Cale Johnson, Dirk Roorda</div>\n",
       "</div>\n",
       "\n",
       "<div class=\"fmetarow\">\n",
       "    <div class=\"fmetakey\">dateWritten:</div>\n",
       "    <div>2022-02-06T11:48:50Z</div>\n",
       "</div>\n",
       "\n",
       "<div class=\"fmetarow\">\n",
       "    <div class=\"fmetakey\">editor:</div>\n",
       "    <div>Cale Johnson et al.</div>\n",
       "</div>\n",
       "\n",
       "<div class=\"fmetarow\">\n",
       "    <div class=\"fmetakey\">name:</div>\n",
       "    <div>NinMed Medical Texts from Nineveh</div>\n",
       "</div>\n",
       "\n",
       "<div class=\"fmetarow\">\n",
       "    <div class=\"fmetakey\">project:</div>\n",
       "    <div>BabMed</div>\n",
       "</div>\n",
       "\n",
       "<div class=\"fmetarow\">\n",
       "    <div class=\"fmetakey\">writtenBy:</div>\n",
       "    <div>Text-Fabric</div>\n",
       "</div>\n",
       "\n",
       "        </div>\n",
       "    </details>\n",
       "</div>\n",
       "\n",
       "<div class=\"frow\">\n",
       "    <div class=\"fnamecat \">\n",
       "<a target=\"_blank\" href=\"https://github.com/Nino-cunei/ninmed/blob/master/docs/transcription.md\" title=\"~/github/Nino-cunei/ninmed/tf/0.1/museum.tf\">museum</a>\n",
       "</div>\n",
       "<div class=\"fmono\">str</div>\n",
       "<details>\n",
       "    <summary>museum name from metadata field \"museum.name\"</summary>\n",
       "    <div class=\"fmeta\">\n",
       "\n",
       "<div class=\"fmetarow\">\n",
       "    <div class=\"fmetakey\">converters:</div>\n",
       "    <div>Cale Johnson, Dirk Roorda</div>\n",
       "</div>\n",
       "\n",
       "<div class=\"fmetarow\">\n",
       "    <div class=\"fmetakey\">dateWritten:</div>\n",
       "    <div>2022-02-06T11:48:50Z</div>\n",
       "</div>\n",
       "\n",
       "<div class=\"fmetarow\">\n",
       "    <div class=\"fmetakey\">editor:</div>\n",
       "    <div>Cale Johnson et al.</div>\n",
       "</div>\n",
       "\n",
       "<div class=\"fmetarow\">\n",
       "    <div class=\"fmetakey\">name:</div>\n",
       "    <div>NinMed Medical Texts from Nineveh</div>\n",
       "</div>\n",
       "\n",
       "<div class=\"fmetarow\">\n",
       "    <div class=\"fmetakey\">project:</div>\n",
       "    <div>BabMed</div>\n",
       "</div>\n",
       "\n",
       "<div class=\"fmetarow\">\n",
       "    <div class=\"fmetakey\">writtenBy:</div>\n",
       "    <div>Text-Fabric</div>\n",
       "</div>\n",
       "\n",
       "        </div>\n",
       "    </details>\n",
       "</div>\n",
       "\n",
       "<div class=\"frow\">\n",
       "    <div class=\"fnamecat \">\n",
       "<a target=\"_blank\" href=\"https://github.com/Nino-cunei/ninmed/blob/master/docs/transcription.md\" title=\"~/github/Nino-cunei/ninmed/tf/0.1/note.tf\">note</a>\n",
       "</div>\n",
       "<div class=\"fmono\">str</div>\n",
       "<details>\n",
       "    <summary>note comment to a line</summary>\n",
       "    <div class=\"fmeta\">\n",
       "\n",
       "<div class=\"fmetarow\">\n",
       "    <div class=\"fmetakey\">converters:</div>\n",
       "    <div>Cale Johnson, Dirk Roorda</div>\n",
       "</div>\n",
       "\n",
       "<div class=\"fmetarow\">\n",
       "    <div class=\"fmetakey\">dateWritten:</div>\n",
       "    <div>2022-02-06T11:48:50Z</div>\n",
       "</div>\n",
       "\n",
       "<div class=\"fmetarow\">\n",
       "    <div class=\"fmetakey\">editor:</div>\n",
       "    <div>Cale Johnson et al.</div>\n",
       "</div>\n",
       "\n",
       "<div class=\"fmetarow\">\n",
       "    <div class=\"fmetakey\">name:</div>\n",
       "    <div>NinMed Medical Texts from Nineveh</div>\n",
       "</div>\n",
       "\n",
       "<div class=\"fmetarow\">\n",
       "    <div class=\"fmetakey\">project:</div>\n",
       "    <div>BabMed</div>\n",
       "</div>\n",
       "\n",
       "<div class=\"fmetarow\">\n",
       "    <div class=\"fmetakey\">writtenBy:</div>\n",
       "    <div>Text-Fabric</div>\n",
       "</div>\n",
       "\n",
       "        </div>\n",
       "    </details>\n",
       "</div>\n",
       "\n",
       "<div class=\"frow\">\n",
       "    <div class=\"fnamecat \">\n",
       "<a target=\"_blank\" href=\"https://github.com/Nino-cunei/ninmed/blob/master/docs/transcription.md\" title=\"~/github/Nino-cunei/ninmed/tf/0.1/number.tf\">number</a>\n",
       "</div>\n",
       "<div class=\"fmono\">int</div>\n",
       "<details>\n",
       "    <summary>numeric value of a number sign</summary>\n",
       "    <div class=\"fmeta\">\n",
       "\n",
       "<div class=\"fmetarow\">\n",
       "    <div class=\"fmetakey\">converters:</div>\n",
       "    <div>Cale Johnson, Dirk Roorda</div>\n",
       "</div>\n",
       "\n",
       "<div class=\"fmetarow\">\n",
       "    <div class=\"fmetakey\">dateWritten:</div>\n",
       "    <div>2022-02-06T11:48:50Z</div>\n",
       "</div>\n",
       "\n",
       "<div class=\"fmetarow\">\n",
       "    <div class=\"fmetakey\">editor:</div>\n",
       "    <div>Cale Johnson et al.</div>\n",
       "</div>\n",
       "\n",
       "<div class=\"fmetarow\">\n",
       "    <div class=\"fmetakey\">name:</div>\n",
       "    <div>NinMed Medical Texts from Nineveh</div>\n",
       "</div>\n",
       "\n",
       "<div class=\"fmetarow\">\n",
       "    <div class=\"fmetakey\">project:</div>\n",
       "    <div>BabMed</div>\n",
       "</div>\n",
       "\n",
       "<div class=\"fmetarow\">\n",
       "    <div class=\"fmetakey\">writtenBy:</div>\n",
       "    <div>Text-Fabric</div>\n",
       "</div>\n",
       "\n",
       "        </div>\n",
       "    </details>\n",
       "</div>\n",
       "\n",
       "<div class=\"frow\">\n",
       "    <div class=\"fnamecat \">\n",
       "<a target=\"_blank\" href=\"https://github.com/Nino-cunei/ninmed/blob/master/docs/transcription.md\" title=\"~/github/Nino-cunei/ninmed/tf/0.1/otype.tf\">otype</a>\n",
       "</div>\n",
       "<div class=\"fmono\">str</div>\n",
       "<details>\n",
       "    <summary></summary>\n",
       "    <div class=\"fmeta\">\n",
       "\n",
       "<div class=\"fmetarow\">\n",
       "    <div class=\"fmetakey\">converters:</div>\n",
       "    <div>Cale Johnson, Dirk Roorda</div>\n",
       "</div>\n",
       "\n",
       "<div class=\"fmetarow\">\n",
       "    <div class=\"fmetakey\">dateWritten:</div>\n",
       "    <div>2022-02-06T11:48:50Z</div>\n",
       "</div>\n",
       "\n",
       "<div class=\"fmetarow\">\n",
       "    <div class=\"fmetakey\">editor:</div>\n",
       "    <div>Cale Johnson et al.</div>\n",
       "</div>\n",
       "\n",
       "<div class=\"fmetarow\">\n",
       "    <div class=\"fmetakey\">name:</div>\n",
       "    <div>NinMed Medical Texts from Nineveh</div>\n",
       "</div>\n",
       "\n",
       "<div class=\"fmetarow\">\n",
       "    <div class=\"fmetakey\">project:</div>\n",
       "    <div>BabMed</div>\n",
       "</div>\n",
       "\n",
       "<div class=\"fmetarow\">\n",
       "    <div class=\"fmetakey\">writtenBy:</div>\n",
       "    <div>Text-Fabric</div>\n",
       "</div>\n",
       "\n",
       "        </div>\n",
       "    </details>\n",
       "</div>\n",
       "\n",
       "<div class=\"frow\">\n",
       "    <div class=\"fnamecat \">\n",
       "<a target=\"_blank\" href=\"https://github.com/Nino-cunei/ninmed/blob/master/docs/transcription.md\" title=\"~/github/Nino-cunei/ninmed/tf/0.1/pnumber.tf\">pnumber</a>\n",
       "</div>\n",
       "<div class=\"fmono\">str</div>\n",
       "<details>\n",
       "    <summary>P number of a document</summary>\n",
       "    <div class=\"fmeta\">\n",
       "\n",
       "<div class=\"fmetarow\">\n",
       "    <div class=\"fmetakey\">converters:</div>\n",
       "    <div>Cale Johnson, Dirk Roorda</div>\n",
       "</div>\n",
       "\n",
       "<div class=\"fmetarow\">\n",
       "    <div class=\"fmetakey\">dateWritten:</div>\n",
       "    <div>2022-02-06T11:48:50Z</div>\n",
       "</div>\n",
       "\n",
       "<div class=\"fmetarow\">\n",
       "    <div class=\"fmetakey\">editor:</div>\n",
       "    <div>Cale Johnson et al.</div>\n",
       "</div>\n",
       "\n",
       "<div class=\"fmetarow\">\n",
       "    <div class=\"fmetakey\">name:</div>\n",
       "    <div>NinMed Medical Texts from Nineveh</div>\n",
       "</div>\n",
       "\n",
       "<div class=\"fmetarow\">\n",
       "    <div class=\"fmetakey\">project:</div>\n",
       "    <div>BabMed</div>\n",
       "</div>\n",
       "\n",
       "<div class=\"fmetarow\">\n",
       "    <div class=\"fmetakey\">writtenBy:</div>\n",
       "    <div>Text-Fabric</div>\n",
       "</div>\n",
       "\n",
       "        </div>\n",
       "    </details>\n",
       "</div>\n",
       "\n",
       "<div class=\"frow\">\n",
       "    <div class=\"fnamecat \">\n",
       "<a target=\"_blank\" href=\"https://github.com/Nino-cunei/ninmed/blob/master/docs/transcription.md\" title=\"~/github/Nino-cunei/ninmed/tf/0.1/primecol.tf\">primecol</a>\n",
       "</div>\n",
       "<div class=\"fmono\">int</div>\n",
       "<details>\n",
       "    <summary>whether a prime is present on a column number</summary>\n",
       "    <div class=\"fmeta\">\n",
       "\n",
       "<div class=\"fmetarow\">\n",
       "    <div class=\"fmetakey\">converters:</div>\n",
       "    <div>Cale Johnson, Dirk Roorda</div>\n",
       "</div>\n",
       "\n",
       "<div class=\"fmetarow\">\n",
       "    <div class=\"fmetakey\">dateWritten:</div>\n",
       "    <div>2022-02-06T11:48:50Z</div>\n",
       "</div>\n",
       "\n",
       "<div class=\"fmetarow\">\n",
       "    <div class=\"fmetakey\">editor:</div>\n",
       "    <div>Cale Johnson et al.</div>\n",
       "</div>\n",
       "\n",
       "<div class=\"fmetarow\">\n",
       "    <div class=\"fmetakey\">name:</div>\n",
       "    <div>NinMed Medical Texts from Nineveh</div>\n",
       "</div>\n",
       "\n",
       "<div class=\"fmetarow\">\n",
       "    <div class=\"fmetakey\">project:</div>\n",
       "    <div>BabMed</div>\n",
       "</div>\n",
       "\n",
       "<div class=\"fmetarow\">\n",
       "    <div class=\"fmetakey\">writtenBy:</div>\n",
       "    <div>Text-Fabric</div>\n",
       "</div>\n",
       "\n",
       "        </div>\n",
       "    </details>\n",
       "</div>\n",
       "\n",
       "<div class=\"frow\">\n",
       "    <div class=\"fnamecat \">\n",
       "<a target=\"_blank\" href=\"https://github.com/Nino-cunei/ninmed/blob/master/docs/transcription.md\" title=\"~/github/Nino-cunei/ninmed/tf/0.1/primeln.tf\">primeln</a>\n",
       "</div>\n",
       "<div class=\"fmono\">int</div>\n",
       "<details>\n",
       "    <summary>whether a prime is present on a line number</summary>\n",
       "    <div class=\"fmeta\">\n",
       "\n",
       "<div class=\"fmetarow\">\n",
       "    <div class=\"fmetakey\">converters:</div>\n",
       "    <div>Cale Johnson, Dirk Roorda</div>\n",
       "</div>\n",
       "\n",
       "<div class=\"fmetarow\">\n",
       "    <div class=\"fmetakey\">dateWritten:</div>\n",
       "    <div>2022-02-06T11:48:50Z</div>\n",
       "</div>\n",
       "\n",
       "<div class=\"fmetarow\">\n",
       "    <div class=\"fmetakey\">editor:</div>\n",
       "    <div>Cale Johnson et al.</div>\n",
       "</div>\n",
       "\n",
       "<div class=\"fmetarow\">\n",
       "    <div class=\"fmetakey\">name:</div>\n",
       "    <div>NinMed Medical Texts from Nineveh</div>\n",
       "</div>\n",
       "\n",
       "<div class=\"fmetarow\">\n",
       "    <div class=\"fmetakey\">project:</div>\n",
       "    <div>BabMed</div>\n",
       "</div>\n",
       "\n",
       "<div class=\"fmetarow\">\n",
       "    <div class=\"fmetakey\">writtenBy:</div>\n",
       "    <div>Text-Fabric</div>\n",
       "</div>\n",
       "\n",
       "        </div>\n",
       "    </details>\n",
       "</div>\n",
       "\n",
       "<div class=\"frow\">\n",
       "    <div class=\"fnamecat \">\n",
       "<a target=\"_blank\" href=\"https://github.com/Nino-cunei/ninmed/blob/master/docs/transcription.md\" title=\"~/github/Nino-cunei/ninmed/tf/0.1/publication.tf\">publication</a>\n",
       "</div>\n",
       "<div class=\"fmono\">str</div>\n",
       "<details>\n",
       "    <summary>publication info from metadata field \"publication\"</summary>\n",
       "    <div class=\"fmeta\">\n",
       "\n",
       "<div class=\"fmetarow\">\n",
       "    <div class=\"fmetakey\">converters:</div>\n",
       "    <div>Cale Johnson, Dirk Roorda</div>\n",
       "</div>\n",
       "\n",
       "<div class=\"fmetarow\">\n",
       "    <div class=\"fmetakey\">dateWritten:</div>\n",
       "    <div>2022-02-06T11:48:50Z</div>\n",
       "</div>\n",
       "\n",
       "<div class=\"fmetarow\">\n",
       "    <div class=\"fmetakey\">editor:</div>\n",
       "    <div>Cale Johnson et al.</div>\n",
       "</div>\n",
       "\n",
       "<div class=\"fmetarow\">\n",
       "    <div class=\"fmetakey\">name:</div>\n",
       "    <div>NinMed Medical Texts from Nineveh</div>\n",
       "</div>\n",
       "\n",
       "<div class=\"fmetarow\">\n",
       "    <div class=\"fmetakey\">project:</div>\n",
       "    <div>BabMed</div>\n",
       "</div>\n",
       "\n",
       "<div class=\"fmetarow\">\n",
       "    <div class=\"fmetakey\">writtenBy:</div>\n",
       "    <div>Text-Fabric</div>\n",
       "</div>\n",
       "\n",
       "        </div>\n",
       "    </details>\n",
       "</div>\n",
       "\n",
       "<div class=\"frow\">\n",
       "    <div class=\"fnamecat \">\n",
       "<a target=\"_blank\" href=\"https://github.com/Nino-cunei/ninmed/blob/master/docs/transcription.md\" title=\"~/github/Nino-cunei/ninmed/tf/0.1/question.tf\">question</a>\n",
       "</div>\n",
       "<div class=\"fmono\">int</div>\n",
       "<details>\n",
       "    <summary>whether a sign has the question flag (?)</summary>\n",
       "    <div class=\"fmeta\">\n",
       "\n",
       "<div class=\"fmetarow\">\n",
       "    <div class=\"fmetakey\">converters:</div>\n",
       "    <div>Cale Johnson, Dirk Roorda</div>\n",
       "</div>\n",
       "\n",
       "<div class=\"fmetarow\">\n",
       "    <div class=\"fmetakey\">dateWritten:</div>\n",
       "    <div>2022-02-06T11:48:50Z</div>\n",
       "</div>\n",
       "\n",
       "<div class=\"fmetarow\">\n",
       "    <div class=\"fmetakey\">editor:</div>\n",
       "    <div>Cale Johnson et al.</div>\n",
       "</div>\n",
       "\n",
       "<div class=\"fmetarow\">\n",
       "    <div class=\"fmetakey\">name:</div>\n",
       "    <div>NinMed Medical Texts from Nineveh</div>\n",
       "</div>\n",
       "\n",
       "<div class=\"fmetarow\">\n",
       "    <div class=\"fmetakey\">project:</div>\n",
       "    <div>BabMed</div>\n",
       "</div>\n",
       "\n",
       "<div class=\"fmetarow\">\n",
       "    <div class=\"fmetakey\">writtenBy:</div>\n",
       "    <div>Text-Fabric</div>\n",
       "</div>\n",
       "\n",
       "        </div>\n",
       "    </details>\n",
       "</div>\n",
       "\n",
       "<div class=\"frow\">\n",
       "    <div class=\"fnamecat \">\n",
       "<a target=\"_blank\" href=\"https://github.com/Nino-cunei/ninmed/blob/master/docs/transcription.md\" title=\"~/github/Nino-cunei/ninmed/tf/0.1/reading.tf\">reading</a>\n",
       "</div>\n",
       "<div class=\"fmono\">str</div>\n",
       "<details>\n",
       "    <summary>reading of a sign</summary>\n",
       "    <div class=\"fmeta\">\n",
       "\n",
       "<div class=\"fmetarow\">\n",
       "    <div class=\"fmetakey\">converters:</div>\n",
       "    <div>Cale Johnson, Dirk Roorda</div>\n",
       "</div>\n",
       "\n",
       "<div class=\"fmetarow\">\n",
       "    <div class=\"fmetakey\">dateWritten:</div>\n",
       "    <div>2022-02-06T11:48:50Z</div>\n",
       "</div>\n",
       "\n",
       "<div class=\"fmetarow\">\n",
       "    <div class=\"fmetakey\">editor:</div>\n",
       "    <div>Cale Johnson et al.</div>\n",
       "</div>\n",
       "\n",
       "<div class=\"fmetarow\">\n",
       "    <div class=\"fmetakey\">name:</div>\n",
       "    <div>NinMed Medical Texts from Nineveh</div>\n",
       "</div>\n",
       "\n",
       "<div class=\"fmetarow\">\n",
       "    <div class=\"fmetakey\">project:</div>\n",
       "    <div>BabMed</div>\n",
       "</div>\n",
       "\n",
       "<div class=\"fmetarow\">\n",
       "    <div class=\"fmetakey\">writtenBy:</div>\n",
       "    <div>Text-Fabric</div>\n",
       "</div>\n",
       "\n",
       "        </div>\n",
       "    </details>\n",
       "</div>\n",
       "\n",
       "<div class=\"frow\">\n",
       "    <div class=\"fnamecat \">\n",
       "<a target=\"_blank\" href=\"https://github.com/Nino-cunei/ninmed/blob/master/docs/transcription.md\" title=\"~/github/Nino-cunei/ninmed/tf/0.1/remarkable.tf\">remarkable</a>\n",
       "</div>\n",
       "<div class=\"fmono\">int</div>\n",
       "<details>\n",
       "    <summary>whether a sign is remarkable (!)</summary>\n",
       "    <div class=\"fmeta\">\n",
       "\n",
       "<div class=\"fmetarow\">\n",
       "    <div class=\"fmetakey\">converters:</div>\n",
       "    <div>Cale Johnson, Dirk Roorda</div>\n",
       "</div>\n",
       "\n",
       "<div class=\"fmetarow\">\n",
       "    <div class=\"fmetakey\">dateWritten:</div>\n",
       "    <div>2022-02-06T11:48:50Z</div>\n",
       "</div>\n",
       "\n",
       "<div class=\"fmetarow\">\n",
       "    <div class=\"fmetakey\">editor:</div>\n",
       "    <div>Cale Johnson et al.</div>\n",
       "</div>\n",
       "\n",
       "<div class=\"fmetarow\">\n",
       "    <div class=\"fmetakey\">name:</div>\n",
       "    <div>NinMed Medical Texts from Nineveh</div>\n",
       "</div>\n",
       "\n",
       "<div class=\"fmetarow\">\n",
       "    <div class=\"fmetakey\">project:</div>\n",
       "    <div>BabMed</div>\n",
       "</div>\n",
       "\n",
       "<div class=\"fmetarow\">\n",
       "    <div class=\"fmetakey\">writtenBy:</div>\n",
       "    <div>Text-Fabric</div>\n",
       "</div>\n",
       "\n",
       "        </div>\n",
       "    </details>\n",
       "</div>\n",
       "\n",
       "<div class=\"frow\">\n",
       "    <div class=\"fnamecat \">\n",
       "<a target=\"_blank\" href=\"https://github.com/Nino-cunei/ninmed/blob/master/docs/transcription.md\" title=\"~/github/Nino-cunei/ninmed/tf/0.1/ruling.tf\">ruling</a>\n",
       "</div>\n",
       "<div class=\"fmono\">str</div>\n",
       "<details>\n",
       "    <summary>ruling comment to a line</summary>\n",
       "    <div class=\"fmeta\">\n",
       "\n",
       "<div class=\"fmetarow\">\n",
       "    <div class=\"fmetakey\">converters:</div>\n",
       "    <div>Cale Johnson, Dirk Roorda</div>\n",
       "</div>\n",
       "\n",
       "<div class=\"fmetarow\">\n",
       "    <div class=\"fmetakey\">dateWritten:</div>\n",
       "    <div>2022-02-06T11:48:50Z</div>\n",
       "</div>\n",
       "\n",
       "<div class=\"fmetarow\">\n",
       "    <div class=\"fmetakey\">editor:</div>\n",
       "    <div>Cale Johnson et al.</div>\n",
       "</div>\n",
       "\n",
       "<div class=\"fmetarow\">\n",
       "    <div class=\"fmetakey\">name:</div>\n",
       "    <div>NinMed Medical Texts from Nineveh</div>\n",
       "</div>\n",
       "\n",
       "<div class=\"fmetarow\">\n",
       "    <div class=\"fmetakey\">project:</div>\n",
       "    <div>BabMed</div>\n",
       "</div>\n",
       "\n",
       "<div class=\"fmetarow\">\n",
       "    <div class=\"fmetakey\">writtenBy:</div>\n",
       "    <div>Text-Fabric</div>\n",
       "</div>\n",
       "\n",
       "        </div>\n",
       "    </details>\n",
       "</div>\n",
       "\n",
       "<div class=\"frow\">\n",
       "    <div class=\"fnamecat \">\n",
       "<a target=\"_blank\" href=\"https://github.com/Nino-cunei/ninmed/blob/master/docs/transcription.md\" title=\"~/github/Nino-cunei/ninmed/tf/0.1/seal.tf\">seal</a>\n",
       "</div>\n",
       "<div class=\"fmono\">str</div>\n",
       "<details>\n",
       "    <summary>seal comment to a line</summary>\n",
       "    <div class=\"fmeta\">\n",
       "\n",
       "<div class=\"fmetarow\">\n",
       "    <div class=\"fmetakey\">converters:</div>\n",
       "    <div>Cale Johnson, Dirk Roorda</div>\n",
       "</div>\n",
       "\n",
       "<div class=\"fmetarow\">\n",
       "    <div class=\"fmetakey\">dateWritten:</div>\n",
       "    <div>2022-02-06T11:48:50Z</div>\n",
       "</div>\n",
       "\n",
       "<div class=\"fmetarow\">\n",
       "    <div class=\"fmetakey\">editor:</div>\n",
       "    <div>Cale Johnson et al.</div>\n",
       "</div>\n",
       "\n",
       "<div class=\"fmetarow\">\n",
       "    <div class=\"fmetakey\">name:</div>\n",
       "    <div>NinMed Medical Texts from Nineveh</div>\n",
       "</div>\n",
       "\n",
       "<div class=\"fmetarow\">\n",
       "    <div class=\"fmetakey\">project:</div>\n",
       "    <div>BabMed</div>\n",
       "</div>\n",
       "\n",
       "<div class=\"fmetarow\">\n",
       "    <div class=\"fmetakey\">writtenBy:</div>\n",
       "    <div>Text-Fabric</div>\n",
       "</div>\n",
       "\n",
       "        </div>\n",
       "    </details>\n",
       "</div>\n",
       "\n",
       "<div class=\"frow\">\n",
       "    <div class=\"fnamecat \">\n",
       "<a target=\"_blank\" href=\"https://github.com/Nino-cunei/ninmed/blob/master/docs/transcription.md\" title=\"~/github/Nino-cunei/ninmed/tf/0.1/supplied.tf\">supplied</a>\n",
       "</div>\n",
       "<div class=\"fmono\">int</div>\n",
       "<details>\n",
       "    <summary>whether a sign is supplied - between < ></summary>\n",
       "    <div class=\"fmeta\">\n",
       "\n",
       "<div class=\"fmetarow\">\n",
       "    <div class=\"fmetakey\">converters:</div>\n",
       "    <div>Cale Johnson, Dirk Roorda</div>\n",
       "</div>\n",
       "\n",
       "<div class=\"fmetarow\">\n",
       "    <div class=\"fmetakey\">dateWritten:</div>\n",
       "    <div>2022-02-06T11:48:50Z</div>\n",
       "</div>\n",
       "\n",
       "<div class=\"fmetarow\">\n",
       "    <div class=\"fmetakey\">editor:</div>\n",
       "    <div>Cale Johnson et al.</div>\n",
       "</div>\n",
       "\n",
       "<div class=\"fmetarow\">\n",
       "    <div class=\"fmetakey\">name:</div>\n",
       "    <div>NinMed Medical Texts from Nineveh</div>\n",
       "</div>\n",
       "\n",
       "<div class=\"fmetarow\">\n",
       "    <div class=\"fmetakey\">project:</div>\n",
       "    <div>BabMed</div>\n",
       "</div>\n",
       "\n",
       "<div class=\"fmetarow\">\n",
       "    <div class=\"fmetakey\">writtenBy:</div>\n",
       "    <div>Text-Fabric</div>\n",
       "</div>\n",
       "\n",
       "        </div>\n",
       "    </details>\n",
       "</div>\n",
       "\n",
       "<div class=\"frow\">\n",
       "    <div class=\"fnamecat \">\n",
       "<a target=\"_blank\" href=\"https://github.com/Nino-cunei/ninmed/blob/master/docs/transcription.md\" title=\"~/github/Nino-cunei/ninmed/tf/0.1/sym.tf\">sym</a>\n",
       "</div>\n",
       "<div class=\"fmono\">str</div>\n",
       "<details>\n",
       "    <summary>essential part of a sign or of a word</summary>\n",
       "    <div class=\"fmeta\">\n",
       "\n",
       "<div class=\"fmetarow\">\n",
       "    <div class=\"fmetakey\">converters:</div>\n",
       "    <div>Cale Johnson, Dirk Roorda</div>\n",
       "</div>\n",
       "\n",
       "<div class=\"fmetarow\">\n",
       "    <div class=\"fmetakey\">dateWritten:</div>\n",
       "    <div>2022-02-06T11:48:50Z</div>\n",
       "</div>\n",
       "\n",
       "<div class=\"fmetarow\">\n",
       "    <div class=\"fmetakey\">editor:</div>\n",
       "    <div>Cale Johnson et al.</div>\n",
       "</div>\n",
       "\n",
       "<div class=\"fmetarow\">\n",
       "    <div class=\"fmetakey\">name:</div>\n",
       "    <div>NinMed Medical Texts from Nineveh</div>\n",
       "</div>\n",
       "\n",
       "<div class=\"fmetarow\">\n",
       "    <div class=\"fmetakey\">project:</div>\n",
       "    <div>BabMed</div>\n",
       "</div>\n",
       "\n",
       "<div class=\"fmetarow\">\n",
       "    <div class=\"fmetakey\">writtenBy:</div>\n",
       "    <div>Text-Fabric</div>\n",
       "</div>\n",
       "\n",
       "        </div>\n",
       "    </details>\n",
       "</div>\n",
       "\n",
       "<div class=\"frow\">\n",
       "    <div class=\"fnamecat \">\n",
       "<a target=\"_blank\" href=\"https://github.com/Nino-cunei/ninmed/blob/master/docs/transcription.md\" title=\"~/github/Nino-cunei/ninmed/tf/0.1/tr@en.tf\">tr@ll</a>\n",
       "</div>\n",
       "<div class=\"fmono\">str</div>\n",
       "<details>\n",
       "    <summary>english translation of a line</summary>\n",
       "    <div class=\"fmeta\">\n",
       "\n",
       "<div class=\"fmetarow\">\n",
       "    <div class=\"fmetakey\">converters:</div>\n",
       "    <div>Cale Johnson, Dirk Roorda</div>\n",
       "</div>\n",
       "\n",
       "<div class=\"fmetarow\">\n",
       "    <div class=\"fmetakey\">dateWritten:</div>\n",
       "    <div>2022-02-06T11:48:51Z</div>\n",
       "</div>\n",
       "\n",
       "<div class=\"fmetarow\">\n",
       "    <div class=\"fmetakey\">editor:</div>\n",
       "    <div>Cale Johnson et al.</div>\n",
       "</div>\n",
       "\n",
       "<div class=\"fmetarow\">\n",
       "    <div class=\"fmetakey\">name:</div>\n",
       "    <div>NinMed Medical Texts from Nineveh</div>\n",
       "</div>\n",
       "\n",
       "<div class=\"fmetarow\">\n",
       "    <div class=\"fmetakey\">project:</div>\n",
       "    <div>BabMed</div>\n",
       "</div>\n",
       "\n",
       "<div class=\"fmetarow\">\n",
       "    <div class=\"fmetakey\">writtenBy:</div>\n",
       "    <div>Text-Fabric</div>\n",
       "</div>\n",
       "\n",
       "        </div>\n",
       "    </details>\n",
       "</div>\n",
       "\n",
       "<div class=\"frow\">\n",
       "    <div class=\"fnamecat \">\n",
       "<a target=\"_blank\" href=\"https://github.com/Nino-cunei/ninmed/blob/master/docs/transcription.md\" title=\"~/github/Nino-cunei/ninmed/tf/0.1/trans.tf\">trans</a>\n",
       "</div>\n",
       "<div class=\"fmono\">int</div>\n",
       "<details>\n",
       "    <summary>whether a line has a translation</summary>\n",
       "    <div class=\"fmeta\">\n",
       "\n",
       "<div class=\"fmetarow\">\n",
       "    <div class=\"fmetakey\">converters:</div>\n",
       "    <div>Cale Johnson, Dirk Roorda</div>\n",
       "</div>\n",
       "\n",
       "<div class=\"fmetarow\">\n",
       "    <div class=\"fmetakey\">dateWritten:</div>\n",
       "    <div>2022-02-06T11:48:51Z</div>\n",
       "</div>\n",
       "\n",
       "<div class=\"fmetarow\">\n",
       "    <div class=\"fmetakey\">editor:</div>\n",
       "    <div>Cale Johnson et al.</div>\n",
       "</div>\n",
       "\n",
       "<div class=\"fmetarow\">\n",
       "    <div class=\"fmetakey\">name:</div>\n",
       "    <div>NinMed Medical Texts from Nineveh</div>\n",
       "</div>\n",
       "\n",
       "<div class=\"fmetarow\">\n",
       "    <div class=\"fmetakey\">project:</div>\n",
       "    <div>BabMed</div>\n",
       "</div>\n",
       "\n",
       "<div class=\"fmetarow\">\n",
       "    <div class=\"fmetakey\">writtenBy:</div>\n",
       "    <div>Text-Fabric</div>\n",
       "</div>\n",
       "\n",
       "        </div>\n",
       "    </details>\n",
       "</div>\n",
       "\n",
       "<div class=\"frow\">\n",
       "    <div class=\"fnamecat \">\n",
       "<a target=\"_blank\" href=\"https://github.com/Nino-cunei/ninmed/blob/master/docs/transcription.md\" title=\"~/github/Nino-cunei/ninmed/tf/0.1/type.tf\">type</a>\n",
       "</div>\n",
       "<div class=\"fmono\">str</div>\n",
       "<details>\n",
       "    <summary>name of a type of cluster or kind of sign</summary>\n",
       "    <div class=\"fmeta\">\n",
       "\n",
       "<div class=\"fmetarow\">\n",
       "    <div class=\"fmetakey\">converters:</div>\n",
       "    <div>Cale Johnson, Dirk Roorda</div>\n",
       "</div>\n",
       "\n",
       "<div class=\"fmetarow\">\n",
       "    <div class=\"fmetakey\">dateWritten:</div>\n",
       "    <div>2022-02-06T11:48:51Z</div>\n",
       "</div>\n",
       "\n",
       "<div class=\"fmetarow\">\n",
       "    <div class=\"fmetakey\">editor:</div>\n",
       "    <div>Cale Johnson et al.</div>\n",
       "</div>\n",
       "\n",
       "<div class=\"fmetarow\">\n",
       "    <div class=\"fmetakey\">name:</div>\n",
       "    <div>NinMed Medical Texts from Nineveh</div>\n",
       "</div>\n",
       "\n",
       "<div class=\"fmetarow\">\n",
       "    <div class=\"fmetakey\">project:</div>\n",
       "    <div>BabMed</div>\n",
       "</div>\n",
       "\n",
       "<div class=\"fmetarow\">\n",
       "    <div class=\"fmetakey\">writtenBy:</div>\n",
       "    <div>Text-Fabric</div>\n",
       "</div>\n",
       "\n",
       "        </div>\n",
       "    </details>\n",
       "</div>\n",
       "\n",
       "<div class=\"frow\">\n",
       "    <div class=\"fnamecat \">\n",
       "<a target=\"_blank\" href=\"https://github.com/Nino-cunei/ninmed/blob/master/docs/transcription.md\" title=\"~/github/Nino-cunei/ninmed/tf/0.1/uncertain.tf\">uncertain</a>\n",
       "</div>\n",
       "<div class=\"fmono\">int</div>\n",
       "<details>\n",
       "    <summary>whether a sign is uncertain - between ( )</summary>\n",
       "    <div class=\"fmeta\">\n",
       "\n",
       "<div class=\"fmetarow\">\n",
       "    <div class=\"fmetakey\">converters:</div>\n",
       "    <div>Cale Johnson, Dirk Roorda</div>\n",
       "</div>\n",
       "\n",
       "<div class=\"fmetarow\">\n",
       "    <div class=\"fmetakey\">dateWritten:</div>\n",
       "    <div>2022-02-06T11:48:51Z</div>\n",
       "</div>\n",
       "\n",
       "<div class=\"fmetarow\">\n",
       "    <div class=\"fmetakey\">editor:</div>\n",
       "    <div>Cale Johnson et al.</div>\n",
       "</div>\n",
       "\n",
       "<div class=\"fmetarow\">\n",
       "    <div class=\"fmetakey\">name:</div>\n",
       "    <div>NinMed Medical Texts from Nineveh</div>\n",
       "</div>\n",
       "\n",
       "<div class=\"fmetarow\">\n",
       "    <div class=\"fmetakey\">project:</div>\n",
       "    <div>BabMed</div>\n",
       "</div>\n",
       "\n",
       "<div class=\"fmetarow\">\n",
       "    <div class=\"fmetakey\">writtenBy:</div>\n",
       "    <div>Text-Fabric</div>\n",
       "</div>\n",
       "\n",
       "        </div>\n",
       "    </details>\n",
       "</div>\n",
       "\n",
       "<div class=\"frow\">\n",
       "    <div class=\"fnamecat \">\n",
       "<a target=\"_blank\" href=\"https://github.com/Nino-cunei/ninmed/blob/master/docs/transcription.md\" title=\"~/github/Nino-cunei/ninmed/tf/0.1/variant.tf\">variant</a>\n",
       "</div>\n",
       "<div class=\"fmono\">int</div>\n",
       "<details>\n",
       "    <summary>if sign is part of a variant pair, this is the sequence number of the variant (1 or 2)</summary>\n",
       "    <div class=\"fmeta\">\n",
       "\n",
       "<div class=\"fmetarow\">\n",
       "    <div class=\"fmetakey\">converters:</div>\n",
       "    <div>Cale Johnson, Dirk Roorda</div>\n",
       "</div>\n",
       "\n",
       "<div class=\"fmetarow\">\n",
       "    <div class=\"fmetakey\">dateWritten:</div>\n",
       "    <div>2022-02-06T11:48:51Z</div>\n",
       "</div>\n",
       "\n",
       "<div class=\"fmetarow\">\n",
       "    <div class=\"fmetakey\">editor:</div>\n",
       "    <div>Cale Johnson et al.</div>\n",
       "</div>\n",
       "\n",
       "<div class=\"fmetarow\">\n",
       "    <div class=\"fmetakey\">name:</div>\n",
       "    <div>NinMed Medical Texts from Nineveh</div>\n",
       "</div>\n",
       "\n",
       "<div class=\"fmetarow\">\n",
       "    <div class=\"fmetakey\">project:</div>\n",
       "    <div>BabMed</div>\n",
       "</div>\n",
       "\n",
       "<div class=\"fmetarow\">\n",
       "    <div class=\"fmetakey\">writtenBy:</div>\n",
       "    <div>Text-Fabric</div>\n",
       "</div>\n",
       "\n",
       "        </div>\n",
       "    </details>\n",
       "</div>\n",
       "\n",
       "<div class=\"frow\">\n",
       "    <div class=\"fnamecat edge\">\n",
       "<a target=\"_blank\" href=\"https://github.com/Nino-cunei/ninmed/blob/master/docs/transcription.md\" title=\"~/github/Nino-cunei/ninmed/tf/0.1/oslots.tf\">oslots</a>\n",
       "</div>\n",
       "<div class=\"fmono\">none</div>\n",
       "<details>\n",
       "    <summary></summary>\n",
       "    <div class=\"fmeta\">\n",
       "\n",
       "<div class=\"fmetarow\">\n",
       "    <div class=\"fmetakey\">converters:</div>\n",
       "    <div>Cale Johnson, Dirk Roorda</div>\n",
       "</div>\n",
       "\n",
       "<div class=\"fmetarow\">\n",
       "    <div class=\"fmetakey\">dateWritten:</div>\n",
       "    <div>2022-02-06T11:48:51Z</div>\n",
       "</div>\n",
       "\n",
       "<div class=\"fmetarow\">\n",
       "    <div class=\"fmetakey\">editor:</div>\n",
       "    <div>Cale Johnson et al.</div>\n",
       "</div>\n",
       "\n",
       "<div class=\"fmetarow\">\n",
       "    <div class=\"fmetakey\">name:</div>\n",
       "    <div>NinMed Medical Texts from Nineveh</div>\n",
       "</div>\n",
       "\n",
       "<div class=\"fmetarow\">\n",
       "    <div class=\"fmetakey\">project:</div>\n",
       "    <div>BabMed</div>\n",
       "</div>\n",
       "\n",
       "<div class=\"fmetarow\">\n",
       "    <div class=\"fmetakey\">writtenBy:</div>\n",
       "    <div>Text-Fabric</div>\n",
       "</div>\n",
       "\n",
       "        </div>\n",
       "    </details>\n",
       "</div>\n",
       "\n",
       "    </div>\n",
       "</details>\n"
      ],
      "text/plain": [
       "<IPython.core.display.HTML object>"
      ]
     },
     "metadata": {},
     "output_type": "display_data"
    },
    {
     "data": {
      "text/html": [
       "<style>tr.tf.ltr, td.tf.ltr, th.tf.ltr { text-align: left ! important;}\n",
       "tr.tf.rtl, td.tf.rtl, th.tf.rtl { text-align: right ! important;}\n",
       "@font-face {\n",
       "  font-family: \"Gentium Plus\";\n",
       "  src: local('Gentium Plus'), local('GentiumPlus'),\n",
       "    url('/server/static/fonts/GentiumPlus-R.woff') format('woff'),\n",
       "    url('https://github.com/annotation/text-fabric/blob/master/tf/server/static/fonts/GentiumPlus-R.woff?raw=true') format('woff');\n",
       "}\n",
       "\n",
       "@font-face {\n",
       "  font-family: \"Ezra SIL\";\n",
       "  src: local('Ezra SIL'), local('EzraSIL'),\n",
       "    url('/server/static/fonts/SILEOT.woff') format('woff'),\n",
       "    url('https://github.com/annotation/text-fabric/blob/master/tf/server/static/fonts/SILEOT.woff?raw=true') format('woff');\n",
       "}\n",
       "\n",
       "@font-face {\n",
       "  font-family: \"SBL Hebrew\";\n",
       "  src: local('SBL Hebrew'), local('SBLHebrew'),\n",
       "    url('/server/static/fonts/SBL_Hbrw.woff') format('woff'),\n",
       "    url('https://github.com/annotation/text-fabric/blob/master/tf/server/static/fonts/SBL_Hbrw.woff?raw=true') format('woff');\n",
       "}\n",
       "\n",
       "@font-face {\n",
       "  font-family: \"Estrangelo Edessa\";\n",
       "  src: local('Estrangelo Edessa'), local('EstrangeloEdessa');\n",
       "    url('/server/static/fonts/SyrCOMEdessa.woff') format('woff'),\n",
       "    url('https://github.com/annotation/text-fabric/blob/master/tf/server/static/fonts/SyrCOMEdessa.woff?raw=true') format('woff');\n",
       "}\n",
       "\n",
       "@font-face {\n",
       "  font-family: AmiriQuran;\n",
       "  font-style: normal;\n",
       "  font-weight: 400;\n",
       "  src: local('Amiri Quran'), local('AmiriQuran'),\n",
       "    url('/server/static/fonts/AmiriQuran.woff') format('woff'),\n",
       "    url('https://github.com/annotation/text-fabric/blob/master/tf/server/static/fonts/AmiriQuran.woff?raw=true') format('woff');\n",
       "}\n",
       "\n",
       "@font-face {\n",
       "  font-family: AmiriQuranColored;\n",
       "  font-style: normal;\n",
       "  font-weight: 400;\n",
       "  src: local('Amiri Quran Colored'), local('AmiriQuranColored'),\n",
       "    url('/server/static/fonts/AmiriQuranColored.woff') format('woff'),\n",
       "    url('https://github.com/annotation/text-fabric/blob/master/tf/server/static/fonts/AmiriQuranColored.woff?raw=true') format('woff');\n",
       "}\n",
       "\n",
       "@font-face {\n",
       "  font-family: \"Santakku\";\n",
       "  src: local('Santakku'),\n",
       "    url('/server/static/fonts/Santakku.woff') format('woff'),\n",
       "    url('https://github.com/annotation/text-fabric/blob/master/tf/server/static/fonts/Santakku.woff?raw=true') format('woff');\n",
       "}\n",
       "\n",
       "@font-face {\n",
       "  font-family: \"SantakkuM\";\n",
       "  src: local('SantakkuM'),\n",
       "    url('/server/static/fonts/SantakkuM.woff') format('woff'),\n",
       "    url('https://github.com/annotation/text-fabric/blob/master/tf/server/static/fonts/SantakkuM.woff?raw=true') format('woff');\n",
       "}\n",
       "/* bypassing some classical notebook settings */\n",
       "div#notebook {\n",
       "  line-height: unset;\n",
       "}\n",
       "/* neutral text */\n",
       ".txtn,.txtn a:visited,.txtn a:link {\n",
       "    font-family: sans-serif;\n",
       "    font-size: medium;\n",
       "    direction: ltr;\n",
       "    unicode-bidi: embed;\n",
       "    text-decoration: none;\n",
       "    color: var(--text-color);\n",
       "}\n",
       "/* transcription text */\n",
       ".txtt,.txtt a:visited,.txtt a:link {\n",
       "    font-family: monospace;\n",
       "    font-size: medium;\n",
       "    direction: ltr;\n",
       "    unicode-bidi: embed;\n",
       "    text-decoration: none;\n",
       "    color: var(--text-color);\n",
       "}\n",
       "/* source text */\n",
       ".txto,.txto a:visited,.txto a:link {\n",
       "    font-family: serif;\n",
       "    font-size: medium;\n",
       "    direction: ltr;\n",
       "    unicode-bidi: embed;\n",
       "    text-decoration: none;\n",
       "    color: var(--text-color);\n",
       "}\n",
       "/* phonetic text */\n",
       ".txtp,.txtp a:visited,.txtp a:link {\n",
       "    font-family: Gentium, sans-serif;\n",
       "    font-size: medium;\n",
       "    direction: ltr;\n",
       "    unicode-bidi: embed;\n",
       "    text-decoration: none;\n",
       "    color: var(--text-color);\n",
       "}\n",
       "/* original script text */\n",
       ".txtu,.txtu a:visited,.txtu a:link {\n",
       "    font-family: Gentium, sans-serif;\n",
       "    font-size: medium;\n",
       "    text-decoration: none;\n",
       "    color: var(--text-color);\n",
       "}\n",
       "/* hebrew */\n",
       ".txtu.hbo,.lex.hbo {\n",
       "    font-family: \"Ezra SIL\", \"SBL Hebrew\", sans-serif;\n",
       "    font-size: large;\n",
       "    direction: rtl ! important;\n",
       "    unicode-bidi: embed;\n",
       "}\n",
       "/* syriac */\n",
       ".txtu.syc,.lex.syc {\n",
       "    font-family: \"Estrangelo Edessa\", sans-serif;\n",
       "    font-size: medium;\n",
       "    direction: rtl ! important;\n",
       "    unicode-bidi: embed;\n",
       "}\n",
       "/* neo aramaic */\n",
       ".txtu.cld,.lex.cld {\n",
       "    font-family: \"CharisSIL-R\", sans-serif;\n",
       "    font-size: medium;\n",
       "    direction: ltr ! important;\n",
       "    unicode-bidi: embed;\n",
       "}\n",
       "/* standard arabic */\n",
       ".txtu.ara,.lex.ara {\n",
       "    font-family: \"AmiriQuran\", sans-serif;\n",
       "    font-size: large;\n",
       "    direction: rtl ! important;\n",
       "    unicode-bidi: embed;\n",
       "}\n",
       "/* cuneiform */\n",
       ".txtu.akk,.lex.akk {\n",
       "    font-family: Santakku, sans-serif;\n",
       "    font-size: large;\n",
       "    direction: ltr ! important;\n",
       "    unicode-bidi: embed;\n",
       "}\n",
       "/* greek */\n",
       ".txtu.grc,.lex.grc a:link {\n",
       "    font-family: Gentium, sans-serif;\n",
       "    font-size: medium;\n",
       "    direction: ltr ! important;\n",
       "    unicode-bidi: embed;\n",
       "}\n",
       "a:hover {\n",
       "    text-decoration: underline | important;\n",
       "    color: #0000ff | important;\n",
       "}\n",
       ".ltr {\n",
       "    direction: ltr ! important;\n",
       "    unicode-bidi: embed;\n",
       "}\n",
       ".rtl {\n",
       "    direction: rtl ! important;\n",
       "    unicode-bidi: embed;\n",
       "}\n",
       ".ubd {\n",
       "    unicode-bidi: embed;\n",
       "}\n",
       ".col {\n",
       "   display: inline-block;\n",
       "}\n",
       ".features {\n",
       "    font-family: monospace;\n",
       "    font-size: medium;\n",
       "    font-weight: bold;\n",
       "    color: var(--features);\n",
       "    display: flex;\n",
       "    flex-flow: column nowrap;\n",
       "    justify-content: flex-start;\n",
       "    align-items: flex-start;\n",
       "    align-content: flex-start;\n",
       "    padding: 2px;\n",
       "    margin: 2px;\n",
       "    direction: ltr;\n",
       "    unicode-bidi: embed;\n",
       "    border: var(--meta-width) solid var(--meta-color);\n",
       "    border-radius: var(--meta-width);\n",
       "}\n",
       ".features div,.features span {\n",
       "    padding: 0;\n",
       "    margin: -2px 0;\n",
       "}\n",
       ".features .f {\n",
       "    font-family: sans-serif;\n",
       "    font-size: small;\n",
       "    font-weight: normal;\n",
       "    color: #5555bb;\n",
       "}\n",
       ".features .xft {\n",
       "  color: #000000;\n",
       "  background-color: #eeeeee;\n",
       "  font-size: medium;\n",
       "  margin: 2px 0px;\n",
       "}\n",
       ".features .xft .f {\n",
       "  color: #000000;\n",
       "  background-color: #eeeeee;\n",
       "  font-size: small;\n",
       "  font-weight: normal;\n",
       "}\n",
       ".tfsechead {\n",
       "    font-family: sans-serif;\n",
       "    font-size: small;\n",
       "    font-weight: bold;\n",
       "    color: var(--tfsechead);\n",
       "    unicode-bidi: embed;\n",
       "    text-align: start;\n",
       "}\n",
       ".structure {\n",
       "    font-family: sans-serif;\n",
       "    font-size: small;\n",
       "    font-weight: bold;\n",
       "    color: var(--structure);\n",
       "    unicode-bidi: embed;\n",
       "    text-align: start;\n",
       "}\n",
       ".comments {\n",
       "    display: flex;\n",
       "    justify-content: flex-start;\n",
       "    align-items: flex-start;\n",
       "    align-content: flex-start;\n",
       "    flex-flow: column nowrap;\n",
       "}\n",
       ".nd, a:link.nd {\n",
       "    font-family: sans-serif;\n",
       "    font-size: small;\n",
       "    color: var(--node);\n",
       "    vertical-align: super;\n",
       "    direction: ltr ! important;\n",
       "    unicode-bidi: embed;\n",
       "}\n",
       ".lex {\n",
       "  color: var(--lex-color);;\n",
       "}\n",
       ".children,.children.ltr {\n",
       "    display: flex;\n",
       "    border: 0;\n",
       "    background-color: #ffffff;\n",
       "    justify-content: flex-start;\n",
       "    align-items: flex-start;\n",
       "    align-content: flex-start;\n",
       "}\n",
       ".children.stretch {\n",
       "    align-items: stretch;\n",
       "}\n",
       ".children.hor {\n",
       "    flex-flow: row nowrap;\n",
       "}\n",
       ".children.hor.wrap {\n",
       "    flex-flow: row wrap;\n",
       "}\n",
       ".children.ver {\n",
       "    flex-flow: column nowrap;\n",
       "}\n",
       ".children.ver.wrap {\n",
       "    flex-flow: column wrap;\n",
       "}\n",
       ".contnr {\n",
       "    width: fit-content;\n",
       "    display: flex;\n",
       "    justify-content: flex-start;\n",
       "    align-items: flex-start;\n",
       "    align-content: flex-start;\n",
       "    flex-flow: column nowrap;\n",
       "    background: #ffffff none repeat scroll 0 0;\n",
       "    padding:  10px 2px 2px 2px;\n",
       "    margin: 16px 2px 2px 2px;\n",
       "    border-style: solid;\n",
       "    font-size: small;\n",
       "}\n",
       ".contnr.trm {\n",
       "    background-attachment: local;\n",
       "}\n",
       ".contnr.cnul {\n",
       "    padding:  0;\n",
       "    margin: 0;\n",
       "    border-style: solid;\n",
       "    font-size: xx-small;\n",
       "}\n",
       ".contnr.cnul,.lbl.cnul {\n",
       "    border-color: var(--border-color-nul);\n",
       "    border-width: var(--border-width-nul);\n",
       "    border-radius: var(--border-width-nul);\n",
       "}\n",
       ".contnr.c0,.lbl.c0 {\n",
       "    border-color: var(--border-color0);\n",
       "    border-width: var(--border-width0);\n",
       "    border-radius: var(--border-width0);\n",
       "}\n",
       ".contnr.c1,.lbl.c1 {\n",
       "    border-color: var(--border-color1);\n",
       "    border-width: var(--border-width1);\n",
       "    border-radius: var(--border-width1);\n",
       "}\n",
       ".contnr.c2,.lbl.c2 {\n",
       "    border-color: var(--border-color2);\n",
       "    border-width: var(--border-width2);\n",
       "    border-radius: var(--border-width2);\n",
       "}\n",
       ".contnr.c3,.lbl.c3 {\n",
       "    border-color: var(--border-color3);\n",
       "    border-width: var(--border-width3);\n",
       "    border-radius: var(--border-width3);\n",
       "}\n",
       ".contnr.c4,.lbl.c4 {\n",
       "    border-color: var(--border-color4);\n",
       "    border-width: var(--border-width4);\n",
       "    border-radius: var(--border-width4);\n",
       "}\n",
       "span.plain {\n",
       "    display: inline-block;\n",
       "    white-space: pre-wrap;\n",
       "}\n",
       ".plain {\n",
       "    background-color: #ffffff;\n",
       "}\n",
       ".plain.l,.contnr.l,.contnr.l>.lbl {\n",
       "    border-left-style: dotted\n",
       "}\n",
       ".plain.r,.contnr.r,.contnr.r>.lbl {\n",
       "    border-right-style: dotted\n",
       "}\n",
       ".plain.lno,.contnr.lno,.contnr.lno>.lbl {\n",
       "    border-left-style: none\n",
       "}\n",
       ".plain.rno,.contnr.rno,.contnr.rno>.lbl {\n",
       "    border-right-style: none\n",
       "}\n",
       ".plain.l {\n",
       "    padding-left: 4px;\n",
       "    margin-left: 2px;\n",
       "    border-width: var(--border-width-plain);\n",
       "}\n",
       ".plain.r {\n",
       "    padding-right: 4px;\n",
       "    margin-right: 2px;\n",
       "    border-width: var(--border-width-plain);\n",
       "}\n",
       ".lbl {\n",
       "    font-family: monospace;\n",
       "    margin-top: -24px;\n",
       "    margin-left: 20px;\n",
       "    background: #ffffff none repeat scroll 0 0;\n",
       "    padding: 0 6px;\n",
       "    border-style: solid;\n",
       "    display: block;\n",
       "    color: var(--label)\n",
       "}\n",
       ".lbl.trm {\n",
       "    background-attachment: local;\n",
       "    margin-top: 2px;\n",
       "    margin-left: 2px;\n",
       "    padding: 2px 2px;\n",
       "    border-style: none;\n",
       "}\n",
       ".lbl.cnul {\n",
       "    font-size: xx-small;\n",
       "}\n",
       ".lbl.c0 {\n",
       "    font-size: small;\n",
       "}\n",
       ".lbl.c1 {\n",
       "    font-size: small;\n",
       "}\n",
       ".lbl.c2 {\n",
       "    font-size: medium;\n",
       "}\n",
       ".lbl.c3 {\n",
       "    font-size: medium;\n",
       "}\n",
       ".lbl.c4 {\n",
       "    font-size: large;\n",
       "}\n",
       ".occs, a:link.occs {\n",
       "    font-size: small;\n",
       "}\n",
       "\n",
       "/* PROVENANCE */\n",
       "\n",
       "div.prov {\n",
       "\tmargin: 40px;\n",
       "\tpadding: 20px;\n",
       "\tborder: 2px solid var(--fog-rim);\n",
       "}\n",
       "div.pline {\n",
       "\tdisplay: flex;\n",
       "\tflex-flow: row nowrap;\n",
       "\tjustify-content: stretch;\n",
       "\talign-items: baseline;\n",
       "}\n",
       "div.p2line {\n",
       "\tmargin-left: 2em;\n",
       "\tdisplay: flex;\n",
       "\tflex-flow: row nowrap;\n",
       "\tjustify-content: stretch;\n",
       "\talign-items: baseline;\n",
       "}\n",
       "div.psline {\n",
       "\tdisplay: flex;\n",
       "\tflex-flow: row nowrap;\n",
       "\tjustify-content: stretch;\n",
       "\talign-items: baseline;\n",
       "\tbackground-color: var(--gold-mist-back);\n",
       "}\n",
       "div.pname {\n",
       "\tflex: 0 0 5rem;\n",
       "\tfont-weight: bold;\n",
       "}\n",
       "div.pval {\n",
       "    flex: 1 1 auto;\n",
       "}\n",
       "\n",
       "/* KEYBOARD */\n",
       ".ccoff {\n",
       "  background-color: inherit;\n",
       "}\n",
       ".ccon {\n",
       "  background-color: yellow ! important;\n",
       "}\n",
       "/* TF header */\n",
       "\n",
       "summary {\n",
       "  /* needed to override the normalize.less\n",
       "   * in the classical jupyter notebook\n",
       "   */\n",
       "  display: list-item ! important;\n",
       "}\n",
       "\n",
       ".fcorpus {\n",
       "  display: flex;\n",
       "  flex-flow: column nowrap;\n",
       "  justify-content: flex-start;\n",
       "  align-items: flex-start;\n",
       "  align-content: flex-start;\n",
       "}\n",
       ".frow {\n",
       "  display: flex;\n",
       "  flex-flow: row nowrap;\n",
       "  justify-content: flex-start;\n",
       "  align-items: flex-start;\n",
       "  align-content: flex-start;\n",
       "}\n",
       ".fmeta {\n",
       "  display: flex;\n",
       "  flex-flow: column nowrap;\n",
       "  justify-content: flex-start;\n",
       "  align-items: flex-start;\n",
       "  align-content: flex-start;\n",
       "}\n",
       ".fmetarow {\n",
       "  display: flex;\n",
       "  flex-flow: row nowrap;\n",
       "  justify-content: flex-start;\n",
       "  align-items: flex-start;\n",
       "  align-content: flex-start;\n",
       "}\n",
       ".fmetakey {\n",
       "  min-width: 10rem;\n",
       "  font-family: monospace;\n",
       "}\n",
       ".fnamecat {\n",
       "  min-width: 10rem;\n",
       "}\n",
       ".fnamecat.edge {\n",
       "  font-weight: bold;\n",
       "  font-style: italic;\n",
       "}\n",
       ".fmono {\n",
       "    font-family: monospace;\n",
       "}\n",
       "\n",
       ":root {\n",
       "\t--node:               hsla(120, 100%,  20%, 1.0  );\n",
       "\t--label:              hsla(  0, 100%,  20%, 1.0  );\n",
       "\t--tfsechead:          hsla(  0, 100%,  25%, 1.0  );\n",
       "\t--structure:          hsla(120, 100%,  25%, 1.0  );\n",
       "\t--features:           hsla(  0,   0%,  30%, 1.0  );\n",
       "  --text-color:         hsla( 60,  80%,  10%, 1.0  );\n",
       "  --lex-color:          hsla(220,  90%,  60%, 1.0  );\n",
       "  --meta-color:         hsla(  0,   0%,  90%, 0.7  );\n",
       "  --meta-width:         3px;\n",
       "  --border-color-nul:   hsla(  0,   0%,  90%, 0.5  );\n",
       "  --border-color0:      hsla(  0,   0%,  90%, 0.9  );\n",
       "  --border-color1:      hsla(  0,   0%,  80%, 0.9  );\n",
       "  --border-color2:      hsla(  0,   0%,  70%, 0.9  );\n",
       "  --border-color3:      hsla(  0,   0%,  80%, 0.8  );\n",
       "  --border-color4:      hsla(  0,   0%,  60%, 0.9  );\n",
       "  --border-width-nul:   2px;\n",
       "  --border-width0:      2px;\n",
       "  --border-width1:      3px;\n",
       "  --border-width2:      4px;\n",
       "  --border-width3:      6px;\n",
       "  --border-width4:      5px;\n",
       "  --border-width-plain: 2px;\n",
       "}\n",
       ".hl {\n",
       "  background-color: var(--hl-strong);\n",
       "}\n",
       "span.hl {\n",
       "\tbackground-color: var(--hl-strong);\n",
       "\tborder-width: 0;\n",
       "\tborder-radius: 2px;\n",
       "\tborder-style: solid;\n",
       "}\n",
       "div.contnr.hl,div.lbl.hl {\n",
       "  background-color: var(--hl-strong);\n",
       "}\n",
       "div.contnr.hl {\n",
       "  border-color: var(--hl-rim) ! important;\n",
       "\tborder-width: 4px ! important;\n",
       "}\n",
       "\n",
       "span.hlbx {\n",
       "\tborder-color: var(--hl-rim);\n",
       "\tborder-width: 4px ! important;\n",
       "\tborder-style: solid;\n",
       "\tborder-radius: 6px;\n",
       "  padding: 4px;\n",
       "  margin: 4px;\n",
       "}\n",
       "\n",
       "span.plain {\n",
       "  display: inline-block;\n",
       "  white-space: pre-wrap;\n",
       "}\n",
       "\n",
       ":root {\n",
       "\t--hl-strong:        hsla( 60, 100%,  70%, 0.9  );\n",
       "\t--hl-rim:           hsla( 55,  80%,  50%, 1.0  );\n",
       "}\n",
       ".pnum {\n",
       "    font-family: sans-serif;\n",
       "    font-size: small;\n",
       "    font-weight: bold;\n",
       "    color: #444444;\n",
       "}\n",
       ".period {\n",
       "    font-family: monospace;\n",
       "    font-size: medium;\n",
       "    font-weight: bold;\n",
       "    color: #0000bb;\n",
       "}\n",
       "/* LANGUAGE: superscript and subscript */\n",
       "\n",
       "/* cluster */\n",
       ".det {\n",
       "    vertical-align: super;\n",
       "}\n",
       "/* cluster */\n",
       ".lang {\n",
       "    vertical-align: sub;\n",
       "}\n",
       "/* REDACTIONAL: line over or under  */\n",
       "\n",
       "/* flag */\n",
       ".collated {\n",
       "    font-weight: bold;\n",
       "    text-decoration: underline;\n",
       "}\n",
       "/* cluster */\n",
       ".excised {\n",
       "    color: #dd0000;\n",
       "    text-decoration: line-through;\n",
       "}\n",
       "/* cluster */\n",
       ".supplied {\n",
       "    color: #0000ff;\n",
       "    text-decoration: overline;\n",
       "}\n",
       "/* flag */\n",
       ".remarkable {\n",
       "    font-weight: bold;\n",
       "    text-decoration: overline;\n",
       "}\n",
       "\n",
       "/* UNSURE: italic*/\n",
       "\n",
       "/* cluster */\n",
       ".uncertain {\n",
       "    font-style: italic\n",
       "}\n",
       "/* flag */\n",
       ".question {\n",
       "    font-weight: bold;\n",
       "    font-style: italic\n",
       "}\n",
       "\n",
       "/* BROKEN: text-shadow */\n",
       "\n",
       "/* cluster */\n",
       ".missing {\n",
       "    color: #999999;\n",
       "    text-shadow: #bbbbbb 1px 1px;\n",
       "}\n",
       "/* flag */\n",
       ".damage {\n",
       "    font-weight: bold;\n",
       "    color: #999999;\n",
       "    text-shadow: #bbbbbb 1px 1px;\n",
       "}\n",
       ".empty {\n",
       "  color: #ff0000;\n",
       "}\n",
       "\n",
       "</style>"
      ],
      "text/plain": [
       "<IPython.core.display.HTML object>"
      ]
     },
     "metadata": {},
     "output_type": "display_data"
    },
    {
     "data": {
      "text/html": [
       "\n",
       "<script>\n",
       "const copyChar = (el, c) => {\n",
       "    for (const el of document.getElementsByClassName('ccon')) {\n",
       "        el.className = 'ccoff'\n",
       "    }\n",
       "    el.className = 'ccon'\n",
       "    navigator.clipboard.writeText(String.fromCharCode(c))\n",
       "}\n",
       "</script>\n"
      ],
      "text/plain": [
       "<IPython.core.display.HTML object>"
      ]
     },
     "metadata": {},
     "output_type": "display_data"
    },
    {
     "data": {
      "text/html": [
       "<div><b>Text-Fabric API:</b> names <a target=\"_blank\" href=\"https://annotation.github.io/text-fabric/tf/cheatsheet.html\" title=\"doc\">N F E L T S C TF</a> directly usable</div><hr>"
      ],
      "text/plain": [
       "<IPython.core.display.HTML object>"
      ]
     },
     "metadata": {},
     "output_type": "display_data"
    }
   ],
   "source": [
    "A = use(\"Nino-cunei/ninmed:clone\", checkout=\"clone\", hoist=globals())\n",
    "# A = use(\"Nino-cunei/ninmed\", hoist=globals())"
   ]
  },
  {
   "cell_type": "markdown",
   "metadata": {},
   "source": [
    "We pick an example face with which we illustrate many ways to represent cuneiform text."
   ]
  },
  {
   "cell_type": "code",
   "execution_count": 63,
   "metadata": {},
   "outputs": [],
   "source": [
    "exampleFace = (\"P479250\", \"reverse\")\n",
    "f = T.nodeFromSection(exampleFace)\n",
    "lines = L.d(f, otype=\"line\")"
   ]
  },
  {
   "cell_type": "markdown",
   "metadata": {},
   "source": [
    "# Raw text\n",
    "\n",
    "The most basic way is to show the source material for each line by its `atf` feature.\n",
    "As this does not include the line number, we grab that from the `lnno` feature."
   ]
  },
  {
   "cell_type": "code",
   "execution_count": 64,
   "metadata": {},
   "outputs": [
    {
     "name": "stdout",
     "output_type": "stream",
     "text": [
      "!1  \n",
      "1 1. %sux [...] ka#-keš₂#-bi# he₂-du₈-a\n",
      "2 2. %sux [...] ka-keš₂-bi he₂-du₈-a\n",
      "3 3. [x x x x x x x x x x x x ina KA-š]u₂ u₂-man-zaq-ma ina-eš\n",
      "4 4. [... S]IG₃.SIG₃-ta ma-la-a rit-ta-šu₂\n",
      "5 5. [... a]-ha-tu mu-še-qa-at re-ši-šu₂\n",
      "6 6. [... na-š]i pat-ri TU₆ EN₂\n",
      "7 7. [x x x x x x x x x x x ana UG]U EN₂ ŠUB-di ina KA-šu₂ u₂-man-zaq-ma ina-eš\n",
      "8 8. [x x x x x x x x x x x x as-su]h-šu₂-ma iṣ-ṣa-bat ŠA₃-bi\n",
      "9 9. [x x x x x x x x x x x x x x x x x x K]I DU₁₁.GA-ma iṣ-ṣa-bat ŠA₃-bi AN u KI\n",
      "10 10. [x x x x x x x x x x x x x x x x a-na u₂-ma]-mi# DU₁₁.GA-ma iṣ-ṣa-bat ŠA₃-bi u₂-ma-me\n",
      "11 11. [x x x x x x x x x x x x x Š]A₃-bi {d}UTU lip-pa-šir\n",
      "12 12. [x x x x x x x Š]A₃-bi# u₂-ma-me lip-pa-šir\n",
      "13 13. [x x x x x x x x x x x x šam-ma]-ka NAG-šu₂ lib-luṭ\n",
      "14 14. [...] U₂# KI KI MIN KI MIN\n",
      "15 15. [...] ŠA₃#-bu i-re-du-šu\n",
      "16 16. [... ap-p]i? šil-ta-hi ša₂ 7 KA.KEŠDA-MEŠ-šu₂ 7-šu₂ u 7-šu₂\n",
      "17 17. [... SAHA]R? TA# {urudu#}na#-ah#-bi?# [ana? {urud]u}na#-ah#-bi?#\n"
     ]
    }
   ],
   "source": [
    "for ln in lines:\n",
    "    print(F.lnno.v(ln), F.atf.v(ln))"
   ]
  },
  {
   "cell_type": "markdown",
   "metadata": {},
   "source": [
    "Note that the document starts with an empty line, which is not ATF-numbered.\n",
    "Here the feature `lnno` contains `!` followed by the logical line number on the face."
   ]
  },
  {
   "cell_type": "markdown",
   "metadata": {},
   "source": [
    "# Text formats\n",
    "\n",
    "The TF API supports *text formats*. Text formats make selections and apply templates and styles based\n",
    "on the analysed features of the text. For example: a text-format may ignore flags or clusters, or\n",
    "format numerals in special ways.\n",
    "\n",
    "Text formats are not baked into TF, but they are defined in the feature `otext` of the corpus.\n",
    "\n",
    "Moreover, for this corpus a TF app has been build that defines additional text-formats.\n",
    "\n",
    "Whereas the formats defined in `otext` are strictly plain text formats, the formats\n",
    "defined in the app are able to use typographic styles to shape the text, such as bold, italic, colors, etc.\n",
    "\n",
    "Here is the list of all formats."
   ]
  },
  {
   "cell_type": "code",
   "execution_count": 65,
   "metadata": {},
   "outputs": [
    {
     "data": {
      "text/plain": [
       "{'text-orig-full': 'sign',\n",
       " 'text-orig-plain': 'sign',\n",
       " 'layout-orig-full': 'sign',\n",
       " 'layout-orig-plain': 'sign'}"
      ]
     },
     "execution_count": 65,
     "metadata": {},
     "output_type": "execute_result"
    }
   ],
   "source": [
    "T.formats"
   ]
  },
  {
   "cell_type": "markdown",
   "metadata": {},
   "source": [
    "## Plain text formats\n",
    "\n",
    "The formats whose names start with `text-` are the plain text formats.\n",
    "\n",
    "### `text-orig-full`\n",
    "\n",
    "This format is really close to the ATF. It contains all original information.\n",
    "\n",
    "This is the default format. We do not have to specify it."
   ]
  },
  {
   "cell_type": "code",
   "execution_count": 66,
   "metadata": {},
   "outputs": [
    {
     "name": "stdout",
     "output_type": "stream",
     "text": [
      "!1 \n",
      "1 %sux [...] ka#-keš₂#-bi# he₂-du₈-a \n",
      "2 %sux [...] ka-keš₂-bi he₂-du₈-a \n",
      "3 [x x x x x x x x x x x x ina KA-] šu₂# u₂-man-zaq-ma ina-eš \n",
      "4 [... ] SIG₃#.SIG₃-ta ma-la-a rit-ta-šu₂ \n",
      "5 [... a]-ha-tu mu-še-qa-at re-ši-šu₂ \n",
      "6 [... na-] ši# pat-ri TU₆ EN₂ \n",
      "7 [x x x x x x x x x x x ana ] UGU# EN₂ ŠUB-di ina KA-šu₂ u₂-man-zaq-ma ina-eš \n",
      "8 [x x x x x x x x x x x x as-] suh#-šu₂-ma iṣ-ṣa-bat ŠA₃-bi \n",
      "9 [x x x x x x x x x x x x x x x x x x ] KI# DU₁₁.GA-ma iṣ-ṣa-bat ŠA₃-bi AN u KI \n",
      "10 [x x x x x x x x x x x x x x x x a-na u₂-ma]-mi# DU₁₁.GA-ma iṣ-ṣa-bat ŠA₃-bi u₂-ma-me \n",
      "11 [x x x x x x x x x x x x x ] ŠA₃#-bi dUTU lip-pa-šir \n",
      "12 [x x x x x x x ] ŠA₃#-bi# u₂-ma-me lip-pa-šir \n",
      "13 [x x x x x x x x x x x x šam-ma]-ka NAG-šu₂ lib-luṭ \n",
      "14 [...] U₂# KI KI MIN KI MIN \n",
      "15 [...] ŠA₃#-bu i-re-du-šu \n",
      "16 [... ap-] pi?# šil-ta-hi ša₂ 7 KA.KEŠDA-MEŠ-šu₂ 7-šu₂ u 7-šu₂ \n",
      "17 [... ] SAHAR?# TA# urudu#na#-ah#-bi?# [ana? ] urudu#na#-ah#-bi?# \n"
     ]
    }
   ],
   "source": [
    "for ln in lines:\n",
    "    print(F.lnno.v(ln), T.text(ln))"
   ]
  },
  {
   "cell_type": "markdown",
   "metadata": {},
   "source": [
    "The `A.plain()` function focuses on the *contents*, and instead of the line number, it gives a full specification\n",
    "of the location, linked to the online source on CDLI."
   ]
  },
  {
   "cell_type": "code",
   "execution_count": 67,
   "metadata": {},
   "outputs": [
    {
     "data": {
      "text/html": [
       "<div class=\"\"><span class=\"tfsechead \"><span class=\"ltr\"><a target=\"_blank\" href=\"https://cdli.ucla.edu/search/search_results.php?SearchMode=Text&amp;ObjectID=P479250\" title=\"Show this document on CDLI\" sec=\"P479250 reverse:!1\">P479250 reverse:!1</a></span></span>  </div>"
      ],
      "text/plain": [
       "<IPython.core.display.HTML object>"
      ]
     },
     "metadata": {},
     "output_type": "display_data"
    },
    {
     "data": {
      "text/html": [
       "<div class=\"\"><span class=\"tfsechead \"><span class=\"ltr\"><a target=\"_blank\" href=\"https://cdli.ucla.edu/search/search_results.php?SearchMode=Text&amp;ObjectID=P479250\" title=\"Show this document on CDLI\" sec=\"P479250 reverse:1\">P479250 reverse:1</a></span></span>  <span class=\"txtt\">%sux </span><span class=\"txtt\">[</span><span class=\"txtt\">...</span><span class=\"txtt\">] </span><span class=\"txtt\">ka#</span><span class=\"txtt\">-</span><span class=\"txtt\">keš₂#</span><span class=\"txtt\">-</span><span class=\"txtt\">bi# </span><span class=\"txtt\">he₂</span><span class=\"txtt\">-</span><span class=\"txtt\">du₈</span><span class=\"txtt\">-</span><span class=\"txtt\">a </span></div>"
      ],
      "text/plain": [
       "<IPython.core.display.HTML object>"
      ]
     },
     "metadata": {},
     "output_type": "display_data"
    },
    {
     "data": {
      "text/html": [
       "<div class=\"\"><span class=\"tfsechead \"><span class=\"ltr\"><a target=\"_blank\" href=\"https://cdli.ucla.edu/search/search_results.php?SearchMode=Text&amp;ObjectID=P479250\" title=\"Show this document on CDLI\" sec=\"P479250 reverse:2\">P479250 reverse:2</a></span></span>  <span class=\"txtt\">%sux </span><span class=\"txtt\">[</span><span class=\"txtt\">...</span><span class=\"txtt\">] </span><span class=\"txtt\">ka</span><span class=\"txtt\">-</span><span class=\"txtt\">keš₂</span><span class=\"txtt\">-</span><span class=\"txtt\">bi </span><span class=\"txtt\">he₂</span><span class=\"txtt\">-</span><span class=\"txtt\">du₈</span><span class=\"txtt\">-</span><span class=\"txtt\">a </span></div>"
      ],
      "text/plain": [
       "<IPython.core.display.HTML object>"
      ]
     },
     "metadata": {},
     "output_type": "display_data"
    },
    {
     "data": {
      "text/html": [
       "<div class=\"\"><span class=\"tfsechead \"><span class=\"ltr\"><a target=\"_blank\" href=\"https://cdli.ucla.edu/search/search_results.php?SearchMode=Text&amp;ObjectID=P479250\" title=\"Show this document on CDLI\" sec=\"P479250 reverse:3\">P479250 reverse:3</a></span></span>  <span class=\"txtt\">[</span><span class=\"txtt\">x </span><span class=\"txtt\">x </span><span class=\"txtt\">x </span><span class=\"txtt\">x </span><span class=\"txtt\">x </span><span class=\"txtt\">x </span><span class=\"txtt\">x </span><span class=\"txtt\">x </span><span class=\"txtt\">x </span><span class=\"txtt\">x </span><span class=\"txtt\">x </span><span class=\"txtt\">x </span><span class=\"txtt\">ina </span><span class=\"txtt\">KA</span><span class=\"txtt\">-</span><span class=\"txtt\">] </span><span class=\"txtt\">šu₂# </span><span class=\"txtt\">u₂</span><span class=\"txtt\">-</span><span class=\"txtt\">man</span><span class=\"txtt\">-</span><span class=\"txtt\">zaq</span><span class=\"txtt\">-</span><span class=\"txtt\">ma </span><span class=\"txtt\">ina</span><span class=\"txtt\">-</span><span class=\"txtt\">eš </span></div>"
      ],
      "text/plain": [
       "<IPython.core.display.HTML object>"
      ]
     },
     "metadata": {},
     "output_type": "display_data"
    },
    {
     "data": {
      "text/html": [
       "<div class=\"\"><span class=\"tfsechead \"><span class=\"ltr\"><a target=\"_blank\" href=\"https://cdli.ucla.edu/search/search_results.php?SearchMode=Text&amp;ObjectID=P479250\" title=\"Show this document on CDLI\" sec=\"P479250 reverse:4\">P479250 reverse:4</a></span></span>  <span class=\"txtt\">[</span><span class=\"txtt\">... </span><span class=\"txtt\">] </span><span class=\"txtt\">SIG₃#</span><span class=\"txtt\">.</span><span class=\"txtt\">SIG₃</span><span class=\"txtt\">-</span><span class=\"txtt\">ta </span><span class=\"txtt\">ma</span><span class=\"txtt\">-</span><span class=\"txtt\">la</span><span class=\"txtt\">-</span><span class=\"txtt\">a </span><span class=\"txtt\">rit</span><span class=\"txtt\">-</span><span class=\"txtt\">ta</span><span class=\"txtt\">-</span><span class=\"txtt\">šu₂ </span></div>"
      ],
      "text/plain": [
       "<IPython.core.display.HTML object>"
      ]
     },
     "metadata": {},
     "output_type": "display_data"
    },
    {
     "data": {
      "text/html": [
       "<div class=\"\"><span class=\"tfsechead \"><span class=\"ltr\"><a target=\"_blank\" href=\"https://cdli.ucla.edu/search/search_results.php?SearchMode=Text&amp;ObjectID=P479250\" title=\"Show this document on CDLI\" sec=\"P479250 reverse:5\">P479250 reverse:5</a></span></span>  <span class=\"txtt\">[</span><span class=\"txtt\">... </span><span class=\"txtt\">a</span><span class=\"txtt\">]</span><span class=\"txtt\">-</span><span class=\"txtt\">ha</span><span class=\"txtt\">-</span><span class=\"txtt\">tu </span><span class=\"txtt\">mu</span><span class=\"txtt\">-</span><span class=\"txtt\">še</span><span class=\"txtt\">-</span><span class=\"txtt\">qa</span><span class=\"txtt\">-</span><span class=\"txtt\">at </span><span class=\"txtt\">re</span><span class=\"txtt\">-</span><span class=\"txtt\">ši</span><span class=\"txtt\">-</span><span class=\"txtt\">šu₂ </span></div>"
      ],
      "text/plain": [
       "<IPython.core.display.HTML object>"
      ]
     },
     "metadata": {},
     "output_type": "display_data"
    },
    {
     "data": {
      "text/html": [
       "<div class=\"\"><span class=\"tfsechead \"><span class=\"ltr\"><a target=\"_blank\" href=\"https://cdli.ucla.edu/search/search_results.php?SearchMode=Text&amp;ObjectID=P479250\" title=\"Show this document on CDLI\" sec=\"P479250 reverse:6\">P479250 reverse:6</a></span></span>  <span class=\"txtt\">[</span><span class=\"txtt\">... </span><span class=\"txtt\">na</span><span class=\"txtt\">-</span><span class=\"txtt\">] </span><span class=\"txtt\">ši# </span><span class=\"txtt\">pat</span><span class=\"txtt\">-</span><span class=\"txtt\">ri </span><span class=\"txtt\">TU₆ </span><span class=\"txtt\">EN₂ </span></div>"
      ],
      "text/plain": [
       "<IPython.core.display.HTML object>"
      ]
     },
     "metadata": {},
     "output_type": "display_data"
    },
    {
     "data": {
      "text/html": [
       "<div class=\"\"><span class=\"tfsechead \"><span class=\"ltr\"><a target=\"_blank\" href=\"https://cdli.ucla.edu/search/search_results.php?SearchMode=Text&amp;ObjectID=P479250\" title=\"Show this document on CDLI\" sec=\"P479250 reverse:7\">P479250 reverse:7</a></span></span>  <span class=\"txtt\">[</span><span class=\"txtt\">x </span><span class=\"txtt\">x </span><span class=\"txtt\">x </span><span class=\"txtt\">x </span><span class=\"txtt\">x </span><span class=\"txtt\">x </span><span class=\"txtt\">x </span><span class=\"txtt\">x </span><span class=\"txtt\">x </span><span class=\"txtt\">x </span><span class=\"txtt\">x </span><span class=\"txtt\">ana </span><span class=\"txtt\">] </span><span class=\"txtt\">UGU# </span><span class=\"txtt\">EN₂ </span><span class=\"txtt\">ŠUB</span><span class=\"txtt\">-</span><span class=\"txtt\">di </span><span class=\"txtt\">ina </span><span class=\"txtt\">KA</span><span class=\"txtt\">-</span><span class=\"txtt\">šu₂ </span><span class=\"txtt\">u₂</span><span class=\"txtt\">-</span><span class=\"txtt\">man</span><span class=\"txtt\">-</span><span class=\"txtt\">zaq</span><span class=\"txtt\">-</span><span class=\"txtt\">ma </span><span class=\"txtt\">ina</span><span class=\"txtt\">-</span><span class=\"txtt\">eš </span></div>"
      ],
      "text/plain": [
       "<IPython.core.display.HTML object>"
      ]
     },
     "metadata": {},
     "output_type": "display_data"
    },
    {
     "data": {
      "text/html": [
       "<div class=\"\"><span class=\"tfsechead \"><span class=\"ltr\"><a target=\"_blank\" href=\"https://cdli.ucla.edu/search/search_results.php?SearchMode=Text&amp;ObjectID=P479250\" title=\"Show this document on CDLI\" sec=\"P479250 reverse:8\">P479250 reverse:8</a></span></span>  <span class=\"txtt\">[</span><span class=\"txtt\">x </span><span class=\"txtt\">x </span><span class=\"txtt\">x </span><span class=\"txtt\">x </span><span class=\"txtt\">x </span><span class=\"txtt\">x </span><span class=\"txtt\">x </span><span class=\"txtt\">x </span><span class=\"txtt\">x </span><span class=\"txtt\">x </span><span class=\"txtt\">x </span><span class=\"txtt\">x </span><span class=\"txtt\">as</span><span class=\"txtt\">-</span><span class=\"txtt\">] </span><span class=\"txtt\">suh#</span><span class=\"txtt\">-</span><span class=\"txtt\">šu₂</span><span class=\"txtt\">-</span><span class=\"txtt\">ma </span><span class=\"txtt\">iṣ</span><span class=\"txtt\">-</span><span class=\"txtt\">ṣa</span><span class=\"txtt\">-</span><span class=\"txtt\">bat </span><span class=\"txtt\">ŠA₃</span><span class=\"txtt\">-</span><span class=\"txtt\">bi </span></div>"
      ],
      "text/plain": [
       "<IPython.core.display.HTML object>"
      ]
     },
     "metadata": {},
     "output_type": "display_data"
    },
    {
     "data": {
      "text/html": [
       "<div class=\"\"><span class=\"tfsechead \"><span class=\"ltr\"><a target=\"_blank\" href=\"https://cdli.ucla.edu/search/search_results.php?SearchMode=Text&amp;ObjectID=P479250\" title=\"Show this document on CDLI\" sec=\"P479250 reverse:9\">P479250 reverse:9</a></span></span>  <span class=\"txtt\">[</span><span class=\"txtt\">x </span><span class=\"txtt\">x </span><span class=\"txtt\">x </span><span class=\"txtt\">x </span><span class=\"txtt\">x </span><span class=\"txtt\">x </span><span class=\"txtt\">x </span><span class=\"txtt\">x </span><span class=\"txtt\">x </span><span class=\"txtt\">x </span><span class=\"txtt\">x </span><span class=\"txtt\">x </span><span class=\"txtt\">x </span><span class=\"txtt\">x </span><span class=\"txtt\">x </span><span class=\"txtt\">x </span><span class=\"txtt\">x </span><span class=\"txtt\">x </span><span class=\"txtt\">] </span><span class=\"txtt\">KI# </span><span class=\"txtt\">DU₁₁</span><span class=\"txtt\">.</span><span class=\"txtt\">GA</span><span class=\"txtt\">-</span><span class=\"txtt\">ma </span><span class=\"txtt\">iṣ</span><span class=\"txtt\">-</span><span class=\"txtt\">ṣa</span><span class=\"txtt\">-</span><span class=\"txtt\">bat </span><span class=\"txtt\">ŠA₃</span><span class=\"txtt\">-</span><span class=\"txtt\">bi </span><span class=\"txtt\">AN </span><span class=\"txtt\">u </span><span class=\"txtt\">KI </span></div>"
      ],
      "text/plain": [
       "<IPython.core.display.HTML object>"
      ]
     },
     "metadata": {},
     "output_type": "display_data"
    },
    {
     "data": {
      "text/html": [
       "<div class=\"\"><span class=\"tfsechead \"><span class=\"ltr\"><a target=\"_blank\" href=\"https://cdli.ucla.edu/search/search_results.php?SearchMode=Text&amp;ObjectID=P479250\" title=\"Show this document on CDLI\" sec=\"P479250 reverse:10\">P479250 reverse:10</a></span></span>  <span class=\"txtt\">[</span><span class=\"txtt\">x </span><span class=\"txtt\">x </span><span class=\"txtt\">x </span><span class=\"txtt\">x </span><span class=\"txtt\">x </span><span class=\"txtt\">x </span><span class=\"txtt\">x </span><span class=\"txtt\">x </span><span class=\"txtt\">x </span><span class=\"txtt\">x </span><span class=\"txtt\">x </span><span class=\"txtt\">x </span><span class=\"txtt\">x </span><span class=\"txtt\">x </span><span class=\"txtt\">x </span><span class=\"txtt\">x </span><span class=\"txtt\">a</span><span class=\"txtt\">-</span><span class=\"txtt\">na </span><span class=\"txtt\">u₂</span><span class=\"txtt\">-</span><span class=\"txtt\">ma</span><span class=\"txtt\">]</span><span class=\"txtt\">-</span><span class=\"txtt\">mi# </span><span class=\"txtt\">DU₁₁</span><span class=\"txtt\">.</span><span class=\"txtt\">GA</span><span class=\"txtt\">-</span><span class=\"txtt\">ma </span><span class=\"txtt\">iṣ</span><span class=\"txtt\">-</span><span class=\"txtt\">ṣa</span><span class=\"txtt\">-</span><span class=\"txtt\">bat </span><span class=\"txtt\">ŠA₃</span><span class=\"txtt\">-</span><span class=\"txtt\">bi </span><span class=\"txtt\">u₂</span><span class=\"txtt\">-</span><span class=\"txtt\">ma</span><span class=\"txtt\">-</span><span class=\"txtt\">me </span></div>"
      ],
      "text/plain": [
       "<IPython.core.display.HTML object>"
      ]
     },
     "metadata": {},
     "output_type": "display_data"
    },
    {
     "data": {
      "text/html": [
       "<div class=\"\"><span class=\"tfsechead \"><span class=\"ltr\"><a target=\"_blank\" href=\"https://cdli.ucla.edu/search/search_results.php?SearchMode=Text&amp;ObjectID=P479250\" title=\"Show this document on CDLI\" sec=\"P479250 reverse:11\">P479250 reverse:11</a></span></span>  <span class=\"txtt\">[</span><span class=\"txtt\">x </span><span class=\"txtt\">x </span><span class=\"txtt\">x </span><span class=\"txtt\">x </span><span class=\"txtt\">x </span><span class=\"txtt\">x </span><span class=\"txtt\">x </span><span class=\"txtt\">x </span><span class=\"txtt\">x </span><span class=\"txtt\">x </span><span class=\"txtt\">x </span><span class=\"txtt\">x </span><span class=\"txtt\">x </span><span class=\"txtt\">] </span><span class=\"txtt\">ŠA₃#</span><span class=\"txtt\">-</span><span class=\"txtt\">bi </span><span class=\"txtt\">d</span><span class=\"txtt\">UTU </span><span class=\"txtt\">lip</span><span class=\"txtt\">-</span><span class=\"txtt\">pa</span><span class=\"txtt\">-</span><span class=\"txtt\">šir </span></div>"
      ],
      "text/plain": [
       "<IPython.core.display.HTML object>"
      ]
     },
     "metadata": {},
     "output_type": "display_data"
    },
    {
     "data": {
      "text/html": [
       "<div class=\"\"><span class=\"tfsechead \"><span class=\"ltr\"><a target=\"_blank\" href=\"https://cdli.ucla.edu/search/search_results.php?SearchMode=Text&amp;ObjectID=P479250\" title=\"Show this document on CDLI\" sec=\"P479250 reverse:12\">P479250 reverse:12</a></span></span>  <span class=\"txtt\">[</span><span class=\"txtt\">x </span><span class=\"txtt\">x </span><span class=\"txtt\">x </span><span class=\"txtt\">x </span><span class=\"txtt\">x </span><span class=\"txtt\">x </span><span class=\"txtt\">x </span><span class=\"txtt\">] </span><span class=\"txtt\">ŠA₃#</span><span class=\"txtt\">-</span><span class=\"txtt\">bi# </span><span class=\"txtt\">u₂</span><span class=\"txtt\">-</span><span class=\"txtt\">ma</span><span class=\"txtt\">-</span><span class=\"txtt\">me </span><span class=\"txtt\">lip</span><span class=\"txtt\">-</span><span class=\"txtt\">pa</span><span class=\"txtt\">-</span><span class=\"txtt\">šir </span></div>"
      ],
      "text/plain": [
       "<IPython.core.display.HTML object>"
      ]
     },
     "metadata": {},
     "output_type": "display_data"
    },
    {
     "data": {
      "text/html": [
       "<div class=\"\"><span class=\"tfsechead \"><span class=\"ltr\"><a target=\"_blank\" href=\"https://cdli.ucla.edu/search/search_results.php?SearchMode=Text&amp;ObjectID=P479250\" title=\"Show this document on CDLI\" sec=\"P479250 reverse:13\">P479250 reverse:13</a></span></span>  <span class=\"txtt\">[</span><span class=\"txtt\">x </span><span class=\"txtt\">x </span><span class=\"txtt\">x </span><span class=\"txtt\">x </span><span class=\"txtt\">x </span><span class=\"txtt\">x </span><span class=\"txtt\">x </span><span class=\"txtt\">x </span><span class=\"txtt\">x </span><span class=\"txtt\">x </span><span class=\"txtt\">x </span><span class=\"txtt\">x </span><span class=\"txtt\">šam</span><span class=\"txtt\">-</span><span class=\"txtt\">ma</span><span class=\"txtt\">]</span><span class=\"txtt\">-</span><span class=\"txtt\">ka </span><span class=\"txtt\">NAG</span><span class=\"txtt\">-</span><span class=\"txtt\">šu₂ </span><span class=\"txtt\">lib</span><span class=\"txtt\">-</span><span class=\"txtt\">luṭ </span></div>"
      ],
      "text/plain": [
       "<IPython.core.display.HTML object>"
      ]
     },
     "metadata": {},
     "output_type": "display_data"
    },
    {
     "data": {
      "text/html": [
       "<div class=\"\"><span class=\"tfsechead \"><span class=\"ltr\"><a target=\"_blank\" href=\"https://cdli.ucla.edu/search/search_results.php?SearchMode=Text&amp;ObjectID=P479250\" title=\"Show this document on CDLI\" sec=\"P479250 reverse:14\">P479250 reverse:14</a></span></span>  <span class=\"txtt\">[</span><span class=\"txtt\">...</span><span class=\"txtt\">] </span><span class=\"txtt\">U₂# </span><span class=\"txtt\">KI </span><span class=\"txtt\">KI </span><span class=\"txtt\">MIN </span><span class=\"txtt\">KI </span><span class=\"txtt\">MIN </span></div>"
      ],
      "text/plain": [
       "<IPython.core.display.HTML object>"
      ]
     },
     "metadata": {},
     "output_type": "display_data"
    },
    {
     "data": {
      "text/html": [
       "<div class=\"\"><span class=\"tfsechead \"><span class=\"ltr\"><a target=\"_blank\" href=\"https://cdli.ucla.edu/search/search_results.php?SearchMode=Text&amp;ObjectID=P479250\" title=\"Show this document on CDLI\" sec=\"P479250 reverse:15\">P479250 reverse:15</a></span></span>  <span class=\"txtt\">[</span><span class=\"txtt\">...</span><span class=\"txtt\">] </span><span class=\"txtt\">ŠA₃#</span><span class=\"txtt\">-</span><span class=\"txtt\">bu </span><span class=\"txtt\">i</span><span class=\"txtt\">-</span><span class=\"txtt\">re</span><span class=\"txtt\">-</span><span class=\"txtt\">du</span><span class=\"txtt\">-</span><span class=\"txtt\">šu </span></div>"
      ],
      "text/plain": [
       "<IPython.core.display.HTML object>"
      ]
     },
     "metadata": {},
     "output_type": "display_data"
    },
    {
     "data": {
      "text/html": [
       "<div class=\"\"><span class=\"tfsechead \"><span class=\"ltr\"><a target=\"_blank\" href=\"https://cdli.ucla.edu/search/search_results.php?SearchMode=Text&amp;ObjectID=P479250\" title=\"Show this document on CDLI\" sec=\"P479250 reverse:16\">P479250 reverse:16</a></span></span>  <span class=\"txtt\">[</span><span class=\"txtt\">... </span><span class=\"txtt\">ap</span><span class=\"txtt\">-</span><span class=\"txtt\">] </span><span class=\"txtt\">pi?# </span><span class=\"txtt\">šil</span><span class=\"txtt\">-</span><span class=\"txtt\">ta</span><span class=\"txtt\">-</span><span class=\"txtt\">hi </span><span class=\"txtt\">ša₂ </span><span class=\"txtt\">7 </span><span class=\"txtt\">KA</span><span class=\"txtt\">.</span><span class=\"txtt\">KEŠDA</span><span class=\"txtt\">-</span><span class=\"txtt\">MEŠ</span><span class=\"txtt\">-</span><span class=\"txtt\">šu₂ </span><span class=\"txtt\">7</span><span class=\"txtt\">-</span><span class=\"txtt\">šu₂ </span><span class=\"txtt\">u </span><span class=\"txtt\">7</span><span class=\"txtt\">-</span><span class=\"txtt\">šu₂ </span></div>"
      ],
      "text/plain": [
       "<IPython.core.display.HTML object>"
      ]
     },
     "metadata": {},
     "output_type": "display_data"
    },
    {
     "data": {
      "text/html": [
       "<div class=\"\"><span class=\"tfsechead \"><span class=\"ltr\"><a target=\"_blank\" href=\"https://cdli.ucla.edu/search/search_results.php?SearchMode=Text&amp;ObjectID=P479250\" title=\"Show this document on CDLI\" sec=\"P479250 reverse:17\">P479250 reverse:17</a></span></span>  <span class=\"txtt\">[</span><span class=\"txtt\">... </span><span class=\"txtt\">] </span><span class=\"txtt\">SAHAR?# </span><span class=\"txtt\">TA# </span><span class=\"txtt\">urudu#</span><span class=\"txtt\">na#</span><span class=\"txtt\">-</span><span class=\"txtt\">ah#</span><span class=\"txtt\">-</span><span class=\"txtt\">bi?# </span><span class=\"txtt\">[</span><span class=\"txtt\">ana? </span><span class=\"txtt\">] </span><span class=\"txtt\">urudu#</span><span class=\"txtt\">na#</span><span class=\"txtt\">-</span><span class=\"txtt\">ah#</span><span class=\"txtt\">-</span><span class=\"txtt\">bi?# </span></div>"
      ],
      "text/plain": [
       "<IPython.core.display.HTML object>"
      ]
     },
     "metadata": {},
     "output_type": "display_data"
    }
   ],
   "source": [
    "for ln in lines:\n",
    "    A.plain(ln)"
   ]
  },
  {
   "cell_type": "markdown",
   "metadata": {},
   "source": [
    "### `text-orig-plain`\n",
    "\n",
    "This is a somewhat reduced format. It omits all flags and bracketing constructs."
   ]
  },
  {
   "cell_type": "code",
   "execution_count": 68,
   "metadata": {},
   "outputs": [
    {
     "data": {
      "text/html": [
       "<div class=\"\"><span class=\"tfsechead \"><span class=\"ltr\"><a target=\"_blank\" href=\"https://cdli.ucla.edu/search/search_results.php?SearchMode=Text&amp;ObjectID=P479250\" title=\"Show this document on CDLI\" sec=\"P479250 reverse:!1\">P479250 reverse:!1</a></span></span>  </div>"
      ],
      "text/plain": [
       "<IPython.core.display.HTML object>"
      ]
     },
     "metadata": {},
     "output_type": "display_data"
    },
    {
     "data": {
      "text/html": [
       "<div class=\"\"><span class=\"tfsechead \"><span class=\"ltr\"><a target=\"_blank\" href=\"https://cdli.ucla.edu/search/search_results.php?SearchMode=Text&amp;ObjectID=P479250\" title=\"Show this document on CDLI\" sec=\"P479250 reverse:1\">P479250 reverse:1</a></span></span>  <span class=\"txtt\">%sux </span><span class=\"txtt\">...</span><span class=\"txtt\"> </span><span class=\"txtt\">ka</span><span class=\"txtt\">-</span><span class=\"txtt\">keš</span><span class=\"txtt\">-</span><span class=\"txtt\">bi </span><span class=\"txtt\">he</span><span class=\"txtt\">-</span><span class=\"txtt\">du</span><span class=\"txtt\">-</span><span class=\"txtt\">a </span></div>"
      ],
      "text/plain": [
       "<IPython.core.display.HTML object>"
      ]
     },
     "metadata": {},
     "output_type": "display_data"
    },
    {
     "data": {
      "text/html": [
       "<div class=\"\"><span class=\"tfsechead \"><span class=\"ltr\"><a target=\"_blank\" href=\"https://cdli.ucla.edu/search/search_results.php?SearchMode=Text&amp;ObjectID=P479250\" title=\"Show this document on CDLI\" sec=\"P479250 reverse:2\">P479250 reverse:2</a></span></span>  <span class=\"txtt\">%sux </span><span class=\"txtt\">...</span><span class=\"txtt\"> </span><span class=\"txtt\">ka</span><span class=\"txtt\">-</span><span class=\"txtt\">keš</span><span class=\"txtt\">-</span><span class=\"txtt\">bi </span><span class=\"txtt\">he</span><span class=\"txtt\">-</span><span class=\"txtt\">du</span><span class=\"txtt\">-</span><span class=\"txtt\">a </span></div>"
      ],
      "text/plain": [
       "<IPython.core.display.HTML object>"
      ]
     },
     "metadata": {},
     "output_type": "display_data"
    },
    {
     "data": {
      "text/html": [
       "<div class=\"\"><span class=\"tfsechead \"><span class=\"ltr\"><a target=\"_blank\" href=\"https://cdli.ucla.edu/search/search_results.php?SearchMode=Text&amp;ObjectID=P479250\" title=\"Show this document on CDLI\" sec=\"P479250 reverse:3\">P479250 reverse:3</a></span></span>  <span class=\"txtt\">x </span><span class=\"txtt\">x </span><span class=\"txtt\">x </span><span class=\"txtt\">x </span><span class=\"txtt\">x </span><span class=\"txtt\">x </span><span class=\"txtt\">x </span><span class=\"txtt\">x </span><span class=\"txtt\">x </span><span class=\"txtt\">x </span><span class=\"txtt\">x </span><span class=\"txtt\">x </span><span class=\"txtt\">ina </span><span class=\"txtt\">KA</span><span class=\"txtt\">-</span><span class=\"txtt\"> </span><span class=\"txtt\">šu </span><span class=\"txtt\">u</span><span class=\"txtt\">-</span><span class=\"txtt\">man</span><span class=\"txtt\">-</span><span class=\"txtt\">zaq</span><span class=\"txtt\">-</span><span class=\"txtt\">ma </span><span class=\"txtt\">ina</span><span class=\"txtt\">-</span><span class=\"txtt\">eš </span></div>"
      ],
      "text/plain": [
       "<IPython.core.display.HTML object>"
      ]
     },
     "metadata": {},
     "output_type": "display_data"
    },
    {
     "data": {
      "text/html": [
       "<div class=\"\"><span class=\"tfsechead \"><span class=\"ltr\"><a target=\"_blank\" href=\"https://cdli.ucla.edu/search/search_results.php?SearchMode=Text&amp;ObjectID=P479250\" title=\"Show this document on CDLI\" sec=\"P479250 reverse:4\">P479250 reverse:4</a></span></span>  <span class=\"txtt\">... </span><span class=\"txtt\"> </span><span class=\"txtt\">SIG₃</span><span class=\"txtt\">.</span><span class=\"txtt\">SIG₃</span><span class=\"txtt\">-</span><span class=\"txtt\">ta </span><span class=\"txtt\">ma</span><span class=\"txtt\">-</span><span class=\"txtt\">la</span><span class=\"txtt\">-</span><span class=\"txtt\">a </span><span class=\"txtt\">rit</span><span class=\"txtt\">-</span><span class=\"txtt\">ta</span><span class=\"txtt\">-</span><span class=\"txtt\">šu </span></div>"
      ],
      "text/plain": [
       "<IPython.core.display.HTML object>"
      ]
     },
     "metadata": {},
     "output_type": "display_data"
    },
    {
     "data": {
      "text/html": [
       "<div class=\"\"><span class=\"tfsechead \"><span class=\"ltr\"><a target=\"_blank\" href=\"https://cdli.ucla.edu/search/search_results.php?SearchMode=Text&amp;ObjectID=P479250\" title=\"Show this document on CDLI\" sec=\"P479250 reverse:5\">P479250 reverse:5</a></span></span>  <span class=\"txtt\">... </span><span class=\"txtt\">a</span><span class=\"txtt\">-</span><span class=\"txtt\">ha</span><span class=\"txtt\">-</span><span class=\"txtt\">tu </span><span class=\"txtt\">mu</span><span class=\"txtt\">-</span><span class=\"txtt\">še</span><span class=\"txtt\">-</span><span class=\"txtt\">qa</span><span class=\"txtt\">-</span><span class=\"txtt\">at </span><span class=\"txtt\">re</span><span class=\"txtt\">-</span><span class=\"txtt\">ši</span><span class=\"txtt\">-</span><span class=\"txtt\">šu </span></div>"
      ],
      "text/plain": [
       "<IPython.core.display.HTML object>"
      ]
     },
     "metadata": {},
     "output_type": "display_data"
    },
    {
     "data": {
      "text/html": [
       "<div class=\"\"><span class=\"tfsechead \"><span class=\"ltr\"><a target=\"_blank\" href=\"https://cdli.ucla.edu/search/search_results.php?SearchMode=Text&amp;ObjectID=P479250\" title=\"Show this document on CDLI\" sec=\"P479250 reverse:6\">P479250 reverse:6</a></span></span>  <span class=\"txtt\">... </span><span class=\"txtt\">na</span><span class=\"txtt\">-</span><span class=\"txtt\"> </span><span class=\"txtt\">ši </span><span class=\"txtt\">pat</span><span class=\"txtt\">-</span><span class=\"txtt\">ri </span><span class=\"txtt\">TU₆ </span><span class=\"txtt\">EN₂ </span></div>"
      ],
      "text/plain": [
       "<IPython.core.display.HTML object>"
      ]
     },
     "metadata": {},
     "output_type": "display_data"
    },
    {
     "data": {
      "text/html": [
       "<div class=\"\"><span class=\"tfsechead \"><span class=\"ltr\"><a target=\"_blank\" href=\"https://cdli.ucla.edu/search/search_results.php?SearchMode=Text&amp;ObjectID=P479250\" title=\"Show this document on CDLI\" sec=\"P479250 reverse:7\">P479250 reverse:7</a></span></span>  <span class=\"txtt\">x </span><span class=\"txtt\">x </span><span class=\"txtt\">x </span><span class=\"txtt\">x </span><span class=\"txtt\">x </span><span class=\"txtt\">x </span><span class=\"txtt\">x </span><span class=\"txtt\">x </span><span class=\"txtt\">x </span><span class=\"txtt\">x </span><span class=\"txtt\">x </span><span class=\"txtt\">ana </span><span class=\"txtt\"> </span><span class=\"txtt\">UGU </span><span class=\"txtt\">EN₂ </span><span class=\"txtt\">ŠUB</span><span class=\"txtt\">-</span><span class=\"txtt\">di </span><span class=\"txtt\">ina </span><span class=\"txtt\">KA</span><span class=\"txtt\">-</span><span class=\"txtt\">šu </span><span class=\"txtt\">u</span><span class=\"txtt\">-</span><span class=\"txtt\">man</span><span class=\"txtt\">-</span><span class=\"txtt\">zaq</span><span class=\"txtt\">-</span><span class=\"txtt\">ma </span><span class=\"txtt\">ina</span><span class=\"txtt\">-</span><span class=\"txtt\">eš </span></div>"
      ],
      "text/plain": [
       "<IPython.core.display.HTML object>"
      ]
     },
     "metadata": {},
     "output_type": "display_data"
    },
    {
     "data": {
      "text/html": [
       "<div class=\"\"><span class=\"tfsechead \"><span class=\"ltr\"><a target=\"_blank\" href=\"https://cdli.ucla.edu/search/search_results.php?SearchMode=Text&amp;ObjectID=P479250\" title=\"Show this document on CDLI\" sec=\"P479250 reverse:8\">P479250 reverse:8</a></span></span>  <span class=\"txtt\">x </span><span class=\"txtt\">x </span><span class=\"txtt\">x </span><span class=\"txtt\">x </span><span class=\"txtt\">x </span><span class=\"txtt\">x </span><span class=\"txtt\">x </span><span class=\"txtt\">x </span><span class=\"txtt\">x </span><span class=\"txtt\">x </span><span class=\"txtt\">x </span><span class=\"txtt\">x </span><span class=\"txtt\">as</span><span class=\"txtt\">-</span><span class=\"txtt\"> </span><span class=\"txtt\">suh</span><span class=\"txtt\">-</span><span class=\"txtt\">šu</span><span class=\"txtt\">-</span><span class=\"txtt\">ma </span><span class=\"txtt\">iṣ</span><span class=\"txtt\">-</span><span class=\"txtt\">ṣa</span><span class=\"txtt\">-</span><span class=\"txtt\">bat </span><span class=\"txtt\">ŠA₃</span><span class=\"txtt\">-</span><span class=\"txtt\">bi </span></div>"
      ],
      "text/plain": [
       "<IPython.core.display.HTML object>"
      ]
     },
     "metadata": {},
     "output_type": "display_data"
    },
    {
     "data": {
      "text/html": [
       "<div class=\"\"><span class=\"tfsechead \"><span class=\"ltr\"><a target=\"_blank\" href=\"https://cdli.ucla.edu/search/search_results.php?SearchMode=Text&amp;ObjectID=P479250\" title=\"Show this document on CDLI\" sec=\"P479250 reverse:9\">P479250 reverse:9</a></span></span>  <span class=\"txtt\">x </span><span class=\"txtt\">x </span><span class=\"txtt\">x </span><span class=\"txtt\">x </span><span class=\"txtt\">x </span><span class=\"txtt\">x </span><span class=\"txtt\">x </span><span class=\"txtt\">x </span><span class=\"txtt\">x </span><span class=\"txtt\">x </span><span class=\"txtt\">x </span><span class=\"txtt\">x </span><span class=\"txtt\">x </span><span class=\"txtt\">x </span><span class=\"txtt\">x </span><span class=\"txtt\">x </span><span class=\"txtt\">x </span><span class=\"txtt\">x </span><span class=\"txtt\"> </span><span class=\"txtt\">KI </span><span class=\"txtt\">DU₁₁</span><span class=\"txtt\">.</span><span class=\"txtt\">GA</span><span class=\"txtt\">-</span><span class=\"txtt\">ma </span><span class=\"txtt\">iṣ</span><span class=\"txtt\">-</span><span class=\"txtt\">ṣa</span><span class=\"txtt\">-</span><span class=\"txtt\">bat </span><span class=\"txtt\">ŠA₃</span><span class=\"txtt\">-</span><span class=\"txtt\">bi </span><span class=\"txtt\">AN </span><span class=\"txtt\">u </span><span class=\"txtt\">KI </span></div>"
      ],
      "text/plain": [
       "<IPython.core.display.HTML object>"
      ]
     },
     "metadata": {},
     "output_type": "display_data"
    },
    {
     "data": {
      "text/html": [
       "<div class=\"\"><span class=\"tfsechead \"><span class=\"ltr\"><a target=\"_blank\" href=\"https://cdli.ucla.edu/search/search_results.php?SearchMode=Text&amp;ObjectID=P479250\" title=\"Show this document on CDLI\" sec=\"P479250 reverse:10\">P479250 reverse:10</a></span></span>  <span class=\"txtt\">x </span><span class=\"txtt\">x </span><span class=\"txtt\">x </span><span class=\"txtt\">x </span><span class=\"txtt\">x </span><span class=\"txtt\">x </span><span class=\"txtt\">x </span><span class=\"txtt\">x </span><span class=\"txtt\">x </span><span class=\"txtt\">x </span><span class=\"txtt\">x </span><span class=\"txtt\">x </span><span class=\"txtt\">x </span><span class=\"txtt\">x </span><span class=\"txtt\">x </span><span class=\"txtt\">x </span><span class=\"txtt\">a</span><span class=\"txtt\">-</span><span class=\"txtt\">na </span><span class=\"txtt\">u</span><span class=\"txtt\">-</span><span class=\"txtt\">ma</span><span class=\"txtt\">-</span><span class=\"txtt\">mi </span><span class=\"txtt\">DU₁₁</span><span class=\"txtt\">.</span><span class=\"txtt\">GA</span><span class=\"txtt\">-</span><span class=\"txtt\">ma </span><span class=\"txtt\">iṣ</span><span class=\"txtt\">-</span><span class=\"txtt\">ṣa</span><span class=\"txtt\">-</span><span class=\"txtt\">bat </span><span class=\"txtt\">ŠA₃</span><span class=\"txtt\">-</span><span class=\"txtt\">bi </span><span class=\"txtt\">u</span><span class=\"txtt\">-</span><span class=\"txtt\">ma</span><span class=\"txtt\">-</span><span class=\"txtt\">me </span></div>"
      ],
      "text/plain": [
       "<IPython.core.display.HTML object>"
      ]
     },
     "metadata": {},
     "output_type": "display_data"
    },
    {
     "data": {
      "text/html": [
       "<div class=\"\"><span class=\"tfsechead \"><span class=\"ltr\"><a target=\"_blank\" href=\"https://cdli.ucla.edu/search/search_results.php?SearchMode=Text&amp;ObjectID=P479250\" title=\"Show this document on CDLI\" sec=\"P479250 reverse:11\">P479250 reverse:11</a></span></span>  <span class=\"txtt\">x </span><span class=\"txtt\">x </span><span class=\"txtt\">x </span><span class=\"txtt\">x </span><span class=\"txtt\">x </span><span class=\"txtt\">x </span><span class=\"txtt\">x </span><span class=\"txtt\">x </span><span class=\"txtt\">x </span><span class=\"txtt\">x </span><span class=\"txtt\">x </span><span class=\"txtt\">x </span><span class=\"txtt\">x </span><span class=\"txtt\"> </span><span class=\"txtt\">ŠA₃</span><span class=\"txtt\">-</span><span class=\"txtt\">bi </span><span class=\"txtt\">d</span><span class=\"txtt\">UTU </span><span class=\"txtt\">lip</span><span class=\"txtt\">-</span><span class=\"txtt\">pa</span><span class=\"txtt\">-</span><span class=\"txtt\">šir </span></div>"
      ],
      "text/plain": [
       "<IPython.core.display.HTML object>"
      ]
     },
     "metadata": {},
     "output_type": "display_data"
    },
    {
     "data": {
      "text/html": [
       "<div class=\"\"><span class=\"tfsechead \"><span class=\"ltr\"><a target=\"_blank\" href=\"https://cdli.ucla.edu/search/search_results.php?SearchMode=Text&amp;ObjectID=P479250\" title=\"Show this document on CDLI\" sec=\"P479250 reverse:12\">P479250 reverse:12</a></span></span>  <span class=\"txtt\">x </span><span class=\"txtt\">x </span><span class=\"txtt\">x </span><span class=\"txtt\">x </span><span class=\"txtt\">x </span><span class=\"txtt\">x </span><span class=\"txtt\">x </span><span class=\"txtt\"> </span><span class=\"txtt\">ŠA₃</span><span class=\"txtt\">-</span><span class=\"txtt\">bi </span><span class=\"txtt\">u</span><span class=\"txtt\">-</span><span class=\"txtt\">ma</span><span class=\"txtt\">-</span><span class=\"txtt\">me </span><span class=\"txtt\">lip</span><span class=\"txtt\">-</span><span class=\"txtt\">pa</span><span class=\"txtt\">-</span><span class=\"txtt\">šir </span></div>"
      ],
      "text/plain": [
       "<IPython.core.display.HTML object>"
      ]
     },
     "metadata": {},
     "output_type": "display_data"
    },
    {
     "data": {
      "text/html": [
       "<div class=\"\"><span class=\"tfsechead \"><span class=\"ltr\"><a target=\"_blank\" href=\"https://cdli.ucla.edu/search/search_results.php?SearchMode=Text&amp;ObjectID=P479250\" title=\"Show this document on CDLI\" sec=\"P479250 reverse:13\">P479250 reverse:13</a></span></span>  <span class=\"txtt\">x </span><span class=\"txtt\">x </span><span class=\"txtt\">x </span><span class=\"txtt\">x </span><span class=\"txtt\">x </span><span class=\"txtt\">x </span><span class=\"txtt\">x </span><span class=\"txtt\">x </span><span class=\"txtt\">x </span><span class=\"txtt\">x </span><span class=\"txtt\">x </span><span class=\"txtt\">x </span><span class=\"txtt\">šam</span><span class=\"txtt\">-</span><span class=\"txtt\">ma</span><span class=\"txtt\">-</span><span class=\"txtt\">ka </span><span class=\"txtt\">NAG</span><span class=\"txtt\">-</span><span class=\"txtt\">šu </span><span class=\"txtt\">lib</span><span class=\"txtt\">-</span><span class=\"txtt\">luṭ </span></div>"
      ],
      "text/plain": [
       "<IPython.core.display.HTML object>"
      ]
     },
     "metadata": {},
     "output_type": "display_data"
    },
    {
     "data": {
      "text/html": [
       "<div class=\"\"><span class=\"tfsechead \"><span class=\"ltr\"><a target=\"_blank\" href=\"https://cdli.ucla.edu/search/search_results.php?SearchMode=Text&amp;ObjectID=P479250\" title=\"Show this document on CDLI\" sec=\"P479250 reverse:14\">P479250 reverse:14</a></span></span>  <span class=\"txtt\">...</span><span class=\"txtt\"> </span><span class=\"txtt\">U₂ </span><span class=\"txtt\">KI </span><span class=\"txtt\">KI </span><span class=\"txtt\">MIN </span><span class=\"txtt\">KI </span><span class=\"txtt\">MIN </span></div>"
      ],
      "text/plain": [
       "<IPython.core.display.HTML object>"
      ]
     },
     "metadata": {},
     "output_type": "display_data"
    },
    {
     "data": {
      "text/html": [
       "<div class=\"\"><span class=\"tfsechead \"><span class=\"ltr\"><a target=\"_blank\" href=\"https://cdli.ucla.edu/search/search_results.php?SearchMode=Text&amp;ObjectID=P479250\" title=\"Show this document on CDLI\" sec=\"P479250 reverse:15\">P479250 reverse:15</a></span></span>  <span class=\"txtt\">...</span><span class=\"txtt\"> </span><span class=\"txtt\">ŠA₃</span><span class=\"txtt\">-</span><span class=\"txtt\">bu </span><span class=\"txtt\">i</span><span class=\"txtt\">-</span><span class=\"txtt\">re</span><span class=\"txtt\">-</span><span class=\"txtt\">du</span><span class=\"txtt\">-</span><span class=\"txtt\">šu </span></div>"
      ],
      "text/plain": [
       "<IPython.core.display.HTML object>"
      ]
     },
     "metadata": {},
     "output_type": "display_data"
    },
    {
     "data": {
      "text/html": [
       "<div class=\"\"><span class=\"tfsechead \"><span class=\"ltr\"><a target=\"_blank\" href=\"https://cdli.ucla.edu/search/search_results.php?SearchMode=Text&amp;ObjectID=P479250\" title=\"Show this document on CDLI\" sec=\"P479250 reverse:16\">P479250 reverse:16</a></span></span>  <span class=\"txtt\">... </span><span class=\"txtt\">ap</span><span class=\"txtt\">-</span><span class=\"txtt\"> </span><span class=\"txtt\">pi </span><span class=\"txtt\">šil</span><span class=\"txtt\">-</span><span class=\"txtt\">ta</span><span class=\"txtt\">-</span><span class=\"txtt\">hi </span><span class=\"txtt\">ša </span><span class=\"txtt\">7 </span><span class=\"txtt\">KA</span><span class=\"txtt\">.</span><span class=\"txtt\">KEŠDA</span><span class=\"txtt\">-</span><span class=\"txtt\">MEŠ</span><span class=\"txtt\">-</span><span class=\"txtt\">šu </span><span class=\"txtt\">7</span><span class=\"txtt\">-</span><span class=\"txtt\">šu </span><span class=\"txtt\">u </span><span class=\"txtt\">7</span><span class=\"txtt\">-</span><span class=\"txtt\">šu </span></div>"
      ],
      "text/plain": [
       "<IPython.core.display.HTML object>"
      ]
     },
     "metadata": {},
     "output_type": "display_data"
    },
    {
     "data": {
      "text/html": [
       "<div class=\"\"><span class=\"tfsechead \"><span class=\"ltr\"><a target=\"_blank\" href=\"https://cdli.ucla.edu/search/search_results.php?SearchMode=Text&amp;ObjectID=P479250\" title=\"Show this document on CDLI\" sec=\"P479250 reverse:17\">P479250 reverse:17</a></span></span>  <span class=\"txtt\">... </span><span class=\"txtt\"> </span><span class=\"txtt\">SAHAR </span><span class=\"txtt\">TA </span><span class=\"txtt\">urudu</span><span class=\"txtt\">na</span><span class=\"txtt\">-</span><span class=\"txtt\">ah</span><span class=\"txtt\">-</span><span class=\"txtt\">bi </span><span class=\"txtt\">ana </span><span class=\"txtt\"> </span><span class=\"txtt\">urudu</span><span class=\"txtt\">na</span><span class=\"txtt\">-</span><span class=\"txtt\">ah</span><span class=\"txtt\">-</span><span class=\"txtt\">bi </span></div>"
      ],
      "text/plain": [
       "<IPython.core.display.HTML object>"
      ]
     },
     "metadata": {},
     "output_type": "display_data"
    }
   ],
   "source": [
    "for ln in lines:\n",
    "    A.plain(ln, fmt=\"text-orig-plain\")"
   ]
  },
  {
   "cell_type": "markdown",
   "metadata": {},
   "source": [
    "## Styled text formats\n",
    "\n",
    "The formats whose names start with `layout-` are the styled text formats.\n",
    "\n",
    "### `layout-orig-full`\n",
    "\n",
    "This format looks like `text-orig-full`, but now we re-introduce the flags and clusters by specific\n",
    "layout devices.\n",
    "\n",
    "See below for detailed examples."
   ]
  },
  {
   "cell_type": "code",
   "execution_count": 74,
   "metadata": {},
   "outputs": [
    {
     "data": {
      "text/html": [
       "<div class=\"\"><span class=\"tfsechead \"><span class=\"ltr\"><a target=\"_blank\" href=\"https://cdli.ucla.edu/search/search_results.php?SearchMode=Text&amp;ObjectID=P479250\" title=\"Show this document on CDLI\" sec=\"P479250 reverse:!1\">P479250 reverse:!1</a></span></span>  <span class=\"txtt\"><span class=\"empty\">∅</span>None</span></div>"
      ],
      "text/plain": [
       "<IPython.core.display.HTML object>"
      ]
     },
     "metadata": {},
     "output_type": "display_data"
    },
    {
     "data": {
      "text/html": [
       "<div class=\"\"><span class=\"tfsechead \"><span class=\"ltr\"><a target=\"_blank\" href=\"https://cdli.ucla.edu/search/search_results.php?SearchMode=Text&amp;ObjectID=P479250\" title=\"Show this document on CDLI\" sec=\"P479250 reverse:1\">P479250 reverse:1</a></span></span>  <span class=\"txtt\">%sux </span><span class=\"txtt\">[</span><span class=\"txtt\"><span class=\"missing\"><span class=\"missing\">...</span></span></span><span class=\"txtt\"><span class=\"missing\">]</span> </span><span class=\"txtt\"><span class=\"damage\"><span class=\"r\">ka</span></span></span><span class=\"txtt\">-</span><span class=\"txtt\"><span class=\"damage\"><span class=\"r\">keš</span></span></span><span class=\"txtt\">-</span><span class=\"txtt\"><span class=\"damage\"><span class=\"r\">bi</span></span> </span><span class=\"txtt\"><span class=\"r\">he</span></span><span class=\"txtt\">-</span><span class=\"txtt\"><span class=\"r\">du</span></span><span class=\"txtt\">-</span><span class=\"txtt\"><span class=\"r\">a</span> </span></div>"
      ],
      "text/plain": [
       "<IPython.core.display.HTML object>"
      ]
     },
     "metadata": {},
     "output_type": "display_data"
    },
    {
     "data": {
      "text/html": [
       "<div class=\"\"><span class=\"tfsechead \"><span class=\"ltr\"><a target=\"_blank\" href=\"https://cdli.ucla.edu/search/search_results.php?SearchMode=Text&amp;ObjectID=P479250\" title=\"Show this document on CDLI\" sec=\"P479250 reverse:2\">P479250 reverse:2</a></span></span>  <span class=\"txtt\">%sux </span><span class=\"txtt\">[</span><span class=\"txtt\"><span class=\"missing\"><span class=\"missing\">...</span></span></span><span class=\"txtt\"><span class=\"missing\">]</span> </span><span class=\"txtt\"><span class=\"r\">ka</span></span><span class=\"txtt\">-</span><span class=\"txtt\"><span class=\"r\">keš</span></span><span class=\"txtt\">-</span><span class=\"txtt\"><span class=\"r\">bi</span> </span><span class=\"txtt\"><span class=\"r\">he</span></span><span class=\"txtt\">-</span><span class=\"txtt\"><span class=\"r\">du</span></span><span class=\"txtt\">-</span><span class=\"txtt\"><span class=\"r\">a</span> </span></div>"
      ],
      "text/plain": [
       "<IPython.core.display.HTML object>"
      ]
     },
     "metadata": {},
     "output_type": "display_data"
    },
    {
     "data": {
      "text/html": [
       "<div class=\"\"><span class=\"tfsechead \"><span class=\"ltr\"><a target=\"_blank\" href=\"https://cdli.ucla.edu/search/search_results.php?SearchMode=Text&amp;ObjectID=P479250\" title=\"Show this document on CDLI\" sec=\"P479250 reverse:3\">P479250 reverse:3</a></span></span>  <span class=\"txtt\">[</span><span class=\"txtt\"><span class=\"missing\"><span class=\"uncertain\"><span class=\"cls\">x</span></span></span> </span><span class=\"txtt\"><span class=\"missing\"><span class=\"uncertain\"><span class=\"cls\">x</span></span></span> </span><span class=\"txtt\"><span class=\"missing\"><span class=\"uncertain\"><span class=\"cls\">x</span></span></span> </span><span class=\"txtt\"><span class=\"missing\"><span class=\"uncertain\"><span class=\"cls\">x</span></span></span> </span><span class=\"txtt\"><span class=\"missing\"><span class=\"uncertain\"><span class=\"cls\">x</span></span></span> </span><span class=\"txtt\"><span class=\"missing\"><span class=\"uncertain\"><span class=\"cls\">x</span></span></span> </span><span class=\"txtt\"><span class=\"missing\"><span class=\"uncertain\"><span class=\"cls\">x</span></span></span> </span><span class=\"txtt\"><span class=\"missing\"><span class=\"uncertain\"><span class=\"cls\">x</span></span></span> </span><span class=\"txtt\"><span class=\"missing\"><span class=\"uncertain\"><span class=\"cls\">x</span></span></span> </span><span class=\"txtt\"><span class=\"missing\"><span class=\"uncertain\"><span class=\"cls\">x</span></span></span> </span><span class=\"txtt\"><span class=\"missing\"><span class=\"uncertain\"><span class=\"cls\">x</span></span></span> </span><span class=\"txtt\"><span class=\"missing\"><span class=\"uncertain\"><span class=\"cls\">x</span></span></span> </span><span class=\"txtt\"><span class=\"missing\"><span class=\"r\">ina</span></span> </span><span class=\"txtt\"><span class=\"missing\"><span class=\"g\">KA</span></span></span><span class=\"txtt\"><span class=\"missing\">-</span></span><span class=\"txtt\"><span class=\"missing\">]</span> </span><span class=\"txtt\"><span class=\"damage\"><span class=\"r\">šu</span></span> </span><span class=\"txtt\"><span class=\"r\">u</span></span><span class=\"txtt\">-</span><span class=\"txtt\"><span class=\"r\">man</span></span><span class=\"txtt\">-</span><span class=\"txtt\"><span class=\"r\">zaq</span></span><span class=\"txtt\">-</span><span class=\"txtt\"><span class=\"r\">ma</span> </span><span class=\"txtt\"><span class=\"r\">ina</span></span><span class=\"txtt\">-</span><span class=\"txtt\"><span class=\"r\">eš</span> </span></div>"
      ],
      "text/plain": [
       "<IPython.core.display.HTML object>"
      ]
     },
     "metadata": {},
     "output_type": "display_data"
    },
    {
     "data": {
      "text/html": [
       "<div class=\"\"><span class=\"tfsechead \"><span class=\"ltr\"><a target=\"_blank\" href=\"https://cdli.ucla.edu/search/search_results.php?SearchMode=Text&amp;ObjectID=P479250\" title=\"Show this document on CDLI\" sec=\"P479250 reverse:4\">P479250 reverse:4</a></span></span>  <span class=\"txtt\">[</span><span class=\"txtt\"><span class=\"missing\"><span class=\"missing\">...</span></span> </span><span class=\"txtt\"><span class=\"missing\">]</span> </span><span class=\"txtt\"><span class=\"damage\"><span class=\"g\">SIG₃</span></span></span><span class=\"txtt\">.</span><span class=\"txtt\"><span class=\"g\">SIG₃</span></span><span class=\"txtt\">-</span><span class=\"txtt\"><span class=\"r\">ta</span> </span><span class=\"txtt\"><span class=\"r\">ma</span></span><span class=\"txtt\">-</span><span class=\"txtt\"><span class=\"r\">la</span></span><span class=\"txtt\">-</span><span class=\"txtt\"><span class=\"r\">a</span> </span><span class=\"txtt\"><span class=\"r\">rit</span></span><span class=\"txtt\">-</span><span class=\"txtt\"><span class=\"r\">ta</span></span><span class=\"txtt\">-</span><span class=\"txtt\"><span class=\"r\">šu</span> </span></div>"
      ],
      "text/plain": [
       "<IPython.core.display.HTML object>"
      ]
     },
     "metadata": {},
     "output_type": "display_data"
    },
    {
     "data": {
      "text/html": [
       "<div class=\"\"><span class=\"tfsechead \"><span class=\"ltr\"><a target=\"_blank\" href=\"https://cdli.ucla.edu/search/search_results.php?SearchMode=Text&amp;ObjectID=P479250\" title=\"Show this document on CDLI\" sec=\"P479250 reverse:5\">P479250 reverse:5</a></span></span>  <span class=\"txtt\">[</span><span class=\"txtt\"><span class=\"missing\"><span class=\"missing\">...</span></span> </span><span class=\"txtt\"><span class=\"missing\"><span class=\"r\">a</span></span></span><span class=\"txtt\"><span class=\"missing\">]</span></span><span class=\"txtt\">-</span><span class=\"txtt\"><span class=\"r\">ha</span></span><span class=\"txtt\">-</span><span class=\"txtt\"><span class=\"r\">tu</span> </span><span class=\"txtt\"><span class=\"r\">mu</span></span><span class=\"txtt\">-</span><span class=\"txtt\"><span class=\"r\">še</span></span><span class=\"txtt\">-</span><span class=\"txtt\"><span class=\"r\">qa</span></span><span class=\"txtt\">-</span><span class=\"txtt\"><span class=\"r\">at</span> </span><span class=\"txtt\"><span class=\"r\">re</span></span><span class=\"txtt\">-</span><span class=\"txtt\"><span class=\"r\">ši</span></span><span class=\"txtt\">-</span><span class=\"txtt\"><span class=\"r\">šu</span> </span></div>"
      ],
      "text/plain": [
       "<IPython.core.display.HTML object>"
      ]
     },
     "metadata": {},
     "output_type": "display_data"
    },
    {
     "data": {
      "text/html": [
       "<div class=\"\"><span class=\"tfsechead \"><span class=\"ltr\"><a target=\"_blank\" href=\"https://cdli.ucla.edu/search/search_results.php?SearchMode=Text&amp;ObjectID=P479250\" title=\"Show this document on CDLI\" sec=\"P479250 reverse:6\">P479250 reverse:6</a></span></span>  <span class=\"txtt\">[</span><span class=\"txtt\"><span class=\"missing\"><span class=\"missing\">...</span></span> </span><span class=\"txtt\"><span class=\"missing\"><span class=\"r\">na</span></span></span><span class=\"txtt\"><span class=\"missing\">-</span></span><span class=\"txtt\"><span class=\"missing\">]</span> </span><span class=\"txtt\"><span class=\"damage\"><span class=\"r\">ši</span></span> </span><span class=\"txtt\"><span class=\"r\">pat</span></span><span class=\"txtt\">-</span><span class=\"txtt\"><span class=\"r\">ri</span> </span><span class=\"txtt\"><span class=\"g\">TU₆</span> </span><span class=\"txtt\"><span class=\"g\">EN₂</span> </span></div>"
      ],
      "text/plain": [
       "<IPython.core.display.HTML object>"
      ]
     },
     "metadata": {},
     "output_type": "display_data"
    },
    {
     "data": {
      "text/html": [
       "<div class=\"\"><span class=\"tfsechead \"><span class=\"ltr\"><a target=\"_blank\" href=\"https://cdli.ucla.edu/search/search_results.php?SearchMode=Text&amp;ObjectID=P479250\" title=\"Show this document on CDLI\" sec=\"P479250 reverse:7\">P479250 reverse:7</a></span></span>  <span class=\"txtt\">[</span><span class=\"txtt\"><span class=\"missing\"><span class=\"uncertain\"><span class=\"cls\">x</span></span></span> </span><span class=\"txtt\"><span class=\"missing\"><span class=\"uncertain\"><span class=\"cls\">x</span></span></span> </span><span class=\"txtt\"><span class=\"missing\"><span class=\"uncertain\"><span class=\"cls\">x</span></span></span> </span><span class=\"txtt\"><span class=\"missing\"><span class=\"uncertain\"><span class=\"cls\">x</span></span></span> </span><span class=\"txtt\"><span class=\"missing\"><span class=\"uncertain\"><span class=\"cls\">x</span></span></span> </span><span class=\"txtt\"><span class=\"missing\"><span class=\"uncertain\"><span class=\"cls\">x</span></span></span> </span><span class=\"txtt\"><span class=\"missing\"><span class=\"uncertain\"><span class=\"cls\">x</span></span></span> </span><span class=\"txtt\"><span class=\"missing\"><span class=\"uncertain\"><span class=\"cls\">x</span></span></span> </span><span class=\"txtt\"><span class=\"missing\"><span class=\"uncertain\"><span class=\"cls\">x</span></span></span> </span><span class=\"txtt\"><span class=\"missing\"><span class=\"uncertain\"><span class=\"cls\">x</span></span></span> </span><span class=\"txtt\"><span class=\"missing\"><span class=\"uncertain\"><span class=\"cls\">x</span></span></span> </span><span class=\"txtt\"><span class=\"missing\"><span class=\"r\">ana</span></span> </span><span class=\"txtt\"><span class=\"missing\">]</span> </span><span class=\"txtt\"><span class=\"damage\"><span class=\"g\">UGU</span></span> </span><span class=\"txtt\"><span class=\"g\">EN₂</span> </span><span class=\"txtt\"><span class=\"g\">ŠUB</span></span><span class=\"txtt\">-</span><span class=\"txtt\"><span class=\"r\">di</span> </span><span class=\"txtt\"><span class=\"r\">ina</span> </span><span class=\"txtt\"><span class=\"g\">KA</span></span><span class=\"txtt\">-</span><span class=\"txtt\"><span class=\"r\">šu</span> </span><span class=\"txtt\"><span class=\"r\">u</span></span><span class=\"txtt\">-</span><span class=\"txtt\"><span class=\"r\">man</span></span><span class=\"txtt\">-</span><span class=\"txtt\"><span class=\"r\">zaq</span></span><span class=\"txtt\">-</span><span class=\"txtt\"><span class=\"r\">ma</span> </span><span class=\"txtt\"><span class=\"r\">ina</span></span><span class=\"txtt\">-</span><span class=\"txtt\"><span class=\"r\">eš</span> </span></div>"
      ],
      "text/plain": [
       "<IPython.core.display.HTML object>"
      ]
     },
     "metadata": {},
     "output_type": "display_data"
    },
    {
     "data": {
      "text/html": [
       "<div class=\"\"><span class=\"tfsechead \"><span class=\"ltr\"><a target=\"_blank\" href=\"https://cdli.ucla.edu/search/search_results.php?SearchMode=Text&amp;ObjectID=P479250\" title=\"Show this document on CDLI\" sec=\"P479250 reverse:8\">P479250 reverse:8</a></span></span>  <span class=\"txtt\">[</span><span class=\"txtt\"><span class=\"missing\"><span class=\"uncertain\"><span class=\"cls\">x</span></span></span> </span><span class=\"txtt\"><span class=\"missing\"><span class=\"uncertain\"><span class=\"cls\">x</span></span></span> </span><span class=\"txtt\"><span class=\"missing\"><span class=\"uncertain\"><span class=\"cls\">x</span></span></span> </span><span class=\"txtt\"><span class=\"missing\"><span class=\"uncertain\"><span class=\"cls\">x</span></span></span> </span><span class=\"txtt\"><span class=\"missing\"><span class=\"uncertain\"><span class=\"cls\">x</span></span></span> </span><span class=\"txtt\"><span class=\"missing\"><span class=\"uncertain\"><span class=\"cls\">x</span></span></span> </span><span class=\"txtt\"><span class=\"missing\"><span class=\"uncertain\"><span class=\"cls\">x</span></span></span> </span><span class=\"txtt\"><span class=\"missing\"><span class=\"uncertain\"><span class=\"cls\">x</span></span></span> </span><span class=\"txtt\"><span class=\"missing\"><span class=\"uncertain\"><span class=\"cls\">x</span></span></span> </span><span class=\"txtt\"><span class=\"missing\"><span class=\"uncertain\"><span class=\"cls\">x</span></span></span> </span><span class=\"txtt\"><span class=\"missing\"><span class=\"uncertain\"><span class=\"cls\">x</span></span></span> </span><span class=\"txtt\"><span class=\"missing\"><span class=\"uncertain\"><span class=\"cls\">x</span></span></span> </span><span class=\"txtt\"><span class=\"missing\"><span class=\"r\">as</span></span></span><span class=\"txtt\"><span class=\"missing\">-</span></span><span class=\"txtt\"><span class=\"missing\">]</span> </span><span class=\"txtt\"><span class=\"damage\"><span class=\"r\">suh</span></span></span><span class=\"txtt\">-</span><span class=\"txtt\"><span class=\"r\">šu</span></span><span class=\"txtt\">-</span><span class=\"txtt\"><span class=\"r\">ma</span> </span><span class=\"txtt\"><span class=\"r\">iṣ</span></span><span class=\"txtt\">-</span><span class=\"txtt\"><span class=\"r\">ṣa</span></span><span class=\"txtt\">-</span><span class=\"txtt\"><span class=\"r\">bat</span> </span><span class=\"txtt\"><span class=\"g\">ŠA₃</span></span><span class=\"txtt\">-</span><span class=\"txtt\"><span class=\"r\">bi</span> </span></div>"
      ],
      "text/plain": [
       "<IPython.core.display.HTML object>"
      ]
     },
     "metadata": {},
     "output_type": "display_data"
    },
    {
     "data": {
      "text/html": [
       "<div class=\"\"><span class=\"tfsechead \"><span class=\"ltr\"><a target=\"_blank\" href=\"https://cdli.ucla.edu/search/search_results.php?SearchMode=Text&amp;ObjectID=P479250\" title=\"Show this document on CDLI\" sec=\"P479250 reverse:9\">P479250 reverse:9</a></span></span>  <span class=\"txtt\">[</span><span class=\"txtt\"><span class=\"missing\"><span class=\"uncertain\"><span class=\"cls\">x</span></span></span> </span><span class=\"txtt\"><span class=\"missing\"><span class=\"uncertain\"><span class=\"cls\">x</span></span></span> </span><span class=\"txtt\"><span class=\"missing\"><span class=\"uncertain\"><span class=\"cls\">x</span></span></span> </span><span class=\"txtt\"><span class=\"missing\"><span class=\"uncertain\"><span class=\"cls\">x</span></span></span> </span><span class=\"txtt\"><span class=\"missing\"><span class=\"uncertain\"><span class=\"cls\">x</span></span></span> </span><span class=\"txtt\"><span class=\"missing\"><span class=\"uncertain\"><span class=\"cls\">x</span></span></span> </span><span class=\"txtt\"><span class=\"missing\"><span class=\"uncertain\"><span class=\"cls\">x</span></span></span> </span><span class=\"txtt\"><span class=\"missing\"><span class=\"uncertain\"><span class=\"cls\">x</span></span></span> </span><span class=\"txtt\"><span class=\"missing\"><span class=\"uncertain\"><span class=\"cls\">x</span></span></span> </span><span class=\"txtt\"><span class=\"missing\"><span class=\"uncertain\"><span class=\"cls\">x</span></span></span> </span><span class=\"txtt\"><span class=\"missing\"><span class=\"uncertain\"><span class=\"cls\">x</span></span></span> </span><span class=\"txtt\"><span class=\"missing\"><span class=\"uncertain\"><span class=\"cls\">x</span></span></span> </span><span class=\"txtt\"><span class=\"missing\"><span class=\"uncertain\"><span class=\"cls\">x</span></span></span> </span><span class=\"txtt\"><span class=\"missing\"><span class=\"uncertain\"><span class=\"cls\">x</span></span></span> </span><span class=\"txtt\"><span class=\"missing\"><span class=\"uncertain\"><span class=\"cls\">x</span></span></span> </span><span class=\"txtt\"><span class=\"missing\"><span class=\"uncertain\"><span class=\"cls\">x</span></span></span> </span><span class=\"txtt\"><span class=\"missing\"><span class=\"uncertain\"><span class=\"cls\">x</span></span></span> </span><span class=\"txtt\"><span class=\"missing\"><span class=\"uncertain\"><span class=\"cls\">x</span></span></span> </span><span class=\"txtt\"><span class=\"missing\">]</span> </span><span class=\"txtt\"><span class=\"damage\"><span class=\"g\">KI</span></span> </span><span class=\"txtt\"><span class=\"g\">DU₁₁</span></span><span class=\"txtt\">.</span><span class=\"txtt\"><span class=\"g\">GA</span></span><span class=\"txtt\">-</span><span class=\"txtt\"><span class=\"r\">ma</span> </span><span class=\"txtt\"><span class=\"r\">iṣ</span></span><span class=\"txtt\">-</span><span class=\"txtt\"><span class=\"r\">ṣa</span></span><span class=\"txtt\">-</span><span class=\"txtt\"><span class=\"r\">bat</span> </span><span class=\"txtt\"><span class=\"g\">ŠA₃</span></span><span class=\"txtt\">-</span><span class=\"txtt\"><span class=\"r\">bi</span> </span><span class=\"txtt\"><span class=\"g\">AN</span> </span><span class=\"txtt\"><span class=\"r\">u</span> </span><span class=\"txtt\"><span class=\"g\">KI</span> </span></div>"
      ],
      "text/plain": [
       "<IPython.core.display.HTML object>"
      ]
     },
     "metadata": {},
     "output_type": "display_data"
    },
    {
     "data": {
      "text/html": [
       "<div class=\"\"><span class=\"tfsechead \"><span class=\"ltr\"><a target=\"_blank\" href=\"https://cdli.ucla.edu/search/search_results.php?SearchMode=Text&amp;ObjectID=P479250\" title=\"Show this document on CDLI\" sec=\"P479250 reverse:10\">P479250 reverse:10</a></span></span>  <span class=\"txtt\">[</span><span class=\"txtt\"><span class=\"missing\"><span class=\"uncertain\"><span class=\"cls\">x</span></span></span> </span><span class=\"txtt\"><span class=\"missing\"><span class=\"uncertain\"><span class=\"cls\">x</span></span></span> </span><span class=\"txtt\"><span class=\"missing\"><span class=\"uncertain\"><span class=\"cls\">x</span></span></span> </span><span class=\"txtt\"><span class=\"missing\"><span class=\"uncertain\"><span class=\"cls\">x</span></span></span> </span><span class=\"txtt\"><span class=\"missing\"><span class=\"uncertain\"><span class=\"cls\">x</span></span></span> </span><span class=\"txtt\"><span class=\"missing\"><span class=\"uncertain\"><span class=\"cls\">x</span></span></span> </span><span class=\"txtt\"><span class=\"missing\"><span class=\"uncertain\"><span class=\"cls\">x</span></span></span> </span><span class=\"txtt\"><span class=\"missing\"><span class=\"uncertain\"><span class=\"cls\">x</span></span></span> </span><span class=\"txtt\"><span class=\"missing\"><span class=\"uncertain\"><span class=\"cls\">x</span></span></span> </span><span class=\"txtt\"><span class=\"missing\"><span class=\"uncertain\"><span class=\"cls\">x</span></span></span> </span><span class=\"txtt\"><span class=\"missing\"><span class=\"uncertain\"><span class=\"cls\">x</span></span></span> </span><span class=\"txtt\"><span class=\"missing\"><span class=\"uncertain\"><span class=\"cls\">x</span></span></span> </span><span class=\"txtt\"><span class=\"missing\"><span class=\"uncertain\"><span class=\"cls\">x</span></span></span> </span><span class=\"txtt\"><span class=\"missing\"><span class=\"uncertain\"><span class=\"cls\">x</span></span></span> </span><span class=\"txtt\"><span class=\"missing\"><span class=\"uncertain\"><span class=\"cls\">x</span></span></span> </span><span class=\"txtt\"><span class=\"missing\"><span class=\"uncertain\"><span class=\"cls\">x</span></span></span> </span><span class=\"txtt\"><span class=\"missing\"><span class=\"r\">a</span></span></span><span class=\"txtt\"><span class=\"missing\">-</span></span><span class=\"txtt\"><span class=\"missing\"><span class=\"r\">na</span></span> </span><span class=\"txtt\"><span class=\"missing\"><span class=\"r\">u</span></span></span><span class=\"txtt\"><span class=\"missing\">-</span></span><span class=\"txtt\"><span class=\"missing\"><span class=\"r\">ma</span></span></span><span class=\"txtt\"><span class=\"missing\">]</span></span><span class=\"txtt\">-</span><span class=\"txtt\"><span class=\"damage\"><span class=\"r\">mi</span></span> </span><span class=\"txtt\"><span class=\"g\">DU₁₁</span></span><span class=\"txtt\">.</span><span class=\"txtt\"><span class=\"g\">GA</span></span><span class=\"txtt\">-</span><span class=\"txtt\"><span class=\"r\">ma</span> </span><span class=\"txtt\"><span class=\"r\">iṣ</span></span><span class=\"txtt\">-</span><span class=\"txtt\"><span class=\"r\">ṣa</span></span><span class=\"txtt\">-</span><span class=\"txtt\"><span class=\"r\">bat</span> </span><span class=\"txtt\"><span class=\"g\">ŠA₃</span></span><span class=\"txtt\">-</span><span class=\"txtt\"><span class=\"r\">bi</span> </span><span class=\"txtt\"><span class=\"r\">u</span></span><span class=\"txtt\">-</span><span class=\"txtt\"><span class=\"r\">ma</span></span><span class=\"txtt\">-</span><span class=\"txtt\"><span class=\"r\">me</span> </span></div>"
      ],
      "text/plain": [
       "<IPython.core.display.HTML object>"
      ]
     },
     "metadata": {},
     "output_type": "display_data"
    },
    {
     "data": {
      "text/html": [
       "<div class=\"\"><span class=\"tfsechead \"><span class=\"ltr\"><a target=\"_blank\" href=\"https://cdli.ucla.edu/search/search_results.php?SearchMode=Text&amp;ObjectID=P479250\" title=\"Show this document on CDLI\" sec=\"P479250 reverse:11\">P479250 reverse:11</a></span></span>  <span class=\"txtt\">[</span><span class=\"txtt\"><span class=\"missing\"><span class=\"uncertain\"><span class=\"cls\">x</span></span></span> </span><span class=\"txtt\"><span class=\"missing\"><span class=\"uncertain\"><span class=\"cls\">x</span></span></span> </span><span class=\"txtt\"><span class=\"missing\"><span class=\"uncertain\"><span class=\"cls\">x</span></span></span> </span><span class=\"txtt\"><span class=\"missing\"><span class=\"uncertain\"><span class=\"cls\">x</span></span></span> </span><span class=\"txtt\"><span class=\"missing\"><span class=\"uncertain\"><span class=\"cls\">x</span></span></span> </span><span class=\"txtt\"><span class=\"missing\"><span class=\"uncertain\"><span class=\"cls\">x</span></span></span> </span><span class=\"txtt\"><span class=\"missing\"><span class=\"uncertain\"><span class=\"cls\">x</span></span></span> </span><span class=\"txtt\"><span class=\"missing\"><span class=\"uncertain\"><span class=\"cls\">x</span></span></span> </span><span class=\"txtt\"><span class=\"missing\"><span class=\"uncertain\"><span class=\"cls\">x</span></span></span> </span><span class=\"txtt\"><span class=\"missing\"><span class=\"uncertain\"><span class=\"cls\">x</span></span></span> </span><span class=\"txtt\"><span class=\"missing\"><span class=\"uncertain\"><span class=\"cls\">x</span></span></span> </span><span class=\"txtt\"><span class=\"missing\"><span class=\"uncertain\"><span class=\"cls\">x</span></span></span> </span><span class=\"txtt\"><span class=\"missing\"><span class=\"uncertain\"><span class=\"cls\">x</span></span></span> </span><span class=\"txtt\"><span class=\"missing\">]</span> </span><span class=\"txtt\"><span class=\"damage\"><span class=\"g\">ŠA₃</span></span></span><span class=\"txtt\">-</span><span class=\"txtt\">bi </span><span class=\"txtt\"><span class=\"det\">d</span></span><span class=\"txtt\"><span class=\"g\">UTU</span> </span><span class=\"txtt\"><span class=\"r\">lip</span></span><span class=\"txtt\">-</span><span class=\"txtt\"><span class=\"r\">pa</span></span><span class=\"txtt\">-</span><span class=\"txtt\"><span class=\"r\">šir</span> </span></div>"
      ],
      "text/plain": [
       "<IPython.core.display.HTML object>"
      ]
     },
     "metadata": {},
     "output_type": "display_data"
    },
    {
     "data": {
      "text/html": [
       "<div class=\"\"><span class=\"tfsechead \"><span class=\"ltr\"><a target=\"_blank\" href=\"https://cdli.ucla.edu/search/search_results.php?SearchMode=Text&amp;ObjectID=P479250\" title=\"Show this document on CDLI\" sec=\"P479250 reverse:12\">P479250 reverse:12</a></span></span>  <span class=\"txtt\">[</span><span class=\"txtt\"><span class=\"missing\"><span class=\"uncertain\"><span class=\"cls\">x</span></span></span> </span><span class=\"txtt\"><span class=\"missing\"><span class=\"uncertain\"><span class=\"cls\">x</span></span></span> </span><span class=\"txtt\"><span class=\"missing\"><span class=\"uncertain\"><span class=\"cls\">x</span></span></span> </span><span class=\"txtt\"><span class=\"missing\"><span class=\"uncertain\"><span class=\"cls\">x</span></span></span> </span><span class=\"txtt\"><span class=\"missing\"><span class=\"uncertain\"><span class=\"cls\">x</span></span></span> </span><span class=\"txtt\"><span class=\"missing\"><span class=\"uncertain\"><span class=\"cls\">x</span></span></span> </span><span class=\"txtt\"><span class=\"missing\"><span class=\"uncertain\"><span class=\"cls\">x</span></span></span> </span><span class=\"txtt\"><span class=\"missing\">]</span> </span><span class=\"txtt\"><span class=\"damage\"><span class=\"g\">ŠA₃</span></span></span><span class=\"txtt\">-</span><span class=\"txtt\"><span class=\"damage\"><span class=\"r\">bi</span></span> </span><span class=\"txtt\"><span class=\"r\">u</span></span><span class=\"txtt\">-</span><span class=\"txtt\"><span class=\"r\">ma</span></span><span class=\"txtt\">-</span><span class=\"txtt\"><span class=\"r\">me</span> </span><span class=\"txtt\"><span class=\"r\">lip</span></span><span class=\"txtt\">-</span><span class=\"txtt\"><span class=\"r\">pa</span></span><span class=\"txtt\">-</span><span class=\"txtt\"><span class=\"r\">šir</span> </span></div>"
      ],
      "text/plain": [
       "<IPython.core.display.HTML object>"
      ]
     },
     "metadata": {},
     "output_type": "display_data"
    },
    {
     "data": {
      "text/html": [
       "<div class=\"\"><span class=\"tfsechead \"><span class=\"ltr\"><a target=\"_blank\" href=\"https://cdli.ucla.edu/search/search_results.php?SearchMode=Text&amp;ObjectID=P479250\" title=\"Show this document on CDLI\" sec=\"P479250 reverse:13\">P479250 reverse:13</a></span></span>  <span class=\"txtt\">[</span><span class=\"txtt\"><span class=\"missing\"><span class=\"uncertain\"><span class=\"cls\">x</span></span></span> </span><span class=\"txtt\"><span class=\"missing\"><span class=\"uncertain\"><span class=\"cls\">x</span></span></span> </span><span class=\"txtt\"><span class=\"missing\"><span class=\"uncertain\"><span class=\"cls\">x</span></span></span> </span><span class=\"txtt\"><span class=\"missing\"><span class=\"uncertain\"><span class=\"cls\">x</span></span></span> </span><span class=\"txtt\"><span class=\"missing\"><span class=\"uncertain\"><span class=\"cls\">x</span></span></span> </span><span class=\"txtt\"><span class=\"missing\"><span class=\"uncertain\"><span class=\"cls\">x</span></span></span> </span><span class=\"txtt\"><span class=\"missing\"><span class=\"uncertain\"><span class=\"cls\">x</span></span></span> </span><span class=\"txtt\"><span class=\"missing\"><span class=\"uncertain\"><span class=\"cls\">x</span></span></span> </span><span class=\"txtt\"><span class=\"missing\"><span class=\"uncertain\"><span class=\"cls\">x</span></span></span> </span><span class=\"txtt\"><span class=\"missing\"><span class=\"uncertain\"><span class=\"cls\">x</span></span></span> </span><span class=\"txtt\"><span class=\"missing\"><span class=\"uncertain\"><span class=\"cls\">x</span></span></span> </span><span class=\"txtt\"><span class=\"missing\"><span class=\"uncertain\"><span class=\"cls\">x</span></span></span> </span><span class=\"txtt\"><span class=\"missing\"><span class=\"r\">šam</span></span></span><span class=\"txtt\"><span class=\"missing\">-</span></span><span class=\"txtt\"><span class=\"missing\"><span class=\"r\">ma</span></span></span><span class=\"txtt\"><span class=\"missing\">]</span></span><span class=\"txtt\">-</span><span class=\"txtt\"><span class=\"r\">ka</span> </span><span class=\"txtt\"><span class=\"g\">NAG</span></span><span class=\"txtt\">-</span><span class=\"txtt\"><span class=\"r\">šu</span> </span><span class=\"txtt\"><span class=\"r\">lib</span></span><span class=\"txtt\">-</span><span class=\"txtt\"><span class=\"r\">luṭ</span> </span></div>"
      ],
      "text/plain": [
       "<IPython.core.display.HTML object>"
      ]
     },
     "metadata": {},
     "output_type": "display_data"
    },
    {
     "data": {
      "text/html": [
       "<div class=\"\"><span class=\"tfsechead \"><span class=\"ltr\"><a target=\"_blank\" href=\"https://cdli.ucla.edu/search/search_results.php?SearchMode=Text&amp;ObjectID=P479250\" title=\"Show this document on CDLI\" sec=\"P479250 reverse:14\">P479250 reverse:14</a></span></span>  <span class=\"txtt\">[</span><span class=\"txtt\"><span class=\"missing\"><span class=\"missing\">...</span></span></span><span class=\"txtt\"><span class=\"missing\">]</span> </span><span class=\"txtt\"><span class=\"damage\"><span class=\"g\">U₂</span></span> </span><span class=\"txtt\"><span class=\"g\">KI</span> </span><span class=\"txtt\"><span class=\"g\">KI</span> </span><span class=\"txtt\"><span class=\"g\">MIN</span> </span><span class=\"txtt\"><span class=\"g\">KI</span> </span><span class=\"txtt\"><span class=\"g\">MIN</span> </span></div>"
      ],
      "text/plain": [
       "<IPython.core.display.HTML object>"
      ]
     },
     "metadata": {},
     "output_type": "display_data"
    },
    {
     "data": {
      "text/html": [
       "<div class=\"\"><span class=\"tfsechead \"><span class=\"ltr\"><a target=\"_blank\" href=\"https://cdli.ucla.edu/search/search_results.php?SearchMode=Text&amp;ObjectID=P479250\" title=\"Show this document on CDLI\" sec=\"P479250 reverse:15\">P479250 reverse:15</a></span></span>  <span class=\"txtt\">[</span><span class=\"txtt\"><span class=\"missing\"><span class=\"missing\">...</span></span></span><span class=\"txtt\"><span class=\"missing\">]</span> </span><span class=\"txtt\"><span class=\"damage\"><span class=\"g\">ŠA₃</span></span></span><span class=\"txtt\">-</span><span class=\"txtt\"><span class=\"r\">bu</span> </span><span class=\"txtt\"><span class=\"r\">i</span></span><span class=\"txtt\">-</span><span class=\"txtt\"><span class=\"r\">re</span></span><span class=\"txtt\">-</span><span class=\"txtt\"><span class=\"r\">du</span></span><span class=\"txtt\">-</span><span class=\"txtt\"><span class=\"r\">šu</span> </span></div>"
      ],
      "text/plain": [
       "<IPython.core.display.HTML object>"
      ]
     },
     "metadata": {},
     "output_type": "display_data"
    },
    {
     "data": {
      "text/html": [
       "<div class=\"\"><span class=\"tfsechead \"><span class=\"ltr\"><a target=\"_blank\" href=\"https://cdli.ucla.edu/search/search_results.php?SearchMode=Text&amp;ObjectID=P479250\" title=\"Show this document on CDLI\" sec=\"P479250 reverse:16\">P479250 reverse:16</a></span></span>  <span class=\"txtt\">[</span><span class=\"txtt\"><span class=\"missing\"><span class=\"missing\">...</span></span> </span><span class=\"txtt\"><span class=\"missing\"><span class=\"r\">ap</span></span></span><span class=\"txtt\"><span class=\"missing\">-</span></span><span class=\"txtt\"><span class=\"missing\">]</span> </span><span class=\"txtt\"><span class=\"question damage\"><span class=\"r\">pi</span></span> </span><span class=\"txtt\"><span class=\"r\">šil</span></span><span class=\"txtt\">-</span><span class=\"txtt\"><span class=\"r\">ta</span></span><span class=\"txtt\">-</span><span class=\"txtt\"><span class=\"r\">hi</span> </span><span class=\"txtt\"><span class=\"r\">ša</span> </span><span class=\"txtt\">7 </span><span class=\"txtt\"><span class=\"g\">KA</span></span><span class=\"txtt\">.</span><span class=\"txtt\"><span class=\"g\">KEŠDA</span></span><span class=\"txtt\">-</span><span class=\"txtt\"><span class=\"g\">MEŠ</span></span><span class=\"txtt\">-</span><span class=\"txtt\"><span class=\"r\">šu</span> </span><span class=\"txtt\">7</span><span class=\"txtt\">-</span><span class=\"txtt\"><span class=\"r\">šu</span> </span><span class=\"txtt\"><span class=\"r\">u</span> </span><span class=\"txtt\">7</span><span class=\"txtt\">-</span><span class=\"txtt\"><span class=\"r\">šu</span> </span></div>"
      ],
      "text/plain": [
       "<IPython.core.display.HTML object>"
      ]
     },
     "metadata": {},
     "output_type": "display_data"
    },
    {
     "data": {
      "text/html": [
       "<div class=\"\"><span class=\"tfsechead \"><span class=\"ltr\"><a target=\"_blank\" href=\"https://cdli.ucla.edu/search/search_results.php?SearchMode=Text&amp;ObjectID=P479250\" title=\"Show this document on CDLI\" sec=\"P479250 reverse:17\">P479250 reverse:17</a></span></span>  <span class=\"txtt\">[</span><span class=\"txtt\"><span class=\"missing\"><span class=\"missing\">...</span></span> </span><span class=\"txtt\"><span class=\"missing\">]</span> </span><span class=\"txtt\"><span class=\"question damage\"><span class=\"g\">SAHAR</span></span> </span><span class=\"txtt\"><span class=\"damage\">TA#</span> </span><span class=\"txtt\"><span class=\"det\"><span class=\"damage\">urudu#</span></span></span><span class=\"txtt\"><span class=\"damage\"><span class=\"r\">na</span></span></span><span class=\"txtt\">-</span><span class=\"txtt\"><span class=\"damage\"><span class=\"r\">ah</span></span></span><span class=\"txtt\">-</span><span class=\"txtt\"><span class=\"question damage\"><span class=\"r\">bi</span></span> </span><span class=\"txtt\">[</span><span class=\"txtt\"><span class=\"question missing\">ana?</span> </span><span class=\"txtt\"><span class=\"det\"><span class=\"missing\">]</span></span> </span><span class=\"txtt\"><span class=\"det\"><span class=\"damage\">urudu#</span></span></span><span class=\"txtt\"><span class=\"damage\"><span class=\"r\">na</span></span></span><span class=\"txtt\">-</span><span class=\"txtt\"><span class=\"damage\"><span class=\"r\">ah</span></span></span><span class=\"txtt\">-</span><span class=\"txtt\"><span class=\"question damage\"><span class=\"r\">bi</span></span> </span></div>"
      ],
      "text/plain": [
       "<IPython.core.display.HTML object>"
      ]
     },
     "metadata": {},
     "output_type": "display_data"
    }
   ],
   "source": [
    "for ln in lines:\n",
    "    A.plain(ln, fmt=\"layout-orig-full\")"
   ]
  },
  {
   "cell_type": "markdown",
   "metadata": {},
   "source": [
    "### `layout-orig-plain`\n",
    "\n",
    "This format looks like `text-orig-plain`, but now we re-introduce the flags and clusters by specific\n",
    "layout devices.\n",
    "\n",
    "See below for detailed examples."
   ]
  },
  {
   "cell_type": "code",
   "execution_count": 75,
   "metadata": {},
   "outputs": [
    {
     "data": {
      "text/html": [
       "<div class=\"\"><span class=\"tfsechead \"><span class=\"ltr\"><a target=\"_blank\" href=\"https://cdli.ucla.edu/search/search_results.php?SearchMode=Text&amp;ObjectID=P479250\" title=\"Show this document on CDLI\" sec=\"P479250 reverse:!1\">P479250 reverse:!1</a></span></span>  <span class=\"txtt\"><span class=\"empty\">∅</span>None</span></div>"
      ],
      "text/plain": [
       "<IPython.core.display.HTML object>"
      ]
     },
     "metadata": {},
     "output_type": "display_data"
    },
    {
     "data": {
      "text/html": [
       "<div class=\"\"><span class=\"tfsechead \"><span class=\"ltr\"><a target=\"_blank\" href=\"https://cdli.ucla.edu/search/search_results.php?SearchMode=Text&amp;ObjectID=P479250\" title=\"Show this document on CDLI\" sec=\"P479250 reverse:1\">P479250 reverse:1</a></span></span>  <span class=\"txtt\">%sux </span><span class=\"txtt\"><span class=\"missing\"><span class=\"missing\">...</span></span></span><span class=\"txtt\"><span class=\"missing\"></span> </span><span class=\"txtt\"><span class=\"damage\"><span class=\"r\">ka</span></span></span><span class=\"txtt\">-</span><span class=\"txtt\"><span class=\"damage\"><span class=\"r\">keš</span></span></span><span class=\"txtt\">-</span><span class=\"txtt\"><span class=\"damage\"><span class=\"r\">bi</span></span> </span><span class=\"txtt\"><span class=\"r\">he</span></span><span class=\"txtt\">-</span><span class=\"txtt\"><span class=\"r\">du</span></span><span class=\"txtt\">-</span><span class=\"txtt\"><span class=\"r\">a</span> </span></div>"
      ],
      "text/plain": [
       "<IPython.core.display.HTML object>"
      ]
     },
     "metadata": {},
     "output_type": "display_data"
    },
    {
     "data": {
      "text/html": [
       "<div class=\"\"><span class=\"tfsechead \"><span class=\"ltr\"><a target=\"_blank\" href=\"https://cdli.ucla.edu/search/search_results.php?SearchMode=Text&amp;ObjectID=P479250\" title=\"Show this document on CDLI\" sec=\"P479250 reverse:2\">P479250 reverse:2</a></span></span>  <span class=\"txtt\">%sux </span><span class=\"txtt\"><span class=\"missing\"><span class=\"missing\">...</span></span></span><span class=\"txtt\"><span class=\"missing\"></span> </span><span class=\"txtt\"><span class=\"r\">ka</span></span><span class=\"txtt\">-</span><span class=\"txtt\"><span class=\"r\">keš</span></span><span class=\"txtt\">-</span><span class=\"txtt\"><span class=\"r\">bi</span> </span><span class=\"txtt\"><span class=\"r\">he</span></span><span class=\"txtt\">-</span><span class=\"txtt\"><span class=\"r\">du</span></span><span class=\"txtt\">-</span><span class=\"txtt\"><span class=\"r\">a</span> </span></div>"
      ],
      "text/plain": [
       "<IPython.core.display.HTML object>"
      ]
     },
     "metadata": {},
     "output_type": "display_data"
    },
    {
     "data": {
      "text/html": [
       "<div class=\"\"><span class=\"tfsechead \"><span class=\"ltr\"><a target=\"_blank\" href=\"https://cdli.ucla.edu/search/search_results.php?SearchMode=Text&amp;ObjectID=P479250\" title=\"Show this document on CDLI\" sec=\"P479250 reverse:3\">P479250 reverse:3</a></span></span>  <span class=\"txtt\"><span class=\"missing\"><span class=\"uncertain\"><span class=\"cls\">x</span></span></span> </span><span class=\"txtt\"><span class=\"missing\"><span class=\"uncertain\"><span class=\"cls\">x</span></span></span> </span><span class=\"txtt\"><span class=\"missing\"><span class=\"uncertain\"><span class=\"cls\">x</span></span></span> </span><span class=\"txtt\"><span class=\"missing\"><span class=\"uncertain\"><span class=\"cls\">x</span></span></span> </span><span class=\"txtt\"><span class=\"missing\"><span class=\"uncertain\"><span class=\"cls\">x</span></span></span> </span><span class=\"txtt\"><span class=\"missing\"><span class=\"uncertain\"><span class=\"cls\">x</span></span></span> </span><span class=\"txtt\"><span class=\"missing\"><span class=\"uncertain\"><span class=\"cls\">x</span></span></span> </span><span class=\"txtt\"><span class=\"missing\"><span class=\"uncertain\"><span class=\"cls\">x</span></span></span> </span><span class=\"txtt\"><span class=\"missing\"><span class=\"uncertain\"><span class=\"cls\">x</span></span></span> </span><span class=\"txtt\"><span class=\"missing\"><span class=\"uncertain\"><span class=\"cls\">x</span></span></span> </span><span class=\"txtt\"><span class=\"missing\"><span class=\"uncertain\"><span class=\"cls\">x</span></span></span> </span><span class=\"txtt\"><span class=\"missing\"><span class=\"uncertain\"><span class=\"cls\">x</span></span></span> </span><span class=\"txtt\"><span class=\"missing\"><span class=\"r\">ina</span></span> </span><span class=\"txtt\"><span class=\"missing\"><span class=\"g\">KA</span></span></span><span class=\"txtt\"><span class=\"missing\">-</span></span><span class=\"txtt\"><span class=\"missing\"></span> </span><span class=\"txtt\"><span class=\"damage\"><span class=\"r\">šu</span></span> </span><span class=\"txtt\"><span class=\"r\">u</span></span><span class=\"txtt\">-</span><span class=\"txtt\"><span class=\"r\">man</span></span><span class=\"txtt\">-</span><span class=\"txtt\"><span class=\"r\">zaq</span></span><span class=\"txtt\">-</span><span class=\"txtt\"><span class=\"r\">ma</span> </span><span class=\"txtt\"><span class=\"r\">ina</span></span><span class=\"txtt\">-</span><span class=\"txtt\"><span class=\"r\">eš</span> </span></div>"
      ],
      "text/plain": [
       "<IPython.core.display.HTML object>"
      ]
     },
     "metadata": {},
     "output_type": "display_data"
    },
    {
     "data": {
      "text/html": [
       "<div class=\"\"><span class=\"tfsechead \"><span class=\"ltr\"><a target=\"_blank\" href=\"https://cdli.ucla.edu/search/search_results.php?SearchMode=Text&amp;ObjectID=P479250\" title=\"Show this document on CDLI\" sec=\"P479250 reverse:4\">P479250 reverse:4</a></span></span>  <span class=\"txtt\"><span class=\"missing\"><span class=\"missing\">...</span></span> </span><span class=\"txtt\"><span class=\"missing\"></span> </span><span class=\"txtt\"><span class=\"damage\"><span class=\"g\">SIG₃</span></span></span><span class=\"txtt\">.</span><span class=\"txtt\"><span class=\"g\">SIG₃</span></span><span class=\"txtt\">-</span><span class=\"txtt\"><span class=\"r\">ta</span> </span><span class=\"txtt\"><span class=\"r\">ma</span></span><span class=\"txtt\">-</span><span class=\"txtt\"><span class=\"r\">la</span></span><span class=\"txtt\">-</span><span class=\"txtt\"><span class=\"r\">a</span> </span><span class=\"txtt\"><span class=\"r\">rit</span></span><span class=\"txtt\">-</span><span class=\"txtt\"><span class=\"r\">ta</span></span><span class=\"txtt\">-</span><span class=\"txtt\"><span class=\"r\">šu</span> </span></div>"
      ],
      "text/plain": [
       "<IPython.core.display.HTML object>"
      ]
     },
     "metadata": {},
     "output_type": "display_data"
    },
    {
     "data": {
      "text/html": [
       "<div class=\"\"><span class=\"tfsechead \"><span class=\"ltr\"><a target=\"_blank\" href=\"https://cdli.ucla.edu/search/search_results.php?SearchMode=Text&amp;ObjectID=P479250\" title=\"Show this document on CDLI\" sec=\"P479250 reverse:5\">P479250 reverse:5</a></span></span>  <span class=\"txtt\"><span class=\"missing\"><span class=\"missing\">...</span></span> </span><span class=\"txtt\"><span class=\"missing\"><span class=\"r\">a</span></span></span><span class=\"txtt\"><span class=\"missing\"></span></span><span class=\"txtt\">-</span><span class=\"txtt\"><span class=\"r\">ha</span></span><span class=\"txtt\">-</span><span class=\"txtt\"><span class=\"r\">tu</span> </span><span class=\"txtt\"><span class=\"r\">mu</span></span><span class=\"txtt\">-</span><span class=\"txtt\"><span class=\"r\">še</span></span><span class=\"txtt\">-</span><span class=\"txtt\"><span class=\"r\">qa</span></span><span class=\"txtt\">-</span><span class=\"txtt\"><span class=\"r\">at</span> </span><span class=\"txtt\"><span class=\"r\">re</span></span><span class=\"txtt\">-</span><span class=\"txtt\"><span class=\"r\">ši</span></span><span class=\"txtt\">-</span><span class=\"txtt\"><span class=\"r\">šu</span> </span></div>"
      ],
      "text/plain": [
       "<IPython.core.display.HTML object>"
      ]
     },
     "metadata": {},
     "output_type": "display_data"
    },
    {
     "data": {
      "text/html": [
       "<div class=\"\"><span class=\"tfsechead \"><span class=\"ltr\"><a target=\"_blank\" href=\"https://cdli.ucla.edu/search/search_results.php?SearchMode=Text&amp;ObjectID=P479250\" title=\"Show this document on CDLI\" sec=\"P479250 reverse:6\">P479250 reverse:6</a></span></span>  <span class=\"txtt\"><span class=\"missing\"><span class=\"missing\">...</span></span> </span><span class=\"txtt\"><span class=\"missing\"><span class=\"r\">na</span></span></span><span class=\"txtt\"><span class=\"missing\">-</span></span><span class=\"txtt\"><span class=\"missing\"></span> </span><span class=\"txtt\"><span class=\"damage\"><span class=\"r\">ši</span></span> </span><span class=\"txtt\"><span class=\"r\">pat</span></span><span class=\"txtt\">-</span><span class=\"txtt\"><span class=\"r\">ri</span> </span><span class=\"txtt\"><span class=\"g\">TU₆</span> </span><span class=\"txtt\"><span class=\"g\">EN₂</span> </span></div>"
      ],
      "text/plain": [
       "<IPython.core.display.HTML object>"
      ]
     },
     "metadata": {},
     "output_type": "display_data"
    },
    {
     "data": {
      "text/html": [
       "<div class=\"\"><span class=\"tfsechead \"><span class=\"ltr\"><a target=\"_blank\" href=\"https://cdli.ucla.edu/search/search_results.php?SearchMode=Text&amp;ObjectID=P479250\" title=\"Show this document on CDLI\" sec=\"P479250 reverse:7\">P479250 reverse:7</a></span></span>  <span class=\"txtt\"><span class=\"missing\"><span class=\"uncertain\"><span class=\"cls\">x</span></span></span> </span><span class=\"txtt\"><span class=\"missing\"><span class=\"uncertain\"><span class=\"cls\">x</span></span></span> </span><span class=\"txtt\"><span class=\"missing\"><span class=\"uncertain\"><span class=\"cls\">x</span></span></span> </span><span class=\"txtt\"><span class=\"missing\"><span class=\"uncertain\"><span class=\"cls\">x</span></span></span> </span><span class=\"txtt\"><span class=\"missing\"><span class=\"uncertain\"><span class=\"cls\">x</span></span></span> </span><span class=\"txtt\"><span class=\"missing\"><span class=\"uncertain\"><span class=\"cls\">x</span></span></span> </span><span class=\"txtt\"><span class=\"missing\"><span class=\"uncertain\"><span class=\"cls\">x</span></span></span> </span><span class=\"txtt\"><span class=\"missing\"><span class=\"uncertain\"><span class=\"cls\">x</span></span></span> </span><span class=\"txtt\"><span class=\"missing\"><span class=\"uncertain\"><span class=\"cls\">x</span></span></span> </span><span class=\"txtt\"><span class=\"missing\"><span class=\"uncertain\"><span class=\"cls\">x</span></span></span> </span><span class=\"txtt\"><span class=\"missing\"><span class=\"uncertain\"><span class=\"cls\">x</span></span></span> </span><span class=\"txtt\"><span class=\"missing\"><span class=\"r\">ana</span></span> </span><span class=\"txtt\"><span class=\"missing\"></span> </span><span class=\"txtt\"><span class=\"damage\"><span class=\"g\">UGU</span></span> </span><span class=\"txtt\"><span class=\"g\">EN₂</span> </span><span class=\"txtt\"><span class=\"g\">ŠUB</span></span><span class=\"txtt\">-</span><span class=\"txtt\"><span class=\"r\">di</span> </span><span class=\"txtt\"><span class=\"r\">ina</span> </span><span class=\"txtt\"><span class=\"g\">KA</span></span><span class=\"txtt\">-</span><span class=\"txtt\"><span class=\"r\">šu</span> </span><span class=\"txtt\"><span class=\"r\">u</span></span><span class=\"txtt\">-</span><span class=\"txtt\"><span class=\"r\">man</span></span><span class=\"txtt\">-</span><span class=\"txtt\"><span class=\"r\">zaq</span></span><span class=\"txtt\">-</span><span class=\"txtt\"><span class=\"r\">ma</span> </span><span class=\"txtt\"><span class=\"r\">ina</span></span><span class=\"txtt\">-</span><span class=\"txtt\"><span class=\"r\">eš</span> </span></div>"
      ],
      "text/plain": [
       "<IPython.core.display.HTML object>"
      ]
     },
     "metadata": {},
     "output_type": "display_data"
    },
    {
     "data": {
      "text/html": [
       "<div class=\"\"><span class=\"tfsechead \"><span class=\"ltr\"><a target=\"_blank\" href=\"https://cdli.ucla.edu/search/search_results.php?SearchMode=Text&amp;ObjectID=P479250\" title=\"Show this document on CDLI\" sec=\"P479250 reverse:8\">P479250 reverse:8</a></span></span>  <span class=\"txtt\"><span class=\"missing\"><span class=\"uncertain\"><span class=\"cls\">x</span></span></span> </span><span class=\"txtt\"><span class=\"missing\"><span class=\"uncertain\"><span class=\"cls\">x</span></span></span> </span><span class=\"txtt\"><span class=\"missing\"><span class=\"uncertain\"><span class=\"cls\">x</span></span></span> </span><span class=\"txtt\"><span class=\"missing\"><span class=\"uncertain\"><span class=\"cls\">x</span></span></span> </span><span class=\"txtt\"><span class=\"missing\"><span class=\"uncertain\"><span class=\"cls\">x</span></span></span> </span><span class=\"txtt\"><span class=\"missing\"><span class=\"uncertain\"><span class=\"cls\">x</span></span></span> </span><span class=\"txtt\"><span class=\"missing\"><span class=\"uncertain\"><span class=\"cls\">x</span></span></span> </span><span class=\"txtt\"><span class=\"missing\"><span class=\"uncertain\"><span class=\"cls\">x</span></span></span> </span><span class=\"txtt\"><span class=\"missing\"><span class=\"uncertain\"><span class=\"cls\">x</span></span></span> </span><span class=\"txtt\"><span class=\"missing\"><span class=\"uncertain\"><span class=\"cls\">x</span></span></span> </span><span class=\"txtt\"><span class=\"missing\"><span class=\"uncertain\"><span class=\"cls\">x</span></span></span> </span><span class=\"txtt\"><span class=\"missing\"><span class=\"uncertain\"><span class=\"cls\">x</span></span></span> </span><span class=\"txtt\"><span class=\"missing\"><span class=\"r\">as</span></span></span><span class=\"txtt\"><span class=\"missing\">-</span></span><span class=\"txtt\"><span class=\"missing\"></span> </span><span class=\"txtt\"><span class=\"damage\"><span class=\"r\">suh</span></span></span><span class=\"txtt\">-</span><span class=\"txtt\"><span class=\"r\">šu</span></span><span class=\"txtt\">-</span><span class=\"txtt\"><span class=\"r\">ma</span> </span><span class=\"txtt\"><span class=\"r\">iṣ</span></span><span class=\"txtt\">-</span><span class=\"txtt\"><span class=\"r\">ṣa</span></span><span class=\"txtt\">-</span><span class=\"txtt\"><span class=\"r\">bat</span> </span><span class=\"txtt\"><span class=\"g\">ŠA₃</span></span><span class=\"txtt\">-</span><span class=\"txtt\"><span class=\"r\">bi</span> </span></div>"
      ],
      "text/plain": [
       "<IPython.core.display.HTML object>"
      ]
     },
     "metadata": {},
     "output_type": "display_data"
    },
    {
     "data": {
      "text/html": [
       "<div class=\"\"><span class=\"tfsechead \"><span class=\"ltr\"><a target=\"_blank\" href=\"https://cdli.ucla.edu/search/search_results.php?SearchMode=Text&amp;ObjectID=P479250\" title=\"Show this document on CDLI\" sec=\"P479250 reverse:9\">P479250 reverse:9</a></span></span>  <span class=\"txtt\"><span class=\"missing\"><span class=\"uncertain\"><span class=\"cls\">x</span></span></span> </span><span class=\"txtt\"><span class=\"missing\"><span class=\"uncertain\"><span class=\"cls\">x</span></span></span> </span><span class=\"txtt\"><span class=\"missing\"><span class=\"uncertain\"><span class=\"cls\">x</span></span></span> </span><span class=\"txtt\"><span class=\"missing\"><span class=\"uncertain\"><span class=\"cls\">x</span></span></span> </span><span class=\"txtt\"><span class=\"missing\"><span class=\"uncertain\"><span class=\"cls\">x</span></span></span> </span><span class=\"txtt\"><span class=\"missing\"><span class=\"uncertain\"><span class=\"cls\">x</span></span></span> </span><span class=\"txtt\"><span class=\"missing\"><span class=\"uncertain\"><span class=\"cls\">x</span></span></span> </span><span class=\"txtt\"><span class=\"missing\"><span class=\"uncertain\"><span class=\"cls\">x</span></span></span> </span><span class=\"txtt\"><span class=\"missing\"><span class=\"uncertain\"><span class=\"cls\">x</span></span></span> </span><span class=\"txtt\"><span class=\"missing\"><span class=\"uncertain\"><span class=\"cls\">x</span></span></span> </span><span class=\"txtt\"><span class=\"missing\"><span class=\"uncertain\"><span class=\"cls\">x</span></span></span> </span><span class=\"txtt\"><span class=\"missing\"><span class=\"uncertain\"><span class=\"cls\">x</span></span></span> </span><span class=\"txtt\"><span class=\"missing\"><span class=\"uncertain\"><span class=\"cls\">x</span></span></span> </span><span class=\"txtt\"><span class=\"missing\"><span class=\"uncertain\"><span class=\"cls\">x</span></span></span> </span><span class=\"txtt\"><span class=\"missing\"><span class=\"uncertain\"><span class=\"cls\">x</span></span></span> </span><span class=\"txtt\"><span class=\"missing\"><span class=\"uncertain\"><span class=\"cls\">x</span></span></span> </span><span class=\"txtt\"><span class=\"missing\"><span class=\"uncertain\"><span class=\"cls\">x</span></span></span> </span><span class=\"txtt\"><span class=\"missing\"><span class=\"uncertain\"><span class=\"cls\">x</span></span></span> </span><span class=\"txtt\"><span class=\"missing\"></span> </span><span class=\"txtt\"><span class=\"damage\"><span class=\"g\">KI</span></span> </span><span class=\"txtt\"><span class=\"g\">DU₁₁</span></span><span class=\"txtt\">.</span><span class=\"txtt\"><span class=\"g\">GA</span></span><span class=\"txtt\">-</span><span class=\"txtt\"><span class=\"r\">ma</span> </span><span class=\"txtt\"><span class=\"r\">iṣ</span></span><span class=\"txtt\">-</span><span class=\"txtt\"><span class=\"r\">ṣa</span></span><span class=\"txtt\">-</span><span class=\"txtt\"><span class=\"r\">bat</span> </span><span class=\"txtt\"><span class=\"g\">ŠA₃</span></span><span class=\"txtt\">-</span><span class=\"txtt\"><span class=\"r\">bi</span> </span><span class=\"txtt\"><span class=\"g\">AN</span> </span><span class=\"txtt\"><span class=\"r\">u</span> </span><span class=\"txtt\"><span class=\"g\">KI</span> </span></div>"
      ],
      "text/plain": [
       "<IPython.core.display.HTML object>"
      ]
     },
     "metadata": {},
     "output_type": "display_data"
    },
    {
     "data": {
      "text/html": [
       "<div class=\"\"><span class=\"tfsechead \"><span class=\"ltr\"><a target=\"_blank\" href=\"https://cdli.ucla.edu/search/search_results.php?SearchMode=Text&amp;ObjectID=P479250\" title=\"Show this document on CDLI\" sec=\"P479250 reverse:10\">P479250 reverse:10</a></span></span>  <span class=\"txtt\"><span class=\"missing\"><span class=\"uncertain\"><span class=\"cls\">x</span></span></span> </span><span class=\"txtt\"><span class=\"missing\"><span class=\"uncertain\"><span class=\"cls\">x</span></span></span> </span><span class=\"txtt\"><span class=\"missing\"><span class=\"uncertain\"><span class=\"cls\">x</span></span></span> </span><span class=\"txtt\"><span class=\"missing\"><span class=\"uncertain\"><span class=\"cls\">x</span></span></span> </span><span class=\"txtt\"><span class=\"missing\"><span class=\"uncertain\"><span class=\"cls\">x</span></span></span> </span><span class=\"txtt\"><span class=\"missing\"><span class=\"uncertain\"><span class=\"cls\">x</span></span></span> </span><span class=\"txtt\"><span class=\"missing\"><span class=\"uncertain\"><span class=\"cls\">x</span></span></span> </span><span class=\"txtt\"><span class=\"missing\"><span class=\"uncertain\"><span class=\"cls\">x</span></span></span> </span><span class=\"txtt\"><span class=\"missing\"><span class=\"uncertain\"><span class=\"cls\">x</span></span></span> </span><span class=\"txtt\"><span class=\"missing\"><span class=\"uncertain\"><span class=\"cls\">x</span></span></span> </span><span class=\"txtt\"><span class=\"missing\"><span class=\"uncertain\"><span class=\"cls\">x</span></span></span> </span><span class=\"txtt\"><span class=\"missing\"><span class=\"uncertain\"><span class=\"cls\">x</span></span></span> </span><span class=\"txtt\"><span class=\"missing\"><span class=\"uncertain\"><span class=\"cls\">x</span></span></span> </span><span class=\"txtt\"><span class=\"missing\"><span class=\"uncertain\"><span class=\"cls\">x</span></span></span> </span><span class=\"txtt\"><span class=\"missing\"><span class=\"uncertain\"><span class=\"cls\">x</span></span></span> </span><span class=\"txtt\"><span class=\"missing\"><span class=\"uncertain\"><span class=\"cls\">x</span></span></span> </span><span class=\"txtt\"><span class=\"missing\"><span class=\"r\">a</span></span></span><span class=\"txtt\"><span class=\"missing\">-</span></span><span class=\"txtt\"><span class=\"missing\"><span class=\"r\">na</span></span> </span><span class=\"txtt\"><span class=\"missing\"><span class=\"r\">u</span></span></span><span class=\"txtt\"><span class=\"missing\">-</span></span><span class=\"txtt\"><span class=\"missing\"><span class=\"r\">ma</span></span></span><span class=\"txtt\"><span class=\"missing\"></span></span><span class=\"txtt\">-</span><span class=\"txtt\"><span class=\"damage\"><span class=\"r\">mi</span></span> </span><span class=\"txtt\"><span class=\"g\">DU₁₁</span></span><span class=\"txtt\">.</span><span class=\"txtt\"><span class=\"g\">GA</span></span><span class=\"txtt\">-</span><span class=\"txtt\"><span class=\"r\">ma</span> </span><span class=\"txtt\"><span class=\"r\">iṣ</span></span><span class=\"txtt\">-</span><span class=\"txtt\"><span class=\"r\">ṣa</span></span><span class=\"txtt\">-</span><span class=\"txtt\"><span class=\"r\">bat</span> </span><span class=\"txtt\"><span class=\"g\">ŠA₃</span></span><span class=\"txtt\">-</span><span class=\"txtt\"><span class=\"r\">bi</span> </span><span class=\"txtt\"><span class=\"r\">u</span></span><span class=\"txtt\">-</span><span class=\"txtt\"><span class=\"r\">ma</span></span><span class=\"txtt\">-</span><span class=\"txtt\"><span class=\"r\">me</span> </span></div>"
      ],
      "text/plain": [
       "<IPython.core.display.HTML object>"
      ]
     },
     "metadata": {},
     "output_type": "display_data"
    },
    {
     "data": {
      "text/html": [
       "<div class=\"\"><span class=\"tfsechead \"><span class=\"ltr\"><a target=\"_blank\" href=\"https://cdli.ucla.edu/search/search_results.php?SearchMode=Text&amp;ObjectID=P479250\" title=\"Show this document on CDLI\" sec=\"P479250 reverse:11\">P479250 reverse:11</a></span></span>  <span class=\"txtt\"><span class=\"missing\"><span class=\"uncertain\"><span class=\"cls\">x</span></span></span> </span><span class=\"txtt\"><span class=\"missing\"><span class=\"uncertain\"><span class=\"cls\">x</span></span></span> </span><span class=\"txtt\"><span class=\"missing\"><span class=\"uncertain\"><span class=\"cls\">x</span></span></span> </span><span class=\"txtt\"><span class=\"missing\"><span class=\"uncertain\"><span class=\"cls\">x</span></span></span> </span><span class=\"txtt\"><span class=\"missing\"><span class=\"uncertain\"><span class=\"cls\">x</span></span></span> </span><span class=\"txtt\"><span class=\"missing\"><span class=\"uncertain\"><span class=\"cls\">x</span></span></span> </span><span class=\"txtt\"><span class=\"missing\"><span class=\"uncertain\"><span class=\"cls\">x</span></span></span> </span><span class=\"txtt\"><span class=\"missing\"><span class=\"uncertain\"><span class=\"cls\">x</span></span></span> </span><span class=\"txtt\"><span class=\"missing\"><span class=\"uncertain\"><span class=\"cls\">x</span></span></span> </span><span class=\"txtt\"><span class=\"missing\"><span class=\"uncertain\"><span class=\"cls\">x</span></span></span> </span><span class=\"txtt\"><span class=\"missing\"><span class=\"uncertain\"><span class=\"cls\">x</span></span></span> </span><span class=\"txtt\"><span class=\"missing\"><span class=\"uncertain\"><span class=\"cls\">x</span></span></span> </span><span class=\"txtt\"><span class=\"missing\"><span class=\"uncertain\"><span class=\"cls\">x</span></span></span> </span><span class=\"txtt\"><span class=\"missing\"></span> </span><span class=\"txtt\"><span class=\"damage\"><span class=\"g\">ŠA₃</span></span></span><span class=\"txtt\">-</span><span class=\"txtt\">bi </span><span class=\"txtt\"><span class=\"det\">d</span></span><span class=\"txtt\"><span class=\"g\">UTU</span> </span><span class=\"txtt\"><span class=\"r\">lip</span></span><span class=\"txtt\">-</span><span class=\"txtt\"><span class=\"r\">pa</span></span><span class=\"txtt\">-</span><span class=\"txtt\"><span class=\"r\">šir</span> </span></div>"
      ],
      "text/plain": [
       "<IPython.core.display.HTML object>"
      ]
     },
     "metadata": {},
     "output_type": "display_data"
    },
    {
     "data": {
      "text/html": [
       "<div class=\"\"><span class=\"tfsechead \"><span class=\"ltr\"><a target=\"_blank\" href=\"https://cdli.ucla.edu/search/search_results.php?SearchMode=Text&amp;ObjectID=P479250\" title=\"Show this document on CDLI\" sec=\"P479250 reverse:12\">P479250 reverse:12</a></span></span>  <span class=\"txtt\"><span class=\"missing\"><span class=\"uncertain\"><span class=\"cls\">x</span></span></span> </span><span class=\"txtt\"><span class=\"missing\"><span class=\"uncertain\"><span class=\"cls\">x</span></span></span> </span><span class=\"txtt\"><span class=\"missing\"><span class=\"uncertain\"><span class=\"cls\">x</span></span></span> </span><span class=\"txtt\"><span class=\"missing\"><span class=\"uncertain\"><span class=\"cls\">x</span></span></span> </span><span class=\"txtt\"><span class=\"missing\"><span class=\"uncertain\"><span class=\"cls\">x</span></span></span> </span><span class=\"txtt\"><span class=\"missing\"><span class=\"uncertain\"><span class=\"cls\">x</span></span></span> </span><span class=\"txtt\"><span class=\"missing\"><span class=\"uncertain\"><span class=\"cls\">x</span></span></span> </span><span class=\"txtt\"><span class=\"missing\"></span> </span><span class=\"txtt\"><span class=\"damage\"><span class=\"g\">ŠA₃</span></span></span><span class=\"txtt\">-</span><span class=\"txtt\"><span class=\"damage\"><span class=\"r\">bi</span></span> </span><span class=\"txtt\"><span class=\"r\">u</span></span><span class=\"txtt\">-</span><span class=\"txtt\"><span class=\"r\">ma</span></span><span class=\"txtt\">-</span><span class=\"txtt\"><span class=\"r\">me</span> </span><span class=\"txtt\"><span class=\"r\">lip</span></span><span class=\"txtt\">-</span><span class=\"txtt\"><span class=\"r\">pa</span></span><span class=\"txtt\">-</span><span class=\"txtt\"><span class=\"r\">šir</span> </span></div>"
      ],
      "text/plain": [
       "<IPython.core.display.HTML object>"
      ]
     },
     "metadata": {},
     "output_type": "display_data"
    },
    {
     "data": {
      "text/html": [
       "<div class=\"\"><span class=\"tfsechead \"><span class=\"ltr\"><a target=\"_blank\" href=\"https://cdli.ucla.edu/search/search_results.php?SearchMode=Text&amp;ObjectID=P479250\" title=\"Show this document on CDLI\" sec=\"P479250 reverse:13\">P479250 reverse:13</a></span></span>  <span class=\"txtt\"><span class=\"missing\"><span class=\"uncertain\"><span class=\"cls\">x</span></span></span> </span><span class=\"txtt\"><span class=\"missing\"><span class=\"uncertain\"><span class=\"cls\">x</span></span></span> </span><span class=\"txtt\"><span class=\"missing\"><span class=\"uncertain\"><span class=\"cls\">x</span></span></span> </span><span class=\"txtt\"><span class=\"missing\"><span class=\"uncertain\"><span class=\"cls\">x</span></span></span> </span><span class=\"txtt\"><span class=\"missing\"><span class=\"uncertain\"><span class=\"cls\">x</span></span></span> </span><span class=\"txtt\"><span class=\"missing\"><span class=\"uncertain\"><span class=\"cls\">x</span></span></span> </span><span class=\"txtt\"><span class=\"missing\"><span class=\"uncertain\"><span class=\"cls\">x</span></span></span> </span><span class=\"txtt\"><span class=\"missing\"><span class=\"uncertain\"><span class=\"cls\">x</span></span></span> </span><span class=\"txtt\"><span class=\"missing\"><span class=\"uncertain\"><span class=\"cls\">x</span></span></span> </span><span class=\"txtt\"><span class=\"missing\"><span class=\"uncertain\"><span class=\"cls\">x</span></span></span> </span><span class=\"txtt\"><span class=\"missing\"><span class=\"uncertain\"><span class=\"cls\">x</span></span></span> </span><span class=\"txtt\"><span class=\"missing\"><span class=\"uncertain\"><span class=\"cls\">x</span></span></span> </span><span class=\"txtt\"><span class=\"missing\"><span class=\"r\">šam</span></span></span><span class=\"txtt\"><span class=\"missing\">-</span></span><span class=\"txtt\"><span class=\"missing\"><span class=\"r\">ma</span></span></span><span class=\"txtt\"><span class=\"missing\"></span></span><span class=\"txtt\">-</span><span class=\"txtt\"><span class=\"r\">ka</span> </span><span class=\"txtt\"><span class=\"g\">NAG</span></span><span class=\"txtt\">-</span><span class=\"txtt\"><span class=\"r\">šu</span> </span><span class=\"txtt\"><span class=\"r\">lib</span></span><span class=\"txtt\">-</span><span class=\"txtt\"><span class=\"r\">luṭ</span> </span></div>"
      ],
      "text/plain": [
       "<IPython.core.display.HTML object>"
      ]
     },
     "metadata": {},
     "output_type": "display_data"
    },
    {
     "data": {
      "text/html": [
       "<div class=\"\"><span class=\"tfsechead \"><span class=\"ltr\"><a target=\"_blank\" href=\"https://cdli.ucla.edu/search/search_results.php?SearchMode=Text&amp;ObjectID=P479250\" title=\"Show this document on CDLI\" sec=\"P479250 reverse:14\">P479250 reverse:14</a></span></span>  <span class=\"txtt\"><span class=\"missing\"><span class=\"missing\">...</span></span></span><span class=\"txtt\"><span class=\"missing\"></span> </span><span class=\"txtt\"><span class=\"damage\"><span class=\"g\">U₂</span></span> </span><span class=\"txtt\"><span class=\"g\">KI</span> </span><span class=\"txtt\"><span class=\"g\">KI</span> </span><span class=\"txtt\"><span class=\"g\">MIN</span> </span><span class=\"txtt\"><span class=\"g\">KI</span> </span><span class=\"txtt\"><span class=\"g\">MIN</span> </span></div>"
      ],
      "text/plain": [
       "<IPython.core.display.HTML object>"
      ]
     },
     "metadata": {},
     "output_type": "display_data"
    },
    {
     "data": {
      "text/html": [
       "<div class=\"\"><span class=\"tfsechead \"><span class=\"ltr\"><a target=\"_blank\" href=\"https://cdli.ucla.edu/search/search_results.php?SearchMode=Text&amp;ObjectID=P479250\" title=\"Show this document on CDLI\" sec=\"P479250 reverse:15\">P479250 reverse:15</a></span></span>  <span class=\"txtt\"><span class=\"missing\"><span class=\"missing\">...</span></span></span><span class=\"txtt\"><span class=\"missing\"></span> </span><span class=\"txtt\"><span class=\"damage\"><span class=\"g\">ŠA₃</span></span></span><span class=\"txtt\">-</span><span class=\"txtt\"><span class=\"r\">bu</span> </span><span class=\"txtt\"><span class=\"r\">i</span></span><span class=\"txtt\">-</span><span class=\"txtt\"><span class=\"r\">re</span></span><span class=\"txtt\">-</span><span class=\"txtt\"><span class=\"r\">du</span></span><span class=\"txtt\">-</span><span class=\"txtt\"><span class=\"r\">šu</span> </span></div>"
      ],
      "text/plain": [
       "<IPython.core.display.HTML object>"
      ]
     },
     "metadata": {},
     "output_type": "display_data"
    },
    {
     "data": {
      "text/html": [
       "<div class=\"\"><span class=\"tfsechead \"><span class=\"ltr\"><a target=\"_blank\" href=\"https://cdli.ucla.edu/search/search_results.php?SearchMode=Text&amp;ObjectID=P479250\" title=\"Show this document on CDLI\" sec=\"P479250 reverse:16\">P479250 reverse:16</a></span></span>  <span class=\"txtt\"><span class=\"missing\"><span class=\"missing\">...</span></span> </span><span class=\"txtt\"><span class=\"missing\"><span class=\"r\">ap</span></span></span><span class=\"txtt\"><span class=\"missing\">-</span></span><span class=\"txtt\"><span class=\"missing\"></span> </span><span class=\"txtt\"><span class=\"question damage\"><span class=\"r\">pi</span></span> </span><span class=\"txtt\"><span class=\"r\">šil</span></span><span class=\"txtt\">-</span><span class=\"txtt\"><span class=\"r\">ta</span></span><span class=\"txtt\">-</span><span class=\"txtt\"><span class=\"r\">hi</span> </span><span class=\"txtt\"><span class=\"r\">ša</span> </span><span class=\"txtt\">7 </span><span class=\"txtt\"><span class=\"g\">KA</span></span><span class=\"txtt\">.</span><span class=\"txtt\"><span class=\"g\">KEŠDA</span></span><span class=\"txtt\">-</span><span class=\"txtt\"><span class=\"g\">MEŠ</span></span><span class=\"txtt\">-</span><span class=\"txtt\"><span class=\"r\">šu</span> </span><span class=\"txtt\">7</span><span class=\"txtt\">-</span><span class=\"txtt\"><span class=\"r\">šu</span> </span><span class=\"txtt\"><span class=\"r\">u</span> </span><span class=\"txtt\">7</span><span class=\"txtt\">-</span><span class=\"txtt\"><span class=\"r\">šu</span> </span></div>"
      ],
      "text/plain": [
       "<IPython.core.display.HTML object>"
      ]
     },
     "metadata": {},
     "output_type": "display_data"
    },
    {
     "data": {
      "text/html": [
       "<div class=\"\"><span class=\"tfsechead \"><span class=\"ltr\"><a target=\"_blank\" href=\"https://cdli.ucla.edu/search/search_results.php?SearchMode=Text&amp;ObjectID=P479250\" title=\"Show this document on CDLI\" sec=\"P479250 reverse:17\">P479250 reverse:17</a></span></span>  <span class=\"txtt\"><span class=\"missing\"><span class=\"missing\">...</span></span> </span><span class=\"txtt\"><span class=\"missing\"></span> </span><span class=\"txtt\"><span class=\"question damage\"><span class=\"g\">SAHAR</span></span> </span><span class=\"txtt\"><span class=\"damage\">TA</span> </span><span class=\"txtt\"><span class=\"det\"><span class=\"damage\">urudu</span></span></span><span class=\"txtt\"><span class=\"damage\"><span class=\"r\">na</span></span></span><span class=\"txtt\">-</span><span class=\"txtt\"><span class=\"damage\"><span class=\"r\">ah</span></span></span><span class=\"txtt\">-</span><span class=\"txtt\"><span class=\"question damage\"><span class=\"r\">bi</span></span> </span><span class=\"txtt\"><span class=\"question missing\">ana</span> </span><span class=\"txtt\"><span class=\"det\"><span class=\"missing\"></span></span> </span><span class=\"txtt\"><span class=\"det\"><span class=\"damage\">urudu</span></span></span><span class=\"txtt\"><span class=\"damage\"><span class=\"r\">na</span></span></span><span class=\"txtt\">-</span><span class=\"txtt\"><span class=\"damage\"><span class=\"r\">ah</span></span></span><span class=\"txtt\">-</span><span class=\"txtt\"><span class=\"question damage\"><span class=\"r\">bi</span></span> </span></div>"
      ],
      "text/plain": [
       "<IPython.core.display.HTML object>"
      ]
     },
     "metadata": {},
     "output_type": "display_data"
    }
   ],
   "source": [
    "for ln in lines:\n",
    "    A.plain(ln, fmt=\"layout-orig-plain\")"
   ]
  },
  {
   "cell_type": "markdown",
   "metadata": {},
   "source": [
    "Here is the text of the face in each of the plain text formats, i.e. no additional HTML formatting is applied."
   ]
  },
  {
   "cell_type": "markdown",
   "metadata": {
    "tags": []
   },
   "source": [
    "# Pretty\n",
    "\n",
    "The ultimate of graphical display is by means of the `pretty()` function.\n",
    "\n",
    "This display is less useful for reading, but instead optimized for showing all information that you might\n",
    "wish for.\n",
    "\n",
    "It shows a base representation according to a text format of your choice\n",
    "(here we choose `layout-orig-full`), and it shows the values\n",
    "of a standard set of features."
   ]
  },
  {
   "cell_type": "code",
   "execution_count": 78,
   "metadata": {},
   "outputs": [
    {
     "data": {
      "text/plain": [
       "'hur.ri.im#'"
      ]
     },
     "execution_count": 78,
     "metadata": {},
     "output_type": "execute_result"
    }
   ],
   "source": [
    "w = F.otype.s(\"word\")[10]\n",
    "F.atf.v(w)"
   ]
  },
  {
   "cell_type": "code",
   "execution_count": 79,
   "metadata": {},
   "outputs": [
    {
     "data": {
      "text/html": [
       "<div class=\"tfsechead \"><span class=\"ltr\"><a target=\"_blank\" href=\"https://cdli.ucla.edu/search/search_results.php?SearchMode=Text&amp;ObjectID=P285136\" title=\"Show this document on CDLI\" sec=\"P285136 obverse:3'\">P285136 obverse:3'</a></span></div><div class=\" children\"><div class=\"contnr c1 trm   \" ><div class=\"lbl c1 trm \" ><span class=\"nd\">word</span> <span class=\"txtt\"><span class=\"plain   \" ><span class=\"txtt\">hur</span><span class=\"txtt\">.</span><span class=\"txtt\">ri</span><span class=\"txtt\">.</span><span class=\"txtt\">im# </span></span></span></div></div></div>"
      ],
      "text/plain": [
       "<IPython.core.display.HTML object>"
      ]
     },
     "metadata": {},
     "output_type": "display_data"
    }
   ],
   "source": [
    "A.pretty(w)"
   ]
  },
  {
   "cell_type": "code",
   "execution_count": 80,
   "metadata": {},
   "outputs": [
    {
     "data": {
      "text/html": [
       "<div class=\"tfsechead \"><span class=\"ltr\"><a target=\"_blank\" href=\"https://cdli.ucla.edu/search/search_results.php?SearchMode=Text&amp;ObjectID=P285136\" title=\"Show this document on CDLI\" sec=\"P285136 obverse:3'\">P285136 obverse:3'</a></span></div><div class=\" children\"><div class=\"contnr c1 trm   \" ><div class=\"lbl c1 trm \" ><span class=\"nd\">word:89064</span> <span class=\"txtt\"><span class=\"plain   \" ><span class=\"txtt\"><span class=\"r\">hur</span></span><span class=\"txtt\">.</span><span class=\"txtt\"><span class=\"r\">ri</span></span><span class=\"txtt\">.</span><span class=\"txtt\"><span class=\"damage\"><span class=\"r\">im</span></span> </span></span></span></div></div></div>"
      ],
      "text/plain": [
       "<IPython.core.display.HTML object>"
      ]
     },
     "metadata": {},
     "output_type": "display_data"
    }
   ],
   "source": [
    "A.pretty(w, fmt=\"layout-orig-full\", withNodes=True)"
   ]
  },
  {
   "cell_type": "markdown",
   "metadata": {},
   "source": [
    "By default, pretty displays descend to the word level, but you can also descend to the sign level:"
   ]
  },
  {
   "cell_type": "code",
   "execution_count": 81,
   "metadata": {},
   "outputs": [
    {
     "data": {
      "text/html": [
       "<div class=\"tfsechead \"><span class=\"ltr\"><a target=\"_blank\" href=\"https://cdli.ucla.edu/search/search_results.php?SearchMode=Text&amp;ObjectID=P285136\" title=\"Show this document on CDLI\" sec=\"P285136 obverse:3'\">P285136 obverse:3'</a></span></div><div class=\" children\"><div class=\"contnr c1    \" ><div class=\"lbl c1  \" ><span class=\"nd\">word</span> <span class=\"txtt\">hur.ri.im# </span></div><div class=\"children hor  \"><div class=\"contnr c0 trm   \" ><div class=\"lbl c0 trm \" ><span class=\"txtt\">hur</span></div></div><div class=\"contnr c0 trm   \" ><div class=\"lbl c0 trm \" ><span class=\"txtt\">.</span></div></div><div class=\"contnr c0 trm   \" ><div class=\"lbl c0 trm \" ><span class=\"txtt\">ri</span></div></div><div class=\"contnr c0 trm   \" ><div class=\"lbl c0 trm \" ><span class=\"txtt\">.</span></div></div><div class=\"contnr c0 trm   \" ><div class=\"lbl c0 trm \" ><span class=\"txtt\">im# </span></div></div></div></div></div>"
      ],
      "text/plain": [
       "<IPython.core.display.HTML object>"
      ]
     },
     "metadata": {},
     "output_type": "display_data"
    }
   ],
   "source": [
    "A.pretty(w, baseTypes=\"sign\")"
   ]
  },
  {
   "cell_type": "code",
   "execution_count": 82,
   "metadata": {},
   "outputs": [
    {
     "data": {
      "text/html": [
       "<div class=\"tfsechead \"><span class=\"ltr\"><a target=\"_blank\" href=\"https://cdli.ucla.edu/search/search_results.php?SearchMode=Text&amp;ObjectID=P285136\" title=\"Show this document on CDLI\" sec=\"P285136 obverse:3'\">P285136 obverse:3'</a></span></div><div class=\" children\"><div class=\"contnr c1    \" ><div class=\"lbl c1  \" ><span class=\"nd\">word:89064</span> <span class=\"txtt\"><span class=\"r\">hur</span>.<span class=\"r\">ri</span>.<span class=\"damage\"><span class=\"r\">im</span></span> </span></div><div class=\"children hor  \"><div class=\"contnr c0 trm   \" ><div class=\"lbl c0 trm \" ><span class=\"nd\">25</span> <span class=\"txtt\"><span class=\"r\">hur</span></span></div></div><div class=\"contnr c0 trm   \" ><div class=\"lbl c0 trm \" ><span class=\"nd\">26</span> <span class=\"txtt\">.</span></div></div><div class=\"contnr c0 trm   \" ><div class=\"lbl c0 trm \" ><span class=\"nd\">27</span> <span class=\"txtt\"><span class=\"r\">ri</span></span></div></div><div class=\"contnr c0 trm   \" ><div class=\"lbl c0 trm \" ><span class=\"nd\">28</span> <span class=\"txtt\">.</span></div></div><div class=\"contnr c0 trm   \" ><div class=\"lbl c0 trm \" ><span class=\"nd\">29</span> <span class=\"txtt\"><span class=\"damage\"><span class=\"r\">im</span></span> </span></div></div></div></div></div>"
      ],
      "text/plain": [
       "<IPython.core.display.HTML object>"
      ]
     },
     "metadata": {},
     "output_type": "display_data"
    }
   ],
   "source": [
    "A.pretty(w, fmt=\"layout-orig-full\", baseTypes=\"sign\", withNodes=True)"
   ]
  },
  {
   "cell_type": "markdown",
   "metadata": {},
   "source": [
    "Later on, in the [search](search.ipynb) tutorial we see that `pretty()` can also display other features,\n",
    "even features that you or other people have created and added later.\n",
    "\n",
    "Here we call for the feature `atf`, which shows the original atf for the sign in question\n",
    "excluding the bracketing characters.\n",
    "\n",
    "Consult the\n",
    "[feature documentation](https://github.com/Nino-cunei/oldbabylonian/blob/master/docs//transcription.md)\n",
    "to see what information is stored in all the features.\n",
    "\n",
    "We show it with node numbers, but you could leave them out in an obvious way."
   ]
  },
  {
   "cell_type": "code",
   "execution_count": 86,
   "metadata": {},
   "outputs": [
    {
     "data": {
      "text/html": [
       "<div class=\"tfsechead \"><span class=\"ltr\"><a target=\"_blank\" href=\"https://cdli.ucla.edu/search/search_results.php?SearchMode=Text&amp;ObjectID=P479250\" title=\"Show this document on CDLI\" sec=\"P479250 reverse\">P479250 reverse</a></span></div><div class=\" children\"><div class=\"contnr c4 trm   \" ><div class=\"lbl c4 trm \" ><span class=\"nd\">face:85920</span> <span class=\"txtt\"><span class=\"tfsechead ltr\"><span class=\"ltr\">P479250 reverse</span></span></span></div></div></div>"
      ],
      "text/plain": [
       "<IPython.core.display.HTML object>"
      ]
     },
     "metadata": {},
     "output_type": "display_data"
    }
   ],
   "source": [
    "A.pretty(f, extraFeatures=\"atf\", fmt=\"layout-orig-full\", withNodes=True)"
   ]
  },
  {
   "cell_type": "markdown",
   "metadata": {},
   "source": [
    "We do not see much, because the default condense type is `line`, and a `document` is bigger than that.\n",
    "Objects bigger than de condense type will be abbreviated to a label that indicates their identity,\n",
    "not their contents.\n",
    "\n",
    "But we can override this by adding `full=True`.\n",
    "\n",
    "See also the documentation on [`pretty`](https://annotation.github.io/text-fabric/tf/advanced/display.html#tf.advanced.display.pretty)."
   ]
  },
  {
   "cell_type": "code",
   "execution_count": 88,
   "metadata": {},
   "outputs": [
    {
     "data": {
      "text/html": [
       "<div class=\"tfsechead \"><span class=\"ltr\"><a target=\"_blank\" href=\"https://cdli.ucla.edu/search/search_results.php?SearchMode=Text&amp;ObjectID=P479250\" title=\"Show this document on CDLI\" sec=\"P479250 reverse\">P479250 reverse</a></span></div><div class=\" children\"><div class=\"contnr c4    \" ><div class=\"lbl c4  \" ><span class=\"nd\">face:85920</span> <span class=\"txtt\"><span class=\"tfsechead ltr\"><span class=\"ltr\">P479250 reverse</span></span></span></div><div class=\"children hor wrap \"><div class=\"contnr c3    \" ><div class=\"lbl c3  \" ><span class=\"nd\">line:86002</span></div><div class='features'><span class=\"atf xft\" ><span class=\"f\">atf=</span> </span></div><div class=\"children hor wrap \"><div class=\"contnr c0 trm   \" ><div class=\"lbl c0 trm \" ><span class=\"nd\">613</span> <span class=\"txtt\"><span class=\"empty\">∅</span>None</span></div></div></div></div><div class=\"contnr c3    \" ><div class=\"lbl c3  \" ><span class=\"nd\">line:86003</span></div><div class='features'><span class=\"atf xft\" ><span class=\"f\">atf=</span>1. %sux [...] ka#-keš₂#-bi# he₂-du₈-a</span></div><div class=\"children hor wrap \"><div class=\"contnr c1 trm   \" ><div class=\"lbl c1 trm \" ><span class=\"nd\">word:89409</span> <span class=\"txtt\"><span class=\"plain   \" ><span class=\"txtt\">%sux </span></span></span></div><div class='features'><span class=\"atf xft\" ><span class=\"f\">atf=</span>%sux</span></div></div><div class=\"contnr c1 trm  rno \" ><div class=\"lbl c1 trm \" ><span class=\"nd\">word:89410</span> <span class=\"txtt\"><span class=\"plain  rno \" ></span></span></div><div class='features'><span class=\"atf xft\" ><span class=\"f\">atf=</span>[...]</span></div></div><div class=\"contnr c2    \" ><div class=\"lbl c2  \" ><span class=\"nd\">cluster:79527</span></div><div class=\"children hor wrap \"><div class=\"contnr c1 trm  lno \" ><div class=\"lbl c1 trm \" ><span class=\"nd\">word:89410</span> <span class=\"txtt\"><span class=\"plain  lno \" ><span class=\"txtt\"><span class=\"missing\"><span class=\"missing\">...</span></span></span><span class=\"txtt\"><span class=\"missing\"></span> </span></span></span></div><div class='features'><span class=\"atf xft\" ><span class=\"f\">atf=</span>[...]</span></div></div></div></div><div class=\"contnr c1 trm   \" ><div class=\"lbl c1 trm \" ><span class=\"nd\">word:89411</span> <span class=\"txtt\"><span class=\"plain   \" ><span class=\"txtt\"><span class=\"damage\"><span class=\"r\">ka</span></span></span><span class=\"txtt\">-</span><span class=\"txtt\"><span class=\"damage\"><span class=\"r\">keš</span></span></span><span class=\"txtt\">-</span><span class=\"txtt\"><span class=\"damage\"><span class=\"r\">bi</span></span> </span></span></span></div><div class='features'><span class=\"atf xft\" ><span class=\"f\">atf=</span>ka#-keš₂#-bi#</span></div></div><div class=\"contnr c1 trm   \" ><div class=\"lbl c1 trm \" ><span class=\"nd\">word:89412</span> <span class=\"txtt\"><span class=\"plain   \" ><span class=\"txtt\"><span class=\"r\">he</span></span><span class=\"txtt\">-</span><span class=\"txtt\"><span class=\"r\">du</span></span><span class=\"txtt\">-</span><span class=\"txtt\"><span class=\"r\">a</span> </span></span></span></div><div class='features'><span class=\"atf xft\" ><span class=\"f\">atf=</span>he₂-du₈-a</span></div></div></div></div><div class=\"contnr c3    \" ><div class=\"lbl c3  \" ><span class=\"nd\">line:86004</span></div><div class='features'><span class=\"atf xft\" ><span class=\"f\">atf=</span>2. %sux [...] ka-keš₂-bi he₂-du₈-a</span></div><div class=\"children hor wrap \"><div class=\"contnr c1 trm   \" ><div class=\"lbl c1 trm \" ><span class=\"nd\">word:89413</span> <span class=\"txtt\"><span class=\"plain   \" ><span class=\"txtt\">%sux </span></span></span></div><div class='features'><span class=\"atf xft\" ><span class=\"f\">atf=</span>%sux</span></div></div><div class=\"contnr c1 trm  rno \" ><div class=\"lbl c1 trm \" ><span class=\"nd\">word:89414</span> <span class=\"txtt\"><span class=\"plain  rno \" ></span></span></div><div class='features'><span class=\"atf xft\" ><span class=\"f\">atf=</span>[...]</span></div></div><div class=\"contnr c2    \" ><div class=\"lbl c2  \" ><span class=\"nd\">cluster:79528</span></div><div class=\"children hor wrap \"><div class=\"contnr c1 trm  lno \" ><div class=\"lbl c1 trm \" ><span class=\"nd\">word:89414</span> <span class=\"txtt\"><span class=\"plain  lno \" ><span class=\"txtt\"><span class=\"missing\"><span class=\"missing\">...</span></span></span><span class=\"txtt\"><span class=\"missing\"></span> </span></span></span></div><div class='features'><span class=\"atf xft\" ><span class=\"f\">atf=</span>[...]</span></div></div></div></div><div class=\"contnr c1 trm   \" ><div class=\"lbl c1 trm \" ><span class=\"nd\">word:89415</span> <span class=\"txtt\"><span class=\"plain   \" ><span class=\"txtt\"><span class=\"r\">ka</span></span><span class=\"txtt\">-</span><span class=\"txtt\"><span class=\"r\">keš</span></span><span class=\"txtt\">-</span><span class=\"txtt\"><span class=\"r\">bi</span> </span></span></span></div><div class='features'><span class=\"atf xft\" ><span class=\"f\">atf=</span>ka-keš₂-bi</span></div></div><div class=\"contnr c1 trm   \" ><div class=\"lbl c1 trm \" ><span class=\"nd\">word:89416</span> <span class=\"txtt\"><span class=\"plain   \" ><span class=\"txtt\"><span class=\"r\">he</span></span><span class=\"txtt\">-</span><span class=\"txtt\"><span class=\"r\">du</span></span><span class=\"txtt\">-</span><span class=\"txtt\"><span class=\"r\">a</span> </span></span></span></div><div class='features'><span class=\"atf xft\" ><span class=\"f\">atf=</span>he₂-du₈-a</span></div></div></div></div><div class=\"contnr c3    \" ><div class=\"lbl c3  \" ><span class=\"nd\">line:86005</span></div><div class='features'><span class=\"atf xft\" ><span class=\"f\">atf=</span>3. [x x x x x x x x x x x x ina KA-š]u₂ u₂-man-zaq-ma ina-eš</span></div><div class=\"children hor wrap \"><div class=\"contnr c1 trm  rno \" ><div class=\"lbl c1 trm \" ><span class=\"nd\">word:89417</span> <span class=\"txtt\"><span class=\"plain  rno \" ></span></span></div><div class='features'><span class=\"atf xft\" ><span class=\"f\">atf=</span>[x</span></div></div><div class=\"contnr c2    \" ><div class=\"lbl c2  \" ><span class=\"nd\">cluster:79529</span></div><div class=\"children hor wrap \"><div class=\"contnr c1 trm  lno \" ><div class=\"lbl c1 trm \" ><span class=\"nd\">word:89417</span> <span class=\"txtt\"><span class=\"plain  lno \" ><span class=\"txtt\"><span class=\"missing\"><span class=\"uncertain\"><span class=\"cls\">x</span></span></span> </span></span></span></div><div class='features'><span class=\"atf xft\" ><span class=\"f\">atf=</span>[x</span></div></div><div class=\"contnr c1 trm   \" ><div class=\"lbl c1 trm \" ><span class=\"nd\">word:89418</span> <span class=\"txtt\"><span class=\"plain   \" ><span class=\"txtt\"><span class=\"missing\"><span class=\"uncertain\"><span class=\"cls\">x</span></span></span> </span></span></span></div><div class='features'><span class=\"atf xft\" ><span class=\"f\">atf=</span>x</span></div></div><div class=\"contnr c1 trm   \" ><div class=\"lbl c1 trm \" ><span class=\"nd\">word:89419</span> <span class=\"txtt\"><span class=\"plain   \" ><span class=\"txtt\"><span class=\"missing\"><span class=\"uncertain\"><span class=\"cls\">x</span></span></span> </span></span></span></div><div class='features'><span class=\"atf xft\" ><span class=\"f\">atf=</span>x</span></div></div><div class=\"contnr c1 trm   \" ><div class=\"lbl c1 trm \" ><span class=\"nd\">word:89420</span> <span class=\"txtt\"><span class=\"plain   \" ><span class=\"txtt\"><span class=\"missing\"><span class=\"uncertain\"><span class=\"cls\">x</span></span></span> </span></span></span></div><div class='features'><span class=\"atf xft\" ><span class=\"f\">atf=</span>x</span></div></div><div class=\"contnr c1 trm   \" ><div class=\"lbl c1 trm \" ><span class=\"nd\">word:89421</span> <span class=\"txtt\"><span class=\"plain   \" ><span class=\"txtt\"><span class=\"missing\"><span class=\"uncertain\"><span class=\"cls\">x</span></span></span> </span></span></span></div><div class='features'><span class=\"atf xft\" ><span class=\"f\">atf=</span>x</span></div></div><div class=\"contnr c1 trm   \" ><div class=\"lbl c1 trm \" ><span class=\"nd\">word:89422</span> <span class=\"txtt\"><span class=\"plain   \" ><span class=\"txtt\"><span class=\"missing\"><span class=\"uncertain\"><span class=\"cls\">x</span></span></span> </span></span></span></div><div class='features'><span class=\"atf xft\" ><span class=\"f\">atf=</span>x</span></div></div><div class=\"contnr c1 trm   \" ><div class=\"lbl c1 trm \" ><span class=\"nd\">word:89423</span> <span class=\"txtt\"><span class=\"plain   \" ><span class=\"txtt\"><span class=\"missing\"><span class=\"uncertain\"><span class=\"cls\">x</span></span></span> </span></span></span></div><div class='features'><span class=\"atf xft\" ><span class=\"f\">atf=</span>x</span></div></div><div class=\"contnr c1 trm   \" ><div class=\"lbl c1 trm \" ><span class=\"nd\">word:89424</span> <span class=\"txtt\"><span class=\"plain   \" ><span class=\"txtt\"><span class=\"missing\"><span class=\"uncertain\"><span class=\"cls\">x</span></span></span> </span></span></span></div><div class='features'><span class=\"atf xft\" ><span class=\"f\">atf=</span>x</span></div></div><div class=\"contnr c1 trm   \" ><div class=\"lbl c1 trm \" ><span class=\"nd\">word:89425</span> <span class=\"txtt\"><span class=\"plain   \" ><span class=\"txtt\"><span class=\"missing\"><span class=\"uncertain\"><span class=\"cls\">x</span></span></span> </span></span></span></div><div class='features'><span class=\"atf xft\" ><span class=\"f\">atf=</span>x</span></div></div><div class=\"contnr c1 trm   \" ><div class=\"lbl c1 trm \" ><span class=\"nd\">word:89426</span> <span class=\"txtt\"><span class=\"plain   \" ><span class=\"txtt\"><span class=\"missing\"><span class=\"uncertain\"><span class=\"cls\">x</span></span></span> </span></span></span></div><div class='features'><span class=\"atf xft\" ><span class=\"f\">atf=</span>x</span></div></div><div class=\"contnr c1 trm   \" ><div class=\"lbl c1 trm \" ><span class=\"nd\">word:89427</span> <span class=\"txtt\"><span class=\"plain   \" ><span class=\"txtt\"><span class=\"missing\"><span class=\"uncertain\"><span class=\"cls\">x</span></span></span> </span></span></span></div><div class='features'><span class=\"atf xft\" ><span class=\"f\">atf=</span>x</span></div></div><div class=\"contnr c1 trm   \" ><div class=\"lbl c1 trm \" ><span class=\"nd\">word:89428</span> <span class=\"txtt\"><span class=\"plain   \" ><span class=\"txtt\"><span class=\"missing\"><span class=\"uncertain\"><span class=\"cls\">x</span></span></span> </span></span></span></div><div class='features'><span class=\"atf xft\" ><span class=\"f\">atf=</span>x</span></div></div><div class=\"contnr c1 trm   \" ><div class=\"lbl c1 trm \" ><span class=\"nd\">word:89429</span> <span class=\"txtt\"><span class=\"plain   \" ><span class=\"txtt\"><span class=\"missing\"><span class=\"r\">ina</span></span> </span></span></span></div><div class='features'><span class=\"atf xft\" ><span class=\"f\">atf=</span>ina</span></div></div><div class=\"contnr c1 trm  rno \" ><div class=\"lbl c1 trm \" ><span class=\"nd\">word:89430</span> <span class=\"txtt\"><span class=\"plain  rno \" ><span class=\"txtt\"><span class=\"missing\"><span class=\"g\">KA</span></span></span><span class=\"txtt\"><span class=\"missing\">-</span></span><span class=\"txtt\"><span class=\"missing\"></span> </span></span></span></div><div class='features'><span class=\"atf xft\" ><span class=\"f\">atf=</span>KA-š]u₂</span></div></div></div></div><div class=\"contnr c1 trm  lno \" ><div class=\"lbl c1 trm \" ><span class=\"nd\">word:89430</span> <span class=\"txtt\"><span class=\"plain  lno \" ><span class=\"txtt\"><span class=\"damage\"><span class=\"r\">šu</span></span> </span></span></span></div><div class='features'><span class=\"atf xft\" ><span class=\"f\">atf=</span>KA-š]u₂</span></div></div><div class=\"contnr c1 trm   \" ><div class=\"lbl c1 trm \" ><span class=\"nd\">word:89431</span> <span class=\"txtt\"><span class=\"plain   \" ><span class=\"txtt\"><span class=\"r\">u</span></span><span class=\"txtt\">-</span><span class=\"txtt\"><span class=\"r\">man</span></span><span class=\"txtt\">-</span><span class=\"txtt\"><span class=\"r\">zaq</span></span><span class=\"txtt\">-</span><span class=\"txtt\"><span class=\"r\">ma</span> </span></span></span></div><div class='features'><span class=\"atf xft\" ><span class=\"f\">atf=</span>u₂-man-zaq-ma</span></div></div><div class=\"contnr c1 trm   \" ><div class=\"lbl c1 trm \" ><span class=\"nd\">word:89432</span> <span class=\"txtt\"><span class=\"plain   \" ><span class=\"txtt\"><span class=\"r\">ina</span></span><span class=\"txtt\">-</span><span class=\"txtt\"><span class=\"r\">eš</span> </span></span></span></div><div class='features'><span class=\"atf xft\" ><span class=\"f\">atf=</span>ina-eš</span></div></div></div></div><div class=\"contnr c3    \" ><div class=\"lbl c3  \" ><span class=\"nd\">line:86006</span></div><div class='features'><span class=\"atf xft\" ><span class=\"f\">atf=</span>4. [... S]IG₃.SIG₃-ta ma-la-a rit-ta-šu₂</span></div><div class=\"children hor wrap \"><div class=\"contnr c1 trm  rno \" ><div class=\"lbl c1 trm \" ><span class=\"nd\">word:89433</span> <span class=\"txtt\"><span class=\"plain  rno \" ></span></span></div><div class='features'><span class=\"atf xft\" ><span class=\"f\">atf=</span>[...</span></div></div><div class=\"contnr c2    \" ><div class=\"lbl c2  \" ><span class=\"nd\">cluster:79530</span></div><div class=\"children hor wrap \"><div class=\"contnr c1 trm  lno \" ><div class=\"lbl c1 trm \" ><span class=\"nd\">word:89433</span> <span class=\"txtt\"><span class=\"plain  lno \" ><span class=\"txtt\"><span class=\"missing\"><span class=\"missing\">...</span></span> </span></span></span></div><div class='features'><span class=\"atf xft\" ><span class=\"f\">atf=</span>[...</span></div></div><div class=\"contnr c1 trm  rno \" ><div class=\"lbl c1 trm \" ><span class=\"nd\">word:89434</span> <span class=\"txtt\"><span class=\"plain  rno \" ><span class=\"txtt\"><span class=\"missing\"></span> </span></span></span></div><div class='features'><span class=\"atf xft\" ><span class=\"f\">atf=</span>S]IG₃.SIG₃-ta</span></div></div></div></div><div class=\"contnr c1 trm  lno \" ><div class=\"lbl c1 trm \" ><span class=\"nd\">word:89434</span> <span class=\"txtt\"><span class=\"plain  lno \" ><span class=\"txtt\"><span class=\"damage\"><span class=\"g\">SIG₃</span></span></span><span class=\"txtt\">.</span><span class=\"txtt\"><span class=\"g\">SIG₃</span></span><span class=\"txtt\">-</span><span class=\"txtt\"><span class=\"r\">ta</span> </span></span></span></div><div class='features'><span class=\"atf xft\" ><span class=\"f\">atf=</span>S]IG₃.SIG₃-ta</span></div></div><div class=\"contnr c1 trm   \" ><div class=\"lbl c1 trm \" ><span class=\"nd\">word:89435</span> <span class=\"txtt\"><span class=\"plain   \" ><span class=\"txtt\"><span class=\"r\">ma</span></span><span class=\"txtt\">-</span><span class=\"txtt\"><span class=\"r\">la</span></span><span class=\"txtt\">-</span><span class=\"txtt\"><span class=\"r\">a</span> </span></span></span></div><div class='features'><span class=\"atf xft\" ><span class=\"f\">atf=</span>ma-la-a</span></div></div><div class=\"contnr c1 trm   \" ><div class=\"lbl c1 trm \" ><span class=\"nd\">word:89436</span> <span class=\"txtt\"><span class=\"plain   \" ><span class=\"txtt\"><span class=\"r\">rit</span></span><span class=\"txtt\">-</span><span class=\"txtt\"><span class=\"r\">ta</span></span><span class=\"txtt\">-</span><span class=\"txtt\"><span class=\"r\">šu</span> </span></span></span></div><div class='features'><span class=\"atf xft\" ><span class=\"f\">atf=</span>rit-ta-šu₂</span></div></div></div></div><div class=\"contnr c3    \" ><div class=\"lbl c3  \" ><span class=\"nd\">line:86007</span></div><div class='features'><span class=\"atf xft\" ><span class=\"f\">atf=</span>5. [... a]-ha-tu mu-še-qa-at re-ši-šu₂</span></div><div class=\"children hor wrap \"><div class=\"contnr c1 trm  rno \" ><div class=\"lbl c1 trm \" ><span class=\"nd\">word:89437</span> <span class=\"txtt\"><span class=\"plain  rno \" ></span></span></div><div class='features'><span class=\"atf xft\" ><span class=\"f\">atf=</span>[...</span></div></div><div class=\"contnr c2    \" ><div class=\"lbl c2  \" ><span class=\"nd\">cluster:79531</span></div><div class=\"children hor wrap \"><div class=\"contnr c1 trm  lno \" ><div class=\"lbl c1 trm \" ><span class=\"nd\">word:89437</span> <span class=\"txtt\"><span class=\"plain  lno \" ><span class=\"txtt\"><span class=\"missing\"><span class=\"missing\">...</span></span> </span></span></span></div><div class='features'><span class=\"atf xft\" ><span class=\"f\">atf=</span>[...</span></div></div><div class=\"contnr c1 trm  rno \" ><div class=\"lbl c1 trm \" ><span class=\"nd\">word:89438</span> <span class=\"txtt\"><span class=\"plain  rno \" ><span class=\"txtt\"><span class=\"missing\"><span class=\"r\">a</span></span></span><span class=\"txtt\"><span class=\"missing\"></span></span></span></span></div><div class='features'><span class=\"atf xft\" ><span class=\"f\">atf=</span>a]-ha-tu</span></div></div></div></div><div class=\"contnr c1 trm  lno \" ><div class=\"lbl c1 trm \" ><span class=\"nd\">word:89438</span> <span class=\"txtt\"><span class=\"plain  lno \" ><span class=\"txtt\">-</span><span class=\"txtt\"><span class=\"r\">ha</span></span><span class=\"txtt\">-</span><span class=\"txtt\"><span class=\"r\">tu</span> </span></span></span></div><div class='features'><span class=\"atf xft\" ><span class=\"f\">atf=</span>a]-ha-tu</span></div></div><div class=\"contnr c1 trm   \" ><div class=\"lbl c1 trm \" ><span class=\"nd\">word:89439</span> <span class=\"txtt\"><span class=\"plain   \" ><span class=\"txtt\"><span class=\"r\">mu</span></span><span class=\"txtt\">-</span><span class=\"txtt\"><span class=\"r\">še</span></span><span class=\"txtt\">-</span><span class=\"txtt\"><span class=\"r\">qa</span></span><span class=\"txtt\">-</span><span class=\"txtt\"><span class=\"r\">at</span> </span></span></span></div><div class='features'><span class=\"atf xft\" ><span class=\"f\">atf=</span>mu-še-qa-at</span></div></div><div class=\"contnr c1 trm   \" ><div class=\"lbl c1 trm \" ><span class=\"nd\">word:89440</span> <span class=\"txtt\"><span class=\"plain   \" ><span class=\"txtt\"><span class=\"r\">re</span></span><span class=\"txtt\">-</span><span class=\"txtt\"><span class=\"r\">ši</span></span><span class=\"txtt\">-</span><span class=\"txtt\"><span class=\"r\">šu</span> </span></span></span></div><div class='features'><span class=\"atf xft\" ><span class=\"f\">atf=</span>re-ši-šu₂</span></div></div></div></div><div class=\"contnr c3    \" ><div class=\"lbl c3  \" ><span class=\"nd\">line:86008</span></div><div class='features'><span class=\"atf xft\" ><span class=\"f\">atf=</span>6. [... na-š]i pat-ri TU₆ EN₂</span></div><div class=\"children hor wrap \"><div class=\"contnr c1 trm  rno \" ><div class=\"lbl c1 trm \" ><span class=\"nd\">word:89441</span> <span class=\"txtt\"><span class=\"plain  rno \" ></span></span></div><div class='features'><span class=\"atf xft\" ><span class=\"f\">atf=</span>[...</span></div></div><div class=\"contnr c2    \" ><div class=\"lbl c2  \" ><span class=\"nd\">cluster:79532</span></div><div class=\"children hor wrap \"><div class=\"contnr c1 trm  lno \" ><div class=\"lbl c1 trm \" ><span class=\"nd\">word:89441</span> <span class=\"txtt\"><span class=\"plain  lno \" ><span class=\"txtt\"><span class=\"missing\"><span class=\"missing\">...</span></span> </span></span></span></div><div class='features'><span class=\"atf xft\" ><span class=\"f\">atf=</span>[...</span></div></div><div class=\"contnr c1 trm  rno \" ><div class=\"lbl c1 trm \" ><span class=\"nd\">word:89442</span> <span class=\"txtt\"><span class=\"plain  rno \" ><span class=\"txtt\"><span class=\"missing\"><span class=\"r\">na</span></span></span><span class=\"txtt\"><span class=\"missing\">-</span></span><span class=\"txtt\"><span class=\"missing\"></span> </span></span></span></div><div class='features'><span class=\"atf xft\" ><span class=\"f\">atf=</span>na-š]i</span></div></div></div></div><div class=\"contnr c1 trm  lno \" ><div class=\"lbl c1 trm \" ><span class=\"nd\">word:89442</span> <span class=\"txtt\"><span class=\"plain  lno \" ><span class=\"txtt\"><span class=\"damage\"><span class=\"r\">ši</span></span> </span></span></span></div><div class='features'><span class=\"atf xft\" ><span class=\"f\">atf=</span>na-š]i</span></div></div><div class=\"contnr c1 trm   \" ><div class=\"lbl c1 trm \" ><span class=\"nd\">word:89443</span> <span class=\"txtt\"><span class=\"plain   \" ><span class=\"txtt\"><span class=\"r\">pat</span></span><span class=\"txtt\">-</span><span class=\"txtt\"><span class=\"r\">ri</span> </span></span></span></div><div class='features'><span class=\"atf xft\" ><span class=\"f\">atf=</span>pat-ri</span></div></div><div class=\"contnr c1 trm   \" ><div class=\"lbl c1 trm \" ><span class=\"nd\">word:89444</span> <span class=\"txtt\"><span class=\"plain   \" ><span class=\"txtt\"><span class=\"g\">TU₆</span> </span></span></span></div><div class='features'><span class=\"atf xft\" ><span class=\"f\">atf=</span>TU₆</span></div></div><div class=\"contnr c1 trm   \" ><div class=\"lbl c1 trm \" ><span class=\"nd\">word:89445</span> <span class=\"txtt\"><span class=\"plain   \" ><span class=\"txtt\"><span class=\"g\">EN₂</span> </span></span></span></div><div class='features'><span class=\"atf xft\" ><span class=\"f\">atf=</span>EN₂</span></div></div></div></div><div class=\"contnr c3    \" ><div class=\"lbl c3  \" ><span class=\"nd\">line:86009</span></div><div class='features'><span class=\"atf xft\" ><span class=\"f\">atf=</span>7. [x x x x x x x x x x x ana UG]U EN₂ ŠUB-di ina KA-šu₂ u₂-man-zaq-ma ina-eš</span></div><div class=\"children hor wrap \"><div class=\"contnr c1 trm  rno \" ><div class=\"lbl c1 trm \" ><span class=\"nd\">word:89446</span> <span class=\"txtt\"><span class=\"plain  rno \" ></span></span></div><div class='features'><span class=\"atf xft\" ><span class=\"f\">atf=</span>[x</span></div></div><div class=\"contnr c2    \" ><div class=\"lbl c2  \" ><span class=\"nd\">cluster:79533</span></div><div class=\"children hor wrap \"><div class=\"contnr c1 trm  lno \" ><div class=\"lbl c1 trm \" ><span class=\"nd\">word:89446</span> <span class=\"txtt\"><span class=\"plain  lno \" ><span class=\"txtt\"><span class=\"missing\"><span class=\"uncertain\"><span class=\"cls\">x</span></span></span> </span></span></span></div><div class='features'><span class=\"atf xft\" ><span class=\"f\">atf=</span>[x</span></div></div><div class=\"contnr c1 trm   \" ><div class=\"lbl c1 trm \" ><span class=\"nd\">word:89447</span> <span class=\"txtt\"><span class=\"plain   \" ><span class=\"txtt\"><span class=\"missing\"><span class=\"uncertain\"><span class=\"cls\">x</span></span></span> </span></span></span></div><div class='features'><span class=\"atf xft\" ><span class=\"f\">atf=</span>x</span></div></div><div class=\"contnr c1 trm   \" ><div class=\"lbl c1 trm \" ><span class=\"nd\">word:89448</span> <span class=\"txtt\"><span class=\"plain   \" ><span class=\"txtt\"><span class=\"missing\"><span class=\"uncertain\"><span class=\"cls\">x</span></span></span> </span></span></span></div><div class='features'><span class=\"atf xft\" ><span class=\"f\">atf=</span>x</span></div></div><div class=\"contnr c1 trm   \" ><div class=\"lbl c1 trm \" ><span class=\"nd\">word:89449</span> <span class=\"txtt\"><span class=\"plain   \" ><span class=\"txtt\"><span class=\"missing\"><span class=\"uncertain\"><span class=\"cls\">x</span></span></span> </span></span></span></div><div class='features'><span class=\"atf xft\" ><span class=\"f\">atf=</span>x</span></div></div><div class=\"contnr c1 trm   \" ><div class=\"lbl c1 trm \" ><span class=\"nd\">word:89450</span> <span class=\"txtt\"><span class=\"plain   \" ><span class=\"txtt\"><span class=\"missing\"><span class=\"uncertain\"><span class=\"cls\">x</span></span></span> </span></span></span></div><div class='features'><span class=\"atf xft\" ><span class=\"f\">atf=</span>x</span></div></div><div class=\"contnr c1 trm   \" ><div class=\"lbl c1 trm \" ><span class=\"nd\">word:89451</span> <span class=\"txtt\"><span class=\"plain   \" ><span class=\"txtt\"><span class=\"missing\"><span class=\"uncertain\"><span class=\"cls\">x</span></span></span> </span></span></span></div><div class='features'><span class=\"atf xft\" ><span class=\"f\">atf=</span>x</span></div></div><div class=\"contnr c1 trm   \" ><div class=\"lbl c1 trm \" ><span class=\"nd\">word:89452</span> <span class=\"txtt\"><span class=\"plain   \" ><span class=\"txtt\"><span class=\"missing\"><span class=\"uncertain\"><span class=\"cls\">x</span></span></span> </span></span></span></div><div class='features'><span class=\"atf xft\" ><span class=\"f\">atf=</span>x</span></div></div><div class=\"contnr c1 trm   \" ><div class=\"lbl c1 trm \" ><span class=\"nd\">word:89453</span> <span class=\"txtt\"><span class=\"plain   \" ><span class=\"txtt\"><span class=\"missing\"><span class=\"uncertain\"><span class=\"cls\">x</span></span></span> </span></span></span></div><div class='features'><span class=\"atf xft\" ><span class=\"f\">atf=</span>x</span></div></div><div class=\"contnr c1 trm   \" ><div class=\"lbl c1 trm \" ><span class=\"nd\">word:89454</span> <span class=\"txtt\"><span class=\"plain   \" ><span class=\"txtt\"><span class=\"missing\"><span class=\"uncertain\"><span class=\"cls\">x</span></span></span> </span></span></span></div><div class='features'><span class=\"atf xft\" ><span class=\"f\">atf=</span>x</span></div></div><div class=\"contnr c1 trm   \" ><div class=\"lbl c1 trm \" ><span class=\"nd\">word:89455</span> <span class=\"txtt\"><span class=\"plain   \" ><span class=\"txtt\"><span class=\"missing\"><span class=\"uncertain\"><span class=\"cls\">x</span></span></span> </span></span></span></div><div class='features'><span class=\"atf xft\" ><span class=\"f\">atf=</span>x</span></div></div><div class=\"contnr c1 trm   \" ><div class=\"lbl c1 trm \" ><span class=\"nd\">word:89456</span> <span class=\"txtt\"><span class=\"plain   \" ><span class=\"txtt\"><span class=\"missing\"><span class=\"uncertain\"><span class=\"cls\">x</span></span></span> </span></span></span></div><div class='features'><span class=\"atf xft\" ><span class=\"f\">atf=</span>x</span></div></div><div class=\"contnr c1 trm   \" ><div class=\"lbl c1 trm \" ><span class=\"nd\">word:89457</span> <span class=\"txtt\"><span class=\"plain   \" ><span class=\"txtt\"><span class=\"missing\"><span class=\"r\">ana</span></span> </span></span></span></div><div class='features'><span class=\"atf xft\" ><span class=\"f\">atf=</span>ana</span></div></div><div class=\"contnr c1 trm  rno \" ><div class=\"lbl c1 trm \" ><span class=\"nd\">word:89458</span> <span class=\"txtt\"><span class=\"plain  rno \" ><span class=\"txtt\"><span class=\"missing\"></span> </span></span></span></div><div class='features'><span class=\"atf xft\" ><span class=\"f\">atf=</span>UG]U</span></div></div></div></div><div class=\"contnr c1 trm  lno \" ><div class=\"lbl c1 trm \" ><span class=\"nd\">word:89458</span> <span class=\"txtt\"><span class=\"plain  lno \" ><span class=\"txtt\"><span class=\"damage\"><span class=\"g\">UGU</span></span> </span></span></span></div><div class='features'><span class=\"atf xft\" ><span class=\"f\">atf=</span>UG]U</span></div></div><div class=\"contnr c1 trm   \" ><div class=\"lbl c1 trm \" ><span class=\"nd\">word:89459</span> <span class=\"txtt\"><span class=\"plain   \" ><span class=\"txtt\"><span class=\"g\">EN₂</span> </span></span></span></div><div class='features'><span class=\"atf xft\" ><span class=\"f\">atf=</span>EN₂</span></div></div><div class=\"contnr c1 trm   \" ><div class=\"lbl c1 trm \" ><span class=\"nd\">word:89460</span> <span class=\"txtt\"><span class=\"plain   \" ><span class=\"txtt\"><span class=\"g\">ŠUB</span></span><span class=\"txtt\">-</span><span class=\"txtt\"><span class=\"r\">di</span> </span></span></span></div><div class='features'><span class=\"atf xft\" ><span class=\"f\">atf=</span>ŠUB-di</span></div></div><div class=\"contnr c1 trm   \" ><div class=\"lbl c1 trm \" ><span class=\"nd\">word:89461</span> <span class=\"txtt\"><span class=\"plain   \" ><span class=\"txtt\"><span class=\"r\">ina</span> </span></span></span></div><div class='features'><span class=\"atf xft\" ><span class=\"f\">atf=</span>ina</span></div></div><div class=\"contnr c1 trm   \" ><div class=\"lbl c1 trm \" ><span class=\"nd\">word:89462</span> <span class=\"txtt\"><span class=\"plain   \" ><span class=\"txtt\"><span class=\"g\">KA</span></span><span class=\"txtt\">-</span><span class=\"txtt\"><span class=\"r\">šu</span> </span></span></span></div><div class='features'><span class=\"atf xft\" ><span class=\"f\">atf=</span>KA-šu₂</span></div></div><div class=\"contnr c1 trm   \" ><div class=\"lbl c1 trm \" ><span class=\"nd\">word:89463</span> <span class=\"txtt\"><span class=\"plain   \" ><span class=\"txtt\"><span class=\"r\">u</span></span><span class=\"txtt\">-</span><span class=\"txtt\"><span class=\"r\">man</span></span><span class=\"txtt\">-</span><span class=\"txtt\"><span class=\"r\">zaq</span></span><span class=\"txtt\">-</span><span class=\"txtt\"><span class=\"r\">ma</span> </span></span></span></div><div class='features'><span class=\"atf xft\" ><span class=\"f\">atf=</span>u₂-man-zaq-ma</span></div></div><div class=\"contnr c1 trm   \" ><div class=\"lbl c1 trm \" ><span class=\"nd\">word:89464</span> <span class=\"txtt\"><span class=\"plain   \" ><span class=\"txtt\"><span class=\"r\">ina</span></span><span class=\"txtt\">-</span><span class=\"txtt\"><span class=\"r\">eš</span> </span></span></span></div><div class='features'><span class=\"atf xft\" ><span class=\"f\">atf=</span>ina-eš</span></div></div></div></div><div class=\"contnr c3    \" ><div class=\"lbl c3  \" ><span class=\"nd\">line:86010</span></div><div class='features'><span class=\"atf xft\" ><span class=\"f\">atf=</span>8. [x x x x x x x x x x x x as-su]h-šu₂-ma iṣ-ṣa-bat ŠA₃-bi</span></div><div class=\"children hor wrap \"><div class=\"contnr c1 trm  rno \" ><div class=\"lbl c1 trm \" ><span class=\"nd\">word:89465</span> <span class=\"txtt\"><span class=\"plain  rno \" ></span></span></div><div class='features'><span class=\"atf xft\" ><span class=\"f\">atf=</span>[x</span></div></div><div class=\"contnr c2    \" ><div class=\"lbl c2  \" ><span class=\"nd\">cluster:79534</span></div><div class=\"children hor wrap \"><div class=\"contnr c1 trm  lno \" ><div class=\"lbl c1 trm \" ><span class=\"nd\">word:89465</span> <span class=\"txtt\"><span class=\"plain  lno \" ><span class=\"txtt\"><span class=\"missing\"><span class=\"uncertain\"><span class=\"cls\">x</span></span></span> </span></span></span></div><div class='features'><span class=\"atf xft\" ><span class=\"f\">atf=</span>[x</span></div></div><div class=\"contnr c1 trm   \" ><div class=\"lbl c1 trm \" ><span class=\"nd\">word:89466</span> <span class=\"txtt\"><span class=\"plain   \" ><span class=\"txtt\"><span class=\"missing\"><span class=\"uncertain\"><span class=\"cls\">x</span></span></span> </span></span></span></div><div class='features'><span class=\"atf xft\" ><span class=\"f\">atf=</span>x</span></div></div><div class=\"contnr c1 trm   \" ><div class=\"lbl c1 trm \" ><span class=\"nd\">word:89467</span> <span class=\"txtt\"><span class=\"plain   \" ><span class=\"txtt\"><span class=\"missing\"><span class=\"uncertain\"><span class=\"cls\">x</span></span></span> </span></span></span></div><div class='features'><span class=\"atf xft\" ><span class=\"f\">atf=</span>x</span></div></div><div class=\"contnr c1 trm   \" ><div class=\"lbl c1 trm \" ><span class=\"nd\">word:89468</span> <span class=\"txtt\"><span class=\"plain   \" ><span class=\"txtt\"><span class=\"missing\"><span class=\"uncertain\"><span class=\"cls\">x</span></span></span> </span></span></span></div><div class='features'><span class=\"atf xft\" ><span class=\"f\">atf=</span>x</span></div></div><div class=\"contnr c1 trm   \" ><div class=\"lbl c1 trm \" ><span class=\"nd\">word:89469</span> <span class=\"txtt\"><span class=\"plain   \" ><span class=\"txtt\"><span class=\"missing\"><span class=\"uncertain\"><span class=\"cls\">x</span></span></span> </span></span></span></div><div class='features'><span class=\"atf xft\" ><span class=\"f\">atf=</span>x</span></div></div><div class=\"contnr c1 trm   \" ><div class=\"lbl c1 trm \" ><span class=\"nd\">word:89470</span> <span class=\"txtt\"><span class=\"plain   \" ><span class=\"txtt\"><span class=\"missing\"><span class=\"uncertain\"><span class=\"cls\">x</span></span></span> </span></span></span></div><div class='features'><span class=\"atf xft\" ><span class=\"f\">atf=</span>x</span></div></div><div class=\"contnr c1 trm   \" ><div class=\"lbl c1 trm \" ><span class=\"nd\">word:89471</span> <span class=\"txtt\"><span class=\"plain   \" ><span class=\"txtt\"><span class=\"missing\"><span class=\"uncertain\"><span class=\"cls\">x</span></span></span> </span></span></span></div><div class='features'><span class=\"atf xft\" ><span class=\"f\">atf=</span>x</span></div></div><div class=\"contnr c1 trm   \" ><div class=\"lbl c1 trm \" ><span class=\"nd\">word:89472</span> <span class=\"txtt\"><span class=\"plain   \" ><span class=\"txtt\"><span class=\"missing\"><span class=\"uncertain\"><span class=\"cls\">x</span></span></span> </span></span></span></div><div class='features'><span class=\"atf xft\" ><span class=\"f\">atf=</span>x</span></div></div><div class=\"contnr c1 trm   \" ><div class=\"lbl c1 trm \" ><span class=\"nd\">word:89473</span> <span class=\"txtt\"><span class=\"plain   \" ><span class=\"txtt\"><span class=\"missing\"><span class=\"uncertain\"><span class=\"cls\">x</span></span></span> </span></span></span></div><div class='features'><span class=\"atf xft\" ><span class=\"f\">atf=</span>x</span></div></div><div class=\"contnr c1 trm   \" ><div class=\"lbl c1 trm \" ><span class=\"nd\">word:89474</span> <span class=\"txtt\"><span class=\"plain   \" ><span class=\"txtt\"><span class=\"missing\"><span class=\"uncertain\"><span class=\"cls\">x</span></span></span> </span></span></span></div><div class='features'><span class=\"atf xft\" ><span class=\"f\">atf=</span>x</span></div></div><div class=\"contnr c1 trm   \" ><div class=\"lbl c1 trm \" ><span class=\"nd\">word:89475</span> <span class=\"txtt\"><span class=\"plain   \" ><span class=\"txtt\"><span class=\"missing\"><span class=\"uncertain\"><span class=\"cls\">x</span></span></span> </span></span></span></div><div class='features'><span class=\"atf xft\" ><span class=\"f\">atf=</span>x</span></div></div><div class=\"contnr c1 trm   \" ><div class=\"lbl c1 trm \" ><span class=\"nd\">word:89476</span> <span class=\"txtt\"><span class=\"plain   \" ><span class=\"txtt\"><span class=\"missing\"><span class=\"uncertain\"><span class=\"cls\">x</span></span></span> </span></span></span></div><div class='features'><span class=\"atf xft\" ><span class=\"f\">atf=</span>x</span></div></div><div class=\"contnr c1 trm  rno \" ><div class=\"lbl c1 trm \" ><span class=\"nd\">word:89477</span> <span class=\"txtt\"><span class=\"plain  rno \" ><span class=\"txtt\"><span class=\"missing\"><span class=\"r\">as</span></span></span><span class=\"txtt\"><span class=\"missing\">-</span></span><span class=\"txtt\"><span class=\"missing\"></span> </span></span></span></div><div class='features'><span class=\"atf xft\" ><span class=\"f\">atf=</span>as-su]h-šu₂-ma</span></div></div></div></div><div class=\"contnr c1 trm  lno \" ><div class=\"lbl c1 trm \" ><span class=\"nd\">word:89477</span> <span class=\"txtt\"><span class=\"plain  lno \" ><span class=\"txtt\"><span class=\"damage\"><span class=\"r\">suh</span></span></span><span class=\"txtt\">-</span><span class=\"txtt\"><span class=\"r\">šu</span></span><span class=\"txtt\">-</span><span class=\"txtt\"><span class=\"r\">ma</span> </span></span></span></div><div class='features'><span class=\"atf xft\" ><span class=\"f\">atf=</span>as-su]h-šu₂-ma</span></div></div><div class=\"contnr c1 trm   \" ><div class=\"lbl c1 trm \" ><span class=\"nd\">word:89478</span> <span class=\"txtt\"><span class=\"plain   \" ><span class=\"txtt\"><span class=\"r\">iṣ</span></span><span class=\"txtt\">-</span><span class=\"txtt\"><span class=\"r\">ṣa</span></span><span class=\"txtt\">-</span><span class=\"txtt\"><span class=\"r\">bat</span> </span></span></span></div><div class='features'><span class=\"atf xft\" ><span class=\"f\">atf=</span>iṣ-ṣa-bat</span></div></div><div class=\"contnr c1 trm   \" ><div class=\"lbl c1 trm \" ><span class=\"nd\">word:89479</span> <span class=\"txtt\"><span class=\"plain   \" ><span class=\"txtt\"><span class=\"g\">ŠA₃</span></span><span class=\"txtt\">-</span><span class=\"txtt\"><span class=\"r\">bi</span> </span></span></span></div><div class='features'><span class=\"atf xft\" ><span class=\"f\">atf=</span>ŠA₃-bi</span></div></div></div></div><div class=\"contnr c3    \" ><div class=\"lbl c3  \" ><span class=\"nd\">line:86011</span></div><div class='features'><span class=\"atf xft\" ><span class=\"f\">atf=</span>9. [x x x x x x x x x x x x x x x x x x K]I DU₁₁.GA-ma iṣ-ṣa-bat ŠA₃-bi AN u KI</span></div><div class=\"children hor wrap \"><div class=\"contnr c1 trm  rno \" ><div class=\"lbl c1 trm \" ><span class=\"nd\">word:89480</span> <span class=\"txtt\"><span class=\"plain  rno \" ></span></span></div><div class='features'><span class=\"atf xft\" ><span class=\"f\">atf=</span>[x</span></div></div><div class=\"contnr c2    \" ><div class=\"lbl c2  \" ><span class=\"nd\">cluster:79535</span></div><div class=\"children hor wrap \"><div class=\"contnr c1 trm  lno \" ><div class=\"lbl c1 trm \" ><span class=\"nd\">word:89480</span> <span class=\"txtt\"><span class=\"plain  lno \" ><span class=\"txtt\"><span class=\"missing\"><span class=\"uncertain\"><span class=\"cls\">x</span></span></span> </span></span></span></div><div class='features'><span class=\"atf xft\" ><span class=\"f\">atf=</span>[x</span></div></div><div class=\"contnr c1 trm   \" ><div class=\"lbl c1 trm \" ><span class=\"nd\">word:89481</span> <span class=\"txtt\"><span class=\"plain   \" ><span class=\"txtt\"><span class=\"missing\"><span class=\"uncertain\"><span class=\"cls\">x</span></span></span> </span></span></span></div><div class='features'><span class=\"atf xft\" ><span class=\"f\">atf=</span>x</span></div></div><div class=\"contnr c1 trm   \" ><div class=\"lbl c1 trm \" ><span class=\"nd\">word:89482</span> <span class=\"txtt\"><span class=\"plain   \" ><span class=\"txtt\"><span class=\"missing\"><span class=\"uncertain\"><span class=\"cls\">x</span></span></span> </span></span></span></div><div class='features'><span class=\"atf xft\" ><span class=\"f\">atf=</span>x</span></div></div><div class=\"contnr c1 trm   \" ><div class=\"lbl c1 trm \" ><span class=\"nd\">word:89483</span> <span class=\"txtt\"><span class=\"plain   \" ><span class=\"txtt\"><span class=\"missing\"><span class=\"uncertain\"><span class=\"cls\">x</span></span></span> </span></span></span></div><div class='features'><span class=\"atf xft\" ><span class=\"f\">atf=</span>x</span></div></div><div class=\"contnr c1 trm   \" ><div class=\"lbl c1 trm \" ><span class=\"nd\">word:89484</span> <span class=\"txtt\"><span class=\"plain   \" ><span class=\"txtt\"><span class=\"missing\"><span class=\"uncertain\"><span class=\"cls\">x</span></span></span> </span></span></span></div><div class='features'><span class=\"atf xft\" ><span class=\"f\">atf=</span>x</span></div></div><div class=\"contnr c1 trm   \" ><div class=\"lbl c1 trm \" ><span class=\"nd\">word:89485</span> <span class=\"txtt\"><span class=\"plain   \" ><span class=\"txtt\"><span class=\"missing\"><span class=\"uncertain\"><span class=\"cls\">x</span></span></span> </span></span></span></div><div class='features'><span class=\"atf xft\" ><span class=\"f\">atf=</span>x</span></div></div><div class=\"contnr c1 trm   \" ><div class=\"lbl c1 trm \" ><span class=\"nd\">word:89486</span> <span class=\"txtt\"><span class=\"plain   \" ><span class=\"txtt\"><span class=\"missing\"><span class=\"uncertain\"><span class=\"cls\">x</span></span></span> </span></span></span></div><div class='features'><span class=\"atf xft\" ><span class=\"f\">atf=</span>x</span></div></div><div class=\"contnr c1 trm   \" ><div class=\"lbl c1 trm \" ><span class=\"nd\">word:89487</span> <span class=\"txtt\"><span class=\"plain   \" ><span class=\"txtt\"><span class=\"missing\"><span class=\"uncertain\"><span class=\"cls\">x</span></span></span> </span></span></span></div><div class='features'><span class=\"atf xft\" ><span class=\"f\">atf=</span>x</span></div></div><div class=\"contnr c1 trm   \" ><div class=\"lbl c1 trm \" ><span class=\"nd\">word:89488</span> <span class=\"txtt\"><span class=\"plain   \" ><span class=\"txtt\"><span class=\"missing\"><span class=\"uncertain\"><span class=\"cls\">x</span></span></span> </span></span></span></div><div class='features'><span class=\"atf xft\" ><span class=\"f\">atf=</span>x</span></div></div><div class=\"contnr c1 trm   \" ><div class=\"lbl c1 trm \" ><span class=\"nd\">word:89489</span> <span class=\"txtt\"><span class=\"plain   \" ><span class=\"txtt\"><span class=\"missing\"><span class=\"uncertain\"><span class=\"cls\">x</span></span></span> </span></span></span></div><div class='features'><span class=\"atf xft\" ><span class=\"f\">atf=</span>x</span></div></div><div class=\"contnr c1 trm   \" ><div class=\"lbl c1 trm \" ><span class=\"nd\">word:89490</span> <span class=\"txtt\"><span class=\"plain   \" ><span class=\"txtt\"><span class=\"missing\"><span class=\"uncertain\"><span class=\"cls\">x</span></span></span> </span></span></span></div><div class='features'><span class=\"atf xft\" ><span class=\"f\">atf=</span>x</span></div></div><div class=\"contnr c1 trm   \" ><div class=\"lbl c1 trm \" ><span class=\"nd\">word:89491</span> <span class=\"txtt\"><span class=\"plain   \" ><span class=\"txtt\"><span class=\"missing\"><span class=\"uncertain\"><span class=\"cls\">x</span></span></span> </span></span></span></div><div class='features'><span class=\"atf xft\" ><span class=\"f\">atf=</span>x</span></div></div><div class=\"contnr c1 trm   \" ><div class=\"lbl c1 trm \" ><span class=\"nd\">word:89492</span> <span class=\"txtt\"><span class=\"plain   \" ><span class=\"txtt\"><span class=\"missing\"><span class=\"uncertain\"><span class=\"cls\">x</span></span></span> </span></span></span></div><div class='features'><span class=\"atf xft\" ><span class=\"f\">atf=</span>x</span></div></div><div class=\"contnr c1 trm   \" ><div class=\"lbl c1 trm \" ><span class=\"nd\">word:89493</span> <span class=\"txtt\"><span class=\"plain   \" ><span class=\"txtt\"><span class=\"missing\"><span class=\"uncertain\"><span class=\"cls\">x</span></span></span> </span></span></span></div><div class='features'><span class=\"atf xft\" ><span class=\"f\">atf=</span>x</span></div></div><div class=\"contnr c1 trm   \" ><div class=\"lbl c1 trm \" ><span class=\"nd\">word:89494</span> <span class=\"txtt\"><span class=\"plain   \" ><span class=\"txtt\"><span class=\"missing\"><span class=\"uncertain\"><span class=\"cls\">x</span></span></span> </span></span></span></div><div class='features'><span class=\"atf xft\" ><span class=\"f\">atf=</span>x</span></div></div><div class=\"contnr c1 trm   \" ><div class=\"lbl c1 trm \" ><span class=\"nd\">word:89495</span> <span class=\"txtt\"><span class=\"plain   \" ><span class=\"txtt\"><span class=\"missing\"><span class=\"uncertain\"><span class=\"cls\">x</span></span></span> </span></span></span></div><div class='features'><span class=\"atf xft\" ><span class=\"f\">atf=</span>x</span></div></div><div class=\"contnr c1 trm   \" ><div class=\"lbl c1 trm \" ><span class=\"nd\">word:89496</span> <span class=\"txtt\"><span class=\"plain   \" ><span class=\"txtt\"><span class=\"missing\"><span class=\"uncertain\"><span class=\"cls\">x</span></span></span> </span></span></span></div><div class='features'><span class=\"atf xft\" ><span class=\"f\">atf=</span>x</span></div></div><div class=\"contnr c1 trm   \" ><div class=\"lbl c1 trm \" ><span class=\"nd\">word:89497</span> <span class=\"txtt\"><span class=\"plain   \" ><span class=\"txtt\"><span class=\"missing\"><span class=\"uncertain\"><span class=\"cls\">x</span></span></span> </span></span></span></div><div class='features'><span class=\"atf xft\" ><span class=\"f\">atf=</span>x</span></div></div><div class=\"contnr c1 trm  rno \" ><div class=\"lbl c1 trm \" ><span class=\"nd\">word:89498</span> <span class=\"txtt\"><span class=\"plain  rno \" ><span class=\"txtt\"><span class=\"missing\"></span> </span></span></span></div><div class='features'><span class=\"atf xft\" ><span class=\"f\">atf=</span>K]I</span></div></div></div></div><div class=\"contnr c1 trm  lno \" ><div class=\"lbl c1 trm \" ><span class=\"nd\">word:89498</span> <span class=\"txtt\"><span class=\"plain  lno \" ><span class=\"txtt\"><span class=\"damage\"><span class=\"g\">KI</span></span> </span></span></span></div><div class='features'><span class=\"atf xft\" ><span class=\"f\">atf=</span>K]I</span></div></div><div class=\"contnr c1 trm   \" ><div class=\"lbl c1 trm \" ><span class=\"nd\">word:89499</span> <span class=\"txtt\"><span class=\"plain   \" ><span class=\"txtt\"><span class=\"g\">DU₁₁</span></span><span class=\"txtt\">.</span><span class=\"txtt\"><span class=\"g\">GA</span></span><span class=\"txtt\">-</span><span class=\"txtt\"><span class=\"r\">ma</span> </span></span></span></div><div class='features'><span class=\"atf xft\" ><span class=\"f\">atf=</span>DU₁₁.GA-ma</span></div></div><div class=\"contnr c1 trm   \" ><div class=\"lbl c1 trm \" ><span class=\"nd\">word:89500</span> <span class=\"txtt\"><span class=\"plain   \" ><span class=\"txtt\"><span class=\"r\">iṣ</span></span><span class=\"txtt\">-</span><span class=\"txtt\"><span class=\"r\">ṣa</span></span><span class=\"txtt\">-</span><span class=\"txtt\"><span class=\"r\">bat</span> </span></span></span></div><div class='features'><span class=\"atf xft\" ><span class=\"f\">atf=</span>iṣ-ṣa-bat</span></div></div><div class=\"contnr c1 trm   \" ><div class=\"lbl c1 trm \" ><span class=\"nd\">word:89501</span> <span class=\"txtt\"><span class=\"plain   \" ><span class=\"txtt\"><span class=\"g\">ŠA₃</span></span><span class=\"txtt\">-</span><span class=\"txtt\"><span class=\"r\">bi</span> </span></span></span></div><div class='features'><span class=\"atf xft\" ><span class=\"f\">atf=</span>ŠA₃-bi</span></div></div><div class=\"contnr c1 trm   \" ><div class=\"lbl c1 trm \" ><span class=\"nd\">word:89502</span> <span class=\"txtt\"><span class=\"plain   \" ><span class=\"txtt\"><span class=\"g\">AN</span> </span></span></span></div><div class='features'><span class=\"atf xft\" ><span class=\"f\">atf=</span>AN</span></div></div><div class=\"contnr c1 trm   \" ><div class=\"lbl c1 trm \" ><span class=\"nd\">word:89503</span> <span class=\"txtt\"><span class=\"plain   \" ><span class=\"txtt\"><span class=\"r\">u</span> </span></span></span></div><div class='features'><span class=\"atf xft\" ><span class=\"f\">atf=</span>u</span></div></div><div class=\"contnr c1 trm   \" ><div class=\"lbl c1 trm \" ><span class=\"nd\">word:89504</span> <span class=\"txtt\"><span class=\"plain   \" ><span class=\"txtt\"><span class=\"g\">KI</span> </span></span></span></div><div class='features'><span class=\"atf xft\" ><span class=\"f\">atf=</span>KI</span></div></div></div></div><div class=\"contnr c3    \" ><div class=\"lbl c3  \" ><span class=\"nd\">line:86012</span></div><div class='features'><span class=\"atf xft\" ><span class=\"f\">atf=</span>10. [x x x x x x x x x x x x x x x x a-na u₂-ma]-mi# DU₁₁.GA-ma iṣ-ṣa-bat ŠA₃-bi u₂-ma-me</span></div><div class=\"children hor wrap \"><div class=\"contnr c1 trm  rno \" ><div class=\"lbl c1 trm \" ><span class=\"nd\">word:89505</span> <span class=\"txtt\"><span class=\"plain  rno \" ></span></span></div><div class='features'><span class=\"atf xft\" ><span class=\"f\">atf=</span>[x</span></div></div><div class=\"contnr c2    \" ><div class=\"lbl c2  \" ><span class=\"nd\">cluster:79536</span></div><div class=\"children hor wrap \"><div class=\"contnr c1 trm  lno \" ><div class=\"lbl c1 trm \" ><span class=\"nd\">word:89505</span> <span class=\"txtt\"><span class=\"plain  lno \" ><span class=\"txtt\"><span class=\"missing\"><span class=\"uncertain\"><span class=\"cls\">x</span></span></span> </span></span></span></div><div class='features'><span class=\"atf xft\" ><span class=\"f\">atf=</span>[x</span></div></div><div class=\"contnr c1 trm   \" ><div class=\"lbl c1 trm \" ><span class=\"nd\">word:89506</span> <span class=\"txtt\"><span class=\"plain   \" ><span class=\"txtt\"><span class=\"missing\"><span class=\"uncertain\"><span class=\"cls\">x</span></span></span> </span></span></span></div><div class='features'><span class=\"atf xft\" ><span class=\"f\">atf=</span>x</span></div></div><div class=\"contnr c1 trm   \" ><div class=\"lbl c1 trm \" ><span class=\"nd\">word:89507</span> <span class=\"txtt\"><span class=\"plain   \" ><span class=\"txtt\"><span class=\"missing\"><span class=\"uncertain\"><span class=\"cls\">x</span></span></span> </span></span></span></div><div class='features'><span class=\"atf xft\" ><span class=\"f\">atf=</span>x</span></div></div><div class=\"contnr c1 trm   \" ><div class=\"lbl c1 trm \" ><span class=\"nd\">word:89508</span> <span class=\"txtt\"><span class=\"plain   \" ><span class=\"txtt\"><span class=\"missing\"><span class=\"uncertain\"><span class=\"cls\">x</span></span></span> </span></span></span></div><div class='features'><span class=\"atf xft\" ><span class=\"f\">atf=</span>x</span></div></div><div class=\"contnr c1 trm   \" ><div class=\"lbl c1 trm \" ><span class=\"nd\">word:89509</span> <span class=\"txtt\"><span class=\"plain   \" ><span class=\"txtt\"><span class=\"missing\"><span class=\"uncertain\"><span class=\"cls\">x</span></span></span> </span></span></span></div><div class='features'><span class=\"atf xft\" ><span class=\"f\">atf=</span>x</span></div></div><div class=\"contnr c1 trm   \" ><div class=\"lbl c1 trm \" ><span class=\"nd\">word:89510</span> <span class=\"txtt\"><span class=\"plain   \" ><span class=\"txtt\"><span class=\"missing\"><span class=\"uncertain\"><span class=\"cls\">x</span></span></span> </span></span></span></div><div class='features'><span class=\"atf xft\" ><span class=\"f\">atf=</span>x</span></div></div><div class=\"contnr c1 trm   \" ><div class=\"lbl c1 trm \" ><span class=\"nd\">word:89511</span> <span class=\"txtt\"><span class=\"plain   \" ><span class=\"txtt\"><span class=\"missing\"><span class=\"uncertain\"><span class=\"cls\">x</span></span></span> </span></span></span></div><div class='features'><span class=\"atf xft\" ><span class=\"f\">atf=</span>x</span></div></div><div class=\"contnr c1 trm   \" ><div class=\"lbl c1 trm \" ><span class=\"nd\">word:89512</span> <span class=\"txtt\"><span class=\"plain   \" ><span class=\"txtt\"><span class=\"missing\"><span class=\"uncertain\"><span class=\"cls\">x</span></span></span> </span></span></span></div><div class='features'><span class=\"atf xft\" ><span class=\"f\">atf=</span>x</span></div></div><div class=\"contnr c1 trm   \" ><div class=\"lbl c1 trm \" ><span class=\"nd\">word:89513</span> <span class=\"txtt\"><span class=\"plain   \" ><span class=\"txtt\"><span class=\"missing\"><span class=\"uncertain\"><span class=\"cls\">x</span></span></span> </span></span></span></div><div class='features'><span class=\"atf xft\" ><span class=\"f\">atf=</span>x</span></div></div><div class=\"contnr c1 trm   \" ><div class=\"lbl c1 trm \" ><span class=\"nd\">word:89514</span> <span class=\"txtt\"><span class=\"plain   \" ><span class=\"txtt\"><span class=\"missing\"><span class=\"uncertain\"><span class=\"cls\">x</span></span></span> </span></span></span></div><div class='features'><span class=\"atf xft\" ><span class=\"f\">atf=</span>x</span></div></div><div class=\"contnr c1 trm   \" ><div class=\"lbl c1 trm \" ><span class=\"nd\">word:89515</span> <span class=\"txtt\"><span class=\"plain   \" ><span class=\"txtt\"><span class=\"missing\"><span class=\"uncertain\"><span class=\"cls\">x</span></span></span> </span></span></span></div><div class='features'><span class=\"atf xft\" ><span class=\"f\">atf=</span>x</span></div></div><div class=\"contnr c1 trm   \" ><div class=\"lbl c1 trm \" ><span class=\"nd\">word:89516</span> <span class=\"txtt\"><span class=\"plain   \" ><span class=\"txtt\"><span class=\"missing\"><span class=\"uncertain\"><span class=\"cls\">x</span></span></span> </span></span></span></div><div class='features'><span class=\"atf xft\" ><span class=\"f\">atf=</span>x</span></div></div><div class=\"contnr c1 trm   \" ><div class=\"lbl c1 trm \" ><span class=\"nd\">word:89517</span> <span class=\"txtt\"><span class=\"plain   \" ><span class=\"txtt\"><span class=\"missing\"><span class=\"uncertain\"><span class=\"cls\">x</span></span></span> </span></span></span></div><div class='features'><span class=\"atf xft\" ><span class=\"f\">atf=</span>x</span></div></div><div class=\"contnr c1 trm   \" ><div class=\"lbl c1 trm \" ><span class=\"nd\">word:89518</span> <span class=\"txtt\"><span class=\"plain   \" ><span class=\"txtt\"><span class=\"missing\"><span class=\"uncertain\"><span class=\"cls\">x</span></span></span> </span></span></span></div><div class='features'><span class=\"atf xft\" ><span class=\"f\">atf=</span>x</span></div></div><div class=\"contnr c1 trm   \" ><div class=\"lbl c1 trm \" ><span class=\"nd\">word:89519</span> <span class=\"txtt\"><span class=\"plain   \" ><span class=\"txtt\"><span class=\"missing\"><span class=\"uncertain\"><span class=\"cls\">x</span></span></span> </span></span></span></div><div class='features'><span class=\"atf xft\" ><span class=\"f\">atf=</span>x</span></div></div><div class=\"contnr c1 trm   \" ><div class=\"lbl c1 trm \" ><span class=\"nd\">word:89520</span> <span class=\"txtt\"><span class=\"plain   \" ><span class=\"txtt\"><span class=\"missing\"><span class=\"uncertain\"><span class=\"cls\">x</span></span></span> </span></span></span></div><div class='features'><span class=\"atf xft\" ><span class=\"f\">atf=</span>x</span></div></div><div class=\"contnr c1 trm   \" ><div class=\"lbl c1 trm \" ><span class=\"nd\">word:89521</span> <span class=\"txtt\"><span class=\"plain   \" ><span class=\"txtt\"><span class=\"missing\"><span class=\"r\">a</span></span></span><span class=\"txtt\"><span class=\"missing\">-</span></span><span class=\"txtt\"><span class=\"missing\"><span class=\"r\">na</span></span> </span></span></span></div><div class='features'><span class=\"atf xft\" ><span class=\"f\">atf=</span>a-na</span></div></div><div class=\"contnr c1 trm  rno \" ><div class=\"lbl c1 trm \" ><span class=\"nd\">word:89522</span> <span class=\"txtt\"><span class=\"plain  rno \" ><span class=\"txtt\"><span class=\"missing\"><span class=\"r\">u</span></span></span><span class=\"txtt\"><span class=\"missing\">-</span></span><span class=\"txtt\"><span class=\"missing\"><span class=\"r\">ma</span></span></span><span class=\"txtt\"><span class=\"missing\"></span></span></span></span></div><div class='features'><span class=\"atf xft\" ><span class=\"f\">atf=</span>u₂-ma]-mi#</span></div></div></div></div><div class=\"contnr c1 trm  lno \" ><div class=\"lbl c1 trm \" ><span class=\"nd\">word:89522</span> <span class=\"txtt\"><span class=\"plain  lno \" ><span class=\"txtt\">-</span><span class=\"txtt\"><span class=\"damage\"><span class=\"r\">mi</span></span> </span></span></span></div><div class='features'><span class=\"atf xft\" ><span class=\"f\">atf=</span>u₂-ma]-mi#</span></div></div><div class=\"contnr c1 trm   \" ><div class=\"lbl c1 trm \" ><span class=\"nd\">word:89523</span> <span class=\"txtt\"><span class=\"plain   \" ><span class=\"txtt\"><span class=\"g\">DU₁₁</span></span><span class=\"txtt\">.</span><span class=\"txtt\"><span class=\"g\">GA</span></span><span class=\"txtt\">-</span><span class=\"txtt\"><span class=\"r\">ma</span> </span></span></span></div><div class='features'><span class=\"atf xft\" ><span class=\"f\">atf=</span>DU₁₁.GA-ma</span></div></div><div class=\"contnr c1 trm   \" ><div class=\"lbl c1 trm \" ><span class=\"nd\">word:89524</span> <span class=\"txtt\"><span class=\"plain   \" ><span class=\"txtt\"><span class=\"r\">iṣ</span></span><span class=\"txtt\">-</span><span class=\"txtt\"><span class=\"r\">ṣa</span></span><span class=\"txtt\">-</span><span class=\"txtt\"><span class=\"r\">bat</span> </span></span></span></div><div class='features'><span class=\"atf xft\" ><span class=\"f\">atf=</span>iṣ-ṣa-bat</span></div></div><div class=\"contnr c1 trm   \" ><div class=\"lbl c1 trm \" ><span class=\"nd\">word:89525</span> <span class=\"txtt\"><span class=\"plain   \" ><span class=\"txtt\"><span class=\"g\">ŠA₃</span></span><span class=\"txtt\">-</span><span class=\"txtt\"><span class=\"r\">bi</span> </span></span></span></div><div class='features'><span class=\"atf xft\" ><span class=\"f\">atf=</span>ŠA₃-bi</span></div></div><div class=\"contnr c1 trm   \" ><div class=\"lbl c1 trm \" ><span class=\"nd\">word:89526</span> <span class=\"txtt\"><span class=\"plain   \" ><span class=\"txtt\"><span class=\"r\">u</span></span><span class=\"txtt\">-</span><span class=\"txtt\"><span class=\"r\">ma</span></span><span class=\"txtt\">-</span><span class=\"txtt\"><span class=\"r\">me</span> </span></span></span></div><div class='features'><span class=\"atf xft\" ><span class=\"f\">atf=</span>u₂-ma-me</span></div></div></div></div><div class=\"contnr c3    \" ><div class=\"lbl c3  \" ><span class=\"nd\">line:86013</span></div><div class='features'><span class=\"atf xft\" ><span class=\"f\">atf=</span>11. [x x x x x x x x x x x x x Š]A₃-bi {d}UTU lip-pa-šir</span></div><div class=\"children hor wrap \"><div class=\"contnr c1 trm  rno \" ><div class=\"lbl c1 trm \" ><span class=\"nd\">word:89527</span> <span class=\"txtt\"><span class=\"plain  rno \" ></span></span></div><div class='features'><span class=\"atf xft\" ><span class=\"f\">atf=</span>[x</span></div></div><div class=\"contnr c2    \" ><div class=\"lbl c2  \" ><span class=\"nd\">cluster:79537</span></div><div class=\"children hor wrap \"><div class=\"contnr c1 trm  lno \" ><div class=\"lbl c1 trm \" ><span class=\"nd\">word:89527</span> <span class=\"txtt\"><span class=\"plain  lno \" ><span class=\"txtt\"><span class=\"missing\"><span class=\"uncertain\"><span class=\"cls\">x</span></span></span> </span></span></span></div><div class='features'><span class=\"atf xft\" ><span class=\"f\">atf=</span>[x</span></div></div><div class=\"contnr c1 trm   \" ><div class=\"lbl c1 trm \" ><span class=\"nd\">word:89528</span> <span class=\"txtt\"><span class=\"plain   \" ><span class=\"txtt\"><span class=\"missing\"><span class=\"uncertain\"><span class=\"cls\">x</span></span></span> </span></span></span></div><div class='features'><span class=\"atf xft\" ><span class=\"f\">atf=</span>x</span></div></div><div class=\"contnr c1 trm   \" ><div class=\"lbl c1 trm \" ><span class=\"nd\">word:89529</span> <span class=\"txtt\"><span class=\"plain   \" ><span class=\"txtt\"><span class=\"missing\"><span class=\"uncertain\"><span class=\"cls\">x</span></span></span> </span></span></span></div><div class='features'><span class=\"atf xft\" ><span class=\"f\">atf=</span>x</span></div></div><div class=\"contnr c1 trm   \" ><div class=\"lbl c1 trm \" ><span class=\"nd\">word:89530</span> <span class=\"txtt\"><span class=\"plain   \" ><span class=\"txtt\"><span class=\"missing\"><span class=\"uncertain\"><span class=\"cls\">x</span></span></span> </span></span></span></div><div class='features'><span class=\"atf xft\" ><span class=\"f\">atf=</span>x</span></div></div><div class=\"contnr c1 trm   \" ><div class=\"lbl c1 trm \" ><span class=\"nd\">word:89531</span> <span class=\"txtt\"><span class=\"plain   \" ><span class=\"txtt\"><span class=\"missing\"><span class=\"uncertain\"><span class=\"cls\">x</span></span></span> </span></span></span></div><div class='features'><span class=\"atf xft\" ><span class=\"f\">atf=</span>x</span></div></div><div class=\"contnr c1 trm   \" ><div class=\"lbl c1 trm \" ><span class=\"nd\">word:89532</span> <span class=\"txtt\"><span class=\"plain   \" ><span class=\"txtt\"><span class=\"missing\"><span class=\"uncertain\"><span class=\"cls\">x</span></span></span> </span></span></span></div><div class='features'><span class=\"atf xft\" ><span class=\"f\">atf=</span>x</span></div></div><div class=\"contnr c1 trm   \" ><div class=\"lbl c1 trm \" ><span class=\"nd\">word:89533</span> <span class=\"txtt\"><span class=\"plain   \" ><span class=\"txtt\"><span class=\"missing\"><span class=\"uncertain\"><span class=\"cls\">x</span></span></span> </span></span></span></div><div class='features'><span class=\"atf xft\" ><span class=\"f\">atf=</span>x</span></div></div><div class=\"contnr c1 trm   \" ><div class=\"lbl c1 trm \" ><span class=\"nd\">word:89534</span> <span class=\"txtt\"><span class=\"plain   \" ><span class=\"txtt\"><span class=\"missing\"><span class=\"uncertain\"><span class=\"cls\">x</span></span></span> </span></span></span></div><div class='features'><span class=\"atf xft\" ><span class=\"f\">atf=</span>x</span></div></div><div class=\"contnr c1 trm   \" ><div class=\"lbl c1 trm \" ><span class=\"nd\">word:89535</span> <span class=\"txtt\"><span class=\"plain   \" ><span class=\"txtt\"><span class=\"missing\"><span class=\"uncertain\"><span class=\"cls\">x</span></span></span> </span></span></span></div><div class='features'><span class=\"atf xft\" ><span class=\"f\">atf=</span>x</span></div></div><div class=\"contnr c1 trm   \" ><div class=\"lbl c1 trm \" ><span class=\"nd\">word:89536</span> <span class=\"txtt\"><span class=\"plain   \" ><span class=\"txtt\"><span class=\"missing\"><span class=\"uncertain\"><span class=\"cls\">x</span></span></span> </span></span></span></div><div class='features'><span class=\"atf xft\" ><span class=\"f\">atf=</span>x</span></div></div><div class=\"contnr c1 trm   \" ><div class=\"lbl c1 trm \" ><span class=\"nd\">word:89537</span> <span class=\"txtt\"><span class=\"plain   \" ><span class=\"txtt\"><span class=\"missing\"><span class=\"uncertain\"><span class=\"cls\">x</span></span></span> </span></span></span></div><div class='features'><span class=\"atf xft\" ><span class=\"f\">atf=</span>x</span></div></div><div class=\"contnr c1 trm   \" ><div class=\"lbl c1 trm \" ><span class=\"nd\">word:89538</span> <span class=\"txtt\"><span class=\"plain   \" ><span class=\"txtt\"><span class=\"missing\"><span class=\"uncertain\"><span class=\"cls\">x</span></span></span> </span></span></span></div><div class='features'><span class=\"atf xft\" ><span class=\"f\">atf=</span>x</span></div></div><div class=\"contnr c1 trm   \" ><div class=\"lbl c1 trm \" ><span class=\"nd\">word:89539</span> <span class=\"txtt\"><span class=\"plain   \" ><span class=\"txtt\"><span class=\"missing\"><span class=\"uncertain\"><span class=\"cls\">x</span></span></span> </span></span></span></div><div class='features'><span class=\"atf xft\" ><span class=\"f\">atf=</span>x</span></div></div><div class=\"contnr c1 trm  rno \" ><div class=\"lbl c1 trm \" ><span class=\"nd\">word:89540</span> <span class=\"txtt\"><span class=\"plain  rno \" ><span class=\"txtt\"><span class=\"missing\"></span> </span></span></span></div><div class='features'><span class=\"atf xft\" ><span class=\"f\">atf=</span>Š]A₃-bi</span></div></div></div></div><div class=\"contnr c1 trm  lno \" ><div class=\"lbl c1 trm \" ><span class=\"nd\">word:89540</span> <span class=\"txtt\"><span class=\"plain  lno \" ><span class=\"txtt\"><span class=\"damage\"><span class=\"g\">ŠA₃</span></span></span><span class=\"txtt\">-</span><span class=\"txtt\">bi </span></span></span></div><div class='features'><span class=\"atf xft\" ><span class=\"f\">atf=</span>Š]A₃-bi</span></div></div><div class=\"contnr c2    \" ><div class=\"lbl c2  \" ><span class=\"nd\">cluster:79538</span></div><div class=\"children hor wrap \"><div class=\"contnr c1 trm  rno \" ><div class=\"lbl c1 trm \" ><span class=\"nd\">word:89541</span> <span class=\"txtt\"><span class=\"plain  rno \" ><span class=\"txtt\"><span class=\"det\">d</span></span></span></span></div><div class='features'><span class=\"atf xft\" ><span class=\"f\">atf=</span>{d}UTU</span></div></div></div></div><div class=\"contnr c1 trm  lno \" ><div class=\"lbl c1 trm \" ><span class=\"nd\">word:89541</span> <span class=\"txtt\"><span class=\"plain  lno \" ><span class=\"txtt\"><span class=\"g\">UTU</span> </span></span></span></div><div class='features'><span class=\"atf xft\" ><span class=\"f\">atf=</span>{d}UTU</span></div></div><div class=\"contnr c1 trm   \" ><div class=\"lbl c1 trm \" ><span class=\"nd\">word:89542</span> <span class=\"txtt\"><span class=\"plain   \" ><span class=\"txtt\"><span class=\"r\">lip</span></span><span class=\"txtt\">-</span><span class=\"txtt\"><span class=\"r\">pa</span></span><span class=\"txtt\">-</span><span class=\"txtt\"><span class=\"r\">šir</span> </span></span></span></div><div class='features'><span class=\"atf xft\" ><span class=\"f\">atf=</span>lip-pa-šir</span></div></div></div></div><div class=\"contnr c3    \" ><div class=\"lbl c3  \" ><span class=\"nd\">line:86014</span></div><div class='features'><span class=\"atf xft\" ><span class=\"f\">atf=</span>12. [x x x x x x x Š]A₃-bi# u₂-ma-me lip-pa-šir</span></div><div class=\"children hor wrap \"><div class=\"contnr c1 trm  rno \" ><div class=\"lbl c1 trm \" ><span class=\"nd\">word:89543</span> <span class=\"txtt\"><span class=\"plain  rno \" ></span></span></div><div class='features'><span class=\"atf xft\" ><span class=\"f\">atf=</span>[x</span></div></div><div class=\"contnr c2    \" ><div class=\"lbl c2  \" ><span class=\"nd\">cluster:79539</span></div><div class=\"children hor wrap \"><div class=\"contnr c1 trm  lno \" ><div class=\"lbl c1 trm \" ><span class=\"nd\">word:89543</span> <span class=\"txtt\"><span class=\"plain  lno \" ><span class=\"txtt\"><span class=\"missing\"><span class=\"uncertain\"><span class=\"cls\">x</span></span></span> </span></span></span></div><div class='features'><span class=\"atf xft\" ><span class=\"f\">atf=</span>[x</span></div></div><div class=\"contnr c1 trm   \" ><div class=\"lbl c1 trm \" ><span class=\"nd\">word:89544</span> <span class=\"txtt\"><span class=\"plain   \" ><span class=\"txtt\"><span class=\"missing\"><span class=\"uncertain\"><span class=\"cls\">x</span></span></span> </span></span></span></div><div class='features'><span class=\"atf xft\" ><span class=\"f\">atf=</span>x</span></div></div><div class=\"contnr c1 trm   \" ><div class=\"lbl c1 trm \" ><span class=\"nd\">word:89545</span> <span class=\"txtt\"><span class=\"plain   \" ><span class=\"txtt\"><span class=\"missing\"><span class=\"uncertain\"><span class=\"cls\">x</span></span></span> </span></span></span></div><div class='features'><span class=\"atf xft\" ><span class=\"f\">atf=</span>x</span></div></div><div class=\"contnr c1 trm   \" ><div class=\"lbl c1 trm \" ><span class=\"nd\">word:89546</span> <span class=\"txtt\"><span class=\"plain   \" ><span class=\"txtt\"><span class=\"missing\"><span class=\"uncertain\"><span class=\"cls\">x</span></span></span> </span></span></span></div><div class='features'><span class=\"atf xft\" ><span class=\"f\">atf=</span>x</span></div></div><div class=\"contnr c1 trm   \" ><div class=\"lbl c1 trm \" ><span class=\"nd\">word:89547</span> <span class=\"txtt\"><span class=\"plain   \" ><span class=\"txtt\"><span class=\"missing\"><span class=\"uncertain\"><span class=\"cls\">x</span></span></span> </span></span></span></div><div class='features'><span class=\"atf xft\" ><span class=\"f\">atf=</span>x</span></div></div><div class=\"contnr c1 trm   \" ><div class=\"lbl c1 trm \" ><span class=\"nd\">word:89548</span> <span class=\"txtt\"><span class=\"plain   \" ><span class=\"txtt\"><span class=\"missing\"><span class=\"uncertain\"><span class=\"cls\">x</span></span></span> </span></span></span></div><div class='features'><span class=\"atf xft\" ><span class=\"f\">atf=</span>x</span></div></div><div class=\"contnr c1 trm   \" ><div class=\"lbl c1 trm \" ><span class=\"nd\">word:89549</span> <span class=\"txtt\"><span class=\"plain   \" ><span class=\"txtt\"><span class=\"missing\"><span class=\"uncertain\"><span class=\"cls\">x</span></span></span> </span></span></span></div><div class='features'><span class=\"atf xft\" ><span class=\"f\">atf=</span>x</span></div></div><div class=\"contnr c1 trm  rno \" ><div class=\"lbl c1 trm \" ><span class=\"nd\">word:89550</span> <span class=\"txtt\"><span class=\"plain  rno \" ><span class=\"txtt\"><span class=\"missing\"></span> </span></span></span></div><div class='features'><span class=\"atf xft\" ><span class=\"f\">atf=</span>Š]A₃-bi#</span></div></div></div></div><div class=\"contnr c1 trm  lno \" ><div class=\"lbl c1 trm \" ><span class=\"nd\">word:89550</span> <span class=\"txtt\"><span class=\"plain  lno \" ><span class=\"txtt\"><span class=\"damage\"><span class=\"g\">ŠA₃</span></span></span><span class=\"txtt\">-</span><span class=\"txtt\"><span class=\"damage\"><span class=\"r\">bi</span></span> </span></span></span></div><div class='features'><span class=\"atf xft\" ><span class=\"f\">atf=</span>Š]A₃-bi#</span></div></div><div class=\"contnr c1 trm   \" ><div class=\"lbl c1 trm \" ><span class=\"nd\">word:89551</span> <span class=\"txtt\"><span class=\"plain   \" ><span class=\"txtt\"><span class=\"r\">u</span></span><span class=\"txtt\">-</span><span class=\"txtt\"><span class=\"r\">ma</span></span><span class=\"txtt\">-</span><span class=\"txtt\"><span class=\"r\">me</span> </span></span></span></div><div class='features'><span class=\"atf xft\" ><span class=\"f\">atf=</span>u₂-ma-me</span></div></div><div class=\"contnr c1 trm   \" ><div class=\"lbl c1 trm \" ><span class=\"nd\">word:89552</span> <span class=\"txtt\"><span class=\"plain   \" ><span class=\"txtt\"><span class=\"r\">lip</span></span><span class=\"txtt\">-</span><span class=\"txtt\"><span class=\"r\">pa</span></span><span class=\"txtt\">-</span><span class=\"txtt\"><span class=\"r\">šir</span> </span></span></span></div><div class='features'><span class=\"atf xft\" ><span class=\"f\">atf=</span>lip-pa-šir</span></div></div></div></div><div class=\"contnr c3    \" ><div class=\"lbl c3  \" ><span class=\"nd\">line:86015</span></div><div class='features'><span class=\"atf xft\" ><span class=\"f\">atf=</span>13. [x x x x x x x x x x x x šam-ma]-ka NAG-šu₂ lib-luṭ</span></div><div class=\"children hor wrap \"><div class=\"contnr c1 trm  rno \" ><div class=\"lbl c1 trm \" ><span class=\"nd\">word:89553</span> <span class=\"txtt\"><span class=\"plain  rno \" ></span></span></div><div class='features'><span class=\"atf xft\" ><span class=\"f\">atf=</span>[x</span></div></div><div class=\"contnr c2    \" ><div class=\"lbl c2  \" ><span class=\"nd\">cluster:79540</span></div><div class=\"children hor wrap \"><div class=\"contnr c1 trm  lno \" ><div class=\"lbl c1 trm \" ><span class=\"nd\">word:89553</span> <span class=\"txtt\"><span class=\"plain  lno \" ><span class=\"txtt\"><span class=\"missing\"><span class=\"uncertain\"><span class=\"cls\">x</span></span></span> </span></span></span></div><div class='features'><span class=\"atf xft\" ><span class=\"f\">atf=</span>[x</span></div></div><div class=\"contnr c1 trm   \" ><div class=\"lbl c1 trm \" ><span class=\"nd\">word:89554</span> <span class=\"txtt\"><span class=\"plain   \" ><span class=\"txtt\"><span class=\"missing\"><span class=\"uncertain\"><span class=\"cls\">x</span></span></span> </span></span></span></div><div class='features'><span class=\"atf xft\" ><span class=\"f\">atf=</span>x</span></div></div><div class=\"contnr c1 trm   \" ><div class=\"lbl c1 trm \" ><span class=\"nd\">word:89555</span> <span class=\"txtt\"><span class=\"plain   \" ><span class=\"txtt\"><span class=\"missing\"><span class=\"uncertain\"><span class=\"cls\">x</span></span></span> </span></span></span></div><div class='features'><span class=\"atf xft\" ><span class=\"f\">atf=</span>x</span></div></div><div class=\"contnr c1 trm   \" ><div class=\"lbl c1 trm \" ><span class=\"nd\">word:89556</span> <span class=\"txtt\"><span class=\"plain   \" ><span class=\"txtt\"><span class=\"missing\"><span class=\"uncertain\"><span class=\"cls\">x</span></span></span> </span></span></span></div><div class='features'><span class=\"atf xft\" ><span class=\"f\">atf=</span>x</span></div></div><div class=\"contnr c1 trm   \" ><div class=\"lbl c1 trm \" ><span class=\"nd\">word:89557</span> <span class=\"txtt\"><span class=\"plain   \" ><span class=\"txtt\"><span class=\"missing\"><span class=\"uncertain\"><span class=\"cls\">x</span></span></span> </span></span></span></div><div class='features'><span class=\"atf xft\" ><span class=\"f\">atf=</span>x</span></div></div><div class=\"contnr c1 trm   \" ><div class=\"lbl c1 trm \" ><span class=\"nd\">word:89558</span> <span class=\"txtt\"><span class=\"plain   \" ><span class=\"txtt\"><span class=\"missing\"><span class=\"uncertain\"><span class=\"cls\">x</span></span></span> </span></span></span></div><div class='features'><span class=\"atf xft\" ><span class=\"f\">atf=</span>x</span></div></div><div class=\"contnr c1 trm   \" ><div class=\"lbl c1 trm \" ><span class=\"nd\">word:89559</span> <span class=\"txtt\"><span class=\"plain   \" ><span class=\"txtt\"><span class=\"missing\"><span class=\"uncertain\"><span class=\"cls\">x</span></span></span> </span></span></span></div><div class='features'><span class=\"atf xft\" ><span class=\"f\">atf=</span>x</span></div></div><div class=\"contnr c1 trm   \" ><div class=\"lbl c1 trm \" ><span class=\"nd\">word:89560</span> <span class=\"txtt\"><span class=\"plain   \" ><span class=\"txtt\"><span class=\"missing\"><span class=\"uncertain\"><span class=\"cls\">x</span></span></span> </span></span></span></div><div class='features'><span class=\"atf xft\" ><span class=\"f\">atf=</span>x</span></div></div><div class=\"contnr c1 trm   \" ><div class=\"lbl c1 trm \" ><span class=\"nd\">word:89561</span> <span class=\"txtt\"><span class=\"plain   \" ><span class=\"txtt\"><span class=\"missing\"><span class=\"uncertain\"><span class=\"cls\">x</span></span></span> </span></span></span></div><div class='features'><span class=\"atf xft\" ><span class=\"f\">atf=</span>x</span></div></div><div class=\"contnr c1 trm   \" ><div class=\"lbl c1 trm \" ><span class=\"nd\">word:89562</span> <span class=\"txtt\"><span class=\"plain   \" ><span class=\"txtt\"><span class=\"missing\"><span class=\"uncertain\"><span class=\"cls\">x</span></span></span> </span></span></span></div><div class='features'><span class=\"atf xft\" ><span class=\"f\">atf=</span>x</span></div></div><div class=\"contnr c1 trm   \" ><div class=\"lbl c1 trm \" ><span class=\"nd\">word:89563</span> <span class=\"txtt\"><span class=\"plain   \" ><span class=\"txtt\"><span class=\"missing\"><span class=\"uncertain\"><span class=\"cls\">x</span></span></span> </span></span></span></div><div class='features'><span class=\"atf xft\" ><span class=\"f\">atf=</span>x</span></div></div><div class=\"contnr c1 trm   \" ><div class=\"lbl c1 trm \" ><span class=\"nd\">word:89564</span> <span class=\"txtt\"><span class=\"plain   \" ><span class=\"txtt\"><span class=\"missing\"><span class=\"uncertain\"><span class=\"cls\">x</span></span></span> </span></span></span></div><div class='features'><span class=\"atf xft\" ><span class=\"f\">atf=</span>x</span></div></div><div class=\"contnr c1 trm  rno \" ><div class=\"lbl c1 trm \" ><span class=\"nd\">word:89565</span> <span class=\"txtt\"><span class=\"plain  rno \" ><span class=\"txtt\"><span class=\"missing\"><span class=\"r\">šam</span></span></span><span class=\"txtt\"><span class=\"missing\">-</span></span><span class=\"txtt\"><span class=\"missing\"><span class=\"r\">ma</span></span></span><span class=\"txtt\"><span class=\"missing\"></span></span></span></span></div><div class='features'><span class=\"atf xft\" ><span class=\"f\">atf=</span>šam-ma]-ka</span></div></div></div></div><div class=\"contnr c1 trm  lno \" ><div class=\"lbl c1 trm \" ><span class=\"nd\">word:89565</span> <span class=\"txtt\"><span class=\"plain  lno \" ><span class=\"txtt\">-</span><span class=\"txtt\"><span class=\"r\">ka</span> </span></span></span></div><div class='features'><span class=\"atf xft\" ><span class=\"f\">atf=</span>šam-ma]-ka</span></div></div><div class=\"contnr c1 trm   \" ><div class=\"lbl c1 trm \" ><span class=\"nd\">word:89566</span> <span class=\"txtt\"><span class=\"plain   \" ><span class=\"txtt\"><span class=\"g\">NAG</span></span><span class=\"txtt\">-</span><span class=\"txtt\"><span class=\"r\">šu</span> </span></span></span></div><div class='features'><span class=\"atf xft\" ><span class=\"f\">atf=</span>NAG-šu₂</span></div></div><div class=\"contnr c1 trm   \" ><div class=\"lbl c1 trm \" ><span class=\"nd\">word:89567</span> <span class=\"txtt\"><span class=\"plain   \" ><span class=\"txtt\"><span class=\"r\">lib</span></span><span class=\"txtt\">-</span><span class=\"txtt\"><span class=\"r\">luṭ</span> </span></span></span></div><div class='features'><span class=\"atf xft\" ><span class=\"f\">atf=</span>lib-luṭ</span></div></div></div></div><div class=\"contnr c3    \" ><div class=\"lbl c3  \" ><span class=\"nd\">line:86016</span></div><div class='features'><span class=\"atf xft\" ><span class=\"f\">atf=</span>14. [...] U₂# KI KI MIN KI MIN</span></div><div class=\"children hor wrap \"><div class=\"contnr c1 trm  rno \" ><div class=\"lbl c1 trm \" ><span class=\"nd\">word:89568</span> <span class=\"txtt\"><span class=\"plain  rno \" ></span></span></div><div class='features'><span class=\"atf xft\" ><span class=\"f\">atf=</span>[...]</span></div></div><div class=\"contnr c2    \" ><div class=\"lbl c2  \" ><span class=\"nd\">cluster:79541</span></div><div class=\"children hor wrap \"><div class=\"contnr c1 trm  lno \" ><div class=\"lbl c1 trm \" ><span class=\"nd\">word:89568</span> <span class=\"txtt\"><span class=\"plain  lno \" ><span class=\"txtt\"><span class=\"missing\"><span class=\"missing\">...</span></span></span><span class=\"txtt\"><span class=\"missing\"></span> </span></span></span></div><div class='features'><span class=\"atf xft\" ><span class=\"f\">atf=</span>[...]</span></div></div></div></div><div class=\"contnr c1 trm   \" ><div class=\"lbl c1 trm \" ><span class=\"nd\">word:89569</span> <span class=\"txtt\"><span class=\"plain   \" ><span class=\"txtt\"><span class=\"damage\"><span class=\"g\">U₂</span></span> </span></span></span></div><div class='features'><span class=\"atf xft\" ><span class=\"f\">atf=</span>U₂#</span></div></div><div class=\"contnr c1 trm   \" ><div class=\"lbl c1 trm \" ><span class=\"nd\">word:89570</span> <span class=\"txtt\"><span class=\"plain   \" ><span class=\"txtt\"><span class=\"g\">KI</span> </span></span></span></div><div class='features'><span class=\"atf xft\" ><span class=\"f\">atf=</span>KI</span></div></div><div class=\"contnr c1 trm   \" ><div class=\"lbl c1 trm \" ><span class=\"nd\">word:89571</span> <span class=\"txtt\"><span class=\"plain   \" ><span class=\"txtt\"><span class=\"g\">KI</span> </span></span></span></div><div class='features'><span class=\"atf xft\" ><span class=\"f\">atf=</span>KI</span></div></div><div class=\"contnr c1 trm   \" ><div class=\"lbl c1 trm \" ><span class=\"nd\">word:89572</span> <span class=\"txtt\"><span class=\"plain   \" ><span class=\"txtt\"><span class=\"g\">MIN</span> </span></span></span></div><div class='features'><span class=\"atf xft\" ><span class=\"f\">atf=</span>MIN</span></div></div><div class=\"contnr c1 trm   \" ><div class=\"lbl c1 trm \" ><span class=\"nd\">word:89573</span> <span class=\"txtt\"><span class=\"plain   \" ><span class=\"txtt\"><span class=\"g\">KI</span> </span></span></span></div><div class='features'><span class=\"atf xft\" ><span class=\"f\">atf=</span>KI</span></div></div><div class=\"contnr c1 trm   \" ><div class=\"lbl c1 trm \" ><span class=\"nd\">word:89574</span> <span class=\"txtt\"><span class=\"plain   \" ><span class=\"txtt\"><span class=\"g\">MIN</span> </span></span></span></div><div class='features'><span class=\"atf xft\" ><span class=\"f\">atf=</span>MIN</span></div></div></div></div><div class=\"contnr c3    \" ><div class=\"lbl c3  \" ><span class=\"nd\">line:86017</span></div><div class='features'><span class=\"atf xft\" ><span class=\"f\">atf=</span>15. [...] ŠA₃#-bu i-re-du-šu</span></div><div class=\"children hor wrap \"><div class=\"contnr c1 trm  rno \" ><div class=\"lbl c1 trm \" ><span class=\"nd\">word:89575</span> <span class=\"txtt\"><span class=\"plain  rno \" ></span></span></div><div class='features'><span class=\"atf xft\" ><span class=\"f\">atf=</span>[...]</span></div></div><div class=\"contnr c2    \" ><div class=\"lbl c2  \" ><span class=\"nd\">cluster:79542</span></div><div class=\"children hor wrap \"><div class=\"contnr c1 trm  lno \" ><div class=\"lbl c1 trm \" ><span class=\"nd\">word:89575</span> <span class=\"txtt\"><span class=\"plain  lno \" ><span class=\"txtt\"><span class=\"missing\"><span class=\"missing\">...</span></span></span><span class=\"txtt\"><span class=\"missing\"></span> </span></span></span></div><div class='features'><span class=\"atf xft\" ><span class=\"f\">atf=</span>[...]</span></div></div></div></div><div class=\"contnr c1 trm   \" ><div class=\"lbl c1 trm \" ><span class=\"nd\">word:89576</span> <span class=\"txtt\"><span class=\"plain   \" ><span class=\"txtt\"><span class=\"damage\"><span class=\"g\">ŠA₃</span></span></span><span class=\"txtt\">-</span><span class=\"txtt\"><span class=\"r\">bu</span> </span></span></span></div><div class='features'><span class=\"atf xft\" ><span class=\"f\">atf=</span>ŠA₃#-bu</span></div></div><div class=\"contnr c1 trm   \" ><div class=\"lbl c1 trm \" ><span class=\"nd\">word:89577</span> <span class=\"txtt\"><span class=\"plain   \" ><span class=\"txtt\"><span class=\"r\">i</span></span><span class=\"txtt\">-</span><span class=\"txtt\"><span class=\"r\">re</span></span><span class=\"txtt\">-</span><span class=\"txtt\"><span class=\"r\">du</span></span><span class=\"txtt\">-</span><span class=\"txtt\"><span class=\"r\">šu</span> </span></span></span></div><div class='features'><span class=\"atf xft\" ><span class=\"f\">atf=</span>i-re-du-šu</span></div></div></div></div><div class=\"contnr c3    \" ><div class=\"lbl c3  \" ><span class=\"nd\">line:86018</span></div><div class='features'><span class=\"atf xft\" ><span class=\"f\">atf=</span>16. [... ap-p]i? šil-ta-hi ša₂ 7 KA.KEŠDA-MEŠ-šu₂ 7-šu₂ u 7-šu₂</span></div><div class=\"children hor wrap \"><div class=\"contnr c1 trm  rno \" ><div class=\"lbl c1 trm \" ><span class=\"nd\">word:89578</span> <span class=\"txtt\"><span class=\"plain  rno \" ></span></span></div><div class='features'><span class=\"atf xft\" ><span class=\"f\">atf=</span>[...</span></div></div><div class=\"contnr c2    \" ><div class=\"lbl c2  \" ><span class=\"nd\">cluster:79543</span></div><div class=\"children hor wrap \"><div class=\"contnr c1 trm  lno \" ><div class=\"lbl c1 trm \" ><span class=\"nd\">word:89578</span> <span class=\"txtt\"><span class=\"plain  lno \" ><span class=\"txtt\"><span class=\"missing\"><span class=\"missing\">...</span></span> </span></span></span></div><div class='features'><span class=\"atf xft\" ><span class=\"f\">atf=</span>[...</span></div></div><div class=\"contnr c1 trm  rno \" ><div class=\"lbl c1 trm \" ><span class=\"nd\">word:89579</span> <span class=\"txtt\"><span class=\"plain  rno \" ><span class=\"txtt\"><span class=\"missing\"><span class=\"r\">ap</span></span></span><span class=\"txtt\"><span class=\"missing\">-</span></span><span class=\"txtt\"><span class=\"missing\"></span> </span></span></span></div><div class='features'><span class=\"atf xft\" ><span class=\"f\">atf=</span>ap-p]i?</span></div></div></div></div><div class=\"contnr c1 trm  lno \" ><div class=\"lbl c1 trm \" ><span class=\"nd\">word:89579</span> <span class=\"txtt\"><span class=\"plain  lno \" ><span class=\"txtt\"><span class=\"question damage\"><span class=\"r\">pi</span></span> </span></span></span></div><div class='features'><span class=\"atf xft\" ><span class=\"f\">atf=</span>ap-p]i?</span></div></div><div class=\"contnr c1 trm   \" ><div class=\"lbl c1 trm \" ><span class=\"nd\">word:89580</span> <span class=\"txtt\"><span class=\"plain   \" ><span class=\"txtt\"><span class=\"r\">šil</span></span><span class=\"txtt\">-</span><span class=\"txtt\"><span class=\"r\">ta</span></span><span class=\"txtt\">-</span><span class=\"txtt\"><span class=\"r\">hi</span> </span></span></span></div><div class='features'><span class=\"atf xft\" ><span class=\"f\">atf=</span>šil-ta-hi</span></div></div><div class=\"contnr c1 trm   \" ><div class=\"lbl c1 trm \" ><span class=\"nd\">word:89581</span> <span class=\"txtt\"><span class=\"plain   \" ><span class=\"txtt\"><span class=\"r\">ša</span> </span></span></span></div><div class='features'><span class=\"atf xft\" ><span class=\"f\">atf=</span>ša₂</span></div></div><div class=\"contnr c1 trm   \" ><div class=\"lbl c1 trm \" ><span class=\"nd\">word:89582</span> <span class=\"txtt\"><span class=\"plain   \" ><span class=\"txtt\">7 </span></span></span></div><div class='features'><span class=\"atf xft\" ><span class=\"f\">atf=</span>7</span></div></div><div class=\"contnr c1 trm   \" ><div class=\"lbl c1 trm \" ><span class=\"nd\">word:89583</span> <span class=\"txtt\"><span class=\"plain   \" ><span class=\"txtt\"><span class=\"g\">KA</span></span><span class=\"txtt\">.</span><span class=\"txtt\"><span class=\"g\">KEŠDA</span></span><span class=\"txtt\">-</span><span class=\"txtt\"><span class=\"g\">MEŠ</span></span><span class=\"txtt\">-</span><span class=\"txtt\"><span class=\"r\">šu</span> </span></span></span></div><div class='features'><span class=\"atf xft\" ><span class=\"f\">atf=</span>KA.KEŠDA-MEŠ-šu₂</span></div></div><div class=\"contnr c1 trm   \" ><div class=\"lbl c1 trm \" ><span class=\"nd\">word:89584</span> <span class=\"txtt\"><span class=\"plain   \" ><span class=\"txtt\">7</span><span class=\"txtt\">-</span><span class=\"txtt\"><span class=\"r\">šu</span> </span></span></span></div><div class='features'><span class=\"atf xft\" ><span class=\"f\">atf=</span>7-šu₂</span></div></div><div class=\"contnr c1 trm   \" ><div class=\"lbl c1 trm \" ><span class=\"nd\">word:89585</span> <span class=\"txtt\"><span class=\"plain   \" ><span class=\"txtt\"><span class=\"r\">u</span> </span></span></span></div><div class='features'><span class=\"atf xft\" ><span class=\"f\">atf=</span>u</span></div></div><div class=\"contnr c1 trm   \" ><div class=\"lbl c1 trm \" ><span class=\"nd\">word:89586</span> <span class=\"txtt\"><span class=\"plain   \" ><span class=\"txtt\">7</span><span class=\"txtt\">-</span><span class=\"txtt\"><span class=\"r\">šu</span> </span></span></span></div><div class='features'><span class=\"atf xft\" ><span class=\"f\">atf=</span>7-šu₂</span></div></div></div></div><div class=\"contnr c3    \" ><div class=\"lbl c3  \" ><span class=\"nd\">line:86019</span></div><div class='features'><span class=\"atf xft\" ><span class=\"f\">atf=</span>17. [... SAHA]R? TA# {urudu#}na#-ah#-bi?# [ana? {urud]u}na#-ah#-bi?#</span></div><div class=\"children hor wrap \"><div class=\"contnr c1 trm  rno \" ><div class=\"lbl c1 trm \" ><span class=\"nd\">word:89587</span> <span class=\"txtt\"><span class=\"plain  rno \" ></span></span></div><div class='features'><span class=\"atf xft\" ><span class=\"f\">atf=</span>[...</span></div></div><div class=\"contnr c2    \" ><div class=\"lbl c2  \" ><span class=\"nd\">cluster:79544</span></div><div class=\"children hor wrap \"><div class=\"contnr c1 trm  lno \" ><div class=\"lbl c1 trm \" ><span class=\"nd\">word:89587</span> <span class=\"txtt\"><span class=\"plain  lno \" ><span class=\"txtt\"><span class=\"missing\"><span class=\"missing\">...</span></span> </span></span></span></div><div class='features'><span class=\"atf xft\" ><span class=\"f\">atf=</span>[...</span></div></div><div class=\"contnr c1 trm  rno \" ><div class=\"lbl c1 trm \" ><span class=\"nd\">word:89588</span> <span class=\"txtt\"><span class=\"plain  rno \" ><span class=\"txtt\"><span class=\"missing\"></span> </span></span></span></div><div class='features'><span class=\"atf xft\" ><span class=\"f\">atf=</span>SAHA]R?</span></div></div></div></div><div class=\"contnr c1 trm  lno \" ><div class=\"lbl c1 trm \" ><span class=\"nd\">word:89588</span> <span class=\"txtt\"><span class=\"plain  lno \" ><span class=\"txtt\"><span class=\"question damage\"><span class=\"g\">SAHAR</span></span> </span></span></span></div><div class='features'><span class=\"atf xft\" ><span class=\"f\">atf=</span>SAHA]R?</span></div></div><div class=\"contnr c1 trm   \" ><div class=\"lbl c1 trm \" ><span class=\"nd\">word:89589</span> <span class=\"txtt\"><span class=\"plain   \" ><span class=\"txtt\"><span class=\"damage\">TA</span> </span></span></span></div><div class='features'><span class=\"atf xft\" ><span class=\"f\">atf=</span>TA#</span></div></div><div class=\"contnr c2    \" ><div class=\"lbl c2  \" ><span class=\"nd\">cluster:79545</span></div><div class=\"children hor wrap \"><div class=\"contnr c1 trm  rno \" ><div class=\"lbl c1 trm \" ><span class=\"nd\">word:89590</span> <span class=\"txtt\"><span class=\"plain  rno \" ><span class=\"txtt\"><span class=\"det\"><span class=\"damage\">urudu</span></span></span></span></span></div><div class='features'><span class=\"atf xft\" ><span class=\"f\">atf=</span>{urudu#}na#-ah#-bi?#</span></div></div></div></div><div class=\"contnr c1 trm  lno \" ><div class=\"lbl c1 trm \" ><span class=\"nd\">word:89590</span> <span class=\"txtt\"><span class=\"plain  lno \" ><span class=\"txtt\"><span class=\"damage\"><span class=\"r\">na</span></span></span><span class=\"txtt\">-</span><span class=\"txtt\"><span class=\"damage\"><span class=\"r\">ah</span></span></span><span class=\"txtt\">-</span><span class=\"txtt\"><span class=\"question damage\"><span class=\"r\">bi</span></span> </span></span></span></div><div class='features'><span class=\"atf xft\" ><span class=\"f\">atf=</span>{urudu#}na#-ah#-bi?#</span></div></div><div class=\"contnr c1 trm  rno \" ><div class=\"lbl c1 trm \" ><span class=\"nd\">word:89591</span> <span class=\"txtt\"><span class=\"plain  rno \" ></span></span></div><div class='features'><span class=\"atf xft\" ><span class=\"f\">atf=</span>[ana?</span></div></div><div class=\"contnr c2    \" ><div class=\"lbl c2  \" ><span class=\"nd\">cluster:79546</span></div><div class=\"children hor wrap \"><div class=\"contnr c1 trm  lno \" ><div class=\"lbl c1 trm \" ><span class=\"nd\">word:89591</span> <span class=\"txtt\"><span class=\"plain  lno \" ><span class=\"txtt\"><span class=\"question missing\">ana</span> </span></span></span></div><div class='features'><span class=\"atf xft\" ><span class=\"f\">atf=</span>[ana?</span></div></div><div class=\"contnr c2   rno \" ><div class=\"lbl c2  \" ><span class=\"nd\">cluster:79547</span></div><div class=\"children hor wrap \"><div class=\"contnr c1 trm  rno \" ><div class=\"lbl c1 trm \" ><span class=\"nd\">word:89592</span> <span class=\"txtt\"><span class=\"plain  rno \" ><span class=\"txtt\"><span class=\"det\"><span class=\"missing\"></span></span> </span></span></span></div><div class='features'><span class=\"atf xft\" ><span class=\"f\">atf=</span>{urud]u}na#-ah#-bi?#</span></div></div></div></div></div></div><div class=\"contnr c2   lno \" ><div class=\"lbl c2  \" ><span class=\"nd\">cluster:79547</span></div><div class=\"children hor wrap \"><div class=\"contnr c1 trm  lno rno \" ><div class=\"lbl c1 trm \" ><span class=\"nd\">word:89592</span> <span class=\"txtt\"><span class=\"plain  lno rno \" ><span class=\"txtt\"><span class=\"det\"><span class=\"damage\">urudu</span></span></span></span></span></div><div class='features'><span class=\"atf xft\" ><span class=\"f\">atf=</span>{urud]u}na#-ah#-bi?#</span></div></div></div></div><div class=\"contnr c1 trm  lno \" ><div class=\"lbl c1 trm \" ><span class=\"nd\">word:89592</span> <span class=\"txtt\"><span class=\"plain  lno \" ><span class=\"txtt\"><span class=\"damage\"><span class=\"r\">na</span></span></span><span class=\"txtt\">-</span><span class=\"txtt\"><span class=\"damage\"><span class=\"r\">ah</span></span></span><span class=\"txtt\">-</span><span class=\"txtt\"><span class=\"question damage\"><span class=\"r\">bi</span></span> </span></span></span></div><div class='features'><span class=\"atf xft\" ><span class=\"f\">atf=</span>{urud]u}na#-ah#-bi?#</span></div></div></div></div></div></div></div>"
      ],
      "text/plain": [
       "<IPython.core.display.HTML object>"
      ]
     },
     "metadata": {},
     "output_type": "display_data"
    }
   ],
   "source": [
    "A.pretty(f, extraFeatures=\"atf\", fmt=\"layout-orig-plain\", withNodes=True, full=True)"
   ]
  },
  {
   "cell_type": "markdown",
   "metadata": {},
   "source": [
    "# Layout formats: the details\n",
    "\n",
    "We give detailed examples of how the material is styled in the `layout-` formats.\n",
    "\n",
    "We show the representation of all kinds of signs and also what the influence of\n",
    "clustering and flags are.\n",
    "\n",
    "Here are the design principles:\n",
    "\n",
    "* all flags `# ? ! *` cause the preceding sign to be in bold\n",
    "* damage `#` and missing `[ ]` text is blurry and in grey\n",
    "* questioned `?` and uncertain `( )` text is in italics\n",
    "* remarkable `!` and supplied `< >` text is overlined, supplied text is in blue\n",
    "* excised `<< >>` text has a strike-through and is in red\n",
    "* collated `*` text is underlined\n",
    "\n",
    "Just a quick overview of the sign types:"
   ]
  },
  {
   "cell_type": "code",
   "execution_count": 89,
   "metadata": {},
   "outputs": [
    {
     "data": {
      "text/plain": [
       "(('grapheme', 20433),\n",
       " ('reading', 20357),\n",
       " ('joiner', 18957),\n",
       " ('mark', 12454),\n",
       " ('unknown', 4720),\n",
       " ('ellipsis', 1236),\n",
       " ('numeral', 958),\n",
       " ('lang', 186),\n",
       " ('wdiv', 92),\n",
       " ('empty', 69),\n",
       " ('erasure', 26))"
      ]
     },
     "execution_count": 89,
     "metadata": {},
     "output_type": "execute_result"
    }
   ],
   "source": [
    "F.type.freqList(\"sign\")"
   ]
  },
  {
   "cell_type": "markdown",
   "metadata": {},
   "source": [
    "# Styled display of ATF text"
   ]
  },
  {
   "cell_type": "code",
   "execution_count": 93,
   "metadata": {},
   "outputs": [],
   "source": [
    "lines = (\n",
    "    ((\"P365742\", \"reverse\", \"1:15\"), (\"cluster: determinative\", [9, 10])),\n",
    "    ((\"P509375\", \"obverse\", \"3\"), (\"cluster: missing\", [1, 2, 3, 6])),\n",
    "    ((\"P510736\", \"reverse\", \"5\"), (\"cluster: uncertain\", [6, 7, 8])),\n",
    "    ((\"P510526\", \"obverse\", \"8\"), (\"cluster: supplied\", [7, 8, 9])),\n",
    "    ((\"P373056\", \"obverse\", \"11\"), (\"cluster: excised\", [9, 10])),\n",
    "    ((\"P510536\", \"obverse\", \"8\"), (\"flag: damage\", [1, 2, 3, 6, 9, 10])),\n",
    "    ((\"P297171\", \"reverse\", \"1\"), (\"flag: question\", [3, 4, 5])),\n",
    "    ((\"P510536\", \"obverse\", \"15\"), (\"flag: remarkable\", [6])),\n",
    "    ((\"P387299\", \"obverse\", \"5\"), (\"flag: collated\", [1])),\n",
    "    ((\"P510534\", \"reverse\", \"20'\"), (\"flag: damage + question\", [3])),\n",
    "    ((\"P497780\", \"reverse\", \"4\"), (\"flag: damage + remarkable\", [1])),\n",
    "    ((\"P305744\", \"obverse\", \"10\"), (\"flag: damage + collated\", [5])),\n",
    "    ((\"P305799\", \"left side\", \"1\"), (\"flag: collated + remarkable\", [3, 5])),\n",
    "    ((\"P305806\", \"reverse\", \"1\"), (\"flag: remarkable + question + collated\", [3])),\n",
    "    ((\"P305744\", \"obverse\", \"10\"), (\"flag collated in cluster missing\", [6, 7])),\n",
    "    ((\"P275088\", \"reverse\", \"2\"), (\"sign: comment\", [1])),\n",
    "    ((\"P510636\", \"obverse\", \"3\"), (\"sign: grapheme\", [9])),\n",
    "    ((\"P386451\", \"reverse\", \"11\"), (\"sign: correction\", [6])),\n",
    "    ((\"P312032\", \"left edge\", \"1\"), (\"sign: numeral\", [4, 6])),\n",
    "    ((\"P492284\", \"obverse\", \"5\"), (\"sign: ligature\", [2, 3])),\n",
    "    ((\"P509373\", \"reverse\", \"18'\"), (\"sign: unknown and ellipsis\", [7, 8])),\n",
    ")"
   ]
  },
  {
   "cell_type": "code",
   "execution_count": 102,
   "metadata": {},
   "outputs": [
    {
     "data": {
      "text/markdown": [
       "---\n",
       "# cluster: determinative\n",
       "\n",
       "Location: P365742 reverse:1:15"
      ],
      "text/plain": [
       "<IPython.core.display.Markdown object>"
      ]
     },
     "metadata": {},
     "output_type": "display_data"
    },
    {
     "name": "stdout",
     "output_type": "stream",
     "text": [
      "1:15 [ana KI ] MIN# šimGUR₂.GUR₂ šimLI šim.dNIN.URTA NUMUN u₂AB₂.DUH KA A.AB.BA šimŠEŠ DIŠ-niš SUD₂ ina KAŠ SILA₁₁-aš SAR-ab KI MIN \n"
     ]
    },
    {
     "data": {
      "text/html": [
       "<div class=\"\"><span class=\"tfsechead \"><span class=\"ltr\"><a target=\"_blank\" href=\"https://cdli.ucla.edu/search/search_results.php?SearchMode=Text&amp;ObjectID=P365742\" title=\"Show this document on CDLI\" sec=\"P365742 reverse:1:15\">P365742 reverse:1:15</a></span></span>  <span class=\"txtt\">[</span><span class=\"txtt\"><span class=\"missing\"><span class=\"r\">ana</span></span> </span><span class=\"txtt\"><span class=\"missing\"><span class=\"g\">KI</span></span> </span><span class=\"txtt\"><span class=\"missing\">]</span> </span><span class=\"txtt\"><span class=\"damage\">MIN#</span> </span><span class=\"txtt\"><span class=\"det\">šim</span></span><span class=\"txtt\"><span class=\"g\">GUR₂</span></span><span class=\"txtt\">.</span><span class=\"plain   hl\" ><span class=\"txtt\">GUR₂ </span></span><span class=\"plain   hl\" ><span class=\"txtt\"><span class=\"det\">šim</span></span></span><span class=\"txtt\">LI </span><span class=\"txtt\"><span class=\"det\"><span class=\"r\">šim</span></span></span><span class=\"txtt\"><span class=\"det\">.</span></span><span class=\"txtt\"><span class=\"det\">d</span></span><span class=\"txtt\"><span class=\"g\">NIN</span></span><span class=\"txtt\">.</span><span class=\"txtt\"><span class=\"g\">URTA</span> </span><span class=\"txtt\">NUMUN </span><span class=\"txtt\"><span class=\"det\">u₂</span></span><span class=\"txtt\"><span class=\"g\">AB₂</span></span><span class=\"txtt\">.</span><span class=\"txtt\"><span class=\"g\">DUH</span> </span><span class=\"txtt\"><span class=\"g\">KA</span> </span><span class=\"txtt\"><span class=\"g\">A</span></span><span class=\"txtt\">.</span><span class=\"txtt\"><span class=\"g\">AB</span></span><span class=\"txtt\">.</span><span class=\"txtt\">BA </span><span class=\"txtt\"><span class=\"det\">šim</span></span><span class=\"txtt\"><span class=\"g\">ŠEŠ</span> </span><span class=\"txtt\"><span class=\"g\">DIŠ</span></span><span class=\"txtt\">-</span><span class=\"txtt\"><span class=\"r\">niš</span> </span><span class=\"txtt\"><span class=\"g\">SUD₂</span> </span><span class=\"txtt\"><span class=\"r\">ina</span> </span><span class=\"txtt\"><span class=\"g\">KAŠ</span> </span><span class=\"txtt\"><span class=\"g\">SILA₁₁</span></span><span class=\"txtt\">-</span><span class=\"txtt\"><span class=\"r\">aš</span> </span><span class=\"txtt\"><span class=\"g\">SAR</span></span><span class=\"txtt\">-</span><span class=\"txtt\"><span class=\"r\">ab</span> </span><span class=\"txtt\"><span class=\"g\">KI</span> </span><span class=\"txtt\"><span class=\"g\">MIN</span> </span></div>"
      ],
      "text/plain": [
       "<IPython.core.display.HTML object>"
      ]
     },
     "metadata": {},
     "output_type": "display_data"
    },
    {
     "data": {
      "text/html": [
       "<div class=\"tfsechead \"><span class=\"ltr\"><a target=\"_blank\" href=\"https://cdli.ucla.edu/search/search_results.php?SearchMode=Text&amp;ObjectID=P365742\" title=\"Show this document on CDLI\" sec=\"P365742 reverse:1:15\">P365742 reverse:1:15</a></span></div><div class=\" children\"><div class=\"contnr c3    \" ><div class=\"lbl c3  \" ><span class=\"nd\">line</span></div><div class='features'><span class=\"tr@en xft\" ><span class=\"f\">tr@en=</span>Alternatively, you pound together kukru-aromatic, burāšu-juniper, nikiptu-spurge, kammantu-plant seed, sea algae (and) bitter-plant. You knead it in beer, you shave (his head and) DITTO (= you put it on as a bandage; then you should not remove it for three days).</span></div><div class=\"children hor wrap \"><div class=\"contnr c1   rno \" ><div class=\"lbl c1  \" ><span class=\"nd\">word</span> <span class=\"txtt\">[ana </span></div><div class=\"children hor  \"><div class=\"contnr c0 trm   \" ><div class=\"lbl c0 trm \" ><span class=\"txtt\">[</span></div></div></div></div><div class=\"contnr c2    \" ><div class=\"lbl c2  \" ><span class=\"nd\">cluster</span></div><div class=\"children hor wrap \"><div class=\"contnr c1   lno \" ><div class=\"lbl c1  \" ><span class=\"nd\">word</span> <span class=\"txtt\">[ana </span></div><div class=\"children hor  \"><div class=\"contnr c0 trm   \" ><div class=\"lbl c0 trm \" ><span class=\"txtt\">ana </span></div></div></div></div><div class=\"contnr c1    \" ><div class=\"lbl c1  \" ><span class=\"nd\">word</span> <span class=\"txtt\">KI </span></div><div class=\"children hor  \"><div class=\"contnr c0 trm   \" ><div class=\"lbl c0 trm \" ><span class=\"txtt\">KI </span></div></div></div></div><div class=\"contnr c1   rno \" ><div class=\"lbl c1  \" ><span class=\"nd\">word</span> <span class=\"txtt\">] MIN# </span></div><div class=\"children hor  \"><div class=\"contnr c0 trm   \" ><div class=\"lbl c0 trm \" ><span class=\"txtt\">] </span></div></div></div></div></div></div><div class=\"contnr c1   lno \" ><div class=\"lbl c1  \" ><span class=\"nd\">word</span> <span class=\"txtt\">] MIN# </span></div><div class=\"children hor  \"><div class=\"contnr c0 trm   \" ><div class=\"lbl c0 trm \" ><span class=\"txtt\">MIN# </span></div></div></div></div><div class=\"contnr c2    \" ><div class=\"lbl c2  \" ><span class=\"nd\">cluster</span></div><div class=\"children hor wrap \"><div class=\"contnr c1   rno \" ><div class=\"lbl c1  \" ><span class=\"nd\">word</span> <span class=\"txtt\">šimGUR₂.GUR₂ </span></div><div class=\"children hor  \"><div class=\"contnr c0 trm   \" ><div class=\"lbl c0 trm \" ><span class=\"txtt\">šim</span></div></div></div></div></div></div><div class=\"contnr c1   lno \" ><div class=\"lbl c1  \" ><span class=\"nd\">word</span> <span class=\"txtt\">šimGUR₂.GUR₂ </span></div><div class=\"children hor  \"><div class=\"contnr c0 trm   \" ><div class=\"lbl c0 trm \" ><span class=\"txtt\">GUR₂</span></div></div><div class=\"contnr c0 trm   \" ><div class=\"lbl c0 trm \" ><span class=\"txtt\">.</span></div></div><div class=\"contnr c0 trm   hl\" ><div class=\"lbl c0 trm hl\" ><span class=\"txtt\">GUR₂ </span></div></div></div></div><div class=\"contnr c2    \" ><div class=\"lbl c2  \" ><span class=\"nd\">cluster</span></div><div class=\"children hor wrap \"><div class=\"contnr c1   rno \" ><div class=\"lbl c1  \" ><span class=\"nd\">word</span> <span class=\"txtt\">šimLI </span></div><div class=\"children hor  \"><div class=\"contnr c0 trm   hl\" ><div class=\"lbl c0 trm hl\" ><span class=\"txtt\">šim</span></div></div></div></div></div></div><div class=\"contnr c1   lno \" ><div class=\"lbl c1  \" ><span class=\"nd\">word</span> <span class=\"txtt\">šimLI </span></div><div class=\"children hor  \"><div class=\"contnr c0 trm   \" ><div class=\"lbl c0 trm \" ><span class=\"txtt\">LI </span></div></div></div></div><div class=\"contnr c2    \" ><div class=\"lbl c2  \" ><span class=\"nd\">cluster</span></div><div class=\"children hor wrap \"><div class=\"contnr c1   rno \" ><div class=\"lbl c1  \" ><span class=\"nd\">word</span> <span class=\"txtt\">šim.dNIN.URTA </span></div><div class=\"children hor  \"><div class=\"contnr c0 trm   \" ><div class=\"lbl c0 trm \" ><span class=\"txtt\">šim</span></div></div><div class=\"contnr c0 trm   \" ><div class=\"lbl c0 trm \" ><span class=\"txtt\">.</span></div></div><div class=\"contnr c0 trm   \" ><div class=\"lbl c0 trm \" ><span class=\"txtt\">d</span></div></div></div></div></div></div><div class=\"contnr c1   lno \" ><div class=\"lbl c1  \" ><span class=\"nd\">word</span> <span class=\"txtt\">šim.dNIN.URTA </span></div><div class=\"children hor  \"><div class=\"contnr c0 trm   \" ><div class=\"lbl c0 trm \" ><span class=\"txtt\">NIN</span></div></div><div class=\"contnr c0 trm   \" ><div class=\"lbl c0 trm \" ><span class=\"txtt\">.</span></div></div><div class=\"contnr c0 trm   \" ><div class=\"lbl c0 trm \" ><span class=\"txtt\">URTA </span></div></div></div></div><div class=\"contnr c1    \" ><div class=\"lbl c1  \" ><span class=\"nd\">word</span> <span class=\"txtt\">NUMUN </span></div><div class=\"children hor  \"><div class=\"contnr c0 trm   \" ><div class=\"lbl c0 trm \" ><span class=\"txtt\">NUMUN </span></div></div></div></div><div class=\"contnr c2    \" ><div class=\"lbl c2  \" ><span class=\"nd\">cluster</span></div><div class=\"children hor wrap \"><div class=\"contnr c1   rno \" ><div class=\"lbl c1  \" ><span class=\"nd\">word</span> <span class=\"txtt\">u₂AB₂.DUH </span></div><div class=\"children hor  \"><div class=\"contnr c0 trm   \" ><div class=\"lbl c0 trm \" ><span class=\"txtt\">u₂</span></div></div></div></div></div></div><div class=\"contnr c1   lno \" ><div class=\"lbl c1  \" ><span class=\"nd\">word</span> <span class=\"txtt\">u₂AB₂.DUH </span></div><div class=\"children hor  \"><div class=\"contnr c0 trm   \" ><div class=\"lbl c0 trm \" ><span class=\"txtt\">AB₂</span></div></div><div class=\"contnr c0 trm   \" ><div class=\"lbl c0 trm \" ><span class=\"txtt\">.</span></div></div><div class=\"contnr c0 trm   \" ><div class=\"lbl c0 trm \" ><span class=\"txtt\">DUH </span></div></div></div></div><div class=\"contnr c1    \" ><div class=\"lbl c1  \" ><span class=\"nd\">word</span> <span class=\"txtt\">KA </span></div><div class=\"children hor  \"><div class=\"contnr c0 trm   \" ><div class=\"lbl c0 trm \" ><span class=\"txtt\">KA </span></div></div></div></div><div class=\"contnr c1    \" ><div class=\"lbl c1  \" ><span class=\"nd\">word</span> <span class=\"txtt\">A.AB.BA </span></div><div class=\"children hor  \"><div class=\"contnr c0 trm   \" ><div class=\"lbl c0 trm \" ><span class=\"txtt\">A</span></div></div><div class=\"contnr c0 trm   \" ><div class=\"lbl c0 trm \" ><span class=\"txtt\">.</span></div></div><div class=\"contnr c0 trm   \" ><div class=\"lbl c0 trm \" ><span class=\"txtt\">AB</span></div></div><div class=\"contnr c0 trm   \" ><div class=\"lbl c0 trm \" ><span class=\"txtt\">.</span></div></div><div class=\"contnr c0 trm   \" ><div class=\"lbl c0 trm \" ><span class=\"txtt\">BA </span></div></div></div></div><div class=\"contnr c2    \" ><div class=\"lbl c2  \" ><span class=\"nd\">cluster</span></div><div class=\"children hor wrap \"><div class=\"contnr c1   rno \" ><div class=\"lbl c1  \" ><span class=\"nd\">word</span> <span class=\"txtt\">šimŠEŠ </span></div><div class=\"children hor  \"><div class=\"contnr c0 trm   \" ><div class=\"lbl c0 trm \" ><span class=\"txtt\">šim</span></div></div></div></div></div></div><div class=\"contnr c1   lno \" ><div class=\"lbl c1  \" ><span class=\"nd\">word</span> <span class=\"txtt\">šimŠEŠ </span></div><div class=\"children hor  \"><div class=\"contnr c0 trm   \" ><div class=\"lbl c0 trm \" ><span class=\"txtt\">ŠEŠ </span></div></div></div></div><div class=\"contnr c1    \" ><div class=\"lbl c1  \" ><span class=\"nd\">word</span> <span class=\"txtt\">DIŠ-niš </span></div><div class=\"children hor  \"><div class=\"contnr c0 trm   \" ><div class=\"lbl c0 trm \" ><span class=\"txtt\">DIŠ</span></div></div><div class=\"contnr c0 trm   \" ><div class=\"lbl c0 trm \" ><span class=\"txtt\">-</span></div></div><div class=\"contnr c0 trm   \" ><div class=\"lbl c0 trm \" ><span class=\"txtt\">niš </span></div></div></div></div><div class=\"contnr c1    \" ><div class=\"lbl c1  \" ><span class=\"nd\">word</span> <span class=\"txtt\">SUD₂ </span></div><div class=\"children hor  \"><div class=\"contnr c0 trm   \" ><div class=\"lbl c0 trm \" ><span class=\"txtt\">SUD₂ </span></div></div></div></div><div class=\"contnr c1    \" ><div class=\"lbl c1  \" ><span class=\"nd\">word</span> <span class=\"txtt\">ina </span></div><div class=\"children hor  \"><div class=\"contnr c0 trm   \" ><div class=\"lbl c0 trm \" ><span class=\"txtt\">ina </span></div></div></div></div><div class=\"contnr c1    \" ><div class=\"lbl c1  \" ><span class=\"nd\">word</span> <span class=\"txtt\">KAŠ </span></div><div class=\"children hor  \"><div class=\"contnr c0 trm   \" ><div class=\"lbl c0 trm \" ><span class=\"txtt\">KAŠ </span></div></div></div></div><div class=\"contnr c1    \" ><div class=\"lbl c1  \" ><span class=\"nd\">word</span> <span class=\"txtt\">SILA₁₁-aš </span></div><div class=\"children hor  \"><div class=\"contnr c0 trm   \" ><div class=\"lbl c0 trm \" ><span class=\"txtt\">SILA₁₁</span></div></div><div class=\"contnr c0 trm   \" ><div class=\"lbl c0 trm \" ><span class=\"txtt\">-</span></div></div><div class=\"contnr c0 trm   \" ><div class=\"lbl c0 trm \" ><span class=\"txtt\">aš </span></div></div></div></div><div class=\"contnr c1    \" ><div class=\"lbl c1  \" ><span class=\"nd\">word</span> <span class=\"txtt\">SAR-ab </span></div><div class=\"children hor  \"><div class=\"contnr c0 trm   \" ><div class=\"lbl c0 trm \" ><span class=\"txtt\">SAR</span></div></div><div class=\"contnr c0 trm   \" ><div class=\"lbl c0 trm \" ><span class=\"txtt\">-</span></div></div><div class=\"contnr c0 trm   \" ><div class=\"lbl c0 trm \" ><span class=\"txtt\">ab </span></div></div></div></div><div class=\"contnr c1    \" ><div class=\"lbl c1  \" ><span class=\"nd\">word</span> <span class=\"txtt\">KI </span></div><div class=\"children hor  \"><div class=\"contnr c0 trm   \" ><div class=\"lbl c0 trm \" ><span class=\"txtt\">KI </span></div></div></div></div><div class=\"contnr c1    \" ><div class=\"lbl c1  \" ><span class=\"nd\">word</span> <span class=\"txtt\">MIN </span></div><div class=\"children hor  \"><div class=\"contnr c0 trm   \" ><div class=\"lbl c0 trm \" ><span class=\"txtt\">MIN </span></div></div></div></div></div></div></div>"
      ],
      "text/plain": [
       "<IPython.core.display.HTML object>"
      ]
     },
     "metadata": {},
     "output_type": "display_data"
    }
   ],
   "source": [
    "for (line, (desc, positions)) in lines:\n",
    "    ln = T.nodeFromSection(line)\n",
    "    A.dm(\"---\\n# {}\\n\\nLocation: {} {}:{}\".format(desc, *line))\n",
    "    s = L.d(ln, otype=\"sign\")[0]\n",
    "    highlights = {s + p - 1 for p in positions}\n",
    "    print(F.lnno.v(ln), T.text(ln))\n",
    "    A.plain(ln, fmt=\"layout-orig-full\", highlights=highlights)\n",
    "    A.pretty(\n",
    "        ln,\n",
    "        extraFeatures=\"tr@en\",\n",
    "        fmt=\"text-orig-full\",\n",
    "        baseTypes=\"sign\",\n",
    "        highlights=highlights,\n",
    "    )\n",
    "    break"
   ]
  },
  {
   "cell_type": "markdown",
   "metadata": {},
   "source": [
    "---\n",
    "\n",
    "All chapters:\n",
    "\n",
    "* **[start](start.ipynb)** introduction to computing with your corpus\n",
    "* **display** become an expert in creating pretty displays of your text structures\n",
    "* **[search](search.ipynb)** turbo charge your hand-coding with search templates\n",
    "* **[exportExcel](exportExcel.ipynb)** make tailor-made spreadsheets out of your results\n",
    "* **[share](share.ipynb)** draw in other people's data and let them use yours\n",
    "* **[similarLines](similarLines.ipynb)** spot the similarities between lines\n",
    "\n",
    "---\n",
    "\n",
    "See the [cookbook](cookbook) for recipes for small, concrete tasks.\n",
    "\n",
    "CC-BY Dirk Roorda"
   ]
  }
 ],
 "metadata": {
  "jupytext": {
   "encoding": "# -*- coding: utf-8 -*-"
  },
  "kernelspec": {
   "display_name": "Python 3 (ipykernel)",
   "language": "python",
   "name": "python3"
  },
  "language_info": {
   "codemirror_mode": {
    "name": "ipython",
    "version": 3
   },
   "file_extension": ".py",
   "mimetype": "text/x-python",
   "name": "python",
   "nbconvert_exporter": "python",
   "pygments_lexer": "ipython3",
   "version": "3.10.2"
  },
  "toc": {
   "base_numbering": 1,
   "nav_menu": {},
   "number_sections": true,
   "sideBar": true,
   "skip_h1_title": false,
   "title_cell": "Table of Contents",
   "title_sidebar": "Contents",
   "toc_cell": false,
   "toc_position": {},
   "toc_section_display": "block",
   "toc_window_display": false
  },
  "widgets": {
   "application/vnd.jupyter.widget-state+json": {
    "state": {},
    "version_major": 2,
    "version_minor": 0
   }
  }
 },
 "nbformat": 4,
 "nbformat_minor": 4
}
