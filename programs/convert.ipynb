{
 "cells": [
  {
   "cell_type": "markdown",
   "id": "4885921e-1818-4c2f-a4cf-ef5dd1f7f484",
   "metadata": {},
   "source": [
    "# Analyse the contents of the JSON sources\n",
    "\n",
    "* `extractAllLines()` prints out the bare ATF to a single file.\n",
    "  Handy to have open in Vim to look for edge cases and wierd patterns.\n",
    "* `analyseAll(key, toFile=False, full=False)` makes an inventory of all values that `key` can have\n",
    "  anywhere in the JSON.\n",
    "  If `toFile`, the result is written to file, otherwise it is displayed here.\n",
    "  If `full`, all JSON is examined, otherwise a predefined list of keys is excluded from the search.\n",
    "* `getFaces(toFile=False)`: inventory of all surface specifiers\n",
    "* `getColumns(toFile=False)`: inventory of all column specifiers\n",
    "* `getCOntentTypes(toFile=False)`: inventory of all type specifiers within text content\n",
    "* `getVariants(toFile=False)`: inventory of all variant content elements"
   ]
  },
  {
   "cell_type": "code",
   "execution_count": 1,
   "id": "0eb18ee7-09a3-45aa-bc0a-b1dd7f55479c",
   "metadata": {},
   "outputs": [],
   "source": [
    "%load_ext autoreload\n",
    "%autoreload 2"
   ]
  },
  {
   "cell_type": "code",
   "execution_count": 2,
   "id": "20d8b4b4-d76e-449f-8ac1-c338ad995099",
   "metadata": {},
   "outputs": [],
   "source": [
    "from tokenFromJson import (\n",
    "    extractAllLines,\n",
    "    analyseAll,\n",
    "    getFaces, getColumns, getContentTypes, getVariants,\n",
    ")"
   ]
  },
  {
   "cell_type": "code",
   "execution_count": 3,
   "id": "3287875c-738e-4eaa-b2ba-674a767a3883",
   "metadata": {},
   "outputs": [],
   "source": [
    "extractAllLines()"
   ]
  },
  {
   "cell_type": "code",
   "execution_count": 20,
   "id": "72748414-f18f-426d-a961-50cffadad4f3",
   "metadata": {},
   "outputs": [],
   "source": [
    "analyseAll(\"flags\", toFile=True)"
   ]
  },
  {
   "cell_type": "code",
   "execution_count": 21,
   "id": "0cdef238-2c80-4722-af70-33130ce6559f",
   "metadata": {},
   "outputs": [],
   "source": [
    "analyseAll(\"modifiers\", toFile=True)"
   ]
  },
  {
   "cell_type": "code",
   "execution_count": 30,
   "id": "e7e5ecfd-561f-4c60-be71-d2330b13f1e0",
   "metadata": {},
   "outputs": [],
   "source": [
    "analyseAll(\"type\", toFile=True)"
   ]
  },
  {
   "cell_type": "code",
   "execution_count": 31,
   "id": "cec05521-f614-4ec2-997b-084be735bd7e",
   "metadata": {},
   "outputs": [],
   "source": [
    "analyseAll(\"type\", instead=(\"LanguageShift\", \"value\"), toFile=True)"
   ]
  },
  {
   "cell_type": "code",
   "execution_count": 34,
   "id": "0be6afad-49e3-4d5e-b8e7-47c93b129418",
   "metadata": {},
   "outputs": [
    {
     "ename": "KeyError",
     "evalue": "'value'",
     "output_type": "error",
     "traceback": [
      "\u001b[0;31m---------------------------------------------------------------------------\u001b[0m",
      "\u001b[0;31mKeyError\u001b[0m                                  Traceback (most recent call last)",
      "Input \u001b[0;32mIn [34]\u001b[0m, in \u001b[0;36m<module>\u001b[0;34m\u001b[0m\n\u001b[0;32m----> 1\u001b[0m \u001b[43manalyseAll\u001b[49m\u001b[43m(\u001b[49m\u001b[38;5;124;43m\"\u001b[39;49m\u001b[38;5;124;43mtype\u001b[39;49m\u001b[38;5;124;43m\"\u001b[39;49m\u001b[43m,\u001b[49m\u001b[43m \u001b[49m\u001b[43minstead\u001b[49m\u001b[38;5;241;43m=\u001b[39;49m\u001b[43m(\u001b[49m\u001b[38;5;124;43m\"\u001b[39;49m\u001b[38;5;124;43mControlLine\u001b[39;49m\u001b[38;5;124;43m\"\u001b[39;49m\u001b[43m,\u001b[49m\u001b[43m \u001b[49m\u001b[38;5;124;43m\"\u001b[39;49m\u001b[38;5;124;43mvalue\u001b[39;49m\u001b[38;5;124;43m\"\u001b[39;49m\u001b[43m)\u001b[49m\u001b[43m,\u001b[49m\u001b[43m \u001b[49m\u001b[43mtoFile\u001b[49m\u001b[38;5;241;43m=\u001b[39;49m\u001b[38;5;28;43;01mFalse\u001b[39;49;00m\u001b[43m)\u001b[49m\n",
      "File \u001b[0;32m~/github/Nino-cunei/ninmed/programs/tokenFromJson.py:183\u001b[0m, in \u001b[0;36manalyseAll\u001b[0;34m(theKey, instead, toFile, full)\u001b[0m\n\u001b[1;32m    181\u001b[0m \u001b[38;5;28;01mfor\u001b[39;00m path \u001b[38;5;129;01min\u001b[39;00m getJsonFiles():\n\u001b[1;32m    182\u001b[0m     data\u001b[38;5;241m.\u001b[39mappend(readJsonFile(path))\n\u001b[0;32m--> 183\u001b[0m lines \u001b[38;5;241m=\u001b[39m \u001b[43manalyse\u001b[49m\u001b[43m(\u001b[49m\u001b[43mdata\u001b[49m\u001b[43m,\u001b[49m\u001b[43m \u001b[49m\u001b[43mtheKey\u001b[49m\u001b[43m,\u001b[49m\u001b[43m \u001b[49m\u001b[43minstead\u001b[49m\u001b[38;5;241;43m=\u001b[39;49m\u001b[43minstead\u001b[49m\u001b[43m,\u001b[49m\u001b[43m \u001b[49m\u001b[43masData\u001b[49m\u001b[38;5;241;43m=\u001b[39;49m\u001b[38;5;28;43;01mTrue\u001b[39;49;00m\u001b[43m,\u001b[49m\u001b[43m \u001b[49m\u001b[43mfull\u001b[49m\u001b[38;5;241;43m=\u001b[39;49m\u001b[43mfull\u001b[49m\u001b[43m)\u001b[49m\n\u001b[1;32m    184\u001b[0m \u001b[38;5;28;01mif\u001b[39;00m toFile:\n\u001b[1;32m    185\u001b[0m     base \u001b[38;5;241m=\u001b[39m theKey \u001b[38;5;28;01mif\u001b[39;00m instead \u001b[38;5;129;01mis\u001b[39;00m \u001b[38;5;28;01mNone\u001b[39;00m \u001b[38;5;28;01melse\u001b[39;00m \u001b[38;5;124mf\u001b[39m\u001b[38;5;124m\"\u001b[39m\u001b[38;5;132;01m{\u001b[39;00mtheKey\u001b[38;5;132;01m}\u001b[39;00m\u001b[38;5;124m-\u001b[39m\u001b[38;5;132;01m{\u001b[39;00minstead[\u001b[38;5;241m0\u001b[39m]\u001b[38;5;132;01m}\u001b[39;00m\u001b[38;5;124m-\u001b[39m\u001b[38;5;132;01m{\u001b[39;00minstead[\u001b[38;5;241m1\u001b[39m]\u001b[38;5;132;01m}\u001b[39;00m\u001b[38;5;124m\"\u001b[39m\n",
      "File \u001b[0;32m~/github/Nino-cunei/ninmed/programs/tokenFromJson.py:164\u001b[0m, in \u001b[0;36manalyse\u001b[0;34m(data, theKey, instead, asData, full)\u001b[0m\n\u001b[1;32m    161\u001b[0m             pathRep \u001b[38;5;241m=\u001b[39m \u001b[38;5;124mf\u001b[39m\u001b[38;5;124m\"\u001b[39m\u001b[38;5;132;01m{\u001b[39;00mpath\u001b[38;5;132;01m}\u001b[39;00m\u001b[38;5;124m[]\u001b[39m\u001b[38;5;124m\"\u001b[39m \u001b[38;5;28;01mif\u001b[39;00m path \u001b[38;5;28;01melse\u001b[39;00m \u001b[38;5;124m\"\u001b[39m\u001b[38;5;124m\"\u001b[39m\n\u001b[1;32m    162\u001b[0m             walk(\u001b[38;5;124mf\u001b[39m\u001b[38;5;124m\"\u001b[39m\u001b[38;5;132;01m{\u001b[39;00mpathRep\u001b[38;5;132;01m}\u001b[39;00m\u001b[38;5;124m\"\u001b[39m, v, info)\n\u001b[0;32m--> 164\u001b[0m \u001b[43mwalk\u001b[49m\u001b[43m(\u001b[49m\u001b[38;5;124;43m\"\u001b[39;49m\u001b[38;5;124;43m\"\u001b[39;49m\u001b[43m,\u001b[49m\u001b[43m \u001b[49m\u001b[43mdata\u001b[49m\u001b[43m,\u001b[49m\u001b[43m \u001b[49m\u001b[43m{\u001b[49m\u001b[43m}\u001b[49m\u001b[43m)\u001b[49m\n\u001b[1;32m    165\u001b[0m lines \u001b[38;5;241m=\u001b[39m []\n\u001b[1;32m    166\u001b[0m \u001b[38;5;28;01mfor\u001b[39;00m (path, types) \u001b[38;5;129;01min\u001b[39;00m \u001b[38;5;28msorted\u001b[39m(entries\u001b[38;5;241m.\u001b[39mitems(), key\u001b[38;5;241m=\u001b[39m\u001b[38;5;28;01mlambda\u001b[39;00m x: x[\u001b[38;5;241m0\u001b[39m]):\n",
      "File \u001b[0;32m~/github/Nino-cunei/ninmed/programs/tokenFromJson.py:162\u001b[0m, in \u001b[0;36manalyse.<locals>.walk\u001b[0;34m(path, info, parent)\u001b[0m\n\u001b[1;32m    160\u001b[0m \u001b[38;5;28;01mfor\u001b[39;00m v \u001b[38;5;129;01min\u001b[39;00m info:\n\u001b[1;32m    161\u001b[0m     pathRep \u001b[38;5;241m=\u001b[39m \u001b[38;5;124mf\u001b[39m\u001b[38;5;124m\"\u001b[39m\u001b[38;5;132;01m{\u001b[39;00mpath\u001b[38;5;132;01m}\u001b[39;00m\u001b[38;5;124m[]\u001b[39m\u001b[38;5;124m\"\u001b[39m \u001b[38;5;28;01mif\u001b[39;00m path \u001b[38;5;28;01melse\u001b[39;00m \u001b[38;5;124m\"\u001b[39m\u001b[38;5;124m\"\u001b[39m\n\u001b[0;32m--> 162\u001b[0m     \u001b[43mwalk\u001b[49m\u001b[43m(\u001b[49m\u001b[38;5;124;43mf\u001b[39;49m\u001b[38;5;124;43m\"\u001b[39;49m\u001b[38;5;132;43;01m{\u001b[39;49;00m\u001b[43mpathRep\u001b[49m\u001b[38;5;132;43;01m}\u001b[39;49;00m\u001b[38;5;124;43m\"\u001b[39;49m\u001b[43m,\u001b[49m\u001b[43m \u001b[49m\u001b[43mv\u001b[49m\u001b[43m,\u001b[49m\u001b[43m \u001b[49m\u001b[43minfo\u001b[49m\u001b[43m)\u001b[49m\n",
      "File \u001b[0;32m~/github/Nino-cunei/ninmed/programs/tokenFromJson.py:158\u001b[0m, in \u001b[0;36manalyse.<locals>.walk\u001b[0;34m(path, info, parent)\u001b[0m\n\u001b[1;32m    156\u001b[0m     \u001b[38;5;28;01mfor\u001b[39;00m (k, v) \u001b[38;5;129;01min\u001b[39;00m \u001b[38;5;28msorted\u001b[39m(info\u001b[38;5;241m.\u001b[39mitems()):\n\u001b[1;32m    157\u001b[0m         pathRep \u001b[38;5;241m=\u001b[39m \u001b[38;5;124mf\u001b[39m\u001b[38;5;124m\"\u001b[39m\u001b[38;5;132;01m{\u001b[39;00mpath\u001b[38;5;132;01m}\u001b[39;00m\u001b[38;5;124m.\u001b[39m\u001b[38;5;124m\"\u001b[39m \u001b[38;5;28;01mif\u001b[39;00m path \u001b[38;5;28;01melse\u001b[39;00m \u001b[38;5;124m\"\u001b[39m\u001b[38;5;124m\"\u001b[39m\n\u001b[0;32m--> 158\u001b[0m         \u001b[43mwalk\u001b[49m\u001b[43m(\u001b[49m\u001b[38;5;124;43mf\u001b[39;49m\u001b[38;5;124;43m\"\u001b[39;49m\u001b[38;5;132;43;01m{\u001b[39;49;00m\u001b[43mpathRep\u001b[49m\u001b[38;5;132;43;01m}\u001b[39;49;00m\u001b[38;5;132;43;01m{\u001b[39;49;00m\u001b[43mk\u001b[49m\u001b[38;5;132;43;01m}\u001b[39;49;00m\u001b[38;5;124;43m\"\u001b[39;49m\u001b[43m,\u001b[49m\u001b[43m \u001b[49m\u001b[43mv\u001b[49m\u001b[43m,\u001b[49m\u001b[43m \u001b[49m\u001b[43minfo\u001b[49m\u001b[43m)\u001b[49m\n\u001b[1;32m    159\u001b[0m \u001b[38;5;28;01melif\u001b[39;00m \u001b[38;5;28mtype\u001b[39m(info) \u001b[38;5;129;01mis\u001b[39;00m \u001b[38;5;28mlist\u001b[39m:\n\u001b[1;32m    160\u001b[0m     \u001b[38;5;28;01mfor\u001b[39;00m v \u001b[38;5;129;01min\u001b[39;00m info:\n",
      "File \u001b[0;32m~/github/Nino-cunei/ninmed/programs/tokenFromJson.py:158\u001b[0m, in \u001b[0;36manalyse.<locals>.walk\u001b[0;34m(path, info, parent)\u001b[0m\n\u001b[1;32m    156\u001b[0m     \u001b[38;5;28;01mfor\u001b[39;00m (k, v) \u001b[38;5;129;01min\u001b[39;00m \u001b[38;5;28msorted\u001b[39m(info\u001b[38;5;241m.\u001b[39mitems()):\n\u001b[1;32m    157\u001b[0m         pathRep \u001b[38;5;241m=\u001b[39m \u001b[38;5;124mf\u001b[39m\u001b[38;5;124m\"\u001b[39m\u001b[38;5;132;01m{\u001b[39;00mpath\u001b[38;5;132;01m}\u001b[39;00m\u001b[38;5;124m.\u001b[39m\u001b[38;5;124m\"\u001b[39m \u001b[38;5;28;01mif\u001b[39;00m path \u001b[38;5;28;01melse\u001b[39;00m \u001b[38;5;124m\"\u001b[39m\u001b[38;5;124m\"\u001b[39m\n\u001b[0;32m--> 158\u001b[0m         \u001b[43mwalk\u001b[49m\u001b[43m(\u001b[49m\u001b[38;5;124;43mf\u001b[39;49m\u001b[38;5;124;43m\"\u001b[39;49m\u001b[38;5;132;43;01m{\u001b[39;49;00m\u001b[43mpathRep\u001b[49m\u001b[38;5;132;43;01m}\u001b[39;49;00m\u001b[38;5;132;43;01m{\u001b[39;49;00m\u001b[43mk\u001b[49m\u001b[38;5;132;43;01m}\u001b[39;49;00m\u001b[38;5;124;43m\"\u001b[39;49m\u001b[43m,\u001b[49m\u001b[43m \u001b[49m\u001b[43mv\u001b[49m\u001b[43m,\u001b[49m\u001b[43m \u001b[49m\u001b[43minfo\u001b[49m\u001b[43m)\u001b[49m\n\u001b[1;32m    159\u001b[0m \u001b[38;5;28;01melif\u001b[39;00m \u001b[38;5;28mtype\u001b[39m(info) \u001b[38;5;129;01mis\u001b[39;00m \u001b[38;5;28mlist\u001b[39m:\n\u001b[1;32m    160\u001b[0m     \u001b[38;5;28;01mfor\u001b[39;00m v \u001b[38;5;129;01min\u001b[39;00m info:\n",
      "File \u001b[0;32m~/github/Nino-cunei/ninmed/programs/tokenFromJson.py:162\u001b[0m, in \u001b[0;36manalyse.<locals>.walk\u001b[0;34m(path, info, parent)\u001b[0m\n\u001b[1;32m    160\u001b[0m \u001b[38;5;28;01mfor\u001b[39;00m v \u001b[38;5;129;01min\u001b[39;00m info:\n\u001b[1;32m    161\u001b[0m     pathRep \u001b[38;5;241m=\u001b[39m \u001b[38;5;124mf\u001b[39m\u001b[38;5;124m\"\u001b[39m\u001b[38;5;132;01m{\u001b[39;00mpath\u001b[38;5;132;01m}\u001b[39;00m\u001b[38;5;124m[]\u001b[39m\u001b[38;5;124m\"\u001b[39m \u001b[38;5;28;01mif\u001b[39;00m path \u001b[38;5;28;01melse\u001b[39;00m \u001b[38;5;124m\"\u001b[39m\u001b[38;5;124m\"\u001b[39m\n\u001b[0;32m--> 162\u001b[0m     \u001b[43mwalk\u001b[49m\u001b[43m(\u001b[49m\u001b[38;5;124;43mf\u001b[39;49m\u001b[38;5;124;43m\"\u001b[39;49m\u001b[38;5;132;43;01m{\u001b[39;49;00m\u001b[43mpathRep\u001b[49m\u001b[38;5;132;43;01m}\u001b[39;49;00m\u001b[38;5;124;43m\"\u001b[39;49m\u001b[43m,\u001b[49m\u001b[43m \u001b[49m\u001b[43mv\u001b[49m\u001b[43m,\u001b[49m\u001b[43m \u001b[49m\u001b[43minfo\u001b[49m\u001b[43m)\u001b[49m\n",
      "File \u001b[0;32m~/github/Nino-cunei/ninmed/programs/tokenFromJson.py:158\u001b[0m, in \u001b[0;36manalyse.<locals>.walk\u001b[0;34m(path, info, parent)\u001b[0m\n\u001b[1;32m    156\u001b[0m     \u001b[38;5;28;01mfor\u001b[39;00m (k, v) \u001b[38;5;129;01min\u001b[39;00m \u001b[38;5;28msorted\u001b[39m(info\u001b[38;5;241m.\u001b[39mitems()):\n\u001b[1;32m    157\u001b[0m         pathRep \u001b[38;5;241m=\u001b[39m \u001b[38;5;124mf\u001b[39m\u001b[38;5;124m\"\u001b[39m\u001b[38;5;132;01m{\u001b[39;00mpath\u001b[38;5;132;01m}\u001b[39;00m\u001b[38;5;124m.\u001b[39m\u001b[38;5;124m\"\u001b[39m \u001b[38;5;28;01mif\u001b[39;00m path \u001b[38;5;28;01melse\u001b[39;00m \u001b[38;5;124m\"\u001b[39m\u001b[38;5;124m\"\u001b[39m\n\u001b[0;32m--> 158\u001b[0m         \u001b[43mwalk\u001b[49m\u001b[43m(\u001b[49m\u001b[38;5;124;43mf\u001b[39;49m\u001b[38;5;124;43m\"\u001b[39;49m\u001b[38;5;132;43;01m{\u001b[39;49;00m\u001b[43mpathRep\u001b[49m\u001b[38;5;132;43;01m}\u001b[39;49;00m\u001b[38;5;132;43;01m{\u001b[39;49;00m\u001b[43mk\u001b[49m\u001b[38;5;132;43;01m}\u001b[39;49;00m\u001b[38;5;124;43m\"\u001b[39;49m\u001b[43m,\u001b[49m\u001b[43m \u001b[49m\u001b[43mv\u001b[49m\u001b[43m,\u001b[49m\u001b[43m \u001b[49m\u001b[43minfo\u001b[49m\u001b[43m)\u001b[49m\n\u001b[1;32m    159\u001b[0m \u001b[38;5;28;01melif\u001b[39;00m \u001b[38;5;28mtype\u001b[39m(info) \u001b[38;5;129;01mis\u001b[39;00m \u001b[38;5;28mlist\u001b[39m:\n\u001b[1;32m    160\u001b[0m     \u001b[38;5;28;01mfor\u001b[39;00m v \u001b[38;5;129;01min\u001b[39;00m info:\n",
      "File \u001b[0;32m~/github/Nino-cunei/ninmed/programs/tokenFromJson.py:154\u001b[0m, in \u001b[0;36manalyse.<locals>.walk\u001b[0;34m(path, info, parent)\u001b[0m\n\u001b[1;32m    152\u001b[0m     \u001b[38;5;28;01melse\u001b[39;00m:\n\u001b[1;32m    153\u001b[0m         \u001b[38;5;28;01mif\u001b[39;00m info \u001b[38;5;241m==\u001b[39m theValue:\n\u001b[0;32m--> 154\u001b[0m             entries[path]\u001b[38;5;241m.\u001b[39madd(\u001b[43mparent\u001b[49m\u001b[43m[\u001b[49m\u001b[43motherKey\u001b[49m\u001b[43m]\u001b[49m)\n\u001b[1;32m    155\u001b[0m \u001b[38;5;28;01melif\u001b[39;00m \u001b[38;5;28mtype\u001b[39m(info) \u001b[38;5;129;01mis\u001b[39;00m \u001b[38;5;28mdict\u001b[39m:\n\u001b[1;32m    156\u001b[0m     \u001b[38;5;28;01mfor\u001b[39;00m (k, v) \u001b[38;5;129;01min\u001b[39;00m \u001b[38;5;28msorted\u001b[39m(info\u001b[38;5;241m.\u001b[39mitems()):\n",
      "\u001b[0;31mKeyError\u001b[0m: 'value'"
     ]
    }
   ],
   "source": [
    "analyseAll(\"type\", instead=(\"ControlLine\", \"content\", \"value\"), toFile=False)"
   ]
  },
  {
   "cell_type": "code",
   "execution_count": 5,
   "id": "86142d97-c622-4968-a5ba-60c26aa6a9c8",
   "metadata": {},
   "outputs": [],
   "source": [
    "analyseAll(\"enclosureType\")"
   ]
  },
  {
   "cell_type": "code",
   "execution_count": 6,
   "id": "bd05bd20-40c3-4c69-8b32-53c241f70b0d",
   "metadata": {},
   "outputs": [],
   "source": [
    "analyseAll(\"language\", toFile=True)"
   ]
  },
  {
   "cell_type": "code",
   "execution_count": 7,
   "id": "70e30f2e-2936-4790-a753-319e7d5bd430",
   "metadata": {},
   "outputs": [],
   "source": [
    "analyseAll(\"uniqueLemma\", toFile=True)"
   ]
  },
  {
   "cell_type": "code",
   "execution_count": 9,
   "id": "bac6d46f-e97f-4df8-bf71-700220306526",
   "metadata": {},
   "outputs": [],
   "source": [
    "analyseAll(\"script\", toFile=True, full=True)"
   ]
  },
  {
   "cell_type": "code",
   "execution_count": 10,
   "id": "c94e2f9c-2756-4fdc-8267-6c3bc3138110",
   "metadata": {},
   "outputs": [],
   "source": [
    "analyseAll(\"surface\", toFile=True)"
   ]
  },
  {
   "cell_type": "code",
   "execution_count": 11,
   "id": "4b7d2817-b5eb-4b96-af53-257e954b11b8",
   "metadata": {},
   "outputs": [],
   "source": [
    "analyseAll(\"status\", toFile=True)"
   ]
  },
  {
   "cell_type": "code",
   "execution_count": 12,
   "id": "adc68d77-fe65-4a36-bf01-8e66ca265deb",
   "metadata": {},
   "outputs": [],
   "source": [
    "getFaces(toFile=True)"
   ]
  },
  {
   "cell_type": "code",
   "execution_count": 13,
   "id": "3f469f21-0bba-4dfa-b330-56a0f6ecb4ab",
   "metadata": {},
   "outputs": [],
   "source": [
    "getColumns(toFile=True)"
   ]
  },
  {
   "cell_type": "code",
   "execution_count": 14,
   "id": "eabb5758-91f4-4776-96f4-2030aa9e638a",
   "metadata": {},
   "outputs": [],
   "source": [
    "getContentTypes(toFile=True)"
   ]
  },
  {
   "cell_type": "code",
   "execution_count": 16,
   "id": "0446af36-1f7a-43e1-bd88-a2e49f72f8e7",
   "metadata": {},
   "outputs": [],
   "source": [
    "getVariants(toFile=True)"
   ]
  },
  {
   "cell_type": "code",
   "execution_count": 32,
   "id": "acd3908e-29a6-499f-b89a-6f4f43f9d759",
   "metadata": {},
   "outputs": [
    {
     "data": {
      "text/plain": [
       "True"
      ]
     },
     "execution_count": 32,
     "metadata": {},
     "output_type": "execute_result"
    }
   ],
   "source": [
    "\"[\" in \"d[u\""
   ]
  },
  {
   "cell_type": "code",
   "execution_count": 33,
   "id": "e4a73c12-ca97-4ff2-b385-ba57276eb7c8",
   "metadata": {},
   "outputs": [
    {
     "data": {
      "text/plain": [
       "33"
      ]
     },
     "execution_count": 33,
     "metadata": {},
     "output_type": "execute_result"
    }
   ],
   "source": [
    "int(\"33\")"
   ]
  },
  {
   "cell_type": "code",
   "execution_count": null,
   "id": "f93c6a7e-7238-4a8a-8792-1b57e70f6b1b",
   "metadata": {},
   "outputs": [],
   "source": []
  }
 ],
 "metadata": {
  "kernelspec": {
   "display_name": "Python 3 (ipykernel)",
   "language": "python",
   "name": "python3"
  },
  "language_info": {
   "codemirror_mode": {
    "name": "ipython",
    "version": 3
   },
   "file_extension": ".py",
   "mimetype": "text/x-python",
   "name": "python",
   "nbconvert_exporter": "python",
   "pygments_lexer": "ipython3",
   "version": "3.10.2"
  },
  "widgets": {
   "application/vnd.jupyter.widget-state+json": {
    "state": {},
    "version_major": 2,
    "version_minor": 0
   }
  }
 },
 "nbformat": 4,
 "nbformat_minor": 5
}
