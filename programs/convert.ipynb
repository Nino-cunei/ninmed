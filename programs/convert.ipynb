{
 "cells": [
  {
   "cell_type": "markdown",
   "id": "4885921e-1818-4c2f-a4cf-ef5dd1f7f484",
   "metadata": {},
   "source": [
    "# Analyse the contents of the JSON sources\n",
    "\n",
    "* `extractAllLines()` prints out the bare ATF to a single file.\n",
    "  Handy to have open in Vim to look for edge cases and wierd patterns.\n",
    "* `analyseAll(key, toFile=False, full=False)` makes an inventory of all values that `key` can have\n",
    "  anywhere in the JSON.\n",
    "  If `toFile`, the result is written to file, otherwise it is displayed here.\n",
    "  If `full`, all JSON is examined, otherwise a predefined list of keys is excluded from the search.\n",
    "* `getFaces(toFile=False)`: inventory of all surface specifiers\n",
    "* `getColumns(toFile=False)`: inventory of all column specifiers\n",
    "* `getCOntentTypes(toFile=False)`: inventory of all type specifiers within text content\n",
    "* `getVariants(toFile=False)`: inventory of all variant content elements"
   ]
  },
  {
   "cell_type": "code",
   "execution_count": 1,
   "id": "0eb18ee7-09a3-45aa-bc0a-b1dd7f55479c",
   "metadata": {},
   "outputs": [],
   "source": [
    "%load_ext autoreload\n",
    "%autoreload 2"
   ]
  },
  {
   "cell_type": "code",
   "execution_count": 2,
   "id": "20d8b4b4-d76e-449f-8ac1-c338ad995099",
   "metadata": {},
   "outputs": [],
   "source": [
    "from tokenFromJson import (\n",
    "    extractAllLines,\n",
    "    analyseAll,\n",
    "    getFaces, getColumns, getContentTypes, getVariants,\n",
    ")"
   ]
  },
  {
   "cell_type": "code",
   "execution_count": 3,
   "id": "3287875c-738e-4eaa-b2ba-674a767a3883",
   "metadata": {},
   "outputs": [],
   "source": [
    "extractAllLines()"
   ]
  },
  {
   "cell_type": "code",
   "execution_count": 4,
   "id": "72748414-f18f-426d-a961-50cffadad4f3",
   "metadata": {},
   "outputs": [],
   "source": [
    "analyseAll(\"flags\")"
   ]
  },
  {
   "cell_type": "code",
   "execution_count": 5,
   "id": "86142d97-c622-4968-a5ba-60c26aa6a9c8",
   "metadata": {},
   "outputs": [],
   "source": [
    "analyseAll(\"enclosureType\")"
   ]
  },
  {
   "cell_type": "code",
   "execution_count": 6,
   "id": "bd05bd20-40c3-4c69-8b32-53c241f70b0d",
   "metadata": {},
   "outputs": [],
   "source": [
    "analyseAll(\"language\", toFile=True)"
   ]
  },
  {
   "cell_type": "code",
   "execution_count": 7,
   "id": "70e30f2e-2936-4790-a753-319e7d5bd430",
   "metadata": {},
   "outputs": [],
   "source": [
    "analyseAll(\"uniqueLemma\", toFile=True)"
   ]
  },
  {
   "cell_type": "code",
   "execution_count": 8,
   "id": "e7e5ecfd-561f-4c60-be71-d2330b13f1e0",
   "metadata": {},
   "outputs": [],
   "source": [
    "analyseAll(\"type\", toFile=True)"
   ]
  },
  {
   "cell_type": "code",
   "execution_count": 9,
   "id": "bac6d46f-e97f-4df8-bf71-700220306526",
   "metadata": {},
   "outputs": [],
   "source": [
    "analyseAll(\"script\", toFile=True, full=True)"
   ]
  },
  {
   "cell_type": "code",
   "execution_count": 10,
   "id": "c94e2f9c-2756-4fdc-8267-6c3bc3138110",
   "metadata": {},
   "outputs": [],
   "source": [
    "analyseAll(\"surface\", toFile=True)"
   ]
  },
  {
   "cell_type": "code",
   "execution_count": 11,
   "id": "4b7d2817-b5eb-4b96-af53-257e954b11b8",
   "metadata": {},
   "outputs": [],
   "source": [
    "analyseAll(\"status\", toFile=True)"
   ]
  },
  {
   "cell_type": "code",
   "execution_count": 12,
   "id": "adc68d77-fe65-4a36-bf01-8e66ca265deb",
   "metadata": {},
   "outputs": [],
   "source": [
    "getFaces(toFile=True)"
   ]
  },
  {
   "cell_type": "code",
   "execution_count": 13,
   "id": "3f469f21-0bba-4dfa-b330-56a0f6ecb4ab",
   "metadata": {},
   "outputs": [],
   "source": [
    "getColumns(toFile=True)"
   ]
  },
  {
   "cell_type": "code",
   "execution_count": 14,
   "id": "eabb5758-91f4-4776-96f4-2030aa9e638a",
   "metadata": {},
   "outputs": [],
   "source": [
    "getContentTypes(toFile=True)"
   ]
  },
  {
   "cell_type": "code",
   "execution_count": 15,
   "id": "0446af36-1f7a-43e1-bd88-a2e49f72f8e7",
   "metadata": {},
   "outputs": [
    {
     "name": "stdout",
     "output_type": "stream",
     "text": [
      "1/3\n",
      "\tK.2392\n",
      "\tK.71.B\n",
      "\tDiv.158\n",
      "\tK.61\n",
      "\tK.2354\n",
      "1/2\n",
      "\tK.71.B\n",
      "\tK.2533\n",
      "\tK.61\n",
      "\tK.2354\n",
      "\tK.8346\n",
      "\tK.191\n",
      "1/2#\n",
      "\tK.191\n",
      "\tK.71.B\n",
      "1/3#\n",
      "\tK.61\n",
      "\tK.71.B\n",
      "\tK.2354\n",
      "1/3?#\n",
      "\tK.2354\n",
      "kal/lap\n",
      "\tK.2422\n",
      "šad/ša₂\n",
      "\tK.2439\n",
      "NAG/GU₇\n",
      "\tK.2439\n",
      "ŠU₂/BAR\n",
      "\tK.2439\n",
      "la/na#?\n",
      "\tK.2439\n"
     ]
    }
   ],
   "source": [
    "getVariants(toFile=False)"
   ]
  },
  {
   "cell_type": "code",
   "execution_count": null,
   "id": "acd3908e-29a6-499f-b89a-6f4f43f9d759",
   "metadata": {},
   "outputs": [],
   "source": []
  }
 ],
 "metadata": {
  "kernelspec": {
   "display_name": "Python 3 (ipykernel)",
   "language": "python",
   "name": "python3"
  },
  "language_info": {
   "codemirror_mode": {
    "name": "ipython",
    "version": 3
   },
   "file_extension": ".py",
   "mimetype": "text/x-python",
   "name": "python",
   "nbconvert_exporter": "python",
   "pygments_lexer": "ipython3",
   "version": "3.10.2"
  },
  "widgets": {
   "application/vnd.jupyter.widget-state+json": {
    "state": {},
    "version_major": 2,
    "version_minor": 0
   }
  }
 },
 "nbformat": 4,
 "nbformat_minor": 5
}
